{
 "cells": [
  {
   "cell_type": "code",
   "execution_count": 1,
   "id": "3ebd8d68",
   "metadata": {},
   "outputs": [],
   "source": [
    "import numpy as np\n",
    "import pandas as pd\n",
    "import yfinance as yf\n",
    "import matplotlib.pyplot as plt\n",
    "import seaborn as sns\n",
    "import plotly.graph_objs as go\n",
    "import plotly.express as px\n",
    "from plotly.subplots import make_subplots\n",
    "from sklearn.preprocessing import MinMaxScaler\n",
    "from sklearn.linear_model import LinearRegression\n",
    "from sklearn.ensemble import RandomForestRegressor\n",
    "import warnings\n",
    "\n",
    "# Configuration\n",
    "warnings.filterwarnings('ignore')\n",
    "plt.style.use('seaborn-v0_8')\n",
    "sns.set_palette(\"husl\")\n",
    "\n",
    "# Set default figure size\n",
    "plt.rcParams['figure.figsize'] = (12, 8)\n"
   ]
  },
  {
   "cell_type": "code",
   "execution_count": 2,
   "id": "e0cb2ea1",
   "metadata": {},
   "outputs": [],
   "source": [
    "# ===================================================\n",
    "# UTILITY FUNCTIONS\n",
    "# ===================================================\n",
    "\n",
    "def calculate_moving_average(data, window_size):\n",
    "    \"\"\"Calculate moving average for given window size\"\"\"\n",
    "    return data.rolling(window=window_size).mean()\n",
    "\n",
    "def create_features(data, lookback=7):\n",
    "    \"\"\"Create features for machine learning models\"\"\"\n",
    "    features = []\n",
    "    targets = []\n",
    "    \n",
    "    for i in range(lookback, len(data)):\n",
    "        features.append(data[i-lookback:i])\n",
    "        targets.append(data[i])\n",
    "    \n",
    "    return np.array(features), np.array(targets)\n",
    "\n",
    "def fetch_stock_data(symbol, start_date, end_date):\n",
    "    \"\"\"Fetch stock data with error handling\"\"\"\n",
    "    try:\n",
    "        print(f\"Fetching data for {symbol.upper()}...\")\n",
    "        data = yf.download(symbol, start=start_date, end=end_date, progress=False)\n",
    "        if data.empty:\n",
    "            print(f\"No data found for {symbol}\")\n",
    "            return None\n",
    "        \n",
    "        # Reset index to make Date a column\n",
    "        data.reset_index(inplace=True)\n",
    "        print(f\"Successfully fetched {len(data)} days of data\")\n",
    "        return data\n",
    "    except Exception as e:\n",
    "        print(f\"Error fetching data for {symbol}: {str(e)}\")\n",
    "        return None\n",
    "\n",
    "def display_stock_info(data, symbol):\n",
    "    \"\"\"Display basic stock information\"\"\"\n",
    "    if data is None or len(data) == 0:\n",
    "        print(\"No data to display\")\n",
    "        return\n",
    "    \n",
    "    print(f\"\\nStock Data Summary for {symbol.upper()}\")\n",
    "    print(\"-\" * 50)\n",
    "    \n",
    "    current_price = float(data['Close'].iloc[-1])\n",
    "    price_change = float(data['Close'].iloc[-1]) - float(data['Close'].iloc[-2])\n",
    "    highest_price = float(data['High'].max())\n",
    "    lowest_price = float(data['Low'].min())\n",
    "    \n",
    "    print(f\"Current Price: ${current_price:.2f}\")\n",
    "    print(f\"Daily Change: ${price_change:.2f} ({price_change/current_price*100:.2f}%)\")\n",
    "    print(f\"Period High: ${highest_price:.2f}\")\n",
    "    print(f\"Period Low: ${lowest_price:.2f}\")\n",
    "    print(f\"Data Range: {data['Date'].iloc[0].strftime('%Y-%m-%d')} to {data['Date'].iloc[-1].strftime('%Y-%m-%d')}\")\n",
    "    \n",
    "    # Display last 5 days\n",
    "    print(f\"\\n Last 5 Days Data:\")\n",
    "    display_data = data[['Date', 'Open', 'High', 'Low', 'Close', 'Volume']].tail(5)\n",
    "    display_data = display_data.round(2)\n",
    "    print(display_data.to_string(index=False))\n"
   ]
  },
  {
   "cell_type": "code",
   "execution_count": 3,
   "id": "e816958c",
   "metadata": {},
   "outputs": [],
   "source": [
    "# ===================================================\n",
    "# FORECASTING FUNCTIONS\n",
    "# ===================================================\n",
    "\n",
    "def forecast_simple_nn(data):\n",
    "    \"\"\"Simple neural network approach without requiring saved model\"\"\"\n",
    "    try:\n",
    "        if len(data) < 30:\n",
    "            print(\"Insufficient data for Neural Network prediction. Need at least 30 days.\")\n",
    "            return np.repeat(float(data.iloc[-1]), 7)\n",
    "        \n",
    "        # Simple moving average with trend\n",
    "        recent_data = data[-30:]\n",
    "        trend = (float(recent_data.iloc[-1]) - float(recent_data.iloc[-10])) / 10\n",
    "        base_price = float(recent_data.iloc[-1])\n",
    "        \n",
    "        forecasts = []\n",
    "        for i in range(7):\n",
    "            predicted_price = base_price + (trend * (i + 1)) + np.random.normal(0, base_price * 0.001)\n",
    "            forecasts.append(predicted_price)\n",
    "            \n",
    "        return np.array(forecasts)\n",
    "    except Exception as e:\n",
    "        print(f\"❌ Error in Neural Network forecasting: {str(e)}\")\n",
    "        return np.repeat(float(data.iloc[-1]) if len(data) > 0 else 100, 7)\n",
    "\n",
    "def forecast_linear_regression(data):\n",
    "    \"\"\"Linear Regression forecasting\"\"\"\n",
    "    try:\n",
    "        if len(data) < 14:\n",
    "            print(\"Insufficient data for Linear Regression. Need at least 14 days.\")\n",
    "            return np.repeat(float(data.iloc[-1]), 7)\n",
    "        \n",
    "        lookback = 7\n",
    "        X, y = create_features(data.values, lookback)\n",
    "        \n",
    "        if len(X) == 0:\n",
    "            return np.repeat(float(data.iloc[-1]), 7)\n",
    "        \n",
    "        model = LinearRegression()\n",
    "        model.fit(X, y)\n",
    "        \n",
    "        last_sequence = data[-lookback:].values\n",
    "        forecasts = []\n",
    "        \n",
    "        for _ in range(7):\n",
    "            next_pred = model.predict(last_sequence.reshape(1, -1))[0]\n",
    "            forecasts.append(next_pred)\n",
    "            last_sequence = np.append(last_sequence[1:], next_pred)\n",
    "        \n",
    "        return np.array(forecasts)\n",
    "    except Exception as e:\n",
    "        print(f\"Error in Linear Regression forecasting: {str(e)}\")\n",
    "        return np.repeat(float(data.iloc[-1]) if len(data) > 0 else 100, 7)\n",
    "\n",
    "def forecast_random_forest(data):\n",
    "    \"\"\"Random Forest forecasting\"\"\"\n",
    "    try:\n",
    "        if len(data) < 14:\n",
    "            print(\"Insufficient data for Random Forest. Need at least 14 days.\")\n",
    "            return np.repeat(float(data.iloc[-1]), 7)\n",
    "        \n",
    "        lookback = 7\n",
    "        X, y = create_features(data.values, lookback)\n",
    "        \n",
    "        if len(X) == 0:\n",
    "            return np.repeat(float(data.iloc[-1]), 7)\n",
    "        \n",
    "        model = RandomForestRegressor(n_estimators=50, random_state=42)\n",
    "        model.fit(X, y)\n",
    "        \n",
    "        last_sequence = data[-lookback:].values\n",
    "        forecasts = []\n",
    "        \n",
    "        for _ in range(7):\n",
    "            next_pred = model.predict(last_sequence.reshape(1, -1))[0]\n",
    "            forecasts.append(next_pred)\n",
    "            last_sequence = np.append(last_sequence[1:], next_pred)\n",
    "        \n",
    "        return np.array(forecasts)\n",
    "    except Exception as e:\n",
    "        print(f\"Error in Random Forest forecasting: {str(e)}\")\n",
    "        return np.repeat(float(data.iloc[-1]) if len(data) > 0 else 100, 7)\n",
    "\n",
    "def forecast_moving_average(data):\n",
    "    \"\"\"Simple moving average forecasting\"\"\"\n",
    "    try:\n",
    "        if len(data) < 7:\n",
    "            print(\"nsufficient data for Moving Average prediction. Need at least 7 days.\")\n",
    "            return np.repeat(float(data.iloc[-1]), 7)\n",
    "        \n",
    "        ma_short = data[-7:].mean()\n",
    "        ma_long = data[-21:].mean() if len(data) >= 21 else data.mean()\n",
    "        \n",
    "        trend = (ma_short - ma_long) * 0.1\n",
    "        \n",
    "        forecasts = []\n",
    "        current_price = float(data.iloc[-1])\n",
    "        \n",
    "        for i in range(7):\n",
    "            forecast_price = current_price + (float(trend) * (i + 1))\n",
    "            forecasts.append(forecast_price)\n",
    "        \n",
    "        return np.array(forecasts)\n",
    "    except Exception as e:\n",
    "        print(f\"Error in Moving Average forecasting: {str(e)}\")\n",
    "        return np.repeat(float(data.iloc[-1]) if len(data) > 0 else 100, 7)\n"
   ]
  },
  {
   "cell_type": "code",
   "execution_count": 4,
   "id": "3f776908",
   "metadata": {},
   "outputs": [],
   "source": [
    "\n",
    "\n",
    "# ===================================================\n",
    "# VISUALIZATION FUNCTIONS\n",
    "# ===================================================\n",
    "\n",
    "def plot_stock_price_matplotlib(data, symbol):\n",
    "    \"\"\"Plot stock price using matplotlib\"\"\"\n",
    "    fig, axes = plt.subplots(2, 2, figsize=(15, 12))\n",
    "    fig.suptitle(f'{symbol.upper()} - Stock Analysis', fontsize=16, fontweight='bold')\n",
    "    \n",
    "    # Price and Volume\n",
    "    axes[0, 0].plot(data['Date'], data['Close'], linewidth=2, label='Close Price')\n",
    "    axes[0, 0].set_title('Close Price Over Time')\n",
    "    axes[0, 0].set_xlabel('Date')\n",
    "    axes[0, 0].set_ylabel('Price ($)')\n",
    "    axes[0, 0].grid(True, alpha=0.3)\n",
    "    axes[0, 0].tick_params(axis='x', rotation=45)\n",
    "    \n",
    "    # Volume\n",
    "    axes[0, 1].bar(data['Date'], data['Volume'], alpha=0.7, width=1)\n",
    "    axes[0, 1].set_title('Trading Volume')\n",
    "    axes[0, 1].set_xlabel('Date')\n",
    "    axes[0, 1].set_ylabel('Volume')\n",
    "    axes[0, 1].tick_params(axis='x', rotation=45)\n",
    "    \n",
    "    # OHLC\n",
    "    axes[1, 0].plot(data['Date'], data['Open'], label='Open', alpha=0.7)\n",
    "    axes[1, 0].plot(data['Date'], data['High'], label='High', alpha=0.7)\n",
    "    axes[1, 0].plot(data['Date'], data['Low'], label='Low', alpha=0.7)\n",
    "    axes[1, 0].plot(data['Date'], data['Close'], label='Close', linewidth=2)\n",
    "    axes[1, 0].set_title('OHLC Prices')\n",
    "    axes[1, 0].set_xlabel('Date')\n",
    "    axes[1, 0].set_ylabel('Price ($)')\n",
    "    axes[1, 0].legend()\n",
    "    axes[1, 0].grid(True, alpha=0.3)\n",
    "    axes[1, 0].tick_params(axis='x', rotation=45)\n",
    "    \n",
    "    # Price distribution\n",
    "    axes[1, 1].hist(data['Close'], bins=30, alpha=0.7, edgecolor='black')\n",
    "    axes[1, 1].axvline(data['Close'].mean(), color='red', linestyle='--', label=f'Mean: ${data[\"Close\"].mean():.2f}')\n",
    "    axes[1, 1].set_title('Price Distribution')\n",
    "    axes[1, 1].set_xlabel('Price ($)')\n",
    "    axes[1, 1].set_ylabel('Frequency')\n",
    "    axes[1, 1].legend()\n",
    "    axes[1, 1].grid(True, alpha=0.3)\n",
    "    \n",
    "    plt.tight_layout()\n",
    "    plt.show()\n",
    "\n",
    "def plot_moving_averages_matplotlib(data, symbol):\n",
    "    \"\"\"Plot moving averages using matplotlib\"\"\"\n",
    "    ma_50 = calculate_moving_average(data['Close'], 50)\n",
    "    ma_100 = calculate_moving_average(data['Close'], 100)\n",
    "    ma_200 = calculate_moving_average(data['Close'], 200)\n",
    "    \n",
    "    plt.figure(figsize=(15, 8))\n",
    "    plt.plot(data['Date'], data['Close'], label='Close Price', linewidth=2)\n",
    "    \n",
    "    if len(data) >= 50:\n",
    "        plt.plot(data['Date'], ma_50, label='MA50', alpha=0.8)\n",
    "    if len(data) >= 100:\n",
    "        plt.plot(data['Date'], ma_100, label='MA100', alpha=0.8)\n",
    "    if len(data) >= 200:\n",
    "        plt.plot(data['Date'], ma_200, label='MA200', alpha=0.8)\n",
    "    \n",
    "    plt.title(f'{symbol.upper()} - Price vs Moving Averages', fontsize=16, fontweight='bold')\n",
    "    plt.xlabel('Date')\n",
    "    plt.ylabel('Price ($)')\n",
    "    plt.legend()\n",
    "    plt.grid(True, alpha=0.3)\n",
    "    plt.xticks(rotation=45)\n",
    "    plt.tight_layout()\n",
    "    plt.show()\n",
    "\n",
    "def plot_forecasts_plotly(data, forecasts_dict, symbol):\n",
    "    \"\"\"Plot forecasts using plotly for interactive visualization\"\"\"\n",
    "    # Create forecast dates\n",
    "    last_date = pd.to_datetime(data['Date'].iloc[-1])\n",
    "    forecast_dates = pd.date_range(start=last_date + pd.Timedelta(days=1), periods=7, freq='D')\n",
    "    \n",
    "    # Create subplots\n",
    "    fig = make_subplots(\n",
    "        rows=2, cols=2,\n",
    "        subplot_titles=list(forecasts_dict.keys()),\n",
    "        specs=[[{\"secondary_y\": False}, {\"secondary_y\": False}],\n",
    "               [{\"secondary_y\": False}, {\"secondary_y\": False}]]\n",
    "    )\n",
    "    \n",
    "    colors = ['#1f77b4', '#ff7f0e', '#2ca02c', '#d62728']\n",
    "    \n",
    "    for idx, (model_name, forecast) in enumerate(forecasts_dict.items()):\n",
    "        row = (idx // 2) + 1\n",
    "        col = (idx % 2) + 1\n",
    "        \n",
    "        # Historical data (last 30 days)\n",
    "        hist_days = min(30, len(data))\n",
    "        fig.add_trace(\n",
    "            go.Scatter(\n",
    "                x=data['Date'][-hist_days:],\n",
    "                y=data['Close'][-hist_days:],\n",
    "                mode='lines',\n",
    "                name='Historical',\n",
    "                line=dict(color=colors[idx], width=2),\n",
    "                showlegend=(idx == 0)\n",
    "            ),\n",
    "            row=row, col=col\n",
    "        )\n",
    "        \n",
    "        # Forecast\n",
    "        fig.add_trace(\n",
    "            go.Scatter(\n",
    "                x=forecast_dates,\n",
    "                y=forecast,\n",
    "                mode='lines+markers',\n",
    "                name='Forecast',\n",
    "                line=dict(color=colors[idx], width=2, dash='dash'),\n",
    "                marker=dict(size=6),\n",
    "                showlegend=(idx == 0)\n",
    "            ),\n",
    "            row=row, col=col\n",
    "        )\n",
    "        \n",
    "        # Add vertical line at forecast start\n",
    "        last_date_str = data['Date'].iloc[-1].strftime('%Y-%m-%d')\n",
    "        fig.add_vline(\n",
    "            x=data['Date'].iloc[-1],\n",
    "            line_dash=\"dot\",\n",
    "            line_color=\"gray\",\n",
    "            row=row, col=col\n",
    "        )\n",
    "    \n",
    "    fig.update_layout(\n",
    "        title=f'{symbol.upper()} - 7-Day Price Forecasts Comparison',\n",
    "        height=800,\n",
    "        hovermode='x unified'\n",
    "    )\n",
    "    \n",
    "    fig.show()\n",
    "\n",
    "def plot_forecast_comparison_matplotlib(data, forecasts_dict, symbol):\n",
    "    \"\"\"Plot forecast comparison using matplotlib\"\"\"\n",
    "    last_date = pd.to_datetime(data['Date'].iloc[-1])\n",
    "    forecast_dates = pd.date_range(start=last_date + pd.Timedelta(days=1), periods=7, freq='D')\n",
    "    \n",
    "    fig, axes = plt.subplots(2, 2, figsize=(15, 12))\n",
    "    fig.suptitle(f'{symbol.upper()} - 7-Day Price Forecasts', fontsize=16, fontweight='bold')\n",
    "    \n",
    "    axes = axes.flatten()\n",
    "    \n",
    "    for idx, (model_name, forecast) in enumerate(forecasts_dict.items()):\n",
    "        ax = axes[idx]\n",
    "        \n",
    "        # Historical data (last 30 days)\n",
    "        hist_days = min(30, len(data))\n",
    "        ax.plot(data['Date'][-hist_days:], data['Close'][-hist_days:], \n",
    "                label='Historical', linewidth=2, color='blue')\n",
    "        \n",
    "        # Forecast\n",
    "        ax.plot(forecast_dates, forecast, \n",
    "                label='Forecast', linewidth=2, linestyle='--', \n",
    "                marker='o', markersize=6, color='orange')\n",
    "        \n",
    "        # Add vertical line at forecast start\n",
    "        ax.axvline(x=data['Date'].iloc[-1], color='gray', linestyle=':', alpha=0.7)\n",
    "        \n",
    "        ax.set_title(f'{model_name}')\n",
    "        ax.set_xlabel('Date')\n",
    "        ax.set_ylabel('Price ($)')\n",
    "        ax.legend()\n",
    "        ax.grid(True, alpha=0.3)\n",
    "        ax.tick_params(axis='x', rotation=45)\n",
    "    \n",
    "    plt.tight_layout()\n",
    "    plt.show()\n",
    "\n"
   ]
  },
  {
   "cell_type": "code",
   "execution_count": 5,
   "id": "20aa001d",
   "metadata": {},
   "outputs": [],
   "source": [
    "# Example usage - you can modify these parameters\n",
    "symbol = \"WEGE3.SA\"  # Change this to any stock symbol\n",
    "start_date = \"2021-01-01\"\n",
    "end_date = None  # Will use current date"
   ]
  },
  {
   "cell_type": "code",
   "execution_count": 6,
   "id": "f2b14d2b",
   "metadata": {},
   "outputs": [
    {
     "name": "stdout",
     "output_type": "stream",
     "text": [
      "\n",
      " Starting analysis for WEGE3.SA\n",
      "Date range: 2021-01-01 to 2025-08-29\n",
      "Fetching data for WEGE3.SA...\n",
      "Successfully fetched 1161 days of data\n",
      "\n",
      "Stock Data Summary for WEGE3.SA\n",
      "--------------------------------------------------\n",
      "Current Price: $37.82\n",
      "Daily Change: $0.08 (0.21%)\n",
      "Period High: $58.86\n",
      "Period Low: $21.52\n",
      "Data Range: 2021-01-04 to 2025-08-28\n",
      "\n",
      " Last 5 Days Data:\n",
      "      Date  Open  High   Low  Close   Volume\n",
      "2025-08-22 36.15 37.55 35.93  37.50 10637800\n",
      "2025-08-25 37.64 37.99 37.46  37.73  8394800\n",
      "2025-08-26 37.80 37.94 37.37  37.59 13465700\n",
      "2025-08-27 37.68 38.07 37.37  37.74  7509800\n",
      "2025-08-28 38.00 38.32 37.64  37.82 11601700\n"
     ]
    }
   ],
   "source": [
    "if end_date is None:\n",
    "    end_date = pd.Timestamp.now().strftime('%Y-%m-%d')\n",
    "\n",
    "print(f\"\\n Starting analysis for {symbol.upper()}\")\n",
    "print(f\"Date range: {start_date} to {end_date}\")\n",
    "\n",
    "# Fetch data\n",
    "data = fetch_stock_data(symbol, start_date, end_date)\n",
    "\n",
    "# Se houver MultiIndex nas colunas, tira o segundo nível (o ticker)\n",
    "if isinstance(data.columns, pd.MultiIndex):\n",
    "    data.columns = data.columns.get_level_values(0)\n",
    "\n",
    "# Reseta o índice para transformar Date em coluna\n",
    "data = data.reset_index()\n",
    "\n",
    "\n",
    "# Display basic info\n",
    "display_stock_info(data, symbol)\n"
   ]
  },
  {
   "cell_type": "code",
   "execution_count": 7,
   "id": "a1f64986",
   "metadata": {},
   "outputs": [
    {
     "name": "stdout",
     "output_type": "stream",
     "text": [
      "\n",
      "Generating basic analysis plots...\n"
     ]
    },
    {
     "data": {
      "image/png": "[encoded data removed]",
      "text/plain": [
       "<Figure size 1500x1200 with 4 Axes>"
      ]
     },
     "metadata": {},
     "output_type": "display_data"
    }
   ],
   "source": [
    "# Plot basic analysis\n",
    "print(\"\\nGenerating basic analysis plots...\")\n",
    "plot_stock_price_matplotlib(data, symbol)\n"
   ]
  },
  {
   "cell_type": "code",
   "execution_count": 8,
   "id": "231de60c",
   "metadata": {},
   "outputs": [
    {
     "name": "stdout",
     "output_type": "stream",
     "text": [
      "\n",
      "🤖 Generating forecasts...\n",
      "   Running Simple Neural Network...\n",
      "   Running Linear Regression...\n",
      "   Running Random Forest...\n",
      "   Running Moving Average...\n",
      "\n",
      "7-Day Forecasted Prices:\n",
      "------------------------------------------------------------\n",
      "      Date  Simple Neural Network  Linear Regression  Random Forest  Moving Average\n",
      "2025-08-29                  38.03              37.81          37.65           37.83\n",
      "2025-08-30                  38.20              37.77          37.60           37.84\n",
      "2025-08-31                  38.38              37.77          37.95           37.85\n",
      "2025-09-01                  38.60              37.76          38.08           37.86\n",
      "2025-09-02                  38.71              37.76          37.99           37.87\n",
      "2025-09-03                  38.94              37.75          38.14           37.88\n",
      "2025-09-04                  39.18              37.75          38.14           37.89\n"
     ]
    }
   ],
   "source": [
    "# Generate forecasts\n",
    "print(\"\\n🤖 Generating forecasts...\")\n",
    "\n",
    "models = {\n",
    "    'Simple Neural Network': forecast_simple_nn,\n",
    "    'Linear Regression': forecast_linear_regression,\n",
    "    'Random Forest': forecast_random_forest,\n",
    "    'Moving Average': forecast_moving_average\n",
    "}\n",
    "\n",
    "forecasts = {}\n",
    "for model_name, model_func in models.items():\n",
    "    print(f\"   Running {model_name}...\")\n",
    "    forecast = model_func(data['Close'])\n",
    "    forecasts[model_name] = forecast\n",
    "\n",
    "# Display forecast results\n",
    "print(\"\\n7-Day Forecasted Prices:\")\n",
    "print(\"-\" * 60)\n",
    "\n",
    "forecast_dates = pd.date_range(\n",
    "    start=pd.to_datetime(data['Date'].iloc[-1]) + pd.Timedelta(days=1), \n",
    "    periods=7, freq='D'\n",
    ")\n",
    "\n",
    "# Create forecast dataframe\n",
    "forecast_df = pd.DataFrame({'Date': forecast_dates})\n",
    "for model_name, forecast in forecasts.items():\n",
    "    forecast_df[model_name] = forecast.round(2)\n",
    "\n",
    "print(forecast_df.to_string(index=False))\n"
   ]
  },
  {
   "cell_type": "code",
   "execution_count": 9,
   "id": "45d0473f",
   "metadata": {},
   "outputs": [
    {
     "name": "stdout",
     "output_type": "stream",
     "text": [
      "\n",
      "Generating forecast visualization...\n"
     ]
    },
    {
     "data": {
      "application/vnd.plotly.v1+json": {
       "config": {
        "plotlyServerURL": "https://plot.ly"
       },
       "data": [
        {
         "line": {
          "color": "#1f77b4",
          "width": 2
         },
         "mode": "lines",
         "name": "Historical",
         "showlegend": true,
         "type": "scatter",
         "x": [
          "2025-07-18T00:00:00.000000000",
          "2025-07-21T00:00:00.000000000",
          "2025-07-22T00:00:00.000000000",
          "2025-07-23T00:00:00.000000000",
          "2025-07-24T00:00:00.000000000",
          "2025-07-25T00:00:00.000000000",
          "2025-07-28T00:00:00.000000000",
          "2025-07-29T00:00:00.000000000",
          "2025-07-30T00:00:00.000000000",
          "2025-07-31T00:00:00.000000000",
          "2025-08-01T00:00:00.000000000",
          "2025-08-04T00:00:00.000000000",
          "2025-08-05T00:00:00.000000000",
          "2025-08-06T00:00:00.000000000",
          "2025-08-07T00:00:00.000000000",
          "2025-08-08T00:00:00.000000000",
          "2025-08-11T00:00:00.000000000",
          "2025-08-12T00:00:00.000000000",
          "2025-08-13T00:00:00.000000000",
          "2025-08-14T00:00:00.000000000",
          "2025-08-15T00:00:00.000000000",
          "2025-08-18T00:00:00.000000000",
          "2025-08-19T00:00:00.000000000",
          "2025-08-20T00:00:00.000000000",
          "2025-08-21T00:00:00.000000000",
          "2025-08-22T00:00:00.000000000",
          "2025-08-25T00:00:00.000000000",
          "2025-08-26T00:00:00.000000000",
          "2025-08-27T00:00:00.000000000",
          "2025-08-28T00:00:00.000000000"
         ],
         "xaxis": "x",
         "y": {
          "bdata": "AAAAAKcVRUAAAAAAsuJEQAAAAMDjj0RAAAAAwDfqQkAAAABAdQdCQAAAAGDQ/0FAAAAAoHBdQkAAAACAPUpCQAAAAMDMbEJAAAAAgBSOQkAAAABACpdCQAAAAMD1iEJAAAAA4KOQQkAAAADgehRDQAAAAAAAgENAAAAAwMwMQ0AAAAAAKZxCQAAAAIAUTkJAAAAAIFxPQkAAAABguD5CQAAAAAAp/EFAAAAA4Ho0QkAAAADAzMxBQAAAAMD1CEJAAAAA4Hr0QUAAAAAAAMBCQAAAAKBw3UJAAAAAIIXLQkAAAABguN5CQAAAAMD16EJA",
          "dtype": "f8"
         },
         "yaxis": "y"
        },
        {
         "line": {
          "color": "#1f77b4",
          "dash": "dash",
          "width": 2
         },
         "marker": {
          "size": 6
         },
         "mode": "lines+markers",
         "name": "Forecast",
         "showlegend": true,
         "type": "scatter",
         "x": [
          "2025-08-29T00:00:00.000000000",
          "2025-08-30T00:00:00.000000000",
          "2025-08-31T00:00:00.000000000",
          "2025-09-01T00:00:00.000000000",
          "2025-09-02T00:00:00.000000000",
          "2025-09-03T00:00:00.000000000",
          "2025-09-04T00:00:00.000000000"
         ],
         "xaxis": "x",
         "y": {
          "bdata": "P64oPqEDQ0AMpWYT6xlDQBRa7uiZMENAGyVgQi5NQ0Bc17P1BVtDQK6urSQleENAxAtpE1WXQ0A=",
          "dtype": "f8"
         },
         "yaxis": "y"
        },
        {
         "line": {
          "color": "#ff7f0e",
          "width": 2
         },
         "mode": "lines",
         "name": "Historical",
         "showlegend": false,
         "type": "scatter",
         "x": [
          "2025-07-18T00:00:00.000000000",
          "2025-07-21T00:00:00.000000000",
          "2025-07-22T00:00:00.000000000",
          "2025-07-23T00:00:00.000000000",
          "2025-07-24T00:00:00.000000000",
          "2025-07-25T00:00:00.000000000",
          "2025-07-28T00:00:00.000000000",
          "2025-07-29T00:00:00.000000000",
          "2025-07-30T00:00:00.000000000",
          "2025-07-31T00:00:00.000000000",
          "2025-08-01T00:00:00.000000000",
          "2025-08-04T00:00:00.000000000",
          "2025-08-05T00:00:00.000000000",
          "2025-08-06T00:00:00.000000000",
          "2025-08-07T00:00:00.000000000",
          "2025-08-08T00:00:00.000000000",
          "2025-08-11T00:00:00.000000000",
          "2025-08-12T00:00:00.000000000",
          "2025-08-13T00:00:00.000000000",
          "2025-08-14T00:00:00.000000000",
          "2025-08-15T00:00:00.000000000",
          "2025-08-18T00:00:00.000000000",
          "2025-08-19T00:00:00.000000000",
          "2025-08-20T00:00:00.000000000",
          "2025-08-21T00:00:00.000000000",
          "2025-08-22T00:00:00.000000000",
          "2025-08-25T00:00:00.000000000",
          "2025-08-26T00:00:00.000000000",
          "2025-08-27T00:00:00.000000000",
          "2025-08-28T00:00:00.000000000"
         ],
         "xaxis": "x2",
         "y": {
          "bdata": "AAAAAKcVRUAAAAAAsuJEQAAAAMDjj0RAAAAAwDfqQkAAAABAdQdCQAAAAGDQ/0FAAAAAoHBdQkAAAACAPUpCQAAAAMDMbEJAAAAAgBSOQkAAAABACpdCQAAAAMD1iEJAAAAA4KOQQkAAAADgehRDQAAAAAAAgENAAAAAwMwMQ0AAAAAAKZxCQAAAAIAUTkJAAAAAIFxPQkAAAABguD5CQAAAAAAp/EFAAAAA4Ho0QkAAAADAzMxBQAAAAMD1CEJAAAAA4Hr0QUAAAAAAAMBCQAAAAKBw3UJAAAAAIIXLQkAAAABguN5CQAAAAMD16EJA",
          "dtype": "f8"
         },
         "yaxis": "y2"
        },
        {
         "line": {
          "color": "#ff7f0e",
          "dash": "dash",
          "width": 2
         },
         "marker": {
          "size": 6
         },
         "mode": "lines+markers",
         "name": "Forecast",
         "showlegend": false,
         "type": "scatter",
         "x": [
          "2025-08-29T00:00:00.000000000",
          "2025-08-30T00:00:00.000000000",
          "2025-08-31T00:00:00.000000000",
          "2025-09-01T00:00:00.000000000",
          "2025-09-02T00:00:00.000000000",
          "2025-09-03T00:00:00.000000000",
          "2025-09-04T00:00:00.000000000"
         ],
         "xaxis": "x2",
         "y": {
          "bdata": "+murvLnnQkDPoKKyyOJCQOzkd6824kJAb2hpUOrhQkAeVsKNFOFCQNmuMgEw4EJA4b5o0JjfQkA=",
          "dtype": "f8"
         },
         "yaxis": "y2"
        },
        {
         "line": {
          "color": "#2ca02c",
          "width": 2
         },
         "mode": "lines",
         "name": "Historical",
         "showlegend": false,
         "type": "scatter",
         "x": [
          "2025-07-18T00:00:00.000000000",
          "2025-07-21T00:00:00.000000000",
          "2025-07-22T00:00:00.000000000",
          "2025-07-23T00:00:00.000000000",
          "2025-07-24T00:00:00.000000000",
          "2025-07-25T00:00:00.000000000",
          "2025-07-28T00:00:00.000000000",
          "2025-07-29T00:00:00.000000000",
          "2025-07-30T00:00:00.000000000",
          "2025-07-31T00:00:00.000000000",
          "2025-08-01T00:00:00.000000000",
          "2025-08-04T00:00:00.000000000",
          "2025-08-05T00:00:00.000000000",
          "2025-08-06T00:00:00.000000000",
          "2025-08-07T00:00:00.000000000",
          "2025-08-08T00:00:00.000000000",
          "2025-08-11T00:00:00.000000000",
          "2025-08-12T00:00:00.000000000",
          "2025-08-13T00:00:00.000000000",
          "2025-08-14T00:00:00.000000000",
          "2025-08-15T00:00:00.000000000",
          "2025-08-18T00:00:00.000000000",
          "2025-08-19T00:00:00.000000000",
          "2025-08-20T00:00:00.000000000",
          "2025-08-21T00:00:00.000000000",
          "2025-08-22T00:00:00.000000000",
          "2025-08-25T00:00:00.000000000",
          "2025-08-26T00:00:00.000000000",
          "2025-08-27T00:00:00.000000000",
          "2025-08-28T00:00:00.000000000"
         ],
         "xaxis": "x3",
         "y": {
          "bdata": "AAAAAKcVRUAAAAAAsuJEQAAAAMDjj0RAAAAAwDfqQkAAAABAdQdCQAAAAGDQ/0FAAAAAoHBdQkAAAACAPUpCQAAAAMDMbEJAAAAAgBSOQkAAAABACpdCQAAAAMD1iEJAAAAA4KOQQkAAAADgehRDQAAAAAAAgENAAAAAwMwMQ0AAAAAAKZxCQAAAAIAUTkJAAAAAIFxPQkAAAABguD5CQAAAAAAp/EFAAAAA4Ho0QkAAAADAzMxBQAAAAMD1CEJAAAAA4Hr0QUAAAAAAAMBCQAAAAKBw3UJAAAAAIIXLQkAAAABguN5CQAAAAMD16EJA",
          "dtype": "f8"
         },
         "yaxis": "y3"
        },
        {
         "line": {
          "color": "#2ca02c",
          "dash": "dash",
          "width": 2
         },
         "marker": {
          "size": 6
         },
         "mode": "lines+markers",
         "name": "Forecast",
         "showlegend": false,
         "type": "scatter",
         "x": [
          "2025-08-29T00:00:00.000000000",
          "2025-08-30T00:00:00.000000000",
          "2025-08-31T00:00:00.000000000",
          "2025-09-01T00:00:00.000000000",
          "2025-09-02T00:00:00.000000000",
          "2025-09-03T00:00:00.000000000",
          "2025-09-04T00:00:00.000000000"
         ],
         "xaxis": "x3",
         "y": {
          "bdata": "j8L1SM7TQkAzMzNTwcxCQD0K1yOO+UJAMzMzA0AKQ0DD9SjsIP5CQB+F6xH6EUNApHA9etERQ0A=",
          "dtype": "f8"
         },
         "yaxis": "y3"
        },
        {
         "line": {
          "color": "#d62728",
          "width": 2
         },
         "mode": "lines",
         "name": "Historical",
         "showlegend": false,
         "type": "scatter",
         "x": [
          "2025-07-18T00:00:00.000000000",
          "2025-07-21T00:00:00.000000000",
          "2025-07-22T00:00:00.000000000",
          "2025-07-23T00:00:00.000000000",
          "2025-07-24T00:00:00.000000000",
          "2025-07-25T00:00:00.000000000",
          "2025-07-28T00:00:00.000000000",
          "2025-07-29T00:00:00.000000000",
          "2025-07-30T00:00:00.000000000",
          "2025-07-31T00:00:00.000000000",
          "2025-08-01T00:00:00.000000000",
          "2025-08-04T00:00:00.000000000",
          "2025-08-05T00:00:00.000000000",
          "2025-08-06T00:00:00.000000000",
          "2025-08-07T00:00:00.000000000",
          "2025-08-08T00:00:00.000000000",
          "2025-08-11T00:00:00.000000000",
          "2025-08-12T00:00:00.000000000",
          "2025-08-13T00:00:00.000000000",
          "2025-08-14T00:00:00.000000000",
          "2025-08-15T00:00:00.000000000",
          "2025-08-18T00:00:00.000000000",
          "2025-08-19T00:00:00.000000000",
          "2025-08-20T00:00:00.000000000",
          "2025-08-21T00:00:00.000000000",
          "2025-08-22T00:00:00.000000000",
          "2025-08-25T00:00:00.000000000",
          "2025-08-26T00:00:00.000000000",
          "2025-08-27T00:00:00.000000000",
          "2025-08-28T00:00:00.000000000"
         ],
         "xaxis": "x4",
         "y": {
          "bdata": "AAAAAKcVRUAAAAAAsuJEQAAAAMDjj0RAAAAAwDfqQkAAAABAdQdCQAAAAGDQ/0FAAAAAoHBdQkAAAACAPUpCQAAAAMDMbEJAAAAAgBSOQkAAAABACpdCQAAAAMD1iEJAAAAA4KOQQkAAAADgehRDQAAAAAAAgENAAAAAwMwMQ0AAAAAAKZxCQAAAAIAUTkJAAAAAIFxPQkAAAABguD5CQAAAAAAp/EFAAAAA4Ho0QkAAAADAzMxBQAAAAMD1CEJAAAAA4Hr0QUAAAAAAAMBCQAAAAKBw3UJAAAAAIIXLQkAAAABguN5CQAAAAMD16EJA",
          "dtype": "f8"
         },
         "yaxis": "y4"
        },
        {
         "line": {
          "color": "#d62728",
          "dash": "dash",
          "width": 2
         },
         "marker": {
          "size": 6
         },
         "mode": "lines+markers",
         "name": "Forecast",
         "showlegend": false,
         "type": "scatter",
         "x": [
          "2025-08-29T00:00:00.000000000",
          "2025-08-30T00:00:00.000000000",
          "2025-08-31T00:00:00.000000000",
          "2025-09-01T00:00:00.000000000",
          "2025-09-02T00:00:00.000000000",
          "2025-09-03T00:00:00.000000000",
          "2025-09-04T00:00:00.000000000"
         ],
         "xaxis": "x4",
         "y": {
          "bdata": "MQzDoDXqQkBhGIaBdetCQJIkSWK17EJAwzAMQ/XtQkD0PM8jNe9CQCRJkgR18EJAVVVV5bTxQkA=",
          "dtype": "f8"
         },
         "yaxis": "y4"
        }
       ],
       "layout": {
        "annotations": [
         {
          "font": {
           "size": 16
          },
          "showarrow": false,
          "text": "Simple Neural Network",
          "x": 0.225,
          "xanchor": "center",
          "xref": "paper",
          "y": 1,
          "yanchor": "bottom",
          "yref": "paper"
         },
         {
          "font": {
           "size": 16
          },
          "showarrow": false,
          "text": "Linear Regression",
          "x": 0.775,
          "xanchor": "center",
          "xref": "paper",
          "y": 1,
          "yanchor": "bottom",
          "yref": "paper"
         },
         {
          "font": {
           "size": 16
          },
          "showarrow": false,
          "text": "Random Forest",
          "x": 0.225,
          "xanchor": "center",
          "xref": "paper",
          "y": 0.375,
          "yanchor": "bottom",
          "yref": "paper"
         },
         {
          "font": {
           "size": 16
          },
          "showarrow": false,
          "text": "Moving Average",
          "x": 0.775,
          "xanchor": "center",
          "xref": "paper",
          "y": 0.375,
          "yanchor": "bottom",
          "yref": "paper"
         }
        ],
        "height": 800,
        "hovermode": "x unified",
        "shapes": [
         {
          "line": {
           "color": "gray",
           "dash": "dot"
          },
          "type": "line",
          "x0": "2025-08-28T00:00:00",
          "x1": "2025-08-28T00:00:00",
          "xref": "x",
          "y0": 0,
          "y1": 1,
          "yref": "y domain"
         },
         {
          "line": {
           "color": "gray",
           "dash": "dot"
          },
          "type": "line",
          "x0": "2025-08-28T00:00:00",
          "x1": "2025-08-28T00:00:00",
          "xref": "x2",
          "y0": 0,
          "y1": 1,
          "yref": "y2 domain"
         },
         {
          "line": {
           "color": "gray",
           "dash": "dot"
          },
          "type": "line",
          "x0": "2025-08-28T00:00:00",
          "x1": "2025-08-28T00:00:00",
          "xref": "x3",
          "y0": 0,
          "y1": 1,
          "yref": "y3 domain"
         },
         {
          "line": {
           "color": "gray",
           "dash": "dot"
          },
          "type": "line",
          "x0": "2025-08-28T00:00:00",
          "x1": "2025-08-28T00:00:00",
          "xref": "x4",
          "y0": 0,
          "y1": 1,
          "yref": "y4 domain"
         }
        ],
        "template": {
         "data": {
          "bar": [
           {
            "error_x": {
             "color": "#2a3f5f"
            },
            "error_y": {
             "color": "#2a3f5f"
            },
            "marker": {
             "line": {
              "color": "#E5ECF6",
              "width": 0.5
             },
             "pattern": {
              "fillmode": "overlay",
              "size": 10,
              "solidity": 0.2
             }
            },
            "type": "bar"
           }
          ],
          "barpolar": [
           {
            "marker": {
             "line": {
              "color": "#E5ECF6",
              "width": 0.5
             },
             "pattern": {
              "fillmode": "overlay",
              "size": 10,
              "solidity": 0.2
             }
            },
            "type": "barpolar"
           }
          ],
          "carpet": [
           {
            "aaxis": {
             "endlinecolor": "#2a3f5f",
             "gridcolor": "white",
             "linecolor": "white",
             "minorgridcolor": "white",
             "startlinecolor": "#2a3f5f"
            },
            "baxis": {
             "endlinecolor": "#2a3f5f",
             "gridcolor": "white",
             "linecolor": "white",
             "minorgridcolor": "white",
             "startlinecolor": "#2a3f5f"
            },
            "type": "carpet"
           }
          ],
          "choropleth": [
           {
            "colorbar": {
             "outlinewidth": 0,
             "ticks": ""
            },
            "type": "choropleth"
           }
          ],
          "contour": [
           {
            "colorbar": {
             "outlinewidth": 0,
             "ticks": ""
            },
            "colorscale": [
             [
              0,
              "#0d0887"
             ],
             [
              0.1111111111111111,
              "#46039f"
             ],
             [
              0.2222222222222222,
              "#7201a8"
             ],
             [
              0.3333333333333333,
              "#9c179e"
             ],
             [
              0.4444444444444444,
              "#bd3786"
             ],
             [
              0.5555555555555556,
              "#d8576b"
             ],
             [
              0.6666666666666666,
              "#ed7953"
             ],
             [
              0.7777777777777778,
              "#fb9f3a"
             ],
             [
              0.8888888888888888,
              "#fdca26"
             ],
             [
              1,
              "#f0f921"
             ]
            ],
            "type": "contour"
           }
          ],
          "contourcarpet": [
           {
            "colorbar": {
             "outlinewidth": 0,
             "ticks": ""
            },
            "type": "contourcarpet"
           }
          ],
          "heatmap": [
           {
            "colorbar": {
             "outlinewidth": 0,
             "ticks": ""
            },
            "colorscale": [
             [
              0,
              "#0d0887"
             ],
             [
              0.1111111111111111,
              "#46039f"
             ],
             [
              0.2222222222222222,
              "#7201a8"
             ],
             [
              0.3333333333333333,
              "#9c179e"
             ],
             [
              0.4444444444444444,
              "#bd3786"
             ],
             [
              0.5555555555555556,
              "#d8576b"
             ],
             [
              0.6666666666666666,
              "#ed7953"
             ],
             [
              0.7777777777777778,
              "#fb9f3a"
             ],
             [
              0.8888888888888888,
              "#fdca26"
             ],
             [
              1,
              "#f0f921"
             ]
            ],
            "type": "heatmap"
           }
          ],
          "histogram": [
           {
            "marker": {
             "pattern": {
              "fillmode": "overlay",
              "size": 10,
              "solidity": 0.2
             }
            },
            "type": "histogram"
           }
          ],
          "histogram2d": [
           {
            "colorbar": {
             "outlinewidth": 0,
             "ticks": ""
            },
            "colorscale": [
             [
              0,
              "#0d0887"
             ],
             [
              0.1111111111111111,
              "#46039f"
             ],
             [
              0.2222222222222222,
              "#7201a8"
             ],
             [
              0.3333333333333333,
              "#9c179e"
             ],
             [
              0.4444444444444444,
              "#bd3786"
             ],
             [
              0.5555555555555556,
              "#d8576b"
             ],
             [
              0.6666666666666666,
              "#ed7953"
             ],
             [
              0.7777777777777778,
              "#fb9f3a"
             ],
             [
              0.8888888888888888,
              "#fdca26"
             ],
             [
              1,
              "#f0f921"
             ]
            ],
            "type": "histogram2d"
           }
          ],
          "histogram2dcontour": [
           {
            "colorbar": {
             "outlinewidth": 0,
             "ticks": ""
            },
            "colorscale": [
             [
              0,
              "#0d0887"
             ],
             [
              0.1111111111111111,
              "#46039f"
             ],
             [
              0.2222222222222222,
              "#7201a8"
             ],
             [
              0.3333333333333333,
              "#9c179e"
             ],
             [
              0.4444444444444444,
              "#bd3786"
             ],
             [
              0.5555555555555556,
              "#d8576b"
             ],
             [
              0.6666666666666666,
              "#ed7953"
             ],
             [
              0.7777777777777778,
              "#fb9f3a"
             ],
             [
              0.8888888888888888,
              "#fdca26"
             ],
             [
              1,
              "#f0f921"
             ]
            ],
            "type": "histogram2dcontour"
           }
          ],
          "mesh3d": [
           {
            "colorbar": {
             "outlinewidth": 0,
             "ticks": ""
            },
            "type": "mesh3d"
           }
          ],
          "parcoords": [
           {
            "line": {
             "colorbar": {
              "outlinewidth": 0,
              "ticks": ""
             }
            },
            "type": "parcoords"
           }
          ],
          "pie": [
           {
            "automargin": true,
            "type": "pie"
           }
          ],
          "scatter": [
           {
            "fillpattern": {
             "fillmode": "overlay",
             "size": 10,
             "solidity": 0.2
            },
            "type": "scatter"
           }
          ],
          "scatter3d": [
           {
            "line": {
             "colorbar": {
              "outlinewidth": 0,
              "ticks": ""
             }
            },
            "marker": {
             "colorbar": {
              "outlinewidth": 0,
              "ticks": ""
             }
            },
            "type": "scatter3d"
           }
          ],
          "scattercarpet": [
           {
            "marker": {
             "colorbar": {
              "outlinewidth": 0,
              "ticks": ""
             }
            },
            "type": "scattercarpet"
           }
          ],
          "scattergeo": [
           {
            "marker": {
             "colorbar": {
              "outlinewidth": 0,
              "ticks": ""
             }
            },
            "type": "scattergeo"
           }
          ],
          "scattergl": [
           {
            "marker": {
             "colorbar": {
              "outlinewidth": 0,
              "ticks": ""
             }
            },
            "type": "scattergl"
           }
          ],
          "scattermap": [
           {
            "marker": {
             "colorbar": {
              "outlinewidth": 0,
              "ticks": ""
             }
            },
            "type": "scattermap"
           }
          ],
          "scattermapbox": [
           {
            "marker": {
             "colorbar": {
              "outlinewidth": 0,
              "ticks": ""
             }
            },
            "type": "scattermapbox"
           }
          ],
          "scatterpolar": [
           {
            "marker": {
             "colorbar": {
              "outlinewidth": 0,
              "ticks": ""
             }
            },
            "type": "scatterpolar"
           }
          ],
          "scatterpolargl": [
           {
            "marker": {
             "colorbar": {
              "outlinewidth": 0,
              "ticks": ""
             }
            },
            "type": "scatterpolargl"
           }
          ],
          "scatterternary": [
           {
            "marker": {
             "colorbar": {
              "outlinewidth": 0,
              "ticks": ""
             }
            },
            "type": "scatterternary"
           }
          ],
          "surface": [
           {
            "colorbar": {
             "outlinewidth": 0,
             "ticks": ""
            },
            "colorscale": [
             [
              0,
              "#0d0887"
             ],
             [
              0.1111111111111111,
              "#46039f"
             ],
             [
              0.2222222222222222,
              "#7201a8"
             ],
             [
              0.3333333333333333,
              "#9c179e"
             ],
             [
              0.4444444444444444,
              "#bd3786"
             ],
             [
              0.5555555555555556,
              "#d8576b"
             ],
             [
              0.6666666666666666,
              "#ed7953"
             ],
             [
              0.7777777777777778,
              "#fb9f3a"
             ],
             [
              0.8888888888888888,
              "#fdca26"
             ],
             [
              1,
              "#f0f921"
             ]
            ],
            "type": "surface"
           }
          ],
          "table": [
           {
            "cells": {
             "fill": {
              "color": "#EBF0F8"
             },
             "line": {
              "color": "white"
             }
            },
            "header": {
             "fill": {
              "color": "#C8D4E3"
             },
             "line": {
              "color": "white"
             }
            },
            "type": "table"
           }
          ]
         },
         "layout": {
          "annotationdefaults": {
           "arrowcolor": "#2a3f5f",
           "arrowhead": 0,
           "arrowwidth": 1
          },
          "autotypenumbers": "strict",
          "coloraxis": {
           "colorbar": {
            "outlinewidth": 0,
            "ticks": ""
           }
          },
          "colorscale": {
           "diverging": [
            [
             0,
             "#8e0152"
            ],
            [
             0.1,
             "#c51b7d"
            ],
            [
             0.2,
             "#de77ae"
            ],
            [
             0.3,
             "#f1b6da"
            ],
            [
             0.4,
             "#fde0ef"
            ],
            [
             0.5,
             "#f7f7f7"
            ],
            [
             0.6,
             "#e6f5d0"
            ],
            [
             0.7,
             "#b8e186"
            ],
            [
             0.8,
             "#7fbc41"
            ],
            [
             0.9,
             "#4d9221"
            ],
            [
             1,
             "#276419"
            ]
           ],
           "sequential": [
            [
             0,
             "#0d0887"
            ],
            [
             0.1111111111111111,
             "#46039f"
            ],
            [
             0.2222222222222222,
             "#7201a8"
            ],
            [
             0.3333333333333333,
             "#9c179e"
            ],
            [
             0.4444444444444444,
             "#bd3786"
            ],
            [
             0.5555555555555556,
             "#d8576b"
            ],
            [
             0.6666666666666666,
             "#ed7953"
            ],
            [
             0.7777777777777778,
             "#fb9f3a"
            ],
            [
             0.8888888888888888,
             "#fdca26"
            ],
            [
             1,
             "#f0f921"
            ]
           ],
           "sequentialminus": [
            [
             0,
             "#0d0887"
            ],
            [
             0.1111111111111111,
             "#46039f"
            ],
            [
             0.2222222222222222,
             "#7201a8"
            ],
            [
             0.3333333333333333,
             "#9c179e"
            ],
            [
             0.4444444444444444,
             "#bd3786"
            ],
            [
             0.5555555555555556,
             "#d8576b"
            ],
            [
             0.6666666666666666,
             "#ed7953"
            ],
            [
             0.7777777777777778,
             "#fb9f3a"
            ],
            [
             0.8888888888888888,
             "#fdca26"
            ],
            [
             1,
             "#f0f921"
            ]
           ]
          },
          "colorway": [
           "#636efa",
           "#EF553B",
           "#00cc96",
           "#ab63fa",
           "#FFA15A",
           "#19d3f3",
           "#FF6692",
           "#B6E880",
           "#FF97FF",
           "#FECB52"
          ],
          "font": {
           "color": "#2a3f5f"
          },
          "geo": {
           "bgcolor": "white",
           "lakecolor": "white",
           "landcolor": "#E5ECF6",
           "showlakes": true,
           "showland": true,
           "subunitcolor": "white"
          },
          "hoverlabel": {
           "align": "left"
          },
          "hovermode": "closest",
          "mapbox": {
           "style": "light"
          },
          "paper_bgcolor": "white",
          "plot_bgcolor": "#E5ECF6",
          "polar": {
           "angularaxis": {
            "gridcolor": "white",
            "linecolor": "white",
            "ticks": ""
           },
           "bgcolor": "#E5ECF6",
           "radialaxis": {
            "gridcolor": "white",
            "linecolor": "white",
            "ticks": ""
           }
          },
          "scene": {
           "xaxis": {
            "backgroundcolor": "#E5ECF6",
            "gridcolor": "white",
            "gridwidth": 2,
            "linecolor": "white",
            "showbackground": true,
            "ticks": "",
            "zerolinecolor": "white"
           },
           "yaxis": {
            "backgroundcolor": "#E5ECF6",
            "gridcolor": "white",
            "gridwidth": 2,
            "linecolor": "white",
            "showbackground": true,
            "ticks": "",
            "zerolinecolor": "white"
           },
           "zaxis": {
            "backgroundcolor": "#E5ECF6",
            "gridcolor": "white",
            "gridwidth": 2,
            "linecolor": "white",
            "showbackground": true,
            "ticks": "",
            "zerolinecolor": "white"
           }
          },
          "shapedefaults": {
           "line": {
            "color": "#2a3f5f"
           }
          },
          "ternary": {
           "aaxis": {
            "gridcolor": "white",
            "linecolor": "white",
            "ticks": ""
           },
           "baxis": {
            "gridcolor": "white",
            "linecolor": "white",
            "ticks": ""
           },
           "bgcolor": "#E5ECF6",
           "caxis": {
            "gridcolor": "white",
            "linecolor": "white",
            "ticks": ""
           }
          },
          "title": {
           "x": 0.05
          },
          "xaxis": {
           "automargin": true,
           "gridcolor": "white",
           "linecolor": "white",
           "ticks": "",
           "title": {
            "standoff": 15
           },
           "zerolinecolor": "white",
           "zerolinewidth": 2
          },
          "yaxis": {
           "automargin": true,
           "gridcolor": "white",
           "linecolor": "white",
           "ticks": "",
           "title": {
            "standoff": 15
           },
           "zerolinecolor": "white",
           "zerolinewidth": 2
          }
         }
        },
        "title": {
         "text": "WEGE3.SA - 7-Day Price Forecasts Comparison"
        },
        "xaxis": {
         "anchor": "y",
         "domain": [
          0,
          0.45
         ]
        },
        "xaxis2": {
         "anchor": "y2",
         "domain": [
          0.55,
          1
         ]
        },
        "xaxis3": {
         "anchor": "y3",
         "domain": [
          0,
          0.45
         ]
        },
        "xaxis4": {
         "anchor": "y4",
         "domain": [
          0.55,
          1
         ]
        },
        "yaxis": {
         "anchor": "x",
         "domain": [
          0.625,
          1
         ]
        },
        "yaxis2": {
         "anchor": "x2",
         "domain": [
          0.625,
          1
         ]
        },
        "yaxis3": {
         "anchor": "x3",
         "domain": [
          0,
          0.375
         ]
        },
        "yaxis4": {
         "anchor": "x4",
         "domain": [
          0,
          0.375
         ]
        }
       }
      }
     },
     "metadata": {},
     "output_type": "display_data"
    }
   ],
   "source": [
    "# Plot forecasts\n",
    "print(\"\\nGenerating forecast visualization...\")\n",
    "try:\n",
    "    plot_forecasts_plotly(data, forecasts, symbol)\n",
    "except:\n",
    "    print(\"Generating matplotlib forecast plots...\")\n",
    "    plot_forecast_comparison_matplotlib(data, forecasts, symbol)\n"
   ]
  },
  {
   "cell_type": "code",
   "execution_count": 10,
   "id": "d4e8bcae",
   "metadata": {},
   "outputs": [
    {
     "name": "stdout",
     "output_type": "stream",
     "text": [
      "\n",
      "Forecast Summary (Current Price: $37.82)\n",
      "------------------------------------------------------------\n",
      "Simple Neural Network: $38.58 (+2.00%)\n",
      "Linear Regression   : $37.77 (-0.14%)\n",
      "Random Forest       : $37.94 (+0.31%)\n",
      "Moving Average      : $37.86 (+0.10%)\n"
     ]
    }
   ],
   "source": [
    "# Model performance summary\n",
    "current_price = float(data['Close'].iloc[-1])\n",
    "print(f\"\\nForecast Summary (Current Price: ${current_price:.2f})\")\n",
    "print(\"-\" * 60)\n",
    "\n",
    "for model_name, forecast in forecasts.items():\n",
    "    avg_forecast = np.mean(forecast)\n",
    "    price_change = avg_forecast - current_price\n",
    "    percent_change = (price_change / current_price) * 100\n",
    "    print(f\"{model_name:20}: ${avg_forecast:.2f} ({percent_change:+.2f}%)\")\n"
   ]
  }
 ],
 "metadata": {
  "kernelspec": {
   "display_name": "pythorix",
   "language": "python",
   "name": "python3"
  },
  "language_info": {
   "codemirror_mode": {
    "name": "ipython",
    "version": 3
   },
   "file_extension": ".py",
   "mimetype": "text/x-python",
   "name": "python",
   "nbconvert_exporter": "python",
   "pygments_lexer": "ipython3",
   "version": "3.11.2"
  }
 },
 "nbformat": 4,
 "nbformat_minor": 5
}
