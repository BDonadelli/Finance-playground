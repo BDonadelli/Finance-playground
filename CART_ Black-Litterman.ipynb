{
 "cells": [
  {
   "cell_type": "markdown",
   "metadata": {},
   "source": [
    "# Chapter 15 - Black Litterman"
   ]
  },
  {
   "cell_type": "raw",
   "metadata": {},
   "source": [
    "### We thank Sagi Haim for developing this script ###"
   ]
  },
  {
   "cell_type": "code",
   "execution_count": 1,
   "metadata": {},
   "outputs": [],
   "source": [
    "import numpy as np\n",
    "import pandas as pd\n",
    "from scipy.linalg import inv"
   ]
  },
  {
   "cell_type": "code",
   "execution_count": 2,
   "metadata": {},
   "outputs": [],
   "source": [
    "# Read CSV\n",
    "import pandas as pd\n",
    "data = pd.read_csv(\"/Volumes/GoogleDrive/My Drive/FM5/Chapt_15_data.csv\", dtype={'col1':'str'})\n",
    "data['Date'] = pd.to_datetime(data['Date'])\n",
    "data = data.set_index('Date')\n",
    "data = data.sort_index(ascending=True)"
   ]
  },
  {
   "cell_type": "code",
   "execution_count": 3,
   "metadata": {},
   "outputs": [],
   "source": [
    "monthly_ret = np.log(data)\n",
    "monthly_ret = monthly_ret.diff().dropna()"
   ]
  },
  {
   "cell_type": "code",
   "execution_count": 4,
   "metadata": {},
   "outputs": [],
   "source": [
    "# Market Capitalization ($B)\n",
    "tickers = ['AAPL','MSFT','AMZN','GOOG','KO','JNJ','PG','DIS','WMT','XOM']\n",
    "market_cap = pd.Series([1370, 1358, 1043, 1020, 257.356, 395.024, 312.879, 250.902, 336.433, 250.356],\n",
    "                      index = tickers)"
   ]
  },
  {
   "cell_type": "markdown",
   "metadata": {},
   "source": [
    "### 12.2  A Naive Problem"
   ]
  },
  {
   "cell_type": "code",
   "execution_count": 5,
   "metadata": {},
   "outputs": [],
   "source": [
    "# Input: Current T-Bill rate\n",
    "t_bill_r = 0.016/12  "
   ]
  },
  {
   "cell_type": "code",
   "execution_count": 6,
   "metadata": {},
   "outputs": [
    {
     "name": "stdout",
     "output_type": "stream",
     "text": [
      "Benchmark Proportions\n",
      "AAPL    0.207766\n",
      "MSFT    0.205946\n",
      "AMZN    0.158175\n",
      "GOOG    0.154687\n",
      "KO      0.039029\n",
      "JNJ     0.059907\n",
      "PG      0.047449\n",
      "DIS     0.038050\n",
      "WMT     0.051021\n",
      "XOM     0.037968\n",
      "dtype: float64\n"
     ]
    }
   ],
   "source": [
    "# Comupte Benchmark Proportion\n",
    "bench_prop = market_cap / np.sum(market_cap)\n",
    "print(\"Benchmark Proportions\")\n",
    "print(bench_prop)"
   ]
  },
  {
   "cell_type": "code",
   "execution_count": 7,
   "metadata": {},
   "outputs": [],
   "source": [
    "# Copute Returns Statistics\n",
    "mean_ret = np.array(monthly_ret.mean())\n",
    "sd_ret = np.array(monthly_ret.std())\n",
    "cov_mat = monthly_ret.cov()"
   ]
  },
  {
   "cell_type": "code",
   "execution_count": 8,
   "metadata": {},
   "outputs": [
    {
     "name": "stdout",
     "output_type": "stream",
     "text": [
      "Optimal Portfolio\n",
      "AAPL    0.202810\n",
      "MSFT    0.143080\n",
      "AMZN    0.239175\n",
      "GOOG   -0.060852\n",
      "KO      0.040303\n",
      "JNJ     0.208575\n",
      "PG      0.346464\n",
      "DIS     0.263657\n",
      "WMT     0.065269\n",
      "XOM    -0.448481\n",
      "dtype: float64\n"
     ]
    }
   ],
   "source": [
    "optimal_port = np.dot(inv(cov_mat),(mean_ret - t_bill_r))\n",
    "optimal_port = optimal_port / np.sum(optimal_port)\n",
    "print(\"Optimal Portfolio\")\n",
    "print(pd.Series(optimal_port, index = tickers))"
   ]
  },
  {
   "cell_type": "markdown",
   "metadata": {},
   "source": [
    "### 12.4  Black-Litterman Step 1:  What Does the Market Think?"
   ]
  },
  {
   "cell_type": "markdown",
   "metadata": {},
   "source": [
    "#### Optimization With Normalizing"
   ]
  },
  {
   "cell_type": "code",
   "execution_count": 9,
   "metadata": {},
   "outputs": [],
   "source": [
    "# Input\n",
    "bench_ret = 0.12/12 # anticipated benchmark return\n",
    "t_bill_r = 0.016/12 # Current T-Bill rate"
   ]
  },
  {
   "cell_type": "code",
   "execution_count": 10,
   "metadata": {},
   "outputs": [
    {
     "name": "stdout",
     "output_type": "stream",
     "text": [
      "Normalizing Factor\n",
      "4.957130100941868\n"
     ]
    }
   ],
   "source": [
    "# Normalizing Factor\n",
    "norm_fact = (bench_ret - t_bill_r) / np.dot(np.dot(bench_prop,cov_mat),bench_prop)\n",
    "print(\"Normalizing Factor\")\n",
    "print(norm_fact)"
   ]
  },
  {
   "cell_type": "code",
   "execution_count": 11,
   "metadata": {},
   "outputs": [
    {
     "name": "stdout",
     "output_type": "stream",
     "text": [
      "Market Expected Returns - Check\n",
      "0.009999999999999998\n"
     ]
    }
   ],
   "source": [
    "# Market Expected Returns\n",
    "exp_ret = np.dot(cov_mat,bench_prop) * norm_fact + t_bill_r\n",
    "np.dot(bench_prop,exp_ret) # check\n",
    "print(\"Market Expected Returns - Check\")\n",
    "print(np.dot(bench_prop,exp_ret))"
   ]
  },
  {
   "cell_type": "code",
   "execution_count": 12,
   "metadata": {},
   "outputs": [
    {
     "name": "stdout",
     "output_type": "stream",
     "text": [
      "Additional Check: Optimal Portfolio\n",
      "AAPL    0.207766\n",
      "MSFT    0.205946\n",
      "AMZN    0.158175\n",
      "GOOG    0.154687\n",
      "KO      0.039029\n",
      "JNJ     0.059907\n",
      "PG      0.047449\n",
      "DIS     0.038050\n",
      "WMT     0.051021\n",
      "XOM     0.037968\n",
      "dtype: float64\n"
     ]
    }
   ],
   "source": [
    "# Additional Check: Optimal Portfolio\n",
    "check_proportions = np.dot(inv(cov_mat),(exp_ret - t_bill_r)) / np.sum(np.dot(inv(cov_mat),(exp_ret - t_bill_r))) #proportions\n",
    "print(\"Additional Check: Optimal Portfolio\")\n",
    "print(pd.Series(check_proportions,index=tickers))"
   ]
  },
  {
   "cell_type": "markdown",
   "metadata": {},
   "source": [
    "### 12.5  BL Step 2:  Introducing Opinions-What Does Joanna Think?"
   ]
  },
  {
   "cell_type": "code",
   "execution_count": 13,
   "metadata": {},
   "outputs": [],
   "source": [
    "# Input: Analyst opinion - Delta\n",
    "delta_GOOG = 0.007"
   ]
  },
  {
   "cell_type": "code",
   "execution_count": 14,
   "metadata": {},
   "outputs": [
    {
     "name": "stdout",
     "output_type": "stream",
     "text": [
      "Returns adjusted for opinions\n",
      "AAPL    0.014997\n",
      "MSFT    0.014014\n",
      "AMZN    0.017173\n",
      "GOOG    0.017916\n",
      "KO      0.006618\n",
      "JNJ     0.006250\n",
      "PG      0.004602\n",
      "DIS     0.010014\n",
      "WMT     0.005044\n",
      "XOM     0.007880\n",
      "Name: GOOG, dtype: float64\n"
     ]
    }
   ],
   "source": [
    "# Returns adjusted for opinions\n",
    "opn_adj_ret = exp_ret + delta_GOOG * cov_mat[\"GOOG\"] / cov_mat.loc[\"GOOG\",\"GOOG\"]\n",
    "print(\"Returns adjusted for opinions\")\n",
    "print(opn_adj_ret)"
   ]
  },
  {
   "cell_type": "code",
   "execution_count": 15,
   "metadata": {},
   "outputs": [
    {
     "name": "stdout",
     "output_type": "stream",
     "text": [
      "Opinion-adjusted optimized portfolio\n",
      "AAPL    0.154804\n",
      "MSFT    0.153448\n",
      "AMZN    0.117854\n",
      "GOOG    0.370169\n",
      "KO      0.029080\n",
      "JNJ     0.044636\n",
      "PG      0.035354\n",
      "DIS     0.028351\n",
      "WMT     0.038015\n",
      "XOM     0.028289\n",
      "dtype: float64\n"
     ]
    }
   ],
   "source": [
    "# Opinion-adjusted optimized portfolio\n",
    "opn_adj_prop = np.dot(inv(cov_mat),(opn_adj_ret - t_bill_r))\n",
    "opn_adj_prop = opn_adj_prop / np.sum(opn_adj_prop)\n",
    "print(\"Opinion-adjusted optimized portfolio\")\n",
    "print(pd.Series(opn_adj_prop,index=tickers))"
   ]
  },
  {
   "cell_type": "code",
   "execution_count": 16,
   "metadata": {},
   "outputs": [
    {
     "name": "stdout",
     "output_type": "stream",
     "text": [
      "The Black-Litterman Tracking Matrix\n",
      "          AAPL      MSFT      AMZN      GOOG        KO       JNJ        PG  \\\n",
      "AAPL  1.000000  0.482559  0.315103  0.388253  0.361586  0.342721  0.346389   \n",
      "MSFT  0.325964  1.000000  0.309935  0.450307  0.547445  0.504710  0.315919   \n",
      "AMZN  0.369479  0.538007  1.000000  0.579943  0.647781  0.616815 -0.062984   \n",
      "GOOG  0.300626  0.516180  0.382966  1.000000  0.552300  0.336807  0.370155   \n",
      "KO    0.101305  0.227059  0.154779  0.199840  1.000000  0.471320  0.394722   \n",
      "JNJ   0.105785  0.230624  0.162368  0.134262  0.519253  1.000000  0.445640   \n",
      "PG    0.096068  0.129709 -0.014897  0.132583  0.390740  0.400421  1.000000   \n",
      "DIS   0.212782  0.400058  0.208859  0.346964  0.502476  0.433046  0.315891   \n",
      "WMT   0.106328  0.143088  0.075414  0.088863  0.487888  0.497973  0.405414   \n",
      "XOM   0.158337  0.298941  0.174739  0.227456  0.431895  0.620851  0.337769   \n",
      "\n",
      "           DIS       WMT       XOM  \n",
      "AAPL  0.343520  0.245287  0.336816  \n",
      "MSFT  0.436276  0.222972  0.429551  \n",
      "AMZN  0.395373  0.203993  0.435849  \n",
      "GOOG  0.433726  0.158731  0.374644  \n",
      "KO    0.227276  0.315331  0.257399  \n",
      "JNJ   0.215792  0.354582  0.407642  \n",
      "PG    0.141440  0.259384  0.199271  \n",
      "DIS   1.000000  0.258177  0.531974  \n",
      "WMT   0.180679  1.000000  0.223491  \n",
      "XOM   0.403737  0.242370  1.000000  \n"
     ]
    }
   ],
   "source": [
    "# The Black-Litterman Tracking Matrix\n",
    "track_mat = cov_mat / np.diag(cov_mat)\n",
    "print(\"The Black-Litterman Tracking Matrix\")\n",
    "print(track_mat)"
   ]
  },
  {
   "cell_type": "markdown",
   "metadata": {},
   "source": [
    "#### Two or More Opinions"
   ]
  },
  {
   "cell_type": "code",
   "execution_count": 17,
   "metadata": {},
   "outputs": [],
   "source": [
    "# Input: Analyst opinion - Delta ARRAY\n",
    "delta_port = pd.Series([0.000, 0.000, 0.000, 0.007, 0.000, 0.000, 0.000, -0.004, 0.000, 0.000], index=tickers)"
   ]
  },
  {
   "cell_type": "code",
   "execution_count": 18,
   "metadata": {},
   "outputs": [
    {
     "name": "stdout",
     "output_type": "stream",
     "text": [
      "Returns adjusted for opinions\n",
      "AAPL    0.013623\n",
      "MSFT    0.012269\n",
      "AMZN    0.015592\n",
      "GOOG    0.016181\n",
      "KO      0.005709\n",
      "JNJ     0.005387\n",
      "PG      0.004036\n",
      "DIS     0.006014\n",
      "WMT     0.004321\n",
      "XOM     0.006265\n",
      "dtype: float64\n"
     ]
    }
   ],
   "source": [
    "# Returns adjusted for opinions\n",
    "opn_adj_ret = exp_ret + np.dot(track_mat,delta_port)\n",
    "print(\"Returns adjusted for opinions\")\n",
    "print(pd.Series(opn_adj_ret,index=tickers))"
   ]
  },
  {
   "cell_type": "code",
   "execution_count": 19,
   "metadata": {},
   "outputs": [
    {
     "name": "stdout",
     "output_type": "stream",
     "text": [
      "Opinion-adjusted optimized portfolio\n",
      "AAPL    0.189267\n",
      "MSFT    0.187610\n",
      "AMZN    0.144092\n",
      "GOOG    0.452578\n",
      "KO      0.035554\n",
      "JNJ     0.054573\n",
      "PG      0.043225\n",
      "DIS    -0.187965\n",
      "WMT     0.046479\n",
      "XOM     0.034587\n",
      "dtype: float64\n"
     ]
    }
   ],
   "source": [
    "# Opinion-adjusted optimized portfolio\n",
    "opn_adj_prop = np.dot(inv(cov_mat),(opn_adj_ret - t_bill_r))\n",
    "opn_adj_prop = opn_adj_prop / np.sum(opn_adj_prop)\n",
    "print(\"Opinion-adjusted optimized portfolio\")\n",
    "print(pd.Series(opn_adj_prop,index=tickers))"
   ]
  },
  {
   "cell_type": "markdown",
   "metadata": {},
   "source": [
    "#### Do You Believe in Your Opinions?"
   ]
  },
  {
   "cell_type": "code",
   "execution_count": 20,
   "metadata": {},
   "outputs": [],
   "source": [
    "# Input: Opinion Confidence\n",
    "conf = 0.6"
   ]
  },
  {
   "cell_type": "code",
   "execution_count": 21,
   "metadata": {},
   "outputs": [
    {
     "name": "stdout",
     "output_type": "stream",
     "text": [
      "Returns adjusted for opinions and confidence\n",
      "AAPL    0.013085\n",
      "MSFT    0.011707\n",
      "AMZN    0.014600\n",
      "GOOG    0.014075\n",
      "KO      0.005513\n",
      "JNJ     0.005356\n",
      "PG      0.003892\n",
      "DIS     0.006642\n",
      "WMT     0.004361\n",
      "XOM     0.006274\n",
      "dtype: float64\n"
     ]
    }
   ],
   "source": [
    "# Returns adjusted for opinions and confidence\n",
    "conf_adj_ret = conf * opn_adj_ret + ( 1 - conf ) * exp_ret\n",
    "print(\"Returns adjusted for opinions and confidence\")\n",
    "print(pd.Series(conf_adj_ret,index=tickers))"
   ]
  },
  {
   "cell_type": "code",
   "execution_count": 22,
   "metadata": {},
   "outputs": [
    {
     "name": "stdout",
     "output_type": "stream",
     "text": [
      "Opinion and confidence adjusted\n",
      "AAPL    0.196257\n",
      "MSFT    0.194538\n",
      "AMZN    0.149413\n",
      "GOOG    0.340023\n",
      "KO      0.036867\n",
      "JNJ     0.056589\n",
      "PG      0.044821\n",
      "DIS    -0.102567\n",
      "WMT     0.048195\n",
      "XOM     0.035864\n",
      "dtype: float64\n"
     ]
    }
   ],
   "source": [
    "# Opinion and confidence adjusted\n",
    "conf_adj_prop = np.dot(inv(cov_mat),(conf_adj_ret - t_bill_r))\n",
    "conf_adj_prop = conf_adj_prop / np.sum(conf_adj_prop)\n",
    "print(\"Opinion and confidence adjusted\")\n",
    "print(pd.Series(conf_adj_prop,index=tickers))"
   ]
  },
  {
   "cell_type": "markdown",
   "metadata": {},
   "source": [
    "### 12.6  Using Black-Litterman for International Asset Allocation"
   ]
  },
  {
   "cell_type": "code",
   "execution_count": 23,
   "metadata": {},
   "outputs": [],
   "source": [
    "# Read CSV\n",
    "import pandas as pd\n",
    "data = pd.read_csv(\"/Volumes/GoogleDrive/My Drive/FM5/Chapt_15_data_2.csv\", dtype={'col1':'str'})\n",
    "data['Date'] = pd.to_datetime(data['Date'])\n",
    "data = data.set_index('Date')\n",
    "data = data.sort_index(ascending=True)\n",
    "monthly_returns = np.log(data)\n",
    "monthly_returns = monthly_returns.diff().dropna()"
   ]
  },
  {
   "cell_type": "code",
   "execution_count": 24,
   "metadata": {},
   "outputs": [],
   "source": [
    "# Input: Weights\n",
    "tickers=['GSPC','ACWI','RUT','EEM','BND']\n",
    "weights = pd.Series([0.3,0.2,0.04,0.04,0.42],index=tickers)"
   ]
  },
  {
   "cell_type": "code",
   "execution_count": 25,
   "metadata": {},
   "outputs": [],
   "source": [
    "# Compute statistics\n",
    "cor_mat = monthly_returns.corr() # Correlation matrix\n",
    "sd_ret = np.array(monthly_returns.std()) * np.sqrt(12)\n",
    "cov_mat = np.cov(monthly_returns.T) * 12"
   ]
  },
  {
   "cell_type": "code",
   "execution_count": 26,
   "metadata": {},
   "outputs": [
    {
     "name": "stdout",
     "output_type": "stream",
     "text": [
      "Standard deviation of composite\n",
      "0.06906767647382618\n"
     ]
    }
   ],
   "source": [
    "# Standard deviation of composite\n",
    "sd_composite = np.sqrt(np.dot(np.dot(weights,cov_mat),weights))\n",
    "print(\"Standard deviation of composite\")\n",
    "print(sd_composite)"
   ]
  },
  {
   "cell_type": "code",
   "execution_count": 27,
   "metadata": {},
   "outputs": [],
   "source": [
    "# Input: \n",
    "rF = 0.01 # risk free rate\n",
    "r_SP = 0.10 # Expected return on S&P 500"
   ]
  },
  {
   "cell_type": "code",
   "execution_count": 28,
   "metadata": {},
   "outputs": [
    {
     "name": "stdout",
     "output_type": "stream",
     "text": [
      "Implied Returns\n",
      "GSPC    0.100000\n",
      "ACWI    0.102991\n",
      "RUT     0.092152\n",
      "EEM     0.115901\n",
      "BND     0.013045\n",
      "dtype: float64\n"
     ]
    }
   ],
   "source": [
    "# Implied Returns\n",
    "implied_ret = pd.Series(np.dot(cov_mat,weights), index=tickers)\n",
    "implied_ret = (implied_ret * ( r_SP - rF ) ) / implied_ret.loc[\"GSPC\"] + rF\n",
    "print(\"Implied Returns\")\n",
    "print(implied_ret)"
   ]
  },
  {
   "cell_type": "code",
   "execution_count": 29,
   "metadata": {},
   "outputs": [
    {
     "data": {
      "text/plain": [
       "<AxesSubplot:title={'center':'Expected Returns for Asset Classes'}, ylabel='Expected return'>"
      ]
     },
     "execution_count": 29,
     "metadata": {},
     "output_type": "execute_result"
    },
    {
     "data": {
      "image/png": "[encoded data removed]",
      "text/plain": [
       "<Figure size 432x288 with 1 Axes>"
      ]
     },
     "metadata": {
      "needs_background": "light"
     },
     "output_type": "display_data"
    }
   ],
   "source": [
    "implied_ret.plot(kind='bar',title = \"Expected Returns for Asset Classes\", ylabel= \"Expected return\")"
   ]
  }
 ],
 "metadata": {
  "kernelspec": {
   "display_name": "Python 3 (ipykernel)",
   "language": "python",
   "name": "python3"
  },
  "language_info": {
   "codemirror_mode": {
    "name": "ipython",
    "version": 3
   },
   "file_extension": ".py",
   "mimetype": "text/x-python",
   "name": "python",
   "nbconvert_exporter": "python",
   "pygments_lexer": "ipython3",
   "version": "3.9.7"
  }
 },
 "nbformat": 4,
 "nbformat_minor": 4
}
