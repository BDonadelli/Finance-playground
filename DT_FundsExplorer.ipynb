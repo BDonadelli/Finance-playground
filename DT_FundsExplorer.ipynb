{
 "cells": [
  {
   "cell_type": "code",
   "execution_count": 1,
   "metadata": {},
   "outputs": [],
   "source": [
    "from selenium import webdriver\n",
    "driver=webdriver.Firefox()\n",
    "driver.implicitly_wait(3)\n",
    "driver.get(\"https://www.fundsexplorer.com.br/ranking\")"
   ]
  },
  {
   "cell_type": "code",
   "execution_count": 2,
   "metadata": {},
   "outputs": [],
   "source": [
    "from selenium.webdriver.common.by import By\n",
    "fecha_aceitar = '//*[@id=\"hs-eu-confirmation-button\"]'#\"/html/body/div[2]/div/div[2]/div/a\"\n",
    "driver.find_element(By.XPATH,fecha_aceitar).click()"
   ]
  },
  {
   "cell_type": "code",
   "execution_count": 3,
   "metadata": {},
   "outputs": [],
   "source": [
    "#-------------# Muda o contexto para o iframe \n",
    "iframe_element = driver.find_element(By.XPATH, \"//iframe[@title='Popup CTA']\")\n",
    "driver.switch_to.frame(iframe_element)\n",
    "# Encontra o botão \"X\" dentro do iframe\n",
    "close_button = driver.find_element(By.XPATH, \"/html/body/div/div[1]\")\n",
    "# Clique no botão \"X\"\n",
    "close_button.click()\n",
    "# Volte para o contexto principal\n",
    "driver.switch_to.default_content()\n",
    "#------------------------------------\n"
   ]
  },
  {
   "cell_type": "code",
   "execution_count": 4,
   "metadata": {},
   "outputs": [],
   "source": [
    "# Scroll up the window by a specific number of pixels\n",
    "# For example, scroll up by 200 pixels\n",
    "scroll_distance = 500\n",
    "driver.execute_script(f\"window.scrollBy(0, {scroll_distance});\")"
   ]
  },
  {
   "cell_type": "code",
   "execution_count": 5,
   "metadata": {},
   "outputs": [],
   "source": [
    "driver.find_element(By.XPATH,'//*[@id=\"colunas-ranking__select-button\"]').click()\n",
    "driver.find_element(By.XPATH,'/html/body/div[7]/div[1]/div/div[2]/div[2]/ul/li[1]/label').click()"
   ]
  },
  {
   "cell_type": "code",
   "execution_count": null,
   "metadata": {},
   "outputs": [],
   "source": [
    "from io import StringIO\n",
    "import pandas as pd\n",
    "\n",
    "html_str = driver.page_source\n",
    "tabelas_html = pd.read_html(StringIO(html_str))\n",
    "\n",
    "df=tabelas_html[0]"
   ]
  },
  {
   "cell_type": "code",
   "execution_count": null,
   "metadata": {},
   "outputs": [],
   "source": [
    "# dados = []\n",
    "# dadosTabela = driver.find_element(By.XPATH,'//div/table[contains(@class,\"default-fiis-table__container__table\")]')\n",
    "\n",
    "# #print(dadosTabela.text)  \n",
    "\n",
    "# for linha in dadosTabela.find_elements(By.TAG_NAME,\"tr\") :\n",
    "#     linhaDados = []\n",
    "#     for coluna in linha.find_elements(By.TAG_NAME,\"td\"):\n",
    "#         # print(coluna)\n",
    "#         linhaDados.append(coluna.text)\n",
    "#     dados.append(linhaDados)\n",
    "\n",
    "\n",
    "# import pandas as pd\n",
    "# colunas = ['Fundos','Setor','Preço Atual (R$)','Liquidez Diária (R$)',#\n",
    "#     'P/VP','Último Dividendo','Dividend Yield','DY (3M) Acumulado',#\n",
    "#     'DY (6M) Acumulado','DY (12M) Acumulado','DY (3M) média','DY (6M) média',#\n",
    "#     'DY (12M) média','DY Ano','Variação Preço','Rentab. Período','Rentab. Acumulada',#\n",
    "#     'Patrimônio Líquido','VPA','P/VPA','DY Patrimonial','Variação Patrimonial',#\n",
    "#     'Rentab. Patr. Período','Rentab. Patr. Acumulada','Quant. Ativos' ,'Volatilidade' , #\n",
    "#     'Num. Cotistas' , 'Tax. Gestão' , 'Tax. Performance' , 'Tax. Administração']\n",
    "\n",
    "# df = pd.DataFrame(dados,columns=colunas)\n",
    "\n"
   ]
  },
  {
   "cell_type": "code",
   "execution_count": 13,
   "metadata": {},
   "outputs": [],
   "source": [
    "import os\n",
    "data_path = str(os.getcwd()) + r\"/data/\""
   ]
  },
  {
   "cell_type": "code",
   "execution_count": 14,
   "metadata": {},
   "outputs": [],
   "source": [
    "df.to_csv( data_path+\"FE.csv\" , sep=\";\" , decimal=\",\" )"
   ]
  },
  {
   "cell_type": "code",
   "execution_count": 15,
   "metadata": {},
   "outputs": [],
   "source": [
    "driver.close()"
   ]
  }
 ],
 "metadata": {
  "kernelspec": {
   "display_name": "pythorix",
   "language": "python",
   "name": "python3"
  },
  "language_info": {
   "codemirror_mode": {
    "name": "ipython",
    "version": 3
   },
   "file_extension": ".py",
   "mimetype": "text/x-python",
   "name": "python",
   "nbconvert_exporter": "python",
   "pygments_lexer": "ipython3",
   "version": "3.11.2"
  }
 },
 "nbformat": 4,
 "nbformat_minor": 2
}
