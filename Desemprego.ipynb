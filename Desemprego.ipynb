{
  "cells": [
    {
      "cell_type": "markdown",
      "metadata": {},
      "source": [
        "### Análise Comparativa: Taxa de Desemprego PNAD Contínua vs PME\n",
        "================================================================\n",
        "\n",
        "Este script realiza uma análise comparativa entre as séries de desemprego da \n",
        "PNAD Contínua e da Pesquisa Mensal de Emprego (PME)\n",
        "\n",
        "A PNAD Contínua é a principal pesquisa de força de trabalho do Brasil,\n",
        "iniciada em 2012. Produz estatísticas mensais sobre desemprego, ocupação\n",
        "e outras características do mercado de trabalho.\n",
        "\n",
        " Fluxo de execução:\n",
        " 1. Carregamento dos dados (PME e PNAD Contínua)\n",
        " 2. Análise de correlação e regressão\n",
        " 3. Ampliação da série PNAD usando modelo\n",
        " 4. Dessazonalização (opcional)\n",
        " 5. Geração de visualizações"
      ]
    },
    {
      "cell_type": "markdown",
      "metadata": {},
      "source": [
        "#### Bibliotecas e configurações"
      ]
    },
    {
      "cell_type": "code",
      "execution_count": 1,
      "metadata": {
        "id": "3-OSuxTtzN-x"
      },
      "outputs": [],
      "source": [
        "# Carrega bibliotecas\n",
        "import pandas as pd\n",
        "import numpy as np\n",
        "from bcb import sgs\n",
        "from datetime import datetime\n",
        "import statsmodels.api as sm\n",
        "from statsmodels.tsa import x13# Ajuste sazonal\n",
        "import plotly.graph_objects as go\n",
        "import os\n",
        "import warnings\n",
        "\n",
        "# Configurações gerais\n",
        "warnings.filterwarnings('ignore')\n",
        "pd.set_option('display.max_columns', None)\n",
        "\n",
        "# Dicionário de cores para visualizações\n",
        "COLORS = {\n",
        "    'pnad': '#282f6b',\n",
        "    'blue': '#282f6b',\n",
        "    'pme': '#eace3f',\n",
        "    'yellow': '#eace3f',\n",
        "    'red': '#b22200',\n",
        "    'green': '#224f20',\n",
        "    'purple': '#5f487c',\n",
        "    'gray': '#666666',\n",
        "    'orange': '#b35c1e'\n",
        "}\n"
      ]
    },
    {
      "cell_type": "markdown",
      "metadata": {},
      "source": [
        "#### Datas"
      ]
    },
    {
      "cell_type": "code",
      "execution_count": 2,
      "metadata": {},
      "outputs": [],
      "source": [
        "# Configurações de datas\n",
        "PME_START_DATE = '2002-03'\n",
        "PME_END_DATE = '2016-02'\n",
        "PNAD_SERIES_CODE = 24369"
      ]
    },
    {
      "cell_type": "markdown",
      "metadata": {},
      "source": [
        "#### CARREGAMENTO E PREPARAÇÃO DOS DADOS"
      ]
    },
    {
      "cell_type": "code",
      "execution_count": 3,
      "metadata": {},
      "outputs": [
        {
          "name": "stdout",
          "output_type": "stream",
          "text": [
            "✓ Dados PME carregados: 168 observações de 2002-03 a 2016-02\n",
            "✓ Dados PNAD Contínua carregados: 161 observações\n",
            "  Período: 03/2012 a 07/2025\n",
            " Séries combinadas:\n",
            " Total de observações: 281\n",
            " Período de sobreposição: 48 observações\n"
          ]
        }
      ],
      "source": [
        "filepath='data/pme.csv'\n",
        "\n",
        "try:\n",
        "    # Carrega arquivo CSV com separador ';' e decimal ','\n",
        "    pme_raw = pd.read_csv(filepath, sep=';', decimal=',')\n",
        "    \n",
        "    # Cria range de datas mensais para o período da PME\n",
        "    start_date = pd.to_datetime(PME_START_DATE)\n",
        "    end_date = pd.to_datetime(PME_END_DATE)\n",
        "    date_range = pd.date_range(start=start_date, end=end_date, freq='MS')\n",
        "    \n",
        "    # Prepara DataFrame final\n",
        "    pme_data = pd.DataFrame({\n",
        "        'Date': date_range,\n",
        "        'pme': pme_raw['pme'].values\n",
        "    })\n",
        "    \n",
        "    # Define data como índice\n",
        "    pme_data.set_index('Date', inplace=True)\n",
        "    \n",
        "    print(f\"✓ Dados PME carregados: {len(pme_data)} observações de {PME_START_DATE} a {PME_END_DATE}\")\n",
        "    \n",
        "    \n",
        "except FileNotFoundError:\n",
        "    print(f\"⚠ Arquivo não encontrado: {filepath}\")\n",
        "    pme_data = None\n",
        "except Exception as e:\n",
        "    print(f\"⚠ Erro ao carregar dados PME: {e}\")\n",
        "    pme_data = None\n",
        "\n",
        "\"\"\"\n",
        "Carrega dados da PNAD Contínua via API do Banco Central (SGS).\n",
        "\"\"\"\n",
        "try:\n",
        "    # Baixa série histórica via API do BCB\n",
        "    pnad_data = sgs.get({'pnad': PNAD_SERIES_CODE})\n",
        "    \n",
        "    print(f\"✓ Dados PNAD Contínua carregados: {len(pnad_data)} observações\")\n",
        "    print(f\"  Período: {pnad_data.index.min().strftime('%m/%Y')} a {pnad_data.index.max().strftime('%m/%Y')}\")\n",
        "    \n",
        "        \n",
        "except Exception as e:\n",
        "    print(f\"⚠ Erro ao carregar dados PNAD: {e}\")\n",
        "    pnad_data = None\n",
        "\n",
        "\n",
        "\"\"\"\n",
        "Combina as séries de desemprego da PNAD Contínua e PME.\n",
        "Realiza junção externa (outer join) para preservar todas as observações\n",
        "de ambas as séries, mesmo nos períodos onde apenas uma está disponível.\n",
        "- dados_completos: série completa com ambas as pesquisas\n",
        "- dados_overlap: apenas período de sobreposição (2012-2016)\n",
        "\"\"\"\n",
        "if pme_data is not None and  pme_data is not None:\n",
        "    # Junção completa (outer join) - preserva todas as observações\n",
        "    dados_completos = pnad_data.join(pme_data, how='outer')\n",
        "    # Junção apenas período de sobreposição (inner join)\n",
        "    dados_overlap = pnad_data.join(pme_data, how='inner').reset_index()\n",
        "    print(f\" Séries combinadas:\")\n",
        "    print(f\" Total de observações: {len(dados_completos)}\")\n",
        "    print(f\" Período de sobreposição: {len(dados_overlap)} observações\")\n",
        "\n",
        "else: \n",
        "    dados_completos = dados_overlap = None\n",
        "\n"
      ]
    },
    {
      "cell_type": "markdown",
      "metadata": {},
      "source": [
        "#### ANÁLISE ESTATÍSTICA"
      ]
    },
    {
      "cell_type": "code",
      "execution_count": 4,
      "metadata": {},
      "outputs": [
        {
          "name": "stdout",
          "output_type": "stream",
          "text": [
            "\n",
            "============================================================\n",
            "ANÁLISE DE CORRELAÇÃO E REGRESSÃO\n",
            "============================================================\n",
            "\n",
            "ESTATÍSTICAS DESCRITIVAS:\n",
            "            pnad        pme\n",
            "count  48.000000  48.000000\n",
            "mean    7.577083   5.730090\n",
            "std     0.905360   1.010961\n",
            "min     6.200000   4.304397\n",
            "25%     6.900000   4.892217\n",
            "50%     7.350000   5.443909\n",
            "75%     8.000000   6.147074\n",
            "max    10.300000   8.201058\n",
            "\n",
            "Correlação PNAD vs PME: 0.9615\n",
            "\n",
            "RESULTADOS DA REGRESSÃO:\n",
            "                            OLS Regression Results                            \n",
            "==============================================================================\n",
            "Dep. Variable:                   pnad   R-squared:                       0.924\n",
            "Model:                            OLS   Adj. R-squared:                  0.923\n",
            "Method:                 Least Squares   F-statistic:                     562.5\n",
            "Date:                Fri, 26 Sep 2025   Prob (F-statistic):           1.95e-27\n",
            "Time:                        10:39:41   Log-Likelihood:               -0.85687\n",
            "No. Observations:                  48   AIC:                             5.714\n",
            "Df Residuals:                      46   BIC:                             9.456\n",
            "Df Model:                           1                                         \n",
            "Covariance Type:            nonrobust                                         \n",
            "==============================================================================\n",
            "                 coef    std err          t      P>|t|      [0.025      0.975]\n",
            "------------------------------------------------------------------------------\n",
            "Intercept      2.6433      0.211     12.517      0.000       2.218       3.068\n",
            "pme            0.8610      0.036     23.716      0.000       0.788       0.934\n",
            "==============================================================================\n",
            "Omnibus:                        2.257   Durbin-Watson:                   0.941\n",
            "Prob(Omnibus):                  0.323   Jarque-Bera (JB):                2.163\n",
            "Skew:                           0.470   Prob(JB):                        0.339\n",
            "Kurtosis:                       2.555   Cond. No.                         34.8\n",
            "==============================================================================\n",
            "\n",
            "Notes:\n",
            "[1] Standard Errors assume that the covariance matrix of the errors is correctly specified.\n"
          ]
        }
      ],
      "source": [
        "\"\"\"\n",
        "Realiza análise de correlação e regressão linear entre PNAD e PME.\n",
        "\n",
        "A regressão linear permite estabelecer uma relação quantitativa entre\n",
        "as duas séries, que será usada para ampliar a série PNAD Contínua\n",
        "retrospectivamente usando dados da PME.\n",
        "\n",
        "Parameters\n",
        "----------\n",
        "dados_overlap : pandas.DataFrame\n",
        "    Dados do período de sobreposição entre PNAD e PME\n",
        "    \n",
        "Returns\n",
        "-------\n",
        "statsmodels.regression.linear_model.RegressionResultsWrapper\n",
        "    Resultado da regressão linear\n",
        "\"\"\"\n",
        "print(\"\\n\" + \"=\"*60)\n",
        "print(\"ANÁLISE DE CORRELAÇÃO E REGRESSÃO\")\n",
        "print(\"=\"*60)\n",
        "\n",
        "# Estatísticas descritivas\n",
        "print(\"\\nESTATÍSTICAS DESCRITIVAS:\")\n",
        "print(dados_overlap[['pnad', 'pme']].describe())\n",
        "\n",
        "# Correlação entre as séries\n",
        "correlation = dados_overlap['pnad'].corr(dados_overlap['pme'])\n",
        "print(f\"\\nCorrelação PNAD vs PME: {correlation:.4f}\")\n",
        "\n",
        "# Regressão linear: PNAD = α + β * PME + ε\n",
        "formula = 'pnad ~ pme'\n",
        "regression_model = sm.OLS.from_formula(formula, data=dados_overlap).fit()\n",
        "\n",
        "print(\"\\nRESULTADOS DA REGRESSÃO:\")\n",
        "print(regression_model.summary())\n"
      ]
    },
    {
      "cell_type": "code",
      "execution_count": 5,
      "metadata": {},
      "outputs": [
        {
          "name": "stdout",
          "output_type": "stream",
          "text": [
            "\n",
            "============================================================\n",
            "AMPLIAÇÃO DA SÉRIE PNAD CONTÍNUA\n",
            "============================================================\n",
            "✓ Série PNAD ampliada para 120 observações adicionais\n",
            "  Equação: PNAD = 2.6433 + 0.8610 * PME\n",
            "  R² = 0.9244\n",
            "✓ Série final: 281 observações\n",
            "  Período: 03/2002 a 07/2025\n"
          ]
        }
      ],
      "source": [
        "\"\"\"\n",
        "Amplia a série PNAD Contínua usando o modelo de regressão e dados da PME.\n",
        "Para o período anterior a 2012 (quando a PNAD Contínua não existia),\n",
        "utiliza a equação de regressão para estimar valores da PNAD baseados\n",
        "nos dados da PME disponíveis.\n",
        "\n",
        "Parameters\n",
        "----------\n",
        "dados_completos : pandas.DataFrame\n",
        "    Série completa com dados de ambas as pesquisas\n",
        "regression_model : RegressionResults\n",
        "    Modelo de regressão ajustado\n",
        "    \n",
        "Returns\n",
        "-------\n",
        "pandas.DataFrame\n",
        "    Série PNAD Contínua ampliada para todo o período disponível\n",
        "\"\"\"\n",
        "print(\"\\n\" + \"=\"*60)\n",
        "print(\"AMPLIAÇÃO DA SÉRIE PNAD CONTÍNUA\")\n",
        "print(\"=\"*60)\n",
        "\n",
        "# Identifica período onde PNAD não existe mas PME existe\n",
        "dados_extensao = dados_completos[~dados_completos['pnad'].notna()].copy()\n",
        "\n",
        "if len(dados_extensao) > 0:\n",
        "    # Aplica modelo de regressão: PNAD_estimada = intercepto + coef * PME\n",
        "    intercepto = regression_model.params['Intercept']\n",
        "    coeficiente = regression_model.params['pme']\n",
        "    \n",
        "    dados_extensao['pnad'] = intercepto + coeficiente * dados_extensao['pme']\n",
        "    \n",
        "    print(f\"✓ Série PNAD ampliada para {len(dados_extensao)} observações adicionais\")\n",
        "    print(f\"  Equação: PNAD = {intercepto:.4f} + {coeficiente:.4f} * PME\")\n",
        "    print(f\"  R² = {regression_model.rsquared:.4f}\")\n",
        "else:\n",
        "    print(\"⚠ Nenhuma observação adicional para ampliar\")\n",
        "    # return dados_completos[['pnad']]\n",
        "\n",
        "# Combina série original + série ampliada\n",
        "serie_original = dados_completos[['pnad']].dropna()\n",
        "serie_ampliada = pd.concat([dados_extensao[['pnad']], serie_original])\n",
        "serie_ampliada.sort_index(inplace=True)\n",
        "\n",
        "print(f\"✓ Série final: {len(serie_ampliada)} observações\")\n",
        "print(f\"  Período: {serie_ampliada.index.min().strftime('%m/%Y')} a {serie_ampliada.index.max().strftime('%m/%Y')}\")\n"
      ]
    },
    {
      "cell_type": "markdown",
      "metadata": {},
      "source": [
        "#### DESSAZONALIZAÇÃO"
      ]
    },
    {
      "cell_type": "code",
      "execution_count": 6,
      "metadata": {},
      "outputs": [
        {
          "name": "stdout",
          "output_type": "stream",
          "text": [
            "\n",
            "============================================================\n",
            "CONFIGURAÇÃO X-13ARIMA-SEATS\n",
            "============================================================\n",
            "✓ Variável de ambiente X13PATH configurada\n"
          ]
        }
      ],
      "source": [
        "\"\"\"\n",
        "Configura o software X-13ARIMA-SEATS para dessazonalização.\n",
        "O X-13ARIMA-SEATS é o software oficial do U.S. Census Bureau para\n",
        "ajuste sazonal, amplamente utilizado por institutos estatísticos\n",
        "internacionais para dessazonalizar séries temporais.\n",
        "\"\"\"\n",
        "try:\n",
        "    print(\"\\n\" + \"=\"*60)\n",
        "    print(\"CONFIGURAÇÃO X-13ARIMA-SEATS\")\n",
        "    print(\"=\"*60)\n",
        "    \n",
        "    # Download e instalação do X-13 (para ambiente Colab/Linux)\n",
        "    if not os.path.exists('x13as'):\n",
        "        print(\"⬇ Baixando X-13ARIMA-SEATS...\")\n",
        "        os.system(\"wget -q https://www2.census.gov/software/x-13arima-seats/x13as/unix-linux/program-archives/x13as_ascii-v1-1-b59.tar.gz\")\n",
        "        os.system(\"tar --gunzip --extract --file=x13as_ascii-v1-1-b59.tar.gz\")\n",
        "        print(\"✓ X-13ARIMA-SEATS instalado\")\n",
        "    \n",
        "    # Define caminho como variável de ambiente\n",
        "    os.environ[\"X13PATH\"] = \"x13as\"\n",
        "    print(\"✓ Variável de ambiente X13PATH configurada\")\n",
        "        \n",
        "except Exception as e:\n",
        "    print(f\"⚠ Erro na configuração X-13: {e}\")"
      ]
    },
    {
      "cell_type": "code",
      "execution_count": 14,
      "metadata": {},
      "outputs": [
        {
          "name": "stdout",
          "output_type": "stream",
          "text": [
            "\n",
            "============================================================\n",
            "DESSAZONALIZAÇÃO DA SÉRIE\n",
            "============================================================\n",
            "⚙ Executando procedimento de dessazonalização...\n",
            "✓ Dessazonalização concluída\n",
            "  Método: X-13ARIMA-SEATS\n",
            "  Observações processadas: 281\n"
          ]
        }
      ],
      "source": [
        "\"\"\"\n",
        "Aplica dessazonalização à série PNAD Contínua ampliada.\n",
        "A dessazonalização remove padrões sazonais recorrentes, permitindo\n",
        "melhor análise das tendências de longo prazo e ciclos econômicos\n",
        "subjacentes na taxa de desemprego.\n",
        "\n",
        "Parameters\n",
        "----------\n",
        "serie_ampliada : pandas.DataFrame\n",
        "    Série PNAD Contínua ampliada\n",
        "    \n",
        "Returns\n",
        "-------\n",
        "pandas.DataFrame\n",
        "    DataFrame com séries original e dessazonalizada\n",
        "\"\"\"\n",
        "try:\n",
        "    print(\"\\n\" + \"=\"*60)\n",
        "    print(\"DESSAZONALIZAÇÃO DA SÉRIE\")\n",
        "    print(\"=\"*60)\n",
        "    \n",
        "    # Aplica X-13ARIMA-SEATS\n",
        "    print(\"⚙ Executando procedimento de dessazonalização...\")\n",
        "    x13_result = x13.x13_arima_analysis(endog=serie_ampliada['pnad'])\n",
        "    serie_dessazonalizada = x13_result.seasadj\n",
        "    \n",
        "    # Combina séries original e dessazonalizada\n",
        "    serie_final = pd.DataFrame({\n",
        "        'Date': serie_ampliada.index,\n",
        "        'pnad': serie_ampliada['pnad'].values,\n",
        "        'pnad_ampliada_sa': serie_dessazonalizada.values\n",
        "    })\n",
        "    \n",
        "    print(\"✓ Dessazonalização concluída\")\n",
        "    print(f\"  Método: X-13ARIMA-SEATS\")\n",
        "    print(f\"  Observações processadas: {len(resultado)}\")\n",
        "      \n",
        "except Exception as e:\n",
        "    print(f\"⚠ Erro na dessazonalização: {e}\")\n",
        "    # Retorna série original se dessazonalização falhar\n",
        "    serie_final = pd.DataFrame({\n",
        "        'Date': serie_ampliada.index,\n",
        "        'pnad': serie_ampliada['pnad'].values,\n",
        "        'pnad_ampliada_sa': serie_ampliada['pnad'].values  # Cópia da original\n",
        "    })\n"
      ]
    },
    {
      "cell_type": "markdown",
      "metadata": {},
      "source": [
        "#####  VISUALIZAÇÃO\n"
      ]
    },
    {
      "cell_type": "code",
      "execution_count": null,
      "metadata": {},
      "outputs": [
        {
          "data": {
            "application/vnd.plotly.v1+json": {
              "config": {
                "plotlyServerURL": "https://plot.ly"
              },
              "data": [
                {
                  "hovertemplate": "<b>%{fullData.name}</b><br>Data: %{x|%b/%Y}<br>Taxa: %{y:.1f}%<extra></extra>",
                  "line": {
                    "color": "#000000",
                    "width": 1.5
                  },
                  "marker": {
                    "size": 6
                  },
                  "mode": "lines+markers",
                  "name": "PNAD",
                  "type": "scatter",
                  "x": [
                    "2012-03-01T00:00:00.000000000",
                    "2012-04-01T00:00:00.000000000",
                    "2012-05-01T00:00:00.000000000",
                    "2012-06-01T00:00:00.000000000",
                    "2012-07-01T00:00:00.000000000",
                    "2012-08-01T00:00:00.000000000",
                    "2012-09-01T00:00:00.000000000",
                    "2012-10-01T00:00:00.000000000",
                    "2012-11-01T00:00:00.000000000",
                    "2012-12-01T00:00:00.000000000",
                    "2013-01-01T00:00:00.000000000",
                    "2013-02-01T00:00:00.000000000",
                    "2013-03-01T00:00:00.000000000",
                    "2013-04-01T00:00:00.000000000",
                    "2013-05-01T00:00:00.000000000",
                    "2013-06-01T00:00:00.000000000",
                    "2013-07-01T00:00:00.000000000",
                    "2013-08-01T00:00:00.000000000",
                    "2013-09-01T00:00:00.000000000",
                    "2013-10-01T00:00:00.000000000",
                    "2013-11-01T00:00:00.000000000",
                    "2013-12-01T00:00:00.000000000",
                    "2014-01-01T00:00:00.000000000",
                    "2014-02-01T00:00:00.000000000",
                    "2014-03-01T00:00:00.000000000",
                    "2014-04-01T00:00:00.000000000",
                    "2014-05-01T00:00:00.000000000",
                    "2014-06-01T00:00:00.000000000",
                    "2014-07-01T00:00:00.000000000",
                    "2014-08-01T00:00:00.000000000",
                    "2014-09-01T00:00:00.000000000",
                    "2014-10-01T00:00:00.000000000",
                    "2014-11-01T00:00:00.000000000",
                    "2014-12-01T00:00:00.000000000",
                    "2015-01-01T00:00:00.000000000",
                    "2015-02-01T00:00:00.000000000",
                    "2015-03-01T00:00:00.000000000",
                    "2015-04-01T00:00:00.000000000",
                    "2015-05-01T00:00:00.000000000",
                    "2015-06-01T00:00:00.000000000",
                    "2015-07-01T00:00:00.000000000",
                    "2015-08-01T00:00:00.000000000",
                    "2015-09-01T00:00:00.000000000",
                    "2015-10-01T00:00:00.000000000",
                    "2015-11-01T00:00:00.000000000",
                    "2015-12-01T00:00:00.000000000",
                    "2016-01-01T00:00:00.000000000",
                    "2016-02-01T00:00:00.000000000"
                  ],
                  "y": {
                    "bdata": "AAAAAAAAIEAzMzMzMzMfQM3MzMzMzB5AZmZmZmZmHkAAAAAAAAAeQDMzMzMzMx1AZmZmZmZmHECamZmZmZkbQDMzMzMzMxtAmpmZmZmZG0DNzMzMzMwcQDMzMzMzMx9AAAAAAAAAIECamZmZmZkfQGZmZmZmZh5AAAAAAAAAHkCamZmZmZkdQM3MzMzMzBxAAAAAAAAAHEAzMzMzMzMbQAAAAAAAABpAzczMzMzMGEAAAAAAAAAaQDMzMzMzMxtAzczMzMzMHEDNzMzMzMwcQAAAAAAAABxAmpmZmZmZG0AAAAAAAAAcQAAAAAAAABxAMzMzMzMzG0DNzMzMzMwaQGZmZmZmZhpAZmZmZmZmGkCamZmZmZkbQAAAAAAAAB5AAAAAAAAAIEAzMzMzMzMgQGZmZmZmZiBAzczMzMzMIEAzMzMzMzMhQJqZmZmZmSFAAAAAAAAAIkAzMzMzMzMiQDMzMzMzMyJAMzMzMzMzIkAzMzMzMzMjQJqZmZmZmSRA",
                    "dtype": "f8"
                  }
                },
                {
                  "hovertemplate": "<b>%{fullData.name}</b><br>Data: %{x|%b/%Y}<br>Taxa: %{y:.1f}%<extra></extra>",
                  "line": {
                    "color": "#000000",
                    "width": 1.5
                  },
                  "marker": {
                    "size": 6
                  },
                  "mode": "lines+markers",
                  "name": "PME",
                  "type": "scatter",
                  "x": [
                    "2012-03-01T00:00:00.000000000",
                    "2012-04-01T00:00:00.000000000",
                    "2012-05-01T00:00:00.000000000",
                    "2012-06-01T00:00:00.000000000",
                    "2012-07-01T00:00:00.000000000",
                    "2012-08-01T00:00:00.000000000",
                    "2012-09-01T00:00:00.000000000",
                    "2012-10-01T00:00:00.000000000",
                    "2012-11-01T00:00:00.000000000",
                    "2012-12-01T00:00:00.000000000",
                    "2013-01-01T00:00:00.000000000",
                    "2013-02-01T00:00:00.000000000",
                    "2013-03-01T00:00:00.000000000",
                    "2013-04-01T00:00:00.000000000",
                    "2013-05-01T00:00:00.000000000",
                    "2013-06-01T00:00:00.000000000",
                    "2013-07-01T00:00:00.000000000",
                    "2013-08-01T00:00:00.000000000",
                    "2013-09-01T00:00:00.000000000",
                    "2013-10-01T00:00:00.000000000",
                    "2013-11-01T00:00:00.000000000",
                    "2013-12-01T00:00:00.000000000",
                    "2014-01-01T00:00:00.000000000",
                    "2014-02-01T00:00:00.000000000",
                    "2014-03-01T00:00:00.000000000",
                    "2014-04-01T00:00:00.000000000",
                    "2014-05-01T00:00:00.000000000",
                    "2014-06-01T00:00:00.000000000",
                    "2014-07-01T00:00:00.000000000",
                    "2014-08-01T00:00:00.000000000",
                    "2014-09-01T00:00:00.000000000",
                    "2014-10-01T00:00:00.000000000",
                    "2014-11-01T00:00:00.000000000",
                    "2014-12-01T00:00:00.000000000",
                    "2015-01-01T00:00:00.000000000",
                    "2015-02-01T00:00:00.000000000",
                    "2015-03-01T00:00:00.000000000",
                    "2015-04-01T00:00:00.000000000",
                    "2015-05-01T00:00:00.000000000",
                    "2015-06-01T00:00:00.000000000",
                    "2015-07-01T00:00:00.000000000",
                    "2015-08-01T00:00:00.000000000",
                    "2015-09-01T00:00:00.000000000",
                    "2015-10-01T00:00:00.000000000",
                    "2015-11-01T00:00:00.000000000",
                    "2015-12-01T00:00:00.000000000",
                    "2016-01-01T00:00:00.000000000",
                    "2016-02-01T00:00:00.000000000"
                  ],
                  "y": {
                    "bdata": "jvT1vunWGEC1keM1TDIYQKAlEd9eKxdAO+ac1YtwF0BUs/ovf5MVQBwdpmmPQhVAFxlc9Me6FUDdw05Gz04VQEJaemx/mhNAAbCkVkSFEkDZjI/zV9IVQC90hXQBXhZABVGPHtOhFkA3NhDSIE0XQJBGfxTnMxdAItXGxCXUF0AkxOj7oWoWQLyivNh5ChVAhUbJDp6bFUA7WKYv6aEUQIZ3NVBLbRJA8q6Mo/hQEUBnccnotRgTQN3YbckKeRRATk1ecSwSFEBj1lP3PWITQEfquVwvcxNAgG8XvfogE0AUzidYB3cTQIyFQoDj6RNAFv+sNlVME0AlxxxSrJESQC6QCNymPRNAzjQxwrM3EUA9U85owh4VQDIGmQ7kUxdAIPMsASuBGEAg/ITmTHYZQPhvr+P3nhpA63DAIzR8G0D1rKvPw+UdQK/42QqSGx5Ai5r5H6oKHkCk/aITKEcfQMeXIIjL9h1Aykh00bvJG0AiviWWGjseQHPGuxnxZiBA",
                    "dtype": "f8"
                  }
                }
              ],
              "layout": {
                "annotations": [
                  {
                    "font": {
                      "size": 10
                    },
                    "showarrow": false,
                    "text": "Elaboração própria | Fonte: IBGE e BCB",
                    "x": 1,
                    "xanchor": "right",
                    "xref": "paper",
                    "y": -0.25,
                    "yref": "paper"
                  }
                ],
                "height": 300,
                "legend": {
                  "orientation": "h",
                  "title": {
                    "text": ""
                  },
                  "y": -0.15
                },
                "margin": {
                  "b": 80,
                  "l": 40,
                  "r": 40,
                  "t": 60
                },
                "template": {
                  "data": {
                    "bar": [
                      {
                        "error_x": {
                          "color": "#2a3f5f"
                        },
                        "error_y": {
                          "color": "#2a3f5f"
                        },
                        "marker": {
                          "line": {
                            "color": "white",
                            "width": 0.5
                          },
                          "pattern": {
                            "fillmode": "overlay",
                            "size": 10,
                            "solidity": 0.2
                          }
                        },
                        "type": "bar"
                      }
                    ],
                    "barpolar": [
                      {
                        "marker": {
                          "line": {
                            "color": "white",
                            "width": 0.5
                          },
                          "pattern": {
                            "fillmode": "overlay",
                            "size": 10,
                            "solidity": 0.2
                          }
                        },
                        "type": "barpolar"
                      }
                    ],
                    "carpet": [
                      {
                        "aaxis": {
                          "endlinecolor": "#2a3f5f",
                          "gridcolor": "#C8D4E3",
                          "linecolor": "#C8D4E3",
                          "minorgridcolor": "#C8D4E3",
                          "startlinecolor": "#2a3f5f"
                        },
                        "baxis": {
                          "endlinecolor": "#2a3f5f",
                          "gridcolor": "#C8D4E3",
                          "linecolor": "#C8D4E3",
                          "minorgridcolor": "#C8D4E3",
                          "startlinecolor": "#2a3f5f"
                        },
                        "type": "carpet"
                      }
                    ],
                    "choropleth": [
                      {
                        "colorbar": {
                          "outlinewidth": 0,
                          "ticks": ""
                        },
                        "type": "choropleth"
                      }
                    ],
                    "contour": [
                      {
                        "colorbar": {
                          "outlinewidth": 0,
                          "ticks": ""
                        },
                        "colorscale": [
                          [
                            0,
                            "#0d0887"
                          ],
                          [
                            0.1111111111111111,
                            "#46039f"
                          ],
                          [
                            0.2222222222222222,
                            "#7201a8"
                          ],
                          [
                            0.3333333333333333,
                            "#9c179e"
                          ],
                          [
                            0.4444444444444444,
                            "#bd3786"
                          ],
                          [
                            0.5555555555555556,
                            "#d8576b"
                          ],
                          [
                            0.6666666666666666,
                            "#ed7953"
                          ],
                          [
                            0.7777777777777778,
                            "#fb9f3a"
                          ],
                          [
                            0.8888888888888888,
                            "#fdca26"
                          ],
                          [
                            1,
                            "#f0f921"
                          ]
                        ],
                        "type": "contour"
                      }
                    ],
                    "contourcarpet": [
                      {
                        "colorbar": {
                          "outlinewidth": 0,
                          "ticks": ""
                        },
                        "type": "contourcarpet"
                      }
                    ],
                    "heatmap": [
                      {
                        "colorbar": {
                          "outlinewidth": 0,
                          "ticks": ""
                        },
                        "colorscale": [
                          [
                            0,
                            "#0d0887"
                          ],
                          [
                            0.1111111111111111,
                            "#46039f"
                          ],
                          [
                            0.2222222222222222,
                            "#7201a8"
                          ],
                          [
                            0.3333333333333333,
                            "#9c179e"
                          ],
                          [
                            0.4444444444444444,
                            "#bd3786"
                          ],
                          [
                            0.5555555555555556,
                            "#d8576b"
                          ],
                          [
                            0.6666666666666666,
                            "#ed7953"
                          ],
                          [
                            0.7777777777777778,
                            "#fb9f3a"
                          ],
                          [
                            0.8888888888888888,
                            "#fdca26"
                          ],
                          [
                            1,
                            "#f0f921"
                          ]
                        ],
                        "type": "heatmap"
                      }
                    ],
                    "histogram": [
                      {
                        "marker": {
                          "pattern": {
                            "fillmode": "overlay",
                            "size": 10,
                            "solidity": 0.2
                          }
                        },
                        "type": "histogram"
                      }
                    ],
                    "histogram2d": [
                      {
                        "colorbar": {
                          "outlinewidth": 0,
                          "ticks": ""
                        },
                        "colorscale": [
                          [
                            0,
                            "#0d0887"
                          ],
                          [
                            0.1111111111111111,
                            "#46039f"
                          ],
                          [
                            0.2222222222222222,
                            "#7201a8"
                          ],
                          [
                            0.3333333333333333,
                            "#9c179e"
                          ],
                          [
                            0.4444444444444444,
                            "#bd3786"
                          ],
                          [
                            0.5555555555555556,
                            "#d8576b"
                          ],
                          [
                            0.6666666666666666,
                            "#ed7953"
                          ],
                          [
                            0.7777777777777778,
                            "#fb9f3a"
                          ],
                          [
                            0.8888888888888888,
                            "#fdca26"
                          ],
                          [
                            1,
                            "#f0f921"
                          ]
                        ],
                        "type": "histogram2d"
                      }
                    ],
                    "histogram2dcontour": [
                      {
                        "colorbar": {
                          "outlinewidth": 0,
                          "ticks": ""
                        },
                        "colorscale": [
                          [
                            0,
                            "#0d0887"
                          ],
                          [
                            0.1111111111111111,
                            "#46039f"
                          ],
                          [
                            0.2222222222222222,
                            "#7201a8"
                          ],
                          [
                            0.3333333333333333,
                            "#9c179e"
                          ],
                          [
                            0.4444444444444444,
                            "#bd3786"
                          ],
                          [
                            0.5555555555555556,
                            "#d8576b"
                          ],
                          [
                            0.6666666666666666,
                            "#ed7953"
                          ],
                          [
                            0.7777777777777778,
                            "#fb9f3a"
                          ],
                          [
                            0.8888888888888888,
                            "#fdca26"
                          ],
                          [
                            1,
                            "#f0f921"
                          ]
                        ],
                        "type": "histogram2dcontour"
                      }
                    ],
                    "mesh3d": [
                      {
                        "colorbar": {
                          "outlinewidth": 0,
                          "ticks": ""
                        },
                        "type": "mesh3d"
                      }
                    ],
                    "parcoords": [
                      {
                        "line": {
                          "colorbar": {
                            "outlinewidth": 0,
                            "ticks": ""
                          }
                        },
                        "type": "parcoords"
                      }
                    ],
                    "pie": [
                      {
                        "automargin": true,
                        "type": "pie"
                      }
                    ],
                    "scatter": [
                      {
                        "fillpattern": {
                          "fillmode": "overlay",
                          "size": 10,
                          "solidity": 0.2
                        },
                        "type": "scatter"
                      }
                    ],
                    "scatter3d": [
                      {
                        "line": {
                          "colorbar": {
                            "outlinewidth": 0,
                            "ticks": ""
                          }
                        },
                        "marker": {
                          "colorbar": {
                            "outlinewidth": 0,
                            "ticks": ""
                          }
                        },
                        "type": "scatter3d"
                      }
                    ],
                    "scattercarpet": [
                      {
                        "marker": {
                          "colorbar": {
                            "outlinewidth": 0,
                            "ticks": ""
                          }
                        },
                        "type": "scattercarpet"
                      }
                    ],
                    "scattergeo": [
                      {
                        "marker": {
                          "colorbar": {
                            "outlinewidth": 0,
                            "ticks": ""
                          }
                        },
                        "type": "scattergeo"
                      }
                    ],
                    "scattergl": [
                      {
                        "marker": {
                          "colorbar": {
                            "outlinewidth": 0,
                            "ticks": ""
                          }
                        },
                        "type": "scattergl"
                      }
                    ],
                    "scattermap": [
                      {
                        "marker": {
                          "colorbar": {
                            "outlinewidth": 0,
                            "ticks": ""
                          }
                        },
                        "type": "scattermap"
                      }
                    ],
                    "scattermapbox": [
                      {
                        "marker": {
                          "colorbar": {
                            "outlinewidth": 0,
                            "ticks": ""
                          }
                        },
                        "type": "scattermapbox"
                      }
                    ],
                    "scatterpolar": [
                      {
                        "marker": {
                          "colorbar": {
                            "outlinewidth": 0,
                            "ticks": ""
                          }
                        },
                        "type": "scatterpolar"
                      }
                    ],
                    "scatterpolargl": [
                      {
                        "marker": {
                          "colorbar": {
                            "outlinewidth": 0,
                            "ticks": ""
                          }
                        },
                        "type": "scatterpolargl"
                      }
                    ],
                    "scatterternary": [
                      {
                        "marker": {
                          "colorbar": {
                            "outlinewidth": 0,
                            "ticks": ""
                          }
                        },
                        "type": "scatterternary"
                      }
                    ],
                    "surface": [
                      {
                        "colorbar": {
                          "outlinewidth": 0,
                          "ticks": ""
                        },
                        "colorscale": [
                          [
                            0,
                            "#0d0887"
                          ],
                          [
                            0.1111111111111111,
                            "#46039f"
                          ],
                          [
                            0.2222222222222222,
                            "#7201a8"
                          ],
                          [
                            0.3333333333333333,
                            "#9c179e"
                          ],
                          [
                            0.4444444444444444,
                            "#bd3786"
                          ],
                          [
                            0.5555555555555556,
                            "#d8576b"
                          ],
                          [
                            0.6666666666666666,
                            "#ed7953"
                          ],
                          [
                            0.7777777777777778,
                            "#fb9f3a"
                          ],
                          [
                            0.8888888888888888,
                            "#fdca26"
                          ],
                          [
                            1,
                            "#f0f921"
                          ]
                        ],
                        "type": "surface"
                      }
                    ],
                    "table": [
                      {
                        "cells": {
                          "fill": {
                            "color": "#EBF0F8"
                          },
                          "line": {
                            "color": "white"
                          }
                        },
                        "header": {
                          "fill": {
                            "color": "#C8D4E3"
                          },
                          "line": {
                            "color": "white"
                          }
                        },
                        "type": "table"
                      }
                    ]
                  },
                  "layout": {
                    "annotationdefaults": {
                      "arrowcolor": "#2a3f5f",
                      "arrowhead": 0,
                      "arrowwidth": 1
                    },
                    "autotypenumbers": "strict",
                    "coloraxis": {
                      "colorbar": {
                        "outlinewidth": 0,
                        "ticks": ""
                      }
                    },
                    "colorscale": {
                      "diverging": [
                        [
                          0,
                          "#8e0152"
                        ],
                        [
                          0.1,
                          "#c51b7d"
                        ],
                        [
                          0.2,
                          "#de77ae"
                        ],
                        [
                          0.3,
                          "#f1b6da"
                        ],
                        [
                          0.4,
                          "#fde0ef"
                        ],
                        [
                          0.5,
                          "#f7f7f7"
                        ],
                        [
                          0.6,
                          "#e6f5d0"
                        ],
                        [
                          0.7,
                          "#b8e186"
                        ],
                        [
                          0.8,
                          "#7fbc41"
                        ],
                        [
                          0.9,
                          "#4d9221"
                        ],
                        [
                          1,
                          "#276419"
                        ]
                      ],
                      "sequential": [
                        [
                          0,
                          "#0d0887"
                        ],
                        [
                          0.1111111111111111,
                          "#46039f"
                        ],
                        [
                          0.2222222222222222,
                          "#7201a8"
                        ],
                        [
                          0.3333333333333333,
                          "#9c179e"
                        ],
                        [
                          0.4444444444444444,
                          "#bd3786"
                        ],
                        [
                          0.5555555555555556,
                          "#d8576b"
                        ],
                        [
                          0.6666666666666666,
                          "#ed7953"
                        ],
                        [
                          0.7777777777777778,
                          "#fb9f3a"
                        ],
                        [
                          0.8888888888888888,
                          "#fdca26"
                        ],
                        [
                          1,
                          "#f0f921"
                        ]
                      ],
                      "sequentialminus": [
                        [
                          0,
                          "#0d0887"
                        ],
                        [
                          0.1111111111111111,
                          "#46039f"
                        ],
                        [
                          0.2222222222222222,
                          "#7201a8"
                        ],
                        [
                          0.3333333333333333,
                          "#9c179e"
                        ],
                        [
                          0.4444444444444444,
                          "#bd3786"
                        ],
                        [
                          0.5555555555555556,
                          "#d8576b"
                        ],
                        [
                          0.6666666666666666,
                          "#ed7953"
                        ],
                        [
                          0.7777777777777778,
                          "#fb9f3a"
                        ],
                        [
                          0.8888888888888888,
                          "#fdca26"
                        ],
                        [
                          1,
                          "#f0f921"
                        ]
                      ]
                    },
                    "colorway": [
                      "#636efa",
                      "#EF553B",
                      "#00cc96",
                      "#ab63fa",
                      "#FFA15A",
                      "#19d3f3",
                      "#FF6692",
                      "#B6E880",
                      "#FF97FF",
                      "#FECB52"
                    ],
                    "font": {
                      "color": "#2a3f5f"
                    },
                    "geo": {
                      "bgcolor": "white",
                      "lakecolor": "white",
                      "landcolor": "white",
                      "showlakes": true,
                      "showland": true,
                      "subunitcolor": "#C8D4E3"
                    },
                    "hoverlabel": {
                      "align": "left"
                    },
                    "hovermode": "closest",
                    "mapbox": {
                      "style": "light"
                    },
                    "paper_bgcolor": "white",
                    "plot_bgcolor": "white",
                    "polar": {
                      "angularaxis": {
                        "gridcolor": "#EBF0F8",
                        "linecolor": "#EBF0F8",
                        "ticks": ""
                      },
                      "bgcolor": "white",
                      "radialaxis": {
                        "gridcolor": "#EBF0F8",
                        "linecolor": "#EBF0F8",
                        "ticks": ""
                      }
                    },
                    "scene": {
                      "xaxis": {
                        "backgroundcolor": "white",
                        "gridcolor": "#DFE8F3",
                        "gridwidth": 2,
                        "linecolor": "#EBF0F8",
                        "showbackground": true,
                        "ticks": "",
                        "zerolinecolor": "#EBF0F8"
                      },
                      "yaxis": {
                        "backgroundcolor": "white",
                        "gridcolor": "#DFE8F3",
                        "gridwidth": 2,
                        "linecolor": "#EBF0F8",
                        "showbackground": true,
                        "ticks": "",
                        "zerolinecolor": "#EBF0F8"
                      },
                      "zaxis": {
                        "backgroundcolor": "white",
                        "gridcolor": "#DFE8F3",
                        "gridwidth": 2,
                        "linecolor": "#EBF0F8",
                        "showbackground": true,
                        "ticks": "",
                        "zerolinecolor": "#EBF0F8"
                      }
                    },
                    "shapedefaults": {
                      "line": {
                        "color": "#2a3f5f"
                      }
                    },
                    "ternary": {
                      "aaxis": {
                        "gridcolor": "#DFE8F3",
                        "linecolor": "#A2B1C6",
                        "ticks": ""
                      },
                      "baxis": {
                        "gridcolor": "#DFE8F3",
                        "linecolor": "#A2B1C6",
                        "ticks": ""
                      },
                      "bgcolor": "white",
                      "caxis": {
                        "gridcolor": "#DFE8F3",
                        "linecolor": "#A2B1C6",
                        "ticks": ""
                      }
                    },
                    "title": {
                      "x": 0.05
                    },
                    "xaxis": {
                      "automargin": true,
                      "gridcolor": "#EBF0F8",
                      "linecolor": "#EBF0F8",
                      "ticks": "",
                      "title": {
                        "standoff": 15
                      },
                      "zerolinecolor": "#EBF0F8",
                      "zerolinewidth": 2
                    },
                    "yaxis": {
                      "automargin": true,
                      "gridcolor": "#EBF0F8",
                      "linecolor": "#EBF0F8",
                      "ticks": "",
                      "title": {
                        "standoff": 15
                      },
                      "zerolinecolor": "#EBF0F8",
                      "zerolinewidth": 2
                    }
                  }
                },
                "title": {
                  "text": "Taxa de Desemprego: PNAD Contínua vs. PME"
                },
                "width": 600,
                "xaxis": {
                  "title": {
                    "text": ""
                  }
                },
                "yaxis": {
                  "title": {
                    "text": "% População Economicamente Ativa"
                  }
                }
              }
            }
          },
          "metadata": {},
          "output_type": "display_data"
        }
      ],
      "source": [
        "\"\"\"\n",
        "Cria gráfico comparativo entre PNAD Contínua e PME.\n",
        "\"\"\"\n",
        "title=\"Taxa de Desemprego: PNAD Contínua vs. PME\"\n",
        "\n",
        "# Converte para formato long\n",
        "dados_long = dados_overlap.melt(id_vars=['Date'], var_name='variable', value_name='value')\n",
        "\n",
        "fig = go.Figure()\n",
        "\n",
        "# Adiciona uma série para cada variável\n",
        "for var in dados_long['variable'].unique():\n",
        "    df_var = dados_long[dados_long['variable'] == var]\n",
        "    \n",
        "    fig.add_trace(go.Scatter(\n",
        "        x=df_var['Date'],\n",
        "        y=df_var['value'],\n",
        "        mode='lines+markers',\n",
        "        name=var.upper(),\n",
        "        line=dict(color=COLORS.get(var, '#000000'), width=1.5),\n",
        "        marker=dict(size=6),\n",
        "        hovertemplate='<b>%{fullData.name}</b><br>' +\n",
        "                    'Data: %{x|%b/%Y}<br>' +\n",
        "                    'Taxa: %{y:.1f}%<extra></extra>'\n",
        "    ))\n",
        "\n",
        "# Layout do gráfico\n",
        "fig.update_layout(\n",
        "    title=title,\n",
        "    xaxis_title=\"\",\n",
        "    yaxis_title=\"% População Economicamente Ativa\",\n",
        "    legend_title=\"\",\n",
        "    legend=dict(orientation='h', y=-0.15),\n",
        "    template=\"plotly_white\",\n",
        "    height=300,\n",
        "    width=600,\n",
        "    margin=dict(l=40, r=40, t=60, b=80),\n",
        "    annotations=[\n",
        "        dict(\n",
        "            text=\"Fonte: IBGE e BCB\",\n",
        "            x=1, y=-0.25, xref='paper', yref='paper',\n",
        "            showarrow=False, font=dict(size=10), xanchor='right'\n",
        "        )\n",
        "    ]\n",
        ")\n",
        "\n",
        "fig.show()\n",
        "\n"
      ]
    },
    {
      "cell_type": "code",
      "execution_count": 20,
      "metadata": {},
      "outputs": [
        {
          "data": {
            "application/vnd.plotly.v1+json": {
              "config": {
                "plotlyServerURL": "https://plot.ly"
              },
              "data": [
                {
                  "hovertemplate": "<b>%{fullData.name}</b><br>Data: %{x|%b/%Y}<br>Taxa: %{y:.1f}%<extra></extra>",
                  "line": {
                    "color": "#282f6b",
                    "width": 1.5
                  },
                  "marker": {
                    "color": "#282f6b",
                    "size": 6
                  },
                  "mode": "lines+markers",
                  "name": "PNAD Contínua (original)",
                  "type": "scatter",
                  "x": [
                    "2002-03-01T00:00:00.000000000",
                    "2002-04-01T00:00:00.000000000",
                    "2002-05-01T00:00:00.000000000",
                    "2002-06-01T00:00:00.000000000",
                    "2002-07-01T00:00:00.000000000",
                    "2002-08-01T00:00:00.000000000",
                    "2002-09-01T00:00:00.000000000",
                    "2002-10-01T00:00:00.000000000",
                    "2002-11-01T00:00:00.000000000",
                    "2002-12-01T00:00:00.000000000",
                    "2003-01-01T00:00:00.000000000",
                    "2003-02-01T00:00:00.000000000",
                    "2003-03-01T00:00:00.000000000",
                    "2003-04-01T00:00:00.000000000",
                    "2003-05-01T00:00:00.000000000",
                    "2003-06-01T00:00:00.000000000",
                    "2003-07-01T00:00:00.000000000",
                    "2003-08-01T00:00:00.000000000",
                    "2003-09-01T00:00:00.000000000",
                    "2003-10-01T00:00:00.000000000",
                    "2003-11-01T00:00:00.000000000",
                    "2003-12-01T00:00:00.000000000",
                    "2004-01-01T00:00:00.000000000",
                    "2004-02-01T00:00:00.000000000",
                    "2004-03-01T00:00:00.000000000",
                    "2004-04-01T00:00:00.000000000",
                    "2004-05-01T00:00:00.000000000",
                    "2004-06-01T00:00:00.000000000",
                    "2004-07-01T00:00:00.000000000",
                    "2004-08-01T00:00:00.000000000",
                    "2004-09-01T00:00:00.000000000",
                    "2004-10-01T00:00:00.000000000",
                    "2004-11-01T00:00:00.000000000",
                    "2004-12-01T00:00:00.000000000",
                    "2005-01-01T00:00:00.000000000",
                    "2005-02-01T00:00:00.000000000",
                    "2005-03-01T00:00:00.000000000",
                    "2005-04-01T00:00:00.000000000",
                    "2005-05-01T00:00:00.000000000",
                    "2005-06-01T00:00:00.000000000",
                    "2005-07-01T00:00:00.000000000",
                    "2005-08-01T00:00:00.000000000",
                    "2005-09-01T00:00:00.000000000",
                    "2005-10-01T00:00:00.000000000",
                    "2005-11-01T00:00:00.000000000",
                    "2005-12-01T00:00:00.000000000",
                    "2006-01-01T00:00:00.000000000",
                    "2006-02-01T00:00:00.000000000",
                    "2006-03-01T00:00:00.000000000",
                    "2006-04-01T00:00:00.000000000",
                    "2006-05-01T00:00:00.000000000",
                    "2006-06-01T00:00:00.000000000",
                    "2006-07-01T00:00:00.000000000",
                    "2006-08-01T00:00:00.000000000",
                    "2006-09-01T00:00:00.000000000",
                    "2006-10-01T00:00:00.000000000",
                    "2006-11-01T00:00:00.000000000",
                    "2006-12-01T00:00:00.000000000",
                    "2007-01-01T00:00:00.000000000",
                    "2007-02-01T00:00:00.000000000",
                    "2007-03-01T00:00:00.000000000",
                    "2007-04-01T00:00:00.000000000",
                    "2007-05-01T00:00:00.000000000",
                    "2007-06-01T00:00:00.000000000",
                    "2007-07-01T00:00:00.000000000",
                    "2007-08-01T00:00:00.000000000",
                    "2007-09-01T00:00:00.000000000",
                    "2007-10-01T00:00:00.000000000",
                    "2007-11-01T00:00:00.000000000",
                    "2007-12-01T00:00:00.000000000",
                    "2008-01-01T00:00:00.000000000",
                    "2008-02-01T00:00:00.000000000",
                    "2008-03-01T00:00:00.000000000",
                    "2008-04-01T00:00:00.000000000",
                    "2008-05-01T00:00:00.000000000",
                    "2008-06-01T00:00:00.000000000",
                    "2008-07-01T00:00:00.000000000",
                    "2008-08-01T00:00:00.000000000",
                    "2008-09-01T00:00:00.000000000",
                    "2008-10-01T00:00:00.000000000",
                    "2008-11-01T00:00:00.000000000",
                    "2008-12-01T00:00:00.000000000",
                    "2009-01-01T00:00:00.000000000",
                    "2009-02-01T00:00:00.000000000",
                    "2009-03-01T00:00:00.000000000",
                    "2009-04-01T00:00:00.000000000",
                    "2009-05-01T00:00:00.000000000",
                    "2009-06-01T00:00:00.000000000",
                    "2009-07-01T00:00:00.000000000",
                    "2009-08-01T00:00:00.000000000",
                    "2009-09-01T00:00:00.000000000",
                    "2009-10-01T00:00:00.000000000",
                    "2009-11-01T00:00:00.000000000",
                    "2009-12-01T00:00:00.000000000",
                    "2010-01-01T00:00:00.000000000",
                    "2010-02-01T00:00:00.000000000",
                    "2010-03-01T00:00:00.000000000",
                    "2010-04-01T00:00:00.000000000",
                    "2010-05-01T00:00:00.000000000",
                    "2010-06-01T00:00:00.000000000",
                    "2010-07-01T00:00:00.000000000",
                    "2010-08-01T00:00:00.000000000",
                    "2010-09-01T00:00:00.000000000",
                    "2010-10-01T00:00:00.000000000",
                    "2010-11-01T00:00:00.000000000",
                    "2010-12-01T00:00:00.000000000",
                    "2011-01-01T00:00:00.000000000",
                    "2011-02-01T00:00:00.000000000",
                    "2011-03-01T00:00:00.000000000",
                    "2011-04-01T00:00:00.000000000",
                    "2011-05-01T00:00:00.000000000",
                    "2011-06-01T00:00:00.000000000",
                    "2011-07-01T00:00:00.000000000",
                    "2011-08-01T00:00:00.000000000",
                    "2011-09-01T00:00:00.000000000",
                    "2011-10-01T00:00:00.000000000",
                    "2011-11-01T00:00:00.000000000",
                    "2011-12-01T00:00:00.000000000",
                    "2012-01-01T00:00:00.000000000",
                    "2012-02-01T00:00:00.000000000",
                    "2012-03-01T00:00:00.000000000",
                    "2012-04-01T00:00:00.000000000",
                    "2012-05-01T00:00:00.000000000",
                    "2012-06-01T00:00:00.000000000",
                    "2012-07-01T00:00:00.000000000",
                    "2012-08-01T00:00:00.000000000",
                    "2012-09-01T00:00:00.000000000",
                    "2012-10-01T00:00:00.000000000",
                    "2012-11-01T00:00:00.000000000",
                    "2012-12-01T00:00:00.000000000",
                    "2013-01-01T00:00:00.000000000",
                    "2013-02-01T00:00:00.000000000",
                    "2013-03-01T00:00:00.000000000",
                    "2013-04-01T00:00:00.000000000",
                    "2013-05-01T00:00:00.000000000",
                    "2013-06-01T00:00:00.000000000",
                    "2013-07-01T00:00:00.000000000",
                    "2013-08-01T00:00:00.000000000",
                    "2013-09-01T00:00:00.000000000",
                    "2013-10-01T00:00:00.000000000",
                    "2013-11-01T00:00:00.000000000",
                    "2013-12-01T00:00:00.000000000",
                    "2014-01-01T00:00:00.000000000",
                    "2014-02-01T00:00:00.000000000",
                    "2014-03-01T00:00:00.000000000",
                    "2014-04-01T00:00:00.000000000",
                    "2014-05-01T00:00:00.000000000",
                    "2014-06-01T00:00:00.000000000",
                    "2014-07-01T00:00:00.000000000",
                    "2014-08-01T00:00:00.000000000",
                    "2014-09-01T00:00:00.000000000",
                    "2014-10-01T00:00:00.000000000",
                    "2014-11-01T00:00:00.000000000",
                    "2014-12-01T00:00:00.000000000",
                    "2015-01-01T00:00:00.000000000",
                    "2015-02-01T00:00:00.000000000",
                    "2015-03-01T00:00:00.000000000",
                    "2015-04-01T00:00:00.000000000",
                    "2015-05-01T00:00:00.000000000",
                    "2015-06-01T00:00:00.000000000",
                    "2015-07-01T00:00:00.000000000",
                    "2015-08-01T00:00:00.000000000",
                    "2015-09-01T00:00:00.000000000",
                    "2015-10-01T00:00:00.000000000",
                    "2015-11-01T00:00:00.000000000",
                    "2015-12-01T00:00:00.000000000",
                    "2016-01-01T00:00:00.000000000",
                    "2016-02-01T00:00:00.000000000",
                    "2016-03-01T00:00:00.000000000",
                    "2016-04-01T00:00:00.000000000",
                    "2016-05-01T00:00:00.000000000",
                    "2016-06-01T00:00:00.000000000",
                    "2016-07-01T00:00:00.000000000",
                    "2016-08-01T00:00:00.000000000",
                    "2016-09-01T00:00:00.000000000",
                    "2016-10-01T00:00:00.000000000",
                    "2016-11-01T00:00:00.000000000",
                    "2016-12-01T00:00:00.000000000",
                    "2017-01-01T00:00:00.000000000",
                    "2017-02-01T00:00:00.000000000",
                    "2017-03-01T00:00:00.000000000",
                    "2017-04-01T00:00:00.000000000",
                    "2017-05-01T00:00:00.000000000",
                    "2017-06-01T00:00:00.000000000",
                    "2017-07-01T00:00:00.000000000",
                    "2017-08-01T00:00:00.000000000",
                    "2017-09-01T00:00:00.000000000",
                    "2017-10-01T00:00:00.000000000",
                    "2017-11-01T00:00:00.000000000",
                    "2017-12-01T00:00:00.000000000",
                    "2018-01-01T00:00:00.000000000",
                    "2018-02-01T00:00:00.000000000",
                    "2018-03-01T00:00:00.000000000",
                    "2018-04-01T00:00:00.000000000",
                    "2018-05-01T00:00:00.000000000",
                    "2018-06-01T00:00:00.000000000",
                    "2018-07-01T00:00:00.000000000",
                    "2018-08-01T00:00:00.000000000",
                    "2018-09-01T00:00:00.000000000",
                    "2018-10-01T00:00:00.000000000",
                    "2018-11-01T00:00:00.000000000",
                    "2018-12-01T00:00:00.000000000",
                    "2019-01-01T00:00:00.000000000",
                    "2019-02-01T00:00:00.000000000",
                    "2019-03-01T00:00:00.000000000",
                    "2019-04-01T00:00:00.000000000",
                    "2019-05-01T00:00:00.000000000",
                    "2019-06-01T00:00:00.000000000",
                    "2019-07-01T00:00:00.000000000",
                    "2019-08-01T00:00:00.000000000",
                    "2019-09-01T00:00:00.000000000",
                    "2019-10-01T00:00:00.000000000",
                    "2019-11-01T00:00:00.000000000",
                    "2019-12-01T00:00:00.000000000",
                    "2020-01-01T00:00:00.000000000",
                    "2020-02-01T00:00:00.000000000",
                    "2020-03-01T00:00:00.000000000",
                    "2020-04-01T00:00:00.000000000",
                    "2020-05-01T00:00:00.000000000",
                    "2020-06-01T00:00:00.000000000",
                    "2020-07-01T00:00:00.000000000",
                    "2020-08-01T00:00:00.000000000",
                    "2020-09-01T00:00:00.000000000",
                    "2020-10-01T00:00:00.000000000",
                    "2020-11-01T00:00:00.000000000",
                    "2020-12-01T00:00:00.000000000",
                    "2021-01-01T00:00:00.000000000",
                    "2021-02-01T00:00:00.000000000",
                    "2021-03-01T00:00:00.000000000",
                    "2021-04-01T00:00:00.000000000",
                    "2021-05-01T00:00:00.000000000",
                    "2021-06-01T00:00:00.000000000",
                    "2021-07-01T00:00:00.000000000",
                    "2021-08-01T00:00:00.000000000",
                    "2021-09-01T00:00:00.000000000",
                    "2021-10-01T00:00:00.000000000",
                    "2021-11-01T00:00:00.000000000",
                    "2021-12-01T00:00:00.000000000",
                    "2022-01-01T00:00:00.000000000",
                    "2022-02-01T00:00:00.000000000",
                    "2022-03-01T00:00:00.000000000",
                    "2022-04-01T00:00:00.000000000",
                    "2022-05-01T00:00:00.000000000",
                    "2022-06-01T00:00:00.000000000",
                    "2022-07-01T00:00:00.000000000",
                    "2022-08-01T00:00:00.000000000",
                    "2022-09-01T00:00:00.000000000",
                    "2022-10-01T00:00:00.000000000",
                    "2022-11-01T00:00:00.000000000",
                    "2022-12-01T00:00:00.000000000",
                    "2023-01-01T00:00:00.000000000",
                    "2023-02-01T00:00:00.000000000",
                    "2023-03-01T00:00:00.000000000",
                    "2023-04-01T00:00:00.000000000",
                    "2023-05-01T00:00:00.000000000",
                    "2023-06-01T00:00:00.000000000",
                    "2023-07-01T00:00:00.000000000",
                    "2023-08-01T00:00:00.000000000",
                    "2023-09-01T00:00:00.000000000",
                    "2023-10-01T00:00:00.000000000",
                    "2023-11-01T00:00:00.000000000",
                    "2023-12-01T00:00:00.000000000",
                    "2024-01-01T00:00:00.000000000",
                    "2024-02-01T00:00:00.000000000",
                    "2024-03-01T00:00:00.000000000",
                    "2024-04-01T00:00:00.000000000",
                    "2024-05-01T00:00:00.000000000",
                    "2024-06-01T00:00:00.000000000",
                    "2024-07-01T00:00:00.000000000",
                    "2024-08-01T00:00:00.000000000",
                    "2024-09-01T00:00:00.000000000",
                    "2024-10-01T00:00:00.000000000",
                    "2024-11-01T00:00:00.000000000",
                    "2024-12-01T00:00:00.000000000",
                    "2025-01-01T00:00:00.000000000",
                    "2025-02-01T00:00:00.000000000",
                    "2025-03-01T00:00:00.000000000",
                    "2025-04-01T00:00:00.000000000",
                    "2025-05-01T00:00:00.000000000",
                    "2025-06-01T00:00:00.000000000",
                    "2025-07-01T00:00:00.000000000"
                  ],
                  "y": {
                    "bdata": "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",
                    "dtype": "f8"
                  }
                },
                {
                  "hovertemplate": "<b>%{fullData.name}</b><br>Data: %{x|%b/%Y}<br>Taxa: %{y:.1f}%<extra></extra>",
                  "line": {
                    "color": "#b22200",
                    "width": 1.5
                  },
                  "marker": {
                    "color": "#b22200",
                    "size": 6
                  },
                  "mode": "lines+markers",
                  "name": "PNAD Contínua (dessazonalizada)",
                  "type": "scatter",
                  "x": [
                    "2002-03-01T00:00:00.000000000",
                    "2002-04-01T00:00:00.000000000",
                    "2002-05-01T00:00:00.000000000",
                    "2002-06-01T00:00:00.000000000",
                    "2002-07-01T00:00:00.000000000",
                    "2002-08-01T00:00:00.000000000",
                    "2002-09-01T00:00:00.000000000",
                    "2002-10-01T00:00:00.000000000",
                    "2002-11-01T00:00:00.000000000",
                    "2002-12-01T00:00:00.000000000",
                    "2003-01-01T00:00:00.000000000",
                    "2003-02-01T00:00:00.000000000",
                    "2003-03-01T00:00:00.000000000",
                    "2003-04-01T00:00:00.000000000",
                    "2003-05-01T00:00:00.000000000",
                    "2003-06-01T00:00:00.000000000",
                    "2003-07-01T00:00:00.000000000",
                    "2003-08-01T00:00:00.000000000",
                    "2003-09-01T00:00:00.000000000",
                    "2003-10-01T00:00:00.000000000",
                    "2003-11-01T00:00:00.000000000",
                    "2003-12-01T00:00:00.000000000",
                    "2004-01-01T00:00:00.000000000",
                    "2004-02-01T00:00:00.000000000",
                    "2004-03-01T00:00:00.000000000",
                    "2004-04-01T00:00:00.000000000",
                    "2004-05-01T00:00:00.000000000",
                    "2004-06-01T00:00:00.000000000",
                    "2004-07-01T00:00:00.000000000",
                    "2004-08-01T00:00:00.000000000",
                    "2004-09-01T00:00:00.000000000",
                    "2004-10-01T00:00:00.000000000",
                    "2004-11-01T00:00:00.000000000",
                    "2004-12-01T00:00:00.000000000",
                    "2005-01-01T00:00:00.000000000",
                    "2005-02-01T00:00:00.000000000",
                    "2005-03-01T00:00:00.000000000",
                    "2005-04-01T00:00:00.000000000",
                    "2005-05-01T00:00:00.000000000",
                    "2005-06-01T00:00:00.000000000",
                    "2005-07-01T00:00:00.000000000",
                    "2005-08-01T00:00:00.000000000",
                    "2005-09-01T00:00:00.000000000",
                    "2005-10-01T00:00:00.000000000",
                    "2005-11-01T00:00:00.000000000",
                    "2005-12-01T00:00:00.000000000",
                    "2006-01-01T00:00:00.000000000",
                    "2006-02-01T00:00:00.000000000",
                    "2006-03-01T00:00:00.000000000",
                    "2006-04-01T00:00:00.000000000",
                    "2006-05-01T00:00:00.000000000",
                    "2006-06-01T00:00:00.000000000",
                    "2006-07-01T00:00:00.000000000",
                    "2006-08-01T00:00:00.000000000",
                    "2006-09-01T00:00:00.000000000",
                    "2006-10-01T00:00:00.000000000",
                    "2006-11-01T00:00:00.000000000",
                    "2006-12-01T00:00:00.000000000",
                    "2007-01-01T00:00:00.000000000",
                    "2007-02-01T00:00:00.000000000",
                    "2007-03-01T00:00:00.000000000",
                    "2007-04-01T00:00:00.000000000",
                    "2007-05-01T00:00:00.000000000",
                    "2007-06-01T00:00:00.000000000",
                    "2007-07-01T00:00:00.000000000",
                    "2007-08-01T00:00:00.000000000",
                    "2007-09-01T00:00:00.000000000",
                    "2007-10-01T00:00:00.000000000",
                    "2007-11-01T00:00:00.000000000",
                    "2007-12-01T00:00:00.000000000",
                    "2008-01-01T00:00:00.000000000",
                    "2008-02-01T00:00:00.000000000",
                    "2008-03-01T00:00:00.000000000",
                    "2008-04-01T00:00:00.000000000",
                    "2008-05-01T00:00:00.000000000",
                    "2008-06-01T00:00:00.000000000",
                    "2008-07-01T00:00:00.000000000",
                    "2008-08-01T00:00:00.000000000",
                    "2008-09-01T00:00:00.000000000",
                    "2008-10-01T00:00:00.000000000",
                    "2008-11-01T00:00:00.000000000",
                    "2008-12-01T00:00:00.000000000",
                    "2009-01-01T00:00:00.000000000",
                    "2009-02-01T00:00:00.000000000",
                    "2009-03-01T00:00:00.000000000",
                    "2009-04-01T00:00:00.000000000",
                    "2009-05-01T00:00:00.000000000",
                    "2009-06-01T00:00:00.000000000",
                    "2009-07-01T00:00:00.000000000",
                    "2009-08-01T00:00:00.000000000",
                    "2009-09-01T00:00:00.000000000",
                    "2009-10-01T00:00:00.000000000",
                    "2009-11-01T00:00:00.000000000",
                    "2009-12-01T00:00:00.000000000",
                    "2010-01-01T00:00:00.000000000",
                    "2010-02-01T00:00:00.000000000",
                    "2010-03-01T00:00:00.000000000",
                    "2010-04-01T00:00:00.000000000",
                    "2010-05-01T00:00:00.000000000",
                    "2010-06-01T00:00:00.000000000",
                    "2010-07-01T00:00:00.000000000",
                    "2010-08-01T00:00:00.000000000",
                    "2010-09-01T00:00:00.000000000",
                    "2010-10-01T00:00:00.000000000",
                    "2010-11-01T00:00:00.000000000",
                    "2010-12-01T00:00:00.000000000",
                    "2011-01-01T00:00:00.000000000",
                    "2011-02-01T00:00:00.000000000",
                    "2011-03-01T00:00:00.000000000",
                    "2011-04-01T00:00:00.000000000",
                    "2011-05-01T00:00:00.000000000",
                    "2011-06-01T00:00:00.000000000",
                    "2011-07-01T00:00:00.000000000",
                    "2011-08-01T00:00:00.000000000",
                    "2011-09-01T00:00:00.000000000",
                    "2011-10-01T00:00:00.000000000",
                    "2011-11-01T00:00:00.000000000",
                    "2011-12-01T00:00:00.000000000",
                    "2012-01-01T00:00:00.000000000",
                    "2012-02-01T00:00:00.000000000",
                    "2012-03-01T00:00:00.000000000",
                    "2012-04-01T00:00:00.000000000",
                    "2012-05-01T00:00:00.000000000",
                    "2012-06-01T00:00:00.000000000",
                    "2012-07-01T00:00:00.000000000",
                    "2012-08-01T00:00:00.000000000",
                    "2012-09-01T00:00:00.000000000",
                    "2012-10-01T00:00:00.000000000",
                    "2012-11-01T00:00:00.000000000",
                    "2012-12-01T00:00:00.000000000",
                    "2013-01-01T00:00:00.000000000",
                    "2013-02-01T00:00:00.000000000",
                    "2013-03-01T00:00:00.000000000",
                    "2013-04-01T00:00:00.000000000",
                    "2013-05-01T00:00:00.000000000",
                    "2013-06-01T00:00:00.000000000",
                    "2013-07-01T00:00:00.000000000",
                    "2013-08-01T00:00:00.000000000",
                    "2013-09-01T00:00:00.000000000",
                    "2013-10-01T00:00:00.000000000",
                    "2013-11-01T00:00:00.000000000",
                    "2013-12-01T00:00:00.000000000",
                    "2014-01-01T00:00:00.000000000",
                    "2014-02-01T00:00:00.000000000",
                    "2014-03-01T00:00:00.000000000",
                    "2014-04-01T00:00:00.000000000",
                    "2014-05-01T00:00:00.000000000",
                    "2014-06-01T00:00:00.000000000",
                    "2014-07-01T00:00:00.000000000",
                    "2014-08-01T00:00:00.000000000",
                    "2014-09-01T00:00:00.000000000",
                    "2014-10-01T00:00:00.000000000",
                    "2014-11-01T00:00:00.000000000",
                    "2014-12-01T00:00:00.000000000",
                    "2015-01-01T00:00:00.000000000",
                    "2015-02-01T00:00:00.000000000",
                    "2015-03-01T00:00:00.000000000",
                    "2015-04-01T00:00:00.000000000",
                    "2015-05-01T00:00:00.000000000",
                    "2015-06-01T00:00:00.000000000",
                    "2015-07-01T00:00:00.000000000",
                    "2015-08-01T00:00:00.000000000",
                    "2015-09-01T00:00:00.000000000",
                    "2015-10-01T00:00:00.000000000",
                    "2015-11-01T00:00:00.000000000",
                    "2015-12-01T00:00:00.000000000",
                    "2016-01-01T00:00:00.000000000",
                    "2016-02-01T00:00:00.000000000",
                    "2016-03-01T00:00:00.000000000",
                    "2016-04-01T00:00:00.000000000",
                    "2016-05-01T00:00:00.000000000",
                    "2016-06-01T00:00:00.000000000",
                    "2016-07-01T00:00:00.000000000",
                    "2016-08-01T00:00:00.000000000",
                    "2016-09-01T00:00:00.000000000",
                    "2016-10-01T00:00:00.000000000",
                    "2016-11-01T00:00:00.000000000",
                    "2016-12-01T00:00:00.000000000",
                    "2017-01-01T00:00:00.000000000",
                    "2017-02-01T00:00:00.000000000",
                    "2017-03-01T00:00:00.000000000",
                    "2017-04-01T00:00:00.000000000",
                    "2017-05-01T00:00:00.000000000",
                    "2017-06-01T00:00:00.000000000",
                    "2017-07-01T00:00:00.000000000",
                    "2017-08-01T00:00:00.000000000",
                    "2017-09-01T00:00:00.000000000",
                    "2017-10-01T00:00:00.000000000",
                    "2017-11-01T00:00:00.000000000",
                    "2017-12-01T00:00:00.000000000",
                    "2018-01-01T00:00:00.000000000",
                    "2018-02-01T00:00:00.000000000",
                    "2018-03-01T00:00:00.000000000",
                    "2018-04-01T00:00:00.000000000",
                    "2018-05-01T00:00:00.000000000",
                    "2018-06-01T00:00:00.000000000",
                    "2018-07-01T00:00:00.000000000",
                    "2018-08-01T00:00:00.000000000",
                    "2018-09-01T00:00:00.000000000",
                    "2018-10-01T00:00:00.000000000",
                    "2018-11-01T00:00:00.000000000",
                    "2018-12-01T00:00:00.000000000",
                    "2019-01-01T00:00:00.000000000",
                    "2019-02-01T00:00:00.000000000",
                    "2019-03-01T00:00:00.000000000",
                    "2019-04-01T00:00:00.000000000",
                    "2019-05-01T00:00:00.000000000",
                    "2019-06-01T00:00:00.000000000",
                    "2019-07-01T00:00:00.000000000",
                    "2019-08-01T00:00:00.000000000",
                    "2019-09-01T00:00:00.000000000",
                    "2019-10-01T00:00:00.000000000",
                    "2019-11-01T00:00:00.000000000",
                    "2019-12-01T00:00:00.000000000",
                    "2020-01-01T00:00:00.000000000",
                    "2020-02-01T00:00:00.000000000",
                    "2020-03-01T00:00:00.000000000",
                    "2020-04-01T00:00:00.000000000",
                    "2020-05-01T00:00:00.000000000",
                    "2020-06-01T00:00:00.000000000",
                    "2020-07-01T00:00:00.000000000",
                    "2020-08-01T00:00:00.000000000",
                    "2020-09-01T00:00:00.000000000",
                    "2020-10-01T00:00:00.000000000",
                    "2020-11-01T00:00:00.000000000",
                    "2020-12-01T00:00:00.000000000",
                    "2021-01-01T00:00:00.000000000",
                    "2021-02-01T00:00:00.000000000",
                    "2021-03-01T00:00:00.000000000",
                    "2021-04-01T00:00:00.000000000",
                    "2021-05-01T00:00:00.000000000",
                    "2021-06-01T00:00:00.000000000",
                    "2021-07-01T00:00:00.000000000",
                    "2021-08-01T00:00:00.000000000",
                    "2021-09-01T00:00:00.000000000",
                    "2021-10-01T00:00:00.000000000",
                    "2021-11-01T00:00:00.000000000",
                    "2021-12-01T00:00:00.000000000",
                    "2022-01-01T00:00:00.000000000",
                    "2022-02-01T00:00:00.000000000",
                    "2022-03-01T00:00:00.000000000",
                    "2022-04-01T00:00:00.000000000",
                    "2022-05-01T00:00:00.000000000",
                    "2022-06-01T00:00:00.000000000",
                    "2022-07-01T00:00:00.000000000",
                    "2022-08-01T00:00:00.000000000",
                    "2022-09-01T00:00:00.000000000",
                    "2022-10-01T00:00:00.000000000",
                    "2022-11-01T00:00:00.000000000",
                    "2022-12-01T00:00:00.000000000",
                    "2023-01-01T00:00:00.000000000",
                    "2023-02-01T00:00:00.000000000",
                    "2023-03-01T00:00:00.000000000",
                    "2023-04-01T00:00:00.000000000",
                    "2023-05-01T00:00:00.000000000",
                    "2023-06-01T00:00:00.000000000",
                    "2023-07-01T00:00:00.000000000",
                    "2023-08-01T00:00:00.000000000",
                    "2023-09-01T00:00:00.000000000",
                    "2023-10-01T00:00:00.000000000",
                    "2023-11-01T00:00:00.000000000",
                    "2023-12-01T00:00:00.000000000",
                    "2024-01-01T00:00:00.000000000",
                    "2024-02-01T00:00:00.000000000",
                    "2024-03-01T00:00:00.000000000",
                    "2024-04-01T00:00:00.000000000",
                    "2024-05-01T00:00:00.000000000",
                    "2024-06-01T00:00:00.000000000",
                    "2024-07-01T00:00:00.000000000",
                    "2024-08-01T00:00:00.000000000",
                    "2024-09-01T00:00:00.000000000",
                    "2024-10-01T00:00:00.000000000",
                    "2024-11-01T00:00:00.000000000",
                    "2024-12-01T00:00:00.000000000",
                    "2025-01-01T00:00:00.000000000",
                    "2025-02-01T00:00:00.000000000",
                    "2025-03-01T00:00:00.000000000",
                    "2025-04-01T00:00:00.000000000",
                    "2025-05-01T00:00:00.000000000",
                    "2025-06-01T00:00:00.000000000",
                    "2025-07-01T00:00:00.000000000"
                  ],
                  "y": {
                    "bdata": "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",
                    "dtype": "f8"
                  }
                }
              ],
              "layout": {
                "annotations": [
                  {
                    "font": {
                      "size": 10
                    },
                    "showarrow": false,
                    "text": "Elaboração própria | Fonte: IBGE e BCB",
                    "x": 1.2,
                    "xanchor": "right",
                    "xref": "paper",
                    "y": -0.5,
                    "yref": "paper"
                  }
                ],
                "height": 400,
                "legend": {
                  "orientation": "h",
                  "title": {
                    "text": ""
                  },
                  "x": 0.5,
                  "xanchor": "center",
                  "y": -0.15
                },
                "margin": {
                  "b": 80,
                  "l": 40,
                  "r": 40,
                  "t": 60
                },
                "template": {
                  "data": {
                    "bar": [
                      {
                        "error_x": {
                          "color": "#2a3f5f"
                        },
                        "error_y": {
                          "color": "#2a3f5f"
                        },
                        "marker": {
                          "line": {
                            "color": "white",
                            "width": 0.5
                          },
                          "pattern": {
                            "fillmode": "overlay",
                            "size": 10,
                            "solidity": 0.2
                          }
                        },
                        "type": "bar"
                      }
                    ],
                    "barpolar": [
                      {
                        "marker": {
                          "line": {
                            "color": "white",
                            "width": 0.5
                          },
                          "pattern": {
                            "fillmode": "overlay",
                            "size": 10,
                            "solidity": 0.2
                          }
                        },
                        "type": "barpolar"
                      }
                    ],
                    "carpet": [
                      {
                        "aaxis": {
                          "endlinecolor": "#2a3f5f",
                          "gridcolor": "#C8D4E3",
                          "linecolor": "#C8D4E3",
                          "minorgridcolor": "#C8D4E3",
                          "startlinecolor": "#2a3f5f"
                        },
                        "baxis": {
                          "endlinecolor": "#2a3f5f",
                          "gridcolor": "#C8D4E3",
                          "linecolor": "#C8D4E3",
                          "minorgridcolor": "#C8D4E3",
                          "startlinecolor": "#2a3f5f"
                        },
                        "type": "carpet"
                      }
                    ],
                    "choropleth": [
                      {
                        "colorbar": {
                          "outlinewidth": 0,
                          "ticks": ""
                        },
                        "type": "choropleth"
                      }
                    ],
                    "contour": [
                      {
                        "colorbar": {
                          "outlinewidth": 0,
                          "ticks": ""
                        },
                        "colorscale": [
                          [
                            0,
                            "#0d0887"
                          ],
                          [
                            0.1111111111111111,
                            "#46039f"
                          ],
                          [
                            0.2222222222222222,
                            "#7201a8"
                          ],
                          [
                            0.3333333333333333,
                            "#9c179e"
                          ],
                          [
                            0.4444444444444444,
                            "#bd3786"
                          ],
                          [
                            0.5555555555555556,
                            "#d8576b"
                          ],
                          [
                            0.6666666666666666,
                            "#ed7953"
                          ],
                          [
                            0.7777777777777778,
                            "#fb9f3a"
                          ],
                          [
                            0.8888888888888888,
                            "#fdca26"
                          ],
                          [
                            1,
                            "#f0f921"
                          ]
                        ],
                        "type": "contour"
                      }
                    ],
                    "contourcarpet": [
                      {
                        "colorbar": {
                          "outlinewidth": 0,
                          "ticks": ""
                        },
                        "type": "contourcarpet"
                      }
                    ],
                    "heatmap": [
                      {
                        "colorbar": {
                          "outlinewidth": 0,
                          "ticks": ""
                        },
                        "colorscale": [
                          [
                            0,
                            "#0d0887"
                          ],
                          [
                            0.1111111111111111,
                            "#46039f"
                          ],
                          [
                            0.2222222222222222,
                            "#7201a8"
                          ],
                          [
                            0.3333333333333333,
                            "#9c179e"
                          ],
                          [
                            0.4444444444444444,
                            "#bd3786"
                          ],
                          [
                            0.5555555555555556,
                            "#d8576b"
                          ],
                          [
                            0.6666666666666666,
                            "#ed7953"
                          ],
                          [
                            0.7777777777777778,
                            "#fb9f3a"
                          ],
                          [
                            0.8888888888888888,
                            "#fdca26"
                          ],
                          [
                            1,
                            "#f0f921"
                          ]
                        ],
                        "type": "heatmap"
                      }
                    ],
                    "histogram": [
                      {
                        "marker": {
                          "pattern": {
                            "fillmode": "overlay",
                            "size": 10,
                            "solidity": 0.2
                          }
                        },
                        "type": "histogram"
                      }
                    ],
                    "histogram2d": [
                      {
                        "colorbar": {
                          "outlinewidth": 0,
                          "ticks": ""
                        },
                        "colorscale": [
                          [
                            0,
                            "#0d0887"
                          ],
                          [
                            0.1111111111111111,
                            "#46039f"
                          ],
                          [
                            0.2222222222222222,
                            "#7201a8"
                          ],
                          [
                            0.3333333333333333,
                            "#9c179e"
                          ],
                          [
                            0.4444444444444444,
                            "#bd3786"
                          ],
                          [
                            0.5555555555555556,
                            "#d8576b"
                          ],
                          [
                            0.6666666666666666,
                            "#ed7953"
                          ],
                          [
                            0.7777777777777778,
                            "#fb9f3a"
                          ],
                          [
                            0.8888888888888888,
                            "#fdca26"
                          ],
                          [
                            1,
                            "#f0f921"
                          ]
                        ],
                        "type": "histogram2d"
                      }
                    ],
                    "histogram2dcontour": [
                      {
                        "colorbar": {
                          "outlinewidth": 0,
                          "ticks": ""
                        },
                        "colorscale": [
                          [
                            0,
                            "#0d0887"
                          ],
                          [
                            0.1111111111111111,
                            "#46039f"
                          ],
                          [
                            0.2222222222222222,
                            "#7201a8"
                          ],
                          [
                            0.3333333333333333,
                            "#9c179e"
                          ],
                          [
                            0.4444444444444444,
                            "#bd3786"
                          ],
                          [
                            0.5555555555555556,
                            "#d8576b"
                          ],
                          [
                            0.6666666666666666,
                            "#ed7953"
                          ],
                          [
                            0.7777777777777778,
                            "#fb9f3a"
                          ],
                          [
                            0.8888888888888888,
                            "#fdca26"
                          ],
                          [
                            1,
                            "#f0f921"
                          ]
                        ],
                        "type": "histogram2dcontour"
                      }
                    ],
                    "mesh3d": [
                      {
                        "colorbar": {
                          "outlinewidth": 0,
                          "ticks": ""
                        },
                        "type": "mesh3d"
                      }
                    ],
                    "parcoords": [
                      {
                        "line": {
                          "colorbar": {
                            "outlinewidth": 0,
                            "ticks": ""
                          }
                        },
                        "type": "parcoords"
                      }
                    ],
                    "pie": [
                      {
                        "automargin": true,
                        "type": "pie"
                      }
                    ],
                    "scatter": [
                      {
                        "fillpattern": {
                          "fillmode": "overlay",
                          "size": 10,
                          "solidity": 0.2
                        },
                        "type": "scatter"
                      }
                    ],
                    "scatter3d": [
                      {
                        "line": {
                          "colorbar": {
                            "outlinewidth": 0,
                            "ticks": ""
                          }
                        },
                        "marker": {
                          "colorbar": {
                            "outlinewidth": 0,
                            "ticks": ""
                          }
                        },
                        "type": "scatter3d"
                      }
                    ],
                    "scattercarpet": [
                      {
                        "marker": {
                          "colorbar": {
                            "outlinewidth": 0,
                            "ticks": ""
                          }
                        },
                        "type": "scattercarpet"
                      }
                    ],
                    "scattergeo": [
                      {
                        "marker": {
                          "colorbar": {
                            "outlinewidth": 0,
                            "ticks": ""
                          }
                        },
                        "type": "scattergeo"
                      }
                    ],
                    "scattergl": [
                      {
                        "marker": {
                          "colorbar": {
                            "outlinewidth": 0,
                            "ticks": ""
                          }
                        },
                        "type": "scattergl"
                      }
                    ],
                    "scattermap": [
                      {
                        "marker": {
                          "colorbar": {
                            "outlinewidth": 0,
                            "ticks": ""
                          }
                        },
                        "type": "scattermap"
                      }
                    ],
                    "scattermapbox": [
                      {
                        "marker": {
                          "colorbar": {
                            "outlinewidth": 0,
                            "ticks": ""
                          }
                        },
                        "type": "scattermapbox"
                      }
                    ],
                    "scatterpolar": [
                      {
                        "marker": {
                          "colorbar": {
                            "outlinewidth": 0,
                            "ticks": ""
                          }
                        },
                        "type": "scatterpolar"
                      }
                    ],
                    "scatterpolargl": [
                      {
                        "marker": {
                          "colorbar": {
                            "outlinewidth": 0,
                            "ticks": ""
                          }
                        },
                        "type": "scatterpolargl"
                      }
                    ],
                    "scatterternary": [
                      {
                        "marker": {
                          "colorbar": {
                            "outlinewidth": 0,
                            "ticks": ""
                          }
                        },
                        "type": "scatterternary"
                      }
                    ],
                    "surface": [
                      {
                        "colorbar": {
                          "outlinewidth": 0,
                          "ticks": ""
                        },
                        "colorscale": [
                          [
                            0,
                            "#0d0887"
                          ],
                          [
                            0.1111111111111111,
                            "#46039f"
                          ],
                          [
                            0.2222222222222222,
                            "#7201a8"
                          ],
                          [
                            0.3333333333333333,
                            "#9c179e"
                          ],
                          [
                            0.4444444444444444,
                            "#bd3786"
                          ],
                          [
                            0.5555555555555556,
                            "#d8576b"
                          ],
                          [
                            0.6666666666666666,
                            "#ed7953"
                          ],
                          [
                            0.7777777777777778,
                            "#fb9f3a"
                          ],
                          [
                            0.8888888888888888,
                            "#fdca26"
                          ],
                          [
                            1,
                            "#f0f921"
                          ]
                        ],
                        "type": "surface"
                      }
                    ],
                    "table": [
                      {
                        "cells": {
                          "fill": {
                            "color": "#EBF0F8"
                          },
                          "line": {
                            "color": "white"
                          }
                        },
                        "header": {
                          "fill": {
                            "color": "#C8D4E3"
                          },
                          "line": {
                            "color": "white"
                          }
                        },
                        "type": "table"
                      }
                    ]
                  },
                  "layout": {
                    "annotationdefaults": {
                      "arrowcolor": "#2a3f5f",
                      "arrowhead": 0,
                      "arrowwidth": 1
                    },
                    "autotypenumbers": "strict",
                    "coloraxis": {
                      "colorbar": {
                        "outlinewidth": 0,
                        "ticks": ""
                      }
                    },
                    "colorscale": {
                      "diverging": [
                        [
                          0,
                          "#8e0152"
                        ],
                        [
                          0.1,
                          "#c51b7d"
                        ],
                        [
                          0.2,
                          "#de77ae"
                        ],
                        [
                          0.3,
                          "#f1b6da"
                        ],
                        [
                          0.4,
                          "#fde0ef"
                        ],
                        [
                          0.5,
                          "#f7f7f7"
                        ],
                        [
                          0.6,
                          "#e6f5d0"
                        ],
                        [
                          0.7,
                          "#b8e186"
                        ],
                        [
                          0.8,
                          "#7fbc41"
                        ],
                        [
                          0.9,
                          "#4d9221"
                        ],
                        [
                          1,
                          "#276419"
                        ]
                      ],
                      "sequential": [
                        [
                          0,
                          "#0d0887"
                        ],
                        [
                          0.1111111111111111,
                          "#46039f"
                        ],
                        [
                          0.2222222222222222,
                          "#7201a8"
                        ],
                        [
                          0.3333333333333333,
                          "#9c179e"
                        ],
                        [
                          0.4444444444444444,
                          "#bd3786"
                        ],
                        [
                          0.5555555555555556,
                          "#d8576b"
                        ],
                        [
                          0.6666666666666666,
                          "#ed7953"
                        ],
                        [
                          0.7777777777777778,
                          "#fb9f3a"
                        ],
                        [
                          0.8888888888888888,
                          "#fdca26"
                        ],
                        [
                          1,
                          "#f0f921"
                        ]
                      ],
                      "sequentialminus": [
                        [
                          0,
                          "#0d0887"
                        ],
                        [
                          0.1111111111111111,
                          "#46039f"
                        ],
                        [
                          0.2222222222222222,
                          "#7201a8"
                        ],
                        [
                          0.3333333333333333,
                          "#9c179e"
                        ],
                        [
                          0.4444444444444444,
                          "#bd3786"
                        ],
                        [
                          0.5555555555555556,
                          "#d8576b"
                        ],
                        [
                          0.6666666666666666,
                          "#ed7953"
                        ],
                        [
                          0.7777777777777778,
                          "#fb9f3a"
                        ],
                        [
                          0.8888888888888888,
                          "#fdca26"
                        ],
                        [
                          1,
                          "#f0f921"
                        ]
                      ]
                    },
                    "colorway": [
                      "#636efa",
                      "#EF553B",
                      "#00cc96",
                      "#ab63fa",
                      "#FFA15A",
                      "#19d3f3",
                      "#FF6692",
                      "#B6E880",
                      "#FF97FF",
                      "#FECB52"
                    ],
                    "font": {
                      "color": "#2a3f5f"
                    },
                    "geo": {
                      "bgcolor": "white",
                      "lakecolor": "white",
                      "landcolor": "white",
                      "showlakes": true,
                      "showland": true,
                      "subunitcolor": "#C8D4E3"
                    },
                    "hoverlabel": {
                      "align": "left"
                    },
                    "hovermode": "closest",
                    "mapbox": {
                      "style": "light"
                    },
                    "paper_bgcolor": "white",
                    "plot_bgcolor": "white",
                    "polar": {
                      "angularaxis": {
                        "gridcolor": "#EBF0F8",
                        "linecolor": "#EBF0F8",
                        "ticks": ""
                      },
                      "bgcolor": "white",
                      "radialaxis": {
                        "gridcolor": "#EBF0F8",
                        "linecolor": "#EBF0F8",
                        "ticks": ""
                      }
                    },
                    "scene": {
                      "xaxis": {
                        "backgroundcolor": "white",
                        "gridcolor": "#DFE8F3",
                        "gridwidth": 2,
                        "linecolor": "#EBF0F8",
                        "showbackground": true,
                        "ticks": "",
                        "zerolinecolor": "#EBF0F8"
                      },
                      "yaxis": {
                        "backgroundcolor": "white",
                        "gridcolor": "#DFE8F3",
                        "gridwidth": 2,
                        "linecolor": "#EBF0F8",
                        "showbackground": true,
                        "ticks": "",
                        "zerolinecolor": "#EBF0F8"
                      },
                      "zaxis": {
                        "backgroundcolor": "white",
                        "gridcolor": "#DFE8F3",
                        "gridwidth": 2,
                        "linecolor": "#EBF0F8",
                        "showbackground": true,
                        "ticks": "",
                        "zerolinecolor": "#EBF0F8"
                      }
                    },
                    "shapedefaults": {
                      "line": {
                        "color": "#2a3f5f"
                      }
                    },
                    "ternary": {
                      "aaxis": {
                        "gridcolor": "#DFE8F3",
                        "linecolor": "#A2B1C6",
                        "ticks": ""
                      },
                      "baxis": {
                        "gridcolor": "#DFE8F3",
                        "linecolor": "#A2B1C6",
                        "ticks": ""
                      },
                      "bgcolor": "white",
                      "caxis": {
                        "gridcolor": "#DFE8F3",
                        "linecolor": "#A2B1C6",
                        "ticks": ""
                      }
                    },
                    "title": {
                      "x": 0.05
                    },
                    "xaxis": {
                      "automargin": true,
                      "gridcolor": "#EBF0F8",
                      "linecolor": "#EBF0F8",
                      "ticks": "",
                      "title": {
                        "standoff": 15
                      },
                      "zerolinecolor": "#EBF0F8",
                      "zerolinewidth": 2
                    },
                    "yaxis": {
                      "automargin": true,
                      "gridcolor": "#EBF0F8",
                      "linecolor": "#EBF0F8",
                      "ticks": "",
                      "title": {
                        "standoff": 15
                      },
                      "zerolinecolor": "#EBF0F8",
                      "zerolinewidth": 2
                    }
                  }
                },
                "title": {
                  "text": "Taxa de Desemprego PNAD Contínua (série ampliada)"
                },
                "width": 800,
                "xaxis": {
                  "dtick": "M24",
                  "tickformat": "%b/%Y",
                  "title": {
                    "text": ""
                  }
                },
                "yaxis": {
                  "title": {
                    "text": "% População Economicamente Ativa"
                  }
                }
              }
            }
          },
          "metadata": {},
          "output_type": "display_data"
        }
      ],
      "source": [
        "\"\"\"\n",
        "    Cria gráfico da série PNAD Contínua ampliada (com ou sem dessazonalização).\n",
        "\"\"\"\n",
        "title=\"Taxa de Desemprego PNAD Contínua (série ampliada)\"\n",
        "fig = go.Figure()\n",
        "\n",
        "# Identifica colunas de dados (excluindo 'Date')\n",
        "data_columns = [col for col in serie_final.columns if col != 'Date']\n",
        "\n",
        "for col in data_columns:\n",
        "    # Define nome e cor da série\n",
        "    if col == 'pnad':\n",
        "        name = 'PNAD Contínua (original)'\n",
        "        color = COLORS['blue']\n",
        "    elif col == 'pnad_ampliada_sa':\n",
        "        name = 'PNAD Contínua (dessazonalizada)'\n",
        "        color = COLORS['red']\n",
        "    else:\n",
        "        name = col\n",
        "        color = COLORS.get(col, '#666666')\n",
        "    \n",
        "    fig.add_trace(go.Scatter(\n",
        "        x=serie_final['Date'],\n",
        "        y=serie_final[col],\n",
        "        mode='lines+markers',\n",
        "        name=name,\n",
        "        line=dict(color=color, width=1.5),\n",
        "        marker=dict(color=color, size=6),\n",
        "        hovertemplate='<b>%{fullData.name}</b><br>' +\n",
        "                        'Data: %{x|%b/%Y}<br>' +\n",
        "                        'Taxa: %{y:.1f}%<extra></extra>'\n",
        "    ))\n",
        "\n",
        "# Layout do gráfico\n",
        "fig.update_layout(\n",
        "    title=title,\n",
        "    xaxis_title=\"\",\n",
        "    yaxis_title=\"% População Economicamente Ativa\",\n",
        "    legend_title=\"\",\n",
        "    template=\"plotly_white\",\n",
        "    height=400,\n",
        "    width=800,\n",
        "    margin=dict(l=40, r=40, t=60, b=80),\n",
        "    xaxis=dict(\n",
        "        tickformat=\"%b/%Y\",\n",
        "        dtick=\"M24\"  # Tick a cada 2 anos\n",
        "    ),\n",
        "    legend=dict(orientation=\"h\", y=-0.15, x=0.5, xanchor='center'),\n",
        "    annotations=[\n",
        "        dict(\n",
        "            text=\"Elaboração própria | Fonte: IBGE e BCB\",\n",
        "            x=1.2, y=-0.5, xref='paper', yref='paper',\n",
        "            showarrow=False, font=dict(size=10), xanchor='right'\n",
        "        )\n",
        "    ]\n",
        ")\n",
        "\n",
        "fig.show()"
      ]
    },
    {
      "cell_type": "code",
      "execution_count": 10,
      "metadata": {},
      "outputs": [
        {
          "data": {
            "application/vnd.plotly.v1+json": {
              "config": {
                "plotlyServerURL": "https://plot.ly"
              },
              "data": [
                {
                  "hovertemplate": "<b>%{fullData.name}</b><br>Data: %{x|%b/%Y}<br>Taxa: %{y:.1f}%<extra></extra>",
                  "line": {
                    "color": "#282f6b",
                    "width": 1.5
                  },
                  "marker": {
                    "size": 6
                  },
                  "mode": "lines+markers",
                  "name": "PNAD Contínua (observado)",
                  "type": "scatter",
                  "x": [
                    "2012-03-01T00:00:00.000000000",
                    "2012-04-01T00:00:00.000000000",
                    "2012-05-01T00:00:00.000000000",
                    "2012-06-01T00:00:00.000000000",
                    "2012-07-01T00:00:00.000000000",
                    "2012-08-01T00:00:00.000000000",
                    "2012-09-01T00:00:00.000000000",
                    "2012-10-01T00:00:00.000000000",
                    "2012-11-01T00:00:00.000000000",
                    "2012-12-01T00:00:00.000000000",
                    "2013-01-01T00:00:00.000000000",
                    "2013-02-01T00:00:00.000000000",
                    "2013-03-01T00:00:00.000000000",
                    "2013-04-01T00:00:00.000000000",
                    "2013-05-01T00:00:00.000000000",
                    "2013-06-01T00:00:00.000000000",
                    "2013-07-01T00:00:00.000000000",
                    "2013-08-01T00:00:00.000000000",
                    "2013-09-01T00:00:00.000000000",
                    "2013-10-01T00:00:00.000000000",
                    "2013-11-01T00:00:00.000000000",
                    "2013-12-01T00:00:00.000000000",
                    "2014-01-01T00:00:00.000000000",
                    "2014-02-01T00:00:00.000000000",
                    "2014-03-01T00:00:00.000000000",
                    "2014-04-01T00:00:00.000000000",
                    "2014-05-01T00:00:00.000000000",
                    "2014-06-01T00:00:00.000000000",
                    "2014-07-01T00:00:00.000000000",
                    "2014-08-01T00:00:00.000000000",
                    "2014-09-01T00:00:00.000000000",
                    "2014-10-01T00:00:00.000000000",
                    "2014-11-01T00:00:00.000000000",
                    "2014-12-01T00:00:00.000000000",
                    "2015-01-01T00:00:00.000000000",
                    "2015-02-01T00:00:00.000000000",
                    "2015-03-01T00:00:00.000000000",
                    "2015-04-01T00:00:00.000000000",
                    "2015-05-01T00:00:00.000000000",
                    "2015-06-01T00:00:00.000000000",
                    "2015-07-01T00:00:00.000000000",
                    "2015-08-01T00:00:00.000000000",
                    "2015-09-01T00:00:00.000000000",
                    "2015-10-01T00:00:00.000000000",
                    "2015-11-01T00:00:00.000000000",
                    "2015-12-01T00:00:00.000000000",
                    "2016-01-01T00:00:00.000000000",
                    "2016-02-01T00:00:00.000000000"
                  ],
                  "y": {
                    "bdata": "AAAAAAAAIEAzMzMzMzMfQM3MzMzMzB5AZmZmZmZmHkAAAAAAAAAeQDMzMzMzMx1AZmZmZmZmHECamZmZmZkbQDMzMzMzMxtAmpmZmZmZG0DNzMzMzMwcQDMzMzMzMx9AAAAAAAAAIECamZmZmZkfQGZmZmZmZh5AAAAAAAAAHkCamZmZmZkdQM3MzMzMzBxAAAAAAAAAHEAzMzMzMzMbQAAAAAAAABpAzczMzMzMGEAAAAAAAAAaQDMzMzMzMxtAzczMzMzMHEDNzMzMzMwcQAAAAAAAABxAmpmZmZmZG0AAAAAAAAAcQAAAAAAAABxAMzMzMzMzG0DNzMzMzMwaQGZmZmZmZhpAZmZmZmZmGkCamZmZmZkbQAAAAAAAAB5AAAAAAAAAIEAzMzMzMzMgQGZmZmZmZiBAzczMzMzMIEAzMzMzMzMhQJqZmZmZmSFAAAAAAAAAIkAzMzMzMzMiQDMzMzMzMyJAMzMzMzMzIkAzMzMzMzMjQJqZmZmZmSRA",
                    "dtype": "f8"
                  }
                },
                {
                  "hovertemplate": "<b>%{fullData.name}</b><br>Data: %{x|%b/%Y}<br>Taxa: %{y:.1f}%<extra></extra>",
                  "line": {
                    "color": "#b22200",
                    "width": 1.5
                  },
                  "marker": {
                    "size": 6
                  },
                  "mode": "lines+markers",
                  "name": "PNAD Contínua (predito)",
                  "type": "scatter",
                  "x": [
                    "2012-03-01T00:00:00.000000000",
                    "2012-04-01T00:00:00.000000000",
                    "2012-05-01T00:00:00.000000000",
                    "2012-06-01T00:00:00.000000000",
                    "2012-07-01T00:00:00.000000000",
                    "2012-08-01T00:00:00.000000000",
                    "2012-09-01T00:00:00.000000000",
                    "2012-10-01T00:00:00.000000000",
                    "2012-11-01T00:00:00.000000000",
                    "2012-12-01T00:00:00.000000000",
                    "2013-01-01T00:00:00.000000000",
                    "2013-02-01T00:00:00.000000000",
                    "2013-03-01T00:00:00.000000000",
                    "2013-04-01T00:00:00.000000000",
                    "2013-05-01T00:00:00.000000000",
                    "2013-06-01T00:00:00.000000000",
                    "2013-07-01T00:00:00.000000000",
                    "2013-08-01T00:00:00.000000000",
                    "2013-09-01T00:00:00.000000000",
                    "2013-10-01T00:00:00.000000000",
                    "2013-11-01T00:00:00.000000000",
                    "2013-12-01T00:00:00.000000000",
                    "2014-01-01T00:00:00.000000000",
                    "2014-02-01T00:00:00.000000000",
                    "2014-03-01T00:00:00.000000000",
                    "2014-04-01T00:00:00.000000000",
                    "2014-05-01T00:00:00.000000000",
                    "2014-06-01T00:00:00.000000000",
                    "2014-07-01T00:00:00.000000000",
                    "2014-08-01T00:00:00.000000000",
                    "2014-09-01T00:00:00.000000000",
                    "2014-10-01T00:00:00.000000000",
                    "2014-11-01T00:00:00.000000000",
                    "2014-12-01T00:00:00.000000000",
                    "2015-01-01T00:00:00.000000000",
                    "2015-02-01T00:00:00.000000000",
                    "2015-03-01T00:00:00.000000000",
                    "2015-04-01T00:00:00.000000000",
                    "2015-05-01T00:00:00.000000000",
                    "2015-06-01T00:00:00.000000000",
                    "2015-07-01T00:00:00.000000000",
                    "2015-08-01T00:00:00.000000000",
                    "2015-09-01T00:00:00.000000000",
                    "2015-10-01T00:00:00.000000000",
                    "2015-11-01T00:00:00.000000000",
                    "2015-12-01T00:00:00.000000000",
                    "2016-01-01T00:00:00.000000000",
                    "2016-02-01T00:00:00.000000000"
                  ],
                  "y": {
                    "bdata": "qA3N4/T1H0AQarPrN2gfQJTWtc/UhR5AWvKdsWTBHkBq7hAqpCYdQEr92OTz4BxAjkQVTndIHUBc0xX0f+scQIRuMuTScxtAtiok7B6FGkAWkkYDwVwdQAhdBbgB1R1AGPNdkWYPHkAWRbXB5aIeQMqd8ngtjR5Aet7GFScXH0Cur9cC4d8dQFT0AKepsBxAthxVIKItHUDIyOUhoVYcQGiUVch6cBpAq+wqi6t7GUDiOsDZEgQbQBb/U7twMxxANmBzK97aG0AKGajbYkMbQOQIU3j5URtAuL4JfzELG0BGzFm0SFUbQH43tHQuuBtA1C0ik4UwG0BGAdGGzY8aQH5GfIjhIxtA9K/wqullGUD6k9eVIMIcQFZYkWW4qB5AlKKQuSCsH0CXnyq9mD8gQLu3UOpQvyBATJqjkI8eIUBWCA3UbSgiQB8H19CXPyJAreMnl1A4IkADCuGakcAiQPPTyr7CLyJA6lxWQPA/IUBY1u0mK00iQPIQWyrIaCNA",
                    "dtype": "f8"
                  }
                }
              ],
              "layout": {
                "annotations": [
                  {
                    "font": {
                      "size": 10
                    },
                    "showarrow": false,
                    "text": "Elaboração própria | Fonte: IBGE e BCB",
                    "x": 1,
                    "xanchor": "right",
                    "xref": "paper",
                    "y": -0.25,
                    "yref": "paper"
                  }
                ],
                "height": 300,
                "legend": {
                  "orientation": "h",
                  "title": {
                    "text": ""
                  },
                  "y": -0.15
                },
                "margin": {
                  "b": 80,
                  "l": 40,
                  "r": 40,
                  "t": 60
                },
                "template": {
                  "data": {
                    "bar": [
                      {
                        "error_x": {
                          "color": "#2a3f5f"
                        },
                        "error_y": {
                          "color": "#2a3f5f"
                        },
                        "marker": {
                          "line": {
                            "color": "white",
                            "width": 0.5
                          },
                          "pattern": {
                            "fillmode": "overlay",
                            "size": 10,
                            "solidity": 0.2
                          }
                        },
                        "type": "bar"
                      }
                    ],
                    "barpolar": [
                      {
                        "marker": {
                          "line": {
                            "color": "white",
                            "width": 0.5
                          },
                          "pattern": {
                            "fillmode": "overlay",
                            "size": 10,
                            "solidity": 0.2
                          }
                        },
                        "type": "barpolar"
                      }
                    ],
                    "carpet": [
                      {
                        "aaxis": {
                          "endlinecolor": "#2a3f5f",
                          "gridcolor": "#C8D4E3",
                          "linecolor": "#C8D4E3",
                          "minorgridcolor": "#C8D4E3",
                          "startlinecolor": "#2a3f5f"
                        },
                        "baxis": {
                          "endlinecolor": "#2a3f5f",
                          "gridcolor": "#C8D4E3",
                          "linecolor": "#C8D4E3",
                          "minorgridcolor": "#C8D4E3",
                          "startlinecolor": "#2a3f5f"
                        },
                        "type": "carpet"
                      }
                    ],
                    "choropleth": [
                      {
                        "colorbar": {
                          "outlinewidth": 0,
                          "ticks": ""
                        },
                        "type": "choropleth"
                      }
                    ],
                    "contour": [
                      {
                        "colorbar": {
                          "outlinewidth": 0,
                          "ticks": ""
                        },
                        "colorscale": [
                          [
                            0,
                            "#0d0887"
                          ],
                          [
                            0.1111111111111111,
                            "#46039f"
                          ],
                          [
                            0.2222222222222222,
                            "#7201a8"
                          ],
                          [
                            0.3333333333333333,
                            "#9c179e"
                          ],
                          [
                            0.4444444444444444,
                            "#bd3786"
                          ],
                          [
                            0.5555555555555556,
                            "#d8576b"
                          ],
                          [
                            0.6666666666666666,
                            "#ed7953"
                          ],
                          [
                            0.7777777777777778,
                            "#fb9f3a"
                          ],
                          [
                            0.8888888888888888,
                            "#fdca26"
                          ],
                          [
                            1,
                            "#f0f921"
                          ]
                        ],
                        "type": "contour"
                      }
                    ],
                    "contourcarpet": [
                      {
                        "colorbar": {
                          "outlinewidth": 0,
                          "ticks": ""
                        },
                        "type": "contourcarpet"
                      }
                    ],
                    "heatmap": [
                      {
                        "colorbar": {
                          "outlinewidth": 0,
                          "ticks": ""
                        },
                        "colorscale": [
                          [
                            0,
                            "#0d0887"
                          ],
                          [
                            0.1111111111111111,
                            "#46039f"
                          ],
                          [
                            0.2222222222222222,
                            "#7201a8"
                          ],
                          [
                            0.3333333333333333,
                            "#9c179e"
                          ],
                          [
                            0.4444444444444444,
                            "#bd3786"
                          ],
                          [
                            0.5555555555555556,
                            "#d8576b"
                          ],
                          [
                            0.6666666666666666,
                            "#ed7953"
                          ],
                          [
                            0.7777777777777778,
                            "#fb9f3a"
                          ],
                          [
                            0.8888888888888888,
                            "#fdca26"
                          ],
                          [
                            1,
                            "#f0f921"
                          ]
                        ],
                        "type": "heatmap"
                      }
                    ],
                    "histogram": [
                      {
                        "marker": {
                          "pattern": {
                            "fillmode": "overlay",
                            "size": 10,
                            "solidity": 0.2
                          }
                        },
                        "type": "histogram"
                      }
                    ],
                    "histogram2d": [
                      {
                        "colorbar": {
                          "outlinewidth": 0,
                          "ticks": ""
                        },
                        "colorscale": [
                          [
                            0,
                            "#0d0887"
                          ],
                          [
                            0.1111111111111111,
                            "#46039f"
                          ],
                          [
                            0.2222222222222222,
                            "#7201a8"
                          ],
                          [
                            0.3333333333333333,
                            "#9c179e"
                          ],
                          [
                            0.4444444444444444,
                            "#bd3786"
                          ],
                          [
                            0.5555555555555556,
                            "#d8576b"
                          ],
                          [
                            0.6666666666666666,
                            "#ed7953"
                          ],
                          [
                            0.7777777777777778,
                            "#fb9f3a"
                          ],
                          [
                            0.8888888888888888,
                            "#fdca26"
                          ],
                          [
                            1,
                            "#f0f921"
                          ]
                        ],
                        "type": "histogram2d"
                      }
                    ],
                    "histogram2dcontour": [
                      {
                        "colorbar": {
                          "outlinewidth": 0,
                          "ticks": ""
                        },
                        "colorscale": [
                          [
                            0,
                            "#0d0887"
                          ],
                          [
                            0.1111111111111111,
                            "#46039f"
                          ],
                          [
                            0.2222222222222222,
                            "#7201a8"
                          ],
                          [
                            0.3333333333333333,
                            "#9c179e"
                          ],
                          [
                            0.4444444444444444,
                            "#bd3786"
                          ],
                          [
                            0.5555555555555556,
                            "#d8576b"
                          ],
                          [
                            0.6666666666666666,
                            "#ed7953"
                          ],
                          [
                            0.7777777777777778,
                            "#fb9f3a"
                          ],
                          [
                            0.8888888888888888,
                            "#fdca26"
                          ],
                          [
                            1,
                            "#f0f921"
                          ]
                        ],
                        "type": "histogram2dcontour"
                      }
                    ],
                    "mesh3d": [
                      {
                        "colorbar": {
                          "outlinewidth": 0,
                          "ticks": ""
                        },
                        "type": "mesh3d"
                      }
                    ],
                    "parcoords": [
                      {
                        "line": {
                          "colorbar": {
                            "outlinewidth": 0,
                            "ticks": ""
                          }
                        },
                        "type": "parcoords"
                      }
                    ],
                    "pie": [
                      {
                        "automargin": true,
                        "type": "pie"
                      }
                    ],
                    "scatter": [
                      {
                        "fillpattern": {
                          "fillmode": "overlay",
                          "size": 10,
                          "solidity": 0.2
                        },
                        "type": "scatter"
                      }
                    ],
                    "scatter3d": [
                      {
                        "line": {
                          "colorbar": {
                            "outlinewidth": 0,
                            "ticks": ""
                          }
                        },
                        "marker": {
                          "colorbar": {
                            "outlinewidth": 0,
                            "ticks": ""
                          }
                        },
                        "type": "scatter3d"
                      }
                    ],
                    "scattercarpet": [
                      {
                        "marker": {
                          "colorbar": {
                            "outlinewidth": 0,
                            "ticks": ""
                          }
                        },
                        "type": "scattercarpet"
                      }
                    ],
                    "scattergeo": [
                      {
                        "marker": {
                          "colorbar": {
                            "outlinewidth": 0,
                            "ticks": ""
                          }
                        },
                        "type": "scattergeo"
                      }
                    ],
                    "scattergl": [
                      {
                        "marker": {
                          "colorbar": {
                            "outlinewidth": 0,
                            "ticks": ""
                          }
                        },
                        "type": "scattergl"
                      }
                    ],
                    "scattermap": [
                      {
                        "marker": {
                          "colorbar": {
                            "outlinewidth": 0,
                            "ticks": ""
                          }
                        },
                        "type": "scattermap"
                      }
                    ],
                    "scattermapbox": [
                      {
                        "marker": {
                          "colorbar": {
                            "outlinewidth": 0,
                            "ticks": ""
                          }
                        },
                        "type": "scattermapbox"
                      }
                    ],
                    "scatterpolar": [
                      {
                        "marker": {
                          "colorbar": {
                            "outlinewidth": 0,
                            "ticks": ""
                          }
                        },
                        "type": "scatterpolar"
                      }
                    ],
                    "scatterpolargl": [
                      {
                        "marker": {
                          "colorbar": {
                            "outlinewidth": 0,
                            "ticks": ""
                          }
                        },
                        "type": "scatterpolargl"
                      }
                    ],
                    "scatterternary": [
                      {
                        "marker": {
                          "colorbar": {
                            "outlinewidth": 0,
                            "ticks": ""
                          }
                        },
                        "type": "scatterternary"
                      }
                    ],
                    "surface": [
                      {
                        "colorbar": {
                          "outlinewidth": 0,
                          "ticks": ""
                        },
                        "colorscale": [
                          [
                            0,
                            "#0d0887"
                          ],
                          [
                            0.1111111111111111,
                            "#46039f"
                          ],
                          [
                            0.2222222222222222,
                            "#7201a8"
                          ],
                          [
                            0.3333333333333333,
                            "#9c179e"
                          ],
                          [
                            0.4444444444444444,
                            "#bd3786"
                          ],
                          [
                            0.5555555555555556,
                            "#d8576b"
                          ],
                          [
                            0.6666666666666666,
                            "#ed7953"
                          ],
                          [
                            0.7777777777777778,
                            "#fb9f3a"
                          ],
                          [
                            0.8888888888888888,
                            "#fdca26"
                          ],
                          [
                            1,
                            "#f0f921"
                          ]
                        ],
                        "type": "surface"
                      }
                    ],
                    "table": [
                      {
                        "cells": {
                          "fill": {
                            "color": "#EBF0F8"
                          },
                          "line": {
                            "color": "white"
                          }
                        },
                        "header": {
                          "fill": {
                            "color": "#C8D4E3"
                          },
                          "line": {
                            "color": "white"
                          }
                        },
                        "type": "table"
                      }
                    ]
                  },
                  "layout": {
                    "annotationdefaults": {
                      "arrowcolor": "#2a3f5f",
                      "arrowhead": 0,
                      "arrowwidth": 1
                    },
                    "autotypenumbers": "strict",
                    "coloraxis": {
                      "colorbar": {
                        "outlinewidth": 0,
                        "ticks": ""
                      }
                    },
                    "colorscale": {
                      "diverging": [
                        [
                          0,
                          "#8e0152"
                        ],
                        [
                          0.1,
                          "#c51b7d"
                        ],
                        [
                          0.2,
                          "#de77ae"
                        ],
                        [
                          0.3,
                          "#f1b6da"
                        ],
                        [
                          0.4,
                          "#fde0ef"
                        ],
                        [
                          0.5,
                          "#f7f7f7"
                        ],
                        [
                          0.6,
                          "#e6f5d0"
                        ],
                        [
                          0.7,
                          "#b8e186"
                        ],
                        [
                          0.8,
                          "#7fbc41"
                        ],
                        [
                          0.9,
                          "#4d9221"
                        ],
                        [
                          1,
                          "#276419"
                        ]
                      ],
                      "sequential": [
                        [
                          0,
                          "#0d0887"
                        ],
                        [
                          0.1111111111111111,
                          "#46039f"
                        ],
                        [
                          0.2222222222222222,
                          "#7201a8"
                        ],
                        [
                          0.3333333333333333,
                          "#9c179e"
                        ],
                        [
                          0.4444444444444444,
                          "#bd3786"
                        ],
                        [
                          0.5555555555555556,
                          "#d8576b"
                        ],
                        [
                          0.6666666666666666,
                          "#ed7953"
                        ],
                        [
                          0.7777777777777778,
                          "#fb9f3a"
                        ],
                        [
                          0.8888888888888888,
                          "#fdca26"
                        ],
                        [
                          1,
                          "#f0f921"
                        ]
                      ],
                      "sequentialminus": [
                        [
                          0,
                          "#0d0887"
                        ],
                        [
                          0.1111111111111111,
                          "#46039f"
                        ],
                        [
                          0.2222222222222222,
                          "#7201a8"
                        ],
                        [
                          0.3333333333333333,
                          "#9c179e"
                        ],
                        [
                          0.4444444444444444,
                          "#bd3786"
                        ],
                        [
                          0.5555555555555556,
                          "#d8576b"
                        ],
                        [
                          0.6666666666666666,
                          "#ed7953"
                        ],
                        [
                          0.7777777777777778,
                          "#fb9f3a"
                        ],
                        [
                          0.8888888888888888,
                          "#fdca26"
                        ],
                        [
                          1,
                          "#f0f921"
                        ]
                      ]
                    },
                    "colorway": [
                      "#636efa",
                      "#EF553B",
                      "#00cc96",
                      "#ab63fa",
                      "#FFA15A",
                      "#19d3f3",
                      "#FF6692",
                      "#B6E880",
                      "#FF97FF",
                      "#FECB52"
                    ],
                    "font": {
                      "color": "#2a3f5f"
                    },
                    "geo": {
                      "bgcolor": "white",
                      "lakecolor": "white",
                      "landcolor": "white",
                      "showlakes": true,
                      "showland": true,
                      "subunitcolor": "#C8D4E3"
                    },
                    "hoverlabel": {
                      "align": "left"
                    },
                    "hovermode": "closest",
                    "mapbox": {
                      "style": "light"
                    },
                    "paper_bgcolor": "white",
                    "plot_bgcolor": "white",
                    "polar": {
                      "angularaxis": {
                        "gridcolor": "#EBF0F8",
                        "linecolor": "#EBF0F8",
                        "ticks": ""
                      },
                      "bgcolor": "white",
                      "radialaxis": {
                        "gridcolor": "#EBF0F8",
                        "linecolor": "#EBF0F8",
                        "ticks": ""
                      }
                    },
                    "scene": {
                      "xaxis": {
                        "backgroundcolor": "white",
                        "gridcolor": "#DFE8F3",
                        "gridwidth": 2,
                        "linecolor": "#EBF0F8",
                        "showbackground": true,
                        "ticks": "",
                        "zerolinecolor": "#EBF0F8"
                      },
                      "yaxis": {
                        "backgroundcolor": "white",
                        "gridcolor": "#DFE8F3",
                        "gridwidth": 2,
                        "linecolor": "#EBF0F8",
                        "showbackground": true,
                        "ticks": "",
                        "zerolinecolor": "#EBF0F8"
                      },
                      "zaxis": {
                        "backgroundcolor": "white",
                        "gridcolor": "#DFE8F3",
                        "gridwidth": 2,
                        "linecolor": "#EBF0F8",
                        "showbackground": true,
                        "ticks": "",
                        "zerolinecolor": "#EBF0F8"
                      }
                    },
                    "shapedefaults": {
                      "line": {
                        "color": "#2a3f5f"
                      }
                    },
                    "ternary": {
                      "aaxis": {
                        "gridcolor": "#DFE8F3",
                        "linecolor": "#A2B1C6",
                        "ticks": ""
                      },
                      "baxis": {
                        "gridcolor": "#DFE8F3",
                        "linecolor": "#A2B1C6",
                        "ticks": ""
                      },
                      "bgcolor": "white",
                      "caxis": {
                        "gridcolor": "#DFE8F3",
                        "linecolor": "#A2B1C6",
                        "ticks": ""
                      }
                    },
                    "title": {
                      "x": 0.05
                    },
                    "xaxis": {
                      "automargin": true,
                      "gridcolor": "#EBF0F8",
                      "linecolor": "#EBF0F8",
                      "ticks": "",
                      "title": {
                        "standoff": 15
                      },
                      "zerolinecolor": "#EBF0F8",
                      "zerolinewidth": 2
                    },
                    "yaxis": {
                      "automargin": true,
                      "gridcolor": "#EBF0F8",
                      "linecolor": "#EBF0F8",
                      "ticks": "",
                      "title": {
                        "standoff": 15
                      },
                      "zerolinecolor": "#EBF0F8",
                      "zerolinewidth": 2
                    }
                  }
                },
                "title": {
                  "text": "Validação do Modelo de Regressão (R² = 0.924)"
                },
                "width": 600,
                "xaxis": {
                  "title": {
                    "text": ""
                  }
                },
                "yaxis": {
                  "title": {
                    "text": "% População Economicamente Ativa"
                  }
                }
              }
            }
          },
          "metadata": {},
          "output_type": "display_data"
        }
      ],
      "source": [
        "\"\"\"\n",
        "Cria gráfico de validação do modelo de regressão.\n",
        "Compara valores observados da PNAD com valores preditos pelo modelo\n",
        "baseado nos dados da PME, permitindo avaliar a qualidade do ajuste.\n",
        "\n",
        "Parameters\n",
        "----------\n",
        "dados_overlap : pandas.DataFrame\n",
        "    Dados do período de sobreposição\n",
        "regression_model : RegressionResults\n",
        "    Modelo de regressão ajustado\n",
        "\"\"\"\n",
        "# Prepara dados para visualização\n",
        "dados_modelo = pd.DataFrame({\n",
        "    'Date': dados_overlap['Date'],\n",
        "    'PNAD Contínua (observado)': dados_overlap['pnad'],\n",
        "    'PNAD Contínua (predito)': regression_model.fittedvalues\n",
        "})\n",
        "\n",
        "# Converte para formato long\n",
        "dados_long = dados_modelo.melt(id_vars=['Date'])\n",
        "\n",
        "fig = go.Figure()\n",
        "\n",
        "for var in dados_long['variable'].unique():\n",
        "    df_var = dados_long[dados_long['variable'] == var]\n",
        "    \n",
        "    # Define cor baseada no tipo\n",
        "    if 'observado' in var:\n",
        "        color = COLORS['blue']\n",
        "    else:\n",
        "        color = COLORS['red']\n",
        "    \n",
        "    fig.add_trace(go.Scatter(\n",
        "        x=df_var['Date'],\n",
        "        y=df_var['value'],\n",
        "        mode='lines+markers',\n",
        "        name=var,\n",
        "        line=dict(color=color, width=1.5),\n",
        "        marker=dict(size=6),\n",
        "        hovertemplate='<b>%{fullData.name}</b><br>' +\n",
        "                        'Data: %{x|%b/%Y}<br>' +\n",
        "                        'Taxa: %{y:.1f}%<extra></extra>'\n",
        "    ))\n",
        "\n",
        "# Layout\n",
        "fig.update_layout(\n",
        "    title=f\"Validação do Modelo de Regressão (R² = {regression_model.rsquared:.3f})\",\n",
        "    xaxis_title=\"\",\n",
        "    yaxis_title=\"% População Economicamente Ativa\",\n",
        "    legend_title=\"\",\n",
        "    legend=dict(orientation='h', y=-0.15),\n",
        "    template=\"plotly_white\",\n",
        "    height=300,\n",
        "    width=600,\n",
        "    margin=dict(l=40, r=40, t=60, b=80),\n",
        "    annotations=[\n",
        "        dict(\n",
        "            text=\"Elaboração própria | Fonte: IBGE e BCB\",\n",
        "            x=1, y=-0.25, xref='paper', yref='paper',\n",
        "            showarrow=False, font=dict(size=10), xanchor='right'\n",
        "        )\n",
        "    ]\n",
        ")\n",
        "\n",
        "fig.show()"
      ]
    },
    {
      "cell_type": "code",
      "execution_count": 22,
      "metadata": {},
      "outputs": [
        {
          "name": "stdout",
          "output_type": "stream",
          "text": [
            "\n",
            "================================================================================\n",
            "SUMÁRIO DA ANÁLISE\n",
            "================================================================================\n",
            "• Período PNAD Contínua original: 03/2012 a 07/2025\n",
            "• Período PME: 2002-03 a 2016-02\n",
            "• Correlação PNAD-PME: 0.9615\n",
            "• R² do modelo: 0.9244\n",
            "• Série ampliada final: 281 observações\n"
          ]
        }
      ],
      "source": [
        "\n",
        "# Sumário final\n",
        "print(\"\\n\" + \"=\"*80)\n",
        "print(\"SUMÁRIO DA ANÁLISE\")\n",
        "print(\"=\"*80)\n",
        "print(f\"• Período PNAD Contínua original: {pnad_data.index.min().strftime('%m/%Y')} a {pnad_data.index.max().strftime('%m/%Y')}\")\n",
        "print(f\"• Período PME: {PME_START_DATE} a {PME_END_DATE}\")\n",
        "print(f\"• Correlação PNAD-PME: {dados_overlap['pnad'].corr(dados_overlap['pme']):.4f}\")\n",
        "print(f\"• R² do modelo: {regression_model.rsquared:.4f}\")\n",
        "print(f\"• Série ampliada final: {len(serie_final)} observações\")\n"
      ]
    },
    {
      "cell_type": "code",
      "execution_count": null,
      "metadata": {},
      "outputs": [],
      "source": [
        "import os\n",
        "import glob\n",
        "\n",
        "for f in glob.glob(\"x13as*gz\"):\n",
        "    os.remove(f)"
      ]
    },
    {
      "cell_type": "code",
      "execution_count": 12,
      "metadata": {},
      "outputs": [
        {
          "name": "stdout",
          "output_type": "stream",
          "text": [
            "================================================================================\n",
            "ANÁLISE COMPARATIVA: TAXA DE DESEMPREGO PNAD CONTÍNUA vs PME\n",
            "================================================================================\n",
            "\n",
            "1. CARREGAMENTO DOS DADOS\n",
            "----------------------------------------\n",
            "✓ Dados PME carregados: 168 observações de 2002-03 a 2016-02\n",
            "✓ Dados PNAD Contínua carregados: 161 observações\n",
            "  Período: 03/2012 a 07/2025\n",
            "\n",
            "2. COMBINAÇÃO DAS SÉRIES\n",
            "----------------------------------------\n",
            "✓ Séries combinadas:\n",
            "  Total de observações: 281\n",
            "  Período de sobreposição: 48 observações\n",
            "\n",
            "3. ANÁLISE ESTATÍSTICA\n",
            "----------------------------------------\n",
            "\n",
            "============================================================\n",
            "ANÁLISE DE CORRELAÇÃO E REGRESSÃO\n",
            "============================================================\n",
            "\n",
            "ESTATÍSTICAS DESCRITIVAS:\n",
            "            pnad        pme\n",
            "count  48.000000  48.000000\n",
            "mean    7.577083   5.730090\n",
            "std     0.905360   1.010961\n",
            "min     6.200000   4.304397\n",
            "25%     6.900000   4.892217\n",
            "50%     7.350000   5.443909\n",
            "75%     8.000000   6.147074\n",
            "max    10.300000   8.201058\n",
            "\n",
            "Correlação PNAD vs PME: 0.9615\n",
            "\n",
            "RESULTADOS DA REGRESSÃO:\n",
            "                            OLS Regression Results                            \n",
            "==============================================================================\n",
            "Dep. Variable:                   pnad   R-squared:                       0.924\n",
            "Model:                            OLS   Adj. R-squared:                  0.923\n",
            "Method:                 Least Squares   F-statistic:                     562.5\n",
            "Date:                Fri, 26 Sep 2025   Prob (F-statistic):           1.95e-27\n",
            "Time:                        10:41:16   Log-Likelihood:               -0.85687\n",
            "No. Observations:                  48   AIC:                             5.714\n",
            "Df Residuals:                      46   BIC:                             9.456\n",
            "Df Model:                           1                                         \n",
            "Covariance Type:            nonrobust                                         \n",
            "==============================================================================\n",
            "                 coef    std err          t      P>|t|      [0.025      0.975]\n",
            "------------------------------------------------------------------------------\n",
            "Intercept      2.6433      0.211     12.517      0.000       2.218       3.068\n",
            "pme            0.8610      0.036     23.716      0.000       0.788       0.934\n",
            "==============================================================================\n",
            "Omnibus:                        2.257   Durbin-Watson:                   0.941\n",
            "Prob(Omnibus):                  0.323   Jarque-Bera (JB):                2.163\n",
            "Skew:                           0.470   Prob(JB):                        0.339\n",
            "Kurtosis:                       2.555   Cond. No.                         34.8\n",
            "==============================================================================\n",
            "\n",
            "Notes:\n",
            "[1] Standard Errors assume that the covariance matrix of the errors is correctly specified.\n",
            "\n",
            "4. AMPLIAÇÃO DA SÉRIE PNAD\n",
            "----------------------------------------\n",
            "\n",
            "============================================================\n",
            "AMPLIAÇÃO DA SÉRIE PNAD CONTÍNUA\n",
            "============================================================\n",
            "✓ Série PNAD ampliada para 120 observações adicionais\n",
            "  Equação: PNAD = 2.6433 + 0.8610 * PME\n",
            "  R² = 0.9244\n",
            "✓ Série final: 281 observações\n",
            "  Período: 03/2002 a 07/2025\n",
            "\n",
            "5. DESSAZONALIZAÇÃO\n",
            "----------------------------------------\n",
            "\n",
            "============================================================\n",
            "CONFIGURAÇÃO X-13ARIMA-SEATS\n",
            "============================================================\n",
            "✓ Variável de ambiente X13PATH configurada\n",
            "\n",
            "============================================================\n",
            "DESSAZONALIZAÇÃO DA SÉRIE\n",
            "============================================================\n",
            "⚙ Executando procedimento de dessazonalização...\n",
            "✓ Dessazonalização concluída\n",
            "  Método: X-13ARIMA-SEATS\n",
            "  Observações processadas: 281\n",
            "\n",
            "6. GERAÇÃO DE VISUALIZAÇÕES\n",
            "----------------------------------------\n",
            "✓ Gráfico comparativo PNAD vs PME criado\n",
            "✓ Gráfico de validação do modelo criado\n",
            "✓ Gráfico da série ampliada criado\n",
            "\n",
            "7. RESULTADOS\n",
            "----------------------------------------\n"
          ]
        },
        {
          "data": {
            "application/vnd.plotly.v1+json": {
              "config": {
                "plotlyServerURL": "https://plot.ly"
              },
              "data": [
                {
                  "hovertemplate": "<b>%{fullData.name}</b><br>Data: %{x|%b/%Y}<br>Taxa: %{y:.1f}%<extra></extra>",
                  "line": {
                    "color": "#000000",
                    "width": 1.5
                  },
                  "marker": {
                    "size": 6
                  },
                  "mode": "lines+markers",
                  "name": "PNAD",
                  "type": "scatter",
                  "x": [
                    "2012-03-01T00:00:00.000000000",
                    "2012-04-01T00:00:00.000000000",
                    "2012-05-01T00:00:00.000000000",
                    "2012-06-01T00:00:00.000000000",
                    "2012-07-01T00:00:00.000000000",
                    "2012-08-01T00:00:00.000000000",
                    "2012-09-01T00:00:00.000000000",
                    "2012-10-01T00:00:00.000000000",
                    "2012-11-01T00:00:00.000000000",
                    "2012-12-01T00:00:00.000000000",
                    "2013-01-01T00:00:00.000000000",
                    "2013-02-01T00:00:00.000000000",
                    "2013-03-01T00:00:00.000000000",
                    "2013-04-01T00:00:00.000000000",
                    "2013-05-01T00:00:00.000000000",
                    "2013-06-01T00:00:00.000000000",
                    "2013-07-01T00:00:00.000000000",
                    "2013-08-01T00:00:00.000000000",
                    "2013-09-01T00:00:00.000000000",
                    "2013-10-01T00:00:00.000000000",
                    "2013-11-01T00:00:00.000000000",
                    "2013-12-01T00:00:00.000000000",
                    "2014-01-01T00:00:00.000000000",
                    "2014-02-01T00:00:00.000000000",
                    "2014-03-01T00:00:00.000000000",
                    "2014-04-01T00:00:00.000000000",
                    "2014-05-01T00:00:00.000000000",
                    "2014-06-01T00:00:00.000000000",
                    "2014-07-01T00:00:00.000000000",
                    "2014-08-01T00:00:00.000000000",
                    "2014-09-01T00:00:00.000000000",
                    "2014-10-01T00:00:00.000000000",
                    "2014-11-01T00:00:00.000000000",
                    "2014-12-01T00:00:00.000000000",
                    "2015-01-01T00:00:00.000000000",
                    "2015-02-01T00:00:00.000000000",
                    "2015-03-01T00:00:00.000000000",
                    "2015-04-01T00:00:00.000000000",
                    "2015-05-01T00:00:00.000000000",
                    "2015-06-01T00:00:00.000000000",
                    "2015-07-01T00:00:00.000000000",
                    "2015-08-01T00:00:00.000000000",
                    "2015-09-01T00:00:00.000000000",
                    "2015-10-01T00:00:00.000000000",
                    "2015-11-01T00:00:00.000000000",
                    "2015-12-01T00:00:00.000000000",
                    "2016-01-01T00:00:00.000000000",
                    "2016-02-01T00:00:00.000000000"
                  ],
                  "y": {
                    "bdata": "AAAAAAAAIEAzMzMzMzMfQM3MzMzMzB5AZmZmZmZmHkAAAAAAAAAeQDMzMzMzMx1AZmZmZmZmHECamZmZmZkbQDMzMzMzMxtAmpmZmZmZG0DNzMzMzMwcQDMzMzMzMx9AAAAAAAAAIECamZmZmZkfQGZmZmZmZh5AAAAAAAAAHkCamZmZmZkdQM3MzMzMzBxAAAAAAAAAHEAzMzMzMzMbQAAAAAAAABpAzczMzMzMGEAAAAAAAAAaQDMzMzMzMxtAzczMzMzMHEDNzMzMzMwcQAAAAAAAABxAmpmZmZmZG0AAAAAAAAAcQAAAAAAAABxAMzMzMzMzG0DNzMzMzMwaQGZmZmZmZhpAZmZmZmZmGkCamZmZmZkbQAAAAAAAAB5AAAAAAAAAIEAzMzMzMzMgQGZmZmZmZiBAzczMzMzMIEAzMzMzMzMhQJqZmZmZmSFAAAAAAAAAIkAzMzMzMzMiQDMzMzMzMyJAMzMzMzMzIkAzMzMzMzMjQJqZmZmZmSRA",
                    "dtype": "f8"
                  }
                },
                {
                  "hovertemplate": "<b>%{fullData.name}</b><br>Data: %{x|%b/%Y}<br>Taxa: %{y:.1f}%<extra></extra>",
                  "line": {
                    "color": "#000000",
                    "width": 1.5
                  },
                  "marker": {
                    "size": 6
                  },
                  "mode": "lines+markers",
                  "name": "PME",
                  "type": "scatter",
                  "x": [
                    "2012-03-01T00:00:00.000000000",
                    "2012-04-01T00:00:00.000000000",
                    "2012-05-01T00:00:00.000000000",
                    "2012-06-01T00:00:00.000000000",
                    "2012-07-01T00:00:00.000000000",
                    "2012-08-01T00:00:00.000000000",
                    "2012-09-01T00:00:00.000000000",
                    "2012-10-01T00:00:00.000000000",
                    "2012-11-01T00:00:00.000000000",
                    "2012-12-01T00:00:00.000000000",
                    "2013-01-01T00:00:00.000000000",
                    "2013-02-01T00:00:00.000000000",
                    "2013-03-01T00:00:00.000000000",
                    "2013-04-01T00:00:00.000000000",
                    "2013-05-01T00:00:00.000000000",
                    "2013-06-01T00:00:00.000000000",
                    "2013-07-01T00:00:00.000000000",
                    "2013-08-01T00:00:00.000000000",
                    "2013-09-01T00:00:00.000000000",
                    "2013-10-01T00:00:00.000000000",
                    "2013-11-01T00:00:00.000000000",
                    "2013-12-01T00:00:00.000000000",
                    "2014-01-01T00:00:00.000000000",
                    "2014-02-01T00:00:00.000000000",
                    "2014-03-01T00:00:00.000000000",
                    "2014-04-01T00:00:00.000000000",
                    "2014-05-01T00:00:00.000000000",
                    "2014-06-01T00:00:00.000000000",
                    "2014-07-01T00:00:00.000000000",
                    "2014-08-01T00:00:00.000000000",
                    "2014-09-01T00:00:00.000000000",
                    "2014-10-01T00:00:00.000000000",
                    "2014-11-01T00:00:00.000000000",
                    "2014-12-01T00:00:00.000000000",
                    "2015-01-01T00:00:00.000000000",
                    "2015-02-01T00:00:00.000000000",
                    "2015-03-01T00:00:00.000000000",
                    "2015-04-01T00:00:00.000000000",
                    "2015-05-01T00:00:00.000000000",
                    "2015-06-01T00:00:00.000000000",
                    "2015-07-01T00:00:00.000000000",
                    "2015-08-01T00:00:00.000000000",
                    "2015-09-01T00:00:00.000000000",
                    "2015-10-01T00:00:00.000000000",
                    "2015-11-01T00:00:00.000000000",
                    "2015-12-01T00:00:00.000000000",
                    "2016-01-01T00:00:00.000000000",
                    "2016-02-01T00:00:00.000000000"
                  ],
                  "y": {
                    "bdata": "jvT1vunWGEC1keM1TDIYQKAlEd9eKxdAO+ac1YtwF0BUs/ovf5MVQBwdpmmPQhVAFxlc9Me6FUDdw05Gz04VQEJaemx/mhNAAbCkVkSFEkDZjI/zV9IVQC90hXQBXhZABVGPHtOhFkA3NhDSIE0XQJBGfxTnMxdAItXGxCXUF0AkxOj7oWoWQLyivNh5ChVAhUbJDp6bFUA7WKYv6aEUQIZ3NVBLbRJA8q6Mo/hQEUBnccnotRgTQN3YbckKeRRATk1ecSwSFEBj1lP3PWITQEfquVwvcxNAgG8XvfogE0AUzidYB3cTQIyFQoDj6RNAFv+sNlVME0AlxxxSrJESQC6QCNymPRNAzjQxwrM3EUA9U85owh4VQDIGmQ7kUxdAIPMsASuBGEAg/ITmTHYZQPhvr+P3nhpA63DAIzR8G0D1rKvPw+UdQK/42QqSGx5Ai5r5H6oKHkCk/aITKEcfQMeXIIjL9h1Aykh00bvJG0AiviWWGjseQHPGuxnxZiBA",
                    "dtype": "f8"
                  }
                }
              ],
              "layout": {
                "annotations": [
                  {
                    "font": {
                      "size": 10
                    },
                    "showarrow": false,
                    "text": "Elaboração própria | Fonte: IBGE e BCB",
                    "x": 1,
                    "xanchor": "right",
                    "xref": "paper",
                    "y": -0.25,
                    "yref": "paper"
                  }
                ],
                "height": 500,
                "legend": {
                  "orientation": "h",
                  "title": {
                    "text": ""
                  },
                  "y": -0.15
                },
                "margin": {
                  "b": 80,
                  "l": 40,
                  "r": 40,
                  "t": 60
                },
                "template": {
                  "data": {
                    "bar": [
                      {
                        "error_x": {
                          "color": "#2a3f5f"
                        },
                        "error_y": {
                          "color": "#2a3f5f"
                        },
                        "marker": {
                          "line": {
                            "color": "white",
                            "width": 0.5
                          },
                          "pattern": {
                            "fillmode": "overlay",
                            "size": 10,
                            "solidity": 0.2
                          }
                        },
                        "type": "bar"
                      }
                    ],
                    "barpolar": [
                      {
                        "marker": {
                          "line": {
                            "color": "white",
                            "width": 0.5
                          },
                          "pattern": {
                            "fillmode": "overlay",
                            "size": 10,
                            "solidity": 0.2
                          }
                        },
                        "type": "barpolar"
                      }
                    ],
                    "carpet": [
                      {
                        "aaxis": {
                          "endlinecolor": "#2a3f5f",
                          "gridcolor": "#C8D4E3",
                          "linecolor": "#C8D4E3",
                          "minorgridcolor": "#C8D4E3",
                          "startlinecolor": "#2a3f5f"
                        },
                        "baxis": {
                          "endlinecolor": "#2a3f5f",
                          "gridcolor": "#C8D4E3",
                          "linecolor": "#C8D4E3",
                          "minorgridcolor": "#C8D4E3",
                          "startlinecolor": "#2a3f5f"
                        },
                        "type": "carpet"
                      }
                    ],
                    "choropleth": [
                      {
                        "colorbar": {
                          "outlinewidth": 0,
                          "ticks": ""
                        },
                        "type": "choropleth"
                      }
                    ],
                    "contour": [
                      {
                        "colorbar": {
                          "outlinewidth": 0,
                          "ticks": ""
                        },
                        "colorscale": [
                          [
                            0,
                            "#0d0887"
                          ],
                          [
                            0.1111111111111111,
                            "#46039f"
                          ],
                          [
                            0.2222222222222222,
                            "#7201a8"
                          ],
                          [
                            0.3333333333333333,
                            "#9c179e"
                          ],
                          [
                            0.4444444444444444,
                            "#bd3786"
                          ],
                          [
                            0.5555555555555556,
                            "#d8576b"
                          ],
                          [
                            0.6666666666666666,
                            "#ed7953"
                          ],
                          [
                            0.7777777777777778,
                            "#fb9f3a"
                          ],
                          [
                            0.8888888888888888,
                            "#fdca26"
                          ],
                          [
                            1,
                            "#f0f921"
                          ]
                        ],
                        "type": "contour"
                      }
                    ],
                    "contourcarpet": [
                      {
                        "colorbar": {
                          "outlinewidth": 0,
                          "ticks": ""
                        },
                        "type": "contourcarpet"
                      }
                    ],
                    "heatmap": [
                      {
                        "colorbar": {
                          "outlinewidth": 0,
                          "ticks": ""
                        },
                        "colorscale": [
                          [
                            0,
                            "#0d0887"
                          ],
                          [
                            0.1111111111111111,
                            "#46039f"
                          ],
                          [
                            0.2222222222222222,
                            "#7201a8"
                          ],
                          [
                            0.3333333333333333,
                            "#9c179e"
                          ],
                          [
                            0.4444444444444444,
                            "#bd3786"
                          ],
                          [
                            0.5555555555555556,
                            "#d8576b"
                          ],
                          [
                            0.6666666666666666,
                            "#ed7953"
                          ],
                          [
                            0.7777777777777778,
                            "#fb9f3a"
                          ],
                          [
                            0.8888888888888888,
                            "#fdca26"
                          ],
                          [
                            1,
                            "#f0f921"
                          ]
                        ],
                        "type": "heatmap"
                      }
                    ],
                    "histogram": [
                      {
                        "marker": {
                          "pattern": {
                            "fillmode": "overlay",
                            "size": 10,
                            "solidity": 0.2
                          }
                        },
                        "type": "histogram"
                      }
                    ],
                    "histogram2d": [
                      {
                        "colorbar": {
                          "outlinewidth": 0,
                          "ticks": ""
                        },
                        "colorscale": [
                          [
                            0,
                            "#0d0887"
                          ],
                          [
                            0.1111111111111111,
                            "#46039f"
                          ],
                          [
                            0.2222222222222222,
                            "#7201a8"
                          ],
                          [
                            0.3333333333333333,
                            "#9c179e"
                          ],
                          [
                            0.4444444444444444,
                            "#bd3786"
                          ],
                          [
                            0.5555555555555556,
                            "#d8576b"
                          ],
                          [
                            0.6666666666666666,
                            "#ed7953"
                          ],
                          [
                            0.7777777777777778,
                            "#fb9f3a"
                          ],
                          [
                            0.8888888888888888,
                            "#fdca26"
                          ],
                          [
                            1,
                            "#f0f921"
                          ]
                        ],
                        "type": "histogram2d"
                      }
                    ],
                    "histogram2dcontour": [
                      {
                        "colorbar": {
                          "outlinewidth": 0,
                          "ticks": ""
                        },
                        "colorscale": [
                          [
                            0,
                            "#0d0887"
                          ],
                          [
                            0.1111111111111111,
                            "#46039f"
                          ],
                          [
                            0.2222222222222222,
                            "#7201a8"
                          ],
                          [
                            0.3333333333333333,
                            "#9c179e"
                          ],
                          [
                            0.4444444444444444,
                            "#bd3786"
                          ],
                          [
                            0.5555555555555556,
                            "#d8576b"
                          ],
                          [
                            0.6666666666666666,
                            "#ed7953"
                          ],
                          [
                            0.7777777777777778,
                            "#fb9f3a"
                          ],
                          [
                            0.8888888888888888,
                            "#fdca26"
                          ],
                          [
                            1,
                            "#f0f921"
                          ]
                        ],
                        "type": "histogram2dcontour"
                      }
                    ],
                    "mesh3d": [
                      {
                        "colorbar": {
                          "outlinewidth": 0,
                          "ticks": ""
                        },
                        "type": "mesh3d"
                      }
                    ],
                    "parcoords": [
                      {
                        "line": {
                          "colorbar": {
                            "outlinewidth": 0,
                            "ticks": ""
                          }
                        },
                        "type": "parcoords"
                      }
                    ],
                    "pie": [
                      {
                        "automargin": true,
                        "type": "pie"
                      }
                    ],
                    "scatter": [
                      {
                        "fillpattern": {
                          "fillmode": "overlay",
                          "size": 10,
                          "solidity": 0.2
                        },
                        "type": "scatter"
                      }
                    ],
                    "scatter3d": [
                      {
                        "line": {
                          "colorbar": {
                            "outlinewidth": 0,
                            "ticks": ""
                          }
                        },
                        "marker": {
                          "colorbar": {
                            "outlinewidth": 0,
                            "ticks": ""
                          }
                        },
                        "type": "scatter3d"
                      }
                    ],
                    "scattercarpet": [
                      {
                        "marker": {
                          "colorbar": {
                            "outlinewidth": 0,
                            "ticks": ""
                          }
                        },
                        "type": "scattercarpet"
                      }
                    ],
                    "scattergeo": [
                      {
                        "marker": {
                          "colorbar": {
                            "outlinewidth": 0,
                            "ticks": ""
                          }
                        },
                        "type": "scattergeo"
                      }
                    ],
                    "scattergl": [
                      {
                        "marker": {
                          "colorbar": {
                            "outlinewidth": 0,
                            "ticks": ""
                          }
                        },
                        "type": "scattergl"
                      }
                    ],
                    "scattermap": [
                      {
                        "marker": {
                          "colorbar": {
                            "outlinewidth": 0,
                            "ticks": ""
                          }
                        },
                        "type": "scattermap"
                      }
                    ],
                    "scattermapbox": [
                      {
                        "marker": {
                          "colorbar": {
                            "outlinewidth": 0,
                            "ticks": ""
                          }
                        },
                        "type": "scattermapbox"
                      }
                    ],
                    "scatterpolar": [
                      {
                        "marker": {
                          "colorbar": {
                            "outlinewidth": 0,
                            "ticks": ""
                          }
                        },
                        "type": "scatterpolar"
                      }
                    ],
                    "scatterpolargl": [
                      {
                        "marker": {
                          "colorbar": {
                            "outlinewidth": 0,
                            "ticks": ""
                          }
                        },
                        "type": "scatterpolargl"
                      }
                    ],
                    "scatterternary": [
                      {
                        "marker": {
                          "colorbar": {
                            "outlinewidth": 0,
                            "ticks": ""
                          }
                        },
                        "type": "scatterternary"
                      }
                    ],
                    "surface": [
                      {
                        "colorbar": {
                          "outlinewidth": 0,
                          "ticks": ""
                        },
                        "colorscale": [
                          [
                            0,
                            "#0d0887"
                          ],
                          [
                            0.1111111111111111,
                            "#46039f"
                          ],
                          [
                            0.2222222222222222,
                            "#7201a8"
                          ],
                          [
                            0.3333333333333333,
                            "#9c179e"
                          ],
                          [
                            0.4444444444444444,
                            "#bd3786"
                          ],
                          [
                            0.5555555555555556,
                            "#d8576b"
                          ],
                          [
                            0.6666666666666666,
                            "#ed7953"
                          ],
                          [
                            0.7777777777777778,
                            "#fb9f3a"
                          ],
                          [
                            0.8888888888888888,
                            "#fdca26"
                          ],
                          [
                            1,
                            "#f0f921"
                          ]
                        ],
                        "type": "surface"
                      }
                    ],
                    "table": [
                      {
                        "cells": {
                          "fill": {
                            "color": "#EBF0F8"
                          },
                          "line": {
                            "color": "white"
                          }
                        },
                        "header": {
                          "fill": {
                            "color": "#C8D4E3"
                          },
                          "line": {
                            "color": "white"
                          }
                        },
                        "type": "table"
                      }
                    ]
                  },
                  "layout": {
                    "annotationdefaults": {
                      "arrowcolor": "#2a3f5f",
                      "arrowhead": 0,
                      "arrowwidth": 1
                    },
                    "autotypenumbers": "strict",
                    "coloraxis": {
                      "colorbar": {
                        "outlinewidth": 0,
                        "ticks": ""
                      }
                    },
                    "colorscale": {
                      "diverging": [
                        [
                          0,
                          "#8e0152"
                        ],
                        [
                          0.1,
                          "#c51b7d"
                        ],
                        [
                          0.2,
                          "#de77ae"
                        ],
                        [
                          0.3,
                          "#f1b6da"
                        ],
                        [
                          0.4,
                          "#fde0ef"
                        ],
                        [
                          0.5,
                          "#f7f7f7"
                        ],
                        [
                          0.6,
                          "#e6f5d0"
                        ],
                        [
                          0.7,
                          "#b8e186"
                        ],
                        [
                          0.8,
                          "#7fbc41"
                        ],
                        [
                          0.9,
                          "#4d9221"
                        ],
                        [
                          1,
                          "#276419"
                        ]
                      ],
                      "sequential": [
                        [
                          0,
                          "#0d0887"
                        ],
                        [
                          0.1111111111111111,
                          "#46039f"
                        ],
                        [
                          0.2222222222222222,
                          "#7201a8"
                        ],
                        [
                          0.3333333333333333,
                          "#9c179e"
                        ],
                        [
                          0.4444444444444444,
                          "#bd3786"
                        ],
                        [
                          0.5555555555555556,
                          "#d8576b"
                        ],
                        [
                          0.6666666666666666,
                          "#ed7953"
                        ],
                        [
                          0.7777777777777778,
                          "#fb9f3a"
                        ],
                        [
                          0.8888888888888888,
                          "#fdca26"
                        ],
                        [
                          1,
                          "#f0f921"
                        ]
                      ],
                      "sequentialminus": [
                        [
                          0,
                          "#0d0887"
                        ],
                        [
                          0.1111111111111111,
                          "#46039f"
                        ],
                        [
                          0.2222222222222222,
                          "#7201a8"
                        ],
                        [
                          0.3333333333333333,
                          "#9c179e"
                        ],
                        [
                          0.4444444444444444,
                          "#bd3786"
                        ],
                        [
                          0.5555555555555556,
                          "#d8576b"
                        ],
                        [
                          0.6666666666666666,
                          "#ed7953"
                        ],
                        [
                          0.7777777777777778,
                          "#fb9f3a"
                        ],
                        [
                          0.8888888888888888,
                          "#fdca26"
                        ],
                        [
                          1,
                          "#f0f921"
                        ]
                      ]
                    },
                    "colorway": [
                      "#636efa",
                      "#EF553B",
                      "#00cc96",
                      "#ab63fa",
                      "#FFA15A",
                      "#19d3f3",
                      "#FF6692",
                      "#B6E880",
                      "#FF97FF",
                      "#FECB52"
                    ],
                    "font": {
                      "color": "#2a3f5f"
                    },
                    "geo": {
                      "bgcolor": "white",
                      "lakecolor": "white",
                      "landcolor": "white",
                      "showlakes": true,
                      "showland": true,
                      "subunitcolor": "#C8D4E3"
                    },
                    "hoverlabel": {
                      "align": "left"
                    },
                    "hovermode": "closest",
                    "mapbox": {
                      "style": "light"
                    },
                    "paper_bgcolor": "white",
                    "plot_bgcolor": "white",
                    "polar": {
                      "angularaxis": {
                        "gridcolor": "#EBF0F8",
                        "linecolor": "#EBF0F8",
                        "ticks": ""
                      },
                      "bgcolor": "white",
                      "radialaxis": {
                        "gridcolor": "#EBF0F8",
                        "linecolor": "#EBF0F8",
                        "ticks": ""
                      }
                    },
                    "scene": {
                      "xaxis": {
                        "backgroundcolor": "white",
                        "gridcolor": "#DFE8F3",
                        "gridwidth": 2,
                        "linecolor": "#EBF0F8",
                        "showbackground": true,
                        "ticks": "",
                        "zerolinecolor": "#EBF0F8"
                      },
                      "yaxis": {
                        "backgroundcolor": "white",
                        "gridcolor": "#DFE8F3",
                        "gridwidth": 2,
                        "linecolor": "#EBF0F8",
                        "showbackground": true,
                        "ticks": "",
                        "zerolinecolor": "#EBF0F8"
                      },
                      "zaxis": {
                        "backgroundcolor": "white",
                        "gridcolor": "#DFE8F3",
                        "gridwidth": 2,
                        "linecolor": "#EBF0F8",
                        "showbackground": true,
                        "ticks": "",
                        "zerolinecolor": "#EBF0F8"
                      }
                    },
                    "shapedefaults": {
                      "line": {
                        "color": "#2a3f5f"
                      }
                    },
                    "ternary": {
                      "aaxis": {
                        "gridcolor": "#DFE8F3",
                        "linecolor": "#A2B1C6",
                        "ticks": ""
                      },
                      "baxis": {
                        "gridcolor": "#DFE8F3",
                        "linecolor": "#A2B1C6",
                        "ticks": ""
                      },
                      "bgcolor": "white",
                      "caxis": {
                        "gridcolor": "#DFE8F3",
                        "linecolor": "#A2B1C6",
                        "ticks": ""
                      }
                    },
                    "title": {
                      "x": 0.05
                    },
                    "xaxis": {
                      "automargin": true,
                      "gridcolor": "#EBF0F8",
                      "linecolor": "#EBF0F8",
                      "ticks": "",
                      "title": {
                        "standoff": 15
                      },
                      "zerolinecolor": "#EBF0F8",
                      "zerolinewidth": 2
                    },
                    "yaxis": {
                      "automargin": true,
                      "gridcolor": "#EBF0F8",
                      "linecolor": "#EBF0F8",
                      "ticks": "",
                      "title": {
                        "standoff": 15
                      },
                      "zerolinecolor": "#EBF0F8",
                      "zerolinewidth": 2
                    }
                  }
                },
                "title": {
                  "text": "Taxa de Desemprego: PNAD Contínua vs. PME"
                },
                "width": 1000,
                "xaxis": {
                  "title": {
                    "text": ""
                  }
                },
                "yaxis": {
                  "title": {
                    "text": "% População Economicamente Ativa"
                  }
                }
              }
            }
          },
          "metadata": {},
          "output_type": "display_data"
        },
        {
          "data": {
            "application/vnd.plotly.v1+json": {
              "config": {
                "plotlyServerURL": "https://plot.ly"
              },
              "data": [
                {
                  "hovertemplate": "<b>%{fullData.name}</b><br>Data: %{x|%b/%Y}<br>Taxa: %{y:.1f}%<extra></extra>",
                  "line": {
                    "color": "#282f6b",
                    "width": 1.5
                  },
                  "marker": {
                    "size": 6
                  },
                  "mode": "lines+markers",
                  "name": "PNAD Contínua (observado)",
                  "type": "scatter",
                  "x": [
                    "2012-03-01T00:00:00.000000000",
                    "2012-04-01T00:00:00.000000000",
                    "2012-05-01T00:00:00.000000000",
                    "2012-06-01T00:00:00.000000000",
                    "2012-07-01T00:00:00.000000000",
                    "2012-08-01T00:00:00.000000000",
                    "2012-09-01T00:00:00.000000000",
                    "2012-10-01T00:00:00.000000000",
                    "2012-11-01T00:00:00.000000000",
                    "2012-12-01T00:00:00.000000000",
                    "2013-01-01T00:00:00.000000000",
                    "2013-02-01T00:00:00.000000000",
                    "2013-03-01T00:00:00.000000000",
                    "2013-04-01T00:00:00.000000000",
                    "2013-05-01T00:00:00.000000000",
                    "2013-06-01T00:00:00.000000000",
                    "2013-07-01T00:00:00.000000000",
                    "2013-08-01T00:00:00.000000000",
                    "2013-09-01T00:00:00.000000000",
                    "2013-10-01T00:00:00.000000000",
                    "2013-11-01T00:00:00.000000000",
                    "2013-12-01T00:00:00.000000000",
                    "2014-01-01T00:00:00.000000000",
                    "2014-02-01T00:00:00.000000000",
                    "2014-03-01T00:00:00.000000000",
                    "2014-04-01T00:00:00.000000000",
                    "2014-05-01T00:00:00.000000000",
                    "2014-06-01T00:00:00.000000000",
                    "2014-07-01T00:00:00.000000000",
                    "2014-08-01T00:00:00.000000000",
                    "2014-09-01T00:00:00.000000000",
                    "2014-10-01T00:00:00.000000000",
                    "2014-11-01T00:00:00.000000000",
                    "2014-12-01T00:00:00.000000000",
                    "2015-01-01T00:00:00.000000000",
                    "2015-02-01T00:00:00.000000000",
                    "2015-03-01T00:00:00.000000000",
                    "2015-04-01T00:00:00.000000000",
                    "2015-05-01T00:00:00.000000000",
                    "2015-06-01T00:00:00.000000000",
                    "2015-07-01T00:00:00.000000000",
                    "2015-08-01T00:00:00.000000000",
                    "2015-09-01T00:00:00.000000000",
                    "2015-10-01T00:00:00.000000000",
                    "2015-11-01T00:00:00.000000000",
                    "2015-12-01T00:00:00.000000000",
                    "2016-01-01T00:00:00.000000000",
                    "2016-02-01T00:00:00.000000000"
                  ],
                  "y": {
                    "bdata": "AAAAAAAAIEAzMzMzMzMfQM3MzMzMzB5AZmZmZmZmHkAAAAAAAAAeQDMzMzMzMx1AZmZmZmZmHECamZmZmZkbQDMzMzMzMxtAmpmZmZmZG0DNzMzMzMwcQDMzMzMzMx9AAAAAAAAAIECamZmZmZkfQGZmZmZmZh5AAAAAAAAAHkCamZmZmZkdQM3MzMzMzBxAAAAAAAAAHEAzMzMzMzMbQAAAAAAAABpAzczMzMzMGEAAAAAAAAAaQDMzMzMzMxtAzczMzMzMHEDNzMzMzMwcQAAAAAAAABxAmpmZmZmZG0AAAAAAAAAcQAAAAAAAABxAMzMzMzMzG0DNzMzMzMwaQGZmZmZmZhpAZmZmZmZmGkCamZmZmZkbQAAAAAAAAB5AAAAAAAAAIEAzMzMzMzMgQGZmZmZmZiBAzczMzMzMIEAzMzMzMzMhQJqZmZmZmSFAAAAAAAAAIkAzMzMzMzMiQDMzMzMzMyJAMzMzMzMzIkAzMzMzMzMjQJqZmZmZmSRA",
                    "dtype": "f8"
                  }
                },
                {
                  "hovertemplate": "<b>%{fullData.name}</b><br>Data: %{x|%b/%Y}<br>Taxa: %{y:.1f}%<extra></extra>",
                  "line": {
                    "color": "#b22200",
                    "width": 1.5
                  },
                  "marker": {
                    "size": 6
                  },
                  "mode": "lines+markers",
                  "name": "PNAD Contínua (predito)",
                  "type": "scatter",
                  "x": [
                    "2012-03-01T00:00:00.000000000",
                    "2012-04-01T00:00:00.000000000",
                    "2012-05-01T00:00:00.000000000",
                    "2012-06-01T00:00:00.000000000",
                    "2012-07-01T00:00:00.000000000",
                    "2012-08-01T00:00:00.000000000",
                    "2012-09-01T00:00:00.000000000",
                    "2012-10-01T00:00:00.000000000",
                    "2012-11-01T00:00:00.000000000",
                    "2012-12-01T00:00:00.000000000",
                    "2013-01-01T00:00:00.000000000",
                    "2013-02-01T00:00:00.000000000",
                    "2013-03-01T00:00:00.000000000",
                    "2013-04-01T00:00:00.000000000",
                    "2013-05-01T00:00:00.000000000",
                    "2013-06-01T00:00:00.000000000",
                    "2013-07-01T00:00:00.000000000",
                    "2013-08-01T00:00:00.000000000",
                    "2013-09-01T00:00:00.000000000",
                    "2013-10-01T00:00:00.000000000",
                    "2013-11-01T00:00:00.000000000",
                    "2013-12-01T00:00:00.000000000",
                    "2014-01-01T00:00:00.000000000",
                    "2014-02-01T00:00:00.000000000",
                    "2014-03-01T00:00:00.000000000",
                    "2014-04-01T00:00:00.000000000",
                    "2014-05-01T00:00:00.000000000",
                    "2014-06-01T00:00:00.000000000",
                    "2014-07-01T00:00:00.000000000",
                    "2014-08-01T00:00:00.000000000",
                    "2014-09-01T00:00:00.000000000",
                    "2014-10-01T00:00:00.000000000",
                    "2014-11-01T00:00:00.000000000",
                    "2014-12-01T00:00:00.000000000",
                    "2015-01-01T00:00:00.000000000",
                    "2015-02-01T00:00:00.000000000",
                    "2015-03-01T00:00:00.000000000",
                    "2015-04-01T00:00:00.000000000",
                    "2015-05-01T00:00:00.000000000",
                    "2015-06-01T00:00:00.000000000",
                    "2015-07-01T00:00:00.000000000",
                    "2015-08-01T00:00:00.000000000",
                    "2015-09-01T00:00:00.000000000",
                    "2015-10-01T00:00:00.000000000",
                    "2015-11-01T00:00:00.000000000",
                    "2015-12-01T00:00:00.000000000",
                    "2016-01-01T00:00:00.000000000",
                    "2016-02-01T00:00:00.000000000"
                  ],
                  "y": {
                    "bdata": "qA3N4/T1H0AQarPrN2gfQJTWtc/UhR5AWvKdsWTBHkBq7hAqpCYdQEr92OTz4BxAjkQVTndIHUBc0xX0f+scQIRuMuTScxtAtiok7B6FGkAWkkYDwVwdQAhdBbgB1R1AGPNdkWYPHkAWRbXB5aIeQMqd8ngtjR5Aet7GFScXH0Cur9cC4d8dQFT0AKepsBxAthxVIKItHUDIyOUhoVYcQGiUVch6cBpAq+wqi6t7GUDiOsDZEgQbQBb/U7twMxxANmBzK97aG0AKGajbYkMbQOQIU3j5URtAuL4JfzELG0BGzFm0SFUbQH43tHQuuBtA1C0ik4UwG0BGAdGGzY8aQH5GfIjhIxtA9K/wqullGUD6k9eVIMIcQFZYkWW4qB5AlKKQuSCsH0CXnyq9mD8gQLu3UOpQvyBATJqjkI8eIUBWCA3UbSgiQB8H19CXPyJAreMnl1A4IkADCuGakcAiQPPTyr7CLyJA6lxWQPA/IUBY1u0mK00iQPIQWyrIaCNA",
                    "dtype": "f8"
                  }
                }
              ],
              "layout": {
                "annotations": [
                  {
                    "font": {
                      "size": 10
                    },
                    "showarrow": false,
                    "text": "Elaboração própria | Fonte: IBGE e BCB",
                    "x": 1,
                    "xanchor": "right",
                    "xref": "paper",
                    "y": -0.25,
                    "yref": "paper"
                  }
                ],
                "height": 500,
                "legend": {
                  "orientation": "h",
                  "title": {
                    "text": ""
                  },
                  "y": -0.15
                },
                "margin": {
                  "b": 80,
                  "l": 40,
                  "r": 40,
                  "t": 60
                },
                "template": {
                  "data": {
                    "bar": [
                      {
                        "error_x": {
                          "color": "#2a3f5f"
                        },
                        "error_y": {
                          "color": "#2a3f5f"
                        },
                        "marker": {
                          "line": {
                            "color": "white",
                            "width": 0.5
                          },
                          "pattern": {
                            "fillmode": "overlay",
                            "size": 10,
                            "solidity": 0.2
                          }
                        },
                        "type": "bar"
                      }
                    ],
                    "barpolar": [
                      {
                        "marker": {
                          "line": {
                            "color": "white",
                            "width": 0.5
                          },
                          "pattern": {
                            "fillmode": "overlay",
                            "size": 10,
                            "solidity": 0.2
                          }
                        },
                        "type": "barpolar"
                      }
                    ],
                    "carpet": [
                      {
                        "aaxis": {
                          "endlinecolor": "#2a3f5f",
                          "gridcolor": "#C8D4E3",
                          "linecolor": "#C8D4E3",
                          "minorgridcolor": "#C8D4E3",
                          "startlinecolor": "#2a3f5f"
                        },
                        "baxis": {
                          "endlinecolor": "#2a3f5f",
                          "gridcolor": "#C8D4E3",
                          "linecolor": "#C8D4E3",
                          "minorgridcolor": "#C8D4E3",
                          "startlinecolor": "#2a3f5f"
                        },
                        "type": "carpet"
                      }
                    ],
                    "choropleth": [
                      {
                        "colorbar": {
                          "outlinewidth": 0,
                          "ticks": ""
                        },
                        "type": "choropleth"
                      }
                    ],
                    "contour": [
                      {
                        "colorbar": {
                          "outlinewidth": 0,
                          "ticks": ""
                        },
                        "colorscale": [
                          [
                            0,
                            "#0d0887"
                          ],
                          [
                            0.1111111111111111,
                            "#46039f"
                          ],
                          [
                            0.2222222222222222,
                            "#7201a8"
                          ],
                          [
                            0.3333333333333333,
                            "#9c179e"
                          ],
                          [
                            0.4444444444444444,
                            "#bd3786"
                          ],
                          [
                            0.5555555555555556,
                            "#d8576b"
                          ],
                          [
                            0.6666666666666666,
                            "#ed7953"
                          ],
                          [
                            0.7777777777777778,
                            "#fb9f3a"
                          ],
                          [
                            0.8888888888888888,
                            "#fdca26"
                          ],
                          [
                            1,
                            "#f0f921"
                          ]
                        ],
                        "type": "contour"
                      }
                    ],
                    "contourcarpet": [
                      {
                        "colorbar": {
                          "outlinewidth": 0,
                          "ticks": ""
                        },
                        "type": "contourcarpet"
                      }
                    ],
                    "heatmap": [
                      {
                        "colorbar": {
                          "outlinewidth": 0,
                          "ticks": ""
                        },
                        "colorscale": [
                          [
                            0,
                            "#0d0887"
                          ],
                          [
                            0.1111111111111111,
                            "#46039f"
                          ],
                          [
                            0.2222222222222222,
                            "#7201a8"
                          ],
                          [
                            0.3333333333333333,
                            "#9c179e"
                          ],
                          [
                            0.4444444444444444,
                            "#bd3786"
                          ],
                          [
                            0.5555555555555556,
                            "#d8576b"
                          ],
                          [
                            0.6666666666666666,
                            "#ed7953"
                          ],
                          [
                            0.7777777777777778,
                            "#fb9f3a"
                          ],
                          [
                            0.8888888888888888,
                            "#fdca26"
                          ],
                          [
                            1,
                            "#f0f921"
                          ]
                        ],
                        "type": "heatmap"
                      }
                    ],
                    "histogram": [
                      {
                        "marker": {
                          "pattern": {
                            "fillmode": "overlay",
                            "size": 10,
                            "solidity": 0.2
                          }
                        },
                        "type": "histogram"
                      }
                    ],
                    "histogram2d": [
                      {
                        "colorbar": {
                          "outlinewidth": 0,
                          "ticks": ""
                        },
                        "colorscale": [
                          [
                            0,
                            "#0d0887"
                          ],
                          [
                            0.1111111111111111,
                            "#46039f"
                          ],
                          [
                            0.2222222222222222,
                            "#7201a8"
                          ],
                          [
                            0.3333333333333333,
                            "#9c179e"
                          ],
                          [
                            0.4444444444444444,
                            "#bd3786"
                          ],
                          [
                            0.5555555555555556,
                            "#d8576b"
                          ],
                          [
                            0.6666666666666666,
                            "#ed7953"
                          ],
                          [
                            0.7777777777777778,
                            "#fb9f3a"
                          ],
                          [
                            0.8888888888888888,
                            "#fdca26"
                          ],
                          [
                            1,
                            "#f0f921"
                          ]
                        ],
                        "type": "histogram2d"
                      }
                    ],
                    "histogram2dcontour": [
                      {
                        "colorbar": {
                          "outlinewidth": 0,
                          "ticks": ""
                        },
                        "colorscale": [
                          [
                            0,
                            "#0d0887"
                          ],
                          [
                            0.1111111111111111,
                            "#46039f"
                          ],
                          [
                            0.2222222222222222,
                            "#7201a8"
                          ],
                          [
                            0.3333333333333333,
                            "#9c179e"
                          ],
                          [
                            0.4444444444444444,
                            "#bd3786"
                          ],
                          [
                            0.5555555555555556,
                            "#d8576b"
                          ],
                          [
                            0.6666666666666666,
                            "#ed7953"
                          ],
                          [
                            0.7777777777777778,
                            "#fb9f3a"
                          ],
                          [
                            0.8888888888888888,
                            "#fdca26"
                          ],
                          [
                            1,
                            "#f0f921"
                          ]
                        ],
                        "type": "histogram2dcontour"
                      }
                    ],
                    "mesh3d": [
                      {
                        "colorbar": {
                          "outlinewidth": 0,
                          "ticks": ""
                        },
                        "type": "mesh3d"
                      }
                    ],
                    "parcoords": [
                      {
                        "line": {
                          "colorbar": {
                            "outlinewidth": 0,
                            "ticks": ""
                          }
                        },
                        "type": "parcoords"
                      }
                    ],
                    "pie": [
                      {
                        "automargin": true,
                        "type": "pie"
                      }
                    ],
                    "scatter": [
                      {
                        "fillpattern": {
                          "fillmode": "overlay",
                          "size": 10,
                          "solidity": 0.2
                        },
                        "type": "scatter"
                      }
                    ],
                    "scatter3d": [
                      {
                        "line": {
                          "colorbar": {
                            "outlinewidth": 0,
                            "ticks": ""
                          }
                        },
                        "marker": {
                          "colorbar": {
                            "outlinewidth": 0,
                            "ticks": ""
                          }
                        },
                        "type": "scatter3d"
                      }
                    ],
                    "scattercarpet": [
                      {
                        "marker": {
                          "colorbar": {
                            "outlinewidth": 0,
                            "ticks": ""
                          }
                        },
                        "type": "scattercarpet"
                      }
                    ],
                    "scattergeo": [
                      {
                        "marker": {
                          "colorbar": {
                            "outlinewidth": 0,
                            "ticks": ""
                          }
                        },
                        "type": "scattergeo"
                      }
                    ],
                    "scattergl": [
                      {
                        "marker": {
                          "colorbar": {
                            "outlinewidth": 0,
                            "ticks": ""
                          }
                        },
                        "type": "scattergl"
                      }
                    ],
                    "scattermap": [
                      {
                        "marker": {
                          "colorbar": {
                            "outlinewidth": 0,
                            "ticks": ""
                          }
                        },
                        "type": "scattermap"
                      }
                    ],
                    "scattermapbox": [
                      {
                        "marker": {
                          "colorbar": {
                            "outlinewidth": 0,
                            "ticks": ""
                          }
                        },
                        "type": "scattermapbox"
                      }
                    ],
                    "scatterpolar": [
                      {
                        "marker": {
                          "colorbar": {
                            "outlinewidth": 0,
                            "ticks": ""
                          }
                        },
                        "type": "scatterpolar"
                      }
                    ],
                    "scatterpolargl": [
                      {
                        "marker": {
                          "colorbar": {
                            "outlinewidth": 0,
                            "ticks": ""
                          }
                        },
                        "type": "scatterpolargl"
                      }
                    ],
                    "scatterternary": [
                      {
                        "marker": {
                          "colorbar": {
                            "outlinewidth": 0,
                            "ticks": ""
                          }
                        },
                        "type": "scatterternary"
                      }
                    ],
                    "surface": [
                      {
                        "colorbar": {
                          "outlinewidth": 0,
                          "ticks": ""
                        },
                        "colorscale": [
                          [
                            0,
                            "#0d0887"
                          ],
                          [
                            0.1111111111111111,
                            "#46039f"
                          ],
                          [
                            0.2222222222222222,
                            "#7201a8"
                          ],
                          [
                            0.3333333333333333,
                            "#9c179e"
                          ],
                          [
                            0.4444444444444444,
                            "#bd3786"
                          ],
                          [
                            0.5555555555555556,
                            "#d8576b"
                          ],
                          [
                            0.6666666666666666,
                            "#ed7953"
                          ],
                          [
                            0.7777777777777778,
                            "#fb9f3a"
                          ],
                          [
                            0.8888888888888888,
                            "#fdca26"
                          ],
                          [
                            1,
                            "#f0f921"
                          ]
                        ],
                        "type": "surface"
                      }
                    ],
                    "table": [
                      {
                        "cells": {
                          "fill": {
                            "color": "#EBF0F8"
                          },
                          "line": {
                            "color": "white"
                          }
                        },
                        "header": {
                          "fill": {
                            "color": "#C8D4E3"
                          },
                          "line": {
                            "color": "white"
                          }
                        },
                        "type": "table"
                      }
                    ]
                  },
                  "layout": {
                    "annotationdefaults": {
                      "arrowcolor": "#2a3f5f",
                      "arrowhead": 0,
                      "arrowwidth": 1
                    },
                    "autotypenumbers": "strict",
                    "coloraxis": {
                      "colorbar": {
                        "outlinewidth": 0,
                        "ticks": ""
                      }
                    },
                    "colorscale": {
                      "diverging": [
                        [
                          0,
                          "#8e0152"
                        ],
                        [
                          0.1,
                          "#c51b7d"
                        ],
                        [
                          0.2,
                          "#de77ae"
                        ],
                        [
                          0.3,
                          "#f1b6da"
                        ],
                        [
                          0.4,
                          "#fde0ef"
                        ],
                        [
                          0.5,
                          "#f7f7f7"
                        ],
                        [
                          0.6,
                          "#e6f5d0"
                        ],
                        [
                          0.7,
                          "#b8e186"
                        ],
                        [
                          0.8,
                          "#7fbc41"
                        ],
                        [
                          0.9,
                          "#4d9221"
                        ],
                        [
                          1,
                          "#276419"
                        ]
                      ],
                      "sequential": [
                        [
                          0,
                          "#0d0887"
                        ],
                        [
                          0.1111111111111111,
                          "#46039f"
                        ],
                        [
                          0.2222222222222222,
                          "#7201a8"
                        ],
                        [
                          0.3333333333333333,
                          "#9c179e"
                        ],
                        [
                          0.4444444444444444,
                          "#bd3786"
                        ],
                        [
                          0.5555555555555556,
                          "#d8576b"
                        ],
                        [
                          0.6666666666666666,
                          "#ed7953"
                        ],
                        [
                          0.7777777777777778,
                          "#fb9f3a"
                        ],
                        [
                          0.8888888888888888,
                          "#fdca26"
                        ],
                        [
                          1,
                          "#f0f921"
                        ]
                      ],
                      "sequentialminus": [
                        [
                          0,
                          "#0d0887"
                        ],
                        [
                          0.1111111111111111,
                          "#46039f"
                        ],
                        [
                          0.2222222222222222,
                          "#7201a8"
                        ],
                        [
                          0.3333333333333333,
                          "#9c179e"
                        ],
                        [
                          0.4444444444444444,
                          "#bd3786"
                        ],
                        [
                          0.5555555555555556,
                          "#d8576b"
                        ],
                        [
                          0.6666666666666666,
                          "#ed7953"
                        ],
                        [
                          0.7777777777777778,
                          "#fb9f3a"
                        ],
                        [
                          0.8888888888888888,
                          "#fdca26"
                        ],
                        [
                          1,
                          "#f0f921"
                        ]
                      ]
                    },
                    "colorway": [
                      "#636efa",
                      "#EF553B",
                      "#00cc96",
                      "#ab63fa",
                      "#FFA15A",
                      "#19d3f3",
                      "#FF6692",
                      "#B6E880",
                      "#FF97FF",
                      "#FECB52"
                    ],
                    "font": {
                      "color": "#2a3f5f"
                    },
                    "geo": {
                      "bgcolor": "white",
                      "lakecolor": "white",
                      "landcolor": "white",
                      "showlakes": true,
                      "showland": true,
                      "subunitcolor": "#C8D4E3"
                    },
                    "hoverlabel": {
                      "align": "left"
                    },
                    "hovermode": "closest",
                    "mapbox": {
                      "style": "light"
                    },
                    "paper_bgcolor": "white",
                    "plot_bgcolor": "white",
                    "polar": {
                      "angularaxis": {
                        "gridcolor": "#EBF0F8",
                        "linecolor": "#EBF0F8",
                        "ticks": ""
                      },
                      "bgcolor": "white",
                      "radialaxis": {
                        "gridcolor": "#EBF0F8",
                        "linecolor": "#EBF0F8",
                        "ticks": ""
                      }
                    },
                    "scene": {
                      "xaxis": {
                        "backgroundcolor": "white",
                        "gridcolor": "#DFE8F3",
                        "gridwidth": 2,
                        "linecolor": "#EBF0F8",
                        "showbackground": true,
                        "ticks": "",
                        "zerolinecolor": "#EBF0F8"
                      },
                      "yaxis": {
                        "backgroundcolor": "white",
                        "gridcolor": "#DFE8F3",
                        "gridwidth": 2,
                        "linecolor": "#EBF0F8",
                        "showbackground": true,
                        "ticks": "",
                        "zerolinecolor": "#EBF0F8"
                      },
                      "zaxis": {
                        "backgroundcolor": "white",
                        "gridcolor": "#DFE8F3",
                        "gridwidth": 2,
                        "linecolor": "#EBF0F8",
                        "showbackground": true,
                        "ticks": "",
                        "zerolinecolor": "#EBF0F8"
                      }
                    },
                    "shapedefaults": {
                      "line": {
                        "color": "#2a3f5f"
                      }
                    },
                    "ternary": {
                      "aaxis": {
                        "gridcolor": "#DFE8F3",
                        "linecolor": "#A2B1C6",
                        "ticks": ""
                      },
                      "baxis": {
                        "gridcolor": "#DFE8F3",
                        "linecolor": "#A2B1C6",
                        "ticks": ""
                      },
                      "bgcolor": "white",
                      "caxis": {
                        "gridcolor": "#DFE8F3",
                        "linecolor": "#A2B1C6",
                        "ticks": ""
                      }
                    },
                    "title": {
                      "x": 0.05
                    },
                    "xaxis": {
                      "automargin": true,
                      "gridcolor": "#EBF0F8",
                      "linecolor": "#EBF0F8",
                      "ticks": "",
                      "title": {
                        "standoff": 15
                      },
                      "zerolinecolor": "#EBF0F8",
                      "zerolinewidth": 2
                    },
                    "yaxis": {
                      "automargin": true,
                      "gridcolor": "#EBF0F8",
                      "linecolor": "#EBF0F8",
                      "ticks": "",
                      "title": {
                        "standoff": 15
                      },
                      "zerolinecolor": "#EBF0F8",
                      "zerolinewidth": 2
                    }
                  }
                },
                "title": {
                  "text": "Validação do Modelo de Regressão (R² = 0.924)"
                },
                "width": 1000,
                "xaxis": {
                  "title": {
                    "text": ""
                  }
                },
                "yaxis": {
                  "title": {
                    "text": "% População Economicamente Ativa"
                  }
                }
              }
            }
          },
          "metadata": {},
          "output_type": "display_data"
        },
        {
          "data": {
            "application/vnd.plotly.v1+json": {
              "config": {
                "plotlyServerURL": "https://plot.ly"
              },
              "data": [
                {
                  "hovertemplate": "<b>%{fullData.name}</b><br>Data: %{x|%b/%Y}<br>Taxa: %{y:.1f}%<extra></extra>",
                  "line": {
                    "color": "#282f6b",
                    "width": 1.5
                  },
                  "marker": {
                    "color": "#282f6b",
                    "size": 6
                  },
                  "mode": "lines+markers",
                  "name": "PNAD Contínua (original)",
                  "type": "scatter",
                  "x": [
                    "2002-03-01T00:00:00.000000000",
                    "2002-04-01T00:00:00.000000000",
                    "2002-05-01T00:00:00.000000000",
                    "2002-06-01T00:00:00.000000000",
                    "2002-07-01T00:00:00.000000000",
                    "2002-08-01T00:00:00.000000000",
                    "2002-09-01T00:00:00.000000000",
                    "2002-10-01T00:00:00.000000000",
                    "2002-11-01T00:00:00.000000000",
                    "2002-12-01T00:00:00.000000000",
                    "2003-01-01T00:00:00.000000000",
                    "2003-02-01T00:00:00.000000000",
                    "2003-03-01T00:00:00.000000000",
                    "2003-04-01T00:00:00.000000000",
                    "2003-05-01T00:00:00.000000000",
                    "2003-06-01T00:00:00.000000000",
                    "2003-07-01T00:00:00.000000000",
                    "2003-08-01T00:00:00.000000000",
                    "2003-09-01T00:00:00.000000000",
                    "2003-10-01T00:00:00.000000000",
                    "2003-11-01T00:00:00.000000000",
                    "2003-12-01T00:00:00.000000000",
                    "2004-01-01T00:00:00.000000000",
                    "2004-02-01T00:00:00.000000000",
                    "2004-03-01T00:00:00.000000000",
                    "2004-04-01T00:00:00.000000000",
                    "2004-05-01T00:00:00.000000000",
                    "2004-06-01T00:00:00.000000000",
                    "2004-07-01T00:00:00.000000000",
                    "2004-08-01T00:00:00.000000000",
                    "2004-09-01T00:00:00.000000000",
                    "2004-10-01T00:00:00.000000000",
                    "2004-11-01T00:00:00.000000000",
                    "2004-12-01T00:00:00.000000000",
                    "2005-01-01T00:00:00.000000000",
                    "2005-02-01T00:00:00.000000000",
                    "2005-03-01T00:00:00.000000000",
                    "2005-04-01T00:00:00.000000000",
                    "2005-05-01T00:00:00.000000000",
                    "2005-06-01T00:00:00.000000000",
                    "2005-07-01T00:00:00.000000000",
                    "2005-08-01T00:00:00.000000000",
                    "2005-09-01T00:00:00.000000000",
                    "2005-10-01T00:00:00.000000000",
                    "2005-11-01T00:00:00.000000000",
                    "2005-12-01T00:00:00.000000000",
                    "2006-01-01T00:00:00.000000000",
                    "2006-02-01T00:00:00.000000000",
                    "2006-03-01T00:00:00.000000000",
                    "2006-04-01T00:00:00.000000000",
                    "2006-05-01T00:00:00.000000000",
                    "2006-06-01T00:00:00.000000000",
                    "2006-07-01T00:00:00.000000000",
                    "2006-08-01T00:00:00.000000000",
                    "2006-09-01T00:00:00.000000000",
                    "2006-10-01T00:00:00.000000000",
                    "2006-11-01T00:00:00.000000000",
                    "2006-12-01T00:00:00.000000000",
                    "2007-01-01T00:00:00.000000000",
                    "2007-02-01T00:00:00.000000000",
                    "2007-03-01T00:00:00.000000000",
                    "2007-04-01T00:00:00.000000000",
                    "2007-05-01T00:00:00.000000000",
                    "2007-06-01T00:00:00.000000000",
                    "2007-07-01T00:00:00.000000000",
                    "2007-08-01T00:00:00.000000000",
                    "2007-09-01T00:00:00.000000000",
                    "2007-10-01T00:00:00.000000000",
                    "2007-11-01T00:00:00.000000000",
                    "2007-12-01T00:00:00.000000000",
                    "2008-01-01T00:00:00.000000000",
                    "2008-02-01T00:00:00.000000000",
                    "2008-03-01T00:00:00.000000000",
                    "2008-04-01T00:00:00.000000000",
                    "2008-05-01T00:00:00.000000000",
                    "2008-06-01T00:00:00.000000000",
                    "2008-07-01T00:00:00.000000000",
                    "2008-08-01T00:00:00.000000000",
                    "2008-09-01T00:00:00.000000000",
                    "2008-10-01T00:00:00.000000000",
                    "2008-11-01T00:00:00.000000000",
                    "2008-12-01T00:00:00.000000000",
                    "2009-01-01T00:00:00.000000000",
                    "2009-02-01T00:00:00.000000000",
                    "2009-03-01T00:00:00.000000000",
                    "2009-04-01T00:00:00.000000000",
                    "2009-05-01T00:00:00.000000000",
                    "2009-06-01T00:00:00.000000000",
                    "2009-07-01T00:00:00.000000000",
                    "2009-08-01T00:00:00.000000000",
                    "2009-09-01T00:00:00.000000000",
                    "2009-10-01T00:00:00.000000000",
                    "2009-11-01T00:00:00.000000000",
                    "2009-12-01T00:00:00.000000000",
                    "2010-01-01T00:00:00.000000000",
                    "2010-02-01T00:00:00.000000000",
                    "2010-03-01T00:00:00.000000000",
                    "2010-04-01T00:00:00.000000000",
                    "2010-05-01T00:00:00.000000000",
                    "2010-06-01T00:00:00.000000000",
                    "2010-07-01T00:00:00.000000000",
                    "2010-08-01T00:00:00.000000000",
                    "2010-09-01T00:00:00.000000000",
                    "2010-10-01T00:00:00.000000000",
                    "2010-11-01T00:00:00.000000000",
                    "2010-12-01T00:00:00.000000000",
                    "2011-01-01T00:00:00.000000000",
                    "2011-02-01T00:00:00.000000000",
                    "2011-03-01T00:00:00.000000000",
                    "2011-04-01T00:00:00.000000000",
                    "2011-05-01T00:00:00.000000000",
                    "2011-06-01T00:00:00.000000000",
                    "2011-07-01T00:00:00.000000000",
                    "2011-08-01T00:00:00.000000000",
                    "2011-09-01T00:00:00.000000000",
                    "2011-10-01T00:00:00.000000000",
                    "2011-11-01T00:00:00.000000000",
                    "2011-12-01T00:00:00.000000000",
                    "2012-01-01T00:00:00.000000000",
                    "2012-02-01T00:00:00.000000000",
                    "2012-03-01T00:00:00.000000000",
                    "2012-04-01T00:00:00.000000000",
                    "2012-05-01T00:00:00.000000000",
                    "2012-06-01T00:00:00.000000000",
                    "2012-07-01T00:00:00.000000000",
                    "2012-08-01T00:00:00.000000000",
                    "2012-09-01T00:00:00.000000000",
                    "2012-10-01T00:00:00.000000000",
                    "2012-11-01T00:00:00.000000000",
                    "2012-12-01T00:00:00.000000000",
                    "2013-01-01T00:00:00.000000000",
                    "2013-02-01T00:00:00.000000000",
                    "2013-03-01T00:00:00.000000000",
                    "2013-04-01T00:00:00.000000000",
                    "2013-05-01T00:00:00.000000000",
                    "2013-06-01T00:00:00.000000000",
                    "2013-07-01T00:00:00.000000000",
                    "2013-08-01T00:00:00.000000000",
                    "2013-09-01T00:00:00.000000000",
                    "2013-10-01T00:00:00.000000000",
                    "2013-11-01T00:00:00.000000000",
                    "2013-12-01T00:00:00.000000000",
                    "2014-01-01T00:00:00.000000000",
                    "2014-02-01T00:00:00.000000000",
                    "2014-03-01T00:00:00.000000000",
                    "2014-04-01T00:00:00.000000000",
                    "2014-05-01T00:00:00.000000000",
                    "2014-06-01T00:00:00.000000000",
                    "2014-07-01T00:00:00.000000000",
                    "2014-08-01T00:00:00.000000000",
                    "2014-09-01T00:00:00.000000000",
                    "2014-10-01T00:00:00.000000000",
                    "2014-11-01T00:00:00.000000000",
                    "2014-12-01T00:00:00.000000000",
                    "2015-01-01T00:00:00.000000000",
                    "2015-02-01T00:00:00.000000000",
                    "2015-03-01T00:00:00.000000000",
                    "2015-04-01T00:00:00.000000000",
                    "2015-05-01T00:00:00.000000000",
                    "2015-06-01T00:00:00.000000000",
                    "2015-07-01T00:00:00.000000000",
                    "2015-08-01T00:00:00.000000000",
                    "2015-09-01T00:00:00.000000000",
                    "2015-10-01T00:00:00.000000000",
                    "2015-11-01T00:00:00.000000000",
                    "2015-12-01T00:00:00.000000000",
                    "2016-01-01T00:00:00.000000000",
                    "2016-02-01T00:00:00.000000000",
                    "2016-03-01T00:00:00.000000000",
                    "2016-04-01T00:00:00.000000000",
                    "2016-05-01T00:00:00.000000000",
                    "2016-06-01T00:00:00.000000000",
                    "2016-07-01T00:00:00.000000000",
                    "2016-08-01T00:00:00.000000000",
                    "2016-09-01T00:00:00.000000000",
                    "2016-10-01T00:00:00.000000000",
                    "2016-11-01T00:00:00.000000000",
                    "2016-12-01T00:00:00.000000000",
                    "2017-01-01T00:00:00.000000000",
                    "2017-02-01T00:00:00.000000000",
                    "2017-03-01T00:00:00.000000000",
                    "2017-04-01T00:00:00.000000000",
                    "2017-05-01T00:00:00.000000000",
                    "2017-06-01T00:00:00.000000000",
                    "2017-07-01T00:00:00.000000000",
                    "2017-08-01T00:00:00.000000000",
                    "2017-09-01T00:00:00.000000000",
                    "2017-10-01T00:00:00.000000000",
                    "2017-11-01T00:00:00.000000000",
                    "2017-12-01T00:00:00.000000000",
                    "2018-01-01T00:00:00.000000000",
                    "2018-02-01T00:00:00.000000000",
                    "2018-03-01T00:00:00.000000000",
                    "2018-04-01T00:00:00.000000000",
                    "2018-05-01T00:00:00.000000000",
                    "2018-06-01T00:00:00.000000000",
                    "2018-07-01T00:00:00.000000000",
                    "2018-08-01T00:00:00.000000000",
                    "2018-09-01T00:00:00.000000000",
                    "2018-10-01T00:00:00.000000000",
                    "2018-11-01T00:00:00.000000000",
                    "2018-12-01T00:00:00.000000000",
                    "2019-01-01T00:00:00.000000000",
                    "2019-02-01T00:00:00.000000000",
                    "2019-03-01T00:00:00.000000000",
                    "2019-04-01T00:00:00.000000000",
                    "2019-05-01T00:00:00.000000000",
                    "2019-06-01T00:00:00.000000000",
                    "2019-07-01T00:00:00.000000000",
                    "2019-08-01T00:00:00.000000000",
                    "2019-09-01T00:00:00.000000000",
                    "2019-10-01T00:00:00.000000000",
                    "2019-11-01T00:00:00.000000000",
                    "2019-12-01T00:00:00.000000000",
                    "2020-01-01T00:00:00.000000000",
                    "2020-02-01T00:00:00.000000000",
                    "2020-03-01T00:00:00.000000000",
                    "2020-04-01T00:00:00.000000000",
                    "2020-05-01T00:00:00.000000000",
                    "2020-06-01T00:00:00.000000000",
                    "2020-07-01T00:00:00.000000000",
                    "2020-08-01T00:00:00.000000000",
                    "2020-09-01T00:00:00.000000000",
                    "2020-10-01T00:00:00.000000000",
                    "2020-11-01T00:00:00.000000000",
                    "2020-12-01T00:00:00.000000000",
                    "2021-01-01T00:00:00.000000000",
                    "2021-02-01T00:00:00.000000000",
                    "2021-03-01T00:00:00.000000000",
                    "2021-04-01T00:00:00.000000000",
                    "2021-05-01T00:00:00.000000000",
                    "2021-06-01T00:00:00.000000000",
                    "2021-07-01T00:00:00.000000000",
                    "2021-08-01T00:00:00.000000000",
                    "2021-09-01T00:00:00.000000000",
                    "2021-10-01T00:00:00.000000000",
                    "2021-11-01T00:00:00.000000000",
                    "2021-12-01T00:00:00.000000000",
                    "2022-01-01T00:00:00.000000000",
                    "2022-02-01T00:00:00.000000000",
                    "2022-03-01T00:00:00.000000000",
                    "2022-04-01T00:00:00.000000000",
                    "2022-05-01T00:00:00.000000000",
                    "2022-06-01T00:00:00.000000000",
                    "2022-07-01T00:00:00.000000000",
                    "2022-08-01T00:00:00.000000000",
                    "2022-09-01T00:00:00.000000000",
                    "2022-10-01T00:00:00.000000000",
                    "2022-11-01T00:00:00.000000000",
                    "2022-12-01T00:00:00.000000000",
                    "2023-01-01T00:00:00.000000000",
                    "2023-02-01T00:00:00.000000000",
                    "2023-03-01T00:00:00.000000000",
                    "2023-04-01T00:00:00.000000000",
                    "2023-05-01T00:00:00.000000000",
                    "2023-06-01T00:00:00.000000000",
                    "2023-07-01T00:00:00.000000000",
                    "2023-08-01T00:00:00.000000000",
                    "2023-09-01T00:00:00.000000000",
                    "2023-10-01T00:00:00.000000000",
                    "2023-11-01T00:00:00.000000000",
                    "2023-12-01T00:00:00.000000000",
                    "2024-01-01T00:00:00.000000000",
                    "2024-02-01T00:00:00.000000000",
                    "2024-03-01T00:00:00.000000000",
                    "2024-04-01T00:00:00.000000000",
                    "2024-05-01T00:00:00.000000000",
                    "2024-06-01T00:00:00.000000000",
                    "2024-07-01T00:00:00.000000000",
                    "2024-08-01T00:00:00.000000000",
                    "2024-09-01T00:00:00.000000000",
                    "2024-10-01T00:00:00.000000000",
                    "2024-11-01T00:00:00.000000000",
                    "2024-12-01T00:00:00.000000000",
                    "2025-01-01T00:00:00.000000000",
                    "2025-02-01T00:00:00.000000000",
                    "2025-03-01T00:00:00.000000000",
                    "2025-04-01T00:00:00.000000000",
                    "2025-05-01T00:00:00.000000000",
                    "2025-06-01T00:00:00.000000000",
                    "2025-07-01T00:00:00.000000000"
                  ],
                  "y": {
                    "bdata": "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",
                    "dtype": "f8"
                  }
                },
                {
                  "hovertemplate": "<b>%{fullData.name}</b><br>Data: %{x|%b/%Y}<br>Taxa: %{y:.1f}%<extra></extra>",
                  "line": {
                    "color": "#b22200",
                    "width": 1.5
                  },
                  "marker": {
                    "color": "#b22200",
                    "size": 6
                  },
                  "mode": "lines+markers",
                  "name": "PNAD Contínua (dessazonalizada)",
                  "type": "scatter",
                  "x": [
                    "2002-03-01T00:00:00.000000000",
                    "2002-04-01T00:00:00.000000000",
                    "2002-05-01T00:00:00.000000000",
                    "2002-06-01T00:00:00.000000000",
                    "2002-07-01T00:00:00.000000000",
                    "2002-08-01T00:00:00.000000000",
                    "2002-09-01T00:00:00.000000000",
                    "2002-10-01T00:00:00.000000000",
                    "2002-11-01T00:00:00.000000000",
                    "2002-12-01T00:00:00.000000000",
                    "2003-01-01T00:00:00.000000000",
                    "2003-02-01T00:00:00.000000000",
                    "2003-03-01T00:00:00.000000000",
                    "2003-04-01T00:00:00.000000000",
                    "2003-05-01T00:00:00.000000000",
                    "2003-06-01T00:00:00.000000000",
                    "2003-07-01T00:00:00.000000000",
                    "2003-08-01T00:00:00.000000000",
                    "2003-09-01T00:00:00.000000000",
                    "2003-10-01T00:00:00.000000000",
                    "2003-11-01T00:00:00.000000000",
                    "2003-12-01T00:00:00.000000000",
                    "2004-01-01T00:00:00.000000000",
                    "2004-02-01T00:00:00.000000000",
                    "2004-03-01T00:00:00.000000000",
                    "2004-04-01T00:00:00.000000000",
                    "2004-05-01T00:00:00.000000000",
                    "2004-06-01T00:00:00.000000000",
                    "2004-07-01T00:00:00.000000000",
                    "2004-08-01T00:00:00.000000000",
                    "2004-09-01T00:00:00.000000000",
                    "2004-10-01T00:00:00.000000000",
                    "2004-11-01T00:00:00.000000000",
                    "2004-12-01T00:00:00.000000000",
                    "2005-01-01T00:00:00.000000000",
                    "2005-02-01T00:00:00.000000000",
                    "2005-03-01T00:00:00.000000000",
                    "2005-04-01T00:00:00.000000000",
                    "2005-05-01T00:00:00.000000000",
                    "2005-06-01T00:00:00.000000000",
                    "2005-07-01T00:00:00.000000000",
                    "2005-08-01T00:00:00.000000000",
                    "2005-09-01T00:00:00.000000000",
                    "2005-10-01T00:00:00.000000000",
                    "2005-11-01T00:00:00.000000000",
                    "2005-12-01T00:00:00.000000000",
                    "2006-01-01T00:00:00.000000000",
                    "2006-02-01T00:00:00.000000000",
                    "2006-03-01T00:00:00.000000000",
                    "2006-04-01T00:00:00.000000000",
                    "2006-05-01T00:00:00.000000000",
                    "2006-06-01T00:00:00.000000000",
                    "2006-07-01T00:00:00.000000000",
                    "2006-08-01T00:00:00.000000000",
                    "2006-09-01T00:00:00.000000000",
                    "2006-10-01T00:00:00.000000000",
                    "2006-11-01T00:00:00.000000000",
                    "2006-12-01T00:00:00.000000000",
                    "2007-01-01T00:00:00.000000000",
                    "2007-02-01T00:00:00.000000000",
                    "2007-03-01T00:00:00.000000000",
                    "2007-04-01T00:00:00.000000000",
                    "2007-05-01T00:00:00.000000000",
                    "2007-06-01T00:00:00.000000000",
                    "2007-07-01T00:00:00.000000000",
                    "2007-08-01T00:00:00.000000000",
                    "2007-09-01T00:00:00.000000000",
                    "2007-10-01T00:00:00.000000000",
                    "2007-11-01T00:00:00.000000000",
                    "2007-12-01T00:00:00.000000000",
                    "2008-01-01T00:00:00.000000000",
                    "2008-02-01T00:00:00.000000000",
                    "2008-03-01T00:00:00.000000000",
                    "2008-04-01T00:00:00.000000000",
                    "2008-05-01T00:00:00.000000000",
                    "2008-06-01T00:00:00.000000000",
                    "2008-07-01T00:00:00.000000000",
                    "2008-08-01T00:00:00.000000000",
                    "2008-09-01T00:00:00.000000000",
                    "2008-10-01T00:00:00.000000000",
                    "2008-11-01T00:00:00.000000000",
                    "2008-12-01T00:00:00.000000000",
                    "2009-01-01T00:00:00.000000000",
                    "2009-02-01T00:00:00.000000000",
                    "2009-03-01T00:00:00.000000000",
                    "2009-04-01T00:00:00.000000000",
                    "2009-05-01T00:00:00.000000000",
                    "2009-06-01T00:00:00.000000000",
                    "2009-07-01T00:00:00.000000000",
                    "2009-08-01T00:00:00.000000000",
                    "2009-09-01T00:00:00.000000000",
                    "2009-10-01T00:00:00.000000000",
                    "2009-11-01T00:00:00.000000000",
                    "2009-12-01T00:00:00.000000000",
                    "2010-01-01T00:00:00.000000000",
                    "2010-02-01T00:00:00.000000000",
                    "2010-03-01T00:00:00.000000000",
                    "2010-04-01T00:00:00.000000000",
                    "2010-05-01T00:00:00.000000000",
                    "2010-06-01T00:00:00.000000000",
                    "2010-07-01T00:00:00.000000000",
                    "2010-08-01T00:00:00.000000000",
                    "2010-09-01T00:00:00.000000000",
                    "2010-10-01T00:00:00.000000000",
                    "2010-11-01T00:00:00.000000000",
                    "2010-12-01T00:00:00.000000000",
                    "2011-01-01T00:00:00.000000000",
                    "2011-02-01T00:00:00.000000000",
                    "2011-03-01T00:00:00.000000000",
                    "2011-04-01T00:00:00.000000000",
                    "2011-05-01T00:00:00.000000000",
                    "2011-06-01T00:00:00.000000000",
                    "2011-07-01T00:00:00.000000000",
                    "2011-08-01T00:00:00.000000000",
                    "2011-09-01T00:00:00.000000000",
                    "2011-10-01T00:00:00.000000000",
                    "2011-11-01T00:00:00.000000000",
                    "2011-12-01T00:00:00.000000000",
                    "2012-01-01T00:00:00.000000000",
                    "2012-02-01T00:00:00.000000000",
                    "2012-03-01T00:00:00.000000000",
                    "2012-04-01T00:00:00.000000000",
                    "2012-05-01T00:00:00.000000000",
                    "2012-06-01T00:00:00.000000000",
                    "2012-07-01T00:00:00.000000000",
                    "2012-08-01T00:00:00.000000000",
                    "2012-09-01T00:00:00.000000000",
                    "2012-10-01T00:00:00.000000000",
                    "2012-11-01T00:00:00.000000000",
                    "2012-12-01T00:00:00.000000000",
                    "2013-01-01T00:00:00.000000000",
                    "2013-02-01T00:00:00.000000000",
                    "2013-03-01T00:00:00.000000000",
                    "2013-04-01T00:00:00.000000000",
                    "2013-05-01T00:00:00.000000000",
                    "2013-06-01T00:00:00.000000000",
                    "2013-07-01T00:00:00.000000000",
                    "2013-08-01T00:00:00.000000000",
                    "2013-09-01T00:00:00.000000000",
                    "2013-10-01T00:00:00.000000000",
                    "2013-11-01T00:00:00.000000000",
                    "2013-12-01T00:00:00.000000000",
                    "2014-01-01T00:00:00.000000000",
                    "2014-02-01T00:00:00.000000000",
                    "2014-03-01T00:00:00.000000000",
                    "2014-04-01T00:00:00.000000000",
                    "2014-05-01T00:00:00.000000000",
                    "2014-06-01T00:00:00.000000000",
                    "2014-07-01T00:00:00.000000000",
                    "2014-08-01T00:00:00.000000000",
                    "2014-09-01T00:00:00.000000000",
                    "2014-10-01T00:00:00.000000000",
                    "2014-11-01T00:00:00.000000000",
                    "2014-12-01T00:00:00.000000000",
                    "2015-01-01T00:00:00.000000000",
                    "2015-02-01T00:00:00.000000000",
                    "2015-03-01T00:00:00.000000000",
                    "2015-04-01T00:00:00.000000000",
                    "2015-05-01T00:00:00.000000000",
                    "2015-06-01T00:00:00.000000000",
                    "2015-07-01T00:00:00.000000000",
                    "2015-08-01T00:00:00.000000000",
                    "2015-09-01T00:00:00.000000000",
                    "2015-10-01T00:00:00.000000000",
                    "2015-11-01T00:00:00.000000000",
                    "2015-12-01T00:00:00.000000000",
                    "2016-01-01T00:00:00.000000000",
                    "2016-02-01T00:00:00.000000000",
                    "2016-03-01T00:00:00.000000000",
                    "2016-04-01T00:00:00.000000000",
                    "2016-05-01T00:00:00.000000000",
                    "2016-06-01T00:00:00.000000000",
                    "2016-07-01T00:00:00.000000000",
                    "2016-08-01T00:00:00.000000000",
                    "2016-09-01T00:00:00.000000000",
                    "2016-10-01T00:00:00.000000000",
                    "2016-11-01T00:00:00.000000000",
                    "2016-12-01T00:00:00.000000000",
                    "2017-01-01T00:00:00.000000000",
                    "2017-02-01T00:00:00.000000000",
                    "2017-03-01T00:00:00.000000000",
                    "2017-04-01T00:00:00.000000000",
                    "2017-05-01T00:00:00.000000000",
                    "2017-06-01T00:00:00.000000000",
                    "2017-07-01T00:00:00.000000000",
                    "2017-08-01T00:00:00.000000000",
                    "2017-09-01T00:00:00.000000000",
                    "2017-10-01T00:00:00.000000000",
                    "2017-11-01T00:00:00.000000000",
                    "2017-12-01T00:00:00.000000000",
                    "2018-01-01T00:00:00.000000000",
                    "2018-02-01T00:00:00.000000000",
                    "2018-03-01T00:00:00.000000000",
                    "2018-04-01T00:00:00.000000000",
                    "2018-05-01T00:00:00.000000000",
                    "2018-06-01T00:00:00.000000000",
                    "2018-07-01T00:00:00.000000000",
                    "2018-08-01T00:00:00.000000000",
                    "2018-09-01T00:00:00.000000000",
                    "2018-10-01T00:00:00.000000000",
                    "2018-11-01T00:00:00.000000000",
                    "2018-12-01T00:00:00.000000000",
                    "2019-01-01T00:00:00.000000000",
                    "2019-02-01T00:00:00.000000000",
                    "2019-03-01T00:00:00.000000000",
                    "2019-04-01T00:00:00.000000000",
                    "2019-05-01T00:00:00.000000000",
                    "2019-06-01T00:00:00.000000000",
                    "2019-07-01T00:00:00.000000000",
                    "2019-08-01T00:00:00.000000000",
                    "2019-09-01T00:00:00.000000000",
                    "2019-10-01T00:00:00.000000000",
                    "2019-11-01T00:00:00.000000000",
                    "2019-12-01T00:00:00.000000000",
                    "2020-01-01T00:00:00.000000000",
                    "2020-02-01T00:00:00.000000000",
                    "2020-03-01T00:00:00.000000000",
                    "2020-04-01T00:00:00.000000000",
                    "2020-05-01T00:00:00.000000000",
                    "2020-06-01T00:00:00.000000000",
                    "2020-07-01T00:00:00.000000000",
                    "2020-08-01T00:00:00.000000000",
                    "2020-09-01T00:00:00.000000000",
                    "2020-10-01T00:00:00.000000000",
                    "2020-11-01T00:00:00.000000000",
                    "2020-12-01T00:00:00.000000000",
                    "2021-01-01T00:00:00.000000000",
                    "2021-02-01T00:00:00.000000000",
                    "2021-03-01T00:00:00.000000000",
                    "2021-04-01T00:00:00.000000000",
                    "2021-05-01T00:00:00.000000000",
                    "2021-06-01T00:00:00.000000000",
                    "2021-07-01T00:00:00.000000000",
                    "2021-08-01T00:00:00.000000000",
                    "2021-09-01T00:00:00.000000000",
                    "2021-10-01T00:00:00.000000000",
                    "2021-11-01T00:00:00.000000000",
                    "2021-12-01T00:00:00.000000000",
                    "2022-01-01T00:00:00.000000000",
                    "2022-02-01T00:00:00.000000000",
                    "2022-03-01T00:00:00.000000000",
                    "2022-04-01T00:00:00.000000000",
                    "2022-05-01T00:00:00.000000000",
                    "2022-06-01T00:00:00.000000000",
                    "2022-07-01T00:00:00.000000000",
                    "2022-08-01T00:00:00.000000000",
                    "2022-09-01T00:00:00.000000000",
                    "2022-10-01T00:00:00.000000000",
                    "2022-11-01T00:00:00.000000000",
                    "2022-12-01T00:00:00.000000000",
                    "2023-01-01T00:00:00.000000000",
                    "2023-02-01T00:00:00.000000000",
                    "2023-03-01T00:00:00.000000000",
                    "2023-04-01T00:00:00.000000000",
                    "2023-05-01T00:00:00.000000000",
                    "2023-06-01T00:00:00.000000000",
                    "2023-07-01T00:00:00.000000000",
                    "2023-08-01T00:00:00.000000000",
                    "2023-09-01T00:00:00.000000000",
                    "2023-10-01T00:00:00.000000000",
                    "2023-11-01T00:00:00.000000000",
                    "2023-12-01T00:00:00.000000000",
                    "2024-01-01T00:00:00.000000000",
                    "2024-02-01T00:00:00.000000000",
                    "2024-03-01T00:00:00.000000000",
                    "2024-04-01T00:00:00.000000000",
                    "2024-05-01T00:00:00.000000000",
                    "2024-06-01T00:00:00.000000000",
                    "2024-07-01T00:00:00.000000000",
                    "2024-08-01T00:00:00.000000000",
                    "2024-09-01T00:00:00.000000000",
                    "2024-10-01T00:00:00.000000000",
                    "2024-11-01T00:00:00.000000000",
                    "2024-12-01T00:00:00.000000000",
                    "2025-01-01T00:00:00.000000000",
                    "2025-02-01T00:00:00.000000000",
                    "2025-03-01T00:00:00.000000000",
                    "2025-04-01T00:00:00.000000000",
                    "2025-05-01T00:00:00.000000000",
                    "2025-06-01T00:00:00.000000000",
                    "2025-07-01T00:00:00.000000000"
                  ],
                  "y": {
                    "bdata": "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",
                    "dtype": "f8"
                  }
                }
              ],
              "layout": {
                "annotations": [
                  {
                    "font": {
                      "size": 10
                    },
                    "showarrow": false,
                    "text": "Elaboração própria | Fonte: IBGE e BCB",
                    "x": 1,
                    "xanchor": "right",
                    "xref": "paper",
                    "y": -0.25,
                    "yref": "paper"
                  }
                ],
                "height": 500,
                "legend": {
                  "orientation": "h",
                  "title": {
                    "text": ""
                  },
                  "x": 0.5,
                  "xanchor": "center",
                  "y": -0.15
                },
                "margin": {
                  "b": 80,
                  "l": 40,
                  "r": 40,
                  "t": 60
                },
                "template": {
                  "data": {
                    "bar": [
                      {
                        "error_x": {
                          "color": "#2a3f5f"
                        },
                        "error_y": {
                          "color": "#2a3f5f"
                        },
                        "marker": {
                          "line": {
                            "color": "white",
                            "width": 0.5
                          },
                          "pattern": {
                            "fillmode": "overlay",
                            "size": 10,
                            "solidity": 0.2
                          }
                        },
                        "type": "bar"
                      }
                    ],
                    "barpolar": [
                      {
                        "marker": {
                          "line": {
                            "color": "white",
                            "width": 0.5
                          },
                          "pattern": {
                            "fillmode": "overlay",
                            "size": 10,
                            "solidity": 0.2
                          }
                        },
                        "type": "barpolar"
                      }
                    ],
                    "carpet": [
                      {
                        "aaxis": {
                          "endlinecolor": "#2a3f5f",
                          "gridcolor": "#C8D4E3",
                          "linecolor": "#C8D4E3",
                          "minorgridcolor": "#C8D4E3",
                          "startlinecolor": "#2a3f5f"
                        },
                        "baxis": {
                          "endlinecolor": "#2a3f5f",
                          "gridcolor": "#C8D4E3",
                          "linecolor": "#C8D4E3",
                          "minorgridcolor": "#C8D4E3",
                          "startlinecolor": "#2a3f5f"
                        },
                        "type": "carpet"
                      }
                    ],
                    "choropleth": [
                      {
                        "colorbar": {
                          "outlinewidth": 0,
                          "ticks": ""
                        },
                        "type": "choropleth"
                      }
                    ],
                    "contour": [
                      {
                        "colorbar": {
                          "outlinewidth": 0,
                          "ticks": ""
                        },
                        "colorscale": [
                          [
                            0,
                            "#0d0887"
                          ],
                          [
                            0.1111111111111111,
                            "#46039f"
                          ],
                          [
                            0.2222222222222222,
                            "#7201a8"
                          ],
                          [
                            0.3333333333333333,
                            "#9c179e"
                          ],
                          [
                            0.4444444444444444,
                            "#bd3786"
                          ],
                          [
                            0.5555555555555556,
                            "#d8576b"
                          ],
                          [
                            0.6666666666666666,
                            "#ed7953"
                          ],
                          [
                            0.7777777777777778,
                            "#fb9f3a"
                          ],
                          [
                            0.8888888888888888,
                            "#fdca26"
                          ],
                          [
                            1,
                            "#f0f921"
                          ]
                        ],
                        "type": "contour"
                      }
                    ],
                    "contourcarpet": [
                      {
                        "colorbar": {
                          "outlinewidth": 0,
                          "ticks": ""
                        },
                        "type": "contourcarpet"
                      }
                    ],
                    "heatmap": [
                      {
                        "colorbar": {
                          "outlinewidth": 0,
                          "ticks": ""
                        },
                        "colorscale": [
                          [
                            0,
                            "#0d0887"
                          ],
                          [
                            0.1111111111111111,
                            "#46039f"
                          ],
                          [
                            0.2222222222222222,
                            "#7201a8"
                          ],
                          [
                            0.3333333333333333,
                            "#9c179e"
                          ],
                          [
                            0.4444444444444444,
                            "#bd3786"
                          ],
                          [
                            0.5555555555555556,
                            "#d8576b"
                          ],
                          [
                            0.6666666666666666,
                            "#ed7953"
                          ],
                          [
                            0.7777777777777778,
                            "#fb9f3a"
                          ],
                          [
                            0.8888888888888888,
                            "#fdca26"
                          ],
                          [
                            1,
                            "#f0f921"
                          ]
                        ],
                        "type": "heatmap"
                      }
                    ],
                    "histogram": [
                      {
                        "marker": {
                          "pattern": {
                            "fillmode": "overlay",
                            "size": 10,
                            "solidity": 0.2
                          }
                        },
                        "type": "histogram"
                      }
                    ],
                    "histogram2d": [
                      {
                        "colorbar": {
                          "outlinewidth": 0,
                          "ticks": ""
                        },
                        "colorscale": [
                          [
                            0,
                            "#0d0887"
                          ],
                          [
                            0.1111111111111111,
                            "#46039f"
                          ],
                          [
                            0.2222222222222222,
                            "#7201a8"
                          ],
                          [
                            0.3333333333333333,
                            "#9c179e"
                          ],
                          [
                            0.4444444444444444,
                            "#bd3786"
                          ],
                          [
                            0.5555555555555556,
                            "#d8576b"
                          ],
                          [
                            0.6666666666666666,
                            "#ed7953"
                          ],
                          [
                            0.7777777777777778,
                            "#fb9f3a"
                          ],
                          [
                            0.8888888888888888,
                            "#fdca26"
                          ],
                          [
                            1,
                            "#f0f921"
                          ]
                        ],
                        "type": "histogram2d"
                      }
                    ],
                    "histogram2dcontour": [
                      {
                        "colorbar": {
                          "outlinewidth": 0,
                          "ticks": ""
                        },
                        "colorscale": [
                          [
                            0,
                            "#0d0887"
                          ],
                          [
                            0.1111111111111111,
                            "#46039f"
                          ],
                          [
                            0.2222222222222222,
                            "#7201a8"
                          ],
                          [
                            0.3333333333333333,
                            "#9c179e"
                          ],
                          [
                            0.4444444444444444,
                            "#bd3786"
                          ],
                          [
                            0.5555555555555556,
                            "#d8576b"
                          ],
                          [
                            0.6666666666666666,
                            "#ed7953"
                          ],
                          [
                            0.7777777777777778,
                            "#fb9f3a"
                          ],
                          [
                            0.8888888888888888,
                            "#fdca26"
                          ],
                          [
                            1,
                            "#f0f921"
                          ]
                        ],
                        "type": "histogram2dcontour"
                      }
                    ],
                    "mesh3d": [
                      {
                        "colorbar": {
                          "outlinewidth": 0,
                          "ticks": ""
                        },
                        "type": "mesh3d"
                      }
                    ],
                    "parcoords": [
                      {
                        "line": {
                          "colorbar": {
                            "outlinewidth": 0,
                            "ticks": ""
                          }
                        },
                        "type": "parcoords"
                      }
                    ],
                    "pie": [
                      {
                        "automargin": true,
                        "type": "pie"
                      }
                    ],
                    "scatter": [
                      {
                        "fillpattern": {
                          "fillmode": "overlay",
                          "size": 10,
                          "solidity": 0.2
                        },
                        "type": "scatter"
                      }
                    ],
                    "scatter3d": [
                      {
                        "line": {
                          "colorbar": {
                            "outlinewidth": 0,
                            "ticks": ""
                          }
                        },
                        "marker": {
                          "colorbar": {
                            "outlinewidth": 0,
                            "ticks": ""
                          }
                        },
                        "type": "scatter3d"
                      }
                    ],
                    "scattercarpet": [
                      {
                        "marker": {
                          "colorbar": {
                            "outlinewidth": 0,
                            "ticks": ""
                          }
                        },
                        "type": "scattercarpet"
                      }
                    ],
                    "scattergeo": [
                      {
                        "marker": {
                          "colorbar": {
                            "outlinewidth": 0,
                            "ticks": ""
                          }
                        },
                        "type": "scattergeo"
                      }
                    ],
                    "scattergl": [
                      {
                        "marker": {
                          "colorbar": {
                            "outlinewidth": 0,
                            "ticks": ""
                          }
                        },
                        "type": "scattergl"
                      }
                    ],
                    "scattermap": [
                      {
                        "marker": {
                          "colorbar": {
                            "outlinewidth": 0,
                            "ticks": ""
                          }
                        },
                        "type": "scattermap"
                      }
                    ],
                    "scattermapbox": [
                      {
                        "marker": {
                          "colorbar": {
                            "outlinewidth": 0,
                            "ticks": ""
                          }
                        },
                        "type": "scattermapbox"
                      }
                    ],
                    "scatterpolar": [
                      {
                        "marker": {
                          "colorbar": {
                            "outlinewidth": 0,
                            "ticks": ""
                          }
                        },
                        "type": "scatterpolar"
                      }
                    ],
                    "scatterpolargl": [
                      {
                        "marker": {
                          "colorbar": {
                            "outlinewidth": 0,
                            "ticks": ""
                          }
                        },
                        "type": "scatterpolargl"
                      }
                    ],
                    "scatterternary": [
                      {
                        "marker": {
                          "colorbar": {
                            "outlinewidth": 0,
                            "ticks": ""
                          }
                        },
                        "type": "scatterternary"
                      }
                    ],
                    "surface": [
                      {
                        "colorbar": {
                          "outlinewidth": 0,
                          "ticks": ""
                        },
                        "colorscale": [
                          [
                            0,
                            "#0d0887"
                          ],
                          [
                            0.1111111111111111,
                            "#46039f"
                          ],
                          [
                            0.2222222222222222,
                            "#7201a8"
                          ],
                          [
                            0.3333333333333333,
                            "#9c179e"
                          ],
                          [
                            0.4444444444444444,
                            "#bd3786"
                          ],
                          [
                            0.5555555555555556,
                            "#d8576b"
                          ],
                          [
                            0.6666666666666666,
                            "#ed7953"
                          ],
                          [
                            0.7777777777777778,
                            "#fb9f3a"
                          ],
                          [
                            0.8888888888888888,
                            "#fdca26"
                          ],
                          [
                            1,
                            "#f0f921"
                          ]
                        ],
                        "type": "surface"
                      }
                    ],
                    "table": [
                      {
                        "cells": {
                          "fill": {
                            "color": "#EBF0F8"
                          },
                          "line": {
                            "color": "white"
                          }
                        },
                        "header": {
                          "fill": {
                            "color": "#C8D4E3"
                          },
                          "line": {
                            "color": "white"
                          }
                        },
                        "type": "table"
                      }
                    ]
                  },
                  "layout": {
                    "annotationdefaults": {
                      "arrowcolor": "#2a3f5f",
                      "arrowhead": 0,
                      "arrowwidth": 1
                    },
                    "autotypenumbers": "strict",
                    "coloraxis": {
                      "colorbar": {
                        "outlinewidth": 0,
                        "ticks": ""
                      }
                    },
                    "colorscale": {
                      "diverging": [
                        [
                          0,
                          "#8e0152"
                        ],
                        [
                          0.1,
                          "#c51b7d"
                        ],
                        [
                          0.2,
                          "#de77ae"
                        ],
                        [
                          0.3,
                          "#f1b6da"
                        ],
                        [
                          0.4,
                          "#fde0ef"
                        ],
                        [
                          0.5,
                          "#f7f7f7"
                        ],
                        [
                          0.6,
                          "#e6f5d0"
                        ],
                        [
                          0.7,
                          "#b8e186"
                        ],
                        [
                          0.8,
                          "#7fbc41"
                        ],
                        [
                          0.9,
                          "#4d9221"
                        ],
                        [
                          1,
                          "#276419"
                        ]
                      ],
                      "sequential": [
                        [
                          0,
                          "#0d0887"
                        ],
                        [
                          0.1111111111111111,
                          "#46039f"
                        ],
                        [
                          0.2222222222222222,
                          "#7201a8"
                        ],
                        [
                          0.3333333333333333,
                          "#9c179e"
                        ],
                        [
                          0.4444444444444444,
                          "#bd3786"
                        ],
                        [
                          0.5555555555555556,
                          "#d8576b"
                        ],
                        [
                          0.6666666666666666,
                          "#ed7953"
                        ],
                        [
                          0.7777777777777778,
                          "#fb9f3a"
                        ],
                        [
                          0.8888888888888888,
                          "#fdca26"
                        ],
                        [
                          1,
                          "#f0f921"
                        ]
                      ],
                      "sequentialminus": [
                        [
                          0,
                          "#0d0887"
                        ],
                        [
                          0.1111111111111111,
                          "#46039f"
                        ],
                        [
                          0.2222222222222222,
                          "#7201a8"
                        ],
                        [
                          0.3333333333333333,
                          "#9c179e"
                        ],
                        [
                          0.4444444444444444,
                          "#bd3786"
                        ],
                        [
                          0.5555555555555556,
                          "#d8576b"
                        ],
                        [
                          0.6666666666666666,
                          "#ed7953"
                        ],
                        [
                          0.7777777777777778,
                          "#fb9f3a"
                        ],
                        [
                          0.8888888888888888,
                          "#fdca26"
                        ],
                        [
                          1,
                          "#f0f921"
                        ]
                      ]
                    },
                    "colorway": [
                      "#636efa",
                      "#EF553B",
                      "#00cc96",
                      "#ab63fa",
                      "#FFA15A",
                      "#19d3f3",
                      "#FF6692",
                      "#B6E880",
                      "#FF97FF",
                      "#FECB52"
                    ],
                    "font": {
                      "color": "#2a3f5f"
                    },
                    "geo": {
                      "bgcolor": "white",
                      "lakecolor": "white",
                      "landcolor": "white",
                      "showlakes": true,
                      "showland": true,
                      "subunitcolor": "#C8D4E3"
                    },
                    "hoverlabel": {
                      "align": "left"
                    },
                    "hovermode": "closest",
                    "mapbox": {
                      "style": "light"
                    },
                    "paper_bgcolor": "white",
                    "plot_bgcolor": "white",
                    "polar": {
                      "angularaxis": {
                        "gridcolor": "#EBF0F8",
                        "linecolor": "#EBF0F8",
                        "ticks": ""
                      },
                      "bgcolor": "white",
                      "radialaxis": {
                        "gridcolor": "#EBF0F8",
                        "linecolor": "#EBF0F8",
                        "ticks": ""
                      }
                    },
                    "scene": {
                      "xaxis": {
                        "backgroundcolor": "white",
                        "gridcolor": "#DFE8F3",
                        "gridwidth": 2,
                        "linecolor": "#EBF0F8",
                        "showbackground": true,
                        "ticks": "",
                        "zerolinecolor": "#EBF0F8"
                      },
                      "yaxis": {
                        "backgroundcolor": "white",
                        "gridcolor": "#DFE8F3",
                        "gridwidth": 2,
                        "linecolor": "#EBF0F8",
                        "showbackground": true,
                        "ticks": "",
                        "zerolinecolor": "#EBF0F8"
                      },
                      "zaxis": {
                        "backgroundcolor": "white",
                        "gridcolor": "#DFE8F3",
                        "gridwidth": 2,
                        "linecolor": "#EBF0F8",
                        "showbackground": true,
                        "ticks": "",
                        "zerolinecolor": "#EBF0F8"
                      }
                    },
                    "shapedefaults": {
                      "line": {
                        "color": "#2a3f5f"
                      }
                    },
                    "ternary": {
                      "aaxis": {
                        "gridcolor": "#DFE8F3",
                        "linecolor": "#A2B1C6",
                        "ticks": ""
                      },
                      "baxis": {
                        "gridcolor": "#DFE8F3",
                        "linecolor": "#A2B1C6",
                        "ticks": ""
                      },
                      "bgcolor": "white",
                      "caxis": {
                        "gridcolor": "#DFE8F3",
                        "linecolor": "#A2B1C6",
                        "ticks": ""
                      }
                    },
                    "title": {
                      "x": 0.05
                    },
                    "xaxis": {
                      "automargin": true,
                      "gridcolor": "#EBF0F8",
                      "linecolor": "#EBF0F8",
                      "ticks": "",
                      "title": {
                        "standoff": 15
                      },
                      "zerolinecolor": "#EBF0F8",
                      "zerolinewidth": 2
                    },
                    "yaxis": {
                      "automargin": true,
                      "gridcolor": "#EBF0F8",
                      "linecolor": "#EBF0F8",
                      "ticks": "",
                      "title": {
                        "standoff": 15
                      },
                      "zerolinecolor": "#EBF0F8",
                      "zerolinewidth": 2
                    }
                  }
                },
                "title": {
                  "text": "Taxa de Desemprego PNAD Contínua (série ampliada)"
                },
                "width": 1000,
                "xaxis": {
                  "dtick": "M24",
                  "tickformat": "%b/%Y",
                  "title": {
                    "text": ""
                  }
                },
                "yaxis": {
                  "title": {
                    "text": "% População Economicamente Ativa"
                  }
                }
              }
            }
          },
          "metadata": {},
          "output_type": "display_data"
        },
        {
          "name": "stdout",
          "output_type": "stream",
          "text": [
            "\n",
            "================================================================================\n",
            "SUMÁRIO DA ANÁLISE\n",
            "================================================================================\n",
            "• Período PNAD Contínua original: 03/2012 a 07/2025\n",
            "• Período PME: 2002-03 a 2016-02\n",
            "• Correlação PNAD-PME: 0.9615\n",
            "• R² do modelo: 0.9244\n",
            "• Série ampliada final: 281 observações\n"
          ]
        }
      ],
      "source": [
        "# -*- coding: utf-8 -*-\n",
        "\"\"\"\n",
        "Análise Comparativa: Taxa de Desemprego PNAD Contínua vs PME\n",
        "================================================================\n",
        "\n",
        "Este script realiza uma análise comparativa entre as séries de desemprego da \n",
        "PNAD Contínua e da Pesquisa Mensal de Emprego (PME), incluindo:\n",
        "- Importação e preparação dos dados\n",
        "- Análise de correlação e regressão linear\n",
        "- Ampliação da série PNAD Contínua usando dados da PME\n",
        "- Dessazonalização das séries\n",
        "- Visualizações interativas com Plotly\n",
        "\n",
        "Autor: Análise adaptada do notebook original\n",
        "Data: 2025\n",
        "\"\"\"\n",
        "\n",
        "# =============================================================================\n",
        "# IMPORTAÇÃO DE BIBLIOTECAS\n",
        "# =============================================================================\n",
        "\n",
        "import pandas as pd\n",
        "import numpy as np\n",
        "from bcb import sgs\n",
        "from datetime import datetime\n",
        "import statsmodels.api as sm\n",
        "from statsmodels.tsa import x13\n",
        "import plotly.graph_objects as go\n",
        "import os\n",
        "import warnings\n",
        "\n",
        "# Configurações gerais\n",
        "warnings.filterwarnings('ignore')\n",
        "pd.set_option('display.max_columns', None)\n",
        "\n",
        "# =============================================================================\n",
        "# CONFIGURAÇÕES E CONSTANTES\n",
        "# =============================================================================\n",
        "\n",
        "# Dicionário de cores para visualizações\n",
        "COLORS = {\n",
        "    'blue': '#282f6b',\n",
        "    'yellow': '#eace3f',\n",
        "    'red': '#b22200',\n",
        "    'green': '#224f20',\n",
        "    'purple': '#5f487c',\n",
        "    'gray': '#666666',\n",
        "    'orange': '#b35c1e'\n",
        "}\n",
        "\n",
        "# Configurações de datas\n",
        "PME_START_DATE = '2002-03'\n",
        "PME_END_DATE = '2016-02'\n",
        "PNAD_SERIES_CODE = 24369\n",
        "\n",
        "# =============================================================================\n",
        "# FUNÇÕES DE CARREGAMENTO E PREPARAÇÃO DOS DADOS\n",
        "# =============================================================================\n",
        "\n",
        "def load_pme_data(filepath='data/pme.csv'):\n",
        "    \"\"\"\n",
        "    Carrega e prepara os dados da Pesquisa Mensal de Emprego (PME).\n",
        "    \n",
        "    A PME foi realizada pelo IBGE de 2002 a 2016 e cobria as principais \n",
        "    regiões metropolitanas do Brasil. A série foi descontinuada com o \n",
        "    início da PNAD Contínua.\n",
        "    \n",
        "    Parameters\n",
        "    ----------\n",
        "    filepath : str\n",
        "        Caminho para o arquivo CSV com dados da PME\n",
        "        \n",
        "    Returns\n",
        "    -------\n",
        "    pandas.DataFrame\n",
        "        DataFrame com índice de data e coluna 'pme' com taxa de desemprego\n",
        "    \"\"\"\n",
        "    try:\n",
        "        # Carrega arquivo CSV com separador ';' e decimal ','\n",
        "        pme_raw = pd.read_csv(filepath, sep=';', decimal=',')\n",
        "        \n",
        "        # Cria range de datas mensais para o período da PME\n",
        "        start_date = pd.to_datetime(PME_START_DATE)\n",
        "        end_date = pd.to_datetime(PME_END_DATE)\n",
        "        date_range = pd.date_range(start=start_date, end=end_date, freq='MS')\n",
        "        \n",
        "        # Prepara DataFrame final\n",
        "        pme_data = pd.DataFrame({\n",
        "            'Date': date_range,\n",
        "            'pme': pme_raw['pme'].values\n",
        "        })\n",
        "        \n",
        "        # Define data como índice\n",
        "        pme_data.set_index('Date', inplace=True)\n",
        "        \n",
        "        print(f\"✓ Dados PME carregados: {len(pme_data)} observações de {PME_START_DATE} a {PME_END_DATE}\")\n",
        "        return pme_data\n",
        "        \n",
        "    except FileNotFoundError:\n",
        "        print(f\"⚠ Arquivo não encontrado: {filepath}\")\n",
        "        return None\n",
        "    except Exception as e:\n",
        "        print(f\"⚠ Erro ao carregar dados PME: {e}\")\n",
        "        return None\n",
        "\n",
        "\n",
        "def load_pnad_data():\n",
        "    \"\"\"\n",
        "    Carrega dados da PNAD Contínua via API do Banco Central (SGS).\n",
        "    \n",
        "    A PNAD Contínua é a principal pesquisa de força de trabalho do Brasil,\n",
        "    iniciada em 2012. Produz estatísticas mensais sobre desemprego, ocupação\n",
        "    e outras características do mercado de trabalho.\n",
        "    \n",
        "    Returns\n",
        "    -------\n",
        "    pandas.DataFrame\n",
        "        DataFrame com índice de data e coluna 'pnad' com taxa de desocupação\n",
        "    \"\"\"\n",
        "    try:\n",
        "        # Baixa série histórica via API do BCB\n",
        "        pnad_data = sgs.get({'pnad': PNAD_SERIES_CODE})\n",
        "        \n",
        "        print(f\"✓ Dados PNAD Contínua carregados: {len(pnad_data)} observações\")\n",
        "        print(f\"  Período: {pnad_data.index.min().strftime('%m/%Y')} a {pnad_data.index.max().strftime('%m/%Y')}\")\n",
        "        \n",
        "        return pnad_data\n",
        "        \n",
        "    except Exception as e:\n",
        "        print(f\"⚠ Erro ao carregar dados PNAD: {e}\")\n",
        "        return None\n",
        "\n",
        "\n",
        "def merge_unemployment_series(pnad_data, pme_data):\n",
        "    \"\"\"\n",
        "    Combina as séries de desemprego da PNAD Contínua e PME.\n",
        "    \n",
        "    Realiza junção externa (outer join) para preservar todas as observações\n",
        "    de ambas as séries, mesmo nos períodos onde apenas uma está disponível.\n",
        "    \n",
        "    Parameters\n",
        "    ----------\n",
        "    pnad_data : pandas.DataFrame\n",
        "        Dados da PNAD Contínua\n",
        "    pme_data : pandas.DataFrame\n",
        "        Dados da PME\n",
        "        \n",
        "    Returns\n",
        "    -------\n",
        "    tuple\n",
        "        (dados_completos, dados_overlap): \n",
        "        - dados_completos: série completa com ambas as pesquisas\n",
        "        - dados_overlap: apenas período de sobreposição (2012-2016)\n",
        "    \"\"\"\n",
        "    # Junção completa (outer join) - preserva todas as observações\n",
        "    dados_completos = pnad_data.join(pme_data, how='outer')\n",
        "    \n",
        "    # Junção apenas período de sobreposição (inner join)\n",
        "    dados_overlap = pnad_data.join(pme_data, how='inner').reset_index()\n",
        "    \n",
        "    print(f\"✓ Séries combinadas:\")\n",
        "    print(f\"  Total de observações: {len(dados_completos)}\")\n",
        "    print(f\"  Período de sobreposição: {len(dados_overlap)} observações\")\n",
        "    \n",
        "    return dados_completos, dados_overlap\n",
        "\n",
        "\n",
        "# =============================================================================\n",
        "# FUNÇÕES DE ANÁLISE ESTATÍSTICA\n",
        "# =============================================================================\n",
        "\n",
        "def analyze_correlation_and_regression(dados_overlap):\n",
        "    \"\"\"\n",
        "    Realiza análise de correlação e regressão linear entre PNAD e PME.\n",
        "    \n",
        "    A regressão linear permite estabelecer uma relação quantitativa entre\n",
        "    as duas séries, que será usada para ampliar a série PNAD Contínua\n",
        "    retrospectivamente usando dados da PME.\n",
        "    \n",
        "    Parameters\n",
        "    ----------\n",
        "    dados_overlap : pandas.DataFrame\n",
        "        Dados do período de sobreposição entre PNAD e PME\n",
        "        \n",
        "    Returns\n",
        "    -------\n",
        "    statsmodels.regression.linear_model.RegressionResultsWrapper\n",
        "        Resultado da regressão linear\n",
        "    \"\"\"\n",
        "    print(\"\\n\" + \"=\"*60)\n",
        "    print(\"ANÁLISE DE CORRELAÇÃO E REGRESSÃO\")\n",
        "    print(\"=\"*60)\n",
        "    \n",
        "    # Estatísticas descritivas\n",
        "    print(\"\\nESTATÍSTICAS DESCRITIVAS:\")\n",
        "    print(dados_overlap[['pnad', 'pme']].describe())\n",
        "    \n",
        "    # Correlação entre as séries\n",
        "    correlation = dados_overlap['pnad'].corr(dados_overlap['pme'])\n",
        "    print(f\"\\nCorrelação PNAD vs PME: {correlation:.4f}\")\n",
        "    \n",
        "    # Regressão linear: PNAD = α + β * PME + ε\n",
        "    formula = 'pnad ~ pme'\n",
        "    regression_model = sm.OLS.from_formula(formula, data=dados_overlap).fit()\n",
        "    \n",
        "    print(\"\\nRESULTADOS DA REGRESSÃO:\")\n",
        "    print(regression_model.summary())\n",
        "    \n",
        "    return regression_model\n",
        "\n",
        "\n",
        "def extend_pnad_series(dados_completos, regression_model):\n",
        "    \"\"\"\n",
        "    Amplia a série PNAD Contínua usando o modelo de regressão e dados da PME.\n",
        "    \n",
        "    Para o período anterior a 2012 (quando a PNAD Contínua não existia),\n",
        "    utiliza a equação de regressão para estimar valores da PNAD baseados\n",
        "    nos dados da PME disponíveis.\n",
        "    \n",
        "    Parameters\n",
        "    ----------\n",
        "    dados_completos : pandas.DataFrame\n",
        "        Série completa com dados de ambas as pesquisas\n",
        "    regression_model : RegressionResults\n",
        "        Modelo de regressão ajustado\n",
        "        \n",
        "    Returns\n",
        "    -------\n",
        "    pandas.DataFrame\n",
        "        Série PNAD Contínua ampliada para todo o período disponível\n",
        "    \"\"\"\n",
        "    print(\"\\n\" + \"=\"*60)\n",
        "    print(\"AMPLIAÇÃO DA SÉRIE PNAD CONTÍNUA\")\n",
        "    print(\"=\"*60)\n",
        "    \n",
        "    # Identifica período onde PNAD não existe mas PME existe\n",
        "    dados_extensao = dados_completos[~dados_completos['pnad'].notna()].copy()\n",
        "    \n",
        "    if len(dados_extensao) > 0:\n",
        "        # Aplica modelo de regressão: PNAD_estimada = intercepto + coef * PME\n",
        "        intercepto = regression_model.params['Intercept']\n",
        "        coeficiente = regression_model.params['pme']\n",
        "        \n",
        "        dados_extensao['pnad'] = intercepto + coeficiente * dados_extensao['pme']\n",
        "        \n",
        "        print(f\"✓ Série PNAD ampliada para {len(dados_extensao)} observações adicionais\")\n",
        "        print(f\"  Equação: PNAD = {intercepto:.4f} + {coeficiente:.4f} * PME\")\n",
        "        print(f\"  R² = {regression_model.rsquared:.4f}\")\n",
        "    else:\n",
        "        print(\"⚠ Nenhuma observação adicional para ampliar\")\n",
        "        return dados_completos[['pnad']]\n",
        "    \n",
        "    # Combina série original + série ampliada\n",
        "    serie_original = dados_completos[['pnad']].dropna()\n",
        "    serie_ampliada = pd.concat([dados_extensao[['pnad']], serie_original])\n",
        "    serie_ampliada.sort_index(inplace=True)\n",
        "    \n",
        "    print(f\"✓ Série final: {len(serie_ampliada)} observações\")\n",
        "    print(f\"  Período: {serie_ampliada.index.min().strftime('%m/%Y')} a {serie_ampliada.index.max().strftime('%m/%Y')}\")\n",
        "    \n",
        "    return serie_ampliada\n",
        "\n",
        "\n",
        "# =============================================================================\n",
        "# FUNÇÕES DE DESSAZONALIZAÇÃO\n",
        "# =============================================================================\n",
        "\n",
        "def setup_x13_seasonal_adjustment():\n",
        "    \"\"\"\n",
        "    Configura o software X-13ARIMA-SEATS para dessazonalização.\n",
        "    \n",
        "    O X-13ARIMA-SEATS é o software oficial do U.S. Census Bureau para\n",
        "    ajuste sazonal, amplamente utilizado por institutos estatísticos\n",
        "    internacionais para dessazonalizar séries temporais.\n",
        "    \n",
        "    Returns\n",
        "    -------\n",
        "    bool\n",
        "        True se configuração foi bem-sucedida, False caso contrário\n",
        "    \"\"\"\n",
        "    try:\n",
        "        print(\"\\n\" + \"=\"*60)\n",
        "        print(\"CONFIGURAÇÃO X-13ARIMA-SEATS\")\n",
        "        print(\"=\"*60)\n",
        "        \n",
        "        # Download e instalação do X-13 (para ambiente Colab/Linux)\n",
        "        if not os.path.exists('x13as'):\n",
        "            print(\"⬇ Baixando X-13ARIMA-SEATS...\")\n",
        "            os.system(\"wget -q https://www2.census.gov/software/x-13arima-seats/x13as/unix-linux/program-archives/x13as_ascii-v1-1-b59.tar.gz\")\n",
        "            os.system(\"tar --gunzip --extract --file=x13as_ascii-v1-1-b59.tar.gz\")\n",
        "            print(\"✓ X-13ARIMA-SEATS instalado\")\n",
        "        \n",
        "        # Define caminho como variável de ambiente\n",
        "        os.environ[\"X13PATH\"] = \"x13as\"\n",
        "        print(\"✓ Variável de ambiente X13PATH configurada\")\n",
        "        \n",
        "        return True\n",
        "        \n",
        "    except Exception as e:\n",
        "        print(f\"⚠ Erro na configuração X-13: {e}\")\n",
        "        return False\n",
        "\n",
        "\n",
        "def apply_seasonal_adjustment(serie_ampliada):\n",
        "    \"\"\"\n",
        "    Aplica dessazonalização à série PNAD Contínua ampliada.\n",
        "    \n",
        "    A dessazonalização remove padrões sazonais recorrentes, permitindo\n",
        "    melhor análise das tendências de longo prazo e ciclos econômicos\n",
        "    subjacentes na taxa de desemprego.\n",
        "    \n",
        "    Parameters\n",
        "    ----------\n",
        "    serie_ampliada : pandas.DataFrame\n",
        "        Série PNAD Contínua ampliada\n",
        "        \n",
        "    Returns\n",
        "    -------\n",
        "    pandas.DataFrame\n",
        "        DataFrame com séries original e dessazonalizada\n",
        "    \"\"\"\n",
        "    try:\n",
        "        print(\"\\n\" + \"=\"*60)\n",
        "        print(\"DESSAZONALIZAÇÃO DA SÉRIE\")\n",
        "        print(\"=\"*60)\n",
        "        \n",
        "        # Aplica X-13ARIMA-SEATS\n",
        "        print(\"⚙ Executando procedimento de dessazonalização...\")\n",
        "        x13_result = x13.x13_arima_analysis(endog=serie_ampliada['pnad'])\n",
        "        serie_dessazonalizada = x13_result.seasadj\n",
        "        \n",
        "        # Combina séries original e dessazonalizada\n",
        "        resultado = pd.DataFrame({\n",
        "            'Date': serie_ampliada.index,\n",
        "            'pnad': serie_ampliada['pnad'].values,\n",
        "            'pnad_ampliada_sa': serie_dessazonalizada.values\n",
        "        })\n",
        "        \n",
        "        print(\"✓ Dessazonalização concluída\")\n",
        "        print(f\"  Método: X-13ARIMA-SEATS\")\n",
        "        print(f\"  Observações processadas: {len(resultado)}\")\n",
        "        \n",
        "        return resultado\n",
        "        \n",
        "    except Exception as e:\n",
        "        print(f\"⚠ Erro na dessazonalização: {e}\")\n",
        "        # Retorna série original se dessazonalização falhar\n",
        "        return pd.DataFrame({\n",
        "            'Date': serie_ampliada.index,\n",
        "            'pnad': serie_ampliada['pnad'].values,\n",
        "            'pnad_ampliada_sa': serie_ampliada['pnad'].values  # Cópia da original\n",
        "        })\n",
        "\n",
        "\n",
        "# =============================================================================\n",
        "# FUNÇÕES DE VISUALIZAÇÃO\n",
        "# =============================================================================\n",
        "\n",
        "def create_comparison_chart(dados_overlap, title=\"Taxa de Desemprego: PNAD Contínua vs. PME\"):\n",
        "    \"\"\"\n",
        "    Cria gráfico comparativo entre PNAD Contínua e PME.\n",
        "    \n",
        "    Parameters\n",
        "    ----------\n",
        "    dados_overlap : pandas.DataFrame\n",
        "        Dados do período de sobreposição\n",
        "    title : str\n",
        "        Título do gráfico\n",
        "        \n",
        "    Returns\n",
        "    -------\n",
        "    plotly.graph_objects.Figure\n",
        "        Figura interativa do Plotly\n",
        "    \"\"\"\n",
        "    # Converte para formato long\n",
        "    dados_long = dados_overlap.melt(id_vars=['Date'], var_name='variable', value_name='value')\n",
        "    \n",
        "    fig = go.Figure()\n",
        "    \n",
        "    # Adiciona uma série para cada variável\n",
        "    for var in dados_long['variable'].unique():\n",
        "        df_var = dados_long[dados_long['variable'] == var]\n",
        "        \n",
        "        fig.add_trace(go.Scatter(\n",
        "            x=df_var['Date'],\n",
        "            y=df_var['value'],\n",
        "            mode='lines+markers',\n",
        "            name=var.upper(),\n",
        "            line=dict(color=COLORS.get(var, '#000000'), width=1.5),\n",
        "            marker=dict(size=6),\n",
        "            hovertemplate='<b>%{fullData.name}</b><br>' +\n",
        "                         'Data: %{x|%b/%Y}<br>' +\n",
        "                         'Taxa: %{y:.1f}%<extra></extra>'\n",
        "        ))\n",
        "    \n",
        "    # Layout do gráfico\n",
        "    fig.update_layout(\n",
        "        title=title,\n",
        "        xaxis_title=\"\",\n",
        "        yaxis_title=\"% População Economicamente Ativa\",\n",
        "        legend_title=\"\",\n",
        "        legend=dict(orientation='h', y=-0.15),\n",
        "        template=\"plotly_white\",\n",
        "        height=500,\n",
        "        width=1000,\n",
        "        margin=dict(l=40, r=40, t=60, b=80),\n",
        "        annotations=[\n",
        "            dict(\n",
        "                text=\"Elaboração própria | Fonte: IBGE e BCB\",\n",
        "                x=1, y=-0.25, xref='paper', yref='paper',\n",
        "                showarrow=False, font=dict(size=10), xanchor='right'\n",
        "            )\n",
        "        ]\n",
        "    )\n",
        "    \n",
        "    return fig\n",
        "\n",
        "\n",
        "def create_extended_series_chart(serie_final, title=\"Taxa de Desemprego PNAD Contínua (série ampliada)\"):\n",
        "    \"\"\"\n",
        "    Cria gráfico da série PNAD Contínua ampliada.\n",
        "    \n",
        "    Parameters\n",
        "    ----------\n",
        "    serie_final : pandas.DataFrame\n",
        "        Série PNAD ampliada (com ou sem dessazonalização)\n",
        "    title : str\n",
        "        Título do gráfico\n",
        "        \n",
        "    Returns\n",
        "    -------\n",
        "    plotly.graph_objects.Figure\n",
        "        Figura interativa do Plotly\n",
        "    \"\"\"\n",
        "    fig = go.Figure()\n",
        "    \n",
        "    # Identifica colunas de dados (excluindo 'Date')\n",
        "    data_columns = [col for col in serie_final.columns if col != 'Date']\n",
        "    \n",
        "    for col in data_columns:\n",
        "        # Define nome e cor da série\n",
        "        if col == 'pnad':\n",
        "            name = 'PNAD Contínua (original)'\n",
        "            color = COLORS['blue']\n",
        "        elif col == 'pnad_ampliada_sa':\n",
        "            name = 'PNAD Contínua (dessazonalizada)'\n",
        "            color = COLORS['red']\n",
        "        else:\n",
        "            name = col\n",
        "            color = COLORS.get(col, '#666666')\n",
        "        \n",
        "        fig.add_trace(go.Scatter(\n",
        "            x=serie_final['Date'],\n",
        "            y=serie_final[col],\n",
        "            mode='lines+markers',\n",
        "            name=name,\n",
        "            line=dict(color=color, width=1.5),\n",
        "            marker=dict(color=color, size=6),\n",
        "            hovertemplate='<b>%{fullData.name}</b><br>' +\n",
        "                         'Data: %{x|%b/%Y}<br>' +\n",
        "                         'Taxa: %{y:.1f}%<extra></extra>'\n",
        "        ))\n",
        "    \n",
        "    # Layout do gráfico\n",
        "    fig.update_layout(\n",
        "        title=title,\n",
        "        xaxis_title=\"\",\n",
        "        yaxis_title=\"% População Economicamente Ativa\",\n",
        "        legend_title=\"\",\n",
        "        template=\"plotly_white\",\n",
        "        height=500,\n",
        "        width=1000,\n",
        "        margin=dict(l=40, r=40, t=60, b=80),\n",
        "        xaxis=dict(\n",
        "            tickformat=\"%b/%Y\",\n",
        "            dtick=\"M24\"  # Tick a cada 2 anos\n",
        "        ),\n",
        "        legend=dict(orientation=\"h\", y=-0.15, x=0.5, xanchor='center'),\n",
        "        annotations=[\n",
        "            dict(\n",
        "                text=\"Elaboração própria | Fonte: IBGE e BCB\",\n",
        "                x=1, y=-0.25, xref='paper', yref='paper',\n",
        "                showarrow=False, font=dict(size=10), xanchor='right'\n",
        "            )\n",
        "        ]\n",
        "    )\n",
        "    \n",
        "    return fig\n",
        "\n",
        "\n",
        "def create_model_validation_chart(dados_overlap, regression_model):\n",
        "    \"\"\"\n",
        "    Cria gráfico de validação do modelo de regressão.\n",
        "    \n",
        "    Compara valores observados da PNAD com valores preditos pelo modelo\n",
        "    baseado nos dados da PME, permitindo avaliar a qualidade do ajuste.\n",
        "    \n",
        "    Parameters\n",
        "    ----------\n",
        "    dados_overlap : pandas.DataFrame\n",
        "        Dados do período de sobreposição\n",
        "    regression_model : RegressionResults\n",
        "        Modelo de regressão ajustado\n",
        "        \n",
        "    Returns\n",
        "    -------\n",
        "    plotly.graph_objects.Figure\n",
        "        Figura interativa do Plotly\n",
        "    \"\"\"\n",
        "    # Prepara dados para visualização\n",
        "    dados_modelo = pd.DataFrame({\n",
        "        'Date': dados_overlap['Date'],\n",
        "        'PNAD Contínua (observado)': dados_overlap['pnad'],\n",
        "        'PNAD Contínua (predito)': regression_model.fittedvalues\n",
        "    })\n",
        "    \n",
        "    # Converte para formato long\n",
        "    dados_long = dados_modelo.melt(id_vars=['Date'])\n",
        "    \n",
        "    fig = go.Figure()\n",
        "    \n",
        "    for var in dados_long['variable'].unique():\n",
        "        df_var = dados_long[dados_long['variable'] == var]\n",
        "        \n",
        "        # Define cor baseada no tipo\n",
        "        if 'observado' in var:\n",
        "            color = COLORS['blue']\n",
        "        else:\n",
        "            color = COLORS['red']\n",
        "        \n",
        "        fig.add_trace(go.Scatter(\n",
        "            x=df_var['Date'],\n",
        "            y=df_var['value'],\n",
        "            mode='lines+markers',\n",
        "            name=var,\n",
        "            line=dict(color=color, width=1.5),\n",
        "            marker=dict(size=6),\n",
        "            hovertemplate='<b>%{fullData.name}</b><br>' +\n",
        "                         'Data: %{x|%b/%Y}<br>' +\n",
        "                         'Taxa: %{y:.1f}%<extra></extra>'\n",
        "        ))\n",
        "    \n",
        "    # Layout\n",
        "    fig.update_layout(\n",
        "        title=f\"Validação do Modelo de Regressão (R² = {regression_model.rsquared:.3f})\",\n",
        "        xaxis_title=\"\",\n",
        "        yaxis_title=\"% População Economicamente Ativa\",\n",
        "        legend_title=\"\",\n",
        "        legend=dict(orientation='h', y=-0.15),\n",
        "        template=\"plotly_white\",\n",
        "        height=500,\n",
        "        width=1000,\n",
        "        margin=dict(l=40, r=40, t=60, b=80),\n",
        "        annotations=[\n",
        "            dict(\n",
        "                text=\"Elaboração própria | Fonte: IBGE e BCB\",\n",
        "                x=1, y=-0.25, xref='paper', yref='paper',\n",
        "                showarrow=False, font=dict(size=10), xanchor='right'\n",
        "            )\n",
        "        ]\n",
        "    )\n",
        "    \n",
        "    return fig\n",
        "\n",
        "\n",
        "# =============================================================================\n",
        "# FUNÇÃO PRINCIPAL\n",
        "# =============================================================================\n",
        "\n",
        "def main():\n",
        "    \"\"\"\n",
        "    Função principal que executa toda a análise de desemprego.\n",
        "    \n",
        "    Fluxo de execução:\n",
        "    1. Carregamento dos dados (PME e PNAD Contínua)\n",
        "    2. Análise de correlação e regressão\n",
        "    3. Ampliação da série PNAD usando modelo\n",
        "    4. Dessazonalização (opcional)\n",
        "    5. Geração de visualizações\n",
        "    \"\"\"\n",
        "    print(\"=\"*80)\n",
        "    print(\"ANÁLISE COMPARATIVA: TAXA DE DESEMPREGO PNAD CONTÍNUA vs PME\")\n",
        "    print(\"=\"*80)\n",
        "    \n",
        "    # Etapa 1: Carregamento dos dados\n",
        "    print(\"\\n1. CARREGAMENTO DOS DADOS\")\n",
        "    print(\"-\" * 40)\n",
        "    \n",
        "    pme_data = load_pme_data()\n",
        "    pnad_data = load_pnad_data()\n",
        "    \n",
        "    if pme_data is None or pnad_data is None:\n",
        "        print(\"⚠ Erro no carregamento dos dados. Encerrando análise.\")\n",
        "        return None\n",
        "    \n",
        "    # Etapa 2: Combinação das séries\n",
        "    print(\"\\n2. COMBINAÇÃO DAS SÉRIES\")\n",
        "    print(\"-\" * 40)\n",
        "    \n",
        "    dados_completos, dados_overlap = merge_unemployment_series(pnad_data, pme_data)\n",
        "    \n",
        "    # Etapa 3: Análise estatística\n",
        "    print(\"\\n3. ANÁLISE ESTATÍSTICA\")\n",
        "    print(\"-\" * 40)\n",
        "    \n",
        "    regression_model = analyze_correlation_and_regression(dados_overlap)\n",
        "    \n",
        "    # Etapa 4: Ampliação da série PNAD\n",
        "    print(\"\\n4. AMPLIAÇÃO DA SÉRIE PNAD\")\n",
        "    print(\"-\" * 40)\n",
        "    \n",
        "    serie_ampliada = extend_pnad_series(dados_completos, regression_model)\n",
        "    \n",
        "    # Etapa 5: Dessazonalização (opcional)\n",
        "    print(\"\\n5. DESSAZONALIZAÇÃO\")\n",
        "    print(\"-\" * 40)\n",
        "    \n",
        "    if setup_x13_seasonal_adjustment():\n",
        "        serie_final = apply_seasonal_adjustment(serie_ampliada)\n",
        "    else:\n",
        "        print(\"⚠ Dessazonalização não disponível. Usando série original.\")\n",
        "        serie_final = pd.DataFrame({\n",
        "            'Date': serie_ampliada.index,\n",
        "            'pnad': serie_ampliada['pnad'].values\n",
        "        })\n",
        "    \n",
        "    # Etapa 6: Visualizações\n",
        "    print(\"\\n6. GERAÇÃO DE VISUALIZAÇÕES\")\n",
        "    print(\"-\" * 40)\n",
        "    \n",
        "    # Gráfico 1: Comparação PNAD vs PME (período de sobreposição)\n",
        "    fig1 = create_comparison_chart(dados_overlap)\n",
        "    print(\"✓ Gráfico comparativo PNAD vs PME criado\")\n",
        "    \n",
        "    # Gráfico 2: Validação do modelo\n",
        "    fig2 = create_model_validation_chart(dados_overlap, regression_model)\n",
        "    print(\"✓ Gráfico de validação do modelo criado\")\n",
        "    \n",
        "    # Gráfico 3: Série ampliada\n",
        "    fig3 = create_extended_series_chart(serie_final)\n",
        "    print(\"✓ Gráfico da série ampliada criado\")\n",
        "    \n",
        "    # Etapa 7: Exibição dos resultados\n",
        "    print(\"\\n7. RESULTADOS\")\n",
        "    print(\"-\" * 40)\n",
        "    \n",
        "    # Mostra gráficos\n",
        "    fig1.show()\n",
        "    fig2.show()\n",
        "    fig3.show()\n",
        "    \n",
        "    # Sumário final\n",
        "    print(\"\\n\" + \"=\"*80)\n",
        "    print(\"SUMÁRIO DA ANÁLISE\")\n",
        "    print(\"=\"*80)\n",
        "    print(f\"• Período PNAD Contínua original: {pnad_data.index.min().strftime('%m/%Y')} a {pnad_data.index.max().strftime('%m/%Y')}\")\n",
        "    print(f\"• Período PME: {PME_START_DATE} a {PME_END_DATE}\")\n",
        "    print(f\"• Correlação PNAD-PME: {dados_overlap['pnad'].corr(dados_overlap['pme']):.4f}\")\n",
        "    print(f\"• R² do modelo: {regression_model.rsquared:.4f}\")\n",
        "    print(f\"• Série ampliada final: {len(serie_final)} observações\")\n",
        "    \n",
        "    return {\n",
        "        'dados_overlap': dados_overlap,\n",
        "        'serie_ampliada': serie_ampliada,\n",
        "        'serie_final': serie_final,\n",
        "        'regression_model': regression_model,\n",
        "        'figuras': [fig1, fig2, fig3]\n",
        "    }\n",
        "\n",
        "\n",
        "# =============================================================================\n",
        "# EXECUÇÃO\n",
        "# =============================================================================\n",
        "\n",
        "if __name__ == \"__main__\":\n",
        "    resultados = main()"
      ]
    }
  ],
  "metadata": {
    "colab": {
      "provenance": []
    },
    "kernelspec": {
      "display_name": "pythorix",
      "language": "python",
      "name": "python3"
    },
    "language_info": {
      "codemirror_mode": {
        "name": "ipython",
        "version": 3
      },
      "file_extension": ".py",
      "mimetype": "text/x-python",
      "name": "python",
      "nbconvert_exporter": "python",
      "pygments_lexer": "ipython3",
      "version": "3.11.2"
    }
  },
  "nbformat": 4,
  "nbformat_minor": 0
}
