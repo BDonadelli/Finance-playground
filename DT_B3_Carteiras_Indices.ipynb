{
 "cells": [
  {
   "cell_type": "markdown",
   "id": "113a5981",
   "metadata": {},
   "source": [
    "Downloada de carteiras teóricas de vários indicies da B3\n",
    "\n",
    "Ibov - 85% em ordem decrescente de Índice de Negociabilidade; \n",
    "       95% de presença em pregão;0,1% do volume financeiro no mercado a vista (lote-padrão); e não ser penny stock.\n",
    "IBrx100 - os 100 primeiros ativos em ordem decrescente de Índice de Negociabilidade; \n",
    "          95% de presença em pregão; e não ser penny stock.\n",
    "IBrx50 - os 50 primeiros ativos em ordem decrescente de Índice de Negociabilidade; \n",
    "         95% de presença em pregão; e não ser penny stock.\n",
    "IBrA -  99% em ordem decrescente de Índice de Negociabilidade; 95% de presença em pregão; e não ser \n",
    "        penny stock.            \n",
    "B3 BR+ - ações, units e BDRs de empresas brasileiras listadas na B3 No que tange os BDRs, é necessário \n",
    "        que a listagem primária do ativo lastro seja feita nas bolsas de valores dos Estados Unidos (EUA).\n",
    "Low Volatility - índice de retorno total. Indicador de desempenho médio dos ativos de maior \n",
    "        negociabilidade, representatividade e que possuem menor volatilidade nos retornos diários.\n",
    "        [metodologia](https://www.b3.com.br/data/files/A5/34/90/0A/E28B09105FE89209AC094EA8/metodologia_IbovLowVolB3_PT.pdf)\n",
    "High Beta - índice de retorno total. indicador de desempenho médio dos ativos de maior negociabilidade, \n",
    "        representatividade e que possuem maior sensibilidade às mudanças nos retornos do mercado. Essa relação é medida pelo beta individual de cada ativo. [metodologia](https://www.b3.com.br/pt_br/market-data-e-indices/indices/indices-de-segmentos-e-setoriais/ibov-smart-high-beta-b3-composicao-da-carteira.htm)\n"
   ]
  },
  {
   "cell_type": "code",
   "execution_count": null,
   "id": "49420a3d",
   "metadata": {},
   "outputs": [],
   "source": [
    "url=[\n",
    "     'https://www.b3.com.br/pt_br/market-data-e-indices/indices/indices-amplos/indice-brasil-amplo-ibra-composicao-da-carteira.htm',\n",
    "     'https://www.b3.com.br/pt_br/market-data-e-indices/indices/indices-amplos/indice-brasil-100-ibrx-100-composicao-da-carteira.htm',   #IBR100\n",
    "     'https://www.b3.com.br/pt_br/market-data-e-indices/indices/indices-amplos/indice-brasil-50-ibrx-50-composicao-da-carteira.htm',     #IBR50\n",
    "     'https://www.b3.com.br/pt_br/market-data-e-indices/indices/indices-amplos/indice-ibovespa-ibovespa-composicao-da-carteira.htm',     #IBOV\n",
    "     'https://www.b3.com.br/pt_br/market-data-e-indices/indices/indices-de-segmentos-e-setoriais/indice-dividendos-idiv-composicao-da-carteira.htm', #IDIV\n",
    "     'https://www.b3.com.br/pt_br/market-data-e-indices/indices/indices-de-segmentos-e-setoriais/indice-small-cap-smll-composicao-da-carteira.htm',\n",
    "     'https://www.b3.com.br/pt_br/market-data-e-indices/indices/indices-de-segmentos-e-setoriais/indice-fundos-de-investimentos-imobiliarios-ifix-composicao-da-carteira.htm',\n",
    "     'https://www.b3.com.br/pt_br/market-data-e-indices/indices/indices-amplos/indice-bovespa-b3-br-ibovespa-b3-br-composicao-carteira.htm',\n",
    "     'https://www.b3.com.br/pt_br/market-data-e-indices/indices/indices-de-segmentos-e-setoriais/ibov-smart-low-vol-b3-composicao-da-carteira.htm',\n",
    "     'https://www.b3.com.br/pt_br/market-data-e-indices/indices/indices-de-segmentos-e-setoriais/ibov-smart-high-beta-b3-composicao-da-carteira.htm'\n",
    "    ]"
   ]
  },
  {
   "cell_type": "code",
   "execution_count": 4,
   "id": "40eb5319",
   "metadata": {},
   "outputs": [],
   "source": [
    "import pandas as pd\n",
    "import os\n",
    "from selenium import webdriver\n",
    "from selenium.webdriver.common.by import By\n",
    "import time\n",
    "\n",
    "data_path = str(os.getcwd()) + r\"/data/\"\n",
    "opts = webdriver.ChromeOptions()\n",
    "opts.add_experimental_option(\"detach\", True)\n",
    "opts.add_experimental_option(\"prefs\", {\n",
    "  \"download.default_directory\": data_path,\n",
    "  \"download.prompt_for_download\": False,\n",
    "  \"download.directory_upgrade\": True,\n",
    "  \"safebrowsing.enabled\": True\n",
    "})"
   ]
  },
  {
   "cell_type": "code",
   "execution_count": null,
   "id": "50178da8",
   "metadata": {},
   "outputs": [
    {
     "name": "stdout",
     "output_type": "stream",
     "text": [
      "Cookies aceitos!\n"
     ]
    }
   ],
   "source": [
    "driver=webdriver.Chrome(options=opts)\n",
    "driver.implicitly_wait(3) # seconds\n",
    "\n",
    "for sitio in  url :\n",
    "    driver.get(sitio)\n",
    "    time.sleep(2)\n",
    "\n",
    "    if sitio == url[0] :\n",
    "        from selenium.webdriver.support.ui import WebDriverWait\n",
    "        from selenium.webdriver.support import expected_conditions as EC\n",
    "\n",
    "        try:\n",
    "            driver.execute_script(\"window.scrollBy(0, 500);\")  # Scroll para o botão aparecer\n",
    "            botao_cookies = WebDriverWait(driver, 10).until(EC.element_to_be_clickable((By.ID, \"onetrust-accept-btn-handler\")))\n",
    "            botao_cookies.click()\n",
    "            print(\"Cookies aceitos!\")\n",
    "        except Exception as e:\n",
    "            print(\"Não achou botão de cookies:\", e)\n",
    "    \n",
    "    driver.switch_to.frame(\"bvmf_iframe\")\n",
    "    driver.find_element(By.CLASS_NAME , 'primary-text').find_element(By.TAG_NAME,\"a\").click()\n",
    "    \n",
    "driver.close()    "
   ]
  },
  {
   "cell_type": "code",
   "execution_count": null,
   "id": "40c35571",
   "metadata": {},
   "outputs": [],
   "source": [
    "\n",
    "'''\n",
    "    remanejo dos nomes dos arquivos -------------------------------------------\n",
    "'''\n",
    "files_dict = {'IBOVDia':'Cart_Ibov',\n",
    "            'IBRADia':'Cart_IBrA',\n",
    "            'SMLLDia':'Cart_Small',\n",
    "            'IBXXDia':'Cart_IBr100',\n",
    "            'IBXLDia':'Cart_IBr50',\n",
    "            'IDIVDia':'Cart_Idiv',\n",
    "            'IFIXDia':'Cart_Ifix',\n",
    "            'IBBRDia':'Cart_IBBR',\n",
    "            'IBLVDia':'Cart_LowVol',\n",
    "            'IBHBDia':'Cart_HighBeta'}\n",
    "\n",
    "for filename in os.listdir(data_path):\n",
    "    if 'Dia' in filename:\n",
    "        for portB3name , portMYname in files_dict.items(): \n",
    "            if filename.startswith(portB3name):\n",
    "               old_path = os.path.join(data_path, filename)\n",
    "               new_path = os.path.join(data_path, f\"{portMYname}.csv\")\n",
    "               os.rename(old_path, new_path)  # sobrescreve o antigo \n"
   ]
  },
  {
   "cell_type": "code",
   "execution_count": 22,
   "id": "1fdd7042",
   "metadata": {},
   "outputs": [],
   "source": [
    "for filename in os.listdir(data_path):\n",
    "    if 'Dia' in filename:\n",
    "        for portB3name , portMYname in files_dict.items(): \n",
    "            if filename.startswith(portB3name):\n",
    "               old_path = os.path.join(data_path, filename)\n",
    "               new_path = os.path.join(data_path, f\"{portMYname}.csv\")\n",
    "               os.rename(old_path, new_path)  # sobrescreve o antigo sem problema "
   ]
  }
 ],
 "metadata": {
  "kernelspec": {
   "display_name": "base",
   "language": "python",
   "name": "python3"
  },
  "language_info": {
   "codemirror_mode": {
    "name": "ipython",
    "version": 3
   },
   "file_extension": ".py",
   "mimetype": "text/x-python",
   "name": "python",
   "nbconvert_exporter": "python",
   "pygments_lexer": "ipython3",
   "version": "3.11.9"
  }
 },
 "nbformat": 4,
 "nbformat_minor": 5
}
