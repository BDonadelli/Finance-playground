{
 "cells": [
  {
   "cell_type": "code",
   "execution_count": 4,
   "id": "6454edd6-eca1-4895-896a-31c77f23344e",
   "metadata": {},
   "outputs": [
    {
     "name": "stderr",
     "output_type": "stream",
     "text": [
      "[*********************100%***********************]  1 of 1 completed\n",
      "[*********************100%***********************]  1 of 1 completed\n"
     ]
    },
    {
     "data": {
      "application/vnd.plotly.v1+json": {
       "config": {
        "plotlyServerURL": "https://plot.ly"
       },
       "data": [
        {
         "hovertemplate": "Date=2023-01-17<br>Relative Strength=%{x}<br>Momentum=%{y}<extra></extra>",
         "legendgroup": "",
         "marker": {
          "color": "white",
          "opacity": 0.8,
          "symbol": "circle"
         },
         "mode": "markers",
         "name": "",
         "orientation": "v",
         "showlegend": false,
         "type": "scatter",
         "x": [
          0.0068123740216301625
         ],
         "xaxis": "x",
         "y": [
          0.0045711890753925115
         ],
         "yaxis": "y"
        }
       ],
       "frames": [
        {
         "data": [
          {
           "hovertemplate": "Date=2023-01-17<br>Relative Strength=%{x}<br>Momentum=%{y}<extra></extra>",
           "legendgroup": "",
           "marker": {
            "color": "white",
            "opacity": 0.8,
            "symbol": "circle"
           },
           "mode": "markers",
           "name": "",
           "orientation": "v",
           "showlegend": false,
           "type": "scatter",
           "x": [
            0.0068123740216301625
           ],
           "xaxis": "x",
           "y": [
            0.0045711890753925115
           ],
           "yaxis": "y"
          }
         ],
         "name": "2023-01-17"
        },
        {
         "data": [
          {
           "hovertemplate": "Date=2023-01-18<br>Relative Strength=%{x}<br>Momentum=%{y}<extra></extra>",
           "legendgroup": "",
           "marker": {
            "color": "white",
            "opacity": 0.8,
            "symbol": "circle"
           },
           "mode": "markers",
           "name": "",
           "orientation": "v",
           "showlegend": false,
           "type": "scatter",
           "x": [
            0.0020831645581846575
           ],
           "xaxis": "x",
           "y": [
            -0.004729209463445505
           ],
           "yaxis": "y"
          }
         ],
         "name": "2023-01-18"
        },
        {
         "data": [
          {
           "hovertemplate": "Date=2023-01-19<br>Relative Strength=%{x}<br>Momentum=%{y}<extra></extra>",
           "legendgroup": "",
           "marker": {
            "color": "white",
            "opacity": 0.8,
            "symbol": "circle"
           },
           "mode": "markers",
           "name": "",
           "orientation": "v",
           "showlegend": false,
           "type": "scatter",
           "x": [
            0.003333896655693092
           ],
           "xaxis": "x",
           "y": [
            0.0012507320975084345
           ],
           "yaxis": "y"
          }
         ],
         "name": "2023-01-19"
        },
        {
         "data": [
          {
           "hovertemplate": "Date=2023-01-20<br>Relative Strength=%{x}<br>Momentum=%{y}<extra></extra>",
           "legendgroup": "",
           "marker": {
            "color": "white",
            "opacity": 0.8,
            "symbol": "circle"
           },
           "mode": "markers",
           "name": "",
           "orientation": "v",
           "showlegend": false,
           "type": "scatter",
           "x": [
            0.00762387147863065
           ],
           "xaxis": "x",
           "y": [
            0.004289974822937558
           ],
           "yaxis": "y"
          }
         ],
         "name": "2023-01-20"
        },
        {
         "data": [
          {
           "hovertemplate": "Date=2023-01-23<br>Relative Strength=%{x}<br>Momentum=%{y}<extra></extra>",
           "legendgroup": "",
           "marker": {
            "color": "white",
            "opacity": 0.8,
            "symbol": "circle"
           },
           "mode": "markers",
           "name": "",
           "orientation": "v",
           "showlegend": false,
           "type": "scatter",
           "x": [
            0.009555397741703775
           ],
           "xaxis": "x",
           "y": [
            0.0019315262630731252
           ],
           "yaxis": "y"
          }
         ],
         "name": "2023-01-23"
        },
        {
         "data": [
          {
           "hovertemplate": "Date=2023-01-24<br>Relative Strength=%{x}<br>Momentum=%{y}<extra></extra>",
           "legendgroup": "",
           "marker": {
            "color": "white",
            "opacity": 0.8,
            "symbol": "circle"
           },
           "mode": "markers",
           "name": "",
           "orientation": "v",
           "showlegend": false,
           "type": "scatter",
           "x": [
            0.008286413746502186
           ],
           "xaxis": "x",
           "y": [
            -0.0012689839952015891
           ],
           "yaxis": "y"
          }
         ],
         "name": "2023-01-24"
        },
        {
         "data": [
          {
           "hovertemplate": "Date=2023-01-25<br>Relative Strength=%{x}<br>Momentum=%{y}<extra></extra>",
           "legendgroup": "",
           "marker": {
            "color": "white",
            "opacity": 0.8,
            "symbol": "circle"
           },
           "mode": "markers",
           "name": "",
           "orientation": "v",
           "showlegend": false,
           "type": "scatter",
           "x": [
            0.008510678381203472
           ],
           "xaxis": "x",
           "y": [
            0.00022426463470128638
           ],
           "yaxis": "y"
          }
         ],
         "name": "2023-01-25"
        },
        {
         "data": [
          {
           "hovertemplate": "Date=2023-01-26<br>Relative Strength=%{x}<br>Momentum=%{y}<extra></extra>",
           "legendgroup": "",
           "marker": {
            "color": "white",
            "opacity": 0.8,
            "symbol": "circle"
           },
           "mode": "markers",
           "name": "",
           "orientation": "v",
           "showlegend": false,
           "type": "scatter",
           "x": [
            0.0046852491547965894
           ],
           "xaxis": "x",
           "y": [
            -0.003825429226406883
           ],
           "yaxis": "y"
          }
         ],
         "name": "2023-01-26"
        },
        {
         "data": [
          {
           "hovertemplate": "Date=2023-01-27<br>Relative Strength=%{x}<br>Momentum=%{y}<extra></extra>",
           "legendgroup": "",
           "marker": {
            "color": "white",
            "opacity": 0.8,
            "symbol": "circle"
           },
           "mode": "markers",
           "name": "",
           "orientation": "v",
           "showlegend": false,
           "type": "scatter",
           "x": [
            0.003078166171992314
           ],
           "xaxis": "x",
           "y": [
            -0.0016070829828042756
           ],
           "yaxis": "y"
          }
         ],
         "name": "2023-01-27"
        },
        {
         "data": [
          {
           "hovertemplate": "Date=2023-01-30<br>Relative Strength=%{x}<br>Momentum=%{y}<extra></extra>",
           "legendgroup": "",
           "marker": {
            "color": "white",
            "opacity": 0.8,
            "symbol": "circle"
           },
           "mode": "markers",
           "name": "",
           "orientation": "v",
           "showlegend": false,
           "type": "scatter",
           "x": [
            0.004753062095776672
           ],
           "xaxis": "x",
           "y": [
            0.001674895923784358
           ],
           "yaxis": "y"
          }
         ],
         "name": "2023-01-30"
        },
        {
         "data": [
          {
           "hovertemplate": "Date=2023-01-31<br>Relative Strength=%{x}<br>Momentum=%{y}<extra></extra>",
           "legendgroup": "",
           "marker": {
            "color": "white",
            "opacity": 0.8,
            "symbol": "circle"
           },
           "mode": "markers",
           "name": "",
           "orientation": "v",
           "showlegend": false,
           "type": "scatter",
           "x": [
            0.00040826127174043987
           ],
           "xaxis": "x",
           "y": [
            -0.004344800824036232
           ],
           "yaxis": "y"
          }
         ],
         "name": "2023-01-31"
        },
        {
         "data": [
          {
           "hovertemplate": "Date=2023-02-01<br>Relative Strength=%{x}<br>Momentum=%{y}<extra></extra>",
           "legendgroup": "",
           "marker": {
            "color": "white",
            "opacity": 0.8,
            "symbol": "circle"
           },
           "mode": "markers",
           "name": "",
           "orientation": "v",
           "showlegend": false,
           "type": "scatter",
           "x": [
            0.002782218549999738
           ],
           "xaxis": "x",
           "y": [
            0.002373957278259298
           ],
           "yaxis": "y"
          }
         ],
         "name": "2023-02-01"
        },
        {
         "data": [
          {
           "hovertemplate": "Date=2023-02-02<br>Relative Strength=%{x}<br>Momentum=%{y}<extra></extra>",
           "legendgroup": "",
           "marker": {
            "color": "white",
            "opacity": 0.8,
            "symbol": "circle"
           },
           "mode": "markers",
           "name": "",
           "orientation": "v",
           "showlegend": false,
           "type": "scatter",
           "x": [
            -0.0025159588302602672
           ],
           "xaxis": "x",
           "y": [
            -0.005298177380260005
           ],
           "yaxis": "y"
          }
         ],
         "name": "2023-02-02"
        },
        {
         "data": [
          {
           "hovertemplate": "Date=2023-02-03<br>Relative Strength=%{x}<br>Momentum=%{y}<extra></extra>",
           "legendgroup": "",
           "marker": {
            "color": "white",
            "opacity": 0.8,
            "symbol": "circle"
           },
           "mode": "markers",
           "name": "",
           "orientation": "v",
           "showlegend": false,
           "type": "scatter",
           "x": [
            -0.002578254169166594
           ],
           "xaxis": "x",
           "y": [
            -0.00006229533890632659
           ],
           "yaxis": "y"
          }
         ],
         "name": "2023-02-03"
        },
        {
         "data": [
          {
           "hovertemplate": "Date=2023-02-06<br>Relative Strength=%{x}<br>Momentum=%{y}<extra></extra>",
           "legendgroup": "",
           "marker": {
            "color": "white",
            "opacity": 0.8,
            "symbol": "circle"
           },
           "mode": "markers",
           "name": "",
           "orientation": "v",
           "showlegend": false,
           "type": "scatter",
           "x": [
            -0.0006732488283789028
           ],
           "xaxis": "x",
           "y": [
            0.001905005340787691
           ],
           "yaxis": "y"
          }
         ],
         "name": "2023-02-06"
        },
        {
         "data": [
          {
           "hovertemplate": "Date=2023-02-07<br>Relative Strength=%{x}<br>Momentum=%{y}<extra></extra>",
           "legendgroup": "",
           "marker": {
            "color": "white",
            "opacity": 0.8,
            "symbol": "circle"
           },
           "mode": "markers",
           "name": "",
           "orientation": "v",
           "showlegend": false,
           "type": "scatter",
           "x": [
            0.0010903059509735132
           ],
           "xaxis": "x",
           "y": [
            0.001763554779352416
           ],
           "yaxis": "y"
          }
         ],
         "name": "2023-02-07"
        },
        {
         "data": [
          {
           "hovertemplate": "Date=2023-02-08<br>Relative Strength=%{x}<br>Momentum=%{y}<extra></extra>",
           "legendgroup": "",
           "marker": {
            "color": "white",
            "opacity": 0.8,
            "symbol": "circle"
           },
           "mode": "markers",
           "name": "",
           "orientation": "v",
           "showlegend": false,
           "type": "scatter",
           "x": [
            0.0007049610883917644
           ],
           "xaxis": "x",
           "y": [
            -0.0003853448625817488
           ],
           "yaxis": "y"
          }
         ],
         "name": "2023-02-08"
        },
        {
         "data": [
          {
           "hovertemplate": "Date=2023-02-09<br>Relative Strength=%{x}<br>Momentum=%{y}<extra></extra>",
           "legendgroup": "",
           "marker": {
            "color": "white",
            "opacity": 0.8,
            "symbol": "circle"
           },
           "mode": "markers",
           "name": "",
           "orientation": "v",
           "showlegend": false,
           "type": "scatter",
           "x": [
            0.004640482617716957
           ],
           "xaxis": "x",
           "y": [
            0.003935521529325192
           ],
           "yaxis": "y"
          }
         ],
         "name": "2023-02-09"
        },
        {
         "data": [
          {
           "hovertemplate": "Date=2023-02-10<br>Relative Strength=%{x}<br>Momentum=%{y}<extra></extra>",
           "legendgroup": "",
           "marker": {
            "color": "white",
            "opacity": 0.8,
            "symbol": "circle"
           },
           "mode": "markers",
           "name": "",
           "orientation": "v",
           "showlegend": false,
           "type": "scatter",
           "x": [
            0.008338366327914482
           ],
           "xaxis": "x",
           "y": [
            0.003697883710197525
           ],
           "yaxis": "y"
          }
         ],
         "name": "2023-02-10"
        },
        {
         "data": [
          {
           "hovertemplate": "Date=2023-02-13<br>Relative Strength=%{x}<br>Momentum=%{y}<extra></extra>",
           "legendgroup": "",
           "marker": {
            "color": "white",
            "opacity": 0.8,
            "symbol": "circle"
           },
           "mode": "markers",
           "name": "",
           "orientation": "v",
           "showlegend": false,
           "type": "scatter",
           "x": [
            0.006940988515967272
           ],
           "xaxis": "x",
           "y": [
            -0.00139737781194721
           ],
           "yaxis": "y"
          }
         ],
         "name": "2023-02-13"
        },
        {
         "data": [
          {
           "hovertemplate": "Date=2023-02-14<br>Relative Strength=%{x}<br>Momentum=%{y}<extra></extra>",
           "legendgroup": "",
           "marker": {
            "color": "white",
            "opacity": 0.8,
            "symbol": "circle"
           },
           "mode": "markers",
           "name": "",
           "orientation": "v",
           "showlegend": false,
           "type": "scatter",
           "x": [
            0.007885019035079655
           ],
           "xaxis": "x",
           "y": [
            0.0009440305191123826
           ],
           "yaxis": "y"
          }
         ],
         "name": "2023-02-14"
        },
        {
         "data": [
          {
           "hovertemplate": "Date=2023-02-15<br>Relative Strength=%{x}<br>Momentum=%{y}<extra></extra>",
           "legendgroup": "",
           "marker": {
            "color": "white",
            "opacity": 0.8,
            "symbol": "circle"
           },
           "mode": "markers",
           "name": "",
           "orientation": "v",
           "showlegend": false,
           "type": "scatter",
           "x": [
            0.0066770737971378336
           ],
           "xaxis": "x",
           "y": [
            -0.001207945237941821
           ],
           "yaxis": "y"
          }
         ],
         "name": "2023-02-15"
        },
        {
         "data": [
          {
           "hovertemplate": "Date=2023-02-16<br>Relative Strength=%{x}<br>Momentum=%{y}<extra></extra>",
           "legendgroup": "",
           "marker": {
            "color": "white",
            "opacity": 0.8,
            "symbol": "circle"
           },
           "mode": "markers",
           "name": "",
           "orientation": "v",
           "showlegend": false,
           "type": "scatter",
           "x": [
            0.009185349903498018
           ],
           "xaxis": "x",
           "y": [
            0.002508276106360185
           ],
           "yaxis": "y"
          }
         ],
         "name": "2023-02-16"
        },
        {
         "data": [
          {
           "hovertemplate": "Date=2023-02-17<br>Relative Strength=%{x}<br>Momentum=%{y}<extra></extra>",
           "legendgroup": "",
           "marker": {
            "color": "white",
            "opacity": 0.8,
            "symbol": "circle"
           },
           "mode": "markers",
           "name": "",
           "orientation": "v",
           "showlegend": false,
           "type": "scatter",
           "x": [
            0.005790547773975497
           ],
           "xaxis": "x",
           "y": [
            -0.0033948021295225218
           ],
           "yaxis": "y"
          }
         ],
         "name": "2023-02-17"
        },
        {
         "data": [
          {
           "hovertemplate": "Date=2023-02-22<br>Relative Strength=%{x}<br>Momentum=%{y}<extra></extra>",
           "legendgroup": "",
           "marker": {
            "color": "white",
            "opacity": 0.8,
            "symbol": "circle"
           },
           "mode": "markers",
           "name": "",
           "orientation": "v",
           "showlegend": false,
           "type": "scatter",
           "x": [
            0.001161722985556013
           ],
           "xaxis": "x",
           "y": [
            -0.0046288247884194835
           ],
           "yaxis": "y"
          }
         ],
         "name": "2023-02-22"
        },
        {
         "data": [
          {
           "hovertemplate": "Date=2023-02-23<br>Relative Strength=%{x}<br>Momentum=%{y}<extra></extra>",
           "legendgroup": "",
           "marker": {
            "color": "white",
            "opacity": 0.8,
            "symbol": "circle"
           },
           "mode": "markers",
           "name": "",
           "orientation": "v",
           "showlegend": false,
           "type": "scatter",
           "x": [
            0.003824809984894606
           ],
           "xaxis": "x",
           "y": [
            0.002663086999338593
           ],
           "yaxis": "y"
          }
         ],
         "name": "2023-02-23"
        },
        {
         "data": [
          {
           "hovertemplate": "Date=2023-02-24<br>Relative Strength=%{x}<br>Momentum=%{y}<extra></extra>",
           "legendgroup": "",
           "marker": {
            "color": "white",
            "opacity": 0.8,
            "symbol": "circle"
           },
           "mode": "markers",
           "name": "",
           "orientation": "v",
           "showlegend": false,
           "type": "scatter",
           "x": [
            0.0032308744960257707
           ],
           "xaxis": "x",
           "y": [
            -0.0005939354888688355
           ],
           "yaxis": "y"
          }
         ],
         "name": "2023-02-24"
        },
        {
         "data": [
          {
           "hovertemplate": "Date=2023-02-27<br>Relative Strength=%{x}<br>Momentum=%{y}<extra></extra>",
           "legendgroup": "",
           "marker": {
            "color": "white",
            "opacity": 0.8,
            "symbol": "circle"
           },
           "mode": "markers",
           "name": "",
           "orientation": "v",
           "showlegend": false,
           "type": "scatter",
           "x": [
            0.0028995478052493027
           ],
           "xaxis": "x",
           "y": [
            -0.000331326690776468
           ],
           "yaxis": "y"
          }
         ],
         "name": "2023-02-27"
        },
        {
         "data": [
          {
           "hovertemplate": "Date=2023-02-28<br>Relative Strength=%{x}<br>Momentum=%{y}<extra></extra>",
           "legendgroup": "",
           "marker": {
            "color": "white",
            "opacity": 0.8,
            "symbol": "circle"
           },
           "mode": "markers",
           "name": "",
           "orientation": "v",
           "showlegend": false,
           "type": "scatter",
           "x": [
            -0.0025496344807482865
           ],
           "xaxis": "x",
           "y": [
            -0.005449182285997589
           ],
           "yaxis": "y"
          }
         ],
         "name": "2023-02-28"
        },
        {
         "data": [
          {
           "hovertemplate": "Date=2023-03-01<br>Relative Strength=%{x}<br>Momentum=%{y}<extra></extra>",
           "legendgroup": "",
           "marker": {
            "color": "white",
            "opacity": 0.8,
            "symbol": "circle"
           },
           "mode": "markers",
           "name": "",
           "orientation": "v",
           "showlegend": false,
           "type": "scatter",
           "x": [
            -0.0014464619004465502
           ],
           "xaxis": "x",
           "y": [
            0.0011031725803017363
           ],
           "yaxis": "y"
          }
         ],
         "name": "2023-03-01"
        },
        {
         "data": [
          {
           "hovertemplate": "Date=2023-03-02<br>Relative Strength=%{x}<br>Momentum=%{y}<extra></extra>",
           "legendgroup": "",
           "marker": {
            "color": "white",
            "opacity": 0.8,
            "symbol": "circle"
           },
           "mode": "markers",
           "name": "",
           "orientation": "v",
           "showlegend": false,
           "type": "scatter",
           "x": [
            -0.0037580550469047177
           ],
           "xaxis": "x",
           "y": [
            -0.0023115931464581674
           ],
           "yaxis": "y"
          }
         ],
         "name": "2023-03-02"
        },
        {
         "data": [
          {
           "hovertemplate": "Date=2023-03-03<br>Relative Strength=%{x}<br>Momentum=%{y}<extra></extra>",
           "legendgroup": "",
           "marker": {
            "color": "white",
            "opacity": 0.8,
            "symbol": "circle"
           },
           "mode": "markers",
           "name": "",
           "orientation": "v",
           "showlegend": false,
           "type": "scatter",
           "x": [
            0.0015276207146885708
           ],
           "xaxis": "x",
           "y": [
            0.0052856757615932885
           ],
           "yaxis": "y"
          }
         ],
         "name": "2023-03-03"
        },
        {
         "data": [
          {
           "hovertemplate": "Date=2023-03-06<br>Relative Strength=%{x}<br>Momentum=%{y}<extra></extra>",
           "legendgroup": "",
           "marker": {
            "color": "white",
            "opacity": 0.8,
            "symbol": "circle"
           },
           "mode": "markers",
           "name": "",
           "orientation": "v",
           "showlegend": false,
           "type": "scatter",
           "x": [
            0.0017480418679961971
           ],
           "xaxis": "x",
           "y": [
            0.0002204211533076263
           ],
           "yaxis": "y"
          }
         ],
         "name": "2023-03-06"
        },
        {
         "data": [
          {
           "hovertemplate": "Date=2023-03-07<br>Relative Strength=%{x}<br>Momentum=%{y}<extra></extra>",
           "legendgroup": "",
           "marker": {
            "color": "white",
            "opacity": 0.8,
            "symbol": "circle"
           },
           "mode": "markers",
           "name": "",
           "orientation": "v",
           "showlegend": false,
           "type": "scatter",
           "x": [
            -0.00013469113243832521
           ],
           "xaxis": "x",
           "y": [
            -0.0018827330004345224
           ],
           "yaxis": "y"
          }
         ],
         "name": "2023-03-07"
        },
        {
         "data": [
          {
           "hovertemplate": "Date=2023-03-08<br>Relative Strength=%{x}<br>Momentum=%{y}<extra></extra>",
           "legendgroup": "",
           "marker": {
            "color": "white",
            "opacity": 0.8,
            "symbol": "circle"
           },
           "mode": "markers",
           "name": "",
           "orientation": "v",
           "showlegend": false,
           "type": "scatter",
           "x": [
            -0.0004740566545350488
           ],
           "xaxis": "x",
           "y": [
            -0.0003393655220967236
           ],
           "yaxis": "y"
          }
         ],
         "name": "2023-03-08"
        },
        {
         "data": [
          {
           "hovertemplate": "Date=2023-03-09<br>Relative Strength=%{x}<br>Momentum=%{y}<extra></extra>",
           "legendgroup": "",
           "marker": {
            "color": "white",
            "opacity": 0.8,
            "symbol": "circle"
           },
           "mode": "markers",
           "name": "",
           "orientation": "v",
           "showlegend": false,
           "type": "scatter",
           "x": [
            -0.002064635106428936
           ],
           "xaxis": "x",
           "y": [
            -0.0015905784518938872
           ],
           "yaxis": "y"
          }
         ],
         "name": "2023-03-09"
        },
        {
         "data": [
          {
           "hovertemplate": "Date=2023-03-10<br>Relative Strength=%{x}<br>Momentum=%{y}<extra></extra>",
           "legendgroup": "",
           "marker": {
            "color": "white",
            "opacity": 0.8,
            "symbol": "circle"
           },
           "mode": "markers",
           "name": "",
           "orientation": "v",
           "showlegend": false,
           "type": "scatter",
           "x": [
            -0.0012520243985505997
           ],
           "xaxis": "x",
           "y": [
            0.0008126107078783363
           ],
           "yaxis": "y"
          }
         ],
         "name": "2023-03-10"
        },
        {
         "data": [
          {
           "hovertemplate": "Date=2023-03-13<br>Relative Strength=%{x}<br>Momentum=%{y}<extra></extra>",
           "legendgroup": "",
           "marker": {
            "color": "white",
            "opacity": 0.8,
            "symbol": "circle"
           },
           "mode": "markers",
           "name": "",
           "orientation": "v",
           "showlegend": false,
           "type": "scatter",
           "x": [
            -0.00505315701815291
           ],
           "xaxis": "x",
           "y": [
            -0.00380113261960231
           ],
           "yaxis": "y"
          }
         ],
         "name": "2023-03-13"
        },
        {
         "data": [
          {
           "hovertemplate": "Date=2023-03-14<br>Relative Strength=%{x}<br>Momentum=%{y}<extra></extra>",
           "legendgroup": "",
           "marker": {
            "color": "white",
            "opacity": 0.8,
            "symbol": "circle"
           },
           "mode": "markers",
           "name": "",
           "orientation": "v",
           "showlegend": false,
           "type": "scatter",
           "x": [
            -0.003904473882076931
           ],
           "xaxis": "x",
           "y": [
            0.0011486831360759788
           ],
           "yaxis": "y"
          }
         ],
         "name": "2023-03-14"
        },
        {
         "data": [
          {
           "hovertemplate": "Date=2023-03-15<br>Relative Strength=%{x}<br>Momentum=%{y}<extra></extra>",
           "legendgroup": "",
           "marker": {
            "color": "white",
            "opacity": 0.8,
            "symbol": "circle"
           },
           "mode": "markers",
           "name": "",
           "orientation": "v",
           "showlegend": false,
           "type": "scatter",
           "x": [
            -0.006181454417966914
           ],
           "xaxis": "x",
           "y": [
            -0.002276980535889983
           ],
           "yaxis": "y"
          }
         ],
         "name": "2023-03-15"
        },
        {
         "data": [
          {
           "hovertemplate": "Date=2023-03-16<br>Relative Strength=%{x}<br>Momentum=%{y}<extra></extra>",
           "legendgroup": "",
           "marker": {
            "color": "white",
            "opacity": 0.8,
            "symbol": "circle"
           },
           "mode": "markers",
           "name": "",
           "orientation": "v",
           "showlegend": false,
           "type": "scatter",
           "x": [
            -0.005670246513509491
           ],
           "xaxis": "x",
           "y": [
            0.0005112079044574227
           ],
           "yaxis": "y"
          }
         ],
         "name": "2023-03-16"
        },
        {
         "data": [
          {
           "hovertemplate": "Date=2023-03-17<br>Relative Strength=%{x}<br>Momentum=%{y}<extra></extra>",
           "legendgroup": "",
           "marker": {
            "color": "white",
            "opacity": 0.8,
            "symbol": "circle"
           },
           "mode": "markers",
           "name": "",
           "orientation": "v",
           "showlegend": false,
           "type": "scatter",
           "x": [
            -0.006970045247550882
           ],
           "xaxis": "x",
           "y": [
            -0.0012997987340413906
           ],
           "yaxis": "y"
          }
         ],
         "name": "2023-03-17"
        },
        {
         "data": [
          {
           "hovertemplate": "Date=2023-03-20<br>Relative Strength=%{x}<br>Momentum=%{y}<extra></extra>",
           "legendgroup": "",
           "marker": {
            "color": "white",
            "opacity": 0.8,
            "symbol": "circle"
           },
           "mode": "markers",
           "name": "",
           "orientation": "v",
           "showlegend": false,
           "type": "scatter",
           "x": [
            -0.008607359106420298
           ],
           "xaxis": "x",
           "y": [
            -0.0016373138588694162
           ],
           "yaxis": "y"
          }
         ],
         "name": "2023-03-20"
        },
        {
         "data": [
          {
           "hovertemplate": "Date=2023-03-21<br>Relative Strength=%{x}<br>Momentum=%{y}<extra></extra>",
           "legendgroup": "",
           "marker": {
            "color": "white",
            "opacity": 0.8,
            "symbol": "circle"
           },
           "mode": "markers",
           "name": "",
           "orientation": "v",
           "showlegend": false,
           "type": "scatter",
           "x": [
            -0.0037700202311839346
           ],
           "xaxis": "x",
           "y": [
            0.0048373388752363635
           ],
           "yaxis": "y"
          }
         ],
         "name": "2023-03-21"
        },
        {
         "data": [
          {
           "hovertemplate": "Date=2023-03-22<br>Relative Strength=%{x}<br>Momentum=%{y}<extra></extra>",
           "legendgroup": "",
           "marker": {
            "color": "white",
            "opacity": 0.8,
            "symbol": "circle"
           },
           "mode": "markers",
           "name": "",
           "orientation": "v",
           "showlegend": false,
           "type": "scatter",
           "x": [
            -0.0023565098406522766
           ],
           "xaxis": "x",
           "y": [
            0.001413510390531658
           ],
           "yaxis": "y"
          }
         ],
         "name": "2023-03-22"
        },
        {
         "data": [
          {
           "hovertemplate": "Date=2023-03-23<br>Relative Strength=%{x}<br>Momentum=%{y}<extra></extra>",
           "legendgroup": "",
           "marker": {
            "color": "white",
            "opacity": 0.8,
            "symbol": "circle"
           },
           "mode": "markers",
           "name": "",
           "orientation": "v",
           "showlegend": false,
           "type": "scatter",
           "x": [
            -0.0032844289802369635
           ],
           "xaxis": "x",
           "y": [
            -0.0009279191395846868
           ],
           "yaxis": "y"
          }
         ],
         "name": "2023-03-23"
        },
        {
         "data": [
          {
           "hovertemplate": "Date=2023-03-24<br>Relative Strength=%{x}<br>Momentum=%{y}<extra></extra>",
           "legendgroup": "",
           "marker": {
            "color": "white",
            "opacity": 0.8,
            "symbol": "circle"
           },
           "mode": "markers",
           "name": "",
           "orientation": "v",
           "showlegend": false,
           "type": "scatter",
           "x": [
            -0.0043294502822037615
           ],
           "xaxis": "x",
           "y": [
            -0.001045021301966798
           ],
           "yaxis": "y"
          }
         ],
         "name": "2023-03-24"
        },
        {
         "data": [
          {
           "hovertemplate": "Date=2023-03-27<br>Relative Strength=%{x}<br>Momentum=%{y}<extra></extra>",
           "legendgroup": "",
           "marker": {
            "color": "white",
            "opacity": 0.8,
            "symbol": "circle"
           },
           "mode": "markers",
           "name": "",
           "orientation": "v",
           "showlegend": false,
           "type": "scatter",
           "x": [
            -0.0007862388143073714
           ],
           "xaxis": "x",
           "y": [
            0.00354321146789639
           ],
           "yaxis": "y"
          }
         ],
         "name": "2023-03-27"
        },
        {
         "data": [
          {
           "hovertemplate": "Date=2023-03-28<br>Relative Strength=%{x}<br>Momentum=%{y}<extra></extra>",
           "legendgroup": "",
           "marker": {
            "color": "white",
            "opacity": 0.8,
            "symbol": "circle"
           },
           "mode": "markers",
           "name": "",
           "orientation": "v",
           "showlegend": false,
           "type": "scatter",
           "x": [
            0.0010568131305766614
           ],
           "xaxis": "x",
           "y": [
            0.0018430519448840328
           ],
           "yaxis": "y"
          }
         ],
         "name": "2023-03-28"
        },
        {
         "data": [
          {
           "hovertemplate": "Date=2023-03-29<br>Relative Strength=%{x}<br>Momentum=%{y}<extra></extra>",
           "legendgroup": "",
           "marker": {
            "color": "white",
            "opacity": 0.8,
            "symbol": "circle"
           },
           "mode": "markers",
           "name": "",
           "orientation": "v",
           "showlegend": false,
           "type": "scatter",
           "x": [
            0.003288040457391761
           ],
           "xaxis": "x",
           "y": [
            0.0022312273268151
           ],
           "yaxis": "y"
          }
         ],
         "name": "2023-03-29"
        },
        {
         "data": [
          {
           "hovertemplate": "Date=2023-03-30<br>Relative Strength=%{x}<br>Momentum=%{y}<extra></extra>",
           "legendgroup": "",
           "marker": {
            "color": "white",
            "opacity": 0.8,
            "symbol": "circle"
           },
           "mode": "markers",
           "name": "",
           "orientation": "v",
           "showlegend": false,
           "type": "scatter",
           "x": [
            0.0027777209884946364
           ],
           "xaxis": "x",
           "y": [
            -0.0005103194688971247
           ],
           "yaxis": "y"
          }
         ],
         "name": "2023-03-30"
        },
        {
         "data": [
          {
           "hovertemplate": "Date=2023-03-31<br>Relative Strength=%{x}<br>Momentum=%{y}<extra></extra>",
           "legendgroup": "",
           "marker": {
            "color": "white",
            "opacity": 0.8,
            "symbol": "circle"
           },
           "mode": "markers",
           "name": "",
           "orientation": "v",
           "showlegend": false,
           "type": "scatter",
           "x": [
            -0.00010575062693833903
           ],
           "xaxis": "x",
           "y": [
            -0.0028834716154329753
           ],
           "yaxis": "y"
          }
         ],
         "name": "2023-03-31"
        },
        {
         "data": [
          {
           "hovertemplate": "Date=2023-04-03<br>Relative Strength=%{x}<br>Momentum=%{y}<extra></extra>",
           "legendgroup": "",
           "marker": {
            "color": "white",
            "opacity": 0.8,
            "symbol": "circle"
           },
           "mode": "markers",
           "name": "",
           "orientation": "v",
           "showlegend": false,
           "type": "scatter",
           "x": [
            0.006126862402819855
           ],
           "xaxis": "x",
           "y": [
            0.006232613029758194
           ],
           "yaxis": "y"
          }
         ],
         "name": "2023-04-03"
        },
        {
         "data": [
          {
           "hovertemplate": "Date=2023-04-04<br>Relative Strength=%{x}<br>Momentum=%{y}<extra></extra>",
           "legendgroup": "",
           "marker": {
            "color": "white",
            "opacity": 0.8,
            "symbol": "circle"
           },
           "mode": "markers",
           "name": "",
           "orientation": "v",
           "showlegend": false,
           "type": "scatter",
           "x": [
            0.002895548169282036
           ],
           "xaxis": "x",
           "y": [
            -0.003231314233537819
           ],
           "yaxis": "y"
          }
         ],
         "name": "2023-04-04"
        },
        {
         "data": [
          {
           "hovertemplate": "Date=2023-04-05<br>Relative Strength=%{x}<br>Momentum=%{y}<extra></extra>",
           "legendgroup": "",
           "marker": {
            "color": "white",
            "opacity": 0.8,
            "symbol": "circle"
           },
           "mode": "markers",
           "name": "",
           "orientation": "v",
           "showlegend": false,
           "type": "scatter",
           "x": [
            0.0036296386953698968
           ],
           "xaxis": "x",
           "y": [
            0.000734090526087861
           ],
           "yaxis": "y"
          }
         ],
         "name": "2023-04-05"
        },
        {
         "data": [
          {
           "hovertemplate": "Date=2023-04-06<br>Relative Strength=%{x}<br>Momentum=%{y}<extra></extra>",
           "legendgroup": "",
           "marker": {
            "color": "white",
            "opacity": 0.8,
            "symbol": "circle"
           },
           "mode": "markers",
           "name": "",
           "orientation": "v",
           "showlegend": false,
           "type": "scatter",
           "x": [
            0.00232858970132116
           ],
           "xaxis": "x",
           "y": [
            -0.001301048994048737
           ],
           "yaxis": "y"
          }
         ],
         "name": "2023-04-06"
        },
        {
         "data": [
          {
           "hovertemplate": "Date=2023-04-10<br>Relative Strength=%{x}<br>Momentum=%{y}<extra></extra>",
           "legendgroup": "",
           "marker": {
            "color": "white",
            "opacity": 0.8,
            "symbol": "circle"
           },
           "mode": "markers",
           "name": "",
           "orientation": "v",
           "showlegend": false,
           "type": "scatter",
           "x": [
            0.004402938321668071
           ],
           "xaxis": "x",
           "y": [
            0.002074348620346911
           ],
           "yaxis": "y"
          }
         ],
         "name": "2023-04-10"
        },
        {
         "data": [
          {
           "hovertemplate": "Date=2023-04-11<br>Relative Strength=%{x}<br>Momentum=%{y}<extra></extra>",
           "legendgroup": "",
           "marker": {
            "color": "white",
            "opacity": 0.8,
            "symbol": "circle"
           },
           "mode": "markers",
           "name": "",
           "orientation": "v",
           "showlegend": false,
           "type": "scatter",
           "x": [
            0.003946743053915581
           ],
           "xaxis": "x",
           "y": [
            -0.00045619526775248984
           ],
           "yaxis": "y"
          }
         ],
         "name": "2023-04-11"
        },
        {
         "data": [
          {
           "hovertemplate": "Date=2023-04-12<br>Relative Strength=%{x}<br>Momentum=%{y}<extra></extra>",
           "legendgroup": "",
           "marker": {
            "color": "white",
            "opacity": 0.8,
            "symbol": "circle"
           },
           "mode": "markers",
           "name": "",
           "orientation": "v",
           "showlegend": false,
           "type": "scatter",
           "x": [
            0.003802016761960991
           ],
           "xaxis": "x",
           "y": [
            -0.00014472629195459025
           ],
           "yaxis": "y"
          }
         ],
         "name": "2023-04-12"
        },
        {
         "data": [
          {
           "hovertemplate": "Date=2023-04-13<br>Relative Strength=%{x}<br>Momentum=%{y}<extra></extra>",
           "legendgroup": "",
           "marker": {
            "color": "white",
            "opacity": 0.8,
            "symbol": "circle"
           },
           "mode": "markers",
           "name": "",
           "orientation": "v",
           "showlegend": false,
           "type": "scatter",
           "x": [
            0.004189256936583974
           ],
           "xaxis": "x",
           "y": [
            0.00038724017462298324
           ],
           "yaxis": "y"
          }
         ],
         "name": "2023-04-13"
        },
        {
         "data": [
          {
           "hovertemplate": "Date=2023-04-14<br>Relative Strength=%{x}<br>Momentum=%{y}<extra></extra>",
           "legendgroup": "",
           "marker": {
            "color": "white",
            "opacity": 0.8,
            "symbol": "circle"
           },
           "mode": "markers",
           "name": "",
           "orientation": "v",
           "showlegend": false,
           "type": "scatter",
           "x": [
            0.006987946555587676
           ],
           "xaxis": "x",
           "y": [
            0.0027986896190037016
           ],
           "yaxis": "y"
          }
         ],
         "name": "2023-04-14"
        },
        {
         "data": [
          {
           "hovertemplate": "Date=2023-04-17<br>Relative Strength=%{x}<br>Momentum=%{y}<extra></extra>",
           "legendgroup": "",
           "marker": {
            "color": "white",
            "opacity": 0.8,
            "symbol": "circle"
           },
           "mode": "markers",
           "name": "",
           "orientation": "v",
           "showlegend": false,
           "type": "scatter",
           "x": [
            0.009198268230166961
           ],
           "xaxis": "x",
           "y": [
            0.002210321674579285
           ],
           "yaxis": "y"
          }
         ],
         "name": "2023-04-17"
        },
        {
         "data": [
          {
           "hovertemplate": "Date=2023-04-18<br>Relative Strength=%{x}<br>Momentum=%{y}<extra></extra>",
           "legendgroup": "",
           "marker": {
            "color": "white",
            "opacity": 0.8,
            "symbol": "circle"
           },
           "mode": "markers",
           "name": "",
           "orientation": "v",
           "showlegend": false,
           "type": "scatter",
           "x": [
            0.0068014557120974145
           ],
           "xaxis": "x",
           "y": [
            -0.0023968125180695464
           ],
           "yaxis": "y"
          }
         ],
         "name": "2023-04-18"
        },
        {
         "data": [
          {
           "hovertemplate": "Date=2023-04-19<br>Relative Strength=%{x}<br>Momentum=%{y}<extra></extra>",
           "legendgroup": "",
           "marker": {
            "color": "white",
            "opacity": 0.8,
            "symbol": "circle"
           },
           "mode": "markers",
           "name": "",
           "orientation": "v",
           "showlegend": false,
           "type": "scatter",
           "x": [
            0.006963921501926795
           ],
           "xaxis": "x",
           "y": [
            0.00016246578982938038
           ],
           "yaxis": "y"
          }
         ],
         "name": "2023-04-19"
        },
        {
         "data": [
          {
           "hovertemplate": "Date=2023-04-20<br>Relative Strength=%{x}<br>Momentum=%{y}<extra></extra>",
           "legendgroup": "",
           "marker": {
            "color": "white",
            "opacity": 0.8,
            "symbol": "circle"
           },
           "mode": "markers",
           "name": "",
           "orientation": "v",
           "showlegend": false,
           "type": "scatter",
           "x": [
            0.006001731543364098
           ],
           "xaxis": "x",
           "y": [
            -0.0009621899585626967
           ],
           "yaxis": "y"
          }
         ],
         "name": "2023-04-20"
        },
        {
         "data": [
          {
           "hovertemplate": "Date=2023-04-24<br>Relative Strength=%{x}<br>Momentum=%{y}<extra></extra>",
           "legendgroup": "",
           "marker": {
            "color": "white",
            "opacity": 0.8,
            "symbol": "circle"
           },
           "mode": "markers",
           "name": "",
           "orientation": "v",
           "showlegend": false,
           "type": "scatter",
           "x": [
            0.009597852464941891
           ],
           "xaxis": "x",
           "y": [
            0.0035961209215777928
           ],
           "yaxis": "y"
          }
         ],
         "name": "2023-04-24"
        },
        {
         "data": [
          {
           "hovertemplate": "Date=2023-04-25<br>Relative Strength=%{x}<br>Momentum=%{y}<extra></extra>",
           "legendgroup": "",
           "marker": {
            "color": "white",
            "opacity": 0.8,
            "symbol": "circle"
           },
           "mode": "markers",
           "name": "",
           "orientation": "v",
           "showlegend": false,
           "type": "scatter",
           "x": [
            0.008784490642476772
           ],
           "xaxis": "x",
           "y": [
            -0.0008133618224651189
           ],
           "yaxis": "y"
          }
         ],
         "name": "2023-04-25"
        },
        {
         "data": [
          {
           "hovertemplate": "Date=2023-04-26<br>Relative Strength=%{x}<br>Momentum=%{y}<extra></extra>",
           "legendgroup": "",
           "marker": {
            "color": "white",
            "opacity": 0.8,
            "symbol": "circle"
           },
           "mode": "markers",
           "name": "",
           "orientation": "v",
           "showlegend": false,
           "type": "scatter",
           "x": [
            0.0080049410854089
           ],
           "xaxis": "x",
           "y": [
            -0.0007795495570678719
           ],
           "yaxis": "y"
          }
         ],
         "name": "2023-04-26"
        },
        {
         "data": [
          {
           "hovertemplate": "Date=2023-04-27<br>Relative Strength=%{x}<br>Momentum=%{y}<extra></extra>",
           "legendgroup": "",
           "marker": {
            "color": "white",
            "opacity": 0.8,
            "symbol": "circle"
           },
           "mode": "markers",
           "name": "",
           "orientation": "v",
           "showlegend": false,
           "type": "scatter",
           "x": [
            0.004873833785707327
           ],
           "xaxis": "x",
           "y": [
            -0.0031311072997015736
           ],
           "yaxis": "y"
          }
         ],
         "name": "2023-04-27"
        },
        {
         "data": [
          {
           "hovertemplate": "Date=2023-04-28<br>Relative Strength=%{x}<br>Momentum=%{y}<extra></extra>",
           "legendgroup": "",
           "marker": {
            "color": "white",
            "opacity": 0.8,
            "symbol": "circle"
           },
           "mode": "markers",
           "name": "",
           "orientation": "v",
           "showlegend": false,
           "type": "scatter",
           "x": [
            0.004595362371526756
           ],
           "xaxis": "x",
           "y": [
            -0.00027847141418057067
           ],
           "yaxis": "y"
          }
         ],
         "name": "2023-04-28"
        },
        {
         "data": [
          {
           "hovertemplate": "Date=2023-05-02<br>Relative Strength=%{x}<br>Momentum=%{y}<extra></extra>",
           "legendgroup": "",
           "marker": {
            "color": "white",
            "opacity": 0.8,
            "symbol": "circle"
           },
           "mode": "markers",
           "name": "",
           "orientation": "v",
           "showlegend": false,
           "type": "scatter",
           "x": [
            0.0017380193143322177
           ],
           "xaxis": "x",
           "y": [
            -0.002857343057194538
           ],
           "yaxis": "y"
          }
         ],
         "name": "2023-05-02"
        },
        {
         "data": [
          {
           "hovertemplate": "Date=2023-05-03<br>Relative Strength=%{x}<br>Momentum=%{y}<extra></extra>",
           "legendgroup": "",
           "marker": {
            "color": "white",
            "opacity": 0.8,
            "symbol": "circle"
           },
           "mode": "markers",
           "name": "",
           "orientation": "v",
           "showlegend": false,
           "type": "scatter",
           "x": [
            -0.00029263622105336635
           ],
           "xaxis": "x",
           "y": [
            -0.002030655535385584
           ],
           "yaxis": "y"
          }
         ],
         "name": "2023-05-03"
        },
        {
         "data": [
          {
           "hovertemplate": "Date=2023-05-04<br>Relative Strength=%{x}<br>Momentum=%{y}<extra></extra>",
           "legendgroup": "",
           "marker": {
            "color": "white",
            "opacity": 0.8,
            "symbol": "circle"
           },
           "mode": "markers",
           "name": "",
           "orientation": "v",
           "showlegend": false,
           "type": "scatter",
           "x": [
            -0.0014814719773237
           ],
           "xaxis": "x",
           "y": [
            -0.0011888357562703337
           ],
           "yaxis": "y"
          }
         ],
         "name": "2023-05-04"
        },
        {
         "data": [
          {
           "hovertemplate": "Date=2023-05-05<br>Relative Strength=%{x}<br>Momentum=%{y}<extra></extra>",
           "legendgroup": "",
           "marker": {
            "color": "white",
            "opacity": 0.8,
            "symbol": "circle"
           },
           "mode": "markers",
           "name": "",
           "orientation": "v",
           "showlegend": false,
           "type": "scatter",
           "x": [
            0.0009584378875881372
           ],
           "xaxis": "x",
           "y": [
            0.002439909864911837
           ],
           "yaxis": "y"
          }
         ],
         "name": "2023-05-05"
        },
        {
         "data": [
          {
           "hovertemplate": "Date=2023-05-08<br>Relative Strength=%{x}<br>Momentum=%{y}<extra></extra>",
           "legendgroup": "",
           "marker": {
            "color": "white",
            "opacity": 0.8,
            "symbol": "circle"
           },
           "mode": "markers",
           "name": "",
           "orientation": "v",
           "showlegend": false,
           "type": "scatter",
           "x": [
            0.0019911150476466413
           ],
           "xaxis": "x",
           "y": [
            0.001032677160058504
           ],
           "yaxis": "y"
          }
         ],
         "name": "2023-05-08"
        },
        {
         "data": [
          {
           "hovertemplate": "Date=2023-05-09<br>Relative Strength=%{x}<br>Momentum=%{y}<extra></extra>",
           "legendgroup": "",
           "marker": {
            "color": "white",
            "opacity": 0.8,
            "symbol": "circle"
           },
           "mode": "markers",
           "name": "",
           "orientation": "v",
           "showlegend": false,
           "type": "scatter",
           "x": [
            -0.001006639955506372
           ],
           "xaxis": "x",
           "y": [
            -0.0029977550031530134
           ],
           "yaxis": "y"
          }
         ],
         "name": "2023-05-09"
        },
        {
         "data": [
          {
           "hovertemplate": "Date=2023-05-10<br>Relative Strength=%{x}<br>Momentum=%{y}<extra></extra>",
           "legendgroup": "",
           "marker": {
            "color": "white",
            "opacity": 0.8,
            "symbol": "circle"
           },
           "mode": "markers",
           "name": "",
           "orientation": "v",
           "showlegend": false,
           "type": "scatter",
           "x": [
            -0.001857450353358392
           ],
           "xaxis": "x",
           "y": [
            -0.00085081039785202
           ],
           "yaxis": "y"
          }
         ],
         "name": "2023-05-10"
        },
        {
         "data": [
          {
           "hovertemplate": "Date=2023-05-11<br>Relative Strength=%{x}<br>Momentum=%{y}<extra></extra>",
           "legendgroup": "",
           "marker": {
            "color": "white",
            "opacity": 0.8,
            "symbol": "circle"
           },
           "mode": "markers",
           "name": "",
           "orientation": "v",
           "showlegend": false,
           "type": "scatter",
           "x": [
            0.0014349313545162778
           ],
           "xaxis": "x",
           "y": [
            0.00329238170787467
           ],
           "yaxis": "y"
          }
         ],
         "name": "2023-05-11"
        },
        {
         "data": [
          {
           "hovertemplate": "Date=2023-05-12<br>Relative Strength=%{x}<br>Momentum=%{y}<extra></extra>",
           "legendgroup": "",
           "marker": {
            "color": "white",
            "opacity": 0.8,
            "symbol": "circle"
           },
           "mode": "markers",
           "name": "",
           "orientation": "v",
           "showlegend": false,
           "type": "scatter",
           "x": [
            0.007494421174029919
           ],
           "xaxis": "x",
           "y": [
            0.006059489819513641
           ],
           "yaxis": "y"
          }
         ],
         "name": "2023-05-12"
        },
        {
         "data": [
          {
           "hovertemplate": "Date=2023-05-15<br>Relative Strength=%{x}<br>Momentum=%{y}<extra></extra>",
           "legendgroup": "",
           "marker": {
            "color": "white",
            "opacity": 0.8,
            "symbol": "circle"
           },
           "mode": "markers",
           "name": "",
           "orientation": "v",
           "showlegend": false,
           "type": "scatter",
           "x": [
            0.0039038823767806657
           ],
           "xaxis": "x",
           "y": [
            -0.0035905387972492535
           ],
           "yaxis": "y"
          }
         ],
         "name": "2023-05-15"
        },
        {
         "data": [
          {
           "hovertemplate": "Date=2023-05-16<br>Relative Strength=%{x}<br>Momentum=%{y}<extra></extra>",
           "legendgroup": "",
           "marker": {
            "color": "white",
            "opacity": 0.8,
            "symbol": "circle"
           },
           "mode": "markers",
           "name": "",
           "orientation": "v",
           "showlegend": false,
           "type": "scatter",
           "x": [
            0.008815848970220908
           ],
           "xaxis": "x",
           "y": [
            0.0049119665934402425
           ],
           "yaxis": "y"
          }
         ],
         "name": "2023-05-16"
        },
        {
         "data": [
          {
           "hovertemplate": "Date=2023-05-17<br>Relative Strength=%{x}<br>Momentum=%{y}<extra></extra>",
           "legendgroup": "",
           "marker": {
            "color": "white",
            "opacity": 0.8,
            "symbol": "circle"
           },
           "mode": "markers",
           "name": "",
           "orientation": "v",
           "showlegend": false,
           "type": "scatter",
           "x": [
            0.005436514104304624
           ],
           "xaxis": "x",
           "y": [
            -0.0033793348659162843
           ],
           "yaxis": "y"
          }
         ],
         "name": "2023-05-17"
        },
        {
         "data": [
          {
           "hovertemplate": "Date=2023-05-18<br>Relative Strength=%{x}<br>Momentum=%{y}<extra></extra>",
           "legendgroup": "",
           "marker": {
            "color": "white",
            "opacity": 0.8,
            "symbol": "circle"
           },
           "mode": "markers",
           "name": "",
           "orientation": "v",
           "showlegend": false,
           "type": "scatter",
           "x": [
            0.0042107182499318335
           ],
           "xaxis": "x",
           "y": [
            -0.0012257958543727904
           ],
           "yaxis": "y"
          }
         ],
         "name": "2023-05-18"
        },
        {
         "data": [
          {
           "hovertemplate": "Date=2023-05-19<br>Relative Strength=%{x}<br>Momentum=%{y}<extra></extra>",
           "legendgroup": "",
           "marker": {
            "color": "white",
            "opacity": 0.8,
            "symbol": "circle"
           },
           "mode": "markers",
           "name": "",
           "orientation": "v",
           "showlegend": false,
           "type": "scatter",
           "x": [
            0.002130784368507932
           ],
           "xaxis": "x",
           "y": [
            -0.0020799338814239017
           ],
           "yaxis": "y"
          }
         ],
         "name": "2023-05-19"
        },
        {
         "data": [
          {
           "hovertemplate": "Date=2023-05-22<br>Relative Strength=%{x}<br>Momentum=%{y}<extra></extra>",
           "legendgroup": "",
           "marker": {
            "color": "white",
            "opacity": 0.8,
            "symbol": "circle"
           },
           "mode": "markers",
           "name": "",
           "orientation": "v",
           "showlegend": false,
           "type": "scatter",
           "x": [
            0.0007543276149911682
           ],
           "xaxis": "x",
           "y": [
            -0.0013764567535167636
           ],
           "yaxis": "y"
          }
         ],
         "name": "2023-05-22"
        },
        {
         "data": [
          {
           "hovertemplate": "Date=2023-05-23<br>Relative Strength=%{x}<br>Momentum=%{y}<extra></extra>",
           "legendgroup": "",
           "marker": {
            "color": "white",
            "opacity": 0.8,
            "symbol": "circle"
           },
           "mode": "markers",
           "name": "",
           "orientation": "v",
           "showlegend": false,
           "type": "scatter",
           "x": [
            0.004155531256402923
           ],
           "xaxis": "x",
           "y": [
            0.0034012036414117547
           ],
           "yaxis": "y"
          }
         ],
         "name": "2023-05-23"
        },
        {
         "data": [
          {
           "hovertemplate": "Date=2023-05-24<br>Relative Strength=%{x}<br>Momentum=%{y}<extra></extra>",
           "legendgroup": "",
           "marker": {
            "color": "white",
            "opacity": 0.8,
            "symbol": "circle"
           },
           "mode": "markers",
           "name": "",
           "orientation": "v",
           "showlegend": false,
           "type": "scatter",
           "x": [
            0.0072621884989859786
           ],
           "xaxis": "x",
           "y": [
            0.0031066572425830557
           ],
           "yaxis": "y"
          }
         ],
         "name": "2023-05-24"
        },
        {
         "data": [
          {
           "hovertemplate": "Date=2023-05-25<br>Relative Strength=%{x}<br>Momentum=%{y}<extra></extra>",
           "legendgroup": "",
           "marker": {
            "color": "white",
            "opacity": 0.8,
            "symbol": "circle"
           },
           "mode": "markers",
           "name": "",
           "orientation": "v",
           "showlegend": false,
           "type": "scatter",
           "x": [
            0.0024421667243006433
           ],
           "xaxis": "x",
           "y": [
            -0.004820021774685336
           ],
           "yaxis": "y"
          }
         ],
         "name": "2023-05-25"
        },
        {
         "data": [
          {
           "hovertemplate": "Date=2023-05-26<br>Relative Strength=%{x}<br>Momentum=%{y}<extra></extra>",
           "legendgroup": "",
           "marker": {
            "color": "white",
            "opacity": 0.8,
            "symbol": "circle"
           },
           "mode": "markers",
           "name": "",
           "orientation": "v",
           "showlegend": false,
           "type": "scatter",
           "x": [
            -0.000041142518868952666
           ],
           "xaxis": "x",
           "y": [
            -0.002483309243169596
           ],
           "yaxis": "y"
          }
         ],
         "name": "2023-05-26"
        },
        {
         "data": [
          {
           "hovertemplate": "Date=2023-05-29<br>Relative Strength=%{x}<br>Momentum=%{y}<extra></extra>",
           "legendgroup": "",
           "marker": {
            "color": "white",
            "opacity": 0.8,
            "symbol": "circle"
           },
           "mode": "markers",
           "name": "",
           "orientation": "v",
           "showlegend": false,
           "type": "scatter",
           "x": [
            0.0028335997965558083
           ],
           "xaxis": "x",
           "y": [
            0.002874742315424761
           ],
           "yaxis": "y"
          }
         ],
         "name": "2023-05-29"
        },
        {
         "data": [
          {
           "hovertemplate": "Date=2023-05-30<br>Relative Strength=%{x}<br>Momentum=%{y}<extra></extra>",
           "legendgroup": "",
           "marker": {
            "color": "white",
            "opacity": 0.8,
            "symbol": "circle"
           },
           "mode": "markers",
           "name": "",
           "orientation": "v",
           "showlegend": false,
           "type": "scatter",
           "x": [
            -0.00031236233765951087
           ],
           "xaxis": "x",
           "y": [
            -0.003145962134215319
           ],
           "yaxis": "y"
          }
         ],
         "name": "2023-05-30"
        },
        {
         "data": [
          {
           "hovertemplate": "Date=2023-05-31<br>Relative Strength=%{x}<br>Momentum=%{y}<extra></extra>",
           "legendgroup": "",
           "marker": {
            "color": "white",
            "opacity": 0.8,
            "symbol": "circle"
           },
           "mode": "markers",
           "name": "",
           "orientation": "v",
           "showlegend": false,
           "type": "scatter",
           "x": [
            0.0028481179525459924
           ],
           "xaxis": "x",
           "y": [
            0.003160480290205503
           ],
           "yaxis": "y"
          }
         ],
         "name": "2023-05-31"
        },
        {
         "data": [
          {
           "hovertemplate": "Date=2023-06-01<br>Relative Strength=%{x}<br>Momentum=%{y}<extra></extra>",
           "legendgroup": "",
           "marker": {
            "color": "white",
            "opacity": 0.8,
            "symbol": "circle"
           },
           "mode": "markers",
           "name": "",
           "orientation": "v",
           "showlegend": false,
           "type": "scatter",
           "x": [
            0.004013017124314733
           ],
           "xaxis": "x",
           "y": [
            0.0011648991717687403
           ],
           "yaxis": "y"
          }
         ],
         "name": "2023-06-01"
        },
        {
         "data": [
          {
           "hovertemplate": "Date=2023-06-02<br>Relative Strength=%{x}<br>Momentum=%{y}<extra></extra>",
           "legendgroup": "",
           "marker": {
            "color": "white",
            "opacity": 0.8,
            "symbol": "circle"
           },
           "mode": "markers",
           "name": "",
           "orientation": "v",
           "showlegend": false,
           "type": "scatter",
           "x": [
            0.0037600005782549408
           ],
           "xaxis": "x",
           "y": [
            -0.000253016546059792
           ],
           "yaxis": "y"
          }
         ],
         "name": "2023-06-02"
        },
        {
         "data": [
          {
           "hovertemplate": "Date=2023-06-05<br>Relative Strength=%{x}<br>Momentum=%{y}<extra></extra>",
           "legendgroup": "",
           "marker": {
            "color": "white",
            "opacity": 0.8,
            "symbol": "circle"
           },
           "mode": "markers",
           "name": "",
           "orientation": "v",
           "showlegend": false,
           "type": "scatter",
           "x": [
            0.004806015901867755
           ],
           "xaxis": "x",
           "y": [
            0.0010460153236128145
           ],
           "yaxis": "y"
          }
         ],
         "name": "2023-06-05"
        },
        {
         "data": [
          {
           "hovertemplate": "Date=2023-06-06<br>Relative Strength=%{x}<br>Momentum=%{y}<extra></extra>",
           "legendgroup": "",
           "marker": {
            "color": "white",
            "opacity": 0.8,
            "symbol": "circle"
           },
           "mode": "markers",
           "name": "",
           "orientation": "v",
           "showlegend": false,
           "type": "scatter",
           "x": [
            0.002502355741387385
           ],
           "xaxis": "x",
           "y": [
            -0.0023036601604803702
           ],
           "yaxis": "y"
          }
         ],
         "name": "2023-06-06"
        },
        {
         "data": [
          {
           "hovertemplate": "Date=2023-06-07<br>Relative Strength=%{x}<br>Momentum=%{y}<extra></extra>",
           "legendgroup": "",
           "marker": {
            "color": "white",
            "opacity": 0.8,
            "symbol": "circle"
           },
           "mode": "markers",
           "name": "",
           "orientation": "v",
           "showlegend": false,
           "type": "scatter",
           "x": [
            0.002108797482478486
           ],
           "xaxis": "x",
           "y": [
            -0.0003935582589088991
           ],
           "yaxis": "y"
          }
         ],
         "name": "2023-06-07"
        },
        {
         "data": [
          {
           "hovertemplate": "Date=2023-06-09<br>Relative Strength=%{x}<br>Momentum=%{y}<extra></extra>",
           "legendgroup": "",
           "marker": {
            "color": "white",
            "opacity": 0.8,
            "symbol": "circle"
           },
           "mode": "markers",
           "name": "",
           "orientation": "v",
           "showlegend": false,
           "type": "scatter",
           "x": [
            0.007570113686574542
           ],
           "xaxis": "x",
           "y": [
            0.005461316204096056
           ],
           "yaxis": "y"
          }
         ],
         "name": "2023-06-09"
        },
        {
         "data": [
          {
           "hovertemplate": "Date=2023-06-12<br>Relative Strength=%{x}<br>Momentum=%{y}<extra></extra>",
           "legendgroup": "",
           "marker": {
            "color": "white",
            "opacity": 0.8,
            "symbol": "circle"
           },
           "mode": "markers",
           "name": "",
           "orientation": "v",
           "showlegend": false,
           "type": "scatter",
           "x": [
            0.008500462213918758
           ],
           "xaxis": "x",
           "y": [
            0.0009303485273442162
           ],
           "yaxis": "y"
          }
         ],
         "name": "2023-06-12"
        },
        {
         "data": [
          {
           "hovertemplate": "Date=2023-06-13<br>Relative Strength=%{x}<br>Momentum=%{y}<extra></extra>",
           "legendgroup": "",
           "marker": {
            "color": "white",
            "opacity": 0.8,
            "symbol": "circle"
           },
           "mode": "markers",
           "name": "",
           "orientation": "v",
           "showlegend": false,
           "type": "scatter",
           "x": [
            0.008704522261143011
           ],
           "xaxis": "x",
           "y": [
            0.00020406004722425299
           ],
           "yaxis": "y"
          }
         ],
         "name": "2023-06-13"
        },
        {
         "data": [
          {
           "hovertemplate": "Date=2023-06-14<br>Relative Strength=%{x}<br>Momentum=%{y}<extra></extra>",
           "legendgroup": "",
           "marker": {
            "color": "white",
            "opacity": 0.8,
            "symbol": "circle"
           },
           "mode": "markers",
           "name": "",
           "orientation": "v",
           "showlegend": false,
           "type": "scatter",
           "x": [
            0.010894653962940115
           ],
           "xaxis": "x",
           "y": [
            0.0021901317017971045
           ],
           "yaxis": "y"
          }
         ],
         "name": "2023-06-14"
        },
        {
         "data": [
          {
           "hovertemplate": "Date=2023-06-15<br>Relative Strength=%{x}<br>Momentum=%{y}<extra></extra>",
           "legendgroup": "",
           "marker": {
            "color": "white",
            "opacity": 0.8,
            "symbol": "circle"
           },
           "mode": "markers",
           "name": "",
           "orientation": "v",
           "showlegend": false,
           "type": "scatter",
           "x": [
            0.008851299945452107
           ],
           "xaxis": "x",
           "y": [
            -0.0020433540174880083
           ],
           "yaxis": "y"
          }
         ],
         "name": "2023-06-15"
        },
        {
         "data": [
          {
           "hovertemplate": "Date=2023-06-16<br>Relative Strength=%{x}<br>Momentum=%{y}<extra></extra>",
           "legendgroup": "",
           "marker": {
            "color": "white",
            "opacity": 0.8,
            "symbol": "circle"
           },
           "mode": "markers",
           "name": "",
           "orientation": "v",
           "showlegend": false,
           "type": "scatter",
           "x": [
            0.00893281174838635
           ],
           "xaxis": "x",
           "y": [
            0.00008151180293424279
           ],
           "yaxis": "y"
          }
         ],
         "name": "2023-06-16"
        },
        {
         "data": [
          {
           "hovertemplate": "Date=2023-06-19<br>Relative Strength=%{x}<br>Momentum=%{y}<extra></extra>",
           "legendgroup": "",
           "marker": {
            "color": "white",
            "opacity": 0.8,
            "symbol": "circle"
           },
           "mode": "markers",
           "name": "",
           "orientation": "v",
           "showlegend": false,
           "type": "scatter",
           "x": [
            0.011624653241295944
           ],
           "xaxis": "x",
           "y": [
            0.0026918414929095937
           ],
           "yaxis": "y"
          }
         ],
         "name": "2023-06-19"
        },
        {
         "data": [
          {
           "hovertemplate": "Date=2023-06-20<br>Relative Strength=%{x}<br>Momentum=%{y}<extra></extra>",
           "legendgroup": "",
           "marker": {
            "color": "white",
            "opacity": 0.8,
            "symbol": "circle"
           },
           "mode": "markers",
           "name": "",
           "orientation": "v",
           "showlegend": false,
           "type": "scatter",
           "x": [
            0.011370320714601954
           ],
           "xaxis": "x",
           "y": [
            -0.00025433252669399
           ],
           "yaxis": "y"
          }
         ],
         "name": "2023-06-20"
        },
        {
         "data": [
          {
           "hovertemplate": "Date=2023-06-21<br>Relative Strength=%{x}<br>Momentum=%{y}<extra></extra>",
           "legendgroup": "",
           "marker": {
            "color": "white",
            "opacity": 0.8,
            "symbol": "circle"
           },
           "mode": "markers",
           "name": "",
           "orientation": "v",
           "showlegend": false,
           "type": "scatter",
           "x": [
            0.014477310706922618
           ],
           "xaxis": "x",
           "y": [
            0.003106989992320664
           ],
           "yaxis": "y"
          }
         ],
         "name": "2023-06-21"
        },
        {
         "data": [
          {
           "hovertemplate": "Date=2023-06-22<br>Relative Strength=%{x}<br>Momentum=%{y}<extra></extra>",
           "legendgroup": "",
           "marker": {
            "color": "white",
            "opacity": 0.8,
            "symbol": "circle"
           },
           "mode": "markers",
           "name": "",
           "orientation": "v",
           "showlegend": false,
           "type": "scatter",
           "x": [
            0.012298146297360424
           ],
           "xaxis": "x",
           "y": [
            -0.002179164409562194
           ],
           "yaxis": "y"
          }
         ],
         "name": "2023-06-22"
        },
        {
         "data": [
          {
           "hovertemplate": "Date=2023-06-23<br>Relative Strength=%{x}<br>Momentum=%{y}<extra></extra>",
           "legendgroup": "",
           "marker": {
            "color": "white",
            "opacity": 0.8,
            "symbol": "circle"
           },
           "mode": "markers",
           "name": "",
           "orientation": "v",
           "showlegend": false,
           "type": "scatter",
           "x": [
            0.004601971951194761
           ],
           "xaxis": "x",
           "y": [
            -0.007696174346165663
           ],
           "yaxis": "y"
          }
         ],
         "name": "2023-06-23"
        },
        {
         "data": [
          {
           "hovertemplate": "Date=2023-06-26<br>Relative Strength=%{x}<br>Momentum=%{y}<extra></extra>",
           "legendgroup": "",
           "marker": {
            "color": "white",
            "opacity": 0.8,
            "symbol": "circle"
           },
           "mode": "markers",
           "name": "",
           "orientation": "v",
           "showlegend": false,
           "type": "scatter",
           "x": [
            0.005994117162121238
           ],
           "xaxis": "x",
           "y": [
            0.0013921452109264768
           ],
           "yaxis": "y"
          }
         ],
         "name": "2023-06-26"
        },
        {
         "data": [
          {
           "hovertemplate": "Date=2023-06-27<br>Relative Strength=%{x}<br>Momentum=%{y}<extra></extra>",
           "legendgroup": "",
           "marker": {
            "color": "white",
            "opacity": 0.8,
            "symbol": "circle"
           },
           "mode": "markers",
           "name": "",
           "orientation": "v",
           "showlegend": false,
           "type": "scatter",
           "x": [
            0.005514535466279657
           ],
           "xaxis": "x",
           "y": [
            -0.0004795816958415803
           ],
           "yaxis": "y"
          }
         ],
         "name": "2023-06-27"
        },
        {
         "data": [
          {
           "hovertemplate": "Date=2023-06-28<br>Relative Strength=%{x}<br>Momentum=%{y}<extra></extra>",
           "legendgroup": "",
           "marker": {
            "color": "white",
            "opacity": 0.8,
            "symbol": "circle"
           },
           "mode": "markers",
           "name": "",
           "orientation": "v",
           "showlegend": false,
           "type": "scatter",
           "x": [
            0.004874513125406387
           ],
           "xaxis": "x",
           "y": [
            -0.0006400223408732702
           ],
           "yaxis": "y"
          }
         ],
         "name": "2023-06-28"
        },
        {
         "data": [
          {
           "hovertemplate": "Date=2023-06-29<br>Relative Strength=%{x}<br>Momentum=%{y}<extra></extra>",
           "legendgroup": "",
           "marker": {
            "color": "white",
            "opacity": 0.8,
            "symbol": "circle"
           },
           "mode": "markers",
           "name": "",
           "orientation": "v",
           "showlegend": false,
           "type": "scatter",
           "x": [
            0.006355533702047634
           ],
           "xaxis": "x",
           "y": [
            0.0014810205766412465
           ],
           "yaxis": "y"
          }
         ],
         "name": "2023-06-29"
        },
        {
         "data": [
          {
           "hovertemplate": "Date=2023-06-30<br>Relative Strength=%{x}<br>Momentum=%{y}<extra></extra>",
           "legendgroup": "",
           "marker": {
            "color": "white",
            "opacity": 0.8,
            "symbol": "circle"
           },
           "mode": "markers",
           "name": "",
           "orientation": "v",
           "showlegend": false,
           "type": "scatter",
           "x": [
            0.000532547463838462
           ],
           "xaxis": "x",
           "y": [
            -0.005822986238209172
           ],
           "yaxis": "y"
          }
         ],
         "name": "2023-06-30"
        },
        {
         "data": [
          {
           "hovertemplate": "Date=2023-07-03<br>Relative Strength=%{x}<br>Momentum=%{y}<extra></extra>",
           "legendgroup": "",
           "marker": {
            "color": "white",
            "opacity": 0.8,
            "symbol": "circle"
           },
           "mode": "markers",
           "name": "",
           "orientation": "v",
           "showlegend": false,
           "type": "scatter",
           "x": [
            -0.0006533412590869148
           ],
           "xaxis": "x",
           "y": [
            -0.0011858887229253766
           ],
           "yaxis": "y"
          }
         ],
         "name": "2023-07-03"
        },
        {
         "data": [
          {
           "hovertemplate": "Date=2023-07-04<br>Relative Strength=%{x}<br>Momentum=%{y}<extra></extra>",
           "legendgroup": "",
           "marker": {
            "color": "white",
            "opacity": 0.8,
            "symbol": "circle"
           },
           "mode": "markers",
           "name": "",
           "orientation": "v",
           "showlegend": false,
           "type": "scatter",
           "x": [
            -0.0006117762945193505
           ],
           "xaxis": "x",
           "y": [
            0.00004156496456756429
           ],
           "yaxis": "y"
          }
         ],
         "name": "2023-07-04"
        },
        {
         "data": [
          {
           "hovertemplate": "Date=2023-07-05<br>Relative Strength=%{x}<br>Momentum=%{y}<extra></extra>",
           "legendgroup": "",
           "marker": {
            "color": "white",
            "opacity": 0.8,
            "symbol": "circle"
           },
           "mode": "markers",
           "name": "",
           "orientation": "v",
           "showlegend": false,
           "type": "scatter",
           "x": [
            -0.004661679682955478
           ],
           "xaxis": "x",
           "y": [
            -0.0040499033884361275
           ],
           "yaxis": "y"
          }
         ],
         "name": "2023-07-05"
        },
        {
         "data": [
          {
           "hovertemplate": "Date=2023-07-06<br>Relative Strength=%{x}<br>Momentum=%{y}<extra></extra>",
           "legendgroup": "",
           "marker": {
            "color": "white",
            "opacity": 0.8,
            "symbol": "circle"
           },
           "mode": "markers",
           "name": "",
           "orientation": "v",
           "showlegend": false,
           "type": "scatter",
           "x": [
            -0.004391698013057421
           ],
           "xaxis": "x",
           "y": [
            0.00026998166989805703
           ],
           "yaxis": "y"
          }
         ],
         "name": "2023-07-06"
        },
        {
         "data": [
          {
           "hovertemplate": "Date=2023-07-07<br>Relative Strength=%{x}<br>Momentum=%{y}<extra></extra>",
           "legendgroup": "",
           "marker": {
            "color": "white",
            "opacity": 0.8,
            "symbol": "circle"
           },
           "mode": "markers",
           "name": "",
           "orientation": "v",
           "showlegend": false,
           "type": "scatter",
           "x": [
            -0.0020132543439984494
           ],
           "xaxis": "x",
           "y": [
            0.0023784436690589715
           ],
           "yaxis": "y"
          }
         ],
         "name": "2023-07-07"
        },
        {
         "data": [
          {
           "hovertemplate": "Date=2023-07-10<br>Relative Strength=%{x}<br>Momentum=%{y}<extra></extra>",
           "legendgroup": "",
           "marker": {
            "color": "white",
            "opacity": 0.8,
            "symbol": "circle"
           },
           "mode": "markers",
           "name": "",
           "orientation": "v",
           "showlegend": false,
           "type": "scatter",
           "x": [
            -0.003911291574134723
           ],
           "xaxis": "x",
           "y": [
            -0.0018980372301362737
           ],
           "yaxis": "y"
          }
         ],
         "name": "2023-07-10"
        },
        {
         "data": [
          {
           "hovertemplate": "Date=2023-07-11<br>Relative Strength=%{x}<br>Momentum=%{y}<extra></extra>",
           "legendgroup": "",
           "marker": {
            "color": "white",
            "opacity": 0.8,
            "symbol": "circle"
           },
           "mode": "markers",
           "name": "",
           "orientation": "v",
           "showlegend": false,
           "type": "scatter",
           "x": [
            -0.004483442165260631
           ],
           "xaxis": "x",
           "y": [
            -0.0005721505911259082
           ],
           "yaxis": "y"
          }
         ],
         "name": "2023-07-11"
        },
        {
         "data": [
          {
           "hovertemplate": "Date=2023-07-12<br>Relative Strength=%{x}<br>Momentum=%{y}<extra></extra>",
           "legendgroup": "",
           "marker": {
            "color": "white",
            "opacity": 0.8,
            "symbol": "circle"
           },
           "mode": "markers",
           "name": "",
           "orientation": "v",
           "showlegend": false,
           "type": "scatter",
           "x": [
            -0.0064594931151445096
           ],
           "xaxis": "x",
           "y": [
            -0.001976050949883878
           ],
           "yaxis": "y"
          }
         ],
         "name": "2023-07-12"
        },
        {
         "data": [
          {
           "hovertemplate": "Date=2023-07-13<br>Relative Strength=%{x}<br>Momentum=%{y}<extra></extra>",
           "legendgroup": "",
           "marker": {
            "color": "white",
            "opacity": 0.8,
            "symbol": "circle"
           },
           "mode": "markers",
           "name": "",
           "orientation": "v",
           "showlegend": false,
           "type": "scatter",
           "x": [
            -0.0052351433844225696
           ],
           "xaxis": "x",
           "y": [
            0.00122434973072194
           ],
           "yaxis": "y"
          }
         ],
         "name": "2023-07-13"
        },
        {
         "data": [
          {
           "hovertemplate": "Date=2023-07-14<br>Relative Strength=%{x}<br>Momentum=%{y}<extra></extra>",
           "legendgroup": "",
           "marker": {
            "color": "white",
            "opacity": 0.8,
            "symbol": "circle"
           },
           "mode": "markers",
           "name": "",
           "orientation": "v",
           "showlegend": false,
           "type": "scatter",
           "x": [
            -0.001306477270523576
           ],
           "xaxis": "x",
           "y": [
            0.0039286661138989935
           ],
           "yaxis": "y"
          }
         ],
         "name": "2023-07-14"
        },
        {
         "data": [
          {
           "hovertemplate": "Date=2023-07-17<br>Relative Strength=%{x}<br>Momentum=%{y}<extra></extra>",
           "legendgroup": "",
           "marker": {
            "color": "white",
            "opacity": 0.8,
            "symbol": "circle"
           },
           "mode": "markers",
           "name": "",
           "orientation": "v",
           "showlegend": false,
           "type": "scatter",
           "x": [
            -0.002464010238303693
           ],
           "xaxis": "x",
           "y": [
            -0.001157532967780117
           ],
           "yaxis": "y"
          }
         ],
         "name": "2023-07-17"
        },
        {
         "data": [
          {
           "hovertemplate": "Date=2023-07-18<br>Relative Strength=%{x}<br>Momentum=%{y}<extra></extra>",
           "legendgroup": "",
           "marker": {
            "color": "white",
            "opacity": 0.8,
            "symbol": "circle"
           },
           "mode": "markers",
           "name": "",
           "orientation": "v",
           "showlegend": false,
           "type": "scatter",
           "x": [
            -0.0034277583077403032
           ],
           "xaxis": "x",
           "y": [
            -0.0009637480694366101
           ],
           "yaxis": "y"
          }
         ],
         "name": "2023-07-18"
        },
        {
         "data": [
          {
           "hovertemplate": "Date=2023-07-19<br>Relative Strength=%{x}<br>Momentum=%{y}<extra></extra>",
           "legendgroup": "",
           "marker": {
            "color": "white",
            "opacity": 0.8,
            "symbol": "circle"
           },
           "mode": "markers",
           "name": "",
           "orientation": "v",
           "showlegend": false,
           "type": "scatter",
           "x": [
            -0.0017160999565164702
           ],
           "xaxis": "x",
           "y": [
            0.001711658351223833
           ],
           "yaxis": "y"
          }
         ],
         "name": "2023-07-19"
        },
        {
         "data": [
          {
           "hovertemplate": "Date=2023-07-20<br>Relative Strength=%{x}<br>Momentum=%{y}<extra></extra>",
           "legendgroup": "",
           "marker": {
            "color": "white",
            "opacity": 0.8,
            "symbol": "circle"
           },
           "mode": "markers",
           "name": "",
           "orientation": "v",
           "showlegend": false,
           "type": "scatter",
           "x": [
            -0.0023128309234421666
           ],
           "xaxis": "x",
           "y": [
            -0.0005967309669256964
           ],
           "yaxis": "y"
          }
         ],
         "name": "2023-07-20"
        },
        {
         "data": [
          {
           "hovertemplate": "Date=2023-07-21<br>Relative Strength=%{x}<br>Momentum=%{y}<extra></extra>",
           "legendgroup": "",
           "marker": {
            "color": "white",
            "opacity": 0.8,
            "symbol": "circle"
           },
           "mode": "markers",
           "name": "",
           "orientation": "v",
           "showlegend": false,
           "type": "scatter",
           "x": [
            -0.0004724670731901192
           ],
           "xaxis": "x",
           "y": [
            0.0018403638502520474
           ],
           "yaxis": "y"
          }
         ],
         "name": "2023-07-21"
        },
        {
         "data": [
          {
           "hovertemplate": "Date=2023-07-24<br>Relative Strength=%{x}<br>Momentum=%{y}<extra></extra>",
           "legendgroup": "",
           "marker": {
            "color": "white",
            "opacity": 0.8,
            "symbol": "circle"
           },
           "mode": "markers",
           "name": "",
           "orientation": "v",
           "showlegend": false,
           "type": "scatter",
           "x": [
            -0.00029288175436825714
           ],
           "xaxis": "x",
           "y": [
            0.00017958531882186204
           ],
           "yaxis": "y"
          }
         ],
         "name": "2023-07-24"
        },
        {
         "data": [
          {
           "hovertemplate": "Date=2023-07-25<br>Relative Strength=%{x}<br>Momentum=%{y}<extra></extra>",
           "legendgroup": "",
           "marker": {
            "color": "white",
            "opacity": 0.8,
            "symbol": "circle"
           },
           "mode": "markers",
           "name": "",
           "orientation": "v",
           "showlegend": false,
           "type": "scatter",
           "x": [
            0.002209960972227909
           ],
           "xaxis": "x",
           "y": [
            0.002502842726596166
           ],
           "yaxis": "y"
          }
         ],
         "name": "2023-07-25"
        },
        {
         "data": [
          {
           "hovertemplate": "Date=2023-07-26<br>Relative Strength=%{x}<br>Momentum=%{y}<extra></extra>",
           "legendgroup": "",
           "marker": {
            "color": "white",
            "opacity": 0.8,
            "symbol": "circle"
           },
           "mode": "markers",
           "name": "",
           "orientation": "v",
           "showlegend": false,
           "type": "scatter",
           "x": [
            0.0020694163927529423
           ],
           "xaxis": "x",
           "y": [
            -0.00014054457947496653
           ],
           "yaxis": "y"
          }
         ],
         "name": "2023-07-26"
        },
        {
         "data": [
          {
           "hovertemplate": "Date=2023-07-27<br>Relative Strength=%{x}<br>Momentum=%{y}<extra></extra>",
           "legendgroup": "",
           "marker": {
            "color": "white",
            "opacity": 0.8,
            "symbol": "circle"
           },
           "mode": "markers",
           "name": "",
           "orientation": "v",
           "showlegend": false,
           "type": "scatter",
           "x": [
            -0.0012461152783431071
           ],
           "xaxis": "x",
           "y": [
            -0.0033155316710960494
           ],
           "yaxis": "y"
          }
         ],
         "name": "2023-07-27"
        },
        {
         "data": [
          {
           "hovertemplate": "Date=2023-07-28<br>Relative Strength=%{x}<br>Momentum=%{y}<extra></extra>",
           "legendgroup": "",
           "marker": {
            "color": "white",
            "opacity": 0.8,
            "symbol": "circle"
           },
           "mode": "markers",
           "name": "",
           "orientation": "v",
           "showlegend": false,
           "type": "scatter",
           "x": [
            0.000503980537822257
           ],
           "xaxis": "x",
           "y": [
            0.0017500958161653641
           ],
           "yaxis": "y"
          }
         ],
         "name": "2023-07-28"
        },
        {
         "data": [
          {
           "hovertemplate": "Date=2023-07-31<br>Relative Strength=%{x}<br>Momentum=%{y}<extra></extra>",
           "legendgroup": "",
           "marker": {
            "color": "white",
            "opacity": 0.8,
            "symbol": "circle"
           },
           "mode": "markers",
           "name": "",
           "orientation": "v",
           "showlegend": false,
           "type": "scatter",
           "x": [
            0.004217305122364512
           ],
           "xaxis": "x",
           "y": [
            0.003713324584542255
           ],
           "yaxis": "y"
          }
         ],
         "name": "2023-07-31"
        },
        {
         "data": [
          {
           "hovertemplate": "Date=2023-08-01<br>Relative Strength=%{x}<br>Momentum=%{y}<extra></extra>",
           "legendgroup": "",
           "marker": {
            "color": "white",
            "opacity": 0.8,
            "symbol": "circle"
           },
           "mode": "markers",
           "name": "",
           "orientation": "v",
           "showlegend": false,
           "type": "scatter",
           "x": [
            0.0033800789028067377
           ],
           "xaxis": "x",
           "y": [
            -0.0008372262195577742
           ],
           "yaxis": "y"
          }
         ],
         "name": "2023-08-01"
        },
        {
         "data": [
          {
           "hovertemplate": "Date=2023-08-02<br>Relative Strength=%{x}<br>Momentum=%{y}<extra></extra>",
           "legendgroup": "",
           "marker": {
            "color": "white",
            "opacity": 0.8,
            "symbol": "circle"
           },
           "mode": "markers",
           "name": "",
           "orientation": "v",
           "showlegend": false,
           "type": "scatter",
           "x": [
            0.0022903835179940322
           ],
           "xaxis": "x",
           "y": [
            -0.0010896953848127055
           ],
           "yaxis": "y"
          }
         ],
         "name": "2023-08-02"
        },
        {
         "data": [
          {
           "hovertemplate": "Date=2023-08-03<br>Relative Strength=%{x}<br>Momentum=%{y}<extra></extra>",
           "legendgroup": "",
           "marker": {
            "color": "white",
            "opacity": 0.8,
            "symbol": "circle"
           },
           "mode": "markers",
           "name": "",
           "orientation": "v",
           "showlegend": false,
           "type": "scatter",
           "x": [
            0.004142320445157721
           ],
           "xaxis": "x",
           "y": [
            0.001851936927163689
           ],
           "yaxis": "y"
          }
         ],
         "name": "2023-08-03"
        },
        {
         "data": [
          {
           "hovertemplate": "Date=2023-08-04<br>Relative Strength=%{x}<br>Momentum=%{y}<extra></extra>",
           "legendgroup": "",
           "marker": {
            "color": "white",
            "opacity": 0.8,
            "symbol": "circle"
           },
           "mode": "markers",
           "name": "",
           "orientation": "v",
           "showlegend": false,
           "type": "scatter",
           "x": [
            0.00197997218471514
           ],
           "xaxis": "x",
           "y": [
            -0.0021623482604425813
           ],
           "yaxis": "y"
          }
         ],
         "name": "2023-08-04"
        },
        {
         "data": [
          {
           "hovertemplate": "Date=2023-08-07<br>Relative Strength=%{x}<br>Momentum=%{y}<extra></extra>",
           "legendgroup": "",
           "marker": {
            "color": "white",
            "opacity": 0.8,
            "symbol": "circle"
           },
           "mode": "markers",
           "name": "",
           "orientation": "v",
           "showlegend": false,
           "type": "scatter",
           "x": [
            0.0015672864826357658
           ],
           "xaxis": "x",
           "y": [
            -0.0004126857020793741
           ],
           "yaxis": "y"
          }
         ],
         "name": "2023-08-07"
        },
        {
         "data": [
          {
           "hovertemplate": "Date=2023-08-08<br>Relative Strength=%{x}<br>Momentum=%{y}<extra></extra>",
           "legendgroup": "",
           "marker": {
            "color": "white",
            "opacity": 0.8,
            "symbol": "circle"
           },
           "mode": "markers",
           "name": "",
           "orientation": "v",
           "showlegend": false,
           "type": "scatter",
           "x": [
            0.0001481928633205623
           ],
           "xaxis": "x",
           "y": [
            -0.0014190936193152035
           ],
           "yaxis": "y"
          }
         ],
         "name": "2023-08-08"
        },
        {
         "data": [
          {
           "hovertemplate": "Date=2023-08-09<br>Relative Strength=%{x}<br>Momentum=%{y}<extra></extra>",
           "legendgroup": "",
           "marker": {
            "color": "white",
            "opacity": 0.8,
            "symbol": "circle"
           },
           "mode": "markers",
           "name": "",
           "orientation": "v",
           "showlegend": false,
           "type": "scatter",
           "x": [
            0.0019666343103436844
           ],
           "xaxis": "x",
           "y": [
            0.0018184414470231221
           ],
           "yaxis": "y"
          }
         ],
         "name": "2023-08-09"
        },
        {
         "data": [
          {
           "hovertemplate": "Date=2023-08-10<br>Relative Strength=%{x}<br>Momentum=%{y}<extra></extra>",
           "legendgroup": "",
           "marker": {
            "color": "white",
            "opacity": 0.8,
            "symbol": "circle"
           },
           "mode": "markers",
           "name": "",
           "orientation": "v",
           "showlegend": false,
           "type": "scatter",
           "x": [
            0.005671189018592415
           ],
           "xaxis": "x",
           "y": [
            0.0037045547082487306
           ],
           "yaxis": "y"
          }
         ],
         "name": "2023-08-10"
        },
        {
         "data": [
          {
           "hovertemplate": "Date=2023-08-11<br>Relative Strength=%{x}<br>Momentum=%{y}<extra></extra>",
           "legendgroup": "",
           "marker": {
            "color": "white",
            "opacity": 0.8,
            "symbol": "circle"
           },
           "mode": "markers",
           "name": "",
           "orientation": "v",
           "showlegend": false,
           "type": "scatter",
           "x": [
            0.004588712285614471
           ],
           "xaxis": "x",
           "y": [
            -0.0010824767329779437
           ],
           "yaxis": "y"
          }
         ],
         "name": "2023-08-11"
        },
        {
         "data": [
          {
           "hovertemplate": "Date=2023-08-14<br>Relative Strength=%{x}<br>Momentum=%{y}<extra></extra>",
           "legendgroup": "",
           "marker": {
            "color": "white",
            "opacity": 0.8,
            "symbol": "circle"
           },
           "mode": "markers",
           "name": "",
           "orientation": "v",
           "showlegend": false,
           "type": "scatter",
           "x": [
            0.0028382414280957785
           ],
           "xaxis": "x",
           "y": [
            -0.0017504708575186928
           ],
           "yaxis": "y"
          }
         ],
         "name": "2023-08-14"
        },
        {
         "data": [
          {
           "hovertemplate": "Date=2023-08-15<br>Relative Strength=%{x}<br>Momentum=%{y}<extra></extra>",
           "legendgroup": "",
           "marker": {
            "color": "white",
            "opacity": 0.8,
            "symbol": "circle"
           },
           "mode": "markers",
           "name": "",
           "orientation": "v",
           "showlegend": false,
           "type": "scatter",
           "x": [
            0.005172713507150728
           ],
           "xaxis": "x",
           "y": [
            0.00233447207905495
           ],
           "yaxis": "y"
          }
         ],
         "name": "2023-08-15"
        },
        {
         "data": [
          {
           "hovertemplate": "Date=2023-08-16<br>Relative Strength=%{x}<br>Momentum=%{y}<extra></extra>",
           "legendgroup": "",
           "marker": {
            "color": "white",
            "opacity": 0.8,
            "symbol": "circle"
           },
           "mode": "markers",
           "name": "",
           "orientation": "v",
           "showlegend": false,
           "type": "scatter",
           "x": [
            0.00778253922908162
           ],
           "xaxis": "x",
           "y": [
            0.0026098257219308914
           ],
           "yaxis": "y"
          }
         ],
         "name": "2023-08-16"
        },
        {
         "data": [
          {
           "hovertemplate": "Date=2023-08-17<br>Relative Strength=%{x}<br>Momentum=%{y}<extra></extra>",
           "legendgroup": "",
           "marker": {
            "color": "white",
            "opacity": 0.8,
            "symbol": "circle"
           },
           "mode": "markers",
           "name": "",
           "orientation": "v",
           "showlegend": false,
           "type": "scatter",
           "x": [
            0.006489876320375776
           ],
           "xaxis": "x",
           "y": [
            -0.001292662908705844
           ],
           "yaxis": "y"
          }
         ],
         "name": "2023-08-17"
        },
        {
         "data": [
          {
           "hovertemplate": "Date=2023-08-18<br>Relative Strength=%{x}<br>Momentum=%{y}<extra></extra>",
           "legendgroup": "",
           "marker": {
            "color": "white",
            "opacity": 0.8,
            "symbol": "circle"
           },
           "mode": "markers",
           "name": "",
           "orientation": "v",
           "showlegend": false,
           "type": "scatter",
           "x": [
            0.008454423230516461
           ],
           "xaxis": "x",
           "y": [
            0.001964546910140685
           ],
           "yaxis": "y"
          }
         ],
         "name": "2023-08-18"
        },
        {
         "data": [
          {
           "hovertemplate": "Date=2023-08-21<br>Relative Strength=%{x}<br>Momentum=%{y}<extra></extra>",
           "legendgroup": "",
           "marker": {
            "color": "white",
            "opacity": 0.8,
            "symbol": "circle"
           },
           "mode": "markers",
           "name": "",
           "orientation": "v",
           "showlegend": false,
           "type": "scatter",
           "x": [
            0.007865154560456
           ],
           "xaxis": "x",
           "y": [
            -0.0005892686700604607
           ],
           "yaxis": "y"
          }
         ],
         "name": "2023-08-21"
        },
        {
         "data": [
          {
           "hovertemplate": "Date=2023-08-22<br>Relative Strength=%{x}<br>Momentum=%{y}<extra></extra>",
           "legendgroup": "",
           "marker": {
            "color": "white",
            "opacity": 0.8,
            "symbol": "circle"
           },
           "mode": "markers",
           "name": "",
           "orientation": "v",
           "showlegend": false,
           "type": "scatter",
           "x": [
            0.007536998129609774
           ],
           "xaxis": "x",
           "y": [
            -0.00032815643084622634
           ],
           "yaxis": "y"
          }
         ],
         "name": "2023-08-22"
        },
        {
         "data": [
          {
           "hovertemplate": "Date=2023-08-23<br>Relative Strength=%{x}<br>Momentum=%{y}<extra></extra>",
           "legendgroup": "",
           "marker": {
            "color": "white",
            "opacity": 0.8,
            "symbol": "circle"
           },
           "mode": "markers",
           "name": "",
           "orientation": "v",
           "showlegend": false,
           "type": "scatter",
           "x": [
            0.009792317939821493
           ],
           "xaxis": "x",
           "y": [
            0.0022553198102117193
           ],
           "yaxis": "y"
          }
         ],
         "name": "2023-08-23"
        },
        {
         "data": [
          {
           "hovertemplate": "Date=2023-08-24<br>Relative Strength=%{x}<br>Momentum=%{y}<extra></extra>",
           "legendgroup": "",
           "marker": {
            "color": "white",
            "opacity": 0.8,
            "symbol": "circle"
           },
           "mode": "markers",
           "name": "",
           "orientation": "v",
           "showlegend": false,
           "type": "scatter",
           "x": [
            0.009968048697396804
           ],
           "xaxis": "x",
           "y": [
            0.00017573075757531045
           ],
           "yaxis": "y"
          }
         ],
         "name": "2023-08-24"
        },
        {
         "data": [
          {
           "hovertemplate": "Date=2023-08-25<br>Relative Strength=%{x}<br>Momentum=%{y}<extra></extra>",
           "legendgroup": "",
           "marker": {
            "color": "white",
            "opacity": 0.8,
            "symbol": "circle"
           },
           "mode": "markers",
           "name": "",
           "orientation": "v",
           "showlegend": false,
           "type": "scatter",
           "x": [
            0.010288339623769526
           ],
           "xaxis": "x",
           "y": [
            0.00032029092637272244
           ],
           "yaxis": "y"
          }
         ],
         "name": "2023-08-25"
        },
        {
         "data": [
          {
           "hovertemplate": "Date=2023-08-28<br>Relative Strength=%{x}<br>Momentum=%{y}<extra></extra>",
           "legendgroup": "",
           "marker": {
            "color": "white",
            "opacity": 0.8,
            "symbol": "circle"
           },
           "mode": "markers",
           "name": "",
           "orientation": "v",
           "showlegend": false,
           "type": "scatter",
           "x": [
            0.008981189367358823
           ],
           "xaxis": "x",
           "y": [
            -0.0013071502564107034
           ],
           "yaxis": "y"
          }
         ],
         "name": "2023-08-28"
        },
        {
         "data": [
          {
           "hovertemplate": "Date=2023-08-29<br>Relative Strength=%{x}<br>Momentum=%{y}<extra></extra>",
           "legendgroup": "",
           "marker": {
            "color": "white",
            "opacity": 0.8,
            "symbol": "circle"
           },
           "mode": "markers",
           "name": "",
           "orientation": "v",
           "showlegend": false,
           "type": "scatter",
           "x": [
            0.006837191849245494
           ],
           "xaxis": "x",
           "y": [
            -0.002143997518113329
           ],
           "yaxis": "y"
          }
         ],
         "name": "2023-08-29"
        },
        {
         "data": [
          {
           "hovertemplate": "Date=2023-08-30<br>Relative Strength=%{x}<br>Momentum=%{y}<extra></extra>",
           "legendgroup": "",
           "marker": {
            "color": "white",
            "opacity": 0.8,
            "symbol": "circle"
           },
           "mode": "markers",
           "name": "",
           "orientation": "v",
           "showlegend": false,
           "type": "scatter",
           "x": [
            0.005548224297739546
           ],
           "xaxis": "x",
           "y": [
            -0.001288967551505948
           ],
           "yaxis": "y"
          }
         ],
         "name": "2023-08-30"
        },
        {
         "data": [
          {
           "hovertemplate": "Date=2023-08-31<br>Relative Strength=%{x}<br>Momentum=%{y}<extra></extra>",
           "legendgroup": "",
           "marker": {
            "color": "white",
            "opacity": 0.8,
            "symbol": "circle"
           },
           "mode": "markers",
           "name": "",
           "orientation": "v",
           "showlegend": false,
           "type": "scatter",
           "x": [
            0.0047784653672789616
           ],
           "xaxis": "x",
           "y": [
            -0.0007697589304605842
           ],
           "yaxis": "y"
          }
         ],
         "name": "2023-08-31"
        },
        {
         "data": [
          {
           "hovertemplate": "Date=2023-09-01<br>Relative Strength=%{x}<br>Momentum=%{y}<extra></extra>",
           "legendgroup": "",
           "marker": {
            "color": "white",
            "opacity": 0.8,
            "symbol": "circle"
           },
           "mode": "markers",
           "name": "",
           "orientation": "v",
           "showlegend": false,
           "type": "scatter",
           "x": [
            0.005197224725852834
           ],
           "xaxis": "x",
           "y": [
            0.0004187593585738723
           ],
           "yaxis": "y"
          }
         ],
         "name": "2023-09-01"
        },
        {
         "data": [
          {
           "hovertemplate": "Date=2023-09-04<br>Relative Strength=%{x}<br>Momentum=%{y}<extra></extra>",
           "legendgroup": "",
           "marker": {
            "color": "white",
            "opacity": 0.8,
            "symbol": "circle"
           },
           "mode": "markers",
           "name": "",
           "orientation": "v",
           "showlegend": false,
           "type": "scatter",
           "x": [
            0.004102463363878494
           ],
           "xaxis": "x",
           "y": [
            -0.00109476136197434
           ],
           "yaxis": "y"
          }
         ],
         "name": "2023-09-04"
        },
        {
         "data": [
          {
           "hovertemplate": "Date=2023-09-05<br>Relative Strength=%{x}<br>Momentum=%{y}<extra></extra>",
           "legendgroup": "",
           "marker": {
            "color": "white",
            "opacity": 0.8,
            "symbol": "circle"
           },
           "mode": "markers",
           "name": "",
           "orientation": "v",
           "showlegend": false,
           "type": "scatter",
           "x": [
            0.007811686290289311
           ],
           "xaxis": "x",
           "y": [
            0.003709222926410817
           ],
           "yaxis": "y"
          }
         ],
         "name": "2023-09-05"
        },
        {
         "data": [
          {
           "hovertemplate": "Date=2023-09-06<br>Relative Strength=%{x}<br>Momentum=%{y}<extra></extra>",
           "legendgroup": "",
           "marker": {
            "color": "white",
            "opacity": 0.8,
            "symbol": "circle"
           },
           "mode": "markers",
           "name": "",
           "orientation": "v",
           "showlegend": false,
           "type": "scatter",
           "x": [
            0.005787063517400336
           ],
           "xaxis": "x",
           "y": [
            -0.0020246227728889744
           ],
           "yaxis": "y"
          }
         ],
         "name": "2023-09-06"
        },
        {
         "data": [
          {
           "hovertemplate": "Date=2023-09-08<br>Relative Strength=%{x}<br>Momentum=%{y}<extra></extra>",
           "legendgroup": "",
           "marker": {
            "color": "white",
            "opacity": 0.8,
            "symbol": "circle"
           },
           "mode": "markers",
           "name": "",
           "orientation": "v",
           "showlegend": false,
           "type": "scatter",
           "x": [
            0.005224801977538829
           ],
           "xaxis": "x",
           "y": [
            -0.0005622615398615076
           ],
           "yaxis": "y"
          }
         ],
         "name": "2023-09-08"
        },
        {
         "data": [
          {
           "hovertemplate": "Date=2023-09-11<br>Relative Strength=%{x}<br>Momentum=%{y}<extra></extra>",
           "legendgroup": "",
           "marker": {
            "color": "white",
            "opacity": 0.8,
            "symbol": "circle"
           },
           "mode": "markers",
           "name": "",
           "orientation": "v",
           "showlegend": false,
           "type": "scatter",
           "x": [
            0.00344086782441928
           ],
           "xaxis": "x",
           "y": [
            -0.0017839341531195488
           ],
           "yaxis": "y"
          }
         ],
         "name": "2023-09-11"
        },
        {
         "data": [
          {
           "hovertemplate": "Date=2023-09-12<br>Relative Strength=%{x}<br>Momentum=%{y}<extra></extra>",
           "legendgroup": "",
           "marker": {
            "color": "white",
            "opacity": 0.8,
            "symbol": "circle"
           },
           "mode": "markers",
           "name": "",
           "orientation": "v",
           "showlegend": false,
           "type": "scatter",
           "x": [
            0.0029744623209432943
           ],
           "xaxis": "x",
           "y": [
            -0.00046640550347598576
           ],
           "yaxis": "y"
          }
         ],
         "name": "2023-09-12"
        },
        {
         "data": [
          {
           "hovertemplate": "Date=2023-09-13<br>Relative Strength=%{x}<br>Momentum=%{y}<extra></extra>",
           "legendgroup": "",
           "marker": {
            "color": "white",
            "opacity": 0.8,
            "symbol": "circle"
           },
           "mode": "markers",
           "name": "",
           "orientation": "v",
           "showlegend": false,
           "type": "scatter",
           "x": [
            0.0021858708340509628
           ],
           "xaxis": "x",
           "y": [
            -0.0007885914868923315
           ],
           "yaxis": "y"
          }
         ],
         "name": "2023-09-13"
        },
        {
         "data": [
          {
           "hovertemplate": "Date=2023-09-14<br>Relative Strength=%{x}<br>Momentum=%{y}<extra></extra>",
           "legendgroup": "",
           "marker": {
            "color": "white",
            "opacity": 0.8,
            "symbol": "circle"
           },
           "mode": "markers",
           "name": "",
           "orientation": "v",
           "showlegend": false,
           "type": "scatter",
           "x": [
            0.0022871137270182307
           ],
           "xaxis": "x",
           "y": [
            0.00010124289296726792
           ],
           "yaxis": "y"
          }
         ],
         "name": "2023-09-14"
        },
        {
         "data": [
          {
           "hovertemplate": "Date=2023-09-15<br>Relative Strength=%{x}<br>Momentum=%{y}<extra></extra>",
           "legendgroup": "",
           "marker": {
            "color": "white",
            "opacity": 0.8,
            "symbol": "circle"
           },
           "mode": "markers",
           "name": "",
           "orientation": "v",
           "showlegend": false,
           "type": "scatter",
           "x": [
            0.003436297388349696
           ],
           "xaxis": "x",
           "y": [
            0.0011491836613314655
           ],
           "yaxis": "y"
          }
         ],
         "name": "2023-09-15"
        },
        {
         "data": [
          {
           "hovertemplate": "Date=2023-09-18<br>Relative Strength=%{x}<br>Momentum=%{y}<extra></extra>",
           "legendgroup": "",
           "marker": {
            "color": "white",
            "opacity": 0.8,
            "symbol": "circle"
           },
           "mode": "markers",
           "name": "",
           "orientation": "v",
           "showlegend": false,
           "type": "scatter",
           "x": [
            0.004238376417980061
           ],
           "xaxis": "x",
           "y": [
            0.0008020790296303644
           ],
           "yaxis": "y"
          }
         ],
         "name": "2023-09-18"
        },
        {
         "data": [
          {
           "hovertemplate": "Date=2023-09-19<br>Relative Strength=%{x}<br>Momentum=%{y}<extra></extra>",
           "legendgroup": "",
           "marker": {
            "color": "white",
            "opacity": 0.8,
            "symbol": "circle"
           },
           "mode": "markers",
           "name": "",
           "orientation": "v",
           "showlegend": false,
           "type": "scatter",
           "x": [
            0.005790031734969769
           ],
           "xaxis": "x",
           "y": [
            0.0015516553169897087
           ],
           "yaxis": "y"
          }
         ],
         "name": "2023-09-19"
        },
        {
         "data": [
          {
           "hovertemplate": "Date=2023-09-20<br>Relative Strength=%{x}<br>Momentum=%{y}<extra></extra>",
           "legendgroup": "",
           "marker": {
            "color": "white",
            "opacity": 0.8,
            "symbol": "circle"
           },
           "mode": "markers",
           "name": "",
           "orientation": "v",
           "showlegend": false,
           "type": "scatter",
           "x": [
            0.001580084289823336
           ],
           "xaxis": "x",
           "y": [
            -0.004209947445146433
           ],
           "yaxis": "y"
          }
         ],
         "name": "2023-09-20"
        },
        {
         "data": [
          {
           "hovertemplate": "Date=2023-09-21<br>Relative Strength=%{x}<br>Momentum=%{y}<extra></extra>",
           "legendgroup": "",
           "marker": {
            "color": "white",
            "opacity": 0.8,
            "symbol": "circle"
           },
           "mode": "markers",
           "name": "",
           "orientation": "v",
           "showlegend": false,
           "type": "scatter",
           "x": [
            0.0005861018168890953
           ],
           "xaxis": "x",
           "y": [
            -0.0009939824729342406
           ],
           "yaxis": "y"
          }
         ],
         "name": "2023-09-21"
        },
        {
         "data": [
          {
           "hovertemplate": "Date=2023-09-22<br>Relative Strength=%{x}<br>Momentum=%{y}<extra></extra>",
           "legendgroup": "",
           "marker": {
            "color": "white",
            "opacity": 0.8,
            "symbol": "circle"
           },
           "mode": "markers",
           "name": "",
           "orientation": "v",
           "showlegend": false,
           "type": "scatter",
           "x": [
            0.001281565734111656
           ],
           "xaxis": "x",
           "y": [
            0.0006954639172225606
           ],
           "yaxis": "y"
          }
         ],
         "name": "2023-09-22"
        },
        {
         "data": [
          {
           "hovertemplate": "Date=2023-09-25<br>Relative Strength=%{x}<br>Momentum=%{y}<extra></extra>",
           "legendgroup": "",
           "marker": {
            "color": "white",
            "opacity": 0.8,
            "symbol": "circle"
           },
           "mode": "markers",
           "name": "",
           "orientation": "v",
           "showlegend": false,
           "type": "scatter",
           "x": [
            0.00345182552675013
           ],
           "xaxis": "x",
           "y": [
            0.002170259792638474
           ],
           "yaxis": "y"
          }
         ],
         "name": "2023-09-25"
        },
        {
         "data": [
          {
           "hovertemplate": "Date=2023-09-26<br>Relative Strength=%{x}<br>Momentum=%{y}<extra></extra>",
           "legendgroup": "",
           "marker": {
            "color": "white",
            "opacity": 0.8,
            "symbol": "circle"
           },
           "mode": "markers",
           "name": "",
           "orientation": "v",
           "showlegend": false,
           "type": "scatter",
           "x": [
            0.00308811938755178
           ],
           "xaxis": "x",
           "y": [
            -0.00036370613919835
           ],
           "yaxis": "y"
          }
         ],
         "name": "2023-09-26"
        },
        {
         "data": [
          {
           "hovertemplate": "Date=2023-09-27<br>Relative Strength=%{x}<br>Momentum=%{y}<extra></extra>",
           "legendgroup": "",
           "marker": {
            "color": "white",
            "opacity": 0.8,
            "symbol": "circle"
           },
           "mode": "markers",
           "name": "",
           "orientation": "v",
           "showlegend": false,
           "type": "scatter",
           "x": [
            0.007806269368282359
           ],
           "xaxis": "x",
           "y": [
            0.004718149980730579
           ],
           "yaxis": "y"
          }
         ],
         "name": "2023-09-27"
        },
        {
         "data": [
          {
           "hovertemplate": "Date=2023-09-28<br>Relative Strength=%{x}<br>Momentum=%{y}<extra></extra>",
           "legendgroup": "",
           "marker": {
            "color": "white",
            "opacity": 0.8,
            "symbol": "circle"
           },
           "mode": "markers",
           "name": "",
           "orientation": "v",
           "showlegend": false,
           "type": "scatter",
           "x": [
            0.004861234595683228
           ],
           "xaxis": "x",
           "y": [
            -0.0029450347725991305
           ],
           "yaxis": "y"
          }
         ],
         "name": "2023-09-28"
        },
        {
         "data": [
          {
           "hovertemplate": "Date=2023-09-29<br>Relative Strength=%{x}<br>Momentum=%{y}<extra></extra>",
           "legendgroup": "",
           "marker": {
            "color": "white",
            "opacity": 0.8,
            "symbol": "circle"
           },
           "mode": "markers",
           "name": "",
           "orientation": "v",
           "showlegend": false,
           "type": "scatter",
           "x": [
            0.004102068857853103
           ],
           "xaxis": "x",
           "y": [
            -0.0007591657378301251
           ],
           "yaxis": "y"
          }
         ],
         "name": "2023-09-29"
        },
        {
         "data": [
          {
           "hovertemplate": "Date=2023-10-02<br>Relative Strength=%{x}<br>Momentum=%{y}<extra></extra>",
           "legendgroup": "",
           "marker": {
            "color": "white",
            "opacity": 0.8,
            "symbol": "circle"
           },
           "mode": "markers",
           "name": "",
           "orientation": "v",
           "showlegend": false,
           "type": "scatter",
           "x": [
            0.002790662820559808
           ],
           "xaxis": "x",
           "y": [
            -0.001311406037293295
           ],
           "yaxis": "y"
          }
         ],
         "name": "2023-10-02"
        },
        {
         "data": [
          {
           "hovertemplate": "Date=2023-10-03<br>Relative Strength=%{x}<br>Momentum=%{y}<extra></extra>",
           "legendgroup": "",
           "marker": {
            "color": "white",
            "opacity": 0.8,
            "symbol": "circle"
           },
           "mode": "markers",
           "name": "",
           "orientation": "v",
           "showlegend": false,
           "type": "scatter",
           "x": [
            0.00316662861555882
           ],
           "xaxis": "x",
           "y": [
            0.00037596579499901174
           ],
           "yaxis": "y"
          }
         ],
         "name": "2023-10-03"
        },
        {
         "data": [
          {
           "hovertemplate": "Date=2023-10-04<br>Relative Strength=%{x}<br>Momentum=%{y}<extra></extra>",
           "legendgroup": "",
           "marker": {
            "color": "white",
            "opacity": 0.8,
            "symbol": "circle"
           },
           "mode": "markers",
           "name": "",
           "orientation": "v",
           "showlegend": false,
           "type": "scatter",
           "x": [
            -0.0004866379943406218
           ],
           "xaxis": "x",
           "y": [
            -0.0036532666098994418
           ],
           "yaxis": "y"
          }
         ],
         "name": "2023-10-04"
        },
        {
         "data": [
          {
           "hovertemplate": "Date=2023-10-05<br>Relative Strength=%{x}<br>Momentum=%{y}<extra></extra>",
           "legendgroup": "",
           "marker": {
            "color": "white",
            "opacity": 0.8,
            "symbol": "circle"
           },
           "mode": "markers",
           "name": "",
           "orientation": "v",
           "showlegend": false,
           "type": "scatter",
           "x": [
            -0.000467825392369925
           ],
           "xaxis": "x",
           "y": [
            0.00001881260197069681
           ],
           "yaxis": "y"
          }
         ],
         "name": "2023-10-05"
        },
        {
         "data": [
          {
           "hovertemplate": "Date=2023-10-06<br>Relative Strength=%{x}<br>Momentum=%{y}<extra></extra>",
           "legendgroup": "",
           "marker": {
            "color": "white",
            "opacity": 0.8,
            "symbol": "circle"
           },
           "mode": "markers",
           "name": "",
           "orientation": "v",
           "showlegend": false,
           "type": "scatter",
           "x": [
            0.0002163359809200572
           ],
           "xaxis": "x",
           "y": [
            0.0006841613732899822
           ],
           "yaxis": "y"
          }
         ],
         "name": "2023-10-06"
        },
        {
         "data": [
          {
           "hovertemplate": "Date=2023-10-09<br>Relative Strength=%{x}<br>Momentum=%{y}<extra></extra>",
           "legendgroup": "",
           "marker": {
            "color": "white",
            "opacity": 0.8,
            "symbol": "circle"
           },
           "mode": "markers",
           "name": "",
           "orientation": "v",
           "showlegend": false,
           "type": "scatter",
           "x": [
            0.0029310322631702747
           ],
           "xaxis": "x",
           "y": [
            0.0027146962822502175
           ],
           "yaxis": "y"
          }
         ],
         "name": "2023-10-09"
        },
        {
         "data": [
          {
           "hovertemplate": "Date=2023-10-10<br>Relative Strength=%{x}<br>Momentum=%{y}<extra></extra>",
           "legendgroup": "",
           "marker": {
            "color": "white",
            "opacity": 0.8,
            "symbol": "circle"
           },
           "mode": "markers",
           "name": "",
           "orientation": "v",
           "showlegend": false,
           "type": "scatter",
           "x": [
            0.0031145393265148424
           ],
           "xaxis": "x",
           "y": [
            0.00018350706334456773
           ],
           "yaxis": "y"
          }
         ],
         "name": "2023-10-10"
        },
        {
         "data": [
          {
           "hovertemplate": "Date=2023-10-11<br>Relative Strength=%{x}<br>Momentum=%{y}<extra></extra>",
           "legendgroup": "",
           "marker": {
            "color": "white",
            "opacity": 0.8,
            "symbol": "circle"
           },
           "mode": "markers",
           "name": "",
           "orientation": "v",
           "showlegend": false,
           "type": "scatter",
           "x": [
            -0.00046068408042430073
           ],
           "xaxis": "x",
           "y": [
            -0.003575223406939143
           ],
           "yaxis": "y"
          }
         ],
         "name": "2023-10-11"
        },
        {
         "data": [
          {
           "hovertemplate": "Date=2023-10-13<br>Relative Strength=%{x}<br>Momentum=%{y}<extra></extra>",
           "legendgroup": "",
           "marker": {
            "color": "white",
            "opacity": 0.8,
            "symbol": "circle"
           },
           "mode": "markers",
           "name": "",
           "orientation": "v",
           "showlegend": false,
           "type": "scatter",
           "x": [
            0.005381185283235535
           ],
           "xaxis": "x",
           "y": [
            0.005841869363659836
           ],
           "yaxis": "y"
          }
         ],
         "name": "2023-10-13"
        },
        {
         "data": [
          {
           "hovertemplate": "Date=2023-10-16<br>Relative Strength=%{x}<br>Momentum=%{y}<extra></extra>",
           "legendgroup": "",
           "marker": {
            "color": "white",
            "opacity": 0.8,
            "symbol": "circle"
           },
           "mode": "markers",
           "name": "",
           "orientation": "v",
           "showlegend": false,
           "type": "scatter",
           "x": [
            0.005978987659254054
           ],
           "xaxis": "x",
           "y": [
            0.000597802376018519
           ],
           "yaxis": "y"
          }
         ],
         "name": "2023-10-16"
        },
        {
         "data": [
          {
           "hovertemplate": "Date=2023-10-17<br>Relative Strength=%{x}<br>Momentum=%{y}<extra></extra>",
           "legendgroup": "",
           "marker": {
            "color": "white",
            "opacity": 0.8,
            "symbol": "circle"
           },
           "mode": "markers",
           "name": "",
           "orientation": "v",
           "showlegend": false,
           "type": "scatter",
           "x": [
            0.009422638864432098
           ],
           "xaxis": "x",
           "y": [
            0.0034436512051780437
           ],
           "yaxis": "y"
          }
         ],
         "name": "2023-10-17"
        },
        {
         "data": [
          {
           "hovertemplate": "Date=2023-10-18<br>Relative Strength=%{x}<br>Momentum=%{y}<extra></extra>",
           "legendgroup": "",
           "marker": {
            "color": "white",
            "opacity": 0.8,
            "symbol": "circle"
           },
           "mode": "markers",
           "name": "",
           "orientation": "v",
           "showlegend": false,
           "type": "scatter",
           "x": [
            0.012289428737691467
           ],
           "xaxis": "x",
           "y": [
            0.002866789873259369
           ],
           "yaxis": "y"
          }
         ],
         "name": "2023-10-18"
        },
        {
         "data": [
          {
           "hovertemplate": "Date=2023-10-19<br>Relative Strength=%{x}<br>Momentum=%{y}<extra></extra>",
           "legendgroup": "",
           "marker": {
            "color": "white",
            "opacity": 0.8,
            "symbol": "circle"
           },
           "mode": "markers",
           "name": "",
           "orientation": "v",
           "showlegend": false,
           "type": "scatter",
           "x": [
            0.01601109021234284
           ],
           "xaxis": "x",
           "y": [
            0.003721661474651373
           ],
           "yaxis": "y"
          }
         ],
         "name": "2023-10-19"
        },
        {
         "data": [
          {
           "hovertemplate": "Date=2023-10-20<br>Relative Strength=%{x}<br>Momentum=%{y}<extra></extra>",
           "legendgroup": "",
           "marker": {
            "color": "white",
            "opacity": 0.8,
            "symbol": "circle"
           },
           "mode": "markers",
           "name": "",
           "orientation": "v",
           "showlegend": false,
           "type": "scatter",
           "x": [
            0.014856230607229171
           ],
           "xaxis": "x",
           "y": [
            -0.0011548596051136686
           ],
           "yaxis": "y"
          }
         ],
         "name": "2023-10-20"
        },
        {
         "data": [
          {
           "hovertemplate": "Date=2023-10-23<br>Relative Strength=%{x}<br>Momentum=%{y}<extra></extra>",
           "legendgroup": "",
           "marker": {
            "color": "white",
            "opacity": 0.8,
            "symbol": "circle"
           },
           "mode": "markers",
           "name": "",
           "orientation": "v",
           "showlegend": false,
           "type": "scatter",
           "x": [
            0.006977177717199445
           ],
           "xaxis": "x",
           "y": [
            -0.007879052890029726
           ],
           "yaxis": "y"
          }
         ],
         "name": "2023-10-23"
        },
        {
         "data": [
          {
           "hovertemplate": "Date=2023-10-24<br>Relative Strength=%{x}<br>Momentum=%{y}<extra></extra>",
           "legendgroup": "",
           "marker": {
            "color": "white",
            "opacity": 0.8,
            "symbol": "circle"
           },
           "mode": "markers",
           "name": "",
           "orientation": "v",
           "showlegend": false,
           "type": "scatter",
           "x": [
            0.0041766272573251825
           ],
           "xaxis": "x",
           "y": [
            -0.0028005504598742625
           ],
           "yaxis": "y"
          }
         ],
         "name": "2023-10-24"
        },
        {
         "data": [
          {
           "hovertemplate": "Date=2023-10-25<br>Relative Strength=%{x}<br>Momentum=%{y}<extra></extra>",
           "legendgroup": "",
           "marker": {
            "color": "white",
            "opacity": 0.8,
            "symbol": "circle"
           },
           "mode": "markers",
           "name": "",
           "orientation": "v",
           "showlegend": false,
           "type": "scatter",
           "x": [
            0.006154414374437778
           ],
           "xaxis": "x",
           "y": [
            0.0019777871171125956
           ],
           "yaxis": "y"
          }
         ],
         "name": "2023-10-25"
        },
        {
         "data": [
          {
           "hovertemplate": "Date=2023-10-26<br>Relative Strength=%{x}<br>Momentum=%{y}<extra></extra>",
           "legendgroup": "",
           "marker": {
            "color": "white",
            "opacity": 0.8,
            "symbol": "circle"
           },
           "mode": "markers",
           "name": "",
           "orientation": "v",
           "showlegend": false,
           "type": "scatter",
           "x": [
            0.003927628624649926
           ],
           "xaxis": "x",
           "y": [
            -0.002226785749787852
           ],
           "yaxis": "y"
          }
         ],
         "name": "2023-10-26"
        },
        {
         "data": [
          {
           "hovertemplate": "Date=2023-10-27<br>Relative Strength=%{x}<br>Momentum=%{y}<extra></extra>",
           "legendgroup": "",
           "marker": {
            "color": "white",
            "opacity": 0.8,
            "symbol": "circle"
           },
           "mode": "markers",
           "name": "",
           "orientation": "v",
           "showlegend": false,
           "type": "scatter",
           "x": [
            0.00007429962555324235
           ],
           "xaxis": "x",
           "y": [
            -0.003853328999096684
           ],
           "yaxis": "y"
          }
         ],
         "name": "2023-10-27"
        },
        {
         "data": [
          {
           "hovertemplate": "Date=2023-10-30<br>Relative Strength=%{x}<br>Momentum=%{y}<extra></extra>",
           "legendgroup": "",
           "marker": {
            "color": "white",
            "opacity": 0.8,
            "symbol": "circle"
           },
           "mode": "markers",
           "name": "",
           "orientation": "v",
           "showlegend": false,
           "type": "scatter",
           "x": [
            -0.0006914917609619599
           ],
           "xaxis": "x",
           "y": [
            -0.0007657913865152023
           ],
           "yaxis": "y"
          }
         ],
         "name": "2023-10-30"
        },
        {
         "data": [
          {
           "hovertemplate": "Date=2023-10-31<br>Relative Strength=%{x}<br>Momentum=%{y}<extra></extra>",
           "legendgroup": "",
           "marker": {
            "color": "white",
            "opacity": 0.8,
            "symbol": "circle"
           },
           "mode": "markers",
           "name": "",
           "orientation": "v",
           "showlegend": false,
           "type": "scatter",
           "x": [
            -0.005440719457653265
           ],
           "xaxis": "x",
           "y": [
            -0.004749227696691305
           ],
           "yaxis": "y"
          }
         ],
         "name": "2023-10-31"
        },
        {
         "data": [
          {
           "hovertemplate": "Date=2023-11-01<br>Relative Strength=%{x}<br>Momentum=%{y}<extra></extra>",
           "legendgroup": "",
           "marker": {
            "color": "white",
            "opacity": 0.8,
            "symbol": "circle"
           },
           "mode": "markers",
           "name": "",
           "orientation": "v",
           "showlegend": false,
           "type": "scatter",
           "x": [
            -0.009884955416848196
           ],
           "xaxis": "x",
           "y": [
            -0.0044442359591949305
           ],
           "yaxis": "y"
          }
         ],
         "name": "2023-11-01"
        },
        {
         "data": [
          {
           "hovertemplate": "Date=2023-11-03<br>Relative Strength=%{x}<br>Momentum=%{y}<extra></extra>",
           "legendgroup": "",
           "marker": {
            "color": "white",
            "opacity": 0.8,
            "symbol": "circle"
           },
           "mode": "markers",
           "name": "",
           "orientation": "v",
           "showlegend": false,
           "type": "scatter",
           "x": [
            -0.010971337010566573
           ],
           "xaxis": "x",
           "y": [
            -0.0010863815937183774
           ],
           "yaxis": "y"
          }
         ],
         "name": "2023-11-03"
        },
        {
         "data": [
          {
           "hovertemplate": "Date=2023-11-06<br>Relative Strength=%{x}<br>Momentum=%{y}<extra></extra>",
           "legendgroup": "",
           "marker": {
            "color": "white",
            "opacity": 0.8,
            "symbol": "circle"
           },
           "mode": "markers",
           "name": "",
           "orientation": "v",
           "showlegend": false,
           "type": "scatter",
           "x": [
            -0.010799197631819479
           ],
           "xaxis": "x",
           "y": [
            0.00017213937874709442
           ],
           "yaxis": "y"
          }
         ],
         "name": "2023-11-06"
        },
        {
         "data": [
          {
           "hovertemplate": "Date=2023-11-07<br>Relative Strength=%{x}<br>Momentum=%{y}<extra></extra>",
           "legendgroup": "",
           "marker": {
            "color": "white",
            "opacity": 0.8,
            "symbol": "circle"
           },
           "mode": "markers",
           "name": "",
           "orientation": "v",
           "showlegend": false,
           "type": "scatter",
           "x": [
            -0.0068418011915086
           ],
           "xaxis": "x",
           "y": [
            0.003957396440310878
           ],
           "yaxis": "y"
          }
         ],
         "name": "2023-11-07"
        },
        {
         "data": [
          {
           "hovertemplate": "Date=2023-11-08<br>Relative Strength=%{x}<br>Momentum=%{y}<extra></extra>",
           "legendgroup": "",
           "marker": {
            "color": "white",
            "opacity": 0.8,
            "symbol": "circle"
           },
           "mode": "markers",
           "name": "",
           "orientation": "v",
           "showlegend": false,
           "type": "scatter",
           "x": [
            -0.009480923523997754
           ],
           "xaxis": "x",
           "y": [
            -0.0026391223324891532
           ],
           "yaxis": "y"
          }
         ],
         "name": "2023-11-08"
        },
        {
         "data": [
          {
           "hovertemplate": "Date=2023-11-09<br>Relative Strength=%{x}<br>Momentum=%{y}<extra></extra>",
           "legendgroup": "",
           "marker": {
            "color": "white",
            "opacity": 0.8,
            "symbol": "circle"
           },
           "mode": "markers",
           "name": "",
           "orientation": "v",
           "showlegend": false,
           "type": "scatter",
           "x": [
            -0.008678801163966632
           ],
           "xaxis": "x",
           "y": [
            0.0008021223600311218
           ],
           "yaxis": "y"
          }
         ],
         "name": "2023-11-09"
        },
        {
         "data": [
          {
           "hovertemplate": "Date=2023-11-10<br>Relative Strength=%{x}<br>Momentum=%{y}<extra></extra>",
           "legendgroup": "",
           "marker": {
            "color": "white",
            "opacity": 0.8,
            "symbol": "circle"
           },
           "mode": "markers",
           "name": "",
           "orientation": "v",
           "showlegend": false,
           "type": "scatter",
           "x": [
            -0.007750706303547883
           ],
           "xaxis": "x",
           "y": [
            0.0009280948604187492
           ],
           "yaxis": "y"
          }
         ],
         "name": "2023-11-10"
        },
        {
         "data": [
          {
           "hovertemplate": "Date=2023-11-13<br>Relative Strength=%{x}<br>Momentum=%{y}<extra></extra>",
           "legendgroup": "",
           "marker": {
            "color": "white",
            "opacity": 0.8,
            "symbol": "circle"
           },
           "mode": "markers",
           "name": "",
           "orientation": "v",
           "showlegend": false,
           "type": "scatter",
           "x": [
            -0.005299084152260248
           ],
           "xaxis": "x",
           "y": [
            0.002451622151287635
           ],
           "yaxis": "y"
          }
         ],
         "name": "2023-11-13"
        },
        {
         "data": [
          {
           "hovertemplate": "Date=2023-11-14<br>Relative Strength=%{x}<br>Momentum=%{y}<extra></extra>",
           "legendgroup": "",
           "marker": {
            "color": "white",
            "opacity": 0.8,
            "symbol": "circle"
           },
           "mode": "markers",
           "name": "",
           "orientation": "v",
           "showlegend": false,
           "type": "scatter",
           "x": [
            -0.006041385634174146
           ],
           "xaxis": "x",
           "y": [
            -0.0007423014819138984
           ],
           "yaxis": "y"
          }
         ],
         "name": "2023-11-14"
        },
        {
         "data": [
          {
           "hovertemplate": "Date=2023-11-16<br>Relative Strength=%{x}<br>Momentum=%{y}<extra></extra>",
           "legendgroup": "",
           "marker": {
            "color": "white",
            "opacity": 0.8,
            "symbol": "circle"
           },
           "mode": "markers",
           "name": "",
           "orientation": "v",
           "showlegend": false,
           "type": "scatter",
           "x": [
            -0.007281563999556517
           ],
           "xaxis": "x",
           "y": [
            -0.0012401783653823708
           ],
           "yaxis": "y"
          }
         ],
         "name": "2023-11-16"
        },
        {
         "data": [
          {
           "hovertemplate": "Date=2023-11-17<br>Relative Strength=%{x}<br>Momentum=%{y}<extra></extra>",
           "legendgroup": "",
           "marker": {
            "color": "white",
            "opacity": 0.8,
            "symbol": "circle"
           },
           "mode": "markers",
           "name": "",
           "orientation": "v",
           "showlegend": false,
           "type": "scatter",
           "x": [
            -0.0038152671505094268
           ],
           "xaxis": "x",
           "y": [
            0.0034662968490470902
           ],
           "yaxis": "y"
          }
         ],
         "name": "2023-11-17"
        },
        {
         "data": [
          {
           "hovertemplate": "Date=2023-11-20<br>Relative Strength=%{x}<br>Momentum=%{y}<extra></extra>",
           "legendgroup": "",
           "marker": {
            "color": "white",
            "opacity": 0.8,
            "symbol": "circle"
           },
           "mode": "markers",
           "name": "",
           "orientation": "v",
           "showlegend": false,
           "type": "scatter",
           "x": [
            -0.0030549577144502018
           ],
           "xaxis": "x",
           "y": [
            0.000760309436059225
           ],
           "yaxis": "y"
          }
         ],
         "name": "2023-11-20"
        },
        {
         "data": [
          {
           "hovertemplate": "Date=2023-11-21<br>Relative Strength=%{x}<br>Momentum=%{y}<extra></extra>",
           "legendgroup": "",
           "marker": {
            "color": "white",
            "opacity": 0.8,
            "symbol": "circle"
           },
           "mode": "markers",
           "name": "",
           "orientation": "v",
           "showlegend": false,
           "type": "scatter",
           "x": [
            -0.003341052201552064
           ],
           "xaxis": "x",
           "y": [
            -0.0002860944871018621
           ],
           "yaxis": "y"
          }
         ],
         "name": "2023-11-21"
        },
        {
         "data": [
          {
           "hovertemplate": "Date=2023-11-22<br>Relative Strength=%{x}<br>Momentum=%{y}<extra></extra>",
           "legendgroup": "",
           "marker": {
            "color": "white",
            "opacity": 0.8,
            "symbol": "circle"
           },
           "mode": "markers",
           "name": "",
           "orientation": "v",
           "showlegend": false,
           "type": "scatter",
           "x": [
            -0.0008717355992416409
           ],
           "xaxis": "x",
           "y": [
            0.002469316602310423
           ],
           "yaxis": "y"
          }
         ],
         "name": "2023-11-22"
        },
        {
         "data": [
          {
           "hovertemplate": "Date=2023-11-23<br>Relative Strength=%{x}<br>Momentum=%{y}<extra></extra>",
           "legendgroup": "",
           "marker": {
            "color": "white",
            "opacity": 0.8,
            "symbol": "circle"
           },
           "mode": "markers",
           "name": "",
           "orientation": "v",
           "showlegend": false,
           "type": "scatter",
           "x": [
            0.000733532003463943
           ],
           "xaxis": "x",
           "y": [
            0.0016052676027055839
           ],
           "yaxis": "y"
          }
         ],
         "name": "2023-11-23"
        },
        {
         "data": [
          {
           "hovertemplate": "Date=2023-11-24<br>Relative Strength=%{x}<br>Momentum=%{y}<extra></extra>",
           "legendgroup": "",
           "marker": {
            "color": "white",
            "opacity": 0.8,
            "symbol": "circle"
           },
           "mode": "markers",
           "name": "",
           "orientation": "v",
           "showlegend": false,
           "type": "scatter",
           "x": [
            -0.000316139649836877
           ],
           "xaxis": "x",
           "y": [
            -0.00104967165330082
           ],
           "yaxis": "y"
          }
         ],
         "name": "2023-11-24"
        },
        {
         "data": [
          {
           "hovertemplate": "Date=2023-11-27<br>Relative Strength=%{x}<br>Momentum=%{y}<extra></extra>",
           "legendgroup": "",
           "marker": {
            "color": "white",
            "opacity": 0.8,
            "symbol": "circle"
           },
           "mode": "markers",
           "name": "",
           "orientation": "v",
           "showlegend": false,
           "type": "scatter",
           "x": [
            0.0008277852508580263
           ],
           "xaxis": "x",
           "y": [
            0.0011439249006949034
           ],
           "yaxis": "y"
          }
         ],
         "name": "2023-11-27"
        },
        {
         "data": [
          {
           "hovertemplate": "Date=2023-11-28<br>Relative Strength=%{x}<br>Momentum=%{y}<extra></extra>",
           "legendgroup": "",
           "marker": {
            "color": "white",
            "opacity": 0.8,
            "symbol": "circle"
           },
           "mode": "markers",
           "name": "",
           "orientation": "v",
           "showlegend": false,
           "type": "scatter",
           "x": [
            -0.0013505452700454004
           ],
           "xaxis": "x",
           "y": [
            -0.0021783305209034268
           ],
           "yaxis": "y"
          }
         ],
         "name": "2023-11-28"
        },
        {
         "data": [
          {
           "hovertemplate": "Date=2023-11-29<br>Relative Strength=%{x}<br>Momentum=%{y}<extra></extra>",
           "legendgroup": "",
           "marker": {
            "color": "white",
            "opacity": 0.8,
            "symbol": "circle"
           },
           "mode": "markers",
           "name": "",
           "orientation": "v",
           "showlegend": false,
           "type": "scatter",
           "x": [
            -0.0009651383926470136
           ],
           "xaxis": "x",
           "y": [
            0.00038540687739838683
           ],
           "yaxis": "y"
          }
         ],
         "name": "2023-11-29"
        },
        {
         "data": [
          {
           "hovertemplate": "Date=2023-11-30<br>Relative Strength=%{x}<br>Momentum=%{y}<extra></extra>",
           "legendgroup": "",
           "marker": {
            "color": "white",
            "opacity": 0.8,
            "symbol": "circle"
           },
           "mode": "markers",
           "name": "",
           "orientation": "v",
           "showlegend": false,
           "type": "scatter",
           "x": [
            0.0027428564483073293
           ],
           "xaxis": "x",
           "y": [
            0.0037079948409543427
           ],
           "yaxis": "y"
          }
         ],
         "name": "2023-11-30"
        },
        {
         "data": [
          {
           "hovertemplate": "Date=2023-12-01<br>Relative Strength=%{x}<br>Momentum=%{y}<extra></extra>",
           "legendgroup": "",
           "marker": {
            "color": "white",
            "opacity": 0.8,
            "symbol": "circle"
           },
           "mode": "markers",
           "name": "",
           "orientation": "v",
           "showlegend": false,
           "type": "scatter",
           "x": [
            -0.0014046716000569504
           ],
           "xaxis": "x",
           "y": [
            -0.00414752804836428
           ],
           "yaxis": "y"
          }
         ],
         "name": "2023-12-01"
        },
        {
         "data": [
          {
           "hovertemplate": "Date=2023-12-04<br>Relative Strength=%{x}<br>Momentum=%{y}<extra></extra>",
           "legendgroup": "",
           "marker": {
            "color": "white",
            "opacity": 0.8,
            "symbol": "circle"
           },
           "mode": "markers",
           "name": "",
           "orientation": "v",
           "showlegend": false,
           "type": "scatter",
           "x": [
            -0.001776212222897522
           ],
           "xaxis": "x",
           "y": [
            -0.0003715406228405715
           ],
           "yaxis": "y"
          }
         ],
         "name": "2023-12-04"
        },
        {
         "data": [
          {
           "hovertemplate": "Date=2023-12-05<br>Relative Strength=%{x}<br>Momentum=%{y}<extra></extra>",
           "legendgroup": "",
           "marker": {
            "color": "white",
            "opacity": 0.8,
            "symbol": "circle"
           },
           "mode": "markers",
           "name": "",
           "orientation": "v",
           "showlegend": false,
           "type": "scatter",
           "x": [
            -0.0016661218664521748
           ],
           "xaxis": "x",
           "y": [
            0.00011009035644534717
           ],
           "yaxis": "y"
          }
         ],
         "name": "2023-12-05"
        },
        {
         "data": [
          {
           "hovertemplate": "Date=2023-12-06<br>Relative Strength=%{x}<br>Momentum=%{y}<extra></extra>",
           "legendgroup": "",
           "marker": {
            "color": "white",
            "opacity": 0.8,
            "symbol": "circle"
           },
           "mode": "markers",
           "name": "",
           "orientation": "v",
           "showlegend": false,
           "type": "scatter",
           "x": [
            -0.00440328962285933
           ],
           "xaxis": "x",
           "y": [
            -0.0027371677564071556
           ],
           "yaxis": "y"
          }
         ],
         "name": "2023-12-06"
        },
        {
         "data": [
          {
           "hovertemplate": "Date=2023-12-07<br>Relative Strength=%{x}<br>Momentum=%{y}<extra></extra>",
           "legendgroup": "",
           "marker": {
            "color": "white",
            "opacity": 0.8,
            "symbol": "circle"
           },
           "mode": "markers",
           "name": "",
           "orientation": "v",
           "showlegend": false,
           "type": "scatter",
           "x": [
            -0.004549359282384846
           ],
           "xaxis": "x",
           "y": [
            -0.00014606965952551534
           ],
           "yaxis": "y"
          }
         ],
         "name": "2023-12-07"
        },
        {
         "data": [
          {
           "hovertemplate": "Date=2023-12-08<br>Relative Strength=%{x}<br>Momentum=%{y}<extra></extra>",
           "legendgroup": "",
           "marker": {
            "color": "white",
            "opacity": 0.8,
            "symbol": "circle"
           },
           "mode": "markers",
           "name": "",
           "orientation": "v",
           "showlegend": false,
           "type": "scatter",
           "x": [
            -0.0033091693390714825
           ],
           "xaxis": "x",
           "y": [
            0.0012401899433133632
           ],
           "yaxis": "y"
          }
         ],
         "name": "2023-12-08"
        },
        {
         "data": [
          {
           "hovertemplate": "Date=2023-12-11<br>Relative Strength=%{x}<br>Momentum=%{y}<extra></extra>",
           "legendgroup": "",
           "marker": {
            "color": "white",
            "opacity": 0.8,
            "symbol": "circle"
           },
           "mode": "markers",
           "name": "",
           "orientation": "v",
           "showlegend": false,
           "type": "scatter",
           "x": [
            -0.0028666644281793775
           ],
           "xaxis": "x",
           "y": [
            0.00044250491089210505
           ],
           "yaxis": "y"
          }
         ],
         "name": "2023-12-11"
        },
        {
         "data": [
          {
           "hovertemplate": "Date=2023-12-12<br>Relative Strength=%{x}<br>Momentum=%{y}<extra></extra>",
           "legendgroup": "",
           "marker": {
            "color": "white",
            "opacity": 0.8,
            "symbol": "circle"
           },
           "mode": "markers",
           "name": "",
           "orientation": "v",
           "showlegend": false,
           "type": "scatter",
           "x": [
            -0.004108330286262129
           ],
           "xaxis": "x",
           "y": [
            -0.0012416658580827514
           ],
           "yaxis": "y"
          }
         ],
         "name": "2023-12-12"
        },
        {
         "data": [
          {
           "hovertemplate": "Date=2023-12-13<br>Relative Strength=%{x}<br>Momentum=%{y}<extra></extra>",
           "legendgroup": "",
           "marker": {
            "color": "white",
            "opacity": 0.8,
            "symbol": "circle"
           },
           "mode": "markers",
           "name": "",
           "orientation": "v",
           "showlegend": false,
           "type": "scatter",
           "x": [
            -0.0043989845627704915
           ],
           "xaxis": "x",
           "y": [
            -0.00029065427650836265
           ],
           "yaxis": "y"
          }
         ],
         "name": "2023-12-13"
        },
        {
         "data": [
          {
           "hovertemplate": "Date=2023-12-14<br>Relative Strength=%{x}<br>Momentum=%{y}<extra></extra>",
           "legendgroup": "",
           "marker": {
            "color": "white",
            "opacity": 0.8,
            "symbol": "circle"
           },
           "mode": "markers",
           "name": "",
           "orientation": "v",
           "showlegend": false,
           "type": "scatter",
           "x": [
            -0.004247854399980644
           ],
           "xaxis": "x",
           "y": [
            0.00015113016278984776
           ],
           "yaxis": "y"
          }
         ],
         "name": "2023-12-14"
        },
        {
         "data": [
          {
           "hovertemplate": "Date=2023-12-15<br>Relative Strength=%{x}<br>Momentum=%{y}<extra></extra>",
           "legendgroup": "",
           "marker": {
            "color": "white",
            "opacity": 0.8,
            "symbol": "circle"
           },
           "mode": "markers",
           "name": "",
           "orientation": "v",
           "showlegend": false,
           "type": "scatter",
           "x": [
            -0.002253746224836939
           ],
           "xaxis": "x",
           "y": [
            0.0019941081751437047
           ],
           "yaxis": "y"
          }
         ],
         "name": "2023-12-15"
        },
        {
         "data": [
          {
           "hovertemplate": "Date=2023-12-18<br>Relative Strength=%{x}<br>Momentum=%{y}<extra></extra>",
           "legendgroup": "",
           "marker": {
            "color": "white",
            "opacity": 0.8,
            "symbol": "circle"
           },
           "mode": "markers",
           "name": "",
           "orientation": "v",
           "showlegend": false,
           "type": "scatter",
           "x": [
            -0.0005762728650575036
           ],
           "xaxis": "x",
           "y": [
            0.0016774733597794355
           ],
           "yaxis": "y"
          }
         ],
         "name": "2023-12-18"
        },
        {
         "data": [
          {
           "hovertemplate": "Date=2023-12-19<br>Relative Strength=%{x}<br>Momentum=%{y}<extra></extra>",
           "legendgroup": "",
           "marker": {
            "color": "white",
            "opacity": 0.8,
            "symbol": "circle"
           },
           "mode": "markers",
           "name": "",
           "orientation": "v",
           "showlegend": false,
           "type": "scatter",
           "x": [
            0.0005197764623407039
           ],
           "xaxis": "x",
           "y": [
            0.0010960493273982075
           ],
           "yaxis": "y"
          }
         ],
         "name": "2023-12-19"
        },
        {
         "data": [
          {
           "hovertemplate": "Date=2023-12-20<br>Relative Strength=%{x}<br>Momentum=%{y}<extra></extra>",
           "legendgroup": "",
           "marker": {
            "color": "white",
            "opacity": 0.8,
            "symbol": "circle"
           },
           "mode": "markers",
           "name": "",
           "orientation": "v",
           "showlegend": false,
           "type": "scatter",
           "x": [
            0.004260955702269719
           ],
           "xaxis": "x",
           "y": [
            0.0037411792399290153
           ],
           "yaxis": "y"
          }
         ],
         "name": "2023-12-20"
        },
        {
         "data": [
          {
           "hovertemplate": "Date=2023-12-21<br>Relative Strength=%{x}<br>Momentum=%{y}<extra></extra>",
           "legendgroup": "",
           "marker": {
            "color": "white",
            "opacity": 0.8,
            "symbol": "circle"
           },
           "mode": "markers",
           "name": "",
           "orientation": "v",
           "showlegend": false,
           "type": "scatter",
           "x": [
            0.0037818329558268905
           ],
           "xaxis": "x",
           "y": [
            -0.0004791227464428288
           ],
           "yaxis": "y"
          }
         ],
         "name": "2023-12-21"
        },
        {
         "data": [
          {
           "hovertemplate": "Date=2023-12-22<br>Relative Strength=%{x}<br>Momentum=%{y}<extra></extra>",
           "legendgroup": "",
           "marker": {
            "color": "white",
            "opacity": 0.8,
            "symbol": "circle"
           },
           "mode": "markers",
           "name": "",
           "orientation": "v",
           "showlegend": false,
           "type": "scatter",
           "x": [
            0.0019702295144440884
           ],
           "xaxis": "x",
           "y": [
            -0.001811603441382802
           ],
           "yaxis": "y"
          }
         ],
         "name": "2023-12-22"
        },
        {
         "data": [
          {
           "hovertemplate": "Date=2023-12-26<br>Relative Strength=%{x}<br>Momentum=%{y}<extra></extra>",
           "legendgroup": "",
           "marker": {
            "color": "white",
            "opacity": 0.8,
            "symbol": "circle"
           },
           "mode": "markers",
           "name": "",
           "orientation": "v",
           "showlegend": false,
           "type": "scatter",
           "x": [
            0.0032254044684619787
           ],
           "xaxis": "x",
           "y": [
            0.0012551749540178903
           ],
           "yaxis": "y"
          }
         ],
         "name": "2023-12-26"
        },
        {
         "data": [
          {
           "hovertemplate": "Date=2023-12-27<br>Relative Strength=%{x}<br>Momentum=%{y}<extra></extra>",
           "legendgroup": "",
           "marker": {
            "color": "white",
            "opacity": 0.8,
            "symbol": "circle"
           },
           "mode": "markers",
           "name": "",
           "orientation": "v",
           "showlegend": false,
           "type": "scatter",
           "x": [
            0.0032214560759231126
           ],
           "xaxis": "x",
           "y": [
            -0.000003948392538866141
           ],
           "yaxis": "y"
          }
         ],
         "name": "2023-12-27"
        },
        {
         "data": [
          {
           "hovertemplate": "Date=2023-12-28<br>Relative Strength=%{x}<br>Momentum=%{y}<extra></extra>",
           "legendgroup": "",
           "marker": {
            "color": "white",
            "opacity": 0.8,
            "symbol": "circle"
           },
           "mode": "markers",
           "name": "",
           "orientation": "v",
           "showlegend": false,
           "type": "scatter",
           "x": [
            0.0038916034273255512
           ],
           "xaxis": "x",
           "y": [
            0.0006701473514024387
           ],
           "yaxis": "y"
          }
         ],
         "name": "2023-12-28"
        }
       ],
       "layout": {
        "height": 800,
        "legend": {
         "tracegroupgap": 0
        },
        "shapes": [
         {
          "line": {
           "color": "yellow",
           "dash": "dash"
          },
          "type": "line",
          "x0": -0.010971337010566573,
          "x1": 0.01601109021234284,
          "y0": 0,
          "y1": 0
         },
         {
          "line": {
           "color": "yellow",
           "dash": "dash"
          },
          "type": "line",
          "x0": 0,
          "x1": 0,
          "y0": -0.007879052890029726,
          "y1": 0.006232613029758194
         }
        ],
        "sliders": [
         {
          "active": 0,
          "currentvalue": {
           "prefix": "Date="
          },
          "len": 0.9,
          "pad": {
           "b": 10,
           "t": 60
          },
          "steps": [
           {
            "args": [
             [
              "2023-01-17"
             ],
             {
              "frame": {
               "duration": 0,
               "redraw": false
              },
              "fromcurrent": true,
              "mode": "immediate",
              "transition": {
               "duration": 0,
               "easing": "linear"
              }
             }
            ],
            "label": "2023-01-17",
            "method": "animate"
           },
           {
            "args": [
             [
              "2023-01-18"
             ],
             {
              "frame": {
               "duration": 0,
               "redraw": false
              },
              "fromcurrent": true,
              "mode": "immediate",
              "transition": {
               "duration": 0,
               "easing": "linear"
              }
             }
            ],
            "label": "2023-01-18",
            "method": "animate"
           },
           {
            "args": [
             [
              "2023-01-19"
             ],
             {
              "frame": {
               "duration": 0,
               "redraw": false
              },
              "fromcurrent": true,
              "mode": "immediate",
              "transition": {
               "duration": 0,
               "easing": "linear"
              }
             }
            ],
            "label": "2023-01-19",
            "method": "animate"
           },
           {
            "args": [
             [
              "2023-01-20"
             ],
             {
              "frame": {
               "duration": 0,
               "redraw": false
              },
              "fromcurrent": true,
              "mode": "immediate",
              "transition": {
               "duration": 0,
               "easing": "linear"
              }
             }
            ],
            "label": "2023-01-20",
            "method": "animate"
           },
           {
            "args": [
             [
              "2023-01-23"
             ],
             {
              "frame": {
               "duration": 0,
               "redraw": false
              },
              "fromcurrent": true,
              "mode": "immediate",
              "transition": {
               "duration": 0,
               "easing": "linear"
              }
             }
            ],
            "label": "2023-01-23",
            "method": "animate"
           },
           {
            "args": [
             [
              "2023-01-24"
             ],
             {
              "frame": {
               "duration": 0,
               "redraw": false
              },
              "fromcurrent": true,
              "mode": "immediate",
              "transition": {
               "duration": 0,
               "easing": "linear"
              }
             }
            ],
            "label": "2023-01-24",
            "method": "animate"
           },
           {
            "args": [
             [
              "2023-01-25"
             ],
             {
              "frame": {
               "duration": 0,
               "redraw": false
              },
              "fromcurrent": true,
              "mode": "immediate",
              "transition": {
               "duration": 0,
               "easing": "linear"
              }
             }
            ],
            "label": "2023-01-25",
            "method": "animate"
           },
           {
            "args": [
             [
              "2023-01-26"
             ],
             {
              "frame": {
               "duration": 0,
               "redraw": false
              },
              "fromcurrent": true,
              "mode": "immediate",
              "transition": {
               "duration": 0,
               "easing": "linear"
              }
             }
            ],
            "label": "2023-01-26",
            "method": "animate"
           },
           {
            "args": [
             [
              "2023-01-27"
             ],
             {
              "frame": {
               "duration": 0,
               "redraw": false
              },
              "fromcurrent": true,
              "mode": "immediate",
              "transition": {
               "duration": 0,
               "easing": "linear"
              }
             }
            ],
            "label": "2023-01-27",
            "method": "animate"
           },
           {
            "args": [
             [
              "2023-01-30"
             ],
             {
              "frame": {
               "duration": 0,
               "redraw": false
              },
              "fromcurrent": true,
              "mode": "immediate",
              "transition": {
               "duration": 0,
               "easing": "linear"
              }
             }
            ],
            "label": "2023-01-30",
            "method": "animate"
           },
           {
            "args": [
             [
              "2023-01-31"
             ],
             {
              "frame": {
               "duration": 0,
               "redraw": false
              },
              "fromcurrent": true,
              "mode": "immediate",
              "transition": {
               "duration": 0,
               "easing": "linear"
              }
             }
            ],
            "label": "2023-01-31",
            "method": "animate"
           },
           {
            "args": [
             [
              "2023-02-01"
             ],
             {
              "frame": {
               "duration": 0,
               "redraw": false
              },
              "fromcurrent": true,
              "mode": "immediate",
              "transition": {
               "duration": 0,
               "easing": "linear"
              }
             }
            ],
            "label": "2023-02-01",
            "method": "animate"
           },
           {
            "args": [
             [
              "2023-02-02"
             ],
             {
              "frame": {
               "duration": 0,
               "redraw": false
              },
              "fromcurrent": true,
              "mode": "immediate",
              "transition": {
               "duration": 0,
               "easing": "linear"
              }
             }
            ],
            "label": "2023-02-02",
            "method": "animate"
           },
           {
            "args": [
             [
              "2023-02-03"
             ],
             {
              "frame": {
               "duration": 0,
               "redraw": false
              },
              "fromcurrent": true,
              "mode": "immediate",
              "transition": {
               "duration": 0,
               "easing": "linear"
              }
             }
            ],
            "label": "2023-02-03",
            "method": "animate"
           },
           {
            "args": [
             [
              "2023-02-06"
             ],
             {
              "frame": {
               "duration": 0,
               "redraw": false
              },
              "fromcurrent": true,
              "mode": "immediate",
              "transition": {
               "duration": 0,
               "easing": "linear"
              }
             }
            ],
            "label": "2023-02-06",
            "method": "animate"
           },
           {
            "args": [
             [
              "2023-02-07"
             ],
             {
              "frame": {
               "duration": 0,
               "redraw": false
              },
              "fromcurrent": true,
              "mode": "immediate",
              "transition": {
               "duration": 0,
               "easing": "linear"
              }
             }
            ],
            "label": "2023-02-07",
            "method": "animate"
           },
           {
            "args": [
             [
              "2023-02-08"
             ],
             {
              "frame": {
               "duration": 0,
               "redraw": false
              },
              "fromcurrent": true,
              "mode": "immediate",
              "transition": {
               "duration": 0,
               "easing": "linear"
              }
             }
            ],
            "label": "2023-02-08",
            "method": "animate"
           },
           {
            "args": [
             [
              "2023-02-09"
             ],
             {
              "frame": {
               "duration": 0,
               "redraw": false
              },
              "fromcurrent": true,
              "mode": "immediate",
              "transition": {
               "duration": 0,
               "easing": "linear"
              }
             }
            ],
            "label": "2023-02-09",
            "method": "animate"
           },
           {
            "args": [
             [
              "2023-02-10"
             ],
             {
              "frame": {
               "duration": 0,
               "redraw": false
              },
              "fromcurrent": true,
              "mode": "immediate",
              "transition": {
               "duration": 0,
               "easing": "linear"
              }
             }
            ],
            "label": "2023-02-10",
            "method": "animate"
           },
           {
            "args": [
             [
              "2023-02-13"
             ],
             {
              "frame": {
               "duration": 0,
               "redraw": false
              },
              "fromcurrent": true,
              "mode": "immediate",
              "transition": {
               "duration": 0,
               "easing": "linear"
              }
             }
            ],
            "label": "2023-02-13",
            "method": "animate"
           },
           {
            "args": [
             [
              "2023-02-14"
             ],
             {
              "frame": {
               "duration": 0,
               "redraw": false
              },
              "fromcurrent": true,
              "mode": "immediate",
              "transition": {
               "duration": 0,
               "easing": "linear"
              }
             }
            ],
            "label": "2023-02-14",
            "method": "animate"
           },
           {
            "args": [
             [
              "2023-02-15"
             ],
             {
              "frame": {
               "duration": 0,
               "redraw": false
              },
              "fromcurrent": true,
              "mode": "immediate",
              "transition": {
               "duration": 0,
               "easing": "linear"
              }
             }
            ],
            "label": "2023-02-15",
            "method": "animate"
           },
           {
            "args": [
             [
              "2023-02-16"
             ],
             {
              "frame": {
               "duration": 0,
               "redraw": false
              },
              "fromcurrent": true,
              "mode": "immediate",
              "transition": {
               "duration": 0,
               "easing": "linear"
              }
             }
            ],
            "label": "2023-02-16",
            "method": "animate"
           },
           {
            "args": [
             [
              "2023-02-17"
             ],
             {
              "frame": {
               "duration": 0,
               "redraw": false
              },
              "fromcurrent": true,
              "mode": "immediate",
              "transition": {
               "duration": 0,
               "easing": "linear"
              }
             }
            ],
            "label": "2023-02-17",
            "method": "animate"
           },
           {
            "args": [
             [
              "2023-02-22"
             ],
             {
              "frame": {
               "duration": 0,
               "redraw": false
              },
              "fromcurrent": true,
              "mode": "immediate",
              "transition": {
               "duration": 0,
               "easing": "linear"
              }
             }
            ],
            "label": "2023-02-22",
            "method": "animate"
           },
           {
            "args": [
             [
              "2023-02-23"
             ],
             {
              "frame": {
               "duration": 0,
               "redraw": false
              },
              "fromcurrent": true,
              "mode": "immediate",
              "transition": {
               "duration": 0,
               "easing": "linear"
              }
             }
            ],
            "label": "2023-02-23",
            "method": "animate"
           },
           {
            "args": [
             [
              "2023-02-24"
             ],
             {
              "frame": {
               "duration": 0,
               "redraw": false
              },
              "fromcurrent": true,
              "mode": "immediate",
              "transition": {
               "duration": 0,
               "easing": "linear"
              }
             }
            ],
            "label": "2023-02-24",
            "method": "animate"
           },
           {
            "args": [
             [
              "2023-02-27"
             ],
             {
              "frame": {
               "duration": 0,
               "redraw": false
              },
              "fromcurrent": true,
              "mode": "immediate",
              "transition": {
               "duration": 0,
               "easing": "linear"
              }
             }
            ],
            "label": "2023-02-27",
            "method": "animate"
           },
           {
            "args": [
             [
              "2023-02-28"
             ],
             {
              "frame": {
               "duration": 0,
               "redraw": false
              },
              "fromcurrent": true,
              "mode": "immediate",
              "transition": {
               "duration": 0,
               "easing": "linear"
              }
             }
            ],
            "label": "2023-02-28",
            "method": "animate"
           },
           {
            "args": [
             [
              "2023-03-01"
             ],
             {
              "frame": {
               "duration": 0,
               "redraw": false
              },
              "fromcurrent": true,
              "mode": "immediate",
              "transition": {
               "duration": 0,
               "easing": "linear"
              }
             }
            ],
            "label": "2023-03-01",
            "method": "animate"
           },
           {
            "args": [
             [
              "2023-03-02"
             ],
             {
              "frame": {
               "duration": 0,
               "redraw": false
              },
              "fromcurrent": true,
              "mode": "immediate",
              "transition": {
               "duration": 0,
               "easing": "linear"
              }
             }
            ],
            "label": "2023-03-02",
            "method": "animate"
           },
           {
            "args": [
             [
              "2023-03-03"
             ],
             {
              "frame": {
               "duration": 0,
               "redraw": false
              },
              "fromcurrent": true,
              "mode": "immediate",
              "transition": {
               "duration": 0,
               "easing": "linear"
              }
             }
            ],
            "label": "2023-03-03",
            "method": "animate"
           },
           {
            "args": [
             [
              "2023-03-06"
             ],
             {
              "frame": {
               "duration": 0,
               "redraw": false
              },
              "fromcurrent": true,
              "mode": "immediate",
              "transition": {
               "duration": 0,
               "easing": "linear"
              }
             }
            ],
            "label": "2023-03-06",
            "method": "animate"
           },
           {
            "args": [
             [
              "2023-03-07"
             ],
             {
              "frame": {
               "duration": 0,
               "redraw": false
              },
              "fromcurrent": true,
              "mode": "immediate",
              "transition": {
               "duration": 0,
               "easing": "linear"
              }
             }
            ],
            "label": "2023-03-07",
            "method": "animate"
           },
           {
            "args": [
             [
              "2023-03-08"
             ],
             {
              "frame": {
               "duration": 0,
               "redraw": false
              },
              "fromcurrent": true,
              "mode": "immediate",
              "transition": {
               "duration": 0,
               "easing": "linear"
              }
             }
            ],
            "label": "2023-03-08",
            "method": "animate"
           },
           {
            "args": [
             [
              "2023-03-09"
             ],
             {
              "frame": {
               "duration": 0,
               "redraw": false
              },
              "fromcurrent": true,
              "mode": "immediate",
              "transition": {
               "duration": 0,
               "easing": "linear"
              }
             }
            ],
            "label": "2023-03-09",
            "method": "animate"
           },
           {
            "args": [
             [
              "2023-03-10"
             ],
             {
              "frame": {
               "duration": 0,
               "redraw": false
              },
              "fromcurrent": true,
              "mode": "immediate",
              "transition": {
               "duration": 0,
               "easing": "linear"
              }
             }
            ],
            "label": "2023-03-10",
            "method": "animate"
           },
           {
            "args": [
             [
              "2023-03-13"
             ],
             {
              "frame": {
               "duration": 0,
               "redraw": false
              },
              "fromcurrent": true,
              "mode": "immediate",
              "transition": {
               "duration": 0,
               "easing": "linear"
              }
             }
            ],
            "label": "2023-03-13",
            "method": "animate"
           },
           {
            "args": [
             [
              "2023-03-14"
             ],
             {
              "frame": {
               "duration": 0,
               "redraw": false
              },
              "fromcurrent": true,
              "mode": "immediate",
              "transition": {
               "duration": 0,
               "easing": "linear"
              }
             }
            ],
            "label": "2023-03-14",
            "method": "animate"
           },
           {
            "args": [
             [
              "2023-03-15"
             ],
             {
              "frame": {
               "duration": 0,
               "redraw": false
              },
              "fromcurrent": true,
              "mode": "immediate",
              "transition": {
               "duration": 0,
               "easing": "linear"
              }
             }
            ],
            "label": "2023-03-15",
            "method": "animate"
           },
           {
            "args": [
             [
              "2023-03-16"
             ],
             {
              "frame": {
               "duration": 0,
               "redraw": false
              },
              "fromcurrent": true,
              "mode": "immediate",
              "transition": {
               "duration": 0,
               "easing": "linear"
              }
             }
            ],
            "label": "2023-03-16",
            "method": "animate"
           },
           {
            "args": [
             [
              "2023-03-17"
             ],
             {
              "frame": {
               "duration": 0,
               "redraw": false
              },
              "fromcurrent": true,
              "mode": "immediate",
              "transition": {
               "duration": 0,
               "easing": "linear"
              }
             }
            ],
            "label": "2023-03-17",
            "method": "animate"
           },
           {
            "args": [
             [
              "2023-03-20"
             ],
             {
              "frame": {
               "duration": 0,
               "redraw": false
              },
              "fromcurrent": true,
              "mode": "immediate",
              "transition": {
               "duration": 0,
               "easing": "linear"
              }
             }
            ],
            "label": "2023-03-20",
            "method": "animate"
           },
           {
            "args": [
             [
              "2023-03-21"
             ],
             {
              "frame": {
               "duration": 0,
               "redraw": false
              },
              "fromcurrent": true,
              "mode": "immediate",
              "transition": {
               "duration": 0,
               "easing": "linear"
              }
             }
            ],
            "label": "2023-03-21",
            "method": "animate"
           },
           {
            "args": [
             [
              "2023-03-22"
             ],
             {
              "frame": {
               "duration": 0,
               "redraw": false
              },
              "fromcurrent": true,
              "mode": "immediate",
              "transition": {
               "duration": 0,
               "easing": "linear"
              }
             }
            ],
            "label": "2023-03-22",
            "method": "animate"
           },
           {
            "args": [
             [
              "2023-03-23"
             ],
             {
              "frame": {
               "duration": 0,
               "redraw": false
              },
              "fromcurrent": true,
              "mode": "immediate",
              "transition": {
               "duration": 0,
               "easing": "linear"
              }
             }
            ],
            "label": "2023-03-23",
            "method": "animate"
           },
           {
            "args": [
             [
              "2023-03-24"
             ],
             {
              "frame": {
               "duration": 0,
               "redraw": false
              },
              "fromcurrent": true,
              "mode": "immediate",
              "transition": {
               "duration": 0,
               "easing": "linear"
              }
             }
            ],
            "label": "2023-03-24",
            "method": "animate"
           },
           {
            "args": [
             [
              "2023-03-27"
             ],
             {
              "frame": {
               "duration": 0,
               "redraw": false
              },
              "fromcurrent": true,
              "mode": "immediate",
              "transition": {
               "duration": 0,
               "easing": "linear"
              }
             }
            ],
            "label": "2023-03-27",
            "method": "animate"
           },
           {
            "args": [
             [
              "2023-03-28"
             ],
             {
              "frame": {
               "duration": 0,
               "redraw": false
              },
              "fromcurrent": true,
              "mode": "immediate",
              "transition": {
               "duration": 0,
               "easing": "linear"
              }
             }
            ],
            "label": "2023-03-28",
            "method": "animate"
           },
           {
            "args": [
             [
              "2023-03-29"
             ],
             {
              "frame": {
               "duration": 0,
               "redraw": false
              },
              "fromcurrent": true,
              "mode": "immediate",
              "transition": {
               "duration": 0,
               "easing": "linear"
              }
             }
            ],
            "label": "2023-03-29",
            "method": "animate"
           },
           {
            "args": [
             [
              "2023-03-30"
             ],
             {
              "frame": {
               "duration": 0,
               "redraw": false
              },
              "fromcurrent": true,
              "mode": "immediate",
              "transition": {
               "duration": 0,
               "easing": "linear"
              }
             }
            ],
            "label": "2023-03-30",
            "method": "animate"
           },
           {
            "args": [
             [
              "2023-03-31"
             ],
             {
              "frame": {
               "duration": 0,
               "redraw": false
              },
              "fromcurrent": true,
              "mode": "immediate",
              "transition": {
               "duration": 0,
               "easing": "linear"
              }
             }
            ],
            "label": "2023-03-31",
            "method": "animate"
           },
           {
            "args": [
             [
              "2023-04-03"
             ],
             {
              "frame": {
               "duration": 0,
               "redraw": false
              },
              "fromcurrent": true,
              "mode": "immediate",
              "transition": {
               "duration": 0,
               "easing": "linear"
              }
             }
            ],
            "label": "2023-04-03",
            "method": "animate"
           },
           {
            "args": [
             [
              "2023-04-04"
             ],
             {
              "frame": {
               "duration": 0,
               "redraw": false
              },
              "fromcurrent": true,
              "mode": "immediate",
              "transition": {
               "duration": 0,
               "easing": "linear"
              }
             }
            ],
            "label": "2023-04-04",
            "method": "animate"
           },
           {
            "args": [
             [
              "2023-04-05"
             ],
             {
              "frame": {
               "duration": 0,
               "redraw": false
              },
              "fromcurrent": true,
              "mode": "immediate",
              "transition": {
               "duration": 0,
               "easing": "linear"
              }
             }
            ],
            "label": "2023-04-05",
            "method": "animate"
           },
           {
            "args": [
             [
              "2023-04-06"
             ],
             {
              "frame": {
               "duration": 0,
               "redraw": false
              },
              "fromcurrent": true,
              "mode": "immediate",
              "transition": {
               "duration": 0,
               "easing": "linear"
              }
             }
            ],
            "label": "2023-04-06",
            "method": "animate"
           },
           {
            "args": [
             [
              "2023-04-10"
             ],
             {
              "frame": {
               "duration": 0,
               "redraw": false
              },
              "fromcurrent": true,
              "mode": "immediate",
              "transition": {
               "duration": 0,
               "easing": "linear"
              }
             }
            ],
            "label": "2023-04-10",
            "method": "animate"
           },
           {
            "args": [
             [
              "2023-04-11"
             ],
             {
              "frame": {
               "duration": 0,
               "redraw": false
              },
              "fromcurrent": true,
              "mode": "immediate",
              "transition": {
               "duration": 0,
               "easing": "linear"
              }
             }
            ],
            "label": "2023-04-11",
            "method": "animate"
           },
           {
            "args": [
             [
              "2023-04-12"
             ],
             {
              "frame": {
               "duration": 0,
               "redraw": false
              },
              "fromcurrent": true,
              "mode": "immediate",
              "transition": {
               "duration": 0,
               "easing": "linear"
              }
             }
            ],
            "label": "2023-04-12",
            "method": "animate"
           },
           {
            "args": [
             [
              "2023-04-13"
             ],
             {
              "frame": {
               "duration": 0,
               "redraw": false
              },
              "fromcurrent": true,
              "mode": "immediate",
              "transition": {
               "duration": 0,
               "easing": "linear"
              }
             }
            ],
            "label": "2023-04-13",
            "method": "animate"
           },
           {
            "args": [
             [
              "2023-04-14"
             ],
             {
              "frame": {
               "duration": 0,
               "redraw": false
              },
              "fromcurrent": true,
              "mode": "immediate",
              "transition": {
               "duration": 0,
               "easing": "linear"
              }
             }
            ],
            "label": "2023-04-14",
            "method": "animate"
           },
           {
            "args": [
             [
              "2023-04-17"
             ],
             {
              "frame": {
               "duration": 0,
               "redraw": false
              },
              "fromcurrent": true,
              "mode": "immediate",
              "transition": {
               "duration": 0,
               "easing": "linear"
              }
             }
            ],
            "label": "2023-04-17",
            "method": "animate"
           },
           {
            "args": [
             [
              "2023-04-18"
             ],
             {
              "frame": {
               "duration": 0,
               "redraw": false
              },
              "fromcurrent": true,
              "mode": "immediate",
              "transition": {
               "duration": 0,
               "easing": "linear"
              }
             }
            ],
            "label": "2023-04-18",
            "method": "animate"
           },
           {
            "args": [
             [
              "2023-04-19"
             ],
             {
              "frame": {
               "duration": 0,
               "redraw": false
              },
              "fromcurrent": true,
              "mode": "immediate",
              "transition": {
               "duration": 0,
               "easing": "linear"
              }
             }
            ],
            "label": "2023-04-19",
            "method": "animate"
           },
           {
            "args": [
             [
              "2023-04-20"
             ],
             {
              "frame": {
               "duration": 0,
               "redraw": false
              },
              "fromcurrent": true,
              "mode": "immediate",
              "transition": {
               "duration": 0,
               "easing": "linear"
              }
             }
            ],
            "label": "2023-04-20",
            "method": "animate"
           },
           {
            "args": [
             [
              "2023-04-24"
             ],
             {
              "frame": {
               "duration": 0,
               "redraw": false
              },
              "fromcurrent": true,
              "mode": "immediate",
              "transition": {
               "duration": 0,
               "easing": "linear"
              }
             }
            ],
            "label": "2023-04-24",
            "method": "animate"
           },
           {
            "args": [
             [
              "2023-04-25"
             ],
             {
              "frame": {
               "duration": 0,
               "redraw": false
              },
              "fromcurrent": true,
              "mode": "immediate",
              "transition": {
               "duration": 0,
               "easing": "linear"
              }
             }
            ],
            "label": "2023-04-25",
            "method": "animate"
           },
           {
            "args": [
             [
              "2023-04-26"
             ],
             {
              "frame": {
               "duration": 0,
               "redraw": false
              },
              "fromcurrent": true,
              "mode": "immediate",
              "transition": {
               "duration": 0,
               "easing": "linear"
              }
             }
            ],
            "label": "2023-04-26",
            "method": "animate"
           },
           {
            "args": [
             [
              "2023-04-27"
             ],
             {
              "frame": {
               "duration": 0,
               "redraw": false
              },
              "fromcurrent": true,
              "mode": "immediate",
              "transition": {
               "duration": 0,
               "easing": "linear"
              }
             }
            ],
            "label": "2023-04-27",
            "method": "animate"
           },
           {
            "args": [
             [
              "2023-04-28"
             ],
             {
              "frame": {
               "duration": 0,
               "redraw": false
              },
              "fromcurrent": true,
              "mode": "immediate",
              "transition": {
               "duration": 0,
               "easing": "linear"
              }
             }
            ],
            "label": "2023-04-28",
            "method": "animate"
           },
           {
            "args": [
             [
              "2023-05-02"
             ],
             {
              "frame": {
               "duration": 0,
               "redraw": false
              },
              "fromcurrent": true,
              "mode": "immediate",
              "transition": {
               "duration": 0,
               "easing": "linear"
              }
             }
            ],
            "label": "2023-05-02",
            "method": "animate"
           },
           {
            "args": [
             [
              "2023-05-03"
             ],
             {
              "frame": {
               "duration": 0,
               "redraw": false
              },
              "fromcurrent": true,
              "mode": "immediate",
              "transition": {
               "duration": 0,
               "easing": "linear"
              }
             }
            ],
            "label": "2023-05-03",
            "method": "animate"
           },
           {
            "args": [
             [
              "2023-05-04"
             ],
             {
              "frame": {
               "duration": 0,
               "redraw": false
              },
              "fromcurrent": true,
              "mode": "immediate",
              "transition": {
               "duration": 0,
               "easing": "linear"
              }
             }
            ],
            "label": "2023-05-04",
            "method": "animate"
           },
           {
            "args": [
             [
              "2023-05-05"
             ],
             {
              "frame": {
               "duration": 0,
               "redraw": false
              },
              "fromcurrent": true,
              "mode": "immediate",
              "transition": {
               "duration": 0,
               "easing": "linear"
              }
             }
            ],
            "label": "2023-05-05",
            "method": "animate"
           },
           {
            "args": [
             [
              "2023-05-08"
             ],
             {
              "frame": {
               "duration": 0,
               "redraw": false
              },
              "fromcurrent": true,
              "mode": "immediate",
              "transition": {
               "duration": 0,
               "easing": "linear"
              }
             }
            ],
            "label": "2023-05-08",
            "method": "animate"
           },
           {
            "args": [
             [
              "2023-05-09"
             ],
             {
              "frame": {
               "duration": 0,
               "redraw": false
              },
              "fromcurrent": true,
              "mode": "immediate",
              "transition": {
               "duration": 0,
               "easing": "linear"
              }
             }
            ],
            "label": "2023-05-09",
            "method": "animate"
           },
           {
            "args": [
             [
              "2023-05-10"
             ],
             {
              "frame": {
               "duration": 0,
               "redraw": false
              },
              "fromcurrent": true,
              "mode": "immediate",
              "transition": {
               "duration": 0,
               "easing": "linear"
              }
             }
            ],
            "label": "2023-05-10",
            "method": "animate"
           },
           {
            "args": [
             [
              "2023-05-11"
             ],
             {
              "frame": {
               "duration": 0,
               "redraw": false
              },
              "fromcurrent": true,
              "mode": "immediate",
              "transition": {
               "duration": 0,
               "easing": "linear"
              }
             }
            ],
            "label": "2023-05-11",
            "method": "animate"
           },
           {
            "args": [
             [
              "2023-05-12"
             ],
             {
              "frame": {
               "duration": 0,
               "redraw": false
              },
              "fromcurrent": true,
              "mode": "immediate",
              "transition": {
               "duration": 0,
               "easing": "linear"
              }
             }
            ],
            "label": "2023-05-12",
            "method": "animate"
           },
           {
            "args": [
             [
              "2023-05-15"
             ],
             {
              "frame": {
               "duration": 0,
               "redraw": false
              },
              "fromcurrent": true,
              "mode": "immediate",
              "transition": {
               "duration": 0,
               "easing": "linear"
              }
             }
            ],
            "label": "2023-05-15",
            "method": "animate"
           },
           {
            "args": [
             [
              "2023-05-16"
             ],
             {
              "frame": {
               "duration": 0,
               "redraw": false
              },
              "fromcurrent": true,
              "mode": "immediate",
              "transition": {
               "duration": 0,
               "easing": "linear"
              }
             }
            ],
            "label": "2023-05-16",
            "method": "animate"
           },
           {
            "args": [
             [
              "2023-05-17"
             ],
             {
              "frame": {
               "duration": 0,
               "redraw": false
              },
              "fromcurrent": true,
              "mode": "immediate",
              "transition": {
               "duration": 0,
               "easing": "linear"
              }
             }
            ],
            "label": "2023-05-17",
            "method": "animate"
           },
           {
            "args": [
             [
              "2023-05-18"
             ],
             {
              "frame": {
               "duration": 0,
               "redraw": false
              },
              "fromcurrent": true,
              "mode": "immediate",
              "transition": {
               "duration": 0,
               "easing": "linear"
              }
             }
            ],
            "label": "2023-05-18",
            "method": "animate"
           },
           {
            "args": [
             [
              "2023-05-19"
             ],
             {
              "frame": {
               "duration": 0,
               "redraw": false
              },
              "fromcurrent": true,
              "mode": "immediate",
              "transition": {
               "duration": 0,
               "easing": "linear"
              }
             }
            ],
            "label": "2023-05-19",
            "method": "animate"
           },
           {
            "args": [
             [
              "2023-05-22"
             ],
             {
              "frame": {
               "duration": 0,
               "redraw": false
              },
              "fromcurrent": true,
              "mode": "immediate",
              "transition": {
               "duration": 0,
               "easing": "linear"
              }
             }
            ],
            "label": "2023-05-22",
            "method": "animate"
           },
           {
            "args": [
             [
              "2023-05-23"
             ],
             {
              "frame": {
               "duration": 0,
               "redraw": false
              },
              "fromcurrent": true,
              "mode": "immediate",
              "transition": {
               "duration": 0,
               "easing": "linear"
              }
             }
            ],
            "label": "2023-05-23",
            "method": "animate"
           },
           {
            "args": [
             [
              "2023-05-24"
             ],
             {
              "frame": {
               "duration": 0,
               "redraw": false
              },
              "fromcurrent": true,
              "mode": "immediate",
              "transition": {
               "duration": 0,
               "easing": "linear"
              }
             }
            ],
            "label": "2023-05-24",
            "method": "animate"
           },
           {
            "args": [
             [
              "2023-05-25"
             ],
             {
              "frame": {
               "duration": 0,
               "redraw": false
              },
              "fromcurrent": true,
              "mode": "immediate",
              "transition": {
               "duration": 0,
               "easing": "linear"
              }
             }
            ],
            "label": "2023-05-25",
            "method": "animate"
           },
           {
            "args": [
             [
              "2023-05-26"
             ],
             {
              "frame": {
               "duration": 0,
               "redraw": false
              },
              "fromcurrent": true,
              "mode": "immediate",
              "transition": {
               "duration": 0,
               "easing": "linear"
              }
             }
            ],
            "label": "2023-05-26",
            "method": "animate"
           },
           {
            "args": [
             [
              "2023-05-29"
             ],
             {
              "frame": {
               "duration": 0,
               "redraw": false
              },
              "fromcurrent": true,
              "mode": "immediate",
              "transition": {
               "duration": 0,
               "easing": "linear"
              }
             }
            ],
            "label": "2023-05-29",
            "method": "animate"
           },
           {
            "args": [
             [
              "2023-05-30"
             ],
             {
              "frame": {
               "duration": 0,
               "redraw": false
              },
              "fromcurrent": true,
              "mode": "immediate",
              "transition": {
               "duration": 0,
               "easing": "linear"
              }
             }
            ],
            "label": "2023-05-30",
            "method": "animate"
           },
           {
            "args": [
             [
              "2023-05-31"
             ],
             {
              "frame": {
               "duration": 0,
               "redraw": false
              },
              "fromcurrent": true,
              "mode": "immediate",
              "transition": {
               "duration": 0,
               "easing": "linear"
              }
             }
            ],
            "label": "2023-05-31",
            "method": "animate"
           },
           {
            "args": [
             [
              "2023-06-01"
             ],
             {
              "frame": {
               "duration": 0,
               "redraw": false
              },
              "fromcurrent": true,
              "mode": "immediate",
              "transition": {
               "duration": 0,
               "easing": "linear"
              }
             }
            ],
            "label": "2023-06-01",
            "method": "animate"
           },
           {
            "args": [
             [
              "2023-06-02"
             ],
             {
              "frame": {
               "duration": 0,
               "redraw": false
              },
              "fromcurrent": true,
              "mode": "immediate",
              "transition": {
               "duration": 0,
               "easing": "linear"
              }
             }
            ],
            "label": "2023-06-02",
            "method": "animate"
           },
           {
            "args": [
             [
              "2023-06-05"
             ],
             {
              "frame": {
               "duration": 0,
               "redraw": false
              },
              "fromcurrent": true,
              "mode": "immediate",
              "transition": {
               "duration": 0,
               "easing": "linear"
              }
             }
            ],
            "label": "2023-06-05",
            "method": "animate"
           },
           {
            "args": [
             [
              "2023-06-06"
             ],
             {
              "frame": {
               "duration": 0,
               "redraw": false
              },
              "fromcurrent": true,
              "mode": "immediate",
              "transition": {
               "duration": 0,
               "easing": "linear"
              }
             }
            ],
            "label": "2023-06-06",
            "method": "animate"
           },
           {
            "args": [
             [
              "2023-06-07"
             ],
             {
              "frame": {
               "duration": 0,
               "redraw": false
              },
              "fromcurrent": true,
              "mode": "immediate",
              "transition": {
               "duration": 0,
               "easing": "linear"
              }
             }
            ],
            "label": "2023-06-07",
            "method": "animate"
           },
           {
            "args": [
             [
              "2023-06-09"
             ],
             {
              "frame": {
               "duration": 0,
               "redraw": false
              },
              "fromcurrent": true,
              "mode": "immediate",
              "transition": {
               "duration": 0,
               "easing": "linear"
              }
             }
            ],
            "label": "2023-06-09",
            "method": "animate"
           },
           {
            "args": [
             [
              "2023-06-12"
             ],
             {
              "frame": {
               "duration": 0,
               "redraw": false
              },
              "fromcurrent": true,
              "mode": "immediate",
              "transition": {
               "duration": 0,
               "easing": "linear"
              }
             }
            ],
            "label": "2023-06-12",
            "method": "animate"
           },
           {
            "args": [
             [
              "2023-06-13"
             ],
             {
              "frame": {
               "duration": 0,
               "redraw": false
              },
              "fromcurrent": true,
              "mode": "immediate",
              "transition": {
               "duration": 0,
               "easing": "linear"
              }
             }
            ],
            "label": "2023-06-13",
            "method": "animate"
           },
           {
            "args": [
             [
              "2023-06-14"
             ],
             {
              "frame": {
               "duration": 0,
               "redraw": false
              },
              "fromcurrent": true,
              "mode": "immediate",
              "transition": {
               "duration": 0,
               "easing": "linear"
              }
             }
            ],
            "label": "2023-06-14",
            "method": "animate"
           },
           {
            "args": [
             [
              "2023-06-15"
             ],
             {
              "frame": {
               "duration": 0,
               "redraw": false
              },
              "fromcurrent": true,
              "mode": "immediate",
              "transition": {
               "duration": 0,
               "easing": "linear"
              }
             }
            ],
            "label": "2023-06-15",
            "method": "animate"
           },
           {
            "args": [
             [
              "2023-06-16"
             ],
             {
              "frame": {
               "duration": 0,
               "redraw": false
              },
              "fromcurrent": true,
              "mode": "immediate",
              "transition": {
               "duration": 0,
               "easing": "linear"
              }
             }
            ],
            "label": "2023-06-16",
            "method": "animate"
           },
           {
            "args": [
             [
              "2023-06-19"
             ],
             {
              "frame": {
               "duration": 0,
               "redraw": false
              },
              "fromcurrent": true,
              "mode": "immediate",
              "transition": {
               "duration": 0,
               "easing": "linear"
              }
             }
            ],
            "label": "2023-06-19",
            "method": "animate"
           },
           {
            "args": [
             [
              "2023-06-20"
             ],
             {
              "frame": {
               "duration": 0,
               "redraw": false
              },
              "fromcurrent": true,
              "mode": "immediate",
              "transition": {
               "duration": 0,
               "easing": "linear"
              }
             }
            ],
            "label": "2023-06-20",
            "method": "animate"
           },
           {
            "args": [
             [
              "2023-06-21"
             ],
             {
              "frame": {
               "duration": 0,
               "redraw": false
              },
              "fromcurrent": true,
              "mode": "immediate",
              "transition": {
               "duration": 0,
               "easing": "linear"
              }
             }
            ],
            "label": "2023-06-21",
            "method": "animate"
           },
           {
            "args": [
             [
              "2023-06-22"
             ],
             {
              "frame": {
               "duration": 0,
               "redraw": false
              },
              "fromcurrent": true,
              "mode": "immediate",
              "transition": {
               "duration": 0,
               "easing": "linear"
              }
             }
            ],
            "label": "2023-06-22",
            "method": "animate"
           },
           {
            "args": [
             [
              "2023-06-23"
             ],
             {
              "frame": {
               "duration": 0,
               "redraw": false
              },
              "fromcurrent": true,
              "mode": "immediate",
              "transition": {
               "duration": 0,
               "easing": "linear"
              }
             }
            ],
            "label": "2023-06-23",
            "method": "animate"
           },
           {
            "args": [
             [
              "2023-06-26"
             ],
             {
              "frame": {
               "duration": 0,
               "redraw": false
              },
              "fromcurrent": true,
              "mode": "immediate",
              "transition": {
               "duration": 0,
               "easing": "linear"
              }
             }
            ],
            "label": "2023-06-26",
            "method": "animate"
           },
           {
            "args": [
             [
              "2023-06-27"
             ],
             {
              "frame": {
               "duration": 0,
               "redraw": false
              },
              "fromcurrent": true,
              "mode": "immediate",
              "transition": {
               "duration": 0,
               "easing": "linear"
              }
             }
            ],
            "label": "2023-06-27",
            "method": "animate"
           },
           {
            "args": [
             [
              "2023-06-28"
             ],
             {
              "frame": {
               "duration": 0,
               "redraw": false
              },
              "fromcurrent": true,
              "mode": "immediate",
              "transition": {
               "duration": 0,
               "easing": "linear"
              }
             }
            ],
            "label": "2023-06-28",
            "method": "animate"
           },
           {
            "args": [
             [
              "2023-06-29"
             ],
             {
              "frame": {
               "duration": 0,
               "redraw": false
              },
              "fromcurrent": true,
              "mode": "immediate",
              "transition": {
               "duration": 0,
               "easing": "linear"
              }
             }
            ],
            "label": "2023-06-29",
            "method": "animate"
           },
           {
            "args": [
             [
              "2023-06-30"
             ],
             {
              "frame": {
               "duration": 0,
               "redraw": false
              },
              "fromcurrent": true,
              "mode": "immediate",
              "transition": {
               "duration": 0,
               "easing": "linear"
              }
             }
            ],
            "label": "2023-06-30",
            "method": "animate"
           },
           {
            "args": [
             [
              "2023-07-03"
             ],
             {
              "frame": {
               "duration": 0,
               "redraw": false
              },
              "fromcurrent": true,
              "mode": "immediate",
              "transition": {
               "duration": 0,
               "easing": "linear"
              }
             }
            ],
            "label": "2023-07-03",
            "method": "animate"
           },
           {
            "args": [
             [
              "2023-07-04"
             ],
             {
              "frame": {
               "duration": 0,
               "redraw": false
              },
              "fromcurrent": true,
              "mode": "immediate",
              "transition": {
               "duration": 0,
               "easing": "linear"
              }
             }
            ],
            "label": "2023-07-04",
            "method": "animate"
           },
           {
            "args": [
             [
              "2023-07-05"
             ],
             {
              "frame": {
               "duration": 0,
               "redraw": false
              },
              "fromcurrent": true,
              "mode": "immediate",
              "transition": {
               "duration": 0,
               "easing": "linear"
              }
             }
            ],
            "label": "2023-07-05",
            "method": "animate"
           },
           {
            "args": [
             [
              "2023-07-06"
             ],
             {
              "frame": {
               "duration": 0,
               "redraw": false
              },
              "fromcurrent": true,
              "mode": "immediate",
              "transition": {
               "duration": 0,
               "easing": "linear"
              }
             }
            ],
            "label": "2023-07-06",
            "method": "animate"
           },
           {
            "args": [
             [
              "2023-07-07"
             ],
             {
              "frame": {
               "duration": 0,
               "redraw": false
              },
              "fromcurrent": true,
              "mode": "immediate",
              "transition": {
               "duration": 0,
               "easing": "linear"
              }
             }
            ],
            "label": "2023-07-07",
            "method": "animate"
           },
           {
            "args": [
             [
              "2023-07-10"
             ],
             {
              "frame": {
               "duration": 0,
               "redraw": false
              },
              "fromcurrent": true,
              "mode": "immediate",
              "transition": {
               "duration": 0,
               "easing": "linear"
              }
             }
            ],
            "label": "2023-07-10",
            "method": "animate"
           },
           {
            "args": [
             [
              "2023-07-11"
             ],
             {
              "frame": {
               "duration": 0,
               "redraw": false
              },
              "fromcurrent": true,
              "mode": "immediate",
              "transition": {
               "duration": 0,
               "easing": "linear"
              }
             }
            ],
            "label": "2023-07-11",
            "method": "animate"
           },
           {
            "args": [
             [
              "2023-07-12"
             ],
             {
              "frame": {
               "duration": 0,
               "redraw": false
              },
              "fromcurrent": true,
              "mode": "immediate",
              "transition": {
               "duration": 0,
               "easing": "linear"
              }
             }
            ],
            "label": "2023-07-12",
            "method": "animate"
           },
           {
            "args": [
             [
              "2023-07-13"
             ],
             {
              "frame": {
               "duration": 0,
               "redraw": false
              },
              "fromcurrent": true,
              "mode": "immediate",
              "transition": {
               "duration": 0,
               "easing": "linear"
              }
             }
            ],
            "label": "2023-07-13",
            "method": "animate"
           },
           {
            "args": [
             [
              "2023-07-14"
             ],
             {
              "frame": {
               "duration": 0,
               "redraw": false
              },
              "fromcurrent": true,
              "mode": "immediate",
              "transition": {
               "duration": 0,
               "easing": "linear"
              }
             }
            ],
            "label": "2023-07-14",
            "method": "animate"
           },
           {
            "args": [
             [
              "2023-07-17"
             ],
             {
              "frame": {
               "duration": 0,
               "redraw": false
              },
              "fromcurrent": true,
              "mode": "immediate",
              "transition": {
               "duration": 0,
               "easing": "linear"
              }
             }
            ],
            "label": "2023-07-17",
            "method": "animate"
           },
           {
            "args": [
             [
              "2023-07-18"
             ],
             {
              "frame": {
               "duration": 0,
               "redraw": false
              },
              "fromcurrent": true,
              "mode": "immediate",
              "transition": {
               "duration": 0,
               "easing": "linear"
              }
             }
            ],
            "label": "2023-07-18",
            "method": "animate"
           },
           {
            "args": [
             [
              "2023-07-19"
             ],
             {
              "frame": {
               "duration": 0,
               "redraw": false
              },
              "fromcurrent": true,
              "mode": "immediate",
              "transition": {
               "duration": 0,
               "easing": "linear"
              }
             }
            ],
            "label": "2023-07-19",
            "method": "animate"
           },
           {
            "args": [
             [
              "2023-07-20"
             ],
             {
              "frame": {
               "duration": 0,
               "redraw": false
              },
              "fromcurrent": true,
              "mode": "immediate",
              "transition": {
               "duration": 0,
               "easing": "linear"
              }
             }
            ],
            "label": "2023-07-20",
            "method": "animate"
           },
           {
            "args": [
             [
              "2023-07-21"
             ],
             {
              "frame": {
               "duration": 0,
               "redraw": false
              },
              "fromcurrent": true,
              "mode": "immediate",
              "transition": {
               "duration": 0,
               "easing": "linear"
              }
             }
            ],
            "label": "2023-07-21",
            "method": "animate"
           },
           {
            "args": [
             [
              "2023-07-24"
             ],
             {
              "frame": {
               "duration": 0,
               "redraw": false
              },
              "fromcurrent": true,
              "mode": "immediate",
              "transition": {
               "duration": 0,
               "easing": "linear"
              }
             }
            ],
            "label": "2023-07-24",
            "method": "animate"
           },
           {
            "args": [
             [
              "2023-07-25"
             ],
             {
              "frame": {
               "duration": 0,
               "redraw": false
              },
              "fromcurrent": true,
              "mode": "immediate",
              "transition": {
               "duration": 0,
               "easing": "linear"
              }
             }
            ],
            "label": "2023-07-25",
            "method": "animate"
           },
           {
            "args": [
             [
              "2023-07-26"
             ],
             {
              "frame": {
               "duration": 0,
               "redraw": false
              },
              "fromcurrent": true,
              "mode": "immediate",
              "transition": {
               "duration": 0,
               "easing": "linear"
              }
             }
            ],
            "label": "2023-07-26",
            "method": "animate"
           },
           {
            "args": [
             [
              "2023-07-27"
             ],
             {
              "frame": {
               "duration": 0,
               "redraw": false
              },
              "fromcurrent": true,
              "mode": "immediate",
              "transition": {
               "duration": 0,
               "easing": "linear"
              }
             }
            ],
            "label": "2023-07-27",
            "method": "animate"
           },
           {
            "args": [
             [
              "2023-07-28"
             ],
             {
              "frame": {
               "duration": 0,
               "redraw": false
              },
              "fromcurrent": true,
              "mode": "immediate",
              "transition": {
               "duration": 0,
               "easing": "linear"
              }
             }
            ],
            "label": "2023-07-28",
            "method": "animate"
           },
           {
            "args": [
             [
              "2023-07-31"
             ],
             {
              "frame": {
               "duration": 0,
               "redraw": false
              },
              "fromcurrent": true,
              "mode": "immediate",
              "transition": {
               "duration": 0,
               "easing": "linear"
              }
             }
            ],
            "label": "2023-07-31",
            "method": "animate"
           },
           {
            "args": [
             [
              "2023-08-01"
             ],
             {
              "frame": {
               "duration": 0,
               "redraw": false
              },
              "fromcurrent": true,
              "mode": "immediate",
              "transition": {
               "duration": 0,
               "easing": "linear"
              }
             }
            ],
            "label": "2023-08-01",
            "method": "animate"
           },
           {
            "args": [
             [
              "2023-08-02"
             ],
             {
              "frame": {
               "duration": 0,
               "redraw": false
              },
              "fromcurrent": true,
              "mode": "immediate",
              "transition": {
               "duration": 0,
               "easing": "linear"
              }
             }
            ],
            "label": "2023-08-02",
            "method": "animate"
           },
           {
            "args": [
             [
              "2023-08-03"
             ],
             {
              "frame": {
               "duration": 0,
               "redraw": false
              },
              "fromcurrent": true,
              "mode": "immediate",
              "transition": {
               "duration": 0,
               "easing": "linear"
              }
             }
            ],
            "label": "2023-08-03",
            "method": "animate"
           },
           {
            "args": [
             [
              "2023-08-04"
             ],
             {
              "frame": {
               "duration": 0,
               "redraw": false
              },
              "fromcurrent": true,
              "mode": "immediate",
              "transition": {
               "duration": 0,
               "easing": "linear"
              }
             }
            ],
            "label": "2023-08-04",
            "method": "animate"
           },
           {
            "args": [
             [
              "2023-08-07"
             ],
             {
              "frame": {
               "duration": 0,
               "redraw": false
              },
              "fromcurrent": true,
              "mode": "immediate",
              "transition": {
               "duration": 0,
               "easing": "linear"
              }
             }
            ],
            "label": "2023-08-07",
            "method": "animate"
           },
           {
            "args": [
             [
              "2023-08-08"
             ],
             {
              "frame": {
               "duration": 0,
               "redraw": false
              },
              "fromcurrent": true,
              "mode": "immediate",
              "transition": {
               "duration": 0,
               "easing": "linear"
              }
             }
            ],
            "label": "2023-08-08",
            "method": "animate"
           },
           {
            "args": [
             [
              "2023-08-09"
             ],
             {
              "frame": {
               "duration": 0,
               "redraw": false
              },
              "fromcurrent": true,
              "mode": "immediate",
              "transition": {
               "duration": 0,
               "easing": "linear"
              }
             }
            ],
            "label": "2023-08-09",
            "method": "animate"
           },
           {
            "args": [
             [
              "2023-08-10"
             ],
             {
              "frame": {
               "duration": 0,
               "redraw": false
              },
              "fromcurrent": true,
              "mode": "immediate",
              "transition": {
               "duration": 0,
               "easing": "linear"
              }
             }
            ],
            "label": "2023-08-10",
            "method": "animate"
           },
           {
            "args": [
             [
              "2023-08-11"
             ],
             {
              "frame": {
               "duration": 0,
               "redraw": false
              },
              "fromcurrent": true,
              "mode": "immediate",
              "transition": {
               "duration": 0,
               "easing": "linear"
              }
             }
            ],
            "label": "2023-08-11",
            "method": "animate"
           },
           {
            "args": [
             [
              "2023-08-14"
             ],
             {
              "frame": {
               "duration": 0,
               "redraw": false
              },
              "fromcurrent": true,
              "mode": "immediate",
              "transition": {
               "duration": 0,
               "easing": "linear"
              }
             }
            ],
            "label": "2023-08-14",
            "method": "animate"
           },
           {
            "args": [
             [
              "2023-08-15"
             ],
             {
              "frame": {
               "duration": 0,
               "redraw": false
              },
              "fromcurrent": true,
              "mode": "immediate",
              "transition": {
               "duration": 0,
               "easing": "linear"
              }
             }
            ],
            "label": "2023-08-15",
            "method": "animate"
           },
           {
            "args": [
             [
              "2023-08-16"
             ],
             {
              "frame": {
               "duration": 0,
               "redraw": false
              },
              "fromcurrent": true,
              "mode": "immediate",
              "transition": {
               "duration": 0,
               "easing": "linear"
              }
             }
            ],
            "label": "2023-08-16",
            "method": "animate"
           },
           {
            "args": [
             [
              "2023-08-17"
             ],
             {
              "frame": {
               "duration": 0,
               "redraw": false
              },
              "fromcurrent": true,
              "mode": "immediate",
              "transition": {
               "duration": 0,
               "easing": "linear"
              }
             }
            ],
            "label": "2023-08-17",
            "method": "animate"
           },
           {
            "args": [
             [
              "2023-08-18"
             ],
             {
              "frame": {
               "duration": 0,
               "redraw": false
              },
              "fromcurrent": true,
              "mode": "immediate",
              "transition": {
               "duration": 0,
               "easing": "linear"
              }
             }
            ],
            "label": "2023-08-18",
            "method": "animate"
           },
           {
            "args": [
             [
              "2023-08-21"
             ],
             {
              "frame": {
               "duration": 0,
               "redraw": false
              },
              "fromcurrent": true,
              "mode": "immediate",
              "transition": {
               "duration": 0,
               "easing": "linear"
              }
             }
            ],
            "label": "2023-08-21",
            "method": "animate"
           },
           {
            "args": [
             [
              "2023-08-22"
             ],
             {
              "frame": {
               "duration": 0,
               "redraw": false
              },
              "fromcurrent": true,
              "mode": "immediate",
              "transition": {
               "duration": 0,
               "easing": "linear"
              }
             }
            ],
            "label": "2023-08-22",
            "method": "animate"
           },
           {
            "args": [
             [
              "2023-08-23"
             ],
             {
              "frame": {
               "duration": 0,
               "redraw": false
              },
              "fromcurrent": true,
              "mode": "immediate",
              "transition": {
               "duration": 0,
               "easing": "linear"
              }
             }
            ],
            "label": "2023-08-23",
            "method": "animate"
           },
           {
            "args": [
             [
              "2023-08-24"
             ],
             {
              "frame": {
               "duration": 0,
               "redraw": false
              },
              "fromcurrent": true,
              "mode": "immediate",
              "transition": {
               "duration": 0,
               "easing": "linear"
              }
             }
            ],
            "label": "2023-08-24",
            "method": "animate"
           },
           {
            "args": [
             [
              "2023-08-25"
             ],
             {
              "frame": {
               "duration": 0,
               "redraw": false
              },
              "fromcurrent": true,
              "mode": "immediate",
              "transition": {
               "duration": 0,
               "easing": "linear"
              }
             }
            ],
            "label": "2023-08-25",
            "method": "animate"
           },
           {
            "args": [
             [
              "2023-08-28"
             ],
             {
              "frame": {
               "duration": 0,
               "redraw": false
              },
              "fromcurrent": true,
              "mode": "immediate",
              "transition": {
               "duration": 0,
               "easing": "linear"
              }
             }
            ],
            "label": "2023-08-28",
            "method": "animate"
           },
           {
            "args": [
             [
              "2023-08-29"
             ],
             {
              "frame": {
               "duration": 0,
               "redraw": false
              },
              "fromcurrent": true,
              "mode": "immediate",
              "transition": {
               "duration": 0,
               "easing": "linear"
              }
             }
            ],
            "label": "2023-08-29",
            "method": "animate"
           },
           {
            "args": [
             [
              "2023-08-30"
             ],
             {
              "frame": {
               "duration": 0,
               "redraw": false
              },
              "fromcurrent": true,
              "mode": "immediate",
              "transition": {
               "duration": 0,
               "easing": "linear"
              }
             }
            ],
            "label": "2023-08-30",
            "method": "animate"
           },
           {
            "args": [
             [
              "2023-08-31"
             ],
             {
              "frame": {
               "duration": 0,
               "redraw": false
              },
              "fromcurrent": true,
              "mode": "immediate",
              "transition": {
               "duration": 0,
               "easing": "linear"
              }
             }
            ],
            "label": "2023-08-31",
            "method": "animate"
           },
           {
            "args": [
             [
              "2023-09-01"
             ],
             {
              "frame": {
               "duration": 0,
               "redraw": false
              },
              "fromcurrent": true,
              "mode": "immediate",
              "transition": {
               "duration": 0,
               "easing": "linear"
              }
             }
            ],
            "label": "2023-09-01",
            "method": "animate"
           },
           {
            "args": [
             [
              "2023-09-04"
             ],
             {
              "frame": {
               "duration": 0,
               "redraw": false
              },
              "fromcurrent": true,
              "mode": "immediate",
              "transition": {
               "duration": 0,
               "easing": "linear"
              }
             }
            ],
            "label": "2023-09-04",
            "method": "animate"
           },
           {
            "args": [
             [
              "2023-09-05"
             ],
             {
              "frame": {
               "duration": 0,
               "redraw": false
              },
              "fromcurrent": true,
              "mode": "immediate",
              "transition": {
               "duration": 0,
               "easing": "linear"
              }
             }
            ],
            "label": "2023-09-05",
            "method": "animate"
           },
           {
            "args": [
             [
              "2023-09-06"
             ],
             {
              "frame": {
               "duration": 0,
               "redraw": false
              },
              "fromcurrent": true,
              "mode": "immediate",
              "transition": {
               "duration": 0,
               "easing": "linear"
              }
             }
            ],
            "label": "2023-09-06",
            "method": "animate"
           },
           {
            "args": [
             [
              "2023-09-08"
             ],
             {
              "frame": {
               "duration": 0,
               "redraw": false
              },
              "fromcurrent": true,
              "mode": "immediate",
              "transition": {
               "duration": 0,
               "easing": "linear"
              }
             }
            ],
            "label": "2023-09-08",
            "method": "animate"
           },
           {
            "args": [
             [
              "2023-09-11"
             ],
             {
              "frame": {
               "duration": 0,
               "redraw": false
              },
              "fromcurrent": true,
              "mode": "immediate",
              "transition": {
               "duration": 0,
               "easing": "linear"
              }
             }
            ],
            "label": "2023-09-11",
            "method": "animate"
           },
           {
            "args": [
             [
              "2023-09-12"
             ],
             {
              "frame": {
               "duration": 0,
               "redraw": false
              },
              "fromcurrent": true,
              "mode": "immediate",
              "transition": {
               "duration": 0,
               "easing": "linear"
              }
             }
            ],
            "label": "2023-09-12",
            "method": "animate"
           },
           {
            "args": [
             [
              "2023-09-13"
             ],
             {
              "frame": {
               "duration": 0,
               "redraw": false
              },
              "fromcurrent": true,
              "mode": "immediate",
              "transition": {
               "duration": 0,
               "easing": "linear"
              }
             }
            ],
            "label": "2023-09-13",
            "method": "animate"
           },
           {
            "args": [
             [
              "2023-09-14"
             ],
             {
              "frame": {
               "duration": 0,
               "redraw": false
              },
              "fromcurrent": true,
              "mode": "immediate",
              "transition": {
               "duration": 0,
               "easing": "linear"
              }
             }
            ],
            "label": "2023-09-14",
            "method": "animate"
           },
           {
            "args": [
             [
              "2023-09-15"
             ],
             {
              "frame": {
               "duration": 0,
               "redraw": false
              },
              "fromcurrent": true,
              "mode": "immediate",
              "transition": {
               "duration": 0,
               "easing": "linear"
              }
             }
            ],
            "label": "2023-09-15",
            "method": "animate"
           },
           {
            "args": [
             [
              "2023-09-18"
             ],
             {
              "frame": {
               "duration": 0,
               "redraw": false
              },
              "fromcurrent": true,
              "mode": "immediate",
              "transition": {
               "duration": 0,
               "easing": "linear"
              }
             }
            ],
            "label": "2023-09-18",
            "method": "animate"
           },
           {
            "args": [
             [
              "2023-09-19"
             ],
             {
              "frame": {
               "duration": 0,
               "redraw": false
              },
              "fromcurrent": true,
              "mode": "immediate",
              "transition": {
               "duration": 0,
               "easing": "linear"
              }
             }
            ],
            "label": "2023-09-19",
            "method": "animate"
           },
           {
            "args": [
             [
              "2023-09-20"
             ],
             {
              "frame": {
               "duration": 0,
               "redraw": false
              },
              "fromcurrent": true,
              "mode": "immediate",
              "transition": {
               "duration": 0,
               "easing": "linear"
              }
             }
            ],
            "label": "2023-09-20",
            "method": "animate"
           },
           {
            "args": [
             [
              "2023-09-21"
             ],
             {
              "frame": {
               "duration": 0,
               "redraw": false
              },
              "fromcurrent": true,
              "mode": "immediate",
              "transition": {
               "duration": 0,
               "easing": "linear"
              }
             }
            ],
            "label": "2023-09-21",
            "method": "animate"
           },
           {
            "args": [
             [
              "2023-09-22"
             ],
             {
              "frame": {
               "duration": 0,
               "redraw": false
              },
              "fromcurrent": true,
              "mode": "immediate",
              "transition": {
               "duration": 0,
               "easing": "linear"
              }
             }
            ],
            "label": "2023-09-22",
            "method": "animate"
           },
           {
            "args": [
             [
              "2023-09-25"
             ],
             {
              "frame": {
               "duration": 0,
               "redraw": false
              },
              "fromcurrent": true,
              "mode": "immediate",
              "transition": {
               "duration": 0,
               "easing": "linear"
              }
             }
            ],
            "label": "2023-09-25",
            "method": "animate"
           },
           {
            "args": [
             [
              "2023-09-26"
             ],
             {
              "frame": {
               "duration": 0,
               "redraw": false
              },
              "fromcurrent": true,
              "mode": "immediate",
              "transition": {
               "duration": 0,
               "easing": "linear"
              }
             }
            ],
            "label": "2023-09-26",
            "method": "animate"
           },
           {
            "args": [
             [
              "2023-09-27"
             ],
             {
              "frame": {
               "duration": 0,
               "redraw": false
              },
              "fromcurrent": true,
              "mode": "immediate",
              "transition": {
               "duration": 0,
               "easing": "linear"
              }
             }
            ],
            "label": "2023-09-27",
            "method": "animate"
           },
           {
            "args": [
             [
              "2023-09-28"
             ],
             {
              "frame": {
               "duration": 0,
               "redraw": false
              },
              "fromcurrent": true,
              "mode": "immediate",
              "transition": {
               "duration": 0,
               "easing": "linear"
              }
             }
            ],
            "label": "2023-09-28",
            "method": "animate"
           },
           {
            "args": [
             [
              "2023-09-29"
             ],
             {
              "frame": {
               "duration": 0,
               "redraw": false
              },
              "fromcurrent": true,
              "mode": "immediate",
              "transition": {
               "duration": 0,
               "easing": "linear"
              }
             }
            ],
            "label": "2023-09-29",
            "method": "animate"
           },
           {
            "args": [
             [
              "2023-10-02"
             ],
             {
              "frame": {
               "duration": 0,
               "redraw": false
              },
              "fromcurrent": true,
              "mode": "immediate",
              "transition": {
               "duration": 0,
               "easing": "linear"
              }
             }
            ],
            "label": "2023-10-02",
            "method": "animate"
           },
           {
            "args": [
             [
              "2023-10-03"
             ],
             {
              "frame": {
               "duration": 0,
               "redraw": false
              },
              "fromcurrent": true,
              "mode": "immediate",
              "transition": {
               "duration": 0,
               "easing": "linear"
              }
             }
            ],
            "label": "2023-10-03",
            "method": "animate"
           },
           {
            "args": [
             [
              "2023-10-04"
             ],
             {
              "frame": {
               "duration": 0,
               "redraw": false
              },
              "fromcurrent": true,
              "mode": "immediate",
              "transition": {
               "duration": 0,
               "easing": "linear"
              }
             }
            ],
            "label": "2023-10-04",
            "method": "animate"
           },
           {
            "args": [
             [
              "2023-10-05"
             ],
             {
              "frame": {
               "duration": 0,
               "redraw": false
              },
              "fromcurrent": true,
              "mode": "immediate",
              "transition": {
               "duration": 0,
               "easing": "linear"
              }
             }
            ],
            "label": "2023-10-05",
            "method": "animate"
           },
           {
            "args": [
             [
              "2023-10-06"
             ],
             {
              "frame": {
               "duration": 0,
               "redraw": false
              },
              "fromcurrent": true,
              "mode": "immediate",
              "transition": {
               "duration": 0,
               "easing": "linear"
              }
             }
            ],
            "label": "2023-10-06",
            "method": "animate"
           },
           {
            "args": [
             [
              "2023-10-09"
             ],
             {
              "frame": {
               "duration": 0,
               "redraw": false
              },
              "fromcurrent": true,
              "mode": "immediate",
              "transition": {
               "duration": 0,
               "easing": "linear"
              }
             }
            ],
            "label": "2023-10-09",
            "method": "animate"
           },
           {
            "args": [
             [
              "2023-10-10"
             ],
             {
              "frame": {
               "duration": 0,
               "redraw": false
              },
              "fromcurrent": true,
              "mode": "immediate",
              "transition": {
               "duration": 0,
               "easing": "linear"
              }
             }
            ],
            "label": "2023-10-10",
            "method": "animate"
           },
           {
            "args": [
             [
              "2023-10-11"
             ],
             {
              "frame": {
               "duration": 0,
               "redraw": false
              },
              "fromcurrent": true,
              "mode": "immediate",
              "transition": {
               "duration": 0,
               "easing": "linear"
              }
             }
            ],
            "label": "2023-10-11",
            "method": "animate"
           },
           {
            "args": [
             [
              "2023-10-13"
             ],
             {
              "frame": {
               "duration": 0,
               "redraw": false
              },
              "fromcurrent": true,
              "mode": "immediate",
              "transition": {
               "duration": 0,
               "easing": "linear"
              }
             }
            ],
            "label": "2023-10-13",
            "method": "animate"
           },
           {
            "args": [
             [
              "2023-10-16"
             ],
             {
              "frame": {
               "duration": 0,
               "redraw": false
              },
              "fromcurrent": true,
              "mode": "immediate",
              "transition": {
               "duration": 0,
               "easing": "linear"
              }
             }
            ],
            "label": "2023-10-16",
            "method": "animate"
           },
           {
            "args": [
             [
              "2023-10-17"
             ],
             {
              "frame": {
               "duration": 0,
               "redraw": false
              },
              "fromcurrent": true,
              "mode": "immediate",
              "transition": {
               "duration": 0,
               "easing": "linear"
              }
             }
            ],
            "label": "2023-10-17",
            "method": "animate"
           },
           {
            "args": [
             [
              "2023-10-18"
             ],
             {
              "frame": {
               "duration": 0,
               "redraw": false
              },
              "fromcurrent": true,
              "mode": "immediate",
              "transition": {
               "duration": 0,
               "easing": "linear"
              }
             }
            ],
            "label": "2023-10-18",
            "method": "animate"
           },
           {
            "args": [
             [
              "2023-10-19"
             ],
             {
              "frame": {
               "duration": 0,
               "redraw": false
              },
              "fromcurrent": true,
              "mode": "immediate",
              "transition": {
               "duration": 0,
               "easing": "linear"
              }
             }
            ],
            "label": "2023-10-19",
            "method": "animate"
           },
           {
            "args": [
             [
              "2023-10-20"
             ],
             {
              "frame": {
               "duration": 0,
               "redraw": false
              },
              "fromcurrent": true,
              "mode": "immediate",
              "transition": {
               "duration": 0,
               "easing": "linear"
              }
             }
            ],
            "label": "2023-10-20",
            "method": "animate"
           },
           {
            "args": [
             [
              "2023-10-23"
             ],
             {
              "frame": {
               "duration": 0,
               "redraw": false
              },
              "fromcurrent": true,
              "mode": "immediate",
              "transition": {
               "duration": 0,
               "easing": "linear"
              }
             }
            ],
            "label": "2023-10-23",
            "method": "animate"
           },
           {
            "args": [
             [
              "2023-10-24"
             ],
             {
              "frame": {
               "duration": 0,
               "redraw": false
              },
              "fromcurrent": true,
              "mode": "immediate",
              "transition": {
               "duration": 0,
               "easing": "linear"
              }
             }
            ],
            "label": "2023-10-24",
            "method": "animate"
           },
           {
            "args": [
             [
              "2023-10-25"
             ],
             {
              "frame": {
               "duration": 0,
               "redraw": false
              },
              "fromcurrent": true,
              "mode": "immediate",
              "transition": {
               "duration": 0,
               "easing": "linear"
              }
             }
            ],
            "label": "2023-10-25",
            "method": "animate"
           },
           {
            "args": [
             [
              "2023-10-26"
             ],
             {
              "frame": {
               "duration": 0,
               "redraw": false
              },
              "fromcurrent": true,
              "mode": "immediate",
              "transition": {
               "duration": 0,
               "easing": "linear"
              }
             }
            ],
            "label": "2023-10-26",
            "method": "animate"
           },
           {
            "args": [
             [
              "2023-10-27"
             ],
             {
              "frame": {
               "duration": 0,
               "redraw": false
              },
              "fromcurrent": true,
              "mode": "immediate",
              "transition": {
               "duration": 0,
               "easing": "linear"
              }
             }
            ],
            "label": "2023-10-27",
            "method": "animate"
           },
           {
            "args": [
             [
              "2023-10-30"
             ],
             {
              "frame": {
               "duration": 0,
               "redraw": false
              },
              "fromcurrent": true,
              "mode": "immediate",
              "transition": {
               "duration": 0,
               "easing": "linear"
              }
             }
            ],
            "label": "2023-10-30",
            "method": "animate"
           },
           {
            "args": [
             [
              "2023-10-31"
             ],
             {
              "frame": {
               "duration": 0,
               "redraw": false
              },
              "fromcurrent": true,
              "mode": "immediate",
              "transition": {
               "duration": 0,
               "easing": "linear"
              }
             }
            ],
            "label": "2023-10-31",
            "method": "animate"
           },
           {
            "args": [
             [
              "2023-11-01"
             ],
             {
              "frame": {
               "duration": 0,
               "redraw": false
              },
              "fromcurrent": true,
              "mode": "immediate",
              "transition": {
               "duration": 0,
               "easing": "linear"
              }
             }
            ],
            "label": "2023-11-01",
            "method": "animate"
           },
           {
            "args": [
             [
              "2023-11-03"
             ],
             {
              "frame": {
               "duration": 0,
               "redraw": false
              },
              "fromcurrent": true,
              "mode": "immediate",
              "transition": {
               "duration": 0,
               "easing": "linear"
              }
             }
            ],
            "label": "2023-11-03",
            "method": "animate"
           },
           {
            "args": [
             [
              "2023-11-06"
             ],
             {
              "frame": {
               "duration": 0,
               "redraw": false
              },
              "fromcurrent": true,
              "mode": "immediate",
              "transition": {
               "duration": 0,
               "easing": "linear"
              }
             }
            ],
            "label": "2023-11-06",
            "method": "animate"
           },
           {
            "args": [
             [
              "2023-11-07"
             ],
             {
              "frame": {
               "duration": 0,
               "redraw": false
              },
              "fromcurrent": true,
              "mode": "immediate",
              "transition": {
               "duration": 0,
               "easing": "linear"
              }
             }
            ],
            "label": "2023-11-07",
            "method": "animate"
           },
           {
            "args": [
             [
              "2023-11-08"
             ],
             {
              "frame": {
               "duration": 0,
               "redraw": false
              },
              "fromcurrent": true,
              "mode": "immediate",
              "transition": {
               "duration": 0,
               "easing": "linear"
              }
             }
            ],
            "label": "2023-11-08",
            "method": "animate"
           },
           {
            "args": [
             [
              "2023-11-09"
             ],
             {
              "frame": {
               "duration": 0,
               "redraw": false
              },
              "fromcurrent": true,
              "mode": "immediate",
              "transition": {
               "duration": 0,
               "easing": "linear"
              }
             }
            ],
            "label": "2023-11-09",
            "method": "animate"
           },
           {
            "args": [
             [
              "2023-11-10"
             ],
             {
              "frame": {
               "duration": 0,
               "redraw": false
              },
              "fromcurrent": true,
              "mode": "immediate",
              "transition": {
               "duration": 0,
               "easing": "linear"
              }
             }
            ],
            "label": "2023-11-10",
            "method": "animate"
           },
           {
            "args": [
             [
              "2023-11-13"
             ],
             {
              "frame": {
               "duration": 0,
               "redraw": false
              },
              "fromcurrent": true,
              "mode": "immediate",
              "transition": {
               "duration": 0,
               "easing": "linear"
              }
             }
            ],
            "label": "2023-11-13",
            "method": "animate"
           },
           {
            "args": [
             [
              "2023-11-14"
             ],
             {
              "frame": {
               "duration": 0,
               "redraw": false
              },
              "fromcurrent": true,
              "mode": "immediate",
              "transition": {
               "duration": 0,
               "easing": "linear"
              }
             }
            ],
            "label": "2023-11-14",
            "method": "animate"
           },
           {
            "args": [
             [
              "2023-11-16"
             ],
             {
              "frame": {
               "duration": 0,
               "redraw": false
              },
              "fromcurrent": true,
              "mode": "immediate",
              "transition": {
               "duration": 0,
               "easing": "linear"
              }
             }
            ],
            "label": "2023-11-16",
            "method": "animate"
           },
           {
            "args": [
             [
              "2023-11-17"
             ],
             {
              "frame": {
               "duration": 0,
               "redraw": false
              },
              "fromcurrent": true,
              "mode": "immediate",
              "transition": {
               "duration": 0,
               "easing": "linear"
              }
             }
            ],
            "label": "2023-11-17",
            "method": "animate"
           },
           {
            "args": [
             [
              "2023-11-20"
             ],
             {
              "frame": {
               "duration": 0,
               "redraw": false
              },
              "fromcurrent": true,
              "mode": "immediate",
              "transition": {
               "duration": 0,
               "easing": "linear"
              }
             }
            ],
            "label": "2023-11-20",
            "method": "animate"
           },
           {
            "args": [
             [
              "2023-11-21"
             ],
             {
              "frame": {
               "duration": 0,
               "redraw": false
              },
              "fromcurrent": true,
              "mode": "immediate",
              "transition": {
               "duration": 0,
               "easing": "linear"
              }
             }
            ],
            "label": "2023-11-21",
            "method": "animate"
           },
           {
            "args": [
             [
              "2023-11-22"
             ],
             {
              "frame": {
               "duration": 0,
               "redraw": false
              },
              "fromcurrent": true,
              "mode": "immediate",
              "transition": {
               "duration": 0,
               "easing": "linear"
              }
             }
            ],
            "label": "2023-11-22",
            "method": "animate"
           },
           {
            "args": [
             [
              "2023-11-23"
             ],
             {
              "frame": {
               "duration": 0,
               "redraw": false
              },
              "fromcurrent": true,
              "mode": "immediate",
              "transition": {
               "duration": 0,
               "easing": "linear"
              }
             }
            ],
            "label": "2023-11-23",
            "method": "animate"
           },
           {
            "args": [
             [
              "2023-11-24"
             ],
             {
              "frame": {
               "duration": 0,
               "redraw": false
              },
              "fromcurrent": true,
              "mode": "immediate",
              "transition": {
               "duration": 0,
               "easing": "linear"
              }
             }
            ],
            "label": "2023-11-24",
            "method": "animate"
           },
           {
            "args": [
             [
              "2023-11-27"
             ],
             {
              "frame": {
               "duration": 0,
               "redraw": false
              },
              "fromcurrent": true,
              "mode": "immediate",
              "transition": {
               "duration": 0,
               "easing": "linear"
              }
             }
            ],
            "label": "2023-11-27",
            "method": "animate"
           },
           {
            "args": [
             [
              "2023-11-28"
             ],
             {
              "frame": {
               "duration": 0,
               "redraw": false
              },
              "fromcurrent": true,
              "mode": "immediate",
              "transition": {
               "duration": 0,
               "easing": "linear"
              }
             }
            ],
            "label": "2023-11-28",
            "method": "animate"
           },
           {
            "args": [
             [
              "2023-11-29"
             ],
             {
              "frame": {
               "duration": 0,
               "redraw": false
              },
              "fromcurrent": true,
              "mode": "immediate",
              "transition": {
               "duration": 0,
               "easing": "linear"
              }
             }
            ],
            "label": "2023-11-29",
            "method": "animate"
           },
           {
            "args": [
             [
              "2023-11-30"
             ],
             {
              "frame": {
               "duration": 0,
               "redraw": false
              },
              "fromcurrent": true,
              "mode": "immediate",
              "transition": {
               "duration": 0,
               "easing": "linear"
              }
             }
            ],
            "label": "2023-11-30",
            "method": "animate"
           },
           {
            "args": [
             [
              "2023-12-01"
             ],
             {
              "frame": {
               "duration": 0,
               "redraw": false
              },
              "fromcurrent": true,
              "mode": "immediate",
              "transition": {
               "duration": 0,
               "easing": "linear"
              }
             }
            ],
            "label": "2023-12-01",
            "method": "animate"
           },
           {
            "args": [
             [
              "2023-12-04"
             ],
             {
              "frame": {
               "duration": 0,
               "redraw": false
              },
              "fromcurrent": true,
              "mode": "immediate",
              "transition": {
               "duration": 0,
               "easing": "linear"
              }
             }
            ],
            "label": "2023-12-04",
            "method": "animate"
           },
           {
            "args": [
             [
              "2023-12-05"
             ],
             {
              "frame": {
               "duration": 0,
               "redraw": false
              },
              "fromcurrent": true,
              "mode": "immediate",
              "transition": {
               "duration": 0,
               "easing": "linear"
              }
             }
            ],
            "label": "2023-12-05",
            "method": "animate"
           },
           {
            "args": [
             [
              "2023-12-06"
             ],
             {
              "frame": {
               "duration": 0,
               "redraw": false
              },
              "fromcurrent": true,
              "mode": "immediate",
              "transition": {
               "duration": 0,
               "easing": "linear"
              }
             }
            ],
            "label": "2023-12-06",
            "method": "animate"
           },
           {
            "args": [
             [
              "2023-12-07"
             ],
             {
              "frame": {
               "duration": 0,
               "redraw": false
              },
              "fromcurrent": true,
              "mode": "immediate",
              "transition": {
               "duration": 0,
               "easing": "linear"
              }
             }
            ],
            "label": "2023-12-07",
            "method": "animate"
           },
           {
            "args": [
             [
              "2023-12-08"
             ],
             {
              "frame": {
               "duration": 0,
               "redraw": false
              },
              "fromcurrent": true,
              "mode": "immediate",
              "transition": {
               "duration": 0,
               "easing": "linear"
              }
             }
            ],
            "label": "2023-12-08",
            "method": "animate"
           },
           {
            "args": [
             [
              "2023-12-11"
             ],
             {
              "frame": {
               "duration": 0,
               "redraw": false
              },
              "fromcurrent": true,
              "mode": "immediate",
              "transition": {
               "duration": 0,
               "easing": "linear"
              }
             }
            ],
            "label": "2023-12-11",
            "method": "animate"
           },
           {
            "args": [
             [
              "2023-12-12"
             ],
             {
              "frame": {
               "duration": 0,
               "redraw": false
              },
              "fromcurrent": true,
              "mode": "immediate",
              "transition": {
               "duration": 0,
               "easing": "linear"
              }
             }
            ],
            "label": "2023-12-12",
            "method": "animate"
           },
           {
            "args": [
             [
              "2023-12-13"
             ],
             {
              "frame": {
               "duration": 0,
               "redraw": false
              },
              "fromcurrent": true,
              "mode": "immediate",
              "transition": {
               "duration": 0,
               "easing": "linear"
              }
             }
            ],
            "label": "2023-12-13",
            "method": "animate"
           },
           {
            "args": [
             [
              "2023-12-14"
             ],
             {
              "frame": {
               "duration": 0,
               "redraw": false
              },
              "fromcurrent": true,
              "mode": "immediate",
              "transition": {
               "duration": 0,
               "easing": "linear"
              }
             }
            ],
            "label": "2023-12-14",
            "method": "animate"
           },
           {
            "args": [
             [
              "2023-12-15"
             ],
             {
              "frame": {
               "duration": 0,
               "redraw": false
              },
              "fromcurrent": true,
              "mode": "immediate",
              "transition": {
               "duration": 0,
               "easing": "linear"
              }
             }
            ],
            "label": "2023-12-15",
            "method": "animate"
           },
           {
            "args": [
             [
              "2023-12-18"
             ],
             {
              "frame": {
               "duration": 0,
               "redraw": false
              },
              "fromcurrent": true,
              "mode": "immediate",
              "transition": {
               "duration": 0,
               "easing": "linear"
              }
             }
            ],
            "label": "2023-12-18",
            "method": "animate"
           },
           {
            "args": [
             [
              "2023-12-19"
             ],
             {
              "frame": {
               "duration": 0,
               "redraw": false
              },
              "fromcurrent": true,
              "mode": "immediate",
              "transition": {
               "duration": 0,
               "easing": "linear"
              }
             }
            ],
            "label": "2023-12-19",
            "method": "animate"
           },
           {
            "args": [
             [
              "2023-12-20"
             ],
             {
              "frame": {
               "duration": 0,
               "redraw": false
              },
              "fromcurrent": true,
              "mode": "immediate",
              "transition": {
               "duration": 0,
               "easing": "linear"
              }
             }
            ],
            "label": "2023-12-20",
            "method": "animate"
           },
           {
            "args": [
             [
              "2023-12-21"
             ],
             {
              "frame": {
               "duration": 0,
               "redraw": false
              },
              "fromcurrent": true,
              "mode": "immediate",
              "transition": {
               "duration": 0,
               "easing": "linear"
              }
             }
            ],
            "label": "2023-12-21",
            "method": "animate"
           },
           {
            "args": [
             [
              "2023-12-22"
             ],
             {
              "frame": {
               "duration": 0,
               "redraw": false
              },
              "fromcurrent": true,
              "mode": "immediate",
              "transition": {
               "duration": 0,
               "easing": "linear"
              }
             }
            ],
            "label": "2023-12-22",
            "method": "animate"
           },
           {
            "args": [
             [
              "2023-12-26"
             ],
             {
              "frame": {
               "duration": 0,
               "redraw": false
              },
              "fromcurrent": true,
              "mode": "immediate",
              "transition": {
               "duration": 0,
               "easing": "linear"
              }
             }
            ],
            "label": "2023-12-26",
            "method": "animate"
           },
           {
            "args": [
             [
              "2023-12-27"
             ],
             {
              "frame": {
               "duration": 0,
               "redraw": false
              },
              "fromcurrent": true,
              "mode": "immediate",
              "transition": {
               "duration": 0,
               "easing": "linear"
              }
             }
            ],
            "label": "2023-12-27",
            "method": "animate"
           },
           {
            "args": [
             [
              "2023-12-28"
             ],
             {
              "frame": {
               "duration": 0,
               "redraw": false
              },
              "fromcurrent": true,
              "mode": "immediate",
              "transition": {
               "duration": 0,
               "easing": "linear"
              }
             }
            ],
            "label": "2023-12-28",
            "method": "animate"
           }
          ],
          "x": 0.1,
          "xanchor": "left",
          "y": 0,
          "yanchor": "top"
         }
        ],
        "template": {
         "data": {
          "bar": [
           {
            "error_x": {
             "color": "#f2f5fa"
            },
            "error_y": {
             "color": "#f2f5fa"
            },
            "marker": {
             "line": {
              "color": "rgb(17,17,17)",
              "width": 0.5
             },
             "pattern": {
              "fillmode": "overlay",
              "size": 10,
              "solidity": 0.2
             }
            },
            "type": "bar"
           }
          ],
          "barpolar": [
           {
            "marker": {
             "line": {
              "color": "rgb(17,17,17)",
              "width": 0.5
             },
             "pattern": {
              "fillmode": "overlay",
              "size": 10,
              "solidity": 0.2
             }
            },
            "type": "barpolar"
           }
          ],
          "carpet": [
           {
            "aaxis": {
             "endlinecolor": "#A2B1C6",
             "gridcolor": "#506784",
             "linecolor": "#506784",
             "minorgridcolor": "#506784",
             "startlinecolor": "#A2B1C6"
            },
            "baxis": {
             "endlinecolor": "#A2B1C6",
             "gridcolor": "#506784",
             "linecolor": "#506784",
             "minorgridcolor": "#506784",
             "startlinecolor": "#A2B1C6"
            },
            "type": "carpet"
           }
          ],
          "choropleth": [
           {
            "colorbar": {
             "outlinewidth": 0,
             "ticks": ""
            },
            "type": "choropleth"
           }
          ],
          "contour": [
           {
            "colorbar": {
             "outlinewidth": 0,
             "ticks": ""
            },
            "colorscale": [
             [
              0,
              "#0d0887"
             ],
             [
              0.1111111111111111,
              "#46039f"
             ],
             [
              0.2222222222222222,
              "#7201a8"
             ],
             [
              0.3333333333333333,
              "#9c179e"
             ],
             [
              0.4444444444444444,
              "#bd3786"
             ],
             [
              0.5555555555555556,
              "#d8576b"
             ],
             [
              0.6666666666666666,
              "#ed7953"
             ],
             [
              0.7777777777777778,
              "#fb9f3a"
             ],
             [
              0.8888888888888888,
              "#fdca26"
             ],
             [
              1,
              "#f0f921"
             ]
            ],
            "type": "contour"
           }
          ],
          "contourcarpet": [
           {
            "colorbar": {
             "outlinewidth": 0,
             "ticks": ""
            },
            "type": "contourcarpet"
           }
          ],
          "heatmap": [
           {
            "colorbar": {
             "outlinewidth": 0,
             "ticks": ""
            },
            "colorscale": [
             [
              0,
              "#0d0887"
             ],
             [
              0.1111111111111111,
              "#46039f"
             ],
             [
              0.2222222222222222,
              "#7201a8"
             ],
             [
              0.3333333333333333,
              "#9c179e"
             ],
             [
              0.4444444444444444,
              "#bd3786"
             ],
             [
              0.5555555555555556,
              "#d8576b"
             ],
             [
              0.6666666666666666,
              "#ed7953"
             ],
             [
              0.7777777777777778,
              "#fb9f3a"
             ],
             [
              0.8888888888888888,
              "#fdca26"
             ],
             [
              1,
              "#f0f921"
             ]
            ],
            "type": "heatmap"
           }
          ],
          "heatmapgl": [
           {
            "colorbar": {
             "outlinewidth": 0,
             "ticks": ""
            },
            "colorscale": [
             [
              0,
              "#0d0887"
             ],
             [
              0.1111111111111111,
              "#46039f"
             ],
             [
              0.2222222222222222,
              "#7201a8"
             ],
             [
              0.3333333333333333,
              "#9c179e"
             ],
             [
              0.4444444444444444,
              "#bd3786"
             ],
             [
              0.5555555555555556,
              "#d8576b"
             ],
             [
              0.6666666666666666,
              "#ed7953"
             ],
             [
              0.7777777777777778,
              "#fb9f3a"
             ],
             [
              0.8888888888888888,
              "#fdca26"
             ],
             [
              1,
              "#f0f921"
             ]
            ],
            "type": "heatmapgl"
           }
          ],
          "histogram": [
           {
            "marker": {
             "pattern": {
              "fillmode": "overlay",
              "size": 10,
              "solidity": 0.2
             }
            },
            "type": "histogram"
           }
          ],
          "histogram2d": [
           {
            "colorbar": {
             "outlinewidth": 0,
             "ticks": ""
            },
            "colorscale": [
             [
              0,
              "#0d0887"
             ],
             [
              0.1111111111111111,
              "#46039f"
             ],
             [
              0.2222222222222222,
              "#7201a8"
             ],
             [
              0.3333333333333333,
              "#9c179e"
             ],
             [
              0.4444444444444444,
              "#bd3786"
             ],
             [
              0.5555555555555556,
              "#d8576b"
             ],
             [
              0.6666666666666666,
              "#ed7953"
             ],
             [
              0.7777777777777778,
              "#fb9f3a"
             ],
             [
              0.8888888888888888,
              "#fdca26"
             ],
             [
              1,
              "#f0f921"
             ]
            ],
            "type": "histogram2d"
           }
          ],
          "histogram2dcontour": [
           {
            "colorbar": {
             "outlinewidth": 0,
             "ticks": ""
            },
            "colorscale": [
             [
              0,
              "#0d0887"
             ],
             [
              0.1111111111111111,
              "#46039f"
             ],
             [
              0.2222222222222222,
              "#7201a8"
             ],
             [
              0.3333333333333333,
              "#9c179e"
             ],
             [
              0.4444444444444444,
              "#bd3786"
             ],
             [
              0.5555555555555556,
              "#d8576b"
             ],
             [
              0.6666666666666666,
              "#ed7953"
             ],
             [
              0.7777777777777778,
              "#fb9f3a"
             ],
             [
              0.8888888888888888,
              "#fdca26"
             ],
             [
              1,
              "#f0f921"
             ]
            ],
            "type": "histogram2dcontour"
           }
          ],
          "mesh3d": [
           {
            "colorbar": {
             "outlinewidth": 0,
             "ticks": ""
            },
            "type": "mesh3d"
           }
          ],
          "parcoords": [
           {
            "line": {
             "colorbar": {
              "outlinewidth": 0,
              "ticks": ""
             }
            },
            "type": "parcoords"
           }
          ],
          "pie": [
           {
            "automargin": true,
            "type": "pie"
           }
          ],
          "scatter": [
           {
            "marker": {
             "line": {
              "color": "#283442"
             }
            },
            "type": "scatter"
           }
          ],
          "scatter3d": [
           {
            "line": {
             "colorbar": {
              "outlinewidth": 0,
              "ticks": ""
             }
            },
            "marker": {
             "colorbar": {
              "outlinewidth": 0,
              "ticks": ""
             }
            },
            "type": "scatter3d"
           }
          ],
          "scattercarpet": [
           {
            "marker": {
             "colorbar": {
              "outlinewidth": 0,
              "ticks": ""
             }
            },
            "type": "scattercarpet"
           }
          ],
          "scattergeo": [
           {
            "marker": {
             "colorbar": {
              "outlinewidth": 0,
              "ticks": ""
             }
            },
            "type": "scattergeo"
           }
          ],
          "scattergl": [
           {
            "marker": {
             "line": {
              "color": "#283442"
             }
            },
            "type": "scattergl"
           }
          ],
          "scattermapbox": [
           {
            "marker": {
             "colorbar": {
              "outlinewidth": 0,
              "ticks": ""
             }
            },
            "type": "scattermapbox"
           }
          ],
          "scatterpolar": [
           {
            "marker": {
             "colorbar": {
              "outlinewidth": 0,
              "ticks": ""
             }
            },
            "type": "scatterpolar"
           }
          ],
          "scatterpolargl": [
           {
            "marker": {
             "colorbar": {
              "outlinewidth": 0,
              "ticks": ""
             }
            },
            "type": "scatterpolargl"
           }
          ],
          "scatterternary": [
           {
            "marker": {
             "colorbar": {
              "outlinewidth": 0,
              "ticks": ""
             }
            },
            "type": "scatterternary"
           }
          ],
          "surface": [
           {
            "colorbar": {
             "outlinewidth": 0,
             "ticks": ""
            },
            "colorscale": [
             [
              0,
              "#0d0887"
             ],
             [
              0.1111111111111111,
              "#46039f"
             ],
             [
              0.2222222222222222,
              "#7201a8"
             ],
             [
              0.3333333333333333,
              "#9c179e"
             ],
             [
              0.4444444444444444,
              "#bd3786"
             ],
             [
              0.5555555555555556,
              "#d8576b"
             ],
             [
              0.6666666666666666,
              "#ed7953"
             ],
             [
              0.7777777777777778,
              "#fb9f3a"
             ],
             [
              0.8888888888888888,
              "#fdca26"
             ],
             [
              1,
              "#f0f921"
             ]
            ],
            "type": "surface"
           }
          ],
          "table": [
           {
            "cells": {
             "fill": {
              "color": "#506784"
             },
             "line": {
              "color": "rgb(17,17,17)"
             }
            },
            "header": {
             "fill": {
              "color": "#2a3f5f"
             },
             "line": {
              "color": "rgb(17,17,17)"
             }
            },
            "type": "table"
           }
          ]
         },
         "layout": {
          "annotationdefaults": {
           "arrowcolor": "#f2f5fa",
           "arrowhead": 0,
           "arrowwidth": 1
          },
          "autotypenumbers": "strict",
          "coloraxis": {
           "colorbar": {
            "outlinewidth": 0,
            "ticks": ""
           }
          },
          "colorscale": {
           "diverging": [
            [
             0,
             "#8e0152"
            ],
            [
             0.1,
             "#c51b7d"
            ],
            [
             0.2,
             "#de77ae"
            ],
            [
             0.3,
             "#f1b6da"
            ],
            [
             0.4,
             "#fde0ef"
            ],
            [
             0.5,
             "#f7f7f7"
            ],
            [
             0.6,
             "#e6f5d0"
            ],
            [
             0.7,
             "#b8e186"
            ],
            [
             0.8,
             "#7fbc41"
            ],
            [
             0.9,
             "#4d9221"
            ],
            [
             1,
             "#276419"
            ]
           ],
           "sequential": [
            [
             0,
             "#0d0887"
            ],
            [
             0.1111111111111111,
             "#46039f"
            ],
            [
             0.2222222222222222,
             "#7201a8"
            ],
            [
             0.3333333333333333,
             "#9c179e"
            ],
            [
             0.4444444444444444,
             "#bd3786"
            ],
            [
             0.5555555555555556,
             "#d8576b"
            ],
            [
             0.6666666666666666,
             "#ed7953"
            ],
            [
             0.7777777777777778,
             "#fb9f3a"
            ],
            [
             0.8888888888888888,
             "#fdca26"
            ],
            [
             1,
             "#f0f921"
            ]
           ],
           "sequentialminus": [
            [
             0,
             "#0d0887"
            ],
            [
             0.1111111111111111,
             "#46039f"
            ],
            [
             0.2222222222222222,
             "#7201a8"
            ],
            [
             0.3333333333333333,
             "#9c179e"
            ],
            [
             0.4444444444444444,
             "#bd3786"
            ],
            [
             0.5555555555555556,
             "#d8576b"
            ],
            [
             0.6666666666666666,
             "#ed7953"
            ],
            [
             0.7777777777777778,
             "#fb9f3a"
            ],
            [
             0.8888888888888888,
             "#fdca26"
            ],
            [
             1,
             "#f0f921"
            ]
           ]
          },
          "colorway": [
           "#636efa",
           "#EF553B",
           "#00cc96",
           "#ab63fa",
           "#FFA15A",
           "#19d3f3",
           "#FF6692",
           "#B6E880",
           "#FF97FF",
           "#FECB52"
          ],
          "font": {
           "color": "#f2f5fa"
          },
          "geo": {
           "bgcolor": "rgb(17,17,17)",
           "lakecolor": "rgb(17,17,17)",
           "landcolor": "rgb(17,17,17)",
           "showlakes": true,
           "showland": true,
           "subunitcolor": "#506784"
          },
          "hoverlabel": {
           "align": "left"
          },
          "hovermode": "closest",
          "mapbox": {
           "style": "dark"
          },
          "paper_bgcolor": "rgb(17,17,17)",
          "plot_bgcolor": "rgb(17,17,17)",
          "polar": {
           "angularaxis": {
            "gridcolor": "#506784",
            "linecolor": "#506784",
            "ticks": ""
           },
           "bgcolor": "rgb(17,17,17)",
           "radialaxis": {
            "gridcolor": "#506784",
            "linecolor": "#506784",
            "ticks": ""
           }
          },
          "scene": {
           "xaxis": {
            "backgroundcolor": "rgb(17,17,17)",
            "gridcolor": "#506784",
            "gridwidth": 2,
            "linecolor": "#506784",
            "showbackground": true,
            "ticks": "",
            "zerolinecolor": "#C8D4E3"
           },
           "yaxis": {
            "backgroundcolor": "rgb(17,17,17)",
            "gridcolor": "#506784",
            "gridwidth": 2,
            "linecolor": "#506784",
            "showbackground": true,
            "ticks": "",
            "zerolinecolor": "#C8D4E3"
           },
           "zaxis": {
            "backgroundcolor": "rgb(17,17,17)",
            "gridcolor": "#506784",
            "gridwidth": 2,
            "linecolor": "#506784",
            "showbackground": true,
            "ticks": "",
            "zerolinecolor": "#C8D4E3"
           }
          },
          "shapedefaults": {
           "line": {
            "color": "#f2f5fa"
           }
          },
          "sliderdefaults": {
           "bgcolor": "#C8D4E3",
           "bordercolor": "rgb(17,17,17)",
           "borderwidth": 1,
           "tickwidth": 0
          },
          "ternary": {
           "aaxis": {
            "gridcolor": "#506784",
            "linecolor": "#506784",
            "ticks": ""
           },
           "baxis": {
            "gridcolor": "#506784",
            "linecolor": "#506784",
            "ticks": ""
           },
           "bgcolor": "rgb(17,17,17)",
           "caxis": {
            "gridcolor": "#506784",
            "linecolor": "#506784",
            "ticks": ""
           }
          },
          "title": {
           "x": 0.05
          },
          "updatemenudefaults": {
           "bgcolor": "#506784",
           "borderwidth": 0
          },
          "xaxis": {
           "automargin": true,
           "gridcolor": "#283442",
           "linecolor": "#506784",
           "ticks": "",
           "title": {
            "standoff": 15
           },
           "zerolinecolor": "#283442",
           "zerolinewidth": 2
          },
          "yaxis": {
           "automargin": true,
           "gridcolor": "#283442",
           "linecolor": "#506784",
           "ticks": "",
           "title": {
            "standoff": 15
           },
           "zerolinecolor": "#283442",
           "zerolinewidth": 2
          }
         }
        },
        "title": {
         "text": "Relative Rotation Graph (RRG) for PETR4.SA"
        },
        "transition": {
         "duration": 500
        },
        "updatemenus": [
         {
          "buttons": [
           {
            "args": [
             null,
             {
              "frame": {
               "duration": 500,
               "redraw": false
              },
              "fromcurrent": true,
              "mode": "immediate",
              "transition": {
               "duration": 500,
               "easing": "linear"
              }
             }
            ],
            "label": "&#9654;",
            "method": "animate"
           },
           {
            "args": [
             [
              null
             ],
             {
              "frame": {
               "duration": 0,
               "redraw": false
              },
              "fromcurrent": true,
              "mode": "immediate",
              "transition": {
               "duration": 0,
               "easing": "linear"
              }
             }
            ],
            "label": "&#9724;",
            "method": "animate"
           }
          ],
          "direction": "left",
          "pad": {
           "r": 10,
           "t": 70
          },
          "showactive": false,
          "type": "buttons",
          "x": 0.1,
          "xanchor": "right",
          "y": 0,
          "yanchor": "top"
         }
        ],
        "width": 1000,
        "xaxis": {
         "anchor": "y",
         "domain": [
          0,
          1
         ],
         "range": [
          -0.010971337010566573,
          0.01601109021234284
         ],
         "title": {
          "text": "Relative Strength"
         }
        },
        "yaxis": {
         "anchor": "x",
         "domain": [
          0,
          1
         ],
         "range": [
          -0.007879052890029726,
          0.006232613029758194
         ],
         "title": {
          "text": "Momentum"
         }
        }
       }
      }
     },
     "metadata": {},
     "output_type": "display_data"
    }
   ],
   "source": [
    "import yfinance as yf\n",
    "import pandas as pd\n",
    "import plotly.express as px\n",
    "\n",
    "# Definindo o período de análise\n",
    "start_date = \"2023-01-01\"\n",
    "end_date = \"2024-01-01\"\n",
    "\n",
    "# Solicitando o ticker de referência\n",
    "ticker = str(input('\\nDigite o ticker Referência: ') + \".SA\").upper()\n",
    "\n",
    "# Baixando dados do ativo e do IBOV\n",
    "df0 = yf.download(ticker, start=start_date, end=end_date)\n",
    "df1 = yf.download(\"^BVSP\", start=start_date, end=end_date)\n",
    "\n",
    "# Calculando o retorno diário\n",
    "df0['Return'] = df0['Close'].pct_change()\n",
    "df1['Return'] = df1['Close'].pct_change()\n",
    "\n",
    "# Calculando a força relativa\n",
    "df0['RS'] = df0['Return'].rolling(window=10).mean() - df1['Return'].rolling(window=10).mean()\n",
    "\n",
    "# Calculando o momentum da força relativa\n",
    "df0['Momentum'] = df0['RS'].diff()\n",
    "\n",
    "# Criando DataFrame para plotagem e removendo NaN\n",
    "data = pd.DataFrame({\n",
    "    'Date': df0.index,\n",
    "    'RS': df0['RS'],\n",
    "    'Momentum': df0['Momentum']\n",
    "}).dropna()\n",
    "\n",
    "# Convertendo a coluna de datas para string\n",
    "data['Date'] = data['Date'].dt.strftime('%Y-%m-%d')\n",
    "\n",
    "# Criando o gráfico interativo com plotly\n",
    "fig = px.scatter(\n",
    "    data,\n",
    "    x='RS',\n",
    "    y='Momentum',\n",
    "    animation_frame='Date',\n",
    "    range_x=[data['RS'].min(), data['RS'].max()],\n",
    "    range_y=[data['Momentum'].min(), data['Momentum'].max()],\n",
    "    title=f'Relative Rotation Graph (RRG) for {ticker}',\n",
    "    labels={'RS': 'Relative Strength', 'Momentum': 'Momentum'},\n",
    "    template='plotly_dark',\n",
    "    size_max=50,  # Tamanho máximo dos pontos\n",
    "    opacity=0.8,\n",
    "    color_discrete_sequence=['white'],  # Cor dos pontos\n",
    ")\n",
    "\n",
    "# Adicionando linhas para indicar os quadrantes\n",
    "fig.add_shape(\n",
    "    type='line',\n",
    "    x0=data['RS'].min(),\n",
    "    x1=data['RS'].max(),\n",
    "    y0=0,\n",
    "    y1=0,\n",
    "    line=dict(color='yellow', dash='dash'),\n",
    ")\n",
    "fig.add_shape(\n",
    "    type='line',\n",
    "    x0=0,\n",
    "    x1=0,\n",
    "    y0=data['Momentum'].min(),\n",
    "    y1=data['Momentum'].max(),\n",
    "    line=dict(color='yellow', dash='dash'),\n",
    ")\n",
    "\n",
    "# Ajustando layout para melhorar a animação e aumentar o tamanho\n",
    "fig.update_layout(\n",
    "    transition={'duration': 500},\n",
    "    xaxis_title='Relative Strength',\n",
    "    yaxis_title='Momentum',\n",
    "    width=1000,  # Largura do gráfico\n",
    "    height=800,  # Altura do gráfico\n",
    ")\n",
    "\n",
    "fig.show()\n"
   ]
  },
  {
   "cell_type": "code",
   "execution_count": null,
   "id": "eda7a376-7360-4f74-a32f-8311f0178852",
   "metadata": {},
   "outputs": [],
   "source": []
  }
 ],
 "metadata": {
  "kernelspec": {
   "display_name": "base",
   "language": "python",
   "name": "python3"
  },
  "language_info": {
   "codemirror_mode": {
    "name": "ipython",
    "version": 3
   },
   "file_extension": ".py",
   "mimetype": "text/x-python",
   "name": "python",
   "nbconvert_exporter": "python",
   "pygments_lexer": "ipython3",
   "version": "3.11.9"
  }
 },
 "nbformat": 4,
 "nbformat_minor": 5
}
