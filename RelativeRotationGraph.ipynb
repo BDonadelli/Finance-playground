{
 "cells": [
  {
   "cell_type": "code",
   "execution_count": 1,
   "id": "6454edd6-eca1-4895-896a-31c77f23344e",
   "metadata": {},
   "outputs": [
    {
     "name": "stdout",
     "output_type": "stream",
     "text": [
      "YF.download() has changed argument auto_adjust default to True\n"
     ]
    },
    {
     "name": "stderr",
     "output_type": "stream",
     "text": [
      "[*********************100%***********************]  1 of 1 completed\n",
      "[*********************100%***********************]  1 of 1 completed\n"
     ]
    },
    {
     "data": {
      "application/vnd.plotly.v1+json": {
       "config": {
        "plotlyServerURL": "https://plot.ly"
       },
       "data": [
        {
         "hovertemplate": "Date=2024-06-25<br>Relative Strength=%{x}<br>Momentum=%{y}<extra></extra>",
         "legendgroup": "",
         "marker": {
          "color": "white",
          "opacity": 0.8,
          "symbol": "circle"
         },
         "mode": "markers",
         "name": "",
         "orientation": "v",
         "showlegend": false,
         "type": "scatter",
         "x": [
          -0.0003854853958096149
         ],
         "xaxis": "x",
         "y": [
          0.0001699642647661426
         ],
         "yaxis": "y"
        }
       ],
       "frames": [
        {
         "data": [
          {
           "hovertemplate": "Date=2024-06-25<br>Relative Strength=%{x}<br>Momentum=%{y}<extra></extra>",
           "legendgroup": "",
           "marker": {
            "color": "white",
            "opacity": 0.8,
            "symbol": "circle"
           },
           "mode": "markers",
           "name": "",
           "orientation": "v",
           "showlegend": false,
           "type": "scatter",
           "x": [
            -0.0003854853958096149
           ],
           "xaxis": "x",
           "y": [
            0.0001699642647661426
           ],
           "yaxis": "y"
          }
         ],
         "name": "2024-06-25"
        },
        {
         "data": [
          {
           "hovertemplate": "Date=2024-06-26<br>Relative Strength=%{x}<br>Momentum=%{y}<extra></extra>",
           "legendgroup": "",
           "marker": {
            "color": "white",
            "opacity": 0.8,
            "symbol": "circle"
           },
           "mode": "markers",
           "name": "",
           "orientation": "v",
           "showlegend": false,
           "type": "scatter",
           "x": [
            -0.000812254794590528
           ],
           "xaxis": "x",
           "y": [
            -0.00042676939878091315
           ],
           "yaxis": "y"
          }
         ],
         "name": "2024-06-26"
        },
        {
         "data": [
          {
           "hovertemplate": "Date=2024-06-27<br>Relative Strength=%{x}<br>Momentum=%{y}<extra></extra>",
           "legendgroup": "",
           "marker": {
            "color": "white",
            "opacity": 0.8,
            "symbol": "circle"
           },
           "mode": "markers",
           "name": "",
           "orientation": "v",
           "showlegend": false,
           "type": "scatter",
           "x": [
            -0.0031939815804078227
           ],
           "xaxis": "x",
           "y": [
            -0.0023817267858172947
           ],
           "yaxis": "y"
          }
         ],
         "name": "2024-06-27"
        },
        {
         "data": [
          {
           "hovertemplate": "Date=2024-06-28<br>Relative Strength=%{x}<br>Momentum=%{y}<extra></extra>",
           "legendgroup": "",
           "marker": {
            "color": "white",
            "opacity": 0.8,
            "symbol": "circle"
           },
           "mode": "markers",
           "name": "",
           "orientation": "v",
           "showlegend": false,
           "type": "scatter",
           "x": [
            -0.0025073270808781524
           ],
           "xaxis": "x",
           "y": [
            0.0006866544995296703
           ],
           "yaxis": "y"
          }
         ],
         "name": "2024-06-28"
        },
        {
         "data": [
          {
           "hovertemplate": "Date=2024-07-01<br>Relative Strength=%{x}<br>Momentum=%{y}<extra></extra>",
           "legendgroup": "",
           "marker": {
            "color": "white",
            "opacity": 0.8,
            "symbol": "circle"
           },
           "mode": "markers",
           "name": "",
           "orientation": "v",
           "showlegend": false,
           "type": "scatter",
           "x": [
            -0.004910122456634459
           ],
           "xaxis": "x",
           "y": [
            -0.0024027953757563064
           ],
           "yaxis": "y"
          }
         ],
         "name": "2024-07-01"
        },
        {
         "data": [
          {
           "hovertemplate": "Date=2024-07-02<br>Relative Strength=%{x}<br>Momentum=%{y}<extra></extra>",
           "legendgroup": "",
           "marker": {
            "color": "white",
            "opacity": 0.8,
            "symbol": "circle"
           },
           "mode": "markers",
           "name": "",
           "orientation": "v",
           "showlegend": false,
           "type": "scatter",
           "x": [
            -0.00281220167510331
           ],
           "xaxis": "x",
           "y": [
            0.002097920781531149
           ],
           "yaxis": "y"
          }
         ],
         "name": "2024-07-02"
        },
        {
         "data": [
          {
           "hovertemplate": "Date=2024-07-03<br>Relative Strength=%{x}<br>Momentum=%{y}<extra></extra>",
           "legendgroup": "",
           "marker": {
            "color": "white",
            "opacity": 0.8,
            "symbol": "circle"
           },
           "mode": "markers",
           "name": "",
           "orientation": "v",
           "showlegend": false,
           "type": "scatter",
           "x": [
            -0.002731468072033472
           ],
           "xaxis": "x",
           "y": [
            0.00008073360306983792
           ],
           "yaxis": "y"
          }
         ],
         "name": "2024-07-03"
        },
        {
         "data": [
          {
           "hovertemplate": "Date=2024-07-04<br>Relative Strength=%{x}<br>Momentum=%{y}<extra></extra>",
           "legendgroup": "",
           "marker": {
            "color": "white",
            "opacity": 0.8,
            "symbol": "circle"
           },
           "mode": "markers",
           "name": "",
           "orientation": "v",
           "showlegend": false,
           "type": "scatter",
           "x": [
            -0.002909775142225535
           ],
           "xaxis": "x",
           "y": [
            -0.00017830707019206304
           ],
           "yaxis": "y"
          }
         ],
         "name": "2024-07-04"
        },
        {
         "data": [
          {
           "hovertemplate": "Date=2024-07-05<br>Relative Strength=%{x}<br>Momentum=%{y}<extra></extra>",
           "legendgroup": "",
           "marker": {
            "color": "white",
            "opacity": 0.8,
            "symbol": "circle"
           },
           "mode": "markers",
           "name": "",
           "orientation": "v",
           "showlegend": false,
           "type": "scatter",
           "x": [
            -0.0035289178244080842
           ],
           "xaxis": "x",
           "y": [
            -0.0006191426821825492
           ],
           "yaxis": "y"
          }
         ],
         "name": "2024-07-05"
        },
        {
         "data": [
          {
           "hovertemplate": "Date=2024-07-08<br>Relative Strength=%{x}<br>Momentum=%{y}<extra></extra>",
           "legendgroup": "",
           "marker": {
            "color": "white",
            "opacity": 0.8,
            "symbol": "circle"
           },
           "mode": "markers",
           "name": "",
           "orientation": "v",
           "showlegend": false,
           "type": "scatter",
           "x": [
            -0.005081059617471762
           ],
           "xaxis": "x",
           "y": [
            -0.0015521417930636776
           ],
           "yaxis": "y"
          }
         ],
         "name": "2024-07-08"
        },
        {
         "data": [
          {
           "hovertemplate": "Date=2024-07-09<br>Relative Strength=%{x}<br>Momentum=%{y}<extra></extra>",
           "legendgroup": "",
           "marker": {
            "color": "white",
            "opacity": 0.8,
            "symbol": "circle"
           },
           "mode": "markers",
           "name": "",
           "orientation": "v",
           "showlegend": false,
           "type": "scatter",
           "x": [
            -0.006413849968838569
           ],
           "xaxis": "x",
           "y": [
            -0.0013327903513668075
           ],
           "yaxis": "y"
          }
         ],
         "name": "2024-07-09"
        },
        {
         "data": [
          {
           "hovertemplate": "Date=2024-07-10<br>Relative Strength=%{x}<br>Momentum=%{y}<extra></extra>",
           "legendgroup": "",
           "marker": {
            "color": "white",
            "opacity": 0.8,
            "symbol": "circle"
           },
           "mode": "markers",
           "name": "",
           "orientation": "v",
           "showlegend": false,
           "type": "scatter",
           "x": [
            -0.004012697814293464
           ],
           "xaxis": "x",
           "y": [
            0.002401152154545105
           ],
           "yaxis": "y"
          }
         ],
         "name": "2024-07-10"
        },
        {
         "data": [
          {
           "hovertemplate": "Date=2024-07-11<br>Relative Strength=%{x}<br>Momentum=%{y}<extra></extra>",
           "legendgroup": "",
           "marker": {
            "color": "white",
            "opacity": 0.8,
            "symbol": "circle"
           },
           "mode": "markers",
           "name": "",
           "orientation": "v",
           "showlegend": false,
           "type": "scatter",
           "x": [
            -0.003950341480365737
           ],
           "xaxis": "x",
           "y": [
            0.000062356333927727
           ],
           "yaxis": "y"
          }
         ],
         "name": "2024-07-11"
        },
        {
         "data": [
          {
           "hovertemplate": "Date=2024-07-12<br>Relative Strength=%{x}<br>Momentum=%{y}<extra></extra>",
           "legendgroup": "",
           "marker": {
            "color": "white",
            "opacity": 0.8,
            "symbol": "circle"
           },
           "mode": "markers",
           "name": "",
           "orientation": "v",
           "showlegend": false,
           "type": "scatter",
           "x": [
            -0.003458644371644359
           ],
           "xaxis": "x",
           "y": [
            0.0004916971087213784
           ],
           "yaxis": "y"
          }
         ],
         "name": "2024-07-12"
        },
        {
         "data": [
          {
           "hovertemplate": "Date=2024-07-15<br>Relative Strength=%{x}<br>Momentum=%{y}<extra></extra>",
           "legendgroup": "",
           "marker": {
            "color": "white",
            "opacity": 0.8,
            "symbol": "circle"
           },
           "mode": "markers",
           "name": "",
           "orientation": "v",
           "showlegend": false,
           "type": "scatter",
           "x": [
            -0.001375436738524438
           ],
           "xaxis": "x",
           "y": [
            0.0020832076331199208
           ],
           "yaxis": "y"
          }
         ],
         "name": "2024-07-15"
        },
        {
         "data": [
          {
           "hovertemplate": "Date=2024-07-16<br>Relative Strength=%{x}<br>Momentum=%{y}<extra></extra>",
           "legendgroup": "",
           "marker": {
            "color": "white",
            "opacity": 0.8,
            "symbol": "circle"
           },
           "mode": "markers",
           "name": "",
           "orientation": "v",
           "showlegend": false,
           "type": "scatter",
           "x": [
            -0.0011644114406790473
           ],
           "xaxis": "x",
           "y": [
            0.0002110252978453908
           ],
           "yaxis": "y"
          }
         ],
         "name": "2024-07-16"
        },
        {
         "data": [
          {
           "hovertemplate": "Date=2024-07-17<br>Relative Strength=%{x}<br>Momentum=%{y}<extra></extra>",
           "legendgroup": "",
           "marker": {
            "color": "white",
            "opacity": 0.8,
            "symbol": "circle"
           },
           "mode": "markers",
           "name": "",
           "orientation": "v",
           "showlegend": false,
           "type": "scatter",
           "x": [
            -0.0007110358215158597
           ],
           "xaxis": "x",
           "y": [
            0.0004533756191631875
           ],
           "yaxis": "y"
          }
         ],
         "name": "2024-07-17"
        },
        {
         "data": [
          {
           "hovertemplate": "Date=2024-07-18<br>Relative Strength=%{x}<br>Momentum=%{y}<extra></extra>",
           "legendgroup": "",
           "marker": {
            "color": "white",
            "opacity": 0.8,
            "symbol": "circle"
           },
           "mode": "markers",
           "name": "",
           "orientation": "v",
           "showlegend": false,
           "type": "scatter",
           "x": [
            0.00011386131240240802
           ],
           "xaxis": "x",
           "y": [
            0.0008248971339182678
           ],
           "yaxis": "y"
          }
         ],
         "name": "2024-07-18"
        },
        {
         "data": [
          {
           "hovertemplate": "Date=2024-07-19<br>Relative Strength=%{x}<br>Momentum=%{y}<extra></extra>",
           "legendgroup": "",
           "marker": {
            "color": "white",
            "opacity": 0.8,
            "symbol": "circle"
           },
           "mode": "markers",
           "name": "",
           "orientation": "v",
           "showlegend": false,
           "type": "scatter",
           "x": [
            0.00037640317861870054
           ],
           "xaxis": "x",
           "y": [
            0.0002625418662162925
           ],
           "yaxis": "y"
          }
         ],
         "name": "2024-07-19"
        },
        {
         "data": [
          {
           "hovertemplate": "Date=2024-07-22<br>Relative Strength=%{x}<br>Momentum=%{y}<extra></extra>",
           "legendgroup": "",
           "marker": {
            "color": "white",
            "opacity": 0.8,
            "symbol": "circle"
           },
           "mode": "markers",
           "name": "",
           "orientation": "v",
           "showlegend": false,
           "type": "scatter",
           "x": [
            0.002164482642298249
           ],
           "xaxis": "x",
           "y": [
            0.0017880794636795485
           ],
           "yaxis": "y"
          }
         ],
         "name": "2024-07-22"
        },
        {
         "data": [
          {
           "hovertemplate": "Date=2024-07-23<br>Relative Strength=%{x}<br>Momentum=%{y}<extra></extra>",
           "legendgroup": "",
           "marker": {
            "color": "white",
            "opacity": 0.8,
            "symbol": "circle"
           },
           "mode": "markers",
           "name": "",
           "orientation": "v",
           "showlegend": false,
           "type": "scatter",
           "x": [
            0.0033530972652209947
           ],
           "xaxis": "x",
           "y": [
            0.0011886146229227457
           ],
           "yaxis": "y"
          }
         ],
         "name": "2024-07-23"
        },
        {
         "data": [
          {
           "hovertemplate": "Date=2024-07-24<br>Relative Strength=%{x}<br>Momentum=%{y}<extra></extra>",
           "legendgroup": "",
           "marker": {
            "color": "white",
            "opacity": 0.8,
            "symbol": "circle"
           },
           "mode": "markers",
           "name": "",
           "orientation": "v",
           "showlegend": false,
           "type": "scatter",
           "x": [
            0.001598949075492484
           ],
           "xaxis": "x",
           "y": [
            -0.0017541481897285108
           ],
           "yaxis": "y"
          }
         ],
         "name": "2024-07-24"
        },
        {
         "data": [
          {
           "hovertemplate": "Date=2024-07-25<br>Relative Strength=%{x}<br>Momentum=%{y}<extra></extra>",
           "legendgroup": "",
           "marker": {
            "color": "white",
            "opacity": 0.8,
            "symbol": "circle"
           },
           "mode": "markers",
           "name": "",
           "orientation": "v",
           "showlegend": false,
           "type": "scatter",
           "x": [
            0.0033786959157370063
           ],
           "xaxis": "x",
           "y": [
            0.0017797468402445224
           ],
           "yaxis": "y"
          }
         ],
         "name": "2024-07-25"
        },
        {
         "data": [
          {
           "hovertemplate": "Date=2024-07-26<br>Relative Strength=%{x}<br>Momentum=%{y}<extra></extra>",
           "legendgroup": "",
           "marker": {
            "color": "white",
            "opacity": 0.8,
            "symbol": "circle"
           },
           "mode": "markers",
           "name": "",
           "orientation": "v",
           "showlegend": false,
           "type": "scatter",
           "x": [
            0.0021612170133655574
           ],
           "xaxis": "x",
           "y": [
            -0.001217478902371449
           ],
           "yaxis": "y"
          }
         ],
         "name": "2024-07-26"
        },
        {
         "data": [
          {
           "hovertemplate": "Date=2024-07-29<br>Relative Strength=%{x}<br>Momentum=%{y}<extra></extra>",
           "legendgroup": "",
           "marker": {
            "color": "white",
            "opacity": 0.8,
            "symbol": "circle"
           },
           "mode": "markers",
           "name": "",
           "orientation": "v",
           "showlegend": false,
           "type": "scatter",
           "x": [
            0.0026123834419812695
           ],
           "xaxis": "x",
           "y": [
            0.0004511664286157122
           ],
           "yaxis": "y"
          }
         ],
         "name": "2024-07-29"
        },
        {
         "data": [
          {
           "hovertemplate": "Date=2024-07-30<br>Relative Strength=%{x}<br>Momentum=%{y}<extra></extra>",
           "legendgroup": "",
           "marker": {
            "color": "white",
            "opacity": 0.8,
            "symbol": "circle"
           },
           "mode": "markers",
           "name": "",
           "orientation": "v",
           "showlegend": false,
           "type": "scatter",
           "x": [
            0.001984026536892802
           ],
           "xaxis": "x",
           "y": [
            -0.0006283569050884673
           ],
           "yaxis": "y"
          }
         ],
         "name": "2024-07-30"
        },
        {
         "data": [
          {
           "hovertemplate": "Date=2024-07-31<br>Relative Strength=%{x}<br>Momentum=%{y}<extra></extra>",
           "legendgroup": "",
           "marker": {
            "color": "white",
            "opacity": 0.8,
            "symbol": "circle"
           },
           "mode": "markers",
           "name": "",
           "orientation": "v",
           "showlegend": false,
           "type": "scatter",
           "x": [
            -0.0014348459014785872
           ],
           "xaxis": "x",
           "y": [
            -0.0034188724383713894
           ],
           "yaxis": "y"
          }
         ],
         "name": "2024-07-31"
        },
        {
         "data": [
          {
           "hovertemplate": "Date=2024-08-01<br>Relative Strength=%{x}<br>Momentum=%{y}<extra></extra>",
           "legendgroup": "",
           "marker": {
            "color": "white",
            "opacity": 0.8,
            "symbol": "circle"
           },
           "mode": "markers",
           "name": "",
           "orientation": "v",
           "showlegend": false,
           "type": "scatter",
           "x": [
            -0.0028610353749718874
           ],
           "xaxis": "x",
           "y": [
            -0.0014261894734933001
           ],
           "yaxis": "y"
          }
         ],
         "name": "2024-08-01"
        },
        {
         "data": [
          {
           "hovertemplate": "Date=2024-08-02<br>Relative Strength=%{x}<br>Momentum=%{y}<extra></extra>",
           "legendgroup": "",
           "marker": {
            "color": "white",
            "opacity": 0.8,
            "symbol": "circle"
           },
           "mode": "markers",
           "name": "",
           "orientation": "v",
           "showlegend": false,
           "type": "scatter",
           "x": [
            -0.0021817471579966383
           ],
           "xaxis": "x",
           "y": [
            0.0006792882169752491
           ],
           "yaxis": "y"
          }
         ],
         "name": "2024-08-02"
        },
        {
         "data": [
          {
           "hovertemplate": "Date=2024-08-05<br>Relative Strength=%{x}<br>Momentum=%{y}<extra></extra>",
           "legendgroup": "",
           "marker": {
            "color": "white",
            "opacity": 0.8,
            "symbol": "circle"
           },
           "mode": "markers",
           "name": "",
           "orientation": "v",
           "showlegend": false,
           "type": "scatter",
           "x": [
            -0.0014842782293490678
           ],
           "xaxis": "x",
           "y": [
            0.0006974689286475704
           ],
           "yaxis": "y"
          }
         ],
         "name": "2024-08-05"
        },
        {
         "data": [
          {
           "hovertemplate": "Date=2024-08-06<br>Relative Strength=%{x}<br>Momentum=%{y}<extra></extra>",
           "legendgroup": "",
           "marker": {
            "color": "white",
            "opacity": 0.8,
            "symbol": "circle"
           },
           "mode": "markers",
           "name": "",
           "orientation": "v",
           "showlegend": false,
           "type": "scatter",
           "x": [
            -0.0009663457728370629
           ],
           "xaxis": "x",
           "y": [
            0.000517932456512005
           ],
           "yaxis": "y"
          }
         ],
         "name": "2024-08-06"
        },
        {
         "data": [
          {
           "hovertemplate": "Date=2024-08-07<br>Relative Strength=%{x}<br>Momentum=%{y}<extra></extra>",
           "legendgroup": "",
           "marker": {
            "color": "white",
            "opacity": 0.8,
            "symbol": "circle"
           },
           "mode": "markers",
           "name": "",
           "orientation": "v",
           "showlegend": false,
           "type": "scatter",
           "x": [
            -0.0029914623047024415
           ],
           "xaxis": "x",
           "y": [
            -0.0020251165318653785
           ],
           "yaxis": "y"
          }
         ],
         "name": "2024-08-07"
        },
        {
         "data": [
          {
           "hovertemplate": "Date=2024-08-08<br>Relative Strength=%{x}<br>Momentum=%{y}<extra></extra>",
           "legendgroup": "",
           "marker": {
            "color": "white",
            "opacity": 0.8,
            "symbol": "circle"
           },
           "mode": "markers",
           "name": "",
           "orientation": "v",
           "showlegend": false,
           "type": "scatter",
           "x": [
            -0.004754616298320779
           ],
           "xaxis": "x",
           "y": [
            -0.0017631539936183377
           ],
           "yaxis": "y"
          }
         ],
         "name": "2024-08-08"
        },
        {
         "data": [
          {
           "hovertemplate": "Date=2024-08-09<br>Relative Strength=%{x}<br>Momentum=%{y}<extra></extra>",
           "legendgroup": "",
           "marker": {
            "color": "white",
            "opacity": 0.8,
            "symbol": "circle"
           },
           "mode": "markers",
           "name": "",
           "orientation": "v",
           "showlegend": false,
           "type": "scatter",
           "x": [
            -0.004533036840154725
           ],
           "xaxis": "x",
           "y": [
            0.0002215794581660541
           ],
           "yaxis": "y"
          }
         ],
         "name": "2024-08-09"
        },
        {
         "data": [
          {
           "hovertemplate": "Date=2024-08-12<br>Relative Strength=%{x}<br>Momentum=%{y}<extra></extra>",
           "legendgroup": "",
           "marker": {
            "color": "white",
            "opacity": 0.8,
            "symbol": "circle"
           },
           "mode": "markers",
           "name": "",
           "orientation": "v",
           "showlegend": false,
           "type": "scatter",
           "x": [
            -0.00333919004127311
           ],
           "xaxis": "x",
           "y": [
            0.001193846798881615
           ],
           "yaxis": "y"
          }
         ],
         "name": "2024-08-12"
        },
        {
         "data": [
          {
           "hovertemplate": "Date=2024-08-13<br>Relative Strength=%{x}<br>Momentum=%{y}<extra></extra>",
           "legendgroup": "",
           "marker": {
            "color": "white",
            "opacity": 0.8,
            "symbol": "circle"
           },
           "mode": "markers",
           "name": "",
           "orientation": "v",
           "showlegend": false,
           "type": "scatter",
           "x": [
            -0.002895159290705318
           ],
           "xaxis": "x",
           "y": [
            0.00044403075056779215
           ],
           "yaxis": "y"
          }
         ],
         "name": "2024-08-13"
        },
        {
         "data": [
          {
           "hovertemplate": "Date=2024-08-14<br>Relative Strength=%{x}<br>Momentum=%{y}<extra></extra>",
           "legendgroup": "",
           "marker": {
            "color": "white",
            "opacity": 0.8,
            "symbol": "circle"
           },
           "mode": "markers",
           "name": "",
           "orientation": "v",
           "showlegend": false,
           "type": "scatter",
           "x": [
            0.000768211934295937
           ],
           "xaxis": "x",
           "y": [
            0.003663371225001255
           ],
           "yaxis": "y"
          }
         ],
         "name": "2024-08-14"
        },
        {
         "data": [
          {
           "hovertemplate": "Date=2024-08-15<br>Relative Strength=%{x}<br>Momentum=%{y}<extra></extra>",
           "legendgroup": "",
           "marker": {
            "color": "white",
            "opacity": 0.8,
            "symbol": "circle"
           },
           "mode": "markers",
           "name": "",
           "orientation": "v",
           "showlegend": false,
           "type": "scatter",
           "x": [
            0.00140621445681064
           ],
           "xaxis": "x",
           "y": [
            0.0006380025225147029
           ],
           "yaxis": "y"
          }
         ],
         "name": "2024-08-15"
        },
        {
         "data": [
          {
           "hovertemplate": "Date=2024-08-16<br>Relative Strength=%{x}<br>Momentum=%{y}<extra></extra>",
           "legendgroup": "",
           "marker": {
            "color": "white",
            "opacity": 0.8,
            "symbol": "circle"
           },
           "mode": "markers",
           "name": "",
           "orientation": "v",
           "showlegend": false,
           "type": "scatter",
           "x": [
            0.0019235605164559348
           ],
           "xaxis": "x",
           "y": [
            0.0005173460596452949
           ],
           "yaxis": "y"
          }
         ],
         "name": "2024-08-16"
        },
        {
         "data": [
          {
           "hovertemplate": "Date=2024-08-19<br>Relative Strength=%{x}<br>Momentum=%{y}<extra></extra>",
           "legendgroup": "",
           "marker": {
            "color": "white",
            "opacity": 0.8,
            "symbol": "circle"
           },
           "mode": "markers",
           "name": "",
           "orientation": "v",
           "showlegend": false,
           "type": "scatter",
           "x": [
            0.002623096568199
           ],
           "xaxis": "x",
           "y": [
            0.0006995360517430653
           ],
           "yaxis": "y"
          }
         ],
         "name": "2024-08-19"
        },
        {
         "data": [
          {
           "hovertemplate": "Date=2024-08-20<br>Relative Strength=%{x}<br>Momentum=%{y}<extra></extra>",
           "legendgroup": "",
           "marker": {
            "color": "white",
            "opacity": 0.8,
            "symbol": "circle"
           },
           "mode": "markers",
           "name": "",
           "orientation": "v",
           "showlegend": false,
           "type": "scatter",
           "x": [
            0.0019201265662791896
           ],
           "xaxis": "x",
           "y": [
            -0.0007029700019198105
           ],
           "yaxis": "y"
          }
         ],
         "name": "2024-08-20"
        },
        {
         "data": [
          {
           "hovertemplate": "Date=2024-08-21<br>Relative Strength=%{x}<br>Momentum=%{y}<extra></extra>",
           "legendgroup": "",
           "marker": {
            "color": "white",
            "opacity": 0.8,
            "symbol": "circle"
           },
           "mode": "markers",
           "name": "",
           "orientation": "v",
           "showlegend": false,
           "type": "scatter",
           "x": [
            0.0034997104867316884
           ],
           "xaxis": "x",
           "y": [
            0.0015795839204524988
           ],
           "yaxis": "y"
          }
         ],
         "name": "2024-08-21"
        },
        {
         "data": [
          {
           "hovertemplate": "Date=2024-08-22<br>Relative Strength=%{x}<br>Momentum=%{y}<extra></extra>",
           "legendgroup": "",
           "marker": {
            "color": "white",
            "opacity": 0.8,
            "symbol": "circle"
           },
           "mode": "markers",
           "name": "",
           "orientation": "v",
           "showlegend": false,
           "type": "scatter",
           "x": [
            0.003511406074535717
           ],
           "xaxis": "x",
           "y": [
            0.000011695587804028476
           ],
           "yaxis": "y"
          }
         ],
         "name": "2024-08-22"
        },
        {
         "data": [
          {
           "hovertemplate": "Date=2024-08-23<br>Relative Strength=%{x}<br>Momentum=%{y}<extra></extra>",
           "legendgroup": "",
           "marker": {
            "color": "white",
            "opacity": 0.8,
            "symbol": "circle"
           },
           "mode": "markers",
           "name": "",
           "orientation": "v",
           "showlegend": false,
           "type": "scatter",
           "x": [
            0.004083486586424089
           ],
           "xaxis": "x",
           "y": [
            0.000572080511888372
           ],
           "yaxis": "y"
          }
         ],
         "name": "2024-08-23"
        },
        {
         "data": [
          {
           "hovertemplate": "Date=2024-08-26<br>Relative Strength=%{x}<br>Momentum=%{y}<extra></extra>",
           "legendgroup": "",
           "marker": {
            "color": "white",
            "opacity": 0.8,
            "symbol": "circle"
           },
           "mode": "markers",
           "name": "",
           "orientation": "v",
           "showlegend": false,
           "type": "scatter",
           "x": [
            0.00176531637047942
           ],
           "xaxis": "x",
           "y": [
            -0.002318170215944669
           ],
           "yaxis": "y"
          }
         ],
         "name": "2024-08-26"
        },
        {
         "data": [
          {
           "hovertemplate": "Date=2024-08-27<br>Relative Strength=%{x}<br>Momentum=%{y}<extra></extra>",
           "legendgroup": "",
           "marker": {
            "color": "white",
            "opacity": 0.8,
            "symbol": "circle"
           },
           "mode": "markers",
           "name": "",
           "orientation": "v",
           "showlegend": false,
           "type": "scatter",
           "x": [
            0.0004055322252655147
           ],
           "xaxis": "x",
           "y": [
            -0.0013597841452139053
           ],
           "yaxis": "y"
          }
         ],
         "name": "2024-08-27"
        },
        {
         "data": [
          {
           "hovertemplate": "Date=2024-08-28<br>Relative Strength=%{x}<br>Momentum=%{y}<extra></extra>",
           "legendgroup": "",
           "marker": {
            "color": "white",
            "opacity": 0.8,
            "symbol": "circle"
           },
           "mode": "markers",
           "name": "",
           "orientation": "v",
           "showlegend": false,
           "type": "scatter",
           "x": [
            -0.0003825006958578349
           ],
           "xaxis": "x",
           "y": [
            -0.0007880329211233496
           ],
           "yaxis": "y"
          }
         ],
         "name": "2024-08-28"
        },
        {
         "data": [
          {
           "hovertemplate": "Date=2024-08-29<br>Relative Strength=%{x}<br>Momentum=%{y}<extra></extra>",
           "legendgroup": "",
           "marker": {
            "color": "white",
            "opacity": 0.8,
            "symbol": "circle"
           },
           "mode": "markers",
           "name": "",
           "orientation": "v",
           "showlegend": false,
           "type": "scatter",
           "x": [
            0.0008306779158289146
           ],
           "xaxis": "x",
           "y": [
            0.0012131786116867495
           ],
           "yaxis": "y"
          }
         ],
         "name": "2024-08-29"
        },
        {
         "data": [
          {
           "hovertemplate": "Date=2024-08-30<br>Relative Strength=%{x}<br>Momentum=%{y}<extra></extra>",
           "legendgroup": "",
           "marker": {
            "color": "white",
            "opacity": 0.8,
            "symbol": "circle"
           },
           "mode": "markers",
           "name": "",
           "orientation": "v",
           "showlegend": false,
           "type": "scatter",
           "x": [
            -0.000708771710118905
           ],
           "xaxis": "x",
           "y": [
            -0.0015394496259478196
           ],
           "yaxis": "y"
          }
         ],
         "name": "2024-08-30"
        },
        {
         "data": [
          {
           "hovertemplate": "Date=2024-09-02<br>Relative Strength=%{x}<br>Momentum=%{y}<extra></extra>",
           "legendgroup": "",
           "marker": {
            "color": "white",
            "opacity": 0.8,
            "symbol": "circle"
           },
           "mode": "markers",
           "name": "",
           "orientation": "v",
           "showlegend": false,
           "type": "scatter",
           "x": [
            -0.0002061991692068443
           ],
           "xaxis": "x",
           "y": [
            0.0005025725409120608
           ],
           "yaxis": "y"
          }
         ],
         "name": "2024-09-02"
        },
        {
         "data": [
          {
           "hovertemplate": "Date=2024-09-03<br>Relative Strength=%{x}<br>Momentum=%{y}<extra></extra>",
           "legendgroup": "",
           "marker": {
            "color": "white",
            "opacity": 0.8,
            "symbol": "circle"
           },
           "mode": "markers",
           "name": "",
           "orientation": "v",
           "showlegend": false,
           "type": "scatter",
           "x": [
            0.0009551984496886434
           ],
           "xaxis": "x",
           "y": [
            0.0011613976188954876
           ],
           "yaxis": "y"
          }
         ],
         "name": "2024-09-03"
        },
        {
         "data": [
          {
           "hovertemplate": "Date=2024-09-04<br>Relative Strength=%{x}<br>Momentum=%{y}<extra></extra>",
           "legendgroup": "",
           "marker": {
            "color": "white",
            "opacity": 0.8,
            "symbol": "circle"
           },
           "mode": "markers",
           "name": "",
           "orientation": "v",
           "showlegend": false,
           "type": "scatter",
           "x": [
            0.0014489202671989498
           ],
           "xaxis": "x",
           "y": [
            0.0004937218175103064
           ],
           "yaxis": "y"
          }
         ],
         "name": "2024-09-04"
        },
        {
         "data": [
          {
           "hovertemplate": "Date=2024-09-05<br>Relative Strength=%{x}<br>Momentum=%{y}<extra></extra>",
           "legendgroup": "",
           "marker": {
            "color": "white",
            "opacity": 0.8,
            "symbol": "circle"
           },
           "mode": "markers",
           "name": "",
           "orientation": "v",
           "showlegend": false,
           "type": "scatter",
           "x": [
            0.003364568703623383
           ],
           "xaxis": "x",
           "y": [
            0.0019156484364244333
           ],
           "yaxis": "y"
          }
         ],
         "name": "2024-09-05"
        },
        {
         "data": [
          {
           "hovertemplate": "Date=2024-09-06<br>Relative Strength=%{x}<br>Momentum=%{y}<extra></extra>",
           "legendgroup": "",
           "marker": {
            "color": "white",
            "opacity": 0.8,
            "symbol": "circle"
           },
           "mode": "markers",
           "name": "",
           "orientation": "v",
           "showlegend": false,
           "type": "scatter",
           "x": [
            0.0027095198295906454
           ],
           "xaxis": "x",
           "y": [
            -0.0006550488740327378
           ],
           "yaxis": "y"
          }
         ],
         "name": "2024-09-06"
        },
        {
         "data": [
          {
           "hovertemplate": "Date=2024-09-09<br>Relative Strength=%{x}<br>Momentum=%{y}<extra></extra>",
           "legendgroup": "",
           "marker": {
            "color": "white",
            "opacity": 0.8,
            "symbol": "circle"
           },
           "mode": "markers",
           "name": "",
           "orientation": "v",
           "showlegend": false,
           "type": "scatter",
           "x": [
            0.004393056175301102
           ],
           "xaxis": "x",
           "y": [
            0.0016835363457104566
           ],
           "yaxis": "y"
          }
         ],
         "name": "2024-09-09"
        },
        {
         "data": [
          {
           "hovertemplate": "Date=2024-09-10<br>Relative Strength=%{x}<br>Momentum=%{y}<extra></extra>",
           "legendgroup": "",
           "marker": {
            "color": "white",
            "opacity": 0.8,
            "symbol": "circle"
           },
           "mode": "markers",
           "name": "",
           "orientation": "v",
           "showlegend": false,
           "type": "scatter",
           "x": [
            0.004273400006304629
           ],
           "xaxis": "x",
           "y": [
            -0.00011965616899647317
           ],
           "yaxis": "y"
          }
         ],
         "name": "2024-09-10"
        },
        {
         "data": [
          {
           "hovertemplate": "Date=2024-09-11<br>Relative Strength=%{x}<br>Momentum=%{y}<extra></extra>",
           "legendgroup": "",
           "marker": {
            "color": "white",
            "opacity": 0.8,
            "symbol": "circle"
           },
           "mode": "markers",
           "name": "",
           "orientation": "v",
           "showlegend": false,
           "type": "scatter",
           "x": [
            0.0038508112154931997
           ],
           "xaxis": "x",
           "y": [
            -0.00042258879081142914
           ],
           "yaxis": "y"
          }
         ],
         "name": "2024-09-11"
        },
        {
         "data": [
          {
           "hovertemplate": "Date=2024-09-12<br>Relative Strength=%{x}<br>Momentum=%{y}<extra></extra>",
           "legendgroup": "",
           "marker": {
            "color": "white",
            "opacity": 0.8,
            "symbol": "circle"
           },
           "mode": "markers",
           "name": "",
           "orientation": "v",
           "showlegend": false,
           "type": "scatter",
           "x": [
            0.0019287917382848742
           ],
           "xaxis": "x",
           "y": [
            -0.0019220194772083254
           ],
           "yaxis": "y"
          }
         ],
         "name": "2024-09-12"
        },
        {
         "data": [
          {
           "hovertemplate": "Date=2024-09-13<br>Relative Strength=%{x}<br>Momentum=%{y}<extra></extra>",
           "legendgroup": "",
           "marker": {
            "color": "white",
            "opacity": 0.8,
            "symbol": "circle"
           },
           "mode": "markers",
           "name": "",
           "orientation": "v",
           "showlegend": false,
           "type": "scatter",
           "x": [
            0.002574242513411851
           ],
           "xaxis": "x",
           "y": [
            0.0006454507751269766
           ],
           "yaxis": "y"
          }
         ],
         "name": "2024-09-13"
        },
        {
         "data": [
          {
           "hovertemplate": "Date=2024-09-16<br>Relative Strength=%{x}<br>Momentum=%{y}<extra></extra>",
           "legendgroup": "",
           "marker": {
            "color": "white",
            "opacity": 0.8,
            "symbol": "circle"
           },
           "mode": "markers",
           "name": "",
           "orientation": "v",
           "showlegend": false,
           "type": "scatter",
           "x": [
            0.0011080386458588887
           ],
           "xaxis": "x",
           "y": [
            -0.001466203867552962
           ],
           "yaxis": "y"
          }
         ],
         "name": "2024-09-16"
        },
        {
         "data": [
          {
           "hovertemplate": "Date=2024-09-17<br>Relative Strength=%{x}<br>Momentum=%{y}<extra></extra>",
           "legendgroup": "",
           "marker": {
            "color": "white",
            "opacity": 0.8,
            "symbol": "circle"
           },
           "mode": "markers",
           "name": "",
           "orientation": "v",
           "showlegend": false,
           "type": "scatter",
           "x": [
            -0.0007851662665414928
           ],
           "xaxis": "x",
           "y": [
            -0.0018932049124003815
           ],
           "yaxis": "y"
          }
         ],
         "name": "2024-09-17"
        },
        {
         "data": [
          {
           "hovertemplate": "Date=2024-09-18<br>Relative Strength=%{x}<br>Momentum=%{y}<extra></extra>",
           "legendgroup": "",
           "marker": {
            "color": "white",
            "opacity": 0.8,
            "symbol": "circle"
           },
           "mode": "markers",
           "name": "",
           "orientation": "v",
           "showlegend": false,
           "type": "scatter",
           "x": [
            -0.0001526400521070781
           ],
           "xaxis": "x",
           "y": [
            0.0006325262144344147
           ],
           "yaxis": "y"
          }
         ],
         "name": "2024-09-18"
        },
        {
         "data": [
          {
           "hovertemplate": "Date=2024-09-19<br>Relative Strength=%{x}<br>Momentum=%{y}<extra></extra>",
           "legendgroup": "",
           "marker": {
            "color": "white",
            "opacity": 0.8,
            "symbol": "circle"
           },
           "mode": "markers",
           "name": "",
           "orientation": "v",
           "showlegend": false,
           "type": "scatter",
           "x": [
            -0.0014984831078637354
           ],
           "xaxis": "x",
           "y": [
            -0.0013458430557566573
           ],
           "yaxis": "y"
          }
         ],
         "name": "2024-09-19"
        },
        {
         "data": [
          {
           "hovertemplate": "Date=2024-09-20<br>Relative Strength=%{x}<br>Momentum=%{y}<extra></extra>",
           "legendgroup": "",
           "marker": {
            "color": "white",
            "opacity": 0.8,
            "symbol": "circle"
           },
           "mode": "markers",
           "name": "",
           "orientation": "v",
           "showlegend": false,
           "type": "scatter",
           "x": [
            -0.0011944212848799983
           ],
           "xaxis": "x",
           "y": [
            0.00030406182298373715
           ],
           "yaxis": "y"
          }
         ],
         "name": "2024-09-20"
        },
        {
         "data": [
          {
           "hovertemplate": "Date=2024-09-23<br>Relative Strength=%{x}<br>Momentum=%{y}<extra></extra>",
           "legendgroup": "",
           "marker": {
            "color": "white",
            "opacity": 0.8,
            "symbol": "circle"
           },
           "mode": "markers",
           "name": "",
           "orientation": "v",
           "showlegend": false,
           "type": "scatter",
           "x": [
            -0.002307556197443517
           ],
           "xaxis": "x",
           "y": [
            -0.0011131349125635187
           ],
           "yaxis": "y"
          }
         ],
         "name": "2024-09-23"
        },
        {
         "data": [
          {
           "hovertemplate": "Date=2024-09-24<br>Relative Strength=%{x}<br>Momentum=%{y}<extra></extra>",
           "legendgroup": "",
           "marker": {
            "color": "white",
            "opacity": 0.8,
            "symbol": "circle"
           },
           "mode": "markers",
           "name": "",
           "orientation": "v",
           "showlegend": false,
           "type": "scatter",
           "x": [
            -0.002430123196495215
           ],
           "xaxis": "x",
           "y": [
            -0.00012256699905169787
           ],
           "yaxis": "y"
          }
         ],
         "name": "2024-09-24"
        },
        {
         "data": [
          {
           "hovertemplate": "Date=2024-09-25<br>Relative Strength=%{x}<br>Momentum=%{y}<extra></extra>",
           "legendgroup": "",
           "marker": {
            "color": "white",
            "opacity": 0.8,
            "symbol": "circle"
           },
           "mode": "markers",
           "name": "",
           "orientation": "v",
           "showlegend": false,
           "type": "scatter",
           "x": [
            -0.002060056441451663
           ],
           "xaxis": "x",
           "y": [
            0.0003700667550435516
           ],
           "yaxis": "y"
          }
         ],
         "name": "2024-09-25"
        },
        {
         "data": [
          {
           "hovertemplate": "Date=2024-09-26<br>Relative Strength=%{x}<br>Momentum=%{y}<extra></extra>",
           "legendgroup": "",
           "marker": {
            "color": "white",
            "opacity": 0.8,
            "symbol": "circle"
           },
           "mode": "markers",
           "name": "",
           "orientation": "v",
           "showlegend": false,
           "type": "scatter",
           "x": [
            -0.0019354212041740148
           ],
           "xaxis": "x",
           "y": [
            0.00012463523727764838
           ],
           "yaxis": "y"
          }
         ],
         "name": "2024-09-26"
        },
        {
         "data": [
          {
           "hovertemplate": "Date=2024-09-27<br>Relative Strength=%{x}<br>Momentum=%{y}<extra></extra>",
           "legendgroup": "",
           "marker": {
            "color": "white",
            "opacity": 0.8,
            "symbol": "circle"
           },
           "mode": "markers",
           "name": "",
           "orientation": "v",
           "showlegend": false,
           "type": "scatter",
           "x": [
            -0.002598495520389388
           ],
           "xaxis": "x",
           "y": [
            -0.0006630743162153732
           ],
           "yaxis": "y"
          }
         ],
         "name": "2024-09-27"
        },
        {
         "data": [
          {
           "hovertemplate": "Date=2024-09-30<br>Relative Strength=%{x}<br>Momentum=%{y}<extra></extra>",
           "legendgroup": "",
           "marker": {
            "color": "white",
            "opacity": 0.8,
            "symbol": "circle"
           },
           "mode": "markers",
           "name": "",
           "orientation": "v",
           "showlegend": false,
           "type": "scatter",
           "x": [
            -0.0025195799105243058
           ],
           "xaxis": "x",
           "y": [
            0.0000789156098650822
           ],
           "yaxis": "y"
          }
         ],
         "name": "2024-09-30"
        },
        {
         "data": [
          {
           "hovertemplate": "Date=2024-10-01<br>Relative Strength=%{x}<br>Momentum=%{y}<extra></extra>",
           "legendgroup": "",
           "marker": {
            "color": "white",
            "opacity": 0.8,
            "symbol": "circle"
           },
           "mode": "markers",
           "name": "",
           "orientation": "v",
           "showlegend": false,
           "type": "scatter",
           "x": [
            -0.0028895153123143285
           ],
           "xaxis": "x",
           "y": [
            -0.00036993540179002275
           ],
           "yaxis": "y"
          }
         ],
         "name": "2024-10-01"
        },
        {
         "data": [
          {
           "hovertemplate": "Date=2024-10-02<br>Relative Strength=%{x}<br>Momentum=%{y}<extra></extra>",
           "legendgroup": "",
           "marker": {
            "color": "white",
            "opacity": 0.8,
            "symbol": "circle"
           },
           "mode": "markers",
           "name": "",
           "orientation": "v",
           "showlegend": false,
           "type": "scatter",
           "x": [
            -0.0038057786036064804
           ],
           "xaxis": "x",
           "y": [
            -0.0009162632912921519
           ],
           "yaxis": "y"
          }
         ],
         "name": "2024-10-02"
        },
        {
         "data": [
          {
           "hovertemplate": "Date=2024-10-03<br>Relative Strength=%{x}<br>Momentum=%{y}<extra></extra>",
           "legendgroup": "",
           "marker": {
            "color": "white",
            "opacity": 0.8,
            "symbol": "circle"
           },
           "mode": "markers",
           "name": "",
           "orientation": "v",
           "showlegend": false,
           "type": "scatter",
           "x": [
            -0.0026099846045112398
           ],
           "xaxis": "x",
           "y": [
            0.0011957939990952407
           ],
           "yaxis": "y"
          }
         ],
         "name": "2024-10-03"
        },
        {
         "data": [
          {
           "hovertemplate": "Date=2024-10-04<br>Relative Strength=%{x}<br>Momentum=%{y}<extra></extra>",
           "legendgroup": "",
           "marker": {
            "color": "white",
            "opacity": 0.8,
            "symbol": "circle"
           },
           "mode": "markers",
           "name": "",
           "orientation": "v",
           "showlegend": false,
           "type": "scatter",
           "x": [
            -0.00292675155801958
           ],
           "xaxis": "x",
           "y": [
            -0.00031676695350834044
           ],
           "yaxis": "y"
          }
         ],
         "name": "2024-10-04"
        },
        {
         "data": [
          {
           "hovertemplate": "Date=2024-10-07<br>Relative Strength=%{x}<br>Momentum=%{y}<extra></extra>",
           "legendgroup": "",
           "marker": {
            "color": "white",
            "opacity": 0.8,
            "symbol": "circle"
           },
           "mode": "markers",
           "name": "",
           "orientation": "v",
           "showlegend": false,
           "type": "scatter",
           "x": [
            -0.0026298089003802374
           ],
           "xaxis": "x",
           "y": [
            0.00029694265763934285
           ],
           "yaxis": "y"
          }
         ],
         "name": "2024-10-07"
        },
        {
         "data": [
          {
           "hovertemplate": "Date=2024-10-08<br>Relative Strength=%{x}<br>Momentum=%{y}<extra></extra>",
           "legendgroup": "",
           "marker": {
            "color": "white",
            "opacity": 0.8,
            "symbol": "circle"
           },
           "mode": "markers",
           "name": "",
           "orientation": "v",
           "showlegend": false,
           "type": "scatter",
           "x": [
            -0.0009943524214252153
           ],
           "xaxis": "x",
           "y": [
            0.001635456478955022
           ],
           "yaxis": "y"
          }
         ],
         "name": "2024-10-08"
        },
        {
         "data": [
          {
           "hovertemplate": "Date=2024-10-09<br>Relative Strength=%{x}<br>Momentum=%{y}<extra></extra>",
           "legendgroup": "",
           "marker": {
            "color": "white",
            "opacity": 0.8,
            "symbol": "circle"
           },
           "mode": "markers",
           "name": "",
           "orientation": "v",
           "showlegend": false,
           "type": "scatter",
           "x": [
            -0.0019934162546729303
           ],
           "xaxis": "x",
           "y": [
            -0.000999063833247715
           ],
           "yaxis": "y"
          }
         ],
         "name": "2024-10-09"
        },
        {
         "data": [
          {
           "hovertemplate": "Date=2024-10-10<br>Relative Strength=%{x}<br>Momentum=%{y}<extra></extra>",
           "legendgroup": "",
           "marker": {
            "color": "white",
            "opacity": 0.8,
            "symbol": "circle"
           },
           "mode": "markers",
           "name": "",
           "orientation": "v",
           "showlegend": false,
           "type": "scatter",
           "x": [
            -0.0027416675398172275
           ],
           "xaxis": "x",
           "y": [
            -0.0007482512851442972
           ],
           "yaxis": "y"
          }
         ],
         "name": "2024-10-10"
        },
        {
         "data": [
          {
           "hovertemplate": "Date=2024-10-11<br>Relative Strength=%{x}<br>Momentum=%{y}<extra></extra>",
           "legendgroup": "",
           "marker": {
            "color": "white",
            "opacity": 0.8,
            "symbol": "circle"
           },
           "mode": "markers",
           "name": "",
           "orientation": "v",
           "showlegend": false,
           "type": "scatter",
           "x": [
            -0.001342085162863849
           ],
           "xaxis": "x",
           "y": [
            0.0013995823769533786
           ],
           "yaxis": "y"
          }
         ],
         "name": "2024-10-11"
        },
        {
         "data": [
          {
           "hovertemplate": "Date=2024-10-14<br>Relative Strength=%{x}<br>Momentum=%{y}<extra></extra>",
           "legendgroup": "",
           "marker": {
            "color": "white",
            "opacity": 0.8,
            "symbol": "circle"
           },
           "mode": "markers",
           "name": "",
           "orientation": "v",
           "showlegend": false,
           "type": "scatter",
           "x": [
            -0.001831499817097004
           ],
           "xaxis": "x",
           "y": [
            -0.0004894146542331551
           ],
           "yaxis": "y"
          }
         ],
         "name": "2024-10-14"
        },
        {
         "data": [
          {
           "hovertemplate": "Date=2024-10-15<br>Relative Strength=%{x}<br>Momentum=%{y}<extra></extra>",
           "legendgroup": "",
           "marker": {
            "color": "white",
            "opacity": 0.8,
            "symbol": "circle"
           },
           "mode": "markers",
           "name": "",
           "orientation": "v",
           "showlegend": false,
           "type": "scatter",
           "x": [
            -0.001166013572382718
           ],
           "xaxis": "x",
           "y": [
            0.000665486244714286
           ],
           "yaxis": "y"
          }
         ],
         "name": "2024-10-15"
        },
        {
         "data": [
          {
           "hovertemplate": "Date=2024-10-16<br>Relative Strength=%{x}<br>Momentum=%{y}<extra></extra>",
           "legendgroup": "",
           "marker": {
            "color": "white",
            "opacity": 0.8,
            "symbol": "circle"
           },
           "mode": "markers",
           "name": "",
           "orientation": "v",
           "showlegend": false,
           "type": "scatter",
           "x": [
            -0.0000985916870586247
           ],
           "xaxis": "x",
           "y": [
            0.0010674218853240934
           ],
           "yaxis": "y"
          }
         ],
         "name": "2024-10-16"
        },
        {
         "data": [
          {
           "hovertemplate": "Date=2024-10-17<br>Relative Strength=%{x}<br>Momentum=%{y}<extra></extra>",
           "legendgroup": "",
           "marker": {
            "color": "white",
            "opacity": 0.8,
            "symbol": "circle"
           },
           "mode": "markers",
           "name": "",
           "orientation": "v",
           "showlegend": false,
           "type": "scatter",
           "x": [
            0.00001874385009441597
           ],
           "xaxis": "x",
           "y": [
            0.00011733553715304068
           ],
           "yaxis": "y"
          }
         ],
         "name": "2024-10-17"
        },
        {
         "data": [
          {
           "hovertemplate": "Date=2024-10-18<br>Relative Strength=%{x}<br>Momentum=%{y}<extra></extra>",
           "legendgroup": "",
           "marker": {
            "color": "white",
            "opacity": 0.8,
            "symbol": "circle"
           },
           "mode": "markers",
           "name": "",
           "orientation": "v",
           "showlegend": false,
           "type": "scatter",
           "x": [
            0.00037110194051235277
           ],
           "xaxis": "x",
           "y": [
            0.0003523580904179368
           ],
           "yaxis": "y"
          }
         ],
         "name": "2024-10-18"
        },
        {
         "data": [
          {
           "hovertemplate": "Date=2024-10-21<br>Relative Strength=%{x}<br>Momentum=%{y}<extra></extra>",
           "legendgroup": "",
           "marker": {
            "color": "white",
            "opacity": 0.8,
            "symbol": "circle"
           },
           "mode": "markers",
           "name": "",
           "orientation": "v",
           "showlegend": false,
           "type": "scatter",
           "x": [
            -0.00009869733690268676
           ],
           "xaxis": "x",
           "y": [
            -0.00046979927741503953
           ],
           "yaxis": "y"
          }
         ],
         "name": "2024-10-21"
        },
        {
         "data": [
          {
           "hovertemplate": "Date=2024-10-22<br>Relative Strength=%{x}<br>Momentum=%{y}<extra></extra>",
           "legendgroup": "",
           "marker": {
            "color": "white",
            "opacity": 0.8,
            "symbol": "circle"
           },
           "mode": "markers",
           "name": "",
           "orientation": "v",
           "showlegend": false,
           "type": "scatter",
           "x": [
            -0.0011553424169841728
           ],
           "xaxis": "x",
           "y": [
            -0.001056645080081486
           ],
           "yaxis": "y"
          }
         ],
         "name": "2024-10-22"
        },
        {
         "data": [
          {
           "hovertemplate": "Date=2024-10-23<br>Relative Strength=%{x}<br>Momentum=%{y}<extra></extra>",
           "legendgroup": "",
           "marker": {
            "color": "white",
            "opacity": 0.8,
            "symbol": "circle"
           },
           "mode": "markers",
           "name": "",
           "orientation": "v",
           "showlegend": false,
           "type": "scatter",
           "x": [
            0.00019486724542189254
           ],
           "xaxis": "x",
           "y": [
            0.0013502096624060653
           ],
           "yaxis": "y"
          }
         ],
         "name": "2024-10-23"
        },
        {
         "data": [
          {
           "hovertemplate": "Date=2024-10-24<br>Relative Strength=%{x}<br>Momentum=%{y}<extra></extra>",
           "legendgroup": "",
           "marker": {
            "color": "white",
            "opacity": 0.8,
            "symbol": "circle"
           },
           "mode": "markers",
           "name": "",
           "orientation": "v",
           "showlegend": false,
           "type": "scatter",
           "x": [
            0.0008345512631992014
           ],
           "xaxis": "x",
           "y": [
            0.0006396840177773089
           ],
           "yaxis": "y"
          }
         ],
         "name": "2024-10-24"
        },
        {
         "data": [
          {
           "hovertemplate": "Date=2024-10-25<br>Relative Strength=%{x}<br>Momentum=%{y}<extra></extra>",
           "legendgroup": "",
           "marker": {
            "color": "white",
            "opacity": 0.8,
            "symbol": "circle"
           },
           "mode": "markers",
           "name": "",
           "orientation": "v",
           "showlegend": false,
           "type": "scatter",
           "x": [
            0.00023314475314832882
           ],
           "xaxis": "x",
           "y": [
            -0.0006014065100508725
           ],
           "yaxis": "y"
          }
         ],
         "name": "2024-10-25"
        },
        {
         "data": [
          {
           "hovertemplate": "Date=2024-10-28<br>Relative Strength=%{x}<br>Momentum=%{y}<extra></extra>",
           "legendgroup": "",
           "marker": {
            "color": "white",
            "opacity": 0.8,
            "symbol": "circle"
           },
           "mode": "markers",
           "name": "",
           "orientation": "v",
           "showlegend": false,
           "type": "scatter",
           "x": [
            -0.0009150102700799745
           ],
           "xaxis": "x",
           "y": [
            -0.0011481550232283033
           ],
           "yaxis": "y"
          }
         ],
         "name": "2024-10-28"
        },
        {
         "data": [
          {
           "hovertemplate": "Date=2024-10-29<br>Relative Strength=%{x}<br>Momentum=%{y}<extra></extra>",
           "legendgroup": "",
           "marker": {
            "color": "white",
            "opacity": 0.8,
            "symbol": "circle"
           },
           "mode": "markers",
           "name": "",
           "orientation": "v",
           "showlegend": false,
           "type": "scatter",
           "x": [
            -0.0008992726605295153
           ],
           "xaxis": "x",
           "y": [
            0.000015737609550459195
           ],
           "yaxis": "y"
          }
         ],
         "name": "2024-10-29"
        },
        {
         "data": [
          {
           "hovertemplate": "Date=2024-10-30<br>Relative Strength=%{x}<br>Momentum=%{y}<extra></extra>",
           "legendgroup": "",
           "marker": {
            "color": "white",
            "opacity": 0.8,
            "symbol": "circle"
           },
           "mode": "markers",
           "name": "",
           "orientation": "v",
           "showlegend": false,
           "type": "scatter",
           "x": [
            -0.000621506385939663
           ],
           "xaxis": "x",
           "y": [
            0.0002777662745898523
           ],
           "yaxis": "y"
          }
         ],
         "name": "2024-10-30"
        },
        {
         "data": [
          {
           "hovertemplate": "Date=2024-10-31<br>Relative Strength=%{x}<br>Momentum=%{y}<extra></extra>",
           "legendgroup": "",
           "marker": {
            "color": "white",
            "opacity": 0.8,
            "symbol": "circle"
           },
           "mode": "markers",
           "name": "",
           "orientation": "v",
           "showlegend": false,
           "type": "scatter",
           "x": [
            -0.0006412619125078622
           ],
           "xaxis": "x",
           "y": [
            -0.00001975552656819919
           ],
           "yaxis": "y"
          }
         ],
         "name": "2024-10-31"
        },
        {
         "data": [
          {
           "hovertemplate": "Date=2024-11-01<br>Relative Strength=%{x}<br>Momentum=%{y}<extra></extra>",
           "legendgroup": "",
           "marker": {
            "color": "white",
            "opacity": 0.8,
            "symbol": "circle"
           },
           "mode": "markers",
           "name": "",
           "orientation": "v",
           "showlegend": false,
           "type": "scatter",
           "x": [
            -0.0004379700744098101
           ],
           "xaxis": "x",
           "y": [
            0.0002032918380980521
           ],
           "yaxis": "y"
          }
         ],
         "name": "2024-11-01"
        },
        {
         "data": [
          {
           "hovertemplate": "Date=2024-11-04<br>Relative Strength=%{x}<br>Momentum=%{y}<extra></extra>",
           "legendgroup": "",
           "marker": {
            "color": "white",
            "opacity": 0.8,
            "symbol": "circle"
           },
           "mode": "markers",
           "name": "",
           "orientation": "v",
           "showlegend": false,
           "type": "scatter",
           "x": [
            -0.0015742745683428817
           ],
           "xaxis": "x",
           "y": [
            -0.0011363044939330716
           ],
           "yaxis": "y"
          }
         ],
         "name": "2024-11-04"
        },
        {
         "data": [
          {
           "hovertemplate": "Date=2024-11-05<br>Relative Strength=%{x}<br>Momentum=%{y}<extra></extra>",
           "legendgroup": "",
           "marker": {
            "color": "white",
            "opacity": 0.8,
            "symbol": "circle"
           },
           "mode": "markers",
           "name": "",
           "orientation": "v",
           "showlegend": false,
           "type": "scatter",
           "x": [
            -0.000937633708324248
           ],
           "xaxis": "x",
           "y": [
            0.0006366408600186337
           ],
           "yaxis": "y"
          }
         ],
         "name": "2024-11-05"
        },
        {
         "data": [
          {
           "hovertemplate": "Date=2024-11-06<br>Relative Strength=%{x}<br>Momentum=%{y}<extra></extra>",
           "legendgroup": "",
           "marker": {
            "color": "white",
            "opacity": 0.8,
            "symbol": "circle"
           },
           "mode": "markers",
           "name": "",
           "orientation": "v",
           "showlegend": false,
           "type": "scatter",
           "x": [
            -0.000992521295668425
           ],
           "xaxis": "x",
           "y": [
            -0.000054887587344176975
           ],
           "yaxis": "y"
          }
         ],
         "name": "2024-11-06"
        },
        {
         "data": [
          {
           "hovertemplate": "Date=2024-11-07<br>Relative Strength=%{x}<br>Momentum=%{y}<extra></extra>",
           "legendgroup": "",
           "marker": {
            "color": "white",
            "opacity": 0.8,
            "symbol": "circle"
           },
           "mode": "markers",
           "name": "",
           "orientation": "v",
           "showlegend": false,
           "type": "scatter",
           "x": [
            -0.0003737524427731565
           ],
           "xaxis": "x",
           "y": [
            0.0006187688528952685
           ],
           "yaxis": "y"
          }
         ],
         "name": "2024-11-07"
        },
        {
         "data": [
          {
           "hovertemplate": "Date=2024-11-08<br>Relative Strength=%{x}<br>Momentum=%{y}<extra></extra>",
           "legendgroup": "",
           "marker": {
            "color": "white",
            "opacity": 0.8,
            "symbol": "circle"
           },
           "mode": "markers",
           "name": "",
           "orientation": "v",
           "showlegend": false,
           "type": "scatter",
           "x": [
            0.00011897426482652116
           ],
           "xaxis": "x",
           "y": [
            0.0004927267075996776
           ],
           "yaxis": "y"
          }
         ],
         "name": "2024-11-08"
        },
        {
         "data": [
          {
           "hovertemplate": "Date=2024-11-11<br>Relative Strength=%{x}<br>Momentum=%{y}<extra></extra>",
           "legendgroup": "",
           "marker": {
            "color": "white",
            "opacity": 0.8,
            "symbol": "circle"
           },
           "mode": "markers",
           "name": "",
           "orientation": "v",
           "showlegend": false,
           "type": "scatter",
           "x": [
            0.0013673404184053938
           ],
           "xaxis": "x",
           "y": [
            0.0012483661535788726
           ],
           "yaxis": "y"
          }
         ],
         "name": "2024-11-11"
        },
        {
         "data": [
          {
           "hovertemplate": "Date=2024-11-12<br>Relative Strength=%{x}<br>Momentum=%{y}<extra></extra>",
           "legendgroup": "",
           "marker": {
            "color": "white",
            "opacity": 0.8,
            "symbol": "circle"
           },
           "mode": "markers",
           "name": "",
           "orientation": "v",
           "showlegend": false,
           "type": "scatter",
           "x": [
            0.0014761071552093165
           ],
           "xaxis": "x",
           "y": [
            0.00010876673680392272
           ],
           "yaxis": "y"
          }
         ],
         "name": "2024-11-12"
        },
        {
         "data": [
          {
           "hovertemplate": "Date=2024-11-13<br>Relative Strength=%{x}<br>Momentum=%{y}<extra></extra>",
           "legendgroup": "",
           "marker": {
            "color": "white",
            "opacity": 0.8,
            "symbol": "circle"
           },
           "mode": "markers",
           "name": "",
           "orientation": "v",
           "showlegend": false,
           "type": "scatter",
           "x": [
            0.0006140710087445213
           ],
           "xaxis": "x",
           "y": [
            -0.0008620361464647952
           ],
           "yaxis": "y"
          }
         ],
         "name": "2024-11-13"
        },
        {
         "data": [
          {
           "hovertemplate": "Date=2024-11-14<br>Relative Strength=%{x}<br>Momentum=%{y}<extra></extra>",
           "legendgroup": "",
           "marker": {
            "color": "white",
            "opacity": 0.8,
            "symbol": "circle"
           },
           "mode": "markers",
           "name": "",
           "orientation": "v",
           "showlegend": false,
           "type": "scatter",
           "x": [
            -0.002223527042612905
           ],
           "xaxis": "x",
           "y": [
            -0.0028375980513574263
           ],
           "yaxis": "y"
          }
         ],
         "name": "2024-11-14"
        },
        {
         "data": [
          {
           "hovertemplate": "Date=2024-11-18<br>Relative Strength=%{x}<br>Momentum=%{y}<extra></extra>",
           "legendgroup": "",
           "marker": {
            "color": "white",
            "opacity": 0.8,
            "symbol": "circle"
           },
           "mode": "markers",
           "name": "",
           "orientation": "v",
           "showlegend": false,
           "type": "scatter",
           "x": [
            -0.001180412046086099
           ],
           "xaxis": "x",
           "y": [
            0.0010431149965268059
           ],
           "yaxis": "y"
          }
         ],
         "name": "2024-11-18"
        },
        {
         "data": [
          {
           "hovertemplate": "Date=2024-11-19<br>Relative Strength=%{x}<br>Momentum=%{y}<extra></extra>",
           "legendgroup": "",
           "marker": {
            "color": "white",
            "opacity": 0.8,
            "symbol": "circle"
           },
           "mode": "markers",
           "name": "",
           "orientation": "v",
           "showlegend": false,
           "type": "scatter",
           "x": [
            0.00032197004721095106
           ],
           "xaxis": "x",
           "y": [
            0.00150238209329705
           ],
           "yaxis": "y"
          }
         ],
         "name": "2024-11-19"
        },
        {
         "data": [
          {
           "hovertemplate": "Date=2024-11-21<br>Relative Strength=%{x}<br>Momentum=%{y}<extra></extra>",
           "legendgroup": "",
           "marker": {
            "color": "white",
            "opacity": 0.8,
            "symbol": "circle"
           },
           "mode": "markers",
           "name": "",
           "orientation": "v",
           "showlegend": false,
           "type": "scatter",
           "x": [
            -0.000892107969590905
           ],
           "xaxis": "x",
           "y": [
            -0.001214078016801856
           ],
           "yaxis": "y"
          }
         ],
         "name": "2024-11-21"
        },
        {
         "data": [
          {
           "hovertemplate": "Date=2024-11-22<br>Relative Strength=%{x}<br>Momentum=%{y}<extra></extra>",
           "legendgroup": "",
           "marker": {
            "color": "white",
            "opacity": 0.8,
            "symbol": "circle"
           },
           "mode": "markers",
           "name": "",
           "orientation": "v",
           "showlegend": false,
           "type": "scatter",
           "x": [
            -0.0017179743613978116
           ],
           "xaxis": "x",
           "y": [
            -0.0008258663918069066
           ],
           "yaxis": "y"
          }
         ],
         "name": "2024-11-22"
        },
        {
         "data": [
          {
           "hovertemplate": "Date=2024-11-25<br>Relative Strength=%{x}<br>Momentum=%{y}<extra></extra>",
           "legendgroup": "",
           "marker": {
            "color": "white",
            "opacity": 0.8,
            "symbol": "circle"
           },
           "mode": "markers",
           "name": "",
           "orientation": "v",
           "showlegend": false,
           "type": "scatter",
           "x": [
            -0.0011497101287350265
           ],
           "xaxis": "x",
           "y": [
            0.000568264232662785
           ],
           "yaxis": "y"
          }
         ],
         "name": "2024-11-25"
        },
        {
         "data": [
          {
           "hovertemplate": "Date=2024-11-26<br>Relative Strength=%{x}<br>Momentum=%{y}<extra></extra>",
           "legendgroup": "",
           "marker": {
            "color": "white",
            "opacity": 0.8,
            "symbol": "circle"
           },
           "mode": "markers",
           "name": "",
           "orientation": "v",
           "showlegend": false,
           "type": "scatter",
           "x": [
            -0.0009045955602516642
           ],
           "xaxis": "x",
           "y": [
            0.0002451145684833623
           ],
           "yaxis": "y"
          }
         ],
         "name": "2024-11-26"
        },
        {
         "data": [
          {
           "hovertemplate": "Date=2024-11-27<br>Relative Strength=%{x}<br>Momentum=%{y}<extra></extra>",
           "legendgroup": "",
           "marker": {
            "color": "white",
            "opacity": 0.8,
            "symbol": "circle"
           },
           "mode": "markers",
           "name": "",
           "orientation": "v",
           "showlegend": false,
           "type": "scatter",
           "x": [
            -0.0009660466384349698
           ],
           "xaxis": "x",
           "y": [
            -0.00006145107818330566
           ],
           "yaxis": "y"
          }
         ],
         "name": "2024-11-27"
        },
        {
         "data": [
          {
           "hovertemplate": "Date=2024-11-28<br>Relative Strength=%{x}<br>Momentum=%{y}<extra></extra>",
           "legendgroup": "",
           "marker": {
            "color": "white",
            "opacity": 0.8,
            "symbol": "circle"
           },
           "mode": "markers",
           "name": "",
           "orientation": "v",
           "showlegend": false,
           "type": "scatter",
           "x": [
            -0.0014111358096906778
           ],
           "xaxis": "x",
           "y": [
            -0.00044508917125570793
           ],
           "yaxis": "y"
          }
         ],
         "name": "2024-11-28"
        },
        {
         "data": [
          {
           "hovertemplate": "Date=2024-11-29<br>Relative Strength=%{x}<br>Momentum=%{y}<extra></extra>",
           "legendgroup": "",
           "marker": {
            "color": "white",
            "opacity": 0.8,
            "symbol": "circle"
           },
           "mode": "markers",
           "name": "",
           "orientation": "v",
           "showlegend": false,
           "type": "scatter",
           "x": [
            -0.0010473472746787228
           ],
           "xaxis": "x",
           "y": [
            0.00036378853501195497
           ],
           "yaxis": "y"
          }
         ],
         "name": "2024-11-29"
        },
        {
         "data": [
          {
           "hovertemplate": "Date=2024-12-02<br>Relative Strength=%{x}<br>Momentum=%{y}<extra></extra>",
           "legendgroup": "",
           "marker": {
            "color": "white",
            "opacity": 0.8,
            "symbol": "circle"
           },
           "mode": "markers",
           "name": "",
           "orientation": "v",
           "showlegend": false,
           "type": "scatter",
           "x": [
            0.0007694500653654067
           ],
           "xaxis": "x",
           "y": [
            0.0018167973400441296
           ],
           "yaxis": "y"
          }
         ],
         "name": "2024-12-02"
        },
        {
         "data": [
          {
           "hovertemplate": "Date=2024-12-03<br>Relative Strength=%{x}<br>Momentum=%{y}<extra></extra>",
           "legendgroup": "",
           "marker": {
            "color": "white",
            "opacity": 0.8,
            "symbol": "circle"
           },
           "mode": "markers",
           "name": "",
           "orientation": "v",
           "showlegend": false,
           "type": "scatter",
           "x": [
            -0.00008951442190179297
           ],
           "xaxis": "x",
           "y": [
            -0.0008589644872671997
           ],
           "yaxis": "y"
          }
         ],
         "name": "2024-12-03"
        },
        {
         "data": [
          {
           "hovertemplate": "Date=2024-12-04<br>Relative Strength=%{x}<br>Momentum=%{y}<extra></extra>",
           "legendgroup": "",
           "marker": {
            "color": "white",
            "opacity": 0.8,
            "symbol": "circle"
           },
           "mode": "markers",
           "name": "",
           "orientation": "v",
           "showlegend": false,
           "type": "scatter",
           "x": [
            0.0009492014562478056
           ],
           "xaxis": "x",
           "y": [
            0.0010387158781495986
           ],
           "yaxis": "y"
          }
         ],
         "name": "2024-12-04"
        },
        {
         "data": [
          {
           "hovertemplate": "Date=2024-12-05<br>Relative Strength=%{x}<br>Momentum=%{y}<extra></extra>",
           "legendgroup": "",
           "marker": {
            "color": "white",
            "opacity": 0.8,
            "symbol": "circle"
           },
           "mode": "markers",
           "name": "",
           "orientation": "v",
           "showlegend": false,
           "type": "scatter",
           "x": [
            0.002064075314443281
           ],
           "xaxis": "x",
           "y": [
            0.0011148738581954756
           ],
           "yaxis": "y"
          }
         ],
         "name": "2024-12-05"
        },
        {
         "data": [
          {
           "hovertemplate": "Date=2024-12-06<br>Relative Strength=%{x}<br>Momentum=%{y}<extra></extra>",
           "legendgroup": "",
           "marker": {
            "color": "white",
            "opacity": 0.8,
            "symbol": "circle"
           },
           "mode": "markers",
           "name": "",
           "orientation": "v",
           "showlegend": false,
           "type": "scatter",
           "x": [
            0.0010064920653000576
           ],
           "xaxis": "x",
           "y": [
            -0.0010575832491432236
           ],
           "yaxis": "y"
          }
         ],
         "name": "2024-12-06"
        },
        {
         "data": [
          {
           "hovertemplate": "Date=2024-12-09<br>Relative Strength=%{x}<br>Momentum=%{y}<extra></extra>",
           "legendgroup": "",
           "marker": {
            "color": "white",
            "opacity": 0.8,
            "symbol": "circle"
           },
           "mode": "markers",
           "name": "",
           "orientation": "v",
           "showlegend": false,
           "type": "scatter",
           "x": [
            -0.0008953578961961915
           ],
           "xaxis": "x",
           "y": [
            -0.001901849961496249
           ],
           "yaxis": "y"
          }
         ],
         "name": "2024-12-09"
        },
        {
         "data": [
          {
           "hovertemplate": "Date=2024-12-10<br>Relative Strength=%{x}<br>Momentum=%{y}<extra></extra>",
           "legendgroup": "",
           "marker": {
            "color": "white",
            "opacity": 0.8,
            "symbol": "circle"
           },
           "mode": "markers",
           "name": "",
           "orientation": "v",
           "showlegend": false,
           "type": "scatter",
           "x": [
            -0.0019566113299828605
           ],
           "xaxis": "x",
           "y": [
            -0.001061253433786669
           ],
           "yaxis": "y"
          }
         ],
         "name": "2024-12-10"
        },
        {
         "data": [
          {
           "hovertemplate": "Date=2024-12-11<br>Relative Strength=%{x}<br>Momentum=%{y}<extra></extra>",
           "legendgroup": "",
           "marker": {
            "color": "white",
            "opacity": 0.8,
            "symbol": "circle"
           },
           "mode": "markers",
           "name": "",
           "orientation": "v",
           "showlegend": false,
           "type": "scatter",
           "x": [
            -0.000867690942612065
           ],
           "xaxis": "x",
           "y": [
            0.0010889203873707955
           ],
           "yaxis": "y"
          }
         ],
         "name": "2024-12-11"
        },
        {
         "data": [
          {
           "hovertemplate": "Date=2024-12-12<br>Relative Strength=%{x}<br>Momentum=%{y}<extra></extra>",
           "legendgroup": "",
           "marker": {
            "color": "white",
            "opacity": 0.8,
            "symbol": "circle"
           },
           "mode": "markers",
           "name": "",
           "orientation": "v",
           "showlegend": false,
           "type": "scatter",
           "x": [
            0.0010862485828292301
           ],
           "xaxis": "x",
           "y": [
            0.001953939525441295
           ],
           "yaxis": "y"
          }
         ],
         "name": "2024-12-12"
        },
        {
         "data": [
          {
           "hovertemplate": "Date=2024-12-13<br>Relative Strength=%{x}<br>Momentum=%{y}<extra></extra>",
           "legendgroup": "",
           "marker": {
            "color": "white",
            "opacity": 0.8,
            "symbol": "circle"
           },
           "mode": "markers",
           "name": "",
           "orientation": "v",
           "showlegend": false,
           "type": "scatter",
           "x": [
            0.0005169829214264233
           ],
           "xaxis": "x",
           "y": [
            -0.0005692656614028069
           ],
           "yaxis": "y"
          }
         ],
         "name": "2024-12-13"
        },
        {
         "data": [
          {
           "hovertemplate": "Date=2024-12-16<br>Relative Strength=%{x}<br>Momentum=%{y}<extra></extra>",
           "legendgroup": "",
           "marker": {
            "color": "white",
            "opacity": 0.8,
            "symbol": "circle"
           },
           "mode": "markers",
           "name": "",
           "orientation": "v",
           "showlegend": false,
           "type": "scatter",
           "x": [
            0.00039688459007523034
           ],
           "xaxis": "x",
           "y": [
            -0.00012009833135119292
           ],
           "yaxis": "y"
          }
         ],
         "name": "2024-12-16"
        },
        {
         "data": [
          {
           "hovertemplate": "Date=2024-12-17<br>Relative Strength=%{x}<br>Momentum=%{y}<extra></extra>",
           "legendgroup": "",
           "marker": {
            "color": "white",
            "opacity": 0.8,
            "symbol": "circle"
           },
           "mode": "markers",
           "name": "",
           "orientation": "v",
           "showlegend": false,
           "type": "scatter",
           "x": [
            0.0000520654685306932
           ],
           "xaxis": "x",
           "y": [
            -0.00034481912154453714
           ],
           "yaxis": "y"
          }
         ],
         "name": "2024-12-17"
        },
        {
         "data": [
          {
           "hovertemplate": "Date=2024-12-18<br>Relative Strength=%{x}<br>Momentum=%{y}<extra></extra>",
           "legendgroup": "",
           "marker": {
            "color": "white",
            "opacity": 0.8,
            "symbol": "circle"
           },
           "mode": "markers",
           "name": "",
           "orientation": "v",
           "showlegend": false,
           "type": "scatter",
           "x": [
            -0.0008316282656342542
           ],
           "xaxis": "x",
           "y": [
            -0.0008836937341649474
           ],
           "yaxis": "y"
          }
         ],
         "name": "2024-12-18"
        },
        {
         "data": [
          {
           "hovertemplate": "Date=2024-12-19<br>Relative Strength=%{x}<br>Momentum=%{y}<extra></extra>",
           "legendgroup": "",
           "marker": {
            "color": "white",
            "opacity": 0.8,
            "symbol": "circle"
           },
           "mode": "markers",
           "name": "",
           "orientation": "v",
           "showlegend": false,
           "type": "scatter",
           "x": [
            -0.0003712708039572462
           ],
           "xaxis": "x",
           "y": [
            0.00046035746167700804
           ],
           "yaxis": "y"
          }
         ],
         "name": "2024-12-19"
        },
        {
         "data": [
          {
           "hovertemplate": "Date=2024-12-20<br>Relative Strength=%{x}<br>Momentum=%{y}<extra></extra>",
           "legendgroup": "",
           "marker": {
            "color": "white",
            "opacity": 0.8,
            "symbol": "circle"
           },
           "mode": "markers",
           "name": "",
           "orientation": "v",
           "showlegend": false,
           "type": "scatter",
           "x": [
            0.0011179167400959143
           ],
           "xaxis": "x",
           "y": [
            0.0014891875440531605
           ],
           "yaxis": "y"
          }
         ],
         "name": "2024-12-20"
        },
        {
         "data": [
          {
           "hovertemplate": "Date=2024-12-23<br>Relative Strength=%{x}<br>Momentum=%{y}<extra></extra>",
           "legendgroup": "",
           "marker": {
            "color": "white",
            "opacity": 0.8,
            "symbol": "circle"
           },
           "mode": "markers",
           "name": "",
           "orientation": "v",
           "showlegend": false,
           "type": "scatter",
           "x": [
            0.002793035100992891
           ],
           "xaxis": "x",
           "y": [
            0.0016751183608969765
           ],
           "yaxis": "y"
          }
         ],
         "name": "2024-12-23"
        },
        {
         "data": [
          {
           "hovertemplate": "Date=2024-12-26<br>Relative Strength=%{x}<br>Momentum=%{y}<extra></extra>",
           "legendgroup": "",
           "marker": {
            "color": "white",
            "opacity": 0.8,
            "symbol": "circle"
           },
           "mode": "markers",
           "name": "",
           "orientation": "v",
           "showlegend": false,
           "type": "scatter",
           "x": [
            0.0038577778856668803
           ],
           "xaxis": "x",
           "y": [
            0.0010647427846739894
           ],
           "yaxis": "y"
          }
         ],
         "name": "2024-12-26"
        },
        {
         "data": [
          {
           "hovertemplate": "Date=2024-12-27<br>Relative Strength=%{x}<br>Momentum=%{y}<extra></extra>",
           "legendgroup": "",
           "marker": {
            "color": "white",
            "opacity": 0.8,
            "symbol": "circle"
           },
           "mode": "markers",
           "name": "",
           "orientation": "v",
           "showlegend": false,
           "type": "scatter",
           "x": [
            0.0030840350745245937
           ],
           "xaxis": "x",
           "y": [
            -0.0007737428111422866
           ],
           "yaxis": "y"
          }
         ],
         "name": "2024-12-27"
        },
        {
         "data": [
          {
           "hovertemplate": "Date=2024-12-30<br>Relative Strength=%{x}<br>Momentum=%{y}<extra></extra>",
           "legendgroup": "",
           "marker": {
            "color": "white",
            "opacity": 0.8,
            "symbol": "circle"
           },
           "mode": "markers",
           "name": "",
           "orientation": "v",
           "showlegend": false,
           "type": "scatter",
           "x": [
            0.001905446666946331
           ],
           "xaxis": "x",
           "y": [
            -0.0011785884075782628
           ],
           "yaxis": "y"
          }
         ],
         "name": "2024-12-30"
        },
        {
         "data": [
          {
           "hovertemplate": "Date=2025-01-02<br>Relative Strength=%{x}<br>Momentum=%{y}<extra></extra>",
           "legendgroup": "",
           "marker": {
            "color": "white",
            "opacity": 0.8,
            "symbol": "circle"
           },
           "mode": "markers",
           "name": "",
           "orientation": "v",
           "showlegend": false,
           "type": "scatter",
           "x": [
            0.0012361323186251497
           ],
           "xaxis": "x",
           "y": [
            -0.0006693143483211812
           ],
           "yaxis": "y"
          }
         ],
         "name": "2025-01-02"
        },
        {
         "data": [
          {
           "hovertemplate": "Date=2025-01-03<br>Relative Strength=%{x}<br>Momentum=%{y}<extra></extra>",
           "legendgroup": "",
           "marker": {
            "color": "white",
            "opacity": 0.8,
            "symbol": "circle"
           },
           "mode": "markers",
           "name": "",
           "orientation": "v",
           "showlegend": false,
           "type": "scatter",
           "x": [
            0.0023926751138925507
           ],
           "xaxis": "x",
           "y": [
            0.001156542795267401
           ],
           "yaxis": "y"
          }
         ],
         "name": "2025-01-03"
        },
        {
         "data": [
          {
           "hovertemplate": "Date=2025-01-06<br>Relative Strength=%{x}<br>Momentum=%{y}<extra></extra>",
           "legendgroup": "",
           "marker": {
            "color": "white",
            "opacity": 0.8,
            "symbol": "circle"
           },
           "mode": "markers",
           "name": "",
           "orientation": "v",
           "showlegend": false,
           "type": "scatter",
           "x": [
            0.001908044605503989
           ],
           "xaxis": "x",
           "y": [
            -0.0004846305083885617
           ],
           "yaxis": "y"
          }
         ],
         "name": "2025-01-06"
        },
        {
         "data": [
          {
           "hovertemplate": "Date=2025-01-07<br>Relative Strength=%{x}<br>Momentum=%{y}<extra></extra>",
           "legendgroup": "",
           "marker": {
            "color": "white",
            "opacity": 0.8,
            "symbol": "circle"
           },
           "mode": "markers",
           "name": "",
           "orientation": "v",
           "showlegend": false,
           "type": "scatter",
           "x": [
            0.001803933422078652
           ],
           "xaxis": "x",
           "y": [
            -0.00010411118342533703
           ],
           "yaxis": "y"
          }
         ],
         "name": "2025-01-07"
        },
        {
         "data": [
          {
           "hovertemplate": "Date=2025-01-08<br>Relative Strength=%{x}<br>Momentum=%{y}<extra></extra>",
           "legendgroup": "",
           "marker": {
            "color": "white",
            "opacity": 0.8,
            "symbol": "circle"
           },
           "mode": "markers",
           "name": "",
           "orientation": "v",
           "showlegend": false,
           "type": "scatter",
           "x": [
            0.002414777066003293
           ],
           "xaxis": "x",
           "y": [
            0.0006108436439246411
           ],
           "yaxis": "y"
          }
         ],
         "name": "2025-01-08"
        },
        {
         "data": [
          {
           "hovertemplate": "Date=2025-01-09<br>Relative Strength=%{x}<br>Momentum=%{y}<extra></extra>",
           "legendgroup": "",
           "marker": {
            "color": "white",
            "opacity": 0.8,
            "symbol": "circle"
           },
           "mode": "markers",
           "name": "",
           "orientation": "v",
           "showlegend": false,
           "type": "scatter",
           "x": [
            0.0026985528908547774
           ],
           "xaxis": "x",
           "y": [
            0.0002837758248514844
           ],
           "yaxis": "y"
          }
         ],
         "name": "2025-01-09"
        },
        {
         "data": [
          {
           "hovertemplate": "Date=2025-01-10<br>Relative Strength=%{x}<br>Momentum=%{y}<extra></extra>",
           "legendgroup": "",
           "marker": {
            "color": "white",
            "opacity": 0.8,
            "symbol": "circle"
           },
           "mode": "markers",
           "name": "",
           "orientation": "v",
           "showlegend": false,
           "type": "scatter",
           "x": [
            0.002794673955644611
           ],
           "xaxis": "x",
           "y": [
            0.00009612106478983345
           ],
           "yaxis": "y"
          }
         ],
         "name": "2025-01-10"
        },
        {
         "data": [
          {
           "hovertemplate": "Date=2025-01-13<br>Relative Strength=%{x}<br>Momentum=%{y}<extra></extra>",
           "legendgroup": "",
           "marker": {
            "color": "white",
            "opacity": 0.8,
            "symbol": "circle"
           },
           "mode": "markers",
           "name": "",
           "orientation": "v",
           "showlegend": false,
           "type": "scatter",
           "x": [
            0.0017545837746860472
           ],
           "xaxis": "x",
           "y": [
            -0.0010400901809585637
           ],
           "yaxis": "y"
          }
         ],
         "name": "2025-01-13"
        },
        {
         "data": [
          {
           "hovertemplate": "Date=2025-01-14<br>Relative Strength=%{x}<br>Momentum=%{y}<extra></extra>",
           "legendgroup": "",
           "marker": {
            "color": "white",
            "opacity": 0.8,
            "symbol": "circle"
           },
           "mode": "markers",
           "name": "",
           "orientation": "v",
           "showlegend": false,
           "type": "scatter",
           "x": [
            0.0030303850440125844
           ],
           "xaxis": "x",
           "y": [
            0.0012758012693265372
           ],
           "yaxis": "y"
          }
         ],
         "name": "2025-01-14"
        },
        {
         "data": [
          {
           "hovertemplate": "Date=2025-01-15<br>Relative Strength=%{x}<br>Momentum=%{y}<extra></extra>",
           "legendgroup": "",
           "marker": {
            "color": "white",
            "opacity": 0.8,
            "symbol": "circle"
           },
           "mode": "markers",
           "name": "",
           "orientation": "v",
           "showlegend": false,
           "type": "scatter",
           "x": [
            0.0024994741710574696
           ],
           "xaxis": "x",
           "y": [
            -0.0005309108729551148
           ],
           "yaxis": "y"
          }
         ],
         "name": "2025-01-15"
        },
        {
         "data": [
          {
           "hovertemplate": "Date=2025-01-16<br>Relative Strength=%{x}<br>Momentum=%{y}<extra></extra>",
           "legendgroup": "",
           "marker": {
            "color": "white",
            "opacity": 0.8,
            "symbol": "circle"
           },
           "mode": "markers",
           "name": "",
           "orientation": "v",
           "showlegend": false,
           "type": "scatter",
           "x": [
            0.004992261445702894
           ],
           "xaxis": "x",
           "y": [
            0.0024927872746454247
           ],
           "yaxis": "y"
          }
         ],
         "name": "2025-01-16"
        },
        {
         "data": [
          {
           "hovertemplate": "Date=2025-01-17<br>Relative Strength=%{x}<br>Momentum=%{y}<extra></extra>",
           "legendgroup": "",
           "marker": {
            "color": "white",
            "opacity": 0.8,
            "symbol": "circle"
           },
           "mode": "markers",
           "name": "",
           "orientation": "v",
           "showlegend": false,
           "type": "scatter",
           "x": [
            0.00338075271903161
           ],
           "xaxis": "x",
           "y": [
            -0.0016115087266712841
           ],
           "yaxis": "y"
          }
         ],
         "name": "2025-01-17"
        },
        {
         "data": [
          {
           "hovertemplate": "Date=2025-01-20<br>Relative Strength=%{x}<br>Momentum=%{y}<extra></extra>",
           "legendgroup": "",
           "marker": {
            "color": "white",
            "opacity": 0.8,
            "symbol": "circle"
           },
           "mode": "markers",
           "name": "",
           "orientation": "v",
           "showlegend": false,
           "type": "scatter",
           "x": [
            0.003868075546061711
           ],
           "xaxis": "x",
           "y": [
            0.00048732282703010076
           ],
           "yaxis": "y"
          }
         ],
         "name": "2025-01-20"
        },
        {
         "data": [
          {
           "hovertemplate": "Date=2025-01-21<br>Relative Strength=%{x}<br>Momentum=%{y}<extra></extra>",
           "legendgroup": "",
           "marker": {
            "color": "white",
            "opacity": 0.8,
            "symbol": "circle"
           },
           "mode": "markers",
           "name": "",
           "orientation": "v",
           "showlegend": false,
           "type": "scatter",
           "x": [
            0.003864071885999276
           ],
           "xaxis": "x",
           "y": [
            -0.000004003660062435084
           ],
           "yaxis": "y"
          }
         ],
         "name": "2025-01-21"
        },
        {
         "data": [
          {
           "hovertemplate": "Date=2025-01-22<br>Relative Strength=%{x}<br>Momentum=%{y}<extra></extra>",
           "legendgroup": "",
           "marker": {
            "color": "white",
            "opacity": 0.8,
            "symbol": "circle"
           },
           "mode": "markers",
           "name": "",
           "orientation": "v",
           "showlegend": false,
           "type": "scatter",
           "x": [
            0.005094227238093651
           ],
           "xaxis": "x",
           "y": [
            0.0012301553520943755
           ],
           "yaxis": "y"
          }
         ],
         "name": "2025-01-22"
        },
        {
         "data": [
          {
           "hovertemplate": "Date=2025-01-23<br>Relative Strength=%{x}<br>Momentum=%{y}<extra></extra>",
           "legendgroup": "",
           "marker": {
            "color": "white",
            "opacity": 0.8,
            "symbol": "circle"
           },
           "mode": "markers",
           "name": "",
           "orientation": "v",
           "showlegend": false,
           "type": "scatter",
           "x": [
            0.007424922621689255
           ],
           "xaxis": "x",
           "y": [
            0.002330695383595604
           ],
           "yaxis": "y"
          }
         ],
         "name": "2025-01-23"
        },
        {
         "data": [
          {
           "hovertemplate": "Date=2025-01-24<br>Relative Strength=%{x}<br>Momentum=%{y}<extra></extra>",
           "legendgroup": "",
           "marker": {
            "color": "white",
            "opacity": 0.8,
            "symbol": "circle"
           },
           "mode": "markers",
           "name": "",
           "orientation": "v",
           "showlegend": false,
           "type": "scatter",
           "x": [
            0.006555049014831714
           ],
           "xaxis": "x",
           "y": [
            -0.000869873606857541
           ],
           "yaxis": "y"
          }
         ],
         "name": "2025-01-24"
        },
        {
         "data": [
          {
           "hovertemplate": "Date=2025-01-27<br>Relative Strength=%{x}<br>Momentum=%{y}<extra></extra>",
           "legendgroup": "",
           "marker": {
            "color": "white",
            "opacity": 0.8,
            "symbol": "circle"
           },
           "mode": "markers",
           "name": "",
           "orientation": "v",
           "showlegend": false,
           "type": "scatter",
           "x": [
            0.008804471146994775
           ],
           "xaxis": "x",
           "y": [
            0.002249422132163061
           ],
           "yaxis": "y"
          }
         ],
         "name": "2025-01-27"
        },
        {
         "data": [
          {
           "hovertemplate": "Date=2025-01-28<br>Relative Strength=%{x}<br>Momentum=%{y}<extra></extra>",
           "legendgroup": "",
           "marker": {
            "color": "white",
            "opacity": 0.8,
            "symbol": "circle"
           },
           "mode": "markers",
           "name": "",
           "orientation": "v",
           "showlegend": false,
           "type": "scatter",
           "x": [
            0.007228338371199639
           ],
           "xaxis": "x",
           "y": [
            -0.0015761327757951365
           ],
           "yaxis": "y"
          }
         ],
         "name": "2025-01-28"
        },
        {
         "data": [
          {
           "hovertemplate": "Date=2025-01-29<br>Relative Strength=%{x}<br>Momentum=%{y}<extra></extra>",
           "legendgroup": "",
           "marker": {
            "color": "white",
            "opacity": 0.8,
            "symbol": "circle"
           },
           "mode": "markers",
           "name": "",
           "orientation": "v",
           "showlegend": false,
           "type": "scatter",
           "x": [
            0.007698115009304918
           ],
           "xaxis": "x",
           "y": [
            0.00046977663810527943
           ],
           "yaxis": "y"
          }
         ],
         "name": "2025-01-29"
        },
        {
         "data": [
          {
           "hovertemplate": "Date=2025-01-30<br>Relative Strength=%{x}<br>Momentum=%{y}<extra></extra>",
           "legendgroup": "",
           "marker": {
            "color": "white",
            "opacity": 0.8,
            "symbol": "circle"
           },
           "mode": "markers",
           "name": "",
           "orientation": "v",
           "showlegend": false,
           "type": "scatter",
           "x": [
            0.004016992996278756
           ],
           "xaxis": "x",
           "y": [
            -0.003681122013026162
           ],
           "yaxis": "y"
          }
         ],
         "name": "2025-01-30"
        },
        {
         "data": [
          {
           "hovertemplate": "Date=2025-01-31<br>Relative Strength=%{x}<br>Momentum=%{y}<extra></extra>",
           "legendgroup": "",
           "marker": {
            "color": "white",
            "opacity": 0.8,
            "symbol": "circle"
           },
           "mode": "markers",
           "name": "",
           "orientation": "v",
           "showlegend": false,
           "type": "scatter",
           "x": [
            0.005813462191040309
           ],
           "xaxis": "x",
           "y": [
            0.0017964691947615526
           ],
           "yaxis": "y"
          }
         ],
         "name": "2025-01-31"
        },
        {
         "data": [
          {
           "hovertemplate": "Date=2025-02-03<br>Relative Strength=%{x}<br>Momentum=%{y}<extra></extra>",
           "legendgroup": "",
           "marker": {
            "color": "white",
            "opacity": 0.8,
            "symbol": "circle"
           },
           "mode": "markers",
           "name": "",
           "orientation": "v",
           "showlegend": false,
           "type": "scatter",
           "x": [
            0.0055335478542480445
           ],
           "xaxis": "x",
           "y": [
            -0.00027991433679226425
           ],
           "yaxis": "y"
          }
         ],
         "name": "2025-02-03"
        },
        {
         "data": [
          {
           "hovertemplate": "Date=2025-02-04<br>Relative Strength=%{x}<br>Momentum=%{y}<extra></extra>",
           "legendgroup": "",
           "marker": {
            "color": "white",
            "opacity": 0.8,
            "symbol": "circle"
           },
           "mode": "markers",
           "name": "",
           "orientation": "v",
           "showlegend": false,
           "type": "scatter",
           "x": [
            0.0065106910369310605
           ],
           "xaxis": "x",
           "y": [
            0.000977143182683016
           ],
           "yaxis": "y"
          }
         ],
         "name": "2025-02-04"
        },
        {
         "data": [
          {
           "hovertemplate": "Date=2025-02-05<br>Relative Strength=%{x}<br>Momentum=%{y}<extra></extra>",
           "legendgroup": "",
           "marker": {
            "color": "white",
            "opacity": 0.8,
            "symbol": "circle"
           },
           "mode": "markers",
           "name": "",
           "orientation": "v",
           "showlegend": false,
           "type": "scatter",
           "x": [
            0.0042891272306485925
           ],
           "xaxis": "x",
           "y": [
            -0.002221563806282468
           ],
           "yaxis": "y"
          }
         ],
         "name": "2025-02-05"
        },
        {
         "data": [
          {
           "hovertemplate": "Date=2025-02-06<br>Relative Strength=%{x}<br>Momentum=%{y}<extra></extra>",
           "legendgroup": "",
           "marker": {
            "color": "white",
            "opacity": 0.8,
            "symbol": "circle"
           },
           "mode": "markers",
           "name": "",
           "orientation": "v",
           "showlegend": false,
           "type": "scatter",
           "x": [
            0.002232926153180059
           ],
           "xaxis": "x",
           "y": [
            -0.0020562010774685334
           ],
           "yaxis": "y"
          }
         ],
         "name": "2025-02-06"
        },
        {
         "data": [
          {
           "hovertemplate": "Date=2025-02-07<br>Relative Strength=%{x}<br>Momentum=%{y}<extra></extra>",
           "legendgroup": "",
           "marker": {
            "color": "white",
            "opacity": 0.8,
            "symbol": "circle"
           },
           "mode": "markers",
           "name": "",
           "orientation": "v",
           "showlegend": false,
           "type": "scatter",
           "x": [
            0.002535730757300247
           ],
           "xaxis": "x",
           "y": [
            0.00030280460412018817
           ],
           "yaxis": "y"
          }
         ],
         "name": "2025-02-07"
        },
        {
         "data": [
          {
           "hovertemplate": "Date=2025-02-10<br>Relative Strength=%{x}<br>Momentum=%{y}<extra></extra>",
           "legendgroup": "",
           "marker": {
            "color": "white",
            "opacity": 0.8,
            "symbol": "circle"
           },
           "mode": "markers",
           "name": "",
           "orientation": "v",
           "showlegend": false,
           "type": "scatter",
           "x": [
            -0.0002073985347873286
           ],
           "xaxis": "x",
           "y": [
            -0.002743129292087576
           ],
           "yaxis": "y"
          }
         ],
         "name": "2025-02-10"
        },
        {
         "data": [
          {
           "hovertemplate": "Date=2025-02-11<br>Relative Strength=%{x}<br>Momentum=%{y}<extra></extra>",
           "legendgroup": "",
           "marker": {
            "color": "white",
            "opacity": 0.8,
            "symbol": "circle"
           },
           "mode": "markers",
           "name": "",
           "orientation": "v",
           "showlegend": false,
           "type": "scatter",
           "x": [
            -0.00009718531251812212
           ],
           "xaxis": "x",
           "y": [
            0.00011021322226920647
           ],
           "yaxis": "y"
          }
         ],
         "name": "2025-02-11"
        },
        {
         "data": [
          {
           "hovertemplate": "Date=2025-02-12<br>Relative Strength=%{x}<br>Momentum=%{y}<extra></extra>",
           "legendgroup": "",
           "marker": {
            "color": "white",
            "opacity": 0.8,
            "symbol": "circle"
           },
           "mode": "markers",
           "name": "",
           "orientation": "v",
           "showlegend": false,
           "type": "scatter",
           "x": [
            -0.00021961907342693543
           ],
           "xaxis": "x",
           "y": [
            -0.0001224337609088133
           ],
           "yaxis": "y"
          }
         ],
         "name": "2025-02-12"
        },
        {
         "data": [
          {
           "hovertemplate": "Date=2025-02-13<br>Relative Strength=%{x}<br>Momentum=%{y}<extra></extra>",
           "legendgroup": "",
           "marker": {
            "color": "white",
            "opacity": 0.8,
            "symbol": "circle"
           },
           "mode": "markers",
           "name": "",
           "orientation": "v",
           "showlegend": false,
           "type": "scatter",
           "x": [
            0.0009503476609050933
           ],
           "xaxis": "x",
           "y": [
            0.0011699667343320287
           ],
           "yaxis": "y"
          }
         ],
         "name": "2025-02-13"
        },
        {
         "data": [
          {
           "hovertemplate": "Date=2025-02-14<br>Relative Strength=%{x}<br>Momentum=%{y}<extra></extra>",
           "legendgroup": "",
           "marker": {
            "color": "white",
            "opacity": 0.8,
            "symbol": "circle"
           },
           "mode": "markers",
           "name": "",
           "orientation": "v",
           "showlegend": false,
           "type": "scatter",
           "x": [
            0.002230055107078321
           ],
           "xaxis": "x",
           "y": [
            0.0012797074461732276
           ],
           "yaxis": "y"
          }
         ],
         "name": "2025-02-14"
        },
        {
         "data": [
          {
           "hovertemplate": "Date=2025-02-17<br>Relative Strength=%{x}<br>Momentum=%{y}<extra></extra>",
           "legendgroup": "",
           "marker": {
            "color": "white",
            "opacity": 0.8,
            "symbol": "circle"
           },
           "mode": "markers",
           "name": "",
           "orientation": "v",
           "showlegend": false,
           "type": "scatter",
           "x": [
            0.0032712687311593496
           ],
           "xaxis": "x",
           "y": [
            0.0010412136240810286
           ],
           "yaxis": "y"
          }
         ],
         "name": "2025-02-17"
        },
        {
         "data": [
          {
           "hovertemplate": "Date=2025-02-18<br>Relative Strength=%{x}<br>Momentum=%{y}<extra></extra>",
           "legendgroup": "",
           "marker": {
            "color": "white",
            "opacity": 0.8,
            "symbol": "circle"
           },
           "mode": "markers",
           "name": "",
           "orientation": "v",
           "showlegend": false,
           "type": "scatter",
           "x": [
            0.00329446371568004
           ],
           "xaxis": "x",
           "y": [
            0.000023194984520690486
           ],
           "yaxis": "y"
          }
         ],
         "name": "2025-02-18"
        },
        {
         "data": [
          {
           "hovertemplate": "Date=2025-02-19<br>Relative Strength=%{x}<br>Momentum=%{y}<extra></extra>",
           "legendgroup": "",
           "marker": {
            "color": "white",
            "opacity": 0.8,
            "symbol": "circle"
           },
           "mode": "markers",
           "name": "",
           "orientation": "v",
           "showlegend": false,
           "type": "scatter",
           "x": [
            0.002335753018284559
           ],
           "xaxis": "x",
           "y": [
            -0.000958710697395481
           ],
           "yaxis": "y"
          }
         ],
         "name": "2025-02-19"
        },
        {
         "data": [
          {
           "hovertemplate": "Date=2025-02-20<br>Relative Strength=%{x}<br>Momentum=%{y}<extra></extra>",
           "legendgroup": "",
           "marker": {
            "color": "white",
            "opacity": 0.8,
            "symbol": "circle"
           },
           "mode": "markers",
           "name": "",
           "orientation": "v",
           "showlegend": false,
           "type": "scatter",
           "x": [
            -0.0014728990034879928
           ],
           "xaxis": "x",
           "y": [
            -0.0038086520217725517
           ],
           "yaxis": "y"
          }
         ],
         "name": "2025-02-20"
        },
        {
         "data": [
          {
           "hovertemplate": "Date=2025-02-21<br>Relative Strength=%{x}<br>Momentum=%{y}<extra></extra>",
           "legendgroup": "",
           "marker": {
            "color": "white",
            "opacity": 0.8,
            "symbol": "circle"
           },
           "mode": "markers",
           "name": "",
           "orientation": "v",
           "showlegend": false,
           "type": "scatter",
           "x": [
            -0.0011315904993834836
           ],
           "xaxis": "x",
           "y": [
            0.00034130850410450924
           ],
           "yaxis": "y"
          }
         ],
         "name": "2025-02-21"
        },
        {
         "data": [
          {
           "hovertemplate": "Date=2025-02-24<br>Relative Strength=%{x}<br>Momentum=%{y}<extra></extra>",
           "legendgroup": "",
           "marker": {
            "color": "white",
            "opacity": 0.8,
            "symbol": "circle"
           },
           "mode": "markers",
           "name": "",
           "orientation": "v",
           "showlegend": false,
           "type": "scatter",
           "x": [
            0.00024005336730759108
           ],
           "xaxis": "x",
           "y": [
            0.0013716438666910747
           ],
           "yaxis": "y"
          }
         ],
         "name": "2025-02-24"
        },
        {
         "data": [
          {
           "hovertemplate": "Date=2025-02-25<br>Relative Strength=%{x}<br>Momentum=%{y}<extra></extra>",
           "legendgroup": "",
           "marker": {
            "color": "white",
            "opacity": 0.8,
            "symbol": "circle"
           },
           "mode": "markers",
           "name": "",
           "orientation": "v",
           "showlegend": false,
           "type": "scatter",
           "x": [
            0.0011824358201625307
           ],
           "xaxis": "x",
           "y": [
            0.0009423824528549396
           ],
           "yaxis": "y"
          }
         ],
         "name": "2025-02-25"
        },
        {
         "data": [
          {
           "hovertemplate": "Date=2025-02-26<br>Relative Strength=%{x}<br>Momentum=%{y}<extra></extra>",
           "legendgroup": "",
           "marker": {
            "color": "white",
            "opacity": 0.8,
            "symbol": "circle"
           },
           "mode": "markers",
           "name": "",
           "orientation": "v",
           "showlegend": false,
           "type": "scatter",
           "x": [
            0.0015232748521868066
           ],
           "xaxis": "x",
           "y": [
            0.0003408390320242759
           ],
           "yaxis": "y"
          }
         ],
         "name": "2025-02-26"
        },
        {
         "data": [
          {
           "hovertemplate": "Date=2025-02-27<br>Relative Strength=%{x}<br>Momentum=%{y}<extra></extra>",
           "legendgroup": "",
           "marker": {
            "color": "white",
            "opacity": 0.8,
            "symbol": "circle"
           },
           "mode": "markers",
           "name": "",
           "orientation": "v",
           "showlegend": false,
           "type": "scatter",
           "x": [
            0.002028703200667925
           ],
           "xaxis": "x",
           "y": [
            0.0005054283484811186
           ],
           "yaxis": "y"
          }
         ],
         "name": "2025-02-27"
        },
        {
         "data": [
          {
           "hovertemplate": "Date=2025-02-28<br>Relative Strength=%{x}<br>Momentum=%{y}<extra></extra>",
           "legendgroup": "",
           "marker": {
            "color": "white",
            "opacity": 0.8,
            "symbol": "circle"
           },
           "mode": "markers",
           "name": "",
           "orientation": "v",
           "showlegend": false,
           "type": "scatter",
           "x": [
            -0.0007309090846366441
           ],
           "xaxis": "x",
           "y": [
            -0.0027596122853045693
           ],
           "yaxis": "y"
          }
         ],
         "name": "2025-02-28"
        },
        {
         "data": [
          {
           "hovertemplate": "Date=2025-03-05<br>Relative Strength=%{x}<br>Momentum=%{y}<extra></extra>",
           "legendgroup": "",
           "marker": {
            "color": "white",
            "opacity": 0.8,
            "symbol": "circle"
           },
           "mode": "markers",
           "name": "",
           "orientation": "v",
           "showlegend": false,
           "type": "scatter",
           "x": [
            -0.00016763809410884605
           ],
           "xaxis": "x",
           "y": [
            0.0005632709905277981
           ],
           "yaxis": "y"
          }
         ],
         "name": "2025-03-05"
        },
        {
         "data": [
          {
           "hovertemplate": "Date=2025-03-06<br>Relative Strength=%{x}<br>Momentum=%{y}<extra></extra>",
           "legendgroup": "",
           "marker": {
            "color": "white",
            "opacity": 0.8,
            "symbol": "circle"
           },
           "mode": "markers",
           "name": "",
           "orientation": "v",
           "showlegend": false,
           "type": "scatter",
           "x": [
            -0.001820448351387183
           ],
           "xaxis": "x",
           "y": [
            -0.0016528102572783369
           ],
           "yaxis": "y"
          }
         ],
         "name": "2025-03-06"
        },
        {
         "data": [
          {
           "hovertemplate": "Date=2025-03-07<br>Relative Strength=%{x}<br>Momentum=%{y}<extra></extra>",
           "legendgroup": "",
           "marker": {
            "color": "white",
            "opacity": 0.8,
            "symbol": "circle"
           },
           "mode": "markers",
           "name": "",
           "orientation": "v",
           "showlegend": false,
           "type": "scatter",
           "x": [
            -0.0009379810791058651
           ],
           "xaxis": "x",
           "y": [
            0.0008824672722813178
           ],
           "yaxis": "y"
          }
         ],
         "name": "2025-03-07"
        },
        {
         "data": [
          {
           "hovertemplate": "Date=2025-03-10<br>Relative Strength=%{x}<br>Momentum=%{y}<extra></extra>",
           "legendgroup": "",
           "marker": {
            "color": "white",
            "opacity": 0.8,
            "symbol": "circle"
           },
           "mode": "markers",
           "name": "",
           "orientation": "v",
           "showlegend": false,
           "type": "scatter",
           "x": [
            0.0023632334852571545
           ],
           "xaxis": "x",
           "y": [
            0.0033012145643630197
           ],
           "yaxis": "y"
          }
         ],
         "name": "2025-03-10"
        },
        {
         "data": [
          {
           "hovertemplate": "Date=2025-03-11<br>Relative Strength=%{x}<br>Momentum=%{y}<extra></extra>",
           "legendgroup": "",
           "marker": {
            "color": "white",
            "opacity": 0.8,
            "symbol": "circle"
           },
           "mode": "markers",
           "name": "",
           "orientation": "v",
           "showlegend": false,
           "type": "scatter",
           "x": [
            0.0019828869597925294
           ],
           "xaxis": "x",
           "y": [
            -0.0003803465254646251
           ],
           "yaxis": "y"
          }
         ],
         "name": "2025-03-11"
        },
        {
         "data": [
          {
           "hovertemplate": "Date=2025-03-12<br>Relative Strength=%{x}<br>Momentum=%{y}<extra></extra>",
           "legendgroup": "",
           "marker": {
            "color": "white",
            "opacity": 0.8,
            "symbol": "circle"
           },
           "mode": "markers",
           "name": "",
           "orientation": "v",
           "showlegend": false,
           "type": "scatter",
           "x": [
            -0.00044636453611812676
           ],
           "xaxis": "x",
           "y": [
            -0.002429251495910656
           ],
           "yaxis": "y"
          }
         ],
         "name": "2025-03-12"
        },
        {
         "data": [
          {
           "hovertemplate": "Date=2025-03-13<br>Relative Strength=%{x}<br>Momentum=%{y}<extra></extra>",
           "legendgroup": "",
           "marker": {
            "color": "white",
            "opacity": 0.8,
            "symbol": "circle"
           },
           "mode": "markers",
           "name": "",
           "orientation": "v",
           "showlegend": false,
           "type": "scatter",
           "x": [
            -0.001299685384654814
           ],
           "xaxis": "x",
           "y": [
            -0.0008533208485366872
           ],
           "yaxis": "y"
          }
         ],
         "name": "2025-03-13"
        },
        {
         "data": [
          {
           "hovertemplate": "Date=2025-03-14<br>Relative Strength=%{x}<br>Momentum=%{y}<extra></extra>",
           "legendgroup": "",
           "marker": {
            "color": "white",
            "opacity": 0.8,
            "symbol": "circle"
           },
           "mode": "markers",
           "name": "",
           "orientation": "v",
           "showlegend": false,
           "type": "scatter",
           "x": [
            -0.0029180135676936
           ],
           "xaxis": "x",
           "y": [
            -0.0016183281830387862
           ],
           "yaxis": "y"
          }
         ],
         "name": "2025-03-14"
        },
        {
         "data": [
          {
           "hovertemplate": "Date=2025-03-17<br>Relative Strength=%{x}<br>Momentum=%{y}<extra></extra>",
           "legendgroup": "",
           "marker": {
            "color": "white",
            "opacity": 0.8,
            "symbol": "circle"
           },
           "mode": "markers",
           "name": "",
           "orientation": "v",
           "showlegend": false,
           "type": "scatter",
           "x": [
            -0.0018772676571402252
           ],
           "xaxis": "x",
           "y": [
            0.001040745910553375
           ],
           "yaxis": "y"
          }
         ],
         "name": "2025-03-17"
        },
        {
         "data": [
          {
           "hovertemplate": "Date=2025-03-18<br>Relative Strength=%{x}<br>Momentum=%{y}<extra></extra>",
           "legendgroup": "",
           "marker": {
            "color": "white",
            "opacity": 0.8,
            "symbol": "circle"
           },
           "mode": "markers",
           "name": "",
           "orientation": "v",
           "showlegend": false,
           "type": "scatter",
           "x": [
            -0.0015044826615986384
           ],
           "xaxis": "x",
           "y": [
            0.0003727849955415868
           ],
           "yaxis": "y"
          }
         ],
         "name": "2025-03-18"
        },
        {
         "data": [
          {
           "hovertemplate": "Date=2025-03-19<br>Relative Strength=%{x}<br>Momentum=%{y}<extra></extra>",
           "legendgroup": "",
           "marker": {
            "color": "white",
            "opacity": 0.8,
            "symbol": "circle"
           },
           "mode": "markers",
           "name": "",
           "orientation": "v",
           "showlegend": false,
           "type": "scatter",
           "x": [
            -0.004158561510804537
           ],
           "xaxis": "x",
           "y": [
            -0.002654078849205899
           ],
           "yaxis": "y"
          }
         ],
         "name": "2025-03-19"
        },
        {
         "data": [
          {
           "hovertemplate": "Date=2025-03-20<br>Relative Strength=%{x}<br>Momentum=%{y}<extra></extra>",
           "legendgroup": "",
           "marker": {
            "color": "white",
            "opacity": 0.8,
            "symbol": "circle"
           },
           "mode": "markers",
           "name": "",
           "orientation": "v",
           "showlegend": false,
           "type": "scatter",
           "x": [
            -0.0038375648868373413
           ],
           "xaxis": "x",
           "y": [
            0.0003209966239671961
           ],
           "yaxis": "y"
          }
         ],
         "name": "2025-03-20"
        },
        {
         "data": [
          {
           "hovertemplate": "Date=2025-03-21<br>Relative Strength=%{x}<br>Momentum=%{y}<extra></extra>",
           "legendgroup": "",
           "marker": {
            "color": "white",
            "opacity": 0.8,
            "symbol": "circle"
           },
           "mode": "markers",
           "name": "",
           "orientation": "v",
           "showlegend": false,
           "type": "scatter",
           "x": [
            -0.003538926592322389
           ],
           "xaxis": "x",
           "y": [
            0.0002986382945149523
           ],
           "yaxis": "y"
          }
         ],
         "name": "2025-03-21"
        },
        {
         "data": [
          {
           "hovertemplate": "Date=2025-03-24<br>Relative Strength=%{x}<br>Momentum=%{y}<extra></extra>",
           "legendgroup": "",
           "marker": {
            "color": "white",
            "opacity": 0.8,
            "symbol": "circle"
           },
           "mode": "markers",
           "name": "",
           "orientation": "v",
           "showlegend": false,
           "type": "scatter",
           "x": [
            -0.0028923845367396007
           ],
           "xaxis": "x",
           "y": [
            0.0006465420555827883
           ],
           "yaxis": "y"
          }
         ],
         "name": "2025-03-24"
        },
        {
         "data": [
          {
           "hovertemplate": "Date=2025-03-25<br>Relative Strength=%{x}<br>Momentum=%{y}<extra></extra>",
           "legendgroup": "",
           "marker": {
            "color": "white",
            "opacity": 0.8,
            "symbol": "circle"
           },
           "mode": "markers",
           "name": "",
           "orientation": "v",
           "showlegend": false,
           "type": "scatter",
           "x": [
            -0.0029922663765870492
           ],
           "xaxis": "x",
           "y": [
            -0.00009988183984744855
           ],
           "yaxis": "y"
          }
         ],
         "name": "2025-03-25"
        },
        {
         "data": [
          {
           "hovertemplate": "Date=2025-03-26<br>Relative Strength=%{x}<br>Momentum=%{y}<extra></extra>",
           "legendgroup": "",
           "marker": {
            "color": "white",
            "opacity": 0.8,
            "symbol": "circle"
           },
           "mode": "markers",
           "name": "",
           "orientation": "v",
           "showlegend": false,
           "type": "scatter",
           "x": [
            -0.00046191784855496073
           ],
           "xaxis": "x",
           "y": [
            0.0025303485280320885
           ],
           "yaxis": "y"
          }
         ],
         "name": "2025-03-26"
        },
        {
         "data": [
          {
           "hovertemplate": "Date=2025-03-27<br>Relative Strength=%{x}<br>Momentum=%{y}<extra></extra>",
           "legendgroup": "",
           "marker": {
            "color": "white",
            "opacity": 0.8,
            "symbol": "circle"
           },
           "mode": "markers",
           "name": "",
           "orientation": "v",
           "showlegend": false,
           "type": "scatter",
           "x": [
            -0.0015482970551649487
           ],
           "xaxis": "x",
           "y": [
            -0.001086379206609988
           ],
           "yaxis": "y"
          }
         ],
         "name": "2025-03-27"
        },
        {
         "data": [
          {
           "hovertemplate": "Date=2025-03-28<br>Relative Strength=%{x}<br>Momentum=%{y}<extra></extra>",
           "legendgroup": "",
           "marker": {
            "color": "white",
            "opacity": 0.8,
            "symbol": "circle"
           },
           "mode": "markers",
           "name": "",
           "orientation": "v",
           "showlegend": false,
           "type": "scatter",
           "x": [
            0.00043781021187676555
           ],
           "xaxis": "x",
           "y": [
            0.0019861072670417142
           ],
           "yaxis": "y"
          }
         ],
         "name": "2025-03-28"
        },
        {
         "data": [
          {
           "hovertemplate": "Date=2025-03-31<br>Relative Strength=%{x}<br>Momentum=%{y}<extra></extra>",
           "legendgroup": "",
           "marker": {
            "color": "white",
            "opacity": 0.8,
            "symbol": "circle"
           },
           "mode": "markers",
           "name": "",
           "orientation": "v",
           "showlegend": false,
           "type": "scatter",
           "x": [
            -0.0005133721042154371
           ],
           "xaxis": "x",
           "y": [
            -0.0009511823160922026
           ],
           "yaxis": "y"
          }
         ],
         "name": "2025-03-31"
        },
        {
         "data": [
          {
           "hovertemplate": "Date=2025-04-01<br>Relative Strength=%{x}<br>Momentum=%{y}<extra></extra>",
           "legendgroup": "",
           "marker": {
            "color": "white",
            "opacity": 0.8,
            "symbol": "circle"
           },
           "mode": "markers",
           "name": "",
           "orientation": "v",
           "showlegend": false,
           "type": "scatter",
           "x": [
            -0.00034830294366791084
           ],
           "xaxis": "x",
           "y": [
            0.00016506916054752623
           ],
           "yaxis": "y"
          }
         ],
         "name": "2025-04-01"
        },
        {
         "data": [
          {
           "hovertemplate": "Date=2025-04-02<br>Relative Strength=%{x}<br>Momentum=%{y}<extra></extra>",
           "legendgroup": "",
           "marker": {
            "color": "white",
            "opacity": 0.8,
            "symbol": "circle"
           },
           "mode": "markers",
           "name": "",
           "orientation": "v",
           "showlegend": false,
           "type": "scatter",
           "x": [
            0.0008611740441996641
           ],
           "xaxis": "x",
           "y": [
            0.001209476987867575
           ],
           "yaxis": "y"
          }
         ],
         "name": "2025-04-02"
        },
        {
         "data": [
          {
           "hovertemplate": "Date=2025-04-03<br>Relative Strength=%{x}<br>Momentum=%{y}<extra></extra>",
           "legendgroup": "",
           "marker": {
            "color": "white",
            "opacity": 0.8,
            "symbol": "circle"
           },
           "mode": "markers",
           "name": "",
           "orientation": "v",
           "showlegend": false,
           "type": "scatter",
           "x": [
            0.0015386876239388502
           ],
           "xaxis": "x",
           "y": [
            0.000677513579739186
           ],
           "yaxis": "y"
          }
         ],
         "name": "2025-04-03"
        },
        {
         "data": [
          {
           "hovertemplate": "Date=2025-04-04<br>Relative Strength=%{x}<br>Momentum=%{y}<extra></extra>",
           "legendgroup": "",
           "marker": {
            "color": "white",
            "opacity": 0.8,
            "symbol": "circle"
           },
           "mode": "markers",
           "name": "",
           "orientation": "v",
           "showlegend": false,
           "type": "scatter",
           "x": [
            0.0025129287497552503
           ],
           "xaxis": "x",
           "y": [
            0.0009742411258164001
           ],
           "yaxis": "y"
          }
         ],
         "name": "2025-04-04"
        },
        {
         "data": [
          {
           "hovertemplate": "Date=2025-04-07<br>Relative Strength=%{x}<br>Momentum=%{y}<extra></extra>",
           "legendgroup": "",
           "marker": {
            "color": "white",
            "opacity": 0.8,
            "symbol": "circle"
           },
           "mode": "markers",
           "name": "",
           "orientation": "v",
           "showlegend": false,
           "type": "scatter",
           "x": [
            0.002012989894855522
           ],
           "xaxis": "x",
           "y": [
            -0.0004999388548997284
           ],
           "yaxis": "y"
          }
         ],
         "name": "2025-04-07"
        },
        {
         "data": [
          {
           "hovertemplate": "Date=2025-04-08<br>Relative Strength=%{x}<br>Momentum=%{y}<extra></extra>",
           "legendgroup": "",
           "marker": {
            "color": "white",
            "opacity": 0.8,
            "symbol": "circle"
           },
           "mode": "markers",
           "name": "",
           "orientation": "v",
           "showlegend": false,
           "type": "scatter",
           "x": [
            0.003331917344641077
           ],
           "xaxis": "x",
           "y": [
            0.0013189274497855553
           ],
           "yaxis": "y"
          }
         ],
         "name": "2025-04-08"
        },
        {
         "data": [
          {
           "hovertemplate": "Date=2025-04-09<br>Relative Strength=%{x}<br>Momentum=%{y}<extra></extra>",
           "legendgroup": "",
           "marker": {
            "color": "white",
            "opacity": 0.8,
            "symbol": "circle"
           },
           "mode": "markers",
           "name": "",
           "orientation": "v",
           "showlegend": false,
           "type": "scatter",
           "x": [
            -0.000203601044036039
           ],
           "xaxis": "x",
           "y": [
            -0.003535518388677116
           ],
           "yaxis": "y"
          }
         ],
         "name": "2025-04-09"
        },
        {
         "data": [
          {
           "hovertemplate": "Date=2025-04-10<br>Relative Strength=%{x}<br>Momentum=%{y}<extra></extra>",
           "legendgroup": "",
           "marker": {
            "color": "white",
            "opacity": 0.8,
            "symbol": "circle"
           },
           "mode": "markers",
           "name": "",
           "orientation": "v",
           "showlegend": false,
           "type": "scatter",
           "x": [
            0.0011304570564883432
           ],
           "xaxis": "x",
           "y": [
            0.0013340581005243822
           ],
           "yaxis": "y"
          }
         ],
         "name": "2025-04-10"
        },
        {
         "data": [
          {
           "hovertemplate": "Date=2025-04-11<br>Relative Strength=%{x}<br>Momentum=%{y}<extra></extra>",
           "legendgroup": "",
           "marker": {
            "color": "white",
            "opacity": 0.8,
            "symbol": "circle"
           },
           "mode": "markers",
           "name": "",
           "orientation": "v",
           "showlegend": false,
           "type": "scatter",
           "x": [
            0.0001888019583560327
           ],
           "xaxis": "x",
           "y": [
            -0.0009416550981323104
           ],
           "yaxis": "y"
          }
         ],
         "name": "2025-04-11"
        },
        {
         "data": [
          {
           "hovertemplate": "Date=2025-04-14<br>Relative Strength=%{x}<br>Momentum=%{y}<extra></extra>",
           "legendgroup": "",
           "marker": {
            "color": "white",
            "opacity": 0.8,
            "symbol": "circle"
           },
           "mode": "markers",
           "name": "",
           "orientation": "v",
           "showlegend": false,
           "type": "scatter",
           "x": [
            0.00009856272846080482
           ],
           "xaxis": "x",
           "y": [
            -0.0000902392298952279
           ],
           "yaxis": "y"
          }
         ],
         "name": "2025-04-14"
        },
        {
         "data": [
          {
           "hovertemplate": "Date=2025-04-15<br>Relative Strength=%{x}<br>Momentum=%{y}<extra></extra>",
           "legendgroup": "",
           "marker": {
            "color": "white",
            "opacity": 0.8,
            "symbol": "circle"
           },
           "mode": "markers",
           "name": "",
           "orientation": "v",
           "showlegend": false,
           "type": "scatter",
           "x": [
            -0.0006244277788118426
           ],
           "xaxis": "x",
           "y": [
            -0.0007229905072726475
           ],
           "yaxis": "y"
          }
         ],
         "name": "2025-04-15"
        },
        {
         "data": [
          {
           "hovertemplate": "Date=2025-04-16<br>Relative Strength=%{x}<br>Momentum=%{y}<extra></extra>",
           "legendgroup": "",
           "marker": {
            "color": "white",
            "opacity": 0.8,
            "symbol": "circle"
           },
           "mode": "markers",
           "name": "",
           "orientation": "v",
           "showlegend": false,
           "type": "scatter",
           "x": [
            -0.0003763405174414423
           ],
           "xaxis": "x",
           "y": [
            0.0002480872613704003
           ],
           "yaxis": "y"
          }
         ],
         "name": "2025-04-16"
        },
        {
         "data": [
          {
           "hovertemplate": "Date=2025-04-17<br>Relative Strength=%{x}<br>Momentum=%{y}<extra></extra>",
           "legendgroup": "",
           "marker": {
            "color": "white",
            "opacity": 0.8,
            "symbol": "circle"
           },
           "mode": "markers",
           "name": "",
           "orientation": "v",
           "showlegend": false,
           "type": "scatter",
           "x": [
            -0.0028125556781483764
           ],
           "xaxis": "x",
           "y": [
            -0.002436215160706934
           ],
           "yaxis": "y"
          }
         ],
         "name": "2025-04-17"
        },
        {
         "data": [
          {
           "hovertemplate": "Date=2025-04-22<br>Relative Strength=%{x}<br>Momentum=%{y}<extra></extra>",
           "legendgroup": "",
           "marker": {
            "color": "white",
            "opacity": 0.8,
            "symbol": "circle"
           },
           "mode": "markers",
           "name": "",
           "orientation": "v",
           "showlegend": false,
           "type": "scatter",
           "x": [
            -0.0032678874472304442
           ],
           "xaxis": "x",
           "y": [
            -0.0004553317690820678
           ],
           "yaxis": "y"
          }
         ],
         "name": "2025-04-22"
        },
        {
         "data": [
          {
           "hovertemplate": "Date=2025-04-23<br>Relative Strength=%{x}<br>Momentum=%{y}<extra></extra>",
           "legendgroup": "",
           "marker": {
            "color": "white",
            "opacity": 0.8,
            "symbol": "circle"
           },
           "mode": "markers",
           "name": "",
           "orientation": "v",
           "showlegend": false,
           "type": "scatter",
           "x": [
            -0.003913414783643976
           ],
           "xaxis": "x",
           "y": [
            -0.0006455273364135315
           ],
           "yaxis": "y"
          }
         ],
         "name": "2025-04-23"
        },
        {
         "data": [
          {
           "hovertemplate": "Date=2025-04-24<br>Relative Strength=%{x}<br>Momentum=%{y}<extra></extra>",
           "legendgroup": "",
           "marker": {
            "color": "white",
            "opacity": 0.8,
            "symbol": "circle"
           },
           "mode": "markers",
           "name": "",
           "orientation": "v",
           "showlegend": false,
           "type": "scatter",
           "x": [
            -0.008051907561077465
           ],
           "xaxis": "x",
           "y": [
            -0.004138492777433489
           ],
           "yaxis": "y"
          }
         ],
         "name": "2025-04-24"
        },
        {
         "data": [
          {
           "hovertemplate": "Date=2025-04-25<br>Relative Strength=%{x}<br>Momentum=%{y}<extra></extra>",
           "legendgroup": "",
           "marker": {
            "color": "white",
            "opacity": 0.8,
            "symbol": "circle"
           },
           "mode": "markers",
           "name": "",
           "orientation": "v",
           "showlegend": false,
           "type": "scatter",
           "x": [
            -0.004367388974706799
           ],
           "xaxis": "x",
           "y": [
            0.003684518586370666
           ],
           "yaxis": "y"
          }
         ],
         "name": "2025-04-25"
        },
        {
         "data": [
          {
           "hovertemplate": "Date=2025-04-28<br>Relative Strength=%{x}<br>Momentum=%{y}<extra></extra>",
           "legendgroup": "",
           "marker": {
            "color": "white",
            "opacity": 0.8,
            "symbol": "circle"
           },
           "mode": "markers",
           "name": "",
           "orientation": "v",
           "showlegend": false,
           "type": "scatter",
           "x": [
            -0.0038020134116037
           ],
           "xaxis": "x",
           "y": [
            0.0005653755631030988
           ],
           "yaxis": "y"
          }
         ],
         "name": "2025-04-28"
        },
        {
         "data": [
          {
           "hovertemplate": "Date=2025-04-29<br>Relative Strength=%{x}<br>Momentum=%{y}<extra></extra>",
           "legendgroup": "",
           "marker": {
            "color": "white",
            "opacity": 0.8,
            "symbol": "circle"
           },
           "mode": "markers",
           "name": "",
           "orientation": "v",
           "showlegend": false,
           "type": "scatter",
           "x": [
            -0.0031505575212882444
           ],
           "xaxis": "x",
           "y": [
            0.0006514558903154555
           ],
           "yaxis": "y"
          }
         ],
         "name": "2025-04-29"
        },
        {
         "data": [
          {
           "hovertemplate": "Date=2025-04-30<br>Relative Strength=%{x}<br>Momentum=%{y}<extra></extra>",
           "legendgroup": "",
           "marker": {
            "color": "white",
            "opacity": 0.8,
            "symbol": "circle"
           },
           "mode": "markers",
           "name": "",
           "orientation": "v",
           "showlegend": false,
           "type": "scatter",
           "x": [
            -0.001205940890877766
           ],
           "xaxis": "x",
           "y": [
            0.0019446166304104783
           ],
           "yaxis": "y"
          }
         ],
         "name": "2025-04-30"
        },
        {
         "data": [
          {
           "hovertemplate": "Date=2025-05-02<br>Relative Strength=%{x}<br>Momentum=%{y}<extra></extra>",
           "legendgroup": "",
           "marker": {
            "color": "white",
            "opacity": 0.8,
            "symbol": "circle"
           },
           "mode": "markers",
           "name": "",
           "orientation": "v",
           "showlegend": false,
           "type": "scatter",
           "x": [
            -0.0004519336802219385
           ],
           "xaxis": "x",
           "y": [
            0.0007540072106558275
           ],
           "yaxis": "y"
          }
         ],
         "name": "2025-05-02"
        },
        {
         "data": [
          {
           "hovertemplate": "Date=2025-05-05<br>Relative Strength=%{x}<br>Momentum=%{y}<extra></extra>",
           "legendgroup": "",
           "marker": {
            "color": "white",
            "opacity": 0.8,
            "symbol": "circle"
           },
           "mode": "markers",
           "name": "",
           "orientation": "v",
           "showlegend": false,
           "type": "scatter",
           "x": [
            0.001239244668256945
           ],
           "xaxis": "x",
           "y": [
            0.0016911783484788835
           ],
           "yaxis": "y"
          }
         ],
         "name": "2025-05-05"
        },
        {
         "data": [
          {
           "hovertemplate": "Date=2025-05-06<br>Relative Strength=%{x}<br>Momentum=%{y}<extra></extra>",
           "legendgroup": "",
           "marker": {
            "color": "white",
            "opacity": 0.8,
            "symbol": "circle"
           },
           "mode": "markers",
           "name": "",
           "orientation": "v",
           "showlegend": false,
           "type": "scatter",
           "x": [
            0.0022995157784649776
           ],
           "xaxis": "x",
           "y": [
            0.0010602711102080326
           ],
           "yaxis": "y"
          }
         ],
         "name": "2025-05-06"
        },
        {
         "data": [
          {
           "hovertemplate": "Date=2025-05-07<br>Relative Strength=%{x}<br>Momentum=%{y}<extra></extra>",
           "legendgroup": "",
           "marker": {
            "color": "white",
            "opacity": 0.8,
            "symbol": "circle"
           },
           "mode": "markers",
           "name": "",
           "orientation": "v",
           "showlegend": false,
           "type": "scatter",
           "x": [
            0.0031584417222906055
           ],
           "xaxis": "x",
           "y": [
            0.0008589259438256279
           ],
           "yaxis": "y"
          }
         ],
         "name": "2025-05-07"
        },
        {
         "data": [
          {
           "hovertemplate": "Date=2025-05-08<br>Relative Strength=%{x}<br>Momentum=%{y}<extra></extra>",
           "legendgroup": "",
           "marker": {
            "color": "white",
            "opacity": 0.8,
            "symbol": "circle"
           },
           "mode": "markers",
           "name": "",
           "orientation": "v",
           "showlegend": false,
           "type": "scatter",
           "x": [
            0.0017821343852907345
           ],
           "xaxis": "x",
           "y": [
            -0.001376307336999871
           ],
           "yaxis": "y"
          }
         ],
         "name": "2025-05-08"
        },
        {
         "data": [
          {
           "hovertemplate": "Date=2025-05-09<br>Relative Strength=%{x}<br>Momentum=%{y}<extra></extra>",
           "legendgroup": "",
           "marker": {
            "color": "white",
            "opacity": 0.8,
            "symbol": "circle"
           },
           "mode": "markers",
           "name": "",
           "orientation": "v",
           "showlegend": false,
           "type": "scatter",
           "x": [
            0.004985160710338587
           ],
           "xaxis": "x",
           "y": [
            0.0032030263250478527
           ],
           "yaxis": "y"
          }
         ],
         "name": "2025-05-09"
        },
        {
         "data": [
          {
           "hovertemplate": "Date=2025-05-12<br>Relative Strength=%{x}<br>Momentum=%{y}<extra></extra>",
           "legendgroup": "",
           "marker": {
            "color": "white",
            "opacity": 0.8,
            "symbol": "circle"
           },
           "mode": "markers",
           "name": "",
           "orientation": "v",
           "showlegend": false,
           "type": "scatter",
           "x": [
            0.002389070614380118
           ],
           "xaxis": "x",
           "y": [
            -0.002596090095958469
           ],
           "yaxis": "y"
          }
         ],
         "name": "2025-05-12"
        },
        {
         "data": [
          {
           "hovertemplate": "Date=2025-05-13<br>Relative Strength=%{x}<br>Momentum=%{y}<extra></extra>",
           "legendgroup": "",
           "marker": {
            "color": "white",
            "opacity": 0.8,
            "symbol": "circle"
           },
           "mode": "markers",
           "name": "",
           "orientation": "v",
           "showlegend": false,
           "type": "scatter",
           "x": [
            0.0016529625750511642
           ],
           "xaxis": "x",
           "y": [
            -0.0007361080393289538
           ],
           "yaxis": "y"
          }
         ],
         "name": "2025-05-13"
        },
        {
         "data": [
          {
           "hovertemplate": "Date=2025-05-14<br>Relative Strength=%{x}<br>Momentum=%{y}<extra></extra>",
           "legendgroup": "",
           "marker": {
            "color": "white",
            "opacity": 0.8,
            "symbol": "circle"
           },
           "mode": "markers",
           "name": "",
           "orientation": "v",
           "showlegend": false,
           "type": "scatter",
           "x": [
            0.0019066431440472043
           ],
           "xaxis": "x",
           "y": [
            0.00025368056899604
           ],
           "yaxis": "y"
          }
         ],
         "name": "2025-05-14"
        },
        {
         "data": [
          {
           "hovertemplate": "Date=2025-05-15<br>Relative Strength=%{x}<br>Momentum=%{y}<extra></extra>",
           "legendgroup": "",
           "marker": {
            "color": "white",
            "opacity": 0.8,
            "symbol": "circle"
           },
           "mode": "markers",
           "name": "",
           "orientation": "v",
           "showlegend": false,
           "type": "scatter",
           "x": [
            -0.0014891842702619007
           ],
           "xaxis": "x",
           "y": [
            -0.003395827414309105
           ],
           "yaxis": "y"
          }
         ],
         "name": "2025-05-15"
        },
        {
         "data": [
          {
           "hovertemplate": "Date=2025-05-16<br>Relative Strength=%{x}<br>Momentum=%{y}<extra></extra>",
           "legendgroup": "",
           "marker": {
            "color": "white",
            "opacity": 0.8,
            "symbol": "circle"
           },
           "mode": "markers",
           "name": "",
           "orientation": "v",
           "showlegend": false,
           "type": "scatter",
           "x": [
            -0.013917455137090196
           ],
           "xaxis": "x",
           "y": [
            -0.012428270866828295
           ],
           "yaxis": "y"
          }
         ],
         "name": "2025-05-16"
        },
        {
         "data": [
          {
           "hovertemplate": "Date=2025-05-19<br>Relative Strength=%{x}<br>Momentum=%{y}<extra></extra>",
           "legendgroup": "",
           "marker": {
            "color": "white",
            "opacity": 0.8,
            "symbol": "circle"
           },
           "mode": "markers",
           "name": "",
           "orientation": "v",
           "showlegend": false,
           "type": "scatter",
           "x": [
            -0.01867134271183455
           ],
           "xaxis": "x",
           "y": [
            -0.004753887574744355
           ],
           "yaxis": "y"
          }
         ],
         "name": "2025-05-19"
        },
        {
         "data": [
          {
           "hovertemplate": "Date=2025-05-20<br>Relative Strength=%{x}<br>Momentum=%{y}<extra></extra>",
           "legendgroup": "",
           "marker": {
            "color": "white",
            "opacity": 0.8,
            "symbol": "circle"
           },
           "mode": "markers",
           "name": "",
           "orientation": "v",
           "showlegend": false,
           "type": "scatter",
           "x": [
            -0.016399518800916356
           ],
           "xaxis": "x",
           "y": [
            0.0022718239109181942
           ],
           "yaxis": "y"
          }
         ],
         "name": "2025-05-20"
        },
        {
         "data": [
          {
           "hovertemplate": "Date=2025-05-21<br>Relative Strength=%{x}<br>Momentum=%{y}<extra></extra>",
           "legendgroup": "",
           "marker": {
            "color": "white",
            "opacity": 0.8,
            "symbol": "circle"
           },
           "mode": "markers",
           "name": "",
           "orientation": "v",
           "showlegend": false,
           "type": "scatter",
           "x": [
            -0.017256858473453908
           ],
           "xaxis": "x",
           "y": [
            -0.0008573396725375521
           ],
           "yaxis": "y"
          }
         ],
         "name": "2025-05-21"
        },
        {
         "data": [
          {
           "hovertemplate": "Date=2025-05-22<br>Relative Strength=%{x}<br>Momentum=%{y}<extra></extra>",
           "legendgroup": "",
           "marker": {
            "color": "white",
            "opacity": 0.8,
            "symbol": "circle"
           },
           "mode": "markers",
           "name": "",
           "orientation": "v",
           "showlegend": false,
           "type": "scatter",
           "x": [
            -0.015863971313734494
           ],
           "xaxis": "x",
           "y": [
            0.0013928871597194137
           ],
           "yaxis": "y"
          }
         ],
         "name": "2025-05-22"
        },
        {
         "data": [
          {
           "hovertemplate": "Date=2025-05-23<br>Relative Strength=%{x}<br>Momentum=%{y}<extra></extra>",
           "legendgroup": "",
           "marker": {
            "color": "white",
            "opacity": 0.8,
            "symbol": "circle"
           },
           "mode": "markers",
           "name": "",
           "orientation": "v",
           "showlegend": false,
           "type": "scatter",
           "x": [
            -0.01898282215567687
           ],
           "xaxis": "x",
           "y": [
            -0.0031188508419423763
           ],
           "yaxis": "y"
          }
         ],
         "name": "2025-05-23"
        },
        {
         "data": [
          {
           "hovertemplate": "Date=2025-05-26<br>Relative Strength=%{x}<br>Momentum=%{y}<extra></extra>",
           "legendgroup": "",
           "marker": {
            "color": "white",
            "opacity": 0.8,
            "symbol": "circle"
           },
           "mode": "markers",
           "name": "",
           "orientation": "v",
           "showlegend": false,
           "type": "scatter",
           "x": [
            -0.016590344235546627
           ],
           "xaxis": "x",
           "y": [
            0.0023924779201302433
           ],
           "yaxis": "y"
          }
         ],
         "name": "2025-05-26"
        },
        {
         "data": [
          {
           "hovertemplate": "Date=2025-05-27<br>Relative Strength=%{x}<br>Momentum=%{y}<extra></extra>",
           "legendgroup": "",
           "marker": {
            "color": "white",
            "opacity": 0.8,
            "symbol": "circle"
           },
           "mode": "markers",
           "name": "",
           "orientation": "v",
           "showlegend": false,
           "type": "scatter",
           "x": [
            -0.018284966694242812
           ],
           "xaxis": "x",
           "y": [
            -0.001694622458696185
           ],
           "yaxis": "y"
          }
         ],
         "name": "2025-05-27"
        },
        {
         "data": [
          {
           "hovertemplate": "Date=2025-05-28<br>Relative Strength=%{x}<br>Momentum=%{y}<extra></extra>",
           "legendgroup": "",
           "marker": {
            "color": "white",
            "opacity": 0.8,
            "symbol": "circle"
           },
           "mode": "markers",
           "name": "",
           "orientation": "v",
           "showlegend": false,
           "type": "scatter",
           "x": [
            -0.020537052189914085
           ],
           "xaxis": "x",
           "y": [
            -0.0022520854956712723
           ],
           "yaxis": "y"
          }
         ],
         "name": "2025-05-28"
        },
        {
         "data": [
          {
           "hovertemplate": "Date=2025-05-29<br>Relative Strength=%{x}<br>Momentum=%{y}<extra></extra>",
           "legendgroup": "",
           "marker": {
            "color": "white",
            "opacity": 0.8,
            "symbol": "circle"
           },
           "mode": "markers",
           "name": "",
           "orientation": "v",
           "showlegend": false,
           "type": "scatter",
           "x": [
            -0.01999243144728473
           ],
           "xaxis": "x",
           "y": [
            0.000544620742629353
           ],
           "yaxis": "y"
          }
         ],
         "name": "2025-05-29"
        },
        {
         "data": [
          {
           "hovertemplate": "Date=2025-05-30<br>Relative Strength=%{x}<br>Momentum=%{y}<extra></extra>",
           "legendgroup": "",
           "marker": {
            "color": "white",
            "opacity": 0.8,
            "symbol": "circle"
           },
           "mode": "markers",
           "name": "",
           "orientation": "v",
           "showlegend": false,
           "type": "scatter",
           "x": [
            -0.007504481194156886
           ],
           "xaxis": "x",
           "y": [
            0.012487950253127846
           ],
           "yaxis": "y"
          }
         ],
         "name": "2025-05-30"
        },
        {
         "data": [
          {
           "hovertemplate": "Date=2025-06-02<br>Relative Strength=%{x}<br>Momentum=%{y}<extra></extra>",
           "legendgroup": "",
           "marker": {
            "color": "white",
            "opacity": 0.8,
            "symbol": "circle"
           },
           "mode": "markers",
           "name": "",
           "orientation": "v",
           "showlegend": false,
           "type": "scatter",
           "x": [
            -0.00515029853300516
           ],
           "xaxis": "x",
           "y": [
            0.002354182661151726
           ],
           "yaxis": "y"
          }
         ],
         "name": "2025-06-02"
        },
        {
         "data": [
          {
           "hovertemplate": "Date=2025-06-03<br>Relative Strength=%{x}<br>Momentum=%{y}<extra></extra>",
           "legendgroup": "",
           "marker": {
            "color": "white",
            "opacity": 0.8,
            "symbol": "circle"
           },
           "mode": "markers",
           "name": "",
           "orientation": "v",
           "showlegend": false,
           "type": "scatter",
           "x": [
            -0.008106430484546213
           ],
           "xaxis": "x",
           "y": [
            -0.0029561319515410533
           ],
           "yaxis": "y"
          }
         ],
         "name": "2025-06-03"
        },
        {
         "data": [
          {
           "hovertemplate": "Date=2025-06-04<br>Relative Strength=%{x}<br>Momentum=%{y}<extra></extra>",
           "legendgroup": "",
           "marker": {
            "color": "white",
            "opacity": 0.8,
            "symbol": "circle"
           },
           "mode": "markers",
           "name": "",
           "orientation": "v",
           "showlegend": false,
           "type": "scatter",
           "x": [
            -0.011102155434689308
           ],
           "xaxis": "x",
           "y": [
            -0.0029957249501430944
           ],
           "yaxis": "y"
          }
         ],
         "name": "2025-06-04"
        },
        {
         "data": [
          {
           "hovertemplate": "Date=2025-06-05<br>Relative Strength=%{x}<br>Momentum=%{y}<extra></extra>",
           "legendgroup": "",
           "marker": {
            "color": "white",
            "opacity": 0.8,
            "symbol": "circle"
           },
           "mode": "markers",
           "name": "",
           "orientation": "v",
           "showlegend": false,
           "type": "scatter",
           "x": [
            -0.01064481614155215
           ],
           "xaxis": "x",
           "y": [
            0.00045733929313715796
           ],
           "yaxis": "y"
          }
         ],
         "name": "2025-06-05"
        },
        {
         "data": [
          {
           "hovertemplate": "Date=2025-06-06<br>Relative Strength=%{x}<br>Momentum=%{y}<extra></extra>",
           "legendgroup": "",
           "marker": {
            "color": "white",
            "opacity": 0.8,
            "symbol": "circle"
           },
           "mode": "markers",
           "name": "",
           "orientation": "v",
           "showlegend": false,
           "type": "scatter",
           "x": [
            -0.010013195137571172
           ],
           "xaxis": "x",
           "y": [
            0.0006316210039809776
           ],
           "yaxis": "y"
          }
         ],
         "name": "2025-06-06"
        },
        {
         "data": [
          {
           "hovertemplate": "Date=2025-06-09<br>Relative Strength=%{x}<br>Momentum=%{y}<extra></extra>",
           "legendgroup": "",
           "marker": {
            "color": "white",
            "opacity": 0.8,
            "symbol": "circle"
           },
           "mode": "markers",
           "name": "",
           "orientation": "v",
           "showlegend": false,
           "type": "scatter",
           "x": [
            -0.010422620924997728
           ],
           "xaxis": "x",
           "y": [
            -0.00040942578742655597
           ],
           "yaxis": "y"
          }
         ],
         "name": "2025-06-09"
        }
       ],
       "layout": {
        "height": 800,
        "legend": {
         "tracegroupgap": 0
        },
        "shapes": [
         {
          "line": {
           "color": "yellow",
           "dash": "dash"
          },
          "type": "line",
          "x0": -0.020537052189914085,
          "x1": 0.008804471146994775,
          "y0": 0,
          "y1": 0
         },
         {
          "line": {
           "color": "yellow",
           "dash": "dash"
          },
          "type": "line",
          "x0": 0,
          "x1": 0,
          "y0": -0.012428270866828295,
          "y1": 0.012487950253127846
         }
        ],
        "sliders": [
         {
          "active": 0,
          "currentvalue": {
           "prefix": "Date="
          },
          "len": 0.9,
          "pad": {
           "b": 10,
           "t": 60
          },
          "steps": [
           {
            "args": [
             [
              "2024-06-25"
             ],
             {
              "frame": {
               "duration": 0,
               "redraw": false
              },
              "fromcurrent": true,
              "mode": "immediate",
              "transition": {
               "duration": 0,
               "easing": "linear"
              }
             }
            ],
            "label": "2024-06-25",
            "method": "animate"
           },
           {
            "args": [
             [
              "2024-06-26"
             ],
             {
              "frame": {
               "duration": 0,
               "redraw": false
              },
              "fromcurrent": true,
              "mode": "immediate",
              "transition": {
               "duration": 0,
               "easing": "linear"
              }
             }
            ],
            "label": "2024-06-26",
            "method": "animate"
           },
           {
            "args": [
             [
              "2024-06-27"
             ],
             {
              "frame": {
               "duration": 0,
               "redraw": false
              },
              "fromcurrent": true,
              "mode": "immediate",
              "transition": {
               "duration": 0,
               "easing": "linear"
              }
             }
            ],
            "label": "2024-06-27",
            "method": "animate"
           },
           {
            "args": [
             [
              "2024-06-28"
             ],
             {
              "frame": {
               "duration": 0,
               "redraw": false
              },
              "fromcurrent": true,
              "mode": "immediate",
              "transition": {
               "duration": 0,
               "easing": "linear"
              }
             }
            ],
            "label": "2024-06-28",
            "method": "animate"
           },
           {
            "args": [
             [
              "2024-07-01"
             ],
             {
              "frame": {
               "duration": 0,
               "redraw": false
              },
              "fromcurrent": true,
              "mode": "immediate",
              "transition": {
               "duration": 0,
               "easing": "linear"
              }
             }
            ],
            "label": "2024-07-01",
            "method": "animate"
           },
           {
            "args": [
             [
              "2024-07-02"
             ],
             {
              "frame": {
               "duration": 0,
               "redraw": false
              },
              "fromcurrent": true,
              "mode": "immediate",
              "transition": {
               "duration": 0,
               "easing": "linear"
              }
             }
            ],
            "label": "2024-07-02",
            "method": "animate"
           },
           {
            "args": [
             [
              "2024-07-03"
             ],
             {
              "frame": {
               "duration": 0,
               "redraw": false
              },
              "fromcurrent": true,
              "mode": "immediate",
              "transition": {
               "duration": 0,
               "easing": "linear"
              }
             }
            ],
            "label": "2024-07-03",
            "method": "animate"
           },
           {
            "args": [
             [
              "2024-07-04"
             ],
             {
              "frame": {
               "duration": 0,
               "redraw": false
              },
              "fromcurrent": true,
              "mode": "immediate",
              "transition": {
               "duration": 0,
               "easing": "linear"
              }
             }
            ],
            "label": "2024-07-04",
            "method": "animate"
           },
           {
            "args": [
             [
              "2024-07-05"
             ],
             {
              "frame": {
               "duration": 0,
               "redraw": false
              },
              "fromcurrent": true,
              "mode": "immediate",
              "transition": {
               "duration": 0,
               "easing": "linear"
              }
             }
            ],
            "label": "2024-07-05",
            "method": "animate"
           },
           {
            "args": [
             [
              "2024-07-08"
             ],
             {
              "frame": {
               "duration": 0,
               "redraw": false
              },
              "fromcurrent": true,
              "mode": "immediate",
              "transition": {
               "duration": 0,
               "easing": "linear"
              }
             }
            ],
            "label": "2024-07-08",
            "method": "animate"
           },
           {
            "args": [
             [
              "2024-07-09"
             ],
             {
              "frame": {
               "duration": 0,
               "redraw": false
              },
              "fromcurrent": true,
              "mode": "immediate",
              "transition": {
               "duration": 0,
               "easing": "linear"
              }
             }
            ],
            "label": "2024-07-09",
            "method": "animate"
           },
           {
            "args": [
             [
              "2024-07-10"
             ],
             {
              "frame": {
               "duration": 0,
               "redraw": false
              },
              "fromcurrent": true,
              "mode": "immediate",
              "transition": {
               "duration": 0,
               "easing": "linear"
              }
             }
            ],
            "label": "2024-07-10",
            "method": "animate"
           },
           {
            "args": [
             [
              "2024-07-11"
             ],
             {
              "frame": {
               "duration": 0,
               "redraw": false
              },
              "fromcurrent": true,
              "mode": "immediate",
              "transition": {
               "duration": 0,
               "easing": "linear"
              }
             }
            ],
            "label": "2024-07-11",
            "method": "animate"
           },
           {
            "args": [
             [
              "2024-07-12"
             ],
             {
              "frame": {
               "duration": 0,
               "redraw": false
              },
              "fromcurrent": true,
              "mode": "immediate",
              "transition": {
               "duration": 0,
               "easing": "linear"
              }
             }
            ],
            "label": "2024-07-12",
            "method": "animate"
           },
           {
            "args": [
             [
              "2024-07-15"
             ],
             {
              "frame": {
               "duration": 0,
               "redraw": false
              },
              "fromcurrent": true,
              "mode": "immediate",
              "transition": {
               "duration": 0,
               "easing": "linear"
              }
             }
            ],
            "label": "2024-07-15",
            "method": "animate"
           },
           {
            "args": [
             [
              "2024-07-16"
             ],
             {
              "frame": {
               "duration": 0,
               "redraw": false
              },
              "fromcurrent": true,
              "mode": "immediate",
              "transition": {
               "duration": 0,
               "easing": "linear"
              }
             }
            ],
            "label": "2024-07-16",
            "method": "animate"
           },
           {
            "args": [
             [
              "2024-07-17"
             ],
             {
              "frame": {
               "duration": 0,
               "redraw": false
              },
              "fromcurrent": true,
              "mode": "immediate",
              "transition": {
               "duration": 0,
               "easing": "linear"
              }
             }
            ],
            "label": "2024-07-17",
            "method": "animate"
           },
           {
            "args": [
             [
              "2024-07-18"
             ],
             {
              "frame": {
               "duration": 0,
               "redraw": false
              },
              "fromcurrent": true,
              "mode": "immediate",
              "transition": {
               "duration": 0,
               "easing": "linear"
              }
             }
            ],
            "label": "2024-07-18",
            "method": "animate"
           },
           {
            "args": [
             [
              "2024-07-19"
             ],
             {
              "frame": {
               "duration": 0,
               "redraw": false
              },
              "fromcurrent": true,
              "mode": "immediate",
              "transition": {
               "duration": 0,
               "easing": "linear"
              }
             }
            ],
            "label": "2024-07-19",
            "method": "animate"
           },
           {
            "args": [
             [
              "2024-07-22"
             ],
             {
              "frame": {
               "duration": 0,
               "redraw": false
              },
              "fromcurrent": true,
              "mode": "immediate",
              "transition": {
               "duration": 0,
               "easing": "linear"
              }
             }
            ],
            "label": "2024-07-22",
            "method": "animate"
           },
           {
            "args": [
             [
              "2024-07-23"
             ],
             {
              "frame": {
               "duration": 0,
               "redraw": false
              },
              "fromcurrent": true,
              "mode": "immediate",
              "transition": {
               "duration": 0,
               "easing": "linear"
              }
             }
            ],
            "label": "2024-07-23",
            "method": "animate"
           },
           {
            "args": [
             [
              "2024-07-24"
             ],
             {
              "frame": {
               "duration": 0,
               "redraw": false
              },
              "fromcurrent": true,
              "mode": "immediate",
              "transition": {
               "duration": 0,
               "easing": "linear"
              }
             }
            ],
            "label": "2024-07-24",
            "method": "animate"
           },
           {
            "args": [
             [
              "2024-07-25"
             ],
             {
              "frame": {
               "duration": 0,
               "redraw": false
              },
              "fromcurrent": true,
              "mode": "immediate",
              "transition": {
               "duration": 0,
               "easing": "linear"
              }
             }
            ],
            "label": "2024-07-25",
            "method": "animate"
           },
           {
            "args": [
             [
              "2024-07-26"
             ],
             {
              "frame": {
               "duration": 0,
               "redraw": false
              },
              "fromcurrent": true,
              "mode": "immediate",
              "transition": {
               "duration": 0,
               "easing": "linear"
              }
             }
            ],
            "label": "2024-07-26",
            "method": "animate"
           },
           {
            "args": [
             [
              "2024-07-29"
             ],
             {
              "frame": {
               "duration": 0,
               "redraw": false
              },
              "fromcurrent": true,
              "mode": "immediate",
              "transition": {
               "duration": 0,
               "easing": "linear"
              }
             }
            ],
            "label": "2024-07-29",
            "method": "animate"
           },
           {
            "args": [
             [
              "2024-07-30"
             ],
             {
              "frame": {
               "duration": 0,
               "redraw": false
              },
              "fromcurrent": true,
              "mode": "immediate",
              "transition": {
               "duration": 0,
               "easing": "linear"
              }
             }
            ],
            "label": "2024-07-30",
            "method": "animate"
           },
           {
            "args": [
             [
              "2024-07-31"
             ],
             {
              "frame": {
               "duration": 0,
               "redraw": false
              },
              "fromcurrent": true,
              "mode": "immediate",
              "transition": {
               "duration": 0,
               "easing": "linear"
              }
             }
            ],
            "label": "2024-07-31",
            "method": "animate"
           },
           {
            "args": [
             [
              "2024-08-01"
             ],
             {
              "frame": {
               "duration": 0,
               "redraw": false
              },
              "fromcurrent": true,
              "mode": "immediate",
              "transition": {
               "duration": 0,
               "easing": "linear"
              }
             }
            ],
            "label": "2024-08-01",
            "method": "animate"
           },
           {
            "args": [
             [
              "2024-08-02"
             ],
             {
              "frame": {
               "duration": 0,
               "redraw": false
              },
              "fromcurrent": true,
              "mode": "immediate",
              "transition": {
               "duration": 0,
               "easing": "linear"
              }
             }
            ],
            "label": "2024-08-02",
            "method": "animate"
           },
           {
            "args": [
             [
              "2024-08-05"
             ],
             {
              "frame": {
               "duration": 0,
               "redraw": false
              },
              "fromcurrent": true,
              "mode": "immediate",
              "transition": {
               "duration": 0,
               "easing": "linear"
              }
             }
            ],
            "label": "2024-08-05",
            "method": "animate"
           },
           {
            "args": [
             [
              "2024-08-06"
             ],
             {
              "frame": {
               "duration": 0,
               "redraw": false
              },
              "fromcurrent": true,
              "mode": "immediate",
              "transition": {
               "duration": 0,
               "easing": "linear"
              }
             }
            ],
            "label": "2024-08-06",
            "method": "animate"
           },
           {
            "args": [
             [
              "2024-08-07"
             ],
             {
              "frame": {
               "duration": 0,
               "redraw": false
              },
              "fromcurrent": true,
              "mode": "immediate",
              "transition": {
               "duration": 0,
               "easing": "linear"
              }
             }
            ],
            "label": "2024-08-07",
            "method": "animate"
           },
           {
            "args": [
             [
              "2024-08-08"
             ],
             {
              "frame": {
               "duration": 0,
               "redraw": false
              },
              "fromcurrent": true,
              "mode": "immediate",
              "transition": {
               "duration": 0,
               "easing": "linear"
              }
             }
            ],
            "label": "2024-08-08",
            "method": "animate"
           },
           {
            "args": [
             [
              "2024-08-09"
             ],
             {
              "frame": {
               "duration": 0,
               "redraw": false
              },
              "fromcurrent": true,
              "mode": "immediate",
              "transition": {
               "duration": 0,
               "easing": "linear"
              }
             }
            ],
            "label": "2024-08-09",
            "method": "animate"
           },
           {
            "args": [
             [
              "2024-08-12"
             ],
             {
              "frame": {
               "duration": 0,
               "redraw": false
              },
              "fromcurrent": true,
              "mode": "immediate",
              "transition": {
               "duration": 0,
               "easing": "linear"
              }
             }
            ],
            "label": "2024-08-12",
            "method": "animate"
           },
           {
            "args": [
             [
              "2024-08-13"
             ],
             {
              "frame": {
               "duration": 0,
               "redraw": false
              },
              "fromcurrent": true,
              "mode": "immediate",
              "transition": {
               "duration": 0,
               "easing": "linear"
              }
             }
            ],
            "label": "2024-08-13",
            "method": "animate"
           },
           {
            "args": [
             [
              "2024-08-14"
             ],
             {
              "frame": {
               "duration": 0,
               "redraw": false
              },
              "fromcurrent": true,
              "mode": "immediate",
              "transition": {
               "duration": 0,
               "easing": "linear"
              }
             }
            ],
            "label": "2024-08-14",
            "method": "animate"
           },
           {
            "args": [
             [
              "2024-08-15"
             ],
             {
              "frame": {
               "duration": 0,
               "redraw": false
              },
              "fromcurrent": true,
              "mode": "immediate",
              "transition": {
               "duration": 0,
               "easing": "linear"
              }
             }
            ],
            "label": "2024-08-15",
            "method": "animate"
           },
           {
            "args": [
             [
              "2024-08-16"
             ],
             {
              "frame": {
               "duration": 0,
               "redraw": false
              },
              "fromcurrent": true,
              "mode": "immediate",
              "transition": {
               "duration": 0,
               "easing": "linear"
              }
             }
            ],
            "label": "2024-08-16",
            "method": "animate"
           },
           {
            "args": [
             [
              "2024-08-19"
             ],
             {
              "frame": {
               "duration": 0,
               "redraw": false
              },
              "fromcurrent": true,
              "mode": "immediate",
              "transition": {
               "duration": 0,
               "easing": "linear"
              }
             }
            ],
            "label": "2024-08-19",
            "method": "animate"
           },
           {
            "args": [
             [
              "2024-08-20"
             ],
             {
              "frame": {
               "duration": 0,
               "redraw": false
              },
              "fromcurrent": true,
              "mode": "immediate",
              "transition": {
               "duration": 0,
               "easing": "linear"
              }
             }
            ],
            "label": "2024-08-20",
            "method": "animate"
           },
           {
            "args": [
             [
              "2024-08-21"
             ],
             {
              "frame": {
               "duration": 0,
               "redraw": false
              },
              "fromcurrent": true,
              "mode": "immediate",
              "transition": {
               "duration": 0,
               "easing": "linear"
              }
             }
            ],
            "label": "2024-08-21",
            "method": "animate"
           },
           {
            "args": [
             [
              "2024-08-22"
             ],
             {
              "frame": {
               "duration": 0,
               "redraw": false
              },
              "fromcurrent": true,
              "mode": "immediate",
              "transition": {
               "duration": 0,
               "easing": "linear"
              }
             }
            ],
            "label": "2024-08-22",
            "method": "animate"
           },
           {
            "args": [
             [
              "2024-08-23"
             ],
             {
              "frame": {
               "duration": 0,
               "redraw": false
              },
              "fromcurrent": true,
              "mode": "immediate",
              "transition": {
               "duration": 0,
               "easing": "linear"
              }
             }
            ],
            "label": "2024-08-23",
            "method": "animate"
           },
           {
            "args": [
             [
              "2024-08-26"
             ],
             {
              "frame": {
               "duration": 0,
               "redraw": false
              },
              "fromcurrent": true,
              "mode": "immediate",
              "transition": {
               "duration": 0,
               "easing": "linear"
              }
             }
            ],
            "label": "2024-08-26",
            "method": "animate"
           },
           {
            "args": [
             [
              "2024-08-27"
             ],
             {
              "frame": {
               "duration": 0,
               "redraw": false
              },
              "fromcurrent": true,
              "mode": "immediate",
              "transition": {
               "duration": 0,
               "easing": "linear"
              }
             }
            ],
            "label": "2024-08-27",
            "method": "animate"
           },
           {
            "args": [
             [
              "2024-08-28"
             ],
             {
              "frame": {
               "duration": 0,
               "redraw": false
              },
              "fromcurrent": true,
              "mode": "immediate",
              "transition": {
               "duration": 0,
               "easing": "linear"
              }
             }
            ],
            "label": "2024-08-28",
            "method": "animate"
           },
           {
            "args": [
             [
              "2024-08-29"
             ],
             {
              "frame": {
               "duration": 0,
               "redraw": false
              },
              "fromcurrent": true,
              "mode": "immediate",
              "transition": {
               "duration": 0,
               "easing": "linear"
              }
             }
            ],
            "label": "2024-08-29",
            "method": "animate"
           },
           {
            "args": [
             [
              "2024-08-30"
             ],
             {
              "frame": {
               "duration": 0,
               "redraw": false
              },
              "fromcurrent": true,
              "mode": "immediate",
              "transition": {
               "duration": 0,
               "easing": "linear"
              }
             }
            ],
            "label": "2024-08-30",
            "method": "animate"
           },
           {
            "args": [
             [
              "2024-09-02"
             ],
             {
              "frame": {
               "duration": 0,
               "redraw": false
              },
              "fromcurrent": true,
              "mode": "immediate",
              "transition": {
               "duration": 0,
               "easing": "linear"
              }
             }
            ],
            "label": "2024-09-02",
            "method": "animate"
           },
           {
            "args": [
             [
              "2024-09-03"
             ],
             {
              "frame": {
               "duration": 0,
               "redraw": false
              },
              "fromcurrent": true,
              "mode": "immediate",
              "transition": {
               "duration": 0,
               "easing": "linear"
              }
             }
            ],
            "label": "2024-09-03",
            "method": "animate"
           },
           {
            "args": [
             [
              "2024-09-04"
             ],
             {
              "frame": {
               "duration": 0,
               "redraw": false
              },
              "fromcurrent": true,
              "mode": "immediate",
              "transition": {
               "duration": 0,
               "easing": "linear"
              }
             }
            ],
            "label": "2024-09-04",
            "method": "animate"
           },
           {
            "args": [
             [
              "2024-09-05"
             ],
             {
              "frame": {
               "duration": 0,
               "redraw": false
              },
              "fromcurrent": true,
              "mode": "immediate",
              "transition": {
               "duration": 0,
               "easing": "linear"
              }
             }
            ],
            "label": "2024-09-05",
            "method": "animate"
           },
           {
            "args": [
             [
              "2024-09-06"
             ],
             {
              "frame": {
               "duration": 0,
               "redraw": false
              },
              "fromcurrent": true,
              "mode": "immediate",
              "transition": {
               "duration": 0,
               "easing": "linear"
              }
             }
            ],
            "label": "2024-09-06",
            "method": "animate"
           },
           {
            "args": [
             [
              "2024-09-09"
             ],
             {
              "frame": {
               "duration": 0,
               "redraw": false
              },
              "fromcurrent": true,
              "mode": "immediate",
              "transition": {
               "duration": 0,
               "easing": "linear"
              }
             }
            ],
            "label": "2024-09-09",
            "method": "animate"
           },
           {
            "args": [
             [
              "2024-09-10"
             ],
             {
              "frame": {
               "duration": 0,
               "redraw": false
              },
              "fromcurrent": true,
              "mode": "immediate",
              "transition": {
               "duration": 0,
               "easing": "linear"
              }
             }
            ],
            "label": "2024-09-10",
            "method": "animate"
           },
           {
            "args": [
             [
              "2024-09-11"
             ],
             {
              "frame": {
               "duration": 0,
               "redraw": false
              },
              "fromcurrent": true,
              "mode": "immediate",
              "transition": {
               "duration": 0,
               "easing": "linear"
              }
             }
            ],
            "label": "2024-09-11",
            "method": "animate"
           },
           {
            "args": [
             [
              "2024-09-12"
             ],
             {
              "frame": {
               "duration": 0,
               "redraw": false
              },
              "fromcurrent": true,
              "mode": "immediate",
              "transition": {
               "duration": 0,
               "easing": "linear"
              }
             }
            ],
            "label": "2024-09-12",
            "method": "animate"
           },
           {
            "args": [
             [
              "2024-09-13"
             ],
             {
              "frame": {
               "duration": 0,
               "redraw": false
              },
              "fromcurrent": true,
              "mode": "immediate",
              "transition": {
               "duration": 0,
               "easing": "linear"
              }
             }
            ],
            "label": "2024-09-13",
            "method": "animate"
           },
           {
            "args": [
             [
              "2024-09-16"
             ],
             {
              "frame": {
               "duration": 0,
               "redraw": false
              },
              "fromcurrent": true,
              "mode": "immediate",
              "transition": {
               "duration": 0,
               "easing": "linear"
              }
             }
            ],
            "label": "2024-09-16",
            "method": "animate"
           },
           {
            "args": [
             [
              "2024-09-17"
             ],
             {
              "frame": {
               "duration": 0,
               "redraw": false
              },
              "fromcurrent": true,
              "mode": "immediate",
              "transition": {
               "duration": 0,
               "easing": "linear"
              }
             }
            ],
            "label": "2024-09-17",
            "method": "animate"
           },
           {
            "args": [
             [
              "2024-09-18"
             ],
             {
              "frame": {
               "duration": 0,
               "redraw": false
              },
              "fromcurrent": true,
              "mode": "immediate",
              "transition": {
               "duration": 0,
               "easing": "linear"
              }
             }
            ],
            "label": "2024-09-18",
            "method": "animate"
           },
           {
            "args": [
             [
              "2024-09-19"
             ],
             {
              "frame": {
               "duration": 0,
               "redraw": false
              },
              "fromcurrent": true,
              "mode": "immediate",
              "transition": {
               "duration": 0,
               "easing": "linear"
              }
             }
            ],
            "label": "2024-09-19",
            "method": "animate"
           },
           {
            "args": [
             [
              "2024-09-20"
             ],
             {
              "frame": {
               "duration": 0,
               "redraw": false
              },
              "fromcurrent": true,
              "mode": "immediate",
              "transition": {
               "duration": 0,
               "easing": "linear"
              }
             }
            ],
            "label": "2024-09-20",
            "method": "animate"
           },
           {
            "args": [
             [
              "2024-09-23"
             ],
             {
              "frame": {
               "duration": 0,
               "redraw": false
              },
              "fromcurrent": true,
              "mode": "immediate",
              "transition": {
               "duration": 0,
               "easing": "linear"
              }
             }
            ],
            "label": "2024-09-23",
            "method": "animate"
           },
           {
            "args": [
             [
              "2024-09-24"
             ],
             {
              "frame": {
               "duration": 0,
               "redraw": false
              },
              "fromcurrent": true,
              "mode": "immediate",
              "transition": {
               "duration": 0,
               "easing": "linear"
              }
             }
            ],
            "label": "2024-09-24",
            "method": "animate"
           },
           {
            "args": [
             [
              "2024-09-25"
             ],
             {
              "frame": {
               "duration": 0,
               "redraw": false
              },
              "fromcurrent": true,
              "mode": "immediate",
              "transition": {
               "duration": 0,
               "easing": "linear"
              }
             }
            ],
            "label": "2024-09-25",
            "method": "animate"
           },
           {
            "args": [
             [
              "2024-09-26"
             ],
             {
              "frame": {
               "duration": 0,
               "redraw": false
              },
              "fromcurrent": true,
              "mode": "immediate",
              "transition": {
               "duration": 0,
               "easing": "linear"
              }
             }
            ],
            "label": "2024-09-26",
            "method": "animate"
           },
           {
            "args": [
             [
              "2024-09-27"
             ],
             {
              "frame": {
               "duration": 0,
               "redraw": false
              },
              "fromcurrent": true,
              "mode": "immediate",
              "transition": {
               "duration": 0,
               "easing": "linear"
              }
             }
            ],
            "label": "2024-09-27",
            "method": "animate"
           },
           {
            "args": [
             [
              "2024-09-30"
             ],
             {
              "frame": {
               "duration": 0,
               "redraw": false
              },
              "fromcurrent": true,
              "mode": "immediate",
              "transition": {
               "duration": 0,
               "easing": "linear"
              }
             }
            ],
            "label": "2024-09-30",
            "method": "animate"
           },
           {
            "args": [
             [
              "2024-10-01"
             ],
             {
              "frame": {
               "duration": 0,
               "redraw": false
              },
              "fromcurrent": true,
              "mode": "immediate",
              "transition": {
               "duration": 0,
               "easing": "linear"
              }
             }
            ],
            "label": "2024-10-01",
            "method": "animate"
           },
           {
            "args": [
             [
              "2024-10-02"
             ],
             {
              "frame": {
               "duration": 0,
               "redraw": false
              },
              "fromcurrent": true,
              "mode": "immediate",
              "transition": {
               "duration": 0,
               "easing": "linear"
              }
             }
            ],
            "label": "2024-10-02",
            "method": "animate"
           },
           {
            "args": [
             [
              "2024-10-03"
             ],
             {
              "frame": {
               "duration": 0,
               "redraw": false
              },
              "fromcurrent": true,
              "mode": "immediate",
              "transition": {
               "duration": 0,
               "easing": "linear"
              }
             }
            ],
            "label": "2024-10-03",
            "method": "animate"
           },
           {
            "args": [
             [
              "2024-10-04"
             ],
             {
              "frame": {
               "duration": 0,
               "redraw": false
              },
              "fromcurrent": true,
              "mode": "immediate",
              "transition": {
               "duration": 0,
               "easing": "linear"
              }
             }
            ],
            "label": "2024-10-04",
            "method": "animate"
           },
           {
            "args": [
             [
              "2024-10-07"
             ],
             {
              "frame": {
               "duration": 0,
               "redraw": false
              },
              "fromcurrent": true,
              "mode": "immediate",
              "transition": {
               "duration": 0,
               "easing": "linear"
              }
             }
            ],
            "label": "2024-10-07",
            "method": "animate"
           },
           {
            "args": [
             [
              "2024-10-08"
             ],
             {
              "frame": {
               "duration": 0,
               "redraw": false
              },
              "fromcurrent": true,
              "mode": "immediate",
              "transition": {
               "duration": 0,
               "easing": "linear"
              }
             }
            ],
            "label": "2024-10-08",
            "method": "animate"
           },
           {
            "args": [
             [
              "2024-10-09"
             ],
             {
              "frame": {
               "duration": 0,
               "redraw": false
              },
              "fromcurrent": true,
              "mode": "immediate",
              "transition": {
               "duration": 0,
               "easing": "linear"
              }
             }
            ],
            "label": "2024-10-09",
            "method": "animate"
           },
           {
            "args": [
             [
              "2024-10-10"
             ],
             {
              "frame": {
               "duration": 0,
               "redraw": false
              },
              "fromcurrent": true,
              "mode": "immediate",
              "transition": {
               "duration": 0,
               "easing": "linear"
              }
             }
            ],
            "label": "2024-10-10",
            "method": "animate"
           },
           {
            "args": [
             [
              "2024-10-11"
             ],
             {
              "frame": {
               "duration": 0,
               "redraw": false
              },
              "fromcurrent": true,
              "mode": "immediate",
              "transition": {
               "duration": 0,
               "easing": "linear"
              }
             }
            ],
            "label": "2024-10-11",
            "method": "animate"
           },
           {
            "args": [
             [
              "2024-10-14"
             ],
             {
              "frame": {
               "duration": 0,
               "redraw": false
              },
              "fromcurrent": true,
              "mode": "immediate",
              "transition": {
               "duration": 0,
               "easing": "linear"
              }
             }
            ],
            "label": "2024-10-14",
            "method": "animate"
           },
           {
            "args": [
             [
              "2024-10-15"
             ],
             {
              "frame": {
               "duration": 0,
               "redraw": false
              },
              "fromcurrent": true,
              "mode": "immediate",
              "transition": {
               "duration": 0,
               "easing": "linear"
              }
             }
            ],
            "label": "2024-10-15",
            "method": "animate"
           },
           {
            "args": [
             [
              "2024-10-16"
             ],
             {
              "frame": {
               "duration": 0,
               "redraw": false
              },
              "fromcurrent": true,
              "mode": "immediate",
              "transition": {
               "duration": 0,
               "easing": "linear"
              }
             }
            ],
            "label": "2024-10-16",
            "method": "animate"
           },
           {
            "args": [
             [
              "2024-10-17"
             ],
             {
              "frame": {
               "duration": 0,
               "redraw": false
              },
              "fromcurrent": true,
              "mode": "immediate",
              "transition": {
               "duration": 0,
               "easing": "linear"
              }
             }
            ],
            "label": "2024-10-17",
            "method": "animate"
           },
           {
            "args": [
             [
              "2024-10-18"
             ],
             {
              "frame": {
               "duration": 0,
               "redraw": false
              },
              "fromcurrent": true,
              "mode": "immediate",
              "transition": {
               "duration": 0,
               "easing": "linear"
              }
             }
            ],
            "label": "2024-10-18",
            "method": "animate"
           },
           {
            "args": [
             [
              "2024-10-21"
             ],
             {
              "frame": {
               "duration": 0,
               "redraw": false
              },
              "fromcurrent": true,
              "mode": "immediate",
              "transition": {
               "duration": 0,
               "easing": "linear"
              }
             }
            ],
            "label": "2024-10-21",
            "method": "animate"
           },
           {
            "args": [
             [
              "2024-10-22"
             ],
             {
              "frame": {
               "duration": 0,
               "redraw": false
              },
              "fromcurrent": true,
              "mode": "immediate",
              "transition": {
               "duration": 0,
               "easing": "linear"
              }
             }
            ],
            "label": "2024-10-22",
            "method": "animate"
           },
           {
            "args": [
             [
              "2024-10-23"
             ],
             {
              "frame": {
               "duration": 0,
               "redraw": false
              },
              "fromcurrent": true,
              "mode": "immediate",
              "transition": {
               "duration": 0,
               "easing": "linear"
              }
             }
            ],
            "label": "2024-10-23",
            "method": "animate"
           },
           {
            "args": [
             [
              "2024-10-24"
             ],
             {
              "frame": {
               "duration": 0,
               "redraw": false
              },
              "fromcurrent": true,
              "mode": "immediate",
              "transition": {
               "duration": 0,
               "easing": "linear"
              }
             }
            ],
            "label": "2024-10-24",
            "method": "animate"
           },
           {
            "args": [
             [
              "2024-10-25"
             ],
             {
              "frame": {
               "duration": 0,
               "redraw": false
              },
              "fromcurrent": true,
              "mode": "immediate",
              "transition": {
               "duration": 0,
               "easing": "linear"
              }
             }
            ],
            "label": "2024-10-25",
            "method": "animate"
           },
           {
            "args": [
             [
              "2024-10-28"
             ],
             {
              "frame": {
               "duration": 0,
               "redraw": false
              },
              "fromcurrent": true,
              "mode": "immediate",
              "transition": {
               "duration": 0,
               "easing": "linear"
              }
             }
            ],
            "label": "2024-10-28",
            "method": "animate"
           },
           {
            "args": [
             [
              "2024-10-29"
             ],
             {
              "frame": {
               "duration": 0,
               "redraw": false
              },
              "fromcurrent": true,
              "mode": "immediate",
              "transition": {
               "duration": 0,
               "easing": "linear"
              }
             }
            ],
            "label": "2024-10-29",
            "method": "animate"
           },
           {
            "args": [
             [
              "2024-10-30"
             ],
             {
              "frame": {
               "duration": 0,
               "redraw": false
              },
              "fromcurrent": true,
              "mode": "immediate",
              "transition": {
               "duration": 0,
               "easing": "linear"
              }
             }
            ],
            "label": "2024-10-30",
            "method": "animate"
           },
           {
            "args": [
             [
              "2024-10-31"
             ],
             {
              "frame": {
               "duration": 0,
               "redraw": false
              },
              "fromcurrent": true,
              "mode": "immediate",
              "transition": {
               "duration": 0,
               "easing": "linear"
              }
             }
            ],
            "label": "2024-10-31",
            "method": "animate"
           },
           {
            "args": [
             [
              "2024-11-01"
             ],
             {
              "frame": {
               "duration": 0,
               "redraw": false
              },
              "fromcurrent": true,
              "mode": "immediate",
              "transition": {
               "duration": 0,
               "easing": "linear"
              }
             }
            ],
            "label": "2024-11-01",
            "method": "animate"
           },
           {
            "args": [
             [
              "2024-11-04"
             ],
             {
              "frame": {
               "duration": 0,
               "redraw": false
              },
              "fromcurrent": true,
              "mode": "immediate",
              "transition": {
               "duration": 0,
               "easing": "linear"
              }
             }
            ],
            "label": "2024-11-04",
            "method": "animate"
           },
           {
            "args": [
             [
              "2024-11-05"
             ],
             {
              "frame": {
               "duration": 0,
               "redraw": false
              },
              "fromcurrent": true,
              "mode": "immediate",
              "transition": {
               "duration": 0,
               "easing": "linear"
              }
             }
            ],
            "label": "2024-11-05",
            "method": "animate"
           },
           {
            "args": [
             [
              "2024-11-06"
             ],
             {
              "frame": {
               "duration": 0,
               "redraw": false
              },
              "fromcurrent": true,
              "mode": "immediate",
              "transition": {
               "duration": 0,
               "easing": "linear"
              }
             }
            ],
            "label": "2024-11-06",
            "method": "animate"
           },
           {
            "args": [
             [
              "2024-11-07"
             ],
             {
              "frame": {
               "duration": 0,
               "redraw": false
              },
              "fromcurrent": true,
              "mode": "immediate",
              "transition": {
               "duration": 0,
               "easing": "linear"
              }
             }
            ],
            "label": "2024-11-07",
            "method": "animate"
           },
           {
            "args": [
             [
              "2024-11-08"
             ],
             {
              "frame": {
               "duration": 0,
               "redraw": false
              },
              "fromcurrent": true,
              "mode": "immediate",
              "transition": {
               "duration": 0,
               "easing": "linear"
              }
             }
            ],
            "label": "2024-11-08",
            "method": "animate"
           },
           {
            "args": [
             [
              "2024-11-11"
             ],
             {
              "frame": {
               "duration": 0,
               "redraw": false
              },
              "fromcurrent": true,
              "mode": "immediate",
              "transition": {
               "duration": 0,
               "easing": "linear"
              }
             }
            ],
            "label": "2024-11-11",
            "method": "animate"
           },
           {
            "args": [
             [
              "2024-11-12"
             ],
             {
              "frame": {
               "duration": 0,
               "redraw": false
              },
              "fromcurrent": true,
              "mode": "immediate",
              "transition": {
               "duration": 0,
               "easing": "linear"
              }
             }
            ],
            "label": "2024-11-12",
            "method": "animate"
           },
           {
            "args": [
             [
              "2024-11-13"
             ],
             {
              "frame": {
               "duration": 0,
               "redraw": false
              },
              "fromcurrent": true,
              "mode": "immediate",
              "transition": {
               "duration": 0,
               "easing": "linear"
              }
             }
            ],
            "label": "2024-11-13",
            "method": "animate"
           },
           {
            "args": [
             [
              "2024-11-14"
             ],
             {
              "frame": {
               "duration": 0,
               "redraw": false
              },
              "fromcurrent": true,
              "mode": "immediate",
              "transition": {
               "duration": 0,
               "easing": "linear"
              }
             }
            ],
            "label": "2024-11-14",
            "method": "animate"
           },
           {
            "args": [
             [
              "2024-11-18"
             ],
             {
              "frame": {
               "duration": 0,
               "redraw": false
              },
              "fromcurrent": true,
              "mode": "immediate",
              "transition": {
               "duration": 0,
               "easing": "linear"
              }
             }
            ],
            "label": "2024-11-18",
            "method": "animate"
           },
           {
            "args": [
             [
              "2024-11-19"
             ],
             {
              "frame": {
               "duration": 0,
               "redraw": false
              },
              "fromcurrent": true,
              "mode": "immediate",
              "transition": {
               "duration": 0,
               "easing": "linear"
              }
             }
            ],
            "label": "2024-11-19",
            "method": "animate"
           },
           {
            "args": [
             [
              "2024-11-21"
             ],
             {
              "frame": {
               "duration": 0,
               "redraw": false
              },
              "fromcurrent": true,
              "mode": "immediate",
              "transition": {
               "duration": 0,
               "easing": "linear"
              }
             }
            ],
            "label": "2024-11-21",
            "method": "animate"
           },
           {
            "args": [
             [
              "2024-11-22"
             ],
             {
              "frame": {
               "duration": 0,
               "redraw": false
              },
              "fromcurrent": true,
              "mode": "immediate",
              "transition": {
               "duration": 0,
               "easing": "linear"
              }
             }
            ],
            "label": "2024-11-22",
            "method": "animate"
           },
           {
            "args": [
             [
              "2024-11-25"
             ],
             {
              "frame": {
               "duration": 0,
               "redraw": false
              },
              "fromcurrent": true,
              "mode": "immediate",
              "transition": {
               "duration": 0,
               "easing": "linear"
              }
             }
            ],
            "label": "2024-11-25",
            "method": "animate"
           },
           {
            "args": [
             [
              "2024-11-26"
             ],
             {
              "frame": {
               "duration": 0,
               "redraw": false
              },
              "fromcurrent": true,
              "mode": "immediate",
              "transition": {
               "duration": 0,
               "easing": "linear"
              }
             }
            ],
            "label": "2024-11-26",
            "method": "animate"
           },
           {
            "args": [
             [
              "2024-11-27"
             ],
             {
              "frame": {
               "duration": 0,
               "redraw": false
              },
              "fromcurrent": true,
              "mode": "immediate",
              "transition": {
               "duration": 0,
               "easing": "linear"
              }
             }
            ],
            "label": "2024-11-27",
            "method": "animate"
           },
           {
            "args": [
             [
              "2024-11-28"
             ],
             {
              "frame": {
               "duration": 0,
               "redraw": false
              },
              "fromcurrent": true,
              "mode": "immediate",
              "transition": {
               "duration": 0,
               "easing": "linear"
              }
             }
            ],
            "label": "2024-11-28",
            "method": "animate"
           },
           {
            "args": [
             [
              "2024-11-29"
             ],
             {
              "frame": {
               "duration": 0,
               "redraw": false
              },
              "fromcurrent": true,
              "mode": "immediate",
              "transition": {
               "duration": 0,
               "easing": "linear"
              }
             }
            ],
            "label": "2024-11-29",
            "method": "animate"
           },
           {
            "args": [
             [
              "2024-12-02"
             ],
             {
              "frame": {
               "duration": 0,
               "redraw": false
              },
              "fromcurrent": true,
              "mode": "immediate",
              "transition": {
               "duration": 0,
               "easing": "linear"
              }
             }
            ],
            "label": "2024-12-02",
            "method": "animate"
           },
           {
            "args": [
             [
              "2024-12-03"
             ],
             {
              "frame": {
               "duration": 0,
               "redraw": false
              },
              "fromcurrent": true,
              "mode": "immediate",
              "transition": {
               "duration": 0,
               "easing": "linear"
              }
             }
            ],
            "label": "2024-12-03",
            "method": "animate"
           },
           {
            "args": [
             [
              "2024-12-04"
             ],
             {
              "frame": {
               "duration": 0,
               "redraw": false
              },
              "fromcurrent": true,
              "mode": "immediate",
              "transition": {
               "duration": 0,
               "easing": "linear"
              }
             }
            ],
            "label": "2024-12-04",
            "method": "animate"
           },
           {
            "args": [
             [
              "2024-12-05"
             ],
             {
              "frame": {
               "duration": 0,
               "redraw": false
              },
              "fromcurrent": true,
              "mode": "immediate",
              "transition": {
               "duration": 0,
               "easing": "linear"
              }
             }
            ],
            "label": "2024-12-05",
            "method": "animate"
           },
           {
            "args": [
             [
              "2024-12-06"
             ],
             {
              "frame": {
               "duration": 0,
               "redraw": false
              },
              "fromcurrent": true,
              "mode": "immediate",
              "transition": {
               "duration": 0,
               "easing": "linear"
              }
             }
            ],
            "label": "2024-12-06",
            "method": "animate"
           },
           {
            "args": [
             [
              "2024-12-09"
             ],
             {
              "frame": {
               "duration": 0,
               "redraw": false
              },
              "fromcurrent": true,
              "mode": "immediate",
              "transition": {
               "duration": 0,
               "easing": "linear"
              }
             }
            ],
            "label": "2024-12-09",
            "method": "animate"
           },
           {
            "args": [
             [
              "2024-12-10"
             ],
             {
              "frame": {
               "duration": 0,
               "redraw": false
              },
              "fromcurrent": true,
              "mode": "immediate",
              "transition": {
               "duration": 0,
               "easing": "linear"
              }
             }
            ],
            "label": "2024-12-10",
            "method": "animate"
           },
           {
            "args": [
             [
              "2024-12-11"
             ],
             {
              "frame": {
               "duration": 0,
               "redraw": false
              },
              "fromcurrent": true,
              "mode": "immediate",
              "transition": {
               "duration": 0,
               "easing": "linear"
              }
             }
            ],
            "label": "2024-12-11",
            "method": "animate"
           },
           {
            "args": [
             [
              "2024-12-12"
             ],
             {
              "frame": {
               "duration": 0,
               "redraw": false
              },
              "fromcurrent": true,
              "mode": "immediate",
              "transition": {
               "duration": 0,
               "easing": "linear"
              }
             }
            ],
            "label": "2024-12-12",
            "method": "animate"
           },
           {
            "args": [
             [
              "2024-12-13"
             ],
             {
              "frame": {
               "duration": 0,
               "redraw": false
              },
              "fromcurrent": true,
              "mode": "immediate",
              "transition": {
               "duration": 0,
               "easing": "linear"
              }
             }
            ],
            "label": "2024-12-13",
            "method": "animate"
           },
           {
            "args": [
             [
              "2024-12-16"
             ],
             {
              "frame": {
               "duration": 0,
               "redraw": false
              },
              "fromcurrent": true,
              "mode": "immediate",
              "transition": {
               "duration": 0,
               "easing": "linear"
              }
             }
            ],
            "label": "2024-12-16",
            "method": "animate"
           },
           {
            "args": [
             [
              "2024-12-17"
             ],
             {
              "frame": {
               "duration": 0,
               "redraw": false
              },
              "fromcurrent": true,
              "mode": "immediate",
              "transition": {
               "duration": 0,
               "easing": "linear"
              }
             }
            ],
            "label": "2024-12-17",
            "method": "animate"
           },
           {
            "args": [
             [
              "2024-12-18"
             ],
             {
              "frame": {
               "duration": 0,
               "redraw": false
              },
              "fromcurrent": true,
              "mode": "immediate",
              "transition": {
               "duration": 0,
               "easing": "linear"
              }
             }
            ],
            "label": "2024-12-18",
            "method": "animate"
           },
           {
            "args": [
             [
              "2024-12-19"
             ],
             {
              "frame": {
               "duration": 0,
               "redraw": false
              },
              "fromcurrent": true,
              "mode": "immediate",
              "transition": {
               "duration": 0,
               "easing": "linear"
              }
             }
            ],
            "label": "2024-12-19",
            "method": "animate"
           },
           {
            "args": [
             [
              "2024-12-20"
             ],
             {
              "frame": {
               "duration": 0,
               "redraw": false
              },
              "fromcurrent": true,
              "mode": "immediate",
              "transition": {
               "duration": 0,
               "easing": "linear"
              }
             }
            ],
            "label": "2024-12-20",
            "method": "animate"
           },
           {
            "args": [
             [
              "2024-12-23"
             ],
             {
              "frame": {
               "duration": 0,
               "redraw": false
              },
              "fromcurrent": true,
              "mode": "immediate",
              "transition": {
               "duration": 0,
               "easing": "linear"
              }
             }
            ],
            "label": "2024-12-23",
            "method": "animate"
           },
           {
            "args": [
             [
              "2024-12-26"
             ],
             {
              "frame": {
               "duration": 0,
               "redraw": false
              },
              "fromcurrent": true,
              "mode": "immediate",
              "transition": {
               "duration": 0,
               "easing": "linear"
              }
             }
            ],
            "label": "2024-12-26",
            "method": "animate"
           },
           {
            "args": [
             [
              "2024-12-27"
             ],
             {
              "frame": {
               "duration": 0,
               "redraw": false
              },
              "fromcurrent": true,
              "mode": "immediate",
              "transition": {
               "duration": 0,
               "easing": "linear"
              }
             }
            ],
            "label": "2024-12-27",
            "method": "animate"
           },
           {
            "args": [
             [
              "2024-12-30"
             ],
             {
              "frame": {
               "duration": 0,
               "redraw": false
              },
              "fromcurrent": true,
              "mode": "immediate",
              "transition": {
               "duration": 0,
               "easing": "linear"
              }
             }
            ],
            "label": "2024-12-30",
            "method": "animate"
           },
           {
            "args": [
             [
              "2025-01-02"
             ],
             {
              "frame": {
               "duration": 0,
               "redraw": false
              },
              "fromcurrent": true,
              "mode": "immediate",
              "transition": {
               "duration": 0,
               "easing": "linear"
              }
             }
            ],
            "label": "2025-01-02",
            "method": "animate"
           },
           {
            "args": [
             [
              "2025-01-03"
             ],
             {
              "frame": {
               "duration": 0,
               "redraw": false
              },
              "fromcurrent": true,
              "mode": "immediate",
              "transition": {
               "duration": 0,
               "easing": "linear"
              }
             }
            ],
            "label": "2025-01-03",
            "method": "animate"
           },
           {
            "args": [
             [
              "2025-01-06"
             ],
             {
              "frame": {
               "duration": 0,
               "redraw": false
              },
              "fromcurrent": true,
              "mode": "immediate",
              "transition": {
               "duration": 0,
               "easing": "linear"
              }
             }
            ],
            "label": "2025-01-06",
            "method": "animate"
           },
           {
            "args": [
             [
              "2025-01-07"
             ],
             {
              "frame": {
               "duration": 0,
               "redraw": false
              },
              "fromcurrent": true,
              "mode": "immediate",
              "transition": {
               "duration": 0,
               "easing": "linear"
              }
             }
            ],
            "label": "2025-01-07",
            "method": "animate"
           },
           {
            "args": [
             [
              "2025-01-08"
             ],
             {
              "frame": {
               "duration": 0,
               "redraw": false
              },
              "fromcurrent": true,
              "mode": "immediate",
              "transition": {
               "duration": 0,
               "easing": "linear"
              }
             }
            ],
            "label": "2025-01-08",
            "method": "animate"
           },
           {
            "args": [
             [
              "2025-01-09"
             ],
             {
              "frame": {
               "duration": 0,
               "redraw": false
              },
              "fromcurrent": true,
              "mode": "immediate",
              "transition": {
               "duration": 0,
               "easing": "linear"
              }
             }
            ],
            "label": "2025-01-09",
            "method": "animate"
           },
           {
            "args": [
             [
              "2025-01-10"
             ],
             {
              "frame": {
               "duration": 0,
               "redraw": false
              },
              "fromcurrent": true,
              "mode": "immediate",
              "transition": {
               "duration": 0,
               "easing": "linear"
              }
             }
            ],
            "label": "2025-01-10",
            "method": "animate"
           },
           {
            "args": [
             [
              "2025-01-13"
             ],
             {
              "frame": {
               "duration": 0,
               "redraw": false
              },
              "fromcurrent": true,
              "mode": "immediate",
              "transition": {
               "duration": 0,
               "easing": "linear"
              }
             }
            ],
            "label": "2025-01-13",
            "method": "animate"
           },
           {
            "args": [
             [
              "2025-01-14"
             ],
             {
              "frame": {
               "duration": 0,
               "redraw": false
              },
              "fromcurrent": true,
              "mode": "immediate",
              "transition": {
               "duration": 0,
               "easing": "linear"
              }
             }
            ],
            "label": "2025-01-14",
            "method": "animate"
           },
           {
            "args": [
             [
              "2025-01-15"
             ],
             {
              "frame": {
               "duration": 0,
               "redraw": false
              },
              "fromcurrent": true,
              "mode": "immediate",
              "transition": {
               "duration": 0,
               "easing": "linear"
              }
             }
            ],
            "label": "2025-01-15",
            "method": "animate"
           },
           {
            "args": [
             [
              "2025-01-16"
             ],
             {
              "frame": {
               "duration": 0,
               "redraw": false
              },
              "fromcurrent": true,
              "mode": "immediate",
              "transition": {
               "duration": 0,
               "easing": "linear"
              }
             }
            ],
            "label": "2025-01-16",
            "method": "animate"
           },
           {
            "args": [
             [
              "2025-01-17"
             ],
             {
              "frame": {
               "duration": 0,
               "redraw": false
              },
              "fromcurrent": true,
              "mode": "immediate",
              "transition": {
               "duration": 0,
               "easing": "linear"
              }
             }
            ],
            "label": "2025-01-17",
            "method": "animate"
           },
           {
            "args": [
             [
              "2025-01-20"
             ],
             {
              "frame": {
               "duration": 0,
               "redraw": false
              },
              "fromcurrent": true,
              "mode": "immediate",
              "transition": {
               "duration": 0,
               "easing": "linear"
              }
             }
            ],
            "label": "2025-01-20",
            "method": "animate"
           },
           {
            "args": [
             [
              "2025-01-21"
             ],
             {
              "frame": {
               "duration": 0,
               "redraw": false
              },
              "fromcurrent": true,
              "mode": "immediate",
              "transition": {
               "duration": 0,
               "easing": "linear"
              }
             }
            ],
            "label": "2025-01-21",
            "method": "animate"
           },
           {
            "args": [
             [
              "2025-01-22"
             ],
             {
              "frame": {
               "duration": 0,
               "redraw": false
              },
              "fromcurrent": true,
              "mode": "immediate",
              "transition": {
               "duration": 0,
               "easing": "linear"
              }
             }
            ],
            "label": "2025-01-22",
            "method": "animate"
           },
           {
            "args": [
             [
              "2025-01-23"
             ],
             {
              "frame": {
               "duration": 0,
               "redraw": false
              },
              "fromcurrent": true,
              "mode": "immediate",
              "transition": {
               "duration": 0,
               "easing": "linear"
              }
             }
            ],
            "label": "2025-01-23",
            "method": "animate"
           },
           {
            "args": [
             [
              "2025-01-24"
             ],
             {
              "frame": {
               "duration": 0,
               "redraw": false
              },
              "fromcurrent": true,
              "mode": "immediate",
              "transition": {
               "duration": 0,
               "easing": "linear"
              }
             }
            ],
            "label": "2025-01-24",
            "method": "animate"
           },
           {
            "args": [
             [
              "2025-01-27"
             ],
             {
              "frame": {
               "duration": 0,
               "redraw": false
              },
              "fromcurrent": true,
              "mode": "immediate",
              "transition": {
               "duration": 0,
               "easing": "linear"
              }
             }
            ],
            "label": "2025-01-27",
            "method": "animate"
           },
           {
            "args": [
             [
              "2025-01-28"
             ],
             {
              "frame": {
               "duration": 0,
               "redraw": false
              },
              "fromcurrent": true,
              "mode": "immediate",
              "transition": {
               "duration": 0,
               "easing": "linear"
              }
             }
            ],
            "label": "2025-01-28",
            "method": "animate"
           },
           {
            "args": [
             [
              "2025-01-29"
             ],
             {
              "frame": {
               "duration": 0,
               "redraw": false
              },
              "fromcurrent": true,
              "mode": "immediate",
              "transition": {
               "duration": 0,
               "easing": "linear"
              }
             }
            ],
            "label": "2025-01-29",
            "method": "animate"
           },
           {
            "args": [
             [
              "2025-01-30"
             ],
             {
              "frame": {
               "duration": 0,
               "redraw": false
              },
              "fromcurrent": true,
              "mode": "immediate",
              "transition": {
               "duration": 0,
               "easing": "linear"
              }
             }
            ],
            "label": "2025-01-30",
            "method": "animate"
           },
           {
            "args": [
             [
              "2025-01-31"
             ],
             {
              "frame": {
               "duration": 0,
               "redraw": false
              },
              "fromcurrent": true,
              "mode": "immediate",
              "transition": {
               "duration": 0,
               "easing": "linear"
              }
             }
            ],
            "label": "2025-01-31",
            "method": "animate"
           },
           {
            "args": [
             [
              "2025-02-03"
             ],
             {
              "frame": {
               "duration": 0,
               "redraw": false
              },
              "fromcurrent": true,
              "mode": "immediate",
              "transition": {
               "duration": 0,
               "easing": "linear"
              }
             }
            ],
            "label": "2025-02-03",
            "method": "animate"
           },
           {
            "args": [
             [
              "2025-02-04"
             ],
             {
              "frame": {
               "duration": 0,
               "redraw": false
              },
              "fromcurrent": true,
              "mode": "immediate",
              "transition": {
               "duration": 0,
               "easing": "linear"
              }
             }
            ],
            "label": "2025-02-04",
            "method": "animate"
           },
           {
            "args": [
             [
              "2025-02-05"
             ],
             {
              "frame": {
               "duration": 0,
               "redraw": false
              },
              "fromcurrent": true,
              "mode": "immediate",
              "transition": {
               "duration": 0,
               "easing": "linear"
              }
             }
            ],
            "label": "2025-02-05",
            "method": "animate"
           },
           {
            "args": [
             [
              "2025-02-06"
             ],
             {
              "frame": {
               "duration": 0,
               "redraw": false
              },
              "fromcurrent": true,
              "mode": "immediate",
              "transition": {
               "duration": 0,
               "easing": "linear"
              }
             }
            ],
            "label": "2025-02-06",
            "method": "animate"
           },
           {
            "args": [
             [
              "2025-02-07"
             ],
             {
              "frame": {
               "duration": 0,
               "redraw": false
              },
              "fromcurrent": true,
              "mode": "immediate",
              "transition": {
               "duration": 0,
               "easing": "linear"
              }
             }
            ],
            "label": "2025-02-07",
            "method": "animate"
           },
           {
            "args": [
             [
              "2025-02-10"
             ],
             {
              "frame": {
               "duration": 0,
               "redraw": false
              },
              "fromcurrent": true,
              "mode": "immediate",
              "transition": {
               "duration": 0,
               "easing": "linear"
              }
             }
            ],
            "label": "2025-02-10",
            "method": "animate"
           },
           {
            "args": [
             [
              "2025-02-11"
             ],
             {
              "frame": {
               "duration": 0,
               "redraw": false
              },
              "fromcurrent": true,
              "mode": "immediate",
              "transition": {
               "duration": 0,
               "easing": "linear"
              }
             }
            ],
            "label": "2025-02-11",
            "method": "animate"
           },
           {
            "args": [
             [
              "2025-02-12"
             ],
             {
              "frame": {
               "duration": 0,
               "redraw": false
              },
              "fromcurrent": true,
              "mode": "immediate",
              "transition": {
               "duration": 0,
               "easing": "linear"
              }
             }
            ],
            "label": "2025-02-12",
            "method": "animate"
           },
           {
            "args": [
             [
              "2025-02-13"
             ],
             {
              "frame": {
               "duration": 0,
               "redraw": false
              },
              "fromcurrent": true,
              "mode": "immediate",
              "transition": {
               "duration": 0,
               "easing": "linear"
              }
             }
            ],
            "label": "2025-02-13",
            "method": "animate"
           },
           {
            "args": [
             [
              "2025-02-14"
             ],
             {
              "frame": {
               "duration": 0,
               "redraw": false
              },
              "fromcurrent": true,
              "mode": "immediate",
              "transition": {
               "duration": 0,
               "easing": "linear"
              }
             }
            ],
            "label": "2025-02-14",
            "method": "animate"
           },
           {
            "args": [
             [
              "2025-02-17"
             ],
             {
              "frame": {
               "duration": 0,
               "redraw": false
              },
              "fromcurrent": true,
              "mode": "immediate",
              "transition": {
               "duration": 0,
               "easing": "linear"
              }
             }
            ],
            "label": "2025-02-17",
            "method": "animate"
           },
           {
            "args": [
             [
              "2025-02-18"
             ],
             {
              "frame": {
               "duration": 0,
               "redraw": false
              },
              "fromcurrent": true,
              "mode": "immediate",
              "transition": {
               "duration": 0,
               "easing": "linear"
              }
             }
            ],
            "label": "2025-02-18",
            "method": "animate"
           },
           {
            "args": [
             [
              "2025-02-19"
             ],
             {
              "frame": {
               "duration": 0,
               "redraw": false
              },
              "fromcurrent": true,
              "mode": "immediate",
              "transition": {
               "duration": 0,
               "easing": "linear"
              }
             }
            ],
            "label": "2025-02-19",
            "method": "animate"
           },
           {
            "args": [
             [
              "2025-02-20"
             ],
             {
              "frame": {
               "duration": 0,
               "redraw": false
              },
              "fromcurrent": true,
              "mode": "immediate",
              "transition": {
               "duration": 0,
               "easing": "linear"
              }
             }
            ],
            "label": "2025-02-20",
            "method": "animate"
           },
           {
            "args": [
             [
              "2025-02-21"
             ],
             {
              "frame": {
               "duration": 0,
               "redraw": false
              },
              "fromcurrent": true,
              "mode": "immediate",
              "transition": {
               "duration": 0,
               "easing": "linear"
              }
             }
            ],
            "label": "2025-02-21",
            "method": "animate"
           },
           {
            "args": [
             [
              "2025-02-24"
             ],
             {
              "frame": {
               "duration": 0,
               "redraw": false
              },
              "fromcurrent": true,
              "mode": "immediate",
              "transition": {
               "duration": 0,
               "easing": "linear"
              }
             }
            ],
            "label": "2025-02-24",
            "method": "animate"
           },
           {
            "args": [
             [
              "2025-02-25"
             ],
             {
              "frame": {
               "duration": 0,
               "redraw": false
              },
              "fromcurrent": true,
              "mode": "immediate",
              "transition": {
               "duration": 0,
               "easing": "linear"
              }
             }
            ],
            "label": "2025-02-25",
            "method": "animate"
           },
           {
            "args": [
             [
              "2025-02-26"
             ],
             {
              "frame": {
               "duration": 0,
               "redraw": false
              },
              "fromcurrent": true,
              "mode": "immediate",
              "transition": {
               "duration": 0,
               "easing": "linear"
              }
             }
            ],
            "label": "2025-02-26",
            "method": "animate"
           },
           {
            "args": [
             [
              "2025-02-27"
             ],
             {
              "frame": {
               "duration": 0,
               "redraw": false
              },
              "fromcurrent": true,
              "mode": "immediate",
              "transition": {
               "duration": 0,
               "easing": "linear"
              }
             }
            ],
            "label": "2025-02-27",
            "method": "animate"
           },
           {
            "args": [
             [
              "2025-02-28"
             ],
             {
              "frame": {
               "duration": 0,
               "redraw": false
              },
              "fromcurrent": true,
              "mode": "immediate",
              "transition": {
               "duration": 0,
               "easing": "linear"
              }
             }
            ],
            "label": "2025-02-28",
            "method": "animate"
           },
           {
            "args": [
             [
              "2025-03-05"
             ],
             {
              "frame": {
               "duration": 0,
               "redraw": false
              },
              "fromcurrent": true,
              "mode": "immediate",
              "transition": {
               "duration": 0,
               "easing": "linear"
              }
             }
            ],
            "label": "2025-03-05",
            "method": "animate"
           },
           {
            "args": [
             [
              "2025-03-06"
             ],
             {
              "frame": {
               "duration": 0,
               "redraw": false
              },
              "fromcurrent": true,
              "mode": "immediate",
              "transition": {
               "duration": 0,
               "easing": "linear"
              }
             }
            ],
            "label": "2025-03-06",
            "method": "animate"
           },
           {
            "args": [
             [
              "2025-03-07"
             ],
             {
              "frame": {
               "duration": 0,
               "redraw": false
              },
              "fromcurrent": true,
              "mode": "immediate",
              "transition": {
               "duration": 0,
               "easing": "linear"
              }
             }
            ],
            "label": "2025-03-07",
            "method": "animate"
           },
           {
            "args": [
             [
              "2025-03-10"
             ],
             {
              "frame": {
               "duration": 0,
               "redraw": false
              },
              "fromcurrent": true,
              "mode": "immediate",
              "transition": {
               "duration": 0,
               "easing": "linear"
              }
             }
            ],
            "label": "2025-03-10",
            "method": "animate"
           },
           {
            "args": [
             [
              "2025-03-11"
             ],
             {
              "frame": {
               "duration": 0,
               "redraw": false
              },
              "fromcurrent": true,
              "mode": "immediate",
              "transition": {
               "duration": 0,
               "easing": "linear"
              }
             }
            ],
            "label": "2025-03-11",
            "method": "animate"
           },
           {
            "args": [
             [
              "2025-03-12"
             ],
             {
              "frame": {
               "duration": 0,
               "redraw": false
              },
              "fromcurrent": true,
              "mode": "immediate",
              "transition": {
               "duration": 0,
               "easing": "linear"
              }
             }
            ],
            "label": "2025-03-12",
            "method": "animate"
           },
           {
            "args": [
             [
              "2025-03-13"
             ],
             {
              "frame": {
               "duration": 0,
               "redraw": false
              },
              "fromcurrent": true,
              "mode": "immediate",
              "transition": {
               "duration": 0,
               "easing": "linear"
              }
             }
            ],
            "label": "2025-03-13",
            "method": "animate"
           },
           {
            "args": [
             [
              "2025-03-14"
             ],
             {
              "frame": {
               "duration": 0,
               "redraw": false
              },
              "fromcurrent": true,
              "mode": "immediate",
              "transition": {
               "duration": 0,
               "easing": "linear"
              }
             }
            ],
            "label": "2025-03-14",
            "method": "animate"
           },
           {
            "args": [
             [
              "2025-03-17"
             ],
             {
              "frame": {
               "duration": 0,
               "redraw": false
              },
              "fromcurrent": true,
              "mode": "immediate",
              "transition": {
               "duration": 0,
               "easing": "linear"
              }
             }
            ],
            "label": "2025-03-17",
            "method": "animate"
           },
           {
            "args": [
             [
              "2025-03-18"
             ],
             {
              "frame": {
               "duration": 0,
               "redraw": false
              },
              "fromcurrent": true,
              "mode": "immediate",
              "transition": {
               "duration": 0,
               "easing": "linear"
              }
             }
            ],
            "label": "2025-03-18",
            "method": "animate"
           },
           {
            "args": [
             [
              "2025-03-19"
             ],
             {
              "frame": {
               "duration": 0,
               "redraw": false
              },
              "fromcurrent": true,
              "mode": "immediate",
              "transition": {
               "duration": 0,
               "easing": "linear"
              }
             }
            ],
            "label": "2025-03-19",
            "method": "animate"
           },
           {
            "args": [
             [
              "2025-03-20"
             ],
             {
              "frame": {
               "duration": 0,
               "redraw": false
              },
              "fromcurrent": true,
              "mode": "immediate",
              "transition": {
               "duration": 0,
               "easing": "linear"
              }
             }
            ],
            "label": "2025-03-20",
            "method": "animate"
           },
           {
            "args": [
             [
              "2025-03-21"
             ],
             {
              "frame": {
               "duration": 0,
               "redraw": false
              },
              "fromcurrent": true,
              "mode": "immediate",
              "transition": {
               "duration": 0,
               "easing": "linear"
              }
             }
            ],
            "label": "2025-03-21",
            "method": "animate"
           },
           {
            "args": [
             [
              "2025-03-24"
             ],
             {
              "frame": {
               "duration": 0,
               "redraw": false
              },
              "fromcurrent": true,
              "mode": "immediate",
              "transition": {
               "duration": 0,
               "easing": "linear"
              }
             }
            ],
            "label": "2025-03-24",
            "method": "animate"
           },
           {
            "args": [
             [
              "2025-03-25"
             ],
             {
              "frame": {
               "duration": 0,
               "redraw": false
              },
              "fromcurrent": true,
              "mode": "immediate",
              "transition": {
               "duration": 0,
               "easing": "linear"
              }
             }
            ],
            "label": "2025-03-25",
            "method": "animate"
           },
           {
            "args": [
             [
              "2025-03-26"
             ],
             {
              "frame": {
               "duration": 0,
               "redraw": false
              },
              "fromcurrent": true,
              "mode": "immediate",
              "transition": {
               "duration": 0,
               "easing": "linear"
              }
             }
            ],
            "label": "2025-03-26",
            "method": "animate"
           },
           {
            "args": [
             [
              "2025-03-27"
             ],
             {
              "frame": {
               "duration": 0,
               "redraw": false
              },
              "fromcurrent": true,
              "mode": "immediate",
              "transition": {
               "duration": 0,
               "easing": "linear"
              }
             }
            ],
            "label": "2025-03-27",
            "method": "animate"
           },
           {
            "args": [
             [
              "2025-03-28"
             ],
             {
              "frame": {
               "duration": 0,
               "redraw": false
              },
              "fromcurrent": true,
              "mode": "immediate",
              "transition": {
               "duration": 0,
               "easing": "linear"
              }
             }
            ],
            "label": "2025-03-28",
            "method": "animate"
           },
           {
            "args": [
             [
              "2025-03-31"
             ],
             {
              "frame": {
               "duration": 0,
               "redraw": false
              },
              "fromcurrent": true,
              "mode": "immediate",
              "transition": {
               "duration": 0,
               "easing": "linear"
              }
             }
            ],
            "label": "2025-03-31",
            "method": "animate"
           },
           {
            "args": [
             [
              "2025-04-01"
             ],
             {
              "frame": {
               "duration": 0,
               "redraw": false
              },
              "fromcurrent": true,
              "mode": "immediate",
              "transition": {
               "duration": 0,
               "easing": "linear"
              }
             }
            ],
            "label": "2025-04-01",
            "method": "animate"
           },
           {
            "args": [
             [
              "2025-04-02"
             ],
             {
              "frame": {
               "duration": 0,
               "redraw": false
              },
              "fromcurrent": true,
              "mode": "immediate",
              "transition": {
               "duration": 0,
               "easing": "linear"
              }
             }
            ],
            "label": "2025-04-02",
            "method": "animate"
           },
           {
            "args": [
             [
              "2025-04-03"
             ],
             {
              "frame": {
               "duration": 0,
               "redraw": false
              },
              "fromcurrent": true,
              "mode": "immediate",
              "transition": {
               "duration": 0,
               "easing": "linear"
              }
             }
            ],
            "label": "2025-04-03",
            "method": "animate"
           },
           {
            "args": [
             [
              "2025-04-04"
             ],
             {
              "frame": {
               "duration": 0,
               "redraw": false
              },
              "fromcurrent": true,
              "mode": "immediate",
              "transition": {
               "duration": 0,
               "easing": "linear"
              }
             }
            ],
            "label": "2025-04-04",
            "method": "animate"
           },
           {
            "args": [
             [
              "2025-04-07"
             ],
             {
              "frame": {
               "duration": 0,
               "redraw": false
              },
              "fromcurrent": true,
              "mode": "immediate",
              "transition": {
               "duration": 0,
               "easing": "linear"
              }
             }
            ],
            "label": "2025-04-07",
            "method": "animate"
           },
           {
            "args": [
             [
              "2025-04-08"
             ],
             {
              "frame": {
               "duration": 0,
               "redraw": false
              },
              "fromcurrent": true,
              "mode": "immediate",
              "transition": {
               "duration": 0,
               "easing": "linear"
              }
             }
            ],
            "label": "2025-04-08",
            "method": "animate"
           },
           {
            "args": [
             [
              "2025-04-09"
             ],
             {
              "frame": {
               "duration": 0,
               "redraw": false
              },
              "fromcurrent": true,
              "mode": "immediate",
              "transition": {
               "duration": 0,
               "easing": "linear"
              }
             }
            ],
            "label": "2025-04-09",
            "method": "animate"
           },
           {
            "args": [
             [
              "2025-04-10"
             ],
             {
              "frame": {
               "duration": 0,
               "redraw": false
              },
              "fromcurrent": true,
              "mode": "immediate",
              "transition": {
               "duration": 0,
               "easing": "linear"
              }
             }
            ],
            "label": "2025-04-10",
            "method": "animate"
           },
           {
            "args": [
             [
              "2025-04-11"
             ],
             {
              "frame": {
               "duration": 0,
               "redraw": false
              },
              "fromcurrent": true,
              "mode": "immediate",
              "transition": {
               "duration": 0,
               "easing": "linear"
              }
             }
            ],
            "label": "2025-04-11",
            "method": "animate"
           },
           {
            "args": [
             [
              "2025-04-14"
             ],
             {
              "frame": {
               "duration": 0,
               "redraw": false
              },
              "fromcurrent": true,
              "mode": "immediate",
              "transition": {
               "duration": 0,
               "easing": "linear"
              }
             }
            ],
            "label": "2025-04-14",
            "method": "animate"
           },
           {
            "args": [
             [
              "2025-04-15"
             ],
             {
              "frame": {
               "duration": 0,
               "redraw": false
              },
              "fromcurrent": true,
              "mode": "immediate",
              "transition": {
               "duration": 0,
               "easing": "linear"
              }
             }
            ],
            "label": "2025-04-15",
            "method": "animate"
           },
           {
            "args": [
             [
              "2025-04-16"
             ],
             {
              "frame": {
               "duration": 0,
               "redraw": false
              },
              "fromcurrent": true,
              "mode": "immediate",
              "transition": {
               "duration": 0,
               "easing": "linear"
              }
             }
            ],
            "label": "2025-04-16",
            "method": "animate"
           },
           {
            "args": [
             [
              "2025-04-17"
             ],
             {
              "frame": {
               "duration": 0,
               "redraw": false
              },
              "fromcurrent": true,
              "mode": "immediate",
              "transition": {
               "duration": 0,
               "easing": "linear"
              }
             }
            ],
            "label": "2025-04-17",
            "method": "animate"
           },
           {
            "args": [
             [
              "2025-04-22"
             ],
             {
              "frame": {
               "duration": 0,
               "redraw": false
              },
              "fromcurrent": true,
              "mode": "immediate",
              "transition": {
               "duration": 0,
               "easing": "linear"
              }
             }
            ],
            "label": "2025-04-22",
            "method": "animate"
           },
           {
            "args": [
             [
              "2025-04-23"
             ],
             {
              "frame": {
               "duration": 0,
               "redraw": false
              },
              "fromcurrent": true,
              "mode": "immediate",
              "transition": {
               "duration": 0,
               "easing": "linear"
              }
             }
            ],
            "label": "2025-04-23",
            "method": "animate"
           },
           {
            "args": [
             [
              "2025-04-24"
             ],
             {
              "frame": {
               "duration": 0,
               "redraw": false
              },
              "fromcurrent": true,
              "mode": "immediate",
              "transition": {
               "duration": 0,
               "easing": "linear"
              }
             }
            ],
            "label": "2025-04-24",
            "method": "animate"
           },
           {
            "args": [
             [
              "2025-04-25"
             ],
             {
              "frame": {
               "duration": 0,
               "redraw": false
              },
              "fromcurrent": true,
              "mode": "immediate",
              "transition": {
               "duration": 0,
               "easing": "linear"
              }
             }
            ],
            "label": "2025-04-25",
            "method": "animate"
           },
           {
            "args": [
             [
              "2025-04-28"
             ],
             {
              "frame": {
               "duration": 0,
               "redraw": false
              },
              "fromcurrent": true,
              "mode": "immediate",
              "transition": {
               "duration": 0,
               "easing": "linear"
              }
             }
            ],
            "label": "2025-04-28",
            "method": "animate"
           },
           {
            "args": [
             [
              "2025-04-29"
             ],
             {
              "frame": {
               "duration": 0,
               "redraw": false
              },
              "fromcurrent": true,
              "mode": "immediate",
              "transition": {
               "duration": 0,
               "easing": "linear"
              }
             }
            ],
            "label": "2025-04-29",
            "method": "animate"
           },
           {
            "args": [
             [
              "2025-04-30"
             ],
             {
              "frame": {
               "duration": 0,
               "redraw": false
              },
              "fromcurrent": true,
              "mode": "immediate",
              "transition": {
               "duration": 0,
               "easing": "linear"
              }
             }
            ],
            "label": "2025-04-30",
            "method": "animate"
           },
           {
            "args": [
             [
              "2025-05-02"
             ],
             {
              "frame": {
               "duration": 0,
               "redraw": false
              },
              "fromcurrent": true,
              "mode": "immediate",
              "transition": {
               "duration": 0,
               "easing": "linear"
              }
             }
            ],
            "label": "2025-05-02",
            "method": "animate"
           },
           {
            "args": [
             [
              "2025-05-05"
             ],
             {
              "frame": {
               "duration": 0,
               "redraw": false
              },
              "fromcurrent": true,
              "mode": "immediate",
              "transition": {
               "duration": 0,
               "easing": "linear"
              }
             }
            ],
            "label": "2025-05-05",
            "method": "animate"
           },
           {
            "args": [
             [
              "2025-05-06"
             ],
             {
              "frame": {
               "duration": 0,
               "redraw": false
              },
              "fromcurrent": true,
              "mode": "immediate",
              "transition": {
               "duration": 0,
               "easing": "linear"
              }
             }
            ],
            "label": "2025-05-06",
            "method": "animate"
           },
           {
            "args": [
             [
              "2025-05-07"
             ],
             {
              "frame": {
               "duration": 0,
               "redraw": false
              },
              "fromcurrent": true,
              "mode": "immediate",
              "transition": {
               "duration": 0,
               "easing": "linear"
              }
             }
            ],
            "label": "2025-05-07",
            "method": "animate"
           },
           {
            "args": [
             [
              "2025-05-08"
             ],
             {
              "frame": {
               "duration": 0,
               "redraw": false
              },
              "fromcurrent": true,
              "mode": "immediate",
              "transition": {
               "duration": 0,
               "easing": "linear"
              }
             }
            ],
            "label": "2025-05-08",
            "method": "animate"
           },
           {
            "args": [
             [
              "2025-05-09"
             ],
             {
              "frame": {
               "duration": 0,
               "redraw": false
              },
              "fromcurrent": true,
              "mode": "immediate",
              "transition": {
               "duration": 0,
               "easing": "linear"
              }
             }
            ],
            "label": "2025-05-09",
            "method": "animate"
           },
           {
            "args": [
             [
              "2025-05-12"
             ],
             {
              "frame": {
               "duration": 0,
               "redraw": false
              },
              "fromcurrent": true,
              "mode": "immediate",
              "transition": {
               "duration": 0,
               "easing": "linear"
              }
             }
            ],
            "label": "2025-05-12",
            "method": "animate"
           },
           {
            "args": [
             [
              "2025-05-13"
             ],
             {
              "frame": {
               "duration": 0,
               "redraw": false
              },
              "fromcurrent": true,
              "mode": "immediate",
              "transition": {
               "duration": 0,
               "easing": "linear"
              }
             }
            ],
            "label": "2025-05-13",
            "method": "animate"
           },
           {
            "args": [
             [
              "2025-05-14"
             ],
             {
              "frame": {
               "duration": 0,
               "redraw": false
              },
              "fromcurrent": true,
              "mode": "immediate",
              "transition": {
               "duration": 0,
               "easing": "linear"
              }
             }
            ],
            "label": "2025-05-14",
            "method": "animate"
           },
           {
            "args": [
             [
              "2025-05-15"
             ],
             {
              "frame": {
               "duration": 0,
               "redraw": false
              },
              "fromcurrent": true,
              "mode": "immediate",
              "transition": {
               "duration": 0,
               "easing": "linear"
              }
             }
            ],
            "label": "2025-05-15",
            "method": "animate"
           },
           {
            "args": [
             [
              "2025-05-16"
             ],
             {
              "frame": {
               "duration": 0,
               "redraw": false
              },
              "fromcurrent": true,
              "mode": "immediate",
              "transition": {
               "duration": 0,
               "easing": "linear"
              }
             }
            ],
            "label": "2025-05-16",
            "method": "animate"
           },
           {
            "args": [
             [
              "2025-05-19"
             ],
             {
              "frame": {
               "duration": 0,
               "redraw": false
              },
              "fromcurrent": true,
              "mode": "immediate",
              "transition": {
               "duration": 0,
               "easing": "linear"
              }
             }
            ],
            "label": "2025-05-19",
            "method": "animate"
           },
           {
            "args": [
             [
              "2025-05-20"
             ],
             {
              "frame": {
               "duration": 0,
               "redraw": false
              },
              "fromcurrent": true,
              "mode": "immediate",
              "transition": {
               "duration": 0,
               "easing": "linear"
              }
             }
            ],
            "label": "2025-05-20",
            "method": "animate"
           },
           {
            "args": [
             [
              "2025-05-21"
             ],
             {
              "frame": {
               "duration": 0,
               "redraw": false
              },
              "fromcurrent": true,
              "mode": "immediate",
              "transition": {
               "duration": 0,
               "easing": "linear"
              }
             }
            ],
            "label": "2025-05-21",
            "method": "animate"
           },
           {
            "args": [
             [
              "2025-05-22"
             ],
             {
              "frame": {
               "duration": 0,
               "redraw": false
              },
              "fromcurrent": true,
              "mode": "immediate",
              "transition": {
               "duration": 0,
               "easing": "linear"
              }
             }
            ],
            "label": "2025-05-22",
            "method": "animate"
           },
           {
            "args": [
             [
              "2025-05-23"
             ],
             {
              "frame": {
               "duration": 0,
               "redraw": false
              },
              "fromcurrent": true,
              "mode": "immediate",
              "transition": {
               "duration": 0,
               "easing": "linear"
              }
             }
            ],
            "label": "2025-05-23",
            "method": "animate"
           },
           {
            "args": [
             [
              "2025-05-26"
             ],
             {
              "frame": {
               "duration": 0,
               "redraw": false
              },
              "fromcurrent": true,
              "mode": "immediate",
              "transition": {
               "duration": 0,
               "easing": "linear"
              }
             }
            ],
            "label": "2025-05-26",
            "method": "animate"
           },
           {
            "args": [
             [
              "2025-05-27"
             ],
             {
              "frame": {
               "duration": 0,
               "redraw": false
              },
              "fromcurrent": true,
              "mode": "immediate",
              "transition": {
               "duration": 0,
               "easing": "linear"
              }
             }
            ],
            "label": "2025-05-27",
            "method": "animate"
           },
           {
            "args": [
             [
              "2025-05-28"
             ],
             {
              "frame": {
               "duration": 0,
               "redraw": false
              },
              "fromcurrent": true,
              "mode": "immediate",
              "transition": {
               "duration": 0,
               "easing": "linear"
              }
             }
            ],
            "label": "2025-05-28",
            "method": "animate"
           },
           {
            "args": [
             [
              "2025-05-29"
             ],
             {
              "frame": {
               "duration": 0,
               "redraw": false
              },
              "fromcurrent": true,
              "mode": "immediate",
              "transition": {
               "duration": 0,
               "easing": "linear"
              }
             }
            ],
            "label": "2025-05-29",
            "method": "animate"
           },
           {
            "args": [
             [
              "2025-05-30"
             ],
             {
              "frame": {
               "duration": 0,
               "redraw": false
              },
              "fromcurrent": true,
              "mode": "immediate",
              "transition": {
               "duration": 0,
               "easing": "linear"
              }
             }
            ],
            "label": "2025-05-30",
            "method": "animate"
           },
           {
            "args": [
             [
              "2025-06-02"
             ],
             {
              "frame": {
               "duration": 0,
               "redraw": false
              },
              "fromcurrent": true,
              "mode": "immediate",
              "transition": {
               "duration": 0,
               "easing": "linear"
              }
             }
            ],
            "label": "2025-06-02",
            "method": "animate"
           },
           {
            "args": [
             [
              "2025-06-03"
             ],
             {
              "frame": {
               "duration": 0,
               "redraw": false
              },
              "fromcurrent": true,
              "mode": "immediate",
              "transition": {
               "duration": 0,
               "easing": "linear"
              }
             }
            ],
            "label": "2025-06-03",
            "method": "animate"
           },
           {
            "args": [
             [
              "2025-06-04"
             ],
             {
              "frame": {
               "duration": 0,
               "redraw": false
              },
              "fromcurrent": true,
              "mode": "immediate",
              "transition": {
               "duration": 0,
               "easing": "linear"
              }
             }
            ],
            "label": "2025-06-04",
            "method": "animate"
           },
           {
            "args": [
             [
              "2025-06-05"
             ],
             {
              "frame": {
               "duration": 0,
               "redraw": false
              },
              "fromcurrent": true,
              "mode": "immediate",
              "transition": {
               "duration": 0,
               "easing": "linear"
              }
             }
            ],
            "label": "2025-06-05",
            "method": "animate"
           },
           {
            "args": [
             [
              "2025-06-06"
             ],
             {
              "frame": {
               "duration": 0,
               "redraw": false
              },
              "fromcurrent": true,
              "mode": "immediate",
              "transition": {
               "duration": 0,
               "easing": "linear"
              }
             }
            ],
            "label": "2025-06-06",
            "method": "animate"
           },
           {
            "args": [
             [
              "2025-06-09"
             ],
             {
              "frame": {
               "duration": 0,
               "redraw": false
              },
              "fromcurrent": true,
              "mode": "immediate",
              "transition": {
               "duration": 0,
               "easing": "linear"
              }
             }
            ],
            "label": "2025-06-09",
            "method": "animate"
           }
          ],
          "x": 0.1,
          "xanchor": "left",
          "y": 0,
          "yanchor": "top"
         }
        ],
        "template": {
         "data": {
          "bar": [
           {
            "error_x": {
             "color": "#f2f5fa"
            },
            "error_y": {
             "color": "#f2f5fa"
            },
            "marker": {
             "line": {
              "color": "rgb(17,17,17)",
              "width": 0.5
             },
             "pattern": {
              "fillmode": "overlay",
              "size": 10,
              "solidity": 0.2
             }
            },
            "type": "bar"
           }
          ],
          "barpolar": [
           {
            "marker": {
             "line": {
              "color": "rgb(17,17,17)",
              "width": 0.5
             },
             "pattern": {
              "fillmode": "overlay",
              "size": 10,
              "solidity": 0.2
             }
            },
            "type": "barpolar"
           }
          ],
          "carpet": [
           {
            "aaxis": {
             "endlinecolor": "#A2B1C6",
             "gridcolor": "#506784",
             "linecolor": "#506784",
             "minorgridcolor": "#506784",
             "startlinecolor": "#A2B1C6"
            },
            "baxis": {
             "endlinecolor": "#A2B1C6",
             "gridcolor": "#506784",
             "linecolor": "#506784",
             "minorgridcolor": "#506784",
             "startlinecolor": "#A2B1C6"
            },
            "type": "carpet"
           }
          ],
          "choropleth": [
           {
            "colorbar": {
             "outlinewidth": 0,
             "ticks": ""
            },
            "type": "choropleth"
           }
          ],
          "contour": [
           {
            "colorbar": {
             "outlinewidth": 0,
             "ticks": ""
            },
            "colorscale": [
             [
              0,
              "#0d0887"
             ],
             [
              0.1111111111111111,
              "#46039f"
             ],
             [
              0.2222222222222222,
              "#7201a8"
             ],
             [
              0.3333333333333333,
              "#9c179e"
             ],
             [
              0.4444444444444444,
              "#bd3786"
             ],
             [
              0.5555555555555556,
              "#d8576b"
             ],
             [
              0.6666666666666666,
              "#ed7953"
             ],
             [
              0.7777777777777778,
              "#fb9f3a"
             ],
             [
              0.8888888888888888,
              "#fdca26"
             ],
             [
              1,
              "#f0f921"
             ]
            ],
            "type": "contour"
           }
          ],
          "contourcarpet": [
           {
            "colorbar": {
             "outlinewidth": 0,
             "ticks": ""
            },
            "type": "contourcarpet"
           }
          ],
          "heatmap": [
           {
            "colorbar": {
             "outlinewidth": 0,
             "ticks": ""
            },
            "colorscale": [
             [
              0,
              "#0d0887"
             ],
             [
              0.1111111111111111,
              "#46039f"
             ],
             [
              0.2222222222222222,
              "#7201a8"
             ],
             [
              0.3333333333333333,
              "#9c179e"
             ],
             [
              0.4444444444444444,
              "#bd3786"
             ],
             [
              0.5555555555555556,
              "#d8576b"
             ],
             [
              0.6666666666666666,
              "#ed7953"
             ],
             [
              0.7777777777777778,
              "#fb9f3a"
             ],
             [
              0.8888888888888888,
              "#fdca26"
             ],
             [
              1,
              "#f0f921"
             ]
            ],
            "type": "heatmap"
           }
          ],
          "heatmapgl": [
           {
            "colorbar": {
             "outlinewidth": 0,
             "ticks": ""
            },
            "colorscale": [
             [
              0,
              "#0d0887"
             ],
             [
              0.1111111111111111,
              "#46039f"
             ],
             [
              0.2222222222222222,
              "#7201a8"
             ],
             [
              0.3333333333333333,
              "#9c179e"
             ],
             [
              0.4444444444444444,
              "#bd3786"
             ],
             [
              0.5555555555555556,
              "#d8576b"
             ],
             [
              0.6666666666666666,
              "#ed7953"
             ],
             [
              0.7777777777777778,
              "#fb9f3a"
             ],
             [
              0.8888888888888888,
              "#fdca26"
             ],
             [
              1,
              "#f0f921"
             ]
            ],
            "type": "heatmapgl"
           }
          ],
          "histogram": [
           {
            "marker": {
             "pattern": {
              "fillmode": "overlay",
              "size": 10,
              "solidity": 0.2
             }
            },
            "type": "histogram"
           }
          ],
          "histogram2d": [
           {
            "colorbar": {
             "outlinewidth": 0,
             "ticks": ""
            },
            "colorscale": [
             [
              0,
              "#0d0887"
             ],
             [
              0.1111111111111111,
              "#46039f"
             ],
             [
              0.2222222222222222,
              "#7201a8"
             ],
             [
              0.3333333333333333,
              "#9c179e"
             ],
             [
              0.4444444444444444,
              "#bd3786"
             ],
             [
              0.5555555555555556,
              "#d8576b"
             ],
             [
              0.6666666666666666,
              "#ed7953"
             ],
             [
              0.7777777777777778,
              "#fb9f3a"
             ],
             [
              0.8888888888888888,
              "#fdca26"
             ],
             [
              1,
              "#f0f921"
             ]
            ],
            "type": "histogram2d"
           }
          ],
          "histogram2dcontour": [
           {
            "colorbar": {
             "outlinewidth": 0,
             "ticks": ""
            },
            "colorscale": [
             [
              0,
              "#0d0887"
             ],
             [
              0.1111111111111111,
              "#46039f"
             ],
             [
              0.2222222222222222,
              "#7201a8"
             ],
             [
              0.3333333333333333,
              "#9c179e"
             ],
             [
              0.4444444444444444,
              "#bd3786"
             ],
             [
              0.5555555555555556,
              "#d8576b"
             ],
             [
              0.6666666666666666,
              "#ed7953"
             ],
             [
              0.7777777777777778,
              "#fb9f3a"
             ],
             [
              0.8888888888888888,
              "#fdca26"
             ],
             [
              1,
              "#f0f921"
             ]
            ],
            "type": "histogram2dcontour"
           }
          ],
          "mesh3d": [
           {
            "colorbar": {
             "outlinewidth": 0,
             "ticks": ""
            },
            "type": "mesh3d"
           }
          ],
          "parcoords": [
           {
            "line": {
             "colorbar": {
              "outlinewidth": 0,
              "ticks": ""
             }
            },
            "type": "parcoords"
           }
          ],
          "pie": [
           {
            "automargin": true,
            "type": "pie"
           }
          ],
          "scatter": [
           {
            "marker": {
             "line": {
              "color": "#283442"
             }
            },
            "type": "scatter"
           }
          ],
          "scatter3d": [
           {
            "line": {
             "colorbar": {
              "outlinewidth": 0,
              "ticks": ""
             }
            },
            "marker": {
             "colorbar": {
              "outlinewidth": 0,
              "ticks": ""
             }
            },
            "type": "scatter3d"
           }
          ],
          "scattercarpet": [
           {
            "marker": {
             "colorbar": {
              "outlinewidth": 0,
              "ticks": ""
             }
            },
            "type": "scattercarpet"
           }
          ],
          "scattergeo": [
           {
            "marker": {
             "colorbar": {
              "outlinewidth": 0,
              "ticks": ""
             }
            },
            "type": "scattergeo"
           }
          ],
          "scattergl": [
           {
            "marker": {
             "line": {
              "color": "#283442"
             }
            },
            "type": "scattergl"
           }
          ],
          "scattermapbox": [
           {
            "marker": {
             "colorbar": {
              "outlinewidth": 0,
              "ticks": ""
             }
            },
            "type": "scattermapbox"
           }
          ],
          "scatterpolar": [
           {
            "marker": {
             "colorbar": {
              "outlinewidth": 0,
              "ticks": ""
             }
            },
            "type": "scatterpolar"
           }
          ],
          "scatterpolargl": [
           {
            "marker": {
             "colorbar": {
              "outlinewidth": 0,
              "ticks": ""
             }
            },
            "type": "scatterpolargl"
           }
          ],
          "scatterternary": [
           {
            "marker": {
             "colorbar": {
              "outlinewidth": 0,
              "ticks": ""
             }
            },
            "type": "scatterternary"
           }
          ],
          "surface": [
           {
            "colorbar": {
             "outlinewidth": 0,
             "ticks": ""
            },
            "colorscale": [
             [
              0,
              "#0d0887"
             ],
             [
              0.1111111111111111,
              "#46039f"
             ],
             [
              0.2222222222222222,
              "#7201a8"
             ],
             [
              0.3333333333333333,
              "#9c179e"
             ],
             [
              0.4444444444444444,
              "#bd3786"
             ],
             [
              0.5555555555555556,
              "#d8576b"
             ],
             [
              0.6666666666666666,
              "#ed7953"
             ],
             [
              0.7777777777777778,
              "#fb9f3a"
             ],
             [
              0.8888888888888888,
              "#fdca26"
             ],
             [
              1,
              "#f0f921"
             ]
            ],
            "type": "surface"
           }
          ],
          "table": [
           {
            "cells": {
             "fill": {
              "color": "#506784"
             },
             "line": {
              "color": "rgb(17,17,17)"
             }
            },
            "header": {
             "fill": {
              "color": "#2a3f5f"
             },
             "line": {
              "color": "rgb(17,17,17)"
             }
            },
            "type": "table"
           }
          ]
         },
         "layout": {
          "annotationdefaults": {
           "arrowcolor": "#f2f5fa",
           "arrowhead": 0,
           "arrowwidth": 1
          },
          "autotypenumbers": "strict",
          "coloraxis": {
           "colorbar": {
            "outlinewidth": 0,
            "ticks": ""
           }
          },
          "colorscale": {
           "diverging": [
            [
             0,
             "#8e0152"
            ],
            [
             0.1,
             "#c51b7d"
            ],
            [
             0.2,
             "#de77ae"
            ],
            [
             0.3,
             "#f1b6da"
            ],
            [
             0.4,
             "#fde0ef"
            ],
            [
             0.5,
             "#f7f7f7"
            ],
            [
             0.6,
             "#e6f5d0"
            ],
            [
             0.7,
             "#b8e186"
            ],
            [
             0.8,
             "#7fbc41"
            ],
            [
             0.9,
             "#4d9221"
            ],
            [
             1,
             "#276419"
            ]
           ],
           "sequential": [
            [
             0,
             "#0d0887"
            ],
            [
             0.1111111111111111,
             "#46039f"
            ],
            [
             0.2222222222222222,
             "#7201a8"
            ],
            [
             0.3333333333333333,
             "#9c179e"
            ],
            [
             0.4444444444444444,
             "#bd3786"
            ],
            [
             0.5555555555555556,
             "#d8576b"
            ],
            [
             0.6666666666666666,
             "#ed7953"
            ],
            [
             0.7777777777777778,
             "#fb9f3a"
            ],
            [
             0.8888888888888888,
             "#fdca26"
            ],
            [
             1,
             "#f0f921"
            ]
           ],
           "sequentialminus": [
            [
             0,
             "#0d0887"
            ],
            [
             0.1111111111111111,
             "#46039f"
            ],
            [
             0.2222222222222222,
             "#7201a8"
            ],
            [
             0.3333333333333333,
             "#9c179e"
            ],
            [
             0.4444444444444444,
             "#bd3786"
            ],
            [
             0.5555555555555556,
             "#d8576b"
            ],
            [
             0.6666666666666666,
             "#ed7953"
            ],
            [
             0.7777777777777778,
             "#fb9f3a"
            ],
            [
             0.8888888888888888,
             "#fdca26"
            ],
            [
             1,
             "#f0f921"
            ]
           ]
          },
          "colorway": [
           "#636efa",
           "#EF553B",
           "#00cc96",
           "#ab63fa",
           "#FFA15A",
           "#19d3f3",
           "#FF6692",
           "#B6E880",
           "#FF97FF",
           "#FECB52"
          ],
          "font": {
           "color": "#f2f5fa"
          },
          "geo": {
           "bgcolor": "rgb(17,17,17)",
           "lakecolor": "rgb(17,17,17)",
           "landcolor": "rgb(17,17,17)",
           "showlakes": true,
           "showland": true,
           "subunitcolor": "#506784"
          },
          "hoverlabel": {
           "align": "left"
          },
          "hovermode": "closest",
          "mapbox": {
           "style": "dark"
          },
          "paper_bgcolor": "rgb(17,17,17)",
          "plot_bgcolor": "rgb(17,17,17)",
          "polar": {
           "angularaxis": {
            "gridcolor": "#506784",
            "linecolor": "#506784",
            "ticks": ""
           },
           "bgcolor": "rgb(17,17,17)",
           "radialaxis": {
            "gridcolor": "#506784",
            "linecolor": "#506784",
            "ticks": ""
           }
          },
          "scene": {
           "xaxis": {
            "backgroundcolor": "rgb(17,17,17)",
            "gridcolor": "#506784",
            "gridwidth": 2,
            "linecolor": "#506784",
            "showbackground": true,
            "ticks": "",
            "zerolinecolor": "#C8D4E3"
           },
           "yaxis": {
            "backgroundcolor": "rgb(17,17,17)",
            "gridcolor": "#506784",
            "gridwidth": 2,
            "linecolor": "#506784",
            "showbackground": true,
            "ticks": "",
            "zerolinecolor": "#C8D4E3"
           },
           "zaxis": {
            "backgroundcolor": "rgb(17,17,17)",
            "gridcolor": "#506784",
            "gridwidth": 2,
            "linecolor": "#506784",
            "showbackground": true,
            "ticks": "",
            "zerolinecolor": "#C8D4E3"
           }
          },
          "shapedefaults": {
           "line": {
            "color": "#f2f5fa"
           }
          },
          "sliderdefaults": {
           "bgcolor": "#C8D4E3",
           "bordercolor": "rgb(17,17,17)",
           "borderwidth": 1,
           "tickwidth": 0
          },
          "ternary": {
           "aaxis": {
            "gridcolor": "#506784",
            "linecolor": "#506784",
            "ticks": ""
           },
           "baxis": {
            "gridcolor": "#506784",
            "linecolor": "#506784",
            "ticks": ""
           },
           "bgcolor": "rgb(17,17,17)",
           "caxis": {
            "gridcolor": "#506784",
            "linecolor": "#506784",
            "ticks": ""
           }
          },
          "title": {
           "x": 0.05
          },
          "updatemenudefaults": {
           "bgcolor": "#506784",
           "borderwidth": 0
          },
          "xaxis": {
           "automargin": true,
           "gridcolor": "#283442",
           "linecolor": "#506784",
           "ticks": "",
           "title": {
            "standoff": 15
           },
           "zerolinecolor": "#283442",
           "zerolinewidth": 2
          },
          "yaxis": {
           "automargin": true,
           "gridcolor": "#283442",
           "linecolor": "#506784",
           "ticks": "",
           "title": {
            "standoff": 15
           },
           "zerolinecolor": "#283442",
           "zerolinewidth": 2
          }
         }
        },
        "title": {
         "text": "Relative Rotation Graph (RRG) for BBAS3.SA"
        },
        "transition": {
         "duration": 500
        },
        "updatemenus": [
         {
          "buttons": [
           {
            "args": [
             null,
             {
              "frame": {
               "duration": 500,
               "redraw": false
              },
              "fromcurrent": true,
              "mode": "immediate",
              "transition": {
               "duration": 500,
               "easing": "linear"
              }
             }
            ],
            "label": "&#9654;",
            "method": "animate"
           },
           {
            "args": [
             [
              null
             ],
             {
              "frame": {
               "duration": 0,
               "redraw": false
              },
              "fromcurrent": true,
              "mode": "immediate",
              "transition": {
               "duration": 0,
               "easing": "linear"
              }
             }
            ],
            "label": "&#9724;",
            "method": "animate"
           }
          ],
          "direction": "left",
          "pad": {
           "r": 10,
           "t": 70
          },
          "showactive": false,
          "type": "buttons",
          "x": 0.1,
          "xanchor": "right",
          "y": 0,
          "yanchor": "top"
         }
        ],
        "width": 1000,
        "xaxis": {
         "anchor": "y",
         "domain": [
          0,
          1
         ],
         "range": [
          -0.020537052189914085,
          0.008804471146994775
         ],
         "title": {
          "text": "Relative Strength"
         }
        },
        "yaxis": {
         "anchor": "x",
         "domain": [
          0,
          1
         ],
         "range": [
          -0.012428270866828295,
          0.012487950253127846
         ],
         "title": {
          "text": "Momentum"
         }
        }
       }
      }
     },
     "metadata": {},
     "output_type": "display_data"
    }
   ],
   "source": [
    "import yfinance as yf\n",
    "import pandas as pd\n",
    "import plotly.express as px\n",
    "\n",
    "'''\n",
    "análise gráfica de força relativa com momentum de um ativo da B3 (Bolsa brasileira), comparando-o com o índice IBOVESPA\n",
    "'''\n",
    "\n",
    "# Definindo o período de análise\n",
    "start_date = \"2023-01-01\"\n",
    "end_date = \"2024-01-01\"\n",
    "\n",
    "# Solicitando o ticker de referência\n",
    "ticker = str(input('\\nDigite o ticker Referência: ') + \".SA\").upper()\n",
    "\n",
    "# Baixando dados do ativo e do IBOV\n",
    "df0 = yf.download(ticker,  period='1y') #start=start_date, end=end_date)\n",
    "df1 = yf.download(\"^BVSP\", period='1y') #start=start_date, end=end_date)\n",
    "\n",
    "# Calculando o retorno diário\n",
    "df0['Return'] = df0['Close'].pct_change()\n",
    "df1['Return'] = df1['Close'].pct_change()\n",
    "\n",
    "# Calculando a força relativa\n",
    "df0['RS'] = df0['Return'].rolling(window=10).mean() - df1['Return'].rolling(window=10).mean()\n",
    "\n",
    "# Calculando o momentum da força relativa\n",
    "df0['Momentum'] = df0['RS'].diff()\n",
    "\n",
    "# Criando DataFrame para plotagem e removendo NaN\n",
    "data = pd.DataFrame({\n",
    "    'Date': df0.index,\n",
    "    'RS': df0['RS'],\n",
    "    'Momentum': df0['Momentum']\n",
    "}).dropna()\n",
    "\n",
    "# Convertendo a coluna de datas para string\n",
    "data['Date'] = data['Date'].dt.strftime('%Y-%m-%d')\n",
    "\n",
    "# Criando o gráfico interativo com plotly\n",
    "fig = px.scatter(\n",
    "    data,\n",
    "    x='RS',\n",
    "    y='Momentum',\n",
    "    animation_frame='Date',\n",
    "    range_x=[data['RS'].min(), data['RS'].max()],\n",
    "    range_y=[data['Momentum'].min(), data['Momentum'].max()],\n",
    "    title=f'Relative Rotation Graph (RRG) for {ticker}',\n",
    "    labels={'RS': 'Relative Strength', 'Momentum': 'Momentum'},\n",
    "    template='plotly_dark',\n",
    "    size_max=50,  # Tamanho máximo dos pontos\n",
    "    opacity=0.8,\n",
    "    color_discrete_sequence=['white'],  # Cor dos pontos\n",
    ")\n",
    "\n",
    "# Adicionando linhas para indicar os quadrantes\n",
    "fig.add_shape(\n",
    "    type='line',\n",
    "    x0=data['RS'].min(),\n",
    "    x1=data['RS'].max(),\n",
    "    y0=0,\n",
    "    y1=0,\n",
    "    line=dict(color='yellow', dash='dash'),\n",
    ")\n",
    "fig.add_shape(\n",
    "    type='line',\n",
    "    x0=0,\n",
    "    x1=0,\n",
    "    y0=data['Momentum'].min(),\n",
    "    y1=data['Momentum'].max(),\n",
    "    line=dict(color='yellow', dash='dash'),\n",
    ")\n",
    "\n",
    "# Ajustando layout para melhorar a animação e aumentar o tamanho\n",
    "fig.update_layout(\n",
    "    transition={'duration': 500},\n",
    "    xaxis_title='Relative Strength',\n",
    "    yaxis_title='Momentum',\n",
    "    width=1000,  # Largura do gráfico\n",
    "    height=800,  # Altura do gráfico\n",
    ")\n",
    "\n",
    "fig.show()\n"
   ]
  },
  {
   "cell_type": "markdown",
   "id": "01b2e5ff",
   "metadata": {},
   "source": [
    "- Eixo X (RS – Relative Strength): Mede a força relativa do ativo em relação ao IBOV.\n",
    "    Valor positivo → ativo está superando o IBOV.\n",
    "    Valor negativo → ativo está ficando atrás do IBOV.\n",
    "- Eixo Y (Momentum da RS): Mede se a força relativa está acelerando ou desacelerando.\n",
    "    Valor positivo → força relativa está melhorando.\n",
    "    Valor negativo → força relativa está piorando.\n",
    "\n",
    "Os Quadrantes:\n",
    " 1. Quadrante Superior Direito (RS > 0, Momentum > 0)\n",
    "Lideres/Fortalecendo\n",
    "- O ativo está performando melhor que o IBOV.\n",
    "- E está acelerando essa vantagem.\n",
    "⚡️ Sinal de força e possível oportunidade de entrada.\n",
    "\n",
    " 2. Quadrante Inferior Direito (RS > 0, Momentum < 0)\n",
    "Enfraquecendo\n",
    "- O ativo ainda está melhor que o IBOV, mas perdendo força.\n",
    "- Momentum negativo indica que a liderança pode estar enfraquecendo.\n",
    "⚠️ Atenção: pode estar no topo e prestes a inverter.\n",
    "\n",
    " 3. Quadrante Inferior Esquerdo (RS < 0, Momentum < 0)\n",
    "Perdedores / Fracos\n",
    "- O ativo está ficando atrás do IBOV.\n",
    "- E a fraqueza está aumentando.\n",
    "🚫 Sinal de risco. Evitar ou considerar saída.\n",
    "\n",
    " 4. Quadrante Superior Esquerdo (RS < 0, Momentum > 0)\n",
    "Melhorando\n",
    "- O ativo ainda está abaixo do IBOV, mas começa a ganhar força.\n",
    "- Pode estar iniciando uma reversão positiva.\n",
    "👀 Acompanhar: possível ponto de entrada futura.\n",
    "\n",
    "💡 Interpretação Dinâmica (com a animação)\n",
    "O diferencial do gráfico animado é que você pode visualizar a trajetória do ativo ao longo do tempo, vendo se ele:\n",
    "\n",
    "Está migrando dos quadrantes fracos para fortes (bom sinal),\n",
    "\n",
    "Ou indo de fortes para fracos (sinal de cautela).\n",
    "\n"
   ]
  },
  {
   "cell_type": "code",
   "execution_count": null,
   "id": "eda7a376-7360-4f74-a32f-8311f0178852",
   "metadata": {},
   "outputs": [],
   "source": []
  }
 ],
 "metadata": {
  "kernelspec": {
   "display_name": "base",
   "language": "python",
   "name": "python3"
  },
  "language_info": {
   "codemirror_mode": {
    "name": "ipython",
    "version": 3
   },
   "file_extension": ".py",
   "mimetype": "text/x-python",
   "name": "python",
   "nbconvert_exporter": "python",
   "pygments_lexer": "ipython3",
   "version": "3.11.9"
  }
 },
 "nbformat": 4,
 "nbformat_minor": 5
}
