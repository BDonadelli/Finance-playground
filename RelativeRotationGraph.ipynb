{
 "cells": [
  {
   "cell_type": "code",
   "execution_count": 2,
   "id": "6454edd6-eca1-4895-896a-31c77f23344e",
   "metadata": {},
   "outputs": [
    {
     "name": "stderr",
     "output_type": "stream",
     "text": [
      "[*********************100%***********************]  1 of 1 completed\n",
      "[*********************100%***********************]  1 of 1 completed\n"
     ]
    },
    {
     "data": {
      "application/vnd.plotly.v1+json": {
       "config": {
        "plotlyServerURL": "https://plot.ly"
       },
       "data": [
        {
         "hovertemplate": "Date=2024-05-21<br>Relative Strength=%{x}<br>Momentum=%{y}<extra></extra>",
         "legendgroup": "",
         "marker": {
          "color": "white",
          "opacity": 0.8,
          "symbol": "circle"
         },
         "mode": "markers",
         "name": "",
         "orientation": "v",
         "showlegend": false,
         "type": "scatter",
         "x": [
          -0.0052150289264761614
         ],
         "xaxis": "x",
         "y": [
          0.0023854008281992915
         ],
         "yaxis": "y"
        }
       ],
       "frames": [
        {
         "data": [
          {
           "hovertemplate": "Date=2024-05-21<br>Relative Strength=%{x}<br>Momentum=%{y}<extra></extra>",
           "legendgroup": "",
           "marker": {
            "color": "white",
            "opacity": 0.8,
            "symbol": "circle"
           },
           "mode": "markers",
           "name": "",
           "orientation": "v",
           "showlegend": false,
           "type": "scatter",
           "x": [
            -0.0052150289264761614
           ],
           "xaxis": "x",
           "y": [
            0.0023854008281992915
           ],
           "yaxis": "y"
          }
         ],
         "name": "2024-05-21"
        },
        {
         "data": [
          {
           "hovertemplate": "Date=2024-05-22<br>Relative Strength=%{x}<br>Momentum=%{y}<extra></extra>",
           "legendgroup": "",
           "marker": {
            "color": "white",
            "opacity": 0.8,
            "symbol": "circle"
           },
           "mode": "markers",
           "name": "",
           "orientation": "v",
           "showlegend": false,
           "type": "scatter",
           "x": [
            -0.004107303071292711
           ],
           "xaxis": "x",
           "y": [
            0.0011077258551834505
           ],
           "yaxis": "y"
          }
         ],
         "name": "2024-05-22"
        },
        {
         "data": [
          {
           "hovertemplate": "Date=2024-05-23<br>Relative Strength=%{x}<br>Momentum=%{y}<extra></extra>",
           "legendgroup": "",
           "marker": {
            "color": "white",
            "opacity": 0.8,
            "symbol": "circle"
           },
           "mode": "markers",
           "name": "",
           "orientation": "v",
           "showlegend": false,
           "type": "scatter",
           "x": [
            -0.004232469886914581
           ],
           "xaxis": "x",
           "y": [
            -0.00012516681562186986
           ],
           "yaxis": "y"
          }
         ],
         "name": "2024-05-23"
        },
        {
         "data": [
          {
           "hovertemplate": "Date=2024-05-24<br>Relative Strength=%{x}<br>Momentum=%{y}<extra></extra>",
           "legendgroup": "",
           "marker": {
            "color": "white",
            "opacity": 0.8,
            "symbol": "circle"
           },
           "mode": "markers",
           "name": "",
           "orientation": "v",
           "showlegend": false,
           "type": "scatter",
           "x": [
            -0.004530914604555125
           ],
           "xaxis": "x",
           "y": [
            -0.00029844471764054435
           ],
           "yaxis": "y"
          }
         ],
         "name": "2024-05-24"
        },
        {
         "data": [
          {
           "hovertemplate": "Date=2024-05-27<br>Relative Strength=%{x}<br>Momentum=%{y}<extra></extra>",
           "legendgroup": "",
           "marker": {
            "color": "white",
            "opacity": 0.8,
            "symbol": "circle"
           },
           "mode": "markers",
           "name": "",
           "orientation": "v",
           "showlegend": false,
           "type": "scatter",
           "x": [
            -0.004076944230061485
           ],
           "xaxis": "x",
           "y": [
            0.0004539703744936398
           ],
           "yaxis": "y"
          }
         ],
         "name": "2024-05-27"
        },
        {
         "data": [
          {
           "hovertemplate": "Date=2024-05-28<br>Relative Strength=%{x}<br>Momentum=%{y}<extra></extra>",
           "legendgroup": "",
           "marker": {
            "color": "white",
            "opacity": 0.8,
            "symbol": "circle"
           },
           "mode": "markers",
           "name": "",
           "orientation": "v",
           "showlegend": false,
           "type": "scatter",
           "x": [
            -0.003637721422519979
           ],
           "xaxis": "x",
           "y": [
            0.0004392228075415063
           ],
           "yaxis": "y"
          }
         ],
         "name": "2024-05-28"
        },
        {
         "data": [
          {
           "hovertemplate": "Date=2024-05-29<br>Relative Strength=%{x}<br>Momentum=%{y}<extra></extra>",
           "legendgroup": "",
           "marker": {
            "color": "white",
            "opacity": 0.8,
            "symbol": "circle"
           },
           "mode": "markers",
           "name": "",
           "orientation": "v",
           "showlegend": false,
           "type": "scatter",
           "x": [
            -0.0003036584913143738
           ],
           "xaxis": "x",
           "y": [
            0.0033340629312056053
           ],
           "yaxis": "y"
          }
         ],
         "name": "2024-05-29"
        },
        {
         "data": [
          {
           "hovertemplate": "Date=2024-05-31<br>Relative Strength=%{x}<br>Momentum=%{y}<extra></extra>",
           "legendgroup": "",
           "marker": {
            "color": "white",
            "opacity": 0.8,
            "symbol": "circle"
           },
           "mode": "markers",
           "name": "",
           "orientation": "v",
           "showlegend": false,
           "type": "scatter",
           "x": [
            0.001129852725474301
           ],
           "xaxis": "x",
           "y": [
            0.0014335112167886748
           ],
           "yaxis": "y"
          }
         ],
         "name": "2024-05-31"
        },
        {
         "data": [
          {
           "hovertemplate": "Date=2024-06-03<br>Relative Strength=%{x}<br>Momentum=%{y}<extra></extra>",
           "legendgroup": "",
           "marker": {
            "color": "white",
            "opacity": 0.8,
            "symbol": "circle"
           },
           "mode": "markers",
           "name": "",
           "orientation": "v",
           "showlegend": false,
           "type": "scatter",
           "x": [
            0.0015310996799228318
           ],
           "xaxis": "x",
           "y": [
            0.0004012469544485307
           ],
           "yaxis": "y"
          }
         ],
         "name": "2024-06-03"
        },
        {
         "data": [
          {
           "hovertemplate": "Date=2024-06-04<br>Relative Strength=%{x}<br>Momentum=%{y}<extra></extra>",
           "legendgroup": "",
           "marker": {
            "color": "white",
            "opacity": 0.8,
            "symbol": "circle"
           },
           "mode": "markers",
           "name": "",
           "orientation": "v",
           "showlegend": false,
           "type": "scatter",
           "x": [
            0.001863851260180838
           ],
           "xaxis": "x",
           "y": [
            0.0003327515802580062
           ],
           "yaxis": "y"
          }
         ],
         "name": "2024-06-04"
        },
        {
         "data": [
          {
           "hovertemplate": "Date=2024-06-05<br>Relative Strength=%{x}<br>Momentum=%{y}<extra></extra>",
           "legendgroup": "",
           "marker": {
            "color": "white",
            "opacity": 0.8,
            "symbol": "circle"
           },
           "mode": "markers",
           "name": "",
           "orientation": "v",
           "showlegend": false,
           "type": "scatter",
           "x": [
            0.0013706587574683015
           ],
           "xaxis": "x",
           "y": [
            -0.0004931925027125365
           ],
           "yaxis": "y"
          }
         ],
         "name": "2024-06-05"
        },
        {
         "data": [
          {
           "hovertemplate": "Date=2024-06-06<br>Relative Strength=%{x}<br>Momentum=%{y}<extra></extra>",
           "legendgroup": "",
           "marker": {
            "color": "white",
            "opacity": 0.8,
            "symbol": "circle"
           },
           "mode": "markers",
           "name": "",
           "orientation": "v",
           "showlegend": false,
           "type": "scatter",
           "x": [
            -0.000353424010058845
           ],
           "xaxis": "x",
           "y": [
            -0.0017240827675271465
           ],
           "yaxis": "y"
          }
         ],
         "name": "2024-06-06"
        },
        {
         "data": [
          {
           "hovertemplate": "Date=2024-06-07<br>Relative Strength=%{x}<br>Momentum=%{y}<extra></extra>",
           "legendgroup": "",
           "marker": {
            "color": "white",
            "opacity": 0.8,
            "symbol": "circle"
           },
           "mode": "markers",
           "name": "",
           "orientation": "v",
           "showlegend": false,
           "type": "scatter",
           "x": [
            0.00007004583726500898
           ],
           "xaxis": "x",
           "y": [
            0.000423469847323854
           ],
           "yaxis": "y"
          }
         ],
         "name": "2024-06-07"
        },
        {
         "data": [
          {
           "hovertemplate": "Date=2024-06-10<br>Relative Strength=%{x}<br>Momentum=%{y}<extra></extra>",
           "legendgroup": "",
           "marker": {
            "color": "white",
            "opacity": 0.8,
            "symbol": "circle"
           },
           "mode": "markers",
           "name": "",
           "orientation": "v",
           "showlegend": false,
           "type": "scatter",
           "x": [
            -0.0035463262041229623
           ],
           "xaxis": "x",
           "y": [
            -0.0036163720413879713
           ],
           "yaxis": "y"
          }
         ],
         "name": "2024-06-10"
        },
        {
         "data": [
          {
           "hovertemplate": "Date=2024-06-11<br>Relative Strength=%{x}<br>Momentum=%{y}<extra></extra>",
           "legendgroup": "",
           "marker": {
            "color": "white",
            "opacity": 0.8,
            "symbol": "circle"
           },
           "mode": "markers",
           "name": "",
           "orientation": "v",
           "showlegend": false,
           "type": "scatter",
           "x": [
            -0.0037339339707055277
           ],
           "xaxis": "x",
           "y": [
            -0.00018760776658256545
           ],
           "yaxis": "y"
          }
         ],
         "name": "2024-06-11"
        },
        {
         "data": [
          {
           "hovertemplate": "Date=2024-06-12<br>Relative Strength=%{x}<br>Momentum=%{y}<extra></extra>",
           "legendgroup": "",
           "marker": {
            "color": "white",
            "opacity": 0.8,
            "symbol": "circle"
           },
           "mode": "markers",
           "name": "",
           "orientation": "v",
           "showlegend": false,
           "type": "scatter",
           "x": [
            -0.0031595257775268062
           ],
           "xaxis": "x",
           "y": [
            0.0005744081931787215
           ],
           "yaxis": "y"
          }
         ],
         "name": "2024-06-12"
        },
        {
         "data": [
          {
           "hovertemplate": "Date=2024-06-13<br>Relative Strength=%{x}<br>Momentum=%{y}<extra></extra>",
           "legendgroup": "",
           "marker": {
            "color": "white",
            "opacity": 0.8,
            "symbol": "circle"
           },
           "mode": "markers",
           "name": "",
           "orientation": "v",
           "showlegend": false,
           "type": "scatter",
           "x": [
            -0.004481916683482634
           ],
           "xaxis": "x",
           "y": [
            -0.0013223909059558278
           ],
           "yaxis": "y"
          }
         ],
         "name": "2024-06-13"
        },
        {
         "data": [
          {
           "hovertemplate": "Date=2024-06-14<br>Relative Strength=%{x}<br>Momentum=%{y}<extra></extra>",
           "legendgroup": "",
           "marker": {
            "color": "white",
            "opacity": 0.8,
            "symbol": "circle"
           },
           "mode": "markers",
           "name": "",
           "orientation": "v",
           "showlegend": false,
           "type": "scatter",
           "x": [
            -0.005459179033871409
           ],
           "xaxis": "x",
           "y": [
            -0.0009772623503887749
           ],
           "yaxis": "y"
          }
         ],
         "name": "2024-06-14"
        },
        {
         "data": [
          {
           "hovertemplate": "Date=2024-06-17<br>Relative Strength=%{x}<br>Momentum=%{y}<extra></extra>",
           "legendgroup": "",
           "marker": {
            "color": "white",
            "opacity": 0.8,
            "symbol": "circle"
           },
           "mode": "markers",
           "name": "",
           "orientation": "v",
           "showlegend": false,
           "type": "scatter",
           "x": [
            -0.006731067576326177
           ],
           "xaxis": "x",
           "y": [
            -0.0012718885424547683
           ],
           "yaxis": "y"
          }
         ],
         "name": "2024-06-17"
        },
        {
         "data": [
          {
           "hovertemplate": "Date=2024-06-18<br>Relative Strength=%{x}<br>Momentum=%{y}<extra></extra>",
           "legendgroup": "",
           "marker": {
            "color": "white",
            "opacity": 0.8,
            "symbol": "circle"
           },
           "mode": "markers",
           "name": "",
           "orientation": "v",
           "showlegend": false,
           "type": "scatter",
           "x": [
            -0.0026344362925976306
           ],
           "xaxis": "x",
           "y": [
            0.004096631283728547
           ],
           "yaxis": "y"
          }
         ],
         "name": "2024-06-18"
        },
        {
         "data": [
          {
           "hovertemplate": "Date=2024-06-19<br>Relative Strength=%{x}<br>Momentum=%{y}<extra></extra>",
           "legendgroup": "",
           "marker": {
            "color": "white",
            "opacity": 0.8,
            "symbol": "circle"
           },
           "mode": "markers",
           "name": "",
           "orientation": "v",
           "showlegend": false,
           "type": "scatter",
           "x": [
            -0.0002063029527761607
           ],
           "xaxis": "x",
           "y": [
            0.00242813333982147
           ],
           "yaxis": "y"
          }
         ],
         "name": "2024-06-19"
        },
        {
         "data": [
          {
           "hovertemplate": "Date=2024-06-20<br>Relative Strength=%{x}<br>Momentum=%{y}<extra></extra>",
           "legendgroup": "",
           "marker": {
            "color": "white",
            "opacity": 0.8,
            "symbol": "circle"
           },
           "mode": "markers",
           "name": "",
           "orientation": "v",
           "showlegend": false,
           "type": "scatter",
           "x": [
            -0.0006411854591933273
           ],
           "xaxis": "x",
           "y": [
            -0.0004348825064171666
           ],
           "yaxis": "y"
          }
         ],
         "name": "2024-06-20"
        },
        {
         "data": [
          {
           "hovertemplate": "Date=2024-06-21<br>Relative Strength=%{x}<br>Momentum=%{y}<extra></extra>",
           "legendgroup": "",
           "marker": {
            "color": "white",
            "opacity": 0.8,
            "symbol": "circle"
           },
           "mode": "markers",
           "name": "",
           "orientation": "v",
           "showlegend": false,
           "type": "scatter",
           "x": [
            -0.0030074207263702467
           ],
           "xaxis": "x",
           "y": [
            -0.0023662352671769194
           ],
           "yaxis": "y"
          }
         ],
         "name": "2024-06-21"
        },
        {
         "data": [
          {
           "hovertemplate": "Date=2024-06-24<br>Relative Strength=%{x}<br>Momentum=%{y}<extra></extra>",
           "legendgroup": "",
           "marker": {
            "color": "white",
            "opacity": 0.8,
            "symbol": "circle"
           },
           "mode": "markers",
           "name": "",
           "orientation": "v",
           "showlegend": false,
           "type": "scatter",
           "x": [
            0.006039136061731343
           ],
           "xaxis": "x",
           "y": [
            0.00904655678810159
           ],
           "yaxis": "y"
          }
         ],
         "name": "2024-06-24"
        },
        {
         "data": [
          {
           "hovertemplate": "Date=2024-06-25<br>Relative Strength=%{x}<br>Momentum=%{y}<extra></extra>",
           "legendgroup": "",
           "marker": {
            "color": "white",
            "opacity": 0.8,
            "symbol": "circle"
           },
           "mode": "markers",
           "name": "",
           "orientation": "v",
           "showlegend": false,
           "type": "scatter",
           "x": [
            0.006885356622202299
           ],
           "xaxis": "x",
           "y": [
            0.0008462205604709561
           ],
           "yaxis": "y"
          }
         ],
         "name": "2024-06-25"
        },
        {
         "data": [
          {
           "hovertemplate": "Date=2024-06-26<br>Relative Strength=%{x}<br>Momentum=%{y}<extra></extra>",
           "legendgroup": "",
           "marker": {
            "color": "white",
            "opacity": 0.8,
            "symbol": "circle"
           },
           "mode": "markers",
           "name": "",
           "orientation": "v",
           "showlegend": false,
           "type": "scatter",
           "x": [
            0.005654128595952091
           ],
           "xaxis": "x",
           "y": [
            -0.0012312280262502077
           ],
           "yaxis": "y"
          }
         ],
         "name": "2024-06-26"
        },
        {
         "data": [
          {
           "hovertemplate": "Date=2024-06-27<br>Relative Strength=%{x}<br>Momentum=%{y}<extra></extra>",
           "legendgroup": "",
           "marker": {
            "color": "white",
            "opacity": 0.8,
            "symbol": "circle"
           },
           "mode": "markers",
           "name": "",
           "orientation": "v",
           "showlegend": false,
           "type": "scatter",
           "x": [
            0.0061192404258454515
           ],
           "xaxis": "x",
           "y": [
            0.00046511182989336045
           ],
           "yaxis": "y"
          }
         ],
         "name": "2024-06-27"
        },
        {
         "data": [
          {
           "hovertemplate": "Date=2024-06-28<br>Relative Strength=%{x}<br>Momentum=%{y}<extra></extra>",
           "legendgroup": "",
           "marker": {
            "color": "white",
            "opacity": 0.8,
            "symbol": "circle"
           },
           "mode": "markers",
           "name": "",
           "orientation": "v",
           "showlegend": false,
           "type": "scatter",
           "x": [
            0.006389281320319951
           ],
           "xaxis": "x",
           "y": [
            0.0002700408944744997
           ],
           "yaxis": "y"
          }
         ],
         "name": "2024-06-28"
        },
        {
         "data": [
          {
           "hovertemplate": "Date=2024-07-01<br>Relative Strength=%{x}<br>Momentum=%{y}<extra></extra>",
           "legendgroup": "",
           "marker": {
            "color": "white",
            "opacity": 0.8,
            "symbol": "circle"
           },
           "mode": "markers",
           "name": "",
           "orientation": "v",
           "showlegend": false,
           "type": "scatter",
           "x": [
            0.005030689361077834
           ],
           "xaxis": "x",
           "y": [
            -0.0013585919592421173
           ],
           "yaxis": "y"
          }
         ],
         "name": "2024-07-01"
        },
        {
         "data": [
          {
           "hovertemplate": "Date=2024-07-02<br>Relative Strength=%{x}<br>Momentum=%{y}<extra></extra>",
           "legendgroup": "",
           "marker": {
            "color": "white",
            "opacity": 0.8,
            "symbol": "circle"
           },
           "mode": "markers",
           "name": "",
           "orientation": "v",
           "showlegend": false,
           "type": "scatter",
           "x": [
            0.0031294555126203044
           ],
           "xaxis": "x",
           "y": [
            -0.0019012338484575295
           ],
           "yaxis": "y"
          }
         ],
         "name": "2024-07-02"
        },
        {
         "data": [
          {
           "hovertemplate": "Date=2024-07-03<br>Relative Strength=%{x}<br>Momentum=%{y}<extra></extra>",
           "legendgroup": "",
           "marker": {
            "color": "white",
            "opacity": 0.8,
            "symbol": "circle"
           },
           "mode": "markers",
           "name": "",
           "orientation": "v",
           "showlegend": false,
           "type": "scatter",
           "x": [
            0.003884919206663639
           ],
           "xaxis": "x",
           "y": [
            0.0007554636940433346
           ],
           "yaxis": "y"
          }
         ],
         "name": "2024-07-03"
        },
        {
         "data": [
          {
           "hovertemplate": "Date=2024-07-04<br>Relative Strength=%{x}<br>Momentum=%{y}<extra></extra>",
           "legendgroup": "",
           "marker": {
            "color": "white",
            "opacity": 0.8,
            "symbol": "circle"
           },
           "mode": "markers",
           "name": "",
           "orientation": "v",
           "showlegend": false,
           "type": "scatter",
           "x": [
            0.008219815614973636
           ],
           "xaxis": "x",
           "y": [
            0.004334896408309997
           ],
           "yaxis": "y"
          }
         ],
         "name": "2024-07-04"
        },
        {
         "data": [
          {
           "hovertemplate": "Date=2024-07-05<br>Relative Strength=%{x}<br>Momentum=%{y}<extra></extra>",
           "legendgroup": "",
           "marker": {
            "color": "white",
            "opacity": 0.8,
            "symbol": "circle"
           },
           "mode": "markers",
           "name": "",
           "orientation": "v",
           "showlegend": false,
           "type": "scatter",
           "x": [
            0.0086881064302208
           ],
           "xaxis": "x",
           "y": [
            0.00046829081524716286
           ],
           "yaxis": "y"
          }
         ],
         "name": "2024-07-05"
        },
        {
         "data": [
          {
           "hovertemplate": "Date=2024-07-08<br>Relative Strength=%{x}<br>Momentum=%{y}<extra></extra>",
           "legendgroup": "",
           "marker": {
            "color": "white",
            "opacity": 0.8,
            "symbol": "circle"
           },
           "mode": "markers",
           "name": "",
           "orientation": "v",
           "showlegend": false,
           "type": "scatter",
           "x": [
            0.0025125731126161566
           ],
           "xaxis": "x",
           "y": [
            -0.006175533317604643
           ],
           "yaxis": "y"
          }
         ],
         "name": "2024-07-08"
        },
        {
         "data": [
          {
           "hovertemplate": "Date=2024-07-09<br>Relative Strength=%{x}<br>Momentum=%{y}<extra></extra>",
           "legendgroup": "",
           "marker": {
            "color": "white",
            "opacity": 0.8,
            "symbol": "circle"
           },
           "mode": "markers",
           "name": "",
           "orientation": "v",
           "showlegend": false,
           "type": "scatter",
           "x": [
            0.002512931223952375
           ],
           "xaxis": "x",
           "y": [
            3.581113362182385e-7
           ],
           "yaxis": "y"
          }
         ],
         "name": "2024-07-09"
        },
        {
         "data": [
          {
           "hovertemplate": "Date=2024-07-10<br>Relative Strength=%{x}<br>Momentum=%{y}<extra></extra>",
           "legendgroup": "",
           "marker": {
            "color": "white",
            "opacity": 0.8,
            "symbol": "circle"
           },
           "mode": "markers",
           "name": "",
           "orientation": "v",
           "showlegend": false,
           "type": "scatter",
           "x": [
            0.0011613165441044294
           ],
           "xaxis": "x",
           "y": [
            -0.0013516146798479454
           ],
           "yaxis": "y"
          }
         ],
         "name": "2024-07-10"
        },
        {
         "data": [
          {
           "hovertemplate": "Date=2024-07-11<br>Relative Strength=%{x}<br>Momentum=%{y}<extra></extra>",
           "legendgroup": "",
           "marker": {
            "color": "white",
            "opacity": 0.8,
            "symbol": "circle"
           },
           "mode": "markers",
           "name": "",
           "orientation": "v",
           "showlegend": false,
           "type": "scatter",
           "x": [
            0.003583566795133053
           ],
           "xaxis": "x",
           "y": [
            0.0024222502510286236
           ],
           "yaxis": "y"
          }
         ],
         "name": "2024-07-11"
        },
        {
         "data": [
          {
           "hovertemplate": "Date=2024-07-12<br>Relative Strength=%{x}<br>Momentum=%{y}<extra></extra>",
           "legendgroup": "",
           "marker": {
            "color": "white",
            "opacity": 0.8,
            "symbol": "circle"
           },
           "mode": "markers",
           "name": "",
           "orientation": "v",
           "showlegend": false,
           "type": "scatter",
           "x": [
            0.004102768922204103
           ],
           "xaxis": "x",
           "y": [
            0.0005192021270710497
           ],
           "yaxis": "y"
          }
         ],
         "name": "2024-07-12"
        },
        {
         "data": [
          {
           "hovertemplate": "Date=2024-07-15<br>Relative Strength=%{x}<br>Momentum=%{y}<extra></extra>",
           "legendgroup": "",
           "marker": {
            "color": "white",
            "opacity": 0.8,
            "symbol": "circle"
           },
           "mode": "markers",
           "name": "",
           "orientation": "v",
           "showlegend": false,
           "type": "scatter",
           "x": [
            0.005760077004728392
           ],
           "xaxis": "x",
           "y": [
            0.0016573080825242892
           ],
           "yaxis": "y"
          }
         ],
         "name": "2024-07-15"
        },
        {
         "data": [
          {
           "hovertemplate": "Date=2024-07-16<br>Relative Strength=%{x}<br>Momentum=%{y}<extra></extra>",
           "legendgroup": "",
           "marker": {
            "color": "white",
            "opacity": 0.8,
            "symbol": "circle"
           },
           "mode": "markers",
           "name": "",
           "orientation": "v",
           "showlegend": false,
           "type": "scatter",
           "x": [
            0.005534595270117704
           ],
           "xaxis": "x",
           "y": [
            -0.00022548173461068785
           ],
           "yaxis": "y"
          }
         ],
         "name": "2024-07-16"
        },
        {
         "data": [
          {
           "hovertemplate": "Date=2024-07-17<br>Relative Strength=%{x}<br>Momentum=%{y}<extra></extra>",
           "legendgroup": "",
           "marker": {
            "color": "white",
            "opacity": 0.8,
            "symbol": "circle"
           },
           "mode": "markers",
           "name": "",
           "orientation": "v",
           "showlegend": false,
           "type": "scatter",
           "x": [
            0.005664800704299132
           ],
           "xaxis": "x",
           "y": [
            0.00013020543418142821
           ],
           "yaxis": "y"
          }
         ],
         "name": "2024-07-17"
        },
        {
         "data": [
          {
           "hovertemplate": "Date=2024-07-18<br>Relative Strength=%{x}<br>Momentum=%{y}<extra></extra>",
           "legendgroup": "",
           "marker": {
            "color": "white",
            "opacity": 0.8,
            "symbol": "circle"
           },
           "mode": "markers",
           "name": "",
           "orientation": "v",
           "showlegend": false,
           "type": "scatter",
           "x": [
            0.0014689872930486738
           ],
           "xaxis": "x",
           "y": [
            -0.004195813411250459
           ],
           "yaxis": "y"
          }
         ],
         "name": "2024-07-18"
        },
        {
         "data": [
          {
           "hovertemplate": "Date=2024-07-19<br>Relative Strength=%{x}<br>Momentum=%{y}<extra></extra>",
           "legendgroup": "",
           "marker": {
            "color": "white",
            "opacity": 0.8,
            "symbol": "circle"
           },
           "mode": "markers",
           "name": "",
           "orientation": "v",
           "showlegend": false,
           "type": "scatter",
           "x": [
            0.0019117155266471177
           ],
           "xaxis": "x",
           "y": [
            0.00044272823359844385
           ],
           "yaxis": "y"
          }
         ],
         "name": "2024-07-19"
        },
        {
         "data": [
          {
           "hovertemplate": "Date=2024-07-22<br>Relative Strength=%{x}<br>Momentum=%{y}<extra></extra>",
           "legendgroup": "",
           "marker": {
            "color": "white",
            "opacity": 0.8,
            "symbol": "circle"
           },
           "mode": "markers",
           "name": "",
           "orientation": "v",
           "showlegend": false,
           "type": "scatter",
           "x": [
            0.0037116564531074264
           ],
           "xaxis": "x",
           "y": [
            0.0017999409264603087
           ],
           "yaxis": "y"
          }
         ],
         "name": "2024-07-22"
        },
        {
         "data": [
          {
           "hovertemplate": "Date=2024-07-23<br>Relative Strength=%{x}<br>Momentum=%{y}<extra></extra>",
           "legendgroup": "",
           "marker": {
            "color": "white",
            "opacity": 0.8,
            "symbol": "circle"
           },
           "mode": "markers",
           "name": "",
           "orientation": "v",
           "showlegend": false,
           "type": "scatter",
           "x": [
            0.0033507359243267424
           ],
           "xaxis": "x",
           "y": [
            -0.000360920528780684
           ],
           "yaxis": "y"
          }
         ],
         "name": "2024-07-23"
        },
        {
         "data": [
          {
           "hovertemplate": "Date=2024-07-24<br>Relative Strength=%{x}<br>Momentum=%{y}<extra></extra>",
           "legendgroup": "",
           "marker": {
            "color": "white",
            "opacity": 0.8,
            "symbol": "circle"
           },
           "mode": "markers",
           "name": "",
           "orientation": "v",
           "showlegend": false,
           "type": "scatter",
           "x": [
            0.0041983895937852565
           ],
           "xaxis": "x",
           "y": [
            0.0008476536694585141
           ],
           "yaxis": "y"
          }
         ],
         "name": "2024-07-24"
        },
        {
         "data": [
          {
           "hovertemplate": "Date=2024-07-25<br>Relative Strength=%{x}<br>Momentum=%{y}<extra></extra>",
           "legendgroup": "",
           "marker": {
            "color": "white",
            "opacity": 0.8,
            "symbol": "circle"
           },
           "mode": "markers",
           "name": "",
           "orientation": "v",
           "showlegend": false,
           "type": "scatter",
           "x": [
            0.0005520359753799164
           ],
           "xaxis": "x",
           "y": [
            -0.00364635361840534
           ],
           "yaxis": "y"
          }
         ],
         "name": "2024-07-25"
        },
        {
         "data": [
          {
           "hovertemplate": "Date=2024-07-26<br>Relative Strength=%{x}<br>Momentum=%{y}<extra></extra>",
           "legendgroup": "",
           "marker": {
            "color": "white",
            "opacity": 0.8,
            "symbol": "circle"
           },
           "mode": "markers",
           "name": "",
           "orientation": "v",
           "showlegend": false,
           "type": "scatter",
           "x": [
            -0.0005430867208783496
           ],
           "xaxis": "x",
           "y": [
            -0.001095122696258266
           ],
           "yaxis": "y"
          }
         ],
         "name": "2024-07-26"
        },
        {
         "data": [
          {
           "hovertemplate": "Date=2024-07-29<br>Relative Strength=%{x}<br>Momentum=%{y}<extra></extra>",
           "legendgroup": "",
           "marker": {
            "color": "white",
            "opacity": 0.8,
            "symbol": "circle"
           },
           "mode": "markers",
           "name": "",
           "orientation": "v",
           "showlegend": false,
           "type": "scatter",
           "x": [
            -0.0008617632985527977
           ],
           "xaxis": "x",
           "y": [
            -0.00031867657767444815
           ],
           "yaxis": "y"
          }
         ],
         "name": "2024-07-29"
        },
        {
         "data": [
          {
           "hovertemplate": "Date=2024-07-30<br>Relative Strength=%{x}<br>Momentum=%{y}<extra></extra>",
           "legendgroup": "",
           "marker": {
            "color": "white",
            "opacity": 0.8,
            "symbol": "circle"
           },
           "mode": "markers",
           "name": "",
           "orientation": "v",
           "showlegend": false,
           "type": "scatter",
           "x": [
            -0.0025190347479359778
           ],
           "xaxis": "x",
           "y": [
            -0.00165727144938318
           ],
           "yaxis": "y"
          }
         ],
         "name": "2024-07-30"
        },
        {
         "data": [
          {
           "hovertemplate": "Date=2024-07-31<br>Relative Strength=%{x}<br>Momentum=%{y}<extra></extra>",
           "legendgroup": "",
           "marker": {
            "color": "white",
            "opacity": 0.8,
            "symbol": "circle"
           },
           "mode": "markers",
           "name": "",
           "orientation": "v",
           "showlegend": false,
           "type": "scatter",
           "x": [
            -0.005724458637953655
           ],
           "xaxis": "x",
           "y": [
            -0.0032054238900176774
           ],
           "yaxis": "y"
          }
         ],
         "name": "2024-07-31"
        },
        {
         "data": [
          {
           "hovertemplate": "Date=2024-08-01<br>Relative Strength=%{x}<br>Momentum=%{y}<extra></extra>",
           "legendgroup": "",
           "marker": {
            "color": "white",
            "opacity": 0.8,
            "symbol": "circle"
           },
           "mode": "markers",
           "name": "",
           "orientation": "v",
           "showlegend": false,
           "type": "scatter",
           "x": [
            -0.0035193578284815064
           ],
           "xaxis": "x",
           "y": [
            0.002205100809472149
           ],
           "yaxis": "y"
          }
         ],
         "name": "2024-08-01"
        },
        {
         "data": [
          {
           "hovertemplate": "Date=2024-08-02<br>Relative Strength=%{x}<br>Momentum=%{y}<extra></extra>",
           "legendgroup": "",
           "marker": {
            "color": "white",
            "opacity": 0.8,
            "symbol": "circle"
           },
           "mode": "markers",
           "name": "",
           "orientation": "v",
           "showlegend": false,
           "type": "scatter",
           "x": [
            -0.001957600056771036
           ],
           "xaxis": "x",
           "y": [
            0.0015617577717104703
           ],
           "yaxis": "y"
          }
         ],
         "name": "2024-08-02"
        },
        {
         "data": [
          {
           "hovertemplate": "Date=2024-08-05<br>Relative Strength=%{x}<br>Momentum=%{y}<extra></extra>",
           "legendgroup": "",
           "marker": {
            "color": "white",
            "opacity": 0.8,
            "symbol": "circle"
           },
           "mode": "markers",
           "name": "",
           "orientation": "v",
           "showlegend": false,
           "type": "scatter",
           "x": [
            -0.003113827286180282
           ],
           "xaxis": "x",
           "y": [
            -0.001156227229409246
           ],
           "yaxis": "y"
          }
         ],
         "name": "2024-08-05"
        },
        {
         "data": [
          {
           "hovertemplate": "Date=2024-08-06<br>Relative Strength=%{x}<br>Momentum=%{y}<extra></extra>",
           "legendgroup": "",
           "marker": {
            "color": "white",
            "opacity": 0.8,
            "symbol": "circle"
           },
           "mode": "markers",
           "name": "",
           "orientation": "v",
           "showlegend": false,
           "type": "scatter",
           "x": [
            -0.005171186080275047
           ],
           "xaxis": "x",
           "y": [
            -0.0020573587940947652
           ],
           "yaxis": "y"
          }
         ],
         "name": "2024-08-06"
        },
        {
         "data": [
          {
           "hovertemplate": "Date=2024-08-07<br>Relative Strength=%{x}<br>Momentum=%{y}<extra></extra>",
           "legendgroup": "",
           "marker": {
            "color": "white",
            "opacity": 0.8,
            "symbol": "circle"
           },
           "mode": "markers",
           "name": "",
           "orientation": "v",
           "showlegend": false,
           "type": "scatter",
           "x": [
            -0.0017343299102874242
           ],
           "xaxis": "x",
           "y": [
            0.0034368561699876232
           ],
           "yaxis": "y"
          }
         ],
         "name": "2024-08-07"
        },
        {
         "data": [
          {
           "hovertemplate": "Date=2024-08-08<br>Relative Strength=%{x}<br>Momentum=%{y}<extra></extra>",
           "legendgroup": "",
           "marker": {
            "color": "white",
            "opacity": 0.8,
            "symbol": "circle"
           },
           "mode": "markers",
           "name": "",
           "orientation": "v",
           "showlegend": false,
           "type": "scatter",
           "x": [
            -0.0007577102283424344
           ],
           "xaxis": "x",
           "y": [
            0.0009766196819449898
           ],
           "yaxis": "y"
          }
         ],
         "name": "2024-08-08"
        },
        {
         "data": [
          {
           "hovertemplate": "Date=2024-08-09<br>Relative Strength=%{x}<br>Momentum=%{y}<extra></extra>",
           "legendgroup": "",
           "marker": {
            "color": "white",
            "opacity": 0.8,
            "symbol": "circle"
           },
           "mode": "markers",
           "name": "",
           "orientation": "v",
           "showlegend": false,
           "type": "scatter",
           "x": [
            -0.001383856249436355
           ],
           "xaxis": "x",
           "y": [
            -0.0006261460210939206
           ],
           "yaxis": "y"
          }
         ],
         "name": "2024-08-09"
        },
        {
         "data": [
          {
           "hovertemplate": "Date=2024-08-12<br>Relative Strength=%{x}<br>Momentum=%{y}<extra></extra>",
           "legendgroup": "",
           "marker": {
            "color": "white",
            "opacity": 0.8,
            "symbol": "circle"
           },
           "mode": "markers",
           "name": "",
           "orientation": "v",
           "showlegend": false,
           "type": "scatter",
           "x": [
            -0.0014723643659828698
           ],
           "xaxis": "x",
           "y": [
            -0.00008850811654651479
           ],
           "yaxis": "y"
          }
         ],
         "name": "2024-08-12"
        },
        {
         "data": [
          {
           "hovertemplate": "Date=2024-08-13<br>Relative Strength=%{x}<br>Momentum=%{y}<extra></extra>",
           "legendgroup": "",
           "marker": {
            "color": "white",
            "opacity": 0.8,
            "symbol": "circle"
           },
           "mode": "markers",
           "name": "",
           "orientation": "v",
           "showlegend": false,
           "type": "scatter",
           "x": [
            -0.0003134662640232764
           ],
           "xaxis": "x",
           "y": [
            0.0011588981019595933
           ],
           "yaxis": "y"
          }
         ],
         "name": "2024-08-13"
        },
        {
         "data": [
          {
           "hovertemplate": "Date=2024-08-14<br>Relative Strength=%{x}<br>Momentum=%{y}<extra></extra>",
           "legendgroup": "",
           "marker": {
            "color": "white",
            "opacity": 0.8,
            "symbol": "circle"
           },
           "mode": "markers",
           "name": "",
           "orientation": "v",
           "showlegend": false,
           "type": "scatter",
           "x": [
            0.004332916385154906
           ],
           "xaxis": "x",
           "y": [
            0.004646382649178183
           ],
           "yaxis": "y"
          }
         ],
         "name": "2024-08-14"
        },
        {
         "data": [
          {
           "hovertemplate": "Date=2024-08-15<br>Relative Strength=%{x}<br>Momentum=%{y}<extra></extra>",
           "legendgroup": "",
           "marker": {
            "color": "white",
            "opacity": 0.8,
            "symbol": "circle"
           },
           "mode": "markers",
           "name": "",
           "orientation": "v",
           "showlegend": false,
           "type": "scatter",
           "x": [
            0.004239582355991468
           ],
           "xaxis": "x",
           "y": [
            -0.00009333402916343863
           ],
           "yaxis": "y"
          }
         ],
         "name": "2024-08-15"
        },
        {
         "data": [
          {
           "hovertemplate": "Date=2024-08-16<br>Relative Strength=%{x}<br>Momentum=%{y}<extra></extra>",
           "legendgroup": "",
           "marker": {
            "color": "white",
            "opacity": 0.8,
            "symbol": "circle"
           },
           "mode": "markers",
           "name": "",
           "orientation": "v",
           "showlegend": false,
           "type": "scatter",
           "x": [
            0.002389497912576921
           ],
           "xaxis": "x",
           "y": [
            -0.0018500844434145465
           ],
           "yaxis": "y"
          }
         ],
         "name": "2024-08-16"
        },
        {
         "data": [
          {
           "hovertemplate": "Date=2024-08-19<br>Relative Strength=%{x}<br>Momentum=%{y}<extra></extra>",
           "legendgroup": "",
           "marker": {
            "color": "white",
            "opacity": 0.8,
            "symbol": "circle"
           },
           "mode": "markers",
           "name": "",
           "orientation": "v",
           "showlegend": false,
           "type": "scatter",
           "x": [
            0.0034595875220132296
           ],
           "xaxis": "x",
           "y": [
            0.0010700896094363085
           ],
           "yaxis": "y"
          }
         ],
         "name": "2024-08-19"
        },
        {
         "data": [
          {
           "hovertemplate": "Date=2024-08-20<br>Relative Strength=%{x}<br>Momentum=%{y}<extra></extra>",
           "legendgroup": "",
           "marker": {
            "color": "white",
            "opacity": 0.8,
            "symbol": "circle"
           },
           "mode": "markers",
           "name": "",
           "orientation": "v",
           "showlegend": false,
           "type": "scatter",
           "x": [
            0.006143785929895696
           ],
           "xaxis": "x",
           "y": [
            0.002684198407882466
           ],
           "yaxis": "y"
          }
         ],
         "name": "2024-08-20"
        },
        {
         "data": [
          {
           "hovertemplate": "Date=2024-08-21<br>Relative Strength=%{x}<br>Momentum=%{y}<extra></extra>",
           "legendgroup": "",
           "marker": {
            "color": "white",
            "opacity": 0.8,
            "symbol": "circle"
           },
           "mode": "markers",
           "name": "",
           "orientation": "v",
           "showlegend": false,
           "type": "scatter",
           "x": [
            0.00345255296533934
           ],
           "xaxis": "x",
           "y": [
            -0.002691232964556356
           ],
           "yaxis": "y"
          }
         ],
         "name": "2024-08-21"
        },
        {
         "data": [
          {
           "hovertemplate": "Date=2024-08-22<br>Relative Strength=%{x}<br>Momentum=%{y}<extra></extra>",
           "legendgroup": "",
           "marker": {
            "color": "white",
            "opacity": 0.8,
            "symbol": "circle"
           },
           "mode": "markers",
           "name": "",
           "orientation": "v",
           "showlegend": false,
           "type": "scatter",
           "x": [
            0.002932718842878123
           ],
           "xaxis": "x",
           "y": [
            -0.0005198341224612168
           ],
           "yaxis": "y"
          }
         ],
         "name": "2024-08-22"
        },
        {
         "data": [
          {
           "hovertemplate": "Date=2024-08-23<br>Relative Strength=%{x}<br>Momentum=%{y}<extra></extra>",
           "legendgroup": "",
           "marker": {
            "color": "white",
            "opacity": 0.8,
            "symbol": "circle"
           },
           "mode": "markers",
           "name": "",
           "orientation": "v",
           "showlegend": false,
           "type": "scatter",
           "x": [
            0.004711735689395301
           ],
           "xaxis": "x",
           "y": [
            0.001779016846517178
           ],
           "yaxis": "y"
          }
         ],
         "name": "2024-08-23"
        },
        {
         "data": [
          {
           "hovertemplate": "Date=2024-08-26<br>Relative Strength=%{x}<br>Momentum=%{y}<extra></extra>",
           "legendgroup": "",
           "marker": {
            "color": "white",
            "opacity": 0.8,
            "symbol": "circle"
           },
           "mode": "markers",
           "name": "",
           "orientation": "v",
           "showlegend": false,
           "type": "scatter",
           "x": [
            0.005063407589959257
           ],
           "xaxis": "x",
           "y": [
            0.00035167190056395545
           ],
           "yaxis": "y"
          }
         ],
         "name": "2024-08-26"
        },
        {
         "data": [
          {
           "hovertemplate": "Date=2024-08-27<br>Relative Strength=%{x}<br>Momentum=%{y}<extra></extra>",
           "legendgroup": "",
           "marker": {
            "color": "white",
            "opacity": 0.8,
            "symbol": "circle"
           },
           "mode": "markers",
           "name": "",
           "orientation": "v",
           "showlegend": false,
           "type": "scatter",
           "x": [
            0.0015874349777030843
           ],
           "xaxis": "x",
           "y": [
            -0.0034759726122561723
           ],
           "yaxis": "y"
          }
         ],
         "name": "2024-08-27"
        },
        {
         "data": [
          {
           "hovertemplate": "Date=2024-08-28<br>Relative Strength=%{x}<br>Momentum=%{y}<extra></extra>",
           "legendgroup": "",
           "marker": {
            "color": "white",
            "opacity": 0.8,
            "symbol": "circle"
           },
           "mode": "markers",
           "name": "",
           "orientation": "v",
           "showlegend": false,
           "type": "scatter",
           "x": [
            -0.0005124608804900621
           ],
           "xaxis": "x",
           "y": [
            -0.0020998958581931464
           ],
           "yaxis": "y"
          }
         ],
         "name": "2024-08-28"
        },
        {
         "data": [
          {
           "hovertemplate": "Date=2024-08-29<br>Relative Strength=%{x}<br>Momentum=%{y}<extra></extra>",
           "legendgroup": "",
           "marker": {
            "color": "white",
            "opacity": 0.8,
            "symbol": "circle"
           },
           "mode": "markers",
           "name": "",
           "orientation": "v",
           "showlegend": false,
           "type": "scatter",
           "x": [
            -0.0018725302114037112
           ],
           "xaxis": "x",
           "y": [
            -0.0013600693309136491
           ],
           "yaxis": "y"
          }
         ],
         "name": "2024-08-29"
        },
        {
         "data": [
          {
           "hovertemplate": "Date=2024-08-30<br>Relative Strength=%{x}<br>Momentum=%{y}<extra></extra>",
           "legendgroup": "",
           "marker": {
            "color": "white",
            "opacity": 0.8,
            "symbol": "circle"
           },
           "mode": "markers",
           "name": "",
           "orientation": "v",
           "showlegend": false,
           "type": "scatter",
           "x": [
            -0.000006911094225892133
           ],
           "xaxis": "x",
           "y": [
            0.001865619117177819
           ],
           "yaxis": "y"
          }
         ],
         "name": "2024-08-30"
        },
        {
         "data": [
          {
           "hovertemplate": "Date=2024-09-02<br>Relative Strength=%{x}<br>Momentum=%{y}<extra></extra>",
           "legendgroup": "",
           "marker": {
            "color": "white",
            "opacity": 0.8,
            "symbol": "circle"
           },
           "mode": "markers",
           "name": "",
           "orientation": "v",
           "showlegend": false,
           "type": "scatter",
           "x": [
            0.0007954977770232908
           ],
           "xaxis": "x",
           "y": [
            0.0008024088712491829
           ],
           "yaxis": "y"
          }
         ],
         "name": "2024-09-02"
        },
        {
         "data": [
          {
           "hovertemplate": "Date=2024-09-03<br>Relative Strength=%{x}<br>Momentum=%{y}<extra></extra>",
           "legendgroup": "",
           "marker": {
            "color": "white",
            "opacity": 0.8,
            "symbol": "circle"
           },
           "mode": "markers",
           "name": "",
           "orientation": "v",
           "showlegend": false,
           "type": "scatter",
           "x": [
            0.0018131543498732916
           ],
           "xaxis": "x",
           "y": [
            0.0010176565728500008
           ],
           "yaxis": "y"
          }
         ],
         "name": "2024-09-03"
        },
        {
         "data": [
          {
           "hovertemplate": "Date=2024-09-04<br>Relative Strength=%{x}<br>Momentum=%{y}<extra></extra>",
           "legendgroup": "",
           "marker": {
            "color": "white",
            "opacity": 0.8,
            "symbol": "circle"
           },
           "mode": "markers",
           "name": "",
           "orientation": "v",
           "showlegend": false,
           "type": "scatter",
           "x": [
            0.000995901911692243
           ],
           "xaxis": "x",
           "y": [
            -0.0008172524381810486
           ],
           "yaxis": "y"
          }
         ],
         "name": "2024-09-04"
        },
        {
         "data": [
          {
           "hovertemplate": "Date=2024-09-05<br>Relative Strength=%{x}<br>Momentum=%{y}<extra></extra>",
           "legendgroup": "",
           "marker": {
            "color": "white",
            "opacity": 0.8,
            "symbol": "circle"
           },
           "mode": "markers",
           "name": "",
           "orientation": "v",
           "showlegend": false,
           "type": "scatter",
           "x": [
            0.0003110774474819999
           ],
           "xaxis": "x",
           "y": [
            -0.0006848244642102431
           ],
           "yaxis": "y"
          }
         ],
         "name": "2024-09-05"
        },
        {
         "data": [
          {
           "hovertemplate": "Date=2024-09-06<br>Relative Strength=%{x}<br>Momentum=%{y}<extra></extra>",
           "legendgroup": "",
           "marker": {
            "color": "white",
            "opacity": 0.8,
            "symbol": "circle"
           },
           "mode": "markers",
           "name": "",
           "orientation": "v",
           "showlegend": false,
           "type": "scatter",
           "x": [
            -0.001155208815119635
           ],
           "xaxis": "x",
           "y": [
            -0.001466286262601635
           ],
           "yaxis": "y"
          }
         ],
         "name": "2024-09-06"
        },
        {
         "data": [
          {
           "hovertemplate": "Date=2024-09-09<br>Relative Strength=%{x}<br>Momentum=%{y}<extra></extra>",
           "legendgroup": "",
           "marker": {
            "color": "white",
            "opacity": 0.8,
            "symbol": "circle"
           },
           "mode": "markers",
           "name": "",
           "orientation": "v",
           "showlegend": false,
           "type": "scatter",
           "x": [
            -0.0018700435174958342
           ],
           "xaxis": "x",
           "y": [
            -0.0007148347023761992
           ],
           "yaxis": "y"
          }
         ],
         "name": "2024-09-09"
        },
        {
         "data": [
          {
           "hovertemplate": "Date=2024-09-10<br>Relative Strength=%{x}<br>Momentum=%{y}<extra></extra>",
           "legendgroup": "",
           "marker": {
            "color": "white",
            "opacity": 0.8,
            "symbol": "circle"
           },
           "mode": "markers",
           "name": "",
           "orientation": "v",
           "showlegend": false,
           "type": "scatter",
           "x": [
            0.0020172667599445914
           ],
           "xaxis": "x",
           "y": [
            0.0038873102774404254
           ],
           "yaxis": "y"
          }
         ],
         "name": "2024-09-10"
        },
        {
         "data": [
          {
           "hovertemplate": "Date=2024-09-11<br>Relative Strength=%{x}<br>Momentum=%{y}<extra></extra>",
           "legendgroup": "",
           "marker": {
            "color": "white",
            "opacity": 0.8,
            "symbol": "circle"
           },
           "mode": "markers",
           "name": "",
           "orientation": "v",
           "showlegend": false,
           "type": "scatter",
           "x": [
            0.00013139791924315913
           ],
           "xaxis": "x",
           "y": [
            -0.0018858688407014323
           ],
           "yaxis": "y"
          }
         ],
         "name": "2024-09-11"
        },
        {
         "data": [
          {
           "hovertemplate": "Date=2024-09-12<br>Relative Strength=%{x}<br>Momentum=%{y}<extra></extra>",
           "legendgroup": "",
           "marker": {
            "color": "white",
            "opacity": 0.8,
            "symbol": "circle"
           },
           "mode": "markers",
           "name": "",
           "orientation": "v",
           "showlegend": false,
           "type": "scatter",
           "x": [
            0.0013348257353661852
           ],
           "xaxis": "x",
           "y": [
            0.0012034278161230261
           ],
           "yaxis": "y"
          }
         ],
         "name": "2024-09-12"
        },
        {
         "data": [
          {
           "hovertemplate": "Date=2024-09-13<br>Relative Strength=%{x}<br>Momentum=%{y}<extra></extra>",
           "legendgroup": "",
           "marker": {
            "color": "white",
            "opacity": 0.8,
            "symbol": "circle"
           },
           "mode": "markers",
           "name": "",
           "orientation": "v",
           "showlegend": false,
           "type": "scatter",
           "x": [
            0.0004141599467751722
           ],
           "xaxis": "x",
           "y": [
            -0.000920665788591013
           ],
           "yaxis": "y"
          }
         ],
         "name": "2024-09-13"
        },
        {
         "data": [
          {
           "hovertemplate": "Date=2024-09-16<br>Relative Strength=%{x}<br>Momentum=%{y}<extra></extra>",
           "legendgroup": "",
           "marker": {
            "color": "white",
            "opacity": 0.8,
            "symbol": "circle"
           },
           "mode": "markers",
           "name": "",
           "orientation": "v",
           "showlegend": false,
           "type": "scatter",
           "x": [
            -0.002710961396108258
           ],
           "xaxis": "x",
           "y": [
            -0.0031251213428834302
           ],
           "yaxis": "y"
          }
         ],
         "name": "2024-09-16"
        },
        {
         "data": [
          {
           "hovertemplate": "Date=2024-09-17<br>Relative Strength=%{x}<br>Momentum=%{y}<extra></extra>",
           "legendgroup": "",
           "marker": {
            "color": "white",
            "opacity": 0.8,
            "symbol": "circle"
           },
           "mode": "markers",
           "name": "",
           "orientation": "v",
           "showlegend": false,
           "type": "scatter",
           "x": [
            -0.00307126655480604
           ],
           "xaxis": "x",
           "y": [
            -0.0003603051586977819
           ],
           "yaxis": "y"
          }
         ],
         "name": "2024-09-17"
        },
        {
         "data": [
          {
           "hovertemplate": "Date=2024-09-18<br>Relative Strength=%{x}<br>Momentum=%{y}<extra></extra>",
           "legendgroup": "",
           "marker": {
            "color": "white",
            "opacity": 0.8,
            "symbol": "circle"
           },
           "mode": "markers",
           "name": "",
           "orientation": "v",
           "showlegend": false,
           "type": "scatter",
           "x": [
            -0.0011852761394902545
           ],
           "xaxis": "x",
           "y": [
            0.0018859904153157856
           ],
           "yaxis": "y"
          }
         ],
         "name": "2024-09-18"
        },
        {
         "data": [
          {
           "hovertemplate": "Date=2024-09-19<br>Relative Strength=%{x}<br>Momentum=%{y}<extra></extra>",
           "legendgroup": "",
           "marker": {
            "color": "white",
            "opacity": 0.8,
            "symbol": "circle"
           },
           "mode": "markers",
           "name": "",
           "orientation": "v",
           "showlegend": false,
           "type": "scatter",
           "x": [
            -0.00025531233710959257
           ],
           "xaxis": "x",
           "y": [
            0.0009299638023806619
           ],
           "yaxis": "y"
          }
         ],
         "name": "2024-09-19"
        },
        {
         "data": [
          {
           "hovertemplate": "Date=2024-09-20<br>Relative Strength=%{x}<br>Momentum=%{y}<extra></extra>",
           "legendgroup": "",
           "marker": {
            "color": "white",
            "opacity": 0.8,
            "symbol": "circle"
           },
           "mode": "markers",
           "name": "",
           "orientation": "v",
           "showlegend": false,
           "type": "scatter",
           "x": [
            0.00007905227643352237
           ],
           "xaxis": "x",
           "y": [
            0.00033436461354311494
           ],
           "yaxis": "y"
          }
         ],
         "name": "2024-09-20"
        },
        {
         "data": [
          {
           "hovertemplate": "Date=2024-09-23<br>Relative Strength=%{x}<br>Momentum=%{y}<extra></extra>",
           "legendgroup": "",
           "marker": {
            "color": "white",
            "opacity": 0.8,
            "symbol": "circle"
           },
           "mode": "markers",
           "name": "",
           "orientation": "v",
           "showlegend": false,
           "type": "scatter",
           "x": [
            -0.0006524264023237691
           ],
           "xaxis": "x",
           "y": [
            -0.0007314786787572915
           ],
           "yaxis": "y"
          }
         ],
         "name": "2024-09-23"
        },
        {
         "data": [
          {
           "hovertemplate": "Date=2024-09-24<br>Relative Strength=%{x}<br>Momentum=%{y}<extra></extra>",
           "legendgroup": "",
           "marker": {
            "color": "white",
            "opacity": 0.8,
            "symbol": "circle"
           },
           "mode": "markers",
           "name": "",
           "orientation": "v",
           "showlegend": false,
           "type": "scatter",
           "x": [
            -0.0035785350883901002
           ],
           "xaxis": "x",
           "y": [
            -0.002926108686066331
           ],
           "yaxis": "y"
          }
         ],
         "name": "2024-09-24"
        },
        {
         "data": [
          {
           "hovertemplate": "Date=2024-09-25<br>Relative Strength=%{x}<br>Momentum=%{y}<extra></extra>",
           "legendgroup": "",
           "marker": {
            "color": "white",
            "opacity": 0.8,
            "symbol": "circle"
           },
           "mode": "markers",
           "name": "",
           "orientation": "v",
           "showlegend": false,
           "type": "scatter",
           "x": [
            -0.004561865712286872
           ],
           "xaxis": "x",
           "y": [
            -0.0009833306238967716
           ],
           "yaxis": "y"
          }
         ],
         "name": "2024-09-25"
        },
        {
         "data": [
          {
           "hovertemplate": "Date=2024-09-26<br>Relative Strength=%{x}<br>Momentum=%{y}<extra></extra>",
           "legendgroup": "",
           "marker": {
            "color": "white",
            "opacity": 0.8,
            "symbol": "circle"
           },
           "mode": "markers",
           "name": "",
           "orientation": "v",
           "showlegend": false,
           "type": "scatter",
           "x": [
            -0.0056070792649778765
           ],
           "xaxis": "x",
           "y": [
            -0.0010452135526910046
           ],
           "yaxis": "y"
          }
         ],
         "name": "2024-09-26"
        },
        {
         "data": [
          {
           "hovertemplate": "Date=2024-09-27<br>Relative Strength=%{x}<br>Momentum=%{y}<extra></extra>",
           "legendgroup": "",
           "marker": {
            "color": "white",
            "opacity": 0.8,
            "symbol": "circle"
           },
           "mode": "markers",
           "name": "",
           "orientation": "v",
           "showlegend": false,
           "type": "scatter",
           "x": [
            -0.005420910423436442
           ],
           "xaxis": "x",
           "y": [
            0.0001861688415414342
           ],
           "yaxis": "y"
          }
         ],
         "name": "2024-09-27"
        },
        {
         "data": [
          {
           "hovertemplate": "Date=2024-09-30<br>Relative Strength=%{x}<br>Momentum=%{y}<extra></extra>",
           "legendgroup": "",
           "marker": {
            "color": "white",
            "opacity": 0.8,
            "symbol": "circle"
           },
           "mode": "markers",
           "name": "",
           "orientation": "v",
           "showlegend": false,
           "type": "scatter",
           "x": [
            -0.00211906082944594
           ],
           "xaxis": "x",
           "y": [
            0.003301849593990502
           ],
           "yaxis": "y"
          }
         ],
         "name": "2024-09-30"
        },
        {
         "data": [
          {
           "hovertemplate": "Date=2024-10-01<br>Relative Strength=%{x}<br>Momentum=%{y}<extra></extra>",
           "legendgroup": "",
           "marker": {
            "color": "white",
            "opacity": 0.8,
            "symbol": "circle"
           },
           "mode": "markers",
           "name": "",
           "orientation": "v",
           "showlegend": false,
           "type": "scatter",
           "x": [
            -0.005274155966463345
           ],
           "xaxis": "x",
           "y": [
            -0.003155095137017405
           ],
           "yaxis": "y"
          }
         ],
         "name": "2024-10-01"
        },
        {
         "data": [
          {
           "hovertemplate": "Date=2024-10-02<br>Relative Strength=%{x}<br>Momentum=%{y}<extra></extra>",
           "legendgroup": "",
           "marker": {
            "color": "white",
            "opacity": 0.8,
            "symbol": "circle"
           },
           "mode": "markers",
           "name": "",
           "orientation": "v",
           "showlegend": false,
           "type": "scatter",
           "x": [
            -0.006620364120865218
           ],
           "xaxis": "x",
           "y": [
            -0.001346208154401873
           ],
           "yaxis": "y"
          }
         ],
         "name": "2024-10-02"
        },
        {
         "data": [
          {
           "hovertemplate": "Date=2024-10-03<br>Relative Strength=%{x}<br>Momentum=%{y}<extra></extra>",
           "legendgroup": "",
           "marker": {
            "color": "white",
            "opacity": 0.8,
            "symbol": "circle"
           },
           "mode": "markers",
           "name": "",
           "orientation": "v",
           "showlegend": false,
           "type": "scatter",
           "x": [
            -0.004305017865904292
           ],
           "xaxis": "x",
           "y": [
            0.002315346254960926
           ],
           "yaxis": "y"
          }
         ],
         "name": "2024-10-03"
        },
        {
         "data": [
          {
           "hovertemplate": "Date=2024-10-04<br>Relative Strength=%{x}<br>Momentum=%{y}<extra></extra>",
           "legendgroup": "",
           "marker": {
            "color": "white",
            "opacity": 0.8,
            "symbol": "circle"
           },
           "mode": "markers",
           "name": "",
           "orientation": "v",
           "showlegend": false,
           "type": "scatter",
           "x": [
            -0.004551273703377745
           ],
           "xaxis": "x",
           "y": [
            -0.0002462558374734525
           ],
           "yaxis": "y"
          }
         ],
         "name": "2024-10-04"
        },
        {
         "data": [
          {
           "hovertemplate": "Date=2024-10-07<br>Relative Strength=%{x}<br>Momentum=%{y}<extra></extra>",
           "legendgroup": "",
           "marker": {
            "color": "white",
            "opacity": 0.8,
            "symbol": "circle"
           },
           "mode": "markers",
           "name": "",
           "orientation": "v",
           "showlegend": false,
           "type": "scatter",
           "x": [
            -0.0038376800145353052
           ],
           "xaxis": "x",
           "y": [
            0.0007135936888424395
           ],
           "yaxis": "y"
          }
         ],
         "name": "2024-10-07"
        },
        {
         "data": [
          {
           "hovertemplate": "Date=2024-10-08<br>Relative Strength=%{x}<br>Momentum=%{y}<extra></extra>",
           "legendgroup": "",
           "marker": {
            "color": "white",
            "opacity": 0.8,
            "symbol": "circle"
           },
           "mode": "markers",
           "name": "",
           "orientation": "v",
           "showlegend": false,
           "type": "scatter",
           "x": [
            -0.00253290038970404
           ],
           "xaxis": "x",
           "y": [
            0.0013047796248312651
           ],
           "yaxis": "y"
          }
         ],
         "name": "2024-10-08"
        },
        {
         "data": [
          {
           "hovertemplate": "Date=2024-10-09<br>Relative Strength=%{x}<br>Momentum=%{y}<extra></extra>",
           "legendgroup": "",
           "marker": {
            "color": "white",
            "opacity": 0.8,
            "symbol": "circle"
           },
           "mode": "markers",
           "name": "",
           "orientation": "v",
           "showlegend": false,
           "type": "scatter",
           "x": [
            -0.0017205333975151113
           ],
           "xaxis": "x",
           "y": [
            0.0008123669921889288
           ],
           "yaxis": "y"
          }
         ],
         "name": "2024-10-09"
        },
        {
         "data": [
          {
           "hovertemplate": "Date=2024-10-10<br>Relative Strength=%{x}<br>Momentum=%{y}<extra></extra>",
           "legendgroup": "",
           "marker": {
            "color": "white",
            "opacity": 0.8,
            "symbol": "circle"
           },
           "mode": "markers",
           "name": "",
           "orientation": "v",
           "showlegend": false,
           "type": "scatter",
           "x": [
            -0.0010449822143192232
           ],
           "xaxis": "x",
           "y": [
            0.0006755511831958881
           ],
           "yaxis": "y"
          }
         ],
         "name": "2024-10-10"
        },
        {
         "data": [
          {
           "hovertemplate": "Date=2024-10-11<br>Relative Strength=%{x}<br>Momentum=%{y}<extra></extra>",
           "legendgroup": "",
           "marker": {
            "color": "white",
            "opacity": 0.8,
            "symbol": "circle"
           },
           "mode": "markers",
           "name": "",
           "orientation": "v",
           "showlegend": false,
           "type": "scatter",
           "x": [
            -0.0022367642418633094
           ],
           "xaxis": "x",
           "y": [
            -0.001191782027544086
           ],
           "yaxis": "y"
          }
         ],
         "name": "2024-10-11"
        },
        {
         "data": [
          {
           "hovertemplate": "Date=2024-10-14<br>Relative Strength=%{x}<br>Momentum=%{y}<extra></extra>",
           "legendgroup": "",
           "marker": {
            "color": "white",
            "opacity": 0.8,
            "symbol": "circle"
           },
           "mode": "markers",
           "name": "",
           "orientation": "v",
           "showlegend": false,
           "type": "scatter",
           "x": [
            -0.005375263471532244
           ],
           "xaxis": "x",
           "y": [
            -0.0031384992296689344
           ],
           "yaxis": "y"
          }
         ],
         "name": "2024-10-14"
        },
        {
         "data": [
          {
           "hovertemplate": "Date=2024-10-15<br>Relative Strength=%{x}<br>Momentum=%{y}<extra></extra>",
           "legendgroup": "",
           "marker": {
            "color": "white",
            "opacity": 0.8,
            "symbol": "circle"
           },
           "mode": "markers",
           "name": "",
           "orientation": "v",
           "showlegend": false,
           "type": "scatter",
           "x": [
            -0.004616216858264155
           ],
           "xaxis": "x",
           "y": [
            0.0007590466132680884
           ],
           "yaxis": "y"
          }
         ],
         "name": "2024-10-15"
        },
        {
         "data": [
          {
           "hovertemplate": "Date=2024-10-16<br>Relative Strength=%{x}<br>Momentum=%{y}<extra></extra>",
           "legendgroup": "",
           "marker": {
            "color": "white",
            "opacity": 0.8,
            "symbol": "circle"
           },
           "mode": "markers",
           "name": "",
           "orientation": "v",
           "showlegend": false,
           "type": "scatter",
           "x": [
            -0.0031905257607616534
           ],
           "xaxis": "x",
           "y": [
            0.001425691097502502
           ],
           "yaxis": "y"
          }
         ],
         "name": "2024-10-16"
        },
        {
         "data": [
          {
           "hovertemplate": "Date=2024-10-17<br>Relative Strength=%{x}<br>Momentum=%{y}<extra></extra>",
           "legendgroup": "",
           "marker": {
            "color": "white",
            "opacity": 0.8,
            "symbol": "circle"
           },
           "mode": "markers",
           "name": "",
           "orientation": "v",
           "showlegend": false,
           "type": "scatter",
           "x": [
            -0.0061070233426572355
           ],
           "xaxis": "x",
           "y": [
            -0.002916497581895582
           ],
           "yaxis": "y"
          }
         ],
         "name": "2024-10-17"
        },
        {
         "data": [
          {
           "hovertemplate": "Date=2024-10-18<br>Relative Strength=%{x}<br>Momentum=%{y}<extra></extra>",
           "legendgroup": "",
           "marker": {
            "color": "white",
            "opacity": 0.8,
            "symbol": "circle"
           },
           "mode": "markers",
           "name": "",
           "orientation": "v",
           "showlegend": false,
           "type": "scatter",
           "x": [
            -0.007467309911215747
           ],
           "xaxis": "x",
           "y": [
            -0.0013602865685585115
           ],
           "yaxis": "y"
          }
         ],
         "name": "2024-10-18"
        },
        {
         "data": [
          {
           "hovertemplate": "Date=2024-10-21<br>Relative Strength=%{x}<br>Momentum=%{y}<extra></extra>",
           "legendgroup": "",
           "marker": {
            "color": "white",
            "opacity": 0.8,
            "symbol": "circle"
           },
           "mode": "markers",
           "name": "",
           "orientation": "v",
           "showlegend": false,
           "type": "scatter",
           "x": [
            -0.00630366251095068
           ],
           "xaxis": "x",
           "y": [
            0.001163647400265067
           ],
           "yaxis": "y"
          }
         ],
         "name": "2024-10-21"
        },
        {
         "data": [
          {
           "hovertemplate": "Date=2024-10-22<br>Relative Strength=%{x}<br>Momentum=%{y}<extra></extra>",
           "legendgroup": "",
           "marker": {
            "color": "white",
            "opacity": 0.8,
            "symbol": "circle"
           },
           "mode": "markers",
           "name": "",
           "orientation": "v",
           "showlegend": false,
           "type": "scatter",
           "x": [
            -0.005620483077532635
           ],
           "xaxis": "x",
           "y": [
            0.0006831794334180453
           ],
           "yaxis": "y"
          }
         ],
         "name": "2024-10-22"
        },
        {
         "data": [
          {
           "hovertemplate": "Date=2024-10-23<br>Relative Strength=%{x}<br>Momentum=%{y}<extra></extra>",
           "legendgroup": "",
           "marker": {
            "color": "white",
            "opacity": 0.8,
            "symbol": "circle"
           },
           "mode": "markers",
           "name": "",
           "orientation": "v",
           "showlegend": false,
           "type": "scatter",
           "x": [
            -0.004222749100791479
           ],
           "xaxis": "x",
           "y": [
            0.0013977339767411558
           ],
           "yaxis": "y"
          }
         ],
         "name": "2024-10-23"
        },
        {
         "data": [
          {
           "hovertemplate": "Date=2024-10-24<br>Relative Strength=%{x}<br>Momentum=%{y}<extra></extra>",
           "legendgroup": "",
           "marker": {
            "color": "white",
            "opacity": 0.8,
            "symbol": "circle"
           },
           "mode": "markers",
           "name": "",
           "orientation": "v",
           "showlegend": false,
           "type": "scatter",
           "x": [
            -0.004973697569597135
           ],
           "xaxis": "x",
           "y": [
            -0.0007509484688056562
           ],
           "yaxis": "y"
          }
         ],
         "name": "2024-10-24"
        },
        {
         "data": [
          {
           "hovertemplate": "Date=2024-10-25<br>Relative Strength=%{x}<br>Momentum=%{y}<extra></extra>",
           "legendgroup": "",
           "marker": {
            "color": "white",
            "opacity": 0.8,
            "symbol": "circle"
           },
           "mode": "markers",
           "name": "",
           "orientation": "v",
           "showlegend": false,
           "type": "scatter",
           "x": [
            -0.004280422803536221
           ],
           "xaxis": "x",
           "y": [
            0.0006932747660609142
           ],
           "yaxis": "y"
          }
         ],
         "name": "2024-10-25"
        },
        {
         "data": [
          {
           "hovertemplate": "Date=2024-10-28<br>Relative Strength=%{x}<br>Momentum=%{y}<extra></extra>",
           "legendgroup": "",
           "marker": {
            "color": "white",
            "opacity": 0.8,
            "symbol": "circle"
           },
           "mode": "markers",
           "name": "",
           "orientation": "v",
           "showlegend": false,
           "type": "scatter",
           "x": [
            -0.003716884727226255
           ],
           "xaxis": "x",
           "y": [
            0.0005635380763099659
           ],
           "yaxis": "y"
          }
         ],
         "name": "2024-10-28"
        },
        {
         "data": [
          {
           "hovertemplate": "Date=2024-10-29<br>Relative Strength=%{x}<br>Momentum=%{y}<extra></extra>",
           "legendgroup": "",
           "marker": {
            "color": "white",
            "opacity": 0.8,
            "symbol": "circle"
           },
           "mode": "markers",
           "name": "",
           "orientation": "v",
           "showlegend": false,
           "type": "scatter",
           "x": [
            -0.0024262730016663013
           ],
           "xaxis": "x",
           "y": [
            0.0012906117255599538
           ],
           "yaxis": "y"
          }
         ],
         "name": "2024-10-29"
        },
        {
         "data": [
          {
           "hovertemplate": "Date=2024-10-30<br>Relative Strength=%{x}<br>Momentum=%{y}<extra></extra>",
           "legendgroup": "",
           "marker": {
            "color": "white",
            "opacity": 0.8,
            "symbol": "circle"
           },
           "mode": "markers",
           "name": "",
           "orientation": "v",
           "showlegend": false,
           "type": "scatter",
           "x": [
            -0.00254755260751649
           ],
           "xaxis": "x",
           "y": [
            -0.00012127960585018877
           ],
           "yaxis": "y"
          }
         ],
         "name": "2024-10-30"
        },
        {
         "data": [
          {
           "hovertemplate": "Date=2024-10-31<br>Relative Strength=%{x}<br>Momentum=%{y}<extra></extra>",
           "legendgroup": "",
           "marker": {
            "color": "white",
            "opacity": 0.8,
            "symbol": "circle"
           },
           "mode": "markers",
           "name": "",
           "orientation": "v",
           "showlegend": false,
           "type": "scatter",
           "x": [
            -0.0008077842807932779
           ],
           "xaxis": "x",
           "y": [
            0.0017397683267232121
           ],
           "yaxis": "y"
          }
         ],
         "name": "2024-10-31"
        },
        {
         "data": [
          {
           "hovertemplate": "Date=2024-11-01<br>Relative Strength=%{x}<br>Momentum=%{y}<extra></extra>",
           "legendgroup": "",
           "marker": {
            "color": "white",
            "opacity": 0.8,
            "symbol": "circle"
           },
           "mode": "markers",
           "name": "",
           "orientation": "v",
           "showlegend": false,
           "type": "scatter",
           "x": [
            0.0013151988262528834
           ],
           "xaxis": "x",
           "y": [
            0.002122983107046161
           ],
           "yaxis": "y"
          }
         ],
         "name": "2024-11-01"
        },
        {
         "data": [
          {
           "hovertemplate": "Date=2024-11-04<br>Relative Strength=%{x}<br>Momentum=%{y}<extra></extra>",
           "legendgroup": "",
           "marker": {
            "color": "white",
            "opacity": 0.8,
            "symbol": "circle"
           },
           "mode": "markers",
           "name": "",
           "orientation": "v",
           "showlegend": false,
           "type": "scatter",
           "x": [
            0.0010303619019769617
           ],
           "xaxis": "x",
           "y": [
            -0.00028483692427592176
           ],
           "yaxis": "y"
          }
         ],
         "name": "2024-11-04"
        },
        {
         "data": [
          {
           "hovertemplate": "Date=2024-11-05<br>Relative Strength=%{x}<br>Momentum=%{y}<extra></extra>",
           "legendgroup": "",
           "marker": {
            "color": "white",
            "opacity": 0.8,
            "symbol": "circle"
           },
           "mode": "markers",
           "name": "",
           "orientation": "v",
           "showlegend": false,
           "type": "scatter",
           "x": [
            0.0007274837794135736
           ],
           "xaxis": "x",
           "y": [
            -0.00030287812256338806
           ],
           "yaxis": "y"
          }
         ],
         "name": "2024-11-05"
        },
        {
         "data": [
          {
           "hovertemplate": "Date=2024-11-06<br>Relative Strength=%{x}<br>Momentum=%{y}<extra></extra>",
           "legendgroup": "",
           "marker": {
            "color": "white",
            "opacity": 0.8,
            "symbol": "circle"
           },
           "mode": "markers",
           "name": "",
           "orientation": "v",
           "showlegend": false,
           "type": "scatter",
           "x": [
            0.00007980824530687822
           ],
           "xaxis": "x",
           "y": [
            -0.0006476755341066954
           ],
           "yaxis": "y"
          }
         ],
         "name": "2024-11-06"
        },
        {
         "data": [
          {
           "hovertemplate": "Date=2024-11-07<br>Relative Strength=%{x}<br>Momentum=%{y}<extra></extra>",
           "legendgroup": "",
           "marker": {
            "color": "white",
            "opacity": 0.8,
            "symbol": "circle"
           },
           "mode": "markers",
           "name": "",
           "orientation": "v",
           "showlegend": false,
           "type": "scatter",
           "x": [
            0.0025047701222380646
           ],
           "xaxis": "x",
           "y": [
            0.0024249618769311863
           ],
           "yaxis": "y"
          }
         ],
         "name": "2024-11-07"
        },
        {
         "data": [
          {
           "hovertemplate": "Date=2024-11-08<br>Relative Strength=%{x}<br>Momentum=%{y}<extra></extra>",
           "legendgroup": "",
           "marker": {
            "color": "white",
            "opacity": 0.8,
            "symbol": "circle"
           },
           "mode": "markers",
           "name": "",
           "orientation": "v",
           "showlegend": false,
           "type": "scatter",
           "x": [
            0.003387295907820853
           ],
           "xaxis": "x",
           "y": [
            0.0008825257855827884
           ],
           "yaxis": "y"
          }
         ],
         "name": "2024-11-08"
        },
        {
         "data": [
          {
           "hovertemplate": "Date=2024-11-11<br>Relative Strength=%{x}<br>Momentum=%{y}<extra></extra>",
           "legendgroup": "",
           "marker": {
            "color": "white",
            "opacity": 0.8,
            "symbol": "circle"
           },
           "mode": "markers",
           "name": "",
           "orientation": "v",
           "showlegend": false,
           "type": "scatter",
           "x": [
            0.004699439127647009
           ],
           "xaxis": "x",
           "y": [
            0.001312143219826156
           ],
           "yaxis": "y"
          }
         ],
         "name": "2024-11-11"
        },
        {
         "data": [
          {
           "hovertemplate": "Date=2024-11-12<br>Relative Strength=%{x}<br>Momentum=%{y}<extra></extra>",
           "legendgroup": "",
           "marker": {
            "color": "white",
            "opacity": 0.8,
            "symbol": "circle"
           },
           "mode": "markers",
           "name": "",
           "orientation": "v",
           "showlegend": false,
           "type": "scatter",
           "x": [
            0.006322819745774888
           ],
           "xaxis": "x",
           "y": [
            0.0016233806181278794
           ],
           "yaxis": "y"
          }
         ],
         "name": "2024-11-12"
        },
        {
         "data": [
          {
           "hovertemplate": "Date=2024-11-13<br>Relative Strength=%{x}<br>Momentum=%{y}<extra></extra>",
           "legendgroup": "",
           "marker": {
            "color": "white",
            "opacity": 0.8,
            "symbol": "circle"
           },
           "mode": "markers",
           "name": "",
           "orientation": "v",
           "showlegend": false,
           "type": "scatter",
           "x": [
            0.00499274345336247
           ],
           "xaxis": "x",
           "y": [
            -0.0013300762924124184
           ],
           "yaxis": "y"
          }
         ],
         "name": "2024-11-13"
        },
        {
         "data": [
          {
           "hovertemplate": "Date=2024-11-14<br>Relative Strength=%{x}<br>Momentum=%{y}<extra></extra>",
           "legendgroup": "",
           "marker": {
            "color": "white",
            "opacity": 0.8,
            "symbol": "circle"
           },
           "mode": "markers",
           "name": "",
           "orientation": "v",
           "showlegend": false,
           "type": "scatter",
           "x": [
            -0.002762436647321065
           ],
           "xaxis": "x",
           "y": [
            -0.007755180100683535
           ],
           "yaxis": "y"
          }
         ],
         "name": "2024-11-14"
        },
        {
         "data": [
          {
           "hovertemplate": "Date=2024-11-18<br>Relative Strength=%{x}<br>Momentum=%{y}<extra></extra>",
           "legendgroup": "",
           "marker": {
            "color": "white",
            "opacity": 0.8,
            "symbol": "circle"
           },
           "mode": "markers",
           "name": "",
           "orientation": "v",
           "showlegend": false,
           "type": "scatter",
           "x": [
            -0.004870533184733428
           ],
           "xaxis": "x",
           "y": [
            -0.002108096537412363
           ],
           "yaxis": "y"
          }
         ],
         "name": "2024-11-18"
        },
        {
         "data": [
          {
           "hovertemplate": "Date=2024-11-19<br>Relative Strength=%{x}<br>Momentum=%{y}<extra></extra>",
           "legendgroup": "",
           "marker": {
            "color": "white",
            "opacity": 0.8,
            "symbol": "circle"
           },
           "mode": "markers",
           "name": "",
           "orientation": "v",
           "showlegend": false,
           "type": "scatter",
           "x": [
            -0.005150279358456045
           ],
           "xaxis": "x",
           "y": [
            -0.000279746173722617
           ],
           "yaxis": "y"
          }
         ],
         "name": "2024-11-19"
        },
        {
         "data": [
          {
           "hovertemplate": "Date=2024-11-21<br>Relative Strength=%{x}<br>Momentum=%{y}<extra></extra>",
           "legendgroup": "",
           "marker": {
            "color": "white",
            "opacity": 0.8,
            "symbol": "circle"
           },
           "mode": "markers",
           "name": "",
           "orientation": "v",
           "showlegend": false,
           "type": "scatter",
           "x": [
            -0.005687682568875351
           ],
           "xaxis": "x",
           "y": [
            -0.0005374032104193058
           ],
           "yaxis": "y"
          }
         ],
         "name": "2024-11-21"
        },
        {
         "data": [
          {
           "hovertemplate": "Date=2024-11-22<br>Relative Strength=%{x}<br>Momentum=%{y}<extra></extra>",
           "legendgroup": "",
           "marker": {
            "color": "white",
            "opacity": 0.8,
            "symbol": "circle"
           },
           "mode": "markers",
           "name": "",
           "orientation": "v",
           "showlegend": false,
           "type": "scatter",
           "x": [
            -0.006837410067047189
           ],
           "xaxis": "x",
           "y": [
            -0.0011497274981718385
           ],
           "yaxis": "y"
          }
         ],
         "name": "2024-11-22"
        },
        {
         "data": [
          {
           "hovertemplate": "Date=2024-11-25<br>Relative Strength=%{x}<br>Momentum=%{y}<extra></extra>",
           "legendgroup": "",
           "marker": {
            "color": "white",
            "opacity": 0.8,
            "symbol": "circle"
           },
           "mode": "markers",
           "name": "",
           "orientation": "v",
           "showlegend": false,
           "type": "scatter",
           "x": [
            -0.006839862175904698
           ],
           "xaxis": "x",
           "y": [
            -0.000002452108857508954
           ],
           "yaxis": "y"
          }
         ],
         "name": "2024-11-25"
        },
        {
         "data": [
          {
           "hovertemplate": "Date=2024-11-26<br>Relative Strength=%{x}<br>Momentum=%{y}<extra></extra>",
           "legendgroup": "",
           "marker": {
            "color": "white",
            "opacity": 0.8,
            "symbol": "circle"
           },
           "mode": "markers",
           "name": "",
           "orientation": "v",
           "showlegend": false,
           "type": "scatter",
           "x": [
            -0.008426230341093854
           ],
           "xaxis": "x",
           "y": [
            -0.001586368165189156
           ],
           "yaxis": "y"
          }
         ],
         "name": "2024-11-26"
        },
        {
         "data": [
          {
           "hovertemplate": "Date=2024-11-27<br>Relative Strength=%{x}<br>Momentum=%{y}<extra></extra>",
           "legendgroup": "",
           "marker": {
            "color": "white",
            "opacity": 0.8,
            "symbol": "circle"
           },
           "mode": "markers",
           "name": "",
           "orientation": "v",
           "showlegend": false,
           "type": "scatter",
           "x": [
            -0.010185841245357263
           ],
           "xaxis": "x",
           "y": [
            -0.001759610904263409
           ],
           "yaxis": "y"
          }
         ],
         "name": "2024-11-27"
        },
        {
         "data": [
          {
           "hovertemplate": "Date=2024-11-28<br>Relative Strength=%{x}<br>Momentum=%{y}<extra></extra>",
           "legendgroup": "",
           "marker": {
            "color": "white",
            "opacity": 0.8,
            "symbol": "circle"
           },
           "mode": "markers",
           "name": "",
           "orientation": "v",
           "showlegend": false,
           "type": "scatter",
           "x": [
            -0.009166370486795928
           ],
           "xaxis": "x",
           "y": [
            0.001019470758561335
           ],
           "yaxis": "y"
          }
         ],
         "name": "2024-11-28"
        },
        {
         "data": [
          {
           "hovertemplate": "Date=2024-11-29<br>Relative Strength=%{x}<br>Momentum=%{y}<extra></extra>",
           "legendgroup": "",
           "marker": {
            "color": "white",
            "opacity": 0.8,
            "symbol": "circle"
           },
           "mode": "markers",
           "name": "",
           "orientation": "v",
           "showlegend": false,
           "type": "scatter",
           "x": [
            -0.013294725121930107
           ],
           "xaxis": "x",
           "y": [
            -0.004128354635134179
           ],
           "yaxis": "y"
          }
         ],
         "name": "2024-11-29"
        },
        {
         "data": [
          {
           "hovertemplate": "Date=2024-12-02<br>Relative Strength=%{x}<br>Momentum=%{y}<extra></extra>",
           "legendgroup": "",
           "marker": {
            "color": "white",
            "opacity": 0.8,
            "symbol": "circle"
           },
           "mode": "markers",
           "name": "",
           "orientation": "v",
           "showlegend": false,
           "type": "scatter",
           "x": [
            -0.008089383611255963
           ],
           "xaxis": "x",
           "y": [
            0.005205341510674144
           ],
           "yaxis": "y"
          }
         ],
         "name": "2024-12-02"
        },
        {
         "data": [
          {
           "hovertemplate": "Date=2024-12-03<br>Relative Strength=%{x}<br>Momentum=%{y}<extra></extra>",
           "legendgroup": "",
           "marker": {
            "color": "white",
            "opacity": 0.8,
            "symbol": "circle"
           },
           "mode": "markers",
           "name": "",
           "orientation": "v",
           "showlegend": false,
           "type": "scatter",
           "x": [
            -0.006603886453200324
           ],
           "xaxis": "x",
           "y": [
            0.0014854971580556386
           ],
           "yaxis": "y"
          }
         ],
         "name": "2024-12-03"
        },
        {
         "data": [
          {
           "hovertemplate": "Date=2024-12-04<br>Relative Strength=%{x}<br>Momentum=%{y}<extra></extra>",
           "legendgroup": "",
           "marker": {
            "color": "white",
            "opacity": 0.8,
            "symbol": "circle"
           },
           "mode": "markers",
           "name": "",
           "orientation": "v",
           "showlegend": false,
           "type": "scatter",
           "x": [
            -0.00488266537749924
           ],
           "xaxis": "x",
           "y": [
            0.0017212210757010845
           ],
           "yaxis": "y"
          }
         ],
         "name": "2024-12-04"
        },
        {
         "data": [
          {
           "hovertemplate": "Date=2024-12-05<br>Relative Strength=%{x}<br>Momentum=%{y}<extra></extra>",
           "legendgroup": "",
           "marker": {
            "color": "white",
            "opacity": 0.8,
            "symbol": "circle"
           },
           "mode": "markers",
           "name": "",
           "orientation": "v",
           "showlegend": false,
           "type": "scatter",
           "x": [
            0.0005601588758062935
           ],
           "xaxis": "x",
           "y": [
            0.005442824253305533
           ],
           "yaxis": "y"
          }
         ],
         "name": "2024-12-05"
        },
        {
         "data": [
          {
           "hovertemplate": "Date=2024-12-06<br>Relative Strength=%{x}<br>Momentum=%{y}<extra></extra>",
           "legendgroup": "",
           "marker": {
            "color": "white",
            "opacity": 0.8,
            "symbol": "circle"
           },
           "mode": "markers",
           "name": "",
           "orientation": "v",
           "showlegend": false,
           "type": "scatter",
           "x": [
            0.005944018572230281
           ],
           "xaxis": "x",
           "y": [
            0.0053838596964239874
           ],
           "yaxis": "y"
          }
         ],
         "name": "2024-12-06"
        },
        {
         "data": [
          {
           "hovertemplate": "Date=2024-12-09<br>Relative Strength=%{x}<br>Momentum=%{y}<extra></extra>",
           "legendgroup": "",
           "marker": {
            "color": "white",
            "opacity": 0.8,
            "symbol": "circle"
           },
           "mode": "markers",
           "name": "",
           "orientation": "v",
           "showlegend": false,
           "type": "scatter",
           "x": [
            0.003075725033300625
           ],
           "xaxis": "x",
           "y": [
            -0.002868293538929656
           ],
           "yaxis": "y"
          }
         ],
         "name": "2024-12-09"
        },
        {
         "data": [
          {
           "hovertemplate": "Date=2024-12-10<br>Relative Strength=%{x}<br>Momentum=%{y}<extra></extra>",
           "legendgroup": "",
           "marker": {
            "color": "white",
            "opacity": 0.8,
            "symbol": "circle"
           },
           "mode": "markers",
           "name": "",
           "orientation": "v",
           "showlegend": false,
           "type": "scatter",
           "x": [
            0.005332261480887057
           ],
           "xaxis": "x",
           "y": [
            0.0022565364475864323
           ],
           "yaxis": "y"
          }
         ],
         "name": "2024-12-10"
        },
        {
         "data": [
          {
           "hovertemplate": "Date=2024-12-11<br>Relative Strength=%{x}<br>Momentum=%{y}<extra></extra>",
           "legendgroup": "",
           "marker": {
            "color": "white",
            "opacity": 0.8,
            "symbol": "circle"
           },
           "mode": "markers",
           "name": "",
           "orientation": "v",
           "showlegend": false,
           "type": "scatter",
           "x": [
            0.008755633571689458
           ],
           "xaxis": "x",
           "y": [
            0.0034233720908024012
           ],
           "yaxis": "y"
          }
         ],
         "name": "2024-12-11"
        },
        {
         "data": [
          {
           "hovertemplate": "Date=2024-12-12<br>Relative Strength=%{x}<br>Momentum=%{y}<extra></extra>",
           "legendgroup": "",
           "marker": {
            "color": "white",
            "opacity": 0.8,
            "symbol": "circle"
           },
           "mode": "markers",
           "name": "",
           "orientation": "v",
           "showlegend": false,
           "type": "scatter",
           "x": [
            0.006926594475498748
           ],
           "xaxis": "x",
           "y": [
            -0.00182903909619071
           ],
           "yaxis": "y"
          }
         ],
         "name": "2024-12-12"
        },
        {
         "data": [
          {
           "hovertemplate": "Date=2024-12-13<br>Relative Strength=%{x}<br>Momentum=%{y}<extra></extra>",
           "legendgroup": "",
           "marker": {
            "color": "white",
            "opacity": 0.8,
            "symbol": "circle"
           },
           "mode": "markers",
           "name": "",
           "orientation": "v",
           "showlegend": false,
           "type": "scatter",
           "x": [
            0.012072267834021455
           ],
           "xaxis": "x",
           "y": [
            0.005145673358522707
           ],
           "yaxis": "y"
          }
         ],
         "name": "2024-12-13"
        },
        {
         "data": [
          {
           "hovertemplate": "Date=2024-12-16<br>Relative Strength=%{x}<br>Momentum=%{y}<extra></extra>",
           "legendgroup": "",
           "marker": {
            "color": "white",
            "opacity": 0.8,
            "symbol": "circle"
           },
           "mode": "markers",
           "name": "",
           "orientation": "v",
           "showlegend": false,
           "type": "scatter",
           "x": [
            0.013363402372801314
           ],
           "xaxis": "x",
           "y": [
            0.0012911345387798586
           ],
           "yaxis": "y"
          }
         ],
         "name": "2024-12-16"
        },
        {
         "data": [
          {
           "hovertemplate": "Date=2024-12-17<br>Relative Strength=%{x}<br>Momentum=%{y}<extra></extra>",
           "legendgroup": "",
           "marker": {
            "color": "white",
            "opacity": 0.8,
            "symbol": "circle"
           },
           "mode": "markers",
           "name": "",
           "orientation": "v",
           "showlegend": false,
           "type": "scatter",
           "x": [
            0.013439455586699012
           ],
           "xaxis": "x",
           "y": [
            0.0000760532138976977
           ],
           "yaxis": "y"
          }
         ],
         "name": "2024-12-17"
        },
        {
         "data": [
          {
           "hovertemplate": "Date=2024-12-18<br>Relative Strength=%{x}<br>Momentum=%{y}<extra></extra>",
           "legendgroup": "",
           "marker": {
            "color": "white",
            "opacity": 0.8,
            "symbol": "circle"
           },
           "mode": "markers",
           "name": "",
           "orientation": "v",
           "showlegend": false,
           "type": "scatter",
           "x": [
            0.01344286260461023
           ],
           "xaxis": "x",
           "y": [
            0.0000034070179112180576
           ],
           "yaxis": "y"
          }
         ],
         "name": "2024-12-18"
        },
        {
         "data": [
          {
           "hovertemplate": "Date=2024-12-19<br>Relative Strength=%{x}<br>Momentum=%{y}<extra></extra>",
           "legendgroup": "",
           "marker": {
            "color": "white",
            "opacity": 0.8,
            "symbol": "circle"
           },
           "mode": "markers",
           "name": "",
           "orientation": "v",
           "showlegend": false,
           "type": "scatter",
           "x": [
            0.009867354832769636
           ],
           "xaxis": "x",
           "y": [
            -0.0035755077718405935
           ],
           "yaxis": "y"
          }
         ],
         "name": "2024-12-19"
        },
        {
         "data": [
          {
           "hovertemplate": "Date=2024-12-20<br>Relative Strength=%{x}<br>Momentum=%{y}<extra></extra>",
           "legendgroup": "",
           "marker": {
            "color": "white",
            "opacity": 0.8,
            "symbol": "circle"
           },
           "mode": "markers",
           "name": "",
           "orientation": "v",
           "showlegend": false,
           "type": "scatter",
           "x": [
            0.005555701062659147
           ],
           "xaxis": "x",
           "y": [
            -0.00431165377011049
           ],
           "yaxis": "y"
          }
         ],
         "name": "2024-12-20"
        },
        {
         "data": [
          {
           "hovertemplate": "Date=2024-12-23<br>Relative Strength=%{x}<br>Momentum=%{y}<extra></extra>",
           "legendgroup": "",
           "marker": {
            "color": "white",
            "opacity": 0.8,
            "symbol": "circle"
           },
           "mode": "markers",
           "name": "",
           "orientation": "v",
           "showlegend": false,
           "type": "scatter",
           "x": [
            0.006564394547663099
           ],
           "xaxis": "x",
           "y": [
            0.0010086934850039525
           ],
           "yaxis": "y"
          }
         ],
         "name": "2024-12-23"
        },
        {
         "data": [
          {
           "hovertemplate": "Date=2024-12-26<br>Relative Strength=%{x}<br>Momentum=%{y}<extra></extra>",
           "legendgroup": "",
           "marker": {
            "color": "white",
            "opacity": 0.8,
            "symbol": "circle"
           },
           "mode": "markers",
           "name": "",
           "orientation": "v",
           "showlegend": false,
           "type": "scatter",
           "x": [
            0.006770276514882767
           ],
           "xaxis": "x",
           "y": [
            0.00020588196721966785
           ],
           "yaxis": "y"
          }
         ],
         "name": "2024-12-26"
        },
        {
         "data": [
          {
           "hovertemplate": "Date=2024-12-27<br>Relative Strength=%{x}<br>Momentum=%{y}<extra></extra>",
           "legendgroup": "",
           "marker": {
            "color": "white",
            "opacity": 0.8,
            "symbol": "circle"
           },
           "mode": "markers",
           "name": "",
           "orientation": "v",
           "showlegend": false,
           "type": "scatter",
           "x": [
            0.005481541603845553
           ],
           "xaxis": "x",
           "y": [
            -0.0012887349110372141
           ],
           "yaxis": "y"
          }
         ],
         "name": "2024-12-27"
        },
        {
         "data": [
          {
           "hovertemplate": "Date=2024-12-30<br>Relative Strength=%{x}<br>Momentum=%{y}<extra></extra>",
           "legendgroup": "",
           "marker": {
            "color": "white",
            "opacity": 0.8,
            "symbol": "circle"
           },
           "mode": "markers",
           "name": "",
           "orientation": "v",
           "showlegend": false,
           "type": "scatter",
           "x": [
            0.007733494265730301
           ],
           "xaxis": "x",
           "y": [
            0.002251952661884748
           ],
           "yaxis": "y"
          }
         ],
         "name": "2024-12-30"
        },
        {
         "data": [
          {
           "hovertemplate": "Date=2025-01-02<br>Relative Strength=%{x}<br>Momentum=%{y}<extra></extra>",
           "legendgroup": "",
           "marker": {
            "color": "white",
            "opacity": 0.8,
            "symbol": "circle"
           },
           "mode": "markers",
           "name": "",
           "orientation": "v",
           "showlegend": false,
           "type": "scatter",
           "x": [
            0.003481428649899188
           ],
           "xaxis": "x",
           "y": [
            -0.004252065615831113
           ],
           "yaxis": "y"
          }
         ],
         "name": "2025-01-02"
        },
        {
         "data": [
          {
           "hovertemplate": "Date=2025-01-03<br>Relative Strength=%{x}<br>Momentum=%{y}<extra></extra>",
           "legendgroup": "",
           "marker": {
            "color": "white",
            "opacity": 0.8,
            "symbol": "circle"
           },
           "mode": "markers",
           "name": "",
           "orientation": "v",
           "showlegend": false,
           "type": "scatter",
           "x": [
            0.004398000020539805
           ],
           "xaxis": "x",
           "y": [
            0.0009165713706406173
           ],
           "yaxis": "y"
          }
         ],
         "name": "2025-01-03"
        },
        {
         "data": [
          {
           "hovertemplate": "Date=2025-01-06<br>Relative Strength=%{x}<br>Momentum=%{y}<extra></extra>",
           "legendgroup": "",
           "marker": {
            "color": "white",
            "opacity": 0.8,
            "symbol": "circle"
           },
           "mode": "markers",
           "name": "",
           "orientation": "v",
           "showlegend": false,
           "type": "scatter",
           "x": [
            0.004846541306138397
           ],
           "xaxis": "x",
           "y": [
            0.00044854128559859187
           ],
           "yaxis": "y"
          }
         ],
         "name": "2025-01-06"
        },
        {
         "data": [
          {
           "hovertemplate": "Date=2025-01-07<br>Relative Strength=%{x}<br>Momentum=%{y}<extra></extra>",
           "legendgroup": "",
           "marker": {
            "color": "white",
            "opacity": 0.8,
            "symbol": "circle"
           },
           "mode": "markers",
           "name": "",
           "orientation": "v",
           "showlegend": false,
           "type": "scatter",
           "x": [
            0.003247020750893459
           ],
           "xaxis": "x",
           "y": [
            -0.0015995205552449378
           ],
           "yaxis": "y"
          }
         ],
         "name": "2025-01-07"
        },
        {
         "data": [
          {
           "hovertemplate": "Date=2025-01-08<br>Relative Strength=%{x}<br>Momentum=%{y}<extra></extra>",
           "legendgroup": "",
           "marker": {
            "color": "white",
            "opacity": 0.8,
            "symbol": "circle"
           },
           "mode": "markers",
           "name": "",
           "orientation": "v",
           "showlegend": false,
           "type": "scatter",
           "x": [
            0.003848042517360928
           ],
           "xaxis": "x",
           "y": [
            0.0006010217664674687
           ],
           "yaxis": "y"
          }
         ],
         "name": "2025-01-08"
        },
        {
         "data": [
          {
           "hovertemplate": "Date=2025-01-09<br>Relative Strength=%{x}<br>Momentum=%{y}<extra></extra>",
           "legendgroup": "",
           "marker": {
            "color": "white",
            "opacity": 0.8,
            "symbol": "circle"
           },
           "mode": "markers",
           "name": "",
           "orientation": "v",
           "showlegend": false,
           "type": "scatter",
           "x": [
            0.0023626365029755236
           ],
           "xaxis": "x",
           "y": [
            -0.0014854060143854042
           ],
           "yaxis": "y"
          }
         ],
         "name": "2025-01-09"
        },
        {
         "data": [
          {
           "hovertemplate": "Date=2025-01-10<br>Relative Strength=%{x}<br>Momentum=%{y}<extra></extra>",
           "legendgroup": "",
           "marker": {
            "color": "white",
            "opacity": 0.8,
            "symbol": "circle"
           },
           "mode": "markers",
           "name": "",
           "orientation": "v",
           "showlegend": false,
           "type": "scatter",
           "x": [
            0.0013294124566690657
           ],
           "xaxis": "x",
           "y": [
            -0.001033224046306458
           ],
           "yaxis": "y"
          }
         ],
         "name": "2025-01-10"
        },
        {
         "data": [
          {
           "hovertemplate": "Date=2025-01-13<br>Relative Strength=%{x}<br>Momentum=%{y}<extra></extra>",
           "legendgroup": "",
           "marker": {
            "color": "white",
            "opacity": 0.8,
            "symbol": "circle"
           },
           "mode": "markers",
           "name": "",
           "orientation": "v",
           "showlegend": false,
           "type": "scatter",
           "x": [
            -0.0003470763041356626
           ],
           "xaxis": "x",
           "y": [
            -0.0016764887608047283
           ],
           "yaxis": "y"
          }
         ],
         "name": "2025-01-13"
        },
        {
         "data": [
          {
           "hovertemplate": "Date=2025-01-14<br>Relative Strength=%{x}<br>Momentum=%{y}<extra></extra>",
           "legendgroup": "",
           "marker": {
            "color": "white",
            "opacity": 0.8,
            "symbol": "circle"
           },
           "mode": "markers",
           "name": "",
           "orientation": "v",
           "showlegend": false,
           "type": "scatter",
           "x": [
            -0.0020694390580533236
           ],
           "xaxis": "x",
           "y": [
            -0.001722362753917661
           ],
           "yaxis": "y"
          }
         ],
         "name": "2025-01-14"
        },
        {
         "data": [
          {
           "hovertemplate": "Date=2025-01-15<br>Relative Strength=%{x}<br>Momentum=%{y}<extra></extra>",
           "legendgroup": "",
           "marker": {
            "color": "white",
            "opacity": 0.8,
            "symbol": "circle"
           },
           "mode": "markers",
           "name": "",
           "orientation": "v",
           "showlegend": false,
           "type": "scatter",
           "x": [
            -0.0035443245616448406
           ],
           "xaxis": "x",
           "y": [
            -0.001474885503591517
           ],
           "yaxis": "y"
          }
         ],
         "name": "2025-01-15"
        },
        {
         "data": [
          {
           "hovertemplate": "Date=2025-01-16<br>Relative Strength=%{x}<br>Momentum=%{y}<extra></extra>",
           "legendgroup": "",
           "marker": {
            "color": "white",
            "opacity": 0.8,
            "symbol": "circle"
           },
           "mode": "markers",
           "name": "",
           "orientation": "v",
           "showlegend": false,
           "type": "scatter",
           "x": [
            0.0004766364053724215
           ],
           "xaxis": "x",
           "y": [
            0.004020960967017262
           ],
           "yaxis": "y"
          }
         ],
         "name": "2025-01-16"
        },
        {
         "data": [
          {
           "hovertemplate": "Date=2025-01-17<br>Relative Strength=%{x}<br>Momentum=%{y}<extra></extra>",
           "legendgroup": "",
           "marker": {
            "color": "white",
            "opacity": 0.8,
            "symbol": "circle"
           },
           "mode": "markers",
           "name": "",
           "orientation": "v",
           "showlegend": false,
           "type": "scatter",
           "x": [
            -0.0013408698629194362
           ],
           "xaxis": "x",
           "y": [
            -0.0018175062682918577
           ],
           "yaxis": "y"
          }
         ],
         "name": "2025-01-17"
        },
        {
         "data": [
          {
           "hovertemplate": "Date=2025-01-20<br>Relative Strength=%{x}<br>Momentum=%{y}<extra></extra>",
           "legendgroup": "",
           "marker": {
            "color": "white",
            "opacity": 0.8,
            "symbol": "circle"
           },
           "mode": "markers",
           "name": "",
           "orientation": "v",
           "showlegend": false,
           "type": "scatter",
           "x": [
            -0.0014161001471893586
           ],
           "xaxis": "x",
           "y": [
            -0.0000752302842699224
           ],
           "yaxis": "y"
          }
         ],
         "name": "2025-01-20"
        },
        {
         "data": [
          {
           "hovertemplate": "Date=2025-01-21<br>Relative Strength=%{x}<br>Momentum=%{y}<extra></extra>",
           "legendgroup": "",
           "marker": {
            "color": "white",
            "opacity": 0.8,
            "symbol": "circle"
           },
           "mode": "markers",
           "name": "",
           "orientation": "v",
           "showlegend": false,
           "type": "scatter",
           "x": [
            -0.0030934451890038185
           ],
           "xaxis": "x",
           "y": [
            -0.0016773450418144599
           ],
           "yaxis": "y"
          }
         ],
         "name": "2025-01-21"
        },
        {
         "data": [
          {
           "hovertemplate": "Date=2025-01-22<br>Relative Strength=%{x}<br>Momentum=%{y}<extra></extra>",
           "legendgroup": "",
           "marker": {
            "color": "white",
            "opacity": 0.8,
            "symbol": "circle"
           },
           "mode": "markers",
           "name": "",
           "orientation": "v",
           "showlegend": false,
           "type": "scatter",
           "x": [
            -0.0043835396203787845
           ],
           "xaxis": "x",
           "y": [
            -0.001290094431374966
           ],
           "yaxis": "y"
          }
         ],
         "name": "2025-01-22"
        },
        {
         "data": [
          {
           "hovertemplate": "Date=2025-01-23<br>Relative Strength=%{x}<br>Momentum=%{y}<extra></extra>",
           "legendgroup": "",
           "marker": {
            "color": "white",
            "opacity": 0.8,
            "symbol": "circle"
           },
           "mode": "markers",
           "name": "",
           "orientation": "v",
           "showlegend": false,
           "type": "scatter",
           "x": [
            -0.00484968984808456
           ],
           "xaxis": "x",
           "y": [
            -0.0004661502277057755
           ],
           "yaxis": "y"
          }
         ],
         "name": "2025-01-23"
        },
        {
         "data": [
          {
           "hovertemplate": "Date=2025-01-24<br>Relative Strength=%{x}<br>Momentum=%{y}<extra></extra>",
           "legendgroup": "",
           "marker": {
            "color": "white",
            "opacity": 0.8,
            "symbol": "circle"
           },
           "mode": "markers",
           "name": "",
           "orientation": "v",
           "showlegend": false,
           "type": "scatter",
           "x": [
            -0.0009513148222485388
           ],
           "xaxis": "x",
           "y": [
            0.003898375025836021
           ],
           "yaxis": "y"
          }
         ],
         "name": "2025-01-24"
        },
        {
         "data": [
          {
           "hovertemplate": "Date=2025-01-27<br>Relative Strength=%{x}<br>Momentum=%{y}<extra></extra>",
           "legendgroup": "",
           "marker": {
            "color": "white",
            "opacity": 0.8,
            "symbol": "circle"
           },
           "mode": "markers",
           "name": "",
           "orientation": "v",
           "showlegend": false,
           "type": "scatter",
           "x": [
            -0.0019666753114328086
           ],
           "xaxis": "x",
           "y": [
            -0.0010153604891842698
           ],
           "yaxis": "y"
          }
         ],
         "name": "2025-01-27"
        },
        {
         "data": [
          {
           "hovertemplate": "Date=2025-01-28<br>Relative Strength=%{x}<br>Momentum=%{y}<extra></extra>",
           "legendgroup": "",
           "marker": {
            "color": "white",
            "opacity": 0.8,
            "symbol": "circle"
           },
           "mode": "markers",
           "name": "",
           "orientation": "v",
           "showlegend": false,
           "type": "scatter",
           "x": [
            -0.003306176707998221
           ],
           "xaxis": "x",
           "y": [
            -0.0013395013965654123
           ],
           "yaxis": "y"
          }
         ],
         "name": "2025-01-28"
        },
        {
         "data": [
          {
           "hovertemplate": "Date=2025-01-29<br>Relative Strength=%{x}<br>Momentum=%{y}<extra></extra>",
           "legendgroup": "",
           "marker": {
            "color": "white",
            "opacity": 0.8,
            "symbol": "circle"
           },
           "mode": "markers",
           "name": "",
           "orientation": "v",
           "showlegend": false,
           "type": "scatter",
           "x": [
            -0.004427782110482237
           ],
           "xaxis": "x",
           "y": [
            -0.001121605402484016
           ],
           "yaxis": "y"
          }
         ],
         "name": "2025-01-29"
        },
        {
         "data": [
          {
           "hovertemplate": "Date=2025-01-30<br>Relative Strength=%{x}<br>Momentum=%{y}<extra></extra>",
           "legendgroup": "",
           "marker": {
            "color": "white",
            "opacity": 0.8,
            "symbol": "circle"
           },
           "mode": "markers",
           "name": "",
           "orientation": "v",
           "showlegend": false,
           "type": "scatter",
           "x": [
            -0.004673405235565487
           ],
           "xaxis": "x",
           "y": [
            -0.0002456231250832497
           ],
           "yaxis": "y"
          }
         ],
         "name": "2025-01-30"
        },
        {
         "data": [
          {
           "hovertemplate": "Date=2025-01-31<br>Relative Strength=%{x}<br>Momentum=%{y}<extra></extra>",
           "legendgroup": "",
           "marker": {
            "color": "white",
            "opacity": 0.8,
            "symbol": "circle"
           },
           "mode": "markers",
           "name": "",
           "orientation": "v",
           "showlegend": false,
           "type": "scatter",
           "x": [
            -0.004602118636767583
           ],
           "xaxis": "x",
           "y": [
            0.00007128659879790389
           ],
           "yaxis": "y"
          }
         ],
         "name": "2025-01-31"
        },
        {
         "data": [
          {
           "hovertemplate": "Date=2025-02-03<br>Relative Strength=%{x}<br>Momentum=%{y}<extra></extra>",
           "legendgroup": "",
           "marker": {
            "color": "white",
            "opacity": 0.8,
            "symbol": "circle"
           },
           "mode": "markers",
           "name": "",
           "orientation": "v",
           "showlegend": false,
           "type": "scatter",
           "x": [
            -0.005058826331911792
           ],
           "xaxis": "x",
           "y": [
            -0.00045670769514420933
           ],
           "yaxis": "y"
          }
         ],
         "name": "2025-02-03"
        },
        {
         "data": [
          {
           "hovertemplate": "Date=2025-02-04<br>Relative Strength=%{x}<br>Momentum=%{y}<extra></extra>",
           "legendgroup": "",
           "marker": {
            "color": "white",
            "opacity": 0.8,
            "symbol": "circle"
           },
           "mode": "markers",
           "name": "",
           "orientation": "v",
           "showlegend": false,
           "type": "scatter",
           "x": [
            -0.0028440911099757993
           ],
           "xaxis": "x",
           "y": [
            0.002214735221935993
           ],
           "yaxis": "y"
          }
         ],
         "name": "2025-02-04"
        },
        {
         "data": [
          {
           "hovertemplate": "Date=2025-02-05<br>Relative Strength=%{x}<br>Momentum=%{y}<extra></extra>",
           "legendgroup": "",
           "marker": {
            "color": "white",
            "opacity": 0.8,
            "symbol": "circle"
           },
           "mode": "markers",
           "name": "",
           "orientation": "v",
           "showlegend": false,
           "type": "scatter",
           "x": [
            -0.0051910244446326526
           ],
           "xaxis": "x",
           "y": [
            -0.0023469333346568533
           ],
           "yaxis": "y"
          }
         ],
         "name": "2025-02-05"
        },
        {
         "data": [
          {
           "hovertemplate": "Date=2025-02-06<br>Relative Strength=%{x}<br>Momentum=%{y}<extra></extra>",
           "legendgroup": "",
           "marker": {
            "color": "white",
            "opacity": 0.8,
            "symbol": "circle"
           },
           "mode": "markers",
           "name": "",
           "orientation": "v",
           "showlegend": false,
           "type": "scatter",
           "x": [
            -0.0031489287991321225
           ],
           "xaxis": "x",
           "y": [
            0.00204209564550053
           ],
           "yaxis": "y"
          }
         ],
         "name": "2025-02-06"
        },
        {
         "data": [
          {
           "hovertemplate": "Date=2025-02-07<br>Relative Strength=%{x}<br>Momentum=%{y}<extra></extra>",
           "legendgroup": "",
           "marker": {
            "color": "white",
            "opacity": 0.8,
            "symbol": "circle"
           },
           "mode": "markers",
           "name": "",
           "orientation": "v",
           "showlegend": false,
           "type": "scatter",
           "x": [
            -0.006602434468190754
           ],
           "xaxis": "x",
           "y": [
            -0.003453505669058632
           ],
           "yaxis": "y"
          }
         ],
         "name": "2025-02-07"
        },
        {
         "data": [
          {
           "hovertemplate": "Date=2025-02-10<br>Relative Strength=%{x}<br>Momentum=%{y}<extra></extra>",
           "legendgroup": "",
           "marker": {
            "color": "white",
            "opacity": 0.8,
            "symbol": "circle"
           },
           "mode": "markers",
           "name": "",
           "orientation": "v",
           "showlegend": false,
           "type": "scatter",
           "x": [
            -0.005062533871987695
           ],
           "xaxis": "x",
           "y": [
            0.0015399005962030594
           ],
           "yaxis": "y"
          }
         ],
         "name": "2025-02-10"
        },
        {
         "data": [
          {
           "hovertemplate": "Date=2025-02-11<br>Relative Strength=%{x}<br>Momentum=%{y}<extra></extra>",
           "legendgroup": "",
           "marker": {
            "color": "white",
            "opacity": 0.8,
            "symbol": "circle"
           },
           "mode": "markers",
           "name": "",
           "orientation": "v",
           "showlegend": false,
           "type": "scatter",
           "x": [
            -0.0023742971238602363
           ],
           "xaxis": "x",
           "y": [
            0.0026882367481274585
           ],
           "yaxis": "y"
          }
         ],
         "name": "2025-02-11"
        },
        {
         "data": [
          {
           "hovertemplate": "Date=2025-02-12<br>Relative Strength=%{x}<br>Momentum=%{y}<extra></extra>",
           "legendgroup": "",
           "marker": {
            "color": "white",
            "opacity": 0.8,
            "symbol": "circle"
           },
           "mode": "markers",
           "name": "",
           "orientation": "v",
           "showlegend": false,
           "type": "scatter",
           "x": [
            -0.004014951813477496
           ],
           "xaxis": "x",
           "y": [
            -0.00164065468961726
           ],
           "yaxis": "y"
          }
         ],
         "name": "2025-02-12"
        },
        {
         "data": [
          {
           "hovertemplate": "Date=2025-02-13<br>Relative Strength=%{x}<br>Momentum=%{y}<extra></extra>",
           "legendgroup": "",
           "marker": {
            "color": "white",
            "opacity": 0.8,
            "symbol": "circle"
           },
           "mode": "markers",
           "name": "",
           "orientation": "v",
           "showlegend": false,
           "type": "scatter",
           "x": [
            -0.004241629459332274
           ],
           "xaxis": "x",
           "y": [
            -0.00022667764585477743
           ],
           "yaxis": "y"
          }
         ],
         "name": "2025-02-13"
        },
        {
         "data": [
          {
           "hovertemplate": "Date=2025-02-14<br>Relative Strength=%{x}<br>Momentum=%{y}<extra></extra>",
           "legendgroup": "",
           "marker": {
            "color": "white",
            "opacity": 0.8,
            "symbol": "circle"
           },
           "mode": "markers",
           "name": "",
           "orientation": "v",
           "showlegend": false,
           "type": "scatter",
           "x": [
            -0.001839520817777529
           ],
           "xaxis": "x",
           "y": [
            0.002402108641554745
           ],
           "yaxis": "y"
          }
         ],
         "name": "2025-02-14"
        },
        {
         "data": [
          {
           "hovertemplate": "Date=2025-02-17<br>Relative Strength=%{x}<br>Momentum=%{y}<extra></extra>",
           "legendgroup": "",
           "marker": {
            "color": "white",
            "opacity": 0.8,
            "symbol": "circle"
           },
           "mode": "markers",
           "name": "",
           "orientation": "v",
           "showlegend": false,
           "type": "scatter",
           "x": [
            -0.0019160109481144104
           ],
           "xaxis": "x",
           "y": [
            -0.0000764901303368815
           ],
           "yaxis": "y"
          }
         ],
         "name": "2025-02-17"
        },
        {
         "data": [
          {
           "hovertemplate": "Date=2025-02-18<br>Relative Strength=%{x}<br>Momentum=%{y}<extra></extra>",
           "legendgroup": "",
           "marker": {
            "color": "white",
            "opacity": 0.8,
            "symbol": "circle"
           },
           "mode": "markers",
           "name": "",
           "orientation": "v",
           "showlegend": false,
           "type": "scatter",
           "x": [
            -0.003292159698443409
           ],
           "xaxis": "x",
           "y": [
            -0.0013761487503289984
           ],
           "yaxis": "y"
          }
         ],
         "name": "2025-02-18"
        },
        {
         "data": [
          {
           "hovertemplate": "Date=2025-02-19<br>Relative Strength=%{x}<br>Momentum=%{y}<extra></extra>",
           "legendgroup": "",
           "marker": {
            "color": "white",
            "opacity": 0.8,
            "symbol": "circle"
           },
           "mode": "markers",
           "name": "",
           "orientation": "v",
           "showlegend": false,
           "type": "scatter",
           "x": [
            -0.0004277194757680068
           ],
           "xaxis": "x",
           "y": [
            0.0028644402226754018
           ],
           "yaxis": "y"
          }
         ],
         "name": "2025-02-19"
        },
        {
         "data": [
          {
           "hovertemplate": "Date=2025-02-20<br>Relative Strength=%{x}<br>Momentum=%{y}<extra></extra>",
           "legendgroup": "",
           "marker": {
            "color": "white",
            "opacity": 0.8,
            "symbol": "circle"
           },
           "mode": "markers",
           "name": "",
           "orientation": "v",
           "showlegend": false,
           "type": "scatter",
           "x": [
            -0.00025585587983987233
           ],
           "xaxis": "x",
           "y": [
            0.0001718635959281345
           ],
           "yaxis": "y"
          }
         ],
         "name": "2025-02-20"
        },
        {
         "data": [
          {
           "hovertemplate": "Date=2025-02-21<br>Relative Strength=%{x}<br>Momentum=%{y}<extra></extra>",
           "legendgroup": "",
           "marker": {
            "color": "white",
            "opacity": 0.8,
            "symbol": "circle"
           },
           "mode": "markers",
           "name": "",
           "orientation": "v",
           "showlegend": false,
           "type": "scatter",
           "x": [
            -0.0008131340782172704
           ],
           "xaxis": "x",
           "y": [
            -0.0005572781983773981
           ],
           "yaxis": "y"
          }
         ],
         "name": "2025-02-21"
        },
        {
         "data": [
          {
           "hovertemplate": "Date=2025-02-24<br>Relative Strength=%{x}<br>Momentum=%{y}<extra></extra>",
           "legendgroup": "",
           "marker": {
            "color": "white",
            "opacity": 0.8,
            "symbol": "circle"
           },
           "mode": "markers",
           "name": "",
           "orientation": "v",
           "showlegend": false,
           "type": "scatter",
           "x": [
            -0.00037897007760300254
           ],
           "xaxis": "x",
           "y": [
            0.00043416400061426787
           ],
           "yaxis": "y"
          }
         ],
         "name": "2025-02-24"
        },
        {
         "data": [
          {
           "hovertemplate": "Date=2025-02-25<br>Relative Strength=%{x}<br>Momentum=%{y}<extra></extra>",
           "legendgroup": "",
           "marker": {
            "color": "white",
            "opacity": 0.8,
            "symbol": "circle"
           },
           "mode": "markers",
           "name": "",
           "orientation": "v",
           "showlegend": false,
           "type": "scatter",
           "x": [
            -0.0015681210381651822
           ],
           "xaxis": "x",
           "y": [
            -0.0011891509605621796
           ],
           "yaxis": "y"
          }
         ],
         "name": "2025-02-25"
        },
        {
         "data": [
          {
           "hovertemplate": "Date=2025-02-26<br>Relative Strength=%{x}<br>Momentum=%{y}<extra></extra>",
           "legendgroup": "",
           "marker": {
            "color": "white",
            "opacity": 0.8,
            "symbol": "circle"
           },
           "mode": "markers",
           "name": "",
           "orientation": "v",
           "showlegend": false,
           "type": "scatter",
           "x": [
            0.0006728360756148132
           ],
           "xaxis": "x",
           "y": [
            0.0022409571137799954
           ],
           "yaxis": "y"
          }
         ],
         "name": "2025-02-26"
        },
        {
         "data": [
          {
           "hovertemplate": "Date=2025-02-27<br>Relative Strength=%{x}<br>Momentum=%{y}<extra></extra>",
           "legendgroup": "",
           "marker": {
            "color": "white",
            "opacity": 0.8,
            "symbol": "circle"
           },
           "mode": "markers",
           "name": "",
           "orientation": "v",
           "showlegend": false,
           "type": "scatter",
           "x": [
            0.000013268052392068076
           ],
           "xaxis": "x",
           "y": [
            -0.0006595680232227451
           ],
           "yaxis": "y"
          }
         ],
         "name": "2025-02-27"
        },
        {
         "data": [
          {
           "hovertemplate": "Date=2025-02-28<br>Relative Strength=%{x}<br>Momentum=%{y}<extra></extra>",
           "legendgroup": "",
           "marker": {
            "color": "white",
            "opacity": 0.8,
            "symbol": "circle"
           },
           "mode": "markers",
           "name": "",
           "orientation": "v",
           "showlegend": false,
           "type": "scatter",
           "x": [
            0.0008742945213858432
           ],
           "xaxis": "x",
           "y": [
            0.0008610264689937751
           ],
           "yaxis": "y"
          }
         ],
         "name": "2025-02-28"
        },
        {
         "data": [
          {
           "hovertemplate": "Date=2025-03-05<br>Relative Strength=%{x}<br>Momentum=%{y}<extra></extra>",
           "legendgroup": "",
           "marker": {
            "color": "white",
            "opacity": 0.8,
            "symbol": "circle"
           },
           "mode": "markers",
           "name": "",
           "orientation": "v",
           "showlegend": false,
           "type": "scatter",
           "x": [
            0.0014219983664512385
           ],
           "xaxis": "x",
           "y": [
            0.0005477038450653953
           ],
           "yaxis": "y"
          }
         ],
         "name": "2025-03-05"
        },
        {
         "data": [
          {
           "hovertemplate": "Date=2025-03-06<br>Relative Strength=%{x}<br>Momentum=%{y}<extra></extra>",
           "legendgroup": "",
           "marker": {
            "color": "white",
            "opacity": 0.8,
            "symbol": "circle"
           },
           "mode": "markers",
           "name": "",
           "orientation": "v",
           "showlegend": false,
           "type": "scatter",
           "x": [
            0.003580046905095746
           ],
           "xaxis": "x",
           "y": [
            0.0021580485386445076
           ],
           "yaxis": "y"
          }
         ],
         "name": "2025-03-06"
        },
        {
         "data": [
          {
           "hovertemplate": "Date=2025-03-07<br>Relative Strength=%{x}<br>Momentum=%{y}<extra></extra>",
           "legendgroup": "",
           "marker": {
            "color": "white",
            "opacity": 0.8,
            "symbol": "circle"
           },
           "mode": "markers",
           "name": "",
           "orientation": "v",
           "showlegend": false,
           "type": "scatter",
           "x": [
            0.0028924769442307593
           ],
           "xaxis": "x",
           "y": [
            -0.0006875699608649868
           ],
           "yaxis": "y"
          }
         ],
         "name": "2025-03-07"
        },
        {
         "data": [
          {
           "hovertemplate": "Date=2025-03-10<br>Relative Strength=%{x}<br>Momentum=%{y}<extra></extra>",
           "legendgroup": "",
           "marker": {
            "color": "white",
            "opacity": 0.8,
            "symbol": "circle"
           },
           "mode": "markers",
           "name": "",
           "orientation": "v",
           "showlegend": false,
           "type": "scatter",
           "x": [
            0.0029647576831351
           ],
           "xaxis": "x",
           "y": [
            0.00007228073890434058
           ],
           "yaxis": "y"
          }
         ],
         "name": "2025-03-10"
        },
        {
         "data": [
          {
           "hovertemplate": "Date=2025-03-11<br>Relative Strength=%{x}<br>Momentum=%{y}<extra></extra>",
           "legendgroup": "",
           "marker": {
            "color": "white",
            "opacity": 0.8,
            "symbol": "circle"
           },
           "mode": "markers",
           "name": "",
           "orientation": "v",
           "showlegend": false,
           "type": "scatter",
           "x": [
            0.00252364131585765
           ],
           "xaxis": "x",
           "y": [
            -0.00044111636727744985
           ],
           "yaxis": "y"
          }
         ],
         "name": "2025-03-11"
        },
        {
         "data": [
          {
           "hovertemplate": "Date=2025-03-12<br>Relative Strength=%{x}<br>Momentum=%{y}<extra></extra>",
           "legendgroup": "",
           "marker": {
            "color": "white",
            "opacity": 0.8,
            "symbol": "circle"
           },
           "mode": "markers",
           "name": "",
           "orientation": "v",
           "showlegend": false,
           "type": "scatter",
           "x": [
            0.0015952413576007405
           ],
           "xaxis": "x",
           "y": [
            -0.0009283999582569095
           ],
           "yaxis": "y"
          }
         ],
         "name": "2025-03-12"
        },
        {
         "data": [
          {
           "hovertemplate": "Date=2025-03-13<br>Relative Strength=%{x}<br>Momentum=%{y}<extra></extra>",
           "legendgroup": "",
           "marker": {
            "color": "white",
            "opacity": 0.8,
            "symbol": "circle"
           },
           "mode": "markers",
           "name": "",
           "orientation": "v",
           "showlegend": false,
           "type": "scatter",
           "x": [
            0.001249347874212914
           ],
           "xaxis": "x",
           "y": [
            -0.0003458934833878266
           ],
           "yaxis": "y"
          }
         ],
         "name": "2025-03-13"
        },
        {
         "data": [
          {
           "hovertemplate": "Date=2025-03-14<br>Relative Strength=%{x}<br>Momentum=%{y}<extra></extra>",
           "legendgroup": "",
           "marker": {
            "color": "white",
            "opacity": 0.8,
            "symbol": "circle"
           },
           "mode": "markers",
           "name": "",
           "orientation": "v",
           "showlegend": false,
           "type": "scatter",
           "x": [
            -0.0006858557686027942
           ],
           "xaxis": "x",
           "y": [
            -0.0019352036428157081
           ],
           "yaxis": "y"
          }
         ],
         "name": "2025-03-14"
        },
        {
         "data": [
          {
           "hovertemplate": "Date=2025-03-17<br>Relative Strength=%{x}<br>Momentum=%{y}<extra></extra>",
           "legendgroup": "",
           "marker": {
            "color": "white",
            "opacity": 0.8,
            "symbol": "circle"
           },
           "mode": "markers",
           "name": "",
           "orientation": "v",
           "showlegend": false,
           "type": "scatter",
           "x": [
            0.000010986170136817117
           ],
           "xaxis": "x",
           "y": [
            0.0006968419387396113
           ],
           "yaxis": "y"
          }
         ],
         "name": "2025-03-17"
        },
        {
         "data": [
          {
           "hovertemplate": "Date=2025-03-18<br>Relative Strength=%{x}<br>Momentum=%{y}<extra></extra>",
           "legendgroup": "",
           "marker": {
            "color": "white",
            "opacity": 0.8,
            "symbol": "circle"
           },
           "mode": "markers",
           "name": "",
           "orientation": "v",
           "showlegend": false,
           "type": "scatter",
           "x": [
            -0.008917148557842458
           ],
           "xaxis": "x",
           "y": [
            -0.008928134727979275
           ],
           "yaxis": "y"
          }
         ],
         "name": "2025-03-18"
        },
        {
         "data": [
          {
           "hovertemplate": "Date=2025-03-19<br>Relative Strength=%{x}<br>Momentum=%{y}<extra></extra>",
           "legendgroup": "",
           "marker": {
            "color": "white",
            "opacity": 0.8,
            "symbol": "circle"
           },
           "mode": "markers",
           "name": "",
           "orientation": "v",
           "showlegend": false,
           "type": "scatter",
           "x": [
            -0.010439439424913922
           ],
           "xaxis": "x",
           "y": [
            -0.001522290867071464
           ],
           "yaxis": "y"
          }
         ],
         "name": "2025-03-19"
        },
        {
         "data": [
          {
           "hovertemplate": "Date=2025-03-20<br>Relative Strength=%{x}<br>Momentum=%{y}<extra></extra>",
           "legendgroup": "",
           "marker": {
            "color": "white",
            "opacity": 0.8,
            "symbol": "circle"
           },
           "mode": "markers",
           "name": "",
           "orientation": "v",
           "showlegend": false,
           "type": "scatter",
           "x": [
            -0.014575501066677876
           ],
           "xaxis": "x",
           "y": [
            -0.004136061641763954
           ],
           "yaxis": "y"
          }
         ],
         "name": "2025-03-20"
        },
        {
         "data": [
          {
           "hovertemplate": "Date=2025-03-21<br>Relative Strength=%{x}<br>Momentum=%{y}<extra></extra>",
           "legendgroup": "",
           "marker": {
            "color": "white",
            "opacity": 0.8,
            "symbol": "circle"
           },
           "mode": "markers",
           "name": "",
           "orientation": "v",
           "showlegend": false,
           "type": "scatter",
           "x": [
            -0.01838894771880125
           ],
           "xaxis": "x",
           "y": [
            -0.0038134466521233742
           ],
           "yaxis": "y"
          }
         ],
         "name": "2025-03-21"
        },
        {
         "data": [
          {
           "hovertemplate": "Date=2025-03-24<br>Relative Strength=%{x}<br>Momentum=%{y}<extra></extra>",
           "legendgroup": "",
           "marker": {
            "color": "white",
            "opacity": 0.8,
            "symbol": "circle"
           },
           "mode": "markers",
           "name": "",
           "orientation": "v",
           "showlegend": false,
           "type": "scatter",
           "x": [
            -0.021818143690239367
           ],
           "xaxis": "x",
           "y": [
            -0.003429195971438117
           ],
           "yaxis": "y"
          }
         ],
         "name": "2025-03-24"
        },
        {
         "data": [
          {
           "hovertemplate": "Date=2025-03-25<br>Relative Strength=%{x}<br>Momentum=%{y}<extra></extra>",
           "legendgroup": "",
           "marker": {
            "color": "white",
            "opacity": 0.8,
            "symbol": "circle"
           },
           "mode": "markers",
           "name": "",
           "orientation": "v",
           "showlegend": false,
           "type": "scatter",
           "x": [
            -0.018816233073609114
           ],
           "xaxis": "x",
           "y": [
            0.003001910616630254
           ],
           "yaxis": "y"
          }
         ],
         "name": "2025-03-25"
        },
        {
         "data": [
          {
           "hovertemplate": "Date=2025-03-26<br>Relative Strength=%{x}<br>Momentum=%{y}<extra></extra>",
           "legendgroup": "",
           "marker": {
            "color": "white",
            "opacity": 0.8,
            "symbol": "circle"
           },
           "mode": "markers",
           "name": "",
           "orientation": "v",
           "showlegend": false,
           "type": "scatter",
           "x": [
            -0.02124157505314781
           ],
           "xaxis": "x",
           "y": [
            -0.0024253419795386977
           ],
           "yaxis": "y"
          }
         ],
         "name": "2025-03-26"
        },
        {
         "data": [
          {
           "hovertemplate": "Date=2025-03-27<br>Relative Strength=%{x}<br>Momentum=%{y}<extra></extra>",
           "legendgroup": "",
           "marker": {
            "color": "white",
            "opacity": 0.8,
            "symbol": "circle"
           },
           "mode": "markers",
           "name": "",
           "orientation": "v",
           "showlegend": false,
           "type": "scatter",
           "x": [
            -0.020240090402279698
           ],
           "xaxis": "x",
           "y": [
            0.0010014846508681133
           ],
           "yaxis": "y"
          }
         ],
         "name": "2025-03-27"
        },
        {
         "data": [
          {
           "hovertemplate": "Date=2025-03-28<br>Relative Strength=%{x}<br>Momentum=%{y}<extra></extra>",
           "legendgroup": "",
           "marker": {
            "color": "white",
            "opacity": 0.8,
            "symbol": "circle"
           },
           "mode": "markers",
           "name": "",
           "orientation": "v",
           "showlegend": false,
           "type": "scatter",
           "x": [
            -0.018765133864295822
           ],
           "xaxis": "x",
           "y": [
            0.0014749565379838757
           ],
           "yaxis": "y"
          }
         ],
         "name": "2025-03-28"
        },
        {
         "data": [
          {
           "hovertemplate": "Date=2025-03-31<br>Relative Strength=%{x}<br>Momentum=%{y}<extra></extra>",
           "legendgroup": "",
           "marker": {
            "color": "white",
            "opacity": 0.8,
            "symbol": "circle"
           },
           "mode": "markers",
           "name": "",
           "orientation": "v",
           "showlegend": false,
           "type": "scatter",
           "x": [
            -0.016360097158528153
           ],
           "xaxis": "x",
           "y": [
            0.0024050367057676693
           ],
           "yaxis": "y"
          }
         ],
         "name": "2025-03-31"
        },
        {
         "data": [
          {
           "hovertemplate": "Date=2025-04-01<br>Relative Strength=%{x}<br>Momentum=%{y}<extra></extra>",
           "legendgroup": "",
           "marker": {
            "color": "white",
            "opacity": 0.8,
            "symbol": "circle"
           },
           "mode": "markers",
           "name": "",
           "orientation": "v",
           "showlegend": false,
           "type": "scatter",
           "x": [
            -0.010778869659177315
           ],
           "xaxis": "x",
           "y": [
            0.005581227499350838
           ],
           "yaxis": "y"
          }
         ],
         "name": "2025-04-01"
        },
        {
         "data": [
          {
           "hovertemplate": "Date=2025-04-02<br>Relative Strength=%{x}<br>Momentum=%{y}<extra></extra>",
           "legendgroup": "",
           "marker": {
            "color": "white",
            "opacity": 0.8,
            "symbol": "circle"
           },
           "mode": "markers",
           "name": "",
           "orientation": "v",
           "showlegend": false,
           "type": "scatter",
           "x": [
            -0.009218887869864856
           ],
           "xaxis": "x",
           "y": [
            0.0015599817893124594
           ],
           "yaxis": "y"
          }
         ],
         "name": "2025-04-02"
        },
        {
         "data": [
          {
           "hovertemplate": "Date=2025-04-03<br>Relative Strength=%{x}<br>Momentum=%{y}<extra></extra>",
           "legendgroup": "",
           "marker": {
            "color": "white",
            "opacity": 0.8,
            "symbol": "circle"
           },
           "mode": "markers",
           "name": "",
           "orientation": "v",
           "showlegend": false,
           "type": "scatter",
           "x": [
            -0.0060232896346243845
           ],
           "xaxis": "x",
           "y": [
            0.003195598235240471
           ],
           "yaxis": "y"
          }
         ],
         "name": "2025-04-03"
        },
        {
         "data": [
          {
           "hovertemplate": "Date=2025-04-04<br>Relative Strength=%{x}<br>Momentum=%{y}<extra></extra>",
           "legendgroup": "",
           "marker": {
            "color": "white",
            "opacity": 0.8,
            "symbol": "circle"
           },
           "mode": "markers",
           "name": "",
           "orientation": "v",
           "showlegend": false,
           "type": "scatter",
           "x": [
            -0.002599648764816698
           ],
           "xaxis": "x",
           "y": [
            0.0034236408698076867
           ],
           "yaxis": "y"
          }
         ],
         "name": "2025-04-04"
        },
        {
         "data": [
          {
           "hovertemplate": "Date=2025-04-07<br>Relative Strength=%{x}<br>Momentum=%{y}<extra></extra>",
           "legendgroup": "",
           "marker": {
            "color": "white",
            "opacity": 0.8,
            "symbol": "circle"
           },
           "mode": "markers",
           "name": "",
           "orientation": "v",
           "showlegend": false,
           "type": "scatter",
           "x": [
            0.0020806773112453493
           ],
           "xaxis": "x",
           "y": [
            0.0046803260760620476
           ],
           "yaxis": "y"
          }
         ],
         "name": "2025-04-07"
        },
        {
         "data": [
          {
           "hovertemplate": "Date=2025-04-08<br>Relative Strength=%{x}<br>Momentum=%{y}<extra></extra>",
           "legendgroup": "",
           "marker": {
            "color": "white",
            "opacity": 0.8,
            "symbol": "circle"
           },
           "mode": "markers",
           "name": "",
           "orientation": "v",
           "showlegend": false,
           "type": "scatter",
           "x": [
            0.001909830210093921
           ],
           "xaxis": "x",
           "y": [
            -0.0001708471011514284
           ],
           "yaxis": "y"
          }
         ],
         "name": "2025-04-08"
        },
        {
         "data": [
          {
           "hovertemplate": "Date=2025-04-09<br>Relative Strength=%{x}<br>Momentum=%{y}<extra></extra>",
           "legendgroup": "",
           "marker": {
            "color": "white",
            "opacity": 0.8,
            "symbol": "circle"
           },
           "mode": "markers",
           "name": "",
           "orientation": "v",
           "showlegend": false,
           "type": "scatter",
           "x": [
            0.003707236648157064
           ],
           "xaxis": "x",
           "y": [
            0.0017974064380631431
           ],
           "yaxis": "y"
          }
         ],
         "name": "2025-04-09"
        },
        {
         "data": [
          {
           "hovertemplate": "Date=2025-04-10<br>Relative Strength=%{x}<br>Momentum=%{y}<extra></extra>",
           "legendgroup": "",
           "marker": {
            "color": "white",
            "opacity": 0.8,
            "symbol": "circle"
           },
           "mode": "markers",
           "name": "",
           "orientation": "v",
           "showlegend": false,
           "type": "scatter",
           "x": [
            0.005030489664499293
           ],
           "xaxis": "x",
           "y": [
            0.0013232530163422291
           ],
           "yaxis": "y"
          }
         ],
         "name": "2025-04-10"
        },
        {
         "data": [
          {
           "hovertemplate": "Date=2025-04-11<br>Relative Strength=%{x}<br>Momentum=%{y}<extra></extra>",
           "legendgroup": "",
           "marker": {
            "color": "white",
            "opacity": 0.8,
            "symbol": "circle"
           },
           "mode": "markers",
           "name": "",
           "orientation": "v",
           "showlegend": false,
           "type": "scatter",
           "x": [
            0.008420021106324027
           ],
           "xaxis": "x",
           "y": [
            0.0033895314418247342
           ],
           "yaxis": "y"
          }
         ],
         "name": "2025-04-11"
        },
        {
         "data": [
          {
           "hovertemplate": "Date=2025-04-14<br>Relative Strength=%{x}<br>Momentum=%{y}<extra></extra>",
           "legendgroup": "",
           "marker": {
            "color": "white",
            "opacity": 0.8,
            "symbol": "circle"
           },
           "mode": "markers",
           "name": "",
           "orientation": "v",
           "showlegend": false,
           "type": "scatter",
           "x": [
            0.010800822307684832
           ],
           "xaxis": "x",
           "y": [
            0.002380801201360805
           ],
           "yaxis": "y"
          }
         ],
         "name": "2025-04-14"
        },
        {
         "data": [
          {
           "hovertemplate": "Date=2025-04-15<br>Relative Strength=%{x}<br>Momentum=%{y}<extra></extra>",
           "legendgroup": "",
           "marker": {
            "color": "white",
            "opacity": 0.8,
            "symbol": "circle"
           },
           "mode": "markers",
           "name": "",
           "orientation": "v",
           "showlegend": false,
           "type": "scatter",
           "x": [
            0.017926642329932362
           ],
           "xaxis": "x",
           "y": [
            0.00712582002224753
           ],
           "yaxis": "y"
          }
         ],
         "name": "2025-04-15"
        },
        {
         "data": [
          {
           "hovertemplate": "Date=2025-04-16<br>Relative Strength=%{x}<br>Momentum=%{y}<extra></extra>",
           "legendgroup": "",
           "marker": {
            "color": "white",
            "opacity": 0.8,
            "symbol": "circle"
           },
           "mode": "markers",
           "name": "",
           "orientation": "v",
           "showlegend": false,
           "type": "scatter",
           "x": [
            0.025100295557805873
           ],
           "xaxis": "x",
           "y": [
            0.00717365322787351
           ],
           "yaxis": "y"
          }
         ],
         "name": "2025-04-16"
        },
        {
         "data": [
          {
           "hovertemplate": "Date=2025-04-17<br>Relative Strength=%{x}<br>Momentum=%{y}<extra></extra>",
           "legendgroup": "",
           "marker": {
            "color": "white",
            "opacity": 0.8,
            "symbol": "circle"
           },
           "mode": "markers",
           "name": "",
           "orientation": "v",
           "showlegend": false,
           "type": "scatter",
           "x": [
            0.028379665157174962
           ],
           "xaxis": "x",
           "y": [
            0.00327936959936909
           ],
           "yaxis": "y"
          }
         ],
         "name": "2025-04-17"
        },
        {
         "data": [
          {
           "hovertemplate": "Date=2025-04-22<br>Relative Strength=%{x}<br>Momentum=%{y}<extra></extra>",
           "legendgroup": "",
           "marker": {
            "color": "white",
            "opacity": 0.8,
            "symbol": "circle"
           },
           "mode": "markers",
           "name": "",
           "orientation": "v",
           "showlegend": false,
           "type": "scatter",
           "x": [
            0.028547687791020657
           ],
           "xaxis": "x",
           "y": [
            0.000168022633845695
           ],
           "yaxis": "y"
          }
         ],
         "name": "2025-04-22"
        },
        {
         "data": [
          {
           "hovertemplate": "Date=2025-04-23<br>Relative Strength=%{x}<br>Momentum=%{y}<extra></extra>",
           "legendgroup": "",
           "marker": {
            "color": "white",
            "opacity": 0.8,
            "symbol": "circle"
           },
           "mode": "markers",
           "name": "",
           "orientation": "v",
           "showlegend": false,
           "type": "scatter",
           "x": [
            0.020559427438953025
           ],
           "xaxis": "x",
           "y": [
            -0.007988260352067632
           ],
           "yaxis": "y"
          }
         ],
         "name": "2025-04-23"
        },
        {
         "data": [
          {
           "hovertemplate": "Date=2025-04-24<br>Relative Strength=%{x}<br>Momentum=%{y}<extra></extra>",
           "legendgroup": "",
           "marker": {
            "color": "white",
            "opacity": 0.8,
            "symbol": "circle"
           },
           "mode": "markers",
           "name": "",
           "orientation": "v",
           "showlegend": false,
           "type": "scatter",
           "x": [
            0.013706871462734894
           ],
           "xaxis": "x",
           "y": [
            -0.00685255597621813
           ],
           "yaxis": "y"
          }
         ],
         "name": "2025-04-24"
        },
        {
         "data": [
          {
           "hovertemplate": "Date=2025-04-25<br>Relative Strength=%{x}<br>Momentum=%{y}<extra></extra>",
           "legendgroup": "",
           "marker": {
            "color": "white",
            "opacity": 0.8,
            "symbol": "circle"
           },
           "mode": "markers",
           "name": "",
           "orientation": "v",
           "showlegend": false,
           "type": "scatter",
           "x": [
            0.019297250273638166
           ],
           "xaxis": "x",
           "y": [
            0.005590378810903272
           ],
           "yaxis": "y"
          }
         ],
         "name": "2025-04-25"
        },
        {
         "data": [
          {
           "hovertemplate": "Date=2025-04-28<br>Relative Strength=%{x}<br>Momentum=%{y}<extra></extra>",
           "legendgroup": "",
           "marker": {
            "color": "white",
            "opacity": 0.8,
            "symbol": "circle"
           },
           "mode": "markers",
           "name": "",
           "orientation": "v",
           "showlegend": false,
           "type": "scatter",
           "x": [
            0.016299812951899053
           ],
           "xaxis": "x",
           "y": [
            -0.002997437321739113
           ],
           "yaxis": "y"
          }
         ],
         "name": "2025-04-28"
        },
        {
         "data": [
          {
           "hovertemplate": "Date=2025-04-29<br>Relative Strength=%{x}<br>Momentum=%{y}<extra></extra>",
           "legendgroup": "",
           "marker": {
            "color": "white",
            "opacity": 0.8,
            "symbol": "circle"
           },
           "mode": "markers",
           "name": "",
           "orientation": "v",
           "showlegend": false,
           "type": "scatter",
           "x": [
            0.00802982571987847
           ],
           "xaxis": "x",
           "y": [
            -0.008269987232020583
           ],
           "yaxis": "y"
          }
         ],
         "name": "2025-04-29"
        },
        {
         "data": [
          {
           "hovertemplate": "Date=2025-04-30<br>Relative Strength=%{x}<br>Momentum=%{y}<extra></extra>",
           "legendgroup": "",
           "marker": {
            "color": "white",
            "opacity": 0.8,
            "symbol": "circle"
           },
           "mode": "markers",
           "name": "",
           "orientation": "v",
           "showlegend": false,
           "type": "scatter",
           "x": [
            0.0030797369679152137
           ],
           "xaxis": "x",
           "y": [
            -0.0049500887519632565
           ],
           "yaxis": "y"
          }
         ],
         "name": "2025-04-30"
        },
        {
         "data": [
          {
           "hovertemplate": "Date=2025-05-02<br>Relative Strength=%{x}<br>Momentum=%{y}<extra></extra>",
           "legendgroup": "",
           "marker": {
            "color": "white",
            "opacity": 0.8,
            "symbol": "circle"
           },
           "mode": "markers",
           "name": "",
           "orientation": "v",
           "showlegend": false,
           "type": "scatter",
           "x": [
            -0.004303849979304286
           ],
           "xaxis": "x",
           "y": [
            -0.0073835869472195
           ],
           "yaxis": "y"
          }
         ],
         "name": "2025-05-02"
        },
        {
         "data": [
          {
           "hovertemplate": "Date=2025-05-05<br>Relative Strength=%{x}<br>Momentum=%{y}<extra></extra>",
           "legendgroup": "",
           "marker": {
            "color": "white",
            "opacity": 0.8,
            "symbol": "circle"
           },
           "mode": "markers",
           "name": "",
           "orientation": "v",
           "showlegend": false,
           "type": "scatter",
           "x": [
            -0.012482983388877622
           ],
           "xaxis": "x",
           "y": [
            -0.008179133409573335
           ],
           "yaxis": "y"
          }
         ],
         "name": "2025-05-05"
        }
       ],
       "layout": {
        "height": 800,
        "legend": {
         "tracegroupgap": 0
        },
        "shapes": [
         {
          "line": {
           "color": "yellow",
           "dash": "dash"
          },
          "type": "line",
          "x0": -0.021818143690239367,
          "x1": 0.028547687791020657,
          "y0": 0,
          "y1": 0
         },
         {
          "line": {
           "color": "yellow",
           "dash": "dash"
          },
          "type": "line",
          "x0": 0,
          "x1": 0,
          "y0": -0.008928134727979275,
          "y1": 0.00904655678810159
         }
        ],
        "sliders": [
         {
          "active": 0,
          "currentvalue": {
           "prefix": "Date="
          },
          "len": 0.9,
          "pad": {
           "b": 10,
           "t": 60
          },
          "steps": [
           {
            "args": [
             [
              "2024-05-21"
             ],
             {
              "frame": {
               "duration": 0,
               "redraw": false
              },
              "fromcurrent": true,
              "mode": "immediate",
              "transition": {
               "duration": 0,
               "easing": "linear"
              }
             }
            ],
            "label": "2024-05-21",
            "method": "animate"
           },
           {
            "args": [
             [
              "2024-05-22"
             ],
             {
              "frame": {
               "duration": 0,
               "redraw": false
              },
              "fromcurrent": true,
              "mode": "immediate",
              "transition": {
               "duration": 0,
               "easing": "linear"
              }
             }
            ],
            "label": "2024-05-22",
            "method": "animate"
           },
           {
            "args": [
             [
              "2024-05-23"
             ],
             {
              "frame": {
               "duration": 0,
               "redraw": false
              },
              "fromcurrent": true,
              "mode": "immediate",
              "transition": {
               "duration": 0,
               "easing": "linear"
              }
             }
            ],
            "label": "2024-05-23",
            "method": "animate"
           },
           {
            "args": [
             [
              "2024-05-24"
             ],
             {
              "frame": {
               "duration": 0,
               "redraw": false
              },
              "fromcurrent": true,
              "mode": "immediate",
              "transition": {
               "duration": 0,
               "easing": "linear"
              }
             }
            ],
            "label": "2024-05-24",
            "method": "animate"
           },
           {
            "args": [
             [
              "2024-05-27"
             ],
             {
              "frame": {
               "duration": 0,
               "redraw": false
              },
              "fromcurrent": true,
              "mode": "immediate",
              "transition": {
               "duration": 0,
               "easing": "linear"
              }
             }
            ],
            "label": "2024-05-27",
            "method": "animate"
           },
           {
            "args": [
             [
              "2024-05-28"
             ],
             {
              "frame": {
               "duration": 0,
               "redraw": false
              },
              "fromcurrent": true,
              "mode": "immediate",
              "transition": {
               "duration": 0,
               "easing": "linear"
              }
             }
            ],
            "label": "2024-05-28",
            "method": "animate"
           },
           {
            "args": [
             [
              "2024-05-29"
             ],
             {
              "frame": {
               "duration": 0,
               "redraw": false
              },
              "fromcurrent": true,
              "mode": "immediate",
              "transition": {
               "duration": 0,
               "easing": "linear"
              }
             }
            ],
            "label": "2024-05-29",
            "method": "animate"
           },
           {
            "args": [
             [
              "2024-05-31"
             ],
             {
              "frame": {
               "duration": 0,
               "redraw": false
              },
              "fromcurrent": true,
              "mode": "immediate",
              "transition": {
               "duration": 0,
               "easing": "linear"
              }
             }
            ],
            "label": "2024-05-31",
            "method": "animate"
           },
           {
            "args": [
             [
              "2024-06-03"
             ],
             {
              "frame": {
               "duration": 0,
               "redraw": false
              },
              "fromcurrent": true,
              "mode": "immediate",
              "transition": {
               "duration": 0,
               "easing": "linear"
              }
             }
            ],
            "label": "2024-06-03",
            "method": "animate"
           },
           {
            "args": [
             [
              "2024-06-04"
             ],
             {
              "frame": {
               "duration": 0,
               "redraw": false
              },
              "fromcurrent": true,
              "mode": "immediate",
              "transition": {
               "duration": 0,
               "easing": "linear"
              }
             }
            ],
            "label": "2024-06-04",
            "method": "animate"
           },
           {
            "args": [
             [
              "2024-06-05"
             ],
             {
              "frame": {
               "duration": 0,
               "redraw": false
              },
              "fromcurrent": true,
              "mode": "immediate",
              "transition": {
               "duration": 0,
               "easing": "linear"
              }
             }
            ],
            "label": "2024-06-05",
            "method": "animate"
           },
           {
            "args": [
             [
              "2024-06-06"
             ],
             {
              "frame": {
               "duration": 0,
               "redraw": false
              },
              "fromcurrent": true,
              "mode": "immediate",
              "transition": {
               "duration": 0,
               "easing": "linear"
              }
             }
            ],
            "label": "2024-06-06",
            "method": "animate"
           },
           {
            "args": [
             [
              "2024-06-07"
             ],
             {
              "frame": {
               "duration": 0,
               "redraw": false
              },
              "fromcurrent": true,
              "mode": "immediate",
              "transition": {
               "duration": 0,
               "easing": "linear"
              }
             }
            ],
            "label": "2024-06-07",
            "method": "animate"
           },
           {
            "args": [
             [
              "2024-06-10"
             ],
             {
              "frame": {
               "duration": 0,
               "redraw": false
              },
              "fromcurrent": true,
              "mode": "immediate",
              "transition": {
               "duration": 0,
               "easing": "linear"
              }
             }
            ],
            "label": "2024-06-10",
            "method": "animate"
           },
           {
            "args": [
             [
              "2024-06-11"
             ],
             {
              "frame": {
               "duration": 0,
               "redraw": false
              },
              "fromcurrent": true,
              "mode": "immediate",
              "transition": {
               "duration": 0,
               "easing": "linear"
              }
             }
            ],
            "label": "2024-06-11",
            "method": "animate"
           },
           {
            "args": [
             [
              "2024-06-12"
             ],
             {
              "frame": {
               "duration": 0,
               "redraw": false
              },
              "fromcurrent": true,
              "mode": "immediate",
              "transition": {
               "duration": 0,
               "easing": "linear"
              }
             }
            ],
            "label": "2024-06-12",
            "method": "animate"
           },
           {
            "args": [
             [
              "2024-06-13"
             ],
             {
              "frame": {
               "duration": 0,
               "redraw": false
              },
              "fromcurrent": true,
              "mode": "immediate",
              "transition": {
               "duration": 0,
               "easing": "linear"
              }
             }
            ],
            "label": "2024-06-13",
            "method": "animate"
           },
           {
            "args": [
             [
              "2024-06-14"
             ],
             {
              "frame": {
               "duration": 0,
               "redraw": false
              },
              "fromcurrent": true,
              "mode": "immediate",
              "transition": {
               "duration": 0,
               "easing": "linear"
              }
             }
            ],
            "label": "2024-06-14",
            "method": "animate"
           },
           {
            "args": [
             [
              "2024-06-17"
             ],
             {
              "frame": {
               "duration": 0,
               "redraw": false
              },
              "fromcurrent": true,
              "mode": "immediate",
              "transition": {
               "duration": 0,
               "easing": "linear"
              }
             }
            ],
            "label": "2024-06-17",
            "method": "animate"
           },
           {
            "args": [
             [
              "2024-06-18"
             ],
             {
              "frame": {
               "duration": 0,
               "redraw": false
              },
              "fromcurrent": true,
              "mode": "immediate",
              "transition": {
               "duration": 0,
               "easing": "linear"
              }
             }
            ],
            "label": "2024-06-18",
            "method": "animate"
           },
           {
            "args": [
             [
              "2024-06-19"
             ],
             {
              "frame": {
               "duration": 0,
               "redraw": false
              },
              "fromcurrent": true,
              "mode": "immediate",
              "transition": {
               "duration": 0,
               "easing": "linear"
              }
             }
            ],
            "label": "2024-06-19",
            "method": "animate"
           },
           {
            "args": [
             [
              "2024-06-20"
             ],
             {
              "frame": {
               "duration": 0,
               "redraw": false
              },
              "fromcurrent": true,
              "mode": "immediate",
              "transition": {
               "duration": 0,
               "easing": "linear"
              }
             }
            ],
            "label": "2024-06-20",
            "method": "animate"
           },
           {
            "args": [
             [
              "2024-06-21"
             ],
             {
              "frame": {
               "duration": 0,
               "redraw": false
              },
              "fromcurrent": true,
              "mode": "immediate",
              "transition": {
               "duration": 0,
               "easing": "linear"
              }
             }
            ],
            "label": "2024-06-21",
            "method": "animate"
           },
           {
            "args": [
             [
              "2024-06-24"
             ],
             {
              "frame": {
               "duration": 0,
               "redraw": false
              },
              "fromcurrent": true,
              "mode": "immediate",
              "transition": {
               "duration": 0,
               "easing": "linear"
              }
             }
            ],
            "label": "2024-06-24",
            "method": "animate"
           },
           {
            "args": [
             [
              "2024-06-25"
             ],
             {
              "frame": {
               "duration": 0,
               "redraw": false
              },
              "fromcurrent": true,
              "mode": "immediate",
              "transition": {
               "duration": 0,
               "easing": "linear"
              }
             }
            ],
            "label": "2024-06-25",
            "method": "animate"
           },
           {
            "args": [
             [
              "2024-06-26"
             ],
             {
              "frame": {
               "duration": 0,
               "redraw": false
              },
              "fromcurrent": true,
              "mode": "immediate",
              "transition": {
               "duration": 0,
               "easing": "linear"
              }
             }
            ],
            "label": "2024-06-26",
            "method": "animate"
           },
           {
            "args": [
             [
              "2024-06-27"
             ],
             {
              "frame": {
               "duration": 0,
               "redraw": false
              },
              "fromcurrent": true,
              "mode": "immediate",
              "transition": {
               "duration": 0,
               "easing": "linear"
              }
             }
            ],
            "label": "2024-06-27",
            "method": "animate"
           },
           {
            "args": [
             [
              "2024-06-28"
             ],
             {
              "frame": {
               "duration": 0,
               "redraw": false
              },
              "fromcurrent": true,
              "mode": "immediate",
              "transition": {
               "duration": 0,
               "easing": "linear"
              }
             }
            ],
            "label": "2024-06-28",
            "method": "animate"
           },
           {
            "args": [
             [
              "2024-07-01"
             ],
             {
              "frame": {
               "duration": 0,
               "redraw": false
              },
              "fromcurrent": true,
              "mode": "immediate",
              "transition": {
               "duration": 0,
               "easing": "linear"
              }
             }
            ],
            "label": "2024-07-01",
            "method": "animate"
           },
           {
            "args": [
             [
              "2024-07-02"
             ],
             {
              "frame": {
               "duration": 0,
               "redraw": false
              },
              "fromcurrent": true,
              "mode": "immediate",
              "transition": {
               "duration": 0,
               "easing": "linear"
              }
             }
            ],
            "label": "2024-07-02",
            "method": "animate"
           },
           {
            "args": [
             [
              "2024-07-03"
             ],
             {
              "frame": {
               "duration": 0,
               "redraw": false
              },
              "fromcurrent": true,
              "mode": "immediate",
              "transition": {
               "duration": 0,
               "easing": "linear"
              }
             }
            ],
            "label": "2024-07-03",
            "method": "animate"
           },
           {
            "args": [
             [
              "2024-07-04"
             ],
             {
              "frame": {
               "duration": 0,
               "redraw": false
              },
              "fromcurrent": true,
              "mode": "immediate",
              "transition": {
               "duration": 0,
               "easing": "linear"
              }
             }
            ],
            "label": "2024-07-04",
            "method": "animate"
           },
           {
            "args": [
             [
              "2024-07-05"
             ],
             {
              "frame": {
               "duration": 0,
               "redraw": false
              },
              "fromcurrent": true,
              "mode": "immediate",
              "transition": {
               "duration": 0,
               "easing": "linear"
              }
             }
            ],
            "label": "2024-07-05",
            "method": "animate"
           },
           {
            "args": [
             [
              "2024-07-08"
             ],
             {
              "frame": {
               "duration": 0,
               "redraw": false
              },
              "fromcurrent": true,
              "mode": "immediate",
              "transition": {
               "duration": 0,
               "easing": "linear"
              }
             }
            ],
            "label": "2024-07-08",
            "method": "animate"
           },
           {
            "args": [
             [
              "2024-07-09"
             ],
             {
              "frame": {
               "duration": 0,
               "redraw": false
              },
              "fromcurrent": true,
              "mode": "immediate",
              "transition": {
               "duration": 0,
               "easing": "linear"
              }
             }
            ],
            "label": "2024-07-09",
            "method": "animate"
           },
           {
            "args": [
             [
              "2024-07-10"
             ],
             {
              "frame": {
               "duration": 0,
               "redraw": false
              },
              "fromcurrent": true,
              "mode": "immediate",
              "transition": {
               "duration": 0,
               "easing": "linear"
              }
             }
            ],
            "label": "2024-07-10",
            "method": "animate"
           },
           {
            "args": [
             [
              "2024-07-11"
             ],
             {
              "frame": {
               "duration": 0,
               "redraw": false
              },
              "fromcurrent": true,
              "mode": "immediate",
              "transition": {
               "duration": 0,
               "easing": "linear"
              }
             }
            ],
            "label": "2024-07-11",
            "method": "animate"
           },
           {
            "args": [
             [
              "2024-07-12"
             ],
             {
              "frame": {
               "duration": 0,
               "redraw": false
              },
              "fromcurrent": true,
              "mode": "immediate",
              "transition": {
               "duration": 0,
               "easing": "linear"
              }
             }
            ],
            "label": "2024-07-12",
            "method": "animate"
           },
           {
            "args": [
             [
              "2024-07-15"
             ],
             {
              "frame": {
               "duration": 0,
               "redraw": false
              },
              "fromcurrent": true,
              "mode": "immediate",
              "transition": {
               "duration": 0,
               "easing": "linear"
              }
             }
            ],
            "label": "2024-07-15",
            "method": "animate"
           },
           {
            "args": [
             [
              "2024-07-16"
             ],
             {
              "frame": {
               "duration": 0,
               "redraw": false
              },
              "fromcurrent": true,
              "mode": "immediate",
              "transition": {
               "duration": 0,
               "easing": "linear"
              }
             }
            ],
            "label": "2024-07-16",
            "method": "animate"
           },
           {
            "args": [
             [
              "2024-07-17"
             ],
             {
              "frame": {
               "duration": 0,
               "redraw": false
              },
              "fromcurrent": true,
              "mode": "immediate",
              "transition": {
               "duration": 0,
               "easing": "linear"
              }
             }
            ],
            "label": "2024-07-17",
            "method": "animate"
           },
           {
            "args": [
             [
              "2024-07-18"
             ],
             {
              "frame": {
               "duration": 0,
               "redraw": false
              },
              "fromcurrent": true,
              "mode": "immediate",
              "transition": {
               "duration": 0,
               "easing": "linear"
              }
             }
            ],
            "label": "2024-07-18",
            "method": "animate"
           },
           {
            "args": [
             [
              "2024-07-19"
             ],
             {
              "frame": {
               "duration": 0,
               "redraw": false
              },
              "fromcurrent": true,
              "mode": "immediate",
              "transition": {
               "duration": 0,
               "easing": "linear"
              }
             }
            ],
            "label": "2024-07-19",
            "method": "animate"
           },
           {
            "args": [
             [
              "2024-07-22"
             ],
             {
              "frame": {
               "duration": 0,
               "redraw": false
              },
              "fromcurrent": true,
              "mode": "immediate",
              "transition": {
               "duration": 0,
               "easing": "linear"
              }
             }
            ],
            "label": "2024-07-22",
            "method": "animate"
           },
           {
            "args": [
             [
              "2024-07-23"
             ],
             {
              "frame": {
               "duration": 0,
               "redraw": false
              },
              "fromcurrent": true,
              "mode": "immediate",
              "transition": {
               "duration": 0,
               "easing": "linear"
              }
             }
            ],
            "label": "2024-07-23",
            "method": "animate"
           },
           {
            "args": [
             [
              "2024-07-24"
             ],
             {
              "frame": {
               "duration": 0,
               "redraw": false
              },
              "fromcurrent": true,
              "mode": "immediate",
              "transition": {
               "duration": 0,
               "easing": "linear"
              }
             }
            ],
            "label": "2024-07-24",
            "method": "animate"
           },
           {
            "args": [
             [
              "2024-07-25"
             ],
             {
              "frame": {
               "duration": 0,
               "redraw": false
              },
              "fromcurrent": true,
              "mode": "immediate",
              "transition": {
               "duration": 0,
               "easing": "linear"
              }
             }
            ],
            "label": "2024-07-25",
            "method": "animate"
           },
           {
            "args": [
             [
              "2024-07-26"
             ],
             {
              "frame": {
               "duration": 0,
               "redraw": false
              },
              "fromcurrent": true,
              "mode": "immediate",
              "transition": {
               "duration": 0,
               "easing": "linear"
              }
             }
            ],
            "label": "2024-07-26",
            "method": "animate"
           },
           {
            "args": [
             [
              "2024-07-29"
             ],
             {
              "frame": {
               "duration": 0,
               "redraw": false
              },
              "fromcurrent": true,
              "mode": "immediate",
              "transition": {
               "duration": 0,
               "easing": "linear"
              }
             }
            ],
            "label": "2024-07-29",
            "method": "animate"
           },
           {
            "args": [
             [
              "2024-07-30"
             ],
             {
              "frame": {
               "duration": 0,
               "redraw": false
              },
              "fromcurrent": true,
              "mode": "immediate",
              "transition": {
               "duration": 0,
               "easing": "linear"
              }
             }
            ],
            "label": "2024-07-30",
            "method": "animate"
           },
           {
            "args": [
             [
              "2024-07-31"
             ],
             {
              "frame": {
               "duration": 0,
               "redraw": false
              },
              "fromcurrent": true,
              "mode": "immediate",
              "transition": {
               "duration": 0,
               "easing": "linear"
              }
             }
            ],
            "label": "2024-07-31",
            "method": "animate"
           },
           {
            "args": [
             [
              "2024-08-01"
             ],
             {
              "frame": {
               "duration": 0,
               "redraw": false
              },
              "fromcurrent": true,
              "mode": "immediate",
              "transition": {
               "duration": 0,
               "easing": "linear"
              }
             }
            ],
            "label": "2024-08-01",
            "method": "animate"
           },
           {
            "args": [
             [
              "2024-08-02"
             ],
             {
              "frame": {
               "duration": 0,
               "redraw": false
              },
              "fromcurrent": true,
              "mode": "immediate",
              "transition": {
               "duration": 0,
               "easing": "linear"
              }
             }
            ],
            "label": "2024-08-02",
            "method": "animate"
           },
           {
            "args": [
             [
              "2024-08-05"
             ],
             {
              "frame": {
               "duration": 0,
               "redraw": false
              },
              "fromcurrent": true,
              "mode": "immediate",
              "transition": {
               "duration": 0,
               "easing": "linear"
              }
             }
            ],
            "label": "2024-08-05",
            "method": "animate"
           },
           {
            "args": [
             [
              "2024-08-06"
             ],
             {
              "frame": {
               "duration": 0,
               "redraw": false
              },
              "fromcurrent": true,
              "mode": "immediate",
              "transition": {
               "duration": 0,
               "easing": "linear"
              }
             }
            ],
            "label": "2024-08-06",
            "method": "animate"
           },
           {
            "args": [
             [
              "2024-08-07"
             ],
             {
              "frame": {
               "duration": 0,
               "redraw": false
              },
              "fromcurrent": true,
              "mode": "immediate",
              "transition": {
               "duration": 0,
               "easing": "linear"
              }
             }
            ],
            "label": "2024-08-07",
            "method": "animate"
           },
           {
            "args": [
             [
              "2024-08-08"
             ],
             {
              "frame": {
               "duration": 0,
               "redraw": false
              },
              "fromcurrent": true,
              "mode": "immediate",
              "transition": {
               "duration": 0,
               "easing": "linear"
              }
             }
            ],
            "label": "2024-08-08",
            "method": "animate"
           },
           {
            "args": [
             [
              "2024-08-09"
             ],
             {
              "frame": {
               "duration": 0,
               "redraw": false
              },
              "fromcurrent": true,
              "mode": "immediate",
              "transition": {
               "duration": 0,
               "easing": "linear"
              }
             }
            ],
            "label": "2024-08-09",
            "method": "animate"
           },
           {
            "args": [
             [
              "2024-08-12"
             ],
             {
              "frame": {
               "duration": 0,
               "redraw": false
              },
              "fromcurrent": true,
              "mode": "immediate",
              "transition": {
               "duration": 0,
               "easing": "linear"
              }
             }
            ],
            "label": "2024-08-12",
            "method": "animate"
           },
           {
            "args": [
             [
              "2024-08-13"
             ],
             {
              "frame": {
               "duration": 0,
               "redraw": false
              },
              "fromcurrent": true,
              "mode": "immediate",
              "transition": {
               "duration": 0,
               "easing": "linear"
              }
             }
            ],
            "label": "2024-08-13",
            "method": "animate"
           },
           {
            "args": [
             [
              "2024-08-14"
             ],
             {
              "frame": {
               "duration": 0,
               "redraw": false
              },
              "fromcurrent": true,
              "mode": "immediate",
              "transition": {
               "duration": 0,
               "easing": "linear"
              }
             }
            ],
            "label": "2024-08-14",
            "method": "animate"
           },
           {
            "args": [
             [
              "2024-08-15"
             ],
             {
              "frame": {
               "duration": 0,
               "redraw": false
              },
              "fromcurrent": true,
              "mode": "immediate",
              "transition": {
               "duration": 0,
               "easing": "linear"
              }
             }
            ],
            "label": "2024-08-15",
            "method": "animate"
           },
           {
            "args": [
             [
              "2024-08-16"
             ],
             {
              "frame": {
               "duration": 0,
               "redraw": false
              },
              "fromcurrent": true,
              "mode": "immediate",
              "transition": {
               "duration": 0,
               "easing": "linear"
              }
             }
            ],
            "label": "2024-08-16",
            "method": "animate"
           },
           {
            "args": [
             [
              "2024-08-19"
             ],
             {
              "frame": {
               "duration": 0,
               "redraw": false
              },
              "fromcurrent": true,
              "mode": "immediate",
              "transition": {
               "duration": 0,
               "easing": "linear"
              }
             }
            ],
            "label": "2024-08-19",
            "method": "animate"
           },
           {
            "args": [
             [
              "2024-08-20"
             ],
             {
              "frame": {
               "duration": 0,
               "redraw": false
              },
              "fromcurrent": true,
              "mode": "immediate",
              "transition": {
               "duration": 0,
               "easing": "linear"
              }
             }
            ],
            "label": "2024-08-20",
            "method": "animate"
           },
           {
            "args": [
             [
              "2024-08-21"
             ],
             {
              "frame": {
               "duration": 0,
               "redraw": false
              },
              "fromcurrent": true,
              "mode": "immediate",
              "transition": {
               "duration": 0,
               "easing": "linear"
              }
             }
            ],
            "label": "2024-08-21",
            "method": "animate"
           },
           {
            "args": [
             [
              "2024-08-22"
             ],
             {
              "frame": {
               "duration": 0,
               "redraw": false
              },
              "fromcurrent": true,
              "mode": "immediate",
              "transition": {
               "duration": 0,
               "easing": "linear"
              }
             }
            ],
            "label": "2024-08-22",
            "method": "animate"
           },
           {
            "args": [
             [
              "2024-08-23"
             ],
             {
              "frame": {
               "duration": 0,
               "redraw": false
              },
              "fromcurrent": true,
              "mode": "immediate",
              "transition": {
               "duration": 0,
               "easing": "linear"
              }
             }
            ],
            "label": "2024-08-23",
            "method": "animate"
           },
           {
            "args": [
             [
              "2024-08-26"
             ],
             {
              "frame": {
               "duration": 0,
               "redraw": false
              },
              "fromcurrent": true,
              "mode": "immediate",
              "transition": {
               "duration": 0,
               "easing": "linear"
              }
             }
            ],
            "label": "2024-08-26",
            "method": "animate"
           },
           {
            "args": [
             [
              "2024-08-27"
             ],
             {
              "frame": {
               "duration": 0,
               "redraw": false
              },
              "fromcurrent": true,
              "mode": "immediate",
              "transition": {
               "duration": 0,
               "easing": "linear"
              }
             }
            ],
            "label": "2024-08-27",
            "method": "animate"
           },
           {
            "args": [
             [
              "2024-08-28"
             ],
             {
              "frame": {
               "duration": 0,
               "redraw": false
              },
              "fromcurrent": true,
              "mode": "immediate",
              "transition": {
               "duration": 0,
               "easing": "linear"
              }
             }
            ],
            "label": "2024-08-28",
            "method": "animate"
           },
           {
            "args": [
             [
              "2024-08-29"
             ],
             {
              "frame": {
               "duration": 0,
               "redraw": false
              },
              "fromcurrent": true,
              "mode": "immediate",
              "transition": {
               "duration": 0,
               "easing": "linear"
              }
             }
            ],
            "label": "2024-08-29",
            "method": "animate"
           },
           {
            "args": [
             [
              "2024-08-30"
             ],
             {
              "frame": {
               "duration": 0,
               "redraw": false
              },
              "fromcurrent": true,
              "mode": "immediate",
              "transition": {
               "duration": 0,
               "easing": "linear"
              }
             }
            ],
            "label": "2024-08-30",
            "method": "animate"
           },
           {
            "args": [
             [
              "2024-09-02"
             ],
             {
              "frame": {
               "duration": 0,
               "redraw": false
              },
              "fromcurrent": true,
              "mode": "immediate",
              "transition": {
               "duration": 0,
               "easing": "linear"
              }
             }
            ],
            "label": "2024-09-02",
            "method": "animate"
           },
           {
            "args": [
             [
              "2024-09-03"
             ],
             {
              "frame": {
               "duration": 0,
               "redraw": false
              },
              "fromcurrent": true,
              "mode": "immediate",
              "transition": {
               "duration": 0,
               "easing": "linear"
              }
             }
            ],
            "label": "2024-09-03",
            "method": "animate"
           },
           {
            "args": [
             [
              "2024-09-04"
             ],
             {
              "frame": {
               "duration": 0,
               "redraw": false
              },
              "fromcurrent": true,
              "mode": "immediate",
              "transition": {
               "duration": 0,
               "easing": "linear"
              }
             }
            ],
            "label": "2024-09-04",
            "method": "animate"
           },
           {
            "args": [
             [
              "2024-09-05"
             ],
             {
              "frame": {
               "duration": 0,
               "redraw": false
              },
              "fromcurrent": true,
              "mode": "immediate",
              "transition": {
               "duration": 0,
               "easing": "linear"
              }
             }
            ],
            "label": "2024-09-05",
            "method": "animate"
           },
           {
            "args": [
             [
              "2024-09-06"
             ],
             {
              "frame": {
               "duration": 0,
               "redraw": false
              },
              "fromcurrent": true,
              "mode": "immediate",
              "transition": {
               "duration": 0,
               "easing": "linear"
              }
             }
            ],
            "label": "2024-09-06",
            "method": "animate"
           },
           {
            "args": [
             [
              "2024-09-09"
             ],
             {
              "frame": {
               "duration": 0,
               "redraw": false
              },
              "fromcurrent": true,
              "mode": "immediate",
              "transition": {
               "duration": 0,
               "easing": "linear"
              }
             }
            ],
            "label": "2024-09-09",
            "method": "animate"
           },
           {
            "args": [
             [
              "2024-09-10"
             ],
             {
              "frame": {
               "duration": 0,
               "redraw": false
              },
              "fromcurrent": true,
              "mode": "immediate",
              "transition": {
               "duration": 0,
               "easing": "linear"
              }
             }
            ],
            "label": "2024-09-10",
            "method": "animate"
           },
           {
            "args": [
             [
              "2024-09-11"
             ],
             {
              "frame": {
               "duration": 0,
               "redraw": false
              },
              "fromcurrent": true,
              "mode": "immediate",
              "transition": {
               "duration": 0,
               "easing": "linear"
              }
             }
            ],
            "label": "2024-09-11",
            "method": "animate"
           },
           {
            "args": [
             [
              "2024-09-12"
             ],
             {
              "frame": {
               "duration": 0,
               "redraw": false
              },
              "fromcurrent": true,
              "mode": "immediate",
              "transition": {
               "duration": 0,
               "easing": "linear"
              }
             }
            ],
            "label": "2024-09-12",
            "method": "animate"
           },
           {
            "args": [
             [
              "2024-09-13"
             ],
             {
              "frame": {
               "duration": 0,
               "redraw": false
              },
              "fromcurrent": true,
              "mode": "immediate",
              "transition": {
               "duration": 0,
               "easing": "linear"
              }
             }
            ],
            "label": "2024-09-13",
            "method": "animate"
           },
           {
            "args": [
             [
              "2024-09-16"
             ],
             {
              "frame": {
               "duration": 0,
               "redraw": false
              },
              "fromcurrent": true,
              "mode": "immediate",
              "transition": {
               "duration": 0,
               "easing": "linear"
              }
             }
            ],
            "label": "2024-09-16",
            "method": "animate"
           },
           {
            "args": [
             [
              "2024-09-17"
             ],
             {
              "frame": {
               "duration": 0,
               "redraw": false
              },
              "fromcurrent": true,
              "mode": "immediate",
              "transition": {
               "duration": 0,
               "easing": "linear"
              }
             }
            ],
            "label": "2024-09-17",
            "method": "animate"
           },
           {
            "args": [
             [
              "2024-09-18"
             ],
             {
              "frame": {
               "duration": 0,
               "redraw": false
              },
              "fromcurrent": true,
              "mode": "immediate",
              "transition": {
               "duration": 0,
               "easing": "linear"
              }
             }
            ],
            "label": "2024-09-18",
            "method": "animate"
           },
           {
            "args": [
             [
              "2024-09-19"
             ],
             {
              "frame": {
               "duration": 0,
               "redraw": false
              },
              "fromcurrent": true,
              "mode": "immediate",
              "transition": {
               "duration": 0,
               "easing": "linear"
              }
             }
            ],
            "label": "2024-09-19",
            "method": "animate"
           },
           {
            "args": [
             [
              "2024-09-20"
             ],
             {
              "frame": {
               "duration": 0,
               "redraw": false
              },
              "fromcurrent": true,
              "mode": "immediate",
              "transition": {
               "duration": 0,
               "easing": "linear"
              }
             }
            ],
            "label": "2024-09-20",
            "method": "animate"
           },
           {
            "args": [
             [
              "2024-09-23"
             ],
             {
              "frame": {
               "duration": 0,
               "redraw": false
              },
              "fromcurrent": true,
              "mode": "immediate",
              "transition": {
               "duration": 0,
               "easing": "linear"
              }
             }
            ],
            "label": "2024-09-23",
            "method": "animate"
           },
           {
            "args": [
             [
              "2024-09-24"
             ],
             {
              "frame": {
               "duration": 0,
               "redraw": false
              },
              "fromcurrent": true,
              "mode": "immediate",
              "transition": {
               "duration": 0,
               "easing": "linear"
              }
             }
            ],
            "label": "2024-09-24",
            "method": "animate"
           },
           {
            "args": [
             [
              "2024-09-25"
             ],
             {
              "frame": {
               "duration": 0,
               "redraw": false
              },
              "fromcurrent": true,
              "mode": "immediate",
              "transition": {
               "duration": 0,
               "easing": "linear"
              }
             }
            ],
            "label": "2024-09-25",
            "method": "animate"
           },
           {
            "args": [
             [
              "2024-09-26"
             ],
             {
              "frame": {
               "duration": 0,
               "redraw": false
              },
              "fromcurrent": true,
              "mode": "immediate",
              "transition": {
               "duration": 0,
               "easing": "linear"
              }
             }
            ],
            "label": "2024-09-26",
            "method": "animate"
           },
           {
            "args": [
             [
              "2024-09-27"
             ],
             {
              "frame": {
               "duration": 0,
               "redraw": false
              },
              "fromcurrent": true,
              "mode": "immediate",
              "transition": {
               "duration": 0,
               "easing": "linear"
              }
             }
            ],
            "label": "2024-09-27",
            "method": "animate"
           },
           {
            "args": [
             [
              "2024-09-30"
             ],
             {
              "frame": {
               "duration": 0,
               "redraw": false
              },
              "fromcurrent": true,
              "mode": "immediate",
              "transition": {
               "duration": 0,
               "easing": "linear"
              }
             }
            ],
            "label": "2024-09-30",
            "method": "animate"
           },
           {
            "args": [
             [
              "2024-10-01"
             ],
             {
              "frame": {
               "duration": 0,
               "redraw": false
              },
              "fromcurrent": true,
              "mode": "immediate",
              "transition": {
               "duration": 0,
               "easing": "linear"
              }
             }
            ],
            "label": "2024-10-01",
            "method": "animate"
           },
           {
            "args": [
             [
              "2024-10-02"
             ],
             {
              "frame": {
               "duration": 0,
               "redraw": false
              },
              "fromcurrent": true,
              "mode": "immediate",
              "transition": {
               "duration": 0,
               "easing": "linear"
              }
             }
            ],
            "label": "2024-10-02",
            "method": "animate"
           },
           {
            "args": [
             [
              "2024-10-03"
             ],
             {
              "frame": {
               "duration": 0,
               "redraw": false
              },
              "fromcurrent": true,
              "mode": "immediate",
              "transition": {
               "duration": 0,
               "easing": "linear"
              }
             }
            ],
            "label": "2024-10-03",
            "method": "animate"
           },
           {
            "args": [
             [
              "2024-10-04"
             ],
             {
              "frame": {
               "duration": 0,
               "redraw": false
              },
              "fromcurrent": true,
              "mode": "immediate",
              "transition": {
               "duration": 0,
               "easing": "linear"
              }
             }
            ],
            "label": "2024-10-04",
            "method": "animate"
           },
           {
            "args": [
             [
              "2024-10-07"
             ],
             {
              "frame": {
               "duration": 0,
               "redraw": false
              },
              "fromcurrent": true,
              "mode": "immediate",
              "transition": {
               "duration": 0,
               "easing": "linear"
              }
             }
            ],
            "label": "2024-10-07",
            "method": "animate"
           },
           {
            "args": [
             [
              "2024-10-08"
             ],
             {
              "frame": {
               "duration": 0,
               "redraw": false
              },
              "fromcurrent": true,
              "mode": "immediate",
              "transition": {
               "duration": 0,
               "easing": "linear"
              }
             }
            ],
            "label": "2024-10-08",
            "method": "animate"
           },
           {
            "args": [
             [
              "2024-10-09"
             ],
             {
              "frame": {
               "duration": 0,
               "redraw": false
              },
              "fromcurrent": true,
              "mode": "immediate",
              "transition": {
               "duration": 0,
               "easing": "linear"
              }
             }
            ],
            "label": "2024-10-09",
            "method": "animate"
           },
           {
            "args": [
             [
              "2024-10-10"
             ],
             {
              "frame": {
               "duration": 0,
               "redraw": false
              },
              "fromcurrent": true,
              "mode": "immediate",
              "transition": {
               "duration": 0,
               "easing": "linear"
              }
             }
            ],
            "label": "2024-10-10",
            "method": "animate"
           },
           {
            "args": [
             [
              "2024-10-11"
             ],
             {
              "frame": {
               "duration": 0,
               "redraw": false
              },
              "fromcurrent": true,
              "mode": "immediate",
              "transition": {
               "duration": 0,
               "easing": "linear"
              }
             }
            ],
            "label": "2024-10-11",
            "method": "animate"
           },
           {
            "args": [
             [
              "2024-10-14"
             ],
             {
              "frame": {
               "duration": 0,
               "redraw": false
              },
              "fromcurrent": true,
              "mode": "immediate",
              "transition": {
               "duration": 0,
               "easing": "linear"
              }
             }
            ],
            "label": "2024-10-14",
            "method": "animate"
           },
           {
            "args": [
             [
              "2024-10-15"
             ],
             {
              "frame": {
               "duration": 0,
               "redraw": false
              },
              "fromcurrent": true,
              "mode": "immediate",
              "transition": {
               "duration": 0,
               "easing": "linear"
              }
             }
            ],
            "label": "2024-10-15",
            "method": "animate"
           },
           {
            "args": [
             [
              "2024-10-16"
             ],
             {
              "frame": {
               "duration": 0,
               "redraw": false
              },
              "fromcurrent": true,
              "mode": "immediate",
              "transition": {
               "duration": 0,
               "easing": "linear"
              }
             }
            ],
            "label": "2024-10-16",
            "method": "animate"
           },
           {
            "args": [
             [
              "2024-10-17"
             ],
             {
              "frame": {
               "duration": 0,
               "redraw": false
              },
              "fromcurrent": true,
              "mode": "immediate",
              "transition": {
               "duration": 0,
               "easing": "linear"
              }
             }
            ],
            "label": "2024-10-17",
            "method": "animate"
           },
           {
            "args": [
             [
              "2024-10-18"
             ],
             {
              "frame": {
               "duration": 0,
               "redraw": false
              },
              "fromcurrent": true,
              "mode": "immediate",
              "transition": {
               "duration": 0,
               "easing": "linear"
              }
             }
            ],
            "label": "2024-10-18",
            "method": "animate"
           },
           {
            "args": [
             [
              "2024-10-21"
             ],
             {
              "frame": {
               "duration": 0,
               "redraw": false
              },
              "fromcurrent": true,
              "mode": "immediate",
              "transition": {
               "duration": 0,
               "easing": "linear"
              }
             }
            ],
            "label": "2024-10-21",
            "method": "animate"
           },
           {
            "args": [
             [
              "2024-10-22"
             ],
             {
              "frame": {
               "duration": 0,
               "redraw": false
              },
              "fromcurrent": true,
              "mode": "immediate",
              "transition": {
               "duration": 0,
               "easing": "linear"
              }
             }
            ],
            "label": "2024-10-22",
            "method": "animate"
           },
           {
            "args": [
             [
              "2024-10-23"
             ],
             {
              "frame": {
               "duration": 0,
               "redraw": false
              },
              "fromcurrent": true,
              "mode": "immediate",
              "transition": {
               "duration": 0,
               "easing": "linear"
              }
             }
            ],
            "label": "2024-10-23",
            "method": "animate"
           },
           {
            "args": [
             [
              "2024-10-24"
             ],
             {
              "frame": {
               "duration": 0,
               "redraw": false
              },
              "fromcurrent": true,
              "mode": "immediate",
              "transition": {
               "duration": 0,
               "easing": "linear"
              }
             }
            ],
            "label": "2024-10-24",
            "method": "animate"
           },
           {
            "args": [
             [
              "2024-10-25"
             ],
             {
              "frame": {
               "duration": 0,
               "redraw": false
              },
              "fromcurrent": true,
              "mode": "immediate",
              "transition": {
               "duration": 0,
               "easing": "linear"
              }
             }
            ],
            "label": "2024-10-25",
            "method": "animate"
           },
           {
            "args": [
             [
              "2024-10-28"
             ],
             {
              "frame": {
               "duration": 0,
               "redraw": false
              },
              "fromcurrent": true,
              "mode": "immediate",
              "transition": {
               "duration": 0,
               "easing": "linear"
              }
             }
            ],
            "label": "2024-10-28",
            "method": "animate"
           },
           {
            "args": [
             [
              "2024-10-29"
             ],
             {
              "frame": {
               "duration": 0,
               "redraw": false
              },
              "fromcurrent": true,
              "mode": "immediate",
              "transition": {
               "duration": 0,
               "easing": "linear"
              }
             }
            ],
            "label": "2024-10-29",
            "method": "animate"
           },
           {
            "args": [
             [
              "2024-10-30"
             ],
             {
              "frame": {
               "duration": 0,
               "redraw": false
              },
              "fromcurrent": true,
              "mode": "immediate",
              "transition": {
               "duration": 0,
               "easing": "linear"
              }
             }
            ],
            "label": "2024-10-30",
            "method": "animate"
           },
           {
            "args": [
             [
              "2024-10-31"
             ],
             {
              "frame": {
               "duration": 0,
               "redraw": false
              },
              "fromcurrent": true,
              "mode": "immediate",
              "transition": {
               "duration": 0,
               "easing": "linear"
              }
             }
            ],
            "label": "2024-10-31",
            "method": "animate"
           },
           {
            "args": [
             [
              "2024-11-01"
             ],
             {
              "frame": {
               "duration": 0,
               "redraw": false
              },
              "fromcurrent": true,
              "mode": "immediate",
              "transition": {
               "duration": 0,
               "easing": "linear"
              }
             }
            ],
            "label": "2024-11-01",
            "method": "animate"
           },
           {
            "args": [
             [
              "2024-11-04"
             ],
             {
              "frame": {
               "duration": 0,
               "redraw": false
              },
              "fromcurrent": true,
              "mode": "immediate",
              "transition": {
               "duration": 0,
               "easing": "linear"
              }
             }
            ],
            "label": "2024-11-04",
            "method": "animate"
           },
           {
            "args": [
             [
              "2024-11-05"
             ],
             {
              "frame": {
               "duration": 0,
               "redraw": false
              },
              "fromcurrent": true,
              "mode": "immediate",
              "transition": {
               "duration": 0,
               "easing": "linear"
              }
             }
            ],
            "label": "2024-11-05",
            "method": "animate"
           },
           {
            "args": [
             [
              "2024-11-06"
             ],
             {
              "frame": {
               "duration": 0,
               "redraw": false
              },
              "fromcurrent": true,
              "mode": "immediate",
              "transition": {
               "duration": 0,
               "easing": "linear"
              }
             }
            ],
            "label": "2024-11-06",
            "method": "animate"
           },
           {
            "args": [
             [
              "2024-11-07"
             ],
             {
              "frame": {
               "duration": 0,
               "redraw": false
              },
              "fromcurrent": true,
              "mode": "immediate",
              "transition": {
               "duration": 0,
               "easing": "linear"
              }
             }
            ],
            "label": "2024-11-07",
            "method": "animate"
           },
           {
            "args": [
             [
              "2024-11-08"
             ],
             {
              "frame": {
               "duration": 0,
               "redraw": false
              },
              "fromcurrent": true,
              "mode": "immediate",
              "transition": {
               "duration": 0,
               "easing": "linear"
              }
             }
            ],
            "label": "2024-11-08",
            "method": "animate"
           },
           {
            "args": [
             [
              "2024-11-11"
             ],
             {
              "frame": {
               "duration": 0,
               "redraw": false
              },
              "fromcurrent": true,
              "mode": "immediate",
              "transition": {
               "duration": 0,
               "easing": "linear"
              }
             }
            ],
            "label": "2024-11-11",
            "method": "animate"
           },
           {
            "args": [
             [
              "2024-11-12"
             ],
             {
              "frame": {
               "duration": 0,
               "redraw": false
              },
              "fromcurrent": true,
              "mode": "immediate",
              "transition": {
               "duration": 0,
               "easing": "linear"
              }
             }
            ],
            "label": "2024-11-12",
            "method": "animate"
           },
           {
            "args": [
             [
              "2024-11-13"
             ],
             {
              "frame": {
               "duration": 0,
               "redraw": false
              },
              "fromcurrent": true,
              "mode": "immediate",
              "transition": {
               "duration": 0,
               "easing": "linear"
              }
             }
            ],
            "label": "2024-11-13",
            "method": "animate"
           },
           {
            "args": [
             [
              "2024-11-14"
             ],
             {
              "frame": {
               "duration": 0,
               "redraw": false
              },
              "fromcurrent": true,
              "mode": "immediate",
              "transition": {
               "duration": 0,
               "easing": "linear"
              }
             }
            ],
            "label": "2024-11-14",
            "method": "animate"
           },
           {
            "args": [
             [
              "2024-11-18"
             ],
             {
              "frame": {
               "duration": 0,
               "redraw": false
              },
              "fromcurrent": true,
              "mode": "immediate",
              "transition": {
               "duration": 0,
               "easing": "linear"
              }
             }
            ],
            "label": "2024-11-18",
            "method": "animate"
           },
           {
            "args": [
             [
              "2024-11-19"
             ],
             {
              "frame": {
               "duration": 0,
               "redraw": false
              },
              "fromcurrent": true,
              "mode": "immediate",
              "transition": {
               "duration": 0,
               "easing": "linear"
              }
             }
            ],
            "label": "2024-11-19",
            "method": "animate"
           },
           {
            "args": [
             [
              "2024-11-21"
             ],
             {
              "frame": {
               "duration": 0,
               "redraw": false
              },
              "fromcurrent": true,
              "mode": "immediate",
              "transition": {
               "duration": 0,
               "easing": "linear"
              }
             }
            ],
            "label": "2024-11-21",
            "method": "animate"
           },
           {
            "args": [
             [
              "2024-11-22"
             ],
             {
              "frame": {
               "duration": 0,
               "redraw": false
              },
              "fromcurrent": true,
              "mode": "immediate",
              "transition": {
               "duration": 0,
               "easing": "linear"
              }
             }
            ],
            "label": "2024-11-22",
            "method": "animate"
           },
           {
            "args": [
             [
              "2024-11-25"
             ],
             {
              "frame": {
               "duration": 0,
               "redraw": false
              },
              "fromcurrent": true,
              "mode": "immediate",
              "transition": {
               "duration": 0,
               "easing": "linear"
              }
             }
            ],
            "label": "2024-11-25",
            "method": "animate"
           },
           {
            "args": [
             [
              "2024-11-26"
             ],
             {
              "frame": {
               "duration": 0,
               "redraw": false
              },
              "fromcurrent": true,
              "mode": "immediate",
              "transition": {
               "duration": 0,
               "easing": "linear"
              }
             }
            ],
            "label": "2024-11-26",
            "method": "animate"
           },
           {
            "args": [
             [
              "2024-11-27"
             ],
             {
              "frame": {
               "duration": 0,
               "redraw": false
              },
              "fromcurrent": true,
              "mode": "immediate",
              "transition": {
               "duration": 0,
               "easing": "linear"
              }
             }
            ],
            "label": "2024-11-27",
            "method": "animate"
           },
           {
            "args": [
             [
              "2024-11-28"
             ],
             {
              "frame": {
               "duration": 0,
               "redraw": false
              },
              "fromcurrent": true,
              "mode": "immediate",
              "transition": {
               "duration": 0,
               "easing": "linear"
              }
             }
            ],
            "label": "2024-11-28",
            "method": "animate"
           },
           {
            "args": [
             [
              "2024-11-29"
             ],
             {
              "frame": {
               "duration": 0,
               "redraw": false
              },
              "fromcurrent": true,
              "mode": "immediate",
              "transition": {
               "duration": 0,
               "easing": "linear"
              }
             }
            ],
            "label": "2024-11-29",
            "method": "animate"
           },
           {
            "args": [
             [
              "2024-12-02"
             ],
             {
              "frame": {
               "duration": 0,
               "redraw": false
              },
              "fromcurrent": true,
              "mode": "immediate",
              "transition": {
               "duration": 0,
               "easing": "linear"
              }
             }
            ],
            "label": "2024-12-02",
            "method": "animate"
           },
           {
            "args": [
             [
              "2024-12-03"
             ],
             {
              "frame": {
               "duration": 0,
               "redraw": false
              },
              "fromcurrent": true,
              "mode": "immediate",
              "transition": {
               "duration": 0,
               "easing": "linear"
              }
             }
            ],
            "label": "2024-12-03",
            "method": "animate"
           },
           {
            "args": [
             [
              "2024-12-04"
             ],
             {
              "frame": {
               "duration": 0,
               "redraw": false
              },
              "fromcurrent": true,
              "mode": "immediate",
              "transition": {
               "duration": 0,
               "easing": "linear"
              }
             }
            ],
            "label": "2024-12-04",
            "method": "animate"
           },
           {
            "args": [
             [
              "2024-12-05"
             ],
             {
              "frame": {
               "duration": 0,
               "redraw": false
              },
              "fromcurrent": true,
              "mode": "immediate",
              "transition": {
               "duration": 0,
               "easing": "linear"
              }
             }
            ],
            "label": "2024-12-05",
            "method": "animate"
           },
           {
            "args": [
             [
              "2024-12-06"
             ],
             {
              "frame": {
               "duration": 0,
               "redraw": false
              },
              "fromcurrent": true,
              "mode": "immediate",
              "transition": {
               "duration": 0,
               "easing": "linear"
              }
             }
            ],
            "label": "2024-12-06",
            "method": "animate"
           },
           {
            "args": [
             [
              "2024-12-09"
             ],
             {
              "frame": {
               "duration": 0,
               "redraw": false
              },
              "fromcurrent": true,
              "mode": "immediate",
              "transition": {
               "duration": 0,
               "easing": "linear"
              }
             }
            ],
            "label": "2024-12-09",
            "method": "animate"
           },
           {
            "args": [
             [
              "2024-12-10"
             ],
             {
              "frame": {
               "duration": 0,
               "redraw": false
              },
              "fromcurrent": true,
              "mode": "immediate",
              "transition": {
               "duration": 0,
               "easing": "linear"
              }
             }
            ],
            "label": "2024-12-10",
            "method": "animate"
           },
           {
            "args": [
             [
              "2024-12-11"
             ],
             {
              "frame": {
               "duration": 0,
               "redraw": false
              },
              "fromcurrent": true,
              "mode": "immediate",
              "transition": {
               "duration": 0,
               "easing": "linear"
              }
             }
            ],
            "label": "2024-12-11",
            "method": "animate"
           },
           {
            "args": [
             [
              "2024-12-12"
             ],
             {
              "frame": {
               "duration": 0,
               "redraw": false
              },
              "fromcurrent": true,
              "mode": "immediate",
              "transition": {
               "duration": 0,
               "easing": "linear"
              }
             }
            ],
            "label": "2024-12-12",
            "method": "animate"
           },
           {
            "args": [
             [
              "2024-12-13"
             ],
             {
              "frame": {
               "duration": 0,
               "redraw": false
              },
              "fromcurrent": true,
              "mode": "immediate",
              "transition": {
               "duration": 0,
               "easing": "linear"
              }
             }
            ],
            "label": "2024-12-13",
            "method": "animate"
           },
           {
            "args": [
             [
              "2024-12-16"
             ],
             {
              "frame": {
               "duration": 0,
               "redraw": false
              },
              "fromcurrent": true,
              "mode": "immediate",
              "transition": {
               "duration": 0,
               "easing": "linear"
              }
             }
            ],
            "label": "2024-12-16",
            "method": "animate"
           },
           {
            "args": [
             [
              "2024-12-17"
             ],
             {
              "frame": {
               "duration": 0,
               "redraw": false
              },
              "fromcurrent": true,
              "mode": "immediate",
              "transition": {
               "duration": 0,
               "easing": "linear"
              }
             }
            ],
            "label": "2024-12-17",
            "method": "animate"
           },
           {
            "args": [
             [
              "2024-12-18"
             ],
             {
              "frame": {
               "duration": 0,
               "redraw": false
              },
              "fromcurrent": true,
              "mode": "immediate",
              "transition": {
               "duration": 0,
               "easing": "linear"
              }
             }
            ],
            "label": "2024-12-18",
            "method": "animate"
           },
           {
            "args": [
             [
              "2024-12-19"
             ],
             {
              "frame": {
               "duration": 0,
               "redraw": false
              },
              "fromcurrent": true,
              "mode": "immediate",
              "transition": {
               "duration": 0,
               "easing": "linear"
              }
             }
            ],
            "label": "2024-12-19",
            "method": "animate"
           },
           {
            "args": [
             [
              "2024-12-20"
             ],
             {
              "frame": {
               "duration": 0,
               "redraw": false
              },
              "fromcurrent": true,
              "mode": "immediate",
              "transition": {
               "duration": 0,
               "easing": "linear"
              }
             }
            ],
            "label": "2024-12-20",
            "method": "animate"
           },
           {
            "args": [
             [
              "2024-12-23"
             ],
             {
              "frame": {
               "duration": 0,
               "redraw": false
              },
              "fromcurrent": true,
              "mode": "immediate",
              "transition": {
               "duration": 0,
               "easing": "linear"
              }
             }
            ],
            "label": "2024-12-23",
            "method": "animate"
           },
           {
            "args": [
             [
              "2024-12-26"
             ],
             {
              "frame": {
               "duration": 0,
               "redraw": false
              },
              "fromcurrent": true,
              "mode": "immediate",
              "transition": {
               "duration": 0,
               "easing": "linear"
              }
             }
            ],
            "label": "2024-12-26",
            "method": "animate"
           },
           {
            "args": [
             [
              "2024-12-27"
             ],
             {
              "frame": {
               "duration": 0,
               "redraw": false
              },
              "fromcurrent": true,
              "mode": "immediate",
              "transition": {
               "duration": 0,
               "easing": "linear"
              }
             }
            ],
            "label": "2024-12-27",
            "method": "animate"
           },
           {
            "args": [
             [
              "2024-12-30"
             ],
             {
              "frame": {
               "duration": 0,
               "redraw": false
              },
              "fromcurrent": true,
              "mode": "immediate",
              "transition": {
               "duration": 0,
               "easing": "linear"
              }
             }
            ],
            "label": "2024-12-30",
            "method": "animate"
           },
           {
            "args": [
             [
              "2025-01-02"
             ],
             {
              "frame": {
               "duration": 0,
               "redraw": false
              },
              "fromcurrent": true,
              "mode": "immediate",
              "transition": {
               "duration": 0,
               "easing": "linear"
              }
             }
            ],
            "label": "2025-01-02",
            "method": "animate"
           },
           {
            "args": [
             [
              "2025-01-03"
             ],
             {
              "frame": {
               "duration": 0,
               "redraw": false
              },
              "fromcurrent": true,
              "mode": "immediate",
              "transition": {
               "duration": 0,
               "easing": "linear"
              }
             }
            ],
            "label": "2025-01-03",
            "method": "animate"
           },
           {
            "args": [
             [
              "2025-01-06"
             ],
             {
              "frame": {
               "duration": 0,
               "redraw": false
              },
              "fromcurrent": true,
              "mode": "immediate",
              "transition": {
               "duration": 0,
               "easing": "linear"
              }
             }
            ],
            "label": "2025-01-06",
            "method": "animate"
           },
           {
            "args": [
             [
              "2025-01-07"
             ],
             {
              "frame": {
               "duration": 0,
               "redraw": false
              },
              "fromcurrent": true,
              "mode": "immediate",
              "transition": {
               "duration": 0,
               "easing": "linear"
              }
             }
            ],
            "label": "2025-01-07",
            "method": "animate"
           },
           {
            "args": [
             [
              "2025-01-08"
             ],
             {
              "frame": {
               "duration": 0,
               "redraw": false
              },
              "fromcurrent": true,
              "mode": "immediate",
              "transition": {
               "duration": 0,
               "easing": "linear"
              }
             }
            ],
            "label": "2025-01-08",
            "method": "animate"
           },
           {
            "args": [
             [
              "2025-01-09"
             ],
             {
              "frame": {
               "duration": 0,
               "redraw": false
              },
              "fromcurrent": true,
              "mode": "immediate",
              "transition": {
               "duration": 0,
               "easing": "linear"
              }
             }
            ],
            "label": "2025-01-09",
            "method": "animate"
           },
           {
            "args": [
             [
              "2025-01-10"
             ],
             {
              "frame": {
               "duration": 0,
               "redraw": false
              },
              "fromcurrent": true,
              "mode": "immediate",
              "transition": {
               "duration": 0,
               "easing": "linear"
              }
             }
            ],
            "label": "2025-01-10",
            "method": "animate"
           },
           {
            "args": [
             [
              "2025-01-13"
             ],
             {
              "frame": {
               "duration": 0,
               "redraw": false
              },
              "fromcurrent": true,
              "mode": "immediate",
              "transition": {
               "duration": 0,
               "easing": "linear"
              }
             }
            ],
            "label": "2025-01-13",
            "method": "animate"
           },
           {
            "args": [
             [
              "2025-01-14"
             ],
             {
              "frame": {
               "duration": 0,
               "redraw": false
              },
              "fromcurrent": true,
              "mode": "immediate",
              "transition": {
               "duration": 0,
               "easing": "linear"
              }
             }
            ],
            "label": "2025-01-14",
            "method": "animate"
           },
           {
            "args": [
             [
              "2025-01-15"
             ],
             {
              "frame": {
               "duration": 0,
               "redraw": false
              },
              "fromcurrent": true,
              "mode": "immediate",
              "transition": {
               "duration": 0,
               "easing": "linear"
              }
             }
            ],
            "label": "2025-01-15",
            "method": "animate"
           },
           {
            "args": [
             [
              "2025-01-16"
             ],
             {
              "frame": {
               "duration": 0,
               "redraw": false
              },
              "fromcurrent": true,
              "mode": "immediate",
              "transition": {
               "duration": 0,
               "easing": "linear"
              }
             }
            ],
            "label": "2025-01-16",
            "method": "animate"
           },
           {
            "args": [
             [
              "2025-01-17"
             ],
             {
              "frame": {
               "duration": 0,
               "redraw": false
              },
              "fromcurrent": true,
              "mode": "immediate",
              "transition": {
               "duration": 0,
               "easing": "linear"
              }
             }
            ],
            "label": "2025-01-17",
            "method": "animate"
           },
           {
            "args": [
             [
              "2025-01-20"
             ],
             {
              "frame": {
               "duration": 0,
               "redraw": false
              },
              "fromcurrent": true,
              "mode": "immediate",
              "transition": {
               "duration": 0,
               "easing": "linear"
              }
             }
            ],
            "label": "2025-01-20",
            "method": "animate"
           },
           {
            "args": [
             [
              "2025-01-21"
             ],
             {
              "frame": {
               "duration": 0,
               "redraw": false
              },
              "fromcurrent": true,
              "mode": "immediate",
              "transition": {
               "duration": 0,
               "easing": "linear"
              }
             }
            ],
            "label": "2025-01-21",
            "method": "animate"
           },
           {
            "args": [
             [
              "2025-01-22"
             ],
             {
              "frame": {
               "duration": 0,
               "redraw": false
              },
              "fromcurrent": true,
              "mode": "immediate",
              "transition": {
               "duration": 0,
               "easing": "linear"
              }
             }
            ],
            "label": "2025-01-22",
            "method": "animate"
           },
           {
            "args": [
             [
              "2025-01-23"
             ],
             {
              "frame": {
               "duration": 0,
               "redraw": false
              },
              "fromcurrent": true,
              "mode": "immediate",
              "transition": {
               "duration": 0,
               "easing": "linear"
              }
             }
            ],
            "label": "2025-01-23",
            "method": "animate"
           },
           {
            "args": [
             [
              "2025-01-24"
             ],
             {
              "frame": {
               "duration": 0,
               "redraw": false
              },
              "fromcurrent": true,
              "mode": "immediate",
              "transition": {
               "duration": 0,
               "easing": "linear"
              }
             }
            ],
            "label": "2025-01-24",
            "method": "animate"
           },
           {
            "args": [
             [
              "2025-01-27"
             ],
             {
              "frame": {
               "duration": 0,
               "redraw": false
              },
              "fromcurrent": true,
              "mode": "immediate",
              "transition": {
               "duration": 0,
               "easing": "linear"
              }
             }
            ],
            "label": "2025-01-27",
            "method": "animate"
           },
           {
            "args": [
             [
              "2025-01-28"
             ],
             {
              "frame": {
               "duration": 0,
               "redraw": false
              },
              "fromcurrent": true,
              "mode": "immediate",
              "transition": {
               "duration": 0,
               "easing": "linear"
              }
             }
            ],
            "label": "2025-01-28",
            "method": "animate"
           },
           {
            "args": [
             [
              "2025-01-29"
             ],
             {
              "frame": {
               "duration": 0,
               "redraw": false
              },
              "fromcurrent": true,
              "mode": "immediate",
              "transition": {
               "duration": 0,
               "easing": "linear"
              }
             }
            ],
            "label": "2025-01-29",
            "method": "animate"
           },
           {
            "args": [
             [
              "2025-01-30"
             ],
             {
              "frame": {
               "duration": 0,
               "redraw": false
              },
              "fromcurrent": true,
              "mode": "immediate",
              "transition": {
               "duration": 0,
               "easing": "linear"
              }
             }
            ],
            "label": "2025-01-30",
            "method": "animate"
           },
           {
            "args": [
             [
              "2025-01-31"
             ],
             {
              "frame": {
               "duration": 0,
               "redraw": false
              },
              "fromcurrent": true,
              "mode": "immediate",
              "transition": {
               "duration": 0,
               "easing": "linear"
              }
             }
            ],
            "label": "2025-01-31",
            "method": "animate"
           },
           {
            "args": [
             [
              "2025-02-03"
             ],
             {
              "frame": {
               "duration": 0,
               "redraw": false
              },
              "fromcurrent": true,
              "mode": "immediate",
              "transition": {
               "duration": 0,
               "easing": "linear"
              }
             }
            ],
            "label": "2025-02-03",
            "method": "animate"
           },
           {
            "args": [
             [
              "2025-02-04"
             ],
             {
              "frame": {
               "duration": 0,
               "redraw": false
              },
              "fromcurrent": true,
              "mode": "immediate",
              "transition": {
               "duration": 0,
               "easing": "linear"
              }
             }
            ],
            "label": "2025-02-04",
            "method": "animate"
           },
           {
            "args": [
             [
              "2025-02-05"
             ],
             {
              "frame": {
               "duration": 0,
               "redraw": false
              },
              "fromcurrent": true,
              "mode": "immediate",
              "transition": {
               "duration": 0,
               "easing": "linear"
              }
             }
            ],
            "label": "2025-02-05",
            "method": "animate"
           },
           {
            "args": [
             [
              "2025-02-06"
             ],
             {
              "frame": {
               "duration": 0,
               "redraw": false
              },
              "fromcurrent": true,
              "mode": "immediate",
              "transition": {
               "duration": 0,
               "easing": "linear"
              }
             }
            ],
            "label": "2025-02-06",
            "method": "animate"
           },
           {
            "args": [
             [
              "2025-02-07"
             ],
             {
              "frame": {
               "duration": 0,
               "redraw": false
              },
              "fromcurrent": true,
              "mode": "immediate",
              "transition": {
               "duration": 0,
               "easing": "linear"
              }
             }
            ],
            "label": "2025-02-07",
            "method": "animate"
           },
           {
            "args": [
             [
              "2025-02-10"
             ],
             {
              "frame": {
               "duration": 0,
               "redraw": false
              },
              "fromcurrent": true,
              "mode": "immediate",
              "transition": {
               "duration": 0,
               "easing": "linear"
              }
             }
            ],
            "label": "2025-02-10",
            "method": "animate"
           },
           {
            "args": [
             [
              "2025-02-11"
             ],
             {
              "frame": {
               "duration": 0,
               "redraw": false
              },
              "fromcurrent": true,
              "mode": "immediate",
              "transition": {
               "duration": 0,
               "easing": "linear"
              }
             }
            ],
            "label": "2025-02-11",
            "method": "animate"
           },
           {
            "args": [
             [
              "2025-02-12"
             ],
             {
              "frame": {
               "duration": 0,
               "redraw": false
              },
              "fromcurrent": true,
              "mode": "immediate",
              "transition": {
               "duration": 0,
               "easing": "linear"
              }
             }
            ],
            "label": "2025-02-12",
            "method": "animate"
           },
           {
            "args": [
             [
              "2025-02-13"
             ],
             {
              "frame": {
               "duration": 0,
               "redraw": false
              },
              "fromcurrent": true,
              "mode": "immediate",
              "transition": {
               "duration": 0,
               "easing": "linear"
              }
             }
            ],
            "label": "2025-02-13",
            "method": "animate"
           },
           {
            "args": [
             [
              "2025-02-14"
             ],
             {
              "frame": {
               "duration": 0,
               "redraw": false
              },
              "fromcurrent": true,
              "mode": "immediate",
              "transition": {
               "duration": 0,
               "easing": "linear"
              }
             }
            ],
            "label": "2025-02-14",
            "method": "animate"
           },
           {
            "args": [
             [
              "2025-02-17"
             ],
             {
              "frame": {
               "duration": 0,
               "redraw": false
              },
              "fromcurrent": true,
              "mode": "immediate",
              "transition": {
               "duration": 0,
               "easing": "linear"
              }
             }
            ],
            "label": "2025-02-17",
            "method": "animate"
           },
           {
            "args": [
             [
              "2025-02-18"
             ],
             {
              "frame": {
               "duration": 0,
               "redraw": false
              },
              "fromcurrent": true,
              "mode": "immediate",
              "transition": {
               "duration": 0,
               "easing": "linear"
              }
             }
            ],
            "label": "2025-02-18",
            "method": "animate"
           },
           {
            "args": [
             [
              "2025-02-19"
             ],
             {
              "frame": {
               "duration": 0,
               "redraw": false
              },
              "fromcurrent": true,
              "mode": "immediate",
              "transition": {
               "duration": 0,
               "easing": "linear"
              }
             }
            ],
            "label": "2025-02-19",
            "method": "animate"
           },
           {
            "args": [
             [
              "2025-02-20"
             ],
             {
              "frame": {
               "duration": 0,
               "redraw": false
              },
              "fromcurrent": true,
              "mode": "immediate",
              "transition": {
               "duration": 0,
               "easing": "linear"
              }
             }
            ],
            "label": "2025-02-20",
            "method": "animate"
           },
           {
            "args": [
             [
              "2025-02-21"
             ],
             {
              "frame": {
               "duration": 0,
               "redraw": false
              },
              "fromcurrent": true,
              "mode": "immediate",
              "transition": {
               "duration": 0,
               "easing": "linear"
              }
             }
            ],
            "label": "2025-02-21",
            "method": "animate"
           },
           {
            "args": [
             [
              "2025-02-24"
             ],
             {
              "frame": {
               "duration": 0,
               "redraw": false
              },
              "fromcurrent": true,
              "mode": "immediate",
              "transition": {
               "duration": 0,
               "easing": "linear"
              }
             }
            ],
            "label": "2025-02-24",
            "method": "animate"
           },
           {
            "args": [
             [
              "2025-02-25"
             ],
             {
              "frame": {
               "duration": 0,
               "redraw": false
              },
              "fromcurrent": true,
              "mode": "immediate",
              "transition": {
               "duration": 0,
               "easing": "linear"
              }
             }
            ],
            "label": "2025-02-25",
            "method": "animate"
           },
           {
            "args": [
             [
              "2025-02-26"
             ],
             {
              "frame": {
               "duration": 0,
               "redraw": false
              },
              "fromcurrent": true,
              "mode": "immediate",
              "transition": {
               "duration": 0,
               "easing": "linear"
              }
             }
            ],
            "label": "2025-02-26",
            "method": "animate"
           },
           {
            "args": [
             [
              "2025-02-27"
             ],
             {
              "frame": {
               "duration": 0,
               "redraw": false
              },
              "fromcurrent": true,
              "mode": "immediate",
              "transition": {
               "duration": 0,
               "easing": "linear"
              }
             }
            ],
            "label": "2025-02-27",
            "method": "animate"
           },
           {
            "args": [
             [
              "2025-02-28"
             ],
             {
              "frame": {
               "duration": 0,
               "redraw": false
              },
              "fromcurrent": true,
              "mode": "immediate",
              "transition": {
               "duration": 0,
               "easing": "linear"
              }
             }
            ],
            "label": "2025-02-28",
            "method": "animate"
           },
           {
            "args": [
             [
              "2025-03-05"
             ],
             {
              "frame": {
               "duration": 0,
               "redraw": false
              },
              "fromcurrent": true,
              "mode": "immediate",
              "transition": {
               "duration": 0,
               "easing": "linear"
              }
             }
            ],
            "label": "2025-03-05",
            "method": "animate"
           },
           {
            "args": [
             [
              "2025-03-06"
             ],
             {
              "frame": {
               "duration": 0,
               "redraw": false
              },
              "fromcurrent": true,
              "mode": "immediate",
              "transition": {
               "duration": 0,
               "easing": "linear"
              }
             }
            ],
            "label": "2025-03-06",
            "method": "animate"
           },
           {
            "args": [
             [
              "2025-03-07"
             ],
             {
              "frame": {
               "duration": 0,
               "redraw": false
              },
              "fromcurrent": true,
              "mode": "immediate",
              "transition": {
               "duration": 0,
               "easing": "linear"
              }
             }
            ],
            "label": "2025-03-07",
            "method": "animate"
           },
           {
            "args": [
             [
              "2025-03-10"
             ],
             {
              "frame": {
               "duration": 0,
               "redraw": false
              },
              "fromcurrent": true,
              "mode": "immediate",
              "transition": {
               "duration": 0,
               "easing": "linear"
              }
             }
            ],
            "label": "2025-03-10",
            "method": "animate"
           },
           {
            "args": [
             [
              "2025-03-11"
             ],
             {
              "frame": {
               "duration": 0,
               "redraw": false
              },
              "fromcurrent": true,
              "mode": "immediate",
              "transition": {
               "duration": 0,
               "easing": "linear"
              }
             }
            ],
            "label": "2025-03-11",
            "method": "animate"
           },
           {
            "args": [
             [
              "2025-03-12"
             ],
             {
              "frame": {
               "duration": 0,
               "redraw": false
              },
              "fromcurrent": true,
              "mode": "immediate",
              "transition": {
               "duration": 0,
               "easing": "linear"
              }
             }
            ],
            "label": "2025-03-12",
            "method": "animate"
           },
           {
            "args": [
             [
              "2025-03-13"
             ],
             {
              "frame": {
               "duration": 0,
               "redraw": false
              },
              "fromcurrent": true,
              "mode": "immediate",
              "transition": {
               "duration": 0,
               "easing": "linear"
              }
             }
            ],
            "label": "2025-03-13",
            "method": "animate"
           },
           {
            "args": [
             [
              "2025-03-14"
             ],
             {
              "frame": {
               "duration": 0,
               "redraw": false
              },
              "fromcurrent": true,
              "mode": "immediate",
              "transition": {
               "duration": 0,
               "easing": "linear"
              }
             }
            ],
            "label": "2025-03-14",
            "method": "animate"
           },
           {
            "args": [
             [
              "2025-03-17"
             ],
             {
              "frame": {
               "duration": 0,
               "redraw": false
              },
              "fromcurrent": true,
              "mode": "immediate",
              "transition": {
               "duration": 0,
               "easing": "linear"
              }
             }
            ],
            "label": "2025-03-17",
            "method": "animate"
           },
           {
            "args": [
             [
              "2025-03-18"
             ],
             {
              "frame": {
               "duration": 0,
               "redraw": false
              },
              "fromcurrent": true,
              "mode": "immediate",
              "transition": {
               "duration": 0,
               "easing": "linear"
              }
             }
            ],
            "label": "2025-03-18",
            "method": "animate"
           },
           {
            "args": [
             [
              "2025-03-19"
             ],
             {
              "frame": {
               "duration": 0,
               "redraw": false
              },
              "fromcurrent": true,
              "mode": "immediate",
              "transition": {
               "duration": 0,
               "easing": "linear"
              }
             }
            ],
            "label": "2025-03-19",
            "method": "animate"
           },
           {
            "args": [
             [
              "2025-03-20"
             ],
             {
              "frame": {
               "duration": 0,
               "redraw": false
              },
              "fromcurrent": true,
              "mode": "immediate",
              "transition": {
               "duration": 0,
               "easing": "linear"
              }
             }
            ],
            "label": "2025-03-20",
            "method": "animate"
           },
           {
            "args": [
             [
              "2025-03-21"
             ],
             {
              "frame": {
               "duration": 0,
               "redraw": false
              },
              "fromcurrent": true,
              "mode": "immediate",
              "transition": {
               "duration": 0,
               "easing": "linear"
              }
             }
            ],
            "label": "2025-03-21",
            "method": "animate"
           },
           {
            "args": [
             [
              "2025-03-24"
             ],
             {
              "frame": {
               "duration": 0,
               "redraw": false
              },
              "fromcurrent": true,
              "mode": "immediate",
              "transition": {
               "duration": 0,
               "easing": "linear"
              }
             }
            ],
            "label": "2025-03-24",
            "method": "animate"
           },
           {
            "args": [
             [
              "2025-03-25"
             ],
             {
              "frame": {
               "duration": 0,
               "redraw": false
              },
              "fromcurrent": true,
              "mode": "immediate",
              "transition": {
               "duration": 0,
               "easing": "linear"
              }
             }
            ],
            "label": "2025-03-25",
            "method": "animate"
           },
           {
            "args": [
             [
              "2025-03-26"
             ],
             {
              "frame": {
               "duration": 0,
               "redraw": false
              },
              "fromcurrent": true,
              "mode": "immediate",
              "transition": {
               "duration": 0,
               "easing": "linear"
              }
             }
            ],
            "label": "2025-03-26",
            "method": "animate"
           },
           {
            "args": [
             [
              "2025-03-27"
             ],
             {
              "frame": {
               "duration": 0,
               "redraw": false
              },
              "fromcurrent": true,
              "mode": "immediate",
              "transition": {
               "duration": 0,
               "easing": "linear"
              }
             }
            ],
            "label": "2025-03-27",
            "method": "animate"
           },
           {
            "args": [
             [
              "2025-03-28"
             ],
             {
              "frame": {
               "duration": 0,
               "redraw": false
              },
              "fromcurrent": true,
              "mode": "immediate",
              "transition": {
               "duration": 0,
               "easing": "linear"
              }
             }
            ],
            "label": "2025-03-28",
            "method": "animate"
           },
           {
            "args": [
             [
              "2025-03-31"
             ],
             {
              "frame": {
               "duration": 0,
               "redraw": false
              },
              "fromcurrent": true,
              "mode": "immediate",
              "transition": {
               "duration": 0,
               "easing": "linear"
              }
             }
            ],
            "label": "2025-03-31",
            "method": "animate"
           },
           {
            "args": [
             [
              "2025-04-01"
             ],
             {
              "frame": {
               "duration": 0,
               "redraw": false
              },
              "fromcurrent": true,
              "mode": "immediate",
              "transition": {
               "duration": 0,
               "easing": "linear"
              }
             }
            ],
            "label": "2025-04-01",
            "method": "animate"
           },
           {
            "args": [
             [
              "2025-04-02"
             ],
             {
              "frame": {
               "duration": 0,
               "redraw": false
              },
              "fromcurrent": true,
              "mode": "immediate",
              "transition": {
               "duration": 0,
               "easing": "linear"
              }
             }
            ],
            "label": "2025-04-02",
            "method": "animate"
           },
           {
            "args": [
             [
              "2025-04-03"
             ],
             {
              "frame": {
               "duration": 0,
               "redraw": false
              },
              "fromcurrent": true,
              "mode": "immediate",
              "transition": {
               "duration": 0,
               "easing": "linear"
              }
             }
            ],
            "label": "2025-04-03",
            "method": "animate"
           },
           {
            "args": [
             [
              "2025-04-04"
             ],
             {
              "frame": {
               "duration": 0,
               "redraw": false
              },
              "fromcurrent": true,
              "mode": "immediate",
              "transition": {
               "duration": 0,
               "easing": "linear"
              }
             }
            ],
            "label": "2025-04-04",
            "method": "animate"
           },
           {
            "args": [
             [
              "2025-04-07"
             ],
             {
              "frame": {
               "duration": 0,
               "redraw": false
              },
              "fromcurrent": true,
              "mode": "immediate",
              "transition": {
               "duration": 0,
               "easing": "linear"
              }
             }
            ],
            "label": "2025-04-07",
            "method": "animate"
           },
           {
            "args": [
             [
              "2025-04-08"
             ],
             {
              "frame": {
               "duration": 0,
               "redraw": false
              },
              "fromcurrent": true,
              "mode": "immediate",
              "transition": {
               "duration": 0,
               "easing": "linear"
              }
             }
            ],
            "label": "2025-04-08",
            "method": "animate"
           },
           {
            "args": [
             [
              "2025-04-09"
             ],
             {
              "frame": {
               "duration": 0,
               "redraw": false
              },
              "fromcurrent": true,
              "mode": "immediate",
              "transition": {
               "duration": 0,
               "easing": "linear"
              }
             }
            ],
            "label": "2025-04-09",
            "method": "animate"
           },
           {
            "args": [
             [
              "2025-04-10"
             ],
             {
              "frame": {
               "duration": 0,
               "redraw": false
              },
              "fromcurrent": true,
              "mode": "immediate",
              "transition": {
               "duration": 0,
               "easing": "linear"
              }
             }
            ],
            "label": "2025-04-10",
            "method": "animate"
           },
           {
            "args": [
             [
              "2025-04-11"
             ],
             {
              "frame": {
               "duration": 0,
               "redraw": false
              },
              "fromcurrent": true,
              "mode": "immediate",
              "transition": {
               "duration": 0,
               "easing": "linear"
              }
             }
            ],
            "label": "2025-04-11",
            "method": "animate"
           },
           {
            "args": [
             [
              "2025-04-14"
             ],
             {
              "frame": {
               "duration": 0,
               "redraw": false
              },
              "fromcurrent": true,
              "mode": "immediate",
              "transition": {
               "duration": 0,
               "easing": "linear"
              }
             }
            ],
            "label": "2025-04-14",
            "method": "animate"
           },
           {
            "args": [
             [
              "2025-04-15"
             ],
             {
              "frame": {
               "duration": 0,
               "redraw": false
              },
              "fromcurrent": true,
              "mode": "immediate",
              "transition": {
               "duration": 0,
               "easing": "linear"
              }
             }
            ],
            "label": "2025-04-15",
            "method": "animate"
           },
           {
            "args": [
             [
              "2025-04-16"
             ],
             {
              "frame": {
               "duration": 0,
               "redraw": false
              },
              "fromcurrent": true,
              "mode": "immediate",
              "transition": {
               "duration": 0,
               "easing": "linear"
              }
             }
            ],
            "label": "2025-04-16",
            "method": "animate"
           },
           {
            "args": [
             [
              "2025-04-17"
             ],
             {
              "frame": {
               "duration": 0,
               "redraw": false
              },
              "fromcurrent": true,
              "mode": "immediate",
              "transition": {
               "duration": 0,
               "easing": "linear"
              }
             }
            ],
            "label": "2025-04-17",
            "method": "animate"
           },
           {
            "args": [
             [
              "2025-04-22"
             ],
             {
              "frame": {
               "duration": 0,
               "redraw": false
              },
              "fromcurrent": true,
              "mode": "immediate",
              "transition": {
               "duration": 0,
               "easing": "linear"
              }
             }
            ],
            "label": "2025-04-22",
            "method": "animate"
           },
           {
            "args": [
             [
              "2025-04-23"
             ],
             {
              "frame": {
               "duration": 0,
               "redraw": false
              },
              "fromcurrent": true,
              "mode": "immediate",
              "transition": {
               "duration": 0,
               "easing": "linear"
              }
             }
            ],
            "label": "2025-04-23",
            "method": "animate"
           },
           {
            "args": [
             [
              "2025-04-24"
             ],
             {
              "frame": {
               "duration": 0,
               "redraw": false
              },
              "fromcurrent": true,
              "mode": "immediate",
              "transition": {
               "duration": 0,
               "easing": "linear"
              }
             }
            ],
            "label": "2025-04-24",
            "method": "animate"
           },
           {
            "args": [
             [
              "2025-04-25"
             ],
             {
              "frame": {
               "duration": 0,
               "redraw": false
              },
              "fromcurrent": true,
              "mode": "immediate",
              "transition": {
               "duration": 0,
               "easing": "linear"
              }
             }
            ],
            "label": "2025-04-25",
            "method": "animate"
           },
           {
            "args": [
             [
              "2025-04-28"
             ],
             {
              "frame": {
               "duration": 0,
               "redraw": false
              },
              "fromcurrent": true,
              "mode": "immediate",
              "transition": {
               "duration": 0,
               "easing": "linear"
              }
             }
            ],
            "label": "2025-04-28",
            "method": "animate"
           },
           {
            "args": [
             [
              "2025-04-29"
             ],
             {
              "frame": {
               "duration": 0,
               "redraw": false
              },
              "fromcurrent": true,
              "mode": "immediate",
              "transition": {
               "duration": 0,
               "easing": "linear"
              }
             }
            ],
            "label": "2025-04-29",
            "method": "animate"
           },
           {
            "args": [
             [
              "2025-04-30"
             ],
             {
              "frame": {
               "duration": 0,
               "redraw": false
              },
              "fromcurrent": true,
              "mode": "immediate",
              "transition": {
               "duration": 0,
               "easing": "linear"
              }
             }
            ],
            "label": "2025-04-30",
            "method": "animate"
           },
           {
            "args": [
             [
              "2025-05-02"
             ],
             {
              "frame": {
               "duration": 0,
               "redraw": false
              },
              "fromcurrent": true,
              "mode": "immediate",
              "transition": {
               "duration": 0,
               "easing": "linear"
              }
             }
            ],
            "label": "2025-05-02",
            "method": "animate"
           },
           {
            "args": [
             [
              "2025-05-05"
             ],
             {
              "frame": {
               "duration": 0,
               "redraw": false
              },
              "fromcurrent": true,
              "mode": "immediate",
              "transition": {
               "duration": 0,
               "easing": "linear"
              }
             }
            ],
            "label": "2025-05-05",
            "method": "animate"
           }
          ],
          "x": 0.1,
          "xanchor": "left",
          "y": 0,
          "yanchor": "top"
         }
        ],
        "template": {
         "data": {
          "bar": [
           {
            "error_x": {
             "color": "#f2f5fa"
            },
            "error_y": {
             "color": "#f2f5fa"
            },
            "marker": {
             "line": {
              "color": "rgb(17,17,17)",
              "width": 0.5
             },
             "pattern": {
              "fillmode": "overlay",
              "size": 10,
              "solidity": 0.2
             }
            },
            "type": "bar"
           }
          ],
          "barpolar": [
           {
            "marker": {
             "line": {
              "color": "rgb(17,17,17)",
              "width": 0.5
             },
             "pattern": {
              "fillmode": "overlay",
              "size": 10,
              "solidity": 0.2
             }
            },
            "type": "barpolar"
           }
          ],
          "carpet": [
           {
            "aaxis": {
             "endlinecolor": "#A2B1C6",
             "gridcolor": "#506784",
             "linecolor": "#506784",
             "minorgridcolor": "#506784",
             "startlinecolor": "#A2B1C6"
            },
            "baxis": {
             "endlinecolor": "#A2B1C6",
             "gridcolor": "#506784",
             "linecolor": "#506784",
             "minorgridcolor": "#506784",
             "startlinecolor": "#A2B1C6"
            },
            "type": "carpet"
           }
          ],
          "choropleth": [
           {
            "colorbar": {
             "outlinewidth": 0,
             "ticks": ""
            },
            "type": "choropleth"
           }
          ],
          "contour": [
           {
            "colorbar": {
             "outlinewidth": 0,
             "ticks": ""
            },
            "colorscale": [
             [
              0,
              "#0d0887"
             ],
             [
              0.1111111111111111,
              "#46039f"
             ],
             [
              0.2222222222222222,
              "#7201a8"
             ],
             [
              0.3333333333333333,
              "#9c179e"
             ],
             [
              0.4444444444444444,
              "#bd3786"
             ],
             [
              0.5555555555555556,
              "#d8576b"
             ],
             [
              0.6666666666666666,
              "#ed7953"
             ],
             [
              0.7777777777777778,
              "#fb9f3a"
             ],
             [
              0.8888888888888888,
              "#fdca26"
             ],
             [
              1,
              "#f0f921"
             ]
            ],
            "type": "contour"
           }
          ],
          "contourcarpet": [
           {
            "colorbar": {
             "outlinewidth": 0,
             "ticks": ""
            },
            "type": "contourcarpet"
           }
          ],
          "heatmap": [
           {
            "colorbar": {
             "outlinewidth": 0,
             "ticks": ""
            },
            "colorscale": [
             [
              0,
              "#0d0887"
             ],
             [
              0.1111111111111111,
              "#46039f"
             ],
             [
              0.2222222222222222,
              "#7201a8"
             ],
             [
              0.3333333333333333,
              "#9c179e"
             ],
             [
              0.4444444444444444,
              "#bd3786"
             ],
             [
              0.5555555555555556,
              "#d8576b"
             ],
             [
              0.6666666666666666,
              "#ed7953"
             ],
             [
              0.7777777777777778,
              "#fb9f3a"
             ],
             [
              0.8888888888888888,
              "#fdca26"
             ],
             [
              1,
              "#f0f921"
             ]
            ],
            "type": "heatmap"
           }
          ],
          "heatmapgl": [
           {
            "colorbar": {
             "outlinewidth": 0,
             "ticks": ""
            },
            "colorscale": [
             [
              0,
              "#0d0887"
             ],
             [
              0.1111111111111111,
              "#46039f"
             ],
             [
              0.2222222222222222,
              "#7201a8"
             ],
             [
              0.3333333333333333,
              "#9c179e"
             ],
             [
              0.4444444444444444,
              "#bd3786"
             ],
             [
              0.5555555555555556,
              "#d8576b"
             ],
             [
              0.6666666666666666,
              "#ed7953"
             ],
             [
              0.7777777777777778,
              "#fb9f3a"
             ],
             [
              0.8888888888888888,
              "#fdca26"
             ],
             [
              1,
              "#f0f921"
             ]
            ],
            "type": "heatmapgl"
           }
          ],
          "histogram": [
           {
            "marker": {
             "pattern": {
              "fillmode": "overlay",
              "size": 10,
              "solidity": 0.2
             }
            },
            "type": "histogram"
           }
          ],
          "histogram2d": [
           {
            "colorbar": {
             "outlinewidth": 0,
             "ticks": ""
            },
            "colorscale": [
             [
              0,
              "#0d0887"
             ],
             [
              0.1111111111111111,
              "#46039f"
             ],
             [
              0.2222222222222222,
              "#7201a8"
             ],
             [
              0.3333333333333333,
              "#9c179e"
             ],
             [
              0.4444444444444444,
              "#bd3786"
             ],
             [
              0.5555555555555556,
              "#d8576b"
             ],
             [
              0.6666666666666666,
              "#ed7953"
             ],
             [
              0.7777777777777778,
              "#fb9f3a"
             ],
             [
              0.8888888888888888,
              "#fdca26"
             ],
             [
              1,
              "#f0f921"
             ]
            ],
            "type": "histogram2d"
           }
          ],
          "histogram2dcontour": [
           {
            "colorbar": {
             "outlinewidth": 0,
             "ticks": ""
            },
            "colorscale": [
             [
              0,
              "#0d0887"
             ],
             [
              0.1111111111111111,
              "#46039f"
             ],
             [
              0.2222222222222222,
              "#7201a8"
             ],
             [
              0.3333333333333333,
              "#9c179e"
             ],
             [
              0.4444444444444444,
              "#bd3786"
             ],
             [
              0.5555555555555556,
              "#d8576b"
             ],
             [
              0.6666666666666666,
              "#ed7953"
             ],
             [
              0.7777777777777778,
              "#fb9f3a"
             ],
             [
              0.8888888888888888,
              "#fdca26"
             ],
             [
              1,
              "#f0f921"
             ]
            ],
            "type": "histogram2dcontour"
           }
          ],
          "mesh3d": [
           {
            "colorbar": {
             "outlinewidth": 0,
             "ticks": ""
            },
            "type": "mesh3d"
           }
          ],
          "parcoords": [
           {
            "line": {
             "colorbar": {
              "outlinewidth": 0,
              "ticks": ""
             }
            },
            "type": "parcoords"
           }
          ],
          "pie": [
           {
            "automargin": true,
            "type": "pie"
           }
          ],
          "scatter": [
           {
            "marker": {
             "line": {
              "color": "#283442"
             }
            },
            "type": "scatter"
           }
          ],
          "scatter3d": [
           {
            "line": {
             "colorbar": {
              "outlinewidth": 0,
              "ticks": ""
             }
            },
            "marker": {
             "colorbar": {
              "outlinewidth": 0,
              "ticks": ""
             }
            },
            "type": "scatter3d"
           }
          ],
          "scattercarpet": [
           {
            "marker": {
             "colorbar": {
              "outlinewidth": 0,
              "ticks": ""
             }
            },
            "type": "scattercarpet"
           }
          ],
          "scattergeo": [
           {
            "marker": {
             "colorbar": {
              "outlinewidth": 0,
              "ticks": ""
             }
            },
            "type": "scattergeo"
           }
          ],
          "scattergl": [
           {
            "marker": {
             "line": {
              "color": "#283442"
             }
            },
            "type": "scattergl"
           }
          ],
          "scattermapbox": [
           {
            "marker": {
             "colorbar": {
              "outlinewidth": 0,
              "ticks": ""
             }
            },
            "type": "scattermapbox"
           }
          ],
          "scatterpolar": [
           {
            "marker": {
             "colorbar": {
              "outlinewidth": 0,
              "ticks": ""
             }
            },
            "type": "scatterpolar"
           }
          ],
          "scatterpolargl": [
           {
            "marker": {
             "colorbar": {
              "outlinewidth": 0,
              "ticks": ""
             }
            },
            "type": "scatterpolargl"
           }
          ],
          "scatterternary": [
           {
            "marker": {
             "colorbar": {
              "outlinewidth": 0,
              "ticks": ""
             }
            },
            "type": "scatterternary"
           }
          ],
          "surface": [
           {
            "colorbar": {
             "outlinewidth": 0,
             "ticks": ""
            },
            "colorscale": [
             [
              0,
              "#0d0887"
             ],
             [
              0.1111111111111111,
              "#46039f"
             ],
             [
              0.2222222222222222,
              "#7201a8"
             ],
             [
              0.3333333333333333,
              "#9c179e"
             ],
             [
              0.4444444444444444,
              "#bd3786"
             ],
             [
              0.5555555555555556,
              "#d8576b"
             ],
             [
              0.6666666666666666,
              "#ed7953"
             ],
             [
              0.7777777777777778,
              "#fb9f3a"
             ],
             [
              0.8888888888888888,
              "#fdca26"
             ],
             [
              1,
              "#f0f921"
             ]
            ],
            "type": "surface"
           }
          ],
          "table": [
           {
            "cells": {
             "fill": {
              "color": "#506784"
             },
             "line": {
              "color": "rgb(17,17,17)"
             }
            },
            "header": {
             "fill": {
              "color": "#2a3f5f"
             },
             "line": {
              "color": "rgb(17,17,17)"
             }
            },
            "type": "table"
           }
          ]
         },
         "layout": {
          "annotationdefaults": {
           "arrowcolor": "#f2f5fa",
           "arrowhead": 0,
           "arrowwidth": 1
          },
          "autotypenumbers": "strict",
          "coloraxis": {
           "colorbar": {
            "outlinewidth": 0,
            "ticks": ""
           }
          },
          "colorscale": {
           "diverging": [
            [
             0,
             "#8e0152"
            ],
            [
             0.1,
             "#c51b7d"
            ],
            [
             0.2,
             "#de77ae"
            ],
            [
             0.3,
             "#f1b6da"
            ],
            [
             0.4,
             "#fde0ef"
            ],
            [
             0.5,
             "#f7f7f7"
            ],
            [
             0.6,
             "#e6f5d0"
            ],
            [
             0.7,
             "#b8e186"
            ],
            [
             0.8,
             "#7fbc41"
            ],
            [
             0.9,
             "#4d9221"
            ],
            [
             1,
             "#276419"
            ]
           ],
           "sequential": [
            [
             0,
             "#0d0887"
            ],
            [
             0.1111111111111111,
             "#46039f"
            ],
            [
             0.2222222222222222,
             "#7201a8"
            ],
            [
             0.3333333333333333,
             "#9c179e"
            ],
            [
             0.4444444444444444,
             "#bd3786"
            ],
            [
             0.5555555555555556,
             "#d8576b"
            ],
            [
             0.6666666666666666,
             "#ed7953"
            ],
            [
             0.7777777777777778,
             "#fb9f3a"
            ],
            [
             0.8888888888888888,
             "#fdca26"
            ],
            [
             1,
             "#f0f921"
            ]
           ],
           "sequentialminus": [
            [
             0,
             "#0d0887"
            ],
            [
             0.1111111111111111,
             "#46039f"
            ],
            [
             0.2222222222222222,
             "#7201a8"
            ],
            [
             0.3333333333333333,
             "#9c179e"
            ],
            [
             0.4444444444444444,
             "#bd3786"
            ],
            [
             0.5555555555555556,
             "#d8576b"
            ],
            [
             0.6666666666666666,
             "#ed7953"
            ],
            [
             0.7777777777777778,
             "#fb9f3a"
            ],
            [
             0.8888888888888888,
             "#fdca26"
            ],
            [
             1,
             "#f0f921"
            ]
           ]
          },
          "colorway": [
           "#636efa",
           "#EF553B",
           "#00cc96",
           "#ab63fa",
           "#FFA15A",
           "#19d3f3",
           "#FF6692",
           "#B6E880",
           "#FF97FF",
           "#FECB52"
          ],
          "font": {
           "color": "#f2f5fa"
          },
          "geo": {
           "bgcolor": "rgb(17,17,17)",
           "lakecolor": "rgb(17,17,17)",
           "landcolor": "rgb(17,17,17)",
           "showlakes": true,
           "showland": true,
           "subunitcolor": "#506784"
          },
          "hoverlabel": {
           "align": "left"
          },
          "hovermode": "closest",
          "mapbox": {
           "style": "dark"
          },
          "paper_bgcolor": "rgb(17,17,17)",
          "plot_bgcolor": "rgb(17,17,17)",
          "polar": {
           "angularaxis": {
            "gridcolor": "#506784",
            "linecolor": "#506784",
            "ticks": ""
           },
           "bgcolor": "rgb(17,17,17)",
           "radialaxis": {
            "gridcolor": "#506784",
            "linecolor": "#506784",
            "ticks": ""
           }
          },
          "scene": {
           "xaxis": {
            "backgroundcolor": "rgb(17,17,17)",
            "gridcolor": "#506784",
            "gridwidth": 2,
            "linecolor": "#506784",
            "showbackground": true,
            "ticks": "",
            "zerolinecolor": "#C8D4E3"
           },
           "yaxis": {
            "backgroundcolor": "rgb(17,17,17)",
            "gridcolor": "#506784",
            "gridwidth": 2,
            "linecolor": "#506784",
            "showbackground": true,
            "ticks": "",
            "zerolinecolor": "#C8D4E3"
           },
           "zaxis": {
            "backgroundcolor": "rgb(17,17,17)",
            "gridcolor": "#506784",
            "gridwidth": 2,
            "linecolor": "#506784",
            "showbackground": true,
            "ticks": "",
            "zerolinecolor": "#C8D4E3"
           }
          },
          "shapedefaults": {
           "line": {
            "color": "#f2f5fa"
           }
          },
          "sliderdefaults": {
           "bgcolor": "#C8D4E3",
           "bordercolor": "rgb(17,17,17)",
           "borderwidth": 1,
           "tickwidth": 0
          },
          "ternary": {
           "aaxis": {
            "gridcolor": "#506784",
            "linecolor": "#506784",
            "ticks": ""
           },
           "baxis": {
            "gridcolor": "#506784",
            "linecolor": "#506784",
            "ticks": ""
           },
           "bgcolor": "rgb(17,17,17)",
           "caxis": {
            "gridcolor": "#506784",
            "linecolor": "#506784",
            "ticks": ""
           }
          },
          "title": {
           "x": 0.05
          },
          "updatemenudefaults": {
           "bgcolor": "#506784",
           "borderwidth": 0
          },
          "xaxis": {
           "automargin": true,
           "gridcolor": "#283442",
           "linecolor": "#506784",
           "ticks": "",
           "title": {
            "standoff": 15
           },
           "zerolinecolor": "#283442",
           "zerolinewidth": 2
          },
          "yaxis": {
           "automargin": true,
           "gridcolor": "#283442",
           "linecolor": "#506784",
           "ticks": "",
           "title": {
            "standoff": 15
           },
           "zerolinecolor": "#283442",
           "zerolinewidth": 2
          }
         }
        },
        "title": {
         "text": "Relative Rotation Graph (RRG) for TUPY3.SA"
        },
        "transition": {
         "duration": 500
        },
        "updatemenus": [
         {
          "buttons": [
           {
            "args": [
             null,
             {
              "frame": {
               "duration": 500,
               "redraw": false
              },
              "fromcurrent": true,
              "mode": "immediate",
              "transition": {
               "duration": 500,
               "easing": "linear"
              }
             }
            ],
            "label": "&#9654;",
            "method": "animate"
           },
           {
            "args": [
             [
              null
             ],
             {
              "frame": {
               "duration": 0,
               "redraw": false
              },
              "fromcurrent": true,
              "mode": "immediate",
              "transition": {
               "duration": 0,
               "easing": "linear"
              }
             }
            ],
            "label": "&#9724;",
            "method": "animate"
           }
          ],
          "direction": "left",
          "pad": {
           "r": 10,
           "t": 70
          },
          "showactive": false,
          "type": "buttons",
          "x": 0.1,
          "xanchor": "right",
          "y": 0,
          "yanchor": "top"
         }
        ],
        "width": 1000,
        "xaxis": {
         "anchor": "y",
         "domain": [
          0,
          1
         ],
         "range": [
          -0.021818143690239367,
          0.028547687791020657
         ],
         "title": {
          "text": "Relative Strength"
         }
        },
        "yaxis": {
         "anchor": "x",
         "domain": [
          0,
          1
         ],
         "range": [
          -0.008928134727979275,
          0.00904655678810159
         ],
         "title": {
          "text": "Momentum"
         }
        }
       }
      }
     },
     "metadata": {},
     "output_type": "display_data"
    }
   ],
   "source": [
    "import yfinance as yf\n",
    "import pandas as pd\n",
    "import plotly.express as px\n",
    "\n",
    "'''\n",
    "análise gráfica de força relativa com momentum de um ativo da B3 (Bolsa brasileira), comparando-o com o índice IBOVESPA\n",
    "'''\n",
    "\n",
    "# Definindo o período de análise\n",
    "start_date = \"2023-01-01\"\n",
    "end_date = \"2024-01-01\"\n",
    "\n",
    "# Solicitando o ticker de referência\n",
    "ticker = str(input('\\nDigite o ticker Referência: ') + \".SA\").upper()\n",
    "\n",
    "# Baixando dados do ativo e do IBOV\n",
    "df0 = yf.download(ticker,  period='1y') #start=start_date, end=end_date)\n",
    "df1 = yf.download(\"^BVSP\", period='1y') #start=start_date, end=end_date)\n",
    "\n",
    "# Calculando o retorno diário\n",
    "df0['Return'] = df0['Close'].pct_change()\n",
    "df1['Return'] = df1['Close'].pct_change()\n",
    "\n",
    "# Calculando a força relativa\n",
    "df0['RS'] = df0['Return'].rolling(window=10).mean() - df1['Return'].rolling(window=10).mean()\n",
    "\n",
    "# Calculando o momentum da força relativa\n",
    "df0['Momentum'] = df0['RS'].diff()\n",
    "\n",
    "# Criando DataFrame para plotagem e removendo NaN\n",
    "data = pd.DataFrame({\n",
    "    'Date': df0.index,\n",
    "    'RS': df0['RS'],\n",
    "    'Momentum': df0['Momentum']\n",
    "}).dropna()\n",
    "\n",
    "# Convertendo a coluna de datas para string\n",
    "data['Date'] = data['Date'].dt.strftime('%Y-%m-%d')\n",
    "\n",
    "# Criando o gráfico interativo com plotly\n",
    "fig = px.scatter(\n",
    "    data,\n",
    "    x='RS',\n",
    "    y='Momentum',\n",
    "    animation_frame='Date',\n",
    "    range_x=[data['RS'].min(), data['RS'].max()],\n",
    "    range_y=[data['Momentum'].min(), data['Momentum'].max()],\n",
    "    title=f'Relative Rotation Graph (RRG) for {ticker}',\n",
    "    labels={'RS': 'Relative Strength', 'Momentum': 'Momentum'},\n",
    "    template='plotly_dark',\n",
    "    size_max=50,  # Tamanho máximo dos pontos\n",
    "    opacity=0.8,\n",
    "    color_discrete_sequence=['white'],  # Cor dos pontos\n",
    ")\n",
    "\n",
    "# Adicionando linhas para indicar os quadrantes\n",
    "fig.add_shape(\n",
    "    type='line',\n",
    "    x0=data['RS'].min(),\n",
    "    x1=data['RS'].max(),\n",
    "    y0=0,\n",
    "    y1=0,\n",
    "    line=dict(color='yellow', dash='dash'),\n",
    ")\n",
    "fig.add_shape(\n",
    "    type='line',\n",
    "    x0=0,\n",
    "    x1=0,\n",
    "    y0=data['Momentum'].min(),\n",
    "    y1=data['Momentum'].max(),\n",
    "    line=dict(color='yellow', dash='dash'),\n",
    ")\n",
    "\n",
    "# Ajustando layout para melhorar a animação e aumentar o tamanho\n",
    "fig.update_layout(\n",
    "    transition={'duration': 500},\n",
    "    xaxis_title='Relative Strength',\n",
    "    yaxis_title='Momentum',\n",
    "    width=1000,  # Largura do gráfico\n",
    "    height=800,  # Altura do gráfico\n",
    ")\n",
    "\n",
    "fig.show()\n"
   ]
  },
  {
   "cell_type": "markdown",
   "id": "01b2e5ff",
   "metadata": {},
   "source": [
    "- Eixo X (RS – Relative Strength): Mede a força relativa do ativo em relação ao IBOV.\n",
    "    Valor positivo → ativo está superando o IBOV.\n",
    "    Valor negativo → ativo está ficando atrás do IBOV.\n",
    "- Eixo Y (Momentum da RS): Mede se a força relativa está acelerando ou desacelerando.\n",
    "    Valor positivo → força relativa está melhorando.\n",
    "    Valor negativo → força relativa está piorando.\n",
    "\n",
    "Os Quadrantes:\n",
    " 1. Quadrante Superior Direito (RS > 0, Momentum > 0)\n",
    "Lideres/Fortalecendo\n",
    "- O ativo está performando melhor que o IBOV.\n",
    "- E está acelerando essa vantagem.\n",
    "⚡️ Sinal de força e possível oportunidade de entrada.\n",
    "\n",
    " 2. Quadrante Inferior Direito (RS > 0, Momentum < 0)\n",
    "Enfraquecendo\n",
    "- O ativo ainda está melhor que o IBOV, mas perdendo força.\n",
    "- Momentum negativo indica que a liderança pode estar enfraquecendo.\n",
    "⚠️ Atenção: pode estar no topo e prestes a inverter.\n",
    "\n",
    " 3. Quadrante Inferior Esquerdo (RS < 0, Momentum < 0)\n",
    "Perdedores / Fracos\n",
    "- O ativo está ficando atrás do IBOV.\n",
    "- E a fraqueza está aumentando.\n",
    "🚫 Sinal de risco. Evitar ou considerar saída.\n",
    "\n",
    " 4. Quadrante Superior Esquerdo (RS < 0, Momentum > 0)\n",
    "Melhorando\n",
    "- O ativo ainda está abaixo do IBOV, mas começa a ganhar força.\n",
    "- Pode estar iniciando uma reversão positiva.\n",
    "👀 Acompanhar: possível ponto de entrada futura.\n",
    "\n",
    "💡 Interpretação Dinâmica (com a animação)\n",
    "O diferencial do gráfico animado é que você pode visualizar a trajetória do ativo ao longo do tempo, vendo se ele:\n",
    "\n",
    "Está migrando dos quadrantes fracos para fortes (bom sinal),\n",
    "\n",
    "Ou indo de fortes para fracos (sinal de cautela).\n",
    "\n"
   ]
  },
  {
   "cell_type": "code",
   "execution_count": null,
   "id": "eda7a376-7360-4f74-a32f-8311f0178852",
   "metadata": {},
   "outputs": [],
   "source": []
  }
 ],
 "metadata": {
  "kernelspec": {
   "display_name": "base",
   "language": "python",
   "name": "python3"
  },
  "language_info": {
   "codemirror_mode": {
    "name": "ipython",
    "version": 3
   },
   "file_extension": ".py",
   "mimetype": "text/x-python",
   "name": "python",
   "nbconvert_exporter": "python",
   "pygments_lexer": "ipython3",
   "version": "3.11.9"
  }
 },
 "nbformat": 4,
 "nbformat_minor": 5
}
