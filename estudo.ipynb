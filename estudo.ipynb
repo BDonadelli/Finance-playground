{
 "cells": [
  {
   "cell_type": "code",
   "execution_count": null,
   "id": "e40008cc",
   "metadata": {},
   "outputs": [],
   "source": [
    "# @# markdown codigo é o ticker na B3. Data é ano/mes/dia.\n",
    "\n",
    "codigo  = 'mrve3'       #@param {type:\"string\"}\n",
    "inicio  = '2007-01-28'  #@param {type:\"date\"}\n",
    "termino = '2023-08-08'  #@param {type:\"date\"}\n",
    "periodo = '10y'\n",
    "\n",
    "usar_periodo = True #@param {type:\"boolean\"}\n",
    "\n",
    "codigo = codigo.upper()"
   ]
  },
  {
   "cell_type": "code",
   "execution_count": null,
   "id": "3535be67",
   "metadata": {},
   "outputs": [],
   "source": [
    "##import datetime\n",
    "from datetime import datetime, date\n",
    "import numpy as np\n",
    "import pandas as pd\n",
    "# !pip install -q yfinance --upgrade --no-cache\n",
    "import yfinance as yf\n",
    "\n",
    "from scipy import stats\n",
    "import statsmodels.api as sm\n",
    "\n",
    "## plotly\n",
    "from plotly.subplots import make_subplots\n",
    "import plotly.graph_objs as go\n",
    "from plotly.offline import iplot, init_notebook_mode\n",
    "\n",
    "init_notebook_mode(connected=True)\n",
    "\n",
    "# import plotly.io as pio\n",
    "# pio.renderers.default = 'vscode' \n",
    "\n",
    "\n",
    "from deep_translator import GoogleTranslator\n",
    "import textwrap\n",
    "\n",
    "from IPython.display import clear_output, display, HTML\n",
    "clear_output()"
   ]
  },
  {
   "cell_type": "code",
   "execution_count": null,
   "id": "70e48a66",
   "metadata": {},
   "outputs": [],
   "source": [
    "#@markdown A empresa e Indicadores fundamentalistas, dados do fundamentus.com.br\n",
    "\n",
    "tk_info = yf.Ticker(codigo+\".sa\")\n",
    "info = tk_info.get_info()\n",
    "# info\n",
    "try: L52 = info['fiftyTwoWeekLow']\n",
    "except: L52 = None\n",
    "try : H52 = info['fiftyTwoWeekHigh']\n",
    "except: H52 = None\n",
    "try: HP = info['targetHighPrice']\n",
    "except: HP = None\n",
    "try: LP = info['targetLowPrice']\n",
    "except: LP = None\n",
    "try: MP = info['targetMeanPrice']\n",
    "except: MP = None\n",
    "try: mP = info['targetMedianPrice']\n",
    "except: mP = None\n",
    "\n",
    "rec = GoogleTranslator(source='auto', target='pt').translate(info['recommendationKey'])\n",
    "\n",
    "try: nAnal = info['numberOfAnalystOpinions']\n",
    "except: nAnal = None\n",
    "\n",
    "message = (\n",
    "     f\"\\n\\n\\n De acordo com o yahoo finance, dentre {nAnal} analistas, \"\n",
    "     f\"o menor preço-alvo é {LP}, \"\n",
    "     f\"o maior {HP},\"\n",
    "     f\"o preço alvo médio é {MP}, a mediana {mP}. \"\n",
    "     f'A recomentação é \"{rec}\".'\n",
    "     f'Nas últimas 52 semanas o maior preço foi {H52} e o menor {L52}.'\n",
    ")\n",
    "\n",
    "apresenta = GoogleTranslator(source='auto', target='pt').translate(info['longBusinessSummary'])\n",
    "print(codigo)\n",
    "print(\"\\n\".join(textwrap.wrap(apresenta,118)))\n",
    "\n",
    "print(\"\\n\".join(textwrap.wrap(message,118)))\n"
   ]
  },
  {
   "cell_type": "markdown",
   "id": "f9fbd218",
   "metadata": {},
   "source": [
    "# Indicadores"
   ]
  },
  {
   "cell_type": "code",
   "execution_count": null,
   "id": "3d562fce",
   "metadata": {},
   "outputs": [],
   "source": [
    "import requests\n",
    "from io import StringIO\n",
    "\n",
    "#pra fingir que é um browser\n",
    "header = {\n",
    "  \"User-Agent\": \"Mozilla/5.0 (X11; Linux x86_64) AppleWebKit/537.36 (KHTML, like Gecko) Chrome/50.0.2661.75 Safari/537.36\",\n",
    "  \"X-Requested-With\": \"XMLHttpRequest\"\n",
    "}\n",
    "url = 'https://www.fundamentus.com.br/resultado.php'\n",
    "#junta com a requests\n",
    "r = requests.get(url, headers=header)\n",
    "# read_html do pandas põe a tabela num dataframe\n",
    "funds = pd.read_html(StringIO(r.text), decimal=',', thousands='.')[0]\n",
    "dfunds = pd.DataFrame(funds)\n",
    "(dfunds.loc[dfunds['Papel']==codigo]).set_index('Papel')"
   ]
  },
  {
   "cell_type": "code",
   "execution_count": null,
   "id": "a3fa1304",
   "metadata": {},
   "outputs": [],
   "source": [
    "url = 'https://raw.githubusercontent.com/BDonadelli/Codigos-em-financas/main/data/SI_Acoes.csv'\n",
    "pd.set_option('display.max_columns', None)\n",
    "fundsSI = pd.read_csv(url,sep=';' , decimal=',' ,thousands ='.' )"
   ]
  },
  {
   "cell_type": "code",
   "execution_count": null,
   "id": "f162d992",
   "metadata": {},
   "outputs": [],
   "source": [
    "print('INDICADORES DE VALUATION')\n",
    "fundsSI[fundsSI['TICKER']==codigo].set_index('TICKER')[[ 'P/L', 'P/VP', 'P/ATIVOS', 'P/EBIT', 'EV/EBIT', 'PSR' ]]"
   ]
  },
  {
   "cell_type": "markdown",
   "id": "2d61e690",
   "metadata": {},
   "source": [
    "| **Indicador** | **Nome**                                   | **Significado / Interpretação**                                                                                                                                                                                                                       |\n",
    "| ------------- | ------------------------------------------ | ----------------------------------------------------------------------------------------------------------------------------------------------------------------------------------------------------------------------------------------------------- |\n",
    "| **P/L**       | Preço sobre Lucro                          | Indica quantos anos levaria para o investidor recuperar o valor investido via lucro (mantendo lucro constante). <br>**Fórmula**: Preço da ação / Lucro por ação. <br>**Baixo**: pode indicar ação barata (mas cuidado com lucros baixos temporários). |\n",
    "| **P/VP**      | Preço sobre Valor Patrimonial              | Compara o valor de mercado da ação com o patrimônio líquido por ação. <br>**Fórmula**: Preço da ação / Valor patrimonial por ação. <br>**< 1**: ação negociada abaixo do valor contábil.                                                              |\n",
    "| **P/ATIVOS**  | Preço sobre Ativos Totais                  | Compara o valor de mercado da empresa com seus ativos totais. <br>**Fórmula**: Valor de mercado / Ativos totais. <br>**Usado** para avaliar o quanto o mercado paga por unidade de ativo.                                                             |\n",
    "| **P/EBIT**    | Preço sobre EBIT                           | Mede quanto os investidores estão pagando pelo lucro operacional. <br>**Fórmula**: Valor de mercado / EBIT. <br>Semelhante ao P/L, mas ignora despesas financeiras e impostos.                                                                        |\n",
    "| **EV/EBIT**   | Enterprise Value sobre EBIT                | Mostra quanto o mercado paga pelo lucro operacional, considerando dívida líquida. <br>**Fórmula**: (Valor de mercado + Dívida líquida) / EBIT. <br>Mais abrangente que P/EBIT.                                                                        |\n",
    "| **PSR**       | Preço sobre Receita (Price to Sales Ratio) | Avalia o quanto o mercado está pagando pela receita da empresa. <br>**Fórmula**: Valor de mercado / Receita. <br>**Baixo** pode indicar subavaliação, mas depende de margens.                                                                         |\n"
   ]
  },
  {
   "cell_type": "code",
   "execution_count": null,
   "id": "da56de00",
   "metadata": {},
   "outputs": [],
   "source": [
    "print('INDICADORES DE VALOR CONTÁBIL')\n",
    "fundsSI[fundsSI['TICKER']==codigo].set_index('TICKER')[[ ' VPA', ' LPA']]"
   ]
  },
  {
   "cell_type": "markdown",
   "id": "6267eaa7",
   "metadata": {},
   "source": [
    "| **Indicador** | **Nome**                   | **Significado / Interpretação**                                                                                                       |\n",
    "| ------------- | -------------------------- | ------------------------------------------------------------------------------------------------------------------------------------- |\n",
    "| **VPA**       | Valor Patrimonial por Ação | Representa o valor contábil da empresa por ação. <br>**Fórmula**: Patrimônio líquido / Número de ações. <br>Usado no cálculo do P/VP. |\n",
    "| **LPA**       | Lucro por Ação             | Mede o lucro líquido gerado por cada ação. <br>**Fórmula**: Lucro líquido / Número de ações. <br>Usado no cálculo do P/L.             |\n"
   ]
  },
  {
   "cell_type": "code",
   "execution_count": null,
   "id": "2deca7c5",
   "metadata": {},
   "outputs": [],
   "source": [
    "print('INDICADORES DE LIQUIDEZ')\n",
    "fundsSI[fundsSI['TICKER']==codigo].set_index('TICKER')[[ ' PEG Ratio','P/CAP. GIRO', 'P. AT CIR. LIQ.' ]]"
   ]
  },
  {
   "cell_type": "markdown",
   "id": "48ebfc70",
   "metadata": {},
   "source": [
    "| **Indicador**       | **Nome**                             | **Significado / Interpretação**                                                                                                                                              |\n",
    "| ------------------- | ------------------------------------ | ---------------------------------------------------------------------------------------------------------------------------------------------------------------------------- |\n",
    "| **PEG Ratio**       | Price/Earnings to Growth             | Ajusta o P/L pela taxa de crescimento dos lucros. <br>**Fórmula**: P/L / Crescimento anual do lucro (%) <br>**< 1** pode indicar ação barata com crescimento.                |\n",
    "| **P/CAP. GIRO**     | Preço sobre Capital de Giro          | Mede o quanto o mercado paga pelo capital de giro (Ativo Circulante - Passivo Circulante). <br>**< 1**: pode indicar que empresa vale menos que seu capital de giro líquido. |\n",
    "| **P. AT CIR. LIQ.** | Preço sobre Ativo Circulante Líquido | Mede o quanto o mercado paga pelo ativo circulante líquido (Ativo Circulante - Todas as dívidas). <br>Usado para avaliar liquidez e segurança patrimonial.                   |\n"
   ]
  },
  {
   "cell_type": "code",
   "execution_count": null,
   "id": "7dbfe829",
   "metadata": {},
   "outputs": [],
   "source": [
    "print('INDICADORES DE  EFICIÊNCIA')\n",
    "fundsSI[fundsSI['TICKER']==codigo].set_index('TICKER')[['MARGEM BRUTA','MARGEM EBIT', 'MARG. LIQUIDA']]"
   ]
  },
  {
   "cell_type": "markdown",
   "id": "095d5179",
   "metadata": {},
   "source": [
    "| **Indicador**      | **Nome**                        | **Fórmula**                                                         | **O que mede?**                                                                                                                      |\n",
    "| ------------------ | ------------------------------- | ------------------------------------------------------------------- | ------------------------------------------------------------------------------------------------------------------------------------ |\n",
    "| **Margem Bruta**   | Lucro Bruto / Receita Líquida   | `(Receita Líquida - Custo dos Produtos Vendidos) / Receita Líquida` | Mede o quanto sobra da receita após pagar o custo direto da produção (CPV). <br>**Avalia eficiência operacional bruta.**             |\n",
    "| **Margem EBIT**    | EBIT / Receita Líquida          | `Lucro antes de Juros e Impostos / Receita Líquida`                 | Mede o lucro operacional em relação à receita. <br>**Avalia eficiência das operações, excluindo impacto financeiro e fiscal.**       |\n",
    "| **Margem Líquida** | Lucro Líquido / Receita Líquida | `Lucro Líquido / Receita Líquida`                                   | Mede o lucro final da empresa após **todos os custos, despesas, impostos e juros**. <br>**Mostra a rentabilidade total do negócio.** |\n"
   ]
  },
  {
   "cell_type": "markdown",
   "id": "1a38ddde",
   "metadata": {},
   "source": [
    "| **Margem**  | **Alta**                                                     | **Baixa**                                              |\n",
    "| ----------- | ------------------------------------------------------------ | ------------------------------------------------------ |\n",
    "| **Bruta**   | Empresa consegue produzir/vender com custo reduzido.         | Custo de produção alto (pouco controle sobre insumos). |\n",
    "| **EBIT**    | Boa gestão de despesas operacionais.                         | Gastos administrativos e operacionais pesados.         |\n",
    "| **Líquida** | Empresa eficiente em toda a operação (inclusive financeira). | Alta carga tributária, juros ou má gestão geral.       |\n"
   ]
  },
  {
   "cell_type": "code",
   "execution_count": null,
   "id": "b7dc1347",
   "metadata": {},
   "outputs": [],
   "source": [
    "print('INDICADORES DE  ENDIVIDAMENTO')\n",
    "fundsSI[fundsSI['TICKER']==codigo].set_index('TICKER')[['DIVIDA LIQUIDA / EBIT', 'DIV. LIQ. / PATRI.', 'LIQ. CORRENTE','PATRIMONIO / ATIVOS', 'PASSIVOS / ATIVOS']]"
   ]
  },
  {
   "cell_type": "markdown",
   "id": "921ee842",
   "metadata": {},
   "source": [
    "| **Indicador**                   | **Nome**                               | **Fórmula**                             | **O que mede?**                                                                                                                                                               |\n",
    "| ------------------------------- | -------------------------------------- | --------------------------------------- | ----------------------------------------------------------------------------------------------------------------------------------------------------------------------------- |\n",
    "| **Dívida Líquida / EBIT**       | Alavancagem Operacional                | `(Dívida Bruta - Caixa) / EBIT`         | Mede **quantos anos de geração de lucro operacional (EBIT)** a empresa precisaria para pagar sua **dívida líquida**. <br>**< 3** é geralmente considerado saudável.           |\n",
    "| **Dívida Líquida / Patrimônio** | Alavancagem Financeira                 | `(Dívida Líquida) / Patrimônio Líquido` | Mede quanto da estrutura de capital é financiada por dívida em vez de capital próprio. <br>**Quanto menor, melhor** (menor dependência de terceiros).                         |\n",
    "| **Liquidez Corrente**           | Capacidade de pagamento no curto prazo | `Ativo Circulante / Passivo Circulante` | Mede se a empresa consegue pagar suas dívidas de curto prazo com seus ativos circulantes. <br>**> 1** é desejável (mas muito alto pode indicar excesso de caixa ou estoques). |\n",
    "| **Patrimônio / Ativos**         | Solidez da estrutura de capital        | `Patrimônio Líquido / Ativos Totais`    | Mede quanto dos ativos são financiados com capital próprio. <br>**Quanto maior, mais sólida e menos alavancada** é a empresa.                                                 |\n",
    "| **Passivos / Ativos**           | Grau de Endividamento Total            | `Passivos Totais / Ativos Totais`       | Mede o **quanto da estrutura da empresa é financiada por dívida** (curto e longo prazo). <br>**Quanto menor, menos dependente de terceiros**.                                 |\n"
   ]
  },
  {
   "cell_type": "markdown",
   "id": "6172dbde",
   "metadata": {},
   "source": [
    "| Indicador                       | Sinal de alerta se...                                |\n",
    "| ------------------------------- | ---------------------------------------------------- |\n",
    "| **Dívida Líquida / EBIT**       | Muito acima de 3 → risco financeiro.                 |\n",
    "| **Dívida Líquida / Patrimônio** | Muito > 1 → empresa muito alavancada.                |\n",
    "| **Liquidez Corrente**           | < 1 → dificuldade para pagar dívidas de curto prazo. |\n",
    "| **Patrimônio / Ativos**         | Muito baixo → dependência de capital de terceiros.   |\n",
    "| **Passivos / Ativos**           | Muito alto → risco de insolvência maior.             |\n"
   ]
  },
  {
   "cell_type": "code",
   "execution_count": null,
   "id": "15ebe2df",
   "metadata": {},
   "outputs": [],
   "source": [
    "print('INDICADORES DE RENTABILIDADE')\n",
    "fundsSI[fundsSI['TICKER']==codigo].set_index('TICKER')[['ROE', 'ROA', 'ROIC','GIRO ATIVOS']]"
   ]
  },
  {
   "cell_type": "markdown",
   "id": "27b41436",
   "metadata": {},
   "source": [
    "| **Indicador**       | **Nome**                                                           | **Fórmula**                                                      | **O que mede?**                                                                                                                                                                                  |\n",
    "| ------------------- | ------------------------------------------------------------------ | ---------------------------------------------------------------- | ------------------------------------------------------------------------------------------------------------------------------------------------------------------------------------------------ |\n",
    "| **ROE**             | **Return on Equity** (Retorno sobre o Patrimônio Líquido)          | `Lucro Líquido / Patrimônio Líquido`                             | Mede o retorno gerado para os sócios. <br>Quanto a empresa gera de lucro **para cada R\\$ 1 investido pelos acionistas**.                                                                         |\n",
    "| **ROA**             | **Return on Assets** (Retorno sobre Ativos)                        | `Lucro Líquido / Ativos Totais`                                  | Mede a rentabilidade dos ativos da empresa. <br>Quanto a empresa gera de lucro **para cada R\\$ 1 investido em ativos** (independente de ser capital próprio ou de terceiros).                    |\n",
    "| **ROIC**            | **Return on Invested Capital** (Retorno sobre o Capital Investido) | `NOPAT / Capital Investido` <br>*(NOPAT = EBIT × (1 - imposto))* | Mede o retorno que a empresa gera **sobre o capital total investido** (dívida + capital próprio, excluindo caixa). <br>Mais preciso que ROE e ROA, pois foca apenas no capital usado no negócio. |\n",
    "| **Giro dos Ativos** | **Asset Turnover** (Eficiência dos Ativos)                         | `Receita Líquida / Ativos Totais`                                | Mede **a eficiência da empresa em gerar receita com seus ativos**. <br>Quanto maior, mais eficiente (gera mais receita com menos ativo).                                                         |\n"
   ]
  },
  {
   "cell_type": "markdown",
   "id": "ab354ecd",
   "metadata": {},
   "source": [
    "| Indicador       | **Alta Rentabilidade / Eficiência**           | **Baixa Rentabilidade / Eficiência**                           |\n",
    "| --------------- | --------------------------------------------- | -------------------------------------------------------------- |\n",
    "| **ROE**         | Empresa gera bons lucros aos acionistas       | Baixo retorno sobre o patrimônio                               |\n",
    "| **ROA**         | Empresa rentável mesmo com poucos recursos    | Lucro baixo em relação ao total de ativos                      |\n",
    "| **ROIC**        | Retorno alto sobre o capital usado no negócio | Pode indicar destruição de valor se menor que custo de capital |\n",
    "| **Giro Ativos** | Ativos bem utilizados (vendas fortes)         | Ativos ociosos ou baixa demanda                                |\n"
   ]
  },
  {
   "cell_type": "code",
   "execution_count": null,
   "id": "b6f03940",
   "metadata": {},
   "outputs": [],
   "source": [
    "print('INDICADORES DE CRESCIMENTO')\n",
    "fundsSI[fundsSI['TICKER']==codigo].set_index('TICKER')[['CAGR RECEITAS 5 ANOS', 'CAGR LUCROS 5 ANOS']]"
   ]
  },
  {
   "cell_type": "markdown",
   "id": "d598815d",
   "metadata": {},
   "source": [
    "| **Indicador**            | **Nome**                                      | \n",
    "| ------------------------ | --------------------------------------------- | \n",
    "| **CAGR Receitas 5 anos** | Taxa composta de crescimento da Receita       | \n",
    "| **CAGR Lucros 5 anos**   | Taxa composta de crescimento do Lucro Líquido | \n",
    "\n",
    "\n",
    "\n",
    "| CAGR (%)             | **Significado**                                                       |\n",
    "| -------------------- | --------------------------------------------------------------------- |\n",
    "| **Alta (>10%)**      | Forte crescimento sustentado (positivo, desde que com rentabilidade). |\n",
    "| **Moderada (5–10%)** | Crescimento saudável e estável.                                       |\n",
    "| **Baixa (<5%)**      | Crescimento lento. Pode ser aceitável em setores maduros.             |\n",
    "| **Negativa**         | Queda de receita ou lucros no período — alerta!                       |\n"
   ]
  },
  {
   "cell_type": "markdown",
   "id": "99a73bc0",
   "metadata": {},
   "source": [
    "# DRE"
   ]
  },
  {
   "cell_type": "code",
   "execution_count": null,
   "id": "bcf3cdd0",
   "metadata": {},
   "outputs": [],
   "source": [
    "def adicionar_espacos(s):\n",
    "    resultado = [s[0]]\n",
    "\n",
    "    for char_atual in s[1:]:\n",
    "        if char_atual.isupper() and resultado[-1].islower():\n",
    "            resultado.append(' ')\n",
    "        resultado.append(char_atual)\n",
    "\n",
    "    return ''.join(resultado)\n",
    "\n",
    "dre = tk_info.quarterly_financials\n",
    "dre = dre[dre.columns[::-1]]\n",
    "\n",
    "k=[]\n",
    "v=[]\n",
    "for i in dre.index:\n",
    "    #print(i)\n",
    "    j = adicionar_espacos(i)\n",
    "    k.append(i)\n",
    "    #print(translator.translate(i, dest='pt').text)\n",
    "    v.append(GoogleTranslator(source='auto', target='pt').translate(j))\n",
    "trad = dict(zip(k, v))\n",
    "dre_trimestre = dre.rename(index=trad)\n",
    "# dre_trimestre"
   ]
  },
  {
   "cell_type": "code",
   "execution_count": null,
   "id": "0a9ef8cf",
   "metadata": {},
   "outputs": [],
   "source": [
    "display(HTML(dre_trimestre.to_html()))"
   ]
  },
  {
   "cell_type": "markdown",
   "id": "d2fd1fd2",
   "metadata": {},
   "source": [
    "## balanço"
   ]
  },
  {
   "cell_type": "code",
   "execution_count": null,
   "id": "524aa13e",
   "metadata": {},
   "outputs": [],
   "source": [
    "balanco = tk_info.get_balance_sheet(freq='quarterly')\n",
    "balanco = balanco[balanco.columns[::-1]]\n",
    "\n",
    "k=[]\n",
    "v=[]\n",
    "for i in balanco.index:\n",
    "    j = adicionar_espacos(i)\n",
    "    # print(adicionar_espacos(i))\n",
    "    k.append(i)\n",
    "    #print(translator.translate(i, dest='pt').text)\n",
    "    #v.append(translator.translate(j, dest='pt').text)\n",
    "    v.append(GoogleTranslator(source='auto', target='pt').translate(j))\n",
    "\n",
    "traducao = dict(zip(k, v))\n",
    "balanco_trimestre=balanco.rename(index=traducao)\n",
    "# balanco_trimestre"
   ]
  },
  {
   "cell_type": "code",
   "execution_count": null,
   "id": "4430d143",
   "metadata": {},
   "outputs": [],
   "source": [
    "display(HTML(balanco_trimestre.to_html()))"
   ]
  },
  {
   "cell_type": "code",
   "execution_count": null,
   "id": "c010336a",
   "metadata": {},
   "outputs": [],
   "source": [
    "fig = make_subplots(rows=3,\n",
    "                    cols=2,\n",
    "                    row_heights=[5,5,5],\n",
    "                    column_widths=[3,3],\n",
    "                    subplot_titles=('Receita Bruta', 'Lucro Líquido',\n",
    "                                    'Dívida CP', 'Dívida LP',\n",
    "                                    'Capital de Giro','Divida Líquida',\n",
    "                                    ),\n",
    "                    shared_xaxes=False)\n",
    "try:fig.add_trace(go.Scatter(name='Receita_bruta', x=dre.columns, y=dre.loc['Operating Revenue'], mode='lines+markers',marker_size=15,marker_symbol='diamond'), row=1, col=1)\n",
    "except:pass\n",
    "try:fig.add_trace(go.Scatter(name='Receita_liquida', x=dre.columns, y=dre.loc['Net Income'],mode='lines+markers',marker_size=15,marker_symbol='diamond'), row=1, col=2)\n",
    "except:pass\n",
    "\n",
    "try: fig.add_trace(go.Scatter(name='Divida_CP', x=balanco.columns, y=balanco.loc['CurrentDebt'],mode='lines+markers',marker_size=15,marker_symbol='diamond'), row=2, col=1)\n",
    "except:pass\n",
    "try:fig.add_trace(go.Scatter(name='Divida_CP', x=balanco.columns, y=balanco.loc['LongTermDebt'],mode='lines+markers',marker_size=15,marker_symbol='diamond'), row=2, col=2)\n",
    "except:pass\n",
    "\n",
    "try:fig.add_trace(go.Scatter(name='WC', x=balanco.columns, y=balanco.loc['WorkingCapital'],mode='lines+markers',marker_size=15,marker_symbol='diamond'), row=3, col=1)\n",
    "except:pass\n",
    "try:fig.add_trace(go.Scatter(name='Divida_liquida', x=balanco.columns, y=balanco.loc['NetDebt'],mode='lines+markers',marker_size=15,marker_symbol='diamond'), row=3, col=2)\n",
    "except:pass\n",
    "\n",
    "fig.update_layout(title_text=f'<b>Gráfico de alguns Fundamentos de {codigo}<b>',\n",
    "                  showlegend=False, #esconder ou mostrar legenda\n",
    "                  height=900, #altura\n",
    "                  width=900) #largura\n",
    "\n",
    "\n",
    "fig.show()"
   ]
  },
  {
   "cell_type": "markdown",
   "id": "e138c49e",
   "metadata": {},
   "source": [
    "# Empresas do mesmo setor"
   ]
  },
  {
   "cell_type": "code",
   "execution_count": null,
   "id": "87caa147",
   "metadata": {},
   "outputs": [],
   "source": [
    "# empresaas X setores\n",
    "url = 'https://raw.githubusercontent.com/BDonadelli/Codigos-em-financas/main/data/setores.csv'\n",
    "setores = pd.read_csv(url, sep =';')\n",
    "setores.rename(columns={'LISTAGEM': 'TICKER' , 'SETOR ECONÔMICO': 'SETOR'}, inplace=True)\n",
    "\n",
    "SET = setores[setores['TICKER']==codigo[0:4]]['SETOR'].values[0]\n",
    "SUBSET = setores[setores['TICKER']==codigo[0:4]]['SUBSETOR'].values[0]\n",
    "\n",
    "mesmo_setor = setores[(setores['SETOR'] == SET) & (setores['SUBSETOR'] == SUBSET)].reset_index(drop=True).copy()\n",
    "mesmo_setor['TICKER'] = mesmo_setor['TICKER'].str.strip()\n",
    "\n",
    "SEG = mesmo_setor[\"SEGMENTO\"].iloc[0]\n",
    "\n",
    "print(f'Setor: {SET}; Subsetor: {SUBSET}; Segmento: {SEG}') \n"
   ]
  },
  {
   "cell_type": "code",
   "execution_count": null,
   "id": "e638be00",
   "metadata": {},
   "outputs": [],
   "source": [
    "IBR100 = pd.read_csv('https://raw.githubusercontent.com/BDonadelli/Finance-playground/main/data/Cart_IBr100.csv'\n",
    "                     , usecols=[0], sep=';', encoding='latin1', skiprows=1, skipfooter=2, engine='python').reset_index()\n",
    "IBRA = pd.read_csv('https://raw.githubusercontent.com/BDonadelli/Finance-playground/main/data/Cart_IBrA.csv'\n",
    "                       , usecols=[0] , sep=';', encoding='latin1', skiprows=1, skipfooter=2, engine='python').reset_index()\n",
    "listagem = mesmo_setor[['TICKER']].dropna().reset_index(drop=True)\n",
    "\n",
    "IBR100['TICKER'] = IBR100['index'].str[:4]\n",
    "IBRA['TICKER'] = IBRA['index'].str[:4]\n",
    "\n",
    "IBrA = IBRA[IBRA['TICKER'].isin(listagem['TICKER'])]\n",
    "if codigo in IBrA : IBrA.remove(codigo)\n",
    "\n",
    "IBr100 = IBR100[IBR100['TICKER'].isin(listagem['TICKER'])]\n",
    "if codigo in IBr100 : IBr100.remove(codigo)\n",
    "\n",
    "IBr100.columns = ['ticker', 'empresa','Código']\n",
    "IBrA.columns = ['ticker', 'empresa','Código']\n"
   ]
  },
  {
   "cell_type": "code",
   "execution_count": null,
   "id": "b08d6163",
   "metadata": {},
   "outputs": [],
   "source": [
    "mesmo_setor_tickers =  list(listagem.TICKER.values)\n",
    "if len(IBrA)<=2 : IBr = mesmo_setor_tickers\n",
    "else : IBr = IBrA\n"
   ]
  },
  {
   "cell_type": "code",
   "execution_count": null,
   "id": "1865fbd0",
   "metadata": {},
   "outputs": [],
   "source": [
    "print('\"mesmo setor\"', end=': ')\n",
    "# print(setor)\n",
    "\n",
    "print(*mesmo_setor_tickers)\n",
    "print(f'Ações do setor {setor} no indice IBR100', end=': ')\n",
    "print(*IBr100.ticker)\n",
    "print(f'Ações do setor {setor} no indice IBRA', end=': ')\n",
    "print(*IBrA.ticker)"
   ]
  },
  {
   "cell_type": "code",
   "execution_count": null,
   "id": "f1f8ebec",
   "metadata": {},
   "outputs": [],
   "source": [
    "media_pl = dfunds[dfunds['Papel'].str[:4].isin(list(mesmo_setor_tickers)+[codigo])]['P/L'].mean()\n",
    "print(f'\\nO P/L médio das empresas do \"mesmo setor\"  é {media_pl:.2f}')\n"
   ]
  },
  {
   "cell_type": "code",
   "execution_count": null,
   "id": "0cbb7cee",
   "metadata": {},
   "outputs": [],
   "source": [
    "media_pl_indice = dfunds[dfunds['Papel'].isin(list(IBr.ticker.values)+[codigo])]['P/L'].mean()\n",
    "print(f'\\nO P/L médio das empresas do setor no índice amplo é {media_pl_indice:.2f}')\n",
    "print(f'\\n P/L de {codigo} é', (dfunds.loc[dfunds['Papel']==codigo])['P/L'].values[0] )"
   ]
  },
  {
   "cell_type": "code",
   "execution_count": null,
   "id": "e7a227df",
   "metadata": {},
   "outputs": [],
   "source": [
    "display(dfunds[dfunds['Papel'].isin(list(IBr.ticker.values)+[codigo])])"
   ]
  },
  {
   "cell_type": "code",
   "execution_count": null,
   "id": "735f7c4e",
   "metadata": {},
   "outputs": [],
   "source": [
    "\n",
    "lista = list(IBr.ticker.values) + [codigo]\n",
    "\n",
    "luc = dfunds[dfunds['Papel'].isin(lista)].set_index('Papel')[['Mrg. Líq.' , 'Mrg Ebit' , 'ROIC', 'ROE', 'Div.Yield', 'Cresc. Rec.5a']]\n",
    "end = dfunds[dfunds['Papel'].isin(lista)].set_index('Papel')[['Dív.Brut/ Patrim.']]\n",
    "val = dfunds[dfunds['Papel'].isin(lista)].set_index('Papel')[['P/L', 'P/VP', 'EV/EBIT', 'EV/EBITDA']]\n",
    "liq = dfunds[dfunds['Papel'].isin(lista)].set_index('Papel')[['Liq. Corr.']]\n",
    "\n",
    "fig = make_subplots(rows=6,\n",
    "                    cols=2,\n",
    "                    row_heights=[5,5,5,5,5,5],\n",
    "                    column_widths=[3,3],\n",
    "                    subplot_titles=('Margem EBITDA', 'Margem Líquida',\n",
    "                                    'ROIC', 'ROE',\n",
    "                                    'Div Bruta/PL', 'CAGR 5Y',\n",
    "                                    'Preço/Lucro', 'P/VP',\n",
    "                                    'EV/EBIT', 'EV/EBITDA',\n",
    "                                    'Liquidez Corrente', 'Div Yeld'),\n",
    "                    horizontal_spacing=0.31,\n",
    "                    shared_xaxes=False)\n",
    "\n",
    "fig.add_trace(go.Bar(name='Margem_Ebtida', x=luc.index, y=luc['Mrg Ebit']), row=1, col=1)\n",
    "fig.add_trace(go.Bar(name='Margem_Liquida', x=luc.index, y=luc['Mrg. Líq.']), row=1, col=2)\n",
    "\n",
    "fig.add_trace(go.Bar(name='ROIC', x=luc.index, y=luc['ROIC']), row=2, col=1)\n",
    "fig.add_trace(go.Bar(name='ROE', x=luc.index, y=luc['ROE']), row=2, col=2)\n",
    "\n",
    "fig.add_trace(go.Bar(name='div/patr', x=end.index, y=end['Dív.Brut/ Patrim.']), row=3, col=1)\n",
    "fig.add_trace(go.Bar(name='c5y', x=luc.index, y=luc['Cresc. Rec.5a']), row=3, col=2)\n",
    "\n",
    "fig.add_trace(go.Bar(name='pl', x=val.index, y=val['P/L']), row=4, col=1)\n",
    "fig.add_trace(go.Bar(name='pvp', x=val.index,y=val['P/VP']), row=4, col=2)\n",
    "\n",
    "fig.add_trace(go.Bar(name='evebit', x=val.index, y=val['EV/EBIT']), row=5, col=1)\n",
    "fig.add_trace(go.Bar(name='evebitda', x=val.index, y=val['EV/EBITDA']), row=5, col=2)\n",
    "\n",
    "fig.add_trace(go.Bar(name='liq', x=liq.index, y=liq['Liq. Corr.']), row=6, col=1)\n",
    "fig.add_trace(go.Bar(name='dy', x=luc.index, y=luc['Div.Yield']), row=6, col=2)\n",
    "\n",
    "fig.update_layout(title_text=f'<b>Dados Fundamentalistas das principais empresas de {setor}<b>',\n",
    "                #   template='plotly_dark',#template pré-definido da plotly\n",
    "                  showlegend=False, #esconder ou mostrar legenda\n",
    "                  height=1200, #altura\n",
    "                  width=1200) #largura\n",
    "fig.show()"
   ]
  },
  {
   "cell_type": "markdown",
   "id": "22e2e27e",
   "metadata": {},
   "source": [
    "# Históricos"
   ]
  },
  {
   "cell_type": "code",
   "execution_count": null,
   "id": "cc331542",
   "metadata": {},
   "outputs": [],
   "source": [
    "#@markdown Download dos preços históricos do ativo(s) e do índice\n",
    "\n",
    "ativo = pd.DataFrame()\n",
    "ibov = pd.DataFrame()\n",
    "if usar_periodo :\n",
    "  ativo = yf.download(codigo+'.SA', period = periodo , actions=True , progress = False,auto_adjust=True)\n",
    "  ibov = yf.download('^BVSP', period = periodo , actions=True , progress = False,auto_adjust=True)\n",
    "else :\n",
    "  ativo = yf.download(codigo+'.SA' , start=inicio , end=termino , actions=True ,  progress = False,auto_adjust=True)\n",
    "  ibov = yf.download('^BVSP', start=inicio , end=termino , actions=True, progress = False,auto_adjust=True)"
   ]
  },
  {
   "cell_type": "code",
   "execution_count": null,
   "id": "e3b14292",
   "metadata": {},
   "outputs": [],
   "source": [
    "ativo = ativo.droplevel(1, axis=1)\n",
    "ibov = ibov.droplevel(1, axis=1)"
   ]
  },
  {
   "cell_type": "code",
   "execution_count": null,
   "id": "f52cbe6b",
   "metadata": {},
   "outputs": [],
   "source": [
    "if len(ativo[ativo['Stock Splits']!=0])>0 : ativo[ativo['Stock Splits']!=0][['Stock Splits']]\n",
    "ativo=ativo.loc['2009-06-03':]\n",
    "ativo[['Open','High','Low','Close','Close','Volume']]"
   ]
  },
  {
   "cell_type": "code",
   "execution_count": null,
   "id": "429a4696",
   "metadata": {},
   "outputs": [],
   "source": [
    "if  ativo['Stock Splits'].sum() > 0 :print('Atenção, o ativo teve desdobramento de ações, os preços estão ajustados para isso.')"
   ]
  },
  {
   "cell_type": "markdown",
   "id": "1cbe2ed2",
   "metadata": {},
   "source": [
    "## Dividendos"
   ]
  },
  {
   "cell_type": "code",
   "execution_count": null,
   "id": "60bc8548",
   "metadata": {},
   "outputs": [],
   "source": [
    "url1 = f'https://www.fundamentus.com.br/proventos.php?papel={codigo}&tipo=2'\n",
    "header = { \"User-Agent\": \"Mozilla/5.0 (X11; Linux x86_64) AppleWebKit/537.36 (KHTML, like Gecko) Chrome/50.0.2661.75 Safari/537.36\", \"X-Requested-With\": \"XMLHttpRequest\"}\n",
    "r1 = requests.get(url1, headers=header)\n",
    "dy = pd.read_html(StringIO(r1.text), decimal=',', thousands='.')[0]\n",
    "dy['Data'] = pd.to_datetime(dy['Data'] , dayfirst=True)\n",
    "dy.set_index('Data',inplace =True )\n",
    "dy['Valor/acao'] = dy['Valor']/dy['Por quantas ações']\n",
    "\n",
    "fig = go.Figure(\n",
    "    [ go.Bar(x=dy.index.year , y = dy['Valor'],name='Valor'),\n",
    "     go.Bar(x=dy.index.year , y = dy['Valor/acao'],name='Valor/ação')],\n",
    "    layout=dict(title='Dividendos ',height=500, width=700 ))\n",
    "fig.show()"
   ]
  },
  {
   "cell_type": "code",
   "execution_count": null,
   "id": "0d11e0c2",
   "metadata": {},
   "outputs": [],
   "source": [
    "yanual = dy['Valor'].groupby(pd.Grouper(freq='YS')).sum()\n",
    "yieldanual_medio = yanual.mean()\n",
    "CloseAnual = ativo['Close'].groupby(pd.Grouper(freq='YS')).mean()\n",
    "\n",
    "dy_yield_anual = yanual / CloseAnual\n",
    "dy_yield_anual = dy_yield_anual.dropna()\n",
    "dy_yield_anual\n"
   ]
  },
  {
   "cell_type": "code",
   "execution_count": null,
   "id": "7d6e6199",
   "metadata": {},
   "outputs": [],
   "source": [
    "DeltaAno =  (ativo.index[-1].year -1) - ativo.index[0].year\n",
    "SomaDivAnos = round(yanual[(yanual.index >= ativo.index[0]) & (yanual.index < ativo.index[-1])].sum(),2)\n",
    "DivMedio = round(yanual[(yanual.index >= ativo.index[0]) & (yanual.index < ativo.index[-1])].mean(),2)\n",
    "CloseMedio = round( np.mean(ativo['Close']),2 )\n",
    "\n",
    "print(f'Distribuição de {codigo}', end=' ')\n",
    "print(f'em {DeltaAno} anos, R$ {SomaDivAnos}, ou R$ {round(SomaDivAnos/DeltaAno,2)} ao ano em média')\n",
    "print(f\"preço fechamento médio R$ {CloseMedio}\")\n",
    "\n",
    "print(f'provento anual medio R$ {DivMedio}')\n",
    "print(f\"preço fechamento médio R$ {CloseMedio}\")\n",
    "print(f\"DY por essas médias {round( 100*(DivMedio/CloseMedio),2)}%\")"
   ]
  },
  {
   "cell_type": "code",
   "execution_count": null,
   "id": "45aa26ff",
   "metadata": {},
   "outputs": [],
   "source": [
    "import plotly.express as px\n",
    "\n",
    "# Preparar os dados\n",
    "dados_filtrados = yanual[(yanual.index >= ativo.index[0]) & (yanual.index < ativo.index[-1])]\n",
    "\n",
    "# Criar o gráfico\n",
    "fig = px.bar(\n",
    "    x=dados_filtrados.index.year.astype(str),  # Converter index para string\n",
    "    y=dados_filtrados.values,\n",
    "    title='Dividendos anuais no período de preços de negociação disponíveis',\n",
    "    labels={'x': 'Ano', 'y': 'Dividendos (R$)'}\n",
    ")\n",
    "\n",
    "fig.update_layout(height=300, width=600)\n",
    "fig.show()"
   ]
  },
  {
   "cell_type": "markdown",
   "id": "9023520a",
   "metadata": {},
   "source": [
    "Nos últimos $\\leq 6$ anos"
   ]
  },
  {
   "cell_type": "code",
   "execution_count": null,
   "id": "d1bf460b",
   "metadata": {},
   "outputs": [],
   "source": [
    "if (ativo.index[0].year <= date.today().year - 7) :  apartir = dy[dy.index.year > date.today().year - 7 ]\n",
    "else : apartir = dy.copy()\n",
    "apartir_anual = apartir['Valor'].groupby(pd.Grouper(freq='YS')).sum() "
   ]
  },
  {
   "cell_type": "markdown",
   "id": "d7b527be",
   "metadata": {},
   "source": [
    "### tendencia"
   ]
  },
  {
   "cell_type": "code",
   "execution_count": null,
   "id": "7eff0c6a",
   "metadata": {},
   "outputs": [],
   "source": [
    "df_m, df_b = np.polyfit(apartir_anual.index.year, apartir_anual.values, 1)\n",
    "\n",
    "fig = go.Figure()\n",
    "\n",
    "fig.add_trace(\n",
    "    go.Bar(name='DY anual',\n",
    "    x=apartir_anual.index.year,\n",
    "    y=apartir_anual.values\n",
    "))\n",
    "\n",
    "fig.add_trace(\n",
    "    go.Scatter(\n",
    "    x=apartir_anual.index.year,\n",
    "    y=apartir_anual.values,\n",
    "    text= apartir_anual.values.round(decimals=2),\n",
    "    mode='text',\n",
    "    textposition='top center',\n",
    "    textfont=dict(size=12),\n",
    "    showlegend=False\n",
    "))\n",
    "\n",
    "\n",
    "fig.add_trace(go.Scatter(name='DY anual médio',\n",
    "    x=apartir_anual.index.year,\n",
    "    y=[apartir_anual.values.mean()]*len(apartir_anual.index.year),\n",
    "    mode='lines',\n",
    "    line = dict(color = 'red' , width=2)\n",
    "))\n",
    "\n",
    "# fig.add_trace(\n",
    "#     go.Scatter(name='variação percentual DY', visible='legendonly',\n",
    "#     x=yanual.index.year,\n",
    "#     y=yanual.pct_change().fillna(0),\n",
    "#     mode='lines',\n",
    "#     marker = dict(color = 'brown')\n",
    "# ))\n",
    "\n",
    "fig.add_trace(\n",
    "    go.Scatter(name='Tendência DY',\n",
    "    x=apartir_anual.index.year,\n",
    "    y=df_m*apartir_anual.index.year+df_b,\n",
    "    mode='lines',\n",
    "    line = dict(color = 'black', dash='dot')\n",
    "))\n",
    "\n",
    "fig.update_layout(title= f\"DY anual (taxa = {df_m:.2f})\" , width=900, height=380 )\n",
    "fig.update_xaxes(title_text=\"Ano\")\n",
    "fig.update_yaxes(title_text=\"Dividendo no ano\")\n",
    "\n",
    "fig.show()"
   ]
  },
  {
   "cell_type": "markdown",
   "id": "0ef47768",
   "metadata": {},
   "source": [
    "### preço fechamento"
   ]
  },
  {
   "cell_type": "code",
   "execution_count": null,
   "id": "74b1c184",
   "metadata": {},
   "outputs": [],
   "source": [
    "qual_preco = 'Close'\n",
    "preco = pd.DataFrame()\n",
    "preco = pd.merge(ativo[qual_preco],ibov[qual_preco],left_index = True, right_index = True, how = 'inner')\n",
    "preco.columns = [codigo,\"ibov\"]\n",
    "preco"
   ]
  },
  {
   "cell_type": "code",
   "execution_count": null,
   "id": "0b7b6dc3",
   "metadata": {},
   "outputs": [],
   "source": [
    "import plotly.graph_objects as go\n",
    "from plotly.subplots import make_subplots\n",
    "\n",
    "# Bandas com média móvel 21 períodos e 2dp\n",
    "preco['mm21'] = preco[codigo].rolling(21).mean()\n",
    "Mov_SD = preco[codigo].rolling(21).std(ddof=0)\n",
    "preco['mm21+2dp'] = preco['mm21'] + 2*Mov_SD\n",
    "preco['mm21-2dp'] = preco['mm21'] - 2*Mov_SD\n",
    "\n",
    "# Filtrar dados a partir de 2019\n",
    "dados_plot = preco.loc['2019':]\n",
    "\n",
    "# Criar gráfico\n",
    "fig = go.Figure()\n",
    "\n",
    "# Adicionar preço\n",
    "fig.add_trace(go.Scatter(\n",
    "    x=dados_plot.index,\n",
    "    y=dados_plot[codigo],\n",
    "    mode='lines',\n",
    "    name='Preço',\n",
    "    line=dict(color='blue')\n",
    "))\n",
    "\n",
    "# Adicionar média móvel\n",
    "fig.add_trace(go.Scatter(\n",
    "    x=dados_plot.index,\n",
    "    y=dados_plot['mm21'],\n",
    "    mode='lines',\n",
    "    name='MM21',\n",
    "    line=dict(color='red')\n",
    "))\n",
    "\n",
    "# Adicionar banda superior\n",
    "fig.add_trace(go.Scatter(\n",
    "    x=dados_plot.index,\n",
    "    y=dados_plot['mm21+2dp'],\n",
    "    mode='lines',\n",
    "    name='Banda Superior',\n",
    "    line=dict(color='gray', dash='dash')\n",
    "))\n",
    "\n",
    "# Adicionar banda inferior\n",
    "fig.add_trace(go.Scatter(\n",
    "    x=dados_plot.index,\n",
    "    y=dados_plot['mm21-2dp'],\n",
    "    mode='lines',\n",
    "    name='Banda Inferior',\n",
    "    line=dict(color='gray', dash='dash'),\n",
    "    fill='tonexty',  # Preenchimento entre bandas\n",
    "    fillcolor='rgba(128,128,128,0.1)'\n",
    "))\n",
    "\n",
    "fig.update_layout(\n",
    "    title=f'Bandas de Bollinger - {codigo}',\n",
    "    yaxis_title='Preço',\n",
    "    xaxis_title='Data',\n",
    "    hovermode='x unified'\n",
    ")\n",
    "\n",
    "fig.show()"
   ]
  },
  {
   "cell_type": "markdown",
   "id": "6fa4e9ff",
   "metadata": {},
   "source": [
    "#### simulação de preços\n",
    " [movimento browniano geométrico](https://pt.wikipedia.org/wiki/Movimento_browniano_geom%C3%A9trico) (GBM):\n",
    "\n",
    "\n",
    "Esse modelo simula o comportamento de uma ação usando a fórmula\n",
    "\n",
    "$$\n",
    "S_t = S_{t-\\Delta t}e^{\\left( \\mu - \\frac{\\sigma^2}{2} \\right) \\Delta t + \\sigma z_t \\sqrt{\\Delta t}}\n",
    "$$\n",
    "\n",
    "em que $S_0$ e $S_t$ são o preço da ação no início e no instante $t$, respectivamente,  $\\mu$ e $\\sigma$ são a média e o desvio padrão do retorno esperado de uma ação, e $z_i$ é uma componente aleatória --- um número sorteado a partir de uma [distribuição normal](https://pt.wikipedia.org/wiki/Distribui%C3%A7%C3%A3o_normal) com média 0 e desvio padrão 1 --- e $\\Delta t$ é o número de dias das taxa de retorno (como estamos trabalhando com retorno diário $\\Delta t=1$)\n",
    "$$\n",
    "S_t = S_{0}e^{\\left( \\mu - \\frac{\\sigma^2}{2} \\right) t + \\sigma z_t }\n",
    "$$\n",
    "A componente $\\exp{\\left( \\mu - {\\sigma^2}/{2} \\right)t}$ é conhecida como **deriva** (*drift*) e modela uma tendência determinística do preço da ação: $S_t = S_0 \\exp{\\left( \\mu - {\\sigma^2}/{2} \\right)t}$.\n",
    "\n",
    "A componente $\\exp {\\sigma W_t}$ é conhecida como **difusão** (*diffusion*), e é usado para modelar um conjunto de eventos imprevisíveis que ocorrem durante este movimento.\n",
    "\n",
    "Obviamente não temos como saber a sequência correta de retornos, mas a título de ilustração,  podemos usar a própria sequência de eventos de retorno."
   ]
  },
  {
   "cell_type": "code",
   "execution_count": null,
   "id": "73b1b470",
   "metadata": {},
   "outputs": [],
   "source": [
    "rate = preco[codigo].pct_change().fillna(0)\n",
    "s_media = rate.mean()\n",
    "s_devp  = rate.std()\n",
    "S0 = preco[codigo][0]\n",
    "\n",
    "drift = pd.Series(s_media - (s_devp**2)/2 , index=preco.index)\n",
    "St_dri = S0*np.exp(drift.cumsum())\n",
    "\n",
    "Z = ( rate - s_media) / s_devp\n",
    "diffusion = Z * s_devp\n",
    "St_dif = S0*np.exp(diffusion.cumsum())\n",
    "\n",
    "St = S0 * np.exp((drift+diffusion).cumsum())\n",
    "\n",
    "trace1 = go.Scatter(x=preco.index , y = St_dri , name='drift')\n",
    "trace2 = go.Scatter(x=preco.index , y = preco[codigo] , name=codigo, line=dict(color='rgba(1.0 ,0, 0, 0.5)'))\n",
    "trace3 = go.Scatter(x=preco.index , y = St_dif , name='difusão')\n",
    "trace4 = go.Scatter(x=preco.index , y = St , name='modelo' , line=dict(color='rgba(0, 0.5, 0.5, 0.5)'))\n",
    "figdata = [trace1,trace3,trace2,trace4]\n",
    "fig = go.Figure(data=figdata)\n",
    "fig.update_layout(title='parametros de um GBM', height=380, width=850 )\n",
    "\n",
    "fig.show()"
   ]
  },
  {
   "cell_type": "code",
   "execution_count": null,
   "id": "9ee22607",
   "metadata": {},
   "outputs": [],
   "source": [
    "diferenca = pd.DataFrame()\n",
    "diferenca['diferença'] = (preco[codigo] - St)\n",
    "diferenca['media'] = diferenca['diferença'].mean()\n",
    "diferenca['1 desvio'] = diferenca['diferença'].std()\n",
    "diferenca['diferença'] = (diferenca['diferença'] - diferenca['media'])/diferenca['1 desvio']\n",
    "diferenca['media'] = 0\n",
    "diferenca['1 desvio'] = 1\n",
    "diferenca['-1 desvio'] = -1\n",
    "\n",
    "diferenca.plot(layout=dict(height=300, width=700 ))"
   ]
  },
  {
   "cell_type": "code",
   "execution_count": null,
   "id": "500f407f",
   "metadata": {},
   "outputs": [],
   "source": [
    "n_dias = 5#@param {type:\"integer\"}\n",
    "n_cenarios = 1000#@param {type:\"integer\"}\n",
    "n_grafico = 10*n_dias"
   ]
  },
  {
   "cell_type": "code",
   "execution_count": null,
   "id": "ebfe29a2",
   "metadata": {},
   "outputs": [],
   "source": [
    "# Função para simular o GBM\n",
    "def simula(S0 , dias , mu , sigma , n_paths, seed=None):\n",
    "    np.random.seed(seed)\n",
    "    dt = 1 / dias  # Número de dias de negociação no período de simulação ) :\n",
    "    S = []\n",
    "    for i in range(n_paths):\n",
    "        path = []\n",
    "        for t in range(dias+1):\n",
    "            if t == 0 :\n",
    "                path.append(S0)\n",
    "            else:\n",
    "               z = np.random.normal(0.0, 1.0)\n",
    "               St = path[t - 1] * np.exp((mu - 0.5 * sigma ** 2) * dt + sigma * np.sqrt(dt) * z)\n",
    "               path.append(St)\n",
    "        S.append(path)\n",
    "    return np.array(S)\n",
    "\n",
    "\n",
    "simulacao = simula(preco[codigo].iloc[-1] , n_dias , s_media , s_devp , n_cenarios).transpose()\n",
    "\n",
    "# Criar DataFrame com os preços simulados\n",
    "dias_simulados = pd.date_range(start=preco.index[-1], periods=n_dias+1 ,freq='B')  # Considerando dias úteis\n",
    "df_simulado = pd.DataFrame(simulacao , index = dias_simulados )\n",
    "df_simulado.iloc[:, :10].head()\n"
   ]
  },
  {
   "cell_type": "code",
   "execution_count": null,
   "id": "f41f5643",
   "metadata": {},
   "outputs": [],
   "source": [
    "fig = go.Figure()\n",
    "\n",
    "fig.add_trace(go.Scatter(x=preco[codigo].iloc[-n_grafico:].index , y =preco[codigo].iloc[-n_grafico:]  , mode='lines' , name = 'preço'))\n",
    "\n",
    "for i in range(n_cenarios):\n",
    "    fig.add_trace(go.Scatter(x=df_simulado.index , y = df_simulado[i]  , mode='lines' ))\n",
    "    fig.data[i+1].update(showlegend=False)\n",
    "\n",
    "fig.add_trace(go.Scatter(x=df_simulado.index , y = df_simulado.quantile(0.05,axis=1) , mode='lines' , line=dict(color='black',width=4), name='percentil 5'))\n",
    "fig.add_trace(go.Scatter(x=df_simulado.index , y = df_simulado.quantile(0.5,axis=1)  , mode='lines' , line=dict(color='black',width=3), name='mediana'))\n",
    "fig.add_trace(go.Scatter(x=df_simulado.index , y = df_simulado.quantile(0.95,axis=1) , mode='lines' , line=dict(color='black',width=4), name='percentil 95'))\n",
    "\n",
    "fig.add_trace(go.Scatter(name='mm21',\n",
    "                         x=preco[codigo].iloc[-n_grafico:].index ,\n",
    "                         y= preco['mm21'].iloc[-n_grafico:].values,\n",
    "                         mode='lines', line=dict(color='orange', dash='dash')))\n",
    "fig.add_trace(go.Scatter(name='mm21+2dp',\n",
    "                         x=preco[codigo].iloc[-n_grafico:].index ,\n",
    "                         y= preco['mm21+2dp'].iloc[-n_grafico:].values,\n",
    "                         mode='lines', line=dict(color='gray', dash='dash') ))\n",
    "fig.add_trace(go.Scatter(name='mm21-2dp',\n",
    "                         x=preco[codigo].iloc[-n_grafico:].index ,\n",
    "                         y= preco['mm21-2dp'].iloc[-n_grafico:].values,\n",
    "                         mode='lines',line=dict(color='gray', dash='dash')))\n",
    "\n",
    "fig.update_layout(\n",
    "    title='Simulações de preço GBM',\n",
    "    xaxis=dict(title='Data', dtick='D', tickformat='%d-%m', rangebreaks=[dict(bounds=[\"sat\", \"mon\"])]),  # Excluir sábado e domingo\n",
    "    yaxis=dict(title='Preço', side='right'),  # Posicionando os rótulos do eixo y no lado esquerdo\n",
    "    width=1000,\n",
    "    height=480,\n",
    "    showlegend=False\n",
    ")\n",
    "\n",
    "# fig.update_xaxes(dtick='D', tickformat='%d-%m' ,\n",
    "#     rangebreaks=[\n",
    "#         dict(bounds=[\"sat\", \"mon\"]),  # Excluir sábado e domingo\n",
    "#     ]\n",
    "# )\n",
    "\n",
    "fig.show()"
   ]
  },
  {
   "cell_type": "markdown",
   "id": "ed63d7c0",
   "metadata": {},
   "source": [
    "intervalo de confiança para preços na  simulação"
   ]
  },
  {
   "cell_type": "code",
   "execution_count": null,
   "id": "f7d0070f",
   "metadata": {},
   "outputs": [],
   "source": [
    "def ic ( m,s, alfa) :\n",
    "    l, u = stats.norm.interval(confidence=alfa,  loc=m , scale= s)\n",
    "    return \"{:.2f}\".format(l), \"{:.2f}\".format(u)\n",
    "\n",
    "alfa=.9\n",
    "\n",
    "for i in range(n_dias):\n",
    "    m = np.mean(df_simulado.iloc[i+1])\n",
    "    s = stats.sem(df_simulado.iloc[i+1])\n",
    "\n",
    "    print(f'dia {str(i+1)}: {str(100*alfa)}% -> ' , end='')\n",
    "    print(f'({ic(m,s,alfa)[0]} , {ic(m,s,alfa)[1]})' , end='     95% ->')\n",
    "    print(f'({ic(m,s,alfa+.05)[0]} , {ic(m,s,alfa+.05)[1]})' , end='     99% ->')\n",
    "    print(f'({ic(m,s,alfa+.09)[0]} , {ic(m,s,alfa+.09)[1]})')"
   ]
  },
  {
   "cell_type": "code",
   "execution_count": null,
   "id": "2414bfce",
   "metadata": {},
   "outputs": [],
   "source": [
    "trace1 = go.Histogram(x=df_simulado.iloc[1] , nbinsx= int(2*(df_simulado.shape[1])**(1/3)), histnorm='probability density',name='primeiro dia simulado')\n",
    "trace3 = go.Histogram(x=df_simulado.iloc[-1], nbinsx= int(2*(df_simulado.shape[-1])**(1/3)), histnorm='probability density',name='ultimo dia simulado')\n",
    "trace2 = go.Box(y=df_simulado.iloc[1],name='primeiro dia simulado')\n",
    "trace4 = go.Box(y=df_simulado.iloc[-1],name='ultimo dia simulado')\n",
    "\n",
    "fig = make_subplots(rows=1, cols=4)\n",
    "\n",
    "fig.append_trace(trace1,1,1)\n",
    "fig.append_trace(trace2,1,2)\n",
    "fig.append_trace(trace3,1,3)\n",
    "fig.append_trace(trace4,1,4)\n",
    "\n",
    "fig.update_layout(title='Distribuição dos preços na simulação', height=350, width=800)\n",
    "\n",
    "fig.show()"
   ]
  }
 ],
 "metadata": {
  "kernelspec": {
   "display_name": "stochastix",
   "language": "python",
   "name": "python3"
  },
  "language_info": {
   "codemirror_mode": {
    "name": "ipython",
    "version": 3
   },
   "file_extension": ".py",
   "mimetype": "text/x-python",
   "name": "python",
   "nbconvert_exporter": "python",
   "pygments_lexer": "ipython3",
   "version": "3.11.2"
  }
 },
 "nbformat": 4,
 "nbformat_minor": 5
}
