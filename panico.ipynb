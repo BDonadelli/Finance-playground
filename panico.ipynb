{
 "cells": [
  {
   "cell_type": "code",
   "execution_count": 1,
   "id": "a14a7adb",
   "metadata": {},
   "outputs": [],
   "source": [
    "import pandas as pd\n",
    "import yfinance as yf\n",
    "import matplotlib.pyplot as plt\n",
    "import plotly.graph_objects as go\n",
    "from sklearn.preprocessing import MinMaxScaler\n",
    "\n",
    "# descomentar para graficos aparecerem no github\n",
    "# import plotly.io as pio\n",
    "# pio.renderers.default = 'png'    #@param ['svg', 'colab', 'vscode' ]"
   ]
  },
  {
   "cell_type": "code",
   "execution_count": 2,
   "id": "d079e667",
   "metadata": {},
   "outputs": [],
   "source": [
    "carteira = 'ibra100'"
   ]
  },
  {
   "cell_type": "code",
   "execution_count": 3,
   "id": "8a2586d3",
   "metadata": {},
   "outputs": [
    {
     "data": {
      "text/html": [
       "<div>\n",
       "<style scoped>\n",
       "    .dataframe tbody tr th:only-of-type {\n",
       "        vertical-align: middle;\n",
       "    }\n",
       "\n",
       "    .dataframe tbody tr th {\n",
       "        vertical-align: top;\n",
       "    }\n",
       "\n",
       "    .dataframe thead th {\n",
       "        text-align: right;\n",
       "    }\n",
       "</style>\n",
       "<table border=\"1\" class=\"dataframe\">\n",
       "  <thead>\n",
       "    <tr style=\"text-align: right;\">\n",
       "      <th></th>\n",
       "      <th>Código</th>\n",
       "      <th>Ação</th>\n",
       "      <th>Tipo</th>\n",
       "      <th>Qtde. Teórica</th>\n",
       "      <th>Part. (%)</th>\n",
       "    </tr>\n",
       "  </thead>\n",
       "  <tbody>\n",
       "    <tr>\n",
       "      <th>0</th>\n",
       "      <td>ALOS3</td>\n",
       "      <td>ALLOS</td>\n",
       "      <td>ON  ED  NM</td>\n",
       "      <td>476976044</td>\n",
       "      <td>0.445</td>\n",
       "    </tr>\n",
       "    <tr>\n",
       "      <th>1</th>\n",
       "      <td>ALPA4</td>\n",
       "      <td>ALPARGATAS</td>\n",
       "      <td>PN      N1</td>\n",
       "      <td>164391149</td>\n",
       "      <td>0.054</td>\n",
       "    </tr>\n",
       "    <tr>\n",
       "      <th>2</th>\n",
       "      <td>ABEV3</td>\n",
       "      <td>AMBEV S/A</td>\n",
       "      <td>ON</td>\n",
       "      <td>4394835131</td>\n",
       "      <td>2.735</td>\n",
       "    </tr>\n",
       "    <tr>\n",
       "      <th>3</th>\n",
       "      <td>AMBP3</td>\n",
       "      <td>AMBIPAR</td>\n",
       "      <td>ON      NM</td>\n",
       "      <td>37603389</td>\n",
       "      <td>0.235</td>\n",
       "    </tr>\n",
       "    <tr>\n",
       "      <th>4</th>\n",
       "      <td>ASAI3</td>\n",
       "      <td>ASSAI</td>\n",
       "      <td>ON  ED  NM</td>\n",
       "      <td>1345832968</td>\n",
       "      <td>0.548</td>\n",
       "    </tr>\n",
       "    <tr>\n",
       "      <th>...</th>\n",
       "      <td>...</td>\n",
       "      <td>...</td>\n",
       "      <td>...</td>\n",
       "      <td>...</td>\n",
       "      <td>...</td>\n",
       "    </tr>\n",
       "    <tr>\n",
       "      <th>96</th>\n",
       "      <td>VAMO3</td>\n",
       "      <td>VAMOS</td>\n",
       "      <td>ON      NM</td>\n",
       "      <td>485166826</td>\n",
       "      <td>0.115</td>\n",
       "    </tr>\n",
       "    <tr>\n",
       "      <th>97</th>\n",
       "      <td>VBBR3</td>\n",
       "      <td>VIBRA</td>\n",
       "      <td>ON  ED  NM</td>\n",
       "      <td>1023538460</td>\n",
       "      <td>0.864</td>\n",
       "    </tr>\n",
       "    <tr>\n",
       "      <th>98</th>\n",
       "      <td>VIVA3</td>\n",
       "      <td>VIVARA S.A.</td>\n",
       "      <td>ON  ED  NM</td>\n",
       "      <td>125446075</td>\n",
       "      <td>0.117</td>\n",
       "    </tr>\n",
       "    <tr>\n",
       "      <th>99</th>\n",
       "      <td>WEGE3</td>\n",
       "      <td>WEG</td>\n",
       "      <td>ON      NM</td>\n",
       "      <td>1482105837</td>\n",
       "      <td>3.266</td>\n",
       "    </tr>\n",
       "    <tr>\n",
       "      <th>100</th>\n",
       "      <td>YDUQ3</td>\n",
       "      <td>YDUQS PART</td>\n",
       "      <td>ON      NM</td>\n",
       "      <td>277677050</td>\n",
       "      <td>0.174</td>\n",
       "    </tr>\n",
       "  </tbody>\n",
       "</table>\n",
       "<p>101 rows × 5 columns</p>\n",
       "</div>"
      ],
      "text/plain": [
       "    Código         Ação        Tipo  Qtde. Teórica  Part. (%)\n",
       "0    ALOS3        ALLOS  ON  ED  NM      476976044      0.445\n",
       "1    ALPA4   ALPARGATAS  PN      N1      164391149      0.054\n",
       "2    ABEV3    AMBEV S/A          ON     4394835131      2.735\n",
       "3    AMBP3      AMBIPAR  ON      NM       37603389      0.235\n",
       "4    ASAI3        ASSAI  ON  ED  NM     1345832968      0.548\n",
       "..     ...          ...         ...            ...        ...\n",
       "96   VAMO3        VAMOS  ON      NM      485166826      0.115\n",
       "97   VBBR3        VIBRA  ON  ED  NM     1023538460      0.864\n",
       "98   VIVA3  VIVARA S.A.  ON  ED  NM      125446075      0.117\n",
       "99   WEGE3          WEG  ON      NM     1482105837      3.266\n",
       "100  YDUQ3   YDUQS PART  ON      NM      277677050      0.174\n",
       "\n",
       "[101 rows x 5 columns]"
      ]
     },
     "execution_count": 3,
     "metadata": {},
     "output_type": "execute_result"
    }
   ],
   "source": [
    "url0 = 'https://raw.githubusercontent.com/BDonadelli/Finance-playground/refs/heads/main/data/'\n",
    "\n",
    "url  = {'ibra50' :url0+'Cart_IBr50.csv',\n",
    "        'ibra100':url0+'Cart_IBr100.csv',\n",
    "        'idiv'   :url0+'Cart_Idiv.csv',\n",
    "        'ibov'   :url0+'Cart_Ibov.csv',\n",
    "        'small'  :url0+'Cart_Small.csv'\n",
    "}\n",
    "indice = pd.read_csv(url[carteira] ,\n",
    "                     sep=';' , decimal=',' , thousands='.' ,\n",
    "                     skiprows=1,skipfooter=2,\n",
    "                     encoding='latin-1',\n",
    "                     index_col=False , engine='python')\n",
    "\n",
    "indice"
   ]
  },
  {
   "cell_type": "code",
   "execution_count": 4,
   "id": "b9af6ba7",
   "metadata": {},
   "outputs": [
    {
     "name": "stderr",
     "output_type": "stream",
     "text": [
      "[*********************100%***********************]  101 of 101 completed\n"
     ]
    }
   ],
   "source": [
    "df_ibov = indice['Código']\n",
    "tickers = [codigo + '.SA' for codigo in df_ibov.tolist()]\n",
    "periodo = '90d'\n",
    "data = yf.download(tickers, period=periodo, interval='1d', group_by='ticker', auto_adjust=True, threads=True)"
   ]
  },
  {
   "cell_type": "markdown",
   "id": "d4affe1e",
   "metadata": {},
   "source": [
    "**1. Índice Simplificado usando Variação e Volume de Ações**\n",
    "\n",
    "$$\n",
    "\\text{Índice de Sentimento} = \\frac{\\sum (V_i \\cdot S_i)}{\\sum \\left| V_i \\cdot S_i \\right|}\n",
    "$$\n",
    "\n",
    "Onde:\n",
    "- \\( V_i \\): volume financeiro negociado da ação \\( i \\),\n",
    "- \\( S_i \\): sinal da variação diária da ação \\( i \\)  \n",
    "  (\\(+1\\) para alta, \\(-1\\) para queda).\n",
    "\n",
    "**Interpretação**\n",
    "\n",
    "- Valor próximo de **+1**: mercado muito otimista\n",
    "- Valor próximo de **-1**: mercado em pânico\n",
    "- Valor próximo de **0**: sentimento neutro\n"
   ]
  },
  {
   "cell_type": "code",
   "execution_count": 5,
   "id": "b6f96ead",
   "metadata": {},
   "outputs": [],
   "source": [
    "datas = data.index\n",
    "df_resultado = pd.DataFrame(index=datas[1:])\n",
    "indices = []\n",
    "\n",
    "for i in range(1, len(datas)):\n",
    "    dia_atual = datas[i]\n",
    "    dia_anterior = datas[i - 1]\n",
    "\n",
    "    soma_num = 0\n",
    "    soma_den = 0\n",
    "\n",
    "    for ticker in tickers:\n",
    "        try:\n",
    "            preco_atual = data[ticker]['Close'].loc[dia_atual]\n",
    "            preco_anterior = data[ticker]['Close'].loc[dia_anterior]\n",
    "            volume = data[ticker]['Volume'].loc[dia_atual]\n",
    "\n",
    "            retorno = (preco_atual - preco_anterior) / preco_anterior\n",
    "            sinal = 1 if retorno > 0 else (-1 if retorno < 0 else 0)\n",
    "\n",
    "            soma_num += volume * sinal\n",
    "            soma_den += abs(volume * sinal)\n",
    "\n",
    "        except Exception:\n",
    "            continue\n",
    "\n",
    "    indice = soma_num / soma_den if soma_den != 0 else 0\n",
    "    indices.append(indice)\n",
    "\n",
    "df_resultado['Indice_Sentimento'] = indices"
   ]
  },
  {
   "cell_type": "code",
   "execution_count": 6,
   "id": "79060f84",
   "metadata": {},
   "outputs": [
    {
     "data": {
      "application/vnd.plotly.v1+json": {
       "config": {
        "plotlyServerURL": "https://plot.ly"
       },
       "data": [
        {
         "line": {
          "color": "blue"
         },
         "mode": "lines",
         "name": "Índice de Sentimento - ibra100",
         "type": "scatter",
         "x": [
          "2024-12-12T00:00:00",
          "2024-12-13T00:00:00",
          "2024-12-16T00:00:00",
          "2024-12-17T00:00:00",
          "2024-12-18T00:00:00",
          "2024-12-19T00:00:00",
          "2024-12-20T00:00:00",
          "2024-12-23T00:00:00",
          "2024-12-26T00:00:00",
          "2024-12-27T00:00:00",
          "2024-12-30T00:00:00",
          "2025-01-02T00:00:00",
          "2025-01-03T00:00:00",
          "2025-01-06T00:00:00",
          "2025-01-07T00:00:00",
          "2025-01-08T00:00:00",
          "2025-01-09T00:00:00",
          "2025-01-10T00:00:00",
          "2025-01-13T00:00:00",
          "2025-01-14T00:00:00",
          "2025-01-15T00:00:00",
          "2025-01-16T00:00:00",
          "2025-01-17T00:00:00",
          "2025-01-20T00:00:00",
          "2025-01-21T00:00:00",
          "2025-01-22T00:00:00",
          "2025-01-23T00:00:00",
          "2025-01-24T00:00:00",
          "2025-01-27T00:00:00",
          "2025-01-28T00:00:00",
          "2025-01-29T00:00:00",
          "2025-01-30T00:00:00",
          "2025-01-31T00:00:00",
          "2025-02-03T00:00:00",
          "2025-02-04T00:00:00",
          "2025-02-05T00:00:00",
          "2025-02-06T00:00:00",
          "2025-02-07T00:00:00",
          "2025-02-10T00:00:00",
          "2025-02-11T00:00:00",
          "2025-02-12T00:00:00",
          "2025-02-13T00:00:00",
          "2025-02-14T00:00:00",
          "2025-02-17T00:00:00",
          "2025-02-18T00:00:00",
          "2025-02-19T00:00:00",
          "2025-02-20T00:00:00",
          "2025-02-21T00:00:00",
          "2025-02-24T00:00:00",
          "2025-02-25T00:00:00",
          "2025-02-26T00:00:00",
          "2025-02-27T00:00:00",
          "2025-02-28T00:00:00",
          "2025-03-05T00:00:00",
          "2025-03-06T00:00:00",
          "2025-03-07T00:00:00",
          "2025-03-10T00:00:00",
          "2025-03-11T00:00:00",
          "2025-03-12T00:00:00",
          "2025-03-13T00:00:00",
          "2025-03-14T00:00:00",
          "2025-03-17T00:00:00",
          "2025-03-18T00:00:00",
          "2025-03-19T00:00:00",
          "2025-03-20T00:00:00",
          "2025-03-21T00:00:00",
          "2025-03-24T00:00:00",
          "2025-03-25T00:00:00",
          "2025-03-26T00:00:00",
          "2025-03-27T00:00:00",
          "2025-03-28T00:00:00",
          "2025-03-31T00:00:00",
          "2025-04-01T00:00:00",
          "2025-04-02T00:00:00",
          "2025-04-03T00:00:00",
          "2025-04-04T00:00:00",
          "2025-04-07T00:00:00",
          "2025-04-08T00:00:00",
          "2025-04-09T00:00:00",
          "2025-04-10T00:00:00",
          "2025-04-11T00:00:00",
          "2025-04-14T00:00:00",
          "2025-04-15T00:00:00",
          "2025-04-16T00:00:00",
          "2025-04-17T00:00:00",
          "2025-04-22T00:00:00",
          "2025-04-23T00:00:00",
          "2025-04-24T00:00:00",
          "2025-04-25T00:00:00"
         ],
         "y": [
          null,
          null,
          -0.6424529431913432,
          0.3074009410850886,
          -0.9555068209495232,
          0.600235629221463,
          0.5152639946701583,
          -0.6775707935873745,
          -0.04907524815387813,
          -0.3592620685328753,
          -0.1270997176248723,
          -0.4274703741885347,
          -0.7075995338934473,
          0.6948757707385036,
          0.45378645023370795,
          -0.8233889095086019,
          -0.11498516667341799,
          -0.4776600758047944,
          -0.05915999302892891,
          0.34267493388728537,
          0.9746910490068352,
          -0.39757117518135066,
          0.4281407075688066,
          0.24424484891707662,
          0.46849838447771225,
          0.18406135856374403,
          -0.542525800301153,
          0.04013569099214697,
          0.9041666765842364,
          -0.6228778522261001,
          -0.3112146098582451,
          0.9221703029497847,
          -0.3036148940542967,
          0.003924649501811834,
          -0.5708835449433777,
          -0.29763706757402086,
          0.5533575964070152,
          -0.5210955646088353,
          0.7201551650563477,
          0.646940504955315,
          -0.7267748465825302,
          0.13943047872222558,
          0.9382043261234054,
          0.6065171776824876,
          -0.3786205703950165,
          -0.6843294040918438,
          -0.026909027774551984,
          -0.5211185846188702,
          -0.8136019091429528,
          0.10444048375448776,
          -0.652092800667661,
          0.034833102077365535,
          -0.8448280926010407,
          0.30332013096252786,
          0.12834273347106484,
          0.8580867192926103,
          -0.4233033956197067,
          -0.39603973163924144,
          0.313535446141055,
          0.31773189824493,
          0.7265075681011132,
          0.5198762590392624,
          0.11146223201872875,
          0.39468826919516825,
          -0.5503461929331287,
          -0.020277485949928436,
          -0.413199026249379,
          0.6242044520544731,
          0.2896398232113342,
          0.3434763663338916,
          -0.6998336695453748,
          -0.7963168618855315,
          0.6069926167232452,
          0.08571097966365607,
          0.428547109687573,
          -0.8874961406121541,
          -0.6023021585987381,
          -0.5206881452482649,
          0.9958440183586871,
          -0.38191974922666283,
          0.6593937129390894,
          0.4280585013513409,
          -0.0656036676722366,
          -0.13300013463978905,
          0.6541477371415927,
          0.47334743768078635,
          0.45311129669520517,
          0.487355180889655,
          -0.21710945462383877
         ]
        }
       ],
       "layout": {
        "height": 400,
        "margin": {
         "b": 40,
         "l": 40,
         "r": 40,
         "t": 60
        },
        "template": {
         "data": {
          "bar": [
           {
            "error_x": {
             "color": "#2a3f5f"
            },
            "error_y": {
             "color": "#2a3f5f"
            },
            "marker": {
             "line": {
              "color": "white",
              "width": 0.5
             },
             "pattern": {
              "fillmode": "overlay",
              "size": 10,
              "solidity": 0.2
             }
            },
            "type": "bar"
           }
          ],
          "barpolar": [
           {
            "marker": {
             "line": {
              "color": "white",
              "width": 0.5
             },
             "pattern": {
              "fillmode": "overlay",
              "size": 10,
              "solidity": 0.2
             }
            },
            "type": "barpolar"
           }
          ],
          "carpet": [
           {
            "aaxis": {
             "endlinecolor": "#2a3f5f",
             "gridcolor": "#C8D4E3",
             "linecolor": "#C8D4E3",
             "minorgridcolor": "#C8D4E3",
             "startlinecolor": "#2a3f5f"
            },
            "baxis": {
             "endlinecolor": "#2a3f5f",
             "gridcolor": "#C8D4E3",
             "linecolor": "#C8D4E3",
             "minorgridcolor": "#C8D4E3",
             "startlinecolor": "#2a3f5f"
            },
            "type": "carpet"
           }
          ],
          "choropleth": [
           {
            "colorbar": {
             "outlinewidth": 0,
             "ticks": ""
            },
            "type": "choropleth"
           }
          ],
          "contour": [
           {
            "colorbar": {
             "outlinewidth": 0,
             "ticks": ""
            },
            "colorscale": [
             [
              0,
              "#0d0887"
             ],
             [
              0.1111111111111111,
              "#46039f"
             ],
             [
              0.2222222222222222,
              "#7201a8"
             ],
             [
              0.3333333333333333,
              "#9c179e"
             ],
             [
              0.4444444444444444,
              "#bd3786"
             ],
             [
              0.5555555555555556,
              "#d8576b"
             ],
             [
              0.6666666666666666,
              "#ed7953"
             ],
             [
              0.7777777777777778,
              "#fb9f3a"
             ],
             [
              0.8888888888888888,
              "#fdca26"
             ],
             [
              1,
              "#f0f921"
             ]
            ],
            "type": "contour"
           }
          ],
          "contourcarpet": [
           {
            "colorbar": {
             "outlinewidth": 0,
             "ticks": ""
            },
            "type": "contourcarpet"
           }
          ],
          "heatmap": [
           {
            "colorbar": {
             "outlinewidth": 0,
             "ticks": ""
            },
            "colorscale": [
             [
              0,
              "#0d0887"
             ],
             [
              0.1111111111111111,
              "#46039f"
             ],
             [
              0.2222222222222222,
              "#7201a8"
             ],
             [
              0.3333333333333333,
              "#9c179e"
             ],
             [
              0.4444444444444444,
              "#bd3786"
             ],
             [
              0.5555555555555556,
              "#d8576b"
             ],
             [
              0.6666666666666666,
              "#ed7953"
             ],
             [
              0.7777777777777778,
              "#fb9f3a"
             ],
             [
              0.8888888888888888,
              "#fdca26"
             ],
             [
              1,
              "#f0f921"
             ]
            ],
            "type": "heatmap"
           }
          ],
          "heatmapgl": [
           {
            "colorbar": {
             "outlinewidth": 0,
             "ticks": ""
            },
            "colorscale": [
             [
              0,
              "#0d0887"
             ],
             [
              0.1111111111111111,
              "#46039f"
             ],
             [
              0.2222222222222222,
              "#7201a8"
             ],
             [
              0.3333333333333333,
              "#9c179e"
             ],
             [
              0.4444444444444444,
              "#bd3786"
             ],
             [
              0.5555555555555556,
              "#d8576b"
             ],
             [
              0.6666666666666666,
              "#ed7953"
             ],
             [
              0.7777777777777778,
              "#fb9f3a"
             ],
             [
              0.8888888888888888,
              "#fdca26"
             ],
             [
              1,
              "#f0f921"
             ]
            ],
            "type": "heatmapgl"
           }
          ],
          "histogram": [
           {
            "marker": {
             "pattern": {
              "fillmode": "overlay",
              "size": 10,
              "solidity": 0.2
             }
            },
            "type": "histogram"
           }
          ],
          "histogram2d": [
           {
            "colorbar": {
             "outlinewidth": 0,
             "ticks": ""
            },
            "colorscale": [
             [
              0,
              "#0d0887"
             ],
             [
              0.1111111111111111,
              "#46039f"
             ],
             [
              0.2222222222222222,
              "#7201a8"
             ],
             [
              0.3333333333333333,
              "#9c179e"
             ],
             [
              0.4444444444444444,
              "#bd3786"
             ],
             [
              0.5555555555555556,
              "#d8576b"
             ],
             [
              0.6666666666666666,
              "#ed7953"
             ],
             [
              0.7777777777777778,
              "#fb9f3a"
             ],
             [
              0.8888888888888888,
              "#fdca26"
             ],
             [
              1,
              "#f0f921"
             ]
            ],
            "type": "histogram2d"
           }
          ],
          "histogram2dcontour": [
           {
            "colorbar": {
             "outlinewidth": 0,
             "ticks": ""
            },
            "colorscale": [
             [
              0,
              "#0d0887"
             ],
             [
              0.1111111111111111,
              "#46039f"
             ],
             [
              0.2222222222222222,
              "#7201a8"
             ],
             [
              0.3333333333333333,
              "#9c179e"
             ],
             [
              0.4444444444444444,
              "#bd3786"
             ],
             [
              0.5555555555555556,
              "#d8576b"
             ],
             [
              0.6666666666666666,
              "#ed7953"
             ],
             [
              0.7777777777777778,
              "#fb9f3a"
             ],
             [
              0.8888888888888888,
              "#fdca26"
             ],
             [
              1,
              "#f0f921"
             ]
            ],
            "type": "histogram2dcontour"
           }
          ],
          "mesh3d": [
           {
            "colorbar": {
             "outlinewidth": 0,
             "ticks": ""
            },
            "type": "mesh3d"
           }
          ],
          "parcoords": [
           {
            "line": {
             "colorbar": {
              "outlinewidth": 0,
              "ticks": ""
             }
            },
            "type": "parcoords"
           }
          ],
          "pie": [
           {
            "automargin": true,
            "type": "pie"
           }
          ],
          "scatter": [
           {
            "fillpattern": {
             "fillmode": "overlay",
             "size": 10,
             "solidity": 0.2
            },
            "type": "scatter"
           }
          ],
          "scatter3d": [
           {
            "line": {
             "colorbar": {
              "outlinewidth": 0,
              "ticks": ""
             }
            },
            "marker": {
             "colorbar": {
              "outlinewidth": 0,
              "ticks": ""
             }
            },
            "type": "scatter3d"
           }
          ],
          "scattercarpet": [
           {
            "marker": {
             "colorbar": {
              "outlinewidth": 0,
              "ticks": ""
             }
            },
            "type": "scattercarpet"
           }
          ],
          "scattergeo": [
           {
            "marker": {
             "colorbar": {
              "outlinewidth": 0,
              "ticks": ""
             }
            },
            "type": "scattergeo"
           }
          ],
          "scattergl": [
           {
            "marker": {
             "colorbar": {
              "outlinewidth": 0,
              "ticks": ""
             }
            },
            "type": "scattergl"
           }
          ],
          "scattermapbox": [
           {
            "marker": {
             "colorbar": {
              "outlinewidth": 0,
              "ticks": ""
             }
            },
            "type": "scattermapbox"
           }
          ],
          "scatterpolar": [
           {
            "marker": {
             "colorbar": {
              "outlinewidth": 0,
              "ticks": ""
             }
            },
            "type": "scatterpolar"
           }
          ],
          "scatterpolargl": [
           {
            "marker": {
             "colorbar": {
              "outlinewidth": 0,
              "ticks": ""
             }
            },
            "type": "scatterpolargl"
           }
          ],
          "scatterternary": [
           {
            "marker": {
             "colorbar": {
              "outlinewidth": 0,
              "ticks": ""
             }
            },
            "type": "scatterternary"
           }
          ],
          "surface": [
           {
            "colorbar": {
             "outlinewidth": 0,
             "ticks": ""
            },
            "colorscale": [
             [
              0,
              "#0d0887"
             ],
             [
              0.1111111111111111,
              "#46039f"
             ],
             [
              0.2222222222222222,
              "#7201a8"
             ],
             [
              0.3333333333333333,
              "#9c179e"
             ],
             [
              0.4444444444444444,
              "#bd3786"
             ],
             [
              0.5555555555555556,
              "#d8576b"
             ],
             [
              0.6666666666666666,
              "#ed7953"
             ],
             [
              0.7777777777777778,
              "#fb9f3a"
             ],
             [
              0.8888888888888888,
              "#fdca26"
             ],
             [
              1,
              "#f0f921"
             ]
            ],
            "type": "surface"
           }
          ],
          "table": [
           {
            "cells": {
             "fill": {
              "color": "#EBF0F8"
             },
             "line": {
              "color": "white"
             }
            },
            "header": {
             "fill": {
              "color": "#C8D4E3"
             },
             "line": {
              "color": "white"
             }
            },
            "type": "table"
           }
          ]
         },
         "layout": {
          "annotationdefaults": {
           "arrowcolor": "#2a3f5f",
           "arrowhead": 0,
           "arrowwidth": 1
          },
          "autotypenumbers": "strict",
          "coloraxis": {
           "colorbar": {
            "outlinewidth": 0,
            "ticks": ""
           }
          },
          "colorscale": {
           "diverging": [
            [
             0,
             "#8e0152"
            ],
            [
             0.1,
             "#c51b7d"
            ],
            [
             0.2,
             "#de77ae"
            ],
            [
             0.3,
             "#f1b6da"
            ],
            [
             0.4,
             "#fde0ef"
            ],
            [
             0.5,
             "#f7f7f7"
            ],
            [
             0.6,
             "#e6f5d0"
            ],
            [
             0.7,
             "#b8e186"
            ],
            [
             0.8,
             "#7fbc41"
            ],
            [
             0.9,
             "#4d9221"
            ],
            [
             1,
             "#276419"
            ]
           ],
           "sequential": [
            [
             0,
             "#0d0887"
            ],
            [
             0.1111111111111111,
             "#46039f"
            ],
            [
             0.2222222222222222,
             "#7201a8"
            ],
            [
             0.3333333333333333,
             "#9c179e"
            ],
            [
             0.4444444444444444,
             "#bd3786"
            ],
            [
             0.5555555555555556,
             "#d8576b"
            ],
            [
             0.6666666666666666,
             "#ed7953"
            ],
            [
             0.7777777777777778,
             "#fb9f3a"
            ],
            [
             0.8888888888888888,
             "#fdca26"
            ],
            [
             1,
             "#f0f921"
            ]
           ],
           "sequentialminus": [
            [
             0,
             "#0d0887"
            ],
            [
             0.1111111111111111,
             "#46039f"
            ],
            [
             0.2222222222222222,
             "#7201a8"
            ],
            [
             0.3333333333333333,
             "#9c179e"
            ],
            [
             0.4444444444444444,
             "#bd3786"
            ],
            [
             0.5555555555555556,
             "#d8576b"
            ],
            [
             0.6666666666666666,
             "#ed7953"
            ],
            [
             0.7777777777777778,
             "#fb9f3a"
            ],
            [
             0.8888888888888888,
             "#fdca26"
            ],
            [
             1,
             "#f0f921"
            ]
           ]
          },
          "colorway": [
           "#636efa",
           "#EF553B",
           "#00cc96",
           "#ab63fa",
           "#FFA15A",
           "#19d3f3",
           "#FF6692",
           "#B6E880",
           "#FF97FF",
           "#FECB52"
          ],
          "font": {
           "color": "#2a3f5f"
          },
          "geo": {
           "bgcolor": "white",
           "lakecolor": "white",
           "landcolor": "white",
           "showlakes": true,
           "showland": true,
           "subunitcolor": "#C8D4E3"
          },
          "hoverlabel": {
           "align": "left"
          },
          "hovermode": "closest",
          "mapbox": {
           "style": "light"
          },
          "paper_bgcolor": "white",
          "plot_bgcolor": "white",
          "polar": {
           "angularaxis": {
            "gridcolor": "#EBF0F8",
            "linecolor": "#EBF0F8",
            "ticks": ""
           },
           "bgcolor": "white",
           "radialaxis": {
            "gridcolor": "#EBF0F8",
            "linecolor": "#EBF0F8",
            "ticks": ""
           }
          },
          "scene": {
           "xaxis": {
            "backgroundcolor": "white",
            "gridcolor": "#DFE8F3",
            "gridwidth": 2,
            "linecolor": "#EBF0F8",
            "showbackground": true,
            "ticks": "",
            "zerolinecolor": "#EBF0F8"
           },
           "yaxis": {
            "backgroundcolor": "white",
            "gridcolor": "#DFE8F3",
            "gridwidth": 2,
            "linecolor": "#EBF0F8",
            "showbackground": true,
            "ticks": "",
            "zerolinecolor": "#EBF0F8"
           },
           "zaxis": {
            "backgroundcolor": "white",
            "gridcolor": "#DFE8F3",
            "gridwidth": 2,
            "linecolor": "#EBF0F8",
            "showbackground": true,
            "ticks": "",
            "zerolinecolor": "#EBF0F8"
           }
          },
          "shapedefaults": {
           "line": {
            "color": "#2a3f5f"
           }
          },
          "ternary": {
           "aaxis": {
            "gridcolor": "#DFE8F3",
            "linecolor": "#A2B1C6",
            "ticks": ""
           },
           "baxis": {
            "gridcolor": "#DFE8F3",
            "linecolor": "#A2B1C6",
            "ticks": ""
           },
           "bgcolor": "white",
           "caxis": {
            "gridcolor": "#DFE8F3",
            "linecolor": "#A2B1C6",
            "ticks": ""
           }
          },
          "title": {
           "x": 0.05
          },
          "xaxis": {
           "automargin": true,
           "gridcolor": "#EBF0F8",
           "linecolor": "#EBF0F8",
           "ticks": "",
           "title": {
            "standoff": 15
           },
           "zerolinecolor": "#EBF0F8",
           "zerolinewidth": 2
          },
          "yaxis": {
           "automargin": true,
           "gridcolor": "#EBF0F8",
           "linecolor": "#EBF0F8",
           "ticks": "",
           "title": {
            "standoff": 15
           },
           "zerolinecolor": "#EBF0F8",
           "zerolinewidth": 2
          }
         }
        },
        "title": {
         "text": "Índice de Sentimento - IBRA100 - Variação de preço e Volume "
        },
        "width": 800,
        "xaxis": {
         "title": {
          "text": "Data"
         }
        },
        "yaxis": {
         "title": {
          "text": "Índice de Sentimento"
         }
        }
       }
      }
     },
     "metadata": {},
     "output_type": "display_data"
    }
   ],
   "source": [
    "fig = go.Figure()\n",
    "## ------------------------------\n",
    "# scaler = MinMaxScaler(feature_range=(0, 1))\n",
    "# scaled_features = scaler.fit_transform(df_resultado[['Indice_Sentimento']])\n",
    "# scaled_df_volume = pd.DataFrame(scaled_features, columns=['Indice_Sentimento'], index=df_resultado.index)\n",
    "scaled_df_volume = df_resultado.copy()\n",
    "## ------------------------------\n",
    "\n",
    "fig.add_trace(go.Scatter(x=scaled_df_volume.index,y=scaled_df_volume['Indice_Sentimento'],mode='lines',\n",
    "    name=f'Índice de Sentimento - {carteira}', line=dict(color='blue')))\n",
    "\n",
    "fig.update_layout(title=f'Índice de Sentimento - {carteira.upper()} - Variação de preço e Volume ',width=800,height=400,#legend=dict(yanchor=\"top\", y=0.99, xanchor=\"left\", x=0.01),\n",
    "    margin=dict(l=40, r=40, t=60, b=40),xaxis_title='Data',yaxis_title='Índice de Sentimento',template='plotly_white')\n",
    "\n",
    "fig.show()"
   ]
  },
  {
   "cell_type": "code",
   "execution_count": 7,
   "id": "72ee334c",
   "metadata": {},
   "outputs": [],
   "source": [
    "from selenium import webdriver\n",
    "from selenium.webdriver.common.by import By\n",
    "from selenium.webdriver.support.ui import WebDriverWait\n",
    "from selenium.webdriver.support import expected_conditions as EC\n",
    "from selenium.webdriver.chrome.options import Options\n",
    "import time\n",
    "import os\n",
    "\n",
    "# Pasta onde o arquivo será salvo\n",
    "download_dir = str(os.getcwd()) + r\"/data/\"\n",
    "\n",
    "# Configurações do Chrome\n",
    "chrome_options = Options()\n",
    "chrome_options.add_experimental_option('prefs', {\n",
    "    \"download.default_directory\": download_dir,  # muda a pasta de download\n",
    "    \"download.prompt_for_download\": False,       # não pede confirmação\n",
    "    \"directory_upgrade\": True,\n",
    "    \"safebrowsing.enabled\": True\n",
    "})\n"
   ]
  },
  {
   "cell_type": "markdown",
   "id": "f32492cf",
   "metadata": {},
   "source": [
    "*Índice com dados de fluxo (investidor estrangeiro vs local)*\n",
    "$$\n",
    "\\text{Indice de fluxo} = \\frac{\\text{Fluxo Lıquido Estrangeiro}}{\\text{Volume Total}}\n",
    "$$ \n",
    "Se o índice estiver muito positivo: otimismo externo (gringos comprando).\n",
    "\n",
    "Se estiver muito negativo: pânico (gringos vendendo pesado).\n",
    "\n"
   ]
  },
  {
   "cell_type": "code",
   "execution_count": 8,
   "id": "6953d934",
   "metadata": {},
   "outputs": [],
   "source": [
    "driver=webdriver.Chrome(options=chrome_options)\n",
    "url='https://www.dadosdemercado.com.br/bolsa/investidores-estrangeiros'\n",
    "driver.get(url)\n",
    "time.sleep(2)\n",
    "path='//*[@id=\"download-csv\"]'\n",
    "botao = driver.find_element(By.XPATH,path)\n",
    "botao.click()\n",
    "driver.close()"
   ]
  },
  {
   "cell_type": "code",
   "execution_count": 9,
   "id": "73f87141",
   "metadata": {},
   "outputs": [],
   "source": [
    "try:\n",
    "    os.rename(\"data/fluxo-estrangeiro (1).csv\",\"data/fluxo-estrangeiro.csv\")\n",
    "except:\n",
    "    pass"
   ]
  },
  {
   "cell_type": "code",
   "execution_count": 10,
   "id": "c94e9c24",
   "metadata": {},
   "outputs": [
    {
     "data": {
      "text/html": [
       "<div>\n",
       "<style scoped>\n",
       "    .dataframe tbody tr th:only-of-type {\n",
       "        vertical-align: middle;\n",
       "    }\n",
       "\n",
       "    .dataframe tbody tr th {\n",
       "        vertical-align: top;\n",
       "    }\n",
       "\n",
       "    .dataframe thead th {\n",
       "        text-align: right;\n",
       "    }\n",
       "</style>\n",
       "<table border=\"1\" class=\"dataframe\">\n",
       "  <thead>\n",
       "    <tr style=\"text-align: right;\">\n",
       "      <th></th>\n",
       "      <th>Data</th>\n",
       "      <th>Estrangeiro</th>\n",
       "      <th>Institucional</th>\n",
       "      <th>Pessoa física</th>\n",
       "      <th>Inst. Financeira</th>\n",
       "      <th>Outros</th>\n",
       "    </tr>\n",
       "  </thead>\n",
       "  <tbody>\n",
       "    <tr>\n",
       "      <th>0</th>\n",
       "      <td>2025-04-23</td>\n",
       "      <td>1671.85</td>\n",
       "      <td>-1210.13</td>\n",
       "      <td>-247.50</td>\n",
       "      <td>67.38</td>\n",
       "      <td>-281.60</td>\n",
       "    </tr>\n",
       "    <tr>\n",
       "      <th>1</th>\n",
       "      <td>2025-04-22</td>\n",
       "      <td>1112.86</td>\n",
       "      <td>-935.41</td>\n",
       "      <td>-127.54</td>\n",
       "      <td>-34.45</td>\n",
       "      <td>-15.46</td>\n",
       "    </tr>\n",
       "    <tr>\n",
       "      <th>2</th>\n",
       "      <td>2025-04-17</td>\n",
       "      <td>2332.51</td>\n",
       "      <td>-781.91</td>\n",
       "      <td>-273.00</td>\n",
       "      <td>-1326.86</td>\n",
       "      <td>49.25</td>\n",
       "    </tr>\n",
       "    <tr>\n",
       "      <th>3</th>\n",
       "      <td>2025-04-16</td>\n",
       "      <td>-1115.98</td>\n",
       "      <td>564.08</td>\n",
       "      <td>113.25</td>\n",
       "      <td>231.88</td>\n",
       "      <td>206.77</td>\n",
       "    </tr>\n",
       "    <tr>\n",
       "      <th>4</th>\n",
       "      <td>2025-04-15</td>\n",
       "      <td>-68.61</td>\n",
       "      <td>-169.87</td>\n",
       "      <td>402.79</td>\n",
       "      <td>-235.00</td>\n",
       "      <td>70.68</td>\n",
       "    </tr>\n",
       "    <tr>\n",
       "      <th>...</th>\n",
       "      <td>...</td>\n",
       "      <td>...</td>\n",
       "      <td>...</td>\n",
       "      <td>...</td>\n",
       "      <td>...</td>\n",
       "      <td>...</td>\n",
       "    </tr>\n",
       "    <tr>\n",
       "      <th>243</th>\n",
       "      <td>2024-05-06</td>\n",
       "      <td>-128.19</td>\n",
       "      <td>-88.95</td>\n",
       "      <td>194.39</td>\n",
       "      <td>17.70</td>\n",
       "      <td>5.06</td>\n",
       "    </tr>\n",
       "    <tr>\n",
       "      <th>244</th>\n",
       "      <td>2024-05-03</td>\n",
       "      <td>1028.27</td>\n",
       "      <td>-522.34</td>\n",
       "      <td>-375.29</td>\n",
       "      <td>-58.40</td>\n",
       "      <td>-72.24</td>\n",
       "    </tr>\n",
       "    <tr>\n",
       "      <th>245</th>\n",
       "      <td>2024-05-02</td>\n",
       "      <td>603.67</td>\n",
       "      <td>-623.34</td>\n",
       "      <td>-220.19</td>\n",
       "      <td>17.07</td>\n",
       "      <td>222.79</td>\n",
       "    </tr>\n",
       "    <tr>\n",
       "      <th>246</th>\n",
       "      <td>2024-04-30</td>\n",
       "      <td>-1398.73</td>\n",
       "      <td>607.61</td>\n",
       "      <td>529.58</td>\n",
       "      <td>251.08</td>\n",
       "      <td>10.47</td>\n",
       "    </tr>\n",
       "    <tr>\n",
       "      <th>247</th>\n",
       "      <td>2024-04-29</td>\n",
       "      <td>968.65</td>\n",
       "      <td>-905.58</td>\n",
       "      <td>-1.20</td>\n",
       "      <td>-81.45</td>\n",
       "      <td>19.58</td>\n",
       "    </tr>\n",
       "  </tbody>\n",
       "</table>\n",
       "<p>248 rows × 6 columns</p>\n",
       "</div>"
      ],
      "text/plain": [
       "          Data  Estrangeiro  Institucional  Pessoa física  Inst. Financeira  \\\n",
       "0   2025-04-23      1671.85       -1210.13        -247.50             67.38   \n",
       "1   2025-04-22      1112.86        -935.41        -127.54            -34.45   \n",
       "2   2025-04-17      2332.51        -781.91        -273.00          -1326.86   \n",
       "3   2025-04-16     -1115.98         564.08         113.25            231.88   \n",
       "4   2025-04-15       -68.61        -169.87         402.79           -235.00   \n",
       "..         ...          ...            ...            ...               ...   \n",
       "243 2024-05-06      -128.19         -88.95         194.39             17.70   \n",
       "244 2024-05-03      1028.27        -522.34        -375.29            -58.40   \n",
       "245 2024-05-02       603.67        -623.34        -220.19             17.07   \n",
       "246 2024-04-30     -1398.73         607.61         529.58            251.08   \n",
       "247 2024-04-29       968.65        -905.58          -1.20            -81.45   \n",
       "\n",
       "     Outros  \n",
       "0   -281.60  \n",
       "1    -15.46  \n",
       "2     49.25  \n",
       "3    206.77  \n",
       "4     70.68  \n",
       "..      ...  \n",
       "243    5.06  \n",
       "244  -72.24  \n",
       "245  222.79  \n",
       "246   10.47  \n",
       "247   19.58  \n",
       "\n",
       "[248 rows x 6 columns]"
      ]
     },
     "execution_count": 10,
     "metadata": {},
     "output_type": "execute_result"
    }
   ],
   "source": [
    "fluxo = pd.read_csv('data/fluxo-estrangeiro.csv')\n",
    "\n",
    "# Converter a coluna Data para datetime\n",
    "fluxo['Data'] = pd.to_datetime(fluxo['Data'], format='%d/%m/%Y')\n",
    "\n",
    "# Função para limpar e converter os valores para float\n",
    "def converter_valor(valor):\n",
    "    if isinstance(valor, str):\n",
    "        # Remove o sufixo \" mi\"\n",
    "        valor = valor.replace(' mi', '')\n",
    "        # Substitui o ponto de milhar e vírgula decimal para formato float padrão\n",
    "        valor = valor.replace('.', '').replace(',', '.')\n",
    "        return float(valor)\n",
    "    return valor\n",
    "\n",
    "# Aplicar a função para todas as colunas, exceto 'Data'\n",
    "colunas_valores = fluxo.columns.difference(['Data'])\n",
    "for col in colunas_valores:\n",
    "    fluxo[col] = fluxo[col].apply(converter_valor)\n",
    "\n",
    "\n",
    "fluxo"
   ]
  },
  {
   "cell_type": "code",
   "execution_count": 11,
   "id": "1b518c7d",
   "metadata": {},
   "outputs": [
    {
     "data": {
      "application/vnd.plotly.v1+json": {
       "config": {
        "plotlyServerURL": "https://plot.ly"
       },
       "data": [
        {
         "line": {
          "color": "blue"
         },
         "mode": "lines",
         "name": "Estrangeiro",
         "type": "scatter",
         "x": [
          "2025-04-23T00:00:00",
          "2025-04-22T00:00:00",
          "2025-04-17T00:00:00",
          "2025-04-16T00:00:00",
          "2025-04-15T00:00:00",
          "2025-04-14T00:00:00",
          "2025-04-11T00:00:00",
          "2025-04-10T00:00:00",
          "2025-04-09T00:00:00",
          "2025-04-08T00:00:00",
          "2025-04-07T00:00:00",
          "2025-04-04T00:00:00",
          "2025-04-03T00:00:00",
          "2025-04-02T00:00:00",
          "2025-04-01T00:00:00",
          "2025-03-31T00:00:00",
          "2025-03-28T00:00:00",
          "2025-03-27T00:00:00",
          "2025-03-26T00:00:00",
          "2025-03-25T00:00:00",
          "2025-03-24T00:00:00",
          "2025-03-21T00:00:00",
          "2025-03-20T00:00:00",
          "2025-03-19T00:00:00",
          "2025-03-18T00:00:00",
          "2025-03-17T00:00:00",
          "2025-03-14T00:00:00",
          "2025-03-13T00:00:00",
          "2025-03-12T00:00:00",
          "2025-03-11T00:00:00",
          "2025-03-10T00:00:00",
          "2025-03-07T00:00:00",
          "2025-03-06T00:00:00",
          "2025-03-05T00:00:00",
          "2025-02-28T00:00:00",
          "2025-02-27T00:00:00",
          "2025-02-26T00:00:00",
          "2025-02-25T00:00:00",
          "2025-02-24T00:00:00",
          "2025-02-21T00:00:00",
          "2025-02-20T00:00:00",
          "2025-02-19T00:00:00",
          "2025-02-18T00:00:00",
          "2025-02-17T00:00:00",
          "2025-02-14T00:00:00",
          "2025-02-13T00:00:00",
          "2025-02-12T00:00:00",
          "2025-02-11T00:00:00",
          "2025-02-10T00:00:00",
          "2025-02-07T00:00:00",
          "2025-02-06T00:00:00",
          "2025-02-05T00:00:00",
          "2025-02-04T00:00:00",
          "2025-02-03T00:00:00",
          "2025-01-31T00:00:00",
          "2025-01-30T00:00:00",
          "2025-01-29T00:00:00",
          "2025-01-28T00:00:00",
          "2025-01-27T00:00:00",
          "2025-01-24T00:00:00",
          "2025-01-23T00:00:00",
          "2025-01-22T00:00:00",
          "2025-01-21T00:00:00",
          "2025-01-20T00:00:00",
          "2025-01-17T00:00:00",
          "2025-01-16T00:00:00",
          "2025-01-15T00:00:00",
          "2025-01-14T00:00:00",
          "2025-01-13T00:00:00",
          "2025-01-10T00:00:00",
          "2025-01-09T00:00:00",
          "2025-01-08T00:00:00",
          "2025-01-07T00:00:00",
          "2025-01-06T00:00:00",
          "2025-01-03T00:00:00",
          "2025-01-02T00:00:00",
          "2024-12-31T00:00:00",
          "2024-12-30T00:00:00",
          "2024-12-27T00:00:00",
          "2024-12-26T00:00:00",
          "2024-12-24T00:00:00",
          "2024-12-23T00:00:00",
          "2024-12-20T00:00:00",
          "2024-12-19T00:00:00",
          "2024-12-18T00:00:00",
          "2024-12-17T00:00:00",
          "2024-12-16T00:00:00",
          "2024-12-13T00:00:00",
          "2024-12-12T00:00:00",
          "2024-12-11T00:00:00",
          "2024-12-10T00:00:00",
          "2024-12-09T00:00:00",
          "2024-12-06T00:00:00",
          "2024-12-05T00:00:00",
          "2024-12-04T00:00:00",
          "2024-12-03T00:00:00",
          "2024-12-02T00:00:00",
          "2024-11-29T00:00:00",
          "2024-11-28T00:00:00",
          "2024-11-27T00:00:00",
          "2024-11-26T00:00:00",
          "2024-11-25T00:00:00",
          "2024-11-22T00:00:00",
          "2024-11-21T00:00:00",
          "2024-11-19T00:00:00",
          "2024-11-18T00:00:00",
          "2024-11-14T00:00:00",
          "2024-11-13T00:00:00",
          "2024-11-12T00:00:00",
          "2024-11-11T00:00:00",
          "2024-11-08T00:00:00",
          "2024-11-07T00:00:00",
          "2024-11-06T00:00:00",
          "2024-11-05T00:00:00",
          "2024-11-04T00:00:00",
          "2024-11-01T00:00:00",
          "2024-10-31T00:00:00",
          "2024-10-30T00:00:00",
          "2024-10-29T00:00:00",
          "2024-10-28T00:00:00",
          "2024-10-25T00:00:00",
          "2024-10-24T00:00:00",
          "2024-10-23T00:00:00",
          "2024-10-22T00:00:00",
          "2024-10-21T00:00:00",
          "2024-10-18T00:00:00",
          "2024-10-17T00:00:00",
          "2024-10-16T00:00:00",
          "2024-10-15T00:00:00",
          "2024-10-14T00:00:00",
          "2024-10-11T00:00:00",
          "2024-10-10T00:00:00",
          "2024-10-09T00:00:00",
          "2024-10-08T00:00:00",
          "2024-10-07T00:00:00",
          "2024-10-04T00:00:00",
          "2024-10-03T00:00:00",
          "2024-10-02T00:00:00",
          "2024-10-01T00:00:00",
          "2024-09-30T00:00:00",
          "2024-09-27T00:00:00",
          "2024-09-26T00:00:00",
          "2024-09-25T00:00:00",
          "2024-09-24T00:00:00",
          "2024-09-23T00:00:00",
          "2024-09-20T00:00:00",
          "2024-09-19T00:00:00",
          "2024-09-18T00:00:00",
          "2024-09-17T00:00:00",
          "2024-09-16T00:00:00",
          "2024-09-13T00:00:00",
          "2024-09-12T00:00:00",
          "2024-09-11T00:00:00",
          "2024-09-10T00:00:00",
          "2024-09-09T00:00:00",
          "2024-09-06T00:00:00",
          "2024-09-05T00:00:00",
          "2024-09-04T00:00:00",
          "2024-09-03T00:00:00",
          "2024-09-02T00:00:00",
          "2024-08-30T00:00:00",
          "2024-08-29T00:00:00",
          "2024-08-28T00:00:00",
          "2024-08-27T00:00:00",
          "2024-08-26T00:00:00",
          "2024-08-23T00:00:00",
          "2024-08-22T00:00:00",
          "2024-08-21T00:00:00",
          "2024-08-20T00:00:00",
          "2024-08-19T00:00:00",
          "2024-08-16T00:00:00",
          "2024-08-15T00:00:00",
          "2024-08-14T00:00:00",
          "2024-08-13T00:00:00",
          "2024-08-12T00:00:00",
          "2024-08-09T00:00:00",
          "2024-08-08T00:00:00",
          "2024-08-07T00:00:00",
          "2024-08-06T00:00:00",
          "2024-08-05T00:00:00",
          "2024-08-02T00:00:00",
          "2024-08-01T00:00:00",
          "2024-07-31T00:00:00",
          "2024-07-30T00:00:00",
          "2024-07-29T00:00:00",
          "2024-07-26T00:00:00",
          "2024-07-25T00:00:00",
          "2024-07-24T00:00:00",
          "2024-07-23T00:00:00",
          "2024-07-22T00:00:00",
          "2024-07-19T00:00:00",
          "2024-07-18T00:00:00",
          "2024-07-17T00:00:00",
          "2024-07-16T00:00:00",
          "2024-07-15T00:00:00",
          "2024-07-12T00:00:00",
          "2024-07-11T00:00:00",
          "2024-07-10T00:00:00",
          "2024-07-09T00:00:00",
          "2024-07-08T00:00:00",
          "2024-07-05T00:00:00",
          "2024-07-04T00:00:00",
          "2024-07-03T00:00:00",
          "2024-07-02T00:00:00",
          "2024-07-01T00:00:00",
          "2024-06-28T00:00:00",
          "2024-06-27T00:00:00",
          "2024-06-26T00:00:00",
          "2024-06-25T00:00:00",
          "2024-06-24T00:00:00",
          "2024-06-21T00:00:00",
          "2024-06-20T00:00:00",
          "2024-06-19T00:00:00",
          "2024-06-18T00:00:00",
          "2024-06-17T00:00:00",
          "2024-06-14T00:00:00",
          "2024-06-13T00:00:00",
          "2024-06-12T00:00:00",
          "2024-06-11T00:00:00",
          "2024-06-10T00:00:00",
          "2024-06-07T00:00:00",
          "2024-06-06T00:00:00",
          "2024-06-05T00:00:00",
          "2024-06-04T00:00:00",
          "2024-06-03T00:00:00",
          "2024-05-31T00:00:00",
          "2024-05-29T00:00:00",
          "2024-05-28T00:00:00",
          "2024-05-27T00:00:00",
          "2024-05-24T00:00:00",
          "2024-05-23T00:00:00",
          "2024-05-22T00:00:00",
          "2024-05-21T00:00:00",
          "2024-05-20T00:00:00",
          "2024-05-17T00:00:00",
          "2024-05-16T00:00:00",
          "2024-05-15T00:00:00",
          "2024-05-14T00:00:00",
          "2024-05-13T00:00:00",
          "2024-05-10T00:00:00",
          "2024-05-09T00:00:00",
          "2024-05-08T00:00:00",
          "2024-05-07T00:00:00",
          "2024-05-06T00:00:00",
          "2024-05-03T00:00:00",
          "2024-05-02T00:00:00",
          "2024-04-30T00:00:00",
          "2024-04-29T00:00:00"
         ],
         "y": [
          1671.85,
          1112.86,
          2332.51,
          -1115.98,
          -68.61,
          -1030.58,
          -686.52,
          -1108.06,
          -857.82,
          -641.34,
          -1771.25,
          -1962.73,
          -590.34,
          -566.21,
          -485.57,
          -1821.24,
          -253.4,
          748.19,
          73.72,
          25.51,
          539.06,
          2019.5,
          998.39,
          605.16,
          239.89,
          647.55,
          1540.94,
          860.47,
          -544.6,
          -1399.73,
          -586.5,
          182.24,
          -175.29,
          -581.51,
          -1231.66,
          -990.26,
          -695.97,
          64.18,
          207.02,
          2087.33,
          -651.36,
          -69.11,
          27.92,
          352.17,
          1448.73,
          6.27,
          21.41,
          242.04,
          5.51,
          150.59,
          110.31,
          223.36,
          -622.71,
          13.57,
          141.49,
          2567.27,
          -102.49,
          -105.38,
          1184.16,
          66.87,
          450.8,
          -423.63,
          -679.61,
          104.22,
          2920.27,
          6512.76,
          465.79,
          -1309.22,
          -314.14,
          -987.89,
          -316.2,
          -718.17,
          409.86,
          -545.99,
          -1955.16,
          -541.27,
          0,
          -439.01,
          -58.84,
          71.05,
          0,
          -863.73,
          0,
          1903.25,
          -313.17,
          334.33,
          -370.66,
          1.69,
          -530.48,
          -2.19,
          32.89,
          999.43,
          -736.02,
          753.59,
          337.74,
          324.6,
          260.12,
          -473.83,
          -969.02,
          172.91,
          13.71,
          -1047.11,
          1293.95,
          -312.51,
          -224.04,
          156.07,
          -1222.66,
          95.65,
          156.8,
          -313.02,
          -942.72,
          119.16,
          -218.89,
          44.15,
          743.15,
          -123.22,
          -338.11,
          -224.63,
          -21.83,
          531.04,
          646.36,
          -44.9,
          -238.4,
          -262.17,
          -484.56,
          542.59,
          -579.72,
          1350.21,
          -316.19,
          435.38,
          -491.4,
          -490.6,
          -1580.02,
          -725.88,
          821.76,
          -366.83,
          -1866.72,
          404.38,
          766.92,
          -716.12,
          -50.63,
          -314.48,
          -422.21,
          1083.1,
          -1179.84,
          1490.4,
          478.33,
          -656.32,
          328.5,
          118.01,
          657.98,
          -336.39,
          -455.46,
          -105.45,
          29.71,
          -935.53,
          -625.73,
          276.12,
          -264.66,
          -69.95,
          -51.33,
          400.19,
          345.67,
          317.54,
          1628.74,
          1343.18,
          -997.2,
          -399.71,
          -271.79,
          1281.1,
          2359.29,
          1291.21,
          -457.3,
          1244.65,
          262.18,
          687.34,
          354.55,
          918.99,
          155.24,
          81.31,
          103.59,
          -584.49,
          93.92,
          -183.37,
          238.75,
          -884.92,
          -1081.8,
          -420.43,
          -434.6,
          -329.22,
          1966.51,
          1254.11,
          93.21,
          110.84,
          54.93,
          144.53,
          47.12,
          173.14,
          -31.48,
          904.11,
          -13.97,
          386.76,
          656.47,
          1027.23,
          -219.65,
          606.65,
          -47.78,
          -127.69,
          76.4,
          377.82,
          1430.77,
          617.79,
          230.43,
          -570.31,
          271.19,
          214.45,
          -84.87,
          -3084.88,
          -957.29,
          -258.48,
          -1355.61,
          -102.62,
          -609.18,
          -871.05,
          13.97,
          -809.08,
          -887.45,
          -830.17,
          -193.46,
          -25.13,
          -756.73,
          672.33,
          -235.13,
          -294.08,
          835.58,
          45.38,
          -780.38,
          -13.78,
          587.88,
          -620.46,
          -670.27,
          730.08,
          107.29,
          -128.19,
          1028.27,
          603.67,
          -1398.73,
          968.65
         ]
        },
        {
         "line": {
          "color": "black"
         },
         "mode": "lines",
         "name": "Institucional",
         "type": "scatter",
         "x": [
          "2025-04-23T00:00:00",
          "2025-04-22T00:00:00",
          "2025-04-17T00:00:00",
          "2025-04-16T00:00:00",
          "2025-04-15T00:00:00",
          "2025-04-14T00:00:00",
          "2025-04-11T00:00:00",
          "2025-04-10T00:00:00",
          "2025-04-09T00:00:00",
          "2025-04-08T00:00:00",
          "2025-04-07T00:00:00",
          "2025-04-04T00:00:00",
          "2025-04-03T00:00:00",
          "2025-04-02T00:00:00",
          "2025-04-01T00:00:00",
          "2025-03-31T00:00:00",
          "2025-03-28T00:00:00",
          "2025-03-27T00:00:00",
          "2025-03-26T00:00:00",
          "2025-03-25T00:00:00",
          "2025-03-24T00:00:00",
          "2025-03-21T00:00:00",
          "2025-03-20T00:00:00",
          "2025-03-19T00:00:00",
          "2025-03-18T00:00:00",
          "2025-03-17T00:00:00",
          "2025-03-14T00:00:00",
          "2025-03-13T00:00:00",
          "2025-03-12T00:00:00",
          "2025-03-11T00:00:00",
          "2025-03-10T00:00:00",
          "2025-03-07T00:00:00",
          "2025-03-06T00:00:00",
          "2025-03-05T00:00:00",
          "2025-02-28T00:00:00",
          "2025-02-27T00:00:00",
          "2025-02-26T00:00:00",
          "2025-02-25T00:00:00",
          "2025-02-24T00:00:00",
          "2025-02-21T00:00:00",
          "2025-02-20T00:00:00",
          "2025-02-19T00:00:00",
          "2025-02-18T00:00:00",
          "2025-02-17T00:00:00",
          "2025-02-14T00:00:00",
          "2025-02-13T00:00:00",
          "2025-02-12T00:00:00",
          "2025-02-11T00:00:00",
          "2025-02-10T00:00:00",
          "2025-02-07T00:00:00",
          "2025-02-06T00:00:00",
          "2025-02-05T00:00:00",
          "2025-02-04T00:00:00",
          "2025-02-03T00:00:00",
          "2025-01-31T00:00:00",
          "2025-01-30T00:00:00",
          "2025-01-29T00:00:00",
          "2025-01-28T00:00:00",
          "2025-01-27T00:00:00",
          "2025-01-24T00:00:00",
          "2025-01-23T00:00:00",
          "2025-01-22T00:00:00",
          "2025-01-21T00:00:00",
          "2025-01-20T00:00:00",
          "2025-01-17T00:00:00",
          "2025-01-16T00:00:00",
          "2025-01-15T00:00:00",
          "2025-01-14T00:00:00",
          "2025-01-13T00:00:00",
          "2025-01-10T00:00:00",
          "2025-01-09T00:00:00",
          "2025-01-08T00:00:00",
          "2025-01-07T00:00:00",
          "2025-01-06T00:00:00",
          "2025-01-03T00:00:00",
          "2025-01-02T00:00:00",
          "2024-12-31T00:00:00",
          "2024-12-30T00:00:00",
          "2024-12-27T00:00:00",
          "2024-12-26T00:00:00",
          "2024-12-24T00:00:00",
          "2024-12-23T00:00:00",
          "2024-12-20T00:00:00",
          "2024-12-19T00:00:00",
          "2024-12-18T00:00:00",
          "2024-12-17T00:00:00",
          "2024-12-16T00:00:00",
          "2024-12-13T00:00:00",
          "2024-12-12T00:00:00",
          "2024-12-11T00:00:00",
          "2024-12-10T00:00:00",
          "2024-12-09T00:00:00",
          "2024-12-06T00:00:00",
          "2024-12-05T00:00:00",
          "2024-12-04T00:00:00",
          "2024-12-03T00:00:00",
          "2024-12-02T00:00:00",
          "2024-11-29T00:00:00",
          "2024-11-28T00:00:00",
          "2024-11-27T00:00:00",
          "2024-11-26T00:00:00",
          "2024-11-25T00:00:00",
          "2024-11-22T00:00:00",
          "2024-11-21T00:00:00",
          "2024-11-19T00:00:00",
          "2024-11-18T00:00:00",
          "2024-11-14T00:00:00",
          "2024-11-13T00:00:00",
          "2024-11-12T00:00:00",
          "2024-11-11T00:00:00",
          "2024-11-08T00:00:00",
          "2024-11-07T00:00:00",
          "2024-11-06T00:00:00",
          "2024-11-05T00:00:00",
          "2024-11-04T00:00:00",
          "2024-11-01T00:00:00",
          "2024-10-31T00:00:00",
          "2024-10-30T00:00:00",
          "2024-10-29T00:00:00",
          "2024-10-28T00:00:00",
          "2024-10-25T00:00:00",
          "2024-10-24T00:00:00",
          "2024-10-23T00:00:00",
          "2024-10-22T00:00:00",
          "2024-10-21T00:00:00",
          "2024-10-18T00:00:00",
          "2024-10-17T00:00:00",
          "2024-10-16T00:00:00",
          "2024-10-15T00:00:00",
          "2024-10-14T00:00:00",
          "2024-10-11T00:00:00",
          "2024-10-10T00:00:00",
          "2024-10-09T00:00:00",
          "2024-10-08T00:00:00",
          "2024-10-07T00:00:00",
          "2024-10-04T00:00:00",
          "2024-10-03T00:00:00",
          "2024-10-02T00:00:00",
          "2024-10-01T00:00:00",
          "2024-09-30T00:00:00",
          "2024-09-27T00:00:00",
          "2024-09-26T00:00:00",
          "2024-09-25T00:00:00",
          "2024-09-24T00:00:00",
          "2024-09-23T00:00:00",
          "2024-09-20T00:00:00",
          "2024-09-19T00:00:00",
          "2024-09-18T00:00:00",
          "2024-09-17T00:00:00",
          "2024-09-16T00:00:00",
          "2024-09-13T00:00:00",
          "2024-09-12T00:00:00",
          "2024-09-11T00:00:00",
          "2024-09-10T00:00:00",
          "2024-09-09T00:00:00",
          "2024-09-06T00:00:00",
          "2024-09-05T00:00:00",
          "2024-09-04T00:00:00",
          "2024-09-03T00:00:00",
          "2024-09-02T00:00:00",
          "2024-08-30T00:00:00",
          "2024-08-29T00:00:00",
          "2024-08-28T00:00:00",
          "2024-08-27T00:00:00",
          "2024-08-26T00:00:00",
          "2024-08-23T00:00:00",
          "2024-08-22T00:00:00",
          "2024-08-21T00:00:00",
          "2024-08-20T00:00:00",
          "2024-08-19T00:00:00",
          "2024-08-16T00:00:00",
          "2024-08-15T00:00:00",
          "2024-08-14T00:00:00",
          "2024-08-13T00:00:00",
          "2024-08-12T00:00:00",
          "2024-08-09T00:00:00",
          "2024-08-08T00:00:00",
          "2024-08-07T00:00:00",
          "2024-08-06T00:00:00",
          "2024-08-05T00:00:00",
          "2024-08-02T00:00:00",
          "2024-08-01T00:00:00",
          "2024-07-31T00:00:00",
          "2024-07-30T00:00:00",
          "2024-07-29T00:00:00",
          "2024-07-26T00:00:00",
          "2024-07-25T00:00:00",
          "2024-07-24T00:00:00",
          "2024-07-23T00:00:00",
          "2024-07-22T00:00:00",
          "2024-07-19T00:00:00",
          "2024-07-18T00:00:00",
          "2024-07-17T00:00:00",
          "2024-07-16T00:00:00",
          "2024-07-15T00:00:00",
          "2024-07-12T00:00:00",
          "2024-07-11T00:00:00",
          "2024-07-10T00:00:00",
          "2024-07-09T00:00:00",
          "2024-07-08T00:00:00",
          "2024-07-05T00:00:00",
          "2024-07-04T00:00:00",
          "2024-07-03T00:00:00",
          "2024-07-02T00:00:00",
          "2024-07-01T00:00:00",
          "2024-06-28T00:00:00",
          "2024-06-27T00:00:00",
          "2024-06-26T00:00:00",
          "2024-06-25T00:00:00",
          "2024-06-24T00:00:00",
          "2024-06-21T00:00:00",
          "2024-06-20T00:00:00",
          "2024-06-19T00:00:00",
          "2024-06-18T00:00:00",
          "2024-06-17T00:00:00",
          "2024-06-14T00:00:00",
          "2024-06-13T00:00:00",
          "2024-06-12T00:00:00",
          "2024-06-11T00:00:00",
          "2024-06-10T00:00:00",
          "2024-06-07T00:00:00",
          "2024-06-06T00:00:00",
          "2024-06-05T00:00:00",
          "2024-06-04T00:00:00",
          "2024-06-03T00:00:00",
          "2024-05-31T00:00:00",
          "2024-05-29T00:00:00",
          "2024-05-28T00:00:00",
          "2024-05-27T00:00:00",
          "2024-05-24T00:00:00",
          "2024-05-23T00:00:00",
          "2024-05-22T00:00:00",
          "2024-05-21T00:00:00",
          "2024-05-20T00:00:00",
          "2024-05-17T00:00:00",
          "2024-05-16T00:00:00",
          "2024-05-15T00:00:00",
          "2024-05-14T00:00:00",
          "2024-05-13T00:00:00",
          "2024-05-10T00:00:00",
          "2024-05-09T00:00:00",
          "2024-05-08T00:00:00",
          "2024-05-07T00:00:00",
          "2024-05-06T00:00:00",
          "2024-05-03T00:00:00",
          "2024-05-02T00:00:00",
          "2024-04-30T00:00:00",
          "2024-04-29T00:00:00"
         ],
         "y": [
          -1210.13,
          -935.41,
          -781.91,
          564.08,
          -169.87,
          934.84,
          645.68,
          354.94,
          875.02,
          -318.7,
          1139.29,
          536.86,
          124.45,
          335.77,
          587.04,
          1060.01,
          723.89,
          -464.88,
          697.98,
          135.7,
          -1101.87,
          -1059.05,
          -1032.03,
          -288.58,
          -0.79,
          -124.79,
          -833.23,
          -659.22,
          349.57,
          980.34,
          77.93,
          -248.9,
          -44.66,
          396.12,
          384.01,
          367.58,
          -195.28,
          -656.46,
          -12.09,
          -1300.55,
          -30.4,
          592.98,
          -1829.57,
          -295.83,
          -1655.12,
          96.19,
          -1057.83,
          -517.1,
          -240.31,
          -710.94,
          -234,
          -309.48,
          307.7,
          -302.58,
          -421.6,
          -1405.57,
          -180.21,
          -109.29,
          -851.3,
          -389.24,
          -686.69,
          82.75,
          396.66,
          -293.46,
          -2554.42,
          1888.22,
          -113.33,
          1125.76,
          11.83,
          632.57,
          132.45,
          74.72,
          -454.68,
          490.12,
          1294.22,
          89.3,
          0,
          25.14,
          -629.8,
          -386.57,
          0,
          630.02,
          0,
          -1822.52,
          -1275.91,
          -361.46,
          -294.3,
          -734.3,
          -1028.66,
          22.5,
          -81.8,
          -897.55,
          -220.73,
          -464.21,
          -494.9,
          -392.23,
          -560.86,
          44.7,
          -205.87,
          -987.15,
          -319.59,
          816.98,
          -808.25,
          -42.81,
          -110.74,
          -416.37,
          -79.09,
          -542.82,
          -518.07,
          -296.11,
          66.83,
          -400.85,
          319.02,
          35.37,
          -86.6,
          -379.37,
          42.44,
          302.39,
          -289.19,
          -198.29,
          -848.19,
          -141.31,
          -115.57,
          6.72,
          153.83,
          -814.62,
          141.92,
          -1322.98,
          110.85,
          -228.06,
          1.06,
          345.3,
          828.2,
          472.21,
          -912.11,
          337.55,
          1232.49,
          -375.11,
          -694.6,
          402.85,
          -122.36,
          552.4,
          -46.66,
          -675.19,
          961.05,
          -671.61,
          -792.32,
          207.4,
          -525.94,
          -293.37,
          -203.43,
          83.98,
          613.6,
          -145.5,
          -313.39,
          0.66,
          508.41,
          -195.34,
          -575.93,
          -197.64,
          -449.17,
          -1132.64,
          -470.88,
          -296.22,
          -945.3,
          -966.22,
          -785.52,
          -414.89,
          160.53,
          -769.25,
          -1821,
          -1616.82,
          -4105.75,
          -794.87,
          -195.93,
          -105.59,
          -38.88,
          -808.63,
          -424.66,
          49.51,
          -780.35,
          215.07,
          -4.59,
          -242.08,
          -663.98,
          684.26,
          923.16,
          -3.98,
          -164.97,
          22.86,
          -682.14,
          -1875.36,
          -81.95,
          -560.1,
          22.53,
          13.15,
          200.82,
          -264.01,
          -59.94,
          -1142.57,
          -237.04,
          -520.51,
          -525.85,
          -1261.19,
          51.4,
          -1303.7,
          374.84,
          -73.25,
          -453.76,
          -168.61,
          -1093.43,
          -869.61,
          -219.75,
          195.66,
          -493.63,
          -413.25,
          -163.9,
          1230.88,
          769.64,
          23.04,
          1119.87,
          -3.24,
          -108.53,
          367.52,
          -235.66,
          62.65,
          541.74,
          395.19,
          120.14,
          -351.97,
          97.49,
          -1619.38,
          -199.67,
          -224.97,
          -207.4,
          -388.29,
          633.48,
          -3.9,
          -551.37,
          -85.93,
          323.46,
          -468.38,
          46.55,
          -88.95,
          -522.34,
          -623.34,
          607.61,
          -905.58
         ]
        },
        {
         "line": {
          "color": "red"
         },
         "mode": "lines",
         "name": "Inst. Financeira",
         "type": "scatter",
         "visible": "legendonly",
         "x": [
          "2025-04-23T00:00:00",
          "2025-04-22T00:00:00",
          "2025-04-17T00:00:00",
          "2025-04-16T00:00:00",
          "2025-04-15T00:00:00",
          "2025-04-14T00:00:00",
          "2025-04-11T00:00:00",
          "2025-04-10T00:00:00",
          "2025-04-09T00:00:00",
          "2025-04-08T00:00:00",
          "2025-04-07T00:00:00",
          "2025-04-04T00:00:00",
          "2025-04-03T00:00:00",
          "2025-04-02T00:00:00",
          "2025-04-01T00:00:00",
          "2025-03-31T00:00:00",
          "2025-03-28T00:00:00",
          "2025-03-27T00:00:00",
          "2025-03-26T00:00:00",
          "2025-03-25T00:00:00",
          "2025-03-24T00:00:00",
          "2025-03-21T00:00:00",
          "2025-03-20T00:00:00",
          "2025-03-19T00:00:00",
          "2025-03-18T00:00:00",
          "2025-03-17T00:00:00",
          "2025-03-14T00:00:00",
          "2025-03-13T00:00:00",
          "2025-03-12T00:00:00",
          "2025-03-11T00:00:00",
          "2025-03-10T00:00:00",
          "2025-03-07T00:00:00",
          "2025-03-06T00:00:00",
          "2025-03-05T00:00:00",
          "2025-02-28T00:00:00",
          "2025-02-27T00:00:00",
          "2025-02-26T00:00:00",
          "2025-02-25T00:00:00",
          "2025-02-24T00:00:00",
          "2025-02-21T00:00:00",
          "2025-02-20T00:00:00",
          "2025-02-19T00:00:00",
          "2025-02-18T00:00:00",
          "2025-02-17T00:00:00",
          "2025-02-14T00:00:00",
          "2025-02-13T00:00:00",
          "2025-02-12T00:00:00",
          "2025-02-11T00:00:00",
          "2025-02-10T00:00:00",
          "2025-02-07T00:00:00",
          "2025-02-06T00:00:00",
          "2025-02-05T00:00:00",
          "2025-02-04T00:00:00",
          "2025-02-03T00:00:00",
          "2025-01-31T00:00:00",
          "2025-01-30T00:00:00",
          "2025-01-29T00:00:00",
          "2025-01-28T00:00:00",
          "2025-01-27T00:00:00",
          "2025-01-24T00:00:00",
          "2025-01-23T00:00:00",
          "2025-01-22T00:00:00",
          "2025-01-21T00:00:00",
          "2025-01-20T00:00:00",
          "2025-01-17T00:00:00",
          "2025-01-16T00:00:00",
          "2025-01-15T00:00:00",
          "2025-01-14T00:00:00",
          "2025-01-13T00:00:00",
          "2025-01-10T00:00:00",
          "2025-01-09T00:00:00",
          "2025-01-08T00:00:00",
          "2025-01-07T00:00:00",
          "2025-01-06T00:00:00",
          "2025-01-03T00:00:00",
          "2025-01-02T00:00:00",
          "2024-12-31T00:00:00",
          "2024-12-30T00:00:00",
          "2024-12-27T00:00:00",
          "2024-12-26T00:00:00",
          "2024-12-24T00:00:00",
          "2024-12-23T00:00:00",
          "2024-12-20T00:00:00",
          "2024-12-19T00:00:00",
          "2024-12-18T00:00:00",
          "2024-12-17T00:00:00",
          "2024-12-16T00:00:00",
          "2024-12-13T00:00:00",
          "2024-12-12T00:00:00",
          "2024-12-11T00:00:00",
          "2024-12-10T00:00:00",
          "2024-12-09T00:00:00",
          "2024-12-06T00:00:00",
          "2024-12-05T00:00:00",
          "2024-12-04T00:00:00",
          "2024-12-03T00:00:00",
          "2024-12-02T00:00:00",
          "2024-11-29T00:00:00",
          "2024-11-28T00:00:00",
          "2024-11-27T00:00:00",
          "2024-11-26T00:00:00",
          "2024-11-25T00:00:00",
          "2024-11-22T00:00:00",
          "2024-11-21T00:00:00",
          "2024-11-19T00:00:00",
          "2024-11-18T00:00:00",
          "2024-11-14T00:00:00",
          "2024-11-13T00:00:00",
          "2024-11-12T00:00:00",
          "2024-11-11T00:00:00",
          "2024-11-08T00:00:00",
          "2024-11-07T00:00:00",
          "2024-11-06T00:00:00",
          "2024-11-05T00:00:00",
          "2024-11-04T00:00:00",
          "2024-11-01T00:00:00",
          "2024-10-31T00:00:00",
          "2024-10-30T00:00:00",
          "2024-10-29T00:00:00",
          "2024-10-28T00:00:00",
          "2024-10-25T00:00:00",
          "2024-10-24T00:00:00",
          "2024-10-23T00:00:00",
          "2024-10-22T00:00:00",
          "2024-10-21T00:00:00",
          "2024-10-18T00:00:00",
          "2024-10-17T00:00:00",
          "2024-10-16T00:00:00",
          "2024-10-15T00:00:00",
          "2024-10-14T00:00:00",
          "2024-10-11T00:00:00",
          "2024-10-10T00:00:00",
          "2024-10-09T00:00:00",
          "2024-10-08T00:00:00",
          "2024-10-07T00:00:00",
          "2024-10-04T00:00:00",
          "2024-10-03T00:00:00",
          "2024-10-02T00:00:00",
          "2024-10-01T00:00:00",
          "2024-09-30T00:00:00",
          "2024-09-27T00:00:00",
          "2024-09-26T00:00:00",
          "2024-09-25T00:00:00",
          "2024-09-24T00:00:00",
          "2024-09-23T00:00:00",
          "2024-09-20T00:00:00",
          "2024-09-19T00:00:00",
          "2024-09-18T00:00:00",
          "2024-09-17T00:00:00",
          "2024-09-16T00:00:00",
          "2024-09-13T00:00:00",
          "2024-09-12T00:00:00",
          "2024-09-11T00:00:00",
          "2024-09-10T00:00:00",
          "2024-09-09T00:00:00",
          "2024-09-06T00:00:00",
          "2024-09-05T00:00:00",
          "2024-09-04T00:00:00",
          "2024-09-03T00:00:00",
          "2024-09-02T00:00:00",
          "2024-08-30T00:00:00",
          "2024-08-29T00:00:00",
          "2024-08-28T00:00:00",
          "2024-08-27T00:00:00",
          "2024-08-26T00:00:00",
          "2024-08-23T00:00:00",
          "2024-08-22T00:00:00",
          "2024-08-21T00:00:00",
          "2024-08-20T00:00:00",
          "2024-08-19T00:00:00",
          "2024-08-16T00:00:00",
          "2024-08-15T00:00:00",
          "2024-08-14T00:00:00",
          "2024-08-13T00:00:00",
          "2024-08-12T00:00:00",
          "2024-08-09T00:00:00",
          "2024-08-08T00:00:00",
          "2024-08-07T00:00:00",
          "2024-08-06T00:00:00",
          "2024-08-05T00:00:00",
          "2024-08-02T00:00:00",
          "2024-08-01T00:00:00",
          "2024-07-31T00:00:00",
          "2024-07-30T00:00:00",
          "2024-07-29T00:00:00",
          "2024-07-26T00:00:00",
          "2024-07-25T00:00:00",
          "2024-07-24T00:00:00",
          "2024-07-23T00:00:00",
          "2024-07-22T00:00:00",
          "2024-07-19T00:00:00",
          "2024-07-18T00:00:00",
          "2024-07-17T00:00:00",
          "2024-07-16T00:00:00",
          "2024-07-15T00:00:00",
          "2024-07-12T00:00:00",
          "2024-07-11T00:00:00",
          "2024-07-10T00:00:00",
          "2024-07-09T00:00:00",
          "2024-07-08T00:00:00",
          "2024-07-05T00:00:00",
          "2024-07-04T00:00:00",
          "2024-07-03T00:00:00",
          "2024-07-02T00:00:00",
          "2024-07-01T00:00:00",
          "2024-06-28T00:00:00",
          "2024-06-27T00:00:00",
          "2024-06-26T00:00:00",
          "2024-06-25T00:00:00",
          "2024-06-24T00:00:00",
          "2024-06-21T00:00:00",
          "2024-06-20T00:00:00",
          "2024-06-19T00:00:00",
          "2024-06-18T00:00:00",
          "2024-06-17T00:00:00",
          "2024-06-14T00:00:00",
          "2024-06-13T00:00:00",
          "2024-06-12T00:00:00",
          "2024-06-11T00:00:00",
          "2024-06-10T00:00:00",
          "2024-06-07T00:00:00",
          "2024-06-06T00:00:00",
          "2024-06-05T00:00:00",
          "2024-06-04T00:00:00",
          "2024-06-03T00:00:00",
          "2024-05-31T00:00:00",
          "2024-05-29T00:00:00",
          "2024-05-28T00:00:00",
          "2024-05-27T00:00:00",
          "2024-05-24T00:00:00",
          "2024-05-23T00:00:00",
          "2024-05-22T00:00:00",
          "2024-05-21T00:00:00",
          "2024-05-20T00:00:00",
          "2024-05-17T00:00:00",
          "2024-05-16T00:00:00",
          "2024-05-15T00:00:00",
          "2024-05-14T00:00:00",
          "2024-05-13T00:00:00",
          "2024-05-10T00:00:00",
          "2024-05-09T00:00:00",
          "2024-05-08T00:00:00",
          "2024-05-07T00:00:00",
          "2024-05-06T00:00:00",
          "2024-05-03T00:00:00",
          "2024-05-02T00:00:00",
          "2024-04-30T00:00:00",
          "2024-04-29T00:00:00"
         ],
         "y": [
          67.38,
          -34.45,
          -1326.86,
          231.88,
          -235,
          -58.54,
          52.92,
          64.58,
          63.37,
          65.81,
          72.97,
          92.89,
          -57.57,
          146.76,
          -10.91,
          168.41,
          -961.15,
          -104.01,
          -729.41,
          -150.25,
          172.09,
          -269.35,
          -45.87,
          -69.69,
          -46.33,
          -277.98,
          65.11,
          22.88,
          0.07,
          -12.07,
          -35.54,
          33,
          4.95,
          -61.32,
          40.79,
          133.73,
          375.01,
          554.11,
          -490.12,
          -706.84,
          475.06,
          -336.75,
          1811.42,
          118.7,
          1020.16,
          -47.81,
          361.17,
          385.25,
          389.79,
          14.81,
          58.59,
          -65.56,
          -60.23,
          -51.71,
          102.46,
          16.02,
          121.69,
          19.33,
          88.03,
          111.86,
          67.79,
          108.23,
          127.14,
          53.59,
          -332.48,
          223.1,
          228.02,
          -51.89,
          65.88,
          15.8,
          73.29,
          1.45,
          -68.48,
          39.09,
          39.11,
          24.91,
          0,
          27.53,
          157.02,
          62.17,
          0,
          -322.06,
          -1097.81,
          74.35,
          479.02,
          -41.82,
          306.58,
          110.33,
          609.11,
          182.54,
          211.27,
          99.4,
          57.09,
          -81.9,
          -35.27,
          3.35,
          -40.15,
          205.49,
          202.35,
          151.26,
          320.97,
          -178.1,
          67.93,
          -1.46,
          337.75,
          106.52,
          444.79,
          114.84,
          -14.67,
          351.55,
          18.67,
          28.19,
          -6.95,
          5.03,
          -31.36,
          -14.06,
          3.53,
          20.43,
          52.92,
          31.87,
          59.81,
          244.94,
          49.41,
          -134.33,
          149.92,
          -59.06,
          20.73,
          -12.04,
          26.13,
          -86.59,
          81.35,
          55.35,
          90.53,
          -7.26,
          61.74,
          -107.14,
          114.98,
          72.83,
          8.04,
          65.45,
          -50.43,
          23.32,
          21.15,
          -113.04,
          2.47,
          -1393.72,
          22.96,
          -47.36,
          -5.28,
          61.07,
          -106.96,
          43.09,
          26.63,
          23.48,
          99.07,
          54.29,
          -20.58,
          -97.27,
          137.06,
          34.21,
          125.54,
          223.58,
          -69.6,
          114.88,
          -107.99,
          -61.15,
          1315.57,
          708.97,
          65.22,
          -115.63,
          333.81,
          293.63,
          553.42,
          -147.7,
          -7,
          77.43,
          -12.11,
          -3.85,
          45.27,
          0.74,
          -1.25,
          -93.59,
          -7.75,
          45.48,
          60.54,
          99.99,
          -43.37,
          66.64,
          49.69,
          68.07,
          405.13,
          104.78,
          -13.8,
          35.79,
          5.52,
          -34.06,
          -112.71,
          16.75,
          87.76,
          31.31,
          82.42,
          54.93,
          37.82,
          10.3,
          20.07,
          -5.34,
          -203.55,
          -52.13,
          -5.75,
          -26.5,
          -584.95,
          -13.39,
          -32.67,
          103.73,
          -16.19,
          -80.83,
          5.55,
          1154.08,
          137.75,
          8.62,
          -686.85,
          10.66,
          207.62,
          68.16,
          -124.92,
          -470.76,
          45.47,
          -2.87,
          176.86,
          -39.41,
          202.62,
          94.09,
          123.6,
          72.24,
          -540.38,
          76.49,
          -8.99,
          101.46,
          -79.14,
          193.01,
          -285.31,
          -165.31,
          -140.79,
          17.7,
          -58.4,
          17.07,
          251.08,
          -81.45
         ]
        },
        {
         "line": {
          "color": "green"
         },
         "mode": "lines",
         "name": "Pessoa física",
         "type": "scatter",
         "visible": "legendonly",
         "x": [
          "2025-04-23T00:00:00",
          "2025-04-22T00:00:00",
          "2025-04-17T00:00:00",
          "2025-04-16T00:00:00",
          "2025-04-15T00:00:00",
          "2025-04-14T00:00:00",
          "2025-04-11T00:00:00",
          "2025-04-10T00:00:00",
          "2025-04-09T00:00:00",
          "2025-04-08T00:00:00",
          "2025-04-07T00:00:00",
          "2025-04-04T00:00:00",
          "2025-04-03T00:00:00",
          "2025-04-02T00:00:00",
          "2025-04-01T00:00:00",
          "2025-03-31T00:00:00",
          "2025-03-28T00:00:00",
          "2025-03-27T00:00:00",
          "2025-03-26T00:00:00",
          "2025-03-25T00:00:00",
          "2025-03-24T00:00:00",
          "2025-03-21T00:00:00",
          "2025-03-20T00:00:00",
          "2025-03-19T00:00:00",
          "2025-03-18T00:00:00",
          "2025-03-17T00:00:00",
          "2025-03-14T00:00:00",
          "2025-03-13T00:00:00",
          "2025-03-12T00:00:00",
          "2025-03-11T00:00:00",
          "2025-03-10T00:00:00",
          "2025-03-07T00:00:00",
          "2025-03-06T00:00:00",
          "2025-03-05T00:00:00",
          "2025-02-28T00:00:00",
          "2025-02-27T00:00:00",
          "2025-02-26T00:00:00",
          "2025-02-25T00:00:00",
          "2025-02-24T00:00:00",
          "2025-02-21T00:00:00",
          "2025-02-20T00:00:00",
          "2025-02-19T00:00:00",
          "2025-02-18T00:00:00",
          "2025-02-17T00:00:00",
          "2025-02-14T00:00:00",
          "2025-02-13T00:00:00",
          "2025-02-12T00:00:00",
          "2025-02-11T00:00:00",
          "2025-02-10T00:00:00",
          "2025-02-07T00:00:00",
          "2025-02-06T00:00:00",
          "2025-02-05T00:00:00",
          "2025-02-04T00:00:00",
          "2025-02-03T00:00:00",
          "2025-01-31T00:00:00",
          "2025-01-30T00:00:00",
          "2025-01-29T00:00:00",
          "2025-01-28T00:00:00",
          "2025-01-27T00:00:00",
          "2025-01-24T00:00:00",
          "2025-01-23T00:00:00",
          "2025-01-22T00:00:00",
          "2025-01-21T00:00:00",
          "2025-01-20T00:00:00",
          "2025-01-17T00:00:00",
          "2025-01-16T00:00:00",
          "2025-01-15T00:00:00",
          "2025-01-14T00:00:00",
          "2025-01-13T00:00:00",
          "2025-01-10T00:00:00",
          "2025-01-09T00:00:00",
          "2025-01-08T00:00:00",
          "2025-01-07T00:00:00",
          "2025-01-06T00:00:00",
          "2025-01-03T00:00:00",
          "2025-01-02T00:00:00",
          "2024-12-31T00:00:00",
          "2024-12-30T00:00:00",
          "2024-12-27T00:00:00",
          "2024-12-26T00:00:00",
          "2024-12-24T00:00:00",
          "2024-12-23T00:00:00",
          "2024-12-20T00:00:00",
          "2024-12-19T00:00:00",
          "2024-12-18T00:00:00",
          "2024-12-17T00:00:00",
          "2024-12-16T00:00:00",
          "2024-12-13T00:00:00",
          "2024-12-12T00:00:00",
          "2024-12-11T00:00:00",
          "2024-12-10T00:00:00",
          "2024-12-09T00:00:00",
          "2024-12-06T00:00:00",
          "2024-12-05T00:00:00",
          "2024-12-04T00:00:00",
          "2024-12-03T00:00:00",
          "2024-12-02T00:00:00",
          "2024-11-29T00:00:00",
          "2024-11-28T00:00:00",
          "2024-11-27T00:00:00",
          "2024-11-26T00:00:00",
          "2024-11-25T00:00:00",
          "2024-11-22T00:00:00",
          "2024-11-21T00:00:00",
          "2024-11-19T00:00:00",
          "2024-11-18T00:00:00",
          "2024-11-14T00:00:00",
          "2024-11-13T00:00:00",
          "2024-11-12T00:00:00",
          "2024-11-11T00:00:00",
          "2024-11-08T00:00:00",
          "2024-11-07T00:00:00",
          "2024-11-06T00:00:00",
          "2024-11-05T00:00:00",
          "2024-11-04T00:00:00",
          "2024-11-01T00:00:00",
          "2024-10-31T00:00:00",
          "2024-10-30T00:00:00",
          "2024-10-29T00:00:00",
          "2024-10-28T00:00:00",
          "2024-10-25T00:00:00",
          "2024-10-24T00:00:00",
          "2024-10-23T00:00:00",
          "2024-10-22T00:00:00",
          "2024-10-21T00:00:00",
          "2024-10-18T00:00:00",
          "2024-10-17T00:00:00",
          "2024-10-16T00:00:00",
          "2024-10-15T00:00:00",
          "2024-10-14T00:00:00",
          "2024-10-11T00:00:00",
          "2024-10-10T00:00:00",
          "2024-10-09T00:00:00",
          "2024-10-08T00:00:00",
          "2024-10-07T00:00:00",
          "2024-10-04T00:00:00",
          "2024-10-03T00:00:00",
          "2024-10-02T00:00:00",
          "2024-10-01T00:00:00",
          "2024-09-30T00:00:00",
          "2024-09-27T00:00:00",
          "2024-09-26T00:00:00",
          "2024-09-25T00:00:00",
          "2024-09-24T00:00:00",
          "2024-09-23T00:00:00",
          "2024-09-20T00:00:00",
          "2024-09-19T00:00:00",
          "2024-09-18T00:00:00",
          "2024-09-17T00:00:00",
          "2024-09-16T00:00:00",
          "2024-09-13T00:00:00",
          "2024-09-12T00:00:00",
          "2024-09-11T00:00:00",
          "2024-09-10T00:00:00",
          "2024-09-09T00:00:00",
          "2024-09-06T00:00:00",
          "2024-09-05T00:00:00",
          "2024-09-04T00:00:00",
          "2024-09-03T00:00:00",
          "2024-09-02T00:00:00",
          "2024-08-30T00:00:00",
          "2024-08-29T00:00:00",
          "2024-08-28T00:00:00",
          "2024-08-27T00:00:00",
          "2024-08-26T00:00:00",
          "2024-08-23T00:00:00",
          "2024-08-22T00:00:00",
          "2024-08-21T00:00:00",
          "2024-08-20T00:00:00",
          "2024-08-19T00:00:00",
          "2024-08-16T00:00:00",
          "2024-08-15T00:00:00",
          "2024-08-14T00:00:00",
          "2024-08-13T00:00:00",
          "2024-08-12T00:00:00",
          "2024-08-09T00:00:00",
          "2024-08-08T00:00:00",
          "2024-08-07T00:00:00",
          "2024-08-06T00:00:00",
          "2024-08-05T00:00:00",
          "2024-08-02T00:00:00",
          "2024-08-01T00:00:00",
          "2024-07-31T00:00:00",
          "2024-07-30T00:00:00",
          "2024-07-29T00:00:00",
          "2024-07-26T00:00:00",
          "2024-07-25T00:00:00",
          "2024-07-24T00:00:00",
          "2024-07-23T00:00:00",
          "2024-07-22T00:00:00",
          "2024-07-19T00:00:00",
          "2024-07-18T00:00:00",
          "2024-07-17T00:00:00",
          "2024-07-16T00:00:00",
          "2024-07-15T00:00:00",
          "2024-07-12T00:00:00",
          "2024-07-11T00:00:00",
          "2024-07-10T00:00:00",
          "2024-07-09T00:00:00",
          "2024-07-08T00:00:00",
          "2024-07-05T00:00:00",
          "2024-07-04T00:00:00",
          "2024-07-03T00:00:00",
          "2024-07-02T00:00:00",
          "2024-07-01T00:00:00",
          "2024-06-28T00:00:00",
          "2024-06-27T00:00:00",
          "2024-06-26T00:00:00",
          "2024-06-25T00:00:00",
          "2024-06-24T00:00:00",
          "2024-06-21T00:00:00",
          "2024-06-20T00:00:00",
          "2024-06-19T00:00:00",
          "2024-06-18T00:00:00",
          "2024-06-17T00:00:00",
          "2024-06-14T00:00:00",
          "2024-06-13T00:00:00",
          "2024-06-12T00:00:00",
          "2024-06-11T00:00:00",
          "2024-06-10T00:00:00",
          "2024-06-07T00:00:00",
          "2024-06-06T00:00:00",
          "2024-06-05T00:00:00",
          "2024-06-04T00:00:00",
          "2024-06-03T00:00:00",
          "2024-05-31T00:00:00",
          "2024-05-29T00:00:00",
          "2024-05-28T00:00:00",
          "2024-05-27T00:00:00",
          "2024-05-24T00:00:00",
          "2024-05-23T00:00:00",
          "2024-05-22T00:00:00",
          "2024-05-21T00:00:00",
          "2024-05-20T00:00:00",
          "2024-05-17T00:00:00",
          "2024-05-16T00:00:00",
          "2024-05-15T00:00:00",
          "2024-05-14T00:00:00",
          "2024-05-13T00:00:00",
          "2024-05-10T00:00:00",
          "2024-05-09T00:00:00",
          "2024-05-08T00:00:00",
          "2024-05-07T00:00:00",
          "2024-05-06T00:00:00",
          "2024-05-03T00:00:00",
          "2024-05-02T00:00:00",
          "2024-04-30T00:00:00",
          "2024-04-29T00:00:00"
         ],
         "y": [
          -247.5,
          -127.54,
          -273,
          113.25,
          402.79,
          20.68,
          -27.87,
          594.12,
          -202.81,
          760.05,
          289.32,
          1098.42,
          407.03,
          21.84,
          -101.97,
          482.8,
          421.78,
          -196.5,
          -92.59,
          -71.11,
          347.74,
          -342.65,
          78.98,
          -294.32,
          -283.65,
          -300.12,
          -847.86,
          -221.46,
          139.37,
          396.57,
          391.76,
          -111,
          153.98,
          186.21,
          626.34,
          159.74,
          356.92,
          27.05,
          224.18,
          -173.69,
          174.3,
          -229.84,
          13.26,
          -218.24,
          -863.92,
          -61.46,
          612,
          -160.1,
          -285.48,
          403.17,
          -13.92,
          70.3,
          262.33,
          211.2,
          110.15,
          -1160.95,
          63.79,
          125.2,
          -455.79,
          94.74,
          113.66,
          110.27,
          71.88,
          82.56,
          -132.22,
          396.92,
          -586.67,
          172.72,
          90.13,
          124.96,
          49.98,
          423.97,
          -0.52,
          -105.51,
          501.51,
          328.69,
          0,
          229.22,
          356.41,
          93.19,
          0,
          416.49,
          0,
          590.44,
          751.06,
          -40.16,
          98.6,
          385.06,
          763.01,
          -228.55,
          -231.8,
          -304.87,
          717.55,
          -269.74,
          58.16,
          -46.61,
          124.71,
          133.42,
          726.06,
          587.51,
          -95.73,
          296.49,
          -637.14,
          299.09,
          -3.21,
          29.03,
          541.06,
          261.94,
          292.84,
          182.99,
          798,
          212.78,
          -128.8,
          -86.51,
          -583.79,
          487.05,
          298.13,
          -81.17,
          266.46,
          -374.87,
          58.16,
          -92.3,
          204.28,
          319.16,
          90.54,
          185.16,
          348.63,
          -72.87,
          94.56,
          -197.09,
          153.8,
          111.02,
          568.66,
          201.81,
          -47.33,
          82.49,
          428.5,
          -147.66,
          -208.91,
          180.11,
          -24.27,
          -477.15,
          282.46,
          -329.51,
          155.62,
          441.42,
          227.1,
          433.5,
          157.17,
          67.41,
          -397.39,
          143.18,
          -261.97,
          143.7,
          112.71,
          730.16,
          70.37,
          -105.8,
          580.9,
          175.01,
          230.24,
          413.76,
          98.59,
          -222.05,
          -617.2,
          -454.17,
          205.62,
          -22.43,
          18.9,
          -595.66,
          -1126.18,
          -375.73,
          -585.99,
          -332.57,
          -96.03,
          -812.98,
          -302.88,
          -125.89,
          222.82,
          -160.7,
          652.77,
          442.04,
          -104.06,
          360.03,
          290,
          151.75,
          172.44,
          225.91,
          467.96,
          145.16,
          -1715.73,
          476.41,
          -31.12,
          227.25,
          -241.62,
          -97.84,
          -165.53,
          55.76,
          -1.35,
          212.56,
          66.23,
          -42.51,
          -287.82,
          95.79,
          39.89,
          361.58,
          -327.14,
          192.31,
          317.16,
          -192.06,
          204.3,
          189.65,
          -12.91,
          63.66,
          188.41,
          180.52,
          140.51,
          600.26,
          -30.37,
          171.76,
          715.53,
          -10.48,
          393.53,
          222.62,
          201.53,
          319.61,
          159.63,
          256.52,
          -141.53,
          192.73,
          279.55,
          566.05,
          242.6,
          346.23,
          -201.68,
          -10.78,
          136.06,
          -76.16,
          -7.39,
          348.27,
          534.68,
          -119.16,
          5.27,
          194.39,
          -375.29,
          -220.19,
          529.58,
          -1.2
         ]
        },
        {
         "line": {
          "color": "orange"
         },
         "mode": "lines",
         "name": "Outros",
         "type": "scatter",
         "visible": "legendonly",
         "x": [
          "2025-04-23T00:00:00",
          "2025-04-22T00:00:00",
          "2025-04-17T00:00:00",
          "2025-04-16T00:00:00",
          "2025-04-15T00:00:00",
          "2025-04-14T00:00:00",
          "2025-04-11T00:00:00",
          "2025-04-10T00:00:00",
          "2025-04-09T00:00:00",
          "2025-04-08T00:00:00",
          "2025-04-07T00:00:00",
          "2025-04-04T00:00:00",
          "2025-04-03T00:00:00",
          "2025-04-02T00:00:00",
          "2025-04-01T00:00:00",
          "2025-03-31T00:00:00",
          "2025-03-28T00:00:00",
          "2025-03-27T00:00:00",
          "2025-03-26T00:00:00",
          "2025-03-25T00:00:00",
          "2025-03-24T00:00:00",
          "2025-03-21T00:00:00",
          "2025-03-20T00:00:00",
          "2025-03-19T00:00:00",
          "2025-03-18T00:00:00",
          "2025-03-17T00:00:00",
          "2025-03-14T00:00:00",
          "2025-03-13T00:00:00",
          "2025-03-12T00:00:00",
          "2025-03-11T00:00:00",
          "2025-03-10T00:00:00",
          "2025-03-07T00:00:00",
          "2025-03-06T00:00:00",
          "2025-03-05T00:00:00",
          "2025-02-28T00:00:00",
          "2025-02-27T00:00:00",
          "2025-02-26T00:00:00",
          "2025-02-25T00:00:00",
          "2025-02-24T00:00:00",
          "2025-02-21T00:00:00",
          "2025-02-20T00:00:00",
          "2025-02-19T00:00:00",
          "2025-02-18T00:00:00",
          "2025-02-17T00:00:00",
          "2025-02-14T00:00:00",
          "2025-02-13T00:00:00",
          "2025-02-12T00:00:00",
          "2025-02-11T00:00:00",
          "2025-02-10T00:00:00",
          "2025-02-07T00:00:00",
          "2025-02-06T00:00:00",
          "2025-02-05T00:00:00",
          "2025-02-04T00:00:00",
          "2025-02-03T00:00:00",
          "2025-01-31T00:00:00",
          "2025-01-30T00:00:00",
          "2025-01-29T00:00:00",
          "2025-01-28T00:00:00",
          "2025-01-27T00:00:00",
          "2025-01-24T00:00:00",
          "2025-01-23T00:00:00",
          "2025-01-22T00:00:00",
          "2025-01-21T00:00:00",
          "2025-01-20T00:00:00",
          "2025-01-17T00:00:00",
          "2025-01-16T00:00:00",
          "2025-01-15T00:00:00",
          "2025-01-14T00:00:00",
          "2025-01-13T00:00:00",
          "2025-01-10T00:00:00",
          "2025-01-09T00:00:00",
          "2025-01-08T00:00:00",
          "2025-01-07T00:00:00",
          "2025-01-06T00:00:00",
          "2025-01-03T00:00:00",
          "2025-01-02T00:00:00",
          "2024-12-31T00:00:00",
          "2024-12-30T00:00:00",
          "2024-12-27T00:00:00",
          "2024-12-26T00:00:00",
          "2024-12-24T00:00:00",
          "2024-12-23T00:00:00",
          "2024-12-20T00:00:00",
          "2024-12-19T00:00:00",
          "2024-12-18T00:00:00",
          "2024-12-17T00:00:00",
          "2024-12-16T00:00:00",
          "2024-12-13T00:00:00",
          "2024-12-12T00:00:00",
          "2024-12-11T00:00:00",
          "2024-12-10T00:00:00",
          "2024-12-09T00:00:00",
          "2024-12-06T00:00:00",
          "2024-12-05T00:00:00",
          "2024-12-04T00:00:00",
          "2024-12-03T00:00:00",
          "2024-12-02T00:00:00",
          "2024-11-29T00:00:00",
          "2024-11-28T00:00:00",
          "2024-11-27T00:00:00",
          "2024-11-26T00:00:00",
          "2024-11-25T00:00:00",
          "2024-11-22T00:00:00",
          "2024-11-21T00:00:00",
          "2024-11-19T00:00:00",
          "2024-11-18T00:00:00",
          "2024-11-14T00:00:00",
          "2024-11-13T00:00:00",
          "2024-11-12T00:00:00",
          "2024-11-11T00:00:00",
          "2024-11-08T00:00:00",
          "2024-11-07T00:00:00",
          "2024-11-06T00:00:00",
          "2024-11-05T00:00:00",
          "2024-11-04T00:00:00",
          "2024-11-01T00:00:00",
          "2024-10-31T00:00:00",
          "2024-10-30T00:00:00",
          "2024-10-29T00:00:00",
          "2024-10-28T00:00:00",
          "2024-10-25T00:00:00",
          "2024-10-24T00:00:00",
          "2024-10-23T00:00:00",
          "2024-10-22T00:00:00",
          "2024-10-21T00:00:00",
          "2024-10-18T00:00:00",
          "2024-10-17T00:00:00",
          "2024-10-16T00:00:00",
          "2024-10-15T00:00:00",
          "2024-10-14T00:00:00",
          "2024-10-11T00:00:00",
          "2024-10-10T00:00:00",
          "2024-10-09T00:00:00",
          "2024-10-08T00:00:00",
          "2024-10-07T00:00:00",
          "2024-10-04T00:00:00",
          "2024-10-03T00:00:00",
          "2024-10-02T00:00:00",
          "2024-10-01T00:00:00",
          "2024-09-30T00:00:00",
          "2024-09-27T00:00:00",
          "2024-09-26T00:00:00",
          "2024-09-25T00:00:00",
          "2024-09-24T00:00:00",
          "2024-09-23T00:00:00",
          "2024-09-20T00:00:00",
          "2024-09-19T00:00:00",
          "2024-09-18T00:00:00",
          "2024-09-17T00:00:00",
          "2024-09-16T00:00:00",
          "2024-09-13T00:00:00",
          "2024-09-12T00:00:00",
          "2024-09-11T00:00:00",
          "2024-09-10T00:00:00",
          "2024-09-09T00:00:00",
          "2024-09-06T00:00:00",
          "2024-09-05T00:00:00",
          "2024-09-04T00:00:00",
          "2024-09-03T00:00:00",
          "2024-09-02T00:00:00",
          "2024-08-30T00:00:00",
          "2024-08-29T00:00:00",
          "2024-08-28T00:00:00",
          "2024-08-27T00:00:00",
          "2024-08-26T00:00:00",
          "2024-08-23T00:00:00",
          "2024-08-22T00:00:00",
          "2024-08-21T00:00:00",
          "2024-08-20T00:00:00",
          "2024-08-19T00:00:00",
          "2024-08-16T00:00:00",
          "2024-08-15T00:00:00",
          "2024-08-14T00:00:00",
          "2024-08-13T00:00:00",
          "2024-08-12T00:00:00",
          "2024-08-09T00:00:00",
          "2024-08-08T00:00:00",
          "2024-08-07T00:00:00",
          "2024-08-06T00:00:00",
          "2024-08-05T00:00:00",
          "2024-08-02T00:00:00",
          "2024-08-01T00:00:00",
          "2024-07-31T00:00:00",
          "2024-07-30T00:00:00",
          "2024-07-29T00:00:00",
          "2024-07-26T00:00:00",
          "2024-07-25T00:00:00",
          "2024-07-24T00:00:00",
          "2024-07-23T00:00:00",
          "2024-07-22T00:00:00",
          "2024-07-19T00:00:00",
          "2024-07-18T00:00:00",
          "2024-07-17T00:00:00",
          "2024-07-16T00:00:00",
          "2024-07-15T00:00:00",
          "2024-07-12T00:00:00",
          "2024-07-11T00:00:00",
          "2024-07-10T00:00:00",
          "2024-07-09T00:00:00",
          "2024-07-08T00:00:00",
          "2024-07-05T00:00:00",
          "2024-07-04T00:00:00",
          "2024-07-03T00:00:00",
          "2024-07-02T00:00:00",
          "2024-07-01T00:00:00",
          "2024-06-28T00:00:00",
          "2024-06-27T00:00:00",
          "2024-06-26T00:00:00",
          "2024-06-25T00:00:00",
          "2024-06-24T00:00:00",
          "2024-06-21T00:00:00",
          "2024-06-20T00:00:00",
          "2024-06-19T00:00:00",
          "2024-06-18T00:00:00",
          "2024-06-17T00:00:00",
          "2024-06-14T00:00:00",
          "2024-06-13T00:00:00",
          "2024-06-12T00:00:00",
          "2024-06-11T00:00:00",
          "2024-06-10T00:00:00",
          "2024-06-07T00:00:00",
          "2024-06-06T00:00:00",
          "2024-06-05T00:00:00",
          "2024-06-04T00:00:00",
          "2024-06-03T00:00:00",
          "2024-05-31T00:00:00",
          "2024-05-29T00:00:00",
          "2024-05-28T00:00:00",
          "2024-05-27T00:00:00",
          "2024-05-24T00:00:00",
          "2024-05-23T00:00:00",
          "2024-05-22T00:00:00",
          "2024-05-21T00:00:00",
          "2024-05-20T00:00:00",
          "2024-05-17T00:00:00",
          "2024-05-16T00:00:00",
          "2024-05-15T00:00:00",
          "2024-05-14T00:00:00",
          "2024-05-13T00:00:00",
          "2024-05-10T00:00:00",
          "2024-05-09T00:00:00",
          "2024-05-08T00:00:00",
          "2024-05-07T00:00:00",
          "2024-05-06T00:00:00",
          "2024-05-03T00:00:00",
          "2024-05-02T00:00:00",
          "2024-04-30T00:00:00",
          "2024-04-29T00:00:00"
         ],
         "y": [
          -281.6,
          -15.46,
          49.25,
          206.77,
          70.68,
          133.59,
          15.8,
          94.42,
          122.24,
          134.17,
          269.67,
          234.57,
          116.42,
          61.84,
          11.41,
          110.02,
          68.89,
          17.2,
          50.3,
          60.14,
          42.98,
          -348.46,
          0.53,
          47.42,
          90.87,
          55.34,
          75.03,
          -2.67,
          55.6,
          34.88,
          152.35,
          144.67,
          61.02,
          60.51,
          180.52,
          329.21,
          159.32,
          11.12,
          71.01,
          93.75,
          32.39,
          42.71,
          -23.03,
          43.2,
          50.16,
          6.82,
          63.24,
          49.9,
          130.49,
          142.36,
          79.02,
          81.38,
          112.91,
          129.53,
          67.5,
          -16.77,
          97.22,
          70.15,
          34.9,
          115.77,
          54.44,
          122.38,
          83.93,
          53.1,
          98.85,
          -9021.01,
          6.18,
          62.63,
          146.3,
          214.56,
          60.47,
          218.03,
          113.81,
          122.29,
          120.33,
          98.36,
          0,
          157.12,
          175.21,
          160.17,
          0,
          139.28,
          0,
          352.3,
          359,
          109.1,
          259.78,
          237.22,
          187.02,
          25.7,
          69.44,
          103.59,
          182.12,
          62.26,
          134.27,
          110.9,
          216.18,
          90.21,
          246.48,
          75.47,
          80.63,
          111.73,
          83.52,
          57.68,
          0.24,
          124.74,
          315.9,
          70.39,
          83.09,
          74.58,
          59.22,
          40.71,
          35.62,
          1.97,
          -41.4,
          29.59,
          -5.99,
          -17.03,
          -8.36,
          10.25,
          83.86,
          33.57,
          100.27,
          70.62,
          90.27,
          145.93,
          68.44,
          57.69,
          84.65,
          76.36,
          255.19,
          -21.08,
          92.63,
          59.12,
          75.94,
          53.93,
          90.75,
          45.56,
          128.55,
          67.71,
          247.69,
          215.92,
          165.25,
          34.65,
          60.71,
          133.51,
          63.92,
          62.77,
          45.55,
          46.88,
          49.8,
          66.14,
          77.19,
          83.77,
          71.9,
          150.41,
          67.54,
          122.29,
          122.63,
          58.37,
          144.72,
          95.12,
          96.21,
          85.86,
          41.75,
          138.36,
          261.53,
          128.06,
          27.15,
          199.43,
          254.08,
          407.7,
          4595.62,
          30.49,
          36.77,
          153.8,
          -0.68,
          19.38,
          1.34,
          29.15,
          25.23,
          20.97,
          22.47,
          19.94,
          74.69,
          -51.08,
          29.57,
          131.86,
          81.92,
          93.13,
          26.23,
          40.06,
          33.66,
          186.22,
          158.63,
          -25.78,
          30.3,
          18.37,
          5.02,
          -5.4,
          102.37,
          121.33,
          119.38,
          127.88,
          108.3,
          340.81,
          203.63,
          60.76,
          65.95,
          9.35,
          43.32,
          75.55,
          34.9,
          207.26,
          50.21,
          99.12,
          102.71,
          99.66,
          80.27,
          55.05,
          207.06,
          105.68,
          116.56,
          212.75,
          145.09,
          897.58,
          140.61,
          181.33,
          38,
          223.78,
          177.06,
          286.91,
          68.61,
          100.57,
          113.88,
          277.2,
          19.84,
          -7.62,
          50.03,
          165.1,
          97.44,
          22.77,
          -18.31,
          5.06,
          -72.24,
          222.79,
          10.47,
          19.58
         ]
        }
       ],
       "layout": {
        "height": 400,
        "legend": {
         "x": 0.01,
         "xanchor": "left",
         "y": 0.99,
         "yanchor": "top"
        },
        "margin": {
         "b": 40,
         "l": 40,
         "r": 40,
         "t": 60
        },
        "template": {
         "data": {
          "bar": [
           {
            "error_x": {
             "color": "#2a3f5f"
            },
            "error_y": {
             "color": "#2a3f5f"
            },
            "marker": {
             "line": {
              "color": "white",
              "width": 0.5
             },
             "pattern": {
              "fillmode": "overlay",
              "size": 10,
              "solidity": 0.2
             }
            },
            "type": "bar"
           }
          ],
          "barpolar": [
           {
            "marker": {
             "line": {
              "color": "white",
              "width": 0.5
             },
             "pattern": {
              "fillmode": "overlay",
              "size": 10,
              "solidity": 0.2
             }
            },
            "type": "barpolar"
           }
          ],
          "carpet": [
           {
            "aaxis": {
             "endlinecolor": "#2a3f5f",
             "gridcolor": "#C8D4E3",
             "linecolor": "#C8D4E3",
             "minorgridcolor": "#C8D4E3",
             "startlinecolor": "#2a3f5f"
            },
            "baxis": {
             "endlinecolor": "#2a3f5f",
             "gridcolor": "#C8D4E3",
             "linecolor": "#C8D4E3",
             "minorgridcolor": "#C8D4E3",
             "startlinecolor": "#2a3f5f"
            },
            "type": "carpet"
           }
          ],
          "choropleth": [
           {
            "colorbar": {
             "outlinewidth": 0,
             "ticks": ""
            },
            "type": "choropleth"
           }
          ],
          "contour": [
           {
            "colorbar": {
             "outlinewidth": 0,
             "ticks": ""
            },
            "colorscale": [
             [
              0,
              "#0d0887"
             ],
             [
              0.1111111111111111,
              "#46039f"
             ],
             [
              0.2222222222222222,
              "#7201a8"
             ],
             [
              0.3333333333333333,
              "#9c179e"
             ],
             [
              0.4444444444444444,
              "#bd3786"
             ],
             [
              0.5555555555555556,
              "#d8576b"
             ],
             [
              0.6666666666666666,
              "#ed7953"
             ],
             [
              0.7777777777777778,
              "#fb9f3a"
             ],
             [
              0.8888888888888888,
              "#fdca26"
             ],
             [
              1,
              "#f0f921"
             ]
            ],
            "type": "contour"
           }
          ],
          "contourcarpet": [
           {
            "colorbar": {
             "outlinewidth": 0,
             "ticks": ""
            },
            "type": "contourcarpet"
           }
          ],
          "heatmap": [
           {
            "colorbar": {
             "outlinewidth": 0,
             "ticks": ""
            },
            "colorscale": [
             [
              0,
              "#0d0887"
             ],
             [
              0.1111111111111111,
              "#46039f"
             ],
             [
              0.2222222222222222,
              "#7201a8"
             ],
             [
              0.3333333333333333,
              "#9c179e"
             ],
             [
              0.4444444444444444,
              "#bd3786"
             ],
             [
              0.5555555555555556,
              "#d8576b"
             ],
             [
              0.6666666666666666,
              "#ed7953"
             ],
             [
              0.7777777777777778,
              "#fb9f3a"
             ],
             [
              0.8888888888888888,
              "#fdca26"
             ],
             [
              1,
              "#f0f921"
             ]
            ],
            "type": "heatmap"
           }
          ],
          "heatmapgl": [
           {
            "colorbar": {
             "outlinewidth": 0,
             "ticks": ""
            },
            "colorscale": [
             [
              0,
              "#0d0887"
             ],
             [
              0.1111111111111111,
              "#46039f"
             ],
             [
              0.2222222222222222,
              "#7201a8"
             ],
             [
              0.3333333333333333,
              "#9c179e"
             ],
             [
              0.4444444444444444,
              "#bd3786"
             ],
             [
              0.5555555555555556,
              "#d8576b"
             ],
             [
              0.6666666666666666,
              "#ed7953"
             ],
             [
              0.7777777777777778,
              "#fb9f3a"
             ],
             [
              0.8888888888888888,
              "#fdca26"
             ],
             [
              1,
              "#f0f921"
             ]
            ],
            "type": "heatmapgl"
           }
          ],
          "histogram": [
           {
            "marker": {
             "pattern": {
              "fillmode": "overlay",
              "size": 10,
              "solidity": 0.2
             }
            },
            "type": "histogram"
           }
          ],
          "histogram2d": [
           {
            "colorbar": {
             "outlinewidth": 0,
             "ticks": ""
            },
            "colorscale": [
             [
              0,
              "#0d0887"
             ],
             [
              0.1111111111111111,
              "#46039f"
             ],
             [
              0.2222222222222222,
              "#7201a8"
             ],
             [
              0.3333333333333333,
              "#9c179e"
             ],
             [
              0.4444444444444444,
              "#bd3786"
             ],
             [
              0.5555555555555556,
              "#d8576b"
             ],
             [
              0.6666666666666666,
              "#ed7953"
             ],
             [
              0.7777777777777778,
              "#fb9f3a"
             ],
             [
              0.8888888888888888,
              "#fdca26"
             ],
             [
              1,
              "#f0f921"
             ]
            ],
            "type": "histogram2d"
           }
          ],
          "histogram2dcontour": [
           {
            "colorbar": {
             "outlinewidth": 0,
             "ticks": ""
            },
            "colorscale": [
             [
              0,
              "#0d0887"
             ],
             [
              0.1111111111111111,
              "#46039f"
             ],
             [
              0.2222222222222222,
              "#7201a8"
             ],
             [
              0.3333333333333333,
              "#9c179e"
             ],
             [
              0.4444444444444444,
              "#bd3786"
             ],
             [
              0.5555555555555556,
              "#d8576b"
             ],
             [
              0.6666666666666666,
              "#ed7953"
             ],
             [
              0.7777777777777778,
              "#fb9f3a"
             ],
             [
              0.8888888888888888,
              "#fdca26"
             ],
             [
              1,
              "#f0f921"
             ]
            ],
            "type": "histogram2dcontour"
           }
          ],
          "mesh3d": [
           {
            "colorbar": {
             "outlinewidth": 0,
             "ticks": ""
            },
            "type": "mesh3d"
           }
          ],
          "parcoords": [
           {
            "line": {
             "colorbar": {
              "outlinewidth": 0,
              "ticks": ""
             }
            },
            "type": "parcoords"
           }
          ],
          "pie": [
           {
            "automargin": true,
            "type": "pie"
           }
          ],
          "scatter": [
           {
            "fillpattern": {
             "fillmode": "overlay",
             "size": 10,
             "solidity": 0.2
            },
            "type": "scatter"
           }
          ],
          "scatter3d": [
           {
            "line": {
             "colorbar": {
              "outlinewidth": 0,
              "ticks": ""
             }
            },
            "marker": {
             "colorbar": {
              "outlinewidth": 0,
              "ticks": ""
             }
            },
            "type": "scatter3d"
           }
          ],
          "scattercarpet": [
           {
            "marker": {
             "colorbar": {
              "outlinewidth": 0,
              "ticks": ""
             }
            },
            "type": "scattercarpet"
           }
          ],
          "scattergeo": [
           {
            "marker": {
             "colorbar": {
              "outlinewidth": 0,
              "ticks": ""
             }
            },
            "type": "scattergeo"
           }
          ],
          "scattergl": [
           {
            "marker": {
             "colorbar": {
              "outlinewidth": 0,
              "ticks": ""
             }
            },
            "type": "scattergl"
           }
          ],
          "scattermapbox": [
           {
            "marker": {
             "colorbar": {
              "outlinewidth": 0,
              "ticks": ""
             }
            },
            "type": "scattermapbox"
           }
          ],
          "scatterpolar": [
           {
            "marker": {
             "colorbar": {
              "outlinewidth": 0,
              "ticks": ""
             }
            },
            "type": "scatterpolar"
           }
          ],
          "scatterpolargl": [
           {
            "marker": {
             "colorbar": {
              "outlinewidth": 0,
              "ticks": ""
             }
            },
            "type": "scatterpolargl"
           }
          ],
          "scatterternary": [
           {
            "marker": {
             "colorbar": {
              "outlinewidth": 0,
              "ticks": ""
             }
            },
            "type": "scatterternary"
           }
          ],
          "surface": [
           {
            "colorbar": {
             "outlinewidth": 0,
             "ticks": ""
            },
            "colorscale": [
             [
              0,
              "#0d0887"
             ],
             [
              0.1111111111111111,
              "#46039f"
             ],
             [
              0.2222222222222222,
              "#7201a8"
             ],
             [
              0.3333333333333333,
              "#9c179e"
             ],
             [
              0.4444444444444444,
              "#bd3786"
             ],
             [
              0.5555555555555556,
              "#d8576b"
             ],
             [
              0.6666666666666666,
              "#ed7953"
             ],
             [
              0.7777777777777778,
              "#fb9f3a"
             ],
             [
              0.8888888888888888,
              "#fdca26"
             ],
             [
              1,
              "#f0f921"
             ]
            ],
            "type": "surface"
           }
          ],
          "table": [
           {
            "cells": {
             "fill": {
              "color": "#EBF0F8"
             },
             "line": {
              "color": "white"
             }
            },
            "header": {
             "fill": {
              "color": "#C8D4E3"
             },
             "line": {
              "color": "white"
             }
            },
            "type": "table"
           }
          ]
         },
         "layout": {
          "annotationdefaults": {
           "arrowcolor": "#2a3f5f",
           "arrowhead": 0,
           "arrowwidth": 1
          },
          "autotypenumbers": "strict",
          "coloraxis": {
           "colorbar": {
            "outlinewidth": 0,
            "ticks": ""
           }
          },
          "colorscale": {
           "diverging": [
            [
             0,
             "#8e0152"
            ],
            [
             0.1,
             "#c51b7d"
            ],
            [
             0.2,
             "#de77ae"
            ],
            [
             0.3,
             "#f1b6da"
            ],
            [
             0.4,
             "#fde0ef"
            ],
            [
             0.5,
             "#f7f7f7"
            ],
            [
             0.6,
             "#e6f5d0"
            ],
            [
             0.7,
             "#b8e186"
            ],
            [
             0.8,
             "#7fbc41"
            ],
            [
             0.9,
             "#4d9221"
            ],
            [
             1,
             "#276419"
            ]
           ],
           "sequential": [
            [
             0,
             "#0d0887"
            ],
            [
             0.1111111111111111,
             "#46039f"
            ],
            [
             0.2222222222222222,
             "#7201a8"
            ],
            [
             0.3333333333333333,
             "#9c179e"
            ],
            [
             0.4444444444444444,
             "#bd3786"
            ],
            [
             0.5555555555555556,
             "#d8576b"
            ],
            [
             0.6666666666666666,
             "#ed7953"
            ],
            [
             0.7777777777777778,
             "#fb9f3a"
            ],
            [
             0.8888888888888888,
             "#fdca26"
            ],
            [
             1,
             "#f0f921"
            ]
           ],
           "sequentialminus": [
            [
             0,
             "#0d0887"
            ],
            [
             0.1111111111111111,
             "#46039f"
            ],
            [
             0.2222222222222222,
             "#7201a8"
            ],
            [
             0.3333333333333333,
             "#9c179e"
            ],
            [
             0.4444444444444444,
             "#bd3786"
            ],
            [
             0.5555555555555556,
             "#d8576b"
            ],
            [
             0.6666666666666666,
             "#ed7953"
            ],
            [
             0.7777777777777778,
             "#fb9f3a"
            ],
            [
             0.8888888888888888,
             "#fdca26"
            ],
            [
             1,
             "#f0f921"
            ]
           ]
          },
          "colorway": [
           "#636efa",
           "#EF553B",
           "#00cc96",
           "#ab63fa",
           "#FFA15A",
           "#19d3f3",
           "#FF6692",
           "#B6E880",
           "#FF97FF",
           "#FECB52"
          ],
          "font": {
           "color": "#2a3f5f"
          },
          "geo": {
           "bgcolor": "white",
           "lakecolor": "white",
           "landcolor": "white",
           "showlakes": true,
           "showland": true,
           "subunitcolor": "#C8D4E3"
          },
          "hoverlabel": {
           "align": "left"
          },
          "hovermode": "closest",
          "mapbox": {
           "style": "light"
          },
          "paper_bgcolor": "white",
          "plot_bgcolor": "white",
          "polar": {
           "angularaxis": {
            "gridcolor": "#EBF0F8",
            "linecolor": "#EBF0F8",
            "ticks": ""
           },
           "bgcolor": "white",
           "radialaxis": {
            "gridcolor": "#EBF0F8",
            "linecolor": "#EBF0F8",
            "ticks": ""
           }
          },
          "scene": {
           "xaxis": {
            "backgroundcolor": "white",
            "gridcolor": "#DFE8F3",
            "gridwidth": 2,
            "linecolor": "#EBF0F8",
            "showbackground": true,
            "ticks": "",
            "zerolinecolor": "#EBF0F8"
           },
           "yaxis": {
            "backgroundcolor": "white",
            "gridcolor": "#DFE8F3",
            "gridwidth": 2,
            "linecolor": "#EBF0F8",
            "showbackground": true,
            "ticks": "",
            "zerolinecolor": "#EBF0F8"
           },
           "zaxis": {
            "backgroundcolor": "white",
            "gridcolor": "#DFE8F3",
            "gridwidth": 2,
            "linecolor": "#EBF0F8",
            "showbackground": true,
            "ticks": "",
            "zerolinecolor": "#EBF0F8"
           }
          },
          "shapedefaults": {
           "line": {
            "color": "#2a3f5f"
           }
          },
          "ternary": {
           "aaxis": {
            "gridcolor": "#DFE8F3",
            "linecolor": "#A2B1C6",
            "ticks": ""
           },
           "baxis": {
            "gridcolor": "#DFE8F3",
            "linecolor": "#A2B1C6",
            "ticks": ""
           },
           "bgcolor": "white",
           "caxis": {
            "gridcolor": "#DFE8F3",
            "linecolor": "#A2B1C6",
            "ticks": ""
           }
          },
          "title": {
           "x": 0.05
          },
          "xaxis": {
           "automargin": true,
           "gridcolor": "#EBF0F8",
           "linecolor": "#EBF0F8",
           "ticks": "",
           "title": {
            "standoff": 15
           },
           "zerolinecolor": "#EBF0F8",
           "zerolinewidth": 2
          },
          "yaxis": {
           "automargin": true,
           "gridcolor": "#EBF0F8",
           "linecolor": "#EBF0F8",
           "ticks": "",
           "title": {
            "standoff": 15
           },
           "zerolinecolor": "#EBF0F8",
           "zerolinewidth": 2
          }
         }
        },
        "title": {
         "text": "Fluxo em milhões de reais"
        },
        "width": 800,
        "xaxis": {
         "title": {
          "text": "Data"
         }
        },
        "yaxis": {
         "title": {
          "text": "Índice de Sentimento"
         }
        }
       }
      }
     },
     "metadata": {},
     "output_type": "display_data"
    }
   ],
   "source": [
    "fig = go.Figure()\n",
    "\n",
    "# Linha principal (o seu índice de sentimento)\n",
    "fig.add_trace(go.Scatter( x=fluxo.Data, y=fluxo.Estrangeiro, mode='lines', name='Estrangeiro', line=dict(color='blue')))\n",
    "fig.add_trace(go.Scatter( x=fluxo.Data, y=fluxo.Institucional, mode='lines', name='Institucional', line=dict(color='black')))\n",
    "fig.add_trace(go.Scatter( x=fluxo.Data, y=fluxo['Inst. Financeira'], mode='lines', name='Inst. Financeira', line=dict(color='red'),\n",
    "                         visible='legendonly'))\n",
    "fig.add_trace(go.Scatter( x=fluxo.Data, y=fluxo['Pessoa física'], mode='lines', name='Pessoa física', line=dict(color='green'),\n",
    "                         visible='legendonly'))\n",
    "fig.add_trace(go.Scatter( x=fluxo.Data, y=fluxo['Outros'], mode='lines', name='Outros', line=dict(color='orange'),\n",
    "                         visible='legendonly'))\n",
    "# Layout\n",
    "fig.update_layout(\n",
    "    title=f'Fluxo em milhões de reais',\n",
    "    width=800,\n",
    "    height=400,\n",
    "    legend=dict(yanchor=\"top\", y=0.99, xanchor=\"left\", x=0.01),\n",
    "    margin=dict(l=40, r=40, t=60, b=40),\n",
    "    xaxis_title='Data',\n",
    "    yaxis_title='Índice de Sentimento',\n",
    "    template='plotly_white'\n",
    ")\n",
    "\n",
    "fig.show()"
   ]
  },
  {
   "cell_type": "code",
   "execution_count": 12,
   "id": "eb5fbbf3",
   "metadata": {},
   "outputs": [
    {
     "data": {
      "text/html": [
       "<div>\n",
       "<style scoped>\n",
       "    .dataframe tbody tr th:only-of-type {\n",
       "        vertical-align: middle;\n",
       "    }\n",
       "\n",
       "    .dataframe tbody tr th {\n",
       "        vertical-align: top;\n",
       "    }\n",
       "\n",
       "    .dataframe thead th {\n",
       "        text-align: right;\n",
       "    }\n",
       "</style>\n",
       "<table border=\"1\" class=\"dataframe\">\n",
       "  <thead>\n",
       "    <tr style=\"text-align: right;\">\n",
       "      <th></th>\n",
       "      <th>Data</th>\n",
       "      <th>Estrangeiro</th>\n",
       "      <th>Institucional</th>\n",
       "      <th>Pessoa física</th>\n",
       "      <th>Inst. Financeira</th>\n",
       "      <th>Outros</th>\n",
       "      <th>Total</th>\n",
       "      <th>Total absluto</th>\n",
       "      <th>Indice de fluxo</th>\n",
       "      <th>Indice_Estrangeiro</th>\n",
       "      <th>Indice_Est_Inst</th>\n",
       "    </tr>\n",
       "  </thead>\n",
       "  <tbody>\n",
       "    <tr>\n",
       "      <th>0</th>\n",
       "      <td>2025-04-23</td>\n",
       "      <td>1671.85</td>\n",
       "      <td>-1210.13</td>\n",
       "      <td>-247.50</td>\n",
       "      <td>67.38</td>\n",
       "      <td>-281.60</td>\n",
       "      <td>-2.273737e-13</td>\n",
       "      <td>3478.46</td>\n",
       "      <td>0.480629</td>\n",
       "      <td>0.495615</td>\n",
       "      <td>0.387593</td>\n",
       "    </tr>\n",
       "    <tr>\n",
       "      <th>1</th>\n",
       "      <td>2025-04-22</td>\n",
       "      <td>1112.86</td>\n",
       "      <td>-935.41</td>\n",
       "      <td>-127.54</td>\n",
       "      <td>-34.45</td>\n",
       "      <td>-15.46</td>\n",
       "      <td>-7.815970e-14</td>\n",
       "      <td>2225.72</td>\n",
       "      <td>0.500000</td>\n",
       "      <td>0.437372</td>\n",
       "      <td>0.365666</td>\n",
       "    </tr>\n",
       "    <tr>\n",
       "      <th>2</th>\n",
       "      <td>2025-04-17</td>\n",
       "      <td>2332.51</td>\n",
       "      <td>-781.91</td>\n",
       "      <td>-273.00</td>\n",
       "      <td>-1326.86</td>\n",
       "      <td>49.25</td>\n",
       "      <td>-1.000000e-02</td>\n",
       "      <td>4763.53</td>\n",
       "      <td>0.489660</td>\n",
       "      <td>0.564450</td>\n",
       "      <td>0.471586</td>\n",
       "    </tr>\n",
       "    <tr>\n",
       "      <th>3</th>\n",
       "      <td>2025-04-16</td>\n",
       "      <td>-1115.98</td>\n",
       "      <td>564.08</td>\n",
       "      <td>113.25</td>\n",
       "      <td>231.88</td>\n",
       "      <td>206.77</td>\n",
       "      <td>2.842171e-14</td>\n",
       "      <td>2231.96</td>\n",
       "      <td>-0.500000</td>\n",
       "      <td>0.205144</td>\n",
       "      <td>0.309406</td>\n",
       "    </tr>\n",
       "    <tr>\n",
       "      <th>4</th>\n",
       "      <td>2025-04-15</td>\n",
       "      <td>-68.61</td>\n",
       "      <td>-169.87</td>\n",
       "      <td>402.79</td>\n",
       "      <td>-235.00</td>\n",
       "      <td>70.68</td>\n",
       "      <td>-1.000000e-02</td>\n",
       "      <td>946.95</td>\n",
       "      <td>-0.072454</td>\n",
       "      <td>0.314272</td>\n",
       "      <td>0.333582</td>\n",
       "    </tr>\n",
       "    <tr>\n",
       "      <th>...</th>\n",
       "      <td>...</td>\n",
       "      <td>...</td>\n",
       "      <td>...</td>\n",
       "      <td>...</td>\n",
       "      <td>...</td>\n",
       "      <td>...</td>\n",
       "      <td>...</td>\n",
       "      <td>...</td>\n",
       "      <td>...</td>\n",
       "      <td>...</td>\n",
       "      <td>...</td>\n",
       "    </tr>\n",
       "    <tr>\n",
       "      <th>243</th>\n",
       "      <td>2024-05-06</td>\n",
       "      <td>-128.19</td>\n",
       "      <td>-88.95</td>\n",
       "      <td>194.39</td>\n",
       "      <td>17.70</td>\n",
       "      <td>5.06</td>\n",
       "      <td>1.000000e-02</td>\n",
       "      <td>434.29</td>\n",
       "      <td>-0.295171</td>\n",
       "      <td>0.308064</td>\n",
       "      <td>0.335228</td>\n",
       "    </tr>\n",
       "    <tr>\n",
       "      <th>244</th>\n",
       "      <td>2024-05-03</td>\n",
       "      <td>1028.27</td>\n",
       "      <td>-522.34</td>\n",
       "      <td>-375.29</td>\n",
       "      <td>-58.40</td>\n",
       "      <td>-72.24</td>\n",
       "      <td>-7.105427e-14</td>\n",
       "      <td>2056.54</td>\n",
       "      <td>0.500000</td>\n",
       "      <td>0.428558</td>\n",
       "      <td>0.391003</td>\n",
       "    </tr>\n",
       "    <tr>\n",
       "      <th>245</th>\n",
       "      <td>2024-05-02</td>\n",
       "      <td>603.67</td>\n",
       "      <td>-623.34</td>\n",
       "      <td>-220.19</td>\n",
       "      <td>17.07</td>\n",
       "      <td>222.79</td>\n",
       "      <td>-8.526513e-14</td>\n",
       "      <td>1687.06</td>\n",
       "      <td>0.357824</td>\n",
       "      <td>0.384318</td>\n",
       "      <td>0.350460</td>\n",
       "    </tr>\n",
       "    <tr>\n",
       "      <th>246</th>\n",
       "      <td>2024-04-30</td>\n",
       "      <td>-1398.73</td>\n",
       "      <td>607.61</td>\n",
       "      <td>529.58</td>\n",
       "      <td>251.08</td>\n",
       "      <td>10.47</td>\n",
       "      <td>1.000000e-02</td>\n",
       "      <td>2797.47</td>\n",
       "      <td>-0.499998</td>\n",
       "      <td>0.175684</td>\n",
       "      <td>0.290954</td>\n",
       "    </tr>\n",
       "    <tr>\n",
       "      <th>247</th>\n",
       "      <td>2024-04-29</td>\n",
       "      <td>968.65</td>\n",
       "      <td>-905.58</td>\n",
       "      <td>-1.20</td>\n",
       "      <td>-81.45</td>\n",
       "      <td>19.58</td>\n",
       "      <td>-7.105427e-14</td>\n",
       "      <td>1976.46</td>\n",
       "      <td>0.490093</td>\n",
       "      <td>0.422347</td>\n",
       "      <td>0.356843</td>\n",
       "    </tr>\n",
       "  </tbody>\n",
       "</table>\n",
       "<p>248 rows × 11 columns</p>\n",
       "</div>"
      ],
      "text/plain": [
       "          Data  Estrangeiro  Institucional  Pessoa física  Inst. Financeira  \\\n",
       "0   2025-04-23      1671.85       -1210.13        -247.50             67.38   \n",
       "1   2025-04-22      1112.86        -935.41        -127.54            -34.45   \n",
       "2   2025-04-17      2332.51        -781.91        -273.00          -1326.86   \n",
       "3   2025-04-16     -1115.98         564.08         113.25            231.88   \n",
       "4   2025-04-15       -68.61        -169.87         402.79           -235.00   \n",
       "..         ...          ...            ...            ...               ...   \n",
       "243 2024-05-06      -128.19         -88.95         194.39             17.70   \n",
       "244 2024-05-03      1028.27        -522.34        -375.29            -58.40   \n",
       "245 2024-05-02       603.67        -623.34        -220.19             17.07   \n",
       "246 2024-04-30     -1398.73         607.61         529.58            251.08   \n",
       "247 2024-04-29       968.65        -905.58          -1.20            -81.45   \n",
       "\n",
       "     Outros         Total  Total absluto  Indice de fluxo  Indice_Estrangeiro  \\\n",
       "0   -281.60 -2.273737e-13        3478.46         0.480629            0.495615   \n",
       "1    -15.46 -7.815970e-14        2225.72         0.500000            0.437372   \n",
       "2     49.25 -1.000000e-02        4763.53         0.489660            0.564450   \n",
       "3    206.77  2.842171e-14        2231.96        -0.500000            0.205144   \n",
       "4     70.68 -1.000000e-02         946.95        -0.072454            0.314272   \n",
       "..      ...           ...            ...              ...                 ...   \n",
       "243    5.06  1.000000e-02         434.29        -0.295171            0.308064   \n",
       "244  -72.24 -7.105427e-14        2056.54         0.500000            0.428558   \n",
       "245  222.79 -8.526513e-14        1687.06         0.357824            0.384318   \n",
       "246   10.47  1.000000e-02        2797.47        -0.499998            0.175684   \n",
       "247   19.58 -7.105427e-14        1976.46         0.490093            0.422347   \n",
       "\n",
       "     Indice_Est_Inst  \n",
       "0           0.387593  \n",
       "1           0.365666  \n",
       "2           0.471586  \n",
       "3           0.309406  \n",
       "4           0.333582  \n",
       "..               ...  \n",
       "243         0.335228  \n",
       "244         0.391003  \n",
       "245         0.350460  \n",
       "246         0.290954  \n",
       "247         0.356843  \n",
       "\n",
       "[248 rows x 11 columns]"
      ]
     },
     "execution_count": 12,
     "metadata": {},
     "output_type": "execute_result"
    }
   ],
   "source": [
    "\n",
    "fluxo['Total'] = (fluxo['Estrangeiro']+fluxo['Institucional']+fluxo['Pessoa física']+fluxo['Inst. Financeira']+fluxo['Outros'] \t)\n",
    "fluxo['Total absluto'] = abs(fluxo['Estrangeiro'])+abs(fluxo['Institucional'])+abs(fluxo['Pessoa física'])+abs(fluxo['Inst. Financeira'])+abs(fluxo['Outros'] \t)\n",
    "# fluxo['Total2'] = fluxo[colunas_valores].sum(axis=1) \n",
    "fluxo['Indice de fluxo'] = fluxo['Estrangeiro']/fluxo['Total absluto']\n",
    "\n",
    "ext = fluxo['Estrangeiro']\n",
    "min_e = ext.min()\n",
    "max_e = ext.max()\n",
    "# # Índice de Sentimento (Estrangeiros) normalizado entre 0 e 1\n",
    "fluxo['Indice_Estrangeiro'] = (ext - min_e) / (max_e - min_e)\n",
    "\n",
    "# # Soma dos fluxos estrangeiro e institucional\n",
    "fluxo_EI = fluxo['Estrangeiro'] + fluxo['Institucional']\n",
    "min_ei = fluxo_EI.min()\n",
    "max_ei = fluxo_EI.max()\n",
    "# Índice de Sentimento (Estrangeiro + Institucional)\n",
    "fluxo['Indice_Est_Inst'] = (fluxo_EI - min_ei) / (max_ei - min_ei)\n",
    "\n",
    "fluxo"
   ]
  },
  {
   "cell_type": "code",
   "execution_count": 13,
   "id": "995191ad",
   "metadata": {},
   "outputs": [
    {
     "data": {
      "application/vnd.plotly.v1+json": {
       "config": {
        "plotlyServerURL": "https://plot.ly"
       },
       "data": [
        {
         "line": {
          "color": "blue"
         },
         "mode": "lines",
         "name": "Indice de fluxo",
         "type": "scatter",
         "visible": "legendonly",
         "x": [
          "2025-04-23T00:00:00",
          "2025-04-22T00:00:00",
          "2025-04-17T00:00:00",
          "2025-04-16T00:00:00",
          "2025-04-15T00:00:00",
          "2025-04-14T00:00:00",
          "2025-04-11T00:00:00",
          "2025-04-10T00:00:00",
          "2025-04-09T00:00:00",
          "2025-04-08T00:00:00",
          "2025-04-07T00:00:00",
          "2025-04-04T00:00:00",
          "2025-04-03T00:00:00",
          "2025-04-02T00:00:00",
          "2025-04-01T00:00:00",
          "2025-03-31T00:00:00",
          "2025-03-28T00:00:00",
          "2025-03-27T00:00:00",
          "2025-03-26T00:00:00",
          "2025-03-25T00:00:00",
          "2025-03-24T00:00:00",
          "2025-03-21T00:00:00",
          "2025-03-20T00:00:00",
          "2025-03-19T00:00:00",
          "2025-03-18T00:00:00",
          "2025-03-17T00:00:00",
          "2025-03-14T00:00:00",
          "2025-03-13T00:00:00",
          "2025-03-12T00:00:00",
          "2025-03-11T00:00:00",
          "2025-03-10T00:00:00",
          "2025-03-07T00:00:00",
          "2025-03-06T00:00:00",
          "2025-03-05T00:00:00",
          "2025-02-28T00:00:00",
          "2025-02-27T00:00:00",
          "2025-02-26T00:00:00",
          "2025-02-25T00:00:00",
          "2025-02-24T00:00:00",
          "2025-02-21T00:00:00",
          "2025-02-20T00:00:00",
          "2025-02-19T00:00:00",
          "2025-02-18T00:00:00",
          "2025-02-17T00:00:00",
          "2025-02-14T00:00:00",
          "2025-02-13T00:00:00",
          "2025-02-12T00:00:00",
          "2025-02-11T00:00:00",
          "2025-02-10T00:00:00",
          "2025-02-07T00:00:00",
          "2025-02-06T00:00:00",
          "2025-02-05T00:00:00",
          "2025-02-04T00:00:00",
          "2025-02-03T00:00:00",
          "2025-01-31T00:00:00",
          "2025-01-30T00:00:00",
          "2025-01-29T00:00:00",
          "2025-01-28T00:00:00",
          "2025-01-27T00:00:00",
          "2025-01-24T00:00:00",
          "2025-01-23T00:00:00",
          "2025-01-22T00:00:00",
          "2025-01-21T00:00:00",
          "2025-01-20T00:00:00",
          "2025-01-17T00:00:00",
          "2025-01-16T00:00:00",
          "2025-01-15T00:00:00",
          "2025-01-14T00:00:00",
          "2025-01-13T00:00:00",
          "2025-01-10T00:00:00",
          "2025-01-09T00:00:00",
          "2025-01-08T00:00:00",
          "2025-01-07T00:00:00",
          "2025-01-06T00:00:00",
          "2025-01-03T00:00:00",
          "2025-01-02T00:00:00",
          "2024-12-31T00:00:00",
          "2024-12-30T00:00:00",
          "2024-12-27T00:00:00",
          "2024-12-26T00:00:00",
          "2024-12-24T00:00:00",
          "2024-12-23T00:00:00",
          "2024-12-20T00:00:00",
          "2024-12-19T00:00:00",
          "2024-12-18T00:00:00",
          "2024-12-17T00:00:00",
          "2024-12-16T00:00:00",
          "2024-12-13T00:00:00",
          "2024-12-12T00:00:00",
          "2024-12-11T00:00:00",
          "2024-12-10T00:00:00",
          "2024-12-09T00:00:00",
          "2024-12-06T00:00:00",
          "2024-12-05T00:00:00",
          "2024-12-04T00:00:00",
          "2024-12-03T00:00:00",
          "2024-12-02T00:00:00",
          "2024-11-29T00:00:00",
          "2024-11-28T00:00:00",
          "2024-11-27T00:00:00",
          "2024-11-26T00:00:00",
          "2024-11-25T00:00:00",
          "2024-11-22T00:00:00",
          "2024-11-21T00:00:00",
          "2024-11-19T00:00:00",
          "2024-11-18T00:00:00",
          "2024-11-14T00:00:00",
          "2024-11-13T00:00:00",
          "2024-11-12T00:00:00",
          "2024-11-11T00:00:00",
          "2024-11-08T00:00:00",
          "2024-11-07T00:00:00",
          "2024-11-06T00:00:00",
          "2024-11-05T00:00:00",
          "2024-11-04T00:00:00",
          "2024-11-01T00:00:00",
          "2024-10-31T00:00:00",
          "2024-10-30T00:00:00",
          "2024-10-29T00:00:00",
          "2024-10-28T00:00:00",
          "2024-10-25T00:00:00",
          "2024-10-24T00:00:00",
          "2024-10-23T00:00:00",
          "2024-10-22T00:00:00",
          "2024-10-21T00:00:00",
          "2024-10-18T00:00:00",
          "2024-10-17T00:00:00",
          "2024-10-16T00:00:00",
          "2024-10-15T00:00:00",
          "2024-10-14T00:00:00",
          "2024-10-11T00:00:00",
          "2024-10-10T00:00:00",
          "2024-10-09T00:00:00",
          "2024-10-08T00:00:00",
          "2024-10-07T00:00:00",
          "2024-10-04T00:00:00",
          "2024-10-03T00:00:00",
          "2024-10-02T00:00:00",
          "2024-10-01T00:00:00",
          "2024-09-30T00:00:00",
          "2024-09-27T00:00:00",
          "2024-09-26T00:00:00",
          "2024-09-25T00:00:00",
          "2024-09-24T00:00:00",
          "2024-09-23T00:00:00",
          "2024-09-20T00:00:00",
          "2024-09-19T00:00:00",
          "2024-09-18T00:00:00",
          "2024-09-17T00:00:00",
          "2024-09-16T00:00:00",
          "2024-09-13T00:00:00",
          "2024-09-12T00:00:00",
          "2024-09-11T00:00:00",
          "2024-09-10T00:00:00",
          "2024-09-09T00:00:00",
          "2024-09-06T00:00:00",
          "2024-09-05T00:00:00",
          "2024-09-04T00:00:00",
          "2024-09-03T00:00:00",
          "2024-09-02T00:00:00",
          "2024-08-30T00:00:00",
          "2024-08-29T00:00:00",
          "2024-08-28T00:00:00",
          "2024-08-27T00:00:00",
          "2024-08-26T00:00:00",
          "2024-08-23T00:00:00",
          "2024-08-22T00:00:00",
          "2024-08-21T00:00:00",
          "2024-08-20T00:00:00",
          "2024-08-19T00:00:00",
          "2024-08-16T00:00:00",
          "2024-08-15T00:00:00",
          "2024-08-14T00:00:00",
          "2024-08-13T00:00:00",
          "2024-08-12T00:00:00",
          "2024-08-09T00:00:00",
          "2024-08-08T00:00:00",
          "2024-08-07T00:00:00",
          "2024-08-06T00:00:00",
          "2024-08-05T00:00:00",
          "2024-08-02T00:00:00",
          "2024-08-01T00:00:00",
          "2024-07-31T00:00:00",
          "2024-07-30T00:00:00",
          "2024-07-29T00:00:00",
          "2024-07-26T00:00:00",
          "2024-07-25T00:00:00",
          "2024-07-24T00:00:00",
          "2024-07-23T00:00:00",
          "2024-07-22T00:00:00",
          "2024-07-19T00:00:00",
          "2024-07-18T00:00:00",
          "2024-07-17T00:00:00",
          "2024-07-16T00:00:00",
          "2024-07-15T00:00:00",
          "2024-07-12T00:00:00",
          "2024-07-11T00:00:00",
          "2024-07-10T00:00:00",
          "2024-07-09T00:00:00",
          "2024-07-08T00:00:00",
          "2024-07-05T00:00:00",
          "2024-07-04T00:00:00",
          "2024-07-03T00:00:00",
          "2024-07-02T00:00:00",
          "2024-07-01T00:00:00",
          "2024-06-28T00:00:00",
          "2024-06-27T00:00:00",
          "2024-06-26T00:00:00",
          "2024-06-25T00:00:00",
          "2024-06-24T00:00:00",
          "2024-06-21T00:00:00",
          "2024-06-20T00:00:00",
          "2024-06-19T00:00:00",
          "2024-06-18T00:00:00",
          "2024-06-17T00:00:00",
          "2024-06-14T00:00:00",
          "2024-06-13T00:00:00",
          "2024-06-12T00:00:00",
          "2024-06-11T00:00:00",
          "2024-06-10T00:00:00",
          "2024-06-07T00:00:00",
          "2024-06-06T00:00:00",
          "2024-06-05T00:00:00",
          "2024-06-04T00:00:00",
          "2024-06-03T00:00:00",
          "2024-05-31T00:00:00",
          "2024-05-29T00:00:00",
          "2024-05-28T00:00:00",
          "2024-05-27T00:00:00",
          "2024-05-24T00:00:00",
          "2024-05-23T00:00:00",
          "2024-05-22T00:00:00",
          "2024-05-21T00:00:00",
          "2024-05-20T00:00:00",
          "2024-05-17T00:00:00",
          "2024-05-16T00:00:00",
          "2024-05-15T00:00:00",
          "2024-05-14T00:00:00",
          "2024-05-13T00:00:00",
          "2024-05-10T00:00:00",
          "2024-05-09T00:00:00",
          "2024-05-08T00:00:00",
          "2024-05-07T00:00:00",
          "2024-05-06T00:00:00",
          "2024-05-03T00:00:00",
          "2024-05-02T00:00:00",
          "2024-04-30T00:00:00",
          "2024-04-29T00:00:00"
         ],
         "y": [
          0.480629358969199,
          0.5,
          0.4896599790491506,
          -0.5,
          -0.07245366703627434,
          -0.47312726387938825,
          -0.4804904849558018,
          -0.5,
          -0.4043917294438212,
          -0.3340190722213253,
          -0.5,
          -0.49999872626717307,
          -0.4555760489577947,
          -0.5000000000000001,
          -0.405689698387501,
          -0.5,
          -0.10431804241059485,
          0.48876389814343013,
          0.04484184914841849,
          0.057622371304013924,
          0.24461143329067858,
          0.4999987620728842,
          0.4631181000092773,
          0.4636637372909276,
          0.3626290568832857,
          0.46063395410377156,
          0.45831709877846744,
          0.48704930095658566,
          -0.4999954095169895,
          -0.49572707085660445,
          -0.47143270529226416,
          0.25317792195162614,
          -0.39847692657422146,
          -0.45230113481686596,
          -0.5,
          -0.5,
          -0.3904460028050491,
          0.048883404929470194,
          0.20610899822783296,
          0.47850835365965483,
          -0.47770826763280066,
          -0.05435782883300953,
          0.0075353557162906185,
          0.3425311727974789,
          0.28755540294040005,
          0.028689087165408373,
          0.010119821331505685,
          0.1787077577359549,
          0.005239734494760266,
          0.1059098229795973,
          0.22247095837366893,
          0.2977815699658703,
          -0.45590388613933874,
          0.019150707743547046,
          0.16780123339658445,
          0.49689930282701505,
          -0.18126989741775734,
          -0.24544078257831603,
          0.45297569409910565,
          0.08589816051793238,
          0.3282412733547889,
          -0.5,
          -0.4999999999999999,
          0.1775680234440223,
          0.4836293357004689,
          0.36097751858024685,
          0.3327095193537097,
          -0.48093835178640965,
          -0.5,
          -0.5,
          -0.5000079065133857,
          -0.49999999999999994,
          0.3913305007877023,
          -0.4190253261703761,
          -0.4999987213355394,
          -0.5000046188096404,
          null,
          -0.5,
          -0.04272188661710038,
          0.09189678587596199,
          null,
          -0.3642002378161394,
          0,
          0.4012874088630067,
          -0.09853814785913861,
          0.3769774600561525,
          -0.2787084937439846,
          0.00115075582187117,
          -0.1701194248111138,
          -0.004745601109473867,
          0.05243941326530612,
          0.4155910580329668,
          -0.38464392660608,
          0.4618434761291904,
          0.3185204745647623,
          0.36983445179961033,
          0.21640238931132594,
          -0.500005276209571,
          -0.41238754266356853,
          0.0875804082459606,
          0.016505543984686323,
          -0.4273203259862635,
          0.44761120662517867,
          -0.4379651040571789,
          -0.3314299239622474,
          0.18741969185690438,
          -0.46962166314576537,
          0.08810471242769242,
          0.1471651008475133,
          -0.2569423353170531,
          -0.49999999999999994,
          0.1486360064364031,
          -0.3086087299796977,
          0.25515806507542044,
          0.5,
          -0.11925016210357209,
          -0.49129613484452195,
          -0.3479129559358786,
          -0.03417559020602417,
          0.46325633331007054,
          0.38102311981985165,
          -0.08060751858102042,
          -0.3367564589719323,
          -0.33060529634300123,
          -0.5000000000000001,
          0.310519869975277,
          -0.5,
          0.47951374214696413,
          -0.5000000000000001,
          0.4253918005237034,
          -0.5,
          -0.47940587286852,
          -0.49999999999999994,
          -0.4950486946558639,
          0.4282498123905612,
          -0.3869759689431821,
          -0.5,
          0.38676664690016643,
          0.4244114619650031,
          -0.5,
          -0.10220436836368041,
          -0.19862689244411882,
          -0.4502468727672145,
          0.4845022791423803,
          -0.49999788107759924,
          0.36081401035185656,
          0.3018559537557663,
          -0.4663516538174584,
          0.3091939309513949,
          0.20112826805740192,
          0.4648195767046257,
          -0.5,
          -0.3174269087361048,
          -0.21010161386730425,
          0.0474010019464565,
          -0.5000026722963042,
          -0.484075102697601,
          0.346527446600236,
          -0.1574251418646427,
          -0.13070368847864272,
          -0.051278721278721275,
          0.17666170777251478,
          0.31978352375225494,
          0.3063431575900825,
          0.48750366658884525,
          0.45330534443889464,
          -0.2796849757673668,
          -0.23876683034060905,
          -0.4999908018911312,
          0.4326476577723593,
          0.40026228462462415,
          0.32401024820016616,
          -0.044406335938349674,
          0.48804445002117425,
          0.4384940877389574,
          0.3741358851257934,
          0.5000000000000001,
          0.4896735829150548,
          0.18277936726596258,
          0.2529790610124141,
          0.0662683359028653,
          -0.43098896885323273,
          0.40345375660466515,
          -0.2155012339875426,
          0.17978704177836682,
          -0.47271367521367524,
          -0.4807273567549792,
          -0.4953111378148488,
          -0.3624264055906733,
          -0.5000000000000001,
          0.41005350581974837,
          0.33436513522736966,
          0.367344525892646,
          0.09894661667559364,
          0.11367257827535542,
          0.45830162354134957,
          0.08467510063254743,
          0.3278980360964339,
          -0.16965777418485584,
          0.39378470785513625,
          -0.02782702228950461,
          0.34346914852047883,
          0.4034006415377241,
          0.40724471632063236,
          -0.49998861851539916,
          0.2317156083847705,
          -0.04129859802582675,
          -0.25228197731852847,
          0.08313203194707407,
          0.4879252008161789,
          0.42623414770746876,
          0.3498264429583406,
          0.4342328421211321,
          -0.5,
          0.2659690279807381,
          0.21701731483449202,
          -0.17057924990955503,
          -0.5,
          -0.4846252759046636,
          -0.5000096721152916,
          -0.3318571722334832,
          -0.4410348977135981,
          -0.4243914673057364,
          -0.49999999999999994,
          0.019371299416226413,
          -0.31608638579822473,
          -0.5,
          -0.49827739364256224,
          -0.2887505783668413,
          -0.030167342920938273,
          -0.5000033037100665,
          0.20758870678901803,
          -0.27038557514288014,
          -0.28328950283694093,
          0.4400290691550987,
          0.05685719297366378,
          -0.49430245447347587,
          -0.06790853538340232,
          0.46078961600865326,
          -0.4391797674072921,
          -0.35071370267272234,
          0.48487746563060374,
          0.33716727946953273,
          -0.29517142922931683,
          0.5,
          0.35782366957903095,
          -0.4999982126707347,
          0.4900933993098772
         ]
        },
        {
         "line": {
          "color": "black"
         },
         "mode": "lines",
         "name": "Indice fluxo Estrangeiro",
         "type": "scatter",
         "x": [
          "2025-04-23T00:00:00",
          "2025-04-22T00:00:00",
          "2025-04-17T00:00:00",
          "2025-04-16T00:00:00",
          "2025-04-15T00:00:00",
          "2025-04-14T00:00:00",
          "2025-04-11T00:00:00",
          "2025-04-10T00:00:00",
          "2025-04-09T00:00:00",
          "2025-04-08T00:00:00",
          "2025-04-07T00:00:00",
          "2025-04-04T00:00:00",
          "2025-04-03T00:00:00",
          "2025-04-02T00:00:00",
          "2025-04-01T00:00:00",
          "2025-03-31T00:00:00",
          "2025-03-28T00:00:00",
          "2025-03-27T00:00:00",
          "2025-03-26T00:00:00",
          "2025-03-25T00:00:00",
          "2025-03-24T00:00:00",
          "2025-03-21T00:00:00",
          "2025-03-20T00:00:00",
          "2025-03-19T00:00:00",
          "2025-03-18T00:00:00",
          "2025-03-17T00:00:00",
          "2025-03-14T00:00:00",
          "2025-03-13T00:00:00",
          "2025-03-12T00:00:00",
          "2025-03-11T00:00:00",
          "2025-03-10T00:00:00",
          "2025-03-07T00:00:00",
          "2025-03-06T00:00:00",
          "2025-03-05T00:00:00",
          "2025-02-28T00:00:00",
          "2025-02-27T00:00:00",
          "2025-02-26T00:00:00",
          "2025-02-25T00:00:00",
          "2025-02-24T00:00:00",
          "2025-02-21T00:00:00",
          "2025-02-20T00:00:00",
          "2025-02-19T00:00:00",
          "2025-02-18T00:00:00",
          "2025-02-17T00:00:00",
          "2025-02-14T00:00:00",
          "2025-02-13T00:00:00",
          "2025-02-12T00:00:00",
          "2025-02-11T00:00:00",
          "2025-02-10T00:00:00",
          "2025-02-07T00:00:00",
          "2025-02-06T00:00:00",
          "2025-02-05T00:00:00",
          "2025-02-04T00:00:00",
          "2025-02-03T00:00:00",
          "2025-01-31T00:00:00",
          "2025-01-30T00:00:00",
          "2025-01-29T00:00:00",
          "2025-01-28T00:00:00",
          "2025-01-27T00:00:00",
          "2025-01-24T00:00:00",
          "2025-01-23T00:00:00",
          "2025-01-22T00:00:00",
          "2025-01-21T00:00:00",
          "2025-01-20T00:00:00",
          "2025-01-17T00:00:00",
          "2025-01-16T00:00:00",
          "2025-01-15T00:00:00",
          "2025-01-14T00:00:00",
          "2025-01-13T00:00:00",
          "2025-01-10T00:00:00",
          "2025-01-09T00:00:00",
          "2025-01-08T00:00:00",
          "2025-01-07T00:00:00",
          "2025-01-06T00:00:00",
          "2025-01-03T00:00:00",
          "2025-01-02T00:00:00",
          "2024-12-31T00:00:00",
          "2024-12-30T00:00:00",
          "2024-12-27T00:00:00",
          "2024-12-26T00:00:00",
          "2024-12-24T00:00:00",
          "2024-12-23T00:00:00",
          "2024-12-20T00:00:00",
          "2024-12-19T00:00:00",
          "2024-12-18T00:00:00",
          "2024-12-17T00:00:00",
          "2024-12-16T00:00:00",
          "2024-12-13T00:00:00",
          "2024-12-12T00:00:00",
          "2024-12-11T00:00:00",
          "2024-12-10T00:00:00",
          "2024-12-09T00:00:00",
          "2024-12-06T00:00:00",
          "2024-12-05T00:00:00",
          "2024-12-04T00:00:00",
          "2024-12-03T00:00:00",
          "2024-12-02T00:00:00",
          "2024-11-29T00:00:00",
          "2024-11-28T00:00:00",
          "2024-11-27T00:00:00",
          "2024-11-26T00:00:00",
          "2024-11-25T00:00:00",
          "2024-11-22T00:00:00",
          "2024-11-21T00:00:00",
          "2024-11-19T00:00:00",
          "2024-11-18T00:00:00",
          "2024-11-14T00:00:00",
          "2024-11-13T00:00:00",
          "2024-11-12T00:00:00",
          "2024-11-11T00:00:00",
          "2024-11-08T00:00:00",
          "2024-11-07T00:00:00",
          "2024-11-06T00:00:00",
          "2024-11-05T00:00:00",
          "2024-11-04T00:00:00",
          "2024-11-01T00:00:00",
          "2024-10-31T00:00:00",
          "2024-10-30T00:00:00",
          "2024-10-29T00:00:00",
          "2024-10-28T00:00:00",
          "2024-10-25T00:00:00",
          "2024-10-24T00:00:00",
          "2024-10-23T00:00:00",
          "2024-10-22T00:00:00",
          "2024-10-21T00:00:00",
          "2024-10-18T00:00:00",
          "2024-10-17T00:00:00",
          "2024-10-16T00:00:00",
          "2024-10-15T00:00:00",
          "2024-10-14T00:00:00",
          "2024-10-11T00:00:00",
          "2024-10-10T00:00:00",
          "2024-10-09T00:00:00",
          "2024-10-08T00:00:00",
          "2024-10-07T00:00:00",
          "2024-10-04T00:00:00",
          "2024-10-03T00:00:00",
          "2024-10-02T00:00:00",
          "2024-10-01T00:00:00",
          "2024-09-30T00:00:00",
          "2024-09-27T00:00:00",
          "2024-09-26T00:00:00",
          "2024-09-25T00:00:00",
          "2024-09-24T00:00:00",
          "2024-09-23T00:00:00",
          "2024-09-20T00:00:00",
          "2024-09-19T00:00:00",
          "2024-09-18T00:00:00",
          "2024-09-17T00:00:00",
          "2024-09-16T00:00:00",
          "2024-09-13T00:00:00",
          "2024-09-12T00:00:00",
          "2024-09-11T00:00:00",
          "2024-09-10T00:00:00",
          "2024-09-09T00:00:00",
          "2024-09-06T00:00:00",
          "2024-09-05T00:00:00",
          "2024-09-04T00:00:00",
          "2024-09-03T00:00:00",
          "2024-09-02T00:00:00",
          "2024-08-30T00:00:00",
          "2024-08-29T00:00:00",
          "2024-08-28T00:00:00",
          "2024-08-27T00:00:00",
          "2024-08-26T00:00:00",
          "2024-08-23T00:00:00",
          "2024-08-22T00:00:00",
          "2024-08-21T00:00:00",
          "2024-08-20T00:00:00",
          "2024-08-19T00:00:00",
          "2024-08-16T00:00:00",
          "2024-08-15T00:00:00",
          "2024-08-14T00:00:00",
          "2024-08-13T00:00:00",
          "2024-08-12T00:00:00",
          "2024-08-09T00:00:00",
          "2024-08-08T00:00:00",
          "2024-08-07T00:00:00",
          "2024-08-06T00:00:00",
          "2024-08-05T00:00:00",
          "2024-08-02T00:00:00",
          "2024-08-01T00:00:00",
          "2024-07-31T00:00:00",
          "2024-07-30T00:00:00",
          "2024-07-29T00:00:00",
          "2024-07-26T00:00:00",
          "2024-07-25T00:00:00",
          "2024-07-24T00:00:00",
          "2024-07-23T00:00:00",
          "2024-07-22T00:00:00",
          "2024-07-19T00:00:00",
          "2024-07-18T00:00:00",
          "2024-07-17T00:00:00",
          "2024-07-16T00:00:00",
          "2024-07-15T00:00:00",
          "2024-07-12T00:00:00",
          "2024-07-11T00:00:00",
          "2024-07-10T00:00:00",
          "2024-07-09T00:00:00",
          "2024-07-08T00:00:00",
          "2024-07-05T00:00:00",
          "2024-07-04T00:00:00",
          "2024-07-03T00:00:00",
          "2024-07-02T00:00:00",
          "2024-07-01T00:00:00",
          "2024-06-28T00:00:00",
          "2024-06-27T00:00:00",
          "2024-06-26T00:00:00",
          "2024-06-25T00:00:00",
          "2024-06-24T00:00:00",
          "2024-06-21T00:00:00",
          "2024-06-20T00:00:00",
          "2024-06-19T00:00:00",
          "2024-06-18T00:00:00",
          "2024-06-17T00:00:00",
          "2024-06-14T00:00:00",
          "2024-06-13T00:00:00",
          "2024-06-12T00:00:00",
          "2024-06-11T00:00:00",
          "2024-06-10T00:00:00",
          "2024-06-07T00:00:00",
          "2024-06-06T00:00:00",
          "2024-06-05T00:00:00",
          "2024-06-04T00:00:00",
          "2024-06-03T00:00:00",
          "2024-05-31T00:00:00",
          "2024-05-29T00:00:00",
          "2024-05-28T00:00:00",
          "2024-05-27T00:00:00",
          "2024-05-24T00:00:00",
          "2024-05-23T00:00:00",
          "2024-05-22T00:00:00",
          "2024-05-21T00:00:00",
          "2024-05-20T00:00:00",
          "2024-05-17T00:00:00",
          "2024-05-16T00:00:00",
          "2024-05-15T00:00:00",
          "2024-05-14T00:00:00",
          "2024-05-13T00:00:00",
          "2024-05-10T00:00:00",
          "2024-05-09T00:00:00",
          "2024-05-08T00:00:00",
          "2024-05-07T00:00:00",
          "2024-05-06T00:00:00",
          "2024-05-03T00:00:00",
          "2024-05-02T00:00:00",
          "2024-04-30T00:00:00",
          "2024-04-29T00:00:00"
         ],
         "y": [
          0.49561454690944856,
          0.43737210397556064,
          0.5644502190121738,
          0.2051441812778975,
          0.3142720502123439,
          0.2140422020413352,
          0.2498905981053676,
          0.20596938414026786,
          0.23204246043819107,
          0.25459800534298016,
          0.13687010556761872,
          0.11691936767788749,
          0.2599118116536982,
          0.2624259713846321,
          0.2708280368924027,
          0.131661533460309,
          0.29501835867984216,
          0.39937630500831456,
          0.32910173751047134,
          0.3240786276626338,
          0.37758657336595247,
          0.5318369932608433,
          0.4254452136150137,
          0.3844736831137655,
          0.346415368778158,
          0.38889039388849767,
          0.48197473545579955,
          0.4110750142743425,
          0.2646775665684481,
          0.1755796216569907,
          0.2603119100112111,
          0.3404086838014345,
          0.303156817717689,
          0.26083182949141664,
          0.19309121825782172,
          0.21824323479522048,
          0.2489059810536757,
          0.32810774315352526,
          0.3429905685147599,
          0.5389043556540983,
          0.253553998691345,
          0.31421995407204273,
          0.32432973105888535,
          0.3581140780441859,
          0.4723671652614602,
          0.3220739681838452,
          0.3236514393121643,
          0.34663938218145296,
          0.3219947820505875,
          0.3371109981203713,
          0.33291413305771006,
          0.34469307037980174,
          0.2565391075306013,
          0.3228345718322421,
          0.3361628483668902,
          0.5889103988063732,
          0.3107420157455375,
          0.3104409000545968,
          0.44480101358250573,
          0.32838802038834547,
          0.3683905626799922,
          0.2772817067529101,
          0.2506105667643296,
          0.33227960206884194,
          0.6256902738589903,
          1,
          0.3699524049662209,
          0.1850100649743062,
          0.2886897195560576,
          0.21849017050024802,
          0.2884750834580168,
          0.24659291242430434,
          0.3641249307121334,
          0.2645327392984109,
          0.11770810324204702,
          0.2650245268628538,
          0.3214206825844687,
          0.2756792294772465,
          0.3152900087938285,
          0.3288235441212632,
          0.3214206825844687,
          0.2314266840598314,
          0.3214206825844687,
          0.5197246406408242,
          0.2887907860682418,
          0.3562552877582406,
          0.2828007718564147,
          0.32159676753868666,
          0.2661487615705528,
          0.32119250148994966,
          0.3248475666934788,
          0.4255535735868401,
          0.244733080215553,
          0.3999389433235671,
          0.3566105834350945,
          0.35524149686798007,
          0.3485231786147428,
          0.2720512542666739,
          0.22045627883521368,
          0.3394365698234149,
          0.3228491587515265,
          0.21231990364297892,
          0.45624028406983386,
          0.2888595529734393,
          0.29807744403832614,
          0.33768197181807197,
          0.19402894878324256,
          0.33138667422408014,
          0.33775803218291167,
          0.28880641491033215,
          0.22319653581505453,
          0.3338362347410405,
          0.29861403428342803,
          0.32602077177306094,
          0.3988511759140789,
          0.3085821097686515,
          0.2861922305900201,
          0.29801597059277074,
          0.3191461650989202,
          0.37675095127552194,
          0.3887664050745809,
          0.31674244918542477,
          0.2965812428888769,
          0.29410459237895986,
          0.2709332710958111,
          0.3779543721164787,
          0.26101833367369476,
          0.4621021417765201,
          0.2884761253808228,
          0.36678391771310453,
          0.2702205958964912,
          0.2703039497209731,
          0.15679479538719937,
          0.24578958994086048,
          0.4070417310922269,
          0.2831998282911216,
          0.12692286853851573,
          0.36355395701443277,
          0.40132782642399595,
          0.2468065065995391,
          0.3161454274175735,
          0.28865429418065275,
          0.2774296597913654,
          0.4342713417048358,
          0.1984904622386337,
          0.47670885759415865,
          0.37125897616497394,
          0.2530372049795575,
          0.3556478467623291,
          0.3337164136183479,
          0.38997711937517976,
          0.28637144131265607,
          0.27396526646133845,
          0.31043360659495467,
          0.32451623524116346,
          0.22394567831258522,
          0.2562244468431823,
          0.35019025510437984,
          0.2938451536002601,
          0.3141324325563368,
          0.3160724928211519,
          0.3631173913587091,
          0.35743682822027084,
          0.3545058993669277,
          0.4911228176926828,
          0.46136967004388585,
          0.21752014036784048,
          0.2797739861049175,
          0.29310226263956557,
          0.45490141326409406,
          0.5672404882867038,
          0.45595479722098353,
          0.2737735526650302,
          0.4511036046361398,
          0.3487378147127836,
          0.39303620473366374,
          0.3583620556720194,
          0.4171723465351899,
          0.33759549222517204,
          0.32989255692024294,
          0.3322139609320625,
          0.2605213364952218,
          0.3312064215786381,
          0.30231494409042226,
          0.34629658957827136,
          0.22921884963386835,
          0.20870547342888462,
          0.27761512205083755,
          0.27613871743470275,
          0.2871184999645746,
          0.5263158443117267,
          0.4520892636106376,
          0.3311324450594105,
          0.3329693549664293,
          0.32714396455795386,
          0.3364795928999213,
          0.32633022284644975,
          0.33946053404795345,
          0.31814070959110785,
          0.4156219653998275,
          0.3199651164244544,
          0.36171808903021996,
          0.3898197890314703,
          0.42845011898758456,
          0.2985348481501703,
          0.38462892961186296,
          0.3164423754172901,
          0.3081163702743591,
          0.3293809728224856,
          0.36078661004163526,
          0.4704958719018425,
          0.38578963161777274,
          0.34542970980366006,
          0.2619987830341626,
          0.34967658716101047,
          0.3437647171596351,
          0.31257788372975026,
          0,
          0.22167845428667884,
          0.2944890618943824,
          0.18017658507716483,
          0.3107284707490592,
          0.2579488290871506,
          0.23066399656582243,
          0.322876248744483,
          0.2371207921947479,
          0.22895524316394453,
          0.23492337699684507,
          0.3012636439791449,
          0.31880233057293256,
          0.24257525808427907,
          0.391472278601823,
          0.2969219516464464,
          0.29077981670494,
          0.4084816684101509,
          0.32614892827820174,
          0.2401111106480343,
          0.3199849129577688,
          0.3826732405049575,
          0.2567735401619565,
          0.2515837226651552,
          0.3974893828066067,
          0.3325994723702911,
          0.30806427413405796,
          0.42855847895941085,
          0.38431843661566806,
          0.17568381393759303,
          0.4223465351899009
         ]
        },
        {
         "line": {
          "color": "red"
         },
         "mode": "lines",
         "name": "Indice fluxo Estrangeiro+Institucional",
         "type": "scatter",
         "x": [
          "2025-04-23T00:00:00",
          "2025-04-22T00:00:00",
          "2025-04-17T00:00:00",
          "2025-04-16T00:00:00",
          "2025-04-15T00:00:00",
          "2025-04-14T00:00:00",
          "2025-04-11T00:00:00",
          "2025-04-10T00:00:00",
          "2025-04-09T00:00:00",
          "2025-04-08T00:00:00",
          "2025-04-07T00:00:00",
          "2025-04-04T00:00:00",
          "2025-04-03T00:00:00",
          "2025-04-02T00:00:00",
          "2025-04-01T00:00:00",
          "2025-03-31T00:00:00",
          "2025-03-28T00:00:00",
          "2025-03-27T00:00:00",
          "2025-03-26T00:00:00",
          "2025-03-25T00:00:00",
          "2025-03-24T00:00:00",
          "2025-03-21T00:00:00",
          "2025-03-20T00:00:00",
          "2025-03-19T00:00:00",
          "2025-03-18T00:00:00",
          "2025-03-17T00:00:00",
          "2025-03-14T00:00:00",
          "2025-03-13T00:00:00",
          "2025-03-12T00:00:00",
          "2025-03-11T00:00:00",
          "2025-03-10T00:00:00",
          "2025-03-07T00:00:00",
          "2025-03-06T00:00:00",
          "2025-03-05T00:00:00",
          "2025-02-28T00:00:00",
          "2025-02-27T00:00:00",
          "2025-02-26T00:00:00",
          "2025-02-25T00:00:00",
          "2025-02-24T00:00:00",
          "2025-02-21T00:00:00",
          "2025-02-20T00:00:00",
          "2025-02-19T00:00:00",
          "2025-02-18T00:00:00",
          "2025-02-17T00:00:00",
          "2025-02-14T00:00:00",
          "2025-02-13T00:00:00",
          "2025-02-12T00:00:00",
          "2025-02-11T00:00:00",
          "2025-02-10T00:00:00",
          "2025-02-07T00:00:00",
          "2025-02-06T00:00:00",
          "2025-02-05T00:00:00",
          "2025-02-04T00:00:00",
          "2025-02-03T00:00:00",
          "2025-01-31T00:00:00",
          "2025-01-30T00:00:00",
          "2025-01-29T00:00:00",
          "2025-01-28T00:00:00",
          "2025-01-27T00:00:00",
          "2025-01-24T00:00:00",
          "2025-01-23T00:00:00",
          "2025-01-22T00:00:00",
          "2025-01-21T00:00:00",
          "2025-01-20T00:00:00",
          "2025-01-17T00:00:00",
          "2025-01-16T00:00:00",
          "2025-01-15T00:00:00",
          "2025-01-14T00:00:00",
          "2025-01-13T00:00:00",
          "2025-01-10T00:00:00",
          "2025-01-09T00:00:00",
          "2025-01-08T00:00:00",
          "2025-01-07T00:00:00",
          "2025-01-06T00:00:00",
          "2025-01-03T00:00:00",
          "2025-01-02T00:00:00",
          "2024-12-31T00:00:00",
          "2024-12-30T00:00:00",
          "2024-12-27T00:00:00",
          "2024-12-26T00:00:00",
          "2024-12-24T00:00:00",
          "2024-12-23T00:00:00",
          "2024-12-20T00:00:00",
          "2024-12-19T00:00:00",
          "2024-12-18T00:00:00",
          "2024-12-17T00:00:00",
          "2024-12-16T00:00:00",
          "2024-12-13T00:00:00",
          "2024-12-12T00:00:00",
          "2024-12-11T00:00:00",
          "2024-12-10T00:00:00",
          "2024-12-09T00:00:00",
          "2024-12-06T00:00:00",
          "2024-12-05T00:00:00",
          "2024-12-04T00:00:00",
          "2024-12-03T00:00:00",
          "2024-12-02T00:00:00",
          "2024-11-29T00:00:00",
          "2024-11-28T00:00:00",
          "2024-11-27T00:00:00",
          "2024-11-26T00:00:00",
          "2024-11-25T00:00:00",
          "2024-11-22T00:00:00",
          "2024-11-21T00:00:00",
          "2024-11-19T00:00:00",
          "2024-11-18T00:00:00",
          "2024-11-14T00:00:00",
          "2024-11-13T00:00:00",
          "2024-11-12T00:00:00",
          "2024-11-11T00:00:00",
          "2024-11-08T00:00:00",
          "2024-11-07T00:00:00",
          "2024-11-06T00:00:00",
          "2024-11-05T00:00:00",
          "2024-11-04T00:00:00",
          "2024-11-01T00:00:00",
          "2024-10-31T00:00:00",
          "2024-10-30T00:00:00",
          "2024-10-29T00:00:00",
          "2024-10-28T00:00:00",
          "2024-10-25T00:00:00",
          "2024-10-24T00:00:00",
          "2024-10-23T00:00:00",
          "2024-10-22T00:00:00",
          "2024-10-21T00:00:00",
          "2024-10-18T00:00:00",
          "2024-10-17T00:00:00",
          "2024-10-16T00:00:00",
          "2024-10-15T00:00:00",
          "2024-10-14T00:00:00",
          "2024-10-11T00:00:00",
          "2024-10-10T00:00:00",
          "2024-10-09T00:00:00",
          "2024-10-08T00:00:00",
          "2024-10-07T00:00:00",
          "2024-10-04T00:00:00",
          "2024-10-03T00:00:00",
          "2024-10-02T00:00:00",
          "2024-10-01T00:00:00",
          "2024-09-30T00:00:00",
          "2024-09-27T00:00:00",
          "2024-09-26T00:00:00",
          "2024-09-25T00:00:00",
          "2024-09-24T00:00:00",
          "2024-09-23T00:00:00",
          "2024-09-20T00:00:00",
          "2024-09-19T00:00:00",
          "2024-09-18T00:00:00",
          "2024-09-17T00:00:00",
          "2024-09-16T00:00:00",
          "2024-09-13T00:00:00",
          "2024-09-12T00:00:00",
          "2024-09-11T00:00:00",
          "2024-09-10T00:00:00",
          "2024-09-09T00:00:00",
          "2024-09-06T00:00:00",
          "2024-09-05T00:00:00",
          "2024-09-04T00:00:00",
          "2024-09-03T00:00:00",
          "2024-09-02T00:00:00",
          "2024-08-30T00:00:00",
          "2024-08-29T00:00:00",
          "2024-08-28T00:00:00",
          "2024-08-27T00:00:00",
          "2024-08-26T00:00:00",
          "2024-08-23T00:00:00",
          "2024-08-22T00:00:00",
          "2024-08-21T00:00:00",
          "2024-08-20T00:00:00",
          "2024-08-19T00:00:00",
          "2024-08-16T00:00:00",
          "2024-08-15T00:00:00",
          "2024-08-14T00:00:00",
          "2024-08-13T00:00:00",
          "2024-08-12T00:00:00",
          "2024-08-09T00:00:00",
          "2024-08-08T00:00:00",
          "2024-08-07T00:00:00",
          "2024-08-06T00:00:00",
          "2024-08-05T00:00:00",
          "2024-08-02T00:00:00",
          "2024-08-01T00:00:00",
          "2024-07-31T00:00:00",
          "2024-07-30T00:00:00",
          "2024-07-29T00:00:00",
          "2024-07-26T00:00:00",
          "2024-07-25T00:00:00",
          "2024-07-24T00:00:00",
          "2024-07-23T00:00:00",
          "2024-07-22T00:00:00",
          "2024-07-19T00:00:00",
          "2024-07-18T00:00:00",
          "2024-07-17T00:00:00",
          "2024-07-16T00:00:00",
          "2024-07-15T00:00:00",
          "2024-07-12T00:00:00",
          "2024-07-11T00:00:00",
          "2024-07-10T00:00:00",
          "2024-07-09T00:00:00",
          "2024-07-08T00:00:00",
          "2024-07-05T00:00:00",
          "2024-07-04T00:00:00",
          "2024-07-03T00:00:00",
          "2024-07-02T00:00:00",
          "2024-07-01T00:00:00",
          "2024-06-28T00:00:00",
          "2024-06-27T00:00:00",
          "2024-06-26T00:00:00",
          "2024-06-25T00:00:00",
          "2024-06-24T00:00:00",
          "2024-06-21T00:00:00",
          "2024-06-20T00:00:00",
          "2024-06-19T00:00:00",
          "2024-06-18T00:00:00",
          "2024-06-17T00:00:00",
          "2024-06-14T00:00:00",
          "2024-06-13T00:00:00",
          "2024-06-12T00:00:00",
          "2024-06-11T00:00:00",
          "2024-06-10T00:00:00",
          "2024-06-07T00:00:00",
          "2024-06-06T00:00:00",
          "2024-06-05T00:00:00",
          "2024-06-04T00:00:00",
          "2024-06-03T00:00:00",
          "2024-05-31T00:00:00",
          "2024-05-29T00:00:00",
          "2024-05-28T00:00:00",
          "2024-05-27T00:00:00",
          "2024-05-24T00:00:00",
          "2024-05-23T00:00:00",
          "2024-05-22T00:00:00",
          "2024-05-21T00:00:00",
          "2024-05-20T00:00:00",
          "2024-05-17T00:00:00",
          "2024-05-16T00:00:00",
          "2024-05-15T00:00:00",
          "2024-05-14T00:00:00",
          "2024-05-13T00:00:00",
          "2024-05-10T00:00:00",
          "2024-05-09T00:00:00",
          "2024-05-08T00:00:00",
          "2024-05-07T00:00:00",
          "2024-05-06T00:00:00",
          "2024-05-03T00:00:00",
          "2024-05-02T00:00:00",
          "2024-04-30T00:00:00",
          "2024-04-29T00:00:00"
         ],
         "y": [
          0.3875932098274997,
          0.3656656147818233,
          0.4715856103387605,
          0.3094061028862167,
          0.3335822271315324,
          0.344592692241533,
          0.3488274865146101,
          0.29388469480555046,
          0.353304489421885,
          0.27792360863095816,
          0.30323055407924854,
          0.24199110924612183,
          0.31604061391403754,
          0.3342024046534913,
          0.3598047829262969,
          0.2932591177280522,
          0.3882696970000841,
          0.37383128548761463,
          0.4115039844863056,
          0.36441291789667263,
          0.30856454358714075,
          0.42606350031587403,
          0.3493828693700956,
          0.376397617099004,
          0.37042108048191813,
          0.3923016222578936,
          0.40656801935817805,
          0.3675014636652338,
          0.3369338083913722,
          0.3196274615223816,
          0.31274842776513173,
          0.34683582188563283,
          0.3350115666193306,
          0.3376774043256611,
          0.2865929807320718,
          0.3039463808707632,
          0.2832298289960761,
          0.30629133070503545,
          0.3670139609365298,
          0.41266720302251697,
          0.29938915599547367,
          0.3923872437814476,
          0.21300475238023986,
          0.35632361233351056,
          0.33605753766382834,
          0.3598811480689261,
          0.2720319221723492,
          0.33076057367963513,
          0.3338660894798917,
          0.30875429939609833,
          0.3424367268511413,
          0.3453347454456678,
          0.32767897019676756,
          0.32968451939713195,
          0.33037103431571824,
          0.4415872224917715,
          0.33017125076075887,
          0.33541884738002,
          0.3776533994444629,
          0.32711124550004905,
          0.33378201068649177,
          0.32568344874240496,
          0.3301519666338323,
          0.3373804287709918,
          0.38019813283369447,
          1,
          0.37916527499550684,
          0.3378262777855343,
          0.32865860384463785,
          0.3245695975711257,
          0.3378039081982995,
          0.30234425560570294,
          0.34852048321393897,
          0.34766812480378406,
          0.3009951380859193,
          0.31711435410130956,
          0.3519777414893363,
          0.3200532550449205,
          0.29885845682245415,
          0.32763963057783735,
          0.3519777414893363,
          0.3339501682732916,
          0.3519777414893363,
          0.35820497175646776,
          0.22940165982337288,
          0.3498850280352638,
          0.3006850493249399,
          0.29546676457860716,
          0.23171112686410014,
          0.35354438396085175,
          0.3482049948974201,
          0.3598364088944565,
          0.27817738774131195,
          0.374299504089392,
          0.33985496793821063,
          0.3467609994731577,
          0.3287797081617368,
          0.318876151937322,
          0.2613508299502547,
          0.28917011145454,
          0.32838322651212626,
          0.33422631697088023,
          0.3894429432822973,
          0.3245695975711257,
          0.3261539814394136,
          0.33189910853338045,
          0.2515652925826306,
          0.3174846093382999,
          0.324110635350273,
          0.3049915805501839,
          0.28441464575444525,
          0.33024915863354226,
          0.35970142000597044,
          0.3581116365821431,
          0.40262171562392257,
          0.3132097040812155,
          0.32917079025580787,
          0.35797587632857997,
          0.32798674486251583,
          0.3776449144286152,
          0.3364092801389692,
          0.33761415238934195,
          0.3246737318565292,
          0.33227322059575615,
          0.32646638429562413,
          0.33099429729798535,
          0.31820737841550817,
          0.3540781685941795,
          0.33613853099692,
          0.36796968226701116,
          0.31415462630061797,
          0.34076980691960757,
          0.29398497226556874,
          0.33241052357947337,
          0.34500845801807,
          0.3497191845436952,
          0.30305545420675517,
          0.35423552706990036,
          0.35755625372665756,
          0.3278131877201766,
          0.33863389702121954,
          0.37033005940282465,
          0.31581074712107277,
          0.38344249434782246,
          0.3351010449682699,
          0.41513634263419635,
          0.32775764943462804,
          0.31734962044981385,
          0.3367479094078,
          0.33845108349795555,
          0.3870401410672454,
          0.3325077155791834,
          0.3641761088180142,
          0.33262033488043463,
          0.33009565698320664,
          0.27986513452992634,
          0.34292808640523054,
          0.35820882858185304,
          0.2871375644764784,
          0.33133678339220135,
          0.31337091938232176,
          0.29547910641984015,
          0.34231947935942764,
          0.3536222918336351,
          0.40469591631614554,
          0.38105511943431175,
          0.2144649464711205,
          0.2891423423117658,
          0.3433955336419308,
          0.3914600629588176,
          0.3934995522225728,
          0.32686132321508055,
          0,
          0.3866721999254862,
          0.3570880351248802,
          0.3968519048474896,
          0.3763274228769912,
          0.36049052647980606,
          0.3311956235830988,
          0.3620687394274774,
          0.2997748385340053,
          0.32348197281246654,
          0.3588683457227421,
          0.3191600142856813,
          0.3191769843173766,
          0.3364995298529856,
          0.3397408059068052,
          0.31924023625369585,
          0.30572900556385635,
          0.32834620098842726,
          0.4510495578921061,
          0.30405668607678327,
          0.3528462985661095,
          0.31732339403719373,
          0.3579527353762681,
          0.36414062602446934,
          0.37110296721004193,
          0.34496834703406276,
          0.3449259219548243,
          0.3335837698616866,
          0.3326157066899722,
          0.34166073358361565,
          0.36205331212593617,
          0.333930884146365,
          0.33899952406774747,
          0.298209738792644,
          0.37720600769976625,
          0.33647793163082784,
          0.32286950894127836,
          0.3681154702665761,
          0.37799897099898727,
          0.3325532261187301,
          0.3528015593916399,
          0.3230785488771625,
          0.3348194967151419,
          0.3366430037573193,
          0.33278849246723435,
          0.20896665620181382,
          0.33750307581824485,
          0.3338167221149597,
          0.3337935811626478,
          0.343812070783545,
          0.29661609854343135,
          0.3131371957639716,
          0.33487734909592165,
          0.29440073804210576,
          0.32531087941018344,
          0.31842490336724005,
          0.34632209274430875,
          0.32288956443328193,
          0.3011262701490201,
          0.2789256118660633,
          0.3184387879386271,
          0.31194003716436947,
          0.4004333529002942,
          0.32552686163176114,
          0.3406463885072775,
          0.3506139680330885,
          0.35479399538569417,
          0.2974892838106669,
          0.32522602925170646,
          0.37216436555608096,
          0.36384442183487703,
          0.33522832020598536,
          0.39100341483319623,
          0.3504604663827529,
          0.2909535075127102,
          0.35684274103037406
         ]
        }
       ],
       "layout": {
        "height": 400,
        "legend": {
         "x": 0.01,
         "xanchor": "left",
         "y": 0.99,
         "yanchor": "top"
        },
        "margin": {
         "b": 40,
         "l": 40,
         "r": 40,
         "t": 60
        },
        "template": {
         "data": {
          "bar": [
           {
            "error_x": {
             "color": "#2a3f5f"
            },
            "error_y": {
             "color": "#2a3f5f"
            },
            "marker": {
             "line": {
              "color": "white",
              "width": 0.5
             },
             "pattern": {
              "fillmode": "overlay",
              "size": 10,
              "solidity": 0.2
             }
            },
            "type": "bar"
           }
          ],
          "barpolar": [
           {
            "marker": {
             "line": {
              "color": "white",
              "width": 0.5
             },
             "pattern": {
              "fillmode": "overlay",
              "size": 10,
              "solidity": 0.2
             }
            },
            "type": "barpolar"
           }
          ],
          "carpet": [
           {
            "aaxis": {
             "endlinecolor": "#2a3f5f",
             "gridcolor": "#C8D4E3",
             "linecolor": "#C8D4E3",
             "minorgridcolor": "#C8D4E3",
             "startlinecolor": "#2a3f5f"
            },
            "baxis": {
             "endlinecolor": "#2a3f5f",
             "gridcolor": "#C8D4E3",
             "linecolor": "#C8D4E3",
             "minorgridcolor": "#C8D4E3",
             "startlinecolor": "#2a3f5f"
            },
            "type": "carpet"
           }
          ],
          "choropleth": [
           {
            "colorbar": {
             "outlinewidth": 0,
             "ticks": ""
            },
            "type": "choropleth"
           }
          ],
          "contour": [
           {
            "colorbar": {
             "outlinewidth": 0,
             "ticks": ""
            },
            "colorscale": [
             [
              0,
              "#0d0887"
             ],
             [
              0.1111111111111111,
              "#46039f"
             ],
             [
              0.2222222222222222,
              "#7201a8"
             ],
             [
              0.3333333333333333,
              "#9c179e"
             ],
             [
              0.4444444444444444,
              "#bd3786"
             ],
             [
              0.5555555555555556,
              "#d8576b"
             ],
             [
              0.6666666666666666,
              "#ed7953"
             ],
             [
              0.7777777777777778,
              "#fb9f3a"
             ],
             [
              0.8888888888888888,
              "#fdca26"
             ],
             [
              1,
              "#f0f921"
             ]
            ],
            "type": "contour"
           }
          ],
          "contourcarpet": [
           {
            "colorbar": {
             "outlinewidth": 0,
             "ticks": ""
            },
            "type": "contourcarpet"
           }
          ],
          "heatmap": [
           {
            "colorbar": {
             "outlinewidth": 0,
             "ticks": ""
            },
            "colorscale": [
             [
              0,
              "#0d0887"
             ],
             [
              0.1111111111111111,
              "#46039f"
             ],
             [
              0.2222222222222222,
              "#7201a8"
             ],
             [
              0.3333333333333333,
              "#9c179e"
             ],
             [
              0.4444444444444444,
              "#bd3786"
             ],
             [
              0.5555555555555556,
              "#d8576b"
             ],
             [
              0.6666666666666666,
              "#ed7953"
             ],
             [
              0.7777777777777778,
              "#fb9f3a"
             ],
             [
              0.8888888888888888,
              "#fdca26"
             ],
             [
              1,
              "#f0f921"
             ]
            ],
            "type": "heatmap"
           }
          ],
          "heatmapgl": [
           {
            "colorbar": {
             "outlinewidth": 0,
             "ticks": ""
            },
            "colorscale": [
             [
              0,
              "#0d0887"
             ],
             [
              0.1111111111111111,
              "#46039f"
             ],
             [
              0.2222222222222222,
              "#7201a8"
             ],
             [
              0.3333333333333333,
              "#9c179e"
             ],
             [
              0.4444444444444444,
              "#bd3786"
             ],
             [
              0.5555555555555556,
              "#d8576b"
             ],
             [
              0.6666666666666666,
              "#ed7953"
             ],
             [
              0.7777777777777778,
              "#fb9f3a"
             ],
             [
              0.8888888888888888,
              "#fdca26"
             ],
             [
              1,
              "#f0f921"
             ]
            ],
            "type": "heatmapgl"
           }
          ],
          "histogram": [
           {
            "marker": {
             "pattern": {
              "fillmode": "overlay",
              "size": 10,
              "solidity": 0.2
             }
            },
            "type": "histogram"
           }
          ],
          "histogram2d": [
           {
            "colorbar": {
             "outlinewidth": 0,
             "ticks": ""
            },
            "colorscale": [
             [
              0,
              "#0d0887"
             ],
             [
              0.1111111111111111,
              "#46039f"
             ],
             [
              0.2222222222222222,
              "#7201a8"
             ],
             [
              0.3333333333333333,
              "#9c179e"
             ],
             [
              0.4444444444444444,
              "#bd3786"
             ],
             [
              0.5555555555555556,
              "#d8576b"
             ],
             [
              0.6666666666666666,
              "#ed7953"
             ],
             [
              0.7777777777777778,
              "#fb9f3a"
             ],
             [
              0.8888888888888888,
              "#fdca26"
             ],
             [
              1,
              "#f0f921"
             ]
            ],
            "type": "histogram2d"
           }
          ],
          "histogram2dcontour": [
           {
            "colorbar": {
             "outlinewidth": 0,
             "ticks": ""
            },
            "colorscale": [
             [
              0,
              "#0d0887"
             ],
             [
              0.1111111111111111,
              "#46039f"
             ],
             [
              0.2222222222222222,
              "#7201a8"
             ],
             [
              0.3333333333333333,
              "#9c179e"
             ],
             [
              0.4444444444444444,
              "#bd3786"
             ],
             [
              0.5555555555555556,
              "#d8576b"
             ],
             [
              0.6666666666666666,
              "#ed7953"
             ],
             [
              0.7777777777777778,
              "#fb9f3a"
             ],
             [
              0.8888888888888888,
              "#fdca26"
             ],
             [
              1,
              "#f0f921"
             ]
            ],
            "type": "histogram2dcontour"
           }
          ],
          "mesh3d": [
           {
            "colorbar": {
             "outlinewidth": 0,
             "ticks": ""
            },
            "type": "mesh3d"
           }
          ],
          "parcoords": [
           {
            "line": {
             "colorbar": {
              "outlinewidth": 0,
              "ticks": ""
             }
            },
            "type": "parcoords"
           }
          ],
          "pie": [
           {
            "automargin": true,
            "type": "pie"
           }
          ],
          "scatter": [
           {
            "fillpattern": {
             "fillmode": "overlay",
             "size": 10,
             "solidity": 0.2
            },
            "type": "scatter"
           }
          ],
          "scatter3d": [
           {
            "line": {
             "colorbar": {
              "outlinewidth": 0,
              "ticks": ""
             }
            },
            "marker": {
             "colorbar": {
              "outlinewidth": 0,
              "ticks": ""
             }
            },
            "type": "scatter3d"
           }
          ],
          "scattercarpet": [
           {
            "marker": {
             "colorbar": {
              "outlinewidth": 0,
              "ticks": ""
             }
            },
            "type": "scattercarpet"
           }
          ],
          "scattergeo": [
           {
            "marker": {
             "colorbar": {
              "outlinewidth": 0,
              "ticks": ""
             }
            },
            "type": "scattergeo"
           }
          ],
          "scattergl": [
           {
            "marker": {
             "colorbar": {
              "outlinewidth": 0,
              "ticks": ""
             }
            },
            "type": "scattergl"
           }
          ],
          "scattermapbox": [
           {
            "marker": {
             "colorbar": {
              "outlinewidth": 0,
              "ticks": ""
             }
            },
            "type": "scattermapbox"
           }
          ],
          "scatterpolar": [
           {
            "marker": {
             "colorbar": {
              "outlinewidth": 0,
              "ticks": ""
             }
            },
            "type": "scatterpolar"
           }
          ],
          "scatterpolargl": [
           {
            "marker": {
             "colorbar": {
              "outlinewidth": 0,
              "ticks": ""
             }
            },
            "type": "scatterpolargl"
           }
          ],
          "scatterternary": [
           {
            "marker": {
             "colorbar": {
              "outlinewidth": 0,
              "ticks": ""
             }
            },
            "type": "scatterternary"
           }
          ],
          "surface": [
           {
            "colorbar": {
             "outlinewidth": 0,
             "ticks": ""
            },
            "colorscale": [
             [
              0,
              "#0d0887"
             ],
             [
              0.1111111111111111,
              "#46039f"
             ],
             [
              0.2222222222222222,
              "#7201a8"
             ],
             [
              0.3333333333333333,
              "#9c179e"
             ],
             [
              0.4444444444444444,
              "#bd3786"
             ],
             [
              0.5555555555555556,
              "#d8576b"
             ],
             [
              0.6666666666666666,
              "#ed7953"
             ],
             [
              0.7777777777777778,
              "#fb9f3a"
             ],
             [
              0.8888888888888888,
              "#fdca26"
             ],
             [
              1,
              "#f0f921"
             ]
            ],
            "type": "surface"
           }
          ],
          "table": [
           {
            "cells": {
             "fill": {
              "color": "#EBF0F8"
             },
             "line": {
              "color": "white"
             }
            },
            "header": {
             "fill": {
              "color": "#C8D4E3"
             },
             "line": {
              "color": "white"
             }
            },
            "type": "table"
           }
          ]
         },
         "layout": {
          "annotationdefaults": {
           "arrowcolor": "#2a3f5f",
           "arrowhead": 0,
           "arrowwidth": 1
          },
          "autotypenumbers": "strict",
          "coloraxis": {
           "colorbar": {
            "outlinewidth": 0,
            "ticks": ""
           }
          },
          "colorscale": {
           "diverging": [
            [
             0,
             "#8e0152"
            ],
            [
             0.1,
             "#c51b7d"
            ],
            [
             0.2,
             "#de77ae"
            ],
            [
             0.3,
             "#f1b6da"
            ],
            [
             0.4,
             "#fde0ef"
            ],
            [
             0.5,
             "#f7f7f7"
            ],
            [
             0.6,
             "#e6f5d0"
            ],
            [
             0.7,
             "#b8e186"
            ],
            [
             0.8,
             "#7fbc41"
            ],
            [
             0.9,
             "#4d9221"
            ],
            [
             1,
             "#276419"
            ]
           ],
           "sequential": [
            [
             0,
             "#0d0887"
            ],
            [
             0.1111111111111111,
             "#46039f"
            ],
            [
             0.2222222222222222,
             "#7201a8"
            ],
            [
             0.3333333333333333,
             "#9c179e"
            ],
            [
             0.4444444444444444,
             "#bd3786"
            ],
            [
             0.5555555555555556,
             "#d8576b"
            ],
            [
             0.6666666666666666,
             "#ed7953"
            ],
            [
             0.7777777777777778,
             "#fb9f3a"
            ],
            [
             0.8888888888888888,
             "#fdca26"
            ],
            [
             1,
             "#f0f921"
            ]
           ],
           "sequentialminus": [
            [
             0,
             "#0d0887"
            ],
            [
             0.1111111111111111,
             "#46039f"
            ],
            [
             0.2222222222222222,
             "#7201a8"
            ],
            [
             0.3333333333333333,
             "#9c179e"
            ],
            [
             0.4444444444444444,
             "#bd3786"
            ],
            [
             0.5555555555555556,
             "#d8576b"
            ],
            [
             0.6666666666666666,
             "#ed7953"
            ],
            [
             0.7777777777777778,
             "#fb9f3a"
            ],
            [
             0.8888888888888888,
             "#fdca26"
            ],
            [
             1,
             "#f0f921"
            ]
           ]
          },
          "colorway": [
           "#636efa",
           "#EF553B",
           "#00cc96",
           "#ab63fa",
           "#FFA15A",
           "#19d3f3",
           "#FF6692",
           "#B6E880",
           "#FF97FF",
           "#FECB52"
          ],
          "font": {
           "color": "#2a3f5f"
          },
          "geo": {
           "bgcolor": "white",
           "lakecolor": "white",
           "landcolor": "white",
           "showlakes": true,
           "showland": true,
           "subunitcolor": "#C8D4E3"
          },
          "hoverlabel": {
           "align": "left"
          },
          "hovermode": "closest",
          "mapbox": {
           "style": "light"
          },
          "paper_bgcolor": "white",
          "plot_bgcolor": "white",
          "polar": {
           "angularaxis": {
            "gridcolor": "#EBF0F8",
            "linecolor": "#EBF0F8",
            "ticks": ""
           },
           "bgcolor": "white",
           "radialaxis": {
            "gridcolor": "#EBF0F8",
            "linecolor": "#EBF0F8",
            "ticks": ""
           }
          },
          "scene": {
           "xaxis": {
            "backgroundcolor": "white",
            "gridcolor": "#DFE8F3",
            "gridwidth": 2,
            "linecolor": "#EBF0F8",
            "showbackground": true,
            "ticks": "",
            "zerolinecolor": "#EBF0F8"
           },
           "yaxis": {
            "backgroundcolor": "white",
            "gridcolor": "#DFE8F3",
            "gridwidth": 2,
            "linecolor": "#EBF0F8",
            "showbackground": true,
            "ticks": "",
            "zerolinecolor": "#EBF0F8"
           },
           "zaxis": {
            "backgroundcolor": "white",
            "gridcolor": "#DFE8F3",
            "gridwidth": 2,
            "linecolor": "#EBF0F8",
            "showbackground": true,
            "ticks": "",
            "zerolinecolor": "#EBF0F8"
           }
          },
          "shapedefaults": {
           "line": {
            "color": "#2a3f5f"
           }
          },
          "ternary": {
           "aaxis": {
            "gridcolor": "#DFE8F3",
            "linecolor": "#A2B1C6",
            "ticks": ""
           },
           "baxis": {
            "gridcolor": "#DFE8F3",
            "linecolor": "#A2B1C6",
            "ticks": ""
           },
           "bgcolor": "white",
           "caxis": {
            "gridcolor": "#DFE8F3",
            "linecolor": "#A2B1C6",
            "ticks": ""
           }
          },
          "title": {
           "x": 0.05
          },
          "xaxis": {
           "automargin": true,
           "gridcolor": "#EBF0F8",
           "linecolor": "#EBF0F8",
           "ticks": "",
           "title": {
            "standoff": 15
           },
           "zerolinecolor": "#EBF0F8",
           "zerolinewidth": 2
          },
          "yaxis": {
           "automargin": true,
           "gridcolor": "#EBF0F8",
           "linecolor": "#EBF0F8",
           "ticks": "",
           "title": {
            "standoff": 15
           },
           "zerolinecolor": "#EBF0F8",
           "zerolinewidth": 2
          }
         }
        },
        "title": {
         "text": "Indices para fluxo"
        },
        "width": 800,
        "xaxis": {
         "title": {
          "text": "Data"
         }
        },
        "yaxis": {
         "title": {
          "text": "Índice de Sentimento"
         }
        }
       }
      }
     },
     "metadata": {},
     "output_type": "display_data"
    }
   ],
   "source": [
    "fig = go.Figure()\n",
    "\n",
    "# Linha principal (o seu índice de sentimento)\n",
    "fig.add_trace(go.Scatter( x=fluxo.Data, y=fluxo['Indice de fluxo'], mode='lines', name='Indice de fluxo', line=dict(color='blue'),\n",
    "                         visible='legendonly'))\n",
    "fig.add_trace(go.Scatter( x=fluxo.Data, y=fluxo['Indice_Estrangeiro'], mode='lines', name='Indice fluxo Estrangeiro', line=dict(color='black')))\n",
    "fig.add_trace(go.Scatter( x=fluxo.Data, y=fluxo['Indice_Est_Inst'], mode='lines', name='Indice fluxo Estrangeiro+Institucional', line=dict(color='red')))\n",
    "\n",
    "# Layout\n",
    "fig.update_layout(\n",
    "    title=f'Indices para fluxo',\n",
    "    width=800,\n",
    "    height=400,\n",
    "    legend=dict(yanchor=\"top\", y=0.99, xanchor=\"left\", x=0.01),\n",
    "    margin=dict(l=40, r=40, t=60, b=40),\n",
    "    xaxis_title='Data',\n",
    "    yaxis_title='Índice de Sentimento',\n",
    "    template='plotly_white'\n",
    ")\n",
    "\n",
    "fig.show()"
   ]
  },
  {
   "cell_type": "markdown",
   "id": "dee6187c",
   "metadata": {},
   "source": [
    "# VXBR  S&P/B3 Ibovespa VIX\n",
    "\n",
    "Em termos percentuais, o VIX representa a expectativa anualizada da variação do índice. Assim, um VIX de 24,83 sugere que o mercado espera uma oscilação anualizada de cerca de 24,83% no índice, o que pode ser interpretado como um cenário de incerteza e possível turbulência nos próximos meses.\n",
    "\n",
    "De forma prática:\n",
    "\n",
    "$<$ 20 indicam baixa volatilidade, com investidores mais confiantes e dispostos a correr riscos;\n",
    "\n",
    "Entre 20 e 30 pontos o mercado está em uma faixa de volatilidade média, sinalizando um risco moderado e maior incerteza;\n",
    "\n",
    "$>$ 30 pontos, o índice sinaliza alta volatilidade e maior nervosismo ou medo dos investidores, indicando oscilações fortes nos preços dos ativo\n",
    "\n",
    "A S&P Dow Jones Indices (S&P DJI) e a B3 lançaram o S&P/B3 Ibovespa VIX, o primeiro índice de volatilidade implícita do mercado brasileiro, baseado na metodologia do famoso índice VIX da Cboe Global Markets. O novo índice mede a volatilidade implícita de curto prazo nas opções do Ibovespa, oferecendo uma visão de 30 dias sobre a expectativa de volatilidade no Brasil ele serve como referência para avaliar o sentimento do mercado e o risco percebido."
   ]
  },
  {
   "cell_type": "code",
   "execution_count": 14,
   "id": "3a7a76fc",
   "metadata": {},
   "outputs": [],
   "source": [
    "driver = webdriver.Chrome(options=chrome_options)\n",
    "driver.get(\"https://www.spglobal.com/spdji/pt/indices/indicators/sp-b3-ibovespa-vix/#overview\")\n",
    "time.sleep(2)\n",
    "botao1 = driver.find_element(By.ID, \"onetrust-accept-btn-handler\")\n",
    "botao1.click()\n",
    "time.sleep(2)\n",
    "botao2 =  driver.find_element(By.CLASS_NAME, \"optanon-allow-all\")\n",
    "botao2.click()\n",
    "time.sleep(5)\n",
    "driver.execute_script(\"window.scrollBy(0, 500);\")  # Scroll para o botão aparecer\n",
    "exportar = driver.find_element(By.XPATH, \"//a[contains(text(), 'Exportar')]\")\n",
    "exportar.click()\n",
    "driver.quit()\n"
   ]
  },
  {
   "cell_type": "code",
   "execution_count": 15,
   "id": "f81edcac",
   "metadata": {},
   "outputs": [
    {
     "data": {
      "text/html": [
       "<div>\n",
       "<style scoped>\n",
       "    .dataframe tbody tr th:only-of-type {\n",
       "        vertical-align: middle;\n",
       "    }\n",
       "\n",
       "    .dataframe tbody tr th {\n",
       "        vertical-align: top;\n",
       "    }\n",
       "\n",
       "    .dataframe thead th {\n",
       "        text-align: right;\n",
       "    }\n",
       "</style>\n",
       "<table border=\"1\" class=\"dataframe\">\n",
       "  <thead>\n",
       "    <tr style=\"text-align: right;\">\n",
       "      <th></th>\n",
       "      <th>VX</th>\n",
       "      <th>VX-diario</th>\n",
       "      <th>VX-mes</th>\n",
       "    </tr>\n",
       "    <tr>\n",
       "      <th>Data</th>\n",
       "      <th></th>\n",
       "      <th></th>\n",
       "      <th></th>\n",
       "    </tr>\n",
       "  </thead>\n",
       "  <tbody>\n",
       "    <tr>\n",
       "      <th>2024-04-25</th>\n",
       "      <td>16.85</td>\n",
       "      <td>0.881969</td>\n",
       "      <td>4.864176</td>\n",
       "    </tr>\n",
       "    <tr>\n",
       "      <th>2024-04-26</th>\n",
       "      <td>16.44</td>\n",
       "      <td>0.860509</td>\n",
       "      <td>4.745819</td>\n",
       "    </tr>\n",
       "    <tr>\n",
       "      <th>2024-04-29</th>\n",
       "      <td>16.39</td>\n",
       "      <td>0.857892</td>\n",
       "      <td>4.731385</td>\n",
       "    </tr>\n",
       "    <tr>\n",
       "      <th>2024-04-30</th>\n",
       "      <td>16.87</td>\n",
       "      <td>0.883016</td>\n",
       "      <td>4.869950</td>\n",
       "    </tr>\n",
       "    <tr>\n",
       "      <th>2024-05-02</th>\n",
       "      <td>17.05</td>\n",
       "      <td>0.892438</td>\n",
       "      <td>4.921911</td>\n",
       "    </tr>\n",
       "    <tr>\n",
       "      <th>...</th>\n",
       "      <td>...</td>\n",
       "      <td>...</td>\n",
       "      <td>...</td>\n",
       "    </tr>\n",
       "    <tr>\n",
       "      <th>2025-04-17</th>\n",
       "      <td>17.94</td>\n",
       "      <td>0.939023</td>\n",
       "      <td>5.178832</td>\n",
       "    </tr>\n",
       "    <tr>\n",
       "      <th>2025-04-22</th>\n",
       "      <td>18.40</td>\n",
       "      <td>0.963100</td>\n",
       "      <td>5.311622</td>\n",
       "    </tr>\n",
       "    <tr>\n",
       "      <th>2025-04-23</th>\n",
       "      <td>18.16</td>\n",
       "      <td>0.950538</td>\n",
       "      <td>5.242340</td>\n",
       "    </tr>\n",
       "    <tr>\n",
       "      <th>2025-04-24</th>\n",
       "      <td>17.93</td>\n",
       "      <td>0.938499</td>\n",
       "      <td>5.175945</td>\n",
       "    </tr>\n",
       "    <tr>\n",
       "      <th>2025-04-25</th>\n",
       "      <td>17.38</td>\n",
       "      <td>0.909711</td>\n",
       "      <td>5.017174</td>\n",
       "    </tr>\n",
       "  </tbody>\n",
       "</table>\n",
       "<p>250 rows × 3 columns</p>\n",
       "</div>"
      ],
      "text/plain": [
       "               VX  VX-diario    VX-mes\n",
       "Data                                  \n",
       "2024-04-25  16.85   0.881969  4.864176\n",
       "2024-04-26  16.44   0.860509  4.745819\n",
       "2024-04-29  16.39   0.857892  4.731385\n",
       "2024-04-30  16.87   0.883016  4.869950\n",
       "2024-05-02  17.05   0.892438  4.921911\n",
       "...           ...        ...       ...\n",
       "2025-04-17  17.94   0.939023  5.178832\n",
       "2025-04-22  18.40   0.963100  5.311622\n",
       "2025-04-23  18.16   0.950538  5.242340\n",
       "2025-04-24  17.93   0.938499  5.175945\n",
       "2025-04-25  17.38   0.909711  5.017174\n",
       "\n",
       "[250 rows x 3 columns]"
      ]
     },
     "execution_count": 15,
     "metadata": {},
     "output_type": "execute_result"
    }
   ],
   "source": [
    "\n",
    "# Caminho para o arquivo\n",
    "arquivo = 'data/PerformanceGraphExport.xls'\n",
    "# Primeiro, ler o arquivo bruto sem cabeçalho\n",
    "df_raw = pd.read_excel(arquivo, header=None)\n",
    "\n",
    "# Encontrar a linha onde aparece 'Data efetiva' e 'S&P/B3 Ibovespa VIX'\n",
    "header_row = None\n",
    "for i, row in df_raw.iterrows():\n",
    "    if 'Data efetiva' in row.values and 'S&P/B3 Ibovespa VIX' in row.values:\n",
    "        header_row = i\n",
    "        break\n",
    "\n",
    "if header_row is None:\n",
    "    raise ValueError(\"Não encontrei a linha de cabeçalho com 'Data efetiva' e 'S&P/B3 Ibovespa VIX'!\")\n",
    "\n",
    "# Ler de novo pulando até o header_row\n",
    "vixbr = pd.read_excel(arquivo, skiprows=header_row)\n",
    "\n",
    "# Selecionar só as colunas que interessam\n",
    "vixbr = vixbr[['Data efetiva', 'S&P/B3 Ibovespa VIX']]\n",
    "\n",
    "# Tentar converter 'Data efetiva' para datetime\n",
    "vixbr['Data efetiva'] = pd.to_datetime(vixbr['Data efetiva'], errors='coerce')\n",
    "\n",
    "# Remover linhas que não têm data válida\n",
    "vixbr = vixbr.dropna(subset=['Data efetiva'])\n",
    "\n",
    "vixbr = vixbr.reset_index(drop=True)\n",
    "vixbr.columns = ['Data', 'VX']\n",
    "vixbr[['Data', 'VX']] = vixbr[['Data', 'VX']].apply(pd.to_numeric, errors='coerce')\n",
    "vixbr['Data'] = pd.to_datetime(vixbr['Data'])\n",
    "vixbr['VX-diario'] = vixbr['VX'] / (365**(1/2))\n",
    "vixbr['VX-mes'] = vixbr['VX'] / (12**(1/2))\n",
    "vixbr=vixbr.set_index('Data')\n",
    "vixbr"
   ]
  },
  {
   "cell_type": "code",
   "execution_count": 16,
   "id": "ab67f2cd",
   "metadata": {},
   "outputs": [
    {
     "name": "stderr",
     "output_type": "stream",
     "text": [
      "[*********************100%***********************]  1 of 1 completed\n"
     ]
    },
    {
     "data": {
      "text/html": [
       "<div>\n",
       "<style scoped>\n",
       "    .dataframe tbody tr th:only-of-type {\n",
       "        vertical-align: middle;\n",
       "    }\n",
       "\n",
       "    .dataframe tbody tr th {\n",
       "        vertical-align: top;\n",
       "    }\n",
       "\n",
       "    .dataframe thead th {\n",
       "        text-align: right;\n",
       "    }\n",
       "</style>\n",
       "<table border=\"1\" class=\"dataframe\">\n",
       "  <thead>\n",
       "    <tr style=\"text-align: right;\">\n",
       "      <th>Ticker</th>\n",
       "      <th>^VIX</th>\n",
       "      <th>VIX-diario</th>\n",
       "      <th>VIX-mes</th>\n",
       "    </tr>\n",
       "    <tr>\n",
       "      <th>Date</th>\n",
       "      <th></th>\n",
       "      <th></th>\n",
       "      <th></th>\n",
       "    </tr>\n",
       "  </thead>\n",
       "  <tbody>\n",
       "    <tr>\n",
       "      <th>2024-04-25</th>\n",
       "      <td>15.370000</td>\n",
       "      <td>0.804503</td>\n",
       "      <td>4.436937</td>\n",
       "    </tr>\n",
       "    <tr>\n",
       "      <th>2024-04-26</th>\n",
       "      <td>15.030000</td>\n",
       "      <td>0.786706</td>\n",
       "      <td>4.338787</td>\n",
       "    </tr>\n",
       "    <tr>\n",
       "      <th>2024-04-29</th>\n",
       "      <td>14.670000</td>\n",
       "      <td>0.767863</td>\n",
       "      <td>4.234864</td>\n",
       "    </tr>\n",
       "    <tr>\n",
       "      <th>2024-04-30</th>\n",
       "      <td>15.650000</td>\n",
       "      <td>0.819158</td>\n",
       "      <td>4.517766</td>\n",
       "    </tr>\n",
       "    <tr>\n",
       "      <th>2024-05-01</th>\n",
       "      <td>15.390000</td>\n",
       "      <td>0.805549</td>\n",
       "      <td>4.442710</td>\n",
       "    </tr>\n",
       "    <tr>\n",
       "      <th>...</th>\n",
       "      <td>...</td>\n",
       "      <td>...</td>\n",
       "      <td>...</td>\n",
       "    </tr>\n",
       "    <tr>\n",
       "      <th>2025-04-17</th>\n",
       "      <td>29.650000</td>\n",
       "      <td>1.551952</td>\n",
       "      <td>8.559218</td>\n",
       "    </tr>\n",
       "    <tr>\n",
       "      <th>2025-04-21</th>\n",
       "      <td>33.820000</td>\n",
       "      <td>1.770220</td>\n",
       "      <td>9.762993</td>\n",
       "    </tr>\n",
       "    <tr>\n",
       "      <th>2025-04-22</th>\n",
       "      <td>30.570000</td>\n",
       "      <td>1.600107</td>\n",
       "      <td>8.824799</td>\n",
       "    </tr>\n",
       "    <tr>\n",
       "      <th>2025-04-23</th>\n",
       "      <td>28.450001</td>\n",
       "      <td>1.489141</td>\n",
       "      <td>8.212808</td>\n",
       "    </tr>\n",
       "    <tr>\n",
       "      <th>2025-04-24</th>\n",
       "      <td>26.469999</td>\n",
       "      <td>1.385503</td>\n",
       "      <td>7.641231</td>\n",
       "    </tr>\n",
       "  </tbody>\n",
       "</table>\n",
       "<p>250 rows × 3 columns</p>\n",
       "</div>"
      ],
      "text/plain": [
       "Ticker           ^VIX  VIX-diario   VIX-mes\n",
       "Date                                       \n",
       "2024-04-25  15.370000    0.804503  4.436937\n",
       "2024-04-26  15.030000    0.786706  4.338787\n",
       "2024-04-29  14.670000    0.767863  4.234864\n",
       "2024-04-30  15.650000    0.819158  4.517766\n",
       "2024-05-01  15.390000    0.805549  4.442710\n",
       "...               ...         ...       ...\n",
       "2025-04-17  29.650000    1.551952  8.559218\n",
       "2025-04-21  33.820000    1.770220  9.762993\n",
       "2025-04-22  30.570000    1.600107  8.824799\n",
       "2025-04-23  28.450001    1.489141  8.212808\n",
       "2025-04-24  26.469999    1.385503  7.641231\n",
       "\n",
       "[250 rows x 3 columns]"
      ]
     },
     "execution_count": 16,
     "metadata": {},
     "output_type": "execute_result"
    }
   ],
   "source": [
    "# vix sp500\n",
    "\n",
    "vix = yf.download('^VIX' , start= vixbr.index[0].date(), end= vixbr.index[-1].date(), interval='1d', auto_adjust=True, threads=True)['Close']\n",
    "# vix_alinhado = vix.reindex(df.index).ffill() # Garantir que o índice do VIX é igual ao do DF e preenche valores faltantes para frente\n",
    "vix['VIX-diario'] = vix['^VIX'] / (365**(1/2))\n",
    "vix['VIX-mes']    = vix['^VIX'] / (12**(1/2))\n",
    "vix"
   ]
  },
  {
   "cell_type": "code",
   "execution_count": 17,
   "id": "27d9d090",
   "metadata": {},
   "outputs": [
    {
     "data": {
      "application/vnd.plotly.v1+json": {
       "config": {
        "plotlyServerURL": "https://plot.ly"
       },
       "data": [
        {
         "line": {
          "color": "blue"
         },
         "mode": "lines",
         "name": "vix-b3",
         "type": "scatter",
         "x": [
          "2024-04-25T00:00:00",
          "2024-04-26T00:00:00",
          "2024-04-29T00:00:00",
          "2024-04-30T00:00:00",
          "2024-05-02T00:00:00",
          "2024-05-03T00:00:00",
          "2024-05-06T00:00:00",
          "2024-05-07T00:00:00",
          "2024-05-08T00:00:00",
          "2024-05-09T00:00:00",
          "2024-05-10T00:00:00",
          "2024-05-13T00:00:00",
          "2024-05-14T00:00:00",
          "2024-05-15T00:00:00",
          "2024-05-16T00:00:00",
          "2024-05-17T00:00:00",
          "2024-05-20T00:00:00",
          "2024-05-21T00:00:00",
          "2024-05-22T00:00:00",
          "2024-05-23T00:00:00",
          "2024-05-24T00:00:00",
          "2024-05-27T00:00:00",
          "2024-05-28T00:00:00",
          "2024-05-29T00:00:00",
          "2024-05-31T00:00:00",
          "2024-06-03T00:00:00",
          "2024-06-04T00:00:00",
          "2024-06-05T00:00:00",
          "2024-06-06T00:00:00",
          "2024-06-07T00:00:00",
          "2024-06-10T00:00:00",
          "2024-06-11T00:00:00",
          "2024-06-12T00:00:00",
          "2024-06-13T00:00:00",
          "2024-06-14T00:00:00",
          "2024-06-17T00:00:00",
          "2024-06-18T00:00:00",
          "2024-06-19T00:00:00",
          "2024-06-20T00:00:00",
          "2024-06-21T00:00:00",
          "2024-06-24T00:00:00",
          "2024-06-25T00:00:00",
          "2024-06-26T00:00:00",
          "2024-06-27T00:00:00",
          "2024-06-28T00:00:00",
          "2024-07-01T00:00:00",
          "2024-07-02T00:00:00",
          "2024-07-03T00:00:00",
          "2024-07-04T00:00:00",
          "2024-07-05T00:00:00",
          "2024-07-08T00:00:00",
          "2024-07-09T00:00:00",
          "2024-07-10T00:00:00",
          "2024-07-11T00:00:00",
          "2024-07-12T00:00:00",
          "2024-07-15T00:00:00",
          "2024-07-16T00:00:00",
          "2024-07-17T00:00:00",
          "2024-07-18T00:00:00",
          "2024-07-19T00:00:00",
          "2024-07-22T00:00:00",
          "2024-07-23T00:00:00",
          "2024-07-24T00:00:00",
          "2024-07-25T00:00:00",
          "2024-07-26T00:00:00",
          "2024-07-29T00:00:00",
          "2024-07-30T00:00:00",
          "2024-07-31T00:00:00",
          "2024-08-01T00:00:00",
          "2024-08-02T00:00:00",
          "2024-08-05T00:00:00",
          "2024-08-06T00:00:00",
          "2024-08-07T00:00:00",
          "2024-08-08T00:00:00",
          "2024-08-09T00:00:00",
          "2024-08-12T00:00:00",
          "2024-08-13T00:00:00",
          "2024-08-14T00:00:00",
          "2024-08-15T00:00:00",
          "2024-08-16T00:00:00",
          "2024-08-19T00:00:00",
          "2024-08-20T00:00:00",
          "2024-08-21T00:00:00",
          "2024-08-22T00:00:00",
          "2024-08-23T00:00:00",
          "2024-08-26T00:00:00",
          "2024-08-27T00:00:00",
          "2024-08-28T00:00:00",
          "2024-08-29T00:00:00",
          "2024-08-30T00:00:00",
          "2024-09-02T00:00:00",
          "2024-09-03T00:00:00",
          "2024-09-04T00:00:00",
          "2024-09-05T00:00:00",
          "2024-09-06T00:00:00",
          "2024-09-09T00:00:00",
          "2024-09-10T00:00:00",
          "2024-09-11T00:00:00",
          "2024-09-12T00:00:00",
          "2024-09-13T00:00:00",
          "2024-09-16T00:00:00",
          "2024-09-17T00:00:00",
          "2024-09-18T00:00:00",
          "2024-09-19T00:00:00",
          "2024-09-20T00:00:00",
          "2024-09-23T00:00:00",
          "2024-09-24T00:00:00",
          "2024-09-25T00:00:00",
          "2024-09-26T00:00:00",
          "2024-09-27T00:00:00",
          "2024-09-30T00:00:00",
          "2024-10-01T00:00:00",
          "2024-10-02T00:00:00",
          "2024-10-03T00:00:00",
          "2024-10-04T00:00:00",
          "2024-10-07T00:00:00",
          "2024-10-08T00:00:00",
          "2024-10-09T00:00:00",
          "2024-10-10T00:00:00",
          "2024-10-11T00:00:00",
          "2024-10-14T00:00:00",
          "2024-10-15T00:00:00",
          "2024-10-16T00:00:00",
          "2024-10-17T00:00:00",
          "2024-10-18T00:00:00",
          "2024-10-21T00:00:00",
          "2024-10-22T00:00:00",
          "2024-10-23T00:00:00",
          "2024-10-24T00:00:00",
          "2024-10-25T00:00:00",
          "2024-10-28T00:00:00",
          "2024-10-29T00:00:00",
          "2024-10-30T00:00:00",
          "2024-10-31T00:00:00",
          "2024-11-01T00:00:00",
          "2024-11-04T00:00:00",
          "2024-11-05T00:00:00",
          "2024-11-06T00:00:00",
          "2024-11-07T00:00:00",
          "2024-11-08T00:00:00",
          "2024-11-11T00:00:00",
          "2024-11-12T00:00:00",
          "2024-11-13T00:00:00",
          "2024-11-14T00:00:00",
          "2024-11-18T00:00:00",
          "2024-11-19T00:00:00",
          "2024-11-21T00:00:00",
          "2024-11-22T00:00:00",
          "2024-11-25T00:00:00",
          "2024-11-26T00:00:00",
          "2024-11-27T00:00:00",
          "2024-11-28T00:00:00",
          "2024-11-29T00:00:00",
          "2024-12-02T00:00:00",
          "2024-12-03T00:00:00",
          "2024-12-04T00:00:00",
          "2024-12-05T00:00:00",
          "2024-12-06T00:00:00",
          "2024-12-09T00:00:00",
          "2024-12-10T00:00:00",
          "2024-12-11T00:00:00",
          "2024-12-12T00:00:00",
          "2024-12-13T00:00:00",
          "2024-12-16T00:00:00",
          "2024-12-17T00:00:00",
          "2024-12-18T00:00:00",
          "2024-12-19T00:00:00",
          "2024-12-20T00:00:00",
          "2024-12-23T00:00:00",
          "2024-12-26T00:00:00",
          "2024-12-27T00:00:00",
          "2024-12-30T00:00:00",
          "2025-01-02T00:00:00",
          "2025-01-03T00:00:00",
          "2025-01-06T00:00:00",
          "2025-01-07T00:00:00",
          "2025-01-08T00:00:00",
          "2025-01-09T00:00:00",
          "2025-01-10T00:00:00",
          "2025-01-13T00:00:00",
          "2025-01-14T00:00:00",
          "2025-01-15T00:00:00",
          "2025-01-16T00:00:00",
          "2025-01-17T00:00:00",
          "2025-01-20T00:00:00",
          "2025-01-21T00:00:00",
          "2025-01-22T00:00:00",
          "2025-01-23T00:00:00",
          "2025-01-24T00:00:00",
          "2025-01-27T00:00:00",
          "2025-01-28T00:00:00",
          "2025-01-29T00:00:00",
          "2025-01-30T00:00:00",
          "2025-01-31T00:00:00",
          "2025-02-03T00:00:00",
          "2025-02-04T00:00:00",
          "2025-02-05T00:00:00",
          "2025-02-06T00:00:00",
          "2025-02-07T00:00:00",
          "2025-02-10T00:00:00",
          "2025-02-11T00:00:00",
          "2025-02-12T00:00:00",
          "2025-02-13T00:00:00",
          "2025-02-14T00:00:00",
          "2025-02-17T00:00:00",
          "2025-02-18T00:00:00",
          "2025-02-19T00:00:00",
          "2025-02-20T00:00:00",
          "2025-02-21T00:00:00",
          "2025-02-24T00:00:00",
          "2025-02-25T00:00:00",
          "2025-02-26T00:00:00",
          "2025-02-27T00:00:00",
          "2025-02-28T00:00:00",
          "2025-03-05T00:00:00",
          "2025-03-06T00:00:00",
          "2025-03-07T00:00:00",
          "2025-03-10T00:00:00",
          "2025-03-11T00:00:00",
          "2025-03-12T00:00:00",
          "2025-03-13T00:00:00",
          "2025-03-14T00:00:00",
          "2025-03-17T00:00:00",
          "2025-03-18T00:00:00",
          "2025-03-19T00:00:00",
          "2025-03-20T00:00:00",
          "2025-03-21T00:00:00",
          "2025-03-24T00:00:00",
          "2025-03-25T00:00:00",
          "2025-03-26T00:00:00",
          "2025-03-27T00:00:00",
          "2025-03-28T00:00:00",
          "2025-03-31T00:00:00",
          "2025-04-01T00:00:00",
          "2025-04-02T00:00:00",
          "2025-04-03T00:00:00",
          "2025-04-04T00:00:00",
          "2025-04-07T00:00:00",
          "2025-04-08T00:00:00",
          "2025-04-09T00:00:00",
          "2025-04-10T00:00:00",
          "2025-04-11T00:00:00",
          "2025-04-14T00:00:00",
          "2025-04-15T00:00:00",
          "2025-04-16T00:00:00",
          "2025-04-17T00:00:00",
          "2025-04-22T00:00:00",
          "2025-04-23T00:00:00",
          "2025-04-24T00:00:00",
          "2025-04-25T00:00:00"
         ],
         "y": [
          16.85,
          16.44,
          16.39,
          16.87,
          17.05,
          16.64,
          16.38,
          16.22,
          16.22,
          15.46,
          15.39,
          15.39,
          15.61,
          14.78,
          14.44,
          13.89,
          14.15,
          14.22,
          14.81,
          15.25,
          15.1,
          15.21,
          16.18,
          16.78,
          16.4,
          16.54,
          16.58,
          17.13,
          16.83,
          18.58,
          17.99,
          18.06,
          18.04,
          17.06,
          16.8,
          17.12,
          16.56,
          17.28,
          16.52,
          15.78,
          15.94,
          15.25,
          14.84,
          14.47,
          15.13,
          15.23,
          15.16,
          14.76,
          14.47,
          13.92,
          14.13,
          13.74,
          13.62,
          13.76,
          13.7,
          13.78,
          13.99,
          14.08,
          15.33,
          15.24,
          14.98,
          15.47,
          15.1,
          14.97,
          14.19,
          14.53,
          14.82,
          14.7,
          15.57,
          17.75,
          20.32,
          17.69,
          18.78,
          17.53,
          16.4,
          16.41,
          16.16,
          14.87,
          14.46,
          15.68,
          16.07,
          15.7,
          16.07,
          16.64,
          16.03,
          16.04,
          15.79,
          16.61,
          16.76,
          17.24,
          18.53,
          18.37,
          16.93,
          16.59,
          18.03,
          18.19,
          18.32,
          18.47,
          18.13,
          17.53,
          17.76,
          18.2,
          18.27,
          18.38,
          19.21,
          19.91,
          19.24,
          18.8,
          18.3,
          18.57,
          19.97,
          19.69,
          19.89,
          20.11,
          19.28,
          20.38,
          19.79,
          20.98,
          20.15,
          19.86,
          19.54,
          18.68,
          17.38,
          17.48,
          17.25,
          16.12,
          16.64,
          17.32,
          17.06,
          16.3,
          16.7,
          16.83,
          17.05,
          17.46,
          17.48,
          18,
          17.92,
          18.36,
          18.72,
          18.66,
          17.71,
          17.34,
          16.77,
          15.71,
          14.98,
          15.17,
          15.37,
          14.74,
          15.21,
          15.02,
          15.78,
          16.44,
          15.7,
          14.95,
          14.75,
          14.1,
          14.41,
          14.58,
          15.14,
          16.34,
          16.13,
          19.05,
          17.62,
          17.97,
          17.15,
          20.46,
          17.83,
          16.95,
          17.02,
          16.59,
          16.12,
          16.2,
          16.44,
          16.59,
          16.26,
          15.86,
          16.52,
          15.98,
          15.92,
          16.28,
          15.64,
          15.12,
          15.73,
          15.18,
          15.46,
          14.75,
          14.61,
          14.54,
          14.02,
          14.9,
          14.51,
          14.47,
          14.62,
          14.23,
          14.34,
          14.82,
          14.65,
          13.77,
          13.95,
          14.31,
          14.06,
          14.31,
          14.08,
          15.68,
          14.28,
          14.11,
          14.33,
          14,
          14.8,
          15.87,
          15.73,
          16.57,
          16.22,
          16.3,
          16.61,
          16.34,
          16.49,
          17.42,
          17.2,
          15.79,
          15.34,
          15.56,
          15.99,
          15.47,
          16.22,
          15.02,
          15.34,
          15.08,
          15.13,
          15.64,
          15.96,
          16.1,
          16.49,
          16.13,
          16.18,
          16.6,
          21.45,
          26.57,
          26.52,
          22.41,
          24.31,
          23.94,
          18.1,
          17.26,
          18.01,
          17.94,
          18.4,
          18.16,
          17.93,
          17.38
         ]
        },
        {
         "line": {
          "color": "red"
         },
         "mode": "lines",
         "name": "vix-sp",
         "type": "scatter",
         "x": [
          "2024-04-25T00:00:00",
          "2024-04-26T00:00:00",
          "2024-04-29T00:00:00",
          "2024-04-30T00:00:00",
          "2024-05-01T00:00:00",
          "2024-05-02T00:00:00",
          "2024-05-03T00:00:00",
          "2024-05-06T00:00:00",
          "2024-05-07T00:00:00",
          "2024-05-08T00:00:00",
          "2024-05-09T00:00:00",
          "2024-05-10T00:00:00",
          "2024-05-13T00:00:00",
          "2024-05-14T00:00:00",
          "2024-05-15T00:00:00",
          "2024-05-16T00:00:00",
          "2024-05-17T00:00:00",
          "2024-05-20T00:00:00",
          "2024-05-21T00:00:00",
          "2024-05-22T00:00:00",
          "2024-05-23T00:00:00",
          "2024-05-24T00:00:00",
          "2024-05-28T00:00:00",
          "2024-05-29T00:00:00",
          "2024-05-30T00:00:00",
          "2024-05-31T00:00:00",
          "2024-06-03T00:00:00",
          "2024-06-04T00:00:00",
          "2024-06-05T00:00:00",
          "2024-06-06T00:00:00",
          "2024-06-07T00:00:00",
          "2024-06-10T00:00:00",
          "2024-06-11T00:00:00",
          "2024-06-12T00:00:00",
          "2024-06-13T00:00:00",
          "2024-06-14T00:00:00",
          "2024-06-17T00:00:00",
          "2024-06-18T00:00:00",
          "2024-06-20T00:00:00",
          "2024-06-21T00:00:00",
          "2024-06-24T00:00:00",
          "2024-06-25T00:00:00",
          "2024-06-26T00:00:00",
          "2024-06-27T00:00:00",
          "2024-06-28T00:00:00",
          "2024-07-01T00:00:00",
          "2024-07-02T00:00:00",
          "2024-07-03T00:00:00",
          "2024-07-05T00:00:00",
          "2024-07-08T00:00:00",
          "2024-07-09T00:00:00",
          "2024-07-10T00:00:00",
          "2024-07-11T00:00:00",
          "2024-07-12T00:00:00",
          "2024-07-15T00:00:00",
          "2024-07-16T00:00:00",
          "2024-07-17T00:00:00",
          "2024-07-18T00:00:00",
          "2024-07-19T00:00:00",
          "2024-07-22T00:00:00",
          "2024-07-23T00:00:00",
          "2024-07-24T00:00:00",
          "2024-07-25T00:00:00",
          "2024-07-26T00:00:00",
          "2024-07-29T00:00:00",
          "2024-07-30T00:00:00",
          "2024-07-31T00:00:00",
          "2024-08-01T00:00:00",
          "2024-08-02T00:00:00",
          "2024-08-05T00:00:00",
          "2024-08-06T00:00:00",
          "2024-08-07T00:00:00",
          "2024-08-08T00:00:00",
          "2024-08-09T00:00:00",
          "2024-08-12T00:00:00",
          "2024-08-13T00:00:00",
          "2024-08-14T00:00:00",
          "2024-08-15T00:00:00",
          "2024-08-16T00:00:00",
          "2024-08-19T00:00:00",
          "2024-08-20T00:00:00",
          "2024-08-21T00:00:00",
          "2024-08-22T00:00:00",
          "2024-08-23T00:00:00",
          "2024-08-26T00:00:00",
          "2024-08-27T00:00:00",
          "2024-08-28T00:00:00",
          "2024-08-29T00:00:00",
          "2024-08-30T00:00:00",
          "2024-09-03T00:00:00",
          "2024-09-04T00:00:00",
          "2024-09-05T00:00:00",
          "2024-09-06T00:00:00",
          "2024-09-09T00:00:00",
          "2024-09-10T00:00:00",
          "2024-09-11T00:00:00",
          "2024-09-12T00:00:00",
          "2024-09-13T00:00:00",
          "2024-09-16T00:00:00",
          "2024-09-17T00:00:00",
          "2024-09-18T00:00:00",
          "2024-09-19T00:00:00",
          "2024-09-20T00:00:00",
          "2024-09-23T00:00:00",
          "2024-09-24T00:00:00",
          "2024-09-25T00:00:00",
          "2024-09-26T00:00:00",
          "2024-09-27T00:00:00",
          "2024-09-30T00:00:00",
          "2024-10-01T00:00:00",
          "2024-10-02T00:00:00",
          "2024-10-03T00:00:00",
          "2024-10-04T00:00:00",
          "2024-10-07T00:00:00",
          "2024-10-08T00:00:00",
          "2024-10-09T00:00:00",
          "2024-10-10T00:00:00",
          "2024-10-11T00:00:00",
          "2024-10-14T00:00:00",
          "2024-10-15T00:00:00",
          "2024-10-16T00:00:00",
          "2024-10-17T00:00:00",
          "2024-10-18T00:00:00",
          "2024-10-21T00:00:00",
          "2024-10-22T00:00:00",
          "2024-10-23T00:00:00",
          "2024-10-24T00:00:00",
          "2024-10-25T00:00:00",
          "2024-10-28T00:00:00",
          "2024-10-29T00:00:00",
          "2024-10-30T00:00:00",
          "2024-10-31T00:00:00",
          "2024-11-01T00:00:00",
          "2024-11-04T00:00:00",
          "2024-11-05T00:00:00",
          "2024-11-06T00:00:00",
          "2024-11-07T00:00:00",
          "2024-11-08T00:00:00",
          "2024-11-11T00:00:00",
          "2024-11-12T00:00:00",
          "2024-11-13T00:00:00",
          "2024-11-14T00:00:00",
          "2024-11-15T00:00:00",
          "2024-11-18T00:00:00",
          "2024-11-19T00:00:00",
          "2024-11-20T00:00:00",
          "2024-11-21T00:00:00",
          "2024-11-22T00:00:00",
          "2024-11-25T00:00:00",
          "2024-11-26T00:00:00",
          "2024-11-27T00:00:00",
          "2024-11-29T00:00:00",
          "2024-12-02T00:00:00",
          "2024-12-03T00:00:00",
          "2024-12-04T00:00:00",
          "2024-12-05T00:00:00",
          "2024-12-06T00:00:00",
          "2024-12-09T00:00:00",
          "2024-12-10T00:00:00",
          "2024-12-11T00:00:00",
          "2024-12-12T00:00:00",
          "2024-12-13T00:00:00",
          "2024-12-16T00:00:00",
          "2024-12-17T00:00:00",
          "2024-12-18T00:00:00",
          "2024-12-19T00:00:00",
          "2024-12-20T00:00:00",
          "2024-12-23T00:00:00",
          "2024-12-24T00:00:00",
          "2024-12-26T00:00:00",
          "2024-12-27T00:00:00",
          "2024-12-30T00:00:00",
          "2024-12-31T00:00:00",
          "2025-01-02T00:00:00",
          "2025-01-03T00:00:00",
          "2025-01-06T00:00:00",
          "2025-01-07T00:00:00",
          "2025-01-08T00:00:00",
          "2025-01-10T00:00:00",
          "2025-01-13T00:00:00",
          "2025-01-14T00:00:00",
          "2025-01-15T00:00:00",
          "2025-01-16T00:00:00",
          "2025-01-17T00:00:00",
          "2025-01-21T00:00:00",
          "2025-01-22T00:00:00",
          "2025-01-23T00:00:00",
          "2025-01-24T00:00:00",
          "2025-01-27T00:00:00",
          "2025-01-28T00:00:00",
          "2025-01-29T00:00:00",
          "2025-01-30T00:00:00",
          "2025-01-31T00:00:00",
          "2025-02-03T00:00:00",
          "2025-02-04T00:00:00",
          "2025-02-05T00:00:00",
          "2025-02-06T00:00:00",
          "2025-02-07T00:00:00",
          "2025-02-10T00:00:00",
          "2025-02-11T00:00:00",
          "2025-02-12T00:00:00",
          "2025-02-13T00:00:00",
          "2025-02-14T00:00:00",
          "2025-02-18T00:00:00",
          "2025-02-19T00:00:00",
          "2025-02-20T00:00:00",
          "2025-02-21T00:00:00",
          "2025-02-24T00:00:00",
          "2025-02-25T00:00:00",
          "2025-02-26T00:00:00",
          "2025-02-27T00:00:00",
          "2025-02-28T00:00:00",
          "2025-03-03T00:00:00",
          "2025-03-04T00:00:00",
          "2025-03-05T00:00:00",
          "2025-03-06T00:00:00",
          "2025-03-07T00:00:00",
          "2025-03-10T00:00:00",
          "2025-03-11T00:00:00",
          "2025-03-12T00:00:00",
          "2025-03-13T00:00:00",
          "2025-03-14T00:00:00",
          "2025-03-17T00:00:00",
          "2025-03-18T00:00:00",
          "2025-03-19T00:00:00",
          "2025-03-20T00:00:00",
          "2025-03-21T00:00:00",
          "2025-03-24T00:00:00",
          "2025-03-25T00:00:00",
          "2025-03-26T00:00:00",
          "2025-03-27T00:00:00",
          "2025-03-28T00:00:00",
          "2025-03-31T00:00:00",
          "2025-04-01T00:00:00",
          "2025-04-02T00:00:00",
          "2025-04-03T00:00:00",
          "2025-04-04T00:00:00",
          "2025-04-07T00:00:00",
          "2025-04-08T00:00:00",
          "2025-04-09T00:00:00",
          "2025-04-10T00:00:00",
          "2025-04-11T00:00:00",
          "2025-04-14T00:00:00",
          "2025-04-15T00:00:00",
          "2025-04-16T00:00:00",
          "2025-04-17T00:00:00",
          "2025-04-21T00:00:00",
          "2025-04-22T00:00:00",
          "2025-04-23T00:00:00",
          "2025-04-24T00:00:00"
         ],
         "y": [
          15.369999885559082,
          15.029999732971191,
          14.670000076293945,
          15.649999618530273,
          15.390000343322754,
          14.680000305175781,
          13.489999771118164,
          13.489999771118164,
          13.229999542236328,
          13,
          12.6899995803833,
          12.550000190734863,
          13.600000381469727,
          13.420000076293945,
          12.449999809265137,
          12.420000076293945,
          11.989999771118164,
          12.149999618530273,
          11.859999656677246,
          12.289999961853027,
          12.770000457763672,
          11.930000305175781,
          12.920000076293945,
          14.279999732971191,
          14.470000267028809,
          12.920000076293945,
          13.109999656677246,
          13.15999984741211,
          12.630000114440918,
          12.579999923706055,
          12.220000267028809,
          12.739999771118164,
          12.850000381469727,
          12.039999961853027,
          11.9399995803833,
          12.65999984741211,
          12.75,
          12.300000190734863,
          13.279999732971191,
          13.199999809265137,
          13.329999923706055,
          12.84000015258789,
          12.550000190734863,
          12.239999771118164,
          12.4399995803833,
          12.220000267028809,
          12.029999732971191,
          12.09000015258789,
          12.479999542236328,
          12.369999885559082,
          12.510000228881836,
          12.850000381469727,
          12.920000076293945,
          12.460000038146973,
          13.119999885559082,
          13.1899995803833,
          14.479999542236328,
          15.930000305175781,
          16.520000457763672,
          14.90999984741211,
          14.720000267028809,
          18.040000915527344,
          18.459999084472656,
          16.389999389648438,
          16.600000381469727,
          17.690000534057617,
          16.360000610351562,
          18.59000015258789,
          23.389999389648438,
          38.56999969482422,
          27.709999084472656,
          27.850000381469727,
          23.790000915527344,
          20.3700008392334,
          20.709999084472656,
          18.1200008392334,
          16.190000534057617,
          15.229999542236328,
          14.800000190734863,
          14.649999618530273,
          15.880000114440918,
          16.270000457763672,
          17.549999237060547,
          15.859999656677246,
          16.149999618530273,
          15.430000305175781,
          17.110000610351562,
          15.649999618530273,
          15,
          20.719999313354492,
          21.31999969482422,
          19.899999618530273,
          22.3799991607666,
          19.450000762939453,
          19.079999923706055,
          17.690000534057617,
          17.06999969482422,
          16.559999465942383,
          17.139999389648438,
          17.610000610351562,
          18.229999542236328,
          16.329999923706055,
          16.149999618530273,
          15.890000343322754,
          15.390000343322754,
          15.40999984741211,
          15.369999885559082,
          16.959999084472656,
          16.729999542236328,
          19.260000228881836,
          18.899999618530273,
          20.489999771118164,
          19.209999084472656,
          22.639999389648438,
          21.420000076293945,
          20.860000610351562,
          20.93000030517578,
          20.459999084472656,
          19.700000762939453,
          20.639999389648438,
          19.579999923706055,
          19.110000610351562,
          18.030000686645508,
          18.3700008392334,
          18.200000762939453,
          19.239999771118164,
          19.079999923706055,
          20.329999923706055,
          19.799999237060547,
          19.34000015258789,
          20.350000381469727,
          23.15999984741211,
          21.8799991607666,
          21.979999542236328,
          20.489999771118164,
          16.270000457763672,
          15.199999809265137,
          14.9399995803833,
          14.970000267028809,
          14.710000038146973,
          14.020000457763672,
          14.3100004196167,
          16.139999389648438,
          15.579999923706055,
          16.350000381469727,
          17.15999984741211,
          16.8700008392334,
          15.239999771118164,
          14.600000381469727,
          14.100000381469727,
          14.100000381469727,
          13.510000228881836,
          13.34000015258789,
          13.300000190734863,
          13.449999809265137,
          13.539999961853027,
          12.770000457763672,
          14.1899995803833,
          14.180000305175781,
          13.579999923706055,
          13.920000076293945,
          13.8100004196167,
          14.6899995803833,
          15.869999885559082,
          27.6200008392334,
          24.09000015258789,
          18.360000610351562,
          16.780000686645508,
          14.270000457763672,
          14.729999542236328,
          15.949999809265137,
          17.399999618530273,
          17.350000381469727,
          17.93000030517578,
          16.1299991607666,
          16.040000915527344,
          17.81999969482422,
          17.700000762939453,
          19.540000915527344,
          19.190000534057617,
          18.709999084472656,
          16.1200008392334,
          16.600000381469727,
          15.970000267028809,
          15.0600004196167,
          15.100000381469727,
          15.020000457763672,
          14.850000381469727,
          17.899999618530273,
          16.40999984741211,
          16.559999465942383,
          15.84000015258789,
          16.43000030517578,
          18.6200008392334,
          17.209999084472656,
          15.770000457763672,
          15.5,
          16.540000915527344,
          15.8100004196167,
          16.020000457763672,
          15.890000343322754,
          15.100000381469727,
          14.770000457763672,
          15.350000381469727,
          15.270000457763672,
          15.65999984741211,
          18.209999084472656,
          18.979999542236328,
          19.43000030517578,
          19.100000381469727,
          21.1299991607666,
          19.6299991607666,
          22.780000686645508,
          23.510000228881836,
          21.93000030517578,
          24.8700008392334,
          23.3700008392334,
          27.860000610351562,
          26.920000076293945,
          24.229999542236328,
          24.65999984741211,
          21.770000457763672,
          20.510000228881836,
          21.700000762939453,
          19.899999618530273,
          19.799999237060547,
          19.280000686645508,
          17.479999542236328,
          17.149999618530273,
          18.329999923706055,
          18.690000534057617,
          21.649999618530273,
          22.280000686645508,
          21.770000457763672,
          21.510000228881836,
          30.020000457763672,
          45.310001373291016,
          46.97999954223633,
          52.33000183105469,
          33.619998931884766,
          40.720001220703125,
          37.560001373291016,
          30.889999389648438,
          30.1200008392334,
          32.63999938964844,
          29.649999618530273,
          33.81999969482422,
          30.56999969482422,
          28.450000762939453,
          26.469999313354492
         ]
        },
        {
         "line": {
          "color": "lightgreen",
          "dash": "dash"
         },
         "mode": "lines",
         "name": "Otimismo (15)",
         "type": "scatter",
         "x": [
          "2024-04-25T00:00:00",
          "2025-04-25T00:00:00"
         ],
         "y": [
          15,
          15
         ]
        },
        {
         "line": {
          "color": "green",
          "dash": "dash"
         },
         "mode": "lines",
         "name": "Otimismo moderado (20)",
         "type": "scatter",
         "x": [
          "2024-04-25T00:00:00",
          "2025-04-25T00:00:00"
         ],
         "y": [
          20,
          20
         ]
        },
        {
         "line": {
          "color": "red",
          "dash": "dash"
         },
         "mode": "lines",
         "name": "Baixo otimismo (25)",
         "type": "scatter",
         "x": [
          "2024-04-25T00:00:00",
          "2025-04-25T00:00:00"
         ],
         "y": [
          25,
          25
         ]
        },
        {
         "line": {
          "color": "darkred",
          "dash": "dash"
         },
         "mode": "lines",
         "name": "Pânico (30)",
         "type": "scatter",
         "x": [
          "2024-04-25T00:00:00",
          "2025-04-25T00:00:00"
         ],
         "y": [
          30,
          30
         ]
        }
       ],
       "layout": {
        "height": 400,
        "margin": {
         "b": 40,
         "l": 40,
         "r": 40,
         "t": 60
        },
        "shapes": [
         {
          "fillcolor": "white",
          "layer": "below",
          "line": {
           "width": 0
          },
          "opacity": 0,
          "type": "rect",
          "x0": "2024-04-25T00:00:00",
          "x1": "2025-04-25T00:00:00",
          "y0": 0,
          "y1": 15
         },
         {
          "fillcolor": "lightgrey",
          "layer": "below",
          "line": {
           "width": 0
          },
          "opacity": 0.3,
          "type": "rect",
          "x0": "2024-04-25T00:00:00",
          "x1": "2025-04-25T00:00:00",
          "y0": 15,
          "y1": 20
         },
         {
          "fillcolor": "grey",
          "layer": "below",
          "line": {
           "width": 0
          },
          "opacity": 0.3,
          "type": "rect",
          "x0": "2024-04-25T00:00:00",
          "x1": "2025-04-25T00:00:00",
          "y0": 20,
          "y1": 25
         },
         {
          "fillcolor": "darkgrey",
          "layer": "below",
          "line": {
           "width": 0
          },
          "opacity": 0.7,
          "type": "rect",
          "x0": "2024-04-25T00:00:00",
          "x1": "2025-04-25T00:00:00",
          "y0": 25,
          "y1": 30
         },
         {
          "fillcolor": "darkgrey",
          "layer": "below",
          "line": {
           "width": 0
          },
          "opacity": 1,
          "type": "rect",
          "x0": "2024-04-25T00:00:00",
          "x1": "2025-04-25T00:00:00",
          "y0": 30,
          "y1": 53.33000183105469
         }
        ],
        "template": {
         "data": {
          "bar": [
           {
            "error_x": {
             "color": "#2a3f5f"
            },
            "error_y": {
             "color": "#2a3f5f"
            },
            "marker": {
             "line": {
              "color": "white",
              "width": 0.5
             },
             "pattern": {
              "fillmode": "overlay",
              "size": 10,
              "solidity": 0.2
             }
            },
            "type": "bar"
           }
          ],
          "barpolar": [
           {
            "marker": {
             "line": {
              "color": "white",
              "width": 0.5
             },
             "pattern": {
              "fillmode": "overlay",
              "size": 10,
              "solidity": 0.2
             }
            },
            "type": "barpolar"
           }
          ],
          "carpet": [
           {
            "aaxis": {
             "endlinecolor": "#2a3f5f",
             "gridcolor": "#C8D4E3",
             "linecolor": "#C8D4E3",
             "minorgridcolor": "#C8D4E3",
             "startlinecolor": "#2a3f5f"
            },
            "baxis": {
             "endlinecolor": "#2a3f5f",
             "gridcolor": "#C8D4E3",
             "linecolor": "#C8D4E3",
             "minorgridcolor": "#C8D4E3",
             "startlinecolor": "#2a3f5f"
            },
            "type": "carpet"
           }
          ],
          "choropleth": [
           {
            "colorbar": {
             "outlinewidth": 0,
             "ticks": ""
            },
            "type": "choropleth"
           }
          ],
          "contour": [
           {
            "colorbar": {
             "outlinewidth": 0,
             "ticks": ""
            },
            "colorscale": [
             [
              0,
              "#0d0887"
             ],
             [
              0.1111111111111111,
              "#46039f"
             ],
             [
              0.2222222222222222,
              "#7201a8"
             ],
             [
              0.3333333333333333,
              "#9c179e"
             ],
             [
              0.4444444444444444,
              "#bd3786"
             ],
             [
              0.5555555555555556,
              "#d8576b"
             ],
             [
              0.6666666666666666,
              "#ed7953"
             ],
             [
              0.7777777777777778,
              "#fb9f3a"
             ],
             [
              0.8888888888888888,
              "#fdca26"
             ],
             [
              1,
              "#f0f921"
             ]
            ],
            "type": "contour"
           }
          ],
          "contourcarpet": [
           {
            "colorbar": {
             "outlinewidth": 0,
             "ticks": ""
            },
            "type": "contourcarpet"
           }
          ],
          "heatmap": [
           {
            "colorbar": {
             "outlinewidth": 0,
             "ticks": ""
            },
            "colorscale": [
             [
              0,
              "#0d0887"
             ],
             [
              0.1111111111111111,
              "#46039f"
             ],
             [
              0.2222222222222222,
              "#7201a8"
             ],
             [
              0.3333333333333333,
              "#9c179e"
             ],
             [
              0.4444444444444444,
              "#bd3786"
             ],
             [
              0.5555555555555556,
              "#d8576b"
             ],
             [
              0.6666666666666666,
              "#ed7953"
             ],
             [
              0.7777777777777778,
              "#fb9f3a"
             ],
             [
              0.8888888888888888,
              "#fdca26"
             ],
             [
              1,
              "#f0f921"
             ]
            ],
            "type": "heatmap"
           }
          ],
          "heatmapgl": [
           {
            "colorbar": {
             "outlinewidth": 0,
             "ticks": ""
            },
            "colorscale": [
             [
              0,
              "#0d0887"
             ],
             [
              0.1111111111111111,
              "#46039f"
             ],
             [
              0.2222222222222222,
              "#7201a8"
             ],
             [
              0.3333333333333333,
              "#9c179e"
             ],
             [
              0.4444444444444444,
              "#bd3786"
             ],
             [
              0.5555555555555556,
              "#d8576b"
             ],
             [
              0.6666666666666666,
              "#ed7953"
             ],
             [
              0.7777777777777778,
              "#fb9f3a"
             ],
             [
              0.8888888888888888,
              "#fdca26"
             ],
             [
              1,
              "#f0f921"
             ]
            ],
            "type": "heatmapgl"
           }
          ],
          "histogram": [
           {
            "marker": {
             "pattern": {
              "fillmode": "overlay",
              "size": 10,
              "solidity": 0.2
             }
            },
            "type": "histogram"
           }
          ],
          "histogram2d": [
           {
            "colorbar": {
             "outlinewidth": 0,
             "ticks": ""
            },
            "colorscale": [
             [
              0,
              "#0d0887"
             ],
             [
              0.1111111111111111,
              "#46039f"
             ],
             [
              0.2222222222222222,
              "#7201a8"
             ],
             [
              0.3333333333333333,
              "#9c179e"
             ],
             [
              0.4444444444444444,
              "#bd3786"
             ],
             [
              0.5555555555555556,
              "#d8576b"
             ],
             [
              0.6666666666666666,
              "#ed7953"
             ],
             [
              0.7777777777777778,
              "#fb9f3a"
             ],
             [
              0.8888888888888888,
              "#fdca26"
             ],
             [
              1,
              "#f0f921"
             ]
            ],
            "type": "histogram2d"
           }
          ],
          "histogram2dcontour": [
           {
            "colorbar": {
             "outlinewidth": 0,
             "ticks": ""
            },
            "colorscale": [
             [
              0,
              "#0d0887"
             ],
             [
              0.1111111111111111,
              "#46039f"
             ],
             [
              0.2222222222222222,
              "#7201a8"
             ],
             [
              0.3333333333333333,
              "#9c179e"
             ],
             [
              0.4444444444444444,
              "#bd3786"
             ],
             [
              0.5555555555555556,
              "#d8576b"
             ],
             [
              0.6666666666666666,
              "#ed7953"
             ],
             [
              0.7777777777777778,
              "#fb9f3a"
             ],
             [
              0.8888888888888888,
              "#fdca26"
             ],
             [
              1,
              "#f0f921"
             ]
            ],
            "type": "histogram2dcontour"
           }
          ],
          "mesh3d": [
           {
            "colorbar": {
             "outlinewidth": 0,
             "ticks": ""
            },
            "type": "mesh3d"
           }
          ],
          "parcoords": [
           {
            "line": {
             "colorbar": {
              "outlinewidth": 0,
              "ticks": ""
             }
            },
            "type": "parcoords"
           }
          ],
          "pie": [
           {
            "automargin": true,
            "type": "pie"
           }
          ],
          "scatter": [
           {
            "fillpattern": {
             "fillmode": "overlay",
             "size": 10,
             "solidity": 0.2
            },
            "type": "scatter"
           }
          ],
          "scatter3d": [
           {
            "line": {
             "colorbar": {
              "outlinewidth": 0,
              "ticks": ""
             }
            },
            "marker": {
             "colorbar": {
              "outlinewidth": 0,
              "ticks": ""
             }
            },
            "type": "scatter3d"
           }
          ],
          "scattercarpet": [
           {
            "marker": {
             "colorbar": {
              "outlinewidth": 0,
              "ticks": ""
             }
            },
            "type": "scattercarpet"
           }
          ],
          "scattergeo": [
           {
            "marker": {
             "colorbar": {
              "outlinewidth": 0,
              "ticks": ""
             }
            },
            "type": "scattergeo"
           }
          ],
          "scattergl": [
           {
            "marker": {
             "colorbar": {
              "outlinewidth": 0,
              "ticks": ""
             }
            },
            "type": "scattergl"
           }
          ],
          "scattermapbox": [
           {
            "marker": {
             "colorbar": {
              "outlinewidth": 0,
              "ticks": ""
             }
            },
            "type": "scattermapbox"
           }
          ],
          "scatterpolar": [
           {
            "marker": {
             "colorbar": {
              "outlinewidth": 0,
              "ticks": ""
             }
            },
            "type": "scatterpolar"
           }
          ],
          "scatterpolargl": [
           {
            "marker": {
             "colorbar": {
              "outlinewidth": 0,
              "ticks": ""
             }
            },
            "type": "scatterpolargl"
           }
          ],
          "scatterternary": [
           {
            "marker": {
             "colorbar": {
              "outlinewidth": 0,
              "ticks": ""
             }
            },
            "type": "scatterternary"
           }
          ],
          "surface": [
           {
            "colorbar": {
             "outlinewidth": 0,
             "ticks": ""
            },
            "colorscale": [
             [
              0,
              "#0d0887"
             ],
             [
              0.1111111111111111,
              "#46039f"
             ],
             [
              0.2222222222222222,
              "#7201a8"
             ],
             [
              0.3333333333333333,
              "#9c179e"
             ],
             [
              0.4444444444444444,
              "#bd3786"
             ],
             [
              0.5555555555555556,
              "#d8576b"
             ],
             [
              0.6666666666666666,
              "#ed7953"
             ],
             [
              0.7777777777777778,
              "#fb9f3a"
             ],
             [
              0.8888888888888888,
              "#fdca26"
             ],
             [
              1,
              "#f0f921"
             ]
            ],
            "type": "surface"
           }
          ],
          "table": [
           {
            "cells": {
             "fill": {
              "color": "#EBF0F8"
             },
             "line": {
              "color": "white"
             }
            },
            "header": {
             "fill": {
              "color": "#C8D4E3"
             },
             "line": {
              "color": "white"
             }
            },
            "type": "table"
           }
          ]
         },
         "layout": {
          "annotationdefaults": {
           "arrowcolor": "#2a3f5f",
           "arrowhead": 0,
           "arrowwidth": 1
          },
          "autotypenumbers": "strict",
          "coloraxis": {
           "colorbar": {
            "outlinewidth": 0,
            "ticks": ""
           }
          },
          "colorscale": {
           "diverging": [
            [
             0,
             "#8e0152"
            ],
            [
             0.1,
             "#c51b7d"
            ],
            [
             0.2,
             "#de77ae"
            ],
            [
             0.3,
             "#f1b6da"
            ],
            [
             0.4,
             "#fde0ef"
            ],
            [
             0.5,
             "#f7f7f7"
            ],
            [
             0.6,
             "#e6f5d0"
            ],
            [
             0.7,
             "#b8e186"
            ],
            [
             0.8,
             "#7fbc41"
            ],
            [
             0.9,
             "#4d9221"
            ],
            [
             1,
             "#276419"
            ]
           ],
           "sequential": [
            [
             0,
             "#0d0887"
            ],
            [
             0.1111111111111111,
             "#46039f"
            ],
            [
             0.2222222222222222,
             "#7201a8"
            ],
            [
             0.3333333333333333,
             "#9c179e"
            ],
            [
             0.4444444444444444,
             "#bd3786"
            ],
            [
             0.5555555555555556,
             "#d8576b"
            ],
            [
             0.6666666666666666,
             "#ed7953"
            ],
            [
             0.7777777777777778,
             "#fb9f3a"
            ],
            [
             0.8888888888888888,
             "#fdca26"
            ],
            [
             1,
             "#f0f921"
            ]
           ],
           "sequentialminus": [
            [
             0,
             "#0d0887"
            ],
            [
             0.1111111111111111,
             "#46039f"
            ],
            [
             0.2222222222222222,
             "#7201a8"
            ],
            [
             0.3333333333333333,
             "#9c179e"
            ],
            [
             0.4444444444444444,
             "#bd3786"
            ],
            [
             0.5555555555555556,
             "#d8576b"
            ],
            [
             0.6666666666666666,
             "#ed7953"
            ],
            [
             0.7777777777777778,
             "#fb9f3a"
            ],
            [
             0.8888888888888888,
             "#fdca26"
            ],
            [
             1,
             "#f0f921"
            ]
           ]
          },
          "colorway": [
           "#636efa",
           "#EF553B",
           "#00cc96",
           "#ab63fa",
           "#FFA15A",
           "#19d3f3",
           "#FF6692",
           "#B6E880",
           "#FF97FF",
           "#FECB52"
          ],
          "font": {
           "color": "#2a3f5f"
          },
          "geo": {
           "bgcolor": "white",
           "lakecolor": "white",
           "landcolor": "white",
           "showlakes": true,
           "showland": true,
           "subunitcolor": "#C8D4E3"
          },
          "hoverlabel": {
           "align": "left"
          },
          "hovermode": "closest",
          "mapbox": {
           "style": "light"
          },
          "paper_bgcolor": "white",
          "plot_bgcolor": "white",
          "polar": {
           "angularaxis": {
            "gridcolor": "#EBF0F8",
            "linecolor": "#EBF0F8",
            "ticks": ""
           },
           "bgcolor": "white",
           "radialaxis": {
            "gridcolor": "#EBF0F8",
            "linecolor": "#EBF0F8",
            "ticks": ""
           }
          },
          "scene": {
           "xaxis": {
            "backgroundcolor": "white",
            "gridcolor": "#DFE8F3",
            "gridwidth": 2,
            "linecolor": "#EBF0F8",
            "showbackground": true,
            "ticks": "",
            "zerolinecolor": "#EBF0F8"
           },
           "yaxis": {
            "backgroundcolor": "white",
            "gridcolor": "#DFE8F3",
            "gridwidth": 2,
            "linecolor": "#EBF0F8",
            "showbackground": true,
            "ticks": "",
            "zerolinecolor": "#EBF0F8"
           },
           "zaxis": {
            "backgroundcolor": "white",
            "gridcolor": "#DFE8F3",
            "gridwidth": 2,
            "linecolor": "#EBF0F8",
            "showbackground": true,
            "ticks": "",
            "zerolinecolor": "#EBF0F8"
           }
          },
          "shapedefaults": {
           "line": {
            "color": "#2a3f5f"
           }
          },
          "ternary": {
           "aaxis": {
            "gridcolor": "#DFE8F3",
            "linecolor": "#A2B1C6",
            "ticks": ""
           },
           "baxis": {
            "gridcolor": "#DFE8F3",
            "linecolor": "#A2B1C6",
            "ticks": ""
           },
           "bgcolor": "white",
           "caxis": {
            "gridcolor": "#DFE8F3",
            "linecolor": "#A2B1C6",
            "ticks": ""
           }
          },
          "title": {
           "x": 0.05
          },
          "xaxis": {
           "automargin": true,
           "gridcolor": "#EBF0F8",
           "linecolor": "#EBF0F8",
           "ticks": "",
           "title": {
            "standoff": 15
           },
           "zerolinecolor": "#EBF0F8",
           "zerolinewidth": 2
          },
          "yaxis": {
           "automargin": true,
           "gridcolor": "#EBF0F8",
           "linecolor": "#EBF0F8",
           "ticks": "",
           "title": {
            "standoff": 15
           },
           "zerolinecolor": "#EBF0F8",
           "zerolinewidth": 2
          }
         }
        },
        "title": {
         "text": "VX-BR × VIX-SP500"
        },
        "width": 900,
        "xaxis": {
         "title": {
          "text": "Data"
         }
        },
        "yaxis": {
         "title": {
          "text": "Índice de Sentimento"
         }
        }
       }
      }
     },
     "metadata": {},
     "output_type": "display_data"
    }
   ],
   "source": [
    "fig = go.Figure()\n",
    "\n",
    "df=vixbr.copy()\n",
    "\n",
    "fig.add_trace(go.Scatter( x=df.index, y=df.VX, mode='lines', name=f'vix-b3', line=dict(color='blue')))\n",
    "fig.add_trace(go.Scatter( x=vix.index , y=vix['^VIX'].values, mode='lines', name=f'vix-sp', line=dict(color='red')))\n",
    "\n",
    "# Linha de Otimismo (15)\n",
    "fig.add_trace(go.Scatter(x=[df.index.min(), df.index.max()],y=[15, 15], mode='lines', name='Otimismo (15)',\n",
    "    line=dict(color='lightgreen', dash='dash')))\n",
    "# Linha de Otimismo moderado (20)\n",
    "fig.add_trace(go.Scatter(x=[df.index.min(), df.index.max()],y=[20, 20], mode='lines', name='Otimismo moderado (20)',\n",
    "    line=dict(color='green', dash='dash')))\n",
    "# Linha de Baixo otimismo (25)\n",
    "fig.add_trace(go.Scatter( x=[df.index.min(), df.index.max()], y=[25, 25], mode='lines', name='Baixo otimismo (25)',\n",
    "    line=dict(color='red', dash='dash')))\n",
    "# Linha de Pânico (30)\n",
    "fig.add_trace(go.Scatter(x=[df.index.min(), df.index.max()],y=[30, 30],mode='lines',name='Pânico (30)',\n",
    "    line=dict(color='darkred', dash='dash')))\n",
    "\n",
    "# Faixa < 15 \n",
    "fig.add_shape( type=\"rect\",x0=df.index.min(), x1=df.index.max(), y0=0, y1=15,  fillcolor=\"white\", \n",
    "    opacity=0, layer=\"below\",  line_width=0, )\n",
    "# Faixa 15-20 \n",
    "fig.add_shape( type=\"rect\",x0=df.index.min(), x1=df.index.max(), y0=15, y1=20,  fillcolor=\"lightgrey\", \n",
    "    opacity=0.3, layer=\"below\",  line_width=0, )\n",
    "# Faixa 20-25\n",
    "fig.add_shape( type=\"rect\",x0=df.index.min(), x1=df.index.max(), y0=20, y1=25, fillcolor=\"grey\",  \n",
    "    opacity=0.3,layer=\"below\", line_width=0,)\n",
    "# Faixa 25-30\n",
    "fig.add_shape(type=\"rect\",x0=df.index.min(), x1=df.index.max(),y0=25, y1=30,fillcolor=\"darkgrey\",  \n",
    "    opacity=0.7,layer=\"below\",line_width=0,)\n",
    "# Faixa >30 \n",
    "fig.add_shape(type=\"rect\",x0=df.index.min(), x1=df.index.max(),y0=30, y1=max([vix['^VIX'].max(),df.VX.max()])+1,fillcolor=\"darkgrey\",  \n",
    "    opacity=1,layer=\"below\",line_width=0,)\n",
    "\n",
    "# Layout\n",
    "fig.update_layout(\n",
    "    title=r'VX-BR × VIX-SP500',\n",
    "    width=900,\n",
    "    height=400,\n",
    "    # legend=dict(yanchor=\"top\", y=0.99, xanchor=\"left\", x=0.01),\n",
    "    margin=dict(l=40, r=40, t=60, b=40),\n",
    "    xaxis_title='Data',\n",
    "    yaxis_title='Índice de Sentimento',\n",
    "    template='plotly_white'\n",
    ")\n",
    "\n",
    "fig.show()\n",
    "\n",
    "df=[]\n"
   ]
  },
  {
   "cell_type": "code",
   "execution_count": 18,
   "id": "fc05986c",
   "metadata": {},
   "outputs": [],
   "source": [
    "vixes = pd.concat([vixbr['VX-diario'],vix['VIX-diario']],axis=1, join='inner')\n"
   ]
  },
  {
   "cell_type": "code",
   "execution_count": 23,
   "id": "016e72d1",
   "metadata": {},
   "outputs": [],
   "source": [
    "scaler = MinMaxScaler(feature_range=(0, 1))\n",
    "scaled_vix = pd.DataFrame(scaler.fit_transform(vixbr), columns=vixbr.columns, index=vixbr.index)"
   ]
  },
  {
   "cell_type": "code",
   "execution_count": 26,
   "id": "1214c133",
   "metadata": {},
   "outputs": [
    {
     "data": {
      "application/vnd.plotly.v1+json": {
       "config": {
        "plotlyServerURL": "https://plot.ly"
       },
       "data": [
        {
         "delta": {
          "decreasing": {
           "color": "red"
          },
          "increasing": {
           "color": "green"
          },
          "reference": 0.9384990932042532
         },
         "gauge": {
          "axis": {
           "range": [
            0,
            1
           ],
           "ticktext": [
            "Pânico",
            "Medo",
            "Neutro",
            "Neutro",
            "Confiante",
            "Otimismo"
           ],
           "tickvals": [
            0,
            0.2,
            0.4,
            0.6,
            0.8,
            1
           ]
          },
          "bar": {
           "color": "brown",
           "thickness": 0.3
          },
          "bgcolor": "lightgray",
          "steps": [
           {
            "color": "#e6e6e6",
            "range": [
             0,
             0.2
            ]
           },
           {
            "color": "#d9d9d9",
            "range": [
             0.2,
             0.4
            ]
           },
           {
            "color": "#cccccc",
            "range": [
             0.4,
             0.6
            ]
           },
           {
            "color": "#bfbfbf",
            "range": [
             0.6,
             0.8
            ]
           },
           {
            "color": "#b3b3b3",
            "range": [
             0.8,
             1
            ]
           }
          ]
         },
         "mode": "gauge+number+delta",
         "number": {
          "font": {
           "size": 48
          }
         },
         "title": {
          "text": "Índice de Pânico e Otimismo VX/BR <br><span style='font-size:0.9em'>Data: 2025-04-25</span>"
         },
         "type": "indicator",
         "value": 0.9097107774617914
        }
       ],
       "layout": {
        "height": 300,
        "margin": {
         "b": 10,
         "t": 80
        },
        "template": {
         "data": {
          "bar": [
           {
            "error_x": {
             "color": "#2a3f5f"
            },
            "error_y": {
             "color": "#2a3f5f"
            },
            "marker": {
             "line": {
              "color": "#E5ECF6",
              "width": 0.5
             },
             "pattern": {
              "fillmode": "overlay",
              "size": 10,
              "solidity": 0.2
             }
            },
            "type": "bar"
           }
          ],
          "barpolar": [
           {
            "marker": {
             "line": {
              "color": "#E5ECF6",
              "width": 0.5
             },
             "pattern": {
              "fillmode": "overlay",
              "size": 10,
              "solidity": 0.2
             }
            },
            "type": "barpolar"
           }
          ],
          "carpet": [
           {
            "aaxis": {
             "endlinecolor": "#2a3f5f",
             "gridcolor": "white",
             "linecolor": "white",
             "minorgridcolor": "white",
             "startlinecolor": "#2a3f5f"
            },
            "baxis": {
             "endlinecolor": "#2a3f5f",
             "gridcolor": "white",
             "linecolor": "white",
             "minorgridcolor": "white",
             "startlinecolor": "#2a3f5f"
            },
            "type": "carpet"
           }
          ],
          "choropleth": [
           {
            "colorbar": {
             "outlinewidth": 0,
             "ticks": ""
            },
            "type": "choropleth"
           }
          ],
          "contour": [
           {
            "colorbar": {
             "outlinewidth": 0,
             "ticks": ""
            },
            "colorscale": [
             [
              0,
              "#0d0887"
             ],
             [
              0.1111111111111111,
              "#46039f"
             ],
             [
              0.2222222222222222,
              "#7201a8"
             ],
             [
              0.3333333333333333,
              "#9c179e"
             ],
             [
              0.4444444444444444,
              "#bd3786"
             ],
             [
              0.5555555555555556,
              "#d8576b"
             ],
             [
              0.6666666666666666,
              "#ed7953"
             ],
             [
              0.7777777777777778,
              "#fb9f3a"
             ],
             [
              0.8888888888888888,
              "#fdca26"
             ],
             [
              1,
              "#f0f921"
             ]
            ],
            "type": "contour"
           }
          ],
          "contourcarpet": [
           {
            "colorbar": {
             "outlinewidth": 0,
             "ticks": ""
            },
            "type": "contourcarpet"
           }
          ],
          "heatmap": [
           {
            "colorbar": {
             "outlinewidth": 0,
             "ticks": ""
            },
            "colorscale": [
             [
              0,
              "#0d0887"
             ],
             [
              0.1111111111111111,
              "#46039f"
             ],
             [
              0.2222222222222222,
              "#7201a8"
             ],
             [
              0.3333333333333333,
              "#9c179e"
             ],
             [
              0.4444444444444444,
              "#bd3786"
             ],
             [
              0.5555555555555556,
              "#d8576b"
             ],
             [
              0.6666666666666666,
              "#ed7953"
             ],
             [
              0.7777777777777778,
              "#fb9f3a"
             ],
             [
              0.8888888888888888,
              "#fdca26"
             ],
             [
              1,
              "#f0f921"
             ]
            ],
            "type": "heatmap"
           }
          ],
          "heatmapgl": [
           {
            "colorbar": {
             "outlinewidth": 0,
             "ticks": ""
            },
            "colorscale": [
             [
              0,
              "#0d0887"
             ],
             [
              0.1111111111111111,
              "#46039f"
             ],
             [
              0.2222222222222222,
              "#7201a8"
             ],
             [
              0.3333333333333333,
              "#9c179e"
             ],
             [
              0.4444444444444444,
              "#bd3786"
             ],
             [
              0.5555555555555556,
              "#d8576b"
             ],
             [
              0.6666666666666666,
              "#ed7953"
             ],
             [
              0.7777777777777778,
              "#fb9f3a"
             ],
             [
              0.8888888888888888,
              "#fdca26"
             ],
             [
              1,
              "#f0f921"
             ]
            ],
            "type": "heatmapgl"
           }
          ],
          "histogram": [
           {
            "marker": {
             "pattern": {
              "fillmode": "overlay",
              "size": 10,
              "solidity": 0.2
             }
            },
            "type": "histogram"
           }
          ],
          "histogram2d": [
           {
            "colorbar": {
             "outlinewidth": 0,
             "ticks": ""
            },
            "colorscale": [
             [
              0,
              "#0d0887"
             ],
             [
              0.1111111111111111,
              "#46039f"
             ],
             [
              0.2222222222222222,
              "#7201a8"
             ],
             [
              0.3333333333333333,
              "#9c179e"
             ],
             [
              0.4444444444444444,
              "#bd3786"
             ],
             [
              0.5555555555555556,
              "#d8576b"
             ],
             [
              0.6666666666666666,
              "#ed7953"
             ],
             [
              0.7777777777777778,
              "#fb9f3a"
             ],
             [
              0.8888888888888888,
              "#fdca26"
             ],
             [
              1,
              "#f0f921"
             ]
            ],
            "type": "histogram2d"
           }
          ],
          "histogram2dcontour": [
           {
            "colorbar": {
             "outlinewidth": 0,
             "ticks": ""
            },
            "colorscale": [
             [
              0,
              "#0d0887"
             ],
             [
              0.1111111111111111,
              "#46039f"
             ],
             [
              0.2222222222222222,
              "#7201a8"
             ],
             [
              0.3333333333333333,
              "#9c179e"
             ],
             [
              0.4444444444444444,
              "#bd3786"
             ],
             [
              0.5555555555555556,
              "#d8576b"
             ],
             [
              0.6666666666666666,
              "#ed7953"
             ],
             [
              0.7777777777777778,
              "#fb9f3a"
             ],
             [
              0.8888888888888888,
              "#fdca26"
             ],
             [
              1,
              "#f0f921"
             ]
            ],
            "type": "histogram2dcontour"
           }
          ],
          "mesh3d": [
           {
            "colorbar": {
             "outlinewidth": 0,
             "ticks": ""
            },
            "type": "mesh3d"
           }
          ],
          "parcoords": [
           {
            "line": {
             "colorbar": {
              "outlinewidth": 0,
              "ticks": ""
             }
            },
            "type": "parcoords"
           }
          ],
          "pie": [
           {
            "automargin": true,
            "type": "pie"
           }
          ],
          "scatter": [
           {
            "fillpattern": {
             "fillmode": "overlay",
             "size": 10,
             "solidity": 0.2
            },
            "type": "scatter"
           }
          ],
          "scatter3d": [
           {
            "line": {
             "colorbar": {
              "outlinewidth": 0,
              "ticks": ""
             }
            },
            "marker": {
             "colorbar": {
              "outlinewidth": 0,
              "ticks": ""
             }
            },
            "type": "scatter3d"
           }
          ],
          "scattercarpet": [
           {
            "marker": {
             "colorbar": {
              "outlinewidth": 0,
              "ticks": ""
             }
            },
            "type": "scattercarpet"
           }
          ],
          "scattergeo": [
           {
            "marker": {
             "colorbar": {
              "outlinewidth": 0,
              "ticks": ""
             }
            },
            "type": "scattergeo"
           }
          ],
          "scattergl": [
           {
            "marker": {
             "colorbar": {
              "outlinewidth": 0,
              "ticks": ""
             }
            },
            "type": "scattergl"
           }
          ],
          "scattermapbox": [
           {
            "marker": {
             "colorbar": {
              "outlinewidth": 0,
              "ticks": ""
             }
            },
            "type": "scattermapbox"
           }
          ],
          "scatterpolar": [
           {
            "marker": {
             "colorbar": {
              "outlinewidth": 0,
              "ticks": ""
             }
            },
            "type": "scatterpolar"
           }
          ],
          "scatterpolargl": [
           {
            "marker": {
             "colorbar": {
              "outlinewidth": 0,
              "ticks": ""
             }
            },
            "type": "scatterpolargl"
           }
          ],
          "scatterternary": [
           {
            "marker": {
             "colorbar": {
              "outlinewidth": 0,
              "ticks": ""
             }
            },
            "type": "scatterternary"
           }
          ],
          "surface": [
           {
            "colorbar": {
             "outlinewidth": 0,
             "ticks": ""
            },
            "colorscale": [
             [
              0,
              "#0d0887"
             ],
             [
              0.1111111111111111,
              "#46039f"
             ],
             [
              0.2222222222222222,
              "#7201a8"
             ],
             [
              0.3333333333333333,
              "#9c179e"
             ],
             [
              0.4444444444444444,
              "#bd3786"
             ],
             [
              0.5555555555555556,
              "#d8576b"
             ],
             [
              0.6666666666666666,
              "#ed7953"
             ],
             [
              0.7777777777777778,
              "#fb9f3a"
             ],
             [
              0.8888888888888888,
              "#fdca26"
             ],
             [
              1,
              "#f0f921"
             ]
            ],
            "type": "surface"
           }
          ],
          "table": [
           {
            "cells": {
             "fill": {
              "color": "#EBF0F8"
             },
             "line": {
              "color": "white"
             }
            },
            "header": {
             "fill": {
              "color": "#C8D4E3"
             },
             "line": {
              "color": "white"
             }
            },
            "type": "table"
           }
          ]
         },
         "layout": {
          "annotationdefaults": {
           "arrowcolor": "#2a3f5f",
           "arrowhead": 0,
           "arrowwidth": 1
          },
          "autotypenumbers": "strict",
          "coloraxis": {
           "colorbar": {
            "outlinewidth": 0,
            "ticks": ""
           }
          },
          "colorscale": {
           "diverging": [
            [
             0,
             "#8e0152"
            ],
            [
             0.1,
             "#c51b7d"
            ],
            [
             0.2,
             "#de77ae"
            ],
            [
             0.3,
             "#f1b6da"
            ],
            [
             0.4,
             "#fde0ef"
            ],
            [
             0.5,
             "#f7f7f7"
            ],
            [
             0.6,
             "#e6f5d0"
            ],
            [
             0.7,
             "#b8e186"
            ],
            [
             0.8,
             "#7fbc41"
            ],
            [
             0.9,
             "#4d9221"
            ],
            [
             1,
             "#276419"
            ]
           ],
           "sequential": [
            [
             0,
             "#0d0887"
            ],
            [
             0.1111111111111111,
             "#46039f"
            ],
            [
             0.2222222222222222,
             "#7201a8"
            ],
            [
             0.3333333333333333,
             "#9c179e"
            ],
            [
             0.4444444444444444,
             "#bd3786"
            ],
            [
             0.5555555555555556,
             "#d8576b"
            ],
            [
             0.6666666666666666,
             "#ed7953"
            ],
            [
             0.7777777777777778,
             "#fb9f3a"
            ],
            [
             0.8888888888888888,
             "#fdca26"
            ],
            [
             1,
             "#f0f921"
            ]
           ],
           "sequentialminus": [
            [
             0,
             "#0d0887"
            ],
            [
             0.1111111111111111,
             "#46039f"
            ],
            [
             0.2222222222222222,
             "#7201a8"
            ],
            [
             0.3333333333333333,
             "#9c179e"
            ],
            [
             0.4444444444444444,
             "#bd3786"
            ],
            [
             0.5555555555555556,
             "#d8576b"
            ],
            [
             0.6666666666666666,
             "#ed7953"
            ],
            [
             0.7777777777777778,
             "#fb9f3a"
            ],
            [
             0.8888888888888888,
             "#fdca26"
            ],
            [
             1,
             "#f0f921"
            ]
           ]
          },
          "colorway": [
           "#636efa",
           "#EF553B",
           "#00cc96",
           "#ab63fa",
           "#FFA15A",
           "#19d3f3",
           "#FF6692",
           "#B6E880",
           "#FF97FF",
           "#FECB52"
          ],
          "font": {
           "color": "#2a3f5f"
          },
          "geo": {
           "bgcolor": "white",
           "lakecolor": "white",
           "landcolor": "#E5ECF6",
           "showlakes": true,
           "showland": true,
           "subunitcolor": "white"
          },
          "hoverlabel": {
           "align": "left"
          },
          "hovermode": "closest",
          "mapbox": {
           "style": "light"
          },
          "paper_bgcolor": "white",
          "plot_bgcolor": "#E5ECF6",
          "polar": {
           "angularaxis": {
            "gridcolor": "white",
            "linecolor": "white",
            "ticks": ""
           },
           "bgcolor": "#E5ECF6",
           "radialaxis": {
            "gridcolor": "white",
            "linecolor": "white",
            "ticks": ""
           }
          },
          "scene": {
           "xaxis": {
            "backgroundcolor": "#E5ECF6",
            "gridcolor": "white",
            "gridwidth": 2,
            "linecolor": "white",
            "showbackground": true,
            "ticks": "",
            "zerolinecolor": "white"
           },
           "yaxis": {
            "backgroundcolor": "#E5ECF6",
            "gridcolor": "white",
            "gridwidth": 2,
            "linecolor": "white",
            "showbackground": true,
            "ticks": "",
            "zerolinecolor": "white"
           },
           "zaxis": {
            "backgroundcolor": "#E5ECF6",
            "gridcolor": "white",
            "gridwidth": 2,
            "linecolor": "white",
            "showbackground": true,
            "ticks": "",
            "zerolinecolor": "white"
           }
          },
          "shapedefaults": {
           "line": {
            "color": "#2a3f5f"
           }
          },
          "ternary": {
           "aaxis": {
            "gridcolor": "white",
            "linecolor": "white",
            "ticks": ""
           },
           "baxis": {
            "gridcolor": "white",
            "linecolor": "white",
            "ticks": ""
           },
           "bgcolor": "#E5ECF6",
           "caxis": {
            "gridcolor": "white",
            "linecolor": "white",
            "ticks": ""
           }
          },
          "title": {
           "x": 0.05
          },
          "xaxis": {
           "automargin": true,
           "gridcolor": "white",
           "linecolor": "white",
           "ticks": "",
           "title": {
            "standoff": 15
           },
           "zerolinecolor": "white",
           "zerolinewidth": 2
          },
          "yaxis": {
           "automargin": true,
           "gridcolor": "white",
           "linecolor": "white",
           "ticks": "",
           "title": {
            "standoff": 15
           },
           "zerolinecolor": "white",
           "zerolinewidth": 2
          }
         }
        }
       }
      }
     },
     "metadata": {},
     "output_type": "display_data"
    }
   ],
   "source": [
    "# 5. Gauge\n",
    "indice_atual = vixbr['VX-diario'].iloc[-1]\n",
    "indice_ontem = vixbr['VX-diario'].iloc[-2]\n",
    "variacao = indice_atual - indice_ontem\n",
    "data_ult = vixbr.index[-1].strftime('%Y-%m-%d')\n",
    "\n",
    "fig = go.Figure(go.Indicator(\n",
    "    mode=\"gauge+number+delta\",\n",
    "    value=indice_atual,\n",
    "    delta={'reference': indice_ontem, 'increasing': {'color': \"green\"}, 'decreasing': {'color': \"red\"}},\n",
    "    number={'font': {'size': 48}},\n",
    "    gauge={\n",
    "        'axis': {'range': [0, 1], 'tickvals': [0, 0.2, 0.4, 0.6, 0.8, 1], \n",
    "                 'ticktext': ['Pânico', 'Medo', 'Neutro', 'Neutro', 'Confiante', 'Otimismo']},\n",
    "        'bar': {'color': 'brown', 'thickness': 0.3},\n",
    "        'bgcolor': \"lightgray\",\n",
    "        'steps': [\n",
    "            {'range': [0, 0.2], 'color': '#e6e6e6'},\n",
    "            {'range': [0.2, 0.4], 'color': '#d9d9d9'},\n",
    "            {'range': [0.4, 0.6], 'color': '#cccccc'},\n",
    "            {'range': [0.6, 0.8], 'color': '#bfbfbf'},\n",
    "            {'range': [0.8, 1.0], 'color': '#b3b3b3'}\n",
    "        ],\n",
    "    },\n",
    "    title={'text': f\"Índice de Pânico e Otimismo VX/BR <br><span style='font-size:0.9em'>Data: {data_ult}</span>\"}\n",
    "))\n",
    "\n",
    "fig.update_layout(height=300, margin={'t': 80, 'b': 10})\n",
    "fig.show()\n"
   ]
  },
  {
   "cell_type": "markdown",
   "id": "687a5255",
   "metadata": {},
   "source": [
    "**Índice de Pânico nas Bolsas de Valores** O cálculo do índice de pânico nos mercados financeiros está intrinsecamente ligado à medição da volatilidade implícita, com o VIX (Volatility Index) emergindo como principal referência global. Desenvolvido pelo *Chicago Board Options Exchange* (CBOE) em 1993, esse indicador quantifica as expectativas de *oscilações no S&P 500 para os próximos 30 dias*, servindo como termômetro do medo ou euforia dos investidores. No Brasil, a B3 implementou uma versão adaptada, o VXBR, que segue a mesma metodologia aplicada ao Ibovespa. Este relatório explora os fundamentos matemáticos, as variações regionais e as aplicações práticas desses índices.\n",
    "\n",
    "**Fundamentos Teóricos da Volatilidade Implícita** O VIX calcula a volatilidade esperada utilizando preços de opções de compra (call) e venda (put) do S&P 500. Esses derivativos funcionam como contratos de seguro contra movimentos bruscos nos preços, onde *opções de compra refletem apostas em alta* e *opções de venda indicam proteção contra quedas*. A fórmula do VIX, conforme detalhada pela metodologia do CBOE:\n",
    "$$\n",
    "\\sigma^2 =  \\frac 2T \\sum  \\frac{\\Delta K_i}{K_i^2}\\exp(RT)Q(K_i) - \\frac 1T\\left(\\frac F{K_0} - 1\\right)^2\n",
    "$$\n",
    "onde:\n",
    "𝜎² : Variância da volatilidade implícita;\n",
    "T: Tempo até expiração das opções;\n",
    "Ki : Preços de exercício das opções;\n",
    "Q(Ki): Preço médio das opções;\n",
    "F: Preço futuro do índice.\n",
    "\n",
    "**Metodologia de Cálculo Prático**\n",
    "\n",
    "*Seleção de Séries Temporais*: Coletar preços de opções do S&P 500 com vencimentos em 23 e 37 dias, garantindo janela móvel de 30 dias\n",
    "\n",
    "*Cálculo de Variâncias*: Para cada expiration date, computar a variância implícita usando a fórmula de Neuberger (1990), que pondera contribuições de diferentes strikes\n",
    "\n",
    "*Interpolação Temporal*: Combinar as variâncias dos contratos próximos (near-term) e seguintes (next-term) para obter volatilidade anualizada:\n",
    "$$\n",
    "\\text{VIX} = 100 \\times \\sqrt{ \\left( T_1 \\sigma_1^2 \\frac{N_{T2} - N_{30}}{N_{T2} - N_{T1}} \\right) + \\left( T_2 \\sigma_2^2 \\frac{N_{30} - N_{T1}}{N_{T2} - N_{T1}} \\right) } \\times \\frac{365}{30}\n",
    "$$\n",
    "onde $N_{T_x}$ representa dias até expiração.\n",
    "\n",
    "**Adaptação Brasileira: VXBR** (Especificidades do Índice B3/S&P Ibovespa VIX) Lançado em março de 2024, o VXBR replica a metodologia do VIX original porém utilizando opções do Ibovespa. Durante crises, como a alta de 476% no VIX global em março de 2020, o índice brasileiro demonstra sensibilidade comparável. Seu cálculo automático considera:\n",
    "1. Liquidez das opções do IBOV;\n",
    "2. Ajustes sazonais no vencimento;\n",
    "3. Prazos mínimos de 30 dias para evitar distorções.\n",
    "\n",
    "**Desafios na Implementação Local**\n",
    "Diferentemente do mercado americano, *a baixa liquidez de derivativos no Brasil* exige filtros adicionais para excluir strikes sem negociação, potencialmente introduzindo viés amostral. A B3 realiza rodadas de ajuste metodológico periódicas para mitigar esses efeitos. \n",
    "\n",
    "**Alternativas Computacionais: Índice Medo vs. Ganância** -\n",
    "*Abordagem Multifatorial* - \n",
    "O Fear & Greed Index, popularizado pela CNN, combina sete variáveis ponderadas:\n",
    "\n",
    "vix * 0.05 + putCallRatio * 0.1 + marketBreadth * 0.15 + junkBonds * 0.2 +  safeHavenDemand * 0.25 + treasuryYield * 0.15 +  peRatio * 0.1\n",
    "\n",
    "Nesse modelo, cada fator captura diferentes dimensões de risco:\n",
    "1. Demanda por títulos do Tesouro (25%): Refúgios seguros indicam medo;\n",
    "2. Bonds de alto risco (20%): Aceitação de risco corporativo sinaliza ganância;\n",
    "3. Razão Put/Call (10%): Mais puts sugerem hedging contra quedas.\n",
    "\n",
    "**Limitações Metodológicas**\n",
    "Enquanto o VIX deriva diretamente de dados de mercado, índices compostos como o Fear & Greed dependem de escolhas subjetivas na ponderação de fatores. Estudos apontam correlação de apenas 0.65 entre ambas as métricas em períodos de estresse.\n",
    "\n",
    "**Aplicações Práticas para Investidores**\n",
    "\n",
    "*Estratégias de Hedge*\n",
    "Fundos institucionais utilizam o VIX para calibrar proteções:\n",
    "1. Quando o VIX supera 30, gestores aumentam exposição em opções de venda;\n",
    "2. Abaixo de 15, reduzem custos de hedge priorizando calls.\n",
    "\n",
    "*Sinal Contrário (Contrarian Indicator)*\n",
    "Extremos históricos do VIX (>40 ou <15) marcaram pontos de reversão de mercado em 82% dos casos desde 1990. Por exemplo: Pico de 89.53 em outubro de 2008 (crise Lehman Brothers); Mínimo de 9.51 em novembro de 2017 (expansão monetária pós-crise).\n",
    "\n",
    "**Perspectivas Futuras e Inovações**\n",
    "\n",
    "*Modelos Machine Learning*\n",
    "Pesquisas recentes testam redes neurais LSTM para prever o VIX usando:\n",
    "1. Dados de sentimento em redes sociais;\n",
    "2. Fluxos de ordens em dark pools;\n",
    "3. Indicadores macroeconômicos em tempo real.\n",
    "\n",
    "Resultados preliminares mostram redução de 20% no erro quadrático médio versus modelos ARIMA tradicionais.\n",
    "\n",
    "**VIX Setoriais**\n",
    "Derivativos segmentados por setores (tecnologia, energia) estão em desenvolvimento, permitindo hedge específico. O CBOE Sector VIX para tech já representa 12% do mercado de volatilidade6.\n",
    "\n",
    "**Conclusão e Recomendações**\n",
    "O cálculo do índice de pânico envolve tanto complexidade matemática quanto compreensão comportamental. Para investidores brasileiros, monitorar o VXBR oferece insights valiosos, porém é crucial:\n",
    "\n",
    "Validar contra dados locais de liquidez;\n",
    "\n",
    "Combinar com indicadores globais para evitar miopias regionais;\n",
    "\n",
    "Utilizar simulações de Monte Carlo para testar estratégias de hedge.\n",
    "\n",
    "Institutos de pesquisa sugerem a integração de modelos híbridos, combinando VIX tradicional com dados alternativos (geopolítica, clima) para antecipar crises sistêmicas. A evolução contínua desses índices reforça seu papel como bússolas em oceanos de incerteza financeira"
   ]
  },
  {
   "cell_type": "code",
   "execution_count": null,
   "id": "5929fe80",
   "metadata": {},
   "outputs": [],
   "source": [
    "vix.Close.plot()"
   ]
  },
  {
   "cell_type": "markdown",
   "id": "bc24d36f",
   "metadata": {},
   "source": [
    "# testes"
   ]
  },
  {
   "cell_type": "code",
   "execution_count": null,
   "id": "f30d2900",
   "metadata": {},
   "outputs": [],
   "source": [
    "import yfinance as yf\n",
    "import pandas as pd\n",
    "import numpy as np\n",
    "import matplotlib.pyplot as plt\n",
    "from sklearn.preprocessing import MinMaxScaler\n",
    "\n",
    "\n",
    "dados = data\n",
    "resultado = pd.DataFrame()\n",
    "for acao in tickers:\n",
    "    df = dados[acao].copy()\n",
    "    df['Return'] = df['Close'].pct_change()\n",
    "    df['Volatility'] = df['Return'].rolling(window=7).std()\n",
    "    df['High-Low Range'] = (df['High'] - df['Low']) / df['Low']\n",
    "    df = df[['Return', 'Volatility', 'High-Low Range']]\n",
    "    df.columns = [f'{acao}_Return', f'{acao}_Volatility', f'{acao}_HLRange']\n",
    "    \n",
    "    if resultado.empty:\n",
    "        resultado = df\n",
    "    else:\n",
    "        resultado = resultado.join(df)\n",
    "\n",
    "resultado = resultado.dropna()\n",
    "\n",
    "# Indicador de número de ações subindo/caindo\n",
    "# 1 para subida, -1 para queda\n",
    "up_down = resultado[[col for col in resultado.columns if 'Return' in col]].apply(lambda x: np.where(x > 0, 1, -1))\n",
    "resultado['Acoes_Subindo'] = up_down.sum(axis=1) / len(tickers)\n",
    "\n",
    "# Agora normalizar tudo\n",
    "features = [col for col in resultado.columns if ('Return' in col or 'Volatility' in col or 'HLRange' in col)] + ['Acoes_Subindo']\n",
    "\n",
    "scaler = MinMaxScaler()\n",
    "scaled_features = scaler.fit_transform(resultado[features])\n",
    "\n",
    "scaled = pd.DataFrame(scaled_features, columns=features, index=resultado.index)\n",
    "\n",
    "# Cálculo final do Índice de Pânico/Otimismo\n",
    "scaled['Panic Optimism Index'] = scaled.mean(axis=1)"
   ]
  },
  {
   "cell_type": "code",
   "execution_count": null,
   "id": "fe57ded4",
   "metadata": {},
   "outputs": [],
   "source": [
    "plt.figure(figsize=(15,7))\n",
    "plt.plot(scaled.index, scaled['Panic Optimism Index'], label='Índice de Pânico/Otimismo')\n",
    "plt.axhline(0.5, color='red', linestyle='--', label='Neutro (0.5)')\n",
    "plt.fill_between(scaled.index, 0, scaled['Panic Optimism Index'], where=scaled['Panic Optimism Index']>=0.5, facecolor='red', alpha=0.3)\n",
    "plt.fill_between(scaled.index, 0, scaled['Panic Optimism Index'], where=scaled['Panic Optimism Index']<0.5, facecolor='green', alpha=0.3)\n",
    "plt.title('Índice de Pânico/Otimismo - Ações IBOV')\n",
    "plt.xlabel('Data')\n",
    "plt.ylabel('Índice Normalizado')\n",
    "plt.legend()\n",
    "plt.grid(True)\n",
    "plt.show()"
   ]
  }
 ],
 "metadata": {
  "kernelspec": {
   "display_name": "base",
   "language": "python",
   "name": "python3"
  },
  "language_info": {
   "codemirror_mode": {
    "name": "ipython",
    "version": 3
   },
   "file_extension": ".py",
   "mimetype": "text/x-python",
   "name": "python",
   "nbconvert_exporter": "python",
   "pygments_lexer": "ipython3",
   "version": "3.11.9"
  }
 },
 "nbformat": 4,
 "nbformat_minor": 5
}
