{
 "cells": [
  {
   "cell_type": "code",
   "execution_count": 317,
   "id": "a14a7adb",
   "metadata": {},
   "outputs": [],
   "source": [
    "import pandas as pd\n",
    "import yfinance as yf\n",
    "import matplotlib.pyplot as plt\n",
    "import plotly.graph_objects as go\n",
    "from sklearn.preprocessing import MinMaxScaler\n",
    "\n",
    "# descomentar para graficos aparecerem no github\n",
    "# import plotly.io as pio\n",
    "# pio.renderers.default = 'png'    #@param ['svg', 'colab', 'vscode' ]"
   ]
  },
  {
   "cell_type": "code",
   "execution_count": 318,
   "id": "d079e667",
   "metadata": {},
   "outputs": [],
   "source": [
    "carteira = 'ibra50'"
   ]
  },
  {
   "cell_type": "code",
   "execution_count": 319,
   "id": "8a2586d3",
   "metadata": {},
   "outputs": [
    {
     "data": {
      "text/html": [
       "<div>\n",
       "<style scoped>\n",
       "    .dataframe tbody tr th:only-of-type {\n",
       "        vertical-align: middle;\n",
       "    }\n",
       "\n",
       "    .dataframe tbody tr th {\n",
       "        vertical-align: top;\n",
       "    }\n",
       "\n",
       "    .dataframe thead th {\n",
       "        text-align: right;\n",
       "    }\n",
       "</style>\n",
       "<table border=\"1\" class=\"dataframe\">\n",
       "  <thead>\n",
       "    <tr style=\"text-align: right;\">\n",
       "      <th></th>\n",
       "      <th>Código</th>\n",
       "      <th>Ação</th>\n",
       "      <th>Tipo</th>\n",
       "      <th>Qtde. Teórica</th>\n",
       "      <th>Part. (%)</th>\n",
       "    </tr>\n",
       "  </thead>\n",
       "  <tbody>\n",
       "    <tr>\n",
       "      <th>0</th>\n",
       "      <td>ABEV3</td>\n",
       "      <td>AMBEV S/A</td>\n",
       "      <td>ON</td>\n",
       "      <td>4394835131</td>\n",
       "      <td>3.115</td>\n",
       "    </tr>\n",
       "    <tr>\n",
       "      <th>1</th>\n",
       "      <td>ASAI3</td>\n",
       "      <td>ASSAI</td>\n",
       "      <td>ON  ED  NM</td>\n",
       "      <td>1345832968</td>\n",
       "      <td>0.624</td>\n",
       "    </tr>\n",
       "    <tr>\n",
       "      <th>2</th>\n",
       "      <td>AZUL4</td>\n",
       "      <td>AZUL</td>\n",
       "      <td>PN      N2</td>\n",
       "      <td>326872005</td>\n",
       "      <td>0.032</td>\n",
       "    </tr>\n",
       "    <tr>\n",
       "      <th>3</th>\n",
       "      <td>AZZA3</td>\n",
       "      <td>AZZAS 2154</td>\n",
       "      <td>ON      NM</td>\n",
       "      <td>136643320</td>\n",
       "      <td>0.209</td>\n",
       "    </tr>\n",
       "    <tr>\n",
       "      <th>4</th>\n",
       "      <td>B3SA3</td>\n",
       "      <td>B3</td>\n",
       "      <td>ON      NM</td>\n",
       "      <td>5392540963</td>\n",
       "      <td>3.632</td>\n",
       "    </tr>\n",
       "    <tr>\n",
       "      <th>5</th>\n",
       "      <td>BBSE3</td>\n",
       "      <td>BBSEGURIDADE</td>\n",
       "      <td>ON      NM</td>\n",
       "      <td>637332335</td>\n",
       "      <td>1.348</td>\n",
       "    </tr>\n",
       "    <tr>\n",
       "      <th>6</th>\n",
       "      <td>BBDC4</td>\n",
       "      <td>BRADESCO</td>\n",
       "      <td>PN      N1</td>\n",
       "      <td>5129958973</td>\n",
       "      <td>3.452</td>\n",
       "    </tr>\n",
       "    <tr>\n",
       "      <th>7</th>\n",
       "      <td>BBAS3</td>\n",
       "      <td>BRASIL</td>\n",
       "      <td>ON      NM</td>\n",
       "      <td>2842613858</td>\n",
       "      <td>4.005</td>\n",
       "    </tr>\n",
       "    <tr>\n",
       "      <th>8</th>\n",
       "      <td>BRAV3</td>\n",
       "      <td>BRAVA</td>\n",
       "      <td>ON      NM</td>\n",
       "      <td>460791208</td>\n",
       "      <td>0.429</td>\n",
       "    </tr>\n",
       "    <tr>\n",
       "      <th>9</th>\n",
       "      <td>BRFS3</td>\n",
       "      <td>BRF SA</td>\n",
       "      <td>ON      NM</td>\n",
       "      <td>814523002</td>\n",
       "      <td>0.938</td>\n",
       "    </tr>\n",
       "    <tr>\n",
       "      <th>10</th>\n",
       "      <td>BPAC11</td>\n",
       "      <td>BTGP BANCO</td>\n",
       "      <td>UNT     N2</td>\n",
       "      <td>1287247964</td>\n",
       "      <td>2.370</td>\n",
       "    </tr>\n",
       "    <tr>\n",
       "      <th>11</th>\n",
       "      <td>CMIG4</td>\n",
       "      <td>CEMIG</td>\n",
       "      <td>PN      N1</td>\n",
       "      <td>1858636840</td>\n",
       "      <td>1.022</td>\n",
       "    </tr>\n",
       "    <tr>\n",
       "      <th>12</th>\n",
       "      <td>CPLE6</td>\n",
       "      <td>COPEL</td>\n",
       "      <td>PNB ED  N2</td>\n",
       "      <td>1679233590</td>\n",
       "      <td>0.952</td>\n",
       "    </tr>\n",
       "    <tr>\n",
       "      <th>13</th>\n",
       "      <td>CSAN3</td>\n",
       "      <td>COSAN</td>\n",
       "      <td>ON      NM</td>\n",
       "      <td>1150987430</td>\n",
       "      <td>0.446</td>\n",
       "    </tr>\n",
       "    <tr>\n",
       "      <th>14</th>\n",
       "      <td>CYRE3</td>\n",
       "      <td>CYRELA REALT</td>\n",
       "      <td>ON  ED  NM</td>\n",
       "      <td>273755006</td>\n",
       "      <td>0.337</td>\n",
       "    </tr>\n",
       "    <tr>\n",
       "      <th>15</th>\n",
       "      <td>ELET3</td>\n",
       "      <td>ELETROBRAS</td>\n",
       "      <td>ON      N1</td>\n",
       "      <td>1977170723</td>\n",
       "      <td>4.319</td>\n",
       "    </tr>\n",
       "    <tr>\n",
       "      <th>16</th>\n",
       "      <td>EMBR3</td>\n",
       "      <td>EMBRAER</td>\n",
       "      <td>ON      NM</td>\n",
       "      <td>734631801</td>\n",
       "      <td>2.347</td>\n",
       "    </tr>\n",
       "    <tr>\n",
       "      <th>17</th>\n",
       "      <td>ENGI11</td>\n",
       "      <td>ENERGISA</td>\n",
       "      <td>UNT     N2</td>\n",
       "      <td>326175300</td>\n",
       "      <td>0.746</td>\n",
       "    </tr>\n",
       "    <tr>\n",
       "      <th>18</th>\n",
       "      <td>ENEV3</td>\n",
       "      <td>ENEVA</td>\n",
       "      <td>ON      NM</td>\n",
       "      <td>1929556616</td>\n",
       "      <td>1.288</td>\n",
       "    </tr>\n",
       "    <tr>\n",
       "      <th>19</th>\n",
       "      <td>EQTL3</td>\n",
       "      <td>EQUATORIAL</td>\n",
       "      <td>ON      NM</td>\n",
       "      <td>1253541010</td>\n",
       "      <td>2.267</td>\n",
       "    </tr>\n",
       "    <tr>\n",
       "      <th>20</th>\n",
       "      <td>GGBR4</td>\n",
       "      <td>GERDAU</td>\n",
       "      <td>PN      N1</td>\n",
       "      <td>1242683687</td>\n",
       "      <td>0.958</td>\n",
       "    </tr>\n",
       "    <tr>\n",
       "      <th>21</th>\n",
       "      <td>NTCO3</td>\n",
       "      <td>GRUPO NATURA</td>\n",
       "      <td>ON      NM</td>\n",
       "      <td>850935197</td>\n",
       "      <td>0.427</td>\n",
       "    </tr>\n",
       "    <tr>\n",
       "      <th>22</th>\n",
       "      <td>HAPV3</td>\n",
       "      <td>HAPVIDA</td>\n",
       "      <td>ON      NM</td>\n",
       "      <td>4779395040</td>\n",
       "      <td>0.579</td>\n",
       "    </tr>\n",
       "    <tr>\n",
       "      <th>23</th>\n",
       "      <td>HYPE3</td>\n",
       "      <td>HYPERA</td>\n",
       "      <td>ON      NM</td>\n",
       "      <td>370735677</td>\n",
       "      <td>0.448</td>\n",
       "    </tr>\n",
       "    <tr>\n",
       "      <th>24</th>\n",
       "      <td>ITSA4</td>\n",
       "      <td>ITAUSA</td>\n",
       "      <td>PN      N1</td>\n",
       "      <td>5857796242</td>\n",
       "      <td>3.114</td>\n",
       "    </tr>\n",
       "    <tr>\n",
       "      <th>25</th>\n",
       "      <td>ITUB4</td>\n",
       "      <td>ITAUUNIBANCO</td>\n",
       "      <td>PN      N1</td>\n",
       "      <td>5272192664</td>\n",
       "      <td>9.181</td>\n",
       "    </tr>\n",
       "    <tr>\n",
       "      <th>26</th>\n",
       "      <td>JBSS3</td>\n",
       "      <td>JBS</td>\n",
       "      <td>ON      NM</td>\n",
       "      <td>1145962972</td>\n",
       "      <td>2.759</td>\n",
       "    </tr>\n",
       "    <tr>\n",
       "      <th>27</th>\n",
       "      <td>KLBN11</td>\n",
       "      <td>KLABIN S/A</td>\n",
       "      <td>UNT     N2</td>\n",
       "      <td>765785673</td>\n",
       "      <td>0.720</td>\n",
       "    </tr>\n",
       "    <tr>\n",
       "      <th>28</th>\n",
       "      <td>RENT3</td>\n",
       "      <td>LOCALIZA</td>\n",
       "      <td>ON      NM</td>\n",
       "      <td>965986531</td>\n",
       "      <td>2.080</td>\n",
       "    </tr>\n",
       "    <tr>\n",
       "      <th>29</th>\n",
       "      <td>LREN3</td>\n",
       "      <td>LOJAS RENNER</td>\n",
       "      <td>ON      NM</td>\n",
       "      <td>1051120777</td>\n",
       "      <td>0.732</td>\n",
       "    </tr>\n",
       "    <tr>\n",
       "      <th>30</th>\n",
       "      <td>MGLU3</td>\n",
       "      <td>MAGAZ LUIZA</td>\n",
       "      <td>ON  ED  NM</td>\n",
       "      <td>353448195</td>\n",
       "      <td>0.180</td>\n",
       "    </tr>\n",
       "    <tr>\n",
       "      <th>31</th>\n",
       "      <td>MRVE3</td>\n",
       "      <td>MRV</td>\n",
       "      <td>ON      NM</td>\n",
       "      <td>377241484</td>\n",
       "      <td>0.116</td>\n",
       "    </tr>\n",
       "    <tr>\n",
       "      <th>32</th>\n",
       "      <td>MULT3</td>\n",
       "      <td>MULTIPLAN</td>\n",
       "      <td>ON      N2</td>\n",
       "      <td>314150156</td>\n",
       "      <td>0.403</td>\n",
       "    </tr>\n",
       "    <tr>\n",
       "      <th>33</th>\n",
       "      <td>PETR3</td>\n",
       "      <td>PETROBRAS</td>\n",
       "      <td>ON  EDR N2</td>\n",
       "      <td>3514947134</td>\n",
       "      <td>5.776</td>\n",
       "    </tr>\n",
       "    <tr>\n",
       "      <th>34</th>\n",
       "      <td>PETR4</td>\n",
       "      <td>PETROBRAS</td>\n",
       "      <td>PN  EDR N2</td>\n",
       "      <td>4431132660</td>\n",
       "      <td>6.802</td>\n",
       "    </tr>\n",
       "    <tr>\n",
       "      <th>35</th>\n",
       "      <td>PRIO3</td>\n",
       "      <td>PETRORIO</td>\n",
       "      <td>ON      NM</td>\n",
       "      <td>779999989</td>\n",
       "      <td>1.368</td>\n",
       "    </tr>\n",
       "    <tr>\n",
       "      <th>36</th>\n",
       "      <td>RADL3</td>\n",
       "      <td>RAIADROGASIL</td>\n",
       "      <td>ON      NM</td>\n",
       "      <td>1286616979</td>\n",
       "      <td>1.301</td>\n",
       "    </tr>\n",
       "    <tr>\n",
       "      <th>37</th>\n",
       "      <td>RDOR3</td>\n",
       "      <td>REDE D OR</td>\n",
       "      <td>ON      NM</td>\n",
       "      <td>1145289019</td>\n",
       "      <td>1.810</td>\n",
       "    </tr>\n",
       "    <tr>\n",
       "      <th>38</th>\n",
       "      <td>RAIL3</td>\n",
       "      <td>RUMO S.A.</td>\n",
       "      <td>ON      NM</td>\n",
       "      <td>1216914397</td>\n",
       "      <td>1.205</td>\n",
       "    </tr>\n",
       "    <tr>\n",
       "      <th>39</th>\n",
       "      <td>SBSP3</td>\n",
       "      <td>SABESP</td>\n",
       "      <td>ON      NM</td>\n",
       "      <td>683508568</td>\n",
       "      <td>3.967</td>\n",
       "    </tr>\n",
       "    <tr>\n",
       "      <th>40</th>\n",
       "      <td>CSNA3</td>\n",
       "      <td>SID NACIONAL</td>\n",
       "      <td>ON</td>\n",
       "      <td>727459637</td>\n",
       "      <td>0.343</td>\n",
       "    </tr>\n",
       "    <tr>\n",
       "      <th>41</th>\n",
       "      <td>SUZB3</td>\n",
       "      <td>SUZANO S.A.</td>\n",
       "      <td>ON      NM</td>\n",
       "      <td>630821784</td>\n",
       "      <td>1.627</td>\n",
       "    </tr>\n",
       "    <tr>\n",
       "      <th>42</th>\n",
       "      <td>VIVT3</td>\n",
       "      <td>TELEF BRASIL</td>\n",
       "      <td>ON  EBG</td>\n",
       "      <td>764884256</td>\n",
       "      <td>1.045</td>\n",
       "    </tr>\n",
       "    <tr>\n",
       "      <th>43</th>\n",
       "      <td>TIMS3</td>\n",
       "      <td>TIM</td>\n",
       "      <td>ON      NM</td>\n",
       "      <td>807495418</td>\n",
       "      <td>0.756</td>\n",
       "    </tr>\n",
       "    <tr>\n",
       "      <th>44</th>\n",
       "      <td>TOTS3</td>\n",
       "      <td>TOTVS</td>\n",
       "      <td>ON      NM</td>\n",
       "      <td>540206440</td>\n",
       "      <td>1.019</td>\n",
       "    </tr>\n",
       "    <tr>\n",
       "      <th>45</th>\n",
       "      <td>UGPA3</td>\n",
       "      <td>ULTRAPAR</td>\n",
       "      <td>ON      NM</td>\n",
       "      <td>1090134379</td>\n",
       "      <td>0.988</td>\n",
       "    </tr>\n",
       "    <tr>\n",
       "      <th>46</th>\n",
       "      <td>USIM5</td>\n",
       "      <td>USIMINAS</td>\n",
       "      <td>PNA     N1</td>\n",
       "      <td>515193199</td>\n",
       "      <td>0.148</td>\n",
       "    </tr>\n",
       "    <tr>\n",
       "      <th>47</th>\n",
       "      <td>VALE3</td>\n",
       "      <td>VALE</td>\n",
       "      <td>ON      NM</td>\n",
       "      <td>4270903023</td>\n",
       "      <td>11.568</td>\n",
       "    </tr>\n",
       "    <tr>\n",
       "      <th>48</th>\n",
       "      <td>VBBR3</td>\n",
       "      <td>VIBRA</td>\n",
       "      <td>ON  ED  NM</td>\n",
       "      <td>1023538460</td>\n",
       "      <td>0.983</td>\n",
       "    </tr>\n",
       "    <tr>\n",
       "      <th>49</th>\n",
       "      <td>WEGE3</td>\n",
       "      <td>WEG</td>\n",
       "      <td>ON      NM</td>\n",
       "      <td>1482105837</td>\n",
       "      <td>3.719</td>\n",
       "    </tr>\n",
       "  </tbody>\n",
       "</table>\n",
       "</div>"
      ],
      "text/plain": [
       "    Código          Ação        Tipo  Qtde. Teórica  Part. (%)\n",
       "0    ABEV3     AMBEV S/A          ON     4394835131      3.115\n",
       "1    ASAI3         ASSAI  ON  ED  NM     1345832968      0.624\n",
       "2    AZUL4          AZUL  PN      N2      326872005      0.032\n",
       "3    AZZA3    AZZAS 2154  ON      NM      136643320      0.209\n",
       "4    B3SA3            B3  ON      NM     5392540963      3.632\n",
       "5    BBSE3  BBSEGURIDADE  ON      NM      637332335      1.348\n",
       "6    BBDC4      BRADESCO  PN      N1     5129958973      3.452\n",
       "7    BBAS3        BRASIL  ON      NM     2842613858      4.005\n",
       "8    BRAV3         BRAVA  ON      NM      460791208      0.429\n",
       "9    BRFS3        BRF SA  ON      NM      814523002      0.938\n",
       "10  BPAC11    BTGP BANCO  UNT     N2     1287247964      2.370\n",
       "11   CMIG4         CEMIG  PN      N1     1858636840      1.022\n",
       "12   CPLE6         COPEL  PNB ED  N2     1679233590      0.952\n",
       "13   CSAN3         COSAN  ON      NM     1150987430      0.446\n",
       "14   CYRE3  CYRELA REALT  ON  ED  NM      273755006      0.337\n",
       "15   ELET3    ELETROBRAS  ON      N1     1977170723      4.319\n",
       "16   EMBR3       EMBRAER  ON      NM      734631801      2.347\n",
       "17  ENGI11      ENERGISA  UNT     N2      326175300      0.746\n",
       "18   ENEV3         ENEVA  ON      NM     1929556616      1.288\n",
       "19   EQTL3    EQUATORIAL  ON      NM     1253541010      2.267\n",
       "20   GGBR4        GERDAU  PN      N1     1242683687      0.958\n",
       "21   NTCO3  GRUPO NATURA  ON      NM      850935197      0.427\n",
       "22   HAPV3       HAPVIDA  ON      NM     4779395040      0.579\n",
       "23   HYPE3        HYPERA  ON      NM      370735677      0.448\n",
       "24   ITSA4        ITAUSA  PN      N1     5857796242      3.114\n",
       "25   ITUB4  ITAUUNIBANCO  PN      N1     5272192664      9.181\n",
       "26   JBSS3           JBS  ON      NM     1145962972      2.759\n",
       "27  KLBN11    KLABIN S/A  UNT     N2      765785673      0.720\n",
       "28   RENT3      LOCALIZA  ON      NM      965986531      2.080\n",
       "29   LREN3  LOJAS RENNER  ON      NM     1051120777      0.732\n",
       "30   MGLU3   MAGAZ LUIZA  ON  ED  NM      353448195      0.180\n",
       "31   MRVE3           MRV  ON      NM      377241484      0.116\n",
       "32   MULT3     MULTIPLAN  ON      N2      314150156      0.403\n",
       "33   PETR3     PETROBRAS  ON  EDR N2     3514947134      5.776\n",
       "34   PETR4     PETROBRAS  PN  EDR N2     4431132660      6.802\n",
       "35   PRIO3      PETRORIO  ON      NM      779999989      1.368\n",
       "36   RADL3  RAIADROGASIL  ON      NM     1286616979      1.301\n",
       "37   RDOR3     REDE D OR  ON      NM     1145289019      1.810\n",
       "38   RAIL3     RUMO S.A.  ON      NM     1216914397      1.205\n",
       "39   SBSP3        SABESP  ON      NM      683508568      3.967\n",
       "40   CSNA3  SID NACIONAL          ON      727459637      0.343\n",
       "41   SUZB3   SUZANO S.A.  ON      NM      630821784      1.627\n",
       "42   VIVT3  TELEF BRASIL     ON  EBG      764884256      1.045\n",
       "43   TIMS3           TIM  ON      NM      807495418      0.756\n",
       "44   TOTS3         TOTVS  ON      NM      540206440      1.019\n",
       "45   UGPA3      ULTRAPAR  ON      NM     1090134379      0.988\n",
       "46   USIM5      USIMINAS  PNA     N1      515193199      0.148\n",
       "47   VALE3          VALE  ON      NM     4270903023     11.568\n",
       "48   VBBR3         VIBRA  ON  ED  NM     1023538460      0.983\n",
       "49   WEGE3           WEG  ON      NM     1482105837      3.719"
      ]
     },
     "execution_count": 319,
     "metadata": {},
     "output_type": "execute_result"
    }
   ],
   "source": [
    "url0 = 'https://raw.githubusercontent.com/BDonadelli/Finance-playground/refs/heads/main/data/'\n",
    "\n",
    "url  = {'ibra50' :url0+'Cart_IBr50.csv',\n",
    "        'ibra100':url0+'Cart_IBr100.csv',\n",
    "        'idiv'   :url0+'Cart_Idiv.csv',\n",
    "        'ibov'   :url0+'Cart_Ibov.csv',\n",
    "        'small'  :url0+'Cart_Small.csv'\n",
    "}\n",
    "indice = pd.read_csv(url[carteira] ,\n",
    "                     sep=';' , decimal=',' , thousands='.' ,\n",
    "                     skiprows=1,skipfooter=2,\n",
    "                     encoding='latin-1',\n",
    "                     index_col=False , engine='python')\n",
    "\n",
    "indice"
   ]
  },
  {
   "cell_type": "code",
   "execution_count": 320,
   "id": "b9af6ba7",
   "metadata": {},
   "outputs": [
    {
     "name": "stderr",
     "output_type": "stream",
     "text": [
      "[*********************100%***********************]  50 of 50 completed\n",
      "[*********************100%***********************]  1 of 1 completed\n"
     ]
    }
   ],
   "source": [
    "df_ibov = indice['Código']\n",
    "tickers = [codigo + '.SA' for codigo in df_ibov.tolist()]\n",
    "periodo = '90d'\n",
    "data = yf.download(tickers, period=periodo, interval='1d', group_by='ticker', auto_adjust=True, threads=True)\n",
    "vix = yf.download('^VIX' , period=periodo, interval='1d', auto_adjust=True, threads=True)"
   ]
  },
  {
   "cell_type": "code",
   "execution_count": 321,
   "id": "b6f96ead",
   "metadata": {},
   "outputs": [],
   "source": [
    "datas = data.index\n",
    "df_resultado = pd.DataFrame(index=datas[1:])\n",
    "indices = []\n",
    "\n",
    "for i in range(1, len(datas)):\n",
    "    dia_atual = datas[i]\n",
    "    dia_anterior = datas[i - 1]\n",
    "\n",
    "    soma_num = 0\n",
    "    soma_den = 0\n",
    "\n",
    "    for ticker in tickers:\n",
    "        try:\n",
    "            preco_atual = data[ticker]['Close'].loc[dia_atual]\n",
    "            preco_anterior = data[ticker]['Close'].loc[dia_anterior]\n",
    "            volume = data[ticker]['Volume'].loc[dia_atual]\n",
    "\n",
    "            retorno = (preco_atual - preco_anterior) / preco_anterior\n",
    "            sinal = 1 if retorno > 0 else (-1 if retorno < 0 else 0)\n",
    "\n",
    "            soma_num += volume * sinal\n",
    "            soma_den += abs(volume * sinal)\n",
    "\n",
    "        except Exception:\n",
    "            continue\n",
    "\n",
    "    indice = soma_num / soma_den if soma_den != 0 else 0\n",
    "    indices.append(indice)\n",
    "\n",
    "df_resultado['Indice_Sentimento'] = indices"
   ]
  },
  {
   "cell_type": "code",
   "execution_count": 322,
   "id": "1991d99b",
   "metadata": {},
   "outputs": [],
   "source": [
    "scaler = MinMaxScaler(feature_range=(0, 1))\n",
    "scaled_features = scaler.fit_transform(df_resultado[['Indice_Sentimento']])\n",
    "scaled_df_volume = pd.DataFrame(scaled_features, columns=['Indice_Sentimento'], index=df_resultado.index)"
   ]
  },
  {
   "cell_type": "code",
   "execution_count": 323,
   "id": "79060f84",
   "metadata": {},
   "outputs": [
    {
     "data": {
      "application/vnd.plotly.v1+json": {
       "config": {
        "plotlyServerURL": "https://plot.ly"
       },
       "data": [
        {
         "line": {
          "color": "blue"
         },
         "mode": "lines",
         "name": "Índice de Sentimento - ibra50",
         "type": "scatter",
         "x": [
          "2024-12-12T00:00:00",
          "2024-12-13T00:00:00",
          "2024-12-16T00:00:00",
          "2024-12-17T00:00:00",
          "2024-12-18T00:00:00",
          "2024-12-19T00:00:00",
          "2024-12-20T00:00:00",
          "2024-12-23T00:00:00",
          "2024-12-26T00:00:00",
          "2024-12-27T00:00:00",
          "2024-12-30T00:00:00",
          "2025-01-02T00:00:00",
          "2025-01-03T00:00:00",
          "2025-01-06T00:00:00",
          "2025-01-07T00:00:00",
          "2025-01-08T00:00:00",
          "2025-01-09T00:00:00",
          "2025-01-10T00:00:00",
          "2025-01-13T00:00:00",
          "2025-01-14T00:00:00",
          "2025-01-15T00:00:00",
          "2025-01-16T00:00:00",
          "2025-01-17T00:00:00",
          "2025-01-20T00:00:00",
          "2025-01-21T00:00:00",
          "2025-01-22T00:00:00",
          "2025-01-23T00:00:00",
          "2025-01-24T00:00:00",
          "2025-01-27T00:00:00",
          "2025-01-28T00:00:00",
          "2025-01-29T00:00:00",
          "2025-01-30T00:00:00",
          "2025-01-31T00:00:00",
          "2025-02-03T00:00:00",
          "2025-02-04T00:00:00",
          "2025-02-05T00:00:00",
          "2025-02-06T00:00:00",
          "2025-02-07T00:00:00",
          "2025-02-10T00:00:00",
          "2025-02-11T00:00:00",
          "2025-02-12T00:00:00",
          "2025-02-13T00:00:00",
          "2025-02-14T00:00:00",
          "2025-02-17T00:00:00",
          "2025-02-18T00:00:00",
          "2025-02-19T00:00:00",
          "2025-02-20T00:00:00",
          "2025-02-21T00:00:00",
          "2025-02-24T00:00:00",
          "2025-02-25T00:00:00",
          "2025-02-26T00:00:00",
          "2025-02-27T00:00:00",
          "2025-02-28T00:00:00",
          "2025-03-05T00:00:00",
          "2025-03-06T00:00:00",
          "2025-03-07T00:00:00",
          "2025-03-10T00:00:00",
          "2025-03-11T00:00:00",
          "2025-03-12T00:00:00",
          "2025-03-13T00:00:00",
          "2025-03-14T00:00:00",
          "2025-03-17T00:00:00",
          "2025-03-18T00:00:00",
          "2025-03-19T00:00:00",
          "2025-03-20T00:00:00",
          "2025-03-21T00:00:00",
          "2025-03-24T00:00:00",
          "2025-03-25T00:00:00",
          "2025-03-26T00:00:00",
          "2025-03-27T00:00:00",
          "2025-03-28T00:00:00",
          "2025-03-31T00:00:00",
          "2025-04-01T00:00:00",
          "2025-04-02T00:00:00",
          "2025-04-03T00:00:00",
          "2025-04-04T00:00:00",
          "2025-04-07T00:00:00",
          "2025-04-08T00:00:00",
          "2025-04-09T00:00:00",
          "2025-04-10T00:00:00",
          "2025-04-11T00:00:00",
          "2025-04-14T00:00:00",
          "2025-04-15T00:00:00",
          "2025-04-16T00:00:00",
          "2025-04-17T00:00:00",
          "2025-04-22T00:00:00",
          "2025-04-23T00:00:00",
          "2025-04-24T00:00:00",
          "2025-04-25T00:00:00"
         ],
         "y": [
          0.15693104479910042,
          0.02584452828370032,
          0.10389880406639623,
          0.6234819102082201,
          0.004172735051814924,
          0.7711859041244866,
          0.8325795879791675,
          0.19649820937905,
          0.5493933214740991,
          0.23222426721201717,
          0.4550227460377069,
          0.20040018538808324,
          0.13597829960780988,
          0.8176151825882476,
          0.7339858703120394,
          0.031531909093280464,
          0.35927378071337107,
          0.24506547507916854,
          0.5299862895829968,
          0.6425271911892446,
          0.9907178768413989,
          0.3614209940574208,
          0.6786419309914351,
          0.6480435741715,
          0.8156676104266506,
          0.5092563428330774,
          0.21479015271974827,
          0.4748266527221834,
          0.9404341636093256,
          0.1864697443420929,
          0.29051307112097885,
          0.9838152012568102,
          0.365909559536574,
          0.47908799811302705,
          0.24558059199053617,
          0.3593930158109149,
          0.7629787966204591,
          0.23751758857775102,
          0.8536873157264158,
          0.8196184828899529,
          0.059143660370805984,
          0.5460936362181039,
          0.9870845204251296,
          0.7510871445008562,
          0.25612549314019395,
          0.1594605750804406,
          0.4762570062962485,
          0.1710602127436091,
          0.0697884989774622,
          0.5640510132189486,
          0.1664366712158341,
          0.5173552946551367,
          0.052396354059259076,
          0.6538726088853092,
          0.5280558096553156,
          0.9254697402293273,
          0.2838335558177874,
          0.277574190704571,
          0.6924082438260042,
          0.8091168764122009,
          0.8463654430180214,
          0.7726022716312053,
          0.5658452153931494,
          0.6367474198945284,
          0.18490832947723906,
          0.5042207404997887,
          0.30816035888996524,
          0.8124599663746179,
          0.6433258108706243,
          0.7373553512684707,
          0.07453075616255439,
          0.07509012629123757,
          0.7871570967329773,
          0.5699949081923,
          0.6951301702892316,
          0,
          0.21408250406195573,
          0.21186117435070206,
          0.9999999999999999,
          0.2790179335208975,
          0.8558285157781009,
          0.8183998605262465,
          0.3809753912004051,
          0.3559724556206383,
          0.7695769972456146,
          0.7277226716075982,
          0.762109293902895,
          0.6829690228968621,
          0.37672283194454204
         ]
        },
        {
         "line": {
          "color": "green",
          "dash": "dash"
         },
         "mode": "lines",
         "name": "Otimismo ",
         "type": "scatter",
         "x": [
          "2024-12-12T00:00:00",
          "2025-04-25T00:00:00"
         ],
         "y": [
          0.85,
          0.85
         ]
        },
        {
         "line": {
          "color": "red",
          "dash": "dash"
         },
         "mode": "lines",
         "name": "Pânico ",
         "type": "scatter",
         "x": [
          "2024-12-12T00:00:00",
          "2025-04-25T00:00:00"
         ],
         "y": [
          0.15,
          0.15
         ]
        }
       ],
       "layout": {
        "height": 400,
        "margin": {
         "b": 40,
         "l": 40,
         "r": 40,
         "t": 60
        },
        "template": {
         "data": {
          "bar": [
           {
            "error_x": {
             "color": "#2a3f5f"
            },
            "error_y": {
             "color": "#2a3f5f"
            },
            "marker": {
             "line": {
              "color": "white",
              "width": 0.5
             },
             "pattern": {
              "fillmode": "overlay",
              "size": 10,
              "solidity": 0.2
             }
            },
            "type": "bar"
           }
          ],
          "barpolar": [
           {
            "marker": {
             "line": {
              "color": "white",
              "width": 0.5
             },
             "pattern": {
              "fillmode": "overlay",
              "size": 10,
              "solidity": 0.2
             }
            },
            "type": "barpolar"
           }
          ],
          "carpet": [
           {
            "aaxis": {
             "endlinecolor": "#2a3f5f",
             "gridcolor": "#C8D4E3",
             "linecolor": "#C8D4E3",
             "minorgridcolor": "#C8D4E3",
             "startlinecolor": "#2a3f5f"
            },
            "baxis": {
             "endlinecolor": "#2a3f5f",
             "gridcolor": "#C8D4E3",
             "linecolor": "#C8D4E3",
             "minorgridcolor": "#C8D4E3",
             "startlinecolor": "#2a3f5f"
            },
            "type": "carpet"
           }
          ],
          "choropleth": [
           {
            "colorbar": {
             "outlinewidth": 0,
             "ticks": ""
            },
            "type": "choropleth"
           }
          ],
          "contour": [
           {
            "colorbar": {
             "outlinewidth": 0,
             "ticks": ""
            },
            "colorscale": [
             [
              0,
              "#0d0887"
             ],
             [
              0.1111111111111111,
              "#46039f"
             ],
             [
              0.2222222222222222,
              "#7201a8"
             ],
             [
              0.3333333333333333,
              "#9c179e"
             ],
             [
              0.4444444444444444,
              "#bd3786"
             ],
             [
              0.5555555555555556,
              "#d8576b"
             ],
             [
              0.6666666666666666,
              "#ed7953"
             ],
             [
              0.7777777777777778,
              "#fb9f3a"
             ],
             [
              0.8888888888888888,
              "#fdca26"
             ],
             [
              1,
              "#f0f921"
             ]
            ],
            "type": "contour"
           }
          ],
          "contourcarpet": [
           {
            "colorbar": {
             "outlinewidth": 0,
             "ticks": ""
            },
            "type": "contourcarpet"
           }
          ],
          "heatmap": [
           {
            "colorbar": {
             "outlinewidth": 0,
             "ticks": ""
            },
            "colorscale": [
             [
              0,
              "#0d0887"
             ],
             [
              0.1111111111111111,
              "#46039f"
             ],
             [
              0.2222222222222222,
              "#7201a8"
             ],
             [
              0.3333333333333333,
              "#9c179e"
             ],
             [
              0.4444444444444444,
              "#bd3786"
             ],
             [
              0.5555555555555556,
              "#d8576b"
             ],
             [
              0.6666666666666666,
              "#ed7953"
             ],
             [
              0.7777777777777778,
              "#fb9f3a"
             ],
             [
              0.8888888888888888,
              "#fdca26"
             ],
             [
              1,
              "#f0f921"
             ]
            ],
            "type": "heatmap"
           }
          ],
          "heatmapgl": [
           {
            "colorbar": {
             "outlinewidth": 0,
             "ticks": ""
            },
            "colorscale": [
             [
              0,
              "#0d0887"
             ],
             [
              0.1111111111111111,
              "#46039f"
             ],
             [
              0.2222222222222222,
              "#7201a8"
             ],
             [
              0.3333333333333333,
              "#9c179e"
             ],
             [
              0.4444444444444444,
              "#bd3786"
             ],
             [
              0.5555555555555556,
              "#d8576b"
             ],
             [
              0.6666666666666666,
              "#ed7953"
             ],
             [
              0.7777777777777778,
              "#fb9f3a"
             ],
             [
              0.8888888888888888,
              "#fdca26"
             ],
             [
              1,
              "#f0f921"
             ]
            ],
            "type": "heatmapgl"
           }
          ],
          "histogram": [
           {
            "marker": {
             "pattern": {
              "fillmode": "overlay",
              "size": 10,
              "solidity": 0.2
             }
            },
            "type": "histogram"
           }
          ],
          "histogram2d": [
           {
            "colorbar": {
             "outlinewidth": 0,
             "ticks": ""
            },
            "colorscale": [
             [
              0,
              "#0d0887"
             ],
             [
              0.1111111111111111,
              "#46039f"
             ],
             [
              0.2222222222222222,
              "#7201a8"
             ],
             [
              0.3333333333333333,
              "#9c179e"
             ],
             [
              0.4444444444444444,
              "#bd3786"
             ],
             [
              0.5555555555555556,
              "#d8576b"
             ],
             [
              0.6666666666666666,
              "#ed7953"
             ],
             [
              0.7777777777777778,
              "#fb9f3a"
             ],
             [
              0.8888888888888888,
              "#fdca26"
             ],
             [
              1,
              "#f0f921"
             ]
            ],
            "type": "histogram2d"
           }
          ],
          "histogram2dcontour": [
           {
            "colorbar": {
             "outlinewidth": 0,
             "ticks": ""
            },
            "colorscale": [
             [
              0,
              "#0d0887"
             ],
             [
              0.1111111111111111,
              "#46039f"
             ],
             [
              0.2222222222222222,
              "#7201a8"
             ],
             [
              0.3333333333333333,
              "#9c179e"
             ],
             [
              0.4444444444444444,
              "#bd3786"
             ],
             [
              0.5555555555555556,
              "#d8576b"
             ],
             [
              0.6666666666666666,
              "#ed7953"
             ],
             [
              0.7777777777777778,
              "#fb9f3a"
             ],
             [
              0.8888888888888888,
              "#fdca26"
             ],
             [
              1,
              "#f0f921"
             ]
            ],
            "type": "histogram2dcontour"
           }
          ],
          "mesh3d": [
           {
            "colorbar": {
             "outlinewidth": 0,
             "ticks": ""
            },
            "type": "mesh3d"
           }
          ],
          "parcoords": [
           {
            "line": {
             "colorbar": {
              "outlinewidth": 0,
              "ticks": ""
             }
            },
            "type": "parcoords"
           }
          ],
          "pie": [
           {
            "automargin": true,
            "type": "pie"
           }
          ],
          "scatter": [
           {
            "fillpattern": {
             "fillmode": "overlay",
             "size": 10,
             "solidity": 0.2
            },
            "type": "scatter"
           }
          ],
          "scatter3d": [
           {
            "line": {
             "colorbar": {
              "outlinewidth": 0,
              "ticks": ""
             }
            },
            "marker": {
             "colorbar": {
              "outlinewidth": 0,
              "ticks": ""
             }
            },
            "type": "scatter3d"
           }
          ],
          "scattercarpet": [
           {
            "marker": {
             "colorbar": {
              "outlinewidth": 0,
              "ticks": ""
             }
            },
            "type": "scattercarpet"
           }
          ],
          "scattergeo": [
           {
            "marker": {
             "colorbar": {
              "outlinewidth": 0,
              "ticks": ""
             }
            },
            "type": "scattergeo"
           }
          ],
          "scattergl": [
           {
            "marker": {
             "colorbar": {
              "outlinewidth": 0,
              "ticks": ""
             }
            },
            "type": "scattergl"
           }
          ],
          "scattermapbox": [
           {
            "marker": {
             "colorbar": {
              "outlinewidth": 0,
              "ticks": ""
             }
            },
            "type": "scattermapbox"
           }
          ],
          "scatterpolar": [
           {
            "marker": {
             "colorbar": {
              "outlinewidth": 0,
              "ticks": ""
             }
            },
            "type": "scatterpolar"
           }
          ],
          "scatterpolargl": [
           {
            "marker": {
             "colorbar": {
              "outlinewidth": 0,
              "ticks": ""
             }
            },
            "type": "scatterpolargl"
           }
          ],
          "scatterternary": [
           {
            "marker": {
             "colorbar": {
              "outlinewidth": 0,
              "ticks": ""
             }
            },
            "type": "scatterternary"
           }
          ],
          "surface": [
           {
            "colorbar": {
             "outlinewidth": 0,
             "ticks": ""
            },
            "colorscale": [
             [
              0,
              "#0d0887"
             ],
             [
              0.1111111111111111,
              "#46039f"
             ],
             [
              0.2222222222222222,
              "#7201a8"
             ],
             [
              0.3333333333333333,
              "#9c179e"
             ],
             [
              0.4444444444444444,
              "#bd3786"
             ],
             [
              0.5555555555555556,
              "#d8576b"
             ],
             [
              0.6666666666666666,
              "#ed7953"
             ],
             [
              0.7777777777777778,
              "#fb9f3a"
             ],
             [
              0.8888888888888888,
              "#fdca26"
             ],
             [
              1,
              "#f0f921"
             ]
            ],
            "type": "surface"
           }
          ],
          "table": [
           {
            "cells": {
             "fill": {
              "color": "#EBF0F8"
             },
             "line": {
              "color": "white"
             }
            },
            "header": {
             "fill": {
              "color": "#C8D4E3"
             },
             "line": {
              "color": "white"
             }
            },
            "type": "table"
           }
          ]
         },
         "layout": {
          "annotationdefaults": {
           "arrowcolor": "#2a3f5f",
           "arrowhead": 0,
           "arrowwidth": 1
          },
          "autotypenumbers": "strict",
          "coloraxis": {
           "colorbar": {
            "outlinewidth": 0,
            "ticks": ""
           }
          },
          "colorscale": {
           "diverging": [
            [
             0,
             "#8e0152"
            ],
            [
             0.1,
             "#c51b7d"
            ],
            [
             0.2,
             "#de77ae"
            ],
            [
             0.3,
             "#f1b6da"
            ],
            [
             0.4,
             "#fde0ef"
            ],
            [
             0.5,
             "#f7f7f7"
            ],
            [
             0.6,
             "#e6f5d0"
            ],
            [
             0.7,
             "#b8e186"
            ],
            [
             0.8,
             "#7fbc41"
            ],
            [
             0.9,
             "#4d9221"
            ],
            [
             1,
             "#276419"
            ]
           ],
           "sequential": [
            [
             0,
             "#0d0887"
            ],
            [
             0.1111111111111111,
             "#46039f"
            ],
            [
             0.2222222222222222,
             "#7201a8"
            ],
            [
             0.3333333333333333,
             "#9c179e"
            ],
            [
             0.4444444444444444,
             "#bd3786"
            ],
            [
             0.5555555555555556,
             "#d8576b"
            ],
            [
             0.6666666666666666,
             "#ed7953"
            ],
            [
             0.7777777777777778,
             "#fb9f3a"
            ],
            [
             0.8888888888888888,
             "#fdca26"
            ],
            [
             1,
             "#f0f921"
            ]
           ],
           "sequentialminus": [
            [
             0,
             "#0d0887"
            ],
            [
             0.1111111111111111,
             "#46039f"
            ],
            [
             0.2222222222222222,
             "#7201a8"
            ],
            [
             0.3333333333333333,
             "#9c179e"
            ],
            [
             0.4444444444444444,
             "#bd3786"
            ],
            [
             0.5555555555555556,
             "#d8576b"
            ],
            [
             0.6666666666666666,
             "#ed7953"
            ],
            [
             0.7777777777777778,
             "#fb9f3a"
            ],
            [
             0.8888888888888888,
             "#fdca26"
            ],
            [
             1,
             "#f0f921"
            ]
           ]
          },
          "colorway": [
           "#636efa",
           "#EF553B",
           "#00cc96",
           "#ab63fa",
           "#FFA15A",
           "#19d3f3",
           "#FF6692",
           "#B6E880",
           "#FF97FF",
           "#FECB52"
          ],
          "font": {
           "color": "#2a3f5f"
          },
          "geo": {
           "bgcolor": "white",
           "lakecolor": "white",
           "landcolor": "white",
           "showlakes": true,
           "showland": true,
           "subunitcolor": "#C8D4E3"
          },
          "hoverlabel": {
           "align": "left"
          },
          "hovermode": "closest",
          "mapbox": {
           "style": "light"
          },
          "paper_bgcolor": "white",
          "plot_bgcolor": "white",
          "polar": {
           "angularaxis": {
            "gridcolor": "#EBF0F8",
            "linecolor": "#EBF0F8",
            "ticks": ""
           },
           "bgcolor": "white",
           "radialaxis": {
            "gridcolor": "#EBF0F8",
            "linecolor": "#EBF0F8",
            "ticks": ""
           }
          },
          "scene": {
           "xaxis": {
            "backgroundcolor": "white",
            "gridcolor": "#DFE8F3",
            "gridwidth": 2,
            "linecolor": "#EBF0F8",
            "showbackground": true,
            "ticks": "",
            "zerolinecolor": "#EBF0F8"
           },
           "yaxis": {
            "backgroundcolor": "white",
            "gridcolor": "#DFE8F3",
            "gridwidth": 2,
            "linecolor": "#EBF0F8",
            "showbackground": true,
            "ticks": "",
            "zerolinecolor": "#EBF0F8"
           },
           "zaxis": {
            "backgroundcolor": "white",
            "gridcolor": "#DFE8F3",
            "gridwidth": 2,
            "linecolor": "#EBF0F8",
            "showbackground": true,
            "ticks": "",
            "zerolinecolor": "#EBF0F8"
           }
          },
          "shapedefaults": {
           "line": {
            "color": "#2a3f5f"
           }
          },
          "ternary": {
           "aaxis": {
            "gridcolor": "#DFE8F3",
            "linecolor": "#A2B1C6",
            "ticks": ""
           },
           "baxis": {
            "gridcolor": "#DFE8F3",
            "linecolor": "#A2B1C6",
            "ticks": ""
           },
           "bgcolor": "white",
           "caxis": {
            "gridcolor": "#DFE8F3",
            "linecolor": "#A2B1C6",
            "ticks": ""
           }
          },
          "title": {
           "x": 0.05
          },
          "xaxis": {
           "automargin": true,
           "gridcolor": "#EBF0F8",
           "linecolor": "#EBF0F8",
           "ticks": "",
           "title": {
            "standoff": 15
           },
           "zerolinecolor": "#EBF0F8",
           "zerolinewidth": 2
          },
          "yaxis": {
           "automargin": true,
           "gridcolor": "#EBF0F8",
           "linecolor": "#EBF0F8",
           "ticks": "",
           "title": {
            "standoff": 15
           },
           "zerolinecolor": "#EBF0F8",
           "zerolinewidth": 2
          }
         }
        },
        "title": {
         "text": "Índice de Sentimento - ibra50"
        },
        "width": 800,
        "xaxis": {
         "title": {
          "text": "Data"
         }
        },
        "yaxis": {
         "title": {
          "text": "Índice de Sentimento"
         }
        }
       }
      }
     },
     "metadata": {},
     "output_type": "display_data"
    }
   ],
   "source": [
    "fig = go.Figure()\n",
    "\n",
    "# Linha principal (o seu índice de sentimento)\n",
    "fig.add_trace(go.Scatter(x=scaled_df_volume.index,y=scaled_df_volume['Indice_Sentimento'],mode='lines',\n",
    "    name=f'Índice de Sentimento - {carteira}', line=dict(color='blue')))\n",
    "# Linha de Otimismo \n",
    "fig.add_trace(go.Scatter(x=[scaled_df_volume.index.min(), scaled_df_volume.index.max()],y=[0.85, 0.85],mode='lines',\n",
    "    name='Otimismo ', line=dict(color='green', dash='dash')))\n",
    "# Linha de Pânico \n",
    "fig.add_trace(go.Scatter(x=[scaled_df_volume.index.min(), scaled_df_volume.index.max()],y=[0.15, 0.15],mode='lines',\n",
    "    name='Pânico ', line=dict(color='red', dash='dash')))\n",
    "# Layout\n",
    "fig.update_layout(title=f'Índice de Sentimento - {carteira}',width=800,height=400,#legend=dict(yanchor=\"top\", y=0.99, xanchor=\"left\", x=0.01),\n",
    "    margin=dict(l=40, r=40, t=60, b=40),xaxis_title='Data',yaxis_title='Índice de Sentimento',template='plotly_white')\n",
    "\n",
    "fig.show()"
   ]
  },
  {
   "cell_type": "code",
   "execution_count": 324,
   "id": "1bc97fbd",
   "metadata": {},
   "outputs": [
    {
     "data": {
      "application/vnd.plotly.v1+json": {
       "config": {
        "plotlyServerURL": "https://plot.ly"
       },
       "data": [
        {
         "delta": {
          "decreasing": {
           "color": "red"
          },
          "increasing": {
           "color": "green"
          },
          "reference": 0.6829690228968621
         },
         "gauge": {
          "axis": {
           "range": [
            0,
            1
           ],
           "ticktext": [
            "Pânico",
            "Medo",
            "Neutro",
            "Neutro",
            "Confiante",
            "Otimismo"
           ],
           "tickvals": [
            0,
            0.2,
            0.4,
            0.6,
            0.8,
            1
           ]
          },
          "bar": {
           "color": "brown",
           "thickness": 0.3
          },
          "bgcolor": "lightgray",
          "steps": [
           {
            "color": "#e6e6e6",
            "range": [
             0,
             0.2
            ]
           },
           {
            "color": "#d9d9d9",
            "range": [
             0.2,
             0.4
            ]
           },
           {
            "color": "#cccccc",
            "range": [
             0.4,
             0.6
            ]
           },
           {
            "color": "#bfbfbf",
            "range": [
             0.6,
             0.8
            ]
           },
           {
            "color": "#b3b3b3",
            "range": [
             0.8,
             1
            ]
           }
          ]
         },
         "mode": "gauge+number+delta",
         "number": {
          "font": {
           "size": 48
          }
         },
         "title": {
          "text": "Índice de Pânico e Otimismo<br><span style='font-size:0.9em'>Data: 2025-04-25</span>"
         },
         "type": "indicator",
         "value": 0.37672283194454204
        }
       ],
       "layout": {
        "height": 300,
        "margin": {
         "b": 10,
         "t": 80
        },
        "template": {
         "data": {
          "bar": [
           {
            "error_x": {
             "color": "#2a3f5f"
            },
            "error_y": {
             "color": "#2a3f5f"
            },
            "marker": {
             "line": {
              "color": "#E5ECF6",
              "width": 0.5
             },
             "pattern": {
              "fillmode": "overlay",
              "size": 10,
              "solidity": 0.2
             }
            },
            "type": "bar"
           }
          ],
          "barpolar": [
           {
            "marker": {
             "line": {
              "color": "#E5ECF6",
              "width": 0.5
             },
             "pattern": {
              "fillmode": "overlay",
              "size": 10,
              "solidity": 0.2
             }
            },
            "type": "barpolar"
           }
          ],
          "carpet": [
           {
            "aaxis": {
             "endlinecolor": "#2a3f5f",
             "gridcolor": "white",
             "linecolor": "white",
             "minorgridcolor": "white",
             "startlinecolor": "#2a3f5f"
            },
            "baxis": {
             "endlinecolor": "#2a3f5f",
             "gridcolor": "white",
             "linecolor": "white",
             "minorgridcolor": "white",
             "startlinecolor": "#2a3f5f"
            },
            "type": "carpet"
           }
          ],
          "choropleth": [
           {
            "colorbar": {
             "outlinewidth": 0,
             "ticks": ""
            },
            "type": "choropleth"
           }
          ],
          "contour": [
           {
            "colorbar": {
             "outlinewidth": 0,
             "ticks": ""
            },
            "colorscale": [
             [
              0,
              "#0d0887"
             ],
             [
              0.1111111111111111,
              "#46039f"
             ],
             [
              0.2222222222222222,
              "#7201a8"
             ],
             [
              0.3333333333333333,
              "#9c179e"
             ],
             [
              0.4444444444444444,
              "#bd3786"
             ],
             [
              0.5555555555555556,
              "#d8576b"
             ],
             [
              0.6666666666666666,
              "#ed7953"
             ],
             [
              0.7777777777777778,
              "#fb9f3a"
             ],
             [
              0.8888888888888888,
              "#fdca26"
             ],
             [
              1,
              "#f0f921"
             ]
            ],
            "type": "contour"
           }
          ],
          "contourcarpet": [
           {
            "colorbar": {
             "outlinewidth": 0,
             "ticks": ""
            },
            "type": "contourcarpet"
           }
          ],
          "heatmap": [
           {
            "colorbar": {
             "outlinewidth": 0,
             "ticks": ""
            },
            "colorscale": [
             [
              0,
              "#0d0887"
             ],
             [
              0.1111111111111111,
              "#46039f"
             ],
             [
              0.2222222222222222,
              "#7201a8"
             ],
             [
              0.3333333333333333,
              "#9c179e"
             ],
             [
              0.4444444444444444,
              "#bd3786"
             ],
             [
              0.5555555555555556,
              "#d8576b"
             ],
             [
              0.6666666666666666,
              "#ed7953"
             ],
             [
              0.7777777777777778,
              "#fb9f3a"
             ],
             [
              0.8888888888888888,
              "#fdca26"
             ],
             [
              1,
              "#f0f921"
             ]
            ],
            "type": "heatmap"
           }
          ],
          "heatmapgl": [
           {
            "colorbar": {
             "outlinewidth": 0,
             "ticks": ""
            },
            "colorscale": [
             [
              0,
              "#0d0887"
             ],
             [
              0.1111111111111111,
              "#46039f"
             ],
             [
              0.2222222222222222,
              "#7201a8"
             ],
             [
              0.3333333333333333,
              "#9c179e"
             ],
             [
              0.4444444444444444,
              "#bd3786"
             ],
             [
              0.5555555555555556,
              "#d8576b"
             ],
             [
              0.6666666666666666,
              "#ed7953"
             ],
             [
              0.7777777777777778,
              "#fb9f3a"
             ],
             [
              0.8888888888888888,
              "#fdca26"
             ],
             [
              1,
              "#f0f921"
             ]
            ],
            "type": "heatmapgl"
           }
          ],
          "histogram": [
           {
            "marker": {
             "pattern": {
              "fillmode": "overlay",
              "size": 10,
              "solidity": 0.2
             }
            },
            "type": "histogram"
           }
          ],
          "histogram2d": [
           {
            "colorbar": {
             "outlinewidth": 0,
             "ticks": ""
            },
            "colorscale": [
             [
              0,
              "#0d0887"
             ],
             [
              0.1111111111111111,
              "#46039f"
             ],
             [
              0.2222222222222222,
              "#7201a8"
             ],
             [
              0.3333333333333333,
              "#9c179e"
             ],
             [
              0.4444444444444444,
              "#bd3786"
             ],
             [
              0.5555555555555556,
              "#d8576b"
             ],
             [
              0.6666666666666666,
              "#ed7953"
             ],
             [
              0.7777777777777778,
              "#fb9f3a"
             ],
             [
              0.8888888888888888,
              "#fdca26"
             ],
             [
              1,
              "#f0f921"
             ]
            ],
            "type": "histogram2d"
           }
          ],
          "histogram2dcontour": [
           {
            "colorbar": {
             "outlinewidth": 0,
             "ticks": ""
            },
            "colorscale": [
             [
              0,
              "#0d0887"
             ],
             [
              0.1111111111111111,
              "#46039f"
             ],
             [
              0.2222222222222222,
              "#7201a8"
             ],
             [
              0.3333333333333333,
              "#9c179e"
             ],
             [
              0.4444444444444444,
              "#bd3786"
             ],
             [
              0.5555555555555556,
              "#d8576b"
             ],
             [
              0.6666666666666666,
              "#ed7953"
             ],
             [
              0.7777777777777778,
              "#fb9f3a"
             ],
             [
              0.8888888888888888,
              "#fdca26"
             ],
             [
              1,
              "#f0f921"
             ]
            ],
            "type": "histogram2dcontour"
           }
          ],
          "mesh3d": [
           {
            "colorbar": {
             "outlinewidth": 0,
             "ticks": ""
            },
            "type": "mesh3d"
           }
          ],
          "parcoords": [
           {
            "line": {
             "colorbar": {
              "outlinewidth": 0,
              "ticks": ""
             }
            },
            "type": "parcoords"
           }
          ],
          "pie": [
           {
            "automargin": true,
            "type": "pie"
           }
          ],
          "scatter": [
           {
            "fillpattern": {
             "fillmode": "overlay",
             "size": 10,
             "solidity": 0.2
            },
            "type": "scatter"
           }
          ],
          "scatter3d": [
           {
            "line": {
             "colorbar": {
              "outlinewidth": 0,
              "ticks": ""
             }
            },
            "marker": {
             "colorbar": {
              "outlinewidth": 0,
              "ticks": ""
             }
            },
            "type": "scatter3d"
           }
          ],
          "scattercarpet": [
           {
            "marker": {
             "colorbar": {
              "outlinewidth": 0,
              "ticks": ""
             }
            },
            "type": "scattercarpet"
           }
          ],
          "scattergeo": [
           {
            "marker": {
             "colorbar": {
              "outlinewidth": 0,
              "ticks": ""
             }
            },
            "type": "scattergeo"
           }
          ],
          "scattergl": [
           {
            "marker": {
             "colorbar": {
              "outlinewidth": 0,
              "ticks": ""
             }
            },
            "type": "scattergl"
           }
          ],
          "scattermapbox": [
           {
            "marker": {
             "colorbar": {
              "outlinewidth": 0,
              "ticks": ""
             }
            },
            "type": "scattermapbox"
           }
          ],
          "scatterpolar": [
           {
            "marker": {
             "colorbar": {
              "outlinewidth": 0,
              "ticks": ""
             }
            },
            "type": "scatterpolar"
           }
          ],
          "scatterpolargl": [
           {
            "marker": {
             "colorbar": {
              "outlinewidth": 0,
              "ticks": ""
             }
            },
            "type": "scatterpolargl"
           }
          ],
          "scatterternary": [
           {
            "marker": {
             "colorbar": {
              "outlinewidth": 0,
              "ticks": ""
             }
            },
            "type": "scatterternary"
           }
          ],
          "surface": [
           {
            "colorbar": {
             "outlinewidth": 0,
             "ticks": ""
            },
            "colorscale": [
             [
              0,
              "#0d0887"
             ],
             [
              0.1111111111111111,
              "#46039f"
             ],
             [
              0.2222222222222222,
              "#7201a8"
             ],
             [
              0.3333333333333333,
              "#9c179e"
             ],
             [
              0.4444444444444444,
              "#bd3786"
             ],
             [
              0.5555555555555556,
              "#d8576b"
             ],
             [
              0.6666666666666666,
              "#ed7953"
             ],
             [
              0.7777777777777778,
              "#fb9f3a"
             ],
             [
              0.8888888888888888,
              "#fdca26"
             ],
             [
              1,
              "#f0f921"
             ]
            ],
            "type": "surface"
           }
          ],
          "table": [
           {
            "cells": {
             "fill": {
              "color": "#EBF0F8"
             },
             "line": {
              "color": "white"
             }
            },
            "header": {
             "fill": {
              "color": "#C8D4E3"
             },
             "line": {
              "color": "white"
             }
            },
            "type": "table"
           }
          ]
         },
         "layout": {
          "annotationdefaults": {
           "arrowcolor": "#2a3f5f",
           "arrowhead": 0,
           "arrowwidth": 1
          },
          "autotypenumbers": "strict",
          "coloraxis": {
           "colorbar": {
            "outlinewidth": 0,
            "ticks": ""
           }
          },
          "colorscale": {
           "diverging": [
            [
             0,
             "#8e0152"
            ],
            [
             0.1,
             "#c51b7d"
            ],
            [
             0.2,
             "#de77ae"
            ],
            [
             0.3,
             "#f1b6da"
            ],
            [
             0.4,
             "#fde0ef"
            ],
            [
             0.5,
             "#f7f7f7"
            ],
            [
             0.6,
             "#e6f5d0"
            ],
            [
             0.7,
             "#b8e186"
            ],
            [
             0.8,
             "#7fbc41"
            ],
            [
             0.9,
             "#4d9221"
            ],
            [
             1,
             "#276419"
            ]
           ],
           "sequential": [
            [
             0,
             "#0d0887"
            ],
            [
             0.1111111111111111,
             "#46039f"
            ],
            [
             0.2222222222222222,
             "#7201a8"
            ],
            [
             0.3333333333333333,
             "#9c179e"
            ],
            [
             0.4444444444444444,
             "#bd3786"
            ],
            [
             0.5555555555555556,
             "#d8576b"
            ],
            [
             0.6666666666666666,
             "#ed7953"
            ],
            [
             0.7777777777777778,
             "#fb9f3a"
            ],
            [
             0.8888888888888888,
             "#fdca26"
            ],
            [
             1,
             "#f0f921"
            ]
           ],
           "sequentialminus": [
            [
             0,
             "#0d0887"
            ],
            [
             0.1111111111111111,
             "#46039f"
            ],
            [
             0.2222222222222222,
             "#7201a8"
            ],
            [
             0.3333333333333333,
             "#9c179e"
            ],
            [
             0.4444444444444444,
             "#bd3786"
            ],
            [
             0.5555555555555556,
             "#d8576b"
            ],
            [
             0.6666666666666666,
             "#ed7953"
            ],
            [
             0.7777777777777778,
             "#fb9f3a"
            ],
            [
             0.8888888888888888,
             "#fdca26"
            ],
            [
             1,
             "#f0f921"
            ]
           ]
          },
          "colorway": [
           "#636efa",
           "#EF553B",
           "#00cc96",
           "#ab63fa",
           "#FFA15A",
           "#19d3f3",
           "#FF6692",
           "#B6E880",
           "#FF97FF",
           "#FECB52"
          ],
          "font": {
           "color": "#2a3f5f"
          },
          "geo": {
           "bgcolor": "white",
           "lakecolor": "white",
           "landcolor": "#E5ECF6",
           "showlakes": true,
           "showland": true,
           "subunitcolor": "white"
          },
          "hoverlabel": {
           "align": "left"
          },
          "hovermode": "closest",
          "mapbox": {
           "style": "light"
          },
          "paper_bgcolor": "white",
          "plot_bgcolor": "#E5ECF6",
          "polar": {
           "angularaxis": {
            "gridcolor": "white",
            "linecolor": "white",
            "ticks": ""
           },
           "bgcolor": "#E5ECF6",
           "radialaxis": {
            "gridcolor": "white",
            "linecolor": "white",
            "ticks": ""
           }
          },
          "scene": {
           "xaxis": {
            "backgroundcolor": "#E5ECF6",
            "gridcolor": "white",
            "gridwidth": 2,
            "linecolor": "white",
            "showbackground": true,
            "ticks": "",
            "zerolinecolor": "white"
           },
           "yaxis": {
            "backgroundcolor": "#E5ECF6",
            "gridcolor": "white",
            "gridwidth": 2,
            "linecolor": "white",
            "showbackground": true,
            "ticks": "",
            "zerolinecolor": "white"
           },
           "zaxis": {
            "backgroundcolor": "#E5ECF6",
            "gridcolor": "white",
            "gridwidth": 2,
            "linecolor": "white",
            "showbackground": true,
            "ticks": "",
            "zerolinecolor": "white"
           }
          },
          "shapedefaults": {
           "line": {
            "color": "#2a3f5f"
           }
          },
          "ternary": {
           "aaxis": {
            "gridcolor": "white",
            "linecolor": "white",
            "ticks": ""
           },
           "baxis": {
            "gridcolor": "white",
            "linecolor": "white",
            "ticks": ""
           },
           "bgcolor": "#E5ECF6",
           "caxis": {
            "gridcolor": "white",
            "linecolor": "white",
            "ticks": ""
           }
          },
          "title": {
           "x": 0.05
          },
          "xaxis": {
           "automargin": true,
           "gridcolor": "white",
           "linecolor": "white",
           "ticks": "",
           "title": {
            "standoff": 15
           },
           "zerolinecolor": "white",
           "zerolinewidth": 2
          },
          "yaxis": {
           "automargin": true,
           "gridcolor": "white",
           "linecolor": "white",
           "ticks": "",
           "title": {
            "standoff": 15
           },
           "zerolinecolor": "white",
           "zerolinewidth": 2
          }
         }
        }
       }
      }
     },
     "metadata": {},
     "output_type": "display_data"
    }
   ],
   "source": [
    "# 5. Gauge\n",
    "indice_atual = scaled_df_volume['Indice_Sentimento'].iloc[-1]\n",
    "indice_ontem = scaled_df_volume['Indice_Sentimento'].iloc[-2]\n",
    "variacao = indice_atual - indice_ontem\n",
    "data_ult = df_resultado.index[-1].strftime('%Y-%m-%d')\n",
    "\n",
    "fig = go.Figure(go.Indicator(\n",
    "    mode=\"gauge+number+delta\",\n",
    "    value=indice_atual,\n",
    "    delta={'reference': indice_ontem, 'increasing': {'color': \"green\"}, 'decreasing': {'color': \"red\"}},\n",
    "    number={'font': {'size': 48}},\n",
    "    gauge={\n",
    "        'axis': {'range': [0, 1], 'tickvals': [0, 0.2, 0.4, 0.6, 0.8, 1], \n",
    "                 'ticktext': ['Pânico', 'Medo', 'Neutro', 'Neutro', 'Confiante', 'Otimismo']},\n",
    "        'bar': {'color': 'brown', 'thickness': 0.3},\n",
    "        'bgcolor': \"lightgray\",\n",
    "        'steps': [\n",
    "            {'range': [0, 0.2], 'color': '#e6e6e6'},\n",
    "            {'range': [0.2, 0.4], 'color': '#d9d9d9'},\n",
    "            {'range': [0.4, 0.6], 'color': '#cccccc'},\n",
    "            {'range': [0.6, 0.8], 'color': '#bfbfbf'},\n",
    "            {'range': [0.8, 1.0], 'color': '#b3b3b3'}\n",
    "        ],\n",
    "    },\n",
    "    title={'text': f\"Índice de Pânico e Otimismo<br><span style='font-size:0.9em'>Data: {data_ult}</span>\"}\n",
    "))\n",
    "\n",
    "fig.update_layout(height=300, margin={'t': 80, 'b': 10})\n",
    "fig.show()\n"
   ]
  },
  {
   "cell_type": "code",
   "execution_count": 325,
   "id": "72ee334c",
   "metadata": {},
   "outputs": [],
   "source": [
    "from selenium import webdriver\n",
    "from selenium.webdriver.common.by import By\n",
    "from selenium.webdriver.support.ui import WebDriverWait\n",
    "from selenium.webdriver.support import expected_conditions as EC\n",
    "from selenium.webdriver.chrome.options import Options\n",
    "import time\n",
    "import os\n",
    "\n",
    "# Pasta onde o arquivo será salvo\n",
    "download_dir = str(os.getcwd()) + r\"/data/\"\n",
    "\n",
    "# Configurações do Chrome\n",
    "chrome_options = Options()\n",
    "chrome_options.add_experimental_option('prefs', {\n",
    "    \"download.default_directory\": download_dir,  # muda a pasta de download\n",
    "    \"download.prompt_for_download\": False,       # não pede confirmação\n",
    "    \"directory_upgrade\": True,\n",
    "    \"safebrowsing.enabled\": True\n",
    "})\n"
   ]
  },
  {
   "cell_type": "markdown",
   "id": "f32492cf",
   "metadata": {},
   "source": [
    "*Índice com dados de fluxo (investidor estrangeiro vs local)*\n",
    "$$\n",
    "\\text{Indice de fluxo} = \\frac{\\text{Fluxo Lıquido Estrangeiro}}{\\text{Volume Total}}\n",
    "$$ \n",
    "Se o índice estiver muito positivo: otimismo externo (gringos comprando).\n",
    "\n",
    "Se estiver muito negativo: pânico (gringos vendendo pesado).\n",
    "\n"
   ]
  },
  {
   "cell_type": "code",
   "execution_count": 326,
   "id": "6953d934",
   "metadata": {},
   "outputs": [],
   "source": [
    "driver=webdriver.Chrome(options=chrome_options)\n",
    "url='https://www.dadosdemercado.com.br/bolsa/investidores-estrangeiros'\n",
    "driver.get(url)\n",
    "time.sleep(2)\n",
    "path='//*[@id=\"download-csv\"]'\n",
    "botao = driver.find_element(By.XPATH,path)\n",
    "botao.click()\n",
    "driver.close()"
   ]
  },
  {
   "cell_type": "code",
   "execution_count": 327,
   "id": "73f87141",
   "metadata": {},
   "outputs": [],
   "source": [
    "try:\n",
    "    os.rename(\"data/fluxo-estrangeiro (1).csv\",\"data/fluxo-estrangeiro.csv\")\n",
    "except:\n",
    "    pass"
   ]
  },
  {
   "cell_type": "code",
   "execution_count": 328,
   "id": "c94e9c24",
   "metadata": {},
   "outputs": [
    {
     "data": {
      "text/html": [
       "<div>\n",
       "<style scoped>\n",
       "    .dataframe tbody tr th:only-of-type {\n",
       "        vertical-align: middle;\n",
       "    }\n",
       "\n",
       "    .dataframe tbody tr th {\n",
       "        vertical-align: top;\n",
       "    }\n",
       "\n",
       "    .dataframe thead th {\n",
       "        text-align: right;\n",
       "    }\n",
       "</style>\n",
       "<table border=\"1\" class=\"dataframe\">\n",
       "  <thead>\n",
       "    <tr style=\"text-align: right;\">\n",
       "      <th></th>\n",
       "      <th>Data</th>\n",
       "      <th>Estrangeiro</th>\n",
       "      <th>Institucional</th>\n",
       "      <th>Pessoa física</th>\n",
       "      <th>Inst. Financeira</th>\n",
       "      <th>Outros</th>\n",
       "      <th>Total</th>\n",
       "      <th>Total absluto</th>\n",
       "      <th>Indice de fluxo</th>\n",
       "    </tr>\n",
       "  </thead>\n",
       "  <tbody>\n",
       "    <tr>\n",
       "      <th>0</th>\n",
       "      <td>2025-04-23</td>\n",
       "      <td>1671.85</td>\n",
       "      <td>-1210.13</td>\n",
       "      <td>-247.50</td>\n",
       "      <td>67.38</td>\n",
       "      <td>-281.60</td>\n",
       "      <td>-2.273737e-13</td>\n",
       "      <td>3478.46</td>\n",
       "      <td>0.480629</td>\n",
       "    </tr>\n",
       "    <tr>\n",
       "      <th>1</th>\n",
       "      <td>2025-04-22</td>\n",
       "      <td>1112.86</td>\n",
       "      <td>-935.41</td>\n",
       "      <td>-127.54</td>\n",
       "      <td>-34.45</td>\n",
       "      <td>-15.46</td>\n",
       "      <td>-7.815970e-14</td>\n",
       "      <td>2225.72</td>\n",
       "      <td>0.500000</td>\n",
       "    </tr>\n",
       "    <tr>\n",
       "      <th>2</th>\n",
       "      <td>2025-04-17</td>\n",
       "      <td>2332.51</td>\n",
       "      <td>-781.91</td>\n",
       "      <td>-273.00</td>\n",
       "      <td>-1326.86</td>\n",
       "      <td>49.25</td>\n",
       "      <td>-1.000000e-02</td>\n",
       "      <td>4763.53</td>\n",
       "      <td>0.489660</td>\n",
       "    </tr>\n",
       "    <tr>\n",
       "      <th>3</th>\n",
       "      <td>2025-04-16</td>\n",
       "      <td>-1115.98</td>\n",
       "      <td>564.08</td>\n",
       "      <td>113.25</td>\n",
       "      <td>231.88</td>\n",
       "      <td>206.77</td>\n",
       "      <td>2.842171e-14</td>\n",
       "      <td>2231.96</td>\n",
       "      <td>-0.500000</td>\n",
       "    </tr>\n",
       "    <tr>\n",
       "      <th>4</th>\n",
       "      <td>2025-04-15</td>\n",
       "      <td>-68.61</td>\n",
       "      <td>-169.87</td>\n",
       "      <td>402.79</td>\n",
       "      <td>-235.00</td>\n",
       "      <td>70.68</td>\n",
       "      <td>-1.000000e-02</td>\n",
       "      <td>946.95</td>\n",
       "      <td>-0.072454</td>\n",
       "    </tr>\n",
       "    <tr>\n",
       "      <th>...</th>\n",
       "      <td>...</td>\n",
       "      <td>...</td>\n",
       "      <td>...</td>\n",
       "      <td>...</td>\n",
       "      <td>...</td>\n",
       "      <td>...</td>\n",
       "      <td>...</td>\n",
       "      <td>...</td>\n",
       "      <td>...</td>\n",
       "    </tr>\n",
       "    <tr>\n",
       "      <th>243</th>\n",
       "      <td>2024-05-06</td>\n",
       "      <td>-128.19</td>\n",
       "      <td>-88.95</td>\n",
       "      <td>194.39</td>\n",
       "      <td>17.70</td>\n",
       "      <td>5.06</td>\n",
       "      <td>1.000000e-02</td>\n",
       "      <td>434.29</td>\n",
       "      <td>-0.295171</td>\n",
       "    </tr>\n",
       "    <tr>\n",
       "      <th>244</th>\n",
       "      <td>2024-05-03</td>\n",
       "      <td>1028.27</td>\n",
       "      <td>-522.34</td>\n",
       "      <td>-375.29</td>\n",
       "      <td>-58.40</td>\n",
       "      <td>-72.24</td>\n",
       "      <td>-7.105427e-14</td>\n",
       "      <td>2056.54</td>\n",
       "      <td>0.500000</td>\n",
       "    </tr>\n",
       "    <tr>\n",
       "      <th>245</th>\n",
       "      <td>2024-05-02</td>\n",
       "      <td>603.67</td>\n",
       "      <td>-623.34</td>\n",
       "      <td>-220.19</td>\n",
       "      <td>17.07</td>\n",
       "      <td>222.79</td>\n",
       "      <td>-8.526513e-14</td>\n",
       "      <td>1687.06</td>\n",
       "      <td>0.357824</td>\n",
       "    </tr>\n",
       "    <tr>\n",
       "      <th>246</th>\n",
       "      <td>2024-04-30</td>\n",
       "      <td>-1398.73</td>\n",
       "      <td>607.61</td>\n",
       "      <td>529.58</td>\n",
       "      <td>251.08</td>\n",
       "      <td>10.47</td>\n",
       "      <td>1.000000e-02</td>\n",
       "      <td>2797.47</td>\n",
       "      <td>-0.499998</td>\n",
       "    </tr>\n",
       "    <tr>\n",
       "      <th>247</th>\n",
       "      <td>2024-04-29</td>\n",
       "      <td>968.65</td>\n",
       "      <td>-905.58</td>\n",
       "      <td>-1.20</td>\n",
       "      <td>-81.45</td>\n",
       "      <td>19.58</td>\n",
       "      <td>-7.105427e-14</td>\n",
       "      <td>1976.46</td>\n",
       "      <td>0.490093</td>\n",
       "    </tr>\n",
       "  </tbody>\n",
       "</table>\n",
       "<p>248 rows × 9 columns</p>\n",
       "</div>"
      ],
      "text/plain": [
       "          Data  Estrangeiro  Institucional  Pessoa física  Inst. Financeira  \\\n",
       "0   2025-04-23      1671.85       -1210.13        -247.50             67.38   \n",
       "1   2025-04-22      1112.86        -935.41        -127.54            -34.45   \n",
       "2   2025-04-17      2332.51        -781.91        -273.00          -1326.86   \n",
       "3   2025-04-16     -1115.98         564.08         113.25            231.88   \n",
       "4   2025-04-15       -68.61        -169.87         402.79           -235.00   \n",
       "..         ...          ...            ...            ...               ...   \n",
       "243 2024-05-06      -128.19         -88.95         194.39             17.70   \n",
       "244 2024-05-03      1028.27        -522.34        -375.29            -58.40   \n",
       "245 2024-05-02       603.67        -623.34        -220.19             17.07   \n",
       "246 2024-04-30     -1398.73         607.61         529.58            251.08   \n",
       "247 2024-04-29       968.65        -905.58          -1.20            -81.45   \n",
       "\n",
       "     Outros         Total  Total absluto  Indice de fluxo  \n",
       "0   -281.60 -2.273737e-13        3478.46         0.480629  \n",
       "1    -15.46 -7.815970e-14        2225.72         0.500000  \n",
       "2     49.25 -1.000000e-02        4763.53         0.489660  \n",
       "3    206.77  2.842171e-14        2231.96        -0.500000  \n",
       "4     70.68 -1.000000e-02         946.95        -0.072454  \n",
       "..      ...           ...            ...              ...  \n",
       "243    5.06  1.000000e-02         434.29        -0.295171  \n",
       "244  -72.24 -7.105427e-14        2056.54         0.500000  \n",
       "245  222.79 -8.526513e-14        1687.06         0.357824  \n",
       "246   10.47  1.000000e-02        2797.47        -0.499998  \n",
       "247   19.58 -7.105427e-14        1976.46         0.490093  \n",
       "\n",
       "[248 rows x 9 columns]"
      ]
     },
     "execution_count": 328,
     "metadata": {},
     "output_type": "execute_result"
    }
   ],
   "source": [
    "fluxo = pd.read_csv('data/fluxo-estrangeiro.csv')\n",
    "\n",
    "# Converter a coluna Data para datetime\n",
    "fluxo['Data'] = pd.to_datetime(fluxo['Data'], format='%d/%m/%Y')\n",
    "\n",
    "# Função para limpar e converter os valores para float\n",
    "def converter_valor(valor):\n",
    "    if isinstance(valor, str):\n",
    "        # Remove o sufixo \" mi\"\n",
    "        valor = valor.replace(' mi', '')\n",
    "        # Substitui o ponto de milhar e vírgula decimal para formato float padrão\n",
    "        valor = valor.replace('.', '').replace(',', '.')\n",
    "        return float(valor)\n",
    "    return valor\n",
    "\n",
    "# Aplicar a função para todas as colunas, exceto 'Data'\n",
    "colunas_valores = fluxo.columns.difference(['Data'])\n",
    "for col in colunas_valores:\n",
    "    fluxo[col] = fluxo[col].apply(converter_valor)\n",
    "\n",
    "fluxo['Total'] = (fluxo['Estrangeiro']+fluxo['Institucional']+fluxo['Pessoa física']+fluxo['Inst. Financeira']+fluxo['Outros'] \t)\n",
    "fluxo['Total absluto'] = abs(fluxo['Estrangeiro'])+abs(fluxo['Institucional'])+abs(fluxo['Pessoa física'])+abs(fluxo['Inst. Financeira'])+abs(fluxo['Outros'] \t)\n",
    "\n",
    "fluxo['Indice de fluxo'] = fluxo['Estrangeiro']/fluxo['Total absluto']\n",
    "# fluxo['Total2'] = fluxo[colunas_valores].sum(axis=1)\n",
    "# print(fluxo)\n",
    "# print(fluxo.dtypes)\n",
    "fluxo"
   ]
  },
  {
   "cell_type": "code",
   "execution_count": 329,
   "id": "1b518c7d",
   "metadata": {},
   "outputs": [
    {
     "data": {
      "application/vnd.plotly.v1+json": {
       "config": {
        "plotlyServerURL": "https://plot.ly"
       },
       "data": [
        {
         "line": {
          "color": "blue"
         },
         "mode": "lines",
         "name": "Estrangeiro",
         "type": "scatter",
         "x": [
          "2025-04-23T00:00:00",
          "2025-04-22T00:00:00",
          "2025-04-17T00:00:00",
          "2025-04-16T00:00:00",
          "2025-04-15T00:00:00",
          "2025-04-14T00:00:00",
          "2025-04-11T00:00:00",
          "2025-04-10T00:00:00",
          "2025-04-09T00:00:00",
          "2025-04-08T00:00:00",
          "2025-04-07T00:00:00",
          "2025-04-04T00:00:00",
          "2025-04-03T00:00:00",
          "2025-04-02T00:00:00",
          "2025-04-01T00:00:00",
          "2025-03-31T00:00:00",
          "2025-03-28T00:00:00",
          "2025-03-27T00:00:00",
          "2025-03-26T00:00:00",
          "2025-03-25T00:00:00",
          "2025-03-24T00:00:00",
          "2025-03-21T00:00:00",
          "2025-03-20T00:00:00",
          "2025-03-19T00:00:00",
          "2025-03-18T00:00:00",
          "2025-03-17T00:00:00",
          "2025-03-14T00:00:00",
          "2025-03-13T00:00:00",
          "2025-03-12T00:00:00",
          "2025-03-11T00:00:00",
          "2025-03-10T00:00:00",
          "2025-03-07T00:00:00",
          "2025-03-06T00:00:00",
          "2025-03-05T00:00:00",
          "2025-02-28T00:00:00",
          "2025-02-27T00:00:00",
          "2025-02-26T00:00:00",
          "2025-02-25T00:00:00",
          "2025-02-24T00:00:00",
          "2025-02-21T00:00:00",
          "2025-02-20T00:00:00",
          "2025-02-19T00:00:00",
          "2025-02-18T00:00:00",
          "2025-02-17T00:00:00",
          "2025-02-14T00:00:00",
          "2025-02-13T00:00:00",
          "2025-02-12T00:00:00",
          "2025-02-11T00:00:00",
          "2025-02-10T00:00:00",
          "2025-02-07T00:00:00",
          "2025-02-06T00:00:00",
          "2025-02-05T00:00:00",
          "2025-02-04T00:00:00",
          "2025-02-03T00:00:00",
          "2025-01-31T00:00:00",
          "2025-01-30T00:00:00",
          "2025-01-29T00:00:00",
          "2025-01-28T00:00:00",
          "2025-01-27T00:00:00",
          "2025-01-24T00:00:00",
          "2025-01-23T00:00:00",
          "2025-01-22T00:00:00",
          "2025-01-21T00:00:00",
          "2025-01-20T00:00:00",
          "2025-01-17T00:00:00",
          "2025-01-16T00:00:00",
          "2025-01-15T00:00:00",
          "2025-01-14T00:00:00",
          "2025-01-13T00:00:00",
          "2025-01-10T00:00:00",
          "2025-01-09T00:00:00",
          "2025-01-08T00:00:00",
          "2025-01-07T00:00:00",
          "2025-01-06T00:00:00",
          "2025-01-03T00:00:00",
          "2025-01-02T00:00:00",
          "2024-12-31T00:00:00",
          "2024-12-30T00:00:00",
          "2024-12-27T00:00:00",
          "2024-12-26T00:00:00",
          "2024-12-24T00:00:00",
          "2024-12-23T00:00:00",
          "2024-12-20T00:00:00",
          "2024-12-19T00:00:00",
          "2024-12-18T00:00:00",
          "2024-12-17T00:00:00",
          "2024-12-16T00:00:00",
          "2024-12-13T00:00:00",
          "2024-12-12T00:00:00",
          "2024-12-11T00:00:00",
          "2024-12-10T00:00:00",
          "2024-12-09T00:00:00",
          "2024-12-06T00:00:00",
          "2024-12-05T00:00:00",
          "2024-12-04T00:00:00",
          "2024-12-03T00:00:00",
          "2024-12-02T00:00:00",
          "2024-11-29T00:00:00",
          "2024-11-28T00:00:00",
          "2024-11-27T00:00:00",
          "2024-11-26T00:00:00",
          "2024-11-25T00:00:00",
          "2024-11-22T00:00:00",
          "2024-11-21T00:00:00",
          "2024-11-19T00:00:00",
          "2024-11-18T00:00:00",
          "2024-11-14T00:00:00",
          "2024-11-13T00:00:00",
          "2024-11-12T00:00:00",
          "2024-11-11T00:00:00",
          "2024-11-08T00:00:00",
          "2024-11-07T00:00:00",
          "2024-11-06T00:00:00",
          "2024-11-05T00:00:00",
          "2024-11-04T00:00:00",
          "2024-11-01T00:00:00",
          "2024-10-31T00:00:00",
          "2024-10-30T00:00:00",
          "2024-10-29T00:00:00",
          "2024-10-28T00:00:00",
          "2024-10-25T00:00:00",
          "2024-10-24T00:00:00",
          "2024-10-23T00:00:00",
          "2024-10-22T00:00:00",
          "2024-10-21T00:00:00",
          "2024-10-18T00:00:00",
          "2024-10-17T00:00:00",
          "2024-10-16T00:00:00",
          "2024-10-15T00:00:00",
          "2024-10-14T00:00:00",
          "2024-10-11T00:00:00",
          "2024-10-10T00:00:00",
          "2024-10-09T00:00:00",
          "2024-10-08T00:00:00",
          "2024-10-07T00:00:00",
          "2024-10-04T00:00:00",
          "2024-10-03T00:00:00",
          "2024-10-02T00:00:00",
          "2024-10-01T00:00:00",
          "2024-09-30T00:00:00",
          "2024-09-27T00:00:00",
          "2024-09-26T00:00:00",
          "2024-09-25T00:00:00",
          "2024-09-24T00:00:00",
          "2024-09-23T00:00:00",
          "2024-09-20T00:00:00",
          "2024-09-19T00:00:00",
          "2024-09-18T00:00:00",
          "2024-09-17T00:00:00",
          "2024-09-16T00:00:00",
          "2024-09-13T00:00:00",
          "2024-09-12T00:00:00",
          "2024-09-11T00:00:00",
          "2024-09-10T00:00:00",
          "2024-09-09T00:00:00",
          "2024-09-06T00:00:00",
          "2024-09-05T00:00:00",
          "2024-09-04T00:00:00",
          "2024-09-03T00:00:00",
          "2024-09-02T00:00:00",
          "2024-08-30T00:00:00",
          "2024-08-29T00:00:00",
          "2024-08-28T00:00:00",
          "2024-08-27T00:00:00",
          "2024-08-26T00:00:00",
          "2024-08-23T00:00:00",
          "2024-08-22T00:00:00",
          "2024-08-21T00:00:00",
          "2024-08-20T00:00:00",
          "2024-08-19T00:00:00",
          "2024-08-16T00:00:00",
          "2024-08-15T00:00:00",
          "2024-08-14T00:00:00",
          "2024-08-13T00:00:00",
          "2024-08-12T00:00:00",
          "2024-08-09T00:00:00",
          "2024-08-08T00:00:00",
          "2024-08-07T00:00:00",
          "2024-08-06T00:00:00",
          "2024-08-05T00:00:00",
          "2024-08-02T00:00:00",
          "2024-08-01T00:00:00",
          "2024-07-31T00:00:00",
          "2024-07-30T00:00:00",
          "2024-07-29T00:00:00",
          "2024-07-26T00:00:00",
          "2024-07-25T00:00:00",
          "2024-07-24T00:00:00",
          "2024-07-23T00:00:00",
          "2024-07-22T00:00:00",
          "2024-07-19T00:00:00",
          "2024-07-18T00:00:00",
          "2024-07-17T00:00:00",
          "2024-07-16T00:00:00",
          "2024-07-15T00:00:00",
          "2024-07-12T00:00:00",
          "2024-07-11T00:00:00",
          "2024-07-10T00:00:00",
          "2024-07-09T00:00:00",
          "2024-07-08T00:00:00",
          "2024-07-05T00:00:00",
          "2024-07-04T00:00:00",
          "2024-07-03T00:00:00",
          "2024-07-02T00:00:00",
          "2024-07-01T00:00:00",
          "2024-06-28T00:00:00",
          "2024-06-27T00:00:00",
          "2024-06-26T00:00:00",
          "2024-06-25T00:00:00",
          "2024-06-24T00:00:00",
          "2024-06-21T00:00:00",
          "2024-06-20T00:00:00",
          "2024-06-19T00:00:00",
          "2024-06-18T00:00:00",
          "2024-06-17T00:00:00",
          "2024-06-14T00:00:00",
          "2024-06-13T00:00:00",
          "2024-06-12T00:00:00",
          "2024-06-11T00:00:00",
          "2024-06-10T00:00:00",
          "2024-06-07T00:00:00",
          "2024-06-06T00:00:00",
          "2024-06-05T00:00:00",
          "2024-06-04T00:00:00",
          "2024-06-03T00:00:00",
          "2024-05-31T00:00:00",
          "2024-05-29T00:00:00",
          "2024-05-28T00:00:00",
          "2024-05-27T00:00:00",
          "2024-05-24T00:00:00",
          "2024-05-23T00:00:00",
          "2024-05-22T00:00:00",
          "2024-05-21T00:00:00",
          "2024-05-20T00:00:00",
          "2024-05-17T00:00:00",
          "2024-05-16T00:00:00",
          "2024-05-15T00:00:00",
          "2024-05-14T00:00:00",
          "2024-05-13T00:00:00",
          "2024-05-10T00:00:00",
          "2024-05-09T00:00:00",
          "2024-05-08T00:00:00",
          "2024-05-07T00:00:00",
          "2024-05-06T00:00:00",
          "2024-05-03T00:00:00",
          "2024-05-02T00:00:00",
          "2024-04-30T00:00:00",
          "2024-04-29T00:00:00"
         ],
         "y": [
          1671.85,
          1112.86,
          2332.51,
          -1115.98,
          -68.61,
          -1030.58,
          -686.52,
          -1108.06,
          -857.82,
          -641.34,
          -1771.25,
          -1962.73,
          -590.34,
          -566.21,
          -485.57,
          -1821.24,
          -253.4,
          748.19,
          73.72,
          25.51,
          539.06,
          2019.5,
          998.39,
          605.16,
          239.89,
          647.55,
          1540.94,
          860.47,
          -544.6,
          -1399.73,
          -586.5,
          182.24,
          -175.29,
          -581.51,
          -1231.66,
          -990.26,
          -695.97,
          64.18,
          207.02,
          2087.33,
          -651.36,
          -69.11,
          27.92,
          352.17,
          1448.73,
          6.27,
          21.41,
          242.04,
          5.51,
          150.59,
          110.31,
          223.36,
          -622.71,
          13.57,
          141.49,
          2567.27,
          -102.49,
          -105.38,
          1184.16,
          66.87,
          450.8,
          -423.63,
          -679.61,
          104.22,
          2920.27,
          6512.76,
          465.79,
          -1309.22,
          -314.14,
          -987.89,
          -316.2,
          -718.17,
          409.86,
          -545.99,
          -1955.16,
          -541.27,
          0,
          -439.01,
          -58.84,
          71.05,
          0,
          -863.73,
          0,
          1903.25,
          -313.17,
          334.33,
          -370.66,
          1.69,
          -530.48,
          -2.19,
          32.89,
          999.43,
          -736.02,
          753.59,
          337.74,
          324.6,
          260.12,
          -473.83,
          -969.02,
          172.91,
          13.71,
          -1047.11,
          1293.95,
          -312.51,
          -224.04,
          156.07,
          -1222.66,
          95.65,
          156.8,
          -313.02,
          -942.72,
          119.16,
          -218.89,
          44.15,
          743.15,
          -123.22,
          -338.11,
          -224.63,
          -21.83,
          531.04,
          646.36,
          -44.9,
          -238.4,
          -262.17,
          -484.56,
          542.59,
          -579.72,
          1350.21,
          -316.19,
          435.38,
          -491.4,
          -490.6,
          -1580.02,
          -725.88,
          821.76,
          -366.83,
          -1866.72,
          404.38,
          766.92,
          -716.12,
          -50.63,
          -314.48,
          -422.21,
          1083.1,
          -1179.84,
          1490.4,
          478.33,
          -656.32,
          328.5,
          118.01,
          657.98,
          -336.39,
          -455.46,
          -105.45,
          29.71,
          -935.53,
          -625.73,
          276.12,
          -264.66,
          -69.95,
          -51.33,
          400.19,
          345.67,
          317.54,
          1628.74,
          1343.18,
          -997.2,
          -399.71,
          -271.79,
          1281.1,
          2359.29,
          1291.21,
          -457.3,
          1244.65,
          262.18,
          687.34,
          354.55,
          918.99,
          155.24,
          81.31,
          103.59,
          -584.49,
          93.92,
          -183.37,
          238.75,
          -884.92,
          -1081.8,
          -420.43,
          -434.6,
          -329.22,
          1966.51,
          1254.11,
          93.21,
          110.84,
          54.93,
          144.53,
          47.12,
          173.14,
          -31.48,
          904.11,
          -13.97,
          386.76,
          656.47,
          1027.23,
          -219.65,
          606.65,
          -47.78,
          -127.69,
          76.4,
          377.82,
          1430.77,
          617.79,
          230.43,
          -570.31,
          271.19,
          214.45,
          -84.87,
          -3084.88,
          -957.29,
          -258.48,
          -1355.61,
          -102.62,
          -609.18,
          -871.05,
          13.97,
          -809.08,
          -887.45,
          -830.17,
          -193.46,
          -25.13,
          -756.73,
          672.33,
          -235.13,
          -294.08,
          835.58,
          45.38,
          -780.38,
          -13.78,
          587.88,
          -620.46,
          -670.27,
          730.08,
          107.29,
          -128.19,
          1028.27,
          603.67,
          -1398.73,
          968.65
         ]
        },
        {
         "line": {
          "color": "black"
         },
         "mode": "lines",
         "name": "Institucional",
         "type": "scatter",
         "x": [
          "2025-04-23T00:00:00",
          "2025-04-22T00:00:00",
          "2025-04-17T00:00:00",
          "2025-04-16T00:00:00",
          "2025-04-15T00:00:00",
          "2025-04-14T00:00:00",
          "2025-04-11T00:00:00",
          "2025-04-10T00:00:00",
          "2025-04-09T00:00:00",
          "2025-04-08T00:00:00",
          "2025-04-07T00:00:00",
          "2025-04-04T00:00:00",
          "2025-04-03T00:00:00",
          "2025-04-02T00:00:00",
          "2025-04-01T00:00:00",
          "2025-03-31T00:00:00",
          "2025-03-28T00:00:00",
          "2025-03-27T00:00:00",
          "2025-03-26T00:00:00",
          "2025-03-25T00:00:00",
          "2025-03-24T00:00:00",
          "2025-03-21T00:00:00",
          "2025-03-20T00:00:00",
          "2025-03-19T00:00:00",
          "2025-03-18T00:00:00",
          "2025-03-17T00:00:00",
          "2025-03-14T00:00:00",
          "2025-03-13T00:00:00",
          "2025-03-12T00:00:00",
          "2025-03-11T00:00:00",
          "2025-03-10T00:00:00",
          "2025-03-07T00:00:00",
          "2025-03-06T00:00:00",
          "2025-03-05T00:00:00",
          "2025-02-28T00:00:00",
          "2025-02-27T00:00:00",
          "2025-02-26T00:00:00",
          "2025-02-25T00:00:00",
          "2025-02-24T00:00:00",
          "2025-02-21T00:00:00",
          "2025-02-20T00:00:00",
          "2025-02-19T00:00:00",
          "2025-02-18T00:00:00",
          "2025-02-17T00:00:00",
          "2025-02-14T00:00:00",
          "2025-02-13T00:00:00",
          "2025-02-12T00:00:00",
          "2025-02-11T00:00:00",
          "2025-02-10T00:00:00",
          "2025-02-07T00:00:00",
          "2025-02-06T00:00:00",
          "2025-02-05T00:00:00",
          "2025-02-04T00:00:00",
          "2025-02-03T00:00:00",
          "2025-01-31T00:00:00",
          "2025-01-30T00:00:00",
          "2025-01-29T00:00:00",
          "2025-01-28T00:00:00",
          "2025-01-27T00:00:00",
          "2025-01-24T00:00:00",
          "2025-01-23T00:00:00",
          "2025-01-22T00:00:00",
          "2025-01-21T00:00:00",
          "2025-01-20T00:00:00",
          "2025-01-17T00:00:00",
          "2025-01-16T00:00:00",
          "2025-01-15T00:00:00",
          "2025-01-14T00:00:00",
          "2025-01-13T00:00:00",
          "2025-01-10T00:00:00",
          "2025-01-09T00:00:00",
          "2025-01-08T00:00:00",
          "2025-01-07T00:00:00",
          "2025-01-06T00:00:00",
          "2025-01-03T00:00:00",
          "2025-01-02T00:00:00",
          "2024-12-31T00:00:00",
          "2024-12-30T00:00:00",
          "2024-12-27T00:00:00",
          "2024-12-26T00:00:00",
          "2024-12-24T00:00:00",
          "2024-12-23T00:00:00",
          "2024-12-20T00:00:00",
          "2024-12-19T00:00:00",
          "2024-12-18T00:00:00",
          "2024-12-17T00:00:00",
          "2024-12-16T00:00:00",
          "2024-12-13T00:00:00",
          "2024-12-12T00:00:00",
          "2024-12-11T00:00:00",
          "2024-12-10T00:00:00",
          "2024-12-09T00:00:00",
          "2024-12-06T00:00:00",
          "2024-12-05T00:00:00",
          "2024-12-04T00:00:00",
          "2024-12-03T00:00:00",
          "2024-12-02T00:00:00",
          "2024-11-29T00:00:00",
          "2024-11-28T00:00:00",
          "2024-11-27T00:00:00",
          "2024-11-26T00:00:00",
          "2024-11-25T00:00:00",
          "2024-11-22T00:00:00",
          "2024-11-21T00:00:00",
          "2024-11-19T00:00:00",
          "2024-11-18T00:00:00",
          "2024-11-14T00:00:00",
          "2024-11-13T00:00:00",
          "2024-11-12T00:00:00",
          "2024-11-11T00:00:00",
          "2024-11-08T00:00:00",
          "2024-11-07T00:00:00",
          "2024-11-06T00:00:00",
          "2024-11-05T00:00:00",
          "2024-11-04T00:00:00",
          "2024-11-01T00:00:00",
          "2024-10-31T00:00:00",
          "2024-10-30T00:00:00",
          "2024-10-29T00:00:00",
          "2024-10-28T00:00:00",
          "2024-10-25T00:00:00",
          "2024-10-24T00:00:00",
          "2024-10-23T00:00:00",
          "2024-10-22T00:00:00",
          "2024-10-21T00:00:00",
          "2024-10-18T00:00:00",
          "2024-10-17T00:00:00",
          "2024-10-16T00:00:00",
          "2024-10-15T00:00:00",
          "2024-10-14T00:00:00",
          "2024-10-11T00:00:00",
          "2024-10-10T00:00:00",
          "2024-10-09T00:00:00",
          "2024-10-08T00:00:00",
          "2024-10-07T00:00:00",
          "2024-10-04T00:00:00",
          "2024-10-03T00:00:00",
          "2024-10-02T00:00:00",
          "2024-10-01T00:00:00",
          "2024-09-30T00:00:00",
          "2024-09-27T00:00:00",
          "2024-09-26T00:00:00",
          "2024-09-25T00:00:00",
          "2024-09-24T00:00:00",
          "2024-09-23T00:00:00",
          "2024-09-20T00:00:00",
          "2024-09-19T00:00:00",
          "2024-09-18T00:00:00",
          "2024-09-17T00:00:00",
          "2024-09-16T00:00:00",
          "2024-09-13T00:00:00",
          "2024-09-12T00:00:00",
          "2024-09-11T00:00:00",
          "2024-09-10T00:00:00",
          "2024-09-09T00:00:00",
          "2024-09-06T00:00:00",
          "2024-09-05T00:00:00",
          "2024-09-04T00:00:00",
          "2024-09-03T00:00:00",
          "2024-09-02T00:00:00",
          "2024-08-30T00:00:00",
          "2024-08-29T00:00:00",
          "2024-08-28T00:00:00",
          "2024-08-27T00:00:00",
          "2024-08-26T00:00:00",
          "2024-08-23T00:00:00",
          "2024-08-22T00:00:00",
          "2024-08-21T00:00:00",
          "2024-08-20T00:00:00",
          "2024-08-19T00:00:00",
          "2024-08-16T00:00:00",
          "2024-08-15T00:00:00",
          "2024-08-14T00:00:00",
          "2024-08-13T00:00:00",
          "2024-08-12T00:00:00",
          "2024-08-09T00:00:00",
          "2024-08-08T00:00:00",
          "2024-08-07T00:00:00",
          "2024-08-06T00:00:00",
          "2024-08-05T00:00:00",
          "2024-08-02T00:00:00",
          "2024-08-01T00:00:00",
          "2024-07-31T00:00:00",
          "2024-07-30T00:00:00",
          "2024-07-29T00:00:00",
          "2024-07-26T00:00:00",
          "2024-07-25T00:00:00",
          "2024-07-24T00:00:00",
          "2024-07-23T00:00:00",
          "2024-07-22T00:00:00",
          "2024-07-19T00:00:00",
          "2024-07-18T00:00:00",
          "2024-07-17T00:00:00",
          "2024-07-16T00:00:00",
          "2024-07-15T00:00:00",
          "2024-07-12T00:00:00",
          "2024-07-11T00:00:00",
          "2024-07-10T00:00:00",
          "2024-07-09T00:00:00",
          "2024-07-08T00:00:00",
          "2024-07-05T00:00:00",
          "2024-07-04T00:00:00",
          "2024-07-03T00:00:00",
          "2024-07-02T00:00:00",
          "2024-07-01T00:00:00",
          "2024-06-28T00:00:00",
          "2024-06-27T00:00:00",
          "2024-06-26T00:00:00",
          "2024-06-25T00:00:00",
          "2024-06-24T00:00:00",
          "2024-06-21T00:00:00",
          "2024-06-20T00:00:00",
          "2024-06-19T00:00:00",
          "2024-06-18T00:00:00",
          "2024-06-17T00:00:00",
          "2024-06-14T00:00:00",
          "2024-06-13T00:00:00",
          "2024-06-12T00:00:00",
          "2024-06-11T00:00:00",
          "2024-06-10T00:00:00",
          "2024-06-07T00:00:00",
          "2024-06-06T00:00:00",
          "2024-06-05T00:00:00",
          "2024-06-04T00:00:00",
          "2024-06-03T00:00:00",
          "2024-05-31T00:00:00",
          "2024-05-29T00:00:00",
          "2024-05-28T00:00:00",
          "2024-05-27T00:00:00",
          "2024-05-24T00:00:00",
          "2024-05-23T00:00:00",
          "2024-05-22T00:00:00",
          "2024-05-21T00:00:00",
          "2024-05-20T00:00:00",
          "2024-05-17T00:00:00",
          "2024-05-16T00:00:00",
          "2024-05-15T00:00:00",
          "2024-05-14T00:00:00",
          "2024-05-13T00:00:00",
          "2024-05-10T00:00:00",
          "2024-05-09T00:00:00",
          "2024-05-08T00:00:00",
          "2024-05-07T00:00:00",
          "2024-05-06T00:00:00",
          "2024-05-03T00:00:00",
          "2024-05-02T00:00:00",
          "2024-04-30T00:00:00",
          "2024-04-29T00:00:00"
         ],
         "y": [
          -1210.13,
          -935.41,
          -781.91,
          564.08,
          -169.87,
          934.84,
          645.68,
          354.94,
          875.02,
          -318.7,
          1139.29,
          536.86,
          124.45,
          335.77,
          587.04,
          1060.01,
          723.89,
          -464.88,
          697.98,
          135.7,
          -1101.87,
          -1059.05,
          -1032.03,
          -288.58,
          -0.79,
          -124.79,
          -833.23,
          -659.22,
          349.57,
          980.34,
          77.93,
          -248.9,
          -44.66,
          396.12,
          384.01,
          367.58,
          -195.28,
          -656.46,
          -12.09,
          -1300.55,
          -30.4,
          592.98,
          -1829.57,
          -295.83,
          -1655.12,
          96.19,
          -1057.83,
          -517.1,
          -240.31,
          -710.94,
          -234,
          -309.48,
          307.7,
          -302.58,
          -421.6,
          -1405.57,
          -180.21,
          -109.29,
          -851.3,
          -389.24,
          -686.69,
          82.75,
          396.66,
          -293.46,
          -2554.42,
          1888.22,
          -113.33,
          1125.76,
          11.83,
          632.57,
          132.45,
          74.72,
          -454.68,
          490.12,
          1294.22,
          89.3,
          0,
          25.14,
          -629.8,
          -386.57,
          0,
          630.02,
          0,
          -1822.52,
          -1275.91,
          -361.46,
          -294.3,
          -734.3,
          -1028.66,
          22.5,
          -81.8,
          -897.55,
          -220.73,
          -464.21,
          -494.9,
          -392.23,
          -560.86,
          44.7,
          -205.87,
          -987.15,
          -319.59,
          816.98,
          -808.25,
          -42.81,
          -110.74,
          -416.37,
          -79.09,
          -542.82,
          -518.07,
          -296.11,
          66.83,
          -400.85,
          319.02,
          35.37,
          -86.6,
          -379.37,
          42.44,
          302.39,
          -289.19,
          -198.29,
          -848.19,
          -141.31,
          -115.57,
          6.72,
          153.83,
          -814.62,
          141.92,
          -1322.98,
          110.85,
          -228.06,
          1.06,
          345.3,
          828.2,
          472.21,
          -912.11,
          337.55,
          1232.49,
          -375.11,
          -694.6,
          402.85,
          -122.36,
          552.4,
          -46.66,
          -675.19,
          961.05,
          -671.61,
          -792.32,
          207.4,
          -525.94,
          -293.37,
          -203.43,
          83.98,
          613.6,
          -145.5,
          -313.39,
          0.66,
          508.41,
          -195.34,
          -575.93,
          -197.64,
          -449.17,
          -1132.64,
          -470.88,
          -296.22,
          -945.3,
          -966.22,
          -785.52,
          -414.89,
          160.53,
          -769.25,
          -1821,
          -1616.82,
          -4105.75,
          -794.87,
          -195.93,
          -105.59,
          -38.88,
          -808.63,
          -424.66,
          49.51,
          -780.35,
          215.07,
          -4.59,
          -242.08,
          -663.98,
          684.26,
          923.16,
          -3.98,
          -164.97,
          22.86,
          -682.14,
          -1875.36,
          -81.95,
          -560.1,
          22.53,
          13.15,
          200.82,
          -264.01,
          -59.94,
          -1142.57,
          -237.04,
          -520.51,
          -525.85,
          -1261.19,
          51.4,
          -1303.7,
          374.84,
          -73.25,
          -453.76,
          -168.61,
          -1093.43,
          -869.61,
          -219.75,
          195.66,
          -493.63,
          -413.25,
          -163.9,
          1230.88,
          769.64,
          23.04,
          1119.87,
          -3.24,
          -108.53,
          367.52,
          -235.66,
          62.65,
          541.74,
          395.19,
          120.14,
          -351.97,
          97.49,
          -1619.38,
          -199.67,
          -224.97,
          -207.4,
          -388.29,
          633.48,
          -3.9,
          -551.37,
          -85.93,
          323.46,
          -468.38,
          46.55,
          -88.95,
          -522.34,
          -623.34,
          607.61,
          -905.58
         ]
        },
        {
         "line": {
          "color": "red"
         },
         "mode": "lines",
         "name": "Inst. Financeira",
         "type": "scatter",
         "x": [
          "2025-04-23T00:00:00",
          "2025-04-22T00:00:00",
          "2025-04-17T00:00:00",
          "2025-04-16T00:00:00",
          "2025-04-15T00:00:00",
          "2025-04-14T00:00:00",
          "2025-04-11T00:00:00",
          "2025-04-10T00:00:00",
          "2025-04-09T00:00:00",
          "2025-04-08T00:00:00",
          "2025-04-07T00:00:00",
          "2025-04-04T00:00:00",
          "2025-04-03T00:00:00",
          "2025-04-02T00:00:00",
          "2025-04-01T00:00:00",
          "2025-03-31T00:00:00",
          "2025-03-28T00:00:00",
          "2025-03-27T00:00:00",
          "2025-03-26T00:00:00",
          "2025-03-25T00:00:00",
          "2025-03-24T00:00:00",
          "2025-03-21T00:00:00",
          "2025-03-20T00:00:00",
          "2025-03-19T00:00:00",
          "2025-03-18T00:00:00",
          "2025-03-17T00:00:00",
          "2025-03-14T00:00:00",
          "2025-03-13T00:00:00",
          "2025-03-12T00:00:00",
          "2025-03-11T00:00:00",
          "2025-03-10T00:00:00",
          "2025-03-07T00:00:00",
          "2025-03-06T00:00:00",
          "2025-03-05T00:00:00",
          "2025-02-28T00:00:00",
          "2025-02-27T00:00:00",
          "2025-02-26T00:00:00",
          "2025-02-25T00:00:00",
          "2025-02-24T00:00:00",
          "2025-02-21T00:00:00",
          "2025-02-20T00:00:00",
          "2025-02-19T00:00:00",
          "2025-02-18T00:00:00",
          "2025-02-17T00:00:00",
          "2025-02-14T00:00:00",
          "2025-02-13T00:00:00",
          "2025-02-12T00:00:00",
          "2025-02-11T00:00:00",
          "2025-02-10T00:00:00",
          "2025-02-07T00:00:00",
          "2025-02-06T00:00:00",
          "2025-02-05T00:00:00",
          "2025-02-04T00:00:00",
          "2025-02-03T00:00:00",
          "2025-01-31T00:00:00",
          "2025-01-30T00:00:00",
          "2025-01-29T00:00:00",
          "2025-01-28T00:00:00",
          "2025-01-27T00:00:00",
          "2025-01-24T00:00:00",
          "2025-01-23T00:00:00",
          "2025-01-22T00:00:00",
          "2025-01-21T00:00:00",
          "2025-01-20T00:00:00",
          "2025-01-17T00:00:00",
          "2025-01-16T00:00:00",
          "2025-01-15T00:00:00",
          "2025-01-14T00:00:00",
          "2025-01-13T00:00:00",
          "2025-01-10T00:00:00",
          "2025-01-09T00:00:00",
          "2025-01-08T00:00:00",
          "2025-01-07T00:00:00",
          "2025-01-06T00:00:00",
          "2025-01-03T00:00:00",
          "2025-01-02T00:00:00",
          "2024-12-31T00:00:00",
          "2024-12-30T00:00:00",
          "2024-12-27T00:00:00",
          "2024-12-26T00:00:00",
          "2024-12-24T00:00:00",
          "2024-12-23T00:00:00",
          "2024-12-20T00:00:00",
          "2024-12-19T00:00:00",
          "2024-12-18T00:00:00",
          "2024-12-17T00:00:00",
          "2024-12-16T00:00:00",
          "2024-12-13T00:00:00",
          "2024-12-12T00:00:00",
          "2024-12-11T00:00:00",
          "2024-12-10T00:00:00",
          "2024-12-09T00:00:00",
          "2024-12-06T00:00:00",
          "2024-12-05T00:00:00",
          "2024-12-04T00:00:00",
          "2024-12-03T00:00:00",
          "2024-12-02T00:00:00",
          "2024-11-29T00:00:00",
          "2024-11-28T00:00:00",
          "2024-11-27T00:00:00",
          "2024-11-26T00:00:00",
          "2024-11-25T00:00:00",
          "2024-11-22T00:00:00",
          "2024-11-21T00:00:00",
          "2024-11-19T00:00:00",
          "2024-11-18T00:00:00",
          "2024-11-14T00:00:00",
          "2024-11-13T00:00:00",
          "2024-11-12T00:00:00",
          "2024-11-11T00:00:00",
          "2024-11-08T00:00:00",
          "2024-11-07T00:00:00",
          "2024-11-06T00:00:00",
          "2024-11-05T00:00:00",
          "2024-11-04T00:00:00",
          "2024-11-01T00:00:00",
          "2024-10-31T00:00:00",
          "2024-10-30T00:00:00",
          "2024-10-29T00:00:00",
          "2024-10-28T00:00:00",
          "2024-10-25T00:00:00",
          "2024-10-24T00:00:00",
          "2024-10-23T00:00:00",
          "2024-10-22T00:00:00",
          "2024-10-21T00:00:00",
          "2024-10-18T00:00:00",
          "2024-10-17T00:00:00",
          "2024-10-16T00:00:00",
          "2024-10-15T00:00:00",
          "2024-10-14T00:00:00",
          "2024-10-11T00:00:00",
          "2024-10-10T00:00:00",
          "2024-10-09T00:00:00",
          "2024-10-08T00:00:00",
          "2024-10-07T00:00:00",
          "2024-10-04T00:00:00",
          "2024-10-03T00:00:00",
          "2024-10-02T00:00:00",
          "2024-10-01T00:00:00",
          "2024-09-30T00:00:00",
          "2024-09-27T00:00:00",
          "2024-09-26T00:00:00",
          "2024-09-25T00:00:00",
          "2024-09-24T00:00:00",
          "2024-09-23T00:00:00",
          "2024-09-20T00:00:00",
          "2024-09-19T00:00:00",
          "2024-09-18T00:00:00",
          "2024-09-17T00:00:00",
          "2024-09-16T00:00:00",
          "2024-09-13T00:00:00",
          "2024-09-12T00:00:00",
          "2024-09-11T00:00:00",
          "2024-09-10T00:00:00",
          "2024-09-09T00:00:00",
          "2024-09-06T00:00:00",
          "2024-09-05T00:00:00",
          "2024-09-04T00:00:00",
          "2024-09-03T00:00:00",
          "2024-09-02T00:00:00",
          "2024-08-30T00:00:00",
          "2024-08-29T00:00:00",
          "2024-08-28T00:00:00",
          "2024-08-27T00:00:00",
          "2024-08-26T00:00:00",
          "2024-08-23T00:00:00",
          "2024-08-22T00:00:00",
          "2024-08-21T00:00:00",
          "2024-08-20T00:00:00",
          "2024-08-19T00:00:00",
          "2024-08-16T00:00:00",
          "2024-08-15T00:00:00",
          "2024-08-14T00:00:00",
          "2024-08-13T00:00:00",
          "2024-08-12T00:00:00",
          "2024-08-09T00:00:00",
          "2024-08-08T00:00:00",
          "2024-08-07T00:00:00",
          "2024-08-06T00:00:00",
          "2024-08-05T00:00:00",
          "2024-08-02T00:00:00",
          "2024-08-01T00:00:00",
          "2024-07-31T00:00:00",
          "2024-07-30T00:00:00",
          "2024-07-29T00:00:00",
          "2024-07-26T00:00:00",
          "2024-07-25T00:00:00",
          "2024-07-24T00:00:00",
          "2024-07-23T00:00:00",
          "2024-07-22T00:00:00",
          "2024-07-19T00:00:00",
          "2024-07-18T00:00:00",
          "2024-07-17T00:00:00",
          "2024-07-16T00:00:00",
          "2024-07-15T00:00:00",
          "2024-07-12T00:00:00",
          "2024-07-11T00:00:00",
          "2024-07-10T00:00:00",
          "2024-07-09T00:00:00",
          "2024-07-08T00:00:00",
          "2024-07-05T00:00:00",
          "2024-07-04T00:00:00",
          "2024-07-03T00:00:00",
          "2024-07-02T00:00:00",
          "2024-07-01T00:00:00",
          "2024-06-28T00:00:00",
          "2024-06-27T00:00:00",
          "2024-06-26T00:00:00",
          "2024-06-25T00:00:00",
          "2024-06-24T00:00:00",
          "2024-06-21T00:00:00",
          "2024-06-20T00:00:00",
          "2024-06-19T00:00:00",
          "2024-06-18T00:00:00",
          "2024-06-17T00:00:00",
          "2024-06-14T00:00:00",
          "2024-06-13T00:00:00",
          "2024-06-12T00:00:00",
          "2024-06-11T00:00:00",
          "2024-06-10T00:00:00",
          "2024-06-07T00:00:00",
          "2024-06-06T00:00:00",
          "2024-06-05T00:00:00",
          "2024-06-04T00:00:00",
          "2024-06-03T00:00:00",
          "2024-05-31T00:00:00",
          "2024-05-29T00:00:00",
          "2024-05-28T00:00:00",
          "2024-05-27T00:00:00",
          "2024-05-24T00:00:00",
          "2024-05-23T00:00:00",
          "2024-05-22T00:00:00",
          "2024-05-21T00:00:00",
          "2024-05-20T00:00:00",
          "2024-05-17T00:00:00",
          "2024-05-16T00:00:00",
          "2024-05-15T00:00:00",
          "2024-05-14T00:00:00",
          "2024-05-13T00:00:00",
          "2024-05-10T00:00:00",
          "2024-05-09T00:00:00",
          "2024-05-08T00:00:00",
          "2024-05-07T00:00:00",
          "2024-05-06T00:00:00",
          "2024-05-03T00:00:00",
          "2024-05-02T00:00:00",
          "2024-04-30T00:00:00",
          "2024-04-29T00:00:00"
         ],
         "y": [
          67.38,
          -34.45,
          -1326.86,
          231.88,
          -235,
          -58.54,
          52.92,
          64.58,
          63.37,
          65.81,
          72.97,
          92.89,
          -57.57,
          146.76,
          -10.91,
          168.41,
          -961.15,
          -104.01,
          -729.41,
          -150.25,
          172.09,
          -269.35,
          -45.87,
          -69.69,
          -46.33,
          -277.98,
          65.11,
          22.88,
          0.07,
          -12.07,
          -35.54,
          33,
          4.95,
          -61.32,
          40.79,
          133.73,
          375.01,
          554.11,
          -490.12,
          -706.84,
          475.06,
          -336.75,
          1811.42,
          118.7,
          1020.16,
          -47.81,
          361.17,
          385.25,
          389.79,
          14.81,
          58.59,
          -65.56,
          -60.23,
          -51.71,
          102.46,
          16.02,
          121.69,
          19.33,
          88.03,
          111.86,
          67.79,
          108.23,
          127.14,
          53.59,
          -332.48,
          223.1,
          228.02,
          -51.89,
          65.88,
          15.8,
          73.29,
          1.45,
          -68.48,
          39.09,
          39.11,
          24.91,
          0,
          27.53,
          157.02,
          62.17,
          0,
          -322.06,
          -1097.81,
          74.35,
          479.02,
          -41.82,
          306.58,
          110.33,
          609.11,
          182.54,
          211.27,
          99.4,
          57.09,
          -81.9,
          -35.27,
          3.35,
          -40.15,
          205.49,
          202.35,
          151.26,
          320.97,
          -178.1,
          67.93,
          -1.46,
          337.75,
          106.52,
          444.79,
          114.84,
          -14.67,
          351.55,
          18.67,
          28.19,
          -6.95,
          5.03,
          -31.36,
          -14.06,
          3.53,
          20.43,
          52.92,
          31.87,
          59.81,
          244.94,
          49.41,
          -134.33,
          149.92,
          -59.06,
          20.73,
          -12.04,
          26.13,
          -86.59,
          81.35,
          55.35,
          90.53,
          -7.26,
          61.74,
          -107.14,
          114.98,
          72.83,
          8.04,
          65.45,
          -50.43,
          23.32,
          21.15,
          -113.04,
          2.47,
          -1393.72,
          22.96,
          -47.36,
          -5.28,
          61.07,
          -106.96,
          43.09,
          26.63,
          23.48,
          99.07,
          54.29,
          -20.58,
          -97.27,
          137.06,
          34.21,
          125.54,
          223.58,
          -69.6,
          114.88,
          -107.99,
          -61.15,
          1315.57,
          708.97,
          65.22,
          -115.63,
          333.81,
          293.63,
          553.42,
          -147.7,
          -7,
          77.43,
          -12.11,
          -3.85,
          45.27,
          0.74,
          -1.25,
          -93.59,
          -7.75,
          45.48,
          60.54,
          99.99,
          -43.37,
          66.64,
          49.69,
          68.07,
          405.13,
          104.78,
          -13.8,
          35.79,
          5.52,
          -34.06,
          -112.71,
          16.75,
          87.76,
          31.31,
          82.42,
          54.93,
          37.82,
          10.3,
          20.07,
          -5.34,
          -203.55,
          -52.13,
          -5.75,
          -26.5,
          -584.95,
          -13.39,
          -32.67,
          103.73,
          -16.19,
          -80.83,
          5.55,
          1154.08,
          137.75,
          8.62,
          -686.85,
          10.66,
          207.62,
          68.16,
          -124.92,
          -470.76,
          45.47,
          -2.87,
          176.86,
          -39.41,
          202.62,
          94.09,
          123.6,
          72.24,
          -540.38,
          76.49,
          -8.99,
          101.46,
          -79.14,
          193.01,
          -285.31,
          -165.31,
          -140.79,
          17.7,
          -58.4,
          17.07,
          251.08,
          -81.45
         ]
        },
        {
         "line": {
          "color": "green"
         },
         "mode": "lines",
         "name": "Pessoa física",
         "type": "scatter",
         "x": [
          "2025-04-23T00:00:00",
          "2025-04-22T00:00:00",
          "2025-04-17T00:00:00",
          "2025-04-16T00:00:00",
          "2025-04-15T00:00:00",
          "2025-04-14T00:00:00",
          "2025-04-11T00:00:00",
          "2025-04-10T00:00:00",
          "2025-04-09T00:00:00",
          "2025-04-08T00:00:00",
          "2025-04-07T00:00:00",
          "2025-04-04T00:00:00",
          "2025-04-03T00:00:00",
          "2025-04-02T00:00:00",
          "2025-04-01T00:00:00",
          "2025-03-31T00:00:00",
          "2025-03-28T00:00:00",
          "2025-03-27T00:00:00",
          "2025-03-26T00:00:00",
          "2025-03-25T00:00:00",
          "2025-03-24T00:00:00",
          "2025-03-21T00:00:00",
          "2025-03-20T00:00:00",
          "2025-03-19T00:00:00",
          "2025-03-18T00:00:00",
          "2025-03-17T00:00:00",
          "2025-03-14T00:00:00",
          "2025-03-13T00:00:00",
          "2025-03-12T00:00:00",
          "2025-03-11T00:00:00",
          "2025-03-10T00:00:00",
          "2025-03-07T00:00:00",
          "2025-03-06T00:00:00",
          "2025-03-05T00:00:00",
          "2025-02-28T00:00:00",
          "2025-02-27T00:00:00",
          "2025-02-26T00:00:00",
          "2025-02-25T00:00:00",
          "2025-02-24T00:00:00",
          "2025-02-21T00:00:00",
          "2025-02-20T00:00:00",
          "2025-02-19T00:00:00",
          "2025-02-18T00:00:00",
          "2025-02-17T00:00:00",
          "2025-02-14T00:00:00",
          "2025-02-13T00:00:00",
          "2025-02-12T00:00:00",
          "2025-02-11T00:00:00",
          "2025-02-10T00:00:00",
          "2025-02-07T00:00:00",
          "2025-02-06T00:00:00",
          "2025-02-05T00:00:00",
          "2025-02-04T00:00:00",
          "2025-02-03T00:00:00",
          "2025-01-31T00:00:00",
          "2025-01-30T00:00:00",
          "2025-01-29T00:00:00",
          "2025-01-28T00:00:00",
          "2025-01-27T00:00:00",
          "2025-01-24T00:00:00",
          "2025-01-23T00:00:00",
          "2025-01-22T00:00:00",
          "2025-01-21T00:00:00",
          "2025-01-20T00:00:00",
          "2025-01-17T00:00:00",
          "2025-01-16T00:00:00",
          "2025-01-15T00:00:00",
          "2025-01-14T00:00:00",
          "2025-01-13T00:00:00",
          "2025-01-10T00:00:00",
          "2025-01-09T00:00:00",
          "2025-01-08T00:00:00",
          "2025-01-07T00:00:00",
          "2025-01-06T00:00:00",
          "2025-01-03T00:00:00",
          "2025-01-02T00:00:00",
          "2024-12-31T00:00:00",
          "2024-12-30T00:00:00",
          "2024-12-27T00:00:00",
          "2024-12-26T00:00:00",
          "2024-12-24T00:00:00",
          "2024-12-23T00:00:00",
          "2024-12-20T00:00:00",
          "2024-12-19T00:00:00",
          "2024-12-18T00:00:00",
          "2024-12-17T00:00:00",
          "2024-12-16T00:00:00",
          "2024-12-13T00:00:00",
          "2024-12-12T00:00:00",
          "2024-12-11T00:00:00",
          "2024-12-10T00:00:00",
          "2024-12-09T00:00:00",
          "2024-12-06T00:00:00",
          "2024-12-05T00:00:00",
          "2024-12-04T00:00:00",
          "2024-12-03T00:00:00",
          "2024-12-02T00:00:00",
          "2024-11-29T00:00:00",
          "2024-11-28T00:00:00",
          "2024-11-27T00:00:00",
          "2024-11-26T00:00:00",
          "2024-11-25T00:00:00",
          "2024-11-22T00:00:00",
          "2024-11-21T00:00:00",
          "2024-11-19T00:00:00",
          "2024-11-18T00:00:00",
          "2024-11-14T00:00:00",
          "2024-11-13T00:00:00",
          "2024-11-12T00:00:00",
          "2024-11-11T00:00:00",
          "2024-11-08T00:00:00",
          "2024-11-07T00:00:00",
          "2024-11-06T00:00:00",
          "2024-11-05T00:00:00",
          "2024-11-04T00:00:00",
          "2024-11-01T00:00:00",
          "2024-10-31T00:00:00",
          "2024-10-30T00:00:00",
          "2024-10-29T00:00:00",
          "2024-10-28T00:00:00",
          "2024-10-25T00:00:00",
          "2024-10-24T00:00:00",
          "2024-10-23T00:00:00",
          "2024-10-22T00:00:00",
          "2024-10-21T00:00:00",
          "2024-10-18T00:00:00",
          "2024-10-17T00:00:00",
          "2024-10-16T00:00:00",
          "2024-10-15T00:00:00",
          "2024-10-14T00:00:00",
          "2024-10-11T00:00:00",
          "2024-10-10T00:00:00",
          "2024-10-09T00:00:00",
          "2024-10-08T00:00:00",
          "2024-10-07T00:00:00",
          "2024-10-04T00:00:00",
          "2024-10-03T00:00:00",
          "2024-10-02T00:00:00",
          "2024-10-01T00:00:00",
          "2024-09-30T00:00:00",
          "2024-09-27T00:00:00",
          "2024-09-26T00:00:00",
          "2024-09-25T00:00:00",
          "2024-09-24T00:00:00",
          "2024-09-23T00:00:00",
          "2024-09-20T00:00:00",
          "2024-09-19T00:00:00",
          "2024-09-18T00:00:00",
          "2024-09-17T00:00:00",
          "2024-09-16T00:00:00",
          "2024-09-13T00:00:00",
          "2024-09-12T00:00:00",
          "2024-09-11T00:00:00",
          "2024-09-10T00:00:00",
          "2024-09-09T00:00:00",
          "2024-09-06T00:00:00",
          "2024-09-05T00:00:00",
          "2024-09-04T00:00:00",
          "2024-09-03T00:00:00",
          "2024-09-02T00:00:00",
          "2024-08-30T00:00:00",
          "2024-08-29T00:00:00",
          "2024-08-28T00:00:00",
          "2024-08-27T00:00:00",
          "2024-08-26T00:00:00",
          "2024-08-23T00:00:00",
          "2024-08-22T00:00:00",
          "2024-08-21T00:00:00",
          "2024-08-20T00:00:00",
          "2024-08-19T00:00:00",
          "2024-08-16T00:00:00",
          "2024-08-15T00:00:00",
          "2024-08-14T00:00:00",
          "2024-08-13T00:00:00",
          "2024-08-12T00:00:00",
          "2024-08-09T00:00:00",
          "2024-08-08T00:00:00",
          "2024-08-07T00:00:00",
          "2024-08-06T00:00:00",
          "2024-08-05T00:00:00",
          "2024-08-02T00:00:00",
          "2024-08-01T00:00:00",
          "2024-07-31T00:00:00",
          "2024-07-30T00:00:00",
          "2024-07-29T00:00:00",
          "2024-07-26T00:00:00",
          "2024-07-25T00:00:00",
          "2024-07-24T00:00:00",
          "2024-07-23T00:00:00",
          "2024-07-22T00:00:00",
          "2024-07-19T00:00:00",
          "2024-07-18T00:00:00",
          "2024-07-17T00:00:00",
          "2024-07-16T00:00:00",
          "2024-07-15T00:00:00",
          "2024-07-12T00:00:00",
          "2024-07-11T00:00:00",
          "2024-07-10T00:00:00",
          "2024-07-09T00:00:00",
          "2024-07-08T00:00:00",
          "2024-07-05T00:00:00",
          "2024-07-04T00:00:00",
          "2024-07-03T00:00:00",
          "2024-07-02T00:00:00",
          "2024-07-01T00:00:00",
          "2024-06-28T00:00:00",
          "2024-06-27T00:00:00",
          "2024-06-26T00:00:00",
          "2024-06-25T00:00:00",
          "2024-06-24T00:00:00",
          "2024-06-21T00:00:00",
          "2024-06-20T00:00:00",
          "2024-06-19T00:00:00",
          "2024-06-18T00:00:00",
          "2024-06-17T00:00:00",
          "2024-06-14T00:00:00",
          "2024-06-13T00:00:00",
          "2024-06-12T00:00:00",
          "2024-06-11T00:00:00",
          "2024-06-10T00:00:00",
          "2024-06-07T00:00:00",
          "2024-06-06T00:00:00",
          "2024-06-05T00:00:00",
          "2024-06-04T00:00:00",
          "2024-06-03T00:00:00",
          "2024-05-31T00:00:00",
          "2024-05-29T00:00:00",
          "2024-05-28T00:00:00",
          "2024-05-27T00:00:00",
          "2024-05-24T00:00:00",
          "2024-05-23T00:00:00",
          "2024-05-22T00:00:00",
          "2024-05-21T00:00:00",
          "2024-05-20T00:00:00",
          "2024-05-17T00:00:00",
          "2024-05-16T00:00:00",
          "2024-05-15T00:00:00",
          "2024-05-14T00:00:00",
          "2024-05-13T00:00:00",
          "2024-05-10T00:00:00",
          "2024-05-09T00:00:00",
          "2024-05-08T00:00:00",
          "2024-05-07T00:00:00",
          "2024-05-06T00:00:00",
          "2024-05-03T00:00:00",
          "2024-05-02T00:00:00",
          "2024-04-30T00:00:00",
          "2024-04-29T00:00:00"
         ],
         "y": [
          -247.5,
          -127.54,
          -273,
          113.25,
          402.79,
          20.68,
          -27.87,
          594.12,
          -202.81,
          760.05,
          289.32,
          1098.42,
          407.03,
          21.84,
          -101.97,
          482.8,
          421.78,
          -196.5,
          -92.59,
          -71.11,
          347.74,
          -342.65,
          78.98,
          -294.32,
          -283.65,
          -300.12,
          -847.86,
          -221.46,
          139.37,
          396.57,
          391.76,
          -111,
          153.98,
          186.21,
          626.34,
          159.74,
          356.92,
          27.05,
          224.18,
          -173.69,
          174.3,
          -229.84,
          13.26,
          -218.24,
          -863.92,
          -61.46,
          612,
          -160.1,
          -285.48,
          403.17,
          -13.92,
          70.3,
          262.33,
          211.2,
          110.15,
          -1160.95,
          63.79,
          125.2,
          -455.79,
          94.74,
          113.66,
          110.27,
          71.88,
          82.56,
          -132.22,
          396.92,
          -586.67,
          172.72,
          90.13,
          124.96,
          49.98,
          423.97,
          -0.52,
          -105.51,
          501.51,
          328.69,
          0,
          229.22,
          356.41,
          93.19,
          0,
          416.49,
          0,
          590.44,
          751.06,
          -40.16,
          98.6,
          385.06,
          763.01,
          -228.55,
          -231.8,
          -304.87,
          717.55,
          -269.74,
          58.16,
          -46.61,
          124.71,
          133.42,
          726.06,
          587.51,
          -95.73,
          296.49,
          -637.14,
          299.09,
          -3.21,
          29.03,
          541.06,
          261.94,
          292.84,
          182.99,
          798,
          212.78,
          -128.8,
          -86.51,
          -583.79,
          487.05,
          298.13,
          -81.17,
          266.46,
          -374.87,
          58.16,
          -92.3,
          204.28,
          319.16,
          90.54,
          185.16,
          348.63,
          -72.87,
          94.56,
          -197.09,
          153.8,
          111.02,
          568.66,
          201.81,
          -47.33,
          82.49,
          428.5,
          -147.66,
          -208.91,
          180.11,
          -24.27,
          -477.15,
          282.46,
          -329.51,
          155.62,
          441.42,
          227.1,
          433.5,
          157.17,
          67.41,
          -397.39,
          143.18,
          -261.97,
          143.7,
          112.71,
          730.16,
          70.37,
          -105.8,
          580.9,
          175.01,
          230.24,
          413.76,
          98.59,
          -222.05,
          -617.2,
          -454.17,
          205.62,
          -22.43,
          18.9,
          -595.66,
          -1126.18,
          -375.73,
          -585.99,
          -332.57,
          -96.03,
          -812.98,
          -302.88,
          -125.89,
          222.82,
          -160.7,
          652.77,
          442.04,
          -104.06,
          360.03,
          290,
          151.75,
          172.44,
          225.91,
          467.96,
          145.16,
          -1715.73,
          476.41,
          -31.12,
          227.25,
          -241.62,
          -97.84,
          -165.53,
          55.76,
          -1.35,
          212.56,
          66.23,
          -42.51,
          -287.82,
          95.79,
          39.89,
          361.58,
          -327.14,
          192.31,
          317.16,
          -192.06,
          204.3,
          189.65,
          -12.91,
          63.66,
          188.41,
          180.52,
          140.51,
          600.26,
          -30.37,
          171.76,
          715.53,
          -10.48,
          393.53,
          222.62,
          201.53,
          319.61,
          159.63,
          256.52,
          -141.53,
          192.73,
          279.55,
          566.05,
          242.6,
          346.23,
          -201.68,
          -10.78,
          136.06,
          -76.16,
          -7.39,
          348.27,
          534.68,
          -119.16,
          5.27,
          194.39,
          -375.29,
          -220.19,
          529.58,
          -1.2
         ]
        },
        {
         "line": {
          "color": "orange"
         },
         "mode": "lines",
         "name": "Outros",
         "type": "scatter",
         "visible": "legendonly",
         "x": [
          "2025-04-23T00:00:00",
          "2025-04-22T00:00:00",
          "2025-04-17T00:00:00",
          "2025-04-16T00:00:00",
          "2025-04-15T00:00:00",
          "2025-04-14T00:00:00",
          "2025-04-11T00:00:00",
          "2025-04-10T00:00:00",
          "2025-04-09T00:00:00",
          "2025-04-08T00:00:00",
          "2025-04-07T00:00:00",
          "2025-04-04T00:00:00",
          "2025-04-03T00:00:00",
          "2025-04-02T00:00:00",
          "2025-04-01T00:00:00",
          "2025-03-31T00:00:00",
          "2025-03-28T00:00:00",
          "2025-03-27T00:00:00",
          "2025-03-26T00:00:00",
          "2025-03-25T00:00:00",
          "2025-03-24T00:00:00",
          "2025-03-21T00:00:00",
          "2025-03-20T00:00:00",
          "2025-03-19T00:00:00",
          "2025-03-18T00:00:00",
          "2025-03-17T00:00:00",
          "2025-03-14T00:00:00",
          "2025-03-13T00:00:00",
          "2025-03-12T00:00:00",
          "2025-03-11T00:00:00",
          "2025-03-10T00:00:00",
          "2025-03-07T00:00:00",
          "2025-03-06T00:00:00",
          "2025-03-05T00:00:00",
          "2025-02-28T00:00:00",
          "2025-02-27T00:00:00",
          "2025-02-26T00:00:00",
          "2025-02-25T00:00:00",
          "2025-02-24T00:00:00",
          "2025-02-21T00:00:00",
          "2025-02-20T00:00:00",
          "2025-02-19T00:00:00",
          "2025-02-18T00:00:00",
          "2025-02-17T00:00:00",
          "2025-02-14T00:00:00",
          "2025-02-13T00:00:00",
          "2025-02-12T00:00:00",
          "2025-02-11T00:00:00",
          "2025-02-10T00:00:00",
          "2025-02-07T00:00:00",
          "2025-02-06T00:00:00",
          "2025-02-05T00:00:00",
          "2025-02-04T00:00:00",
          "2025-02-03T00:00:00",
          "2025-01-31T00:00:00",
          "2025-01-30T00:00:00",
          "2025-01-29T00:00:00",
          "2025-01-28T00:00:00",
          "2025-01-27T00:00:00",
          "2025-01-24T00:00:00",
          "2025-01-23T00:00:00",
          "2025-01-22T00:00:00",
          "2025-01-21T00:00:00",
          "2025-01-20T00:00:00",
          "2025-01-17T00:00:00",
          "2025-01-16T00:00:00",
          "2025-01-15T00:00:00",
          "2025-01-14T00:00:00",
          "2025-01-13T00:00:00",
          "2025-01-10T00:00:00",
          "2025-01-09T00:00:00",
          "2025-01-08T00:00:00",
          "2025-01-07T00:00:00",
          "2025-01-06T00:00:00",
          "2025-01-03T00:00:00",
          "2025-01-02T00:00:00",
          "2024-12-31T00:00:00",
          "2024-12-30T00:00:00",
          "2024-12-27T00:00:00",
          "2024-12-26T00:00:00",
          "2024-12-24T00:00:00",
          "2024-12-23T00:00:00",
          "2024-12-20T00:00:00",
          "2024-12-19T00:00:00",
          "2024-12-18T00:00:00",
          "2024-12-17T00:00:00",
          "2024-12-16T00:00:00",
          "2024-12-13T00:00:00",
          "2024-12-12T00:00:00",
          "2024-12-11T00:00:00",
          "2024-12-10T00:00:00",
          "2024-12-09T00:00:00",
          "2024-12-06T00:00:00",
          "2024-12-05T00:00:00",
          "2024-12-04T00:00:00",
          "2024-12-03T00:00:00",
          "2024-12-02T00:00:00",
          "2024-11-29T00:00:00",
          "2024-11-28T00:00:00",
          "2024-11-27T00:00:00",
          "2024-11-26T00:00:00",
          "2024-11-25T00:00:00",
          "2024-11-22T00:00:00",
          "2024-11-21T00:00:00",
          "2024-11-19T00:00:00",
          "2024-11-18T00:00:00",
          "2024-11-14T00:00:00",
          "2024-11-13T00:00:00",
          "2024-11-12T00:00:00",
          "2024-11-11T00:00:00",
          "2024-11-08T00:00:00",
          "2024-11-07T00:00:00",
          "2024-11-06T00:00:00",
          "2024-11-05T00:00:00",
          "2024-11-04T00:00:00",
          "2024-11-01T00:00:00",
          "2024-10-31T00:00:00",
          "2024-10-30T00:00:00",
          "2024-10-29T00:00:00",
          "2024-10-28T00:00:00",
          "2024-10-25T00:00:00",
          "2024-10-24T00:00:00",
          "2024-10-23T00:00:00",
          "2024-10-22T00:00:00",
          "2024-10-21T00:00:00",
          "2024-10-18T00:00:00",
          "2024-10-17T00:00:00",
          "2024-10-16T00:00:00",
          "2024-10-15T00:00:00",
          "2024-10-14T00:00:00",
          "2024-10-11T00:00:00",
          "2024-10-10T00:00:00",
          "2024-10-09T00:00:00",
          "2024-10-08T00:00:00",
          "2024-10-07T00:00:00",
          "2024-10-04T00:00:00",
          "2024-10-03T00:00:00",
          "2024-10-02T00:00:00",
          "2024-10-01T00:00:00",
          "2024-09-30T00:00:00",
          "2024-09-27T00:00:00",
          "2024-09-26T00:00:00",
          "2024-09-25T00:00:00",
          "2024-09-24T00:00:00",
          "2024-09-23T00:00:00",
          "2024-09-20T00:00:00",
          "2024-09-19T00:00:00",
          "2024-09-18T00:00:00",
          "2024-09-17T00:00:00",
          "2024-09-16T00:00:00",
          "2024-09-13T00:00:00",
          "2024-09-12T00:00:00",
          "2024-09-11T00:00:00",
          "2024-09-10T00:00:00",
          "2024-09-09T00:00:00",
          "2024-09-06T00:00:00",
          "2024-09-05T00:00:00",
          "2024-09-04T00:00:00",
          "2024-09-03T00:00:00",
          "2024-09-02T00:00:00",
          "2024-08-30T00:00:00",
          "2024-08-29T00:00:00",
          "2024-08-28T00:00:00",
          "2024-08-27T00:00:00",
          "2024-08-26T00:00:00",
          "2024-08-23T00:00:00",
          "2024-08-22T00:00:00",
          "2024-08-21T00:00:00",
          "2024-08-20T00:00:00",
          "2024-08-19T00:00:00",
          "2024-08-16T00:00:00",
          "2024-08-15T00:00:00",
          "2024-08-14T00:00:00",
          "2024-08-13T00:00:00",
          "2024-08-12T00:00:00",
          "2024-08-09T00:00:00",
          "2024-08-08T00:00:00",
          "2024-08-07T00:00:00",
          "2024-08-06T00:00:00",
          "2024-08-05T00:00:00",
          "2024-08-02T00:00:00",
          "2024-08-01T00:00:00",
          "2024-07-31T00:00:00",
          "2024-07-30T00:00:00",
          "2024-07-29T00:00:00",
          "2024-07-26T00:00:00",
          "2024-07-25T00:00:00",
          "2024-07-24T00:00:00",
          "2024-07-23T00:00:00",
          "2024-07-22T00:00:00",
          "2024-07-19T00:00:00",
          "2024-07-18T00:00:00",
          "2024-07-17T00:00:00",
          "2024-07-16T00:00:00",
          "2024-07-15T00:00:00",
          "2024-07-12T00:00:00",
          "2024-07-11T00:00:00",
          "2024-07-10T00:00:00",
          "2024-07-09T00:00:00",
          "2024-07-08T00:00:00",
          "2024-07-05T00:00:00",
          "2024-07-04T00:00:00",
          "2024-07-03T00:00:00",
          "2024-07-02T00:00:00",
          "2024-07-01T00:00:00",
          "2024-06-28T00:00:00",
          "2024-06-27T00:00:00",
          "2024-06-26T00:00:00",
          "2024-06-25T00:00:00",
          "2024-06-24T00:00:00",
          "2024-06-21T00:00:00",
          "2024-06-20T00:00:00",
          "2024-06-19T00:00:00",
          "2024-06-18T00:00:00",
          "2024-06-17T00:00:00",
          "2024-06-14T00:00:00",
          "2024-06-13T00:00:00",
          "2024-06-12T00:00:00",
          "2024-06-11T00:00:00",
          "2024-06-10T00:00:00",
          "2024-06-07T00:00:00",
          "2024-06-06T00:00:00",
          "2024-06-05T00:00:00",
          "2024-06-04T00:00:00",
          "2024-06-03T00:00:00",
          "2024-05-31T00:00:00",
          "2024-05-29T00:00:00",
          "2024-05-28T00:00:00",
          "2024-05-27T00:00:00",
          "2024-05-24T00:00:00",
          "2024-05-23T00:00:00",
          "2024-05-22T00:00:00",
          "2024-05-21T00:00:00",
          "2024-05-20T00:00:00",
          "2024-05-17T00:00:00",
          "2024-05-16T00:00:00",
          "2024-05-15T00:00:00",
          "2024-05-14T00:00:00",
          "2024-05-13T00:00:00",
          "2024-05-10T00:00:00",
          "2024-05-09T00:00:00",
          "2024-05-08T00:00:00",
          "2024-05-07T00:00:00",
          "2024-05-06T00:00:00",
          "2024-05-03T00:00:00",
          "2024-05-02T00:00:00",
          "2024-04-30T00:00:00",
          "2024-04-29T00:00:00"
         ],
         "y": [
          -281.6,
          -15.46,
          49.25,
          206.77,
          70.68,
          133.59,
          15.8,
          94.42,
          122.24,
          134.17,
          269.67,
          234.57,
          116.42,
          61.84,
          11.41,
          110.02,
          68.89,
          17.2,
          50.3,
          60.14,
          42.98,
          -348.46,
          0.53,
          47.42,
          90.87,
          55.34,
          75.03,
          -2.67,
          55.6,
          34.88,
          152.35,
          144.67,
          61.02,
          60.51,
          180.52,
          329.21,
          159.32,
          11.12,
          71.01,
          93.75,
          32.39,
          42.71,
          -23.03,
          43.2,
          50.16,
          6.82,
          63.24,
          49.9,
          130.49,
          142.36,
          79.02,
          81.38,
          112.91,
          129.53,
          67.5,
          -16.77,
          97.22,
          70.15,
          34.9,
          115.77,
          54.44,
          122.38,
          83.93,
          53.1,
          98.85,
          -9021.01,
          6.18,
          62.63,
          146.3,
          214.56,
          60.47,
          218.03,
          113.81,
          122.29,
          120.33,
          98.36,
          0,
          157.12,
          175.21,
          160.17,
          0,
          139.28,
          0,
          352.3,
          359,
          109.1,
          259.78,
          237.22,
          187.02,
          25.7,
          69.44,
          103.59,
          182.12,
          62.26,
          134.27,
          110.9,
          216.18,
          90.21,
          246.48,
          75.47,
          80.63,
          111.73,
          83.52,
          57.68,
          0.24,
          124.74,
          315.9,
          70.39,
          83.09,
          74.58,
          59.22,
          40.71,
          35.62,
          1.97,
          -41.4,
          29.59,
          -5.99,
          -17.03,
          -8.36,
          10.25,
          83.86,
          33.57,
          100.27,
          70.62,
          90.27,
          145.93,
          68.44,
          57.69,
          84.65,
          76.36,
          255.19,
          -21.08,
          92.63,
          59.12,
          75.94,
          53.93,
          90.75,
          45.56,
          128.55,
          67.71,
          247.69,
          215.92,
          165.25,
          34.65,
          60.71,
          133.51,
          63.92,
          62.77,
          45.55,
          46.88,
          49.8,
          66.14,
          77.19,
          83.77,
          71.9,
          150.41,
          67.54,
          122.29,
          122.63,
          58.37,
          144.72,
          95.12,
          96.21,
          85.86,
          41.75,
          138.36,
          261.53,
          128.06,
          27.15,
          199.43,
          254.08,
          407.7,
          4595.62,
          30.49,
          36.77,
          153.8,
          -0.68,
          19.38,
          1.34,
          29.15,
          25.23,
          20.97,
          22.47,
          19.94,
          74.69,
          -51.08,
          29.57,
          131.86,
          81.92,
          93.13,
          26.23,
          40.06,
          33.66,
          186.22,
          158.63,
          -25.78,
          30.3,
          18.37,
          5.02,
          -5.4,
          102.37,
          121.33,
          119.38,
          127.88,
          108.3,
          340.81,
          203.63,
          60.76,
          65.95,
          9.35,
          43.32,
          75.55,
          34.9,
          207.26,
          50.21,
          99.12,
          102.71,
          99.66,
          80.27,
          55.05,
          207.06,
          105.68,
          116.56,
          212.75,
          145.09,
          897.58,
          140.61,
          181.33,
          38,
          223.78,
          177.06,
          286.91,
          68.61,
          100.57,
          113.88,
          277.2,
          19.84,
          -7.62,
          50.03,
          165.1,
          97.44,
          22.77,
          -18.31,
          5.06,
          -72.24,
          222.79,
          10.47,
          19.58
         ]
        }
       ],
       "layout": {
        "height": 400,
        "legend": {
         "x": 0.01,
         "xanchor": "left",
         "y": 0.99,
         "yanchor": "top"
        },
        "margin": {
         "b": 40,
         "l": 40,
         "r": 40,
         "t": 60
        },
        "template": {
         "data": {
          "bar": [
           {
            "error_x": {
             "color": "#2a3f5f"
            },
            "error_y": {
             "color": "#2a3f5f"
            },
            "marker": {
             "line": {
              "color": "white",
              "width": 0.5
             },
             "pattern": {
              "fillmode": "overlay",
              "size": 10,
              "solidity": 0.2
             }
            },
            "type": "bar"
           }
          ],
          "barpolar": [
           {
            "marker": {
             "line": {
              "color": "white",
              "width": 0.5
             },
             "pattern": {
              "fillmode": "overlay",
              "size": 10,
              "solidity": 0.2
             }
            },
            "type": "barpolar"
           }
          ],
          "carpet": [
           {
            "aaxis": {
             "endlinecolor": "#2a3f5f",
             "gridcolor": "#C8D4E3",
             "linecolor": "#C8D4E3",
             "minorgridcolor": "#C8D4E3",
             "startlinecolor": "#2a3f5f"
            },
            "baxis": {
             "endlinecolor": "#2a3f5f",
             "gridcolor": "#C8D4E3",
             "linecolor": "#C8D4E3",
             "minorgridcolor": "#C8D4E3",
             "startlinecolor": "#2a3f5f"
            },
            "type": "carpet"
           }
          ],
          "choropleth": [
           {
            "colorbar": {
             "outlinewidth": 0,
             "ticks": ""
            },
            "type": "choropleth"
           }
          ],
          "contour": [
           {
            "colorbar": {
             "outlinewidth": 0,
             "ticks": ""
            },
            "colorscale": [
             [
              0,
              "#0d0887"
             ],
             [
              0.1111111111111111,
              "#46039f"
             ],
             [
              0.2222222222222222,
              "#7201a8"
             ],
             [
              0.3333333333333333,
              "#9c179e"
             ],
             [
              0.4444444444444444,
              "#bd3786"
             ],
             [
              0.5555555555555556,
              "#d8576b"
             ],
             [
              0.6666666666666666,
              "#ed7953"
             ],
             [
              0.7777777777777778,
              "#fb9f3a"
             ],
             [
              0.8888888888888888,
              "#fdca26"
             ],
             [
              1,
              "#f0f921"
             ]
            ],
            "type": "contour"
           }
          ],
          "contourcarpet": [
           {
            "colorbar": {
             "outlinewidth": 0,
             "ticks": ""
            },
            "type": "contourcarpet"
           }
          ],
          "heatmap": [
           {
            "colorbar": {
             "outlinewidth": 0,
             "ticks": ""
            },
            "colorscale": [
             [
              0,
              "#0d0887"
             ],
             [
              0.1111111111111111,
              "#46039f"
             ],
             [
              0.2222222222222222,
              "#7201a8"
             ],
             [
              0.3333333333333333,
              "#9c179e"
             ],
             [
              0.4444444444444444,
              "#bd3786"
             ],
             [
              0.5555555555555556,
              "#d8576b"
             ],
             [
              0.6666666666666666,
              "#ed7953"
             ],
             [
              0.7777777777777778,
              "#fb9f3a"
             ],
             [
              0.8888888888888888,
              "#fdca26"
             ],
             [
              1,
              "#f0f921"
             ]
            ],
            "type": "heatmap"
           }
          ],
          "heatmapgl": [
           {
            "colorbar": {
             "outlinewidth": 0,
             "ticks": ""
            },
            "colorscale": [
             [
              0,
              "#0d0887"
             ],
             [
              0.1111111111111111,
              "#46039f"
             ],
             [
              0.2222222222222222,
              "#7201a8"
             ],
             [
              0.3333333333333333,
              "#9c179e"
             ],
             [
              0.4444444444444444,
              "#bd3786"
             ],
             [
              0.5555555555555556,
              "#d8576b"
             ],
             [
              0.6666666666666666,
              "#ed7953"
             ],
             [
              0.7777777777777778,
              "#fb9f3a"
             ],
             [
              0.8888888888888888,
              "#fdca26"
             ],
             [
              1,
              "#f0f921"
             ]
            ],
            "type": "heatmapgl"
           }
          ],
          "histogram": [
           {
            "marker": {
             "pattern": {
              "fillmode": "overlay",
              "size": 10,
              "solidity": 0.2
             }
            },
            "type": "histogram"
           }
          ],
          "histogram2d": [
           {
            "colorbar": {
             "outlinewidth": 0,
             "ticks": ""
            },
            "colorscale": [
             [
              0,
              "#0d0887"
             ],
             [
              0.1111111111111111,
              "#46039f"
             ],
             [
              0.2222222222222222,
              "#7201a8"
             ],
             [
              0.3333333333333333,
              "#9c179e"
             ],
             [
              0.4444444444444444,
              "#bd3786"
             ],
             [
              0.5555555555555556,
              "#d8576b"
             ],
             [
              0.6666666666666666,
              "#ed7953"
             ],
             [
              0.7777777777777778,
              "#fb9f3a"
             ],
             [
              0.8888888888888888,
              "#fdca26"
             ],
             [
              1,
              "#f0f921"
             ]
            ],
            "type": "histogram2d"
           }
          ],
          "histogram2dcontour": [
           {
            "colorbar": {
             "outlinewidth": 0,
             "ticks": ""
            },
            "colorscale": [
             [
              0,
              "#0d0887"
             ],
             [
              0.1111111111111111,
              "#46039f"
             ],
             [
              0.2222222222222222,
              "#7201a8"
             ],
             [
              0.3333333333333333,
              "#9c179e"
             ],
             [
              0.4444444444444444,
              "#bd3786"
             ],
             [
              0.5555555555555556,
              "#d8576b"
             ],
             [
              0.6666666666666666,
              "#ed7953"
             ],
             [
              0.7777777777777778,
              "#fb9f3a"
             ],
             [
              0.8888888888888888,
              "#fdca26"
             ],
             [
              1,
              "#f0f921"
             ]
            ],
            "type": "histogram2dcontour"
           }
          ],
          "mesh3d": [
           {
            "colorbar": {
             "outlinewidth": 0,
             "ticks": ""
            },
            "type": "mesh3d"
           }
          ],
          "parcoords": [
           {
            "line": {
             "colorbar": {
              "outlinewidth": 0,
              "ticks": ""
             }
            },
            "type": "parcoords"
           }
          ],
          "pie": [
           {
            "automargin": true,
            "type": "pie"
           }
          ],
          "scatter": [
           {
            "fillpattern": {
             "fillmode": "overlay",
             "size": 10,
             "solidity": 0.2
            },
            "type": "scatter"
           }
          ],
          "scatter3d": [
           {
            "line": {
             "colorbar": {
              "outlinewidth": 0,
              "ticks": ""
             }
            },
            "marker": {
             "colorbar": {
              "outlinewidth": 0,
              "ticks": ""
             }
            },
            "type": "scatter3d"
           }
          ],
          "scattercarpet": [
           {
            "marker": {
             "colorbar": {
              "outlinewidth": 0,
              "ticks": ""
             }
            },
            "type": "scattercarpet"
           }
          ],
          "scattergeo": [
           {
            "marker": {
             "colorbar": {
              "outlinewidth": 0,
              "ticks": ""
             }
            },
            "type": "scattergeo"
           }
          ],
          "scattergl": [
           {
            "marker": {
             "colorbar": {
              "outlinewidth": 0,
              "ticks": ""
             }
            },
            "type": "scattergl"
           }
          ],
          "scattermapbox": [
           {
            "marker": {
             "colorbar": {
              "outlinewidth": 0,
              "ticks": ""
             }
            },
            "type": "scattermapbox"
           }
          ],
          "scatterpolar": [
           {
            "marker": {
             "colorbar": {
              "outlinewidth": 0,
              "ticks": ""
             }
            },
            "type": "scatterpolar"
           }
          ],
          "scatterpolargl": [
           {
            "marker": {
             "colorbar": {
              "outlinewidth": 0,
              "ticks": ""
             }
            },
            "type": "scatterpolargl"
           }
          ],
          "scatterternary": [
           {
            "marker": {
             "colorbar": {
              "outlinewidth": 0,
              "ticks": ""
             }
            },
            "type": "scatterternary"
           }
          ],
          "surface": [
           {
            "colorbar": {
             "outlinewidth": 0,
             "ticks": ""
            },
            "colorscale": [
             [
              0,
              "#0d0887"
             ],
             [
              0.1111111111111111,
              "#46039f"
             ],
             [
              0.2222222222222222,
              "#7201a8"
             ],
             [
              0.3333333333333333,
              "#9c179e"
             ],
             [
              0.4444444444444444,
              "#bd3786"
             ],
             [
              0.5555555555555556,
              "#d8576b"
             ],
             [
              0.6666666666666666,
              "#ed7953"
             ],
             [
              0.7777777777777778,
              "#fb9f3a"
             ],
             [
              0.8888888888888888,
              "#fdca26"
             ],
             [
              1,
              "#f0f921"
             ]
            ],
            "type": "surface"
           }
          ],
          "table": [
           {
            "cells": {
             "fill": {
              "color": "#EBF0F8"
             },
             "line": {
              "color": "white"
             }
            },
            "header": {
             "fill": {
              "color": "#C8D4E3"
             },
             "line": {
              "color": "white"
             }
            },
            "type": "table"
           }
          ]
         },
         "layout": {
          "annotationdefaults": {
           "arrowcolor": "#2a3f5f",
           "arrowhead": 0,
           "arrowwidth": 1
          },
          "autotypenumbers": "strict",
          "coloraxis": {
           "colorbar": {
            "outlinewidth": 0,
            "ticks": ""
           }
          },
          "colorscale": {
           "diverging": [
            [
             0,
             "#8e0152"
            ],
            [
             0.1,
             "#c51b7d"
            ],
            [
             0.2,
             "#de77ae"
            ],
            [
             0.3,
             "#f1b6da"
            ],
            [
             0.4,
             "#fde0ef"
            ],
            [
             0.5,
             "#f7f7f7"
            ],
            [
             0.6,
             "#e6f5d0"
            ],
            [
             0.7,
             "#b8e186"
            ],
            [
             0.8,
             "#7fbc41"
            ],
            [
             0.9,
             "#4d9221"
            ],
            [
             1,
             "#276419"
            ]
           ],
           "sequential": [
            [
             0,
             "#0d0887"
            ],
            [
             0.1111111111111111,
             "#46039f"
            ],
            [
             0.2222222222222222,
             "#7201a8"
            ],
            [
             0.3333333333333333,
             "#9c179e"
            ],
            [
             0.4444444444444444,
             "#bd3786"
            ],
            [
             0.5555555555555556,
             "#d8576b"
            ],
            [
             0.6666666666666666,
             "#ed7953"
            ],
            [
             0.7777777777777778,
             "#fb9f3a"
            ],
            [
             0.8888888888888888,
             "#fdca26"
            ],
            [
             1,
             "#f0f921"
            ]
           ],
           "sequentialminus": [
            [
             0,
             "#0d0887"
            ],
            [
             0.1111111111111111,
             "#46039f"
            ],
            [
             0.2222222222222222,
             "#7201a8"
            ],
            [
             0.3333333333333333,
             "#9c179e"
            ],
            [
             0.4444444444444444,
             "#bd3786"
            ],
            [
             0.5555555555555556,
             "#d8576b"
            ],
            [
             0.6666666666666666,
             "#ed7953"
            ],
            [
             0.7777777777777778,
             "#fb9f3a"
            ],
            [
             0.8888888888888888,
             "#fdca26"
            ],
            [
             1,
             "#f0f921"
            ]
           ]
          },
          "colorway": [
           "#636efa",
           "#EF553B",
           "#00cc96",
           "#ab63fa",
           "#FFA15A",
           "#19d3f3",
           "#FF6692",
           "#B6E880",
           "#FF97FF",
           "#FECB52"
          ],
          "font": {
           "color": "#2a3f5f"
          },
          "geo": {
           "bgcolor": "white",
           "lakecolor": "white",
           "landcolor": "white",
           "showlakes": true,
           "showland": true,
           "subunitcolor": "#C8D4E3"
          },
          "hoverlabel": {
           "align": "left"
          },
          "hovermode": "closest",
          "mapbox": {
           "style": "light"
          },
          "paper_bgcolor": "white",
          "plot_bgcolor": "white",
          "polar": {
           "angularaxis": {
            "gridcolor": "#EBF0F8",
            "linecolor": "#EBF0F8",
            "ticks": ""
           },
           "bgcolor": "white",
           "radialaxis": {
            "gridcolor": "#EBF0F8",
            "linecolor": "#EBF0F8",
            "ticks": ""
           }
          },
          "scene": {
           "xaxis": {
            "backgroundcolor": "white",
            "gridcolor": "#DFE8F3",
            "gridwidth": 2,
            "linecolor": "#EBF0F8",
            "showbackground": true,
            "ticks": "",
            "zerolinecolor": "#EBF0F8"
           },
           "yaxis": {
            "backgroundcolor": "white",
            "gridcolor": "#DFE8F3",
            "gridwidth": 2,
            "linecolor": "#EBF0F8",
            "showbackground": true,
            "ticks": "",
            "zerolinecolor": "#EBF0F8"
           },
           "zaxis": {
            "backgroundcolor": "white",
            "gridcolor": "#DFE8F3",
            "gridwidth": 2,
            "linecolor": "#EBF0F8",
            "showbackground": true,
            "ticks": "",
            "zerolinecolor": "#EBF0F8"
           }
          },
          "shapedefaults": {
           "line": {
            "color": "#2a3f5f"
           }
          },
          "ternary": {
           "aaxis": {
            "gridcolor": "#DFE8F3",
            "linecolor": "#A2B1C6",
            "ticks": ""
           },
           "baxis": {
            "gridcolor": "#DFE8F3",
            "linecolor": "#A2B1C6",
            "ticks": ""
           },
           "bgcolor": "white",
           "caxis": {
            "gridcolor": "#DFE8F3",
            "linecolor": "#A2B1C6",
            "ticks": ""
           }
          },
          "title": {
           "x": 0.05
          },
          "xaxis": {
           "automargin": true,
           "gridcolor": "#EBF0F8",
           "linecolor": "#EBF0F8",
           "ticks": "",
           "title": {
            "standoff": 15
           },
           "zerolinecolor": "#EBF0F8",
           "zerolinewidth": 2
          },
          "yaxis": {
           "automargin": true,
           "gridcolor": "#EBF0F8",
           "linecolor": "#EBF0F8",
           "ticks": "",
           "title": {
            "standoff": 15
           },
           "zerolinecolor": "#EBF0F8",
           "zerolinewidth": 2
          }
         }
        },
        "title": {
         "text": "Fluxo em milhões de reais"
        },
        "width": 800,
        "xaxis": {
         "title": {
          "text": "Data"
         }
        },
        "yaxis": {
         "title": {
          "text": "Índice de Sentimento"
         }
        }
       }
      }
     },
     "metadata": {},
     "output_type": "display_data"
    }
   ],
   "source": [
    "fig = go.Figure()\n",
    "\n",
    "# Linha principal (o seu índice de sentimento)\n",
    "fig.add_trace(go.Scatter( x=fluxo.Data, y=fluxo.Estrangeiro, mode='lines', name='Estrangeiro', line=dict(color='blue')))\n",
    "fig.add_trace(go.Scatter( x=fluxo.Data, y=fluxo.Institucional, mode='lines', name='Institucional', line=dict(color='black')))\n",
    "fig.add_trace(go.Scatter( x=fluxo.Data, y=fluxo['Inst. Financeira'], mode='lines', name='Inst. Financeira', line=dict(color='red')))\n",
    "fig.add_trace(go.Scatter( x=fluxo.Data, y=fluxo['Pessoa física'], mode='lines', name='Pessoa física', line=dict(color='green')))\n",
    "fig.add_trace(go.Scatter( x=fluxo.Data, y=fluxo['Outros'], mode='lines', name='Outros', line=dict(color='orange'),\n",
    "                         visible='legendonly'))\n",
    "# Layout\n",
    "fig.update_layout(\n",
    "    title=f'Fluxo em milhões de reais',\n",
    "    width=800,\n",
    "    height=400,\n",
    "    legend=dict(yanchor=\"top\", y=0.99, xanchor=\"left\", x=0.01),\n",
    "    margin=dict(l=40, r=40, t=60, b=40),\n",
    "    xaxis_title='Data',\n",
    "    yaxis_title='Índice de Sentimento',\n",
    "    template='plotly_white'\n",
    ")\n",
    "\n",
    "fig.show()"
   ]
  },
  {
   "cell_type": "code",
   "execution_count": 330,
   "id": "eb5fbbf3",
   "metadata": {},
   "outputs": [],
   "source": [
    "# Supondo df um DataFrame com coluna 'Estrangeiro'\n",
    "# ext = fluxo['Estrangeiro']\n",
    "# min_e = ext.min()\n",
    "# max_e = ext.max()\n",
    "# # Índice de Sentimento (Estrangeiros) normalizado entre 0 e 1\n",
    "# fluxo['Indice_Estrangeiro'] = (ext - min_e) / (max_e - min_e)\n",
    "ext = fluxo['Estrangeiro']/fluxo['Total absluto']\n",
    "# min_e = ext.min()\n",
    "# max_e = ext.max()\n",
    "# # Índice de Sentimento (Estrangeiros) normalizado entre 0 e 1\n",
    "fluxo['Indice_Estrangeiro'] = ext\n",
    "\n",
    "# # Soma dos fluxos estrangeiro e institucional\n",
    "# fluxo_EI = fluxo['Estrangeiro'] + fluxo['Institucional']\n",
    "# min_ei = fluxo_EI.min()\n",
    "# max_ei = fluxo_EI.max()\n",
    "# # Índice de Sentimento (Estrangeiro + Institucional)\n",
    "# fluxo['Indice_Est_Inst'] = (fluxo_EI - min_ei) / (max_ei - min_ei)\n",
    "# Soma dos fluxos estrangeiro e institucional\n",
    "fluxo_EI = (fluxo['Estrangeiro'] + fluxo['Institucional'])/fluxo['Total absluto']\n",
    "# min_ei = fluxo_EI.min()\n",
    "# max_ei = fluxo_EI.max()\n",
    "# Índice de Sentimento (Estrangeiro + Institucional)\n",
    "fluxo['Indice_Est_Inst'] = fluxo_EI"
   ]
  },
  {
   "cell_type": "code",
   "execution_count": 331,
   "id": "87d0cfcb",
   "metadata": {},
   "outputs": [
    {
     "data": {
      "text/html": [
       "<div>\n",
       "<style scoped>\n",
       "    .dataframe tbody tr th:only-of-type {\n",
       "        vertical-align: middle;\n",
       "    }\n",
       "\n",
       "    .dataframe tbody tr th {\n",
       "        vertical-align: top;\n",
       "    }\n",
       "\n",
       "    .dataframe thead th {\n",
       "        text-align: right;\n",
       "    }\n",
       "</style>\n",
       "<table border=\"1\" class=\"dataframe\">\n",
       "  <thead>\n",
       "    <tr style=\"text-align: right;\">\n",
       "      <th></th>\n",
       "      <th>Data</th>\n",
       "      <th>Estrangeiro</th>\n",
       "      <th>Institucional</th>\n",
       "      <th>Pessoa física</th>\n",
       "      <th>Inst. Financeira</th>\n",
       "      <th>Outros</th>\n",
       "      <th>Total</th>\n",
       "      <th>Total absluto</th>\n",
       "      <th>Indice de fluxo</th>\n",
       "      <th>Indice_Estrangeiro</th>\n",
       "      <th>Indice_Est_Inst</th>\n",
       "    </tr>\n",
       "  </thead>\n",
       "  <tbody>\n",
       "    <tr>\n",
       "      <th>0</th>\n",
       "      <td>2025-04-23</td>\n",
       "      <td>1671.85</td>\n",
       "      <td>-1210.13</td>\n",
       "      <td>-247.50</td>\n",
       "      <td>67.38</td>\n",
       "      <td>-281.60</td>\n",
       "      <td>-2.273737e-13</td>\n",
       "      <td>3478.46</td>\n",
       "      <td>0.480629</td>\n",
       "      <td>0.480629</td>\n",
       "      <td>0.132737</td>\n",
       "    </tr>\n",
       "    <tr>\n",
       "      <th>1</th>\n",
       "      <td>2025-04-22</td>\n",
       "      <td>1112.86</td>\n",
       "      <td>-935.41</td>\n",
       "      <td>-127.54</td>\n",
       "      <td>-34.45</td>\n",
       "      <td>-15.46</td>\n",
       "      <td>-7.815970e-14</td>\n",
       "      <td>2225.72</td>\n",
       "      <td>0.500000</td>\n",
       "      <td>0.500000</td>\n",
       "      <td>0.079727</td>\n",
       "    </tr>\n",
       "    <tr>\n",
       "      <th>2</th>\n",
       "      <td>2025-04-17</td>\n",
       "      <td>2332.51</td>\n",
       "      <td>-781.91</td>\n",
       "      <td>-273.00</td>\n",
       "      <td>-1326.86</td>\n",
       "      <td>49.25</td>\n",
       "      <td>-1.000000e-02</td>\n",
       "      <td>4763.53</td>\n",
       "      <td>0.489660</td>\n",
       "      <td>0.489660</td>\n",
       "      <td>0.325515</td>\n",
       "    </tr>\n",
       "    <tr>\n",
       "      <th>3</th>\n",
       "      <td>2025-04-16</td>\n",
       "      <td>-1115.98</td>\n",
       "      <td>564.08</td>\n",
       "      <td>113.25</td>\n",
       "      <td>231.88</td>\n",
       "      <td>206.77</td>\n",
       "      <td>2.842171e-14</td>\n",
       "      <td>2231.96</td>\n",
       "      <td>-0.500000</td>\n",
       "      <td>-0.500000</td>\n",
       "      <td>-0.247271</td>\n",
       "    </tr>\n",
       "    <tr>\n",
       "      <th>4</th>\n",
       "      <td>2025-04-15</td>\n",
       "      <td>-68.61</td>\n",
       "      <td>-169.87</td>\n",
       "      <td>402.79</td>\n",
       "      <td>-235.00</td>\n",
       "      <td>70.68</td>\n",
       "      <td>-1.000000e-02</td>\n",
       "      <td>946.95</td>\n",
       "      <td>-0.072454</td>\n",
       "      <td>-0.072454</td>\n",
       "      <td>-0.251840</td>\n",
       "    </tr>\n",
       "    <tr>\n",
       "      <th>...</th>\n",
       "      <td>...</td>\n",
       "      <td>...</td>\n",
       "      <td>...</td>\n",
       "      <td>...</td>\n",
       "      <td>...</td>\n",
       "      <td>...</td>\n",
       "      <td>...</td>\n",
       "      <td>...</td>\n",
       "      <td>...</td>\n",
       "      <td>...</td>\n",
       "      <td>...</td>\n",
       "    </tr>\n",
       "    <tr>\n",
       "      <th>243</th>\n",
       "      <td>2024-05-06</td>\n",
       "      <td>-128.19</td>\n",
       "      <td>-88.95</td>\n",
       "      <td>194.39</td>\n",
       "      <td>17.70</td>\n",
       "      <td>5.06</td>\n",
       "      <td>1.000000e-02</td>\n",
       "      <td>434.29</td>\n",
       "      <td>-0.295171</td>\n",
       "      <td>-0.295171</td>\n",
       "      <td>-0.499988</td>\n",
       "    </tr>\n",
       "    <tr>\n",
       "      <th>244</th>\n",
       "      <td>2024-05-03</td>\n",
       "      <td>1028.27</td>\n",
       "      <td>-522.34</td>\n",
       "      <td>-375.29</td>\n",
       "      <td>-58.40</td>\n",
       "      <td>-72.24</td>\n",
       "      <td>-7.105427e-14</td>\n",
       "      <td>2056.54</td>\n",
       "      <td>0.500000</td>\n",
       "      <td>0.500000</td>\n",
       "      <td>0.246010</td>\n",
       "    </tr>\n",
       "    <tr>\n",
       "      <th>245</th>\n",
       "      <td>2024-05-02</td>\n",
       "      <td>603.67</td>\n",
       "      <td>-623.34</td>\n",
       "      <td>-220.19</td>\n",
       "      <td>17.07</td>\n",
       "      <td>222.79</td>\n",
       "      <td>-8.526513e-14</td>\n",
       "      <td>1687.06</td>\n",
       "      <td>0.357824</td>\n",
       "      <td>0.357824</td>\n",
       "      <td>-0.011659</td>\n",
       "    </tr>\n",
       "    <tr>\n",
       "      <th>246</th>\n",
       "      <td>2024-04-30</td>\n",
       "      <td>-1398.73</td>\n",
       "      <td>607.61</td>\n",
       "      <td>529.58</td>\n",
       "      <td>251.08</td>\n",
       "      <td>10.47</td>\n",
       "      <td>1.000000e-02</td>\n",
       "      <td>2797.47</td>\n",
       "      <td>-0.499998</td>\n",
       "      <td>-0.499998</td>\n",
       "      <td>-0.282798</td>\n",
       "    </tr>\n",
       "    <tr>\n",
       "      <th>247</th>\n",
       "      <td>2024-04-29</td>\n",
       "      <td>968.65</td>\n",
       "      <td>-905.58</td>\n",
       "      <td>-1.20</td>\n",
       "      <td>-81.45</td>\n",
       "      <td>19.58</td>\n",
       "      <td>-7.105427e-14</td>\n",
       "      <td>1976.46</td>\n",
       "      <td>0.490093</td>\n",
       "      <td>0.490093</td>\n",
       "      <td>0.031911</td>\n",
       "    </tr>\n",
       "  </tbody>\n",
       "</table>\n",
       "<p>248 rows × 11 columns</p>\n",
       "</div>"
      ],
      "text/plain": [
       "          Data  Estrangeiro  Institucional  Pessoa física  Inst. Financeira  \\\n",
       "0   2025-04-23      1671.85       -1210.13        -247.50             67.38   \n",
       "1   2025-04-22      1112.86        -935.41        -127.54            -34.45   \n",
       "2   2025-04-17      2332.51        -781.91        -273.00          -1326.86   \n",
       "3   2025-04-16     -1115.98         564.08         113.25            231.88   \n",
       "4   2025-04-15       -68.61        -169.87         402.79           -235.00   \n",
       "..         ...          ...            ...            ...               ...   \n",
       "243 2024-05-06      -128.19         -88.95         194.39             17.70   \n",
       "244 2024-05-03      1028.27        -522.34        -375.29            -58.40   \n",
       "245 2024-05-02       603.67        -623.34        -220.19             17.07   \n",
       "246 2024-04-30     -1398.73         607.61         529.58            251.08   \n",
       "247 2024-04-29       968.65        -905.58          -1.20            -81.45   \n",
       "\n",
       "     Outros         Total  Total absluto  Indice de fluxo  Indice_Estrangeiro  \\\n",
       "0   -281.60 -2.273737e-13        3478.46         0.480629            0.480629   \n",
       "1    -15.46 -7.815970e-14        2225.72         0.500000            0.500000   \n",
       "2     49.25 -1.000000e-02        4763.53         0.489660            0.489660   \n",
       "3    206.77  2.842171e-14        2231.96        -0.500000           -0.500000   \n",
       "4     70.68 -1.000000e-02         946.95        -0.072454           -0.072454   \n",
       "..      ...           ...            ...              ...                 ...   \n",
       "243    5.06  1.000000e-02         434.29        -0.295171           -0.295171   \n",
       "244  -72.24 -7.105427e-14        2056.54         0.500000            0.500000   \n",
       "245  222.79 -8.526513e-14        1687.06         0.357824            0.357824   \n",
       "246   10.47  1.000000e-02        2797.47        -0.499998           -0.499998   \n",
       "247   19.58 -7.105427e-14        1976.46         0.490093            0.490093   \n",
       "\n",
       "     Indice_Est_Inst  \n",
       "0           0.132737  \n",
       "1           0.079727  \n",
       "2           0.325515  \n",
       "3          -0.247271  \n",
       "4          -0.251840  \n",
       "..               ...  \n",
       "243        -0.499988  \n",
       "244         0.246010  \n",
       "245        -0.011659  \n",
       "246        -0.282798  \n",
       "247         0.031911  \n",
       "\n",
       "[248 rows x 11 columns]"
      ]
     },
     "execution_count": 331,
     "metadata": {},
     "output_type": "execute_result"
    }
   ],
   "source": [
    "fluxo"
   ]
  },
  {
   "cell_type": "markdown",
   "id": "dee6187c",
   "metadata": {},
   "source": [
    "# VXBR  S&P/B3 Ibovespa VIX\n",
    "\n",
    "Em termos percentuais, o VIX representa a expectativa anualizada da variação do índice. Assim, um VIX de 24,83 sugere que o mercado espera uma oscilação anualizada de cerca de 24,83% no índice, o que pode ser interpretado como um cenário de incerteza e possível turbulência nos próximos meses.\n",
    "\n",
    "De forma prática:\n",
    "\n",
    "$<$ 20 indicam baixa volatilidade, com investidores mais confiantes e dispostos a correr riscos;\n",
    "\n",
    "Entre 20 e 30 pontos o mercado está em uma faixa de volatilidade média, sinalizando um risco moderado e maior incerteza;\n",
    "\n",
    "$>$ 30 pontos, o índice sinaliza alta volatilidade e maior nervosismo ou medo dos investidores, indicando oscilações fortes nos preços dos ativo"
   ]
  },
  {
   "cell_type": "code",
   "execution_count": null,
   "id": "3a7a76fc",
   "metadata": {},
   "outputs": [],
   "source": [
    "driver = webdriver.Chrome(options=chrome_options)\n",
    "driver.get(\"https://www.spglobal.com/spdji/pt/indices/indicators/sp-b3-ibovespa-vix/#overview\")\n",
    "time.sleep(2)\n",
    "botao1 = driver.find_element(By.ID, \"onetrust-accept-btn-handler\")\n",
    "botao1.click()\n",
    "time.sleep(2)\n",
    "botao2 =  driver.find_element(By.CLASS_NAME, \"optanon-allow-all\")\n",
    "botao2.click()\n",
    "time.sleep(5)\n",
    "driver.execute_script(\"window.scrollBy(0, 500);\")  # Scroll para o botão aparecer\n",
    "exportar = driver.find_element(By.XPATH, \"//a[contains(text(), 'Exportar')]\")\n",
    "exportar.click()\n",
    "driver.quit()\n"
   ]
  },
  {
   "cell_type": "code",
   "execution_count": 261,
   "id": "f81edcac",
   "metadata": {},
   "outputs": [
    {
     "data": {
      "text/html": [
       "<div>\n",
       "<style scoped>\n",
       "    .dataframe tbody tr th:only-of-type {\n",
       "        vertical-align: middle;\n",
       "    }\n",
       "\n",
       "    .dataframe tbody tr th {\n",
       "        vertical-align: top;\n",
       "    }\n",
       "\n",
       "    .dataframe thead th {\n",
       "        text-align: right;\n",
       "    }\n",
       "</style>\n",
       "<table border=\"1\" class=\"dataframe\">\n",
       "  <thead>\n",
       "    <tr style=\"text-align: right;\">\n",
       "      <th></th>\n",
       "      <th>Data</th>\n",
       "      <th>VX</th>\n",
       "      <th>VX-diario</th>\n",
       "      <th>VX-mes</th>\n",
       "    </tr>\n",
       "  </thead>\n",
       "  <tbody>\n",
       "    <tr>\n",
       "      <th>0</th>\n",
       "      <td>2024-04-25</td>\n",
       "      <td>16.85</td>\n",
       "      <td>0.881969</td>\n",
       "      <td>4.864176</td>\n",
       "    </tr>\n",
       "    <tr>\n",
       "      <th>1</th>\n",
       "      <td>2024-04-26</td>\n",
       "      <td>16.44</td>\n",
       "      <td>0.860509</td>\n",
       "      <td>4.745819</td>\n",
       "    </tr>\n",
       "    <tr>\n",
       "      <th>2</th>\n",
       "      <td>2024-04-29</td>\n",
       "      <td>16.39</td>\n",
       "      <td>0.857892</td>\n",
       "      <td>4.731385</td>\n",
       "    </tr>\n",
       "    <tr>\n",
       "      <th>3</th>\n",
       "      <td>2024-04-30</td>\n",
       "      <td>16.87</td>\n",
       "      <td>0.883016</td>\n",
       "      <td>4.869950</td>\n",
       "    </tr>\n",
       "    <tr>\n",
       "      <th>4</th>\n",
       "      <td>2024-05-02</td>\n",
       "      <td>17.05</td>\n",
       "      <td>0.892438</td>\n",
       "      <td>4.921911</td>\n",
       "    </tr>\n",
       "    <tr>\n",
       "      <th>...</th>\n",
       "      <td>...</td>\n",
       "      <td>...</td>\n",
       "      <td>...</td>\n",
       "      <td>...</td>\n",
       "    </tr>\n",
       "    <tr>\n",
       "      <th>245</th>\n",
       "      <td>2025-04-17</td>\n",
       "      <td>17.94</td>\n",
       "      <td>0.939023</td>\n",
       "      <td>5.178832</td>\n",
       "    </tr>\n",
       "    <tr>\n",
       "      <th>246</th>\n",
       "      <td>2025-04-22</td>\n",
       "      <td>18.40</td>\n",
       "      <td>0.963100</td>\n",
       "      <td>5.311622</td>\n",
       "    </tr>\n",
       "    <tr>\n",
       "      <th>247</th>\n",
       "      <td>2025-04-23</td>\n",
       "      <td>18.16</td>\n",
       "      <td>0.950538</td>\n",
       "      <td>5.242340</td>\n",
       "    </tr>\n",
       "    <tr>\n",
       "      <th>248</th>\n",
       "      <td>2025-04-24</td>\n",
       "      <td>17.93</td>\n",
       "      <td>0.938499</td>\n",
       "      <td>5.175945</td>\n",
       "    </tr>\n",
       "    <tr>\n",
       "      <th>249</th>\n",
       "      <td>2025-04-25</td>\n",
       "      <td>17.38</td>\n",
       "      <td>0.909711</td>\n",
       "      <td>5.017174</td>\n",
       "    </tr>\n",
       "  </tbody>\n",
       "</table>\n",
       "<p>250 rows × 4 columns</p>\n",
       "</div>"
      ],
      "text/plain": [
       "          Data     VX  VX-diario    VX-mes\n",
       "0   2024-04-25  16.85   0.881969  4.864176\n",
       "1   2024-04-26  16.44   0.860509  4.745819\n",
       "2   2024-04-29  16.39   0.857892  4.731385\n",
       "3   2024-04-30  16.87   0.883016  4.869950\n",
       "4   2024-05-02  17.05   0.892438  4.921911\n",
       "..         ...    ...        ...       ...\n",
       "245 2025-04-17  17.94   0.939023  5.178832\n",
       "246 2025-04-22  18.40   0.963100  5.311622\n",
       "247 2025-04-23  18.16   0.950538  5.242340\n",
       "248 2025-04-24  17.93   0.938499  5.175945\n",
       "249 2025-04-25  17.38   0.909711  5.017174\n",
       "\n",
       "[250 rows x 4 columns]"
      ]
     },
     "execution_count": 261,
     "metadata": {},
     "output_type": "execute_result"
    }
   ],
   "source": [
    "\n",
    "# Caminho para o arquivo\n",
    "arquivo = 'data/PerformanceGraphExport.xls'\n",
    "\n",
    "# Primeiro, ler o arquivo bruto sem cabeçalho\n",
    "df_raw = pd.read_excel(arquivo, header=None)\n",
    "\n",
    "# Encontrar a linha onde aparece 'Data efetiva' e 'S&P/B3 Ibovespa VIX'\n",
    "header_row = None\n",
    "for i, row in df_raw.iterrows():\n",
    "    if 'Data efetiva' in row.values and 'S&P/B3 Ibovespa VIX' in row.values:\n",
    "        header_row = i\n",
    "        break\n",
    "\n",
    "if header_row is None:\n",
    "    raise ValueError(\"Não encontrei a linha de cabeçalho com 'Data efetiva' e 'S&P/B3 Ibovespa VIX'!\")\n",
    "\n",
    "# Ler de novo pulando até o header_row\n",
    "df = pd.read_excel(arquivo, skiprows=header_row)\n",
    "\n",
    "# Selecionar só as colunas que interessam\n",
    "df = df[['Data efetiva', 'S&P/B3 Ibovespa VIX']]\n",
    "\n",
    "# Tentar converter 'Data efetiva' para datetime\n",
    "df['Data efetiva'] = pd.to_datetime(df['Data efetiva'], errors='coerce')\n",
    "\n",
    "# Remover linhas que não têm data válida\n",
    "df = df.dropna(subset=['Data efetiva'])\n",
    "\n",
    "df = df.reset_index(drop=True)\n",
    "df.columns = ['Data', 'VX']\n",
    "df[['Data', 'VX']] = df[['Data', 'VX']].apply(pd.to_numeric, errors='coerce')\n",
    "df['Data'] = pd.to_datetime(df['Data'])\n",
    "df['VX-diario'] = df['VX'] / (365**(1/2))\n",
    "df['VX-mes'] = df['VX'] / (12**(1/2))\n",
    "df\n"
   ]
  },
  {
   "cell_type": "code",
   "execution_count": 289,
   "id": "091d0430",
   "metadata": {},
   "outputs": [
    {
     "name": "stderr",
     "output_type": "stream",
     "text": [
      "[*********************100%***********************]  1 of 1 completed\n"
     ]
    }
   ],
   "source": [
    "vix = yf.download('^VIX' , period=periodo, interval='1d', auto_adjust=True, threads=True)[['Close']]"
   ]
  },
  {
   "cell_type": "code",
   "execution_count": 305,
   "id": "27d9d090",
   "metadata": {},
   "outputs": [
    {
     "data": {
      "application/vnd.plotly.v1+json": {
       "config": {
        "plotlyServerURL": "https://plot.ly"
       },
       "data": [
        {
         "line": {
          "color": "blue"
         },
         "mode": "lines",
         "name": "Índice de Sentimento - ibra50",
         "type": "scatter",
         "x": [
          "2024-04-25T00:00:00",
          "2024-04-26T00:00:00",
          "2024-04-29T00:00:00",
          "2024-04-30T00:00:00",
          "2024-05-02T00:00:00",
          "2024-05-03T00:00:00",
          "2024-05-06T00:00:00",
          "2024-05-07T00:00:00",
          "2024-05-08T00:00:00",
          "2024-05-09T00:00:00",
          "2024-05-10T00:00:00",
          "2024-05-13T00:00:00",
          "2024-05-14T00:00:00",
          "2024-05-15T00:00:00",
          "2024-05-16T00:00:00",
          "2024-05-17T00:00:00",
          "2024-05-20T00:00:00",
          "2024-05-21T00:00:00",
          "2024-05-22T00:00:00",
          "2024-05-23T00:00:00",
          "2024-05-24T00:00:00",
          "2024-05-27T00:00:00",
          "2024-05-28T00:00:00",
          "2024-05-29T00:00:00",
          "2024-05-31T00:00:00",
          "2024-06-03T00:00:00",
          "2024-06-04T00:00:00",
          "2024-06-05T00:00:00",
          "2024-06-06T00:00:00",
          "2024-06-07T00:00:00",
          "2024-06-10T00:00:00",
          "2024-06-11T00:00:00",
          "2024-06-12T00:00:00",
          "2024-06-13T00:00:00",
          "2024-06-14T00:00:00",
          "2024-06-17T00:00:00",
          "2024-06-18T00:00:00",
          "2024-06-19T00:00:00",
          "2024-06-20T00:00:00",
          "2024-06-21T00:00:00",
          "2024-06-24T00:00:00",
          "2024-06-25T00:00:00",
          "2024-06-26T00:00:00",
          "2024-06-27T00:00:00",
          "2024-06-28T00:00:00",
          "2024-07-01T00:00:00",
          "2024-07-02T00:00:00",
          "2024-07-03T00:00:00",
          "2024-07-04T00:00:00",
          "2024-07-05T00:00:00",
          "2024-07-08T00:00:00",
          "2024-07-09T00:00:00",
          "2024-07-10T00:00:00",
          "2024-07-11T00:00:00",
          "2024-07-12T00:00:00",
          "2024-07-15T00:00:00",
          "2024-07-16T00:00:00",
          "2024-07-17T00:00:00",
          "2024-07-18T00:00:00",
          "2024-07-19T00:00:00",
          "2024-07-22T00:00:00",
          "2024-07-23T00:00:00",
          "2024-07-24T00:00:00",
          "2024-07-25T00:00:00",
          "2024-07-26T00:00:00",
          "2024-07-29T00:00:00",
          "2024-07-30T00:00:00",
          "2024-07-31T00:00:00",
          "2024-08-01T00:00:00",
          "2024-08-02T00:00:00",
          "2024-08-05T00:00:00",
          "2024-08-06T00:00:00",
          "2024-08-07T00:00:00",
          "2024-08-08T00:00:00",
          "2024-08-09T00:00:00",
          "2024-08-12T00:00:00",
          "2024-08-13T00:00:00",
          "2024-08-14T00:00:00",
          "2024-08-15T00:00:00",
          "2024-08-16T00:00:00",
          "2024-08-19T00:00:00",
          "2024-08-20T00:00:00",
          "2024-08-21T00:00:00",
          "2024-08-22T00:00:00",
          "2024-08-23T00:00:00",
          "2024-08-26T00:00:00",
          "2024-08-27T00:00:00",
          "2024-08-28T00:00:00",
          "2024-08-29T00:00:00",
          "2024-08-30T00:00:00",
          "2024-09-02T00:00:00",
          "2024-09-03T00:00:00",
          "2024-09-04T00:00:00",
          "2024-09-05T00:00:00",
          "2024-09-06T00:00:00",
          "2024-09-09T00:00:00",
          "2024-09-10T00:00:00",
          "2024-09-11T00:00:00",
          "2024-09-12T00:00:00",
          "2024-09-13T00:00:00",
          "2024-09-16T00:00:00",
          "2024-09-17T00:00:00",
          "2024-09-18T00:00:00",
          "2024-09-19T00:00:00",
          "2024-09-20T00:00:00",
          "2024-09-23T00:00:00",
          "2024-09-24T00:00:00",
          "2024-09-25T00:00:00",
          "2024-09-26T00:00:00",
          "2024-09-27T00:00:00",
          "2024-09-30T00:00:00",
          "2024-10-01T00:00:00",
          "2024-10-02T00:00:00",
          "2024-10-03T00:00:00",
          "2024-10-04T00:00:00",
          "2024-10-07T00:00:00",
          "2024-10-08T00:00:00",
          "2024-10-09T00:00:00",
          "2024-10-10T00:00:00",
          "2024-10-11T00:00:00",
          "2024-10-14T00:00:00",
          "2024-10-15T00:00:00",
          "2024-10-16T00:00:00",
          "2024-10-17T00:00:00",
          "2024-10-18T00:00:00",
          "2024-10-21T00:00:00",
          "2024-10-22T00:00:00",
          "2024-10-23T00:00:00",
          "2024-10-24T00:00:00",
          "2024-10-25T00:00:00",
          "2024-10-28T00:00:00",
          "2024-10-29T00:00:00",
          "2024-10-30T00:00:00",
          "2024-10-31T00:00:00",
          "2024-11-01T00:00:00",
          "2024-11-04T00:00:00",
          "2024-11-05T00:00:00",
          "2024-11-06T00:00:00",
          "2024-11-07T00:00:00",
          "2024-11-08T00:00:00",
          "2024-11-11T00:00:00",
          "2024-11-12T00:00:00",
          "2024-11-13T00:00:00",
          "2024-11-14T00:00:00",
          "2024-11-18T00:00:00",
          "2024-11-19T00:00:00",
          "2024-11-21T00:00:00",
          "2024-11-22T00:00:00",
          "2024-11-25T00:00:00",
          "2024-11-26T00:00:00",
          "2024-11-27T00:00:00",
          "2024-11-28T00:00:00",
          "2024-11-29T00:00:00",
          "2024-12-02T00:00:00",
          "2024-12-03T00:00:00",
          "2024-12-04T00:00:00",
          "2024-12-05T00:00:00",
          "2024-12-06T00:00:00",
          "2024-12-09T00:00:00",
          "2024-12-10T00:00:00",
          "2024-12-11T00:00:00",
          "2024-12-12T00:00:00",
          "2024-12-13T00:00:00",
          "2024-12-16T00:00:00",
          "2024-12-17T00:00:00",
          "2024-12-18T00:00:00",
          "2024-12-19T00:00:00",
          "2024-12-20T00:00:00",
          "2024-12-23T00:00:00",
          "2024-12-26T00:00:00",
          "2024-12-27T00:00:00",
          "2024-12-30T00:00:00",
          "2025-01-02T00:00:00",
          "2025-01-03T00:00:00",
          "2025-01-06T00:00:00",
          "2025-01-07T00:00:00",
          "2025-01-08T00:00:00",
          "2025-01-09T00:00:00",
          "2025-01-10T00:00:00",
          "2025-01-13T00:00:00",
          "2025-01-14T00:00:00",
          "2025-01-15T00:00:00",
          "2025-01-16T00:00:00",
          "2025-01-17T00:00:00",
          "2025-01-20T00:00:00",
          "2025-01-21T00:00:00",
          "2025-01-22T00:00:00",
          "2025-01-23T00:00:00",
          "2025-01-24T00:00:00",
          "2025-01-27T00:00:00",
          "2025-01-28T00:00:00",
          "2025-01-29T00:00:00",
          "2025-01-30T00:00:00",
          "2025-01-31T00:00:00",
          "2025-02-03T00:00:00",
          "2025-02-04T00:00:00",
          "2025-02-05T00:00:00",
          "2025-02-06T00:00:00",
          "2025-02-07T00:00:00",
          "2025-02-10T00:00:00",
          "2025-02-11T00:00:00",
          "2025-02-12T00:00:00",
          "2025-02-13T00:00:00",
          "2025-02-14T00:00:00",
          "2025-02-17T00:00:00",
          "2025-02-18T00:00:00",
          "2025-02-19T00:00:00",
          "2025-02-20T00:00:00",
          "2025-02-21T00:00:00",
          "2025-02-24T00:00:00",
          "2025-02-25T00:00:00",
          "2025-02-26T00:00:00",
          "2025-02-27T00:00:00",
          "2025-02-28T00:00:00",
          "2025-03-05T00:00:00",
          "2025-03-06T00:00:00",
          "2025-03-07T00:00:00",
          "2025-03-10T00:00:00",
          "2025-03-11T00:00:00",
          "2025-03-12T00:00:00",
          "2025-03-13T00:00:00",
          "2025-03-14T00:00:00",
          "2025-03-17T00:00:00",
          "2025-03-18T00:00:00",
          "2025-03-19T00:00:00",
          "2025-03-20T00:00:00",
          "2025-03-21T00:00:00",
          "2025-03-24T00:00:00",
          "2025-03-25T00:00:00",
          "2025-03-26T00:00:00",
          "2025-03-27T00:00:00",
          "2025-03-28T00:00:00",
          "2025-03-31T00:00:00",
          "2025-04-01T00:00:00",
          "2025-04-02T00:00:00",
          "2025-04-03T00:00:00",
          "2025-04-04T00:00:00",
          "2025-04-07T00:00:00",
          "2025-04-08T00:00:00",
          "2025-04-09T00:00:00",
          "2025-04-10T00:00:00",
          "2025-04-11T00:00:00",
          "2025-04-14T00:00:00",
          "2025-04-15T00:00:00",
          "2025-04-16T00:00:00",
          "2025-04-17T00:00:00",
          "2025-04-22T00:00:00",
          "2025-04-23T00:00:00",
          "2025-04-24T00:00:00",
          "2025-04-25T00:00:00"
         ],
         "y": [
          16.85,
          16.44,
          16.39,
          16.87,
          17.05,
          16.64,
          16.38,
          16.22,
          16.22,
          15.46,
          15.39,
          15.39,
          15.61,
          14.78,
          14.44,
          13.89,
          14.15,
          14.22,
          14.81,
          15.25,
          15.1,
          15.21,
          16.18,
          16.78,
          16.4,
          16.54,
          16.58,
          17.13,
          16.83,
          18.58,
          17.99,
          18.06,
          18.04,
          17.06,
          16.8,
          17.12,
          16.56,
          17.28,
          16.52,
          15.78,
          15.94,
          15.25,
          14.84,
          14.47,
          15.13,
          15.23,
          15.16,
          14.76,
          14.47,
          13.92,
          14.13,
          13.74,
          13.62,
          13.76,
          13.7,
          13.78,
          13.99,
          14.08,
          15.33,
          15.24,
          14.98,
          15.47,
          15.1,
          14.97,
          14.19,
          14.53,
          14.82,
          14.7,
          15.57,
          17.75,
          20.32,
          17.69,
          18.78,
          17.53,
          16.4,
          16.41,
          16.16,
          14.87,
          14.46,
          15.68,
          16.07,
          15.7,
          16.07,
          16.64,
          16.03,
          16.04,
          15.79,
          16.61,
          16.76,
          17.24,
          18.53,
          18.37,
          16.93,
          16.59,
          18.03,
          18.19,
          18.32,
          18.47,
          18.13,
          17.53,
          17.76,
          18.2,
          18.27,
          18.38,
          19.21,
          19.91,
          19.24,
          18.8,
          18.3,
          18.57,
          19.97,
          19.69,
          19.89,
          20.11,
          19.28,
          20.38,
          19.79,
          20.98,
          20.15,
          19.86,
          19.54,
          18.68,
          17.38,
          17.48,
          17.25,
          16.12,
          16.64,
          17.32,
          17.06,
          16.3,
          16.7,
          16.83,
          17.05,
          17.46,
          17.48,
          18,
          17.92,
          18.36,
          18.72,
          18.66,
          17.71,
          17.34,
          16.77,
          15.71,
          14.98,
          15.17,
          15.37,
          14.74,
          15.21,
          15.02,
          15.78,
          16.44,
          15.7,
          14.95,
          14.75,
          14.1,
          14.41,
          14.58,
          15.14,
          16.34,
          16.13,
          19.05,
          17.62,
          17.97,
          17.15,
          20.46,
          17.83,
          16.95,
          17.02,
          16.59,
          16.12,
          16.2,
          16.44,
          16.59,
          16.26,
          15.86,
          16.52,
          15.98,
          15.92,
          16.28,
          15.64,
          15.12,
          15.73,
          15.18,
          15.46,
          14.75,
          14.61,
          14.54,
          14.02,
          14.9,
          14.51,
          14.47,
          14.62,
          14.23,
          14.34,
          14.82,
          14.65,
          13.77,
          13.95,
          14.31,
          14.06,
          14.31,
          14.08,
          15.68,
          14.28,
          14.11,
          14.33,
          14,
          14.8,
          15.87,
          15.73,
          16.57,
          16.22,
          16.3,
          16.61,
          16.34,
          16.49,
          17.42,
          17.2,
          15.79,
          15.34,
          15.56,
          15.99,
          15.47,
          16.22,
          15.02,
          15.34,
          15.08,
          15.13,
          15.64,
          15.96,
          16.1,
          16.49,
          16.13,
          16.18,
          16.6,
          21.45,
          26.57,
          26.52,
          22.41,
          24.31,
          23.94,
          18.1,
          17.26,
          18.01,
          17.94,
          18.4,
          18.16,
          17.93,
          17.38
         ]
        },
        {
         "line": {
          "color": "green",
          "dash": "dash"
         },
         "mode": "lines",
         "name": "Otimismo (15)",
         "type": "scatter",
         "x": [
          "2024-04-25T00:00:00",
          "2025-04-25T00:00:00"
         ],
         "y": [
          15,
          15
         ]
        },
        {
         "line": {
          "color": "green",
          "dash": "dash"
         },
         "mode": "lines",
         "name": "Otimismo moderado (20)",
         "type": "scatter",
         "x": [
          "2024-04-25T00:00:00",
          "2025-04-25T00:00:00"
         ],
         "y": [
          20,
          20
         ]
        },
        {
         "line": {
          "color": "red",
          "dash": "dash"
         },
         "mode": "lines",
         "name": "Baixo otimismo (25)",
         "type": "scatter",
         "x": [
          "2024-04-25T00:00:00",
          "2025-04-25T00:00:00"
         ],
         "y": [
          25,
          25
         ]
        },
        {
         "line": {
          "color": "red",
          "dash": "dash"
         },
         "mode": "lines",
         "name": "Pânico (30)",
         "type": "scatter",
         "x": [
          "2024-04-25T00:00:00",
          "2025-04-25T00:00:00"
         ],
         "y": [
          30,
          30
         ]
        }
       ],
       "layout": {
        "height": 400,
        "legend": {
         "x": 0.01,
         "xanchor": "left",
         "y": 0.99,
         "yanchor": "top"
        },
        "margin": {
         "b": 40,
         "l": 40,
         "r": 40,
         "t": 60
        },
        "shapes": [
         {
          "fillcolor": "lightgrey",
          "layer": "below",
          "line": {
           "width": 0
          },
          "opacity": 0.3,
          "type": "rect",
          "x0": "2024-04-25T00:00:00",
          "x1": "2025-04-25T00:00:00",
          "y0": 15,
          "y1": 20
         },
         {
          "fillcolor": "grey",
          "layer": "below",
          "line": {
           "width": 0
          },
          "opacity": 0.3,
          "type": "rect",
          "x0": "2024-04-25T00:00:00",
          "x1": "2025-04-25T00:00:00",
          "y0": 20,
          "y1": 25
         },
         {
          "fillcolor": "darkgrey",
          "layer": "below",
          "line": {
           "width": 0
          },
          "opacity": 0.9,
          "type": "rect",
          "x0": "2024-04-25T00:00:00",
          "x1": "2025-04-25T00:00:00",
          "y0": 25,
          "y1": 30
         }
        ],
        "template": {
         "data": {
          "bar": [
           {
            "error_x": {
             "color": "#2a3f5f"
            },
            "error_y": {
             "color": "#2a3f5f"
            },
            "marker": {
             "line": {
              "color": "white",
              "width": 0.5
             },
             "pattern": {
              "fillmode": "overlay",
              "size": 10,
              "solidity": 0.2
             }
            },
            "type": "bar"
           }
          ],
          "barpolar": [
           {
            "marker": {
             "line": {
              "color": "white",
              "width": 0.5
             },
             "pattern": {
              "fillmode": "overlay",
              "size": 10,
              "solidity": 0.2
             }
            },
            "type": "barpolar"
           }
          ],
          "carpet": [
           {
            "aaxis": {
             "endlinecolor": "#2a3f5f",
             "gridcolor": "#C8D4E3",
             "linecolor": "#C8D4E3",
             "minorgridcolor": "#C8D4E3",
             "startlinecolor": "#2a3f5f"
            },
            "baxis": {
             "endlinecolor": "#2a3f5f",
             "gridcolor": "#C8D4E3",
             "linecolor": "#C8D4E3",
             "minorgridcolor": "#C8D4E3",
             "startlinecolor": "#2a3f5f"
            },
            "type": "carpet"
           }
          ],
          "choropleth": [
           {
            "colorbar": {
             "outlinewidth": 0,
             "ticks": ""
            },
            "type": "choropleth"
           }
          ],
          "contour": [
           {
            "colorbar": {
             "outlinewidth": 0,
             "ticks": ""
            },
            "colorscale": [
             [
              0,
              "#0d0887"
             ],
             [
              0.1111111111111111,
              "#46039f"
             ],
             [
              0.2222222222222222,
              "#7201a8"
             ],
             [
              0.3333333333333333,
              "#9c179e"
             ],
             [
              0.4444444444444444,
              "#bd3786"
             ],
             [
              0.5555555555555556,
              "#d8576b"
             ],
             [
              0.6666666666666666,
              "#ed7953"
             ],
             [
              0.7777777777777778,
              "#fb9f3a"
             ],
             [
              0.8888888888888888,
              "#fdca26"
             ],
             [
              1,
              "#f0f921"
             ]
            ],
            "type": "contour"
           }
          ],
          "contourcarpet": [
           {
            "colorbar": {
             "outlinewidth": 0,
             "ticks": ""
            },
            "type": "contourcarpet"
           }
          ],
          "heatmap": [
           {
            "colorbar": {
             "outlinewidth": 0,
             "ticks": ""
            },
            "colorscale": [
             [
              0,
              "#0d0887"
             ],
             [
              0.1111111111111111,
              "#46039f"
             ],
             [
              0.2222222222222222,
              "#7201a8"
             ],
             [
              0.3333333333333333,
              "#9c179e"
             ],
             [
              0.4444444444444444,
              "#bd3786"
             ],
             [
              0.5555555555555556,
              "#d8576b"
             ],
             [
              0.6666666666666666,
              "#ed7953"
             ],
             [
              0.7777777777777778,
              "#fb9f3a"
             ],
             [
              0.8888888888888888,
              "#fdca26"
             ],
             [
              1,
              "#f0f921"
             ]
            ],
            "type": "heatmap"
           }
          ],
          "heatmapgl": [
           {
            "colorbar": {
             "outlinewidth": 0,
             "ticks": ""
            },
            "colorscale": [
             [
              0,
              "#0d0887"
             ],
             [
              0.1111111111111111,
              "#46039f"
             ],
             [
              0.2222222222222222,
              "#7201a8"
             ],
             [
              0.3333333333333333,
              "#9c179e"
             ],
             [
              0.4444444444444444,
              "#bd3786"
             ],
             [
              0.5555555555555556,
              "#d8576b"
             ],
             [
              0.6666666666666666,
              "#ed7953"
             ],
             [
              0.7777777777777778,
              "#fb9f3a"
             ],
             [
              0.8888888888888888,
              "#fdca26"
             ],
             [
              1,
              "#f0f921"
             ]
            ],
            "type": "heatmapgl"
           }
          ],
          "histogram": [
           {
            "marker": {
             "pattern": {
              "fillmode": "overlay",
              "size": 10,
              "solidity": 0.2
             }
            },
            "type": "histogram"
           }
          ],
          "histogram2d": [
           {
            "colorbar": {
             "outlinewidth": 0,
             "ticks": ""
            },
            "colorscale": [
             [
              0,
              "#0d0887"
             ],
             [
              0.1111111111111111,
              "#46039f"
             ],
             [
              0.2222222222222222,
              "#7201a8"
             ],
             [
              0.3333333333333333,
              "#9c179e"
             ],
             [
              0.4444444444444444,
              "#bd3786"
             ],
             [
              0.5555555555555556,
              "#d8576b"
             ],
             [
              0.6666666666666666,
              "#ed7953"
             ],
             [
              0.7777777777777778,
              "#fb9f3a"
             ],
             [
              0.8888888888888888,
              "#fdca26"
             ],
             [
              1,
              "#f0f921"
             ]
            ],
            "type": "histogram2d"
           }
          ],
          "histogram2dcontour": [
           {
            "colorbar": {
             "outlinewidth": 0,
             "ticks": ""
            },
            "colorscale": [
             [
              0,
              "#0d0887"
             ],
             [
              0.1111111111111111,
              "#46039f"
             ],
             [
              0.2222222222222222,
              "#7201a8"
             ],
             [
              0.3333333333333333,
              "#9c179e"
             ],
             [
              0.4444444444444444,
              "#bd3786"
             ],
             [
              0.5555555555555556,
              "#d8576b"
             ],
             [
              0.6666666666666666,
              "#ed7953"
             ],
             [
              0.7777777777777778,
              "#fb9f3a"
             ],
             [
              0.8888888888888888,
              "#fdca26"
             ],
             [
              1,
              "#f0f921"
             ]
            ],
            "type": "histogram2dcontour"
           }
          ],
          "mesh3d": [
           {
            "colorbar": {
             "outlinewidth": 0,
             "ticks": ""
            },
            "type": "mesh3d"
           }
          ],
          "parcoords": [
           {
            "line": {
             "colorbar": {
              "outlinewidth": 0,
              "ticks": ""
             }
            },
            "type": "parcoords"
           }
          ],
          "pie": [
           {
            "automargin": true,
            "type": "pie"
           }
          ],
          "scatter": [
           {
            "fillpattern": {
             "fillmode": "overlay",
             "size": 10,
             "solidity": 0.2
            },
            "type": "scatter"
           }
          ],
          "scatter3d": [
           {
            "line": {
             "colorbar": {
              "outlinewidth": 0,
              "ticks": ""
             }
            },
            "marker": {
             "colorbar": {
              "outlinewidth": 0,
              "ticks": ""
             }
            },
            "type": "scatter3d"
           }
          ],
          "scattercarpet": [
           {
            "marker": {
             "colorbar": {
              "outlinewidth": 0,
              "ticks": ""
             }
            },
            "type": "scattercarpet"
           }
          ],
          "scattergeo": [
           {
            "marker": {
             "colorbar": {
              "outlinewidth": 0,
              "ticks": ""
             }
            },
            "type": "scattergeo"
           }
          ],
          "scattergl": [
           {
            "marker": {
             "colorbar": {
              "outlinewidth": 0,
              "ticks": ""
             }
            },
            "type": "scattergl"
           }
          ],
          "scattermapbox": [
           {
            "marker": {
             "colorbar": {
              "outlinewidth": 0,
              "ticks": ""
             }
            },
            "type": "scattermapbox"
           }
          ],
          "scatterpolar": [
           {
            "marker": {
             "colorbar": {
              "outlinewidth": 0,
              "ticks": ""
             }
            },
            "type": "scatterpolar"
           }
          ],
          "scatterpolargl": [
           {
            "marker": {
             "colorbar": {
              "outlinewidth": 0,
              "ticks": ""
             }
            },
            "type": "scatterpolargl"
           }
          ],
          "scatterternary": [
           {
            "marker": {
             "colorbar": {
              "outlinewidth": 0,
              "ticks": ""
             }
            },
            "type": "scatterternary"
           }
          ],
          "surface": [
           {
            "colorbar": {
             "outlinewidth": 0,
             "ticks": ""
            },
            "colorscale": [
             [
              0,
              "#0d0887"
             ],
             [
              0.1111111111111111,
              "#46039f"
             ],
             [
              0.2222222222222222,
              "#7201a8"
             ],
             [
              0.3333333333333333,
              "#9c179e"
             ],
             [
              0.4444444444444444,
              "#bd3786"
             ],
             [
              0.5555555555555556,
              "#d8576b"
             ],
             [
              0.6666666666666666,
              "#ed7953"
             ],
             [
              0.7777777777777778,
              "#fb9f3a"
             ],
             [
              0.8888888888888888,
              "#fdca26"
             ],
             [
              1,
              "#f0f921"
             ]
            ],
            "type": "surface"
           }
          ],
          "table": [
           {
            "cells": {
             "fill": {
              "color": "#EBF0F8"
             },
             "line": {
              "color": "white"
             }
            },
            "header": {
             "fill": {
              "color": "#C8D4E3"
             },
             "line": {
              "color": "white"
             }
            },
            "type": "table"
           }
          ]
         },
         "layout": {
          "annotationdefaults": {
           "arrowcolor": "#2a3f5f",
           "arrowhead": 0,
           "arrowwidth": 1
          },
          "autotypenumbers": "strict",
          "coloraxis": {
           "colorbar": {
            "outlinewidth": 0,
            "ticks": ""
           }
          },
          "colorscale": {
           "diverging": [
            [
             0,
             "#8e0152"
            ],
            [
             0.1,
             "#c51b7d"
            ],
            [
             0.2,
             "#de77ae"
            ],
            [
             0.3,
             "#f1b6da"
            ],
            [
             0.4,
             "#fde0ef"
            ],
            [
             0.5,
             "#f7f7f7"
            ],
            [
             0.6,
             "#e6f5d0"
            ],
            [
             0.7,
             "#b8e186"
            ],
            [
             0.8,
             "#7fbc41"
            ],
            [
             0.9,
             "#4d9221"
            ],
            [
             1,
             "#276419"
            ]
           ],
           "sequential": [
            [
             0,
             "#0d0887"
            ],
            [
             0.1111111111111111,
             "#46039f"
            ],
            [
             0.2222222222222222,
             "#7201a8"
            ],
            [
             0.3333333333333333,
             "#9c179e"
            ],
            [
             0.4444444444444444,
             "#bd3786"
            ],
            [
             0.5555555555555556,
             "#d8576b"
            ],
            [
             0.6666666666666666,
             "#ed7953"
            ],
            [
             0.7777777777777778,
             "#fb9f3a"
            ],
            [
             0.8888888888888888,
             "#fdca26"
            ],
            [
             1,
             "#f0f921"
            ]
           ],
           "sequentialminus": [
            [
             0,
             "#0d0887"
            ],
            [
             0.1111111111111111,
             "#46039f"
            ],
            [
             0.2222222222222222,
             "#7201a8"
            ],
            [
             0.3333333333333333,
             "#9c179e"
            ],
            [
             0.4444444444444444,
             "#bd3786"
            ],
            [
             0.5555555555555556,
             "#d8576b"
            ],
            [
             0.6666666666666666,
             "#ed7953"
            ],
            [
             0.7777777777777778,
             "#fb9f3a"
            ],
            [
             0.8888888888888888,
             "#fdca26"
            ],
            [
             1,
             "#f0f921"
            ]
           ]
          },
          "colorway": [
           "#636efa",
           "#EF553B",
           "#00cc96",
           "#ab63fa",
           "#FFA15A",
           "#19d3f3",
           "#FF6692",
           "#B6E880",
           "#FF97FF",
           "#FECB52"
          ],
          "font": {
           "color": "#2a3f5f"
          },
          "geo": {
           "bgcolor": "white",
           "lakecolor": "white",
           "landcolor": "white",
           "showlakes": true,
           "showland": true,
           "subunitcolor": "#C8D4E3"
          },
          "hoverlabel": {
           "align": "left"
          },
          "hovermode": "closest",
          "mapbox": {
           "style": "light"
          },
          "paper_bgcolor": "white",
          "plot_bgcolor": "white",
          "polar": {
           "angularaxis": {
            "gridcolor": "#EBF0F8",
            "linecolor": "#EBF0F8",
            "ticks": ""
           },
           "bgcolor": "white",
           "radialaxis": {
            "gridcolor": "#EBF0F8",
            "linecolor": "#EBF0F8",
            "ticks": ""
           }
          },
          "scene": {
           "xaxis": {
            "backgroundcolor": "white",
            "gridcolor": "#DFE8F3",
            "gridwidth": 2,
            "linecolor": "#EBF0F8",
            "showbackground": true,
            "ticks": "",
            "zerolinecolor": "#EBF0F8"
           },
           "yaxis": {
            "backgroundcolor": "white",
            "gridcolor": "#DFE8F3",
            "gridwidth": 2,
            "linecolor": "#EBF0F8",
            "showbackground": true,
            "ticks": "",
            "zerolinecolor": "#EBF0F8"
           },
           "zaxis": {
            "backgroundcolor": "white",
            "gridcolor": "#DFE8F3",
            "gridwidth": 2,
            "linecolor": "#EBF0F8",
            "showbackground": true,
            "ticks": "",
            "zerolinecolor": "#EBF0F8"
           }
          },
          "shapedefaults": {
           "line": {
            "color": "#2a3f5f"
           }
          },
          "ternary": {
           "aaxis": {
            "gridcolor": "#DFE8F3",
            "linecolor": "#A2B1C6",
            "ticks": ""
           },
           "baxis": {
            "gridcolor": "#DFE8F3",
            "linecolor": "#A2B1C6",
            "ticks": ""
           },
           "bgcolor": "white",
           "caxis": {
            "gridcolor": "#DFE8F3",
            "linecolor": "#A2B1C6",
            "ticks": ""
           }
          },
          "title": {
           "x": 0.05
          },
          "xaxis": {
           "automargin": true,
           "gridcolor": "#EBF0F8",
           "linecolor": "#EBF0F8",
           "ticks": "",
           "title": {
            "standoff": 15
           },
           "zerolinecolor": "#EBF0F8",
           "zerolinewidth": 2
          },
          "yaxis": {
           "automargin": true,
           "gridcolor": "#EBF0F8",
           "linecolor": "#EBF0F8",
           "ticks": "",
           "title": {
            "standoff": 15
           },
           "zerolinecolor": "#EBF0F8",
           "zerolinewidth": 2
          }
         }
        },
        "title": {
         "text": "Índice de Sentimento - ibra50"
        },
        "width": 800,
        "xaxis": {
         "title": {
          "text": "Data"
         }
        },
        "yaxis": {
         "title": {
          "text": "Índice de Sentimento"
         }
        }
       }
      }
     },
     "metadata": {},
     "output_type": "display_data"
    }
   ],
   "source": [
    "fig = go.Figure()\n",
    "\n",
    "fig.add_trace(go.Scatter( x=df.Data, y=df.VX, mode='lines', name=f'Índice de Sentimento - {carteira}', line=dict(color='blue')))\n",
    "# Linha de Otimismo (15)\n",
    "fig.add_trace(go.Scatter(x=[df.Data.min(), df.Data.max()],y=[15, 15], mode='lines', name='Otimismo (15)',\n",
    "    line=dict(color='green', dash='dash')))\n",
    "# Linha de Otimismo moderado (20)\n",
    "fig.add_trace(go.Scatter(x=[df.Data.min(), df.Data.max()],y=[20, 20], mode='lines', name='Otimismo moderado (20)',\n",
    "    line=dict(color='green', dash='dash')))\n",
    "# Linha de Baixo otimismo (25)\n",
    "fig.add_trace(go.Scatter( x=[df.Data.min(), df.Data.max()], y=[25, 25], mode='lines', name='Baixo otimismo (25)',\n",
    "    line=dict(color='red', dash='dash')))\n",
    "# Linha de Pânico (30)\n",
    "fig.add_trace(go.Scatter(x=[df.Data.min(), df.Data.max()],y=[30, 30],mode='lines',name='Pânico (30)',\n",
    "    line=dict(color='red', dash='dash')))\n",
    "\n",
    "# Faixa 15-20 (cinza bem claro)\n",
    "fig.add_shape( type=\"rect\",x0=df.Data.min(), x1=df.Data.max(), y0=15, y1=20,  fillcolor=\"lightgrey\",  # tom mais claro\n",
    "    opacity=0.3, layer=\"below\",  line_width=0, )\n",
    "# Faixa 20-25 (cinza médio)\n",
    "fig.add_shape( type=\"rect\",x0=df.Data.min(), x1=df.Data.max(), y0=20, y1=25, fillcolor=\"grey\",  # tom médio\n",
    "    opacity=0.3,layer=\"below\", line_width=0,)\n",
    "# Faixa 25-30 (cinza mais escuro)\n",
    "fig.add_shape(type=\"rect\",x0=df.Data.min(), x1=df.Data.max(),y0=25, y1=30,fillcolor=\"darkgrey\",  # tom mais escuro\n",
    "    opacity=0.9,layer=\"below\",line_width=0,)\n",
    "\n",
    "# Layout\n",
    "fig.update_layout(\n",
    "    title=f'Índice de Sentimento - {carteira}',\n",
    "    width=800,\n",
    "    height=400,\n",
    "    legend=dict(yanchor=\"top\", y=0.99, xanchor=\"left\", x=0.01),\n",
    "    margin=dict(l=40, r=40, t=60, b=40),\n",
    "    xaxis_title='Data',\n",
    "    yaxis_title='Índice de Sentimento',\n",
    "    template='plotly_white'\n",
    ")\n",
    "\n",
    "fig.show()\n"
   ]
  },
  {
   "cell_type": "code",
   "execution_count": 269,
   "id": "016e72d1",
   "metadata": {},
   "outputs": [
    {
     "data": {
      "application/vnd.plotly.v1+json": {
       "config": {
        "plotlyServerURL": "https://plot.ly"
       },
       "data": [
        {
         "line": {
          "color": "blue"
         },
         "mode": "lines",
         "name": "Índice de Sentimento - ibra50",
         "type": "scatter",
         "x": [
          "2024-04-25T00:00:00",
          "2024-04-26T00:00:00",
          "2024-04-29T00:00:00",
          "2024-04-30T00:00:00",
          "2024-05-02T00:00:00",
          "2024-05-03T00:00:00",
          "2024-05-06T00:00:00",
          "2024-05-07T00:00:00",
          "2024-05-08T00:00:00",
          "2024-05-09T00:00:00",
          "2024-05-10T00:00:00",
          "2024-05-13T00:00:00",
          "2024-05-14T00:00:00",
          "2024-05-15T00:00:00",
          "2024-05-16T00:00:00",
          "2024-05-17T00:00:00",
          "2024-05-20T00:00:00",
          "2024-05-21T00:00:00",
          "2024-05-22T00:00:00",
          "2024-05-23T00:00:00",
          "2024-05-24T00:00:00",
          "2024-05-27T00:00:00",
          "2024-05-28T00:00:00",
          "2024-05-29T00:00:00",
          "2024-05-31T00:00:00",
          "2024-06-03T00:00:00",
          "2024-06-04T00:00:00",
          "2024-06-05T00:00:00",
          "2024-06-06T00:00:00",
          "2024-06-07T00:00:00",
          "2024-06-10T00:00:00",
          "2024-06-11T00:00:00",
          "2024-06-12T00:00:00",
          "2024-06-13T00:00:00",
          "2024-06-14T00:00:00",
          "2024-06-17T00:00:00",
          "2024-06-18T00:00:00",
          "2024-06-19T00:00:00",
          "2024-06-20T00:00:00",
          "2024-06-21T00:00:00",
          "2024-06-24T00:00:00",
          "2024-06-25T00:00:00",
          "2024-06-26T00:00:00",
          "2024-06-27T00:00:00",
          "2024-06-28T00:00:00",
          "2024-07-01T00:00:00",
          "2024-07-02T00:00:00",
          "2024-07-03T00:00:00",
          "2024-07-04T00:00:00",
          "2024-07-05T00:00:00",
          "2024-07-08T00:00:00",
          "2024-07-09T00:00:00",
          "2024-07-10T00:00:00",
          "2024-07-11T00:00:00",
          "2024-07-12T00:00:00",
          "2024-07-15T00:00:00",
          "2024-07-16T00:00:00",
          "2024-07-17T00:00:00",
          "2024-07-18T00:00:00",
          "2024-07-19T00:00:00",
          "2024-07-22T00:00:00",
          "2024-07-23T00:00:00",
          "2024-07-24T00:00:00",
          "2024-07-25T00:00:00",
          "2024-07-26T00:00:00",
          "2024-07-29T00:00:00",
          "2024-07-30T00:00:00",
          "2024-07-31T00:00:00",
          "2024-08-01T00:00:00",
          "2024-08-02T00:00:00",
          "2024-08-05T00:00:00",
          "2024-08-06T00:00:00",
          "2024-08-07T00:00:00",
          "2024-08-08T00:00:00",
          "2024-08-09T00:00:00",
          "2024-08-12T00:00:00",
          "2024-08-13T00:00:00",
          "2024-08-14T00:00:00",
          "2024-08-15T00:00:00",
          "2024-08-16T00:00:00",
          "2024-08-19T00:00:00",
          "2024-08-20T00:00:00",
          "2024-08-21T00:00:00",
          "2024-08-22T00:00:00",
          "2024-08-23T00:00:00",
          "2024-08-26T00:00:00",
          "2024-08-27T00:00:00",
          "2024-08-28T00:00:00",
          "2024-08-29T00:00:00",
          "2024-08-30T00:00:00",
          "2024-09-02T00:00:00",
          "2024-09-03T00:00:00",
          "2024-09-04T00:00:00",
          "2024-09-05T00:00:00",
          "2024-09-06T00:00:00",
          "2024-09-09T00:00:00",
          "2024-09-10T00:00:00",
          "2024-09-11T00:00:00",
          "2024-09-12T00:00:00",
          "2024-09-13T00:00:00",
          "2024-09-16T00:00:00",
          "2024-09-17T00:00:00",
          "2024-09-18T00:00:00",
          "2024-09-19T00:00:00",
          "2024-09-20T00:00:00",
          "2024-09-23T00:00:00",
          "2024-09-24T00:00:00",
          "2024-09-25T00:00:00",
          "2024-09-26T00:00:00",
          "2024-09-27T00:00:00",
          "2024-09-30T00:00:00",
          "2024-10-01T00:00:00",
          "2024-10-02T00:00:00",
          "2024-10-03T00:00:00",
          "2024-10-04T00:00:00",
          "2024-10-07T00:00:00",
          "2024-10-08T00:00:00",
          "2024-10-09T00:00:00",
          "2024-10-10T00:00:00",
          "2024-10-11T00:00:00",
          "2024-10-14T00:00:00",
          "2024-10-15T00:00:00",
          "2024-10-16T00:00:00",
          "2024-10-17T00:00:00",
          "2024-10-18T00:00:00",
          "2024-10-21T00:00:00",
          "2024-10-22T00:00:00",
          "2024-10-23T00:00:00",
          "2024-10-24T00:00:00",
          "2024-10-25T00:00:00",
          "2024-10-28T00:00:00",
          "2024-10-29T00:00:00",
          "2024-10-30T00:00:00",
          "2024-10-31T00:00:00",
          "2024-11-01T00:00:00",
          "2024-11-04T00:00:00",
          "2024-11-05T00:00:00",
          "2024-11-06T00:00:00",
          "2024-11-07T00:00:00",
          "2024-11-08T00:00:00",
          "2024-11-11T00:00:00",
          "2024-11-12T00:00:00",
          "2024-11-13T00:00:00",
          "2024-11-14T00:00:00",
          "2024-11-18T00:00:00",
          "2024-11-19T00:00:00",
          "2024-11-21T00:00:00",
          "2024-11-22T00:00:00",
          "2024-11-25T00:00:00",
          "2024-11-26T00:00:00",
          "2024-11-27T00:00:00",
          "2024-11-28T00:00:00",
          "2024-11-29T00:00:00",
          "2024-12-02T00:00:00",
          "2024-12-03T00:00:00",
          "2024-12-04T00:00:00",
          "2024-12-05T00:00:00",
          "2024-12-06T00:00:00",
          "2024-12-09T00:00:00",
          "2024-12-10T00:00:00",
          "2024-12-11T00:00:00",
          "2024-12-12T00:00:00",
          "2024-12-13T00:00:00",
          "2024-12-16T00:00:00",
          "2024-12-17T00:00:00",
          "2024-12-18T00:00:00",
          "2024-12-19T00:00:00",
          "2024-12-20T00:00:00",
          "2024-12-23T00:00:00",
          "2024-12-26T00:00:00",
          "2024-12-27T00:00:00",
          "2024-12-30T00:00:00",
          "2025-01-02T00:00:00",
          "2025-01-03T00:00:00",
          "2025-01-06T00:00:00",
          "2025-01-07T00:00:00",
          "2025-01-08T00:00:00",
          "2025-01-09T00:00:00",
          "2025-01-10T00:00:00",
          "2025-01-13T00:00:00",
          "2025-01-14T00:00:00",
          "2025-01-15T00:00:00",
          "2025-01-16T00:00:00",
          "2025-01-17T00:00:00",
          "2025-01-20T00:00:00",
          "2025-01-21T00:00:00",
          "2025-01-22T00:00:00",
          "2025-01-23T00:00:00",
          "2025-01-24T00:00:00",
          "2025-01-27T00:00:00",
          "2025-01-28T00:00:00",
          "2025-01-29T00:00:00",
          "2025-01-30T00:00:00",
          "2025-01-31T00:00:00",
          "2025-02-03T00:00:00",
          "2025-02-04T00:00:00",
          "2025-02-05T00:00:00",
          "2025-02-06T00:00:00",
          "2025-02-07T00:00:00",
          "2025-02-10T00:00:00",
          "2025-02-11T00:00:00",
          "2025-02-12T00:00:00",
          "2025-02-13T00:00:00",
          "2025-02-14T00:00:00",
          "2025-02-17T00:00:00",
          "2025-02-18T00:00:00",
          "2025-02-19T00:00:00",
          "2025-02-20T00:00:00",
          "2025-02-21T00:00:00",
          "2025-02-24T00:00:00",
          "2025-02-25T00:00:00",
          "2025-02-26T00:00:00",
          "2025-02-27T00:00:00",
          "2025-02-28T00:00:00",
          "2025-03-05T00:00:00",
          "2025-03-06T00:00:00",
          "2025-03-07T00:00:00",
          "2025-03-10T00:00:00",
          "2025-03-11T00:00:00",
          "2025-03-12T00:00:00",
          "2025-03-13T00:00:00",
          "2025-03-14T00:00:00",
          "2025-03-17T00:00:00",
          "2025-03-18T00:00:00",
          "2025-03-19T00:00:00",
          "2025-03-20T00:00:00",
          "2025-03-21T00:00:00",
          "2025-03-24T00:00:00",
          "2025-03-25T00:00:00",
          "2025-03-26T00:00:00",
          "2025-03-27T00:00:00",
          "2025-03-28T00:00:00",
          "2025-03-31T00:00:00",
          "2025-04-01T00:00:00",
          "2025-04-02T00:00:00",
          "2025-04-03T00:00:00",
          "2025-04-04T00:00:00",
          "2025-04-07T00:00:00",
          "2025-04-08T00:00:00",
          "2025-04-09T00:00:00",
          "2025-04-10T00:00:00",
          "2025-04-11T00:00:00",
          "2025-04-14T00:00:00",
          "2025-04-15T00:00:00",
          "2025-04-16T00:00:00",
          "2025-04-17T00:00:00",
          "2025-04-22T00:00:00",
          "2025-04-23T00:00:00",
          "2025-04-24T00:00:00",
          "2025-04-25T00:00:00"
         ],
         "y": [
          0.2494208494208494,
          0.21776061776061773,
          0.21389961389961387,
          0.2509652509652509,
          0.2648648648648648,
          0.23320463320463314,
          0.213127413127413,
          0.2007722007722006,
          0.2007722007722006,
          0.14208494208494193,
          0.13667953667953658,
          0.13667953667953658,
          0.1536679536679535,
          0.08957528957528926,
          0.06332046332046315,
          0.020849420849420763,
          0.04092664092664089,
          0.04633204633204624,
          0.09189189189189184,
          0.12586872586872566,
          0.1142857142857141,
          0.12277992277992267,
          0.1976833976833976,
          0.24401544401544384,
          0.2146718146718145,
          0.2254826254826252,
          0.2285714285714282,
          0.27104247104247103,
          0.2478764478764477,
          0.3830115830115828,
          0.3374517374517372,
          0.3428571428571425,
          0.34131274131274103,
          0.26563706563706546,
          0.24555984555984534,
          0.2702702702702702,
          0.2270270270270267,
          0.2826254826254826,
          0.2239382239382237,
          0.16679536679536655,
          0.17915057915057897,
          0.12586872586872566,
          0.0942084942084942,
          0.06563706563706573,
          0.11660231660231646,
          0.12432432432432416,
          0.11891891891891881,
          0.08803088803088777,
          0.06563706563706573,
          0.02316602316602312,
          0.03938223938223917,
          0.009266409266409203,
          0,
          0.0108108108108107,
          0.006177606177605988,
          0.012355212355212197,
          0.02857142857142847,
          0.03552123552123532,
          0.1320463320463321,
          0.12509652509652502,
          0.10501930501930512,
          0.1428571428571428,
          0.1142857142857141,
          0.10424710424710426,
          0.04401544401544388,
          0.07027027027027022,
          0.0926640926640927,
          0.08339768339768328,
          0.1505791505791505,
          0.31891891891891877,
          0.5173745173745175,
          0.3142857142857143,
          0.3984555984555984,
          0.30193050193050186,
          0.2146718146718145,
          0.21544401544401537,
          0.1961389961389961,
          0.09652509652509633,
          0.06486486486486465,
          0.15907335907335907,
          0.18918918918918903,
          0.16061776061776056,
          0.18918918918918903,
          0.23320463320463314,
          0.18610038610038604,
          0.18687258687258668,
          0.1675675675675674,
          0.23088803088803056,
          0.24247104247104256,
          0.27953667953667916,
          0.37915057915057915,
          0.36679536679536673,
          0.2555984555984554,
          0.22934362934362928,
          0.3405405405405406,
          0.35289575289575303,
          0.3629343629343629,
          0.37451737451737444,
          0.3482625482625481,
          0.30193050193050186,
          0.31969111969111963,
          0.35366795366795345,
          0.3590733590733588,
          0.36756756756756737,
          0.4316602316602316,
          0.48571428571428554,
          0.43397683397683395,
          0.3999999999999999,
          0.36138996138996116,
          0.38223938223938214,
          0.49034749034749003,
          0.46872586872586863,
          0.48416988416988405,
          0.5011583011583012,
          0.43706563706563717,
          0.5220077220077217,
          0.47644787644787634,
          0.5683397683397684,
          0.5042471042471042,
          0.48185328185328147,
          0.45714285714285685,
          0.3907335907335907,
          0.2903474903474901,
          0.298069498069498,
          0.28030888030888024,
          0.1930501930501929,
          0.23320463320463314,
          0.2857142857142856,
          0.26563706563706546,
          0.2069498069498068,
          0.23783783783783763,
          0.2478764478764477,
          0.2648648648648648,
          0.2965250965250965,
          0.298069498069498,
          0.33822393822393826,
          0.33204633204633205,
          0.36602316602316587,
          0.3938223938223937,
          0.3891891891891892,
          0.3158301158301158,
          0.2872586872586871,
          0.24324324324324298,
          0.16138996138996142,
          0.10501930501930512,
          0.11969111969111967,
          0.13513513513513487,
          0.08648648648648627,
          0.12277992277992267,
          0.10810810810810789,
          0.16679536679536655,
          0.21776061776061773,
          0.16061776061776056,
          0.10270270270270254,
          0.08725868725868713,
          0.037065637065636814,
          0.06100386100386079,
          0.07413127413127407,
          0.11737451737451732,
          0.21003861003861002,
          0.19382239382239375,
          0.4193050193050192,
          0.3088803088803087,
          0.3359073359073357,
          0.2725868725868723,
          0.5281853281853282,
          0.325096525096525,
          0.2571428571428569,
          0.26254826254826247,
          0.22934362934362928,
          0.1930501930501929,
          0.1992277992277991,
          0.21776061776061773,
          0.22934362934362928,
          0.2038610038610038,
          0.17297297297297276,
          0.2239382239382237,
          0.18223938223938219,
          0.17760617760617747,
          0.2054054054054053,
          0.15598455598455607,
          0.11583011583011582,
          0.16293436293436292,
          0.12046332046332031,
          0.14208494208494193,
          0.08725868725868713,
          0.0764478764478762,
          0.07104247104247086,
          0.030888030888030826,
          0.09884169884169869,
          0.06872586872586872,
          0.06563706563706573,
          0.07722007722007707,
          0.0471042471042471,
          0.05559845559845544,
          0.0926640926640927,
          0.07953667953667942,
          0.011583011583011338,
          0.025482625482625476,
          0.05328185328185331,
          0.03397683397683382,
          0.05328185328185331,
          0.03552123552123532,
          0.15907335907335907,
          0.05096525096525073,
          0.03783783783783767,
          0.054826254826254806,
          0.02934362934362933,
          0.09111969111969098,
          0.17374517374517362,
          0.16293436293436292,
          0.2277992277992278,
          0.2007722007722006,
          0.2069498069498068,
          0.23088803088803056,
          0.21003861003861002,
          0.22162162162162136,
          0.2934362934362935,
          0.2764478764478764,
          0.1675675675675674,
          0.13281853281853273,
          0.14980694980694964,
          0.18301158301158305,
          0.1428571428571428,
          0.2007722007722006,
          0.10810810810810789,
          0.13281853281853273,
          0.1127413127413126,
          0.11660231660231646,
          0.15598455598455607,
          0.1806949806949807,
          0.1915057915057914,
          0.22162162162162136,
          0.19382239382239375,
          0.1976833976833976,
          0.23011583011583014,
          0.6046332046332046,
          0.9999999999999998,
          0.9961389961389957,
          0.6787644787644789,
          0.8254826254826251,
          0.796911196911197,
          0.34594594594594597,
          0.2810810810810811,
          0.3389961389961391,
          0.33359073359073355,
          0.36911196911196886,
          0.35057915057915046,
          0.3328185328185327,
          0.2903474903474901
         ]
        }
       ],
       "layout": {
        "height": 400,
        "legend": {
         "x": 0.01,
         "xanchor": "left",
         "y": 0.99,
         "yanchor": "top"
        },
        "margin": {
         "b": 40,
         "l": 40,
         "r": 40,
         "t": 60
        },
        "template": {
         "data": {
          "bar": [
           {
            "error_x": {
             "color": "#2a3f5f"
            },
            "error_y": {
             "color": "#2a3f5f"
            },
            "marker": {
             "line": {
              "color": "white",
              "width": 0.5
             },
             "pattern": {
              "fillmode": "overlay",
              "size": 10,
              "solidity": 0.2
             }
            },
            "type": "bar"
           }
          ],
          "barpolar": [
           {
            "marker": {
             "line": {
              "color": "white",
              "width": 0.5
             },
             "pattern": {
              "fillmode": "overlay",
              "size": 10,
              "solidity": 0.2
             }
            },
            "type": "barpolar"
           }
          ],
          "carpet": [
           {
            "aaxis": {
             "endlinecolor": "#2a3f5f",
             "gridcolor": "#C8D4E3",
             "linecolor": "#C8D4E3",
             "minorgridcolor": "#C8D4E3",
             "startlinecolor": "#2a3f5f"
            },
            "baxis": {
             "endlinecolor": "#2a3f5f",
             "gridcolor": "#C8D4E3",
             "linecolor": "#C8D4E3",
             "minorgridcolor": "#C8D4E3",
             "startlinecolor": "#2a3f5f"
            },
            "type": "carpet"
           }
          ],
          "choropleth": [
           {
            "colorbar": {
             "outlinewidth": 0,
             "ticks": ""
            },
            "type": "choropleth"
           }
          ],
          "contour": [
           {
            "colorbar": {
             "outlinewidth": 0,
             "ticks": ""
            },
            "colorscale": [
             [
              0,
              "#0d0887"
             ],
             [
              0.1111111111111111,
              "#46039f"
             ],
             [
              0.2222222222222222,
              "#7201a8"
             ],
             [
              0.3333333333333333,
              "#9c179e"
             ],
             [
              0.4444444444444444,
              "#bd3786"
             ],
             [
              0.5555555555555556,
              "#d8576b"
             ],
             [
              0.6666666666666666,
              "#ed7953"
             ],
             [
              0.7777777777777778,
              "#fb9f3a"
             ],
             [
              0.8888888888888888,
              "#fdca26"
             ],
             [
              1,
              "#f0f921"
             ]
            ],
            "type": "contour"
           }
          ],
          "contourcarpet": [
           {
            "colorbar": {
             "outlinewidth": 0,
             "ticks": ""
            },
            "type": "contourcarpet"
           }
          ],
          "heatmap": [
           {
            "colorbar": {
             "outlinewidth": 0,
             "ticks": ""
            },
            "colorscale": [
             [
              0,
              "#0d0887"
             ],
             [
              0.1111111111111111,
              "#46039f"
             ],
             [
              0.2222222222222222,
              "#7201a8"
             ],
             [
              0.3333333333333333,
              "#9c179e"
             ],
             [
              0.4444444444444444,
              "#bd3786"
             ],
             [
              0.5555555555555556,
              "#d8576b"
             ],
             [
              0.6666666666666666,
              "#ed7953"
             ],
             [
              0.7777777777777778,
              "#fb9f3a"
             ],
             [
              0.8888888888888888,
              "#fdca26"
             ],
             [
              1,
              "#f0f921"
             ]
            ],
            "type": "heatmap"
           }
          ],
          "heatmapgl": [
           {
            "colorbar": {
             "outlinewidth": 0,
             "ticks": ""
            },
            "colorscale": [
             [
              0,
              "#0d0887"
             ],
             [
              0.1111111111111111,
              "#46039f"
             ],
             [
              0.2222222222222222,
              "#7201a8"
             ],
             [
              0.3333333333333333,
              "#9c179e"
             ],
             [
              0.4444444444444444,
              "#bd3786"
             ],
             [
              0.5555555555555556,
              "#d8576b"
             ],
             [
              0.6666666666666666,
              "#ed7953"
             ],
             [
              0.7777777777777778,
              "#fb9f3a"
             ],
             [
              0.8888888888888888,
              "#fdca26"
             ],
             [
              1,
              "#f0f921"
             ]
            ],
            "type": "heatmapgl"
           }
          ],
          "histogram": [
           {
            "marker": {
             "pattern": {
              "fillmode": "overlay",
              "size": 10,
              "solidity": 0.2
             }
            },
            "type": "histogram"
           }
          ],
          "histogram2d": [
           {
            "colorbar": {
             "outlinewidth": 0,
             "ticks": ""
            },
            "colorscale": [
             [
              0,
              "#0d0887"
             ],
             [
              0.1111111111111111,
              "#46039f"
             ],
             [
              0.2222222222222222,
              "#7201a8"
             ],
             [
              0.3333333333333333,
              "#9c179e"
             ],
             [
              0.4444444444444444,
              "#bd3786"
             ],
             [
              0.5555555555555556,
              "#d8576b"
             ],
             [
              0.6666666666666666,
              "#ed7953"
             ],
             [
              0.7777777777777778,
              "#fb9f3a"
             ],
             [
              0.8888888888888888,
              "#fdca26"
             ],
             [
              1,
              "#f0f921"
             ]
            ],
            "type": "histogram2d"
           }
          ],
          "histogram2dcontour": [
           {
            "colorbar": {
             "outlinewidth": 0,
             "ticks": ""
            },
            "colorscale": [
             [
              0,
              "#0d0887"
             ],
             [
              0.1111111111111111,
              "#46039f"
             ],
             [
              0.2222222222222222,
              "#7201a8"
             ],
             [
              0.3333333333333333,
              "#9c179e"
             ],
             [
              0.4444444444444444,
              "#bd3786"
             ],
             [
              0.5555555555555556,
              "#d8576b"
             ],
             [
              0.6666666666666666,
              "#ed7953"
             ],
             [
              0.7777777777777778,
              "#fb9f3a"
             ],
             [
              0.8888888888888888,
              "#fdca26"
             ],
             [
              1,
              "#f0f921"
             ]
            ],
            "type": "histogram2dcontour"
           }
          ],
          "mesh3d": [
           {
            "colorbar": {
             "outlinewidth": 0,
             "ticks": ""
            },
            "type": "mesh3d"
           }
          ],
          "parcoords": [
           {
            "line": {
             "colorbar": {
              "outlinewidth": 0,
              "ticks": ""
             }
            },
            "type": "parcoords"
           }
          ],
          "pie": [
           {
            "automargin": true,
            "type": "pie"
           }
          ],
          "scatter": [
           {
            "fillpattern": {
             "fillmode": "overlay",
             "size": 10,
             "solidity": 0.2
            },
            "type": "scatter"
           }
          ],
          "scatter3d": [
           {
            "line": {
             "colorbar": {
              "outlinewidth": 0,
              "ticks": ""
             }
            },
            "marker": {
             "colorbar": {
              "outlinewidth": 0,
              "ticks": ""
             }
            },
            "type": "scatter3d"
           }
          ],
          "scattercarpet": [
           {
            "marker": {
             "colorbar": {
              "outlinewidth": 0,
              "ticks": ""
             }
            },
            "type": "scattercarpet"
           }
          ],
          "scattergeo": [
           {
            "marker": {
             "colorbar": {
              "outlinewidth": 0,
              "ticks": ""
             }
            },
            "type": "scattergeo"
           }
          ],
          "scattergl": [
           {
            "marker": {
             "colorbar": {
              "outlinewidth": 0,
              "ticks": ""
             }
            },
            "type": "scattergl"
           }
          ],
          "scattermapbox": [
           {
            "marker": {
             "colorbar": {
              "outlinewidth": 0,
              "ticks": ""
             }
            },
            "type": "scattermapbox"
           }
          ],
          "scatterpolar": [
           {
            "marker": {
             "colorbar": {
              "outlinewidth": 0,
              "ticks": ""
             }
            },
            "type": "scatterpolar"
           }
          ],
          "scatterpolargl": [
           {
            "marker": {
             "colorbar": {
              "outlinewidth": 0,
              "ticks": ""
             }
            },
            "type": "scatterpolargl"
           }
          ],
          "scatterternary": [
           {
            "marker": {
             "colorbar": {
              "outlinewidth": 0,
              "ticks": ""
             }
            },
            "type": "scatterternary"
           }
          ],
          "surface": [
           {
            "colorbar": {
             "outlinewidth": 0,
             "ticks": ""
            },
            "colorscale": [
             [
              0,
              "#0d0887"
             ],
             [
              0.1111111111111111,
              "#46039f"
             ],
             [
              0.2222222222222222,
              "#7201a8"
             ],
             [
              0.3333333333333333,
              "#9c179e"
             ],
             [
              0.4444444444444444,
              "#bd3786"
             ],
             [
              0.5555555555555556,
              "#d8576b"
             ],
             [
              0.6666666666666666,
              "#ed7953"
             ],
             [
              0.7777777777777778,
              "#fb9f3a"
             ],
             [
              0.8888888888888888,
              "#fdca26"
             ],
             [
              1,
              "#f0f921"
             ]
            ],
            "type": "surface"
           }
          ],
          "table": [
           {
            "cells": {
             "fill": {
              "color": "#EBF0F8"
             },
             "line": {
              "color": "white"
             }
            },
            "header": {
             "fill": {
              "color": "#C8D4E3"
             },
             "line": {
              "color": "white"
             }
            },
            "type": "table"
           }
          ]
         },
         "layout": {
          "annotationdefaults": {
           "arrowcolor": "#2a3f5f",
           "arrowhead": 0,
           "arrowwidth": 1
          },
          "autotypenumbers": "strict",
          "coloraxis": {
           "colorbar": {
            "outlinewidth": 0,
            "ticks": ""
           }
          },
          "colorscale": {
           "diverging": [
            [
             0,
             "#8e0152"
            ],
            [
             0.1,
             "#c51b7d"
            ],
            [
             0.2,
             "#de77ae"
            ],
            [
             0.3,
             "#f1b6da"
            ],
            [
             0.4,
             "#fde0ef"
            ],
            [
             0.5,
             "#f7f7f7"
            ],
            [
             0.6,
             "#e6f5d0"
            ],
            [
             0.7,
             "#b8e186"
            ],
            [
             0.8,
             "#7fbc41"
            ],
            [
             0.9,
             "#4d9221"
            ],
            [
             1,
             "#276419"
            ]
           ],
           "sequential": [
            [
             0,
             "#0d0887"
            ],
            [
             0.1111111111111111,
             "#46039f"
            ],
            [
             0.2222222222222222,
             "#7201a8"
            ],
            [
             0.3333333333333333,
             "#9c179e"
            ],
            [
             0.4444444444444444,
             "#bd3786"
            ],
            [
             0.5555555555555556,
             "#d8576b"
            ],
            [
             0.6666666666666666,
             "#ed7953"
            ],
            [
             0.7777777777777778,
             "#fb9f3a"
            ],
            [
             0.8888888888888888,
             "#fdca26"
            ],
            [
             1,
             "#f0f921"
            ]
           ],
           "sequentialminus": [
            [
             0,
             "#0d0887"
            ],
            [
             0.1111111111111111,
             "#46039f"
            ],
            [
             0.2222222222222222,
             "#7201a8"
            ],
            [
             0.3333333333333333,
             "#9c179e"
            ],
            [
             0.4444444444444444,
             "#bd3786"
            ],
            [
             0.5555555555555556,
             "#d8576b"
            ],
            [
             0.6666666666666666,
             "#ed7953"
            ],
            [
             0.7777777777777778,
             "#fb9f3a"
            ],
            [
             0.8888888888888888,
             "#fdca26"
            ],
            [
             1,
             "#f0f921"
            ]
           ]
          },
          "colorway": [
           "#636efa",
           "#EF553B",
           "#00cc96",
           "#ab63fa",
           "#FFA15A",
           "#19d3f3",
           "#FF6692",
           "#B6E880",
           "#FF97FF",
           "#FECB52"
          ],
          "font": {
           "color": "#2a3f5f"
          },
          "geo": {
           "bgcolor": "white",
           "lakecolor": "white",
           "landcolor": "white",
           "showlakes": true,
           "showland": true,
           "subunitcolor": "#C8D4E3"
          },
          "hoverlabel": {
           "align": "left"
          },
          "hovermode": "closest",
          "mapbox": {
           "style": "light"
          },
          "paper_bgcolor": "white",
          "plot_bgcolor": "white",
          "polar": {
           "angularaxis": {
            "gridcolor": "#EBF0F8",
            "linecolor": "#EBF0F8",
            "ticks": ""
           },
           "bgcolor": "white",
           "radialaxis": {
            "gridcolor": "#EBF0F8",
            "linecolor": "#EBF0F8",
            "ticks": ""
           }
          },
          "scene": {
           "xaxis": {
            "backgroundcolor": "white",
            "gridcolor": "#DFE8F3",
            "gridwidth": 2,
            "linecolor": "#EBF0F8",
            "showbackground": true,
            "ticks": "",
            "zerolinecolor": "#EBF0F8"
           },
           "yaxis": {
            "backgroundcolor": "white",
            "gridcolor": "#DFE8F3",
            "gridwidth": 2,
            "linecolor": "#EBF0F8",
            "showbackground": true,
            "ticks": "",
            "zerolinecolor": "#EBF0F8"
           },
           "zaxis": {
            "backgroundcolor": "white",
            "gridcolor": "#DFE8F3",
            "gridwidth": 2,
            "linecolor": "#EBF0F8",
            "showbackground": true,
            "ticks": "",
            "zerolinecolor": "#EBF0F8"
           }
          },
          "shapedefaults": {
           "line": {
            "color": "#2a3f5f"
           }
          },
          "ternary": {
           "aaxis": {
            "gridcolor": "#DFE8F3",
            "linecolor": "#A2B1C6",
            "ticks": ""
           },
           "baxis": {
            "gridcolor": "#DFE8F3",
            "linecolor": "#A2B1C6",
            "ticks": ""
           },
           "bgcolor": "white",
           "caxis": {
            "gridcolor": "#DFE8F3",
            "linecolor": "#A2B1C6",
            "ticks": ""
           }
          },
          "title": {
           "x": 0.05
          },
          "xaxis": {
           "automargin": true,
           "gridcolor": "#EBF0F8",
           "linecolor": "#EBF0F8",
           "ticks": "",
           "title": {
            "standoff": 15
           },
           "zerolinecolor": "#EBF0F8",
           "zerolinewidth": 2
          },
          "yaxis": {
           "automargin": true,
           "gridcolor": "#EBF0F8",
           "linecolor": "#EBF0F8",
           "ticks": "",
           "title": {
            "standoff": 15
           },
           "zerolinecolor": "#EBF0F8",
           "zerolinewidth": 2
          }
         }
        },
        "title": {
         "text": "Índice de Sentimento (diário normalizado) - ibra50"
        },
        "width": 800,
        "xaxis": {
         "title": {
          "text": "Data"
         }
        },
        "yaxis": {
         "title": {
          "text": "Índice de Sentimento"
         }
        }
       }
      }
     },
     "metadata": {},
     "output_type": "display_data"
    }
   ],
   "source": [
    "scaler = MinMaxScaler(feature_range=(0, 1))\n",
    "scaled_vxbr = scaler.fit_transform(df[['VX-diario']])\n",
    "scaled_df_vxbr = pd.DataFrame(scaled_vxbr, columns=['VX-diario'], index=df.Data)\n",
    "\n",
    "\n",
    "fig = go.Figure()\n",
    "\n",
    "# Linha principal (o seu índice de sentimento)\n",
    "fig.add_trace(go.Scatter( x=scaled_df_vxbr.index, y=scaled_df_vxbr['VX-diario'], mode='lines', name=f'Índice de Sentimento - {carteira}', line=dict(color='blue')))\n",
    "\n",
    "# Layout\n",
    "fig.update_layout(\n",
    "    title=f'Índice de Sentimento (diário normalizado) - {carteira}',\n",
    "    width=800,\n",
    "    height=400,\n",
    "    legend=dict(yanchor=\"top\", y=0.99, xanchor=\"left\", x=0.01),\n",
    "    margin=dict(l=40, r=40, t=60, b=40),\n",
    "    xaxis_title='Data',\n",
    "    yaxis_title='Índice de Sentimento',\n",
    "    template='plotly_white'\n",
    ")\n",
    "\n",
    "fig.show()\n"
   ]
  },
  {
   "cell_type": "markdown",
   "id": "687a5255",
   "metadata": {},
   "source": [
    "**Índice de Pânico nas Bolsas de Valores** O cálculo do índice de pânico nos mercados financeiros está intrinsecamente ligado à medição da volatilidade implícita, com o VIX (Volatility Index) emergindo como principal referência global. Desenvolvido pelo *Chicago Board Options Exchange* (CBOE) em 1993, esse indicador quantifica as expectativas de *oscilações no S&P 500 para os próximos 30 dias*, servindo como termômetro do medo ou euforia dos investidores. No Brasil, a B3 implementou uma versão adaptada, o VXBR, que segue a mesma metodologia aplicada ao Ibovespa. Este relatório explora os fundamentos matemáticos, as variações regionais e as aplicações práticas desses índices.\n",
    "\n",
    "**Fundamentos Teóricos da Volatilidade Implícita** O VIX calcula a volatilidade esperada utilizando preços de opções de compra (call) e venda (put) do S&P 500. Esses derivativos funcionam como contratos de seguro contra movimentos bruscos nos preços, onde *opções de compra refletem apostas em alta* e *opções de venda indicam proteção contra quedas*. A fórmula do VIX, conforme detalhada pela metodologia do CBOE:\n",
    "$$\n",
    "\\sigma^2 =  \\frac 2T \\sum  \\frac{\\Delta K_i}{K_i^2}\\exp(RT)Q(K_i) - \\frac 1T\\left(\\frac F{K_0} - 1\\right)^2\n",
    "$$\n",
    "onde:\n",
    "𝜎² : Variância da volatilidade implícita;\n",
    "T: Tempo até expiração das opções;\n",
    "Ki : Preços de exercício das opções;\n",
    "Q(Ki): Preço médio das opções;\n",
    "F: Preço futuro do índice.\n",
    "\n",
    "**Metodologia de Cálculo Prático**\n",
    "\n",
    "*Seleção de Séries Temporais*: Coletar preços de opções do S&P 500 com vencimentos em 23 e 37 dias, garantindo janela móvel de 30 dias\n",
    "\n",
    "*Cálculo de Variâncias*: Para cada expiration date, computar a variância implícita usando a fórmula de Neuberger (1990), que pondera contribuições de diferentes strikes\n",
    "\n",
    "*Interpolação Temporal*: Combinar as variâncias dos contratos próximos (near-term) e seguintes (next-term) para obter volatilidade anualizada:\n",
    "$$\n",
    "\\text{VIX} = 100 \\times \\sqrt{ \\left( T_1 \\sigma_1^2 \\frac{N_{T2} - N_{30}}{N_{T2} - N_{T1}} \\right) + \\left( T_2 \\sigma_2^2 \\frac{N_{30} - N_{T1}}{N_{T2} - N_{T1}} \\right) } \\times \\frac{365}{30}\n",
    "$$\n",
    "onde $N_{T_x}$ representa dias até expiração.\n",
    "\n",
    "**Adaptação Brasileira: VXBR** (Especificidades do Índice B3/S&P Ibovespa VIX) Lançado em março de 2024, o VXBR replica a metodologia do VIX original porém utilizando opções do Ibovespa. Durante crises, como a alta de 476% no VIX global em março de 2020, o índice brasileiro demonstra sensibilidade comparável. Seu cálculo automático considera:\n",
    "1. Liquidez das opções do IBOV;\n",
    "2. Ajustes sazonais no vencimento;\n",
    "3. Prazos mínimos de 30 dias para evitar distorções.\n",
    "\n",
    "**Desafios na Implementação Local**\n",
    "Diferentemente do mercado americano, *a baixa liquidez de derivativos no Brasil* exige filtros adicionais para excluir strikes sem negociação, potencialmente introduzindo viés amostral. A B3 realiza rodadas de ajuste metodológico periódicas para mitigar esses efeitos. \n",
    "\n",
    "**Alternativas Computacionais: Índice Medo vs. Ganância** -\n",
    "*Abordagem Multifatorial* - \n",
    "O Fear & Greed Index, popularizado pela CNN, combina sete variáveis ponderadas:\n",
    "\n",
    "vix * 0.05 + putCallRatio * 0.1 + marketBreadth * 0.15 + junkBonds * 0.2 +  safeHavenDemand * 0.25 + treasuryYield * 0.15 +  peRatio * 0.1\n",
    "\n",
    "Nesse modelo, cada fator captura diferentes dimensões de risco:\n",
    "1. Demanda por títulos do Tesouro (25%): Refúgios seguros indicam medo;\n",
    "2. Bonds de alto risco (20%): Aceitação de risco corporativo sinaliza ganância;\n",
    "3. Razão Put/Call (10%): Mais puts sugerem hedging contra quedas.\n",
    "\n",
    "**Limitações Metodológicas**\n",
    "Enquanto o VIX deriva diretamente de dados de mercado, índices compostos como o Fear & Greed dependem de escolhas subjetivas na ponderação de fatores. Estudos apontam correlação de apenas 0.65 entre ambas as métricas em períodos de estresse.\n",
    "\n",
    "**Aplicações Práticas para Investidores**\n",
    "\n",
    "*Estratégias de Hedge*\n",
    "Fundos institucionais utilizam o VIX para calibrar proteções:\n",
    "1. Quando o VIX supera 30, gestores aumentam exposição em opções de venda;\n",
    "2. Abaixo de 15, reduzem custos de hedge priorizando calls.\n",
    "\n",
    "*Sinal Contrário (Contrarian Indicator)*\n",
    "Extremos históricos do VIX (>40 ou <15) marcaram pontos de reversão de mercado em 82% dos casos desde 1990. Por exemplo: Pico de 89.53 em outubro de 2008 (crise Lehman Brothers); Mínimo de 9.51 em novembro de 2017 (expansão monetária pós-crise).\n",
    "\n",
    "**Perspectivas Futuras e Inovações**\n",
    "\n",
    "*Modelos Machine Learning*\n",
    "Pesquisas recentes testam redes neurais LSTM para prever o VIX usando:\n",
    "1. Dados de sentimento em redes sociais;\n",
    "2. Fluxos de ordens em dark pools;\n",
    "3. Indicadores macroeconômicos em tempo real.\n",
    "\n",
    "Resultados preliminares mostram redução de 20% no erro quadrático médio versus modelos ARIMA tradicionais.\n",
    "\n",
    "**VIX Setoriais**\n",
    "Derivativos segmentados por setores (tecnologia, energia) estão em desenvolvimento, permitindo hedge específico. O CBOE Sector VIX para tech já representa 12% do mercado de volatilidade6.\n",
    "\n",
    "**Conclusão e Recomendações**\n",
    "O cálculo do índice de pânico envolve tanto complexidade matemática quanto compreensão comportamental. Para investidores brasileiros, monitorar o VXBR oferece insights valiosos, porém é crucial:\n",
    "\n",
    "Validar contra dados locais de liquidez;\n",
    "\n",
    "Combinar com indicadores globais para evitar miopias regionais;\n",
    "\n",
    "Utilizar simulações de Monte Carlo para testar estratégias de hedge.\n",
    "\n",
    "Institutos de pesquisa sugerem a integração de modelos híbridos, combinando VIX tradicional com dados alternativos (geopolítica, clima) para antecipar crises sistêmicas. A evolução contínua desses índices reforça seu papel como bússolas em oceanos de incerteza financeira"
   ]
  },
  {
   "cell_type": "code",
   "execution_count": 307,
   "id": "5929fe80",
   "metadata": {},
   "outputs": [
    {
     "data": {
      "text/plain": [
       "<Axes: xlabel='Date'>"
      ]
     },
     "execution_count": 307,
     "metadata": {},
     "output_type": "execute_result"
    },
    {
     "data": {
      "image/png": "[encoded data removed]",
      "text/plain": [
       "<Figure size 640x480 with 1 Axes>"
      ]
     },
     "metadata": {},
     "output_type": "display_data"
    }
   ],
   "source": [
    "vix.Close.plot()"
   ]
  },
  {
   "cell_type": "markdown",
   "id": "bc24d36f",
   "metadata": {},
   "source": [
    "# testes"
   ]
  },
  {
   "cell_type": "code",
   "execution_count": 250,
   "id": "f30d2900",
   "metadata": {},
   "outputs": [],
   "source": [
    "import yfinance as yf\n",
    "import pandas as pd\n",
    "import numpy as np\n",
    "import matplotlib.pyplot as plt\n",
    "from sklearn.preprocessing import MinMaxScaler\n",
    "\n",
    "\n",
    "dados = data\n",
    "resultado = pd.DataFrame()\n",
    "for acao in tickers:\n",
    "    df = dados[acao].copy()\n",
    "    df['Return'] = df['Close'].pct_change()\n",
    "    df['Volatility'] = df['Return'].rolling(window=7).std()\n",
    "    df['High-Low Range'] = (df['High'] - df['Low']) / df['Low']\n",
    "    df = df[['Return', 'Volatility', 'High-Low Range']]\n",
    "    df.columns = [f'{acao}_Return', f'{acao}_Volatility', f'{acao}_HLRange']\n",
    "    \n",
    "    if resultado.empty:\n",
    "        resultado = df\n",
    "    else:\n",
    "        resultado = resultado.join(df)\n",
    "\n",
    "resultado = resultado.dropna()\n",
    "\n",
    "# Indicador de número de ações subindo/caindo\n",
    "# 1 para subida, -1 para queda\n",
    "up_down = resultado[[col for col in resultado.columns if 'Return' in col]].apply(lambda x: np.where(x > 0, 1, -1))\n",
    "resultado['Acoes_Subindo'] = up_down.sum(axis=1) / len(acoes)\n",
    "\n",
    "# Agora normalizar tudo\n",
    "features = [col for col in resultado.columns if ('Return' in col or 'Volatility' in col or 'HLRange' in col)] + ['Acoes_Subindo']\n",
    "\n",
    "scaler = MinMaxScaler()\n",
    "scaled_features = scaler.fit_transform(resultado[features])\n",
    "\n",
    "scaled = pd.DataFrame(scaled_features, columns=features, index=resultado.index)\n",
    "\n",
    "# Cálculo final do Índice de Pânico/Otimismo\n",
    "scaled['Panic Optimism Index'] = scaled.mean(axis=1)"
   ]
  },
  {
   "cell_type": "code",
   "execution_count": 252,
   "id": "fe57ded4",
   "metadata": {},
   "outputs": [
    {
     "data": {
      "image/png": "[encoded data removed]",
      "text/plain": [
       "<Figure size 1500x700 with 1 Axes>"
      ]
     },
     "metadata": {},
     "output_type": "display_data"
    }
   ],
   "source": [
    "plt.figure(figsize=(15,7))\n",
    "plt.plot(scaled.index, scaled['Panic Optimism Index'], label='Índice de Pânico/Otimismo')\n",
    "plt.axhline(0.5, color='red', linestyle='--', label='Neutro (0.5)')\n",
    "plt.fill_between(scaled.index, 0, scaled['Panic Optimism Index'], where=scaled['Panic Optimism Index']>=0.5, facecolor='red', alpha=0.3)\n",
    "plt.fill_between(scaled.index, 0, scaled['Panic Optimism Index'], where=scaled['Panic Optimism Index']<0.5, facecolor='green', alpha=0.3)\n",
    "plt.title('Índice de Pânico/Otimismo - Ações IBOV')\n",
    "plt.xlabel('Data')\n",
    "plt.ylabel('Índice Normalizado')\n",
    "plt.legend()\n",
    "plt.grid(True)\n",
    "plt.show()"
   ]
  }
 ],
 "metadata": {
  "kernelspec": {
   "display_name": "base",
   "language": "python",
   "name": "python3"
  },
  "language_info": {
   "codemirror_mode": {
    "name": "ipython",
    "version": 3
   },
   "file_extension": ".py",
   "mimetype": "text/x-python",
   "name": "python",
   "nbconvert_exporter": "python",
   "pygments_lexer": "ipython3",
   "version": "3.11.9"
  }
 },
 "nbformat": 4,
 "nbformat_minor": 5
}
