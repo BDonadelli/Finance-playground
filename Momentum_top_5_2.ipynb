{
 "cells": [
  {
   "cell_type": "code",
   "execution_count": 14,
   "metadata": {
    "id": "VLZ7fieiCH4N"
   },
   "outputs": [],
   "source": [
    "# Import necessary libraries\n",
    "import yfinance as yf\n",
    "import pandas as pd\n",
    "from datetime import datetime, timedelta\n",
    "import numpy as np\n",
    "import json\n",
    "import plotly.graph_objects as go"
   ]
  },
  {
   "cell_type": "code",
   "execution_count": 15,
   "metadata": {},
   "outputs": [],
   "source": [
    "url  = [ #\n",
    "    #ibra50\n",
    "    'https://raw.githubusercontent.com/BDonadelli/Finance-playground/main/data/Cart_IBr50.csv',\n",
    "    #ibra100\n",
    "    'https://raw.githubusercontent.com/BDonadelli/Finance-playground/main/data/Cart_IBr100.csv',\n",
    "    #div\n",
    "    'https://raw.githubusercontent.com/BDonadelli/Finance-playground/main/data/Cart_Idiv.csv' ,\n",
    "    #small\n",
    "    'https://raw.githubusercontent.com/BDonadelli/Finance-playground/main/data/Cart_Small.csv',\n",
    "    #ibbr\n",
    "    'https://raw.githubusercontent.com/BDonadelli/Finance-playground/main/data/Cart_IBBR.csv',\n",
    "    #low vol\n",
    "    'https://raw.githubusercontent.com/BDonadelli/Finance-playground/main/data/Cart_Ibov_LowVol.csv'\n",
    "]\n",
    "\n",
    "escolha = 0 #int(input('0-ibra50; 1-ibra100; 2-idiv; 3-small; 4- ibbr ; 5-low vol: '))\n",
    "indice = { 0:'Ibra50' , 1:'Ibra100' , 2:'Idiv' , 3:'Small' , 4:'IBBr' , 5:'Low Vol'}"
   ]
  },
  {
   "cell_type": "code",
   "execution_count": 16,
   "metadata": {},
   "outputs": [
    {
     "name": "stdout",
     "output_type": "stream",
     "text": [
      "Arquivo lido localmente.\n"
     ]
    }
   ],
   "source": [
    "import os\n",
    "from urllib.parse import urlparse\n",
    "\n",
    "arquivo = os.path.basename(urlparse(url[escolha]).path) \n",
    "# Caminho do arquivo local\n",
    "file_path = os.path.expanduser(f'~/GHub/Codigos-em-financas/data/{arquivo}')\n",
    "\n",
    "# Verificar se o arquivo existe localmente\n",
    "if os.path.exists(file_path):\n",
    "    # Ler o arquivo local\n",
    "    ticker_list = pd.read_csv( file_path,sep=';' , decimal=',' , thousands='.' , \n",
    "                header=0 , skiprows=0 , skipfooter=2 , \n",
    "                encoding='utf-8',index_col=False , engine='python')['Código'].to_list()\n",
    "    print(\"Arquivo lido localmente.\")\n",
    "else:\n",
    "    # Ler o arquivo a partir da URL\n",
    "    ticker_list = pd.read_csv(url[escolha] ,sep=';' , decimal=',' , thousands='.' , \n",
    "                header=1 , skiprows=0 , skipfooter=2 , \n",
    "                encoding='latin-1',index_col=False , engine='python')['Código'].to_list()\n",
    "    print(\"Arquivo lido da URL.\")"
   ]
  },
  {
   "cell_type": "code",
   "execution_count": 17,
   "metadata": {
    "colab": {
     "base_uri": "https://localhost:8080/",
     "height": 455
    },
    "executionInfo": {
     "elapsed": 5026,
     "status": "ok",
     "timestamp": 1694458191987,
     "user": {
      "displayName": "Hugo",
      "userId": "11126641400007389172"
     },
     "user_tz": 180
    },
    "id": "5fO47wT9HQTh",
    "outputId": "f55d5dd2-e74c-4220-cb29-97c47877c956"
   },
   "outputs": [],
   "source": [
    "years=10\n",
    "end_date = datetime.now()\n",
    "start_date = end_date - timedelta(days=years * 365)\n",
    "stock_data = pd.DataFrame()\n",
    "\n",
    "for ticker in ticker_list:\n",
    "    stock = yf.Ticker(ticker+'.SA')\n",
    "    hist_data = stock.history(period='1d', start=start_date, end=end_date)\n",
    "    close_data = hist_data['Close'].rename(ticker)\n",
    "    stock_data = pd.merge(stock_data, pd.DataFrame(close_data), left_index=True, right_index=True, how='outer')"
   ]
  },
  {
   "cell_type": "code",
   "execution_count": 18,
   "metadata": {},
   "outputs": [
    {
     "data": {
      "text/html": [
       "<div>\n",
       "<style scoped>\n",
       "    .dataframe tbody tr th:only-of-type {\n",
       "        vertical-align: middle;\n",
       "    }\n",
       "\n",
       "    .dataframe tbody tr th {\n",
       "        vertical-align: top;\n",
       "    }\n",
       "\n",
       "    .dataframe thead th {\n",
       "        text-align: right;\n",
       "    }\n",
       "</style>\n",
       "<table border=\"1\" class=\"dataframe\">\n",
       "  <thead>\n",
       "    <tr style=\"text-align: right;\">\n",
       "      <th></th>\n",
       "      <th>VALE3</th>\n",
       "      <th>ITUB4</th>\n",
       "      <th>PETR4</th>\n",
       "      <th>PETR3</th>\n",
       "      <th>WEGE3</th>\n",
       "      <th>ELET3</th>\n",
       "      <th>BBAS3</th>\n",
       "      <th>BBDC4</th>\n",
       "      <th>SBSP3</th>\n",
       "      <th>B3SA3</th>\n",
       "      <th>...</th>\n",
       "      <th>ALOS3</th>\n",
       "      <th>ASAI3</th>\n",
       "      <th>HYPE3</th>\n",
       "      <th>BRAV3</th>\n",
       "      <th>CSNA3</th>\n",
       "      <th>MULT3</th>\n",
       "      <th>AZZA3</th>\n",
       "      <th>CYRE3</th>\n",
       "      <th>MGLU3</th>\n",
       "      <th>USIM5</th>\n",
       "    </tr>\n",
       "    <tr>\n",
       "      <th>Date</th>\n",
       "      <th></th>\n",
       "      <th></th>\n",
       "      <th></th>\n",
       "      <th></th>\n",
       "      <th></th>\n",
       "      <th></th>\n",
       "      <th></th>\n",
       "      <th></th>\n",
       "      <th></th>\n",
       "      <th></th>\n",
       "      <th></th>\n",
       "      <th></th>\n",
       "      <th></th>\n",
       "      <th></th>\n",
       "      <th></th>\n",
       "      <th></th>\n",
       "      <th></th>\n",
       "      <th></th>\n",
       "      <th></th>\n",
       "      <th></th>\n",
       "      <th></th>\n",
       "    </tr>\n",
       "  </thead>\n",
       "  <tbody>\n",
       "    <tr>\n",
       "      <th>2014-09-30 00:00:00-03:00</th>\n",
       "      <td>14.149903</td>\n",
       "      <td>11.954955</td>\n",
       "      <td>5.806634</td>\n",
       "      <td>5.839087</td>\n",
       "      <td>4.628104</td>\n",
       "      <td>5.487703</td>\n",
       "      <td>6.777450</td>\n",
       "      <td>8.320928</td>\n",
       "      <td>15.725919</td>\n",
       "      <td>2.536359</td>\n",
       "      <td>...</td>\n",
       "      <td>NaN</td>\n",
       "      <td>NaN</td>\n",
       "      <td>13.083831</td>\n",
       "      <td>NaN</td>\n",
       "      <td>5.336294</td>\n",
       "      <td>13.109465</td>\n",
       "      <td>22.664473</td>\n",
       "      <td>8.230548</td>\n",
       "      <td>2.093987</td>\n",
       "      <td>4.963402</td>\n",
       "    </tr>\n",
       "    <tr>\n",
       "      <th>2014-10-01 00:00:00-03:00</th>\n",
       "      <td>14.139360</td>\n",
       "      <td>11.645787</td>\n",
       "      <td>5.485648</td>\n",
       "      <td>5.551363</td>\n",
       "      <td>4.629720</td>\n",
       "      <td>5.270201</td>\n",
       "      <td>6.884604</td>\n",
       "      <td>8.017607</td>\n",
       "      <td>15.622566</td>\n",
       "      <td>2.468361</td>\n",
       "      <td>...</td>\n",
       "      <td>NaN</td>\n",
       "      <td>NaN</td>\n",
       "      <td>12.659610</td>\n",
       "      <td>NaN</td>\n",
       "      <td>5.219755</td>\n",
       "      <td>12.528798</td>\n",
       "      <td>22.152187</td>\n",
       "      <td>8.057271</td>\n",
       "      <td>2.107799</td>\n",
       "      <td>5.072487</td>\n",
       "    </tr>\n",
       "    <tr>\n",
       "      <th>2014-10-02 00:00:00-03:00</th>\n",
       "      <td>14.550421</td>\n",
       "      <td>12.034451</td>\n",
       "      <td>5.553055</td>\n",
       "      <td>5.615679</td>\n",
       "      <td>4.632962</td>\n",
       "      <td>5.194913</td>\n",
       "      <td>6.817633</td>\n",
       "      <td>8.271100</td>\n",
       "      <td>15.376101</td>\n",
       "      <td>2.502360</td>\n",
       "      <td>...</td>\n",
       "      <td>NaN</td>\n",
       "      <td>NaN</td>\n",
       "      <td>12.503317</td>\n",
       "      <td>NaN</td>\n",
       "      <td>5.354695</td>\n",
       "      <td>12.756357</td>\n",
       "      <td>21.616627</td>\n",
       "      <td>8.070601</td>\n",
       "      <td>2.185150</td>\n",
       "      <td>5.017945</td>\n",
       "    </tr>\n",
       "    <tr>\n",
       "      <th>2014-10-03 00:00:00-03:00</th>\n",
       "      <td>14.334349</td>\n",
       "      <td>12.317119</td>\n",
       "      <td>5.890090</td>\n",
       "      <td>5.923712</td>\n",
       "      <td>4.660501</td>\n",
       "      <td>5.312029</td>\n",
       "      <td>6.967648</td>\n",
       "      <td>8.443158</td>\n",
       "      <td>15.598713</td>\n",
       "      <td>2.525026</td>\n",
       "      <td>...</td>\n",
       "      <td>NaN</td>\n",
       "      <td>NaN</td>\n",
       "      <td>12.920094</td>\n",
       "      <td>NaN</td>\n",
       "      <td>5.422165</td>\n",
       "      <td>13.065002</td>\n",
       "      <td>22.353998</td>\n",
       "      <td>8.357170</td>\n",
       "      <td>2.163050</td>\n",
       "      <td>5.329618</td>\n",
       "    </tr>\n",
       "    <tr>\n",
       "      <th>2014-10-06 00:00:00-03:00</th>\n",
       "      <td>14.408129</td>\n",
       "      <td>12.977848</td>\n",
       "      <td>6.544901</td>\n",
       "      <td>6.499159</td>\n",
       "      <td>4.600564</td>\n",
       "      <td>5.805588</td>\n",
       "      <td>7.798088</td>\n",
       "      <td>9.081238</td>\n",
       "      <td>16.155243</td>\n",
       "      <td>2.731289</td>\n",
       "      <td>...</td>\n",
       "      <td>NaN</td>\n",
       "      <td>NaN</td>\n",
       "      <td>13.351757</td>\n",
       "      <td>NaN</td>\n",
       "      <td>5.477369</td>\n",
       "      <td>13.496575</td>\n",
       "      <td>23.091370</td>\n",
       "      <td>8.783692</td>\n",
       "      <td>2.270787</td>\n",
       "      <td>5.337410</td>\n",
       "    </tr>\n",
       "    <tr>\n",
       "      <th>...</th>\n",
       "      <td>...</td>\n",
       "      <td>...</td>\n",
       "      <td>...</td>\n",
       "      <td>...</td>\n",
       "      <td>...</td>\n",
       "      <td>...</td>\n",
       "      <td>...</td>\n",
       "      <td>...</td>\n",
       "      <td>...</td>\n",
       "      <td>...</td>\n",
       "      <td>...</td>\n",
       "      <td>...</td>\n",
       "      <td>...</td>\n",
       "      <td>...</td>\n",
       "      <td>...</td>\n",
       "      <td>...</td>\n",
       "      <td>...</td>\n",
       "      <td>...</td>\n",
       "      <td>...</td>\n",
       "      <td>...</td>\n",
       "      <td>...</td>\n",
       "    </tr>\n",
       "    <tr>\n",
       "      <th>2024-09-20 00:00:00-03:00</th>\n",
       "      <td>57.349998</td>\n",
       "      <td>35.930000</td>\n",
       "      <td>36.259998</td>\n",
       "      <td>39.700001</td>\n",
       "      <td>52.520000</td>\n",
       "      <td>39.930000</td>\n",
       "      <td>27.500000</td>\n",
       "      <td>14.750000</td>\n",
       "      <td>94.660004</td>\n",
       "      <td>11.501363</td>\n",
       "      <td>...</td>\n",
       "      <td>22.35</td>\n",
       "      <td>7.70</td>\n",
       "      <td>27.113146</td>\n",
       "      <td>18.180000</td>\n",
       "      <td>11.130000</td>\n",
       "      <td>26.340000</td>\n",
       "      <td>44.650002</td>\n",
       "      <td>20.730000</td>\n",
       "      <td>10.350000</td>\n",
       "      <td>5.880000</td>\n",
       "    </tr>\n",
       "    <tr>\n",
       "      <th>2024-09-23 00:00:00-03:00</th>\n",
       "      <td>57.529999</td>\n",
       "      <td>35.720001</td>\n",
       "      <td>36.630001</td>\n",
       "      <td>40.200001</td>\n",
       "      <td>54.320000</td>\n",
       "      <td>39.549999</td>\n",
       "      <td>27.400000</td>\n",
       "      <td>14.370000</td>\n",
       "      <td>93.620003</td>\n",
       "      <td>11.104764</td>\n",
       "      <td>...</td>\n",
       "      <td>22.18</td>\n",
       "      <td>7.86</td>\n",
       "      <td>26.904661</td>\n",
       "      <td>17.900000</td>\n",
       "      <td>11.080000</td>\n",
       "      <td>26.120001</td>\n",
       "      <td>45.200001</td>\n",
       "      <td>20.190001</td>\n",
       "      <td>10.020000</td>\n",
       "      <td>5.600000</td>\n",
       "    </tr>\n",
       "    <tr>\n",
       "      <th>2024-09-24 00:00:00-03:00</th>\n",
       "      <td>60.340000</td>\n",
       "      <td>35.709999</td>\n",
       "      <td>36.779999</td>\n",
       "      <td>40.500000</td>\n",
       "      <td>55.389999</td>\n",
       "      <td>39.650002</td>\n",
       "      <td>27.379999</td>\n",
       "      <td>14.350000</td>\n",
       "      <td>92.709999</td>\n",
       "      <td>11.154339</td>\n",
       "      <td>...</td>\n",
       "      <td>22.25</td>\n",
       "      <td>8.15</td>\n",
       "      <td>26.809999</td>\n",
       "      <td>19.459999</td>\n",
       "      <td>12.120000</td>\n",
       "      <td>26.280001</td>\n",
       "      <td>44.810001</td>\n",
       "      <td>20.450001</td>\n",
       "      <td>10.190000</td>\n",
       "      <td>6.030000</td>\n",
       "    </tr>\n",
       "    <tr>\n",
       "      <th>2024-09-25 00:00:00-03:00</th>\n",
       "      <td>60.610001</td>\n",
       "      <td>36.160000</td>\n",
       "      <td>37.049999</td>\n",
       "      <td>40.529999</td>\n",
       "      <td>55.680000</td>\n",
       "      <td>39.160000</td>\n",
       "      <td>27.299999</td>\n",
       "      <td>14.440000</td>\n",
       "      <td>91.599998</td>\n",
       "      <td>10.790000</td>\n",
       "      <td>...</td>\n",
       "      <td>21.93</td>\n",
       "      <td>7.78</td>\n",
       "      <td>26.049999</td>\n",
       "      <td>18.200001</td>\n",
       "      <td>12.180000</td>\n",
       "      <td>25.700001</td>\n",
       "      <td>42.939999</td>\n",
       "      <td>20.450001</td>\n",
       "      <td>10.000000</td>\n",
       "      <td>6.040000</td>\n",
       "    </tr>\n",
       "    <tr>\n",
       "      <th>2024-09-26 00:00:00-03:00</th>\n",
       "      <td>64.250000</td>\n",
       "      <td>36.619999</td>\n",
       "      <td>36.250000</td>\n",
       "      <td>39.680000</td>\n",
       "      <td>56.049999</td>\n",
       "      <td>39.730000</td>\n",
       "      <td>27.480000</td>\n",
       "      <td>14.810000</td>\n",
       "      <td>91.349998</td>\n",
       "      <td>10.850000</td>\n",
       "      <td>...</td>\n",
       "      <td>22.00</td>\n",
       "      <td>8.05</td>\n",
       "      <td>26.260000</td>\n",
       "      <td>17.010000</td>\n",
       "      <td>13.270000</td>\n",
       "      <td>25.680000</td>\n",
       "      <td>42.419998</td>\n",
       "      <td>20.870001</td>\n",
       "      <td>9.800000</td>\n",
       "      <td>6.380000</td>\n",
       "    </tr>\n",
       "  </tbody>\n",
       "</table>\n",
       "<p>2487 rows × 48 columns</p>\n",
       "</div>"
      ],
      "text/plain": [
       "                               VALE3      ITUB4      PETR4      PETR3  \\\n",
       "Date                                                                    \n",
       "2014-09-30 00:00:00-03:00  14.149903  11.954955   5.806634   5.839087   \n",
       "2014-10-01 00:00:00-03:00  14.139360  11.645787   5.485648   5.551363   \n",
       "2014-10-02 00:00:00-03:00  14.550421  12.034451   5.553055   5.615679   \n",
       "2014-10-03 00:00:00-03:00  14.334349  12.317119   5.890090   5.923712   \n",
       "2014-10-06 00:00:00-03:00  14.408129  12.977848   6.544901   6.499159   \n",
       "...                              ...        ...        ...        ...   \n",
       "2024-09-20 00:00:00-03:00  57.349998  35.930000  36.259998  39.700001   \n",
       "2024-09-23 00:00:00-03:00  57.529999  35.720001  36.630001  40.200001   \n",
       "2024-09-24 00:00:00-03:00  60.340000  35.709999  36.779999  40.500000   \n",
       "2024-09-25 00:00:00-03:00  60.610001  36.160000  37.049999  40.529999   \n",
       "2024-09-26 00:00:00-03:00  64.250000  36.619999  36.250000  39.680000   \n",
       "\n",
       "                               WEGE3      ELET3      BBAS3      BBDC4  \\\n",
       "Date                                                                    \n",
       "2014-09-30 00:00:00-03:00   4.628104   5.487703   6.777450   8.320928   \n",
       "2014-10-01 00:00:00-03:00   4.629720   5.270201   6.884604   8.017607   \n",
       "2014-10-02 00:00:00-03:00   4.632962   5.194913   6.817633   8.271100   \n",
       "2014-10-03 00:00:00-03:00   4.660501   5.312029   6.967648   8.443158   \n",
       "2014-10-06 00:00:00-03:00   4.600564   5.805588   7.798088   9.081238   \n",
       "...                              ...        ...        ...        ...   \n",
       "2024-09-20 00:00:00-03:00  52.520000  39.930000  27.500000  14.750000   \n",
       "2024-09-23 00:00:00-03:00  54.320000  39.549999  27.400000  14.370000   \n",
       "2024-09-24 00:00:00-03:00  55.389999  39.650002  27.379999  14.350000   \n",
       "2024-09-25 00:00:00-03:00  55.680000  39.160000  27.299999  14.440000   \n",
       "2024-09-26 00:00:00-03:00  56.049999  39.730000  27.480000  14.810000   \n",
       "\n",
       "                               SBSP3      B3SA3  ...  ALOS3  ASAI3      HYPE3  \\\n",
       "Date                                             ...                            \n",
       "2014-09-30 00:00:00-03:00  15.725919   2.536359  ...    NaN    NaN  13.083831   \n",
       "2014-10-01 00:00:00-03:00  15.622566   2.468361  ...    NaN    NaN  12.659610   \n",
       "2014-10-02 00:00:00-03:00  15.376101   2.502360  ...    NaN    NaN  12.503317   \n",
       "2014-10-03 00:00:00-03:00  15.598713   2.525026  ...    NaN    NaN  12.920094   \n",
       "2014-10-06 00:00:00-03:00  16.155243   2.731289  ...    NaN    NaN  13.351757   \n",
       "...                              ...        ...  ...    ...    ...        ...   \n",
       "2024-09-20 00:00:00-03:00  94.660004  11.501363  ...  22.35   7.70  27.113146   \n",
       "2024-09-23 00:00:00-03:00  93.620003  11.104764  ...  22.18   7.86  26.904661   \n",
       "2024-09-24 00:00:00-03:00  92.709999  11.154339  ...  22.25   8.15  26.809999   \n",
       "2024-09-25 00:00:00-03:00  91.599998  10.790000  ...  21.93   7.78  26.049999   \n",
       "2024-09-26 00:00:00-03:00  91.349998  10.850000  ...  22.00   8.05  26.260000   \n",
       "\n",
       "                               BRAV3      CSNA3      MULT3      AZZA3  \\\n",
       "Date                                                                    \n",
       "2014-09-30 00:00:00-03:00        NaN   5.336294  13.109465  22.664473   \n",
       "2014-10-01 00:00:00-03:00        NaN   5.219755  12.528798  22.152187   \n",
       "2014-10-02 00:00:00-03:00        NaN   5.354695  12.756357  21.616627   \n",
       "2014-10-03 00:00:00-03:00        NaN   5.422165  13.065002  22.353998   \n",
       "2014-10-06 00:00:00-03:00        NaN   5.477369  13.496575  23.091370   \n",
       "...                              ...        ...        ...        ...   \n",
       "2024-09-20 00:00:00-03:00  18.180000  11.130000  26.340000  44.650002   \n",
       "2024-09-23 00:00:00-03:00  17.900000  11.080000  26.120001  45.200001   \n",
       "2024-09-24 00:00:00-03:00  19.459999  12.120000  26.280001  44.810001   \n",
       "2024-09-25 00:00:00-03:00  18.200001  12.180000  25.700001  42.939999   \n",
       "2024-09-26 00:00:00-03:00  17.010000  13.270000  25.680000  42.419998   \n",
       "\n",
       "                               CYRE3      MGLU3     USIM5  \n",
       "Date                                                       \n",
       "2014-09-30 00:00:00-03:00   8.230548   2.093987  4.963402  \n",
       "2014-10-01 00:00:00-03:00   8.057271   2.107799  5.072487  \n",
       "2014-10-02 00:00:00-03:00   8.070601   2.185150  5.017945  \n",
       "2014-10-03 00:00:00-03:00   8.357170   2.163050  5.329618  \n",
       "2014-10-06 00:00:00-03:00   8.783692   2.270787  5.337410  \n",
       "...                              ...        ...       ...  \n",
       "2024-09-20 00:00:00-03:00  20.730000  10.350000  5.880000  \n",
       "2024-09-23 00:00:00-03:00  20.190001  10.020000  5.600000  \n",
       "2024-09-24 00:00:00-03:00  20.450001  10.190000  6.030000  \n",
       "2024-09-25 00:00:00-03:00  20.450001  10.000000  6.040000  \n",
       "2024-09-26 00:00:00-03:00  20.870001   9.800000  6.380000  \n",
       "\n",
       "[2487 rows x 48 columns]"
      ]
     },
     "execution_count": 18,
     "metadata": {},
     "output_type": "execute_result"
    }
   ],
   "source": [
    "daily_data = stock_data.copy()\n",
    "daily_data"
   ]
  },
  {
   "cell_type": "code",
   "execution_count": 19,
   "metadata": {
    "colab": {
     "base_uri": "https://localhost:8080/",
     "height": 455
    },
    "executionInfo": {
     "elapsed": 334,
     "status": "ok",
     "timestamp": 1694458192317,
     "user": {
      "displayName": "Hugo",
      "userId": "11126641400007389172"
     },
     "user_tz": 180
    },
    "id": "ea2HGhP1REZN",
    "outputId": "2e457c54-7f85-4682-8502-6ef255f65866"
   },
   "outputs": [],
   "source": [
    "def resample_data(data, period):\n",
    "    if period == 'D':\n",
    "        return data\n",
    "    elif period == 'W':\n",
    "        return data.resample('W').last()\n",
    "    elif period == 'M':\n",
    "        return data.resample('M').last()\n",
    "\n",
    "\n",
    "def momentum_strategy(data, initial_amount, top_n, tax_rate = 0.15 , period='M'):\n",
    "    data = resample_data(data, period)\n",
    "    log_returns = np.log(data / data.shift(1))\n",
    "    simulation_details = pd.DataFrame(index=log_returns.index,\n",
    "                                      columns=['Portfolio', 'Profit Before Tax', 'Tax', 'Portfolio Value'])\n",
    "    cash = initial_amount\n",
    "\n",
    "    # strategy\n",
    "    for i in range(0, len(log_returns) - 1):\n",
    "        # top n momentum \n",
    "        top_stocks = log_returns.iloc[i].sort_values(ascending=False).head(top_n)\n",
    "        top_stocks = top_stocks[top_stocks > 0]\n",
    "\n",
    "        if not top_stocks.empty:\n",
    "            simulation_details.loc[log_returns.index[i + 1], 'Portfolio'] = json.dumps(top_stocks.index.tolist())\n",
    "            num_stocks = len(top_stocks)\n",
    "            allocation_per_stock = cash / num_stocks\n",
    "            # Calculo do valor do novo portfólio com base nos retornos do dia seguinte\n",
    "            new_value = sum(allocation_per_stock * np.exp(log_returns.loc[log_returns.index[i + 1], stock]) for stock in top_stocks.index)\n",
    "            #  Calcular e deduzir o imposto se houver lucro\n",
    "            profit = new_value - cash\n",
    "            simulation_details.loc[log_returns.index[i + 1], 'Profit Before Tax'] = round(profit, 2)\n",
    "\n",
    "            if profit > 0:\n",
    "                tax = profit * tax_rate\n",
    "                new_value -= tax\n",
    "                simulation_details.loc[log_returns.index[i + 1], 'Tax'] = round(tax, 2)\n",
    "            simulation_details.loc[log_returns.index[i + 1], 'Portfolio Value'] = round(new_value, 2)\n",
    "\n",
    "        else:\n",
    "            ## Sem alocação, então o valor do portfólio permanece o mesmo\n",
    "            simulation_details.loc[log_returns.index[i + 1], 'Portfolio Value'] = cash\n",
    "        # Atualizar valor em dinheiro para a próxima rodada\n",
    "        cash = simulation_details.loc[log_returns.index[i + 1], 'Portfolio Value']\n",
    "    # Atribuir o valor inicial à primeira linha\n",
    "    simulation_details.loc[log_returns.index[0], 'Portfolio Value'] = initial_amount\n",
    "    return simulation_details"
   ]
  },
  {
   "cell_type": "code",
   "execution_count": 20,
   "metadata": {},
   "outputs": [
    {
     "data": {
      "text/html": [
       "<div>\n",
       "<style scoped>\n",
       "    .dataframe tbody tr th:only-of-type {\n",
       "        vertical-align: middle;\n",
       "    }\n",
       "\n",
       "    .dataframe tbody tr th {\n",
       "        vertical-align: top;\n",
       "    }\n",
       "\n",
       "    .dataframe thead th {\n",
       "        text-align: right;\n",
       "    }\n",
       "</style>\n",
       "<table border=\"1\" class=\"dataframe\">\n",
       "  <thead>\n",
       "    <tr style=\"text-align: right;\">\n",
       "      <th></th>\n",
       "      <th>Portfolio</th>\n",
       "      <th>Profit Before Tax</th>\n",
       "      <th>Tax</th>\n",
       "      <th>Portfolio Value</th>\n",
       "    </tr>\n",
       "    <tr>\n",
       "      <th>Date</th>\n",
       "      <th></th>\n",
       "      <th></th>\n",
       "      <th></th>\n",
       "      <th></th>\n",
       "    </tr>\n",
       "  </thead>\n",
       "  <tbody>\n",
       "    <tr>\n",
       "      <th>2014-09-30 00:00:00-03:00</th>\n",
       "      <td>NaN</td>\n",
       "      <td>NaN</td>\n",
       "      <td>NaN</td>\n",
       "      <td>10000</td>\n",
       "    </tr>\n",
       "    <tr>\n",
       "      <th>2014-10-31 00:00:00-02:00</th>\n",
       "      <td>NaN</td>\n",
       "      <td>NaN</td>\n",
       "      <td>NaN</td>\n",
       "      <td>10000</td>\n",
       "    </tr>\n",
       "    <tr>\n",
       "      <th>2014-11-30 00:00:00-02:00</th>\n",
       "      <td>[\"JBSS3\", \"BRFS3\", \"BBAS3\", \"MGLU3\", \"ITUB4\"]</td>\n",
       "      <td>391.37</td>\n",
       "      <td>58.71</td>\n",
       "      <td>10332.67</td>\n",
       "    </tr>\n",
       "    <tr>\n",
       "      <th>2014-12-31 00:00:00-02:00</th>\n",
       "      <td>[\"KLBN11\", \"EQTL3\", \"RADL3\", \"JBSS3\", \"BBAS3\"]</td>\n",
       "      <td>-376.06</td>\n",
       "      <td>NaN</td>\n",
       "      <td>9956.61</td>\n",
       "    </tr>\n",
       "    <tr>\n",
       "      <th>2015-01-31 00:00:00-02:00</th>\n",
       "      <td>[\"ENGI11\", \"RADL3\", \"EMBR3\", \"KLBN11\", \"CPLE6\"]</td>\n",
       "      <td>-781.01</td>\n",
       "      <td>NaN</td>\n",
       "      <td>9175.6</td>\n",
       "    </tr>\n",
       "    <tr>\n",
       "      <th>...</th>\n",
       "      <td>...</td>\n",
       "      <td>...</td>\n",
       "      <td>...</td>\n",
       "      <td>...</td>\n",
       "    </tr>\n",
       "    <tr>\n",
       "      <th>2024-05-31 00:00:00-03:00</th>\n",
       "      <td>[\"PETR3\", \"PETR4\", \"JBSS3\", \"VALE3\", \"CMIG4\"]</td>\n",
       "      <td>1202.79</td>\n",
       "      <td>180.42</td>\n",
       "      <td>36620.14</td>\n",
       "    </tr>\n",
       "    <tr>\n",
       "      <th>2024-06-30 00:00:00-03:00</th>\n",
       "      <td>[\"JBSS3\", \"BRFS3\", \"EMBR3\", \"HAPV3\", \"ALOS3\"]</td>\n",
       "      <td>2225.82</td>\n",
       "      <td>333.87</td>\n",
       "      <td>38512.08</td>\n",
       "    </tr>\n",
       "    <tr>\n",
       "      <th>2024-07-31 00:00:00-03:00</th>\n",
       "      <td>[\"BRFS3\", \"SUZB3\", \"WEGE3\", \"JBSS3\", \"HYPE3\"]</td>\n",
       "      <td>987.49</td>\n",
       "      <td>148.12</td>\n",
       "      <td>39351.45</td>\n",
       "    </tr>\n",
       "    <tr>\n",
       "      <th>2024-08-31 00:00:00-03:00</th>\n",
       "      <td>[\"EMBR3\", \"WEGE3\", \"SBSP3\", \"VBBR3\", \"ELET3\"]</td>\n",
       "      <td>2998.9</td>\n",
       "      <td>449.84</td>\n",
       "      <td>41900.52</td>\n",
       "    </tr>\n",
       "    <tr>\n",
       "      <th>2024-09-30 00:00:00-03:00</th>\n",
       "      <td>[\"LREN3\", \"BBDC4\", \"BRFS3\", \"B3SA3\", \"RDOR3\"]</td>\n",
       "      <td>-1781.46</td>\n",
       "      <td>NaN</td>\n",
       "      <td>40119.06</td>\n",
       "    </tr>\n",
       "  </tbody>\n",
       "</table>\n",
       "<p>121 rows × 4 columns</p>\n",
       "</div>"
      ],
      "text/plain": [
       "                                                                 Portfolio  \\\n",
       "Date                                                                         \n",
       "2014-09-30 00:00:00-03:00                                              NaN   \n",
       "2014-10-31 00:00:00-02:00                                              NaN   \n",
       "2014-11-30 00:00:00-02:00    [\"JBSS3\", \"BRFS3\", \"BBAS3\", \"MGLU3\", \"ITUB4\"]   \n",
       "2014-12-31 00:00:00-02:00   [\"KLBN11\", \"EQTL3\", \"RADL3\", \"JBSS3\", \"BBAS3\"]   \n",
       "2015-01-31 00:00:00-02:00  [\"ENGI11\", \"RADL3\", \"EMBR3\", \"KLBN11\", \"CPLE6\"]   \n",
       "...                                                                    ...   \n",
       "2024-05-31 00:00:00-03:00    [\"PETR3\", \"PETR4\", \"JBSS3\", \"VALE3\", \"CMIG4\"]   \n",
       "2024-06-30 00:00:00-03:00    [\"JBSS3\", \"BRFS3\", \"EMBR3\", \"HAPV3\", \"ALOS3\"]   \n",
       "2024-07-31 00:00:00-03:00    [\"BRFS3\", \"SUZB3\", \"WEGE3\", \"JBSS3\", \"HYPE3\"]   \n",
       "2024-08-31 00:00:00-03:00    [\"EMBR3\", \"WEGE3\", \"SBSP3\", \"VBBR3\", \"ELET3\"]   \n",
       "2024-09-30 00:00:00-03:00    [\"LREN3\", \"BBDC4\", \"BRFS3\", \"B3SA3\", \"RDOR3\"]   \n",
       "\n",
       "                          Profit Before Tax     Tax Portfolio Value  \n",
       "Date                                                                 \n",
       "2014-09-30 00:00:00-03:00               NaN     NaN           10000  \n",
       "2014-10-31 00:00:00-02:00               NaN     NaN           10000  \n",
       "2014-11-30 00:00:00-02:00            391.37   58.71        10332.67  \n",
       "2014-12-31 00:00:00-02:00           -376.06     NaN         9956.61  \n",
       "2015-01-31 00:00:00-02:00           -781.01     NaN          9175.6  \n",
       "...                                     ...     ...             ...  \n",
       "2024-05-31 00:00:00-03:00           1202.79  180.42        36620.14  \n",
       "2024-06-30 00:00:00-03:00           2225.82  333.87        38512.08  \n",
       "2024-07-31 00:00:00-03:00            987.49  148.12        39351.45  \n",
       "2024-08-31 00:00:00-03:00            2998.9  449.84        41900.52  \n",
       "2024-09-30 00:00:00-03:00          -1781.46     NaN        40119.06  \n",
       "\n",
       "[121 rows x 4 columns]"
      ]
     },
     "execution_count": 20,
     "metadata": {},
     "output_type": "execute_result"
    }
   ],
   "source": [
    "initial_amount = 10000\n",
    "top_n = 5\n",
    "frequency='M'\n",
    "tax_rate=.15\n",
    "rf = 0.11\n",
    "bench_annual_rate = 0.06\n",
    "\n",
    "simulation_details = momentum_strategy(daily_data, initial_amount, top_n,tax_rate,frequency)\n",
    "simulation_details"
   ]
  },
  {
   "cell_type": "code",
   "execution_count": 21,
   "metadata": {
    "colab": {
     "base_uri": "https://localhost:8080/",
     "height": 455
    },
    "executionInfo": {
     "elapsed": 12,
     "status": "ok",
     "timestamp": 1694458192318,
     "user": {
      "displayName": "Hugo",
      "userId": "11126641400007389172"
     },
     "user_tz": 180
    },
    "id": "wvmfXlyySl-V",
    "outputId": "491ce980-6a9a-41c7-e6f2-f31b3b6b9586"
   },
   "outputs": [
    {
     "data": {
      "text/html": [
       "<div>\n",
       "<style scoped>\n",
       "    .dataframe tbody tr th:only-of-type {\n",
       "        vertical-align: middle;\n",
       "    }\n",
       "\n",
       "    .dataframe tbody tr th {\n",
       "        vertical-align: top;\n",
       "    }\n",
       "\n",
       "    .dataframe thead th {\n",
       "        text-align: right;\n",
       "    }\n",
       "</style>\n",
       "<table border=\"1\" class=\"dataframe\">\n",
       "  <thead>\n",
       "    <tr style=\"text-align: right;\">\n",
       "      <th></th>\n",
       "      <th>VALE3</th>\n",
       "      <th>ITUB4</th>\n",
       "      <th>PETR4</th>\n",
       "      <th>PETR3</th>\n",
       "      <th>WEGE3</th>\n",
       "      <th>ELET3</th>\n",
       "      <th>BBAS3</th>\n",
       "      <th>BBDC4</th>\n",
       "      <th>SBSP3</th>\n",
       "      <th>B3SA3</th>\n",
       "      <th>...</th>\n",
       "      <th>HYPE3</th>\n",
       "      <th>BRAV3</th>\n",
       "      <th>CSNA3</th>\n",
       "      <th>MULT3</th>\n",
       "      <th>AZZA3</th>\n",
       "      <th>CYRE3</th>\n",
       "      <th>MGLU3</th>\n",
       "      <th>USIM5</th>\n",
       "      <th>Portfolio Value</th>\n",
       "      <th>Baseline</th>\n",
       "    </tr>\n",
       "    <tr>\n",
       "      <th>Date</th>\n",
       "      <th></th>\n",
       "      <th></th>\n",
       "      <th></th>\n",
       "      <th></th>\n",
       "      <th></th>\n",
       "      <th></th>\n",
       "      <th></th>\n",
       "      <th></th>\n",
       "      <th></th>\n",
       "      <th></th>\n",
       "      <th></th>\n",
       "      <th></th>\n",
       "      <th></th>\n",
       "      <th></th>\n",
       "      <th></th>\n",
       "      <th></th>\n",
       "      <th></th>\n",
       "      <th></th>\n",
       "      <th></th>\n",
       "      <th></th>\n",
       "      <th></th>\n",
       "    </tr>\n",
       "  </thead>\n",
       "  <tbody>\n",
       "    <tr>\n",
       "      <th>2014-09-30 00:00:00-03:00</th>\n",
       "      <td>10000</td>\n",
       "      <td>10000</td>\n",
       "      <td>10000</td>\n",
       "      <td>10000</td>\n",
       "      <td>10000</td>\n",
       "      <td>10000</td>\n",
       "      <td>10000</td>\n",
       "      <td>10000</td>\n",
       "      <td>10000</td>\n",
       "      <td>10000</td>\n",
       "      <td>...</td>\n",
       "      <td>10000</td>\n",
       "      <td>10000</td>\n",
       "      <td>10000</td>\n",
       "      <td>10000</td>\n",
       "      <td>10000</td>\n",
       "      <td>10000</td>\n",
       "      <td>10000</td>\n",
       "      <td>10000</td>\n",
       "      <td>10000</td>\n",
       "      <td>10000</td>\n",
       "    </tr>\n",
       "    <tr>\n",
       "      <th>2014-10-31 00:00:00-02:00</th>\n",
       "      <td>9660</td>\n",
       "      <td>10855</td>\n",
       "      <td>8446</td>\n",
       "      <td>8492</td>\n",
       "      <td>10231</td>\n",
       "      <td>9481</td>\n",
       "      <td>10960</td>\n",
       "      <td>10718</td>\n",
       "      <td>9802</td>\n",
       "      <td>9740</td>\n",
       "      <td>...</td>\n",
       "      <td>9846</td>\n",
       "      <td>0</td>\n",
       "      <td>9482</td>\n",
       "      <td>10225</td>\n",
       "      <td>9828</td>\n",
       "      <td>9975</td>\n",
       "      <td>10883</td>\n",
       "      <td>8948</td>\n",
       "      <td>10000</td>\n",
       "      <td>10059</td>\n",
       "    </tr>\n",
       "    <tr>\n",
       "      <th>2014-11-30 00:00:00-02:00</th>\n",
       "      <td>8999</td>\n",
       "      <td>11442</td>\n",
       "      <td>7097</td>\n",
       "      <td>7060</td>\n",
       "      <td>10665</td>\n",
       "      <td>9161</td>\n",
       "      <td>11765</td>\n",
       "      <td>11388</td>\n",
       "      <td>9752</td>\n",
       "      <td>9513</td>\n",
       "      <td>...</td>\n",
       "      <td>9948</td>\n",
       "      <td>0</td>\n",
       "      <td>6954</td>\n",
       "      <td>10371</td>\n",
       "      <td>9859</td>\n",
       "      <td>10161</td>\n",
       "      <td>10488</td>\n",
       "      <td>8241</td>\n",
       "      <td>10332</td>\n",
       "      <td>10031</td>\n",
       "    </tr>\n",
       "    <tr>\n",
       "      <th>2014-12-31 00:00:00-02:00</th>\n",
       "      <td>8466</td>\n",
       "      <td>10234</td>\n",
       "      <td>5544</td>\n",
       "      <td>5559</td>\n",
       "      <td>10702</td>\n",
       "      <td>8841</td>\n",
       "      <td>9546</td>\n",
       "      <td>10266</td>\n",
       "      <td>8599</td>\n",
       "      <td>8890</td>\n",
       "      <td>...</td>\n",
       "      <td>9607</td>\n",
       "      <td>0</td>\n",
       "      <td>6494</td>\n",
       "      <td>9553</td>\n",
       "      <td>9275</td>\n",
       "      <td>8955</td>\n",
       "      <td>10171</td>\n",
       "      <td>7927</td>\n",
       "      <td>9956</td>\n",
       "      <td>9451</td>\n",
       "    </tr>\n",
       "    <tr>\n",
       "      <th>2015-01-31 00:00:00-02:00</th>\n",
       "      <td>7191</td>\n",
       "      <td>9735</td>\n",
       "      <td>4588</td>\n",
       "      <td>4660</td>\n",
       "      <td>11257</td>\n",
       "      <td>7820</td>\n",
       "      <td>8297</td>\n",
       "      <td>9882</td>\n",
       "      <td>6723</td>\n",
       "      <td>8311</td>\n",
       "      <td>...</td>\n",
       "      <td>10352</td>\n",
       "      <td>0</td>\n",
       "      <td>5006</td>\n",
       "      <td>9686</td>\n",
       "      <td>8064</td>\n",
       "      <td>8753</td>\n",
       "      <td>9068</td>\n",
       "      <td>5259</td>\n",
       "      <td>9175</td>\n",
       "      <td>8900</td>\n",
       "    </tr>\n",
       "    <tr>\n",
       "      <th>...</th>\n",
       "      <td>...</td>\n",
       "      <td>...</td>\n",
       "      <td>...</td>\n",
       "      <td>...</td>\n",
       "      <td>...</td>\n",
       "      <td>...</td>\n",
       "      <td>...</td>\n",
       "      <td>...</td>\n",
       "      <td>...</td>\n",
       "      <td>...</td>\n",
       "      <td>...</td>\n",
       "      <td>...</td>\n",
       "      <td>...</td>\n",
       "      <td>...</td>\n",
       "      <td>...</td>\n",
       "      <td>...</td>\n",
       "      <td>...</td>\n",
       "      <td>...</td>\n",
       "      <td>...</td>\n",
       "      <td>...</td>\n",
       "      <td>...</td>\n",
       "    </tr>\n",
       "    <tr>\n",
       "      <th>2024-05-31 00:00:00-03:00</th>\n",
       "      <td>43090</td>\n",
       "      <td>25505</td>\n",
       "      <td>63154</td>\n",
       "      <td>66096</td>\n",
       "      <td>80709</td>\n",
       "      <td>63396</td>\n",
       "      <td>38163</td>\n",
       "      <td>14678</td>\n",
       "      <td>46967</td>\n",
       "      <td>41488</td>\n",
       "      <td>...</td>\n",
       "      <td>20460</td>\n",
       "      <td>0</td>\n",
       "      <td>24511</td>\n",
       "      <td>17139</td>\n",
       "      <td>21576</td>\n",
       "      <td>23218</td>\n",
       "      <td>59169</td>\n",
       "      <td>15251</td>\n",
       "      <td>36620</td>\n",
       "      <td>39455</td>\n",
       "    </tr>\n",
       "    <tr>\n",
       "      <th>2024-06-30 00:00:00-03:00</th>\n",
       "      <td>42422</td>\n",
       "      <td>26866</td>\n",
       "      <td>63715</td>\n",
       "      <td>67366</td>\n",
       "      <td>90682</td>\n",
       "      <td>65327</td>\n",
       "      <td>38517</td>\n",
       "      <td>14814</td>\n",
       "      <td>47672</td>\n",
       "      <td>40029</td>\n",
       "      <td>...</td>\n",
       "      <td>21701</td>\n",
       "      <td>0</td>\n",
       "      <td>24192</td>\n",
       "      <td>17193</td>\n",
       "      <td>22428</td>\n",
       "      <td>22902</td>\n",
       "      <td>57545</td>\n",
       "      <td>15936</td>\n",
       "      <td>38512</td>\n",
       "      <td>40575</td>\n",
       "    </tr>\n",
       "    <tr>\n",
       "      <th>2024-07-31 00:00:00-03:00</th>\n",
       "      <td>42020</td>\n",
       "      <td>28100</td>\n",
       "      <td>62643</td>\n",
       "      <td>67733</td>\n",
       "      <td>109049</td>\n",
       "      <td>72106</td>\n",
       "      <td>38286</td>\n",
       "      <td>14897</td>\n",
       "      <td>56111</td>\n",
       "      <td>42414</td>\n",
       "      <td>...</td>\n",
       "      <td>21853</td>\n",
       "      <td>0</td>\n",
       "      <td>22225</td>\n",
       "      <td>18276</td>\n",
       "      <td>21465</td>\n",
       "      <td>23680</td>\n",
       "      <td>52865</td>\n",
       "      <td>12531</td>\n",
       "      <td>39351</td>\n",
       "      <td>42764</td>\n",
       "    </tr>\n",
       "    <tr>\n",
       "      <th>2024-08-31 00:00:00-03:00</th>\n",
       "      <td>42106</td>\n",
       "      <td>30454</td>\n",
       "      <td>67801</td>\n",
       "      <td>73538</td>\n",
       "      <td>117002</td>\n",
       "      <td>76079</td>\n",
       "      <td>41220</td>\n",
       "      <td>18773</td>\n",
       "      <td>60238</td>\n",
       "      <td>49567</td>\n",
       "      <td>...</td>\n",
       "      <td>21655</td>\n",
       "      <td>0</td>\n",
       "      <td>22225</td>\n",
       "      <td>19558</td>\n",
       "      <td>21619</td>\n",
       "      <td>26510</td>\n",
       "      <td>58071</td>\n",
       "      <td>12551</td>\n",
       "      <td>41900</td>\n",
       "      <td>44639</td>\n",
       "    </tr>\n",
       "    <tr>\n",
       "      <th>2024-09-30 00:00:00-03:00</th>\n",
       "      <td>45406</td>\n",
       "      <td>30631</td>\n",
       "      <td>62428</td>\n",
       "      <td>67955</td>\n",
       "      <td>121107</td>\n",
       "      <td>72398</td>\n",
       "      <td>40546</td>\n",
       "      <td>17798</td>\n",
       "      <td>58088</td>\n",
       "      <td>42777</td>\n",
       "      <td>...</td>\n",
       "      <td>20070</td>\n",
       "      <td>0</td>\n",
       "      <td>24867</td>\n",
       "      <td>19588</td>\n",
       "      <td>18716</td>\n",
       "      <td>25356</td>\n",
       "      <td>46800</td>\n",
       "      <td>12854</td>\n",
       "      <td>40119</td>\n",
       "      <td>42602</td>\n",
       "    </tr>\n",
       "  </tbody>\n",
       "</table>\n",
       "<p>121 rows × 50 columns</p>\n",
       "</div>"
      ],
      "text/plain": [
       "                           VALE3  ITUB4  PETR4  PETR3   WEGE3  ELET3  BBAS3  \\\n",
       "Date                                                                          \n",
       "2014-09-30 00:00:00-03:00  10000  10000  10000  10000   10000  10000  10000   \n",
       "2014-10-31 00:00:00-02:00   9660  10855   8446   8492   10231   9481  10960   \n",
       "2014-11-30 00:00:00-02:00   8999  11442   7097   7060   10665   9161  11765   \n",
       "2014-12-31 00:00:00-02:00   8466  10234   5544   5559   10702   8841   9546   \n",
       "2015-01-31 00:00:00-02:00   7191   9735   4588   4660   11257   7820   8297   \n",
       "...                          ...    ...    ...    ...     ...    ...    ...   \n",
       "2024-05-31 00:00:00-03:00  43090  25505  63154  66096   80709  63396  38163   \n",
       "2024-06-30 00:00:00-03:00  42422  26866  63715  67366   90682  65327  38517   \n",
       "2024-07-31 00:00:00-03:00  42020  28100  62643  67733  109049  72106  38286   \n",
       "2024-08-31 00:00:00-03:00  42106  30454  67801  73538  117002  76079  41220   \n",
       "2024-09-30 00:00:00-03:00  45406  30631  62428  67955  121107  72398  40546   \n",
       "\n",
       "                           BBDC4  SBSP3  B3SA3  ...  HYPE3  BRAV3  CSNA3  \\\n",
       "Date                                            ...                        \n",
       "2014-09-30 00:00:00-03:00  10000  10000  10000  ...  10000  10000  10000   \n",
       "2014-10-31 00:00:00-02:00  10718   9802   9740  ...   9846      0   9482   \n",
       "2014-11-30 00:00:00-02:00  11388   9752   9513  ...   9948      0   6954   \n",
       "2014-12-31 00:00:00-02:00  10266   8599   8890  ...   9607      0   6494   \n",
       "2015-01-31 00:00:00-02:00   9882   6723   8311  ...  10352      0   5006   \n",
       "...                          ...    ...    ...  ...    ...    ...    ...   \n",
       "2024-05-31 00:00:00-03:00  14678  46967  41488  ...  20460      0  24511   \n",
       "2024-06-30 00:00:00-03:00  14814  47672  40029  ...  21701      0  24192   \n",
       "2024-07-31 00:00:00-03:00  14897  56111  42414  ...  21853      0  22225   \n",
       "2024-08-31 00:00:00-03:00  18773  60238  49567  ...  21655      0  22225   \n",
       "2024-09-30 00:00:00-03:00  17798  58088  42777  ...  20070      0  24867   \n",
       "\n",
       "                           MULT3  AZZA3  CYRE3  MGLU3  USIM5  Portfolio Value  \\\n",
       "Date                                                                            \n",
       "2014-09-30 00:00:00-03:00  10000  10000  10000  10000  10000            10000   \n",
       "2014-10-31 00:00:00-02:00  10225   9828   9975  10883   8948            10000   \n",
       "2014-11-30 00:00:00-02:00  10371   9859  10161  10488   8241            10332   \n",
       "2014-12-31 00:00:00-02:00   9553   9275   8955  10171   7927             9956   \n",
       "2015-01-31 00:00:00-02:00   9686   8064   8753   9068   5259             9175   \n",
       "...                          ...    ...    ...    ...    ...              ...   \n",
       "2024-05-31 00:00:00-03:00  17139  21576  23218  59169  15251            36620   \n",
       "2024-06-30 00:00:00-03:00  17193  22428  22902  57545  15936            38512   \n",
       "2024-07-31 00:00:00-03:00  18276  21465  23680  52865  12531            39351   \n",
       "2024-08-31 00:00:00-03:00  19558  21619  26510  58071  12551            41900   \n",
       "2024-09-30 00:00:00-03:00  19588  18716  25356  46800  12854            40119   \n",
       "\n",
       "                           Baseline  \n",
       "Date                                 \n",
       "2014-09-30 00:00:00-03:00     10000  \n",
       "2014-10-31 00:00:00-02:00     10059  \n",
       "2014-11-30 00:00:00-02:00     10031  \n",
       "2014-12-31 00:00:00-02:00      9451  \n",
       "2015-01-31 00:00:00-02:00      8900  \n",
       "...                             ...  \n",
       "2024-05-31 00:00:00-03:00     39455  \n",
       "2024-06-30 00:00:00-03:00     40575  \n",
       "2024-07-31 00:00:00-03:00     42764  \n",
       "2024-08-31 00:00:00-03:00     44639  \n",
       "2024-09-30 00:00:00-03:00     42602  \n",
       "\n",
       "[121 rows x 50 columns]"
      ]
     },
     "execution_count": 21,
     "metadata": {},
     "output_type": "execute_result"
    }
   ],
   "source": [
    "# Simula o desempenho de cada ação individual no mesmo período\n",
    "def track_individual_investments(data, initial_amount, simulation_details, period='W'):\n",
    "    # Reamostrar dados com base no período especificado e calcular retornos \n",
    "    data = resample_data(data, period)\n",
    "    returns = data.pct_change()\n",
    "    # armazenar valores de ações individuais ao longo do tempo\n",
    "    individual = pd.DataFrame(index=data.index, columns=data.columns)\n",
    "    for stock in data.columns:\n",
    "        # Simular um investimento em cada ação\n",
    "        individual[stock] = (1 + returns[stock]).cumprod() * initial_amount\n",
    "    # Incluir o Valor do Portfólio da estratégia de momentum\n",
    "    individual['Portfolio Value'] = simulation_details['Portfolio Value']\n",
    "    individual['Baseline'] = individual.iloc[:, :-1].T.mean()\n",
    "    # Ajustar os primeiros valores para corresponder ao Valor Inicial.\n",
    "    individual.iloc[0, :] = initial_amount\n",
    "    return individual.fillna(0).astype(int)\n",
    "\n",
    "individual_investments_df = track_individual_investments(daily_data, initial_amount, simulation_details, frequency)\n",
    "\n",
    "individual_investments_df"
   ]
  },
  {
   "cell_type": "code",
   "execution_count": 22,
   "metadata": {
    "id": "MtSuikszgGTB"
   },
   "outputs": [],
   "source": [
    "from scipy.stats import ttest_1samp\n",
    "\n",
    "def sharpe_ratio(returns, annual_risk_free_rate=0.11, frequency='D'):\n",
    "    if frequency == 'D':\n",
    "        adjusted_rfr = (1 + annual_risk_free_rate) ** (1/252) - 1\n",
    "    elif frequency == 'W':\n",
    "        adjusted_rfr = (1 + annual_risk_free_rate) ** (1/52) - 1\n",
    "    elif frequency == 'M':\n",
    "        adjusted_rfr = (1 + annual_risk_free_rate) ** (1/12) - 1\n",
    "\n",
    "    return (returns - adjusted_rfr).mean() / (returns - adjusted_rfr).std()\n",
    "\n",
    "def t_test_portfolio_returns(portfolio_returns, bench_annual_rate=0.1, frequency='D'):\n",
    "    '''\n",
    "    realiza um teste t de Student de uma amostra para verificar se os retornos médios de portfólio \n",
    "    são significativamente diferentes de uma taxa de referência anual ajustada\n",
    "\n",
    "    Args:\n",
    "    portfolio_returns:  Série de retornos do portfólio (diários, semanais, mensais, etc.) do portfólio.\n",
    "    bench_annual_rate:  A taxa de referência anual contra a qual se deseja comparar os retornos do portfólio. \n",
    "                        Por padrão, é 0.1 (ou seja, 10% ao ano).\n",
    "    frequency: Frequência dos retornos fornecidos em portfolio_returns. \n",
    "\n",
    "    Returns: \n",
    "    Retorna uma tupla (t_stat, p_value) contendo a estatística t e o valor p do teste. Se o valor p for pequeno, \n",
    "    rejeita-se a hipótese nula de que os retornos do portfólio não diferem significativamente da taxa de referência ajustada.\n",
    "    '''\n",
    "\n",
    "\n",
    "    if frequency == 'D':\n",
    "        adjusted_rfr = (1 + bench_annual_rate) ** (1/252) - 1\n",
    "    elif frequency == 'W':\n",
    "        adjusted_rfr = (1 + bench_annual_rate) ** (1/52) - 1\n",
    "    elif frequency == 'M':\n",
    "        adjusted_rfr = (1 + bench_annual_rate) ** (1/12) - 1\n",
    "\n",
    "    # compara a média dos retornos do portfólio com a adjusted_rfr para verificar se a diferença entre eles é estatisticamente significativa.\n",
    "    t_stat, p_value = ttest_1samp(portfolio_returns[1:], adjusted_rfr) \n",
    "    return t_stat, p_value\n",
    "\n",
    "def performance_metrics(dataframe, initial_amount, bench_annual_rate, frequency='D'):\n",
    "    final_values = dataframe.iloc[-1]\n",
    "    relative_values = final_values / initial_amount - 1 \n",
    "\n",
    "    returns = dataframe.pct_change()\n",
    "\n",
    "    if frequency == 'D':\n",
    "        annualization_factor = 252\n",
    "    elif frequency == 'W':\n",
    "        annualization_factor = 52\n",
    "    elif frequency == 'M':\n",
    "        annualization_factor = 12\n",
    "\n",
    "    # Anualização\n",
    "    mean_returns = (1 + returns.mean()) ** annualization_factor - 1\n",
    "    sharpes = returns.apply(sharpe_ratio, annual_risk_free_rate= rf, frequency=frequency)\n",
    "\n",
    "    # Testa se os retornos da carteira são consistentes\n",
    "    portfolio_returns = dataframe['Portfolio Value'].pct_change()\n",
    "    t_stat, p_value = t_test_portfolio_returns(portfolio_returns, bench_annual_rate, frequency=frequency)\n",
    "\n",
    "    return final_values, relative_values, mean_returns, sharpes, t_stat, p_value / 2\n",
    "\n"
   ]
  },
  {
   "cell_type": "code",
   "execution_count": 23,
   "metadata": {},
   "outputs": [
    {
     "name": "stderr",
     "output_type": "stream",
     "text": [
      "/home/yair/bin/miniconda3/lib/python3.11/site-packages/pandas/core/nanops.py:1010: RuntimeWarning:\n",
      "\n",
      "invalid value encountered in subtract\n",
      "\n"
     ]
    }
   ],
   "source": [
    "final_values, relative_values, mean_returns, sharpes, t_stat, p_value = performance_metrics(individual_investments_df, initial_amount, bench_annual_rate, frequency)"
   ]
  },
  {
   "cell_type": "code",
   "execution_count": 24,
   "metadata": {},
   "outputs": [
    {
     "data": {
      "text/plain": [
       "Date\n",
       "2014-09-30    10000.000000\n",
       "2014-10-31    10064.589695\n",
       "2014-11-30    10096.884905\n",
       "2014-12-31     9221.124901\n",
       "2015-01-31     8664.513894\n",
       "                  ...     \n",
       "2024-05-31    22541.794270\n",
       "2024-06-30    22868.540777\n",
       "2024-07-31    23563.830234\n",
       "2024-08-31    25189.971056\n",
       "2024-09-30    24568.769630\n",
       "Freq: M, Name: Close, Length: 121, dtype: float64"
      ]
     },
     "execution_count": 24,
     "metadata": {},
     "output_type": "execute_result"
    }
   ],
   "source": [
    "bench = yf.download(\"BOVA11.SA\", start=start_date , end=end_date , auto_adjust=True , progress=False)['Close']\n",
    "bench = (bench/bench.iloc[0])*initial_amount\n",
    "bench= resample_data(bench,frequency)\n",
    "bench"
   ]
  },
  {
   "cell_type": "code",
   "execution_count": 33,
   "metadata": {},
   "outputs": [
    {
     "data": {
      "text/plain": [
       "0.009727689290010229"
      ]
     },
     "execution_count": 33,
     "metadata": {},
     "output_type": "execute_result"
    }
   ],
   "source": [
    "bench.pct_change().dropna().mean()"
   ]
  },
  {
   "cell_type": "code",
   "execution_count": 27,
   "metadata": {},
   "outputs": [
    {
     "data": {
      "application/vnd.plotly.v1+json": {
       "config": {
        "plotlyServerURL": "https://plot.ly"
       },
       "data": [
        {
         "line": {
          "color": "blue",
          "width": 2.5
         },
         "mode": "lines",
         "name": "Portfolio Value",
         "type": "scatter",
         "x": [
          "2014-09-30T00:00:00-03:00",
          "2014-10-31T00:00:00-02:00",
          "2014-11-30T00:00:00-02:00",
          "2014-12-31T00:00:00-02:00",
          "2015-01-31T00:00:00-02:00",
          "2015-02-28T00:00:00-03:00",
          "2015-03-31T00:00:00-03:00",
          "2015-04-30T00:00:00-03:00",
          "2015-05-31T00:00:00-03:00",
          "2015-06-30T00:00:00-03:00",
          "2015-07-31T00:00:00-03:00",
          "2015-08-31T00:00:00-03:00",
          "2015-09-30T00:00:00-03:00",
          "2015-10-31T00:00:00-02:00",
          "2015-11-30T00:00:00-02:00",
          "2015-12-31T00:00:00-02:00",
          "2016-01-31T00:00:00-02:00",
          "2016-02-29T00:00:00-03:00",
          "2016-03-31T00:00:00-03:00",
          "2016-04-30T00:00:00-03:00",
          "2016-05-31T00:00:00-03:00",
          "2016-06-30T00:00:00-03:00",
          "2016-07-31T00:00:00-03:00",
          "2016-08-31T00:00:00-03:00",
          "2016-09-30T00:00:00-03:00",
          "2016-10-31T00:00:00-02:00",
          "2016-11-30T00:00:00-02:00",
          "2016-12-31T00:00:00-02:00",
          "2017-01-31T00:00:00-02:00",
          "2017-02-28T00:00:00-03:00",
          "2017-03-31T00:00:00-03:00",
          "2017-04-30T00:00:00-03:00",
          "2017-05-31T00:00:00-03:00",
          "2017-06-30T00:00:00-03:00",
          "2017-07-31T00:00:00-03:00",
          "2017-08-31T00:00:00-03:00",
          "2017-09-30T00:00:00-03:00",
          "2017-10-31T00:00:00-02:00",
          "2017-11-30T00:00:00-02:00",
          "2017-12-31T00:00:00-02:00",
          "2018-01-31T00:00:00-02:00",
          "2018-02-28T00:00:00-03:00",
          "2018-03-31T00:00:00-03:00",
          "2018-04-30T00:00:00-03:00",
          "2018-05-31T00:00:00-03:00",
          "2018-06-30T00:00:00-03:00",
          "2018-07-31T00:00:00-03:00",
          "2018-08-31T00:00:00-03:00",
          "2018-09-30T00:00:00-03:00",
          "2018-10-31T00:00:00-03:00",
          "2018-11-30T00:00:00-02:00",
          "2018-12-31T00:00:00-02:00",
          "2019-01-31T00:00:00-02:00",
          "2019-02-28T00:00:00-03:00",
          "2019-03-31T00:00:00-03:00",
          "2019-04-30T00:00:00-03:00",
          "2019-05-31T00:00:00-03:00",
          "2019-06-30T00:00:00-03:00",
          "2019-07-31T00:00:00-03:00",
          "2019-08-31T00:00:00-03:00",
          "2019-09-30T00:00:00-03:00",
          "2019-10-31T00:00:00-03:00",
          "2019-11-30T00:00:00-03:00",
          "2019-12-31T00:00:00-03:00",
          "2020-01-31T00:00:00-03:00",
          "2020-02-29T00:00:00-03:00",
          "2020-03-31T00:00:00-03:00",
          "2020-04-30T00:00:00-03:00",
          "2020-05-31T00:00:00-03:00",
          "2020-06-30T00:00:00-03:00",
          "2020-07-31T00:00:00-03:00",
          "2020-08-31T00:00:00-03:00",
          "2020-09-30T00:00:00-03:00",
          "2020-10-31T00:00:00-03:00",
          "2020-11-30T00:00:00-03:00",
          "2020-12-31T00:00:00-03:00",
          "2021-01-31T00:00:00-03:00",
          "2021-02-28T00:00:00-03:00",
          "2021-03-31T00:00:00-03:00",
          "2021-04-30T00:00:00-03:00",
          "2021-05-31T00:00:00-03:00",
          "2021-06-30T00:00:00-03:00",
          "2021-07-31T00:00:00-03:00",
          "2021-08-31T00:00:00-03:00",
          "2021-09-30T00:00:00-03:00",
          "2021-10-31T00:00:00-03:00",
          "2021-11-30T00:00:00-03:00",
          "2021-12-31T00:00:00-03:00",
          "2022-01-31T00:00:00-03:00",
          "2022-02-28T00:00:00-03:00",
          "2022-03-31T00:00:00-03:00",
          "2022-04-30T00:00:00-03:00",
          "2022-05-31T00:00:00-03:00",
          "2022-06-30T00:00:00-03:00",
          "2022-07-31T00:00:00-03:00",
          "2022-08-31T00:00:00-03:00",
          "2022-09-30T00:00:00-03:00",
          "2022-10-31T00:00:00-03:00",
          "2022-11-30T00:00:00-03:00",
          "2022-12-31T00:00:00-03:00",
          "2023-01-31T00:00:00-03:00",
          "2023-02-28T00:00:00-03:00",
          "2023-03-31T00:00:00-03:00",
          "2023-04-30T00:00:00-03:00",
          "2023-05-31T00:00:00-03:00",
          "2023-06-30T00:00:00-03:00",
          "2023-07-31T00:00:00-03:00",
          "2023-08-31T00:00:00-03:00",
          "2023-09-30T00:00:00-03:00",
          "2023-10-31T00:00:00-03:00",
          "2023-11-30T00:00:00-03:00",
          "2023-12-31T00:00:00-03:00",
          "2024-01-31T00:00:00-03:00",
          "2024-02-29T00:00:00-03:00",
          "2024-03-31T00:00:00-03:00",
          "2024-04-30T00:00:00-03:00",
          "2024-05-31T00:00:00-03:00",
          "2024-06-30T00:00:00-03:00",
          "2024-07-31T00:00:00-03:00",
          "2024-08-31T00:00:00-03:00",
          "2024-09-30T00:00:00-03:00"
         ],
         "y": [
          10000,
          10000,
          10332,
          9956,
          9175,
          9595,
          10018,
          10440,
          9202,
          9659,
          9494,
          8836,
          8439,
          8613,
          8621,
          7679,
          5552,
          5850,
          8193,
          9522,
          7165,
          7437,
          10017,
          10423,
          10253,
          10688,
          11239,
          10117,
          10993,
          12355,
          12476,
          12721,
          13043,
          12604,
          13327,
          15723,
          16951,
          17709,
          16749,
          18416,
          19204,
          19554,
          18853,
          19801,
          19318,
          20109,
          19702,
          18288,
          18782,
          21318,
          22030,
          22117,
          25005,
          24578,
          27385,
          29560,
          30731,
          31537,
          34491,
          37015,
          37612,
          36116,
          37505,
          43402,
          47456,
          43215,
          32248,
          29620,
          32688,
          35018,
          40475,
          37788,
          36742,
          38573,
          40833,
          46104,
          43046,
          40993,
          43059,
          43386,
          43624,
          43971,
          41070,
          36460,
          35716,
          32771,
          32221,
          31984,
          31673,
          31260,
          33234,
          30339,
          30941,
          26909,
          27562,
          29878,
          28197,
          30439,
          29636,
          29070,
          31956,
          29240,
          27953,
          28552,
          29949,
          33064,
          34512,
          31835,
          32554,
          31147,
          37043,
          38940,
          37723,
          38348,
          37539,
          35597,
          36620,
          38512,
          39351,
          41900,
          40119
         ]
        },
        {
         "line": {
          "color": "red",
          "width": 2.5
         },
         "mode": "lines",
         "name": "Benchmark Value",
         "type": "scatter",
         "x": [
          "2014-09-30T00:00:00-03:00",
          "2014-10-31T00:00:00-02:00",
          "2014-11-30T00:00:00-02:00",
          "2014-12-31T00:00:00-02:00",
          "2015-01-31T00:00:00-02:00",
          "2015-02-28T00:00:00-03:00",
          "2015-03-31T00:00:00-03:00",
          "2015-04-30T00:00:00-03:00",
          "2015-05-31T00:00:00-03:00",
          "2015-06-30T00:00:00-03:00",
          "2015-07-31T00:00:00-03:00",
          "2015-08-31T00:00:00-03:00",
          "2015-09-30T00:00:00-03:00",
          "2015-10-31T00:00:00-02:00",
          "2015-11-30T00:00:00-02:00",
          "2015-12-31T00:00:00-02:00",
          "2016-01-31T00:00:00-02:00",
          "2016-02-29T00:00:00-03:00",
          "2016-03-31T00:00:00-03:00",
          "2016-04-30T00:00:00-03:00",
          "2016-05-31T00:00:00-03:00",
          "2016-06-30T00:00:00-03:00",
          "2016-07-31T00:00:00-03:00",
          "2016-08-31T00:00:00-03:00",
          "2016-09-30T00:00:00-03:00",
          "2016-10-31T00:00:00-02:00",
          "2016-11-30T00:00:00-02:00",
          "2016-12-31T00:00:00-02:00",
          "2017-01-31T00:00:00-02:00",
          "2017-02-28T00:00:00-03:00",
          "2017-03-31T00:00:00-03:00",
          "2017-04-30T00:00:00-03:00",
          "2017-05-31T00:00:00-03:00",
          "2017-06-30T00:00:00-03:00",
          "2017-07-31T00:00:00-03:00",
          "2017-08-31T00:00:00-03:00",
          "2017-09-30T00:00:00-03:00",
          "2017-10-31T00:00:00-02:00",
          "2017-11-30T00:00:00-02:00",
          "2017-12-31T00:00:00-02:00",
          "2018-01-31T00:00:00-02:00",
          "2018-02-28T00:00:00-03:00",
          "2018-03-31T00:00:00-03:00",
          "2018-04-30T00:00:00-03:00",
          "2018-05-31T00:00:00-03:00",
          "2018-06-30T00:00:00-03:00",
          "2018-07-31T00:00:00-03:00",
          "2018-08-31T00:00:00-03:00",
          "2018-09-30T00:00:00-03:00",
          "2018-10-31T00:00:00-03:00",
          "2018-11-30T00:00:00-02:00",
          "2018-12-31T00:00:00-02:00",
          "2019-01-31T00:00:00-02:00",
          "2019-02-28T00:00:00-03:00",
          "2019-03-31T00:00:00-03:00",
          "2019-04-30T00:00:00-03:00",
          "2019-05-31T00:00:00-03:00",
          "2019-06-30T00:00:00-03:00",
          "2019-07-31T00:00:00-03:00",
          "2019-08-31T00:00:00-03:00",
          "2019-09-30T00:00:00-03:00",
          "2019-10-31T00:00:00-03:00",
          "2019-11-30T00:00:00-03:00",
          "2019-12-31T00:00:00-03:00",
          "2020-01-31T00:00:00-03:00",
          "2020-02-29T00:00:00-03:00",
          "2020-03-31T00:00:00-03:00",
          "2020-04-30T00:00:00-03:00",
          "2020-05-31T00:00:00-03:00",
          "2020-06-30T00:00:00-03:00",
          "2020-07-31T00:00:00-03:00",
          "2020-08-31T00:00:00-03:00",
          "2020-09-30T00:00:00-03:00",
          "2020-10-31T00:00:00-03:00",
          "2020-11-30T00:00:00-03:00",
          "2020-12-31T00:00:00-03:00",
          "2021-01-31T00:00:00-03:00",
          "2021-02-28T00:00:00-03:00",
          "2021-03-31T00:00:00-03:00",
          "2021-04-30T00:00:00-03:00",
          "2021-05-31T00:00:00-03:00",
          "2021-06-30T00:00:00-03:00",
          "2021-07-31T00:00:00-03:00",
          "2021-08-31T00:00:00-03:00",
          "2021-09-30T00:00:00-03:00",
          "2021-10-31T00:00:00-03:00",
          "2021-11-30T00:00:00-03:00",
          "2021-12-31T00:00:00-03:00",
          "2022-01-31T00:00:00-03:00",
          "2022-02-28T00:00:00-03:00",
          "2022-03-31T00:00:00-03:00",
          "2022-04-30T00:00:00-03:00",
          "2022-05-31T00:00:00-03:00",
          "2022-06-30T00:00:00-03:00",
          "2022-07-31T00:00:00-03:00",
          "2022-08-31T00:00:00-03:00",
          "2022-09-30T00:00:00-03:00",
          "2022-10-31T00:00:00-03:00",
          "2022-11-30T00:00:00-03:00",
          "2022-12-31T00:00:00-03:00",
          "2023-01-31T00:00:00-03:00",
          "2023-02-28T00:00:00-03:00",
          "2023-03-31T00:00:00-03:00",
          "2023-04-30T00:00:00-03:00",
          "2023-05-31T00:00:00-03:00",
          "2023-06-30T00:00:00-03:00",
          "2023-07-31T00:00:00-03:00",
          "2023-08-31T00:00:00-03:00",
          "2023-09-30T00:00:00-03:00",
          "2023-10-31T00:00:00-03:00",
          "2023-11-30T00:00:00-03:00",
          "2023-12-31T00:00:00-03:00",
          "2024-01-31T00:00:00-03:00",
          "2024-02-29T00:00:00-03:00",
          "2024-03-31T00:00:00-03:00",
          "2024-04-30T00:00:00-03:00",
          "2024-05-31T00:00:00-03:00",
          "2024-06-30T00:00:00-03:00",
          "2024-07-31T00:00:00-03:00",
          "2024-08-31T00:00:00-03:00",
          "2024-09-30T00:00:00-03:00"
         ],
         "y": [
          10000,
          10064.589695389463,
          10096.884905422465,
          9221.124900900482,
          8664.513894223313,
          9500.379730507288,
          9403.495549761365,
          10376.13973502927,
          9754.939032962637,
          9775.835805688132,
          9378.799297933369,
          8613.22201335434,
          8250.380092845558,
          8434.65084359596,
          8301.671973714532,
          8003.4197485952145,
          7444.908640028523,
          7874.240357816289,
          9240.121571736456,
          9906.915298356578,
          8932.371011199151,
          9479.483682458334,
          10577.507779402664,
          10625.000181169135,
          10744.681236530076,
          11949.088574314854,
          11398.176423953168,
          11063.830234374887,
          11852.203668892389,
          12253.039655749655,
          11926.291699699837,
          12004.17920960979,
          11504.559664793618,
          11574.848216498565,
          12104.863594134758,
          12995.82151506675,
          13598.02482162087,
          13634.118061403293,
          13183.891020243114,
          14023.556335629592,
          15577.507779402664,
          15672.492582935607,
          15659.194768415118,
          15801.671973714532,
          14071.048737396064,
          13364.361567214473,
          14523.175880445762,
          14080.54779749059,
          14553.571713265785,
          15972.644909944447,
          16407.675484047693,
          16071.42846790335,
          17857.143064193297,
          17826.747231373276,
          17441.109160926022,
          17644.376582512396,
          17779.254829606805,
          18447.94865811645,
          18613.22273803088,
          18542.933461649394,
          19188.830415544024,
          19610.563175126783,
          19823.328207454604,
          21130.32003165387,
          20687.69049934562,
          19110.94218095753,
          13174.391960148589,
          14667.5531876347,
          15985.942724464934,
          17405.015921143597,
          18862.082459494206,
          18180.09081646407,
          17296.733303090165,
          17222.645272282716,
          19946.808741918045,
          21950.988676204375,
          21003.039293411384,
          20058.89011439744,
          21280.39474580521,
          21732.523338207993,
          23033.814856738696,
          23140.197372902603,
          22247.340799434176,
          21671.73312192103,
          20229.863050627355,
          18936.170490301654,
          18683.510565059285,
          19148.936971982555,
          20512.91880868974,
          20687.69049934562,
          21960.486286945823,
          19642.857660483245,
          20360.942543295798,
          18047.112671259183,
          18863.982561383724,
          20104.48386362747,
          20224.16419431187,
          21305.09172230975,
          20626.900283058654,
          20127.279288889404,
          20866.260944427457,
          19215.426044585,
          18710.106194100263,
          19167.933642818527,
          19916.412909098024,
          21688.829690867482,
          22406.91457368004,
          21335.486105776687,
          21495.061329375632,
          20824.46884832955,
          23474.544287157427,
          24770.136949372645,
          23546.732216075354,
          23793.69328500224,
          23618.921594346364,
          23248.479990956035,
          22541.794270127528,
          22868.540776824266,
          23563.830234374884,
          25189.971056418966,
          24568.769629675793
         ]
        }
       ],
       "layout": {
        "annotations": [
         {
          "align": "center",
          "font": {
           "color": "black",
           "size": 12
          },
          "showarrow": false,
          "text": "<b>T-test:</b> 1.30<br><b>P-value:</b> 0.09846",
          "x": 0.5,
          "xref": "paper",
          "y": -0.25,
          "yref": "paper"
         }
        ],
        "bargap": 0.05,
        "template": {
         "data": {
          "bar": [
           {
            "error_x": {
             "color": "#2a3f5f"
            },
            "error_y": {
             "color": "#2a3f5f"
            },
            "marker": {
             "line": {
              "color": "#E5ECF6",
              "width": 0.5
             },
             "pattern": {
              "fillmode": "overlay",
              "size": 10,
              "solidity": 0.2
             }
            },
            "type": "bar"
           }
          ],
          "barpolar": [
           {
            "marker": {
             "line": {
              "color": "#E5ECF6",
              "width": 0.5
             },
             "pattern": {
              "fillmode": "overlay",
              "size": 10,
              "solidity": 0.2
             }
            },
            "type": "barpolar"
           }
          ],
          "carpet": [
           {
            "aaxis": {
             "endlinecolor": "#2a3f5f",
             "gridcolor": "white",
             "linecolor": "white",
             "minorgridcolor": "white",
             "startlinecolor": "#2a3f5f"
            },
            "baxis": {
             "endlinecolor": "#2a3f5f",
             "gridcolor": "white",
             "linecolor": "white",
             "minorgridcolor": "white",
             "startlinecolor": "#2a3f5f"
            },
            "type": "carpet"
           }
          ],
          "choropleth": [
           {
            "colorbar": {
             "outlinewidth": 0,
             "ticks": ""
            },
            "type": "choropleth"
           }
          ],
          "contour": [
           {
            "colorbar": {
             "outlinewidth": 0,
             "ticks": ""
            },
            "colorscale": [
             [
              0,
              "#0d0887"
             ],
             [
              0.1111111111111111,
              "#46039f"
             ],
             [
              0.2222222222222222,
              "#7201a8"
             ],
             [
              0.3333333333333333,
              "#9c179e"
             ],
             [
              0.4444444444444444,
              "#bd3786"
             ],
             [
              0.5555555555555556,
              "#d8576b"
             ],
             [
              0.6666666666666666,
              "#ed7953"
             ],
             [
              0.7777777777777778,
              "#fb9f3a"
             ],
             [
              0.8888888888888888,
              "#fdca26"
             ],
             [
              1,
              "#f0f921"
             ]
            ],
            "type": "contour"
           }
          ],
          "contourcarpet": [
           {
            "colorbar": {
             "outlinewidth": 0,
             "ticks": ""
            },
            "type": "contourcarpet"
           }
          ],
          "heatmap": [
           {
            "colorbar": {
             "outlinewidth": 0,
             "ticks": ""
            },
            "colorscale": [
             [
              0,
              "#0d0887"
             ],
             [
              0.1111111111111111,
              "#46039f"
             ],
             [
              0.2222222222222222,
              "#7201a8"
             ],
             [
              0.3333333333333333,
              "#9c179e"
             ],
             [
              0.4444444444444444,
              "#bd3786"
             ],
             [
              0.5555555555555556,
              "#d8576b"
             ],
             [
              0.6666666666666666,
              "#ed7953"
             ],
             [
              0.7777777777777778,
              "#fb9f3a"
             ],
             [
              0.8888888888888888,
              "#fdca26"
             ],
             [
              1,
              "#f0f921"
             ]
            ],
            "type": "heatmap"
           }
          ],
          "heatmapgl": [
           {
            "colorbar": {
             "outlinewidth": 0,
             "ticks": ""
            },
            "colorscale": [
             [
              0,
              "#0d0887"
             ],
             [
              0.1111111111111111,
              "#46039f"
             ],
             [
              0.2222222222222222,
              "#7201a8"
             ],
             [
              0.3333333333333333,
              "#9c179e"
             ],
             [
              0.4444444444444444,
              "#bd3786"
             ],
             [
              0.5555555555555556,
              "#d8576b"
             ],
             [
              0.6666666666666666,
              "#ed7953"
             ],
             [
              0.7777777777777778,
              "#fb9f3a"
             ],
             [
              0.8888888888888888,
              "#fdca26"
             ],
             [
              1,
              "#f0f921"
             ]
            ],
            "type": "heatmapgl"
           }
          ],
          "histogram": [
           {
            "marker": {
             "pattern": {
              "fillmode": "overlay",
              "size": 10,
              "solidity": 0.2
             }
            },
            "type": "histogram"
           }
          ],
          "histogram2d": [
           {
            "colorbar": {
             "outlinewidth": 0,
             "ticks": ""
            },
            "colorscale": [
             [
              0,
              "#0d0887"
             ],
             [
              0.1111111111111111,
              "#46039f"
             ],
             [
              0.2222222222222222,
              "#7201a8"
             ],
             [
              0.3333333333333333,
              "#9c179e"
             ],
             [
              0.4444444444444444,
              "#bd3786"
             ],
             [
              0.5555555555555556,
              "#d8576b"
             ],
             [
              0.6666666666666666,
              "#ed7953"
             ],
             [
              0.7777777777777778,
              "#fb9f3a"
             ],
             [
              0.8888888888888888,
              "#fdca26"
             ],
             [
              1,
              "#f0f921"
             ]
            ],
            "type": "histogram2d"
           }
          ],
          "histogram2dcontour": [
           {
            "colorbar": {
             "outlinewidth": 0,
             "ticks": ""
            },
            "colorscale": [
             [
              0,
              "#0d0887"
             ],
             [
              0.1111111111111111,
              "#46039f"
             ],
             [
              0.2222222222222222,
              "#7201a8"
             ],
             [
              0.3333333333333333,
              "#9c179e"
             ],
             [
              0.4444444444444444,
              "#bd3786"
             ],
             [
              0.5555555555555556,
              "#d8576b"
             ],
             [
              0.6666666666666666,
              "#ed7953"
             ],
             [
              0.7777777777777778,
              "#fb9f3a"
             ],
             [
              0.8888888888888888,
              "#fdca26"
             ],
             [
              1,
              "#f0f921"
             ]
            ],
            "type": "histogram2dcontour"
           }
          ],
          "mesh3d": [
           {
            "colorbar": {
             "outlinewidth": 0,
             "ticks": ""
            },
            "type": "mesh3d"
           }
          ],
          "parcoords": [
           {
            "line": {
             "colorbar": {
              "outlinewidth": 0,
              "ticks": ""
             }
            },
            "type": "parcoords"
           }
          ],
          "pie": [
           {
            "automargin": true,
            "type": "pie"
           }
          ],
          "scatter": [
           {
            "fillpattern": {
             "fillmode": "overlay",
             "size": 10,
             "solidity": 0.2
            },
            "type": "scatter"
           }
          ],
          "scatter3d": [
           {
            "line": {
             "colorbar": {
              "outlinewidth": 0,
              "ticks": ""
             }
            },
            "marker": {
             "colorbar": {
              "outlinewidth": 0,
              "ticks": ""
             }
            },
            "type": "scatter3d"
           }
          ],
          "scattercarpet": [
           {
            "marker": {
             "colorbar": {
              "outlinewidth": 0,
              "ticks": ""
             }
            },
            "type": "scattercarpet"
           }
          ],
          "scattergeo": [
           {
            "marker": {
             "colorbar": {
              "outlinewidth": 0,
              "ticks": ""
             }
            },
            "type": "scattergeo"
           }
          ],
          "scattergl": [
           {
            "marker": {
             "colorbar": {
              "outlinewidth": 0,
              "ticks": ""
             }
            },
            "type": "scattergl"
           }
          ],
          "scattermapbox": [
           {
            "marker": {
             "colorbar": {
              "outlinewidth": 0,
              "ticks": ""
             }
            },
            "type": "scattermapbox"
           }
          ],
          "scatterpolar": [
           {
            "marker": {
             "colorbar": {
              "outlinewidth": 0,
              "ticks": ""
             }
            },
            "type": "scatterpolar"
           }
          ],
          "scatterpolargl": [
           {
            "marker": {
             "colorbar": {
              "outlinewidth": 0,
              "ticks": ""
             }
            },
            "type": "scatterpolargl"
           }
          ],
          "scatterternary": [
           {
            "marker": {
             "colorbar": {
              "outlinewidth": 0,
              "ticks": ""
             }
            },
            "type": "scatterternary"
           }
          ],
          "surface": [
           {
            "colorbar": {
             "outlinewidth": 0,
             "ticks": ""
            },
            "colorscale": [
             [
              0,
              "#0d0887"
             ],
             [
              0.1111111111111111,
              "#46039f"
             ],
             [
              0.2222222222222222,
              "#7201a8"
             ],
             [
              0.3333333333333333,
              "#9c179e"
             ],
             [
              0.4444444444444444,
              "#bd3786"
             ],
             [
              0.5555555555555556,
              "#d8576b"
             ],
             [
              0.6666666666666666,
              "#ed7953"
             ],
             [
              0.7777777777777778,
              "#fb9f3a"
             ],
             [
              0.8888888888888888,
              "#fdca26"
             ],
             [
              1,
              "#f0f921"
             ]
            ],
            "type": "surface"
           }
          ],
          "table": [
           {
            "cells": {
             "fill": {
              "color": "#EBF0F8"
             },
             "line": {
              "color": "white"
             }
            },
            "header": {
             "fill": {
              "color": "#C8D4E3"
             },
             "line": {
              "color": "white"
             }
            },
            "type": "table"
           }
          ]
         },
         "layout": {
          "annotationdefaults": {
           "arrowcolor": "#2a3f5f",
           "arrowhead": 0,
           "arrowwidth": 1
          },
          "autotypenumbers": "strict",
          "coloraxis": {
           "colorbar": {
            "outlinewidth": 0,
            "ticks": ""
           }
          },
          "colorscale": {
           "diverging": [
            [
             0,
             "#8e0152"
            ],
            [
             0.1,
             "#c51b7d"
            ],
            [
             0.2,
             "#de77ae"
            ],
            [
             0.3,
             "#f1b6da"
            ],
            [
             0.4,
             "#fde0ef"
            ],
            [
             0.5,
             "#f7f7f7"
            ],
            [
             0.6,
             "#e6f5d0"
            ],
            [
             0.7,
             "#b8e186"
            ],
            [
             0.8,
             "#7fbc41"
            ],
            [
             0.9,
             "#4d9221"
            ],
            [
             1,
             "#276419"
            ]
           ],
           "sequential": [
            [
             0,
             "#0d0887"
            ],
            [
             0.1111111111111111,
             "#46039f"
            ],
            [
             0.2222222222222222,
             "#7201a8"
            ],
            [
             0.3333333333333333,
             "#9c179e"
            ],
            [
             0.4444444444444444,
             "#bd3786"
            ],
            [
             0.5555555555555556,
             "#d8576b"
            ],
            [
             0.6666666666666666,
             "#ed7953"
            ],
            [
             0.7777777777777778,
             "#fb9f3a"
            ],
            [
             0.8888888888888888,
             "#fdca26"
            ],
            [
             1,
             "#f0f921"
            ]
           ],
           "sequentialminus": [
            [
             0,
             "#0d0887"
            ],
            [
             0.1111111111111111,
             "#46039f"
            ],
            [
             0.2222222222222222,
             "#7201a8"
            ],
            [
             0.3333333333333333,
             "#9c179e"
            ],
            [
             0.4444444444444444,
             "#bd3786"
            ],
            [
             0.5555555555555556,
             "#d8576b"
            ],
            [
             0.6666666666666666,
             "#ed7953"
            ],
            [
             0.7777777777777778,
             "#fb9f3a"
            ],
            [
             0.8888888888888888,
             "#fdca26"
            ],
            [
             1,
             "#f0f921"
            ]
           ]
          },
          "colorway": [
           "#636efa",
           "#EF553B",
           "#00cc96",
           "#ab63fa",
           "#FFA15A",
           "#19d3f3",
           "#FF6692",
           "#B6E880",
           "#FF97FF",
           "#FECB52"
          ],
          "font": {
           "color": "#2a3f5f"
          },
          "geo": {
           "bgcolor": "white",
           "lakecolor": "white",
           "landcolor": "#E5ECF6",
           "showlakes": true,
           "showland": true,
           "subunitcolor": "white"
          },
          "hoverlabel": {
           "align": "left"
          },
          "hovermode": "closest",
          "mapbox": {
           "style": "light"
          },
          "paper_bgcolor": "white",
          "plot_bgcolor": "#E5ECF6",
          "polar": {
           "angularaxis": {
            "gridcolor": "white",
            "linecolor": "white",
            "ticks": ""
           },
           "bgcolor": "#E5ECF6",
           "radialaxis": {
            "gridcolor": "white",
            "linecolor": "white",
            "ticks": ""
           }
          },
          "scene": {
           "xaxis": {
            "backgroundcolor": "#E5ECF6",
            "gridcolor": "white",
            "gridwidth": 2,
            "linecolor": "white",
            "showbackground": true,
            "ticks": "",
            "zerolinecolor": "white"
           },
           "yaxis": {
            "backgroundcolor": "#E5ECF6",
            "gridcolor": "white",
            "gridwidth": 2,
            "linecolor": "white",
            "showbackground": true,
            "ticks": "",
            "zerolinecolor": "white"
           },
           "zaxis": {
            "backgroundcolor": "#E5ECF6",
            "gridcolor": "white",
            "gridwidth": 2,
            "linecolor": "white",
            "showbackground": true,
            "ticks": "",
            "zerolinecolor": "white"
           }
          },
          "shapedefaults": {
           "line": {
            "color": "#2a3f5f"
           }
          },
          "ternary": {
           "aaxis": {
            "gridcolor": "white",
            "linecolor": "white",
            "ticks": ""
           },
           "baxis": {
            "gridcolor": "white",
            "linecolor": "white",
            "ticks": ""
           },
           "bgcolor": "#E5ECF6",
           "caxis": {
            "gridcolor": "white",
            "linecolor": "white",
            "ticks": ""
           }
          },
          "title": {
           "x": 0.05
          },
          "xaxis": {
           "automargin": true,
           "gridcolor": "white",
           "linecolor": "white",
           "ticks": "",
           "title": {
            "standoff": 15
           },
           "zerolinecolor": "white",
           "zerolinewidth": 2
          },
          "yaxis": {
           "automargin": true,
           "gridcolor": "white",
           "linecolor": "white",
           "ticks": "",
           "title": {
            "standoff": 15
           },
           "zerolinecolor": "white",
           "zerolinewidth": 2
          }
         }
        },
        "title": {
         "font": {
          "color": "black",
          "family": "Arial Black",
          "size": 18
         },
         "pad": {
          "t": 10
         },
         "text": "valor da carteira com a estratégia e valor da carteira do ETF BOVA11",
         "x": 0.5
        }
       }
      }
     },
     "metadata": {},
     "output_type": "display_data"
    }
   ],
   "source": [
    "import plotly.graph_objects as go\n",
    "from plotly.subplots import make_subplots\n",
    "\n",
    "fig = go.Figure()\n",
    "# Portfolio Value\n",
    "fig.add_trace(go.Scatter(x=individual_investments_df.index,\n",
    "                             y=individual_investments_df['Portfolio Value'],\n",
    "                             mode='lines',\n",
    "                             name='Portfolio Value',\n",
    "                             line=dict(color='blue', width=2.5)),\n",
    "                  )\n",
    "    # carteira do indice\n",
    "fig.add_trace(go.Scatter(x=individual_investments_df.index,\n",
    "                             y=bench,\n",
    "                             mode='lines',\n",
    "                             name='Benchmark Value',\n",
    "                             line=dict(color='red', width=2.5)),\n",
    "                  )\n",
    "\n",
    "\n",
    "# T-test and P-value\n",
    "significance_text = f\"<b>T-test:</b> {t_stat:.2f}<br><b>P-value:</b> {p_value:.5f}\"\n",
    "if t_stat > 2 and p_value < 0.05:\n",
    "    significance_text += f\"<br><b>Significamente diferente de {bench_annual_rate:.0%} a.a.</b>\"\n",
    "\n",
    "\n",
    "fig.update_layout(title_text=\"valor da carteira com a estratégia e valor da carteira do ETF BOVA11\",\n",
    "                      title_font=dict(size=18, color='black', family=\"Arial Black\"),\n",
    "                      title_pad=dict(t=10),\n",
    "                      title_x=0.5,\n",
    "                      bargap=0.05,\n",
    "                      annotations=[\n",
    "        dict(\n",
    "            text=significance_text, \n",
    "            showarrow=False, \n",
    "            xref=\"paper\", \n",
    "            yref=\"paper\", \n",
    "            x=.5,  \n",
    "            y=-0.25,  \n",
    "            font=dict(size=12, color=\"black\"),  # Estilo da fonte\n",
    "            align=\"center\"  # Alinhamento do texto\n",
    "        )\n",
    "    ]\n",
    "                      )\n",
    "\n",
    "fig.show()"
   ]
  },
  {
   "cell_type": "code",
   "execution_count": 28,
   "metadata": {
    "colab": {
     "base_uri": "https://localhost:8080/",
     "height": 1000
    },
    "executionInfo": {
     "elapsed": 755,
     "status": "ok",
     "timestamp": 1694458194203,
     "user": {
      "displayName": "Hugo",
      "userId": "11126641400007389172"
     },
     "user_tz": 180
    },
    "id": "Rw3bg208jil6",
    "outputId": "9eb86831-72ca-473e-ac87-0ab47a81dbf1"
   },
   "outputs": [
    {
     "data": {
      "application/vnd.plotly.v1+json": {
       "config": {
        "plotlyServerURL": "https://plot.ly"
       },
       "data": [
        {
         "marker": {
          "color": "#EF553B"
         },
         "name": "Final Values ($)",
         "text": [
          "$45,406.00",
          "$30,631.00",
          "$62,428.00",
          "$67,955.00",
          "$121,107.00",
          "$72,398.00",
          "$40,546.00",
          "$17,798.00",
          "$58,088.00",
          "$42,777.00",
          "$35,583.00",
          "$11,958.00",
          "$46,813.00",
          "$94,053.00",
          "$79,086.00",
          "$390,031.00",
          "$4,916.00",
          "$21,652.00",
          "$50,266.00",
          "$71,935.00",
          "$31,393.00",
          "$16,375.00",
          "$15,665.00",
          "$23,065.00",
          "$31,498.00",
          "$23,386.00",
          "$25,426.00",
          "$38,831.00",
          "$7,540.00",
          "$4,643.00",
          "$21,022.00",
          "$64,899.00",
          "$29,393.00",
          "$26,463.00",
          "$21,358.00",
          "$47,864.00",
          "$20,390.00",
          "$3,705.00",
          "$10,151.00",
          "$5,563.00",
          "$20,070.00",
          "$0.00",
          "$24,867.00",
          "$19,588.00",
          "$18,716.00",
          "$25,356.00",
          "$46,800.00",
          "$12,854.00",
          "$40,119.00",
          "$42,602.00"
         ],
         "textposition": "outside",
         "type": "bar",
         "x": [
          "VALE3",
          "ITUB4",
          "PETR4",
          "PETR3",
          "WEGE3",
          "ELET3",
          "BBAS3",
          "BBDC4",
          "SBSP3",
          "B3SA3",
          "ITSA4",
          "ABEV3",
          "RENT3",
          "BPAC11",
          "EQTL3",
          "PRIO3",
          "RDOR3",
          "EMBR3",
          "JBSS3",
          "RADL3",
          "SUZB3",
          "VBBR3",
          "RAIL3",
          "UGPA3",
          "GGBR4",
          "BBSE3",
          "VIVT3",
          "CMIG4",
          "HAPV3",
          "BRFS3",
          "LREN3",
          "CPLE6",
          "KLBN11",
          "TOTS3",
          "TIMS3",
          "ENGI11",
          "CSAN3",
          "NTCO3",
          "ALOS3",
          "ASAI3",
          "HYPE3",
          "BRAV3",
          "CSNA3",
          "MULT3",
          "AZZA3",
          "CYRE3",
          "MGLU3",
          "USIM5",
          "Portfolio Value",
          "Baseline"
         ],
         "xaxis": "x",
         "y": [
          45406,
          30631,
          62428,
          67955,
          121107,
          72398,
          40546,
          17798,
          58088,
          42777,
          35583,
          11958,
          46813,
          94053,
          79086,
          390031,
          4916,
          21652,
          50266,
          71935,
          31393,
          16375,
          15665,
          23065,
          31498,
          23386,
          25426,
          38831,
          7540,
          4643,
          21022,
          64899,
          29393,
          26463,
          21358,
          47864,
          20390,
          3705,
          10151,
          5563,
          20070,
          0,
          24867,
          19588,
          18716,
          25356,
          46800,
          12854,
          40119,
          42602
         ],
         "yaxis": "y"
        },
        {
         "marker": {
          "color": "#00CC96"
         },
         "name": "Relative Growth",
         "text": [
          "354.06%",
          "206.31%",
          "524.28%",
          "579.55%",
          "1111.07%",
          "623.98%",
          "305.46%",
          "77.98%",
          "480.88%",
          "327.77%",
          "255.83%",
          "19.58%",
          "368.13%",
          "840.53%",
          "690.86%",
          "3800.31%",
          "-50.84%",
          "116.52%",
          "402.66%",
          "619.35%",
          "213.93%",
          "63.75%",
          "56.65%",
          "130.65%",
          "214.98%",
          "133.86%",
          "154.26%",
          "288.31%",
          "-24.60%",
          "-53.57%",
          "110.22%",
          "548.99%",
          "193.93%",
          "164.63%",
          "113.58%",
          "378.64%",
          "103.90%",
          "-62.95%",
          "1.51%",
          "-44.37%",
          "100.70%",
          "-100.00%",
          "148.67%",
          "95.88%",
          "87.16%",
          "153.56%",
          "368.00%",
          "28.54%",
          "301.19%",
          "326.02%"
         ],
         "textposition": "outside",
         "type": "bar",
         "x": [
          "VALE3",
          "ITUB4",
          "PETR4",
          "PETR3",
          "WEGE3",
          "ELET3",
          "BBAS3",
          "BBDC4",
          "SBSP3",
          "B3SA3",
          "ITSA4",
          "ABEV3",
          "RENT3",
          "BPAC11",
          "EQTL3",
          "PRIO3",
          "RDOR3",
          "EMBR3",
          "JBSS3",
          "RADL3",
          "SUZB3",
          "VBBR3",
          "RAIL3",
          "UGPA3",
          "GGBR4",
          "BBSE3",
          "VIVT3",
          "CMIG4",
          "HAPV3",
          "BRFS3",
          "LREN3",
          "CPLE6",
          "KLBN11",
          "TOTS3",
          "TIMS3",
          "ENGI11",
          "CSAN3",
          "NTCO3",
          "ALOS3",
          "ASAI3",
          "HYPE3",
          "BRAV3",
          "CSNA3",
          "MULT3",
          "AZZA3",
          "CYRE3",
          "MGLU3",
          "USIM5",
          "Portfolio Value",
          "Baseline"
         ],
         "xaxis": "x2",
         "y": [
          3.5406000000000004,
          2.0631,
          5.2428,
          5.7955,
          11.1107,
          6.2398,
          3.0545999999999998,
          0.7798,
          4.8088,
          3.2777000000000003,
          2.5583,
          0.19579999999999997,
          3.6813000000000002,
          8.4053,
          6.9086,
          38.0031,
          -0.5084,
          1.1652,
          4.0266,
          6.1935,
          2.1393,
          0.6375,
          0.5665,
          1.3065000000000002,
          2.1498,
          1.3386,
          1.5426000000000002,
          2.8831,
          -0.246,
          -0.5357000000000001,
          1.1021999999999998,
          5.4899,
          1.9392999999999998,
          1.6463,
          1.1358000000000001,
          3.7864000000000004,
          1.0390000000000001,
          -0.6295,
          0.015099999999999891,
          -0.4437,
          1.0070000000000001,
          -1,
          1.4867,
          0.9588000000000001,
          0.8715999999999999,
          1.5356,
          3.6799999999999997,
          0.2854000000000001,
          3.0119,
          3.2602
         ],
         "yaxis": "y2"
        },
        {
         "marker": {
          "color": "#AB63FA"
         },
         "name": "Annualized Sharpe Ratio",
         "text": [
          "0.09",
          "0.05",
          "0.12",
          "0.12",
          "0.18",
          "0.12",
          "0.08",
          "0.01",
          "0.11",
          "0.08",
          "0.06",
          "-0.08",
          "0.10",
          "nan",
          "0.15",
          "0.21",
          "nan",
          "0.04",
          "0.10",
          "0.14",
          "0.05",
          "nan",
          "nan",
          "0.04",
          "0.07",
          "0.01",
          "0.01",
          "0.08",
          "nan",
          "-0.04",
          "0.03",
          "0.12",
          "0.04",
          "0.04",
          "0.01",
          "0.10",
          "0.02",
          "nan",
          "nan",
          "nan",
          "0.01",
          "nan",
          "0.09",
          "0.00",
          "0.02",
          "0.06",
          "0.12",
          "0.05",
          "0.08",
          "0.08"
         ],
         "textposition": "outside",
         "type": "bar",
         "x": [
          "VALE3",
          "ITUB4",
          "PETR4",
          "PETR3",
          "WEGE3",
          "ELET3",
          "BBAS3",
          "BBDC4",
          "SBSP3",
          "B3SA3",
          "ITSA4",
          "ABEV3",
          "RENT3",
          "BPAC11",
          "EQTL3",
          "PRIO3",
          "RDOR3",
          "EMBR3",
          "JBSS3",
          "RADL3",
          "SUZB3",
          "VBBR3",
          "RAIL3",
          "UGPA3",
          "GGBR4",
          "BBSE3",
          "VIVT3",
          "CMIG4",
          "HAPV3",
          "BRFS3",
          "LREN3",
          "CPLE6",
          "KLBN11",
          "TOTS3",
          "TIMS3",
          "ENGI11",
          "CSAN3",
          "NTCO3",
          "ALOS3",
          "ASAI3",
          "HYPE3",
          "BRAV3",
          "CSNA3",
          "MULT3",
          "AZZA3",
          "CYRE3",
          "MGLU3",
          "USIM5",
          "Portfolio Value",
          "Baseline"
         ],
         "xaxis": "x3",
         "y": [
          0.08935450186132364,
          0.0504271995894289,
          0.11513871145680134,
          0.12117793963862428,
          0.18194321999992294,
          0.12000176067323691,
          0.08218625768869689,
          0.009388560853893226,
          0.10923511490436626,
          0.08278110460234768,
          0.06371339575927253,
          -0.07623074357298967,
          0.09517864018486406,
          null,
          0.15480670129576277,
          0.20598613145472963,
          null,
          0.041145152781586654,
          0.09677278527838895,
          0.14035475303055808,
          0.052235057219561905,
          null,
          null,
          0.04282915945972798,
          0.07170746825293692,
          0.009652054459876044,
          0.013263180820327526,
          0.07787006925609835,
          null,
          -0.04497265602701611,
          0.029308883829854353,
          0.1202622515660571,
          0.04004379736466318,
          0.04321951227427606,
          0.007836163418042401,
          0.09519115071046096,
          0.018458316816983376,
          null,
          null,
          null,
          0.006058844195913428,
          null,
          0.08529931997858872,
          0.003240504345302233,
          0.016155008986371802,
          0.05871647378655201,
          0.11700072104185588,
          0.05431219695764,
          0.07659762059918938,
          0.08418536517861322
         ],
         "yaxis": "y3"
        },
        {
         "marker": {
          "color": "#FFA15A"
         },
         "name": "Annualized Mean Returns",
         "text": [
          "24.98%",
          "16.89%",
          "33.96%",
          "34.58%",
          "34.02%",
          "37.41%",
          "24.23%",
          "12.23%",
          "27.08%",
          "22.39%",
          "17.94%",
          "4.50%",
          "25.05%",
          "inf%",
          "26.93%",
          "81.68%",
          "inf%",
          "17.79%",
          "25.47%",
          "26.04%",
          "17.68%",
          "inf%",
          "inf%",
          "19.01%",
          "25.35%",
          "11.87%",
          "12.04%",
          "23.54%",
          "inf%",
          "3.27%",
          "15.17%",
          "26.98%",
          "15.00%",
          "16.72%",
          "11.81%",
          "21.33%",
          "13.38%",
          "inf%",
          "inf%",
          "inf%",
          "11.67%",
          "-100.00%",
          "34.93%",
          "11.35%",
          "13.16%",
          "21.29%",
          "51.36%",
          "26.15%",
          "20.71%",
          "19.04%"
         ],
         "textposition": "outside",
         "type": "bar",
         "x": [
          "VALE3",
          "ITUB4",
          "PETR4",
          "PETR3",
          "WEGE3",
          "ELET3",
          "BBAS3",
          "BBDC4",
          "SBSP3",
          "B3SA3",
          "ITSA4",
          "ABEV3",
          "RENT3",
          "BPAC11",
          "EQTL3",
          "PRIO3",
          "RDOR3",
          "EMBR3",
          "JBSS3",
          "RADL3",
          "SUZB3",
          "VBBR3",
          "RAIL3",
          "UGPA3",
          "GGBR4",
          "BBSE3",
          "VIVT3",
          "CMIG4",
          "HAPV3",
          "BRFS3",
          "LREN3",
          "CPLE6",
          "KLBN11",
          "TOTS3",
          "TIMS3",
          "ENGI11",
          "CSAN3",
          "NTCO3",
          "ALOS3",
          "ASAI3",
          "HYPE3",
          "BRAV3",
          "CSNA3",
          "MULT3",
          "AZZA3",
          "CYRE3",
          "MGLU3",
          "USIM5",
          "Portfolio Value",
          "Baseline"
         ],
         "xaxis": "x4",
         "y": [
          0.24976927189775044,
          0.16886841951607234,
          0.3396044126225066,
          0.34581925313965467,
          0.34020848954765914,
          0.37408985783160675,
          0.24229723192357544,
          0.122338780266253,
          0.27084072643060364,
          0.2238941042002891,
          0.17936227657038328,
          0.044954583588738384,
          0.25051842962450244,
          null,
          0.26932218487071813,
          0.8168193043343317,
          null,
          0.1779471243786508,
          0.2546618237066043,
          0.26041358141836013,
          0.17683382327999486,
          null,
          null,
          0.19009870339896984,
          0.25347076394759216,
          0.11871976585767752,
          0.12036229275315424,
          0.2353757569628092,
          null,
          0.03274149088875533,
          0.15173946145909167,
          0.26983824076168417,
          0.14996577207573036,
          0.16721116724648355,
          0.11814647917066856,
          0.213316022567704,
          0.13377046300444717,
          null,
          null,
          null,
          0.11665207055061955,
          -1,
          0.349277589419847,
          0.1134755513687058,
          0.13155485410627188,
          0.21287163391203023,
          0.513578153506935,
          0.261481876478862,
          0.20712512488931445,
          0.19043756496300346
         ],
         "yaxis": "y4"
        }
       ],
       "layout": {
        "annotations": [
         {
          "font": {
           "size": 16
          },
          "showarrow": false,
          "text": "Valor final dos ativos",
          "x": 0.225,
          "xanchor": "center",
          "xref": "paper",
          "y": 1,
          "yanchor": "bottom",
          "yref": "paper"
         },
         {
          "font": {
           "size": 16
          },
          "showarrow": false,
          "text": "Taxa de crescimento no período",
          "x": 0.775,
          "xanchor": "center",
          "xref": "paper",
          "y": 1,
          "yanchor": "bottom",
          "yref": "paper"
         },
         {
          "font": {
           "size": 16
          },
          "showarrow": false,
          "text": "Sharpe anaulizado",
          "x": 0.225,
          "xanchor": "center",
          "xref": "paper",
          "y": 0.45,
          "yanchor": "bottom",
          "yref": "paper"
         },
         {
          "font": {
           "size": 16
          },
          "showarrow": false,
          "text": "Retorno anualizado",
          "x": 0.775,
          "xanchor": "center",
          "xref": "paper",
          "y": 0.45,
          "yanchor": "bottom",
          "yref": "paper"
         }
        ],
        "bargap": 0.05,
        "height": 1000,
        "showlegend": false,
        "template": {
         "data": {
          "bar": [
           {
            "error_x": {
             "color": "#2a3f5f"
            },
            "error_y": {
             "color": "#2a3f5f"
            },
            "marker": {
             "line": {
              "color": "#E5ECF6",
              "width": 0.5
             },
             "pattern": {
              "fillmode": "overlay",
              "size": 10,
              "solidity": 0.2
             }
            },
            "type": "bar"
           }
          ],
          "barpolar": [
           {
            "marker": {
             "line": {
              "color": "#E5ECF6",
              "width": 0.5
             },
             "pattern": {
              "fillmode": "overlay",
              "size": 10,
              "solidity": 0.2
             }
            },
            "type": "barpolar"
           }
          ],
          "carpet": [
           {
            "aaxis": {
             "endlinecolor": "#2a3f5f",
             "gridcolor": "white",
             "linecolor": "white",
             "minorgridcolor": "white",
             "startlinecolor": "#2a3f5f"
            },
            "baxis": {
             "endlinecolor": "#2a3f5f",
             "gridcolor": "white",
             "linecolor": "white",
             "minorgridcolor": "white",
             "startlinecolor": "#2a3f5f"
            },
            "type": "carpet"
           }
          ],
          "choropleth": [
           {
            "colorbar": {
             "outlinewidth": 0,
             "ticks": ""
            },
            "type": "choropleth"
           }
          ],
          "contour": [
           {
            "colorbar": {
             "outlinewidth": 0,
             "ticks": ""
            },
            "colorscale": [
             [
              0,
              "#0d0887"
             ],
             [
              0.1111111111111111,
              "#46039f"
             ],
             [
              0.2222222222222222,
              "#7201a8"
             ],
             [
              0.3333333333333333,
              "#9c179e"
             ],
             [
              0.4444444444444444,
              "#bd3786"
             ],
             [
              0.5555555555555556,
              "#d8576b"
             ],
             [
              0.6666666666666666,
              "#ed7953"
             ],
             [
              0.7777777777777778,
              "#fb9f3a"
             ],
             [
              0.8888888888888888,
              "#fdca26"
             ],
             [
              1,
              "#f0f921"
             ]
            ],
            "type": "contour"
           }
          ],
          "contourcarpet": [
           {
            "colorbar": {
             "outlinewidth": 0,
             "ticks": ""
            },
            "type": "contourcarpet"
           }
          ],
          "heatmap": [
           {
            "colorbar": {
             "outlinewidth": 0,
             "ticks": ""
            },
            "colorscale": [
             [
              0,
              "#0d0887"
             ],
             [
              0.1111111111111111,
              "#46039f"
             ],
             [
              0.2222222222222222,
              "#7201a8"
             ],
             [
              0.3333333333333333,
              "#9c179e"
             ],
             [
              0.4444444444444444,
              "#bd3786"
             ],
             [
              0.5555555555555556,
              "#d8576b"
             ],
             [
              0.6666666666666666,
              "#ed7953"
             ],
             [
              0.7777777777777778,
              "#fb9f3a"
             ],
             [
              0.8888888888888888,
              "#fdca26"
             ],
             [
              1,
              "#f0f921"
             ]
            ],
            "type": "heatmap"
           }
          ],
          "heatmapgl": [
           {
            "colorbar": {
             "outlinewidth": 0,
             "ticks": ""
            },
            "colorscale": [
             [
              0,
              "#0d0887"
             ],
             [
              0.1111111111111111,
              "#46039f"
             ],
             [
              0.2222222222222222,
              "#7201a8"
             ],
             [
              0.3333333333333333,
              "#9c179e"
             ],
             [
              0.4444444444444444,
              "#bd3786"
             ],
             [
              0.5555555555555556,
              "#d8576b"
             ],
             [
              0.6666666666666666,
              "#ed7953"
             ],
             [
              0.7777777777777778,
              "#fb9f3a"
             ],
             [
              0.8888888888888888,
              "#fdca26"
             ],
             [
              1,
              "#f0f921"
             ]
            ],
            "type": "heatmapgl"
           }
          ],
          "histogram": [
           {
            "marker": {
             "pattern": {
              "fillmode": "overlay",
              "size": 10,
              "solidity": 0.2
             }
            },
            "type": "histogram"
           }
          ],
          "histogram2d": [
           {
            "colorbar": {
             "outlinewidth": 0,
             "ticks": ""
            },
            "colorscale": [
             [
              0,
              "#0d0887"
             ],
             [
              0.1111111111111111,
              "#46039f"
             ],
             [
              0.2222222222222222,
              "#7201a8"
             ],
             [
              0.3333333333333333,
              "#9c179e"
             ],
             [
              0.4444444444444444,
              "#bd3786"
             ],
             [
              0.5555555555555556,
              "#d8576b"
             ],
             [
              0.6666666666666666,
              "#ed7953"
             ],
             [
              0.7777777777777778,
              "#fb9f3a"
             ],
             [
              0.8888888888888888,
              "#fdca26"
             ],
             [
              1,
              "#f0f921"
             ]
            ],
            "type": "histogram2d"
           }
          ],
          "histogram2dcontour": [
           {
            "colorbar": {
             "outlinewidth": 0,
             "ticks": ""
            },
            "colorscale": [
             [
              0,
              "#0d0887"
             ],
             [
              0.1111111111111111,
              "#46039f"
             ],
             [
              0.2222222222222222,
              "#7201a8"
             ],
             [
              0.3333333333333333,
              "#9c179e"
             ],
             [
              0.4444444444444444,
              "#bd3786"
             ],
             [
              0.5555555555555556,
              "#d8576b"
             ],
             [
              0.6666666666666666,
              "#ed7953"
             ],
             [
              0.7777777777777778,
              "#fb9f3a"
             ],
             [
              0.8888888888888888,
              "#fdca26"
             ],
             [
              1,
              "#f0f921"
             ]
            ],
            "type": "histogram2dcontour"
           }
          ],
          "mesh3d": [
           {
            "colorbar": {
             "outlinewidth": 0,
             "ticks": ""
            },
            "type": "mesh3d"
           }
          ],
          "parcoords": [
           {
            "line": {
             "colorbar": {
              "outlinewidth": 0,
              "ticks": ""
             }
            },
            "type": "parcoords"
           }
          ],
          "pie": [
           {
            "automargin": true,
            "type": "pie"
           }
          ],
          "scatter": [
           {
            "fillpattern": {
             "fillmode": "overlay",
             "size": 10,
             "solidity": 0.2
            },
            "type": "scatter"
           }
          ],
          "scatter3d": [
           {
            "line": {
             "colorbar": {
              "outlinewidth": 0,
              "ticks": ""
             }
            },
            "marker": {
             "colorbar": {
              "outlinewidth": 0,
              "ticks": ""
             }
            },
            "type": "scatter3d"
           }
          ],
          "scattercarpet": [
           {
            "marker": {
             "colorbar": {
              "outlinewidth": 0,
              "ticks": ""
             }
            },
            "type": "scattercarpet"
           }
          ],
          "scattergeo": [
           {
            "marker": {
             "colorbar": {
              "outlinewidth": 0,
              "ticks": ""
             }
            },
            "type": "scattergeo"
           }
          ],
          "scattergl": [
           {
            "marker": {
             "colorbar": {
              "outlinewidth": 0,
              "ticks": ""
             }
            },
            "type": "scattergl"
           }
          ],
          "scattermapbox": [
           {
            "marker": {
             "colorbar": {
              "outlinewidth": 0,
              "ticks": ""
             }
            },
            "type": "scattermapbox"
           }
          ],
          "scatterpolar": [
           {
            "marker": {
             "colorbar": {
              "outlinewidth": 0,
              "ticks": ""
             }
            },
            "type": "scatterpolar"
           }
          ],
          "scatterpolargl": [
           {
            "marker": {
             "colorbar": {
              "outlinewidth": 0,
              "ticks": ""
             }
            },
            "type": "scatterpolargl"
           }
          ],
          "scatterternary": [
           {
            "marker": {
             "colorbar": {
              "outlinewidth": 0,
              "ticks": ""
             }
            },
            "type": "scatterternary"
           }
          ],
          "surface": [
           {
            "colorbar": {
             "outlinewidth": 0,
             "ticks": ""
            },
            "colorscale": [
             [
              0,
              "#0d0887"
             ],
             [
              0.1111111111111111,
              "#46039f"
             ],
             [
              0.2222222222222222,
              "#7201a8"
             ],
             [
              0.3333333333333333,
              "#9c179e"
             ],
             [
              0.4444444444444444,
              "#bd3786"
             ],
             [
              0.5555555555555556,
              "#d8576b"
             ],
             [
              0.6666666666666666,
              "#ed7953"
             ],
             [
              0.7777777777777778,
              "#fb9f3a"
             ],
             [
              0.8888888888888888,
              "#fdca26"
             ],
             [
              1,
              "#f0f921"
             ]
            ],
            "type": "surface"
           }
          ],
          "table": [
           {
            "cells": {
             "fill": {
              "color": "#EBF0F8"
             },
             "line": {
              "color": "white"
             }
            },
            "header": {
             "fill": {
              "color": "#C8D4E3"
             },
             "line": {
              "color": "white"
             }
            },
            "type": "table"
           }
          ]
         },
         "layout": {
          "annotationdefaults": {
           "arrowcolor": "#2a3f5f",
           "arrowhead": 0,
           "arrowwidth": 1
          },
          "autotypenumbers": "strict",
          "coloraxis": {
           "colorbar": {
            "outlinewidth": 0,
            "ticks": ""
           }
          },
          "colorscale": {
           "diverging": [
            [
             0,
             "#8e0152"
            ],
            [
             0.1,
             "#c51b7d"
            ],
            [
             0.2,
             "#de77ae"
            ],
            [
             0.3,
             "#f1b6da"
            ],
            [
             0.4,
             "#fde0ef"
            ],
            [
             0.5,
             "#f7f7f7"
            ],
            [
             0.6,
             "#e6f5d0"
            ],
            [
             0.7,
             "#b8e186"
            ],
            [
             0.8,
             "#7fbc41"
            ],
            [
             0.9,
             "#4d9221"
            ],
            [
             1,
             "#276419"
            ]
           ],
           "sequential": [
            [
             0,
             "#0d0887"
            ],
            [
             0.1111111111111111,
             "#46039f"
            ],
            [
             0.2222222222222222,
             "#7201a8"
            ],
            [
             0.3333333333333333,
             "#9c179e"
            ],
            [
             0.4444444444444444,
             "#bd3786"
            ],
            [
             0.5555555555555556,
             "#d8576b"
            ],
            [
             0.6666666666666666,
             "#ed7953"
            ],
            [
             0.7777777777777778,
             "#fb9f3a"
            ],
            [
             0.8888888888888888,
             "#fdca26"
            ],
            [
             1,
             "#f0f921"
            ]
           ],
           "sequentialminus": [
            [
             0,
             "#0d0887"
            ],
            [
             0.1111111111111111,
             "#46039f"
            ],
            [
             0.2222222222222222,
             "#7201a8"
            ],
            [
             0.3333333333333333,
             "#9c179e"
            ],
            [
             0.4444444444444444,
             "#bd3786"
            ],
            [
             0.5555555555555556,
             "#d8576b"
            ],
            [
             0.6666666666666666,
             "#ed7953"
            ],
            [
             0.7777777777777778,
             "#fb9f3a"
            ],
            [
             0.8888888888888888,
             "#fdca26"
            ],
            [
             1,
             "#f0f921"
            ]
           ]
          },
          "colorway": [
           "#636efa",
           "#EF553B",
           "#00cc96",
           "#ab63fa",
           "#FFA15A",
           "#19d3f3",
           "#FF6692",
           "#B6E880",
           "#FF97FF",
           "#FECB52"
          ],
          "font": {
           "color": "#2a3f5f"
          },
          "geo": {
           "bgcolor": "white",
           "lakecolor": "white",
           "landcolor": "#E5ECF6",
           "showlakes": true,
           "showland": true,
           "subunitcolor": "white"
          },
          "hoverlabel": {
           "align": "left"
          },
          "hovermode": "closest",
          "mapbox": {
           "style": "light"
          },
          "paper_bgcolor": "white",
          "plot_bgcolor": "#E5ECF6",
          "polar": {
           "angularaxis": {
            "gridcolor": "white",
            "linecolor": "white",
            "ticks": ""
           },
           "bgcolor": "#E5ECF6",
           "radialaxis": {
            "gridcolor": "white",
            "linecolor": "white",
            "ticks": ""
           }
          },
          "scene": {
           "xaxis": {
            "backgroundcolor": "#E5ECF6",
            "gridcolor": "white",
            "gridwidth": 2,
            "linecolor": "white",
            "showbackground": true,
            "ticks": "",
            "zerolinecolor": "white"
           },
           "yaxis": {
            "backgroundcolor": "#E5ECF6",
            "gridcolor": "white",
            "gridwidth": 2,
            "linecolor": "white",
            "showbackground": true,
            "ticks": "",
            "zerolinecolor": "white"
           },
           "zaxis": {
            "backgroundcolor": "#E5ECF6",
            "gridcolor": "white",
            "gridwidth": 2,
            "linecolor": "white",
            "showbackground": true,
            "ticks": "",
            "zerolinecolor": "white"
           }
          },
          "shapedefaults": {
           "line": {
            "color": "#2a3f5f"
           }
          },
          "ternary": {
           "aaxis": {
            "gridcolor": "white",
            "linecolor": "white",
            "ticks": ""
           },
           "baxis": {
            "gridcolor": "white",
            "linecolor": "white",
            "ticks": ""
           },
           "bgcolor": "#E5ECF6",
           "caxis": {
            "gridcolor": "white",
            "linecolor": "white",
            "ticks": ""
           }
          },
          "title": {
           "x": 0.05
          },
          "xaxis": {
           "automargin": true,
           "gridcolor": "white",
           "linecolor": "white",
           "ticks": "",
           "title": {
            "standoff": 15
           },
           "zerolinecolor": "white",
           "zerolinewidth": 2
          },
          "yaxis": {
           "automargin": true,
           "gridcolor": "white",
           "linecolor": "white",
           "ticks": "",
           "title": {
            "standoff": 15
           },
           "zerolinecolor": "white",
           "zerolinewidth": 2
          }
         }
        },
        "title": {
         "font": {
          "color": "black",
          "family": "Arial Black",
          "size": 24
         },
         "pad": {
          "t": 10
         },
         "text": "Métricas individuais",
         "x": 0.5
        },
        "xaxis": {
         "anchor": "y",
         "domain": [
          0,
          0.45
         ]
        },
        "xaxis2": {
         "anchor": "y2",
         "domain": [
          0.55,
          1
         ]
        },
        "xaxis3": {
         "anchor": "y3",
         "domain": [
          0,
          0.45
         ]
        },
        "xaxis4": {
         "anchor": "y4",
         "domain": [
          0.55,
          1
         ]
        },
        "yaxis": {
         "anchor": "x",
         "domain": [
          0.55,
          1
         ]
        },
        "yaxis2": {
         "anchor": "x2",
         "domain": [
          0.55,
          1
         ]
        },
        "yaxis3": {
         "anchor": "x3",
         "domain": [
          0,
          0.45
         ]
        },
        "yaxis4": {
         "anchor": "x4",
         "domain": [
          0,
          0.45
         ]
        }
       }
      }
     },
     "metadata": {},
     "output_type": "display_data"
    }
   ],
   "source": [
    "import plotly.graph_objects as go\n",
    "from plotly.subplots import make_subplots\n",
    "\n",
    "def plot_combined_charts(dataframe, final_values, relative_values, sharpes, mean_returns):\n",
    "    labels = final_values.index\n",
    "    colors = ['#636EFA', '#EF553B', '#00CC96', '#AB63FA', '#FFA15A']\n",
    "\n",
    "    fig = make_subplots(rows=2, cols=2,\n",
    "                        subplot_titles=('Valor final dos ativos',\n",
    "                                        'Taxa de crescimento no período',\n",
    "                                        'Sharpe anaulizado',\n",
    "                                        'Retorno anualizado'),\n",
    "                        vertical_spacing=0.1)\n",
    "\n",
    "    \n",
    "\n",
    "    # Final values\n",
    "    fig.add_trace(go.Bar(x=labels,\n",
    "                         y=final_values.values,\n",
    "                         name='Final Values ($)',\n",
    "                         text=[f\"${v:,.2f}\" for v in final_values.values],\n",
    "                         textposition='outside',\n",
    "                         marker_color=colors[1]),\n",
    "                  row=1, col=1)\n",
    "\n",
    "    # Relative Growth\n",
    "    fig.add_trace(go.Bar(x=labels,\n",
    "                         y=relative_values.values,\n",
    "                         name='Relative Growth',\n",
    "                         text=[f\"{v:.2%}\" for v in relative_values.values],\n",
    "                         textposition='outside',\n",
    "                         marker_color=colors[2]),\n",
    "                  row=1, col=2)\n",
    "\n",
    "    # Sharpe Ratios\n",
    "    fig.add_trace(go.Bar(x=labels,\n",
    "                         y=sharpes.values,\n",
    "                         name='Annualized Sharpe Ratio',\n",
    "                         text=[f\"{v:.2f}\" for v in sharpes.values],\n",
    "                         textposition='outside',\n",
    "                         marker_color=colors[3]),\n",
    "                  row=2, col=1)\n",
    "\n",
    "    # Mean Returns\n",
    "    fig.add_trace(go.Bar(x=labels,\n",
    "                         y=mean_returns.values,\n",
    "                         name='Annualized Mean Returns',\n",
    "                         text=[f\"{v:.2%}\" for v in mean_returns.values],\n",
    "                         textposition='outside',\n",
    "                         marker_color=colors[4]),\n",
    "                  row=2, col=2)\n",
    "\n",
    "    # Update layout\n",
    "    fig.update_layout(title_text=\"Métricas individuais\",\n",
    "                      title_font=dict(size=24, color='black', family=\"Arial Black\"),\n",
    "                      title_pad=dict(t=10),\n",
    "                      showlegend=False,\n",
    "                      height=1000,\n",
    "                      title_x=0.5,\n",
    "                      bargap=0.05,\n",
    "                      )\n",
    "\n",
    "    fig.show()\n",
    "\n",
    "plot_combined_charts(individual_investments_df, final_values, relative_values, sharpes, mean_returns)"
   ]
  }
 ],
 "metadata": {
  "colab": {
   "authorship_tag": "ABX9TyPM9TbDXxM/5cTCfbRwq8zq",
   "provenance": []
  },
  "kernelspec": {
   "display_name": "base",
   "language": "python",
   "name": "python3"
  },
  "language_info": {
   "codemirror_mode": {
    "name": "ipython",
    "version": 3
   },
   "file_extension": ".py",
   "mimetype": "text/x-python",
   "name": "python",
   "nbconvert_exporter": "python",
   "pygments_lexer": "ipython3",
   "version": "3.11.9"
  }
 },
 "nbformat": 4,
 "nbformat_minor": 0
}
